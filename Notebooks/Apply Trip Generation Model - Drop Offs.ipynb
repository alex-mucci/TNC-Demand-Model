{
 "cells": [
  {
   "cell_type": "code",
   "execution_count": 1,
   "metadata": {},
   "outputs": [],
   "source": [
    "import pandas as pd\n",
    "import numpy as np\n",
    "import seaborn as sns\n",
    "import geopandas as gp\n",
    "import folium\n",
    "import seaborn as sns\n",
    "import matplotlib.pyplot as plt"
   ]
  },
  {
   "cell_type": "code",
   "execution_count": 2,
   "metadata": {},
   "outputs": [],
   "source": [
    "df = pd.read_csv('C:/Workspace/TNC-Demand-Model/Outputs/Trip_Generation_Destination_Estimation_File_TOD_1.csv', index_col = 0)"
   ]
  },
  {
   "cell_type": "code",
   "execution_count": 9,
   "metadata": {},
   "outputs": [],
   "source": [
    "df['PRED_DROPOFFS'] = 5.364208*df['AIR_F'] + 0.00000122*df['OTHER_EMP'] + 0.0006718*df['FOOD_EMP'] + 0.0028515*df['HI_INC_0'] + 0.0001569*df['LOW_INC_0'] + 0.0002313*df['LOW_INC_1P'] + 0.0000000404*df['HI_INC_1P']\n"
   ]
  },
  {
   "cell_type": "code",
   "execution_count": 10,
   "metadata": {},
   "outputs": [
    {
     "data": {
      "text/plain": [
       "(0, 15)"
      ]
     },
     "execution_count": 10,
     "metadata": {},
     "output_type": "execute_result"
    },
    {
     "data": {
      "image/png": "[encoded data removed]",
      "text/plain": [
       "<Figure size 432x288 with 1 Axes>"
      ]
     },
     "metadata": {
      "needs_background": "light"
     },
     "output_type": "display_data"
    }
   ],
   "source": [
    "sns.scatterplot(y = df['PRED_DROPOFFS'], x = df['DROPOFFS_AVG'])\n",
    "plt.ylim(0,15)\n",
    "plt.xlim(0,15)"
   ]
  },
  {
   "cell_type": "code",
   "execution_count": null,
   "metadata": {},
   "outputs": [],
   "source": []
  },
  {
   "cell_type": "code",
   "execution_count": 11,
   "metadata": {},
   "outputs": [],
   "source": [
    "df['DIFF'] = df['PRED_DROPOFFS'] - df['DROPOFFS_AVG']\n",
    "df['PDIFF'] = np.where(df['DROPOFFS_AVG'] == 0, 0, df['DIFF']/df['DROPOFFS_AVG'])\n",
    "df['DIFF_SQUARED'] = np.square(df['DIFF'])\n",
    "df['PDIFF_SQUARED'] = np.square(df['PDIFF'])\n",
    "rmse = np.sqrt(df['DIFF_SQUARED'].sum()/len(df))\n",
    "rmspe = np.sqrt(df['PDIFF_SQUARED'].sum()/len(df))"
   ]
  },
  {
   "cell_type": "code",
   "execution_count": 12,
   "metadata": {},
   "outputs": [
    {
     "data": {
      "text/plain": [
       "0.4584207669038309"
      ]
     },
     "execution_count": 12,
     "metadata": {},
     "output_type": "execute_result"
    }
   ],
   "source": [
    "rmse"
   ]
  },
  {
   "cell_type": "code",
   "execution_count": 13,
   "metadata": {},
   "outputs": [
    {
     "data": {
      "text/plain": [
       "1.949200209997627"
      ]
     },
     "execution_count": 13,
     "metadata": {},
     "output_type": "execute_result"
    }
   ],
   "source": [
    "rmspe"
   ]
  },
  {
   "cell_type": "code",
   "execution_count": 14,
   "metadata": {},
   "outputs": [
    {
     "data": {
      "text/html": [
       "<div>\n",
       "<style scoped>\n",
       "    .dataframe tbody tr th:only-of-type {\n",
       "        vertical-align: middle;\n",
       "    }\n",
       "\n",
       "    .dataframe tbody tr th {\n",
       "        vertical-align: top;\n",
       "    }\n",
       "\n",
       "    .dataframe thead th {\n",
       "        text-align: right;\n",
       "    }\n",
       "</style>\n",
       "<table border=\"1\" class=\"dataframe\">\n",
       "  <thead>\n",
       "    <tr style=\"text-align: right;\">\n",
       "      <th></th>\n",
       "      <th>YEAR</th>\n",
       "      <th>MONTH</th>\n",
       "      <th>TOD</th>\n",
       "      <th>DESTINATION</th>\n",
       "      <th>AIR_F</th>\n",
       "      <th>DROPOFFS</th>\n",
       "      <th>PRIVATE_DROPOFFS</th>\n",
       "      <th>SHARED_DROPOFFS</th>\n",
       "      <th>FARE</th>\n",
       "      <th>TIP</th>\n",
       "      <th>...</th>\n",
       "      <th>AUG</th>\n",
       "      <th>SEP</th>\n",
       "      <th>OCT</th>\n",
       "      <th>NOV</th>\n",
       "      <th>DEC</th>\n",
       "      <th>PRED_DROPOFFS</th>\n",
       "      <th>DIFF</th>\n",
       "      <th>PDIFF</th>\n",
       "      <th>DIFF_SQUARED</th>\n",
       "      <th>PDIFF_SQUARED</th>\n",
       "    </tr>\n",
       "  </thead>\n",
       "  <tbody>\n",
       "    <tr>\n",
       "      <th>0</th>\n",
       "      <td>2018</td>\n",
       "      <td>11</td>\n",
       "      <td>1</td>\n",
       "      <td>17031010100</td>\n",
       "      <td>0</td>\n",
       "      <td>17.0</td>\n",
       "      <td>12.0</td>\n",
       "      <td>5.0</td>\n",
       "      <td>11.470588</td>\n",
       "      <td>0.647059</td>\n",
       "      <td>...</td>\n",
       "      <td>0</td>\n",
       "      <td>0</td>\n",
       "      <td>0</td>\n",
       "      <td>1</td>\n",
       "      <td>0</td>\n",
       "      <td>0.342126</td>\n",
       "      <td>-0.430601</td>\n",
       "      <td>-0.557248</td>\n",
       "      <td>0.185417</td>\n",
       "      <td>0.310525</td>\n",
       "    </tr>\n",
       "    <tr>\n",
       "      <th>1</th>\n",
       "      <td>2018</td>\n",
       "      <td>11</td>\n",
       "      <td>1</td>\n",
       "      <td>17031010201</td>\n",
       "      <td>0</td>\n",
       "      <td>14.0</td>\n",
       "      <td>7.0</td>\n",
       "      <td>7.0</td>\n",
       "      <td>9.821429</td>\n",
       "      <td>0.500000</td>\n",
       "      <td>...</td>\n",
       "      <td>0</td>\n",
       "      <td>0</td>\n",
       "      <td>0</td>\n",
       "      <td>1</td>\n",
       "      <td>0</td>\n",
       "      <td>0.516256</td>\n",
       "      <td>-0.120108</td>\n",
       "      <td>-0.188741</td>\n",
       "      <td>0.014426</td>\n",
       "      <td>0.035623</td>\n",
       "    </tr>\n",
       "    <tr>\n",
       "      <th>2</th>\n",
       "      <td>2018</td>\n",
       "      <td>11</td>\n",
       "      <td>1</td>\n",
       "      <td>17031010202</td>\n",
       "      <td>0</td>\n",
       "      <td>7.0</td>\n",
       "      <td>3.0</td>\n",
       "      <td>4.0</td>\n",
       "      <td>7.857143</td>\n",
       "      <td>1.285714</td>\n",
       "      <td>...</td>\n",
       "      <td>0</td>\n",
       "      <td>0</td>\n",
       "      <td>0</td>\n",
       "      <td>1</td>\n",
       "      <td>0</td>\n",
       "      <td>0.204723</td>\n",
       "      <td>-0.113459</td>\n",
       "      <td>-0.356584</td>\n",
       "      <td>0.012873</td>\n",
       "      <td>0.127152</td>\n",
       "    </tr>\n",
       "    <tr>\n",
       "      <th>3</th>\n",
       "      <td>2018</td>\n",
       "      <td>11</td>\n",
       "      <td>1</td>\n",
       "      <td>17031010300</td>\n",
       "      <td>0</td>\n",
       "      <td>25.0</td>\n",
       "      <td>14.0</td>\n",
       "      <td>11.0</td>\n",
       "      <td>9.900000</td>\n",
       "      <td>0.040000</td>\n",
       "      <td>...</td>\n",
       "      <td>0</td>\n",
       "      <td>0</td>\n",
       "      <td>0</td>\n",
       "      <td>1</td>\n",
       "      <td>0</td>\n",
       "      <td>0.609989</td>\n",
       "      <td>-0.526375</td>\n",
       "      <td>-0.463210</td>\n",
       "      <td>0.277071</td>\n",
       "      <td>0.214564</td>\n",
       "    </tr>\n",
       "    <tr>\n",
       "      <th>4</th>\n",
       "      <td>2018</td>\n",
       "      <td>11</td>\n",
       "      <td>1</td>\n",
       "      <td>17031010400</td>\n",
       "      <td>0</td>\n",
       "      <td>19.0</td>\n",
       "      <td>13.0</td>\n",
       "      <td>6.0</td>\n",
       "      <td>11.578947</td>\n",
       "      <td>0.315789</td>\n",
       "      <td>...</td>\n",
       "      <td>0</td>\n",
       "      <td>0</td>\n",
       "      <td>0</td>\n",
       "      <td>1</td>\n",
       "      <td>0</td>\n",
       "      <td>0.756707</td>\n",
       "      <td>-0.106930</td>\n",
       "      <td>-0.123813</td>\n",
       "      <td>0.011434</td>\n",
       "      <td>0.015330</td>\n",
       "    </tr>\n",
       "  </tbody>\n",
       "</table>\n",
       "<p>5 rows × 200 columns</p>\n",
       "</div>"
      ],
      "text/plain": [
       "   YEAR  MONTH  TOD  DESTINATION  AIR_F  DROPOFFS  PRIVATE_DROPOFFS  \\\n",
       "0  2018     11    1  17031010100      0      17.0              12.0   \n",
       "1  2018     11    1  17031010201      0      14.0               7.0   \n",
       "2  2018     11    1  17031010202      0       7.0               3.0   \n",
       "3  2018     11    1  17031010300      0      25.0              14.0   \n",
       "4  2018     11    1  17031010400      0      19.0              13.0   \n",
       "\n",
       "   SHARED_DROPOFFS       FARE       TIP  ...  AUG  SEP  OCT  NOV  DEC  \\\n",
       "0              5.0  11.470588  0.647059  ...    0    0    0    1    0   \n",
       "1              7.0   9.821429  0.500000  ...    0    0    0    1    0   \n",
       "2              4.0   7.857143  1.285714  ...    0    0    0    1    0   \n",
       "3             11.0   9.900000  0.040000  ...    0    0    0    1    0   \n",
       "4              6.0  11.578947  0.315789  ...    0    0    0    1    0   \n",
       "\n",
       "   PRED_DROPOFFS      DIFF     PDIFF  DIFF_SQUARED  PDIFF_SQUARED  \n",
       "0       0.342126 -0.430601 -0.557248      0.185417       0.310525  \n",
       "1       0.516256 -0.120108 -0.188741      0.014426       0.035623  \n",
       "2       0.204723 -0.113459 -0.356584      0.012873       0.127152  \n",
       "3       0.609989 -0.526375 -0.463210      0.277071       0.214564  \n",
       "4       0.756707 -0.106930 -0.123813      0.011434       0.015330  \n",
       "\n",
       "[5 rows x 200 columns]"
      ]
     },
     "execution_count": 14,
     "metadata": {},
     "output_type": "execute_result"
    }
   ],
   "source": [
    "df.head()"
   ]
  },
  {
   "cell_type": "code",
   "execution_count": 15,
   "metadata": {},
   "outputs": [
    {
     "data": {
      "text/plain": [
       "5413.51603897934"
      ]
     },
     "execution_count": 15,
     "metadata": {},
     "output_type": "execute_result"
    }
   ],
   "source": [
    "df.PRED_DROPOFFS.sum()"
   ]
  },
  {
   "cell_type": "code",
   "execution_count": 18,
   "metadata": {},
   "outputs": [],
   "source": [
    "df[['YEAR','MONTH','TOD','DESTINATION','DROPOFFS_AVG','PRED_DROPOFFS']].to_csv('C:/Workspace/TNC-Demand-Model/Outputs/Estimated_Dropoffs_TOD_1.csv')"
   ]
  },
  {
   "cell_type": "markdown",
   "metadata": {},
   "source": [
    "# TOD 2"
   ]
  },
  {
   "cell_type": "code",
   "execution_count": 19,
   "metadata": {},
   "outputs": [],
   "source": [
    "df = pd.read_csv('C:/Workspace/TNC-Demand-Model/Outputs/Trip_Generation_Destination_Estimation_File_TOD_2.csv')"
   ]
  },
  {
   "cell_type": "code",
   "execution_count": 20,
   "metadata": {},
   "outputs": [],
   "source": [
    "df['PRED_DROPOFFS'] = 6.232979*df['AIR_F'] + 0.0002121*df['RETAIL_EMP'] + 0.0001457*df['OTHER_EMP'] + 0.0003934*df['FOOD_EMP'] + 0.0028731*df['HI_INC_0'] + 0.000000101*df['HI_INC_1P']\n"
   ]
  },
  {
   "cell_type": "code",
   "execution_count": 21,
   "metadata": {},
   "outputs": [
    {
     "data": {
      "text/plain": [
       "(0, 70)"
      ]
     },
     "execution_count": 21,
     "metadata": {},
     "output_type": "execute_result"
    },
    {
     "data": {
      "image/png": "[encoded data removed]",
      "text/plain": [
       "<Figure size 432x288 with 1 Axes>"
      ]
     },
     "metadata": {
      "needs_background": "light"
     },
     "output_type": "display_data"
    }
   ],
   "source": [
    "sns.scatterplot(y = df['PRED_DROPOFFS'], x = df['DROPOFFS_AVG'])\n",
    "plt.ylim(0,70)\n",
    "plt.xlim(0,70)"
   ]
  },
  {
   "cell_type": "code",
   "execution_count": null,
   "metadata": {},
   "outputs": [],
   "source": []
  },
  {
   "cell_type": "code",
   "execution_count": 22,
   "metadata": {},
   "outputs": [],
   "source": [
    "df['DIFF'] = df['PRED_DROPOFFS'] - df['DROPOFFS_AVG']\n",
    "df['PDIFF'] = np.where(df['DROPOFFS_AVG'] == 0, 0, df['DIFF']/df['DROPOFFS_AVG'])\n",
    "df['DIFF_SQUARED'] = np.square(df['DIFF'])\n",
    "df['PDIFF_SQUARED'] = np.square(df['PDIFF'])\n",
    "rmse = np.sqrt(df['DIFF_SQUARED'].sum()/len(df))\n",
    "rmspe = np.sqrt(df['PDIFF_SQUARED'].sum()/len(df))"
   ]
  },
  {
   "cell_type": "code",
   "execution_count": 23,
   "metadata": {},
   "outputs": [
    {
     "data": {
      "text/plain": [
       "0.6092632078265751"
      ]
     },
     "execution_count": 23,
     "metadata": {},
     "output_type": "execute_result"
    }
   ],
   "source": [
    "rmse"
   ]
  },
  {
   "cell_type": "code",
   "execution_count": 24,
   "metadata": {},
   "outputs": [
    {
     "data": {
      "text/plain": [
       "1.8868791941075584"
      ]
     },
     "execution_count": 24,
     "metadata": {},
     "output_type": "execute_result"
    }
   ],
   "source": [
    "rmspe"
   ]
  },
  {
   "cell_type": "code",
   "execution_count": 25,
   "metadata": {},
   "outputs": [],
   "source": [
    "df[['YEAR','MONTH','TOD','DESTINATION','DROPOFFS_AVG','PRED_DROPOFFS']].to_csv('C:/Workspace/TNC-Demand-Model/Outputs/Estimated_Dropoffs_TOD_2.csv')"
   ]
  },
  {
   "cell_type": "markdown",
   "metadata": {},
   "source": [
    "# TOD 3"
   ]
  },
  {
   "cell_type": "code",
   "execution_count": 26,
   "metadata": {},
   "outputs": [],
   "source": [
    "df = pd.read_csv('C:/Workspace/TNC-Demand-Model/Outputs/Trip_Generation_Destination_Estimation_File_TOD_3.csv', index_col = 0)"
   ]
  },
  {
   "cell_type": "code",
   "execution_count": 27,
   "metadata": {},
   "outputs": [],
   "source": [
    "df['PRED_DROPOFFS'] = 15.13982*df['AIR_F'] + 0.0007778*df['RETAIL_EMP'] + 0.0001391*df['OTHER_EMP'] + 0.0019399*df['FOOD_EMP'] + 0.0051297*df['HI_INC_0'] + 0.0000563*df['LOW_INC_0'] + 0.0001017*df['LOW_INC_1P'] + 0.000000309*df['HI_INC_1P']\n"
   ]
  },
  {
   "cell_type": "code",
   "execution_count": 28,
   "metadata": {},
   "outputs": [
    {
     "data": {
      "text/plain": [
       "(0, 90)"
      ]
     },
     "execution_count": 28,
     "metadata": {},
     "output_type": "execute_result"
    },
    {
     "data": {
      "image/png": "[encoded data removed]",
      "text/plain": [
       "<Figure size 432x288 with 1 Axes>"
      ]
     },
     "metadata": {
      "needs_background": "light"
     },
     "output_type": "display_data"
    }
   ],
   "source": [
    "sns.scatterplot(y = df['PRED_DROPOFFS'], x = df['DROPOFFS_AVG'])\n",
    "plt.ylim(0,90)\n",
    "plt.xlim(0,90)"
   ]
  },
  {
   "cell_type": "code",
   "execution_count": null,
   "metadata": {},
   "outputs": [],
   "source": []
  },
  {
   "cell_type": "code",
   "execution_count": null,
   "metadata": {},
   "outputs": [],
   "source": []
  },
  {
   "cell_type": "code",
   "execution_count": 29,
   "metadata": {},
   "outputs": [],
   "source": [
    "df['DIFF'] = df['PRED_DROPOFFS'] - df['DROPOFFS_AVG']\n",
    "df['PDIFF'] = np.where(df['DROPOFFS_AVG'] == 0, 0, df['DIFF']/df['DROPOFFS_AVG'])\n",
    "df['DIFF_SQUARED'] = np.square(df['DIFF'])\n",
    "df['PDIFF_SQUARED'] = np.square(df['PDIFF'])\n",
    "rmse = np.sqrt(df['DIFF_SQUARED'].sum()/len(df))\n",
    "rmspe = np.sqrt(df['PDIFF_SQUARED'].sum()/len(df))"
   ]
  },
  {
   "cell_type": "code",
   "execution_count": 30,
   "metadata": {},
   "outputs": [
    {
     "data": {
      "text/plain": [
       "0.9165787351892086"
      ]
     },
     "execution_count": 30,
     "metadata": {},
     "output_type": "execute_result"
    }
   ],
   "source": [
    "rmse"
   ]
  },
  {
   "cell_type": "code",
   "execution_count": 31,
   "metadata": {},
   "outputs": [
    {
     "data": {
      "text/plain": [
       "2.8971720867684083"
      ]
     },
     "execution_count": 31,
     "metadata": {},
     "output_type": "execute_result"
    }
   ],
   "source": [
    "rmspe"
   ]
  },
  {
   "cell_type": "code",
   "execution_count": null,
   "metadata": {},
   "outputs": [],
   "source": []
  },
  {
   "cell_type": "code",
   "execution_count": 33,
   "metadata": {},
   "outputs": [],
   "source": [
    "df[['YEAR','MONTH','TOD','DESTINATION','DROPOFFS_AVG','PRED_DROPOFFS']].to_csv('C:/Workspace/TNC-Demand-Model/Outputs/Estimated_Dropoffs_TOD_3.csv')"
   ]
  },
  {
   "cell_type": "markdown",
   "metadata": {},
   "source": [
    "# TOD 4"
   ]
  },
  {
   "cell_type": "code",
   "execution_count": 34,
   "metadata": {},
   "outputs": [],
   "source": [
    "df = pd.read_csv('C:/Workspace/TNC-Demand-Model/Outputs/Trip_Generation_Destination_Estimation_File_TOD_4.csv', index_col = 0)"
   ]
  },
  {
   "cell_type": "code",
   "execution_count": 37,
   "metadata": {},
   "outputs": [],
   "source": [
    "df['PRED_DROPOFFS'] = 3.164622*df['AIR_F'] + 0.7186*df['TOR_F'] + 0.00000158*df['RETAIL_EMP'] + 0.00000186*df['OTHER_EMP'] + 0.0016907*df['FOOD_EMP'] + 0.0040117*df['HI_INC_0'] + 0.0002001*df['LOW_INC_0'] + 0.0001274*df['LOW_INC_1P'] + 0.0000000639*df['HI_INC_1P']"
   ]
  },
  {
   "cell_type": "code",
   "execution_count": 38,
   "metadata": {},
   "outputs": [
    {
     "data": {
      "text/plain": [
       "(0, 30)"
      ]
     },
     "execution_count": 38,
     "metadata": {},
     "output_type": "execute_result"
    },
    {
     "data": {
      "image/png": "[encoded data removed]",
      "text/plain": [
       "<Figure size 432x288 with 1 Axes>"
      ]
     },
     "metadata": {
      "needs_background": "light"
     },
     "output_type": "display_data"
    }
   ],
   "source": [
    "sns.scatterplot(y = df['PRED_DROPOFFS'], x = df['DROPOFFS_AVG'])\n",
    "plt.ylim(0,30)\n",
    "plt.xlim(0,30)"
   ]
  },
  {
   "cell_type": "code",
   "execution_count": null,
   "metadata": {},
   "outputs": [],
   "source": []
  },
  {
   "cell_type": "code",
   "execution_count": 39,
   "metadata": {},
   "outputs": [],
   "source": [
    "df['DIFF'] = df['PRED_DROPOFFS'] - df['DROPOFFS_AVG']\n",
    "df['PDIFF'] = np.where(df['DROPOFFS_AVG'] == 0, 0, df['DIFF']/df['DROPOFFS_AVG'])\n",
    "df['DIFF_SQUARED'] = np.square(df['DIFF'])\n",
    "df['PDIFF_SQUARED'] = np.square(df['PDIFF'])\n",
    "rmse = np.sqrt(df['DIFF_SQUARED'].sum()/len(df))\n",
    "rmspe = np.sqrt(df['PDIFF_SQUARED'].sum()/len(df))"
   ]
  },
  {
   "cell_type": "code",
   "execution_count": 40,
   "metadata": {},
   "outputs": [
    {
     "data": {
      "text/plain": [
       "0.5876537824501881"
      ]
     },
     "execution_count": 40,
     "metadata": {},
     "output_type": "execute_result"
    }
   ],
   "source": [
    "rmse"
   ]
  },
  {
   "cell_type": "code",
   "execution_count": 41,
   "metadata": {},
   "outputs": [
    {
     "data": {
      "text/plain": [
       "2.0953058979110737"
      ]
     },
     "execution_count": 41,
     "metadata": {},
     "output_type": "execute_result"
    }
   ],
   "source": [
    "rmspe"
   ]
  },
  {
   "cell_type": "code",
   "execution_count": 42,
   "metadata": {},
   "outputs": [],
   "source": [
    "df[['YEAR','MONTH','TOD','DESTINATION','DROPOFFS_AVG','PRED_DROPOFFS']].to_csv('C:/Workspace/TNC-Demand-Model/Outputs/Estimated_Dropoffs_TOD_4.csv')"
   ]
  },
  {
   "cell_type": "markdown",
   "metadata": {},
   "source": [
    "# TOD 5"
   ]
  },
  {
   "cell_type": "code",
   "execution_count": 43,
   "metadata": {},
   "outputs": [],
   "source": [
    "df = pd.read_csv('C:/Workspace/TNC-Demand-Model/Outputs/Trip_Generation_Destination_Estimation_File_TOD_5.csv', index_col = 0)"
   ]
  },
  {
   "cell_type": "code",
   "execution_count": 44,
   "metadata": {},
   "outputs": [],
   "source": [
    "df['PRED_DROPOFFS'] = 0.5572715*df['TOR_F'] + 0.001226*df['FOOD_EMP'] + 0.005038*df['HI_INC_0'] + 0.0002305*df['LOW_INC_0'] + 0.000151*df['LOW_INC_1P'] + 0.0000000662*df['HI_INC_1P']"
   ]
  },
  {
   "cell_type": "code",
   "execution_count": 45,
   "metadata": {},
   "outputs": [
    {
     "data": {
      "text/plain": [
       "(0, 20)"
      ]
     },
     "execution_count": 45,
     "metadata": {},
     "output_type": "execute_result"
    },
    {
     "data": {
      "image/png": "[encoded data removed]",
      "text/plain": [
       "<Figure size 432x288 with 1 Axes>"
      ]
     },
     "metadata": {
      "needs_background": "light"
     },
     "output_type": "display_data"
    }
   ],
   "source": [
    "sns.scatterplot(y = df['PRED_DROPOFFS'], x = df['DROPOFFS_AVG'])\n",
    "plt.ylim(0,20)\n",
    "plt.xlim(0,20)"
   ]
  },
  {
   "cell_type": "code",
   "execution_count": null,
   "metadata": {},
   "outputs": [],
   "source": []
  },
  {
   "cell_type": "code",
   "execution_count": 46,
   "metadata": {},
   "outputs": [],
   "source": [
    "df['DIFF'] = df['PRED_DROPOFFS'] - df['DROPOFFS_AVG']\n",
    "df['PDIFF'] = np.where(df['DROPOFFS_AVG'] == 0, 0, df['DIFF']/df['DROPOFFS_AVG'])\n",
    "df['DIFF_SQUARED'] = np.square(df['DIFF'])\n",
    "df['PDIFF_SQUARED'] = np.square(df['PDIFF'])\n",
    "rmse = np.sqrt(df['DIFF_SQUARED'].sum()/len(df))\n",
    "rmspe = np.sqrt(df['PDIFF_SQUARED'].sum()/len(df))"
   ]
  },
  {
   "cell_type": "code",
   "execution_count": 47,
   "metadata": {},
   "outputs": [
    {
     "data": {
      "text/plain": [
       "0.5683317171514628"
      ]
     },
     "execution_count": 47,
     "metadata": {},
     "output_type": "execute_result"
    }
   ],
   "source": [
    "rmse"
   ]
  },
  {
   "cell_type": "code",
   "execution_count": 48,
   "metadata": {},
   "outputs": [
    {
     "data": {
      "text/plain": [
       "2.0516535384701506"
      ]
     },
     "execution_count": 48,
     "metadata": {},
     "output_type": "execute_result"
    }
   ],
   "source": [
    "rmspe"
   ]
  },
  {
   "cell_type": "code",
   "execution_count": 49,
   "metadata": {},
   "outputs": [],
   "source": [
    "df[['YEAR','MONTH','TOD','DESTINATION','DROPOFFS_AVG','PRED_DROPOFFS']].to_csv('C:/Workspace/TNC-Demand-Model/Outputs/Estimated_Dropoffs_TOD_5.csv')"
   ]
  },
  {
   "cell_type": "code",
   "execution_count": null,
   "metadata": {},
   "outputs": [],
   "source": []
  },
  {
   "cell_type": "code",
   "execution_count": null,
   "metadata": {},
   "outputs": [],
   "source": []
  },
  {
   "cell_type": "code",
   "execution_count": null,
   "metadata": {},
   "outputs": [],
   "source": []
  }
 ],
 "metadata": {
  "kernelspec": {
   "display_name": "Python 3",
   "language": "python",
   "name": "python3"
  },
  "language_info": {
   "codemirror_mode": {
    "name": "ipython",
    "version": 3
   },
   "file_extension": ".py",
   "mimetype": "text/x-python",
   "name": "python",
   "nbconvert_exporter": "python",
   "pygments_lexer": "ipython3",
   "version": "3.7.6"
  }
 },
 "nbformat": 4,
 "nbformat_minor": 4
}
