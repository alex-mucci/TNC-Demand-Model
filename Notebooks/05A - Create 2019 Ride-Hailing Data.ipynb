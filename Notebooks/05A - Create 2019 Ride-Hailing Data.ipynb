{
 "cells": [
  {
   "cell_type": "code",
   "execution_count": 1,
   "metadata": {},
   "outputs": [],
   "source": [
    "import pandas as pd\n",
    "import numpy as np\n",
    "import sys \n",
    "import datetime\n",
    "import os\n",
    "import matplotlib as plt\n",
    "import seaborn as sns\n",
    "\n",
    "%matplotlib inline"
   ]
  },
  {
   "cell_type": "code",
   "execution_count": null,
   "metadata": {},
   "outputs": [],
   "source": []
  },
  {
   "cell_type": "markdown",
   "metadata": {},
   "source": [
    "# Process the Weekday data\n",
    "\n",
    "## Averages data for Jan and Feb 2019\n",
    "\n",
    "* Average weekday non-pooled trip totals \n",
    "* Average weekday pooled trip totals\n",
    "* Average weekday fares\n",
    "* Average weekday travel time\n"
   ]
  },
  {
   "cell_type": "code",
   "execution_count": 41,
   "metadata": {},
   "outputs": [],
   "source": [
    "tods = [1,2,3,4,5]"
   ]
  },
  {
   "cell_type": "code",
   "execution_count": 60,
   "metadata": {},
   "outputs": [],
   "source": [
    "agg = { 'Trip Seconds':'mean',\n",
    "       'Trip Miles':'mean','Fare':'mean',\n",
    "       'Tip':'mean', 'Additional Charges':'mean', 'Trip Total':'mean', 'PRIVATE_TRIPS':'sum','SHARED_TRIPS':'sum',\n",
    "       'Trips Pooled':'sum'}\n"
   ]
  },
  {
   "cell_type": "code",
   "execution_count": 4,
   "metadata": {
    "scrolled": true
   },
   "outputs": [
    {
     "name": "stdout",
     "output_type": "stream",
     "text": [
      "Working on tod 1\n",
      "55117.0\n",
      "296.9\n",
      "7158.0\n",
      "49.8\n",
      "Working on tod 2\n",
      "29520.0\n",
      "205.2\n",
      "7093.0\n",
      "48.5\n",
      "Working on tod 3\n",
      "78780.0\n",
      "266.1\n",
      "7198.0\n",
      "49.5\n",
      "Working on tod 4\n",
      "27660.0\n",
      "335.5\n",
      "7003.0\n",
      "49.8\n",
      "Working on tod 5\n",
      "80520.0\n",
      "304.7\n",
      "7186.0\n",
      "49.6\n"
     ]
    }
   ],
   "source": [
    "df_all = pd.DataFrame()\n",
    "df_raw = pd.DataFrame()\n",
    "\n",
    "for tod in tods:\n",
    "    print('Working on tod ' + str(tod))\n",
    "    df = pd.read_hdf('C:/Workspace/TNC-Demand-Model/Inputs/Chicago Ride-Hailing/Old Files/Chicago_TNC_Trips_20_Incomplete.H5', where = 'YEAR == 2019', key = 'Weekday_' + str(tod))\n",
    "\n",
    "    #df = df[df['MONTH'].isin([1,2])]\n",
    "    #df = df[df['YEAR']==2019]\n",
    "    \n",
    "    print(df['Trip Seconds'].max())\n",
    "    print(df['Trip Miles'].max())\n",
    "    \n",
    "    df = df.dropna(subset = ['Pickup Census Tract', 'Dropoff Census Tract'])\n",
    "    df['DAY'] = df['Trip Start Timestamp'].dt.day\n",
    "    df['PRIVATE_TRIPS'] = np.where(df['Shared Trip Authorized'] == False, 1, 0)\n",
    "    df['SHARED_TRIPS'] = np.where(df['Shared Trip Authorized'] == True, 1, 0)  \n",
    "    \n",
    "    ## the filters are higher than the longest trip because the trip could be pooled\n",
    "    # filter out the trips that are longer than 50 miles becuase the longest possible trip is 35 miles going from O'Hare airport to south east corner\n",
    "    df2 = df[df['Trip Miles'] <= 50]\n",
    "    \n",
    "    # filter out the trips that are longer than 2 hours becuase the longest possible trip is 1 hours going from O'Hare airport to south east corner\n",
    "    df2 = df2[df2['Trip Seconds'] <= 7200]\n",
    "    \n",
    "    print(df2['Trip Seconds'].max())\n",
    "    print(df2['Trip Miles'].max())\n",
    "    \n",
    "    #census tract XXX replaces the trips assigned to census tract XXX because they are likely misasigned. Census tract XXX contains\n",
    "    #contains O'Hare airport and census tract is adjacent. The trips assigned to census tract XXX are likely trips from the airport.\n",
    "    df2.loc[df2['Pickup Census Tract'] == 17031770700, 'Pickup Census Tract'] = 17031980000\n",
    "    df2.loc[df2['Dropoff Census Tract'] == 17031770700, 'Dropoff Census Tract'] = 17031980000\n",
    "    \n",
    "    \n",
    "    #trips to census tract XXX are likely misasigned but it is not clear which census tract they should be assigned to.\n",
    "    #there is only one trip, so it is droped\n",
    "    df2 = df2[df2['Pickup Census Tract'] != 17031810502]\n",
    "    df2 = df2[df2['Dropoff Census Tract'] != 17031810502]\n",
    "\n",
    "    \n",
    "    df2 = df2.groupby(by= ['Pickup Census Tract','Dropoff Census Tract','MONTH','DAY'], as_index =False).agg(agg)\n",
    "    df2 = df2.groupby(by= ['Pickup Census Tract','Dropoff Census Tract'], as_index =False).mean()\n",
    "    \n",
    "    df['TOD'] = tod\n",
    "    df2['TOD'] = tod\n",
    "\n",
    "    df_raw = df_raw.append(df)\n",
    "    df_all = df_all.append(df2)"
   ]
  },
  {
   "cell_type": "markdown",
   "metadata": {},
   "source": [
    "## Add in the Suppressed Trips"
   ]
  },
  {
   "cell_type": "code",
   "execution_count": 5,
   "metadata": {},
   "outputs": [],
   "source": [
    "sup_trips = pd.read_csv('C:/Workspace/TNC-Demand-Model/Inputs/Chicago Ride-Hailing/2019 Suppressed Trips.csv')"
   ]
  },
  {
   "cell_type": "code",
   "execution_count": 8,
   "metadata": {},
   "outputs": [],
   "source": [
    "df_final = df_all.merge(sup_trips[['GEOID_PICKUP', 'GEOID_DROPOFF', 'SCALED_SUP_PRIVATE_TRIPS', 'SCALED_SUP_SHARED_TRIPS', 'TOD']], how = 'left', left_on = ['Pickup Census Tract','Dropoff Census Tract', 'TOD'],right_on = ['GEOID_PICKUP', 'GEOID_DROPOFF', 'TOD'])"
   ]
  },
  {
   "cell_type": "code",
   "execution_count": 10,
   "metadata": {},
   "outputs": [],
   "source": [
    "df_final['SHARED_TRIPS'] = df_final['SHARED_TRIPS'] + df_final['SCALED_SUP_SHARED_TRIPS']\n",
    "df_final['PRIVATE_TRIPS'] = df_final['PRIVATE_TRIPS'] + df_final['SCALED_SUP_PRIVATE_TRIPS']\n",
    "df_final['ALL_TRIPS'] = df_final['PRIVATE_TRIPS'] + df_final['SHARED_TRIPS']"
   ]
  },
  {
   "cell_type": "markdown",
   "metadata": {},
   "source": [
    "# Merge RH Data to Empty Chicago OD Matrix"
   ]
  },
  {
   "cell_type": "code",
   "execution_count": 13,
   "metadata": {},
   "outputs": [],
   "source": [
    "empty = pd.read_csv('Inputs/Chicago Ride-Hailing/Empty_Chicago_Matrix.csv')"
   ]
  },
  {
   "cell_type": "code",
   "execution_count": 33,
   "metadata": {},
   "outputs": [],
   "source": [
    "# this is a way to convert the chicago data file tract column from a float to a int.. save for later\n",
    "\n",
    "#test = df_final['Pickup Census Tract'].astype(str)\n",
    "\n",
    "#int(test[0][:-2])"
   ]
  },
  {
   "cell_type": "code",
   "execution_count": 19,
   "metadata": {},
   "outputs": [],
   "source": [
    "empty.DESTINATION = empty.DESTINATION.astype(float)\n",
    "empty.ORIGIN = empty.ORIGIN.astype(float)"
   ]
  },
  {
   "cell_type": "code",
   "execution_count": 21,
   "metadata": {},
   "outputs": [],
   "source": [
    "rh_final = empty.merge(df_final, how = 'left', left_on = ['ORIGIN', 'DESTINATION','TOD'], right_on = ['Pickup Census Tract', 'Dropoff Census Tract', 'TOD'])"
   ]
  },
  {
   "cell_type": "code",
   "execution_count": 37,
   "metadata": {},
   "outputs": [],
   "source": [
    "rh_final = rh_final.fillna(0)"
   ]
  },
  {
   "cell_type": "code",
   "execution_count": null,
   "metadata": {},
   "outputs": [],
   "source": [
    "np.sqrt(rh_final.TOD.value_counts())"
   ]
  },
  {
   "cell_type": "code",
   "execution_count": 38,
   "metadata": {},
   "outputs": [],
   "source": [
    "rh_final.to_csv('Outputs/2019_Weekday_Ridehail.csv')\n"
   ]
  },
  {
   "cell_type": "code",
   "execution_count": null,
   "metadata": {},
   "outputs": [],
   "source": [
    "df_raw.to_csv('Inputs/Chicago Ride-Hailing/2019_Trip_Records_No_Suppressed.csv')"
   ]
  },
  {
   "cell_type": "markdown",
   "metadata": {},
   "source": [
    "# Data Accuracy Check"
   ]
  },
  {
   "cell_type": "code",
   "execution_count": null,
   "metadata": {},
   "outputs": [],
   "source": [
    "df = pd.read_hdf('C:/Workspace/TNC-Demand-Model/Inputs/Chicago Ride-Hailing/Chicago_TNC_Trips_20.H5', key = 'Weekday_' + str(3))"
   ]
  },
  {
   "cell_type": "code",
   "execution_count": 14,
   "metadata": {},
   "outputs": [],
   "source": [
    "jan_feb = df[df['MONTH'].isin([1,2])]"
   ]
  },
  {
   "cell_type": "code",
   "execution_count": 16,
   "metadata": {},
   "outputs": [],
   "source": [
    "miles_over_50 = jan_feb[jan_feb['Trip Miles'] > 50]"
   ]
  },
  {
   "cell_type": "code",
   "execution_count": 17,
   "metadata": {},
   "outputs": [
    {
     "data": {
      "text/plain": [
       "77"
      ]
     },
     "execution_count": 17,
     "metadata": {},
     "output_type": "execute_result"
    }
   ],
   "source": [
    "len(miles_over_50)"
   ]
  },
  {
   "cell_type": "code",
   "execution_count": 18,
   "metadata": {},
   "outputs": [],
   "source": [
    "miles_over_50.to_csv('Trips_Over_50_Miles.csv')"
   ]
  },
  {
   "cell_type": "code",
   "execution_count": 19,
   "metadata": {},
   "outputs": [],
   "source": [
    "fare_0 = jan_feb[jan_feb['Fare'] == 0]"
   ]
  },
  {
   "cell_type": "code",
   "execution_count": 39,
   "metadata": {},
   "outputs": [],
   "source": [
    "fare_0.to_csv('Fare_0_trips.csv')"
   ]
  },
  {
   "cell_type": "code",
   "execution_count": 41,
   "metadata": {},
   "outputs": [
    {
     "data": {
      "text/html": [
       "<div>\n",
       "<style scoped>\n",
       "    .dataframe tbody tr th:only-of-type {\n",
       "        vertical-align: middle;\n",
       "    }\n",
       "\n",
       "    .dataframe tbody tr th {\n",
       "        vertical-align: top;\n",
       "    }\n",
       "\n",
       "    .dataframe thead th {\n",
       "        text-align: right;\n",
       "    }\n",
       "</style>\n",
       "<table border=\"1\" class=\"dataframe\">\n",
       "  <thead>\n",
       "    <tr style=\"text-align: right;\">\n",
       "      <th></th>\n",
       "      <th>Trip Start Timestamp</th>\n",
       "      <th>Trip End Timestamp</th>\n",
       "      <th>Trip Seconds</th>\n",
       "      <th>Trip Miles</th>\n",
       "      <th>Pickup Census Tract</th>\n",
       "      <th>Dropoff Census Tract</th>\n",
       "      <th>Fare</th>\n",
       "      <th>Tip</th>\n",
       "      <th>Additional Charges</th>\n",
       "      <th>Trip Total</th>\n",
       "      <th>Shared Trip Authorized</th>\n",
       "      <th>Trips Pooled</th>\n",
       "      <th>YEAR</th>\n",
       "      <th>MONTH</th>\n",
       "      <th>DOW</th>\n",
       "      <th>HOUR</th>\n",
       "    </tr>\n",
       "  </thead>\n",
       "  <tbody>\n",
       "    <tr>\n",
       "      <th>9133667</th>\n",
       "      <td>2019-01-15 08:30:00</td>\n",
       "      <td>2019-01-15 09:00:00</td>\n",
       "      <td>1679.0</td>\n",
       "      <td>5.2</td>\n",
       "      <td>1.703184e+10</td>\n",
       "      <td>1.703132e+10</td>\n",
       "      <td>0.0</td>\n",
       "      <td>0.0</td>\n",
       "      <td>0.67</td>\n",
       "      <td>0.67</td>\n",
       "      <td>True</td>\n",
       "      <td>2.0</td>\n",
       "      <td>2019</td>\n",
       "      <td>1</td>\n",
       "      <td>1</td>\n",
       "      <td>8</td>\n",
       "    </tr>\n",
       "  </tbody>\n",
       "</table>\n",
       "</div>"
      ],
      "text/plain": [
       "        Trip Start Timestamp  Trip End Timestamp  Trip Seconds  Trip Miles  \\\n",
       "9133667  2019-01-15 08:30:00 2019-01-15 09:00:00        1679.0         5.2   \n",
       "\n",
       "         Pickup Census Tract  Dropoff Census Tract  Fare  Tip  \\\n",
       "9133667         1.703184e+10          1.703132e+10   0.0  0.0   \n",
       "\n",
       "         Additional Charges  Trip Total  Shared Trip Authorized  Trips Pooled  \\\n",
       "9133667                0.67        0.67                    True           2.0   \n",
       "\n",
       "         YEAR  MONTH  DOW  HOUR  \n",
       "9133667  2019      1    1     8  "
      ]
     },
     "execution_count": 41,
     "metadata": {},
     "output_type": "execute_result"
    }
   ],
   "source": [
    "jan_feb[(jan_feb['Trip Start Timestamp'] == '2019-01-15 08:30:00')&(jan_feb['Pickup Census Tract'] == 17031839700)&(jan_feb['Dropoff Census Tract'] == 17031320100)]"
   ]
  },
  {
   "cell_type": "code",
   "execution_count": 42,
   "metadata": {},
   "outputs": [
    {
     "data": {
      "text/html": [
       "<div>\n",
       "<style scoped>\n",
       "    .dataframe tbody tr th:only-of-type {\n",
       "        vertical-align: middle;\n",
       "    }\n",
       "\n",
       "    .dataframe tbody tr th {\n",
       "        vertical-align: top;\n",
       "    }\n",
       "\n",
       "    .dataframe thead th {\n",
       "        text-align: right;\n",
       "    }\n",
       "</style>\n",
       "<table border=\"1\" class=\"dataframe\">\n",
       "  <thead>\n",
       "    <tr style=\"text-align: right;\">\n",
       "      <th></th>\n",
       "      <th>Trip Start Timestamp</th>\n",
       "      <th>Trip End Timestamp</th>\n",
       "      <th>Trip Seconds</th>\n",
       "      <th>Trip Miles</th>\n",
       "      <th>Pickup Census Tract</th>\n",
       "      <th>Dropoff Census Tract</th>\n",
       "      <th>Fare</th>\n",
       "      <th>Tip</th>\n",
       "      <th>Additional Charges</th>\n",
       "      <th>Trip Total</th>\n",
       "      <th>Shared Trip Authorized</th>\n",
       "      <th>Trips Pooled</th>\n",
       "      <th>YEAR</th>\n",
       "      <th>MONTH</th>\n",
       "      <th>DOW</th>\n",
       "      <th>HOUR</th>\n",
       "    </tr>\n",
       "  </thead>\n",
       "  <tbody>\n",
       "    <tr>\n",
       "      <th>9285742</th>\n",
       "      <td>2019-01-24 08:15:00</td>\n",
       "      <td>2019-01-24 10:30:00</td>\n",
       "      <td>8068.0</td>\n",
       "      <td>58.1</td>\n",
       "      <td>1.703132e+10</td>\n",
       "      <td>1.703184e+10</td>\n",
       "      <td>152.5</td>\n",
       "      <td>0.0</td>\n",
       "      <td>2.55</td>\n",
       "      <td>155.05</td>\n",
       "      <td>False</td>\n",
       "      <td>1.0</td>\n",
       "      <td>2019</td>\n",
       "      <td>1</td>\n",
       "      <td>3</td>\n",
       "      <td>8</td>\n",
       "    </tr>\n",
       "    <tr>\n",
       "      <th>9764265</th>\n",
       "      <td>2019-01-01 08:45:00</td>\n",
       "      <td>2019-01-01 10:45:00</td>\n",
       "      <td>7752.0</td>\n",
       "      <td>90.7</td>\n",
       "      <td>1.703108e+10</td>\n",
       "      <td>1.703108e+10</td>\n",
       "      <td>112.5</td>\n",
       "      <td>21.0</td>\n",
       "      <td>5.50</td>\n",
       "      <td>139.00</td>\n",
       "      <td>False</td>\n",
       "      <td>1.0</td>\n",
       "      <td>2019</td>\n",
       "      <td>1</td>\n",
       "      <td>1</td>\n",
       "      <td>8</td>\n",
       "    </tr>\n",
       "    <tr>\n",
       "      <th>10872560</th>\n",
       "      <td>2019-02-21 07:45:00</td>\n",
       "      <td>2019-02-21 09:45:00</td>\n",
       "      <td>7645.0</td>\n",
       "      <td>51.7</td>\n",
       "      <td>1.703184e+10</td>\n",
       "      <td>1.703184e+10</td>\n",
       "      <td>80.0</td>\n",
       "      <td>11.0</td>\n",
       "      <td>3.30</td>\n",
       "      <td>94.30</td>\n",
       "      <td>False</td>\n",
       "      <td>1.0</td>\n",
       "      <td>2019</td>\n",
       "      <td>2</td>\n",
       "      <td>3</td>\n",
       "      <td>7</td>\n",
       "    </tr>\n",
       "    <tr>\n",
       "      <th>11963121</th>\n",
       "      <td>2019-02-01 08:15:00</td>\n",
       "      <td>2019-02-01 10:00:00</td>\n",
       "      <td>6133.0</td>\n",
       "      <td>53.9</td>\n",
       "      <td>1.703184e+10</td>\n",
       "      <td>1.703128e+10</td>\n",
       "      <td>75.0</td>\n",
       "      <td>0.0</td>\n",
       "      <td>2.55</td>\n",
       "      <td>77.55</td>\n",
       "      <td>False</td>\n",
       "      <td>1.0</td>\n",
       "      <td>2019</td>\n",
       "      <td>2</td>\n",
       "      <td>4</td>\n",
       "      <td>8</td>\n",
       "    </tr>\n",
       "    <tr>\n",
       "      <th>12646541</th>\n",
       "      <td>2019-01-25 08:30:00</td>\n",
       "      <td>2019-01-25 10:30:00</td>\n",
       "      <td>7135.0</td>\n",
       "      <td>83.4</td>\n",
       "      <td>1.703108e+10</td>\n",
       "      <td>1.703183e+10</td>\n",
       "      <td>102.5</td>\n",
       "      <td>0.0</td>\n",
       "      <td>2.55</td>\n",
       "      <td>105.05</td>\n",
       "      <td>False</td>\n",
       "      <td>1.0</td>\n",
       "      <td>2019</td>\n",
       "      <td>1</td>\n",
       "      <td>4</td>\n",
       "      <td>8</td>\n",
       "    </tr>\n",
       "  </tbody>\n",
       "</table>\n",
       "</div>"
      ],
      "text/plain": [
       "         Trip Start Timestamp  Trip End Timestamp  Trip Seconds  Trip Miles  \\\n",
       "9285742   2019-01-24 08:15:00 2019-01-24 10:30:00        8068.0        58.1   \n",
       "9764265   2019-01-01 08:45:00 2019-01-01 10:45:00        7752.0        90.7   \n",
       "10872560  2019-02-21 07:45:00 2019-02-21 09:45:00        7645.0        51.7   \n",
       "11963121  2019-02-01 08:15:00 2019-02-01 10:00:00        6133.0        53.9   \n",
       "12646541  2019-01-25 08:30:00 2019-01-25 10:30:00        7135.0        83.4   \n",
       "\n",
       "          Pickup Census Tract  Dropoff Census Tract   Fare   Tip  \\\n",
       "9285742          1.703132e+10          1.703184e+10  152.5   0.0   \n",
       "9764265          1.703108e+10          1.703108e+10  112.5  21.0   \n",
       "10872560         1.703184e+10          1.703184e+10   80.0  11.0   \n",
       "11963121         1.703184e+10          1.703128e+10   75.0   0.0   \n",
       "12646541         1.703108e+10          1.703183e+10  102.5   0.0   \n",
       "\n",
       "          Additional Charges  Trip Total  Shared Trip Authorized  \\\n",
       "9285742                 2.55      155.05                   False   \n",
       "9764265                 5.50      139.00                   False   \n",
       "10872560                3.30       94.30                   False   \n",
       "11963121                2.55       77.55                   False   \n",
       "12646541                2.55      105.05                   False   \n",
       "\n",
       "          Trips Pooled  YEAR  MONTH  DOW  HOUR  \n",
       "9285742            1.0  2019      1    3     8  \n",
       "9764265            1.0  2019      1    1     8  \n",
       "10872560           1.0  2019      2    3     7  \n",
       "11963121           1.0  2019      2    4     8  \n",
       "12646541           1.0  2019      1    4     8  "
      ]
     },
     "execution_count": 42,
     "metadata": {},
     "output_type": "execute_result"
    }
   ],
   "source": [
    "miles_over_50.head()"
   ]
  },
  {
   "cell_type": "code",
   "execution_count": 45,
   "metadata": {},
   "outputs": [
    {
     "data": {
      "text/html": [
       "<div>\n",
       "<style scoped>\n",
       "    .dataframe tbody tr th:only-of-type {\n",
       "        vertical-align: middle;\n",
       "    }\n",
       "\n",
       "    .dataframe tbody tr th {\n",
       "        vertical-align: top;\n",
       "    }\n",
       "\n",
       "    .dataframe thead th {\n",
       "        text-align: right;\n",
       "    }\n",
       "</style>\n",
       "<table border=\"1\" class=\"dataframe\">\n",
       "  <thead>\n",
       "    <tr style=\"text-align: right;\">\n",
       "      <th></th>\n",
       "      <th>Trip Start Timestamp</th>\n",
       "      <th>Trip End Timestamp</th>\n",
       "      <th>Trip Seconds</th>\n",
       "      <th>Trip Miles</th>\n",
       "      <th>Pickup Census Tract</th>\n",
       "      <th>Dropoff Census Tract</th>\n",
       "      <th>Fare</th>\n",
       "      <th>Tip</th>\n",
       "      <th>Additional Charges</th>\n",
       "      <th>Trip Total</th>\n",
       "      <th>Shared Trip Authorized</th>\n",
       "      <th>Trips Pooled</th>\n",
       "      <th>YEAR</th>\n",
       "      <th>MONTH</th>\n",
       "      <th>DOW</th>\n",
       "      <th>HOUR</th>\n",
       "    </tr>\n",
       "  </thead>\n",
       "  <tbody>\n",
       "    <tr>\n",
       "      <th>30217883</th>\n",
       "      <td>2019-01-28 07:30:00</td>\n",
       "      <td>2019-01-28 07:45:00</td>\n",
       "      <td>959.0</td>\n",
       "      <td>2.0</td>\n",
       "      <td>1.703108e+10</td>\n",
       "      <td>1.703107e+10</td>\n",
       "      <td>0.0</td>\n",
       "      <td>0.0</td>\n",
       "      <td>0.0</td>\n",
       "      <td>0.0</td>\n",
       "      <td>True</td>\n",
       "      <td>6.0</td>\n",
       "      <td>2019</td>\n",
       "      <td>1</td>\n",
       "      <td>0</td>\n",
       "      <td>7</td>\n",
       "    </tr>\n",
       "  </tbody>\n",
       "</table>\n",
       "</div>"
      ],
      "text/plain": [
       "         Trip Start Timestamp  Trip End Timestamp  Trip Seconds  Trip Miles  \\\n",
       "30217883  2019-01-28 07:30:00 2019-01-28 07:45:00         959.0         2.0   \n",
       "\n",
       "          Pickup Census Tract  Dropoff Census Tract  Fare  Tip  \\\n",
       "30217883         1.703108e+10          1.703107e+10   0.0  0.0   \n",
       "\n",
       "          Additional Charges  Trip Total  Shared Trip Authorized  \\\n",
       "30217883                 0.0         0.0                    True   \n",
       "\n",
       "          Trips Pooled  YEAR  MONTH  DOW  HOUR  \n",
       "30217883           6.0  2019      1    0     7  "
      ]
     },
     "execution_count": 45,
     "metadata": {},
     "output_type": "execute_result"
    }
   ],
   "source": [
    "jan_feb[jan_feb['Trip Total'] == 0]"
   ]
  },
  {
   "cell_type": "code",
   "execution_count": 44,
   "metadata": {},
   "outputs": [
    {
     "data": {
      "text/plain": [
       "32806"
      ]
     },
     "execution_count": 44,
     "metadata": {},
     "output_type": "execute_result"
    }
   ],
   "source": [
    "len(jan_feb[jan_feb['Fare'] == 0])"
   ]
  },
  {
   "cell_type": "code",
   "execution_count": 47,
   "metadata": {},
   "outputs": [],
   "source": [
    "trips_5hrs_moore = jan_feb[jan_feb['Trip Seconds'] >= 18000]"
   ]
  },
  {
   "cell_type": "code",
   "execution_count": 48,
   "metadata": {},
   "outputs": [],
   "source": [
    "trips_5hrs_moore.to_csv('trips_over_5hrs.csv')"
   ]
  },
  {
   "cell_type": "code",
   "execution_count": null,
   "metadata": {},
   "outputs": [],
   "source": []
  }
 ],
 "metadata": {
  "kernelspec": {
   "display_name": "Python 3",
   "language": "python",
   "name": "python3"
  },
  "language_info": {
   "codemirror_mode": {
    "name": "ipython",
    "version": 3
   },
   "file_extension": ".py",
   "mimetype": "text/x-python",
   "name": "python",
   "nbconvert_exporter": "python",
   "pygments_lexer": "ipython3",
   "version": "3.7.6"
  }
 },
 "nbformat": 4,
 "nbformat_minor": 2
}
