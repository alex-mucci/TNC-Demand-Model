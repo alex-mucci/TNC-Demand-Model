{
 "cells": [
  {
   "cell_type": "code",
   "execution_count": 1,
   "metadata": {},
   "outputs": [],
   "source": [
    "import pandas as pd\n",
    "import numpy as np\n",
    "import seaborn as sns\n",
    "import geopandas as gp\n",
    "import folium\n",
    "import seaborn as sns\n",
    "import matplotlib.pyplot as plt\n"
   ]
  },
  {
   "cell_type": "code",
   "execution_count": null,
   "metadata": {},
   "outputs": [],
   "source": []
  },
  {
   "cell_type": "code",
   "execution_count": null,
   "metadata": {},
   "outputs": [],
   "source": []
  },
  {
   "cell_type": "code",
   "execution_count": null,
   "metadata": {},
   "outputs": [],
   "source": []
  },
  {
   "cell_type": "code",
   "execution_count": 35,
   "metadata": {},
   "outputs": [],
   "source": [
    "df = pd.read_csv('C:/Workspace/TNC-Demand-Model/Outputs/Trip_Generation_Origin_Estimation_File_TOD_1.csv', index_col = 0)"
   ]
  },
  {
   "cell_type": "code",
   "execution_count": null,
   "metadata": {},
   "outputs": [],
   "source": []
  },
  {
   "cell_type": "code",
   "execution_count": 285,
   "metadata": {},
   "outputs": [],
   "source": [
    "#df['PRED_PICKUPS'] =   -0.001706*df['RETAIL_EMP'] - 0.00000656*df['OTHER_EMP'] + 0.0057777*df['FOOD_EMP'] + 8.242529*df['AIR_F'] + 0.0279361*df['P_BACH_25P'] + 0.6126723*df['LOGSUM'] + 0.0026263*df['HI_INC_0'] + 0.0000000845*df['HI_INC_1P']  - 0.0004299*df['LOW_INC_0'] + 0.0007686*df['LOW_INC_1P'] - 0.0587176*df['MEDIAN_AGE']"
   ]
  },
  {
   "cell_type": "code",
   "execution_count": null,
   "metadata": {},
   "outputs": [],
   "source": []
  },
  {
   "cell_type": "code",
   "execution_count": 3,
   "metadata": {
    "scrolled": true
   },
   "outputs": [
    {
     "name": "stderr",
     "output_type": "stream",
     "text": [
      "C:\\Users\\ramu225\\Anaconda3\\lib\\site-packages\\pandas\\core\\series.py:726: RuntimeWarning: divide by zero encountered in log\n",
      "  result = getattr(ufunc, method)(*inputs, **kwargs)\n"
     ]
    }
   ],
   "source": [
    "#this equation is for the two component trip generation model structure\n",
    "df['LINEAR_PICKUPS'] = 0.1372834*df['FOOD_EMP'] + 588.9979*df['AIR_F'] + 0.0064219*df['LOW_INC_0'] + 0.1324384*df['HI_INC_0'] + 0.0203518*df['LOW_INC_1P']   \n",
    "\n",
    "#see the 3 step demand model overview excel file for original specification\n",
    "\n",
    "#df['LINEAR_PICKUPS'] = 0.0051667*df['FOOD_EMP'] + 10.32289*df['AIR_F'] + 0.0052295*df['HI_INC_0'] + 0.000000178*df['HI_INC_1P'] + 0.3477064*df['LOGSUM'] \n",
    "#df['LINEAR_PICKUPS_LOG'] =  np.where(df['LINEAR_PICKUPS'] == 0,0,np.log(df['LINEAR_PICKUPS']))\n",
    "df['LINEAR_PICKUPS_LOG'] =  np.where(df['LINEAR_PICKUPS'] == 0, 0, np.log(df['LINEAR_PICKUPS']))\n",
    "\n",
    "df.to_csv('C:/Workspace/TNC-Demand-Model/Outputs/NB_Estimation_File_TOD_1.csv')\n"
   ]
  },
  {
   "cell_type": "code",
   "execution_count": null,
   "metadata": {},
   "outputs": [],
   "source": []
  },
  {
   "cell_type": "code",
   "execution_count": 196,
   "metadata": {},
   "outputs": [],
   "source": [
    "df = pd.read_csv('C:/Workspace/TNC-Demand-Model/Outputs/NB_Estimation_File_TOD_1.csv')"
   ]
  },
  {
   "cell_type": "code",
   "execution_count": 529,
   "metadata": {},
   "outputs": [],
   "source": [
    "#df['PRED_AVG_WD_PICKUPS'] = np.exp(0.4804837*df['LINEAR_PICKUPS_LOG'] + 1.204674*df['LOGSUM'] - 0.0080285*df['MEDIAN_AGE'] + 0.0072657*df['P_BACH_25P'] - 0.0307559*df['JAN'] + 0.1092302*df['FEB'] + 0.0048905*df['MAR'] - 0.0125299*df['APR'] - 0.1267656*df['MAY'] - 0.0119703*df['JUN'] - 0.0763796*df['JUL'] - 0.0933817*df['AUG'] + 0.00633*df['SEP'] - 0.0939632*df['OCT'] - 0.0357835*df['NOV'] - 3.197027)"
   ]
  },
  {
   "cell_type": "code",
   "execution_count": 67,
   "metadata": {},
   "outputs": [],
   "source": [
    "#try fixing the logsum coefficient to 1\n",
    "#df['PRED_AVG_WD_PICKUPS'] = np.exp(0.4574642*df['LINEAR_PICKUPS_LOG'] + 1*df['LOGSUM'] - 0.0145583*df['MEDIAN_AGE'] + 0.0120274*df['P_BACH_25P'] - 0.0270765*df['JAN'] + 0.0928594*df['FEB'] + 0.022459*df['MAR'] - 0.0037999*df['APR'] - 0.0901435*df['MAY'] - 0.0003912*df['JUN'] - 0.0573417*df['JUL'] - 0.0707263*df['AUG'] - 0.0050186*df['SEP'] - 0.0824418*df['OCT'] - 0.028647*df['NOV'] - 2.186894)"
   ]
  },
  {
   "cell_type": "code",
   "execution_count": 61,
   "metadata": {},
   "outputs": [],
   "source": [
    "#try adding an airport flagger\n",
    "#df['PRED_AVG_WD_PICKUPS'] = np.exp(0.5996754*df['AIR_F'] + 0.4455175*df['LINEAR_PICKUPS_LOG'] + 1*df['LOGSUM'] - 0.0132126*df['MEDIAN_AGE'] + 0.0124732*df['P_BACH_25P'] - 0.0275771*df['JAN'] + 0.0924785*df['FEB'] + 0.0215525*df['MAR'] - 0.0044946*df['APR'] - 0.0909313*df['MAY'] - 0.0015156*df['JUN'] - 0.0583109*df['JUL'] - 0.0714348*df['AUG'] - 0.0057207*df['SEP'] - 0.0828833*df['OCT'] - 0.0288597*df['NOV'] - 2.209063)"
   ]
  },
  {
   "cell_type": "code",
   "execution_count": 201,
   "metadata": {},
   "outputs": [],
   "source": [
    "#try adding an employment density variable\n",
    "df['PRED_AVG_WD_PICKUPS'] = np.exp(0.00000118*df['TOTAL_EMP_DEN'] + 0.680962*df['AIR_F'] + 0.4286697*df['LINEAR_PICKUPS_LOG'] + 1*df['LOGSUM'] - 0.0125105*df['MEDIAN_AGE'] + 0.0122858*df['P_BACH_25P'] - 0.0272565*df['JAN'] + 0.092326*df['FEB'] + 0.0214312*df['MAR'] - 0.0045294*df['APR'] - 0.0904432*df['MAY'] - 0.0007722*df['JUN'] - 0.0577919*df['JUL'] - 0.0710399*df['AUG'] - 0.0056855*df['SEP'] - 0.0829964*df['OCT'] - 0.0286562*df['NOV'] - 2.18388)"
   ]
  },
  {
   "cell_type": "code",
   "execution_count": 202,
   "metadata": {},
   "outputs": [
    {
     "data": {
      "text/plain": [
       "(0, 1800)"
      ]
     },
     "execution_count": 202,
     "metadata": {},
     "output_type": "execute_result"
    },
    {
     "data": {
      "image/png": "[encoded data removed]",
      "text/plain": [
       "<Figure size 432x288 with 1 Axes>"
      ]
     },
     "metadata": {
      "needs_background": "light"
     },
     "output_type": "display_data"
    }
   ],
   "source": [
    "sns.scatterplot(y = df['PRED_AVG_WD_PICKUPS'], x = df['AVG_WD_PICKUPS'])\n",
    "plt.ylim(0,1800)\n",
    "plt.xlim(0,1800)"
   ]
  },
  {
   "cell_type": "code",
   "execution_count": 203,
   "metadata": {},
   "outputs": [],
   "source": [
    "#weekday = pd.read_csv('C:/Workspace/TNC-Demand-Model/Outputs/Number of Weekdays.csv')\n",
    "#df = df.merge(weekday, on = ['YEAR','MONTH'])\n"
   ]
  },
  {
   "cell_type": "code",
   "execution_count": null,
   "metadata": {},
   "outputs": [],
   "source": []
  },
  {
   "cell_type": "code",
   "execution_count": null,
   "metadata": {},
   "outputs": [],
   "source": []
  },
  {
   "cell_type": "code",
   "execution_count": 205,
   "metadata": {},
   "outputs": [],
   "source": [
    "df['PRED_PICKUPS'] = df['PRED_AVG_WD_PICKUPS']*df['WEEKDAYS']"
   ]
  },
  {
   "cell_type": "code",
   "execution_count": 206,
   "metadata": {},
   "outputs": [
    {
     "data": {
      "text/plain": [
       "13370023.237603784"
      ]
     },
     "execution_count": 206,
     "metadata": {},
     "output_type": "execute_result"
    }
   ],
   "source": [
    "df['PRED_PICKUPS'].sum()"
   ]
  },
  {
   "cell_type": "code",
   "execution_count": 207,
   "metadata": {},
   "outputs": [
    {
     "data": {
      "text/plain": [
       "13519845.0"
      ]
     },
     "execution_count": 207,
     "metadata": {},
     "output_type": "execute_result"
    }
   ],
   "source": [
    "df['PICKUPS'].sum()"
   ]
  },
  {
   "cell_type": "code",
   "execution_count": 75,
   "metadata": {},
   "outputs": [
    {
     "data": {
      "text/plain": [
       "array([17031980000], dtype=int64)"
      ]
     },
     "execution_count": 75,
     "metadata": {},
     "output_type": "execute_result"
    }
   ],
   "source": [
    "df[df['AVG_WD_PICKUPS'] > 1600].ORIGIN.unique()"
   ]
  },
  {
   "cell_type": "code",
   "execution_count": 76,
   "metadata": {},
   "outputs": [
    {
     "data": {
      "text/plain": [
       "array([17031833000], dtype=int64)"
      ]
     },
     "execution_count": 76,
     "metadata": {},
     "output_type": "execute_result"
    }
   ],
   "source": [
    "df[(df['AVG_WD_PICKUPS'] > 1000)&(df['PRED_AVG_WD_PICKUPS'] <600)].ORIGIN.unique()"
   ]
  },
  {
   "cell_type": "code",
   "execution_count": 209,
   "metadata": {},
   "outputs": [
    {
     "data": {
      "text/html": [
       "<div>\n",
       "<style scoped>\n",
       "    .dataframe tbody tr th:only-of-type {\n",
       "        vertical-align: middle;\n",
       "    }\n",
       "\n",
       "    .dataframe tbody tr th {\n",
       "        vertical-align: top;\n",
       "    }\n",
       "\n",
       "    .dataframe thead th {\n",
       "        text-align: right;\n",
       "    }\n",
       "</style>\n",
       "<table border=\"1\" class=\"dataframe\">\n",
       "  <thead>\n",
       "    <tr style=\"text-align: right;\">\n",
       "      <th></th>\n",
       "      <th>MONTH</th>\n",
       "      <th>YEAR</th>\n",
       "      <th>WEEKDAYS</th>\n",
       "    </tr>\n",
       "  </thead>\n",
       "  <tbody>\n",
       "    <tr>\n",
       "      <th>0</th>\n",
       "      <td>11</td>\n",
       "      <td>2018</td>\n",
       "      <td>22.0</td>\n",
       "    </tr>\n",
       "    <tr>\n",
       "      <th>1</th>\n",
       "      <td>11</td>\n",
       "      <td>2018</td>\n",
       "      <td>22.0</td>\n",
       "    </tr>\n",
       "    <tr>\n",
       "      <th>2</th>\n",
       "      <td>11</td>\n",
       "      <td>2018</td>\n",
       "      <td>22.0</td>\n",
       "    </tr>\n",
       "    <tr>\n",
       "      <th>3</th>\n",
       "      <td>11</td>\n",
       "      <td>2018</td>\n",
       "      <td>22.0</td>\n",
       "    </tr>\n",
       "    <tr>\n",
       "      <th>4</th>\n",
       "      <td>11</td>\n",
       "      <td>2018</td>\n",
       "      <td>22.0</td>\n",
       "    </tr>\n",
       "    <tr>\n",
       "      <th>...</th>\n",
       "      <td>...</td>\n",
       "      <td>...</td>\n",
       "      <td>...</td>\n",
       "    </tr>\n",
       "    <tr>\n",
       "      <th>12811</th>\n",
       "      <td>2</td>\n",
       "      <td>2020</td>\n",
       "      <td>20.0</td>\n",
       "    </tr>\n",
       "    <tr>\n",
       "      <th>12812</th>\n",
       "      <td>2</td>\n",
       "      <td>2020</td>\n",
       "      <td>20.0</td>\n",
       "    </tr>\n",
       "    <tr>\n",
       "      <th>12813</th>\n",
       "      <td>2</td>\n",
       "      <td>2020</td>\n",
       "      <td>20.0</td>\n",
       "    </tr>\n",
       "    <tr>\n",
       "      <th>12814</th>\n",
       "      <td>2</td>\n",
       "      <td>2020</td>\n",
       "      <td>20.0</td>\n",
       "    </tr>\n",
       "    <tr>\n",
       "      <th>12815</th>\n",
       "      <td>2</td>\n",
       "      <td>2020</td>\n",
       "      <td>20.0</td>\n",
       "    </tr>\n",
       "  </tbody>\n",
       "</table>\n",
       "<p>12816 rows × 3 columns</p>\n",
       "</div>"
      ],
      "text/plain": [
       "       MONTH  YEAR  WEEKDAYS\n",
       "0         11  2018      22.0\n",
       "1         11  2018      22.0\n",
       "2         11  2018      22.0\n",
       "3         11  2018      22.0\n",
       "4         11  2018      22.0\n",
       "...      ...   ...       ...\n",
       "12811      2  2020      20.0\n",
       "12812      2  2020      20.0\n",
       "12813      2  2020      20.0\n",
       "12814      2  2020      20.0\n",
       "12815      2  2020      20.0\n",
       "\n",
       "[12816 rows x 3 columns]"
      ]
     },
     "execution_count": 209,
     "metadata": {},
     "output_type": "execute_result"
    }
   ],
   "source": [
    "df[['MONTH','YEAR','WEEKDAYS']]"
   ]
  },
  {
   "cell_type": "code",
   "execution_count": 213,
   "metadata": {},
   "outputs": [],
   "source": [
    "agg = {'WEEKDAYS':'first','PRED_PICKUPS':'sum','PICKUPS':'sum'}"
   ]
  },
  {
   "cell_type": "code",
   "execution_count": null,
   "metadata": {},
   "outputs": [],
   "source": []
  },
  {
   "cell_type": "code",
   "execution_count": 229,
   "metadata": {},
   "outputs": [],
   "source": [
    "df_sum = df[['MONTH','YEAR','PRED_PICKUPS','PICKUPS','WEEKDAYS']].groupby(by = ['MONTH','YEAR'], as_index = False).agg(agg)\n",
    "\n",
    "df_sum['AVG_WD_PICKUPS'] = df_sum['PICKUPS']/df_sum['WEEKDAYS']\n",
    "df_sum['PRED_AVG_WD_PICKUPS'] = df_sum['PRED_PICKUPS']/df_sum['WEEKDAYS']"
   ]
  },
  {
   "cell_type": "code",
   "execution_count": null,
   "metadata": {},
   "outputs": [],
   "source": []
  },
  {
   "cell_type": "code",
   "execution_count": 230,
   "metadata": {},
   "outputs": [
    {
     "data": {
      "text/html": [
       "<div>\n",
       "<style scoped>\n",
       "    .dataframe tbody tr th:only-of-type {\n",
       "        vertical-align: middle;\n",
       "    }\n",
       "\n",
       "    .dataframe tbody tr th {\n",
       "        vertical-align: top;\n",
       "    }\n",
       "\n",
       "    .dataframe thead th {\n",
       "        text-align: right;\n",
       "    }\n",
       "</style>\n",
       "<table border=\"1\" class=\"dataframe\">\n",
       "  <thead>\n",
       "    <tr style=\"text-align: right;\">\n",
       "      <th></th>\n",
       "      <th>YEAR</th>\n",
       "      <th>MONTH</th>\n",
       "      <th>AVG_WD_PICKUPS</th>\n",
       "      <th>PRED_AVG_WD_PICKUPS</th>\n",
       "    </tr>\n",
       "  </thead>\n",
       "  <tbody>\n",
       "    <tr>\n",
       "      <th>0</th>\n",
       "      <td>2019</td>\n",
       "      <td>1</td>\n",
       "      <td>35562.782609</td>\n",
       "      <td>36746.531610</td>\n",
       "    </tr>\n",
       "    <tr>\n",
       "      <th>1</th>\n",
       "      <td>2020</td>\n",
       "      <td>1</td>\n",
       "      <td>37327.260870</td>\n",
       "      <td>36570.037314</td>\n",
       "    </tr>\n",
       "    <tr>\n",
       "      <th>2</th>\n",
       "      <td>2019</td>\n",
       "      <td>2</td>\n",
       "      <td>37633.150000</td>\n",
       "      <td>39010.295362</td>\n",
       "    </tr>\n",
       "    <tr>\n",
       "      <th>3</th>\n",
       "      <td>2020</td>\n",
       "      <td>2</td>\n",
       "      <td>37124.550000</td>\n",
       "      <td>35505.804609</td>\n",
       "    </tr>\n",
       "    <tr>\n",
       "      <th>4</th>\n",
       "      <td>2019</td>\n",
       "      <td>3</td>\n",
       "      <td>40879.761905</td>\n",
       "      <td>41052.916768</td>\n",
       "    </tr>\n",
       "    <tr>\n",
       "      <th>5</th>\n",
       "      <td>2019</td>\n",
       "      <td>4</td>\n",
       "      <td>38152.818182</td>\n",
       "      <td>37738.827759</td>\n",
       "    </tr>\n",
       "    <tr>\n",
       "      <th>6</th>\n",
       "      <td>2019</td>\n",
       "      <td>5</td>\n",
       "      <td>41963.130435</td>\n",
       "      <td>40914.087158</td>\n",
       "    </tr>\n",
       "    <tr>\n",
       "      <th>7</th>\n",
       "      <td>2019</td>\n",
       "      <td>6</td>\n",
       "      <td>41867.300000</td>\n",
       "      <td>40041.547705</td>\n",
       "    </tr>\n",
       "    <tr>\n",
       "      <th>8</th>\n",
       "      <td>2019</td>\n",
       "      <td>7</td>\n",
       "      <td>40622.782609</td>\n",
       "      <td>39920.722048</td>\n",
       "    </tr>\n",
       "    <tr>\n",
       "      <th>9</th>\n",
       "      <td>2019</td>\n",
       "      <td>8</td>\n",
       "      <td>41071.636364</td>\n",
       "      <td>39166.492187</td>\n",
       "    </tr>\n",
       "    <tr>\n",
       "      <th>10</th>\n",
       "      <td>2019</td>\n",
       "      <td>9</td>\n",
       "      <td>38143.428571</td>\n",
       "      <td>37242.349771</td>\n",
       "    </tr>\n",
       "    <tr>\n",
       "      <th>11</th>\n",
       "      <td>2019</td>\n",
       "      <td>10</td>\n",
       "      <td>37580.217391</td>\n",
       "      <td>36916.473564</td>\n",
       "    </tr>\n",
       "    <tr>\n",
       "      <th>12</th>\n",
       "      <td>2018</td>\n",
       "      <td>11</td>\n",
       "      <td>38994.772727</td>\n",
       "      <td>40461.763115</td>\n",
       "    </tr>\n",
       "    <tr>\n",
       "      <th>13</th>\n",
       "      <td>2019</td>\n",
       "      <td>11</td>\n",
       "      <td>40108.285714</td>\n",
       "      <td>38596.868547</td>\n",
       "    </tr>\n",
       "    <tr>\n",
       "      <th>14</th>\n",
       "      <td>2018</td>\n",
       "      <td>12</td>\n",
       "      <td>36292.571429</td>\n",
       "      <td>35844.303410</td>\n",
       "    </tr>\n",
       "    <tr>\n",
       "      <th>15</th>\n",
       "      <td>2019</td>\n",
       "      <td>12</td>\n",
       "      <td>40105.681818</td>\n",
       "      <td>40671.302697</td>\n",
       "    </tr>\n",
       "  </tbody>\n",
       "</table>\n",
       "</div>"
      ],
      "text/plain": [
       "    YEAR  MONTH  AVG_WD_PICKUPS  PRED_AVG_WD_PICKUPS\n",
       "0   2019      1    35562.782609         36746.531610\n",
       "1   2020      1    37327.260870         36570.037314\n",
       "2   2019      2    37633.150000         39010.295362\n",
       "3   2020      2    37124.550000         35505.804609\n",
       "4   2019      3    40879.761905         41052.916768\n",
       "5   2019      4    38152.818182         37738.827759\n",
       "6   2019      5    41963.130435         40914.087158\n",
       "7   2019      6    41867.300000         40041.547705\n",
       "8   2019      7    40622.782609         39920.722048\n",
       "9   2019      8    41071.636364         39166.492187\n",
       "10  2019      9    38143.428571         37242.349771\n",
       "11  2019     10    37580.217391         36916.473564\n",
       "12  2018     11    38994.772727         40461.763115\n",
       "13  2019     11    40108.285714         38596.868547\n",
       "14  2018     12    36292.571429         35844.303410\n",
       "15  2019     12    40105.681818         40671.302697"
      ]
     },
     "execution_count": 230,
     "metadata": {},
     "output_type": "execute_result"
    }
   ],
   "source": [
    "df_sum[['YEAR','MONTH','AVG_WD_PICKUPS','PRED_AVG_WD_PICKUPS']]"
   ]
  },
  {
   "cell_type": "code",
   "execution_count": null,
   "metadata": {},
   "outputs": [],
   "source": []
  },
  {
   "cell_type": "code",
   "execution_count": null,
   "metadata": {},
   "outputs": [],
   "source": []
  },
  {
   "cell_type": "code",
   "execution_count": null,
   "metadata": {},
   "outputs": [],
   "source": []
  },
  {
   "cell_type": "code",
   "execution_count": null,
   "metadata": {},
   "outputs": [],
   "source": []
  },
  {
   "cell_type": "code",
   "execution_count": null,
   "metadata": {},
   "outputs": [],
   "source": []
  },
  {
   "cell_type": "code",
   "execution_count": null,
   "metadata": {},
   "outputs": [],
   "source": []
  },
  {
   "cell_type": "code",
   "execution_count": null,
   "metadata": {},
   "outputs": [],
   "source": []
  },
  {
   "cell_type": "code",
   "execution_count": null,
   "metadata": {},
   "outputs": [],
   "source": []
  },
  {
   "cell_type": "code",
   "execution_count": null,
   "metadata": {},
   "outputs": [],
   "source": []
  },
  {
   "cell_type": "code",
   "execution_count": 231,
   "metadata": {},
   "outputs": [],
   "source": [
    "df['DIFF'] = df['PRED_AVG_WD_PICKUPS'] - df['AVG_WD_PICKUPS']"
   ]
  },
  {
   "cell_type": "code",
   "execution_count": 232,
   "metadata": {},
   "outputs": [],
   "source": [
    "df['PDIFF'] = np.where(df['PICKUPS'] == 0, 0, df['DIFF']/df['AVG_WD_PICKUPS'])"
   ]
  },
  {
   "cell_type": "code",
   "execution_count": null,
   "metadata": {},
   "outputs": [],
   "source": []
  },
  {
   "cell_type": "code",
   "execution_count": 233,
   "metadata": {},
   "outputs": [],
   "source": [
    "df['DIFF_SQUARED'] = np.square(df['DIFF'])\n",
    "df['PDIFF_SQUARED'] = np.square(df['PDIFF'])"
   ]
  },
  {
   "cell_type": "code",
   "execution_count": 234,
   "metadata": {},
   "outputs": [],
   "source": [
    "rmse = np.sqrt(df['DIFF_SQUARED'].sum()/len(df))\n",
    "rmspe = np.sqrt(df['PDIFF_SQUARED'].sum()/len(df))"
   ]
  },
  {
   "cell_type": "code",
   "execution_count": 235,
   "metadata": {},
   "outputs": [
    {
     "data": {
      "text/plain": [
       "51.17902892178863"
      ]
     },
     "execution_count": 235,
     "metadata": {},
     "output_type": "execute_result"
    }
   ],
   "source": [
    "rmse"
   ]
  },
  {
   "cell_type": "code",
   "execution_count": null,
   "metadata": {},
   "outputs": [],
   "source": []
  },
  {
   "cell_type": "code",
   "execution_count": 236,
   "metadata": {},
   "outputs": [
    {
     "data": {
      "text/plain": [
       "48.644673113529905"
      ]
     },
     "execution_count": 236,
     "metadata": {},
     "output_type": "execute_result"
    }
   ],
   "source": [
    "df['AVG_WD_PICKUPS'].mean()"
   ]
  },
  {
   "cell_type": "code",
   "execution_count": null,
   "metadata": {},
   "outputs": [],
   "source": []
  },
  {
   "cell_type": "code",
   "execution_count": 237,
   "metadata": {},
   "outputs": [
    {
     "data": {
      "text/plain": [
       "18.716323707774176"
      ]
     },
     "execution_count": 237,
     "metadata": {},
     "output_type": "execute_result"
    }
   ],
   "source": [
    "rmspe"
   ]
  },
  {
   "cell_type": "code",
   "execution_count": 238,
   "metadata": {},
   "outputs": [
    {
     "name": "stdout",
     "output_type": "stream",
     "text": [
      "0.6047754103513243\n",
      "1312.9279251024989\n",
      "48.18981761074205\n"
     ]
    }
   ],
   "source": [
    "print(df['PRED_AVG_WD_PICKUPS'].min())\n",
    "print(df['PRED_AVG_WD_PICKUPS'].max())\n",
    "print(df['PRED_AVG_WD_PICKUPS'].mean())"
   ]
  },
  {
   "cell_type": "code",
   "execution_count": 239,
   "metadata": {},
   "outputs": [
    {
     "name": "stdout",
     "output_type": "stream",
     "text": [
      "0.0\n",
      "1712.35\n",
      "48.644673113529905\n"
     ]
    }
   ],
   "source": [
    "print(df['AVG_WD_PICKUPS'].min())\n",
    "print(df['AVG_WD_PICKUPS'].max())\n",
    "print(df['AVG_WD_PICKUPS'].mean())"
   ]
  },
  {
   "cell_type": "code",
   "execution_count": null,
   "metadata": {},
   "outputs": [],
   "source": []
  },
  {
   "cell_type": "code",
   "execution_count": 185,
   "metadata": {},
   "outputs": [
    {
     "data": {
      "text/plain": [
       "<matplotlib.axes._subplots.AxesSubplot at 0x19af82a8448>"
      ]
     },
     "execution_count": 185,
     "metadata": {},
     "output_type": "execute_result"
    },
    {
     "data": {
      "image/png": "[encoded data removed]",
      "text/plain": [
       "<Figure size 432x288 with 1 Axes>"
      ]
     },
     "metadata": {
      "needs_background": "light"
     },
     "output_type": "display_data"
    }
   ],
   "source": [
    "sns.scatterplot(y = df['DIFF'], x = df.index)"
   ]
  },
  {
   "cell_type": "code",
   "execution_count": 186,
   "metadata": {},
   "outputs": [
    {
     "data": {
      "text/plain": [
       "<seaborn.axisgrid.FacetGrid at 0x19af82a87c8>"
      ]
     },
     "execution_count": 186,
     "metadata": {},
     "output_type": "execute_result"
    },
    {
     "data": {
      "image/png": "[encoded data removed]",
      "text/plain": [
       "<Figure size 360x360 with 1 Axes>"
      ]
     },
     "metadata": {
      "needs_background": "light"
     },
     "output_type": "display_data"
    }
   ],
   "source": [
    "sns.displot(df['DIFF'])"
   ]
  },
  {
   "cell_type": "code",
   "execution_count": 187,
   "metadata": {},
   "outputs": [
    {
     "data": {
      "text/plain": [
       "<seaborn.axisgrid.FacetGrid at 0x19af145ea88>"
      ]
     },
     "execution_count": 187,
     "metadata": {},
     "output_type": "execute_result"
    },
    {
     "data": {
      "image/png": "[encoded data removed]",
      "text/plain": [
       "<Figure size 360x360 with 1 Axes>"
      ]
     },
     "metadata": {
      "needs_background": "light"
     },
     "output_type": "display_data"
    }
   ],
   "source": [
    "sns.displot(df['PRED_AVG_WD_PICKUPS'])"
   ]
  },
  {
   "cell_type": "code",
   "execution_count": 188,
   "metadata": {},
   "outputs": [
    {
     "data": {
      "text/plain": [
       "<seaborn.axisgrid.FacetGrid at 0x19af8310988>"
      ]
     },
     "execution_count": 188,
     "metadata": {},
     "output_type": "execute_result"
    },
    {
     "data": {
      "image/png": "[encoded data removed]",
      "text/plain": [
       "<Figure size 360x360 with 1 Axes>"
      ]
     },
     "metadata": {
      "needs_background": "light"
     },
     "output_type": "display_data"
    }
   ],
   "source": [
    "sns.displot(df['AVG_WD_PICKUPS'])"
   ]
  },
  {
   "cell_type": "code",
   "execution_count": null,
   "metadata": {},
   "outputs": [],
   "source": []
  },
  {
   "cell_type": "code",
   "execution_count": 256,
   "metadata": {},
   "outputs": [],
   "source": [
    "df_map = df[['PICKUPS','PRED_PICKUPS','ORIGIN']].groupby(by = 'ORIGIN', as_index = False).sum()\n"
   ]
  },
  {
   "cell_type": "code",
   "execution_count": null,
   "metadata": {},
   "outputs": [],
   "source": []
  },
  {
   "cell_type": "code",
   "execution_count": 257,
   "metadata": {},
   "outputs": [],
   "source": [
    "df_map['PRED_AVG_WD_PICKUPS'] = df_map['PRED_PICKUPS']/weekday['WEEKDAYS'].sum()\n",
    "df_map['AVG_WD_PICKUPS'] = df_map['PICKUPS']/weekday['WEEKDAYS'].sum()"
   ]
  },
  {
   "cell_type": "code",
   "execution_count": 266,
   "metadata": {},
   "outputs": [],
   "source": [
    "df_map['DIFF'] = df_map['PRED_AVG_WD_PICKUPS'] - df_map['AVG_WD_PICKUPS']\n",
    "df_map['PDIFF'] = np.where(df_map['PICKUPS'] == 0, 0, df_map['DIFF']/df_map['AVG_WD_PICKUPS'])"
   ]
  },
  {
   "cell_type": "code",
   "execution_count": 267,
   "metadata": {
    "scrolled": false
   },
   "outputs": [],
   "source": [
    "geo = gp.read_file('C:/Workspace/TNC-Demand-Model/Inputs/Census Shapefiles/Illinois/Chicago Tracts/geo_export_558aad9f-98d8-4dd5-a6b1-c1730155d596.shp')\n",
    "geo_area = gp.read_file('C:/Workspace/TNC-Demand-Model/Inputs/Census Shapefiles/Illinois/Tracts/tl_2019_17_tract.shp')\n"
   ]
  },
  {
   "cell_type": "code",
   "execution_count": 268,
   "metadata": {},
   "outputs": [],
   "source": [
    "geo_area['SQUARE_MILES_LAND'] = geo_area['ALAND']*3.86102e-7\n",
    "geo_area['GEOID'] = geo_area.GEOID.astype(float)"
   ]
  },
  {
   "cell_type": "code",
   "execution_count": 269,
   "metadata": {},
   "outputs": [],
   "source": [
    "geo['geoid10'] = geo.geoid10.astype(float)"
   ]
  },
  {
   "cell_type": "code",
   "execution_count": 270,
   "metadata": {},
   "outputs": [
    {
     "name": "stderr",
     "output_type": "stream",
     "text": [
      "C:\\Users\\ramu225\\Anaconda3\\lib\\site-packages\\folium\\folium.py:415: FutureWarning: The choropleth  method has been deprecated. Instead use the new Choropleth class, which has the same arguments. See the example notebook 'GeoJSON_and_choropleth' for how to do this.\n",
      "  FutureWarning\n"
     ]
    }
   ],
   "source": [
    "# Initialize the map: \n",
    "m = folium.Map([41.8781, -87.6298], zoom_start=11)\n",
    "\n",
    "\n",
    "m = folium.Map([41.8781, -87.6298], zoom_start=11)\n",
    "\n",
    "\n",
    "#rh_tod_tract = rh_tod_tract.groupby(by = ['Pickup Census Tract','Dropoff Census Tract'], as_index = False).sum()\n",
    "\n",
    "# bins = np.quantile(rh_tod_tract['TOTAL_TRIPS'], [0, 0.25, 0.5, 0.75, 0.98, 1])\n",
    "\n",
    "# Add the color for the chloropleth:\n",
    "m.choropleth(\n",
    " geo_data=geo,\n",
    " name= 'TOD 1 Trip Generation Model Accuracy',\n",
    " data=df_map,\n",
    " columns = ['ORIGIN', 'AVG_WD_PICKUPS'],\n",
    " key_on='feature.properties.geoid10',\n",
    " fill_color='RdPu',\n",
    " fill_opacity=0.6,\n",
    " line_opacity=0.2,\n",
    " legend_name='Observed Pickups',\n",
    " highlight = True\n",
    ")\n",
    "\n",
    "folium.LayerControl().add_to(m)\n",
    "\n",
    "m.save('C:/Workspace/TNC-Demand-Model/Data Exploration/Trip Generation Maps/Negative Binomial/' + 'TOD_1_Observed_Pickups.html')\n",
    "\n"
   ]
  },
  {
   "cell_type": "code",
   "execution_count": 271,
   "metadata": {},
   "outputs": [],
   "source": [
    "# Initialize the map: \n",
    "m = folium.Map([41.8781, -87.6298], zoom_start=11)\n",
    "\n",
    "\n",
    "m = folium.Map([41.8781, -87.6298], zoom_start=11)\n",
    "\n",
    "\n",
    "#rh_tod_tract = rh_tod_tract.groupby(by = ['Pickup Census Tract','Dropoff Census Tract'], as_index = False).sum()\n",
    "\n",
    "# bins = np.quantile(rh_tod_tract['TOTAL_TRIPS'], [0, 0.25, 0.5, 0.75, 0.98, 1])\n",
    "\n",
    "# Add the color for the chloropleth:\n",
    "m.choropleth(\n",
    " geo_data=geo,\n",
    " name= 'TOD 1 Trip Generation Model Accuracy',\n",
    " data=df_map,\n",
    " columns = ['ORIGIN', 'PRED_AVG_WD_PICKUPS'],\n",
    " key_on='feature.properties.geoid10',\n",
    " fill_color='RdPu',\n",
    " fill_opacity=0.6,\n",
    " line_opacity=0.2,\n",
    " legend_name='Predicted Pickups',\n",
    " highlight = True\n",
    ")\n",
    "\n",
    "folium.LayerControl().add_to(m)\n",
    "\n",
    "m.save('C:/Workspace/TNC-Demand-Model/Data Exploration/Trip Generation Maps/Negative Binomial/' + 'TOD_1_Predicted_Pickups.html')\n",
    "\n"
   ]
  },
  {
   "cell_type": "code",
   "execution_count": 272,
   "metadata": {},
   "outputs": [],
   "source": [
    "# Initialize the map: \n",
    "m = folium.Map([41.8781, -87.6298], zoom_start=11)\n",
    "\n",
    "\n",
    "m = folium.Map([41.8781, -87.6298], zoom_start=11)\n",
    "\n",
    "\n",
    "#rh_tod_tract = rh_tod_tract.groupby(by = ['Pickup Census Tract','Dropoff Census Tract'], as_index = False).sum()\n",
    "\n",
    "bins = [-2000,-1000,-150, 150, 1000, 2000]\n",
    "\n",
    "# Add the color for the chloropleth:\n",
    "m.choropleth(\n",
    " geo_data=geo,\n",
    " name= 'TOD 1 Trip Generation Model Accuracy',\n",
    " data=df_map,\n",
    " columns = ['ORIGIN', 'DIFF'],\n",
    " key_on='feature.properties.geoid10',\n",
    " fill_color='RdYlGn',\n",
    " fill_opacity=0.6,\n",
    " line_opacity=0.2,\n",
    " bins = bins,\n",
    " legend_name='Difference Pickups',\n",
    " highlight = True\n",
    ")\n",
    "\n",
    "folium.LayerControl().add_to(m)\n",
    "\n",
    "m.save('C:/Workspace/TNC-Demand-Model/Data Exploration/Trip Generation Maps/Negative Binomial/' + 'TOD_1_Pickups_Diff.html')\n",
    "\n"
   ]
  },
  {
   "cell_type": "code",
   "execution_count": 273,
   "metadata": {},
   "outputs": [],
   "source": [
    "# Initialize the map: \n",
    "m = folium.Map([41.8781, -87.6298], zoom_start=11)\n",
    "\n",
    "\n",
    "m = folium.Map([41.8781, -87.6298], zoom_start=11)\n",
    "\n",
    "\n",
    "#rh_tod_tract = rh_tod_tract.groupby(by = ['Pickup Census Tract','Dropoff Census Tract'], as_index = False).sum()\n",
    "\n",
    "\n",
    "# Add the color for the chloropleth:\n",
    "m.choropleth(\n",
    " geo_data=geo,\n",
    " name= 'TOD 1 Trip Generation Model Accuracy',\n",
    " data=df_map,\n",
    " columns = ['ORIGIN', 'PDIFF'],\n",
    " key_on='feature.properties.geoid10',\n",
    " fill_color='RdYlGn',\n",
    " fill_opacity=0.6,\n",
    " line_opacity=0.2,\n",
    " legend_name='Percent Difference Pickups',\n",
    " highlight = True\n",
    ")\n",
    "\n",
    "folium.LayerControl().add_to(m)\n",
    "\n",
    "m.save('C:/Workspace/TNC-Demand-Model/Data Exploration/Trip Generation Maps/Negative Binomial/' + 'TOD_1_Pickups_PDiff.html')\n",
    "\n"
   ]
  },
  {
   "cell_type": "markdown",
   "metadata": {},
   "source": [
    "# TOD 2"
   ]
  },
  {
   "cell_type": "code",
   "execution_count": 259,
   "metadata": {},
   "outputs": [],
   "source": [
    "df = pd.read_csv('C:/Workspace/TNC-Demand-Model/Outputs/Trip_Generation_Origin_Estimation_File_TOD_2.csv', index_col = 0)"
   ]
  },
  {
   "cell_type": "code",
   "execution_count": 260,
   "metadata": {},
   "outputs": [
    {
     "data": {
      "text/plain": [
       "964.978620474407"
      ]
     },
     "execution_count": 260,
     "metadata": {},
     "output_type": "execute_result"
    }
   ],
   "source": [
    "df.PICKUPS.mean()"
   ]
  },
  {
   "cell_type": "code",
   "execution_count": null,
   "metadata": {},
   "outputs": [],
   "source": []
  },
  {
   "cell_type": "code",
   "execution_count": 261,
   "metadata": {},
   "outputs": [],
   "source": [
    "df['LINEAR_PICKUPS'] = 0.0001156*df['OTHER_EMP'] + 0.0509726*df['FOOD_EMP'] + 0.0151049*df['RETAIL_EMP'] + 303.9129*df['AIR_F'] + 52.46831*df['TOR_F'] + 0.374746*df['HI_INC_0'] + 0.018173*df['LOW_INC_0'] + 0.018833*df['LOW_INC_1P'] + 0.0000136*df['HI_INC_1P'] \n",
    "\n",
    "#see 3 step demand overview excel file for model structure used in first run\n",
    "\n",
    "df['LINEAR_PICKUPS_LOG'] =  np.where(df['LINEAR_PICKUPS'] == 0, 0, np.log(df['LINEAR_PICKUPS']))\n",
    "\n",
    "#df['LINEAR_PICKUPS_LOG'] = np.where(df['LINEAR_PICKUPS'] ==0, 0, np.log(df['LINEAR_PICKUPS']))\n",
    "df.to_csv('C:/Workspace/TNC-Demand-Model/Outputs/NB_Estimation_File_TOD_2.csv')"
   ]
  },
  {
   "cell_type": "code",
   "execution_count": null,
   "metadata": {},
   "outputs": [],
   "source": []
  },
  {
   "cell_type": "code",
   "execution_count": 274,
   "metadata": {},
   "outputs": [],
   "source": [
    "df = pd.read_csv('C:/Workspace/TNC-Demand-Model/Outputs/NB_Estimation_File_TOD_2.csv')"
   ]
  },
  {
   "cell_type": "code",
   "execution_count": 275,
   "metadata": {},
   "outputs": [],
   "source": [
    "df['PRED_AVG_WD_PICKUPS'] = np.exp(0.4824445*df['LINEAR_PICKUPS_LOG'] + 0.7606834*df['LOGSUM'] - 0.021577*df['MEDIAN_AGE'] + 0.010126*df['P_BACH_25P'] + 0.0457553*df['JAN'] + 0.1857645*df['FEB'] + 0.1195655*df['MAR'] + 0.0221739*df['APR'] - 0.0006454*df['MAY'] - 0.0268051*df['JUN'] - 0.0794999*df['JUL'] - 0.0569805*df['AUG'] + 0.0669536*df['SEP'] - 0.0094032*df['OCT'] + 0.0161226*df['NOV'] - 0.3938846)\n"
   ]
  },
  {
   "cell_type": "code",
   "execution_count": 276,
   "metadata": {},
   "outputs": [
    {
     "data": {
      "text/plain": [
       "(0, 1200)"
      ]
     },
     "execution_count": 276,
     "metadata": {},
     "output_type": "execute_result"
    },
    {
     "data": {
      "image/png": "[encoded data removed]",
      "text/plain": [
       "<Figure size 432x288 with 1 Axes>"
      ]
     },
     "metadata": {
      "needs_background": "light"
     },
     "output_type": "display_data"
    }
   ],
   "source": [
    "sns.scatterplot(y = df['PRED_AVG_WD_PICKUPS'], x = df['AVG_WD_PICKUPS'])\n",
    "plt.ylim(0,1200)\n",
    "plt.xlim(0,1200)"
   ]
  },
  {
   "cell_type": "code",
   "execution_count": null,
   "metadata": {},
   "outputs": [],
   "source": []
  },
  {
   "cell_type": "code",
   "execution_count": null,
   "metadata": {},
   "outputs": [],
   "source": []
  },
  {
   "cell_type": "code",
   "execution_count": null,
   "metadata": {},
   "outputs": [],
   "source": []
  },
  {
   "cell_type": "code",
   "execution_count": 279,
   "metadata": {},
   "outputs": [],
   "source": [
    "df['DIFF'] = df['PRED_AVG_WD_PICKUPS'] - df['AVG_WD_PICKUPS']"
   ]
  },
  {
   "cell_type": "code",
   "execution_count": 280,
   "metadata": {},
   "outputs": [],
   "source": [
    "df['PDIFF'] = np.where(df['PICKUPS'] == 0, 0, df['DIFF']/df['AVG_WD_PICKUPS'])"
   ]
  },
  {
   "cell_type": "code",
   "execution_count": 281,
   "metadata": {},
   "outputs": [
    {
     "data": {
      "text/plain": [
       "<seaborn.axisgrid.FacetGrid at 0x19a80ceb708>"
      ]
     },
     "execution_count": 281,
     "metadata": {},
     "output_type": "execute_result"
    },
    {
     "data": {
      "image/png": "[encoded data removed]",
      "text/plain": [
       "<Figure size 360x360 with 1 Axes>"
      ]
     },
     "metadata": {
      "needs_background": "light"
     },
     "output_type": "display_data"
    }
   ],
   "source": [
    "sns.displot(df['DIFF'])"
   ]
  },
  {
   "cell_type": "code",
   "execution_count": 282,
   "metadata": {},
   "outputs": [
    {
     "data": {
      "text/plain": [
       "<matplotlib.axes._subplots.AxesSubplot at 0x19af88e1508>"
      ]
     },
     "execution_count": 282,
     "metadata": {},
     "output_type": "execute_result"
    },
    {
     "data": {
      "image/png": "[encoded data removed]",
      "text/plain": [
       "<Figure size 432x288 with 1 Axes>"
      ]
     },
     "metadata": {
      "needs_background": "light"
     },
     "output_type": "display_data"
    }
   ],
   "source": [
    "sns.scatterplot(y = df['DIFF'], x = df.index)"
   ]
  },
  {
   "cell_type": "code",
   "execution_count": 283,
   "metadata": {},
   "outputs": [],
   "source": [
    "df['DIFF_SQUARED'] = np.square(df['DIFF'])\n",
    "df['PDIFF_SQUARED'] = np.square(df['PDIFF'])"
   ]
  },
  {
   "cell_type": "code",
   "execution_count": 284,
   "metadata": {},
   "outputs": [],
   "source": [
    "rmse = np.sqrt(df['DIFF_SQUARED'].sum()/len(df))\n",
    "rmspe = np.sqrt(df['PDIFF_SQUARED'].sum()/len(df))"
   ]
  },
  {
   "cell_type": "code",
   "execution_count": 285,
   "metadata": {},
   "outputs": [
    {
     "data": {
      "text/plain": [
       "34.95301471948269"
      ]
     },
     "execution_count": 285,
     "metadata": {},
     "output_type": "execute_result"
    }
   ],
   "source": [
    "rmse"
   ]
  },
  {
   "cell_type": "code",
   "execution_count": 286,
   "metadata": {},
   "outputs": [
    {
     "data": {
      "text/plain": [
       "44.556443224084944"
      ]
     },
     "execution_count": 286,
     "metadata": {},
     "output_type": "execute_result"
    }
   ],
   "source": [
    "df['AVG_WD_PICKUPS'].mean()"
   ]
  },
  {
   "cell_type": "code",
   "execution_count": 287,
   "metadata": {},
   "outputs": [
    {
     "data": {
      "text/plain": [
       "8.004531036577063"
      ]
     },
     "execution_count": 287,
     "metadata": {},
     "output_type": "execute_result"
    }
   ],
   "source": [
    "rmspe"
   ]
  },
  {
   "cell_type": "code",
   "execution_count": 289,
   "metadata": {},
   "outputs": [
    {
     "name": "stdout",
     "output_type": "stream",
     "text": [
      "0.7509622735247129\n",
      "1061.5065922150843\n",
      "47.03095117900613\n",
      "0.0\n",
      "928.55\n",
      "44.556443224084944\n"
     ]
    }
   ],
   "source": [
    "print(df['PRED_AVG_WD_PICKUPS'].min())\n",
    "print(df['PRED_AVG_WD_PICKUPS'].max())\n",
    "print(df['PRED_AVG_WD_PICKUPS'].mean())\n",
    "\n",
    "print(df['AVG_WD_PICKUPS'].min())\n",
    "print(df['AVG_WD_PICKUPS'].max())\n",
    "print(df['AVG_WD_PICKUPS'].mean())"
   ]
  },
  {
   "cell_type": "code",
   "execution_count": null,
   "metadata": {},
   "outputs": [],
   "source": []
  },
  {
   "cell_type": "code",
   "execution_count": 290,
   "metadata": {},
   "outputs": [
    {
     "data": {
      "text/plain": [
       "<seaborn.axisgrid.FacetGrid at 0x19af9e149c8>"
      ]
     },
     "execution_count": 290,
     "metadata": {},
     "output_type": "execute_result"
    },
    {
     "data": {
      "image/png": "[encoded data removed]",
      "text/plain": [
       "<Figure size 360x360 with 1 Axes>"
      ]
     },
     "metadata": {
      "needs_background": "light"
     },
     "output_type": "display_data"
    }
   ],
   "source": [
    "sns.displot(df['PRED_AVG_WD_PICKUPS'])"
   ]
  },
  {
   "cell_type": "code",
   "execution_count": 291,
   "metadata": {},
   "outputs": [
    {
     "data": {
      "text/plain": [
       "<seaborn.axisgrid.FacetGrid at 0x19afa233cc8>"
      ]
     },
     "execution_count": 291,
     "metadata": {},
     "output_type": "execute_result"
    },
    {
     "data": {
      "image/png": "[encoded data removed]",
      "text/plain": [
       "<Figure size 360x360 with 1 Axes>"
      ]
     },
     "metadata": {
      "needs_background": "light"
     },
     "output_type": "display_data"
    }
   ],
   "source": [
    "sns.displot(df['AVG_WD_PICKUPS'])"
   ]
  },
  {
   "cell_type": "code",
   "execution_count": 298,
   "metadata": {},
   "outputs": [
    {
     "data": {
      "text/html": [
       "<div>\n",
       "<style scoped>\n",
       "    .dataframe tbody tr th:only-of-type {\n",
       "        vertical-align: middle;\n",
       "    }\n",
       "\n",
       "    .dataframe tbody tr th {\n",
       "        vertical-align: top;\n",
       "    }\n",
       "\n",
       "    .dataframe thead th {\n",
       "        text-align: right;\n",
       "    }\n",
       "</style>\n",
       "<table border=\"1\" class=\"dataframe\">\n",
       "  <thead>\n",
       "    <tr style=\"text-align: right;\">\n",
       "      <th></th>\n",
       "      <th>YEAR</th>\n",
       "      <th>MONTH</th>\n",
       "      <th>AVG_WD_PICKUPS</th>\n",
       "      <th>PRED_AVG_WD_PICKUPS</th>\n",
       "    </tr>\n",
       "  </thead>\n",
       "  <tbody>\n",
       "    <tr>\n",
       "      <th>0</th>\n",
       "      <td>2019</td>\n",
       "      <td>1</td>\n",
       "      <td>35917.739130</td>\n",
       "      <td>40676.353540</td>\n",
       "    </tr>\n",
       "    <tr>\n",
       "      <th>1</th>\n",
       "      <td>2020</td>\n",
       "      <td>1</td>\n",
       "      <td>34788.130435</td>\n",
       "      <td>34505.308417</td>\n",
       "    </tr>\n",
       "    <tr>\n",
       "      <th>2</th>\n",
       "      <td>2019</td>\n",
       "      <td>2</td>\n",
       "      <td>40885.350000</td>\n",
       "      <td>46651.911932</td>\n",
       "    </tr>\n",
       "    <tr>\n",
       "      <th>3</th>\n",
       "      <td>2020</td>\n",
       "      <td>2</td>\n",
       "      <td>38383.400000</td>\n",
       "      <td>38089.279649</td>\n",
       "    </tr>\n",
       "    <tr>\n",
       "      <th>4</th>\n",
       "      <td>2019</td>\n",
       "      <td>3</td>\n",
       "      <td>41834.714286</td>\n",
       "      <td>45675.595461</td>\n",
       "    </tr>\n",
       "    <tr>\n",
       "      <th>5</th>\n",
       "      <td>2019</td>\n",
       "      <td>4</td>\n",
       "      <td>38408.318182</td>\n",
       "      <td>40367.024908</td>\n",
       "    </tr>\n",
       "    <tr>\n",
       "      <th>6</th>\n",
       "      <td>2019</td>\n",
       "      <td>5</td>\n",
       "      <td>36517.217391</td>\n",
       "      <td>39168.432011</td>\n",
       "    </tr>\n",
       "    <tr>\n",
       "      <th>7</th>\n",
       "      <td>2019</td>\n",
       "      <td>6</td>\n",
       "      <td>34556.450000</td>\n",
       "      <td>34591.985256</td>\n",
       "    </tr>\n",
       "    <tr>\n",
       "      <th>8</th>\n",
       "      <td>2019</td>\n",
       "      <td>7</td>\n",
       "      <td>31955.608696</td>\n",
       "      <td>32800.614904</td>\n",
       "    </tr>\n",
       "    <tr>\n",
       "      <th>9</th>\n",
       "      <td>2019</td>\n",
       "      <td>8</td>\n",
       "      <td>33391.636364</td>\n",
       "      <td>34181.119253</td>\n",
       "    </tr>\n",
       "    <tr>\n",
       "      <th>10</th>\n",
       "      <td>2019</td>\n",
       "      <td>9</td>\n",
       "      <td>34414.000000</td>\n",
       "      <td>36430.657412</td>\n",
       "    </tr>\n",
       "    <tr>\n",
       "      <th>11</th>\n",
       "      <td>2019</td>\n",
       "      <td>10</td>\n",
       "      <td>36057.043478</td>\n",
       "      <td>37051.319715</td>\n",
       "    </tr>\n",
       "    <tr>\n",
       "      <th>12</th>\n",
       "      <td>2018</td>\n",
       "      <td>11</td>\n",
       "      <td>34680.590909</td>\n",
       "      <td>37675.886356</td>\n",
       "    </tr>\n",
       "    <tr>\n",
       "      <th>13</th>\n",
       "      <td>2019</td>\n",
       "      <td>11</td>\n",
       "      <td>35693.476190</td>\n",
       "      <td>36355.456755</td>\n",
       "    </tr>\n",
       "    <tr>\n",
       "      <th>14</th>\n",
       "      <td>2018</td>\n",
       "      <td>12</td>\n",
       "      <td>31255.428571</td>\n",
       "      <td>33573.574524</td>\n",
       "    </tr>\n",
       "    <tr>\n",
       "      <th>15</th>\n",
       "      <td>2019</td>\n",
       "      <td>12</td>\n",
       "      <td>32296.272727</td>\n",
       "      <td>34556.011388</td>\n",
       "    </tr>\n",
       "  </tbody>\n",
       "</table>\n",
       "</div>"
      ],
      "text/plain": [
       "    YEAR  MONTH  AVG_WD_PICKUPS  PRED_AVG_WD_PICKUPS\n",
       "0   2019      1    35917.739130         40676.353540\n",
       "1   2020      1    34788.130435         34505.308417\n",
       "2   2019      2    40885.350000         46651.911932\n",
       "3   2020      2    38383.400000         38089.279649\n",
       "4   2019      3    41834.714286         45675.595461\n",
       "5   2019      4    38408.318182         40367.024908\n",
       "6   2019      5    36517.217391         39168.432011\n",
       "7   2019      6    34556.450000         34591.985256\n",
       "8   2019      7    31955.608696         32800.614904\n",
       "9   2019      8    33391.636364         34181.119253\n",
       "10  2019      9    34414.000000         36430.657412\n",
       "11  2019     10    36057.043478         37051.319715\n",
       "12  2018     11    34680.590909         37675.886356\n",
       "13  2019     11    35693.476190         36355.456755\n",
       "14  2018     12    31255.428571         33573.574524\n",
       "15  2019     12    32296.272727         34556.011388"
      ]
     },
     "execution_count": 298,
     "metadata": {},
     "output_type": "execute_result"
    }
   ],
   "source": [
    "df['PRED_PICKUPS'] = df['PRED_AVG_WD_PICKUPS']*df['WEEKDAYS']\n",
    "\n",
    "df_sum = df[['MONTH','YEAR','PRED_PICKUPS','PICKUPS','WEEKDAYS']].groupby(by = ['MONTH','YEAR'], as_index = False).agg(agg)\n",
    "\n",
    "df_sum['AVG_WD_PICKUPS'] = df_sum['PICKUPS']/df_sum['WEEKDAYS']\n",
    "df_sum['PRED_AVG_WD_PICKUPS'] = df_sum['PRED_PICKUPS']/df_sum['WEEKDAYS']\n",
    "\n",
    "df_sum[['YEAR','MONTH','AVG_WD_PICKUPS','PRED_AVG_WD_PICKUPS']]"
   ]
  },
  {
   "cell_type": "code",
   "execution_count": 293,
   "metadata": {},
   "outputs": [],
   "source": [
    "df_map = df[['PICKUPS','PRED_PICKUPS','ORIGIN']].groupby(by = 'ORIGIN', as_index = False).sum()\n",
    "df_map['PRED_AVG_WD_PICKUPS'] = df_map['PRED_PICKUPS']/weekday['WEEKDAYS'].sum()\n",
    "df_map['AVG_WD_PICKUPS'] = df_map['PICKUPS']/weekday['WEEKDAYS'].sum()\n",
    "\n",
    "df_map['DIFF'] = df_map['PRED_AVG_WD_PICKUPS'] - df_map['AVG_WD_PICKUPS']\n",
    "df_map['PDIFF'] = np.where(df_map['PICKUPS'] == 0, 0, df_map['DIFF']/df_map['AVG_WD_PICKUPS'])"
   ]
  },
  {
   "cell_type": "code",
   "execution_count": 522,
   "metadata": {},
   "outputs": [],
   "source": []
  },
  {
   "cell_type": "code",
   "execution_count": 294,
   "metadata": {},
   "outputs": [
    {
     "name": "stderr",
     "output_type": "stream",
     "text": [
      "C:\\Users\\ramu225\\Anaconda3\\lib\\site-packages\\folium\\folium.py:415: FutureWarning: The choropleth  method has been deprecated. Instead use the new Choropleth class, which has the same arguments. See the example notebook 'GeoJSON_and_choropleth' for how to do this.\n",
      "  FutureWarning\n"
     ]
    }
   ],
   "source": [
    "# Initialize the map: \n",
    "m = folium.Map([41.8781, -87.6298], zoom_start=11)\n",
    "\n",
    "\n",
    "m = folium.Map([41.8781, -87.6298], zoom_start=11)\n",
    "\n",
    "\n",
    "#rh_tod_tract = rh_tod_tract.groupby(by = ['Pickup Census Tract','Dropoff Census Tract'], as_index = False).sum()\n",
    "\n",
    "# bins = np.quantile(rh_tod_tract['TOTAL_TRIPS'], [0, 0.25, 0.5, 0.75, 0.98, 1])\n",
    "\n",
    "# Add the color for the chloropleth:\n",
    "m.choropleth(\n",
    " geo_data=geo,\n",
    " name= 'TOD 2 Trip Generation Model Accuracy',\n",
    " data=df_map,\n",
    " columns = ['ORIGIN', 'AVG_WD_PICKUPS'],\n",
    " key_on='feature.properties.geoid10',\n",
    " fill_color='RdPu',\n",
    " fill_opacity=0.6,\n",
    " line_opacity=0.2,\n",
    " legend_name='Observed Pickups',\n",
    " highlight = True\n",
    ")\n",
    "\n",
    "folium.LayerControl().add_to(m)\n",
    "\n",
    "m.save('C:/Workspace/TNC-Demand-Model/Data Exploration/Trip Generation Maps/Negative Binomial/' + 'TOD_2_Observed_Pickups.html')\n",
    "\n"
   ]
  },
  {
   "cell_type": "code",
   "execution_count": 295,
   "metadata": {},
   "outputs": [],
   "source": [
    "# Initialize the map: \n",
    "m = folium.Map([41.8781, -87.6298], zoom_start=11)\n",
    "\n",
    "\n",
    "m = folium.Map([41.8781, -87.6298], zoom_start=11)\n",
    "\n",
    "\n",
    "#rh_tod_tract = rh_tod_tract.groupby(by = ['Pickup Census Tract','Dropoff Census Tract'], as_index = False).sum()\n",
    "\n",
    "# bins = np.quantile(rh_tod_tract['TOTAL_TRIPS'], [0, 0.25, 0.5, 0.75, 0.98, 1])\n",
    "\n",
    "# Add the color for the chloropleth:\n",
    "m.choropleth(\n",
    " geo_data=geo,\n",
    " name= 'TOD 2 Trip Generation Model Accuracy',\n",
    " data=df_map,\n",
    " columns = ['ORIGIN', 'PRED_PICKUPS'],\n",
    " key_on='feature.properties.geoid10',\n",
    " fill_color='RdPu',\n",
    " fill_opacity=0.6,\n",
    " line_opacity=0.2,\n",
    " legend_name='Predicted Pickups',\n",
    " highlight = True\n",
    ")\n",
    "\n",
    "folium.LayerControl().add_to(m)\n",
    "\n",
    "m.save('C:/Workspace/TNC-Demand-Model/Data Exploration/Trip Generation Maps/Negative Binomial/' + 'TOD_2_Predicted_Pickups.html')\n",
    "\n"
   ]
  },
  {
   "cell_type": "code",
   "execution_count": 296,
   "metadata": {},
   "outputs": [],
   "source": [
    "# Initialize the map: \n",
    "m = folium.Map([41.8781, -87.6298], zoom_start=11)\n",
    "\n",
    "\n",
    "m = folium.Map([41.8781, -87.6298], zoom_start=11)\n",
    "\n",
    "\n",
    "#rh_tod_tract = rh_tod_tract.groupby(by = ['Pickup Census Tract','Dropoff Census Tract'], as_index = False).sum()\n",
    "\n",
    "bins = [-2000,-1000,-150, 150, 1000, 2000]\n",
    "\n",
    "# Add the color for the chloropleth:\n",
    "m.choropleth(\n",
    " geo_data=geo,\n",
    " name= 'TOD 2 Trip Generation Model Accuracy',\n",
    " data=df_map,\n",
    " columns = ['ORIGIN', 'DIFF'],\n",
    " key_on='feature.properties.geoid10',\n",
    " fill_color='RdYlGn',\n",
    " fill_opacity=0.6,\n",
    " line_opacity=0.2,\n",
    " bins = bins,\n",
    " legend_name='Diff Pickups',\n",
    " highlight = True\n",
    ")\n",
    "\n",
    "folium.LayerControl().add_to(m)\n",
    "\n",
    "m.save('C:/Workspace/TNC-Demand-Model/Data Exploration/Trip Generation Maps/Negative Binomial/' + 'TOD_2_Pickups_Diff.html')\n",
    "\n"
   ]
  },
  {
   "cell_type": "code",
   "execution_count": 297,
   "metadata": {},
   "outputs": [],
   "source": [
    "# Initialize the map: \n",
    "m = folium.Map([41.8781, -87.6298], zoom_start=11)\n",
    "\n",
    "\n",
    "m = folium.Map([41.8781, -87.6298], zoom_start=11)\n",
    "\n",
    "\n",
    "#rh_tod_tract = rh_tod_tract.groupby(by = ['Pickup Census Tract','Dropoff Census Tract'], as_index = False).sum()\n",
    "\n",
    "# bins = np.quantile(rh_tod_tract['TOTAL_TRIPS'], [0, 0.25, 0.5, 0.75, 0.98, 1])\n",
    "\n",
    "# Add the color for the chloropleth:\n",
    "m.choropleth(\n",
    " geo_data=geo,\n",
    " name= 'TOD 2 Trip Generation Model Accuracy',\n",
    " data=df_map,\n",
    " columns = ['ORIGIN', 'PDIFF'],\n",
    " key_on='feature.properties.geoid10',\n",
    " fill_color='RdYlGn',\n",
    " fill_opacity=0.6,\n",
    " line_opacity=0.2,\n",
    " legend_name='PDiff Pickups',\n",
    " highlight = True\n",
    ")\n",
    "\n",
    "folium.LayerControl().add_to(m)\n",
    "\n",
    "m.save('C:/Workspace/TNC-Demand-Model/Data Exploration/Trip Generation Maps/Negative Binomial/' + 'TOD_2_Pickups_PDiff.html')\n",
    "\n"
   ]
  },
  {
   "cell_type": "markdown",
   "metadata": {},
   "source": [
    "# TOD 3"
   ]
  },
  {
   "cell_type": "code",
   "execution_count": 8,
   "metadata": {},
   "outputs": [],
   "source": [
    "df = pd.read_csv('C:/Workspace/TNC-Demand-Model/Outputs/Trip_Generation_Origin_Estimation_File_TOD_3.csv', index_col = 0)"
   ]
  },
  {
   "cell_type": "code",
   "execution_count": 9,
   "metadata": {},
   "outputs": [],
   "source": [
    "#this is the loaded linear model\n",
    "#df['PRED_PICKUPS'] =   0.0025402*df['RETAIL_EMP'] + 0.0003377*df['OTHER_EMP'] + 0.0059501*df['FOOD_EMP'] + 33.95869*df['AIR_F'] + 0.0251969*df['P_BACH_25P'] + 0.9111712*df['LOGSUM'] + 0.020763*df['HI_INC_0'] + 0.00000151*df['HI_INC_1P']  + 0.000267*df['LOW_INC_0'] + 0.0008826*df['LOW_INC_1P'] - 0.0870196*df['MEDIAN_AGE']"
   ]
  },
  {
   "cell_type": "code",
   "execution_count": 10,
   "metadata": {},
   "outputs": [],
   "source": [
    "df['LINEAR_PICKUPS'] = 0.1637035*df['FOOD_EMP'] + 0.0620068*df['RETAIL_EMP'] + 0.0078986*df['OTHER_EMP'] + 1811.965*df['AIR_F'] + 169.3497*df['TOR_F'] + 0.6083087*df['HI_INC_0'] + 0.0296192*df['LOW_INC_0'] + 0.0251075*df['LOW_INC_1P'] + 0.0000241*df['HI_INC_1P'] \n",
    "df['LINEAR_PICKUPS_LOG'] =  np.where(df['LINEAR_PICKUPS'] == 0, 0, np.log(df['LINEAR_PICKUPS']))\n",
    "\n",
    "df.to_csv('C:/Workspace/TNC-Demand-Model/Outputs/NB_Estimation_File_TOD_3.csv')"
   ]
  },
  {
   "cell_type": "code",
   "execution_count": 299,
   "metadata": {},
   "outputs": [],
   "source": [
    "df = pd.read_csv('C:/Workspace/TNC-Demand-Model/Outputs/NB_Estimation_File_TOD_3.csv', index_col = 0)"
   ]
  },
  {
   "cell_type": "code",
   "execution_count": 300,
   "metadata": {},
   "outputs": [],
   "source": [
    "#df['PRED_AVG_WD_PICKUPS'] = np.exp(0.5122763*df['LINEAR_PICKUPS_LOG'] + 0.8801842*df['LOGSUM'] - 0.0141616*df['MEDIAN_AGE'] + 0.0055757*df['P_BACH_25P'] + 0.0128257*df['JAN'] + 0.1752346*df['FEB'] + 0.0988937*df['MAR'] + 0.0011428*df['APR'] - 0.0499559*df['MAY'] + 0.0186228*df['JUN'] - 0.0534393*df['JUL'] - 0.00534393*df['AUG'] + 0.0028699*df['SEP'] - 0.0732728*df['OCT'] - 0.0124023*df['NOV'] - 1.400684)"
   ]
  },
  {
   "cell_type": "code",
   "execution_count": 301,
   "metadata": {},
   "outputs": [],
   "source": [
    "#try adding in an emp density variable\n",
    "df['PRED_AVG_WD_PICKUPS'] = np.exp(0.5081466*df['LINEAR_PICKUPS_LOG'] + 0.8786282*df['LOGSUM'] - 0.0170704*df['MEDIAN_AGE'] + 0.0055766*df['P_BACH_25P'] + 0.000000282*df['TOTAL_EMP_DEN'] + 0.012884*df['JAN'] + 0.1752346*df['FEB'] + 0.0990773*df['MAR'] + 0.0013584*df['APR'] - 0.0497147*df['MAY'] + 0.018631*df['JUN'] - 0.0532932*df['JUL'] - 0.0058279*df['AUG'] + 0.0028089*df['SEP'] - 0.0731326*df['OCT'] - 0.0123096*df['NOV'] - 1.383358)"
   ]
  },
  {
   "cell_type": "code",
   "execution_count": 302,
   "metadata": {},
   "outputs": [],
   "source": [
    "df['DIFF'] = df['PRED_AVG_WD_PICKUPS'] - df['AVG_WD_PICKUPS']"
   ]
  },
  {
   "cell_type": "code",
   "execution_count": 303,
   "metadata": {},
   "outputs": [],
   "source": [
    "df['PDIFF'] = np.where(df['PICKUPS'] == 0, 0, df['DIFF']/df['AVG_WD_PICKUPS'])"
   ]
  },
  {
   "cell_type": "code",
   "execution_count": 304,
   "metadata": {},
   "outputs": [],
   "source": [
    "df['DIFF_SQUARED'] = np.square(df['DIFF'])\n",
    "df['PDIFF_SQUARED'] = np.square(df['PDIFF'])"
   ]
  },
  {
   "cell_type": "code",
   "execution_count": 305,
   "metadata": {},
   "outputs": [],
   "source": [
    "rmse = np.sqrt(df['DIFF_SQUARED'].sum()/len(df))\n",
    "rmspe = np.sqrt(df['PDIFF_SQUARED'].sum()/len(df))"
   ]
  },
  {
   "cell_type": "code",
   "execution_count": 306,
   "metadata": {},
   "outputs": [
    {
     "data": {
      "text/plain": [
       "91.60098725588561"
      ]
     },
     "execution_count": 306,
     "metadata": {},
     "output_type": "execute_result"
    }
   ],
   "source": [
    "rmse"
   ]
  },
  {
   "cell_type": "code",
   "execution_count": 307,
   "metadata": {},
   "outputs": [
    {
     "data": {
      "text/plain": [
       "102.59165041498328"
      ]
     },
     "execution_count": 307,
     "metadata": {},
     "output_type": "execute_result"
    }
   ],
   "source": [
    "df['AVG_WD_PICKUPS'].mean()"
   ]
  },
  {
   "cell_type": "code",
   "execution_count": 308,
   "metadata": {},
   "outputs": [
    {
     "data": {
      "text/plain": [
       "9.81818093834183"
      ]
     },
     "execution_count": 308,
     "metadata": {},
     "output_type": "execute_result"
    }
   ],
   "source": [
    "rmspe"
   ]
  },
  {
   "cell_type": "code",
   "execution_count": 309,
   "metadata": {},
   "outputs": [
    {
     "name": "stdout",
     "output_type": "stream",
     "text": [
      "1.14622054909578\n",
      "4319.876972149008\n",
      "97.23108518206655\n",
      "0.0\n",
      "4651.047619047619\n",
      "102.59165041498328\n"
     ]
    }
   ],
   "source": [
    "print(df['PRED_AVG_WD_PICKUPS'].min())\n",
    "print(df['PRED_AVG_WD_PICKUPS'].max())\n",
    "print(df['PRED_AVG_WD_PICKUPS'].mean())\n",
    "\n",
    "print(df['AVG_WD_PICKUPS'].min())\n",
    "print(df['AVG_WD_PICKUPS'].max())\n",
    "print(df['AVG_WD_PICKUPS'].mean())"
   ]
  },
  {
   "cell_type": "code",
   "execution_count": 310,
   "metadata": {},
   "outputs": [
    {
     "data": {
      "text/plain": [
       "<matplotlib.axes._subplots.AxesSubplot at 0x19a84c01388>"
      ]
     },
     "execution_count": 310,
     "metadata": {},
     "output_type": "execute_result"
    },
    {
     "data": {
      "image/png": "[encoded data removed]",
      "text/plain": [
       "<Figure size 432x288 with 1 Axes>"
      ]
     },
     "metadata": {
      "needs_background": "light"
     },
     "output_type": "display_data"
    }
   ],
   "source": [
    "sns.scatterplot(y = df['DIFF'], x = df.index)"
   ]
  },
  {
   "cell_type": "code",
   "execution_count": 311,
   "metadata": {},
   "outputs": [
    {
     "data": {
      "text/plain": [
       "<seaborn.axisgrid.FacetGrid at 0x19a819de5c8>"
      ]
     },
     "execution_count": 311,
     "metadata": {},
     "output_type": "execute_result"
    },
    {
     "data": {
      "image/png": "[encoded data removed]",
      "text/plain": [
       "<Figure size 360x360 with 1 Axes>"
      ]
     },
     "metadata": {
      "needs_background": "light"
     },
     "output_type": "display_data"
    }
   ],
   "source": [
    "sns.displot(df['DIFF'])"
   ]
  },
  {
   "cell_type": "code",
   "execution_count": 312,
   "metadata": {},
   "outputs": [
    {
     "data": {
      "text/plain": [
       "<matplotlib.axes._subplots.AxesSubplot at 0x19a84b6fb88>"
      ]
     },
     "execution_count": 312,
     "metadata": {},
     "output_type": "execute_result"
    },
    {
     "data": {
      "image/png": "[encoded data removed]",
      "text/plain": [
       "<Figure size 432x288 with 1 Axes>"
      ]
     },
     "metadata": {
      "needs_background": "light"
     },
     "output_type": "display_data"
    }
   ],
   "source": [
    "plt.ylim(0,5000)\n",
    "plt.xlim(0,5000)\n",
    "\n",
    "sns.scatterplot(y = df['PRED_AVG_WD_PICKUPS'], x = df['AVG_WD_PICKUPS'])"
   ]
  },
  {
   "cell_type": "code",
   "execution_count": null,
   "metadata": {},
   "outputs": [],
   "source": []
  },
  {
   "cell_type": "code",
   "execution_count": 313,
   "metadata": {},
   "outputs": [
    {
     "data": {
      "text/html": [
       "<div>\n",
       "<style scoped>\n",
       "    .dataframe tbody tr th:only-of-type {\n",
       "        vertical-align: middle;\n",
       "    }\n",
       "\n",
       "    .dataframe tbody tr th {\n",
       "        vertical-align: top;\n",
       "    }\n",
       "\n",
       "    .dataframe thead th {\n",
       "        text-align: right;\n",
       "    }\n",
       "</style>\n",
       "<table border=\"1\" class=\"dataframe\">\n",
       "  <thead>\n",
       "    <tr style=\"text-align: right;\">\n",
       "      <th></th>\n",
       "      <th>YEAR</th>\n",
       "      <th>MONTH</th>\n",
       "      <th>AVG_WD_PICKUPS</th>\n",
       "      <th>PRED_AVG_WD_PICKUPS</th>\n",
       "    </tr>\n",
       "  </thead>\n",
       "  <tbody>\n",
       "    <tr>\n",
       "      <th>0</th>\n",
       "      <td>2019</td>\n",
       "      <td>1</td>\n",
       "      <td>78252.956522</td>\n",
       "      <td>78997.906645</td>\n",
       "    </tr>\n",
       "    <tr>\n",
       "      <th>1</th>\n",
       "      <td>2020</td>\n",
       "      <td>1</td>\n",
       "      <td>77205.217391</td>\n",
       "      <td>67109.606063</td>\n",
       "    </tr>\n",
       "    <tr>\n",
       "      <th>2</th>\n",
       "      <td>2019</td>\n",
       "      <td>2</td>\n",
       "      <td>86698.700000</td>\n",
       "      <td>90052.739497</td>\n",
       "    </tr>\n",
       "    <tr>\n",
       "      <th>3</th>\n",
       "      <td>2020</td>\n",
       "      <td>2</td>\n",
       "      <td>84290.500000</td>\n",
       "      <td>74785.698677</td>\n",
       "    </tr>\n",
       "    <tr>\n",
       "      <th>4</th>\n",
       "      <td>2019</td>\n",
       "      <td>3</td>\n",
       "      <td>89911.952381</td>\n",
       "      <td>90414.261142</td>\n",
       "    </tr>\n",
       "    <tr>\n",
       "      <th>5</th>\n",
       "      <td>2019</td>\n",
       "      <td>4</td>\n",
       "      <td>86677.181818</td>\n",
       "      <td>82204.065061</td>\n",
       "    </tr>\n",
       "    <tr>\n",
       "      <th>6</th>\n",
       "      <td>2019</td>\n",
       "      <td>5</td>\n",
       "      <td>86615.434783</td>\n",
       "      <td>81820.738567</td>\n",
       "    </tr>\n",
       "    <tr>\n",
       "      <th>7</th>\n",
       "      <td>2019</td>\n",
       "      <td>6</td>\n",
       "      <td>82892.900000</td>\n",
       "      <td>77513.660585</td>\n",
       "    </tr>\n",
       "    <tr>\n",
       "      <th>8</th>\n",
       "      <td>2019</td>\n",
       "      <td>7</td>\n",
       "      <td>81595.565217</td>\n",
       "      <td>77231.560394</td>\n",
       "    </tr>\n",
       "    <tr>\n",
       "      <th>9</th>\n",
       "      <td>2019</td>\n",
       "      <td>8</td>\n",
       "      <td>83037.863636</td>\n",
       "      <td>79196.593315</td>\n",
       "    </tr>\n",
       "    <tr>\n",
       "      <th>10</th>\n",
       "      <td>2019</td>\n",
       "      <td>9</td>\n",
       "      <td>79816.857143</td>\n",
       "      <td>73061.197353</td>\n",
       "    </tr>\n",
       "    <tr>\n",
       "      <th>11</th>\n",
       "      <td>2019</td>\n",
       "      <td>10</td>\n",
       "      <td>83265.913043</td>\n",
       "      <td>76956.817637</td>\n",
       "    </tr>\n",
       "    <tr>\n",
       "      <th>12</th>\n",
       "      <td>2018</td>\n",
       "      <td>11</td>\n",
       "      <td>78684.272727</td>\n",
       "      <td>76119.025483</td>\n",
       "    </tr>\n",
       "    <tr>\n",
       "      <th>13</th>\n",
       "      <td>2019</td>\n",
       "      <td>11</td>\n",
       "      <td>83580.857143</td>\n",
       "      <td>75318.560786</td>\n",
       "    </tr>\n",
       "    <tr>\n",
       "      <th>14</th>\n",
       "      <td>2018</td>\n",
       "      <td>12</td>\n",
       "      <td>72101.238095</td>\n",
       "      <td>68148.694056</td>\n",
       "    </tr>\n",
       "    <tr>\n",
       "      <th>15</th>\n",
       "      <td>2019</td>\n",
       "      <td>12</td>\n",
       "      <td>80187.181818</td>\n",
       "      <td>76919.707603</td>\n",
       "    </tr>\n",
       "  </tbody>\n",
       "</table>\n",
       "</div>"
      ],
      "text/plain": [
       "    YEAR  MONTH  AVG_WD_PICKUPS  PRED_AVG_WD_PICKUPS\n",
       "0   2019      1    78252.956522         78997.906645\n",
       "1   2020      1    77205.217391         67109.606063\n",
       "2   2019      2    86698.700000         90052.739497\n",
       "3   2020      2    84290.500000         74785.698677\n",
       "4   2019      3    89911.952381         90414.261142\n",
       "5   2019      4    86677.181818         82204.065061\n",
       "6   2019      5    86615.434783         81820.738567\n",
       "7   2019      6    82892.900000         77513.660585\n",
       "8   2019      7    81595.565217         77231.560394\n",
       "9   2019      8    83037.863636         79196.593315\n",
       "10  2019      9    79816.857143         73061.197353\n",
       "11  2019     10    83265.913043         76956.817637\n",
       "12  2018     11    78684.272727         76119.025483\n",
       "13  2019     11    83580.857143         75318.560786\n",
       "14  2018     12    72101.238095         68148.694056\n",
       "15  2019     12    80187.181818         76919.707603"
      ]
     },
     "execution_count": 313,
     "metadata": {},
     "output_type": "execute_result"
    }
   ],
   "source": [
    "df['PRED_PICKUPS'] = df['PRED_AVG_WD_PICKUPS']*df['WEEKDAYS']\n",
    "\n",
    "df_sum = df[['MONTH','YEAR','PRED_PICKUPS','PICKUPS','WEEKDAYS']].groupby(by = ['MONTH','YEAR'], as_index = False).agg(agg)\n",
    "\n",
    "df_sum['AVG_WD_PICKUPS'] = df_sum['PICKUPS']/df_sum['WEEKDAYS']\n",
    "df_sum['PRED_AVG_WD_PICKUPS'] = df_sum['PRED_PICKUPS']/df_sum['WEEKDAYS']\n",
    "\n",
    "df_sum[['YEAR','MONTH','AVG_WD_PICKUPS','PRED_AVG_WD_PICKUPS']]"
   ]
  },
  {
   "cell_type": "code",
   "execution_count": null,
   "metadata": {},
   "outputs": [],
   "source": []
  },
  {
   "cell_type": "code",
   "execution_count": 314,
   "metadata": {},
   "outputs": [],
   "source": [
    "df_map = df[['PICKUPS','PRED_PICKUPS','ORIGIN']].groupby(by = 'ORIGIN', as_index = False).sum()\n",
    "df_map['PRED_AVG_WD_PICKUPS'] = df_map['PRED_PICKUPS']/weekday['WEEKDAYS'].sum()\n",
    "df_map['AVG_WD_PICKUPS'] = df_map['PICKUPS']/weekday['WEEKDAYS'].sum()\n",
    "\n",
    "df_map['DIFF'] = df_map['PRED_AVG_WD_PICKUPS'] - df_map['AVG_WD_PICKUPS']\n",
    "df_map['PDIFF'] = np.where(df_map['PICKUPS'] == 0, 0, df_map['DIFF']/df_map['AVG_WD_PICKUPS'])"
   ]
  },
  {
   "cell_type": "code",
   "execution_count": null,
   "metadata": {},
   "outputs": [],
   "source": [
    "\n"
   ]
  },
  {
   "cell_type": "code",
   "execution_count": null,
   "metadata": {},
   "outputs": [],
   "source": []
  },
  {
   "cell_type": "code",
   "execution_count": 315,
   "metadata": {},
   "outputs": [
    {
     "name": "stderr",
     "output_type": "stream",
     "text": [
      "C:\\Users\\ramu225\\Anaconda3\\lib\\site-packages\\folium\\folium.py:415: FutureWarning: The choropleth  method has been deprecated. Instead use the new Choropleth class, which has the same arguments. See the example notebook 'GeoJSON_and_choropleth' for how to do this.\n",
      "  FutureWarning\n"
     ]
    }
   ],
   "source": [
    "# Initialize the map: \n",
    "m = folium.Map([41.8781, -87.6298], zoom_start=11)\n",
    "\n",
    "\n",
    "m = folium.Map([41.8781, -87.6298], zoom_start=11)\n",
    "\n",
    "\n",
    "#rh_tod_tract = rh_tod_tract.groupby(by = ['Pickup Census Tract','Dropoff Census Tract'], as_index = False).sum()\n",
    "\n",
    "# bins = np.quantile(rh_tod_tract['TOTAL_TRIPS'], [0, 0.25, 0.5, 0.75, 0.98, 1])\n",
    "\n",
    "# Add the color for the chloropleth:\n",
    "m.choropleth(\n",
    " geo_data=geo,\n",
    " name= 'TOD 3 Trip Generation Model Accuracy',\n",
    " data=df_map,\n",
    " columns = ['ORIGIN', 'AVG_WD_PICKUPS'],\n",
    " key_on='feature.properties.geoid10',\n",
    " fill_color='RdPu',\n",
    " fill_opacity=0.6,\n",
    " line_opacity=0.2,\n",
    " legend_name='Observed Pickups',\n",
    " highlight = True\n",
    ")\n",
    "\n",
    "folium.LayerControl().add_to(m)\n",
    "\n",
    "m.save('C:/Workspace/TNC-Demand-Model/Data Exploration/Trip Generation Maps/Negative Binomial/' + 'TOD_3_Observed_Pickups.html')\n",
    "\n"
   ]
  },
  {
   "cell_type": "code",
   "execution_count": 316,
   "metadata": {},
   "outputs": [],
   "source": [
    "# Initialize the map: \n",
    "m = folium.Map([41.8781, -87.6298], zoom_start=11)\n",
    "\n",
    "\n",
    "m = folium.Map([41.8781, -87.6298], zoom_start=11)\n",
    "\n",
    "\n",
    "#rh_tod_tract = rh_tod_tract.groupby(by = ['Pickup Census Tract','Dropoff Census Tract'], as_index = False).sum()\n",
    "\n",
    "# bins = np.quantile(rh_tod_tract['TOTAL_TRIPS'], [0, 0.25, 0.5, 0.75, 0.98, 1])\n",
    "\n",
    "# Add the color for the chloropleth:\n",
    "m.choropleth(\n",
    " geo_data=geo,\n",
    " name= 'TOD 3 Trip Generation Model Accuracy',\n",
    " data=df_map,\n",
    " columns = ['ORIGIN', 'PRED_AVG_WD_PICKUPS'],\n",
    " key_on='feature.properties.geoid10',\n",
    " fill_color='RdPu',\n",
    " fill_opacity=0.6,\n",
    " line_opacity=0.2,\n",
    " legend_name='Predicted Pickups',\n",
    " highlight = True\n",
    ")\n",
    "\n",
    "folium.LayerControl().add_to(m)\n",
    "\n",
    "m.save('C:/Workspace/TNC-Demand-Model/Data Exploration/Trip Generation Maps/Negative Binomial/' + 'TOD_3_Predicted_Pickups.html')\n",
    "\n"
   ]
  },
  {
   "cell_type": "code",
   "execution_count": 317,
   "metadata": {},
   "outputs": [],
   "source": [
    "# Initialize the map: \n",
    "m = folium.Map([41.8781, -87.6298], zoom_start=11)\n",
    "\n",
    "\n",
    "m = folium.Map([41.8781, -87.6298], zoom_start=11)\n",
    "\n",
    "\n",
    "#rh_tod_tract = rh_tod_tract.groupby(by = ['Pickup Census Tract','Dropoff Census Tract'], as_index = False).sum()\n",
    "\n",
    "bins = [-2000,-1000,-150, 150, 1000, 2000]\n",
    "\n",
    "# Add the color for the chloropleth:\n",
    "m.choropleth(\n",
    " geo_data=geo,\n",
    " name= 'TOD 3 Trip Generation Model Accuracy',\n",
    " data=df_map,\n",
    " columns = ['ORIGIN', 'DIFF'],\n",
    " key_on='feature.properties.geoid10',\n",
    " fill_color='RdYlGn',\n",
    " fill_opacity=0.6,\n",
    " line_opacity=0.2,\n",
    " bins = bins,\n",
    " legend_name='Diff Pickups',\n",
    " highlight = True\n",
    ")\n",
    "\n",
    "folium.LayerControl().add_to(m)\n",
    "\n",
    "m.save('C:/Workspace/TNC-Demand-Model/Data Exploration/Trip Generation Maps/Negative Binomial/' + 'TOD_3_Pickups_Diff.html')\n",
    "\n"
   ]
  },
  {
   "cell_type": "code",
   "execution_count": 318,
   "metadata": {},
   "outputs": [],
   "source": [
    "# Initialize the map: \n",
    "m = folium.Map([41.8781, -87.6298], zoom_start=11)\n",
    "\n",
    "\n",
    "m = folium.Map([41.8781, -87.6298], zoom_start=11)\n",
    "\n",
    "\n",
    "#rh_tod_tract = rh_tod_tract.groupby(by = ['Pickup Census Tract','Dropoff Census Tract'], as_index = False).sum()\n",
    "\n",
    "# bins = np.quantile(rh_tod_tract['TOTAL_TRIPS'], [0, 0.25, 0.5, 0.75, 0.98, 1])\n",
    "\n",
    "# Add the color for the chloropleth:\n",
    "m.choropleth(\n",
    " geo_data=geo,\n",
    " name= 'TOD 3 Trip Generation Model Accuracy',\n",
    " data=df_map,\n",
    " columns = ['ORIGIN', 'PDIFF'],\n",
    " key_on='feature.properties.geoid10',\n",
    " fill_color='RdYlGn',\n",
    " fill_opacity=0.6,\n",
    " line_opacity=0.2,\n",
    " legend_name='PDiff Pickups',\n",
    " highlight = True\n",
    ")\n",
    "\n",
    "folium.LayerControl().add_to(m)\n",
    "\n",
    "m.save('C:/Workspace/TNC-Demand-Model/Data Exploration/Trip Generation Maps/Negative Binomial/' + 'TOD_3_Pickups_PDiff.html')\n",
    "\n"
   ]
  },
  {
   "cell_type": "code",
   "execution_count": null,
   "metadata": {},
   "outputs": [],
   "source": []
  },
  {
   "cell_type": "code",
   "execution_count": 336,
   "metadata": {},
   "outputs": [
    {
     "data": {
      "text/plain": [
       "<seaborn.axisgrid.FacetGrid at 0x19a800de888>"
      ]
     },
     "execution_count": 336,
     "metadata": {},
     "output_type": "execute_result"
    },
    {
     "data": {
      "image/png": "[encoded data removed]",
      "text/plain": [
       "<Figure size 360x360 with 1 Axes>"
      ]
     },
     "metadata": {
      "needs_background": "light"
     },
     "output_type": "display_data"
    }
   ],
   "source": [
    "sns.displot(df['PRED_AVG_WD_PICKUPS'])"
   ]
  },
  {
   "cell_type": "code",
   "execution_count": 124,
   "metadata": {},
   "outputs": [
    {
     "data": {
      "text/plain": [
       "<seaborn.axisgrid.FacetGrid at 0x203f86c8cc8>"
      ]
     },
     "execution_count": 124,
     "metadata": {},
     "output_type": "execute_result"
    },
    {
     "data": {
      "image/png": "[encoded data removed]",
      "text/plain": [
       "<Figure size 360x360 with 1 Axes>"
      ]
     },
     "metadata": {
      "needs_background": "light"
     },
     "output_type": "display_data"
    }
   ],
   "source": [
    "sns.displot(df['PICKUPS'])"
   ]
  },
  {
   "cell_type": "markdown",
   "metadata": {},
   "source": [
    "# TOD 4"
   ]
  },
  {
   "cell_type": "code",
   "execution_count": 125,
   "metadata": {},
   "outputs": [],
   "source": [
    "df = pd.read_csv('C:/Workspace/TNC-Demand-Model/Outputs/Trip_Generation_Origin_Estimation_File_TOD_4.csv', index_col = 0)"
   ]
  },
  {
   "cell_type": "code",
   "execution_count": null,
   "metadata": {},
   "outputs": [],
   "source": []
  },
  {
   "cell_type": "code",
   "execution_count": 12,
   "metadata": {},
   "outputs": [],
   "source": [
    "df['LINEAR_PICKUPS'] = 0.1174918*df['FOOD_EMP'] + 0.0365619*df['RETAIL_EMP'] + 0.0081258*df['OTHER_EMP'] + 691.7118*df['AIR_F'] + 100.2923*df['TOR_F'] + 0.4274402*df['HI_INC_0'] + 0.0065961*df['LOW_INC_0'] + 0.0082056*df['LOW_INC_1P'] + 0.0000163*df['HI_INC_1P'] \n",
    "df['LINEAR_PICKUPS_LOG'] = np.where(df['LINEAR_PICKUPS'] == 0, 0, np.log(df['LINEAR_PICKUPS']))\n",
    "\n",
    "\n",
    "df.to_csv('C:/Workspace/TNC-Demand-Model/Outputs/NB_Estimation_File_TOD_4.csv')"
   ]
  },
  {
   "cell_type": "code",
   "execution_count": null,
   "metadata": {},
   "outputs": [],
   "source": []
  },
  {
   "cell_type": "code",
   "execution_count": 321,
   "metadata": {},
   "outputs": [],
   "source": [
    "df = pd.read_csv('C:/Workspace/TNC-Demand-Model/Outputs/NB_Estimation_File_TOD_4.csv')"
   ]
  },
  {
   "cell_type": "code",
   "execution_count": 322,
   "metadata": {},
   "outputs": [],
   "source": [
    "#df['PRED_PICKUPS'] = 0.5105213*df['LINEAR_PICKUPS_LOG'] + 0.7991836*df['LOGSUM'] - 0.0130767*df['MEDIAN_AGE'] + 0.0070969*df['P_BACH_25P'] + 0.0090406*df['JAN'] + 0.1634959*df['FEB'] + 0.116266*df['MAR'] + 0.00401*df['APR'] - 0.0198571*df['MAY'] - 0.0047761*df['JUN'] - 0.0763775*df['JUL'] - 0.0691976*df['AUG'] - 0.0076562*df['SEP'] - 0.0743037*df['OCT'] + 0.0124758*df['NOV'] - 0.8474109\n",
    "df['PRED_AVG_WD_PICKUPS'] = np.exp(0.5627946*df['AIR_F'] + 0.5095866*df['TOR_F'] + 0.4756048*df['LINEAR_PICKUPS_LOG'] + 0.7888591*df['LOGSUM'] - 0.0118875*df['MEDIAN_AGE'] + 0.0075725*df['P_BACH_25P'] + 0.00000146*df['TOTAL_EMP_DEN'] + 0.0078173*df['JAN'] + 0.1620684*df['FEB'] + 0.1162663*df['MAR'] + 0.0025886*df['APR'] - 0.0205536*df['MAY'] - 0.0065466*df['JUN'] - 0.0771755*df['JUL'] - 0.0704231*df['AUG'] - 0.0105243*df['SEP'] - 0.0759592*df['OCT'] - 0.0124302*df['NOV'] - 0.7682488)\n"
   ]
  },
  {
   "cell_type": "code",
   "execution_count": 323,
   "metadata": {},
   "outputs": [
    {
     "data": {
      "text/plain": [
       "(0, 5000)"
      ]
     },
     "execution_count": 323,
     "metadata": {},
     "output_type": "execute_result"
    },
    {
     "data": {
      "image/png": "[encoded data removed]",
      "text/plain": [
       "<Figure size 432x288 with 1 Axes>"
      ]
     },
     "metadata": {
      "needs_background": "light"
     },
     "output_type": "display_data"
    }
   ],
   "source": [
    "sns.scatterplot(y = df['PRED_AVG_WD_PICKUPS'], x = df['AVG_WD_PICKUPS'])\n",
    "plt.ylim(0,5000)\n",
    "plt.xlim(0,5000)"
   ]
  },
  {
   "cell_type": "code",
   "execution_count": null,
   "metadata": {
    "scrolled": true
   },
   "outputs": [],
   "source": []
  },
  {
   "cell_type": "code",
   "execution_count": null,
   "metadata": {},
   "outputs": [],
   "source": []
  },
  {
   "cell_type": "code",
   "execution_count": 326,
   "metadata": {},
   "outputs": [],
   "source": [
    "df['DIFF'] = df['PRED_AVG_WD_PICKUPS'] - df['AVG_WD_PICKUPS']"
   ]
  },
  {
   "cell_type": "code",
   "execution_count": 327,
   "metadata": {},
   "outputs": [],
   "source": [
    "df['PDIFF'] = np.where(df['PICKUPS'] == 0, 0, df['DIFF']/df['AVG_WD_PICKUPS'])"
   ]
  },
  {
   "cell_type": "code",
   "execution_count": 328,
   "metadata": {},
   "outputs": [],
   "source": [
    "df['DIFF_SQUARED'] = np.square(df['DIFF'])\n",
    "df['PDIFF_SQUARED'] = np.square(df['PDIFF'])"
   ]
  },
  {
   "cell_type": "code",
   "execution_count": 329,
   "metadata": {},
   "outputs": [],
   "source": [
    "rmse = np.sqrt(df['DIFF_SQUARED'].sum()/len(df))\n",
    "rmspe = np.sqrt(df['PDIFF_SQUARED'].sum()/len(df))"
   ]
  },
  {
   "cell_type": "code",
   "execution_count": 330,
   "metadata": {},
   "outputs": [
    {
     "data": {
      "text/plain": [
       "63.90196791681513"
      ]
     },
     "execution_count": 330,
     "metadata": {},
     "output_type": "execute_result"
    }
   ],
   "source": [
    "rmse"
   ]
  },
  {
   "cell_type": "code",
   "execution_count": 331,
   "metadata": {},
   "outputs": [
    {
     "data": {
      "text/plain": [
       "63.272427139412976"
      ]
     },
     "execution_count": 331,
     "metadata": {},
     "output_type": "execute_result"
    }
   ],
   "source": [
    "df['AVG_WD_PICKUPS'].mean()"
   ]
  },
  {
   "cell_type": "code",
   "execution_count": 332,
   "metadata": {},
   "outputs": [
    {
     "name": "stdout",
     "output_type": "stream",
     "text": [
      "0.7002128640598563\n",
      "4300.597061824577\n",
      "65.27338985672516\n",
      "0.0\n",
      "4433.75\n",
      "63.272427139412976\n"
     ]
    }
   ],
   "source": [
    "print(df['PRED_AVG_WD_PICKUPS'].min())\n",
    "print(df['PRED_AVG_WD_PICKUPS'].max())\n",
    "print(df['PRED_AVG_WD_PICKUPS'].mean())\n",
    "\n",
    "print(df['AVG_WD_PICKUPS'].min())\n",
    "print(df['AVG_WD_PICKUPS'].max())\n",
    "print(df['AVG_WD_PICKUPS'].mean())"
   ]
  },
  {
   "cell_type": "code",
   "execution_count": null,
   "metadata": {},
   "outputs": [],
   "source": []
  },
  {
   "cell_type": "code",
   "execution_count": 333,
   "metadata": {},
   "outputs": [
    {
     "data": {
      "text/plain": [
       "<matplotlib.axes._subplots.AxesSubplot at 0x19a800ce1c8>"
      ]
     },
     "execution_count": 333,
     "metadata": {},
     "output_type": "execute_result"
    },
    {
     "data": {
      "image/png": "[encoded data removed]",
      "text/plain": [
       "<Figure size 432x288 with 1 Axes>"
      ]
     },
     "metadata": {
      "needs_background": "light"
     },
     "output_type": "display_data"
    }
   ],
   "source": [
    "sns.scatterplot(y = df['DIFF'], x = df.index)"
   ]
  },
  {
   "cell_type": "code",
   "execution_count": 334,
   "metadata": {},
   "outputs": [
    {
     "data": {
      "text/plain": [
       "<seaborn.axisgrid.FacetGrid at 0x19a8014d348>"
      ]
     },
     "execution_count": 334,
     "metadata": {},
     "output_type": "execute_result"
    },
    {
     "data": {
      "image/png": "[encoded data removed]",
      "text/plain": [
       "<Figure size 360x360 with 1 Axes>"
      ]
     },
     "metadata": {
      "needs_background": "light"
     },
     "output_type": "display_data"
    }
   ],
   "source": [
    "sns.displot(df['DIFF'])"
   ]
  },
  {
   "cell_type": "code",
   "execution_count": 335,
   "metadata": {},
   "outputs": [
    {
     "data": {
      "text/plain": [
       "1.0099496859195087"
      ]
     },
     "execution_count": 335,
     "metadata": {},
     "output_type": "execute_result"
    }
   ],
   "source": [
    "rmse/df['AVG_WD_PICKUPS'].mean()"
   ]
  },
  {
   "cell_type": "code",
   "execution_count": null,
   "metadata": {},
   "outputs": [],
   "source": []
  },
  {
   "cell_type": "code",
   "execution_count": 337,
   "metadata": {},
   "outputs": [
    {
     "data": {
      "text/html": [
       "<div>\n",
       "<style scoped>\n",
       "    .dataframe tbody tr th:only-of-type {\n",
       "        vertical-align: middle;\n",
       "    }\n",
       "\n",
       "    .dataframe tbody tr th {\n",
       "        vertical-align: top;\n",
       "    }\n",
       "\n",
       "    .dataframe thead th {\n",
       "        text-align: right;\n",
       "    }\n",
       "</style>\n",
       "<table border=\"1\" class=\"dataframe\">\n",
       "  <thead>\n",
       "    <tr style=\"text-align: right;\">\n",
       "      <th></th>\n",
       "      <th>YEAR</th>\n",
       "      <th>MONTH</th>\n",
       "      <th>AVG_WD_PICKUPS</th>\n",
       "      <th>PRED_AVG_WD_PICKUPS</th>\n",
       "    </tr>\n",
       "  </thead>\n",
       "  <tbody>\n",
       "    <tr>\n",
       "      <th>0</th>\n",
       "      <td>2019</td>\n",
       "      <td>1</td>\n",
       "      <td>50117.130435</td>\n",
       "      <td>53987.257260</td>\n",
       "    </tr>\n",
       "    <tr>\n",
       "      <th>1</th>\n",
       "      <td>2020</td>\n",
       "      <td>1</td>\n",
       "      <td>47934.826087</td>\n",
       "      <td>45655.528317</td>\n",
       "    </tr>\n",
       "    <tr>\n",
       "      <th>2</th>\n",
       "      <td>2019</td>\n",
       "      <td>2</td>\n",
       "      <td>55155.850000</td>\n",
       "      <td>60970.360376</td>\n",
       "    </tr>\n",
       "    <tr>\n",
       "      <th>3</th>\n",
       "      <td>2020</td>\n",
       "      <td>2</td>\n",
       "      <td>52258.550000</td>\n",
       "      <td>51053.081297</td>\n",
       "    </tr>\n",
       "    <tr>\n",
       "      <th>4</th>\n",
       "      <td>2019</td>\n",
       "      <td>3</td>\n",
       "      <td>56155.523810</td>\n",
       "      <td>61445.448394</td>\n",
       "    </tr>\n",
       "    <tr>\n",
       "      <th>5</th>\n",
       "      <td>2019</td>\n",
       "      <td>4</td>\n",
       "      <td>51350.681818</td>\n",
       "      <td>53235.187724</td>\n",
       "    </tr>\n",
       "    <tr>\n",
       "      <th>6</th>\n",
       "      <td>2019</td>\n",
       "      <td>5</td>\n",
       "      <td>51514.869565</td>\n",
       "      <td>54464.195439</td>\n",
       "    </tr>\n",
       "    <tr>\n",
       "      <th>7</th>\n",
       "      <td>2019</td>\n",
       "      <td>6</td>\n",
       "      <td>49272.600000</td>\n",
       "      <td>49937.805050</td>\n",
       "    </tr>\n",
       "    <tr>\n",
       "      <th>8</th>\n",
       "      <td>2019</td>\n",
       "      <td>7</td>\n",
       "      <td>47532.304348</td>\n",
       "      <td>48619.119578</td>\n",
       "    </tr>\n",
       "    <tr>\n",
       "      <th>9</th>\n",
       "      <td>2019</td>\n",
       "      <td>8</td>\n",
       "      <td>48706.045455</td>\n",
       "      <td>48856.578132</td>\n",
       "    </tr>\n",
       "    <tr>\n",
       "      <th>10</th>\n",
       "      <td>2019</td>\n",
       "      <td>9</td>\n",
       "      <td>47676.761905</td>\n",
       "      <td>48324.121637</td>\n",
       "    </tr>\n",
       "    <tr>\n",
       "      <th>11</th>\n",
       "      <td>2019</td>\n",
       "      <td>10</td>\n",
       "      <td>50415.826087</td>\n",
       "      <td>50478.768666</td>\n",
       "    </tr>\n",
       "    <tr>\n",
       "      <th>12</th>\n",
       "      <td>2018</td>\n",
       "      <td>11</td>\n",
       "      <td>51205.545455</td>\n",
       "      <td>53609.193682</td>\n",
       "    </tr>\n",
       "    <tr>\n",
       "      <th>13</th>\n",
       "      <td>2019</td>\n",
       "      <td>11</td>\n",
       "      <td>52398.285714</td>\n",
       "      <td>52231.358726</td>\n",
       "    </tr>\n",
       "    <tr>\n",
       "      <th>14</th>\n",
       "      <td>2018</td>\n",
       "      <td>12</td>\n",
       "      <td>47793.761905</td>\n",
       "      <td>49588.757295</td>\n",
       "    </tr>\n",
       "    <tr>\n",
       "      <th>15</th>\n",
       "      <td>2019</td>\n",
       "      <td>12</td>\n",
       "      <td>51410.863636</td>\n",
       "      <td>53772.439459</td>\n",
       "    </tr>\n",
       "  </tbody>\n",
       "</table>\n",
       "</div>"
      ],
      "text/plain": [
       "    YEAR  MONTH  AVG_WD_PICKUPS  PRED_AVG_WD_PICKUPS\n",
       "0   2019      1    50117.130435         53987.257260\n",
       "1   2020      1    47934.826087         45655.528317\n",
       "2   2019      2    55155.850000         60970.360376\n",
       "3   2020      2    52258.550000         51053.081297\n",
       "4   2019      3    56155.523810         61445.448394\n",
       "5   2019      4    51350.681818         53235.187724\n",
       "6   2019      5    51514.869565         54464.195439\n",
       "7   2019      6    49272.600000         49937.805050\n",
       "8   2019      7    47532.304348         48619.119578\n",
       "9   2019      8    48706.045455         48856.578132\n",
       "10  2019      9    47676.761905         48324.121637\n",
       "11  2019     10    50415.826087         50478.768666\n",
       "12  2018     11    51205.545455         53609.193682\n",
       "13  2019     11    52398.285714         52231.358726\n",
       "14  2018     12    47793.761905         49588.757295\n",
       "15  2019     12    51410.863636         53772.439459"
      ]
     },
     "execution_count": 337,
     "metadata": {},
     "output_type": "execute_result"
    }
   ],
   "source": [
    "df['PRED_PICKUPS'] = df['PRED_AVG_WD_PICKUPS']*df['WEEKDAYS']\n",
    "\n",
    "df_sum = df[['MONTH','YEAR','PRED_PICKUPS','PICKUPS','WEEKDAYS']].groupby(by = ['MONTH','YEAR'], as_index = False).agg(agg)\n",
    "\n",
    "df_sum['AVG_WD_PICKUPS'] = df_sum['PICKUPS']/df_sum['WEEKDAYS']\n",
    "df_sum['PRED_AVG_WD_PICKUPS'] = df_sum['PRED_PICKUPS']/df_sum['WEEKDAYS']\n",
    "\n",
    "df_sum[['YEAR','MONTH','AVG_WD_PICKUPS','PRED_AVG_WD_PICKUPS']]"
   ]
  },
  {
   "cell_type": "code",
   "execution_count": 338,
   "metadata": {},
   "outputs": [],
   "source": [
    "df_map = df[['PICKUPS','PRED_PICKUPS','ORIGIN']].groupby(by = 'ORIGIN', as_index = False).sum()\n",
    "df_map['PRED_AVG_WD_PICKUPS'] = df_map['PRED_PICKUPS']/weekday['WEEKDAYS'].sum()\n",
    "df_map['AVG_WD_PICKUPS'] = df_map['PICKUPS']/weekday['WEEKDAYS'].sum()\n",
    "\n",
    "df_map['DIFF'] = df_map['PRED_AVG_WD_PICKUPS'] - df_map['AVG_WD_PICKUPS']\n",
    "df_map['PDIFF'] = np.where(df_map['PICKUPS'] == 0, 0, df_map['DIFF']/df_map['AVG_WD_PICKUPS'])"
   ]
  },
  {
   "cell_type": "code",
   "execution_count": null,
   "metadata": {},
   "outputs": [],
   "source": []
  },
  {
   "cell_type": "code",
   "execution_count": 339,
   "metadata": {},
   "outputs": [
    {
     "name": "stderr",
     "output_type": "stream",
     "text": [
      "C:\\Users\\ramu225\\Anaconda3\\lib\\site-packages\\folium\\folium.py:415: FutureWarning: The choropleth  method has been deprecated. Instead use the new Choropleth class, which has the same arguments. See the example notebook 'GeoJSON_and_choropleth' for how to do this.\n",
      "  FutureWarning\n"
     ]
    }
   ],
   "source": [
    "# Initialize the map: \n",
    "m = folium.Map([41.8781, -87.6298], zoom_start=11)\n",
    "\n",
    "\n",
    "m = folium.Map([41.8781, -87.6298], zoom_start=11)\n",
    "\n",
    "\n",
    "#rh_tod_tract = rh_tod_tract.groupby(by = ['Pickup Census Tract','Dropoff Census Tract'], as_index = False).sum()\n",
    "\n",
    "# bins = np.quantile(rh_tod_tract['TOTAL_TRIPS'], [0, 0.25, 0.5, 0.75, 0.98, 1])\n",
    "\n",
    "# Add the color for the chloropleth:\n",
    "m.choropleth(\n",
    " geo_data=geo,\n",
    " name= 'TOD 4 Trip Generation Model Accuracy',\n",
    " data=df_map,\n",
    " columns = ['ORIGIN', 'AVG_WD_PICKUPS'],\n",
    " key_on='feature.properties.geoid10',\n",
    " fill_color='RdPu',\n",
    " fill_opacity=0.6,\n",
    " line_opacity=0.2,\n",
    " legend_name='Observed Pickups',\n",
    " highlight = True\n",
    ")\n",
    "\n",
    "folium.LayerControl().add_to(m)\n",
    "\n",
    "m.save('C:/Workspace/TNC-Demand-Model/Data Exploration/Trip Generation Maps/Negative Binomial/' + 'TOD_4_Observed_Pickups.html')\n",
    "\n"
   ]
  },
  {
   "cell_type": "code",
   "execution_count": 340,
   "metadata": {},
   "outputs": [],
   "source": [
    "# Initialize the map: \n",
    "m = folium.Map([41.8781, -87.6298], zoom_start=11)\n",
    "\n",
    "\n",
    "m = folium.Map([41.8781, -87.6298], zoom_start=11)\n",
    "\n",
    "\n",
    "#rh_tod_tract = rh_tod_tract.groupby(by = ['Pickup Census Tract','Dropoff Census Tract'], as_index = False).sum()\n",
    "\n",
    "# bins = np.quantile(rh_tod_tract['TOTAL_TRIPS'], [0, 0.25, 0.5, 0.75, 0.98, 1])\n",
    "\n",
    "# Add the color for the chloropleth:\n",
    "m.choropleth(\n",
    " geo_data=geo,\n",
    " name= 'TOD 4 Trip Generation Model Accuracy',\n",
    " data=df_map,\n",
    " columns = ['ORIGIN', 'PRED_PICKUPS'],\n",
    " key_on='feature.properties.geoid10',\n",
    " fill_color='RdPu',\n",
    " fill_opacity=0.6,\n",
    " line_opacity=0.2,\n",
    " legend_name='Predicted Pickups',\n",
    " highlight = True\n",
    ")\n",
    "\n",
    "folium.LayerControl().add_to(m)\n",
    "\n",
    "m.save('C:/Workspace/TNC-Demand-Model/Data Exploration/Trip Generation Maps/Negative Binomial/' + 'TOD_4_Predicted_Pickups.html')\n",
    "\n"
   ]
  },
  {
   "cell_type": "code",
   "execution_count": null,
   "metadata": {},
   "outputs": [],
   "source": []
  },
  {
   "cell_type": "code",
   "execution_count": 341,
   "metadata": {},
   "outputs": [],
   "source": [
    "# Initialize the map: \n",
    "m = folium.Map([41.8781, -87.6298], zoom_start=11)\n",
    "\n",
    "\n",
    "m = folium.Map([41.8781, -87.6298], zoom_start=11)\n",
    "\n",
    "\n",
    "#rh_tod_tract = rh_tod_tract.groupby(by = ['Pickup Census Tract','Dropoff Census Tract'], as_index = False).sum()\n",
    "\n",
    "bins = [-2000, -1000, -150, 150, 1000, 2000]\n",
    "\n",
    "# Add the color for the chloropleth:\n",
    "m.choropleth(\n",
    " geo_data=geo,\n",
    " name= 'TOD 4 Trip Generation Model Accuracy',\n",
    " data=df_map,\n",
    " columns = ['ORIGIN', 'DIFF'],\n",
    " key_on='feature.properties.geoid10',\n",
    " fill_color='RdYlGn',\n",
    " fill_opacity=0.6,\n",
    " line_opacity=0.2,\n",
    " bins = bins,\n",
    " legend_name='Diff Pickups',\n",
    " highlight = True\n",
    ")\n",
    "\n",
    "folium.LayerControl().add_to(m)\n",
    "\n",
    "m.save('C:/Workspace/TNC-Demand-Model/Data Exploration/Trip Generation Maps/Negative Binomial/' + 'TOD_4_Pickups_Diff.html')\n",
    "\n"
   ]
  },
  {
   "cell_type": "code",
   "execution_count": 342,
   "metadata": {},
   "outputs": [],
   "source": [
    "# Initialize the map: \n",
    "m = folium.Map([41.8781, -87.6298], zoom_start=11)\n",
    "\n",
    "\n",
    "m = folium.Map([41.8781, -87.6298], zoom_start=11)\n",
    "\n",
    "\n",
    "#rh_tod_tract = rh_tod_tract.groupby(by = ['Pickup Census Tract','Dropoff Census Tract'], as_index = False).sum()\n",
    "\n",
    "# bins = np.quantile(rh_tod_tract['TOTAL_TRIPS'], [0, 0.25, 0.5, 0.75, 0.98, 1])\n",
    "\n",
    "# Add the color for the chloropleth:\n",
    "m.choropleth(\n",
    " geo_data=geo,\n",
    " name= 'TOD 4 Trip Generation Model Accuracy',\n",
    " data=df_map,\n",
    " columns = ['ORIGIN', 'PDIFF'],\n",
    " key_on='feature.properties.geoid10',\n",
    " fill_color='RdYlGn',\n",
    " fill_opacity=0.6,\n",
    " line_opacity=0.2,\n",
    " legend_name='PDiff Pickups',\n",
    " highlight = True\n",
    ")\n",
    "\n",
    "folium.LayerControl().add_to(m)\n",
    "\n",
    "m.save('C:/Workspace/TNC-Demand-Model/Data Exploration/Trip Generation Maps/Negative Binomial/' + 'TOD_4_Pickups_PDiff.html')\n",
    "\n"
   ]
  },
  {
   "cell_type": "code",
   "execution_count": 397,
   "metadata": {},
   "outputs": [
    {
     "data": {
      "text/plain": [
       "<seaborn.axisgrid.FacetGrid at 0x2039c157388>"
      ]
     },
     "execution_count": 397,
     "metadata": {},
     "output_type": "execute_result"
    },
    {
     "data": {
      "image/png": "[encoded data removed]",
      "text/plain": [
       "<Figure size 360x360 with 1 Axes>"
      ]
     },
     "metadata": {
      "needs_background": "light"
     },
     "output_type": "display_data"
    }
   ],
   "source": [
    "sns.displot(df['PRED_PICKUPS'])"
   ]
  },
  {
   "cell_type": "code",
   "execution_count": 398,
   "metadata": {},
   "outputs": [
    {
     "data": {
      "text/plain": [
       "<seaborn.axisgrid.FacetGrid at 0x203951a5408>"
      ]
     },
     "execution_count": 398,
     "metadata": {},
     "output_type": "execute_result"
    },
    {
     "data": {
      "image/png": "[encoded data removed]",
      "text/plain": [
       "<Figure size 360x360 with 1 Axes>"
      ]
     },
     "metadata": {
      "needs_background": "light"
     },
     "output_type": "display_data"
    }
   ],
   "source": [
    "sns.displot(df['PICKUPS'])"
   ]
  },
  {
   "cell_type": "markdown",
   "metadata": {},
   "source": [
    "# TOD 5"
   ]
  },
  {
   "cell_type": "code",
   "execution_count": 13,
   "metadata": {},
   "outputs": [],
   "source": [
    "df = pd.read_csv('C:/Workspace/TNC-Demand-Model/Outputs/Trip_Generation_Origin_Estimation_File_TOD_5.csv', index_col = 0)"
   ]
  },
  {
   "cell_type": "code",
   "execution_count": null,
   "metadata": {},
   "outputs": [],
   "source": []
  },
  {
   "cell_type": "code",
   "execution_count": 14,
   "metadata": {},
   "outputs": [],
   "source": [
    "df['LINEAR_PICKUPS'] = 0.0030565*df['OTHER_EMP'] + 0.1994565*df['FOOD_EMP'] + 1036.278*df['AIR_F'] + 0.3289785*df['HI_INC_0'] + 0.0000041*df['HI_INC_1P'] + 0.0077126*df['LOW_INC_0'] + 0.0072504*df['LOW_INC_1P']\n",
    "df['LINEAR_PICKUPS_LOG'] =  np.where(df['LINEAR_PICKUPS'] == 0, 0, np.log(df['LINEAR_PICKUPS']))\n",
    "\n",
    "\n",
    "df.to_csv('C:/Workspace/TNC-Demand-Model/Outputs/NB_Estimation_File_TOD_5.csv')"
   ]
  },
  {
   "cell_type": "code",
   "execution_count": null,
   "metadata": {},
   "outputs": [],
   "source": []
  },
  {
   "cell_type": "code",
   "execution_count": 348,
   "metadata": {},
   "outputs": [],
   "source": [
    "df = pd.read_csv('C:/Workspace/TNC-Demand-Model/Outputs/NB_Estimation_File_TOD_5.csv')"
   ]
  },
  {
   "cell_type": "code",
   "execution_count": 349,
   "metadata": {},
   "outputs": [],
   "source": [
    "df['PRED_AVG_WD_PICKUPS'] = np.exp(1.727653*df['AIR_F'] + 0.3913404*df['TOR_F'] + 0.00000227*df['TOTAL_EMP_DEN'] + 0.3951846*df['LINEAR_PICKUPS_LOG'] + 0.9510595*df['LOGSUM'] - 0.0115566*df['MEDIAN_AGE'] + 0.0118989*df['P_BACH_25P'] - 0.0219361*df['JAN'] + 0.1258953*df['FEB'] + 0.0521633*df['MAR'] - 0.0202118*df['APR'] - 0.0520968*df['MAY'] + 0.0023221*df['JUN'] - 0.0706365*df['JUL'] - 0.0507273*df['AUG'] + 0.012712*df['SEP'] - 0.1187213*df['OCT'] - 0.037462*df['NOV'] - 1.907285)\n"
   ]
  },
  {
   "cell_type": "code",
   "execution_count": 163,
   "metadata": {},
   "outputs": [],
   "source": [
    "#try without employment density variable because model is overpredicting ridership in downtown core\n",
    "#df['PRED_AVG_WD_PICKUPS'] = np.exp(1.549972*df['AIR_F'] + 0.3015202*df['TOR_F'] + 0.42573*df['LINEAR_PICKUPS_LOG'] + 0.9607838*df['LOGSUM'] - 0.0124891*df['MEDIAN_AGE'] + 0.0118363*df['P_BACH_25P'] - 0.0199943*df['JAN'] + 0.1275524*df['FEB'] + 0.0512846*df['MAR'] - 0.0202118*df['APR'] - 0.053139*df['MAY'] + 0.0023679*df['JUN'] - 0.0714656*df['JUL'] - 0.0512797*df['AUG'] + 0.012712*df['SEP'] - 0.1187213*df['OCT'] - 0.037462*df['NOV'] - 1.988736)\n"
   ]
  },
  {
   "cell_type": "code",
   "execution_count": null,
   "metadata": {},
   "outputs": [],
   "source": []
  },
  {
   "cell_type": "code",
   "execution_count": 350,
   "metadata": {},
   "outputs": [
    {
     "data": {
      "text/plain": [
       "(0, 5000)"
      ]
     },
     "execution_count": 350,
     "metadata": {},
     "output_type": "execute_result"
    },
    {
     "data": {
      "image/png": "[encoded data removed]",
      "text/plain": [
       "<Figure size 432x288 with 1 Axes>"
      ]
     },
     "metadata": {
      "needs_background": "light"
     },
     "output_type": "display_data"
    }
   ],
   "source": [
    "sns.scatterplot(y = df['PRED_AVG_WD_PICKUPS'], x = df['AVG_WD_PICKUPS'])\n",
    "plt.ylim(0,5000)\n",
    "plt.xlim(0,5000)"
   ]
  },
  {
   "cell_type": "code",
   "execution_count": 351,
   "metadata": {},
   "outputs": [],
   "source": [
    "df['DIFF'] = df['PRED_AVG_WD_PICKUPS'] - df['AVG_WD_PICKUPS']"
   ]
  },
  {
   "cell_type": "code",
   "execution_count": null,
   "metadata": {},
   "outputs": [],
   "source": []
  },
  {
   "cell_type": "code",
   "execution_count": null,
   "metadata": {},
   "outputs": [],
   "source": []
  },
  {
   "cell_type": "code",
   "execution_count": 352,
   "metadata": {},
   "outputs": [
    {
     "data": {
      "text/plain": [
       "61.17112273768784"
      ]
     },
     "execution_count": 352,
     "metadata": {},
     "output_type": "execute_result"
    }
   ],
   "source": [
    "df.AVG_WD_PICKUPS.mean()"
   ]
  },
  {
   "cell_type": "code",
   "execution_count": 353,
   "metadata": {},
   "outputs": [
    {
     "data": {
      "text/plain": [
       "63.21288885144537"
      ]
     },
     "execution_count": 353,
     "metadata": {},
     "output_type": "execute_result"
    }
   ],
   "source": [
    "df.PRED_AVG_WD_PICKUPS.mean()"
   ]
  },
  {
   "cell_type": "code",
   "execution_count": 354,
   "metadata": {},
   "outputs": [],
   "source": [
    "df['PDIFF'] = np.where(df['PICKUPS'] == 0, 0, df['DIFF']/df['AVG_WD_PICKUPS'])"
   ]
  },
  {
   "cell_type": "code",
   "execution_count": 355,
   "metadata": {},
   "outputs": [],
   "source": [
    "df['DIFF_SQUARED'] = np.square(df['DIFF'])\n",
    "df['PDIFF_SQUARED'] = np.square(df['PDIFF'])"
   ]
  },
  {
   "cell_type": "code",
   "execution_count": 356,
   "metadata": {},
   "outputs": [],
   "source": [
    "rmse = np.sqrt(df['DIFF_SQUARED'].sum()/len(df))\n",
    "rmspe = np.sqrt(df['PDIFF_SQUARED'].sum()/len(df))"
   ]
  },
  {
   "cell_type": "code",
   "execution_count": null,
   "metadata": {},
   "outputs": [],
   "source": []
  },
  {
   "cell_type": "code",
   "execution_count": 357,
   "metadata": {},
   "outputs": [
    {
     "data": {
      "text/plain": [
       "85.4116902198789"
      ]
     },
     "execution_count": 357,
     "metadata": {},
     "output_type": "execute_result"
    }
   ],
   "source": [
    "rmse"
   ]
  },
  {
   "cell_type": "code",
   "execution_count": 358,
   "metadata": {},
   "outputs": [
    {
     "data": {
      "text/plain": [
       "85.4116902198789"
      ]
     },
     "execution_count": 358,
     "metadata": {},
     "output_type": "execute_result"
    }
   ],
   "source": [
    "rmse"
   ]
  },
  {
   "cell_type": "code",
   "execution_count": 359,
   "metadata": {},
   "outputs": [
    {
     "name": "stdout",
     "output_type": "stream",
     "text": [
      "0.43428226986663776\n",
      "4428.711967454061\n",
      "63.21288885144537\n",
      "0.0\n",
      "3152.3809523809527\n",
      "61.17112273768784\n"
     ]
    }
   ],
   "source": [
    "print(df['PRED_AVG_WD_PICKUPS'].min())\n",
    "print(df['PRED_AVG_WD_PICKUPS'].max())\n",
    "print(df['PRED_AVG_WD_PICKUPS'].mean())\n",
    "\n",
    "print(df['AVG_WD_PICKUPS'].min())\n",
    "print(df['AVG_WD_PICKUPS'].max())\n",
    "print(df['AVG_WD_PICKUPS'].mean())"
   ]
  },
  {
   "cell_type": "code",
   "execution_count": null,
   "metadata": {},
   "outputs": [],
   "source": []
  },
  {
   "cell_type": "code",
   "execution_count": 360,
   "metadata": {},
   "outputs": [
    {
     "data": {
      "text/plain": [
       "1.3962746864421427"
      ]
     },
     "execution_count": 360,
     "metadata": {},
     "output_type": "execute_result"
    }
   ],
   "source": [
    "rmse/df['AVG_WD_PICKUPS'].mean()"
   ]
  },
  {
   "cell_type": "code",
   "execution_count": null,
   "metadata": {},
   "outputs": [],
   "source": []
  },
  {
   "cell_type": "code",
   "execution_count": 361,
   "metadata": {},
   "outputs": [
    {
     "data": {
      "text/plain": [
       "<matplotlib.axes._subplots.AxesSubplot at 0x19a81e54b48>"
      ]
     },
     "execution_count": 361,
     "metadata": {},
     "output_type": "execute_result"
    },
    {
     "data": {
      "image/png": "[encoded data removed]",
      "text/plain": [
       "<Figure size 432x288 with 1 Axes>"
      ]
     },
     "metadata": {
      "needs_background": "light"
     },
     "output_type": "display_data"
    }
   ],
   "source": [
    "sns.scatterplot(y = df['DIFF'], x = df.index)"
   ]
  },
  {
   "cell_type": "code",
   "execution_count": 362,
   "metadata": {},
   "outputs": [
    {
     "data": {
      "text/plain": [
       "<seaborn.axisgrid.FacetGrid at 0x19a81e53048>"
      ]
     },
     "execution_count": 362,
     "metadata": {},
     "output_type": "execute_result"
    },
    {
     "data": {
      "image/png": "[encoded data removed]",
      "text/plain": [
       "<Figure size 360x360 with 1 Axes>"
      ]
     },
     "metadata": {
      "needs_background": "light"
     },
     "output_type": "display_data"
    }
   ],
   "source": [
    "sns.displot(df['DIFF'])"
   ]
  },
  {
   "cell_type": "code",
   "execution_count": 363,
   "metadata": {},
   "outputs": [
    {
     "data": {
      "text/html": [
       "<div>\n",
       "<style scoped>\n",
       "    .dataframe tbody tr th:only-of-type {\n",
       "        vertical-align: middle;\n",
       "    }\n",
       "\n",
       "    .dataframe tbody tr th {\n",
       "        vertical-align: top;\n",
       "    }\n",
       "\n",
       "    .dataframe thead th {\n",
       "        text-align: right;\n",
       "    }\n",
       "</style>\n",
       "<table border=\"1\" class=\"dataframe\">\n",
       "  <thead>\n",
       "    <tr style=\"text-align: right;\">\n",
       "      <th></th>\n",
       "      <th>Unnamed: 0</th>\n",
       "      <th>YEAR</th>\n",
       "      <th>MONTH</th>\n",
       "      <th>TOD</th>\n",
       "      <th>ORIGIN</th>\n",
       "      <th>Unnamed: 0.1</th>\n",
       "      <th>AIR_F</th>\n",
       "      <th>DOW</th>\n",
       "      <th>HOUR</th>\n",
       "      <th>DESTINATION</th>\n",
       "      <th>...</th>\n",
       "      <th>OCT</th>\n",
       "      <th>NOV</th>\n",
       "      <th>DEC</th>\n",
       "      <th>LINEAR_PICKUPS</th>\n",
       "      <th>LINEAR_PICKUPS_LOG</th>\n",
       "      <th>PRED_AVG_WD_PICKUPS</th>\n",
       "      <th>DIFF</th>\n",
       "      <th>PDIFF</th>\n",
       "      <th>DIFF_SQUARED</th>\n",
       "      <th>PDIFF_SQUARED</th>\n",
       "    </tr>\n",
       "  </thead>\n",
       "  <tbody>\n",
       "  </tbody>\n",
       "</table>\n",
       "<p>0 rows × 212 columns</p>\n",
       "</div>"
      ],
      "text/plain": [
       "Empty DataFrame\n",
       "Columns: [Unnamed: 0, YEAR, MONTH, TOD, ORIGIN, Unnamed: 0.1, AIR_F, DOW, HOUR, DESTINATION, ORIGIN_COM_AREA, DEST_COM_AREA, FARE, TIP, ADDITIONAL_CHARGES, TOTAL_COST, SHARED_FLAGGER, NUM_TRIPS_POOLED, INTERNAL_UNSUPPRESSED_FLAGGER, INTERNAL_SUPPPRESSED_FLAGGER, EXTERNAL_FLAGGER, INTERNAL_EXTERNAL_FLAGGER, PRIVATE_PICKUPS, SHARED_PICKUPS, PICKUPS, WEEKDAYS, AVG_WD_PICKUPS, AVG_WD_PRIVATE_PICKUPS, AVG_WD_SHARED_PICKUPS, TOTAL_POP_WITHIN_5, TOTAL_POP_WITHIN_15, TOTAL_POP_WITHIN_30, TOTAL_POP_WITHIN_45, TOTAL_POP_WITHIN_60, TOTAL_HHLDS_MORE_150K_WITHIN_60, TOTAL_HHLDS_MORE_150K_WITHIN_45, TOTAL_HHLDS_MORE_150K_WITHIN_30, TOTAL_HHLDS_MORE_150K_WITHIN_15, TOTAL_HHLDS_MORE_150K_WITHIN_5, TOTAL_HHLDS_WITHIN_60, TOTAL_HHLDS_WITHIN_45, TOTAL_HHLDS_WITHIN_30, TOTAL_HHLDS_WITHIN_15, TOTAL_HHLDS_WITHIN_5, FOOD_SERVICES_EMP_WITHIN_60, FOOD_SERVICES_EMP_WITHIN_45, FOOD_SERVICES_EMP_WITHIN_30, FOOD_SERVICES_EMP_WITHIN_15, FOOD_SERVICES_EMP_WITHIN_5, OTHER_EMP_WITHIN_60, OTHER_EMP_WITHIN_45, OTHER_EMP_WITHIN_30, OTHER_EMP_WITHIN_15, OTHER_EMP_WITHIN_5, RETAIL_EMP_WITHIN_60, RETAIL_EMP_WITHIN_45, RETAIL_EMP_WITHIN_30, RETAIL_EMP_WITHIN_15, RETAIL_EMP_WITHIN_5, TOTAL_EMP_WITHIN_60, TOTAL_EMP_WITHIN_45, TOTAL_EMP_WITHIN_30, TOTAL_EMP_WITHIN_15, TOTAL_EMP_WITHIN_5, TRACTCE10, PER_OTHER, PER_FOOD, PER_RETAIL, TOTAL_EMP, RETAIL_EMP, OTHER_EMP, FOOD_EMP, PER_20_35, P_BACH_25P, PER_35_65, PER_65P, CENSUS_TRACT, TOTAL_POP, TOTAL_HHLDS, AVG_HHLD_SIZE, HHLDS_MEAN_INCOME, HHLDS_LESS_35K, HHLDS_35K_150K, HHLDS_MORE_150K, HHLDS_0_VEH, AVG_VEH_PER_HHLD, HHLDS_MEDIAN_INCOME, TOTAL_POP_25P_BACHELORS_HIGHER, TOTAL_MALE, TOTAL_FEMALE, MEDIAN_AGE, LOGSUM, TOTAL_POP_WITHIN_5_AUTO, TOTAL_POP_WITHIN_15_AUTO, TOTAL_POP_WITHIN_30_AUTO, TOTAL_POP_WITHIN_45_AUTO, TOTAL_POP_WITHIN_60_AUTO, TOTAL_HHLDS_MORE_150K_WITHIN_60_AUTO, TOTAL_HHLDS_MORE_150K_WITHIN_45_AUTO, TOTAL_HHLDS_MORE_150K_WITHIN_30_AUTO, ...]\n",
       "Index: []\n",
       "\n",
       "[0 rows x 212 columns]"
      ]
     },
     "execution_count": 363,
     "metadata": {},
     "output_type": "execute_result"
    }
   ],
   "source": [
    "df[df['DIFF'] < -2000]"
   ]
  },
  {
   "cell_type": "code",
   "execution_count": 364,
   "metadata": {},
   "outputs": [
    {
     "data": {
      "text/html": [
       "<div>\n",
       "<style scoped>\n",
       "    .dataframe tbody tr th:only-of-type {\n",
       "        vertical-align: middle;\n",
       "    }\n",
       "\n",
       "    .dataframe tbody tr th {\n",
       "        vertical-align: top;\n",
       "    }\n",
       "\n",
       "    .dataframe thead th {\n",
       "        text-align: right;\n",
       "    }\n",
       "</style>\n",
       "<table border=\"1\" class=\"dataframe\">\n",
       "  <thead>\n",
       "    <tr style=\"text-align: right;\">\n",
       "      <th></th>\n",
       "      <th>YEAR</th>\n",
       "      <th>MONTH</th>\n",
       "      <th>AVG_WD_PICKUPS</th>\n",
       "      <th>PRED_AVG_WD_PICKUPS</th>\n",
       "    </tr>\n",
       "  </thead>\n",
       "  <tbody>\n",
       "    <tr>\n",
       "      <th>0</th>\n",
       "      <td>2019</td>\n",
       "      <td>1</td>\n",
       "      <td>44510.782609</td>\n",
       "      <td>48116.716877</td>\n",
       "    </tr>\n",
       "    <tr>\n",
       "      <th>1</th>\n",
       "      <td>2020</td>\n",
       "      <td>1</td>\n",
       "      <td>44983.478261</td>\n",
       "      <td>41795.612470</td>\n",
       "    </tr>\n",
       "    <tr>\n",
       "      <th>2</th>\n",
       "      <td>2019</td>\n",
       "      <td>2</td>\n",
       "      <td>53680.750000</td>\n",
       "      <td>58718.512481</td>\n",
       "    </tr>\n",
       "    <tr>\n",
       "      <th>3</th>\n",
       "      <td>2020</td>\n",
       "      <td>2</td>\n",
       "      <td>51336.550000</td>\n",
       "      <td>48265.049776</td>\n",
       "    </tr>\n",
       "    <tr>\n",
       "      <th>4</th>\n",
       "      <td>2019</td>\n",
       "      <td>3</td>\n",
       "      <td>54625.333333</td>\n",
       "      <td>59545.186936</td>\n",
       "    </tr>\n",
       "    <tr>\n",
       "      <th>5</th>\n",
       "      <td>2019</td>\n",
       "      <td>4</td>\n",
       "      <td>50065.000000</td>\n",
       "      <td>52153.431916</td>\n",
       "    </tr>\n",
       "    <tr>\n",
       "      <th>6</th>\n",
       "      <td>2019</td>\n",
       "      <td>5</td>\n",
       "      <td>49837.869565</td>\n",
       "      <td>52587.076876</td>\n",
       "    </tr>\n",
       "    <tr>\n",
       "      <th>7</th>\n",
       "      <td>2019</td>\n",
       "      <td>6</td>\n",
       "      <td>49000.250000</td>\n",
       "      <td>50248.165982</td>\n",
       "    </tr>\n",
       "    <tr>\n",
       "      <th>8</th>\n",
       "      <td>2019</td>\n",
       "      <td>7</td>\n",
       "      <td>45928.695652</td>\n",
       "      <td>47958.245431</td>\n",
       "    </tr>\n",
       "    <tr>\n",
       "      <th>9</th>\n",
       "      <td>2019</td>\n",
       "      <td>8</td>\n",
       "      <td>47732.818182</td>\n",
       "      <td>48579.762236</td>\n",
       "    </tr>\n",
       "    <tr>\n",
       "      <th>10</th>\n",
       "      <td>2019</td>\n",
       "      <td>9</td>\n",
       "      <td>46898.000000</td>\n",
       "      <td>47678.193841</td>\n",
       "    </tr>\n",
       "    <tr>\n",
       "      <th>11</th>\n",
       "      <td>2019</td>\n",
       "      <td>10</td>\n",
       "      <td>50047.304348</td>\n",
       "      <td>49814.747933</td>\n",
       "    </tr>\n",
       "    <tr>\n",
       "      <th>12</th>\n",
       "      <td>2018</td>\n",
       "      <td>11</td>\n",
       "      <td>49337.772727</td>\n",
       "      <td>52148.710547</td>\n",
       "    </tr>\n",
       "    <tr>\n",
       "      <th>13</th>\n",
       "      <td>2019</td>\n",
       "      <td>11</td>\n",
       "      <td>50243.904762</td>\n",
       "      <td>50288.842884</td>\n",
       "    </tr>\n",
       "    <tr>\n",
       "      <th>14</th>\n",
       "      <td>2018</td>\n",
       "      <td>12</td>\n",
       "      <td>45577.190476</td>\n",
       "      <td>47918.175650</td>\n",
       "    </tr>\n",
       "    <tr>\n",
       "      <th>15</th>\n",
       "      <td>2019</td>\n",
       "      <td>12</td>\n",
       "      <td>50163.409091</td>\n",
       "      <td>53637.843198</td>\n",
       "    </tr>\n",
       "  </tbody>\n",
       "</table>\n",
       "</div>"
      ],
      "text/plain": [
       "    YEAR  MONTH  AVG_WD_PICKUPS  PRED_AVG_WD_PICKUPS\n",
       "0   2019      1    44510.782609         48116.716877\n",
       "1   2020      1    44983.478261         41795.612470\n",
       "2   2019      2    53680.750000         58718.512481\n",
       "3   2020      2    51336.550000         48265.049776\n",
       "4   2019      3    54625.333333         59545.186936\n",
       "5   2019      4    50065.000000         52153.431916\n",
       "6   2019      5    49837.869565         52587.076876\n",
       "7   2019      6    49000.250000         50248.165982\n",
       "8   2019      7    45928.695652         47958.245431\n",
       "9   2019      8    47732.818182         48579.762236\n",
       "10  2019      9    46898.000000         47678.193841\n",
       "11  2019     10    50047.304348         49814.747933\n",
       "12  2018     11    49337.772727         52148.710547\n",
       "13  2019     11    50243.904762         50288.842884\n",
       "14  2018     12    45577.190476         47918.175650\n",
       "15  2019     12    50163.409091         53637.843198"
      ]
     },
     "execution_count": 364,
     "metadata": {},
     "output_type": "execute_result"
    }
   ],
   "source": [
    "df['PRED_PICKUPS'] = df['PRED_AVG_WD_PICKUPS']*df['WEEKDAYS']\n",
    "\n",
    "df_sum = df[['MONTH','YEAR','PRED_PICKUPS','PICKUPS','WEEKDAYS']].groupby(by = ['MONTH','YEAR'], as_index = False).agg(agg)\n",
    "\n",
    "df_sum['AVG_WD_PICKUPS'] = df_sum['PICKUPS']/df_sum['WEEKDAYS']\n",
    "df_sum['PRED_AVG_WD_PICKUPS'] = df_sum['PRED_PICKUPS']/df_sum['WEEKDAYS']\n",
    "\n",
    "df_sum[['YEAR','MONTH','AVG_WD_PICKUPS','PRED_AVG_WD_PICKUPS']]"
   ]
  },
  {
   "cell_type": "code",
   "execution_count": 365,
   "metadata": {},
   "outputs": [],
   "source": [
    "df_map = df[['PICKUPS','PRED_PICKUPS','ORIGIN']].groupby(by = 'ORIGIN', as_index = False).sum()\n",
    "df_map['PRED_AVG_WD_PICKUPS'] = df_map['PRED_PICKUPS']/weekday['WEEKDAYS'].sum()\n",
    "df_map['AVG_WD_PICKUPS'] = df_map['PICKUPS']/weekday['WEEKDAYS'].sum()\n",
    "\n",
    "df_map['DIFF'] = df_map['PRED_AVG_WD_PICKUPS'] - df_map['AVG_WD_PICKUPS']\n",
    "df_map['PDIFF'] = np.where(df_map['PICKUPS'] == 0, 0, df_map['DIFF']/df_map['AVG_WD_PICKUPS'])"
   ]
  },
  {
   "cell_type": "code",
   "execution_count": null,
   "metadata": {},
   "outputs": [],
   "source": []
  },
  {
   "cell_type": "code",
   "execution_count": 366,
   "metadata": {},
   "outputs": [
    {
     "name": "stderr",
     "output_type": "stream",
     "text": [
      "C:\\Users\\ramu225\\Anaconda3\\lib\\site-packages\\folium\\folium.py:415: FutureWarning: The choropleth  method has been deprecated. Instead use the new Choropleth class, which has the same arguments. See the example notebook 'GeoJSON_and_choropleth' for how to do this.\n",
      "  FutureWarning\n"
     ]
    }
   ],
   "source": [
    "# Initialize the map: \n",
    "m = folium.Map([41.8781, -87.6298], zoom_start=11)\n",
    "\n",
    "\n",
    "m = folium.Map([41.8781, -87.6298], zoom_start=11)\n",
    "\n",
    "\n",
    "#rh_tod_tract = rh_tod_tract.groupby(by = ['Pickup Census Tract','Dropoff Census Tract'], as_index = False).sum()\n",
    "\n",
    "# bins = np.quantile(rh_tod_tract['TOTAL_TRIPS'], [0, 0.25, 0.5, 0.75, 0.98, 1])\n",
    "\n",
    "# Add the color for the chloropleth:\n",
    "m.choropleth(\n",
    " geo_data=geo,\n",
    " name= 'TOD 5 Trip Generation Model Accuracy',\n",
    " data=df_map,\n",
    " columns = ['ORIGIN', 'AVG_WD_PICKUPS'],\n",
    " key_on='feature.properties.geoid10',\n",
    " fill_color='RdPu',\n",
    " fill_opacity=0.6,\n",
    " line_opacity=0.2,\n",
    " legend_name='Observed Pickups',\n",
    " highlight = True\n",
    ")\n",
    "\n",
    "folium.LayerControl().add_to(m)\n",
    "\n",
    "m.save('C:/Workspace/TNC-Demand-Model/Data Exploration/Trip Generation Maps/Negative Binomial/' + 'TOD_5_Observed_Pickups.html')\n",
    "\n"
   ]
  },
  {
   "cell_type": "code",
   "execution_count": 367,
   "metadata": {},
   "outputs": [],
   "source": [
    "# Initialize the map: \n",
    "m = folium.Map([41.8781, -87.6298], zoom_start=11)\n",
    "\n",
    "\n",
    "m = folium.Map([41.8781, -87.6298], zoom_start=11)\n",
    "\n",
    "\n",
    "#rh_tod_tract = rh_tod_tract.groupby(by = ['Pickup Census Tract','Dropoff Census Tract'], as_index = False).sum()\n",
    "\n",
    "# bins = np.quantile(rh_tod_tract['TOTAL_TRIPS'], [0, 0.25, 0.5, 0.75, 0.98, 1])\n",
    "\n",
    "# Add the color for the chloropleth:\n",
    "m.choropleth(\n",
    " geo_data=geo,\n",
    " name= 'TOD 5 Trip Generation Model Accuracy',\n",
    " data=df_map,\n",
    " columns = ['ORIGIN', 'PRED_PICKUPS'],\n",
    " key_on='feature.properties.geoid10',\n",
    " fill_color='RdPu',\n",
    " fill_opacity=0.6,\n",
    " line_opacity=0.2,\n",
    " legend_name='Predicted Pickups',\n",
    " highlight = True\n",
    ")\n",
    "\n",
    "folium.LayerControl().add_to(m)\n",
    "\n",
    "m.save('C:/Workspace/TNC-Demand-Model/Data Exploration/Trip Generation Maps/Negative Binomial/' + 'TOD_5_Predicted_Pickups.html')\n",
    "\n"
   ]
  },
  {
   "cell_type": "code",
   "execution_count": 368,
   "metadata": {},
   "outputs": [],
   "source": [
    "# Initialize the map: \n",
    "m = folium.Map([41.8781, -87.6298], zoom_start=11)\n",
    "\n",
    "\n",
    "#rh_tod_tract = rh_tod_tract.groupby(by = ['Pickup Census Tract','Dropoff Census Tract'], as_index = False).sum()\n",
    "\n",
    "bins = [-2000, -1000, -150, 150, 1000, 2000]\n",
    "\n",
    "# Add the color for the chloropleth:\n",
    "m.choropleth(\n",
    " geo_data=geo,\n",
    " name= 'TOD 5 Trip Generation Model Accuracy',\n",
    " data=df_map,\n",
    " columns = ['ORIGIN', 'DIFF'],\n",
    " key_on='feature.properties.geoid10',\n",
    " fill_color='RdYlGn',\n",
    " fill_opacity=0.6,\n",
    " line_opacity=0.2,\n",
    " bins = bins,\n",
    " legend_name='Diff Pickups',\n",
    " highlight = True\n",
    ")\n",
    "\n",
    "folium.LayerControl().add_to(m)\n",
    "\n",
    "m.save('C:/Workspace/TNC-Demand-Model/Data Exploration/Trip Generation Maps/Negative Binomial/' + 'TOD_5_Pickups_Diff.html')\n",
    "\n"
   ]
  },
  {
   "cell_type": "code",
   "execution_count": 369,
   "metadata": {},
   "outputs": [],
   "source": [
    "# Initialize the map: \n",
    "m = folium.Map([41.8781, -87.6298], zoom_start=11)\n",
    "\n",
    "\n",
    "m = folium.Map([41.8781, -87.6298], zoom_start=11)\n",
    "\n",
    "\n",
    "#rh_tod_tract = rh_tod_tract.groupby(by = ['Pickup Census Tract','Dropoff Census Tract'], as_index = False).sum()\n",
    "\n",
    "# bins = np.quantile(rh_tod_tract['TOTAL_TRIPS'], [0, 0.25, 0.5, 0.75, 0.98, 1])\n",
    "\n",
    "# Add the color for the chloropleth:\n",
    "m.choropleth(\n",
    " geo_data=geo,\n",
    " name= 'TOD 5 Trip Generation Model Accuracy',\n",
    " data=df_map,\n",
    " columns = ['ORIGIN', 'PDIFF'],\n",
    " key_on='feature.properties.geoid10',\n",
    " fill_color='RdYlGn',\n",
    " fill_opacity=0.6,\n",
    " line_opacity=0.2,\n",
    " legend_name='PDiff Pickups',\n",
    " highlight = True\n",
    ")\n",
    "\n",
    "folium.LayerControl().add_to(m)\n",
    "\n",
    "m.save('C:/Workspace/TNC-Demand-Model/Data Exploration/Trip Generation Maps/Negative Binomial/' + 'TOD_5_Pickups_PDiff.html')\n",
    "\n"
   ]
  },
  {
   "cell_type": "code",
   "execution_count": 370,
   "metadata": {},
   "outputs": [
    {
     "data": {
      "text/plain": [
       "<seaborn.axisgrid.FacetGrid at 0x19a86acae88>"
      ]
     },
     "execution_count": 370,
     "metadata": {},
     "output_type": "execute_result"
    },
    {
     "data": {
      "image/png": "[encoded data removed]",
      "text/plain": [
       "<Figure size 360x360 with 1 Axes>"
      ]
     },
     "metadata": {
      "needs_background": "light"
     },
     "output_type": "display_data"
    }
   ],
   "source": [
    "sns.displot(df['PRED_PICKUPS'])"
   ]
  },
  {
   "cell_type": "code",
   "execution_count": 371,
   "metadata": {},
   "outputs": [
    {
     "data": {
      "text/plain": [
       "<seaborn.axisgrid.FacetGrid at 0x19a84e331c8>"
      ]
     },
     "execution_count": 371,
     "metadata": {},
     "output_type": "execute_result"
    },
    {
     "data": {
      "image/png": "[encoded data removed]",
      "text/plain": [
       "<Figure size 360x360 with 1 Axes>"
      ]
     },
     "metadata": {
      "needs_background": "light"
     },
     "output_type": "display_data"
    }
   ],
   "source": [
    "sns.displot(df['PICKUPS'])"
   ]
  },
  {
   "cell_type": "markdown",
   "metadata": {},
   "source": [
    "# Combine all TODs"
   ]
  },
  {
   "cell_type": "code",
   "execution_count": 456,
   "metadata": {},
   "outputs": [],
   "source": [
    "df = pd.read_csv('C:/Workspace/TNC-Demand-Model/Outputs/NB_Estimation_File_TOD_1.csv', index_col = 0)"
   ]
  },
  {
   "cell_type": "code",
   "execution_count": 457,
   "metadata": {},
   "outputs": [],
   "source": [
    "df['PRED_AVG_WD_PICKUPS'] = np.exp(0.00000118*df['TOTAL_EMP_DEN'] + 0.680962*df['AIR_F'] + 0.4286697*df['LINEAR_PICKUPS_LOG'] + 1*df['LOGSUM'] - 0.0125105*df['MEDIAN_AGE'] + 0.0122858*df['P_BACH_25P'] - 0.0272565*df['JAN'] + 0.092326*df['FEB'] + 0.0214312*df['MAR'] - 0.0045294*df['APR'] - 0.0904432*df['MAY'] - 0.0007722*df['JUN'] - 0.0577919*df['JUL'] - 0.0710399*df['AUG'] - 0.0056855*df['SEP'] - 0.0829964*df['OCT'] - 0.0286562*df['NOV'] - 2.18388)"
   ]
  },
  {
   "cell_type": "code",
   "execution_count": 458,
   "metadata": {},
   "outputs": [],
   "source": [
    "df['PRED_PICKUPS'] = df['PRED_AVG_WD_PICKUPS'] * df['WEEKDAYS']"
   ]
  },
  {
   "cell_type": "code",
   "execution_count": 459,
   "metadata": {},
   "outputs": [],
   "source": [
    "df2 = pd.read_csv('C:/Workspace/TNC-Demand-Model/Outputs/NB_Estimation_File_TOD_2.csv', index_col = 0)"
   ]
  },
  {
   "cell_type": "code",
   "execution_count": 460,
   "metadata": {},
   "outputs": [],
   "source": [
    "df2['PRED_AVG_WD_PICKUPS'] = np.exp(0.4824445*df2['LINEAR_PICKUPS_LOG'] + 0.7606834*df2['LOGSUM'] - 0.021577*df2['MEDIAN_AGE'] + 0.010126*df2['P_BACH_25P'] + 0.0457553*df2['JAN'] + 0.1857645*df2['FEB'] + 0.1195655*df2['MAR'] + 0.0221739*df2['APR'] - 0.0006454*df2['MAY'] - 0.0268051*df2['JUN'] - 0.0794999*df2['JUL'] - 0.0569805*df2['AUG'] + 0.0669536*df2['SEP'] - 0.0094032*df2['OCT'] + 0.0161226*df2['NOV'] - 0.3938846)"
   ]
  },
  {
   "cell_type": "code",
   "execution_count": 461,
   "metadata": {},
   "outputs": [],
   "source": [
    "df2['PRED_PICKUPS'] = df2['PRED_AVG_WD_PICKUPS'] * df2['WEEKDAYS']"
   ]
  },
  {
   "cell_type": "code",
   "execution_count": 462,
   "metadata": {},
   "outputs": [],
   "source": [
    "df3 = pd.read_csv('C:/Workspace/TNC-Demand-Model/Outputs/NB_Estimation_File_TOD_3.csv', index_col = 0)"
   ]
  },
  {
   "cell_type": "code",
   "execution_count": 463,
   "metadata": {},
   "outputs": [],
   "source": [
    "df3['PRED_AVG_WD_PICKUPS'] = np.exp(0.5081466*df3['LINEAR_PICKUPS_LOG'] + 0.8786282*df3['LOGSUM'] - 0.0170704*df3['MEDIAN_AGE'] + 0.0055766*df3['P_BACH_25P'] + 0.000000282*df3['TOTAL_EMP_DEN'] + 0.012884*df3['JAN'] + 0.1752346*df3['FEB'] + 0.0990773*df3['MAR'] + 0.0013584*df3['APR'] - 0.0497147*df3['MAY'] + 0.018631*df3['JUN'] - 0.0532932*df3['JUL'] - 0.0058279*df3['AUG'] + 0.0028089*df3['SEP'] - 0.0731326*df3['OCT'] - 0.0123096*df3['NOV'] - 1.383358)"
   ]
  },
  {
   "cell_type": "code",
   "execution_count": 464,
   "metadata": {},
   "outputs": [],
   "source": [
    "df3['PRED_PICKUPS'] = df3['PRED_AVG_WD_PICKUPS'] * df3['WEEKDAYS']"
   ]
  },
  {
   "cell_type": "code",
   "execution_count": 465,
   "metadata": {},
   "outputs": [],
   "source": [
    "df4 = pd.read_csv('C:/Workspace/TNC-Demand-Model/Outputs/NB_Estimation_File_TOD_4.csv', index_col = 0)"
   ]
  },
  {
   "cell_type": "code",
   "execution_count": 466,
   "metadata": {},
   "outputs": [],
   "source": [
    "df4['PRED_AVG_WD_PICKUPS'] = np.exp(0.5627946*df4['AIR_F'] + 0.5095866*df4['TOR_F'] + 0.4756048*df4['LINEAR_PICKUPS_LOG'] + 0.7888591*df4['LOGSUM'] - 0.0118875*df4['MEDIAN_AGE'] + 0.0075725*df4['P_BACH_25P'] + 0.00000146*df4['TOTAL_EMP_DEN'] + 0.0078173*df4['JAN'] + 0.1620684*df4['FEB'] + 0.1162663*df4['MAR'] + 0.0025886*df4['APR'] - 0.0205536*df4['MAY'] - 0.0065466*df4['JUN'] - 0.0771755*df4['JUL'] - 0.0704231*df4['AUG'] - 0.0105243*df4['SEP'] - 0.0759592*df4['OCT'] - 0.0124302*df4['NOV'] - 0.7682488)\n"
   ]
  },
  {
   "cell_type": "code",
   "execution_count": 467,
   "metadata": {},
   "outputs": [],
   "source": [
    "df4['PRED_PICKUPS'] = df4['PRED_AVG_WD_PICKUPS'] * df4['WEEKDAYS']"
   ]
  },
  {
   "cell_type": "code",
   "execution_count": 468,
   "metadata": {},
   "outputs": [],
   "source": [
    "df5 = pd.read_csv('C:/Workspace/TNC-Demand-Model/Outputs/NB_Estimation_File_TOD_5.csv', index_col = 0)"
   ]
  },
  {
   "cell_type": "code",
   "execution_count": 469,
   "metadata": {},
   "outputs": [],
   "source": [
    "df5['PRED_AVG_WD_PICKUPS'] = np.exp(1.727653*df5['AIR_F'] + 0.3913404*df5['TOR_F'] + 0.00000227*df5['TOTAL_EMP_DEN'] + 0.3951846*df5['LINEAR_PICKUPS_LOG'] + 0.9510595*df5['LOGSUM'] - 0.0115566*df5['MEDIAN_AGE'] + 0.0118989*df5['P_BACH_25P'] - 0.0219361*df5['JAN'] + 0.1258953*df5['FEB'] + 0.0521633*df5['MAR'] - 0.0202118*df5['APR'] - 0.0520968*df5['MAY'] + 0.0023221*df5['JUN'] - 0.0706365*df5['JUL'] - 0.0507273*df5['AUG'] + 0.012712*df5['SEP'] - 0.1187213*df5['OCT'] - 0.037462*df5['NOV'] - 1.907285)\n"
   ]
  },
  {
   "cell_type": "code",
   "execution_count": 470,
   "metadata": {},
   "outputs": [],
   "source": [
    "df5['PRED_PICKUPS'] = df5['PRED_AVG_WD_PICKUPS'] * df5['WEEKDAYS']"
   ]
  },
  {
   "cell_type": "code",
   "execution_count": 471,
   "metadata": {},
   "outputs": [],
   "source": [
    "df = df.append(df2)"
   ]
  },
  {
   "cell_type": "code",
   "execution_count": 472,
   "metadata": {},
   "outputs": [],
   "source": [
    "df = df.append(df3)"
   ]
  },
  {
   "cell_type": "code",
   "execution_count": 473,
   "metadata": {},
   "outputs": [],
   "source": [
    "df = df.append(df4)"
   ]
  },
  {
   "cell_type": "code",
   "execution_count": 474,
   "metadata": {},
   "outputs": [],
   "source": [
    "df = df.append(df5)"
   ]
  },
  {
   "cell_type": "code",
   "execution_count": 475,
   "metadata": {},
   "outputs": [],
   "source": [
    "df[['YEAR','MONTH','TOD','ORIGIN','PRED_PICKUPS','PRED_AVG_WD_PICKUPS','PICKUPS','AVG_WD_PICKUPS']].to_csv('C:/Workspace/TNC-Demand-Model/Outputs/Trip_Generation_Predicted_Pickups.csv')"
   ]
  },
  {
   "cell_type": "code",
   "execution_count": 476,
   "metadata": {},
   "outputs": [
    {
     "data": {
      "text/plain": [
       "64080"
      ]
     },
     "execution_count": 476,
     "metadata": {},
     "output_type": "execute_result"
    }
   ],
   "source": [
    "len(df)"
   ]
  },
  {
   "cell_type": "code",
   "execution_count": 477,
   "metadata": {},
   "outputs": [
    {
     "data": {
      "text/html": [
       "<div>\n",
       "<style scoped>\n",
       "    .dataframe tbody tr th:only-of-type {\n",
       "        vertical-align: middle;\n",
       "    }\n",
       "\n",
       "    .dataframe tbody tr th {\n",
       "        vertical-align: top;\n",
       "    }\n",
       "\n",
       "    .dataframe thead th {\n",
       "        text-align: right;\n",
       "    }\n",
       "</style>\n",
       "<table border=\"1\" class=\"dataframe\">\n",
       "  <thead>\n",
       "    <tr style=\"text-align: right;\">\n",
       "      <th></th>\n",
       "      <th></th>\n",
       "      <th>PRED_PICKUPS</th>\n",
       "      <th>PICKUPS</th>\n",
       "    </tr>\n",
       "    <tr>\n",
       "      <th>YEAR</th>\n",
       "      <th>MONTH</th>\n",
       "      <th></th>\n",
       "      <th></th>\n",
       "    </tr>\n",
       "  </thead>\n",
       "  <tbody>\n",
       "    <tr>\n",
       "      <th rowspan=\"2\" valign=\"top\">2018</th>\n",
       "      <th>11</th>\n",
       "      <td>5.720321e+06</td>\n",
       "      <td>5563865.0</td>\n",
       "    </tr>\n",
       "    <tr>\n",
       "      <th>12</th>\n",
       "      <td>4.936544e+06</td>\n",
       "      <td>4893424.0</td>\n",
       "    </tr>\n",
       "    <tr>\n",
       "      <th rowspan=\"12\" valign=\"top\">2019</th>\n",
       "      <th>1</th>\n",
       "      <td>5.946070e+06</td>\n",
       "      <td>5620312.0</td>\n",
       "    </tr>\n",
       "    <tr>\n",
       "      <th>2</th>\n",
       "      <td>5.908076e+06</td>\n",
       "      <td>5481076.0</td>\n",
       "    </tr>\n",
       "    <tr>\n",
       "      <th>3</th>\n",
       "      <td>6.260802e+06</td>\n",
       "      <td>5951553.0</td>\n",
       "    </tr>\n",
       "    <tr>\n",
       "      <th>4</th>\n",
       "      <td>5.845368e+06</td>\n",
       "      <td>5822388.0</td>\n",
       "    </tr>\n",
       "    <tr>\n",
       "      <th>5</th>\n",
       "      <td>6.185954e+06</td>\n",
       "      <td>6128316.0</td>\n",
       "    </tr>\n",
       "    <tr>\n",
       "      <th>6</th>\n",
       "      <td>5.046663e+06</td>\n",
       "      <td>5151790.0</td>\n",
       "    </tr>\n",
       "    <tr>\n",
       "      <th>7</th>\n",
       "      <td>5.670196e+06</td>\n",
       "      <td>5695604.0</td>\n",
       "    </tr>\n",
       "    <tr>\n",
       "      <th>8</th>\n",
       "      <td>5.499572e+06</td>\n",
       "      <td>5586680.0</td>\n",
       "    </tr>\n",
       "    <tr>\n",
       "      <th>9</th>\n",
       "      <td>5.097467e+06</td>\n",
       "      <td>5185930.0</td>\n",
       "    </tr>\n",
       "    <tr>\n",
       "      <th>10</th>\n",
       "      <td>5.778017e+06</td>\n",
       "      <td>5919425.0</td>\n",
       "    </tr>\n",
       "    <tr>\n",
       "      <th>11</th>\n",
       "      <td>5.308613e+06</td>\n",
       "      <td>5502521.0</td>\n",
       "    </tr>\n",
       "    <tr>\n",
       "      <th>12</th>\n",
       "      <td>5.710261e+06</td>\n",
       "      <td>5591595.0</td>\n",
       "    </tr>\n",
       "    <tr>\n",
       "      <th rowspan=\"2\" valign=\"top\">2020</th>\n",
       "      <th>1</th>\n",
       "      <td>5.189630e+06</td>\n",
       "      <td>5571495.0</td>\n",
       "    </tr>\n",
       "    <tr>\n",
       "      <th>2</th>\n",
       "      <td>4.953978e+06</td>\n",
       "      <td>5267871.0</td>\n",
       "    </tr>\n",
       "  </tbody>\n",
       "</table>\n",
       "</div>"
      ],
      "text/plain": [
       "            PRED_PICKUPS    PICKUPS\n",
       "YEAR MONTH                         \n",
       "2018 11     5.720321e+06  5563865.0\n",
       "     12     4.936544e+06  4893424.0\n",
       "2019 1      5.946070e+06  5620312.0\n",
       "     2      5.908076e+06  5481076.0\n",
       "     3      6.260802e+06  5951553.0\n",
       "     4      5.845368e+06  5822388.0\n",
       "     5      6.185954e+06  6128316.0\n",
       "     6      5.046663e+06  5151790.0\n",
       "     7      5.670196e+06  5695604.0\n",
       "     8      5.499572e+06  5586680.0\n",
       "     9      5.097467e+06  5185930.0\n",
       "     10     5.778017e+06  5919425.0\n",
       "     11     5.308613e+06  5502521.0\n",
       "     12     5.710261e+06  5591595.0\n",
       "2020 1      5.189630e+06  5571495.0\n",
       "     2      4.953978e+06  5267871.0"
      ]
     },
     "execution_count": 477,
     "metadata": {},
     "output_type": "execute_result"
    }
   ],
   "source": [
    "df[['YEAR','MONTH','PRED_PICKUPS','PICKUPS']].groupby(by = ['YEAR','MONTH']).sum()"
   ]
  },
  {
   "cell_type": "code",
   "execution_count": 478,
   "metadata": {},
   "outputs": [],
   "source": [
    "weekday = pd.read_csv('C:/Workspace/TNC-Demand-Model/Outputs/Number of Weekdays.csv')\n"
   ]
  },
  {
   "cell_type": "code",
   "execution_count": 479,
   "metadata": {},
   "outputs": [],
   "source": [
    "df = pd.read_csv('C:/Workspace/TNC-Demand-Model/Outputs/Trip_Generation_Predicted_Pickups.csv')"
   ]
  },
  {
   "cell_type": "code",
   "execution_count": 480,
   "metadata": {},
   "outputs": [],
   "source": [
    "df = df.merge(weekday, on = ['YEAR','MONTH'])"
   ]
  },
  {
   "cell_type": "code",
   "execution_count": null,
   "metadata": {},
   "outputs": [],
   "source": []
  },
  {
   "cell_type": "code",
   "execution_count": 13,
   "metadata": {},
   "outputs": [],
   "source": []
  },
  {
   "cell_type": "code",
   "execution_count": null,
   "metadata": {},
   "outputs": [],
   "source": []
  },
  {
   "cell_type": "code",
   "execution_count": 500,
   "metadata": {},
   "outputs": [
    {
     "data": {
      "text/plain": [
       "89057531.0695046"
      ]
     },
     "execution_count": 500,
     "metadata": {},
     "output_type": "execute_result"
    }
   ],
   "source": [
    "df.PRED_PICKUPS.sum()"
   ]
  },
  {
   "cell_type": "code",
   "execution_count": 499,
   "metadata": {},
   "outputs": [
    {
     "data": {
      "text/plain": [
       "88933845.0"
      ]
     },
     "execution_count": 499,
     "metadata": {},
     "output_type": "execute_result"
    }
   ],
   "source": [
    "df.PICKUPS.sum()"
   ]
  },
  {
   "cell_type": "code",
   "execution_count": 494,
   "metadata": {},
   "outputs": [
    {
     "data": {
      "text/plain": [
       "38962.08933717579"
      ]
     },
     "execution_count": 494,
     "metadata": {},
     "output_type": "execute_result"
    }
   ],
   "source": [
    "df[df['TOD'] == 1]['PICKUPS'].sum()/weekday.WEEKDAYS.sum()"
   ]
  },
  {
   "cell_type": "code",
   "execution_count": 495,
   "metadata": {},
   "outputs": [
    {
     "data": {
      "text/plain": [
       "35640.24783861671"
      ]
     },
     "execution_count": 495,
     "metadata": {},
     "output_type": "execute_result"
    }
   ],
   "source": [
    "df[df['TOD'] == 2]['PICKUPS'].sum()/weekday.WEEKDAYS.sum()"
   ]
  },
  {
   "cell_type": "code",
   "execution_count": 496,
   "metadata": {},
   "outputs": [
    {
     "data": {
      "text/plain": [
       "82131.64553314121"
      ]
     },
     "execution_count": 496,
     "metadata": {},
     "output_type": "execute_result"
    }
   ],
   "source": [
    "df[df['TOD'] == 3]['PICKUPS'].sum()/weekday.WEEKDAYS.sum()"
   ]
  },
  {
   "cell_type": "code",
   "execution_count": 497,
   "metadata": {},
   "outputs": [
    {
     "data": {
      "text/plain": [
       "50633.72910662824"
      ]
     },
     "execution_count": 497,
     "metadata": {},
     "output_type": "execute_result"
    }
   ],
   "source": [
    "df[df['TOD'] == 4]['PICKUPS'].sum()/weekday.WEEKDAYS.sum()"
   ]
  },
  {
   "cell_type": "code",
   "execution_count": 498,
   "metadata": {},
   "outputs": [
    {
     "data": {
      "text/plain": [
       "48925.78962536023"
      ]
     },
     "execution_count": 498,
     "metadata": {},
     "output_type": "execute_result"
    }
   ],
   "source": [
    "df[df['TOD'] == 5]['PICKUPS'].sum()/weekday.WEEKDAYS.sum()"
   ]
  },
  {
   "cell_type": "code",
   "execution_count": 486,
   "metadata": {},
   "outputs": [
    {
     "data": {
      "text/plain": [
       "256293.50144092218"
      ]
     },
     "execution_count": 486,
     "metadata": {},
     "output_type": "execute_result"
    }
   ],
   "source": [
    "df.PICKUPS.sum()/weekday.WEEKDAYS.sum()"
   ]
  },
  {
   "cell_type": "code",
   "execution_count": 487,
   "metadata": {},
   "outputs": [
    {
     "data": {
      "text/plain": [
       "89057531.0695046"
      ]
     },
     "execution_count": 487,
     "metadata": {},
     "output_type": "execute_result"
    }
   ],
   "source": [
    "df.PRED_PICKUPS.sum()"
   ]
  },
  {
   "cell_type": "code",
   "execution_count": 488,
   "metadata": {},
   "outputs": [
    {
     "data": {
      "text/plain": [
       "38530.32633315211"
      ]
     },
     "execution_count": 488,
     "metadata": {},
     "output_type": "execute_result"
    }
   ],
   "source": [
    "df[df['TOD'] == 1]['PRED_PICKUPS'].sum()/weekday.WEEKDAYS.sum()"
   ]
  },
  {
   "cell_type": "code",
   "execution_count": 489,
   "metadata": {},
   "outputs": [
    {
     "data": {
      "text/plain": [
       "37594.271133693415"
      ]
     },
     "execution_count": 489,
     "metadata": {},
     "output_type": "execute_result"
    }
   ],
   "source": [
    "df[df['TOD'] == 2]['PRED_PICKUPS'].sum()/weekday.WEEKDAYS.sum()"
   ]
  },
  {
   "cell_type": "code",
   "execution_count": 490,
   "metadata": {},
   "outputs": [
    {
     "data": {
      "text/plain": [
       "77807.45833281665"
      ]
     },
     "execution_count": 490,
     "metadata": {},
     "output_type": "execute_result"
    }
   ],
   "source": [
    "df[df['TOD'] == 3]['PRED_PICKUPS'].sum()/weekday.WEEKDAYS.sum()"
   ]
  },
  {
   "cell_type": "code",
   "execution_count": 491,
   "metadata": {},
   "outputs": [
    {
     "data": {
      "text/plain": [
       "52203.84758633488"
      ]
     },
     "execution_count": 491,
     "metadata": {},
     "output_type": "execute_result"
    }
   ],
   "source": [
    "df[df['TOD'] == 4]['PRED_PICKUPS'].sum()/weekday.WEEKDAYS.sum()"
   ]
  },
  {
   "cell_type": "code",
   "execution_count": 492,
   "metadata": {},
   "outputs": [
    {
     "data": {
      "text/plain": [
       "50514.042059261155"
      ]
     },
     "execution_count": 492,
     "metadata": {},
     "output_type": "execute_result"
    }
   ],
   "source": [
    "df[df['TOD'] == 5]['PRED_PICKUPS'].sum()/weekday.WEEKDAYS.sum()"
   ]
  },
  {
   "cell_type": "code",
   "execution_count": 493,
   "metadata": {},
   "outputs": [
    {
     "data": {
      "text/plain": [
       "88933845.0"
      ]
     },
     "execution_count": 493,
     "metadata": {},
     "output_type": "execute_result"
    }
   ],
   "source": [
    "df.PICKUPS.sum()"
   ]
  },
  {
   "cell_type": "code",
   "execution_count": 445,
   "metadata": {},
   "outputs": [],
   "source": [
    "airport_tracts = [17031980000,17031980100]\n",
    "tourist_tracts = [17031081402,17031330100,17031841000]\n",
    "downtown_tracts = pd.read_csv('C:/Workspace/TNC-Demand-Model/Inputs/Chicago Ride-Hailing/Downtown Zone Census Tracts.csv')\n",
    "downtown_tracts = list(downtown_tracts['geoid10'])"
   ]
  },
  {
   "cell_type": "code",
   "execution_count": 446,
   "metadata": {},
   "outputs": [],
   "source": [
    "downtown_tracts.remove(17031081402)"
   ]
  },
  {
   "cell_type": "code",
   "execution_count": 449,
   "metadata": {},
   "outputs": [
    {
     "data": {
      "text/plain": [
       "82969.72975457952"
      ]
     },
     "execution_count": 449,
     "metadata": {},
     "output_type": "execute_result"
    }
   ],
   "source": [
    "df[df['ORIGIN'].isin(downtown_tracts)]['PRED_PICKUPS'].sum()/weekday.WEEKDAYS.sum()"
   ]
  },
  {
   "cell_type": "code",
   "execution_count": 452,
   "metadata": {},
   "outputs": [
    {
     "data": {
      "text/plain": [
       "6563.48017540727"
      ]
     },
     "execution_count": 452,
     "metadata": {},
     "output_type": "execute_result"
    }
   ],
   "source": [
    "df[df['ORIGIN'].isin(tourist_tracts)]['PRED_PICKUPS'].sum()/weekday.WEEKDAYS.sum()"
   ]
  },
  {
   "cell_type": "code",
   "execution_count": 453,
   "metadata": {},
   "outputs": [
    {
     "data": {
      "text/plain": [
       "12355.794131250019"
      ]
     },
     "execution_count": 453,
     "metadata": {},
     "output_type": "execute_result"
    }
   ],
   "source": [
    "df[df['ORIGIN'].isin(airport_tracts)]['PRED_PICKUPS'].sum()/weekday.WEEKDAYS.sum()"
   ]
  },
  {
   "cell_type": "code",
   "execution_count": 455,
   "metadata": {},
   "outputs": [
    {
     "data": {
      "text/plain": [
       "162620.28855201064"
      ]
     },
     "execution_count": 455,
     "metadata": {},
     "output_type": "execute_result"
    }
   ],
   "source": [
    "df[(~df['ORIGIN'].isin(airport_tracts+tourist_tracts+downtown_tracts))]['PRED_PICKUPS'].sum()/weekday.WEEKDAYS.sum()"
   ]
  },
  {
   "cell_type": "code",
   "execution_count": null,
   "metadata": {},
   "outputs": [],
   "source": []
  }
 ],
 "metadata": {
  "kernelspec": {
   "display_name": "Python 3",
   "language": "python",
   "name": "python3"
  },
  "language_info": {
   "codemirror_mode": {
    "name": "ipython",
    "version": 3
   },
   "file_extension": ".py",
   "mimetype": "text/x-python",
   "name": "python",
   "nbconvert_exporter": "python",
   "pygments_lexer": "ipython3",
   "version": "3.7.6"
  }
 },
 "nbformat": 4,
 "nbformat_minor": 4
}
