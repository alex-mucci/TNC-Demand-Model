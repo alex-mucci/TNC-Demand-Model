{
 "cells": [
  {
   "cell_type": "code",
   "execution_count": 1,
   "metadata": {},
   "outputs": [],
   "source": [
    "import pandas as pd\n",
    "import geopandas as gp"
   ]
  },
  {
   "cell_type": "code",
   "execution_count": 2,
   "metadata": {},
   "outputs": [],
   "source": [
    "tracts = gp.read_file('C:/Workspace/TNC-Demand-Model/Inputs/Census Shapefiles/Illinois/Chicago Tracts/geo_export_558aad9f-98d8-4dd5-a6b1-c1730155d596.shp')"
   ]
  },
  {
   "cell_type": "code",
   "execution_count": 3,
   "metadata": {},
   "outputs": [],
   "source": [
    "tods = [1,2,3,4,5]"
   ]
  },
  {
   "cell_type": "code",
   "execution_count": 4,
   "metadata": {},
   "outputs": [],
   "source": [
    "#df = pd.DataFrame()\n",
    "#df2 = pd.DataFrame()\n",
    "\n",
    "#for tract in tracts.geoid10:\n",
    "   # df['DESTINATION'] = tracts.geoid10\n",
    "   # df['ORIGIN'] = tract\n",
    "    #df2 = df2.append(df)"
   ]
  },
  {
   "cell_type": "code",
   "execution_count": 6,
   "metadata": {
    "scrolled": true
   },
   "outputs": [
    {
     "name": "stdout",
     "output_type": "stream",
     "text": [
      "Working on year 2018\n",
      "Working on month 11\n",
      "Working on TOD 1\n",
      "Working on TOD 2\n",
      "Working on TOD 3\n",
      "Working on TOD 4\n",
      "Working on TOD 5\n",
      "Working on month 12\n",
      "Working on TOD 1\n",
      "Working on TOD 2\n",
      "Working on TOD 3\n",
      "Working on TOD 4\n",
      "Working on TOD 5\n",
      "Working on year 2019\n",
      "Working on month 1\n",
      "Working on TOD 1\n",
      "Working on TOD 2\n",
      "Working on TOD 3\n",
      "Working on TOD 4\n",
      "Working on TOD 5\n",
      "Working on month 2\n",
      "Working on TOD 1\n",
      "Working on TOD 2\n",
      "Working on TOD 3\n",
      "Working on TOD 4\n",
      "Working on TOD 5\n",
      "Working on month 3\n",
      "Working on TOD 1\n",
      "Working on TOD 2\n",
      "Working on TOD 3\n",
      "Working on TOD 4\n",
      "Working on TOD 5\n",
      "Working on month 4\n",
      "Working on TOD 1\n",
      "Working on TOD 2\n",
      "Working on TOD 3\n",
      "Working on TOD 4\n",
      "Working on TOD 5\n",
      "Working on month 5\n",
      "Working on TOD 1\n",
      "Working on TOD 2\n",
      "Working on TOD 3\n",
      "Working on TOD 4\n",
      "Working on TOD 5\n",
      "Working on month 6\n",
      "Working on TOD 1\n",
      "Working on TOD 2\n",
      "Working on TOD 3\n",
      "Working on TOD 4\n",
      "Working on TOD 5\n",
      "Working on month 7\n",
      "Working on TOD 1\n",
      "Working on TOD 2\n",
      "Working on TOD 3\n",
      "Working on TOD 4\n",
      "Working on TOD 5\n",
      "Working on month 8\n",
      "Working on TOD 1\n",
      "Working on TOD 2\n",
      "Working on TOD 3\n",
      "Working on TOD 4\n",
      "Working on TOD 5\n",
      "Working on month 9\n",
      "Working on TOD 1\n",
      "Working on TOD 2\n",
      "Working on TOD 3\n",
      "Working on TOD 4\n",
      "Working on TOD 5\n",
      "Working on month 10\n",
      "Working on TOD 1\n",
      "Working on TOD 2\n",
      "Working on TOD 3\n",
      "Working on TOD 4\n",
      "Working on TOD 5\n",
      "Working on month 11\n",
      "Working on TOD 1\n",
      "Working on TOD 2\n",
      "Working on TOD 3\n",
      "Working on TOD 4\n",
      "Working on TOD 5\n",
      "Working on month 12\n",
      "Working on TOD 1\n",
      "Working on TOD 2\n",
      "Working on TOD 3\n",
      "Working on TOD 4\n",
      "Working on TOD 5\n",
      "Working on year 2020\n",
      "Working on month 1\n",
      "Working on TOD 1\n",
      "Working on TOD 2\n",
      "Working on TOD 3\n",
      "Working on TOD 4\n",
      "Working on TOD 5\n",
      "Working on month 2\n",
      "Working on TOD 1\n",
      "Working on TOD 2\n",
      "Working on TOD 3\n",
      "Working on TOD 4\n",
      "Working on TOD 5\n",
      "Complete!\n"
     ]
    }
   ],
   "source": [
    "df = pd.DataFrame()\n",
    "df3 = pd.DataFrame()\n",
    "\n",
    "years = [2018,2019,2020]\n",
    "\n",
    "for year in years:\n",
    "    print('Working on year ' + str(year))\n",
    "\n",
    "    if year == 2018:\n",
    "        months = [11,12]\n",
    "    elif year == 2020:\n",
    "        months = [1,2]\n",
    "    else:\n",
    "        months = [1,2,3,4,5,6,7,8,9,10,11,12]\n",
    "        \n",
    "    for month in months:\n",
    "        print('Working on month ' + str(month))\n",
    "\n",
    "        for tod in tods:\n",
    "            df2 = pd.DataFrame()\n",
    "\n",
    "            print('Working on TOD ' + str(tod))\n",
    "\n",
    "            for tract in tracts.geoid10:\n",
    "                df['DESTINATION'] = tracts.geoid10\n",
    "                df['ORIGIN'] = tract\n",
    "                df2 = df2.append(df)\n",
    "\n",
    "            df2['MONTH'] = month\n",
    "            df2['YEAR'] = year\n",
    "            df2['TOD'] = tod\n",
    "            #df2.to_csv('C:/Workspace/TNC-Demand-Model/Outputs/Destination Choice Model Matricies/Empty Matricies/Empty_Chicago_Matrix_' + str(year) + '_' + str(month) + '_' + str(tod) + '.csv')\n",
    "           \n",
    "            df3 = df3.append(df2)\n",
    "df3.to_csv('C:/Workspace/TNC-Demand-Model/Inputs/Chicago Ride-Hailing/Empty_Chicago_Matrix.csv')\n",
    "print('Complete!')"
   ]
  },
  {
   "cell_type": "code",
   "execution_count": 7,
   "metadata": {},
   "outputs": [
    {
     "data": {
      "text/plain": [
       "51328080"
      ]
     },
     "execution_count": 7,
     "metadata": {},
     "output_type": "execute_result"
    }
   ],
   "source": [
    "len(df3)"
   ]
  },
  {
   "cell_type": "code",
   "execution_count": 9,
   "metadata": {},
   "outputs": [
    {
     "data": {
      "text/plain": [
       "17031010201    64080\n",
       "17031490500    64080\n",
       "17031411200    64080\n",
       "17031010702    64080\n",
       "17031030702    64080\n",
       "               ...  \n",
       "17031840000    64080\n",
       "17031390100    64080\n",
       "17031750100    64080\n",
       "17031390500    64080\n",
       "17031240200    64080\n",
       "Name: ORIGIN, Length: 801, dtype: int64"
      ]
     },
     "execution_count": 9,
     "metadata": {},
     "output_type": "execute_result"
    }
   ],
   "source": [
    "df3.ORIGIN.value_counts()"
   ]
  },
  {
   "cell_type": "code",
   "execution_count": null,
   "metadata": {},
   "outputs": [],
   "source": [
    "#df3.to_csv('C:/Workspace/TNC-Demand-Model/Outputs/Empty_Chicago_Matrix.csv')"
   ]
  },
  {
   "cell_type": "code",
   "execution_count": null,
   "metadata": {},
   "outputs": [],
   "source": []
  },
  {
   "cell_type": "code",
   "execution_count": null,
   "metadata": {},
   "outputs": [],
   "source": []
  }
 ],
 "metadata": {
  "kernelspec": {
   "display_name": "Python 3",
   "language": "python",
   "name": "python3"
  },
  "language_info": {
   "codemirror_mode": {
    "name": "ipython",
    "version": 3
   },
   "file_extension": ".py",
   "mimetype": "text/x-python",
   "name": "python",
   "nbconvert_exporter": "python",
   "pygments_lexer": "ipython3",
   "version": "3.7.6"
  }
 },
 "nbformat": 4,
 "nbformat_minor": 4
}
