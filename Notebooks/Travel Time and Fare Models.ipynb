{
 "cells": [
  {
   "cell_type": "code",
   "execution_count": 55,
   "metadata": {},
   "outputs": [],
   "source": [
    "import pandas as pd\n",
    "import seaborn as sns\n",
    "import statsmodels.api as sm\n",
    "import statsmodels.formula.api as smf\n",
    "import geopandas as gp\n",
    "import numpy as np\n",
    "pd.set_option('display.max_columns', 500)"
   ]
  },
  {
   "cell_type": "code",
   "execution_count": 56,
   "metadata": {},
   "outputs": [],
   "source": [
    "months = samp['YEAR_MONTH'].unique()\n",
    "months.sort()"
   ]
  },
  {
   "cell_type": "code",
   "execution_count": 57,
   "metadata": {},
   "outputs": [
    {
     "name": "stdout",
     "output_type": "stream",
     "text": [
      "201811 : 6.798229088168802\n",
      "201812 : 6.844060758387061\n",
      "201901 : 6.898929690219283\n",
      "201902 : 6.90315417384211\n",
      "201903 : 6.944919603147452\n",
      "201904 : 7.4905878945844195\n",
      "201905 : 7.8870165465434985\n",
      "201906 : 8.254403696217153\n",
      "201907 : 8.467387768379961\n",
      "201908 : 8.76939930618952\n",
      "201909 : 8.969473264166002\n",
      "201910 : 8.975855130784709\n",
      "201911 : 9.09320729830732\n",
      "201912 : 9.63375796178344\n",
      "202001 : 9.441608996539792\n",
      "202002 : 10.200308166409862\n"
     ]
    }
   ],
   "source": [
    "for yr_mn in months:\n",
    "    \n",
    "    print(str(yr_mn) + ' : ' + str(samp[(samp['YEAR_MONTH'] == yr_mn)&(samp['SHARED_FLAGGER'] == 1)&(samp['NUM_TRIPS_POOLED'] > 1)]['FARE'].mean()))\n"
   ]
  },
  {
   "cell_type": "code",
   "execution_count": 58,
   "metadata": {},
   "outputs": [
    {
     "name": "stdout",
     "output_type": "stream",
     "text": [
      "201811 : 6.757095158597663\n",
      "201812 : 6.960721596724667\n",
      "201901 : 6.871693121693122\n",
      "201902 : 6.952270240700219\n",
      "201903 : 6.971736204576043\n",
      "201904 : 7.266230296553567\n",
      "201905 : 7.928355335533554\n",
      "201906 : 8.336600142551674\n",
      "201907 : 7.953441873750357\n",
      "201908 : 8.13195302843016\n",
      "201909 : 8.378194207836456\n",
      "201910 : 8.536260811709914\n",
      "201911 : 8.357169050238356\n",
      "201912 : 8.44798083504449\n",
      "202001 : 8.45250944414463\n",
      "202002 : 8.618657937806875\n"
     ]
    }
   ],
   "source": [
    "for yr_mn in months:\n",
    "    \n",
    "    print(str(yr_mn) + ' : ' + str(samp[(samp['YEAR_MONTH'] == yr_mn)&(samp['SHARED_FLAGGER'] == 1)&(samp['NUM_TRIPS_POOLED'] == 1)]['FARE'].mean()))\n"
   ]
  },
  {
   "cell_type": "code",
   "execution_count": 59,
   "metadata": {},
   "outputs": [
    {
     "name": "stdout",
     "output_type": "stream",
     "text": [
      "201811 : 10.762195121951219\n",
      "201812 : 10.420673794874858\n",
      "201901 : 10.067979433902257\n",
      "201902 : 10.43131773496913\n",
      "201903 : 10.49599126239228\n",
      "201904 : 11.527148224457642\n",
      "201905 : 12.120505474493083\n",
      "201906 : 12.386372336353196\n",
      "201907 : 10.676916797061024\n",
      "201908 : 10.717752336131412\n",
      "201909 : 11.090934823274589\n",
      "201910 : 10.928003274009402\n",
      "201911 : 10.764778463264161\n",
      "201912 : 10.444462864721485\n",
      "202001 : 10.247204610951009\n",
      "202002 : 10.395704566144412\n"
     ]
    }
   ],
   "source": [
    "for yr_mn in months:\n",
    "    \n",
    "    print(str(yr_mn) + ' : ' + str(samp[(samp['YEAR_MONTH'] == yr_mn)&(samp['SHARED_FLAGGER'] == 0)&(samp['NUM_TRIPS_POOLED'] == 1)]['FARE'].mean()))\n"
   ]
  },
  {
   "cell_type": "code",
   "execution_count": null,
   "metadata": {},
   "outputs": [],
   "source": []
  },
  {
   "cell_type": "code",
   "execution_count": 60,
   "metadata": {},
   "outputs": [],
   "source": [
    "samp = pd.read_csv('C:/Workspace/TNC-Demand-Model/Outputs/Sample.csv')"
   ]
  },
  {
   "cell_type": "code",
   "execution_count": 61,
   "metadata": {},
   "outputs": [],
   "source": [
    "samp['YEAR_MONTH'] = samp['YEAR']*100 + samp['MONTH']\n"
   ]
  },
  {
   "cell_type": "code",
   "execution_count": 62,
   "metadata": {},
   "outputs": [
    {
     "name": "stdout",
     "output_type": "stream",
     "text": [
      "201908 : 44227\n",
      "201910 : 47654\n",
      "201911 : 44584\n",
      "201905 : 45033\n",
      "202002 : 41743\n",
      "201904 : 41263\n",
      "201901 : 37737\n",
      "201906 : 40584\n",
      "201907 : 44102\n",
      "201903 : 41667\n",
      "201912 : 45245\n",
      "201812 : 33484\n",
      "202001 : 43381\n",
      "201909 : 40630\n",
      "201902 : 37744\n",
      "201811 : 37723\n"
     ]
    }
   ],
   "source": [
    "for yr_mn in samp['YEAR_MONTH'].unique():\n",
    "    \n",
    "    print(str(yr_mn) + ' : ' + str(len(samp[(samp['YEAR_MONTH'] == yr_mn)&(samp['SHARED_FLAGGER'] == 0)&(samp['NUM_TRIPS_POOLED'] == 1)])))\n"
   ]
  },
  {
   "cell_type": "code",
   "execution_count": 63,
   "metadata": {},
   "outputs": [
    {
     "name": "stdout",
     "output_type": "stream",
     "text": [
      "201811 : 12.206653450194729\n",
      "201812 : 11.227268850221739\n",
      "201901 : 10.764822163433264\n",
      "201902 : 10.636437819110148\n",
      "201903 : 10.833158366980722\n",
      "201904 : 11.602738445097518\n",
      "201905 : 12.757136963696357\n",
      "201906 : 13.429671177587839\n",
      "201907 : 13.061168237646369\n",
      "201908 : 13.067495111659955\n",
      "201909 : 13.283918029064493\n",
      "201910 : 12.978210246174315\n",
      "201911 : 12.223035081285904\n",
      "201912 : 12.163472507415019\n",
      "202001 : 12.035680877855725\n",
      "202002 : 11.568930714675384\n"
     ]
    }
   ],
   "source": [
    "for yr_mn in months:\n",
    "    \n",
    "    print(str(yr_mn) + ' : ' + str(samp[(samp['YEAR_MONTH'] == yr_mn)&(samp['SHARED_FLAGGER'] == 1)&(samp['NUM_TRIPS_POOLED'] == 1)]['TRAVEL_TIME_MINUTES'].mean()))\n"
   ]
  },
  {
   "cell_type": "code",
   "execution_count": 64,
   "metadata": {},
   "outputs": [
    {
     "name": "stdout",
     "output_type": "stream",
     "text": [
      "201811 : 3.380843071786312\n",
      "201812 : 3.282011258955983\n",
      "201901 : 3.164175485008823\n",
      "201902 : 2.9867888402625753\n",
      "201903 : 3.0883176312247613\n",
      "201904 : 3.352551429334753\n",
      "201905 : 3.7037403740374026\n",
      "201906 : 3.9108589385474906\n",
      "201907 : 3.8193087689231677\n",
      "201908 : 3.9099196538937053\n",
      "201909 : 3.987874659400538\n",
      "201910 : 3.9225881570192818\n",
      "201911 : 3.7254492115878244\n",
      "201912 : 3.8726557152635235\n",
      "202001 : 3.910955207771178\n",
      "202002 : 3.589558101473005\n"
     ]
    }
   ],
   "source": [
    "for yr_mn in months:\n",
    "    \n",
    "    print(str(yr_mn) + ' : ' + str(samp[(samp['YEAR_MONTH'] == yr_mn)&(samp['SHARED_FLAGGER'] == 1)&(samp['NUM_TRIPS_POOLED'] == 1)]['TRIP_LENGTH_MILES'].mean()))\n"
   ]
  },
  {
   "cell_type": "code",
   "execution_count": 65,
   "metadata": {},
   "outputs": [
    {
     "name": "stdout",
     "output_type": "stream",
     "text": [
      "201811 : 15.670219997759538\n",
      "201812 : 16.10994041139163\n",
      "201901 : 16.67726083460925\n",
      "201902 : 15.554433562108564\n",
      "201903 : inf\n",
      "201904 : inf\n",
      "201905 : 16.175263614609335\n",
      "201906 : inf\n",
      "201907 : 16.352148312002228\n",
      "201908 : inf\n",
      "201909 : 17.27261079034389\n",
      "201910 : 16.727946006511157\n",
      "201911 : 17.782169837334504\n",
      "201912 : 17.403080364025335\n",
      "202001 : 17.569327020075985\n",
      "202002 : 19.845854116926937\n"
     ]
    }
   ],
   "source": [
    "for yr_mn in months:\n",
    "    \n",
    "    print(str(yr_mn) + ' : ' + str(samp[(samp['YEAR_MONTH'] == yr_mn)&(samp['SHARED_FLAGGER'] == 1)&(samp['NUM_TRIPS_POOLED'] == 1)]['SPEED'].mean()))\n"
   ]
  },
  {
   "cell_type": "code",
   "execution_count": 66,
   "metadata": {},
   "outputs": [],
   "source": [
    "private['ORIGIN_STR'] = private['ORIGIN'].astype(str)\n",
    "private['DESTINATION_STR'] = private['DESTINATION'].astype(str)"
   ]
  },
  {
   "cell_type": "code",
   "execution_count": 67,
   "metadata": {},
   "outputs": [
    {
     "name": "stderr",
     "output_type": "stream",
     "text": [
      "C:\\Users\\ramu225\\Anaconda3\\lib\\site-packages\\ipykernel_launcher.py:1: SettingWithCopyWarning: \n",
      "A value is trying to be set on a copy of a slice from a DataFrame.\n",
      "Try using .loc[row_indexer,col_indexer] = value instead\n",
      "\n",
      "See the caveats in the documentation: https://pandas.pydata.org/pandas-docs/stable/user_guide/indexing.html#returning-a-view-versus-a-copy\n",
      "  \"\"\"Entry point for launching an IPython kernel.\n",
      "C:\\Users\\ramu225\\Anaconda3\\lib\\site-packages\\ipykernel_launcher.py:2: SettingWithCopyWarning: \n",
      "A value is trying to be set on a copy of a slice from a DataFrame.\n",
      "Try using .loc[row_indexer,col_indexer] = value instead\n",
      "\n",
      "See the caveats in the documentation: https://pandas.pydata.org/pandas-docs/stable/user_guide/indexing.html#returning-a-view-versus-a-copy\n",
      "  \n"
     ]
    }
   ],
   "source": [
    "unmatched['ORIGIN_STR'] = unmatched['ORIGIN'].astype(str)\n",
    "unmatched['DESTINATION_STR'] = unmatched['DESTINATION'].astype(str)"
   ]
  },
  {
   "cell_type": "code",
   "execution_count": 68,
   "metadata": {},
   "outputs": [
    {
     "name": "stderr",
     "output_type": "stream",
     "text": [
      "C:\\Users\\ramu225\\Anaconda3\\lib\\site-packages\\ipykernel_launcher.py:1: SettingWithCopyWarning: \n",
      "A value is trying to be set on a copy of a slice from a DataFrame.\n",
      "Try using .loc[row_indexer,col_indexer] = value instead\n",
      "\n",
      "See the caveats in the documentation: https://pandas.pydata.org/pandas-docs/stable/user_guide/indexing.html#returning-a-view-versus-a-copy\n",
      "  \"\"\"Entry point for launching an IPython kernel.\n"
     ]
    }
   ],
   "source": [
    "unmatched['ORIGIN_DESTINATION_STR'] = unmatched['ORIGIN_STR'] + '_' + unmatched['DESTINATION_STR']\n",
    "private['ORIGIN_DESTINATION_STR'] = private['ORIGIN_STR'] + '_' + private['DESTINATION_STR']"
   ]
  },
  {
   "cell_type": "code",
   "execution_count": 69,
   "metadata": {},
   "outputs": [
    {
     "data": {
      "text/plain": [
       "17031320100.0_17031839100.0    81\n",
       "17031839100.0_17031320100.0    73\n",
       "17031839100.0_17031839100.0    64\n",
       "17031839100.0_17031281900.0    52\n",
       "17031081800.0_17031839100.0    50\n",
       "                               ..\n",
       "17031030604.0_17031020902.0     1\n",
       "17031161100.0_17031831100.0     1\n",
       "17031410500.0_17031834600.0     1\n",
       "17031230600.0_17031221200.0     1\n",
       "17031841700.0_17031320100.0     1\n",
       "Name: ORIGIN_DESTINATION_STR, Length: 20063, dtype: int64"
      ]
     },
     "execution_count": 69,
     "metadata": {},
     "output_type": "execute_result"
    }
   ],
   "source": [
    "unmatched['ORIGIN_DESTINATION_STR'].value_counts()"
   ]
  },
  {
   "cell_type": "code",
   "execution_count": 70,
   "metadata": {},
   "outputs": [
    {
     "data": {
      "text/plain": [
       "17031839100.0_17031980000.0    2183\n",
       "17031081800.0_17031839100.0    1894\n",
       "17031839100.0_17031839100.0    1707\n",
       "17031320100.0_17031839100.0    1680\n",
       "17031833000.0_17031839100.0    1660\n",
       "                               ... \n",
       "17031840000.0_17031980000.0       1\n",
       "17031630900.0_17031660800.0       1\n",
       "17031220602.0_17031300700.0       1\n",
       "17031630200.0_17031661000.0       1\n",
       "17031060100.0_17031830800.0       1\n",
       "Name: ORIGIN_DESTINATION_STR, Length: 77292, dtype: int64"
      ]
     },
     "execution_count": 70,
     "metadata": {},
     "output_type": "execute_result"
    }
   ],
   "source": [
    "private['ORIGIN_DESTINATION_STR'].value_counts()"
   ]
  },
  {
   "cell_type": "code",
   "execution_count": null,
   "metadata": {},
   "outputs": [],
   "source": []
  },
  {
   "cell_type": "code",
   "execution_count": 71,
   "metadata": {},
   "outputs": [
    {
     "name": "stdout",
     "output_type": "stream",
     "text": [
      "201811 : 15.911934564685502\n",
      "201812 : 16.00803884775491\n",
      "201901 : 16.37105505751524\n",
      "201902 : 15.757364864998275\n",
      "201903 : 15.89210304774421\n",
      "201904 : 15.858615169454495\n",
      "201905 : inf\n",
      "201906 : 15.231806730974995\n",
      "201907 : 15.661871333019539\n",
      "201908 : 15.854078619676654\n",
      "201909 : 15.975963983475902\n",
      "201910 : 15.95376124050783\n",
      "201911 : 15.962687010496095\n",
      "201912 : 16.198627860582235\n",
      "202001 : 16.709003401470955\n",
      "202002 : 16.498862730810465\n"
     ]
    }
   ],
   "source": [
    "for yr_mn in months:\n",
    "    \n",
    "    print(str(yr_mn) + ' : ' + str(samp[(samp['YEAR_MONTH'] == yr_mn)&(samp['SHARED_FLAGGER'] == 0)&(samp['NUM_TRIPS_POOLED'] == 1)]['SPEED'].mean()))\n"
   ]
  },
  {
   "cell_type": "code",
   "execution_count": 72,
   "metadata": {},
   "outputs": [
    {
     "name": "stdout",
     "output_type": "stream",
     "text": [
      "201811 : 4.743811467804786\n",
      "201812 : 4.584332815673169\n",
      "201901 : 4.513299944351711\n",
      "201902 : 4.548722975837221\n",
      "201903 : 4.689509683922543\n",
      "201904 : 4.832026270508707\n",
      "201905 : 4.898609908289463\n",
      "201906 : 4.919187164193869\n",
      "201907 : 4.838735204752602\n",
      "201908 : 4.92156738535326\n",
      "201909 : 5.055419640659652\n",
      "201910 : 5.030125487891886\n",
      "201911 : 4.821581733357266\n",
      "201912 : 4.727485910045332\n",
      "202001 : 4.7622392291556315\n",
      "202002 : 4.757233548139877\n"
     ]
    }
   ],
   "source": [
    "for yr_mn in months:\n",
    "    \n",
    "    print(str(yr_mn) + ' : ' + str(samp[(samp['YEAR_MONTH'] == yr_mn)&(samp['SHARED_FLAGGER'] == 0)&(samp['NUM_TRIPS_POOLED'] == 1)]['TRIP_LENGTH_MILES'].mean()))\n"
   ]
  },
  {
   "cell_type": "code",
   "execution_count": 73,
   "metadata": {},
   "outputs": [
    {
     "name": "stdout",
     "output_type": "stream",
     "text": [
      "201811 : 16.285240215960314\n",
      "201812 : 15.697652610201983\n",
      "201901 : 14.812585791133454\n",
      "201902 : 15.660673219584405\n",
      "201903 : 15.809452724378279\n",
      "201904 : 16.48321539070525\n",
      "201905 : 17.248316789909587\n",
      "201906 : 17.64568313817533\n",
      "201907 : 16.849463365228974\n",
      "201908 : 16.87401022000139\n",
      "201909 : 17.36030642382474\n",
      "201910 : 17.04564289811271\n",
      "201911 : 16.497090884622246\n",
      "201912 : 15.902592920027915\n",
      "202001 : 15.392689964116487\n",
      "202002 : 15.462000814507736\n"
     ]
    }
   ],
   "source": [
    "for yr_mn in months:\n",
    "    \n",
    "    print(str(yr_mn) + ' : ' + str(samp[(samp['YEAR_MONTH'] == yr_mn)&(samp['SHARED_FLAGGER'] == 0)&(samp['NUM_TRIPS_POOLED'] == 1)]['TRAVEL_TIME_MINUTES'].mean()))\n"
   ]
  },
  {
   "cell_type": "code",
   "execution_count": 74,
   "metadata": {},
   "outputs": [
    {
     "name": "stdout",
     "output_type": "stream",
     "text": [
      "201908 : 23.594771718645525\n",
      "201910 : 23.284379190131453\n",
      "201911 : 23.648267779975075\n",
      "201905 : 23.429192882754954\n",
      "202002 : 21.867732408834094\n",
      "201904 : 22.591220194999536\n",
      "201901 : 21.57971083848147\n",
      "201906 : 23.715475674895316\n",
      "201907 : 23.546690518783528\n",
      "201903 : 22.03740271957586\n",
      "201912 : 23.476050358659023\n",
      "201812 : 21.761255600480865\n",
      "202001 : 22.323765859284887\n",
      "201909 : 24.078132482043113\n",
      "201902 : 21.972794695184586\n",
      "201811 : 22.065687197840212\n"
     ]
    }
   ],
   "source": [
    "for yr_mn in samp['YEAR_MONTH'].unique():\n",
    "    \n",
    "    print(str(yr_mn) + ' : ' + str(samp[(samp['YEAR_MONTH'] == yr_mn)&(samp['SHARED_FLAGGER'] == 1)&(samp['NUM_TRIPS_POOLED'] > 1)]['TRAVEL_TIME_MINUTES'].mean()))\n"
   ]
  },
  {
   "cell_type": "code",
   "execution_count": 75,
   "metadata": {},
   "outputs": [],
   "source": [
    "samp = samp[samp['TRAVEL_TIME_MINUTES'] <= 120]\n",
    "samp = samp[samp['TRIP_LENGTH_MILES'] <= 50]"
   ]
  },
  {
   "cell_type": "code",
   "execution_count": 76,
   "metadata": {},
   "outputs": [],
   "source": [
    "samp['MINUTE'] = pd.to_datetime(samp['TRIP_START_TIME']).dt.minute"
   ]
  },
  {
   "cell_type": "code",
   "execution_count": 77,
   "metadata": {},
   "outputs": [
    {
     "data": {
      "text/plain": [
       "Index(['Unnamed: 0', 'YEAR', 'MONTH', 'DOW', 'HOUR', 'ORIGIN', 'DESTINATION',\n",
       "       'TRAVEL_TIME_MINUTES', 'TRIP_LENGTH_MILES', 'ORIGIN_COM_AREA',\n",
       "       'DEST_COM_AREA', 'FARE', 'TIP', 'ADDITIONAL_CHARGES', 'TOTAL_COST',\n",
       "       'SHARED_FLAGGER', 'NUM_TRIPS_POOLED', 'SPEED', 'TRIP_ID',\n",
       "       'TRIP_START_TIME', 'TRIP_END_TIME', 'INTERNAL_UNSUPPRESSED_FLAGGER',\n",
       "       'INTERNAL_SUPPPRESSED_FLAGGER', 'EXTERNAL_FLAGGER',\n",
       "       'INTERNAL_EXTERNAL_FLAGGER', 'AIRPORT_FLAGGER', 'TOD_1', 'TOD_2',\n",
       "       'TOD_3', 'TOD_4', 'TOD_5', 'TRIP_TYPE', 'YEAR_MONTH', 'MINUTE'],\n",
       "      dtype='object')"
      ]
     },
     "execution_count": 77,
     "metadata": {},
     "output_type": "execute_result"
    }
   ],
   "source": [
    "samp.columns"
   ]
  },
  {
   "cell_type": "code",
   "execution_count": null,
   "metadata": {},
   "outputs": [],
   "source": []
  },
  {
   "cell_type": "code",
   "execution_count": 78,
   "metadata": {},
   "outputs": [],
   "source": [
    "#drop the private trips that have more than one trip pooled because I dont know what is going on there (~0.1% of all trips)\n",
    "drop = samp[(samp['NUM_TRIPS_POOLED'] > 1)&(samp['SHARED_FLAGGER'] == 0)]['TRAVEL_TIME_MINUTES'].index\n",
    "samp = samp.drop(drop)"
   ]
  },
  {
   "cell_type": "code",
   "execution_count": null,
   "metadata": {},
   "outputs": [],
   "source": []
  },
  {
   "cell_type": "code",
   "execution_count": null,
   "metadata": {},
   "outputs": [],
   "source": []
  },
  {
   "cell_type": "code",
   "execution_count": null,
   "metadata": {},
   "outputs": [],
   "source": []
  },
  {
   "cell_type": "code",
   "execution_count": 79,
   "metadata": {},
   "outputs": [],
   "source": [
    "samp['MATCHED_TRIP'] = np.where(samp['NUM_TRIPS_POOLED'] > 1, 1, 0)\n",
    "samp['UNMATCHED_TRIP'] = np.where((samp['SHARED_FLAGGER'] == 1)&(samp['NUM_TRIPS_POOLED'] == 1), 1, 0)\n"
   ]
  },
  {
   "cell_type": "code",
   "execution_count": 80,
   "metadata": {},
   "outputs": [],
   "source": [
    "private = samp[samp['SHARED_FLAGGER'] == 0]\n",
    "shared = samp[samp['SHARED_FLAGGER'] == 1]"
   ]
  },
  {
   "cell_type": "code",
   "execution_count": 141,
   "metadata": {},
   "outputs": [],
   "source": [
    "unmatched = shared[shared['UNMATCHED_TRIP'] == 1]"
   ]
  },
  {
   "cell_type": "code",
   "execution_count": 142,
   "metadata": {},
   "outputs": [],
   "source": [
    "matched = shared[shared['MATCHED_TRIP'] == 1]"
   ]
  },
  {
   "cell_type": "code",
   "execution_count": 83,
   "metadata": {},
   "outputs": [
    {
     "data": {
      "text/plain": [
       "122801"
      ]
     },
     "execution_count": 83,
     "metadata": {},
     "output_type": "execute_result"
    }
   ],
   "source": [
    "len(matched)"
   ]
  },
  {
   "cell_type": "code",
   "execution_count": null,
   "metadata": {},
   "outputs": [],
   "source": []
  },
  {
   "cell_type": "code",
   "execution_count": null,
   "metadata": {},
   "outputs": [],
   "source": []
  },
  {
   "cell_type": "code",
   "execution_count": null,
   "metadata": {},
   "outputs": [],
   "source": []
  },
  {
   "cell_type": "code",
   "execution_count": 84,
   "metadata": {},
   "outputs": [],
   "source": [
    "acs = pd.read_csv('C:/Workspace/TNC-Demand-Model/Outputs/Chicago_ACS_Data.csv')"
   ]
  },
  {
   "cell_type": "code",
   "execution_count": 85,
   "metadata": {},
   "outputs": [],
   "source": [
    "acs = acs.groupby(by = ['YEAR','MONTH','CENSUS_TRACT'], as_index = False).mean()"
   ]
  },
  {
   "cell_type": "code",
   "execution_count": 86,
   "metadata": {},
   "outputs": [],
   "source": [
    "area = gp.read_file('C:/Workspace/TNC-Demand-Model/Inputs/Census Shapefiles/Illinois/Chicago Tracts/geo_export_558aad9f-98d8-4dd5-a6b1-c1730155d596.shp')"
   ]
  },
  {
   "cell_type": "code",
   "execution_count": 87,
   "metadata": {},
   "outputs": [],
   "source": [
    "area = area.to_crs('EPSG:26971')"
   ]
  },
  {
   "cell_type": "code",
   "execution_count": 88,
   "metadata": {},
   "outputs": [],
   "source": [
    "area['AREA_SQ_MI'] = area.area/2590000"
   ]
  },
  {
   "cell_type": "code",
   "execution_count": null,
   "metadata": {},
   "outputs": [],
   "source": []
  },
  {
   "cell_type": "raw",
   "metadata": {},
   "source": []
  },
  {
   "cell_type": "code",
   "execution_count": 89,
   "metadata": {},
   "outputs": [],
   "source": [
    "area['CENSUS_TRACT'] = area.geoid10.astype(float)"
   ]
  },
  {
   "cell_type": "code",
   "execution_count": 90,
   "metadata": {},
   "outputs": [
    {
     "data": {
      "text/plain": [
       "0        17031010100\n",
       "1        17031010201\n",
       "2        17031010202\n",
       "3        17031010300\n",
       "4        17031010400\n",
       "            ...     \n",
       "21099    17031843800\n",
       "21100    17031843900\n",
       "21101    17031980000\n",
       "21102    17031980100\n",
       "21103    17031990000\n",
       "Name: CENSUS_TRACT, Length: 21104, dtype: int64"
      ]
     },
     "execution_count": 90,
     "metadata": {},
     "output_type": "execute_result"
    }
   ],
   "source": [
    "acs.CENSUS_TRACT"
   ]
  },
  {
   "cell_type": "code",
   "execution_count": 91,
   "metadata": {},
   "outputs": [],
   "source": [
    "#acs_area = acs_area.groupby(by = ['YEAR','MONTH','CENSUS_TRACT'], as_index = False).mean()"
   ]
  },
  {
   "cell_type": "code",
   "execution_count": 92,
   "metadata": {},
   "outputs": [],
   "source": [
    "acs_area = acs.merge(area, how = 'left', on = 'CENSUS_TRACT')"
   ]
  },
  {
   "cell_type": "code",
   "execution_count": 93,
   "metadata": {},
   "outputs": [],
   "source": [
    "acs_area['POP_DEN'] = acs_area['TOTAL_POP']/acs_area['AREA_SQ_MI']"
   ]
  },
  {
   "cell_type": "code",
   "execution_count": 94,
   "metadata": {},
   "outputs": [],
   "source": [
    "acs_area['HHLDS_DEN'] = acs_area['TOTAL_HHLDS']/acs_area['AREA_SQ_MI']"
   ]
  },
  {
   "cell_type": "code",
   "execution_count": 95,
   "metadata": {},
   "outputs": [],
   "source": [
    "matched = matched.merge(acs_area[['CENSUS_TRACT','POP_DEN','HHLDS_DEN','YEAR','MONTH']], how = 'left', left_on = ['ORIGIN','MONTH','YEAR'], right_on = ['CENSUS_TRACT','MONTH','YEAR'])"
   ]
  },
  {
   "cell_type": "code",
   "execution_count": 96,
   "metadata": {},
   "outputs": [],
   "source": [
    "matched = matched.merge(acs_area[['CENSUS_TRACT','POP_DEN','HHLDS_DEN','YEAR','MONTH']], how = 'left', left_on = ['DESTINATION','MONTH','YEAR'], right_on = ['CENSUS_TRACT','MONTH','YEAR'], suffixes = ('_ORIGIN','_DESTINATION'))"
   ]
  },
  {
   "cell_type": "code",
   "execution_count": 97,
   "metadata": {},
   "outputs": [],
   "source": [
    "#df3 = df3.merge(acs_area[['CENSUS_TRACT','POP_DEN','HHLDS_DEN','YEAR','MONTH']], how = 'left', left_on = ['ORIGIN','MONTH','YEAR'], right_on = ['CENSUS_TRACT','MONTH','YEAR'])"
   ]
  },
  {
   "cell_type": "code",
   "execution_count": 98,
   "metadata": {},
   "outputs": [],
   "source": [
    "#df3 = df3.merge(acs_area[['CENSUS_TRACT','POP_DEN','HHLDS_DEN','YEAR','MONTH']], how = 'left', left_on = ['DESTINATION','MONTH','YEAR'], right_on = ['CENSUS_TRACT','MONTH','YEAR'], suffixes = ('_ORIGIN','_DESTINATION'))"
   ]
  },
  {
   "cell_type": "code",
   "execution_count": null,
   "metadata": {},
   "outputs": [],
   "source": []
  },
  {
   "cell_type": "code",
   "execution_count": null,
   "metadata": {},
   "outputs": [],
   "source": []
  },
  {
   "cell_type": "code",
   "execution_count": 103,
   "metadata": {},
   "outputs": [],
   "source": [
    "otp = pd.read_csv('C:/Workspace/TNC-Demand-Model/Outputs/OTP Travel Times/Car/20190605/traveltime_matrix_0-29.csv')"
   ]
  },
  {
   "cell_type": "code",
   "execution_count": 104,
   "metadata": {},
   "outputs": [],
   "source": [
    "dist = pd.read_csv('C:/Workspace/TNC-Demand-Model/Outputs/Distance_Matrix.csv')"
   ]
  },
  {
   "cell_type": "code",
   "execution_count": 105,
   "metadata": {},
   "outputs": [
    {
     "data": {
      "text/html": [
       "<div>\n",
       "<style scoped>\n",
       "    .dataframe tbody tr th:only-of-type {\n",
       "        vertical-align: middle;\n",
       "    }\n",
       "\n",
       "    .dataframe tbody tr th {\n",
       "        vertical-align: top;\n",
       "    }\n",
       "\n",
       "    .dataframe thead th {\n",
       "        text-align: right;\n",
       "    }\n",
       "</style>\n",
       "<table border=\"1\" class=\"dataframe\">\n",
       "  <thead>\n",
       "    <tr style=\"text-align: right;\">\n",
       "      <th></th>\n",
       "      <th>year</th>\n",
       "      <th>depart_time</th>\n",
       "      <th>origin</th>\n",
       "      <th>destination</th>\n",
       "      <th>walk_distance</th>\n",
       "      <th>travel_time</th>\n",
       "    </tr>\n",
       "  </thead>\n",
       "  <tbody>\n",
       "    <tr>\n",
       "      <th>0</th>\n",
       "      <td>20190605</td>\n",
       "      <td>0:29:00</td>\n",
       "      <td>17031842400</td>\n",
       "      <td>17031842400</td>\n",
       "      <td>36.0</td>\n",
       "      <td>26</td>\n",
       "    </tr>\n",
       "    <tr>\n",
       "      <th>1</th>\n",
       "      <td>20190605</td>\n",
       "      <td>0:29:00</td>\n",
       "      <td>17031842400</td>\n",
       "      <td>17031840300</td>\n",
       "      <td>40.0</td>\n",
       "      <td>1244</td>\n",
       "    </tr>\n",
       "    <tr>\n",
       "      <th>2</th>\n",
       "      <td>20190605</td>\n",
       "      <td>0:29:00</td>\n",
       "      <td>17031842400</td>\n",
       "      <td>17031841100</td>\n",
       "      <td>55.0</td>\n",
       "      <td>1027</td>\n",
       "    </tr>\n",
       "    <tr>\n",
       "      <th>3</th>\n",
       "      <td>20190605</td>\n",
       "      <td>0:29:00</td>\n",
       "      <td>17031842400</td>\n",
       "      <td>17031841200</td>\n",
       "      <td>47.0</td>\n",
       "      <td>1527</td>\n",
       "    </tr>\n",
       "    <tr>\n",
       "      <th>4</th>\n",
       "      <td>20190605</td>\n",
       "      <td>0:29:00</td>\n",
       "      <td>17031842400</td>\n",
       "      <td>17031839000</td>\n",
       "      <td>58.0</td>\n",
       "      <td>1293</td>\n",
       "    </tr>\n",
       "  </tbody>\n",
       "</table>\n",
       "</div>"
      ],
      "text/plain": [
       "       year depart_time       origin  destination  walk_distance  travel_time\n",
       "0  20190605     0:29:00  17031842400  17031842400           36.0           26\n",
       "1  20190605     0:29:00  17031842400  17031840300           40.0         1244\n",
       "2  20190605     0:29:00  17031842400  17031841100           55.0         1027\n",
       "3  20190605     0:29:00  17031842400  17031841200           47.0         1527\n",
       "4  20190605     0:29:00  17031842400  17031839000           58.0         1293"
      ]
     },
     "execution_count": 105,
     "metadata": {},
     "output_type": "execute_result"
    }
   ],
   "source": [
    "otp.head()"
   ]
  },
  {
   "cell_type": "code",
   "execution_count": 106,
   "metadata": {},
   "outputs": [
    {
     "data": {
      "text/plain": [
       "0         17031842400\n",
       "1         17031842400\n",
       "2         17031842400\n",
       "3         17031842400\n",
       "4         17031842400\n",
       "             ...     \n",
       "641596    17031630900\n",
       "641597    17031630900\n",
       "641598    17031630900\n",
       "641599    17031630900\n",
       "641600    17031630900\n",
       "Name: origin, Length: 641601, dtype: int64"
      ]
     },
     "execution_count": 106,
     "metadata": {},
     "output_type": "execute_result"
    }
   ],
   "source": [
    "otp.origin"
   ]
  },
  {
   "cell_type": "code",
   "execution_count": 107,
   "metadata": {},
   "outputs": [],
   "source": [
    "otp['ORIGIN'] = otp.origin.astype(float)\n",
    "otp['DESTINATION'] = otp.destination.astype(float)"
   ]
  },
  {
   "cell_type": "code",
   "execution_count": 108,
   "metadata": {},
   "outputs": [
    {
     "data": {
      "text/plain": [
       "0         1.703106e+10\n",
       "1         1.703107e+10\n",
       "2         1.703108e+10\n",
       "3         1.703119e+10\n",
       "4         1.703122e+10\n",
       "              ...     \n",
       "847033    1.703123e+10\n",
       "847034    1.703104e+10\n",
       "847035    1.703108e+10\n",
       "847036    1.703184e+10\n",
       "847037    1.703108e+10\n",
       "Name: ORIGIN, Length: 843982, dtype: float64"
      ]
     },
     "execution_count": 108,
     "metadata": {},
     "output_type": "execute_result"
    }
   ],
   "source": [
    "samp.ORIGIN"
   ]
  },
  {
   "cell_type": "code",
   "execution_count": 109,
   "metadata": {},
   "outputs": [],
   "source": [
    "private = private.merge(otp[['ORIGIN','DESTINATION','travel_time','walk_distance']], on = ['ORIGIN','DESTINATION'])\n",
    "shared = shared.merge(otp[['ORIGIN','DESTINATION','travel_time','walk_distance']], on = ['ORIGIN','DESTINATION'])"
   ]
  },
  {
   "cell_type": "code",
   "execution_count": 110,
   "metadata": {},
   "outputs": [],
   "source": [
    "matched = matched.merge(otp[['ORIGIN','DESTINATION','travel_time','walk_distance']], on = ['ORIGIN','DESTINATION'])"
   ]
  },
  {
   "cell_type": "code",
   "execution_count": 111,
   "metadata": {},
   "outputs": [],
   "source": [
    "unmatched = unmatched.merge(otp[['ORIGIN','DESTINATION','travel_time','walk_distance']], on = ['ORIGIN','DESTINATION'])"
   ]
  },
  {
   "cell_type": "code",
   "execution_count": null,
   "metadata": {},
   "outputs": [],
   "source": []
  },
  {
   "cell_type": "code",
   "execution_count": null,
   "metadata": {},
   "outputs": [],
   "source": []
  },
  {
   "cell_type": "code",
   "execution_count": null,
   "metadata": {},
   "outputs": [],
   "source": []
  },
  {
   "cell_type": "code",
   "execution_count": null,
   "metadata": {},
   "outputs": [],
   "source": []
  },
  {
   "cell_type": "code",
   "execution_count": null,
   "metadata": {},
   "outputs": [],
   "source": []
  },
  {
   "cell_type": "code",
   "execution_count": 112,
   "metadata": {},
   "outputs": [],
   "source": [
    "unmatched['OTP_AUTO_TRAVEL_TIME'] = unmatched['travel_time']/60\n",
    "unmatched['OTP_AUTO_TRAVEL_TIME'] = unmatched['travel_time']/60"
   ]
  },
  {
   "cell_type": "code",
   "execution_count": 113,
   "metadata": {},
   "outputs": [],
   "source": [
    "shared['OTP_AUTO_TRAVEL_TIME'] = shared['travel_time']/60\n",
    "shared['OTP_AUTO_TRAVEL_TIME'] = shared['travel_time']/60"
   ]
  },
  {
   "cell_type": "code",
   "execution_count": 114,
   "metadata": {},
   "outputs": [],
   "source": [
    "private['OTP_AUTO_TRAVEL_TIME'] = private['travel_time']/60\n",
    "private['OTP_AUTO_TRAVEL_TIME'] = private['travel_time']/60"
   ]
  },
  {
   "cell_type": "code",
   "execution_count": 115,
   "metadata": {},
   "outputs": [],
   "source": [
    "matched['OTP_AUTO_TRAVEL_TIME'] = matched['travel_time']/60\n",
    "matched['OTP_AUTO_TRAVEL_TIME'] = matched['travel_time']/60"
   ]
  },
  {
   "cell_type": "code",
   "execution_count": null,
   "metadata": {},
   "outputs": [],
   "source": [
    "\n",
    "results = smf.ols('TRAVEL_TIME_MINUTES ~ OTP_AUTO_TRAVEL_TIME ', data=private).fit()\n",
    "print(results.summary())"
   ]
  },
  {
   "cell_type": "code",
   "execution_count": 550,
   "metadata": {},
   "outputs": [
    {
     "name": "stdout",
     "output_type": "stream",
     "text": [
      "                                 OLS Regression Results                                 \n",
      "========================================================================================\n",
      "Dep. Variable:     TRAVEL_TIME_MINUTES   R-squared (uncentered):                   0.782\n",
      "Model:                             OLS   Adj. R-squared (uncentered):              0.782\n",
      "Method:                  Least Squares   F-statistic:                          2.380e+06\n",
      "Date:                 Sat, 16 Jul 2022   Prob (F-statistic):                        0.00\n",
      "Time:                         12:10:12   Log-Likelihood:                     -2.4313e+06\n",
      "No. Observations:               665301   AIC:                                  4.863e+06\n",
      "Df Residuals:                   665300   BIC:                                  4.863e+06\n",
      "Df Model:                            1                                                  \n",
      "Covariance Type:             nonrobust                                                  \n",
      "========================================================================================\n",
      "                           coef    std err          t      P>|t|      [0.025      0.975]\n",
      "----------------------------------------------------------------------------------------\n",
      "OTP_AUTO_TRAVEL_TIME     1.0909      0.001   1542.604      0.000       1.090       1.092\n",
      "==============================================================================\n",
      "Omnibus:                   270660.191   Durbin-Watson:                   1.134\n",
      "Prob(Omnibus):                  0.000   Jarque-Bera (JB):          1898596.282\n",
      "Skew:                           1.806   Prob(JB):                         0.00\n",
      "Kurtosis:                      10.446   Cond. No.                         1.00\n",
      "==============================================================================\n",
      "\n",
      "Warnings:\n",
      "[1] Standard Errors assume that the covariance matrix of the errors is correctly specified.\n"
     ]
    }
   ],
   "source": [
    "\n",
    "results = smf.ols('TRAVEL_TIME_MINUTES ~ OTP_AUTO_TRAVEL_TIME - 1', data=private).fit()\n",
    "print(results.summary())"
   ]
  },
  {
   "cell_type": "code",
   "execution_count": 551,
   "metadata": {},
   "outputs": [
    {
     "name": "stdout",
     "output_type": "stream",
     "text": [
      "                             OLS Regression Results                            \n",
      "===============================================================================\n",
      "Dep. Variable:     TRAVEL_TIME_MINUTES   R-squared:                       0.414\n",
      "Model:                             OLS   Adj. R-squared:                  0.414\n",
      "Method:                  Least Squares   F-statistic:                 9.386e+04\n",
      "Date:                 Sat, 16 Jul 2022   Prob (F-statistic):               0.00\n",
      "Time:                         12:10:23   Log-Likelihood:            -2.3953e+06\n",
      "No. Observations:               665301   AIC:                         4.791e+06\n",
      "Df Residuals:                   665295   BIC:                         4.791e+06\n",
      "Df Model:                            5                                         \n",
      "Covariance Type:             nonrobust                                         \n",
      "========================================================================================\n",
      "                           coef    std err          t      P>|t|      [0.025      0.975]\n",
      "----------------------------------------------------------------------------------------\n",
      "OTP_AUTO_TRAVEL_TIME     0.8488      0.001    657.634      0.000       0.846       0.851\n",
      "TOD_1                    2.1095      0.033     64.499      0.000       2.045       2.174\n",
      "TOD_2                    6.1555      0.035    177.963      0.000       6.088       6.223\n",
      "TOD_3                    5.2276      0.026    197.822      0.000       5.176       5.279\n",
      "TOD_4                    6.7521      0.030    222.696      0.000       6.693       6.811\n",
      "TOD_5                    2.0718      0.030     68.423      0.000       2.012       2.131\n",
      "==============================================================================\n",
      "Omnibus:                   314129.048   Durbin-Watson:                   1.234\n",
      "Prob(Omnibus):                  0.000   Jarque-Bera (JB):          2427249.283\n",
      "Skew:                           2.132   Prob(JB):                         0.00\n",
      "Kurtosis:                      11.330   Cond. No.                         70.9\n",
      "==============================================================================\n",
      "\n",
      "Warnings:\n",
      "[1] Standard Errors assume that the covariance matrix of the errors is correctly specified.\n"
     ]
    }
   ],
   "source": [
    "\n",
    "results = smf.ols('TRAVEL_TIME_MINUTES ~ OTP_AUTO_TRAVEL_TIME + TOD_1 + TOD_2 + TOD_3 + TOD_4 + TOD_5 - 1', data=private).fit()\n",
    "print(results.summary())"
   ]
  },
  {
   "cell_type": "code",
   "execution_count": 586,
   "metadata": {},
   "outputs": [],
   "source": [
    "shared['OTP_AUTO_TRAVEL_TIME_1'] = np.where(shared['TOD_1'] == 1, shared['OTP_AUTO_TRAVEL_TIME'], 0)\n",
    "shared['OTP_AUTO_TRAVEL_TIME_2'] = np.where(shared['TOD_2'] == 1, shared['OTP_AUTO_TRAVEL_TIME'], 0)\n",
    "shared['OTP_AUTO_TRAVEL_TIME_3'] = np.where(shared['TOD_3'] == 1, shared['OTP_AUTO_TRAVEL_TIME'], 0)\n",
    "shared['OTP_AUTO_TRAVEL_TIME_4'] = np.where(shared['TOD_4'] == 1, shared['OTP_AUTO_TRAVEL_TIME'], 0)\n",
    "shared['OTP_AUTO_TRAVEL_TIME_5'] = np.where(shared['TOD_5'] == 1, shared['OTP_AUTO_TRAVEL_TIME'], 0)"
   ]
  },
  {
   "cell_type": "code",
   "execution_count": 587,
   "metadata": {},
   "outputs": [],
   "source": [
    "private['OTP_AUTO_TRAVEL_TIME_1'] = np.where(private['TOD_1'] == 1, private['OTP_AUTO_TRAVEL_TIME'], 0)\n",
    "private['OTP_AUTO_TRAVEL_TIME_2'] = np.where(private['TOD_2'] == 1, private['OTP_AUTO_TRAVEL_TIME'], 0)\n",
    "private['OTP_AUTO_TRAVEL_TIME_3'] = np.where(private['TOD_3'] == 1, private['OTP_AUTO_TRAVEL_TIME'], 0)\n",
    "private['OTP_AUTO_TRAVEL_TIME_4'] = np.where(private['TOD_4'] == 1, private['OTP_AUTO_TRAVEL_TIME'], 0)\n",
    "private['OTP_AUTO_TRAVEL_TIME_5'] = np.where(private['TOD_5'] == 1, private['OTP_AUTO_TRAVEL_TIME'], 0)"
   ]
  },
  {
   "cell_type": "code",
   "execution_count": 588,
   "metadata": {},
   "outputs": [],
   "source": [
    "matched['OTP_AUTO_TRAVEL_TIME_1'] = np.where(matched['TOD_1'] == 1, matched['OTP_AUTO_TRAVEL_TIME'], 0)\n",
    "matched['OTP_AUTO_TRAVEL_TIME_2'] = np.where(matched['TOD_2'] == 1, matched['OTP_AUTO_TRAVEL_TIME'], 0)\n",
    "matched['OTP_AUTO_TRAVEL_TIME_3'] = np.where(matched['TOD_3'] == 1, matched['OTP_AUTO_TRAVEL_TIME'], 0)\n",
    "matched['OTP_AUTO_TRAVEL_TIME_4'] = np.where(matched['TOD_4'] == 1, matched['OTP_AUTO_TRAVEL_TIME'], 0)\n",
    "matched['OTP_AUTO_TRAVEL_TIME_5'] = np.where(matched['TOD_5'] == 1, matched['OTP_AUTO_TRAVEL_TIME'], 0)"
   ]
  },
  {
   "cell_type": "code",
   "execution_count": 589,
   "metadata": {},
   "outputs": [],
   "source": [
    "unmatched['OTP_AUTO_TRAVEL_TIME_1'] = np.where(unmatched['TOD_1'] == 1, unmatched['OTP_AUTO_TRAVEL_TIME'], 0)\n",
    "unmatched['OTP_AUTO_TRAVEL_TIME_2'] = np.where(unmatched['TOD_2'] == 1, unmatched['OTP_AUTO_TRAVEL_TIME'], 0)\n",
    "unmatched['OTP_AUTO_TRAVEL_TIME_3'] = np.where(unmatched['TOD_3'] == 1, unmatched['OTP_AUTO_TRAVEL_TIME'], 0)\n",
    "unmatched['OTP_AUTO_TRAVEL_TIME_4'] = np.where(unmatched['TOD_4'] == 1, unmatched['OTP_AUTO_TRAVEL_TIME'], 0)\n",
    "unmatched['OTP_AUTO_TRAVEL_TIME_5'] = np.where(unmatched['TOD_5'] == 1, unmatched['OTP_AUTO_TRAVEL_TIME'], 0)"
   ]
  },
  {
   "cell_type": "code",
   "execution_count": null,
   "metadata": {
    "scrolled": false
   },
   "outputs": [],
   "source": []
  },
  {
   "cell_type": "code",
   "execution_count": 41,
   "metadata": {},
   "outputs": [],
   "source": [
    "#np.sqrt(np.sum(np.square(results.resid))/len(residuals))"
   ]
  },
  {
   "cell_type": "code",
   "execution_count": 126,
   "metadata": {},
   "outputs": [
    {
     "name": "stdout",
     "output_type": "stream",
     "text": [
      "                                 OLS Regression Results                                 \n",
      "========================================================================================\n",
      "Dep. Variable:     PRIVATE_TRAVEL_TIME   R-squared (uncentered):                   0.796\n",
      "Model:                             OLS   Adj. R-squared (uncentered):              0.796\n",
      "Method:                  Least Squares   F-statistic:                          5.212e+05\n",
      "Date:                 Fri, 03 Jun 2022   Prob (F-statistic):                        0.00\n",
      "Time:                         15:02:40   Log-Likelihood:                     -2.4119e+06\n",
      "No. Observations:               666485   AIC:                                  4.824e+06\n",
      "Df Residuals:                   666480   BIC:                                  4.824e+06\n",
      "Df Model:                            5                                                  \n",
      "Covariance Type:             nonrobust                                                  \n",
      "==========================================================================================\n",
      "                             coef    std err          t      P>|t|      [0.025      0.975]\n",
      "------------------------------------------------------------------------------------------\n",
      "OTP_AUTO_TRAVEL_TIME_1     0.8488      0.002    476.400      0.000       0.845       0.852\n",
      "OTP_AUTO_TRAVEL_TIME_2     1.1823      0.002    670.001      0.000       1.179       1.186\n",
      "OTP_AUTO_TRAVEL_TIME_3     1.1329      0.001    961.960      0.000       1.131       1.135\n",
      "OTP_AUTO_TRAVEL_TIME_4     1.2902      0.002    816.149      0.000       1.287       1.293\n",
      "OTP_AUTO_TRAVEL_TIME_5     0.9291      0.002    581.980      0.000       0.926       0.932\n",
      "==============================================================================\n",
      "Omnibus:                   274578.457   Durbin-Watson:                   1.182\n",
      "Prob(Omnibus):                  0.000   Jarque-Bera (JB):          2105583.288\n",
      "Skew:                           1.802   Prob(JB):                         0.00\n",
      "Kurtosis:                      10.927   Cond. No.                         1.51\n",
      "==============================================================================\n",
      "\n",
      "Warnings:\n",
      "[1] Standard Errors assume that the covariance matrix of the errors is correctly specified.\n"
     ]
    }
   ],
   "source": [
    "\n",
    "\n",
    "#results = smf.ols('PRIVATE_TRAVEL_TIME ~ OTP_AUTO_TRAVEL_TIME_1 + OTP_AUTO_TRAVEL_TIME_2 + OTP_AUTO_TRAVEL_TIME_3 + OTP_AUTO_TRAVEL_TIME_4 + OTP_AUTO_TRAVEL_TIME_5 -1', data=private_samp2).fit()\n",
    "#print(results.summary())"
   ]
  },
  {
   "cell_type": "code",
   "execution_count": 555,
   "metadata": {},
   "outputs": [
    {
     "name": "stdout",
     "output_type": "stream",
     "text": [
      "                                 OLS Regression Results                                 \n",
      "========================================================================================\n",
      "Dep. Variable:     TRAVEL_TIME_MINUTES   R-squared (uncentered):                   0.796\n",
      "Model:                             OLS   Adj. R-squared (uncentered):              0.796\n",
      "Method:                  Least Squares   F-statistic:                          5.204e+05\n",
      "Date:                 Sat, 16 Jul 2022   Prob (F-statistic):                        0.00\n",
      "Time:                         12:11:06   Log-Likelihood:                     -2.4079e+06\n",
      "No. Observations:               665301   AIC:                                  4.816e+06\n",
      "Df Residuals:                   665296   BIC:                                  4.816e+06\n",
      "Df Model:                            5                                                  \n",
      "Covariance Type:             nonrobust                                                  \n",
      "==========================================================================================\n",
      "                             coef    std err          t      P>|t|      [0.025      0.975]\n",
      "------------------------------------------------------------------------------------------\n",
      "OTP_AUTO_TRAVEL_TIME_1     0.8489      0.002    475.921      0.000       0.845       0.852\n",
      "OTP_AUTO_TRAVEL_TIME_2     1.1825      0.002    669.453      0.000       1.179       1.186\n",
      "OTP_AUTO_TRAVEL_TIME_3     1.1331      0.001    961.263      0.000       1.131       1.135\n",
      "OTP_AUTO_TRAVEL_TIME_4     1.2906      0.002    815.463      0.000       1.287       1.294\n",
      "OTP_AUTO_TRAVEL_TIME_5     0.9292      0.002    581.446      0.000       0.926       0.932\n",
      "==============================================================================\n",
      "Omnibus:                   274085.876   Durbin-Watson:                   1.183\n",
      "Prob(Omnibus):                  0.000   Jarque-Bera (JB):          2100811.161\n",
      "Skew:                           1.802   Prob(JB):                         0.00\n",
      "Kurtosis:                      10.924   Cond. No.                         1.51\n",
      "==============================================================================\n",
      "\n",
      "Warnings:\n",
      "[1] Standard Errors assume that the covariance matrix of the errors is correctly specified.\n"
     ]
    }
   ],
   "source": [
    "# USE THIS MODEL\n",
    "\n",
    "results = smf.ols('TRAVEL_TIME_MINUTES ~ OTP_AUTO_TRAVEL_TIME_1 + OTP_AUTO_TRAVEL_TIME_2 + OTP_AUTO_TRAVEL_TIME_3 + OTP_AUTO_TRAVEL_TIME_4 + OTP_AUTO_TRAVEL_TIME_5 -1', data=private).fit()\n",
    "print(results.summary())"
   ]
  },
  {
   "cell_type": "code",
   "execution_count": 590,
   "metadata": {},
   "outputs": [
    {
     "name": "stdout",
     "output_type": "stream",
     "text": [
      "                                 OLS Regression Results                                 \n",
      "========================================================================================\n",
      "Dep. Variable:     TRAVEL_TIME_MINUTES   R-squared (uncentered):                   0.665\n",
      "Model:                             OLS   Adj. R-squared (uncentered):              0.665\n",
      "Method:                  Least Squares   F-statistic:                          2.219e+04\n",
      "Date:                 Sat, 16 Jul 2022   Prob (F-statistic):                        0.00\n",
      "Time:                         12:16:59   Log-Likelihood:                     -1.9973e+05\n",
      "No. Observations:                55880   AIC:                                  3.995e+05\n",
      "Df Residuals:                    55875   BIC:                                  3.995e+05\n",
      "Df Model:                            5                                                  \n",
      "Covariance Type:             nonrobust                                                  \n",
      "==========================================================================================\n",
      "                             coef    std err          t      P>|t|      [0.025      0.975]\n",
      "------------------------------------------------------------------------------------------\n",
      "OTP_AUTO_TRAVEL_TIME_1     0.7775      0.007    115.073      0.000       0.764       0.791\n",
      "OTP_AUTO_TRAVEL_TIME_2     0.9687      0.008    124.639      0.000       0.954       0.984\n",
      "OTP_AUTO_TRAVEL_TIME_3     0.9359      0.005    199.449      0.000       0.927       0.945\n",
      "OTP_AUTO_TRAVEL_TIME_4     1.0777      0.006    166.320      0.000       1.065       1.090\n",
      "OTP_AUTO_TRAVEL_TIME_5     0.8346      0.007    121.281      0.000       0.821       0.848\n",
      "==============================================================================\n",
      "Omnibus:                    18512.654   Durbin-Watson:                   1.316\n",
      "Prob(Omnibus):                  0.000   Jarque-Bera (JB):           158083.741\n",
      "Skew:                           1.353   Prob(JB):                         0.00\n",
      "Kurtosis:                      10.783   Cond. No.                         1.66\n",
      "==============================================================================\n",
      "\n",
      "Warnings:\n",
      "[1] Standard Errors assume that the covariance matrix of the errors is correctly specified.\n"
     ]
    }
   ],
   "source": [
    "#use this model \n",
    "\n",
    "results = smf.ols('TRAVEL_TIME_MINUTES ~ OTP_AUTO_TRAVEL_TIME_1 +  OTP_AUTO_TRAVEL_TIME_2 + OTP_AUTO_TRAVEL_TIME_3 + OTP_AUTO_TRAVEL_TIME_4 + OTP_AUTO_TRAVEL_TIME_5 - 1', data=unmatched).fit()\n",
    "print(results.summary())"
   ]
  },
  {
   "cell_type": "code",
   "execution_count": 556,
   "metadata": {},
   "outputs": [
    {
     "name": "stdout",
     "output_type": "stream",
     "text": [
      "                                 OLS Regression Results                                 \n",
      "========================================================================================\n",
      "Dep. Variable:     TRAVEL_TIME_MINUTES   R-squared (uncentered):                   0.711\n",
      "Model:                             OLS   Adj. R-squared (uncentered):              0.711\n",
      "Method:                  Least Squares   F-statistic:                          8.789e+04\n",
      "Date:                 Sat, 16 Jul 2022   Prob (F-statistic):                        0.00\n",
      "Time:                         12:11:34   Log-Likelihood:                     -7.0393e+05\n",
      "No. Observations:               178681   AIC:                                  1.408e+06\n",
      "Df Residuals:                   178676   BIC:                                  1.408e+06\n",
      "Df Model:                            5                                                  \n",
      "Covariance Type:             nonrobust                                                  \n",
      "==========================================================================================\n",
      "                             coef    std err          t      P>|t|      [0.025      0.975]\n",
      "------------------------------------------------------------------------------------------\n",
      "OTP_AUTO_TRAVEL_TIME_1     1.0293      0.005    202.386      0.000       1.019       1.039\n",
      "OTP_AUTO_TRAVEL_TIME_2     1.3786      0.005    285.805      0.000       1.369       1.388\n",
      "OTP_AUTO_TRAVEL_TIME_3     1.2462      0.003    369.631      0.000       1.240       1.253\n",
      "OTP_AUTO_TRAVEL_TIME_4     1.4132      0.004    348.374      0.000       1.405       1.421\n",
      "OTP_AUTO_TRAVEL_TIME_5     1.1053      0.005    242.478      0.000       1.096       1.114\n",
      "==============================================================================\n",
      "Omnibus:                    40381.350   Durbin-Watson:                   1.233\n",
      "Prob(Omnibus):                  0.000   Jarque-Bera (JB):           136979.977\n",
      "Skew:                           1.131   Prob(JB):                         0.00\n",
      "Kurtosis:                       6.644   Cond. No.                         1.51\n",
      "==============================================================================\n",
      "\n",
      "Warnings:\n",
      "[1] Standard Errors assume that the covariance matrix of the errors is correctly specified.\n"
     ]
    }
   ],
   "source": [
    "#use this model \n",
    "\n",
    "results = smf.ols('TRAVEL_TIME_MINUTES ~ OTP_AUTO_TRAVEL_TIME_1 +  OTP_AUTO_TRAVEL_TIME_2 + OTP_AUTO_TRAVEL_TIME_3 + OTP_AUTO_TRAVEL_TIME_4 + OTP_AUTO_TRAVEL_TIME_5 - 1', data=shared).fit()\n",
    "print(results.summary())"
   ]
  },
  {
   "cell_type": "code",
   "execution_count": null,
   "metadata": {},
   "outputs": [],
   "source": []
  },
  {
   "cell_type": "code",
   "execution_count": 594,
   "metadata": {},
   "outputs": [],
   "source": [
    "def set_unmatched_travel_time(row):\n",
    "    if row['TOD_1'] == 1:\n",
    "        row['UNMATCHED_TRAVEL_TIME'] = row['OTP_AUTO_TRAVEL_TIME']* 0.7775\n",
    "        \n",
    "    elif row['TOD_2'] == 1:\n",
    "        row['UNMATCHED_TRAVEL_TIME'] = row['OTP_AUTO_TRAVEL_TIME']* 0.9687\n",
    "        \n",
    "    elif row['TOD_3'] == 1:\n",
    "        row['UNMATCHED_TRAVEL_TIME'] = row['OTP_AUTO_TRAVEL_TIME']* 0.9359\n",
    "        \n",
    "    elif row['TOD_4'] == 1:\n",
    "        row['UNMATCHED_TRAVEL_TIME'] = row['OTP_AUTO_TRAVEL_TIME']* 1.0777\n",
    "        \n",
    "    elif row['TOD_5'] == 1:\n",
    "        row['UNMATCHED_TRAVEL_TIME'] =row['OTP_AUTO_TRAVEL_TIME']* 0.9678\n",
    "        \n",
    "    else:\n",
    "        print('Bad Row!')\n",
    "        \n",
    "    return row"
   ]
  },
  {
   "cell_type": "code",
   "execution_count": 595,
   "metadata": {},
   "outputs": [],
   "source": [
    "matched = matched.apply(lambda row: set_unmatched_travel_time(row), axis = 1)"
   ]
  },
  {
   "cell_type": "code",
   "execution_count": null,
   "metadata": {},
   "outputs": [],
   "source": []
  },
  {
   "cell_type": "code",
   "execution_count": 414,
   "metadata": {},
   "outputs": [
    {
     "data": {
      "text/plain": [
       "2"
      ]
     },
     "execution_count": 414,
     "metadata": {},
     "output_type": "execute_result"
    }
   ],
   "source": [
    "#droppping 2 trips because they are pooling a lot more trips than other trips\n",
    "len(samp[samp['NUM_TRIPS_POOLED'] >= 16])"
   ]
  },
  {
   "cell_type": "code",
   "execution_count": null,
   "metadata": {},
   "outputs": [],
   "source": [
    "\n"
   ]
  },
  {
   "cell_type": "code",
   "execution_count": 596,
   "metadata": {},
   "outputs": [
    {
     "name": "stderr",
     "output_type": "stream",
     "text": [
      "C:\\Users\\ramu225\\Anaconda3\\lib\\site-packages\\seaborn\\distributions.py:2619: FutureWarning: `distplot` is a deprecated function and will be removed in a future version. Please adapt your code to use either `displot` (a figure-level function with similar flexibility) or `histplot` (an axes-level function for histograms).\n",
      "  warnings.warn(msg, FutureWarning)\n"
     ]
    },
    {
     "data": {
      "text/plain": [
       "<matplotlib.axes._subplots.AxesSubplot at 0x200e09a7348>"
      ]
     },
     "execution_count": 596,
     "metadata": {},
     "output_type": "execute_result"
    },
    {
     "data": {
      "image/png": "[encoded data removed]",
      "text/plain": [
       "<Figure size 432x288 with 1 Axes>"
      ]
     },
     "metadata": {
      "needs_background": "light"
     },
     "output_type": "display_data"
    }
   ],
   "source": [
    "matched = matched[matched['NUM_TRIPS_POOLED'] < 16]\n",
    "\n",
    "sns.distplot(matched['NUM_TRIPS_POOLED'])"
   ]
  },
  {
   "cell_type": "code",
   "execution_count": 397,
   "metadata": {},
   "outputs": [],
   "source": [
    "#matched = matched.merge(acs_area[['CENSUS_TRACT','POP_DEN','HHLDS_DEN','YEAR','MONTH']], how = 'left', left_on = ['ORIGIN','MONTH','YEAR'], right_on = ['CENSUS_TRACT','MONTH','YEAR'])"
   ]
  },
  {
   "cell_type": "code",
   "execution_count": 398,
   "metadata": {},
   "outputs": [],
   "source": [
    "#matched = matched.merge(acs_area[['CENSUS_TRACT','POP_DEN','HHLDS_DEN','YEAR','MONTH']], how = 'left', left_on = ['DESTINATION','MONTH','YEAR'], right_on = ['CENSUS_TRACT','MONTH','YEAR'], suffixes = ('_ORIGIN','_DESTINATION'))"
   ]
  },
  {
   "cell_type": "code",
   "execution_count": 399,
   "metadata": {},
   "outputs": [
    {
     "data": {
      "text/plain": [
       "122801"
      ]
     },
     "execution_count": 399,
     "metadata": {},
     "output_type": "execute_result"
    }
   ],
   "source": [
    "len(matched)"
   ]
  },
  {
   "cell_type": "code",
   "execution_count": 600,
   "metadata": {},
   "outputs": [
    {
     "data": {
      "text/html": [
       "<div>\n",
       "<style scoped>\n",
       "    .dataframe tbody tr th:only-of-type {\n",
       "        vertical-align: middle;\n",
       "    }\n",
       "\n",
       "    .dataframe tbody tr th {\n",
       "        vertical-align: top;\n",
       "    }\n",
       "\n",
       "    .dataframe thead th {\n",
       "        text-align: right;\n",
       "    }\n",
       "</style>\n",
       "<table border=\"1\" class=\"dataframe\">\n",
       "  <thead>\n",
       "    <tr style=\"text-align: right;\">\n",
       "      <th></th>\n",
       "      <th>Unnamed: 0</th>\n",
       "      <th>YEAR</th>\n",
       "      <th>MONTH</th>\n",
       "      <th>DOW</th>\n",
       "      <th>HOUR</th>\n",
       "      <th>ORIGIN</th>\n",
       "      <th>DESTINATION</th>\n",
       "      <th>TRAVEL_TIME_MINUTES</th>\n",
       "      <th>TRIP_LENGTH_MILES</th>\n",
       "      <th>ORIGIN_COM_AREA</th>\n",
       "      <th>DEST_COM_AREA</th>\n",
       "      <th>FARE</th>\n",
       "      <th>TIP</th>\n",
       "      <th>ADDITIONAL_CHARGES</th>\n",
       "      <th>TOTAL_COST</th>\n",
       "      <th>SHARED_FLAGGER</th>\n",
       "      <th>NUM_TRIPS_POOLED</th>\n",
       "      <th>SPEED</th>\n",
       "      <th>TRIP_ID</th>\n",
       "      <th>TRIP_START_TIME</th>\n",
       "      <th>TRIP_END_TIME</th>\n",
       "      <th>INTERNAL_UNSUPPRESSED_FLAGGER</th>\n",
       "      <th>INTERNAL_SUPPPRESSED_FLAGGER</th>\n",
       "      <th>EXTERNAL_FLAGGER</th>\n",
       "      <th>INTERNAL_EXTERNAL_FLAGGER</th>\n",
       "      <th>AIRPORT_FLAGGER</th>\n",
       "      <th>TOD_1</th>\n",
       "      <th>TOD_2</th>\n",
       "      <th>TOD_3</th>\n",
       "      <th>TOD_4</th>\n",
       "      <th>TOD_5</th>\n",
       "      <th>TRIP_TYPE</th>\n",
       "      <th>MINUTE</th>\n",
       "      <th>MATCHED_TRIP</th>\n",
       "      <th>UNMATCHED_TRIP</th>\n",
       "      <th>travel_time</th>\n",
       "      <th>walk_distance</th>\n",
       "      <th>OTP_AUTO_TRAVEL_TIME</th>\n",
       "      <th>OTP_AUTO_TRAVEL_TIME_1</th>\n",
       "      <th>OTP_AUTO_TRAVEL_TIME_2</th>\n",
       "      <th>OTP_AUTO_TRAVEL_TIME_3</th>\n",
       "      <th>OTP_AUTO_TRAVEL_TIME_4</th>\n",
       "      <th>OTP_AUTO_TRAVEL_TIME_5</th>\n",
       "      <th>UNMATCHED_TIME</th>\n",
       "      <th>MULTIPLE_POOLS</th>\n",
       "      <th>NUM_POOLS_2</th>\n",
       "      <th>NUM_POOLS_3P</th>\n",
       "    </tr>\n",
       "  </thead>\n",
       "  <tbody>\n",
       "    <tr>\n",
       "      <th>0</th>\n",
       "      <td>139246972</td>\n",
       "      <td>2019</td>\n",
       "      <td>5</td>\n",
       "      <td>0</td>\n",
       "      <td>5</td>\n",
       "      <td>1.703119e+10</td>\n",
       "      <td>1.703119e+10</td>\n",
       "      <td>18.916667</td>\n",
       "      <td>5.9</td>\n",
       "      <td>25.0</td>\n",
       "      <td>11.0</td>\n",
       "      <td>15.0</td>\n",
       "      <td>0.0</td>\n",
       "      <td>0.00</td>\n",
       "      <td>15.00</td>\n",
       "      <td>1</td>\n",
       "      <td>2.0</td>\n",
       "      <td>18.713656</td>\n",
       "      <td>057370757db88466215dbe57b05f19a8e5346ba7</td>\n",
       "      <td>2019-05-13 05:15:00</td>\n",
       "      <td>2019-05-13 05:30:00</td>\n",
       "      <td>0</td>\n",
       "      <td>1</td>\n",
       "      <td>0</td>\n",
       "      <td>0</td>\n",
       "      <td>0</td>\n",
       "      <td>1</td>\n",
       "      <td>0</td>\n",
       "      <td>0</td>\n",
       "      <td>0</td>\n",
       "      <td>0</td>\n",
       "      <td>Internal Suppressed</td>\n",
       "      <td>15</td>\n",
       "      <td>1</td>\n",
       "      <td>0</td>\n",
       "      <td>811</td>\n",
       "      <td>24.0</td>\n",
       "      <td>13.516667</td>\n",
       "      <td>13.516667</td>\n",
       "      <td>0.0</td>\n",
       "      <td>0.000000</td>\n",
       "      <td>0.0</td>\n",
       "      <td>0.000000</td>\n",
       "      <td>10.509208</td>\n",
       "      <td>0</td>\n",
       "      <td>1</td>\n",
       "      <td>0</td>\n",
       "    </tr>\n",
       "    <tr>\n",
       "      <th>1</th>\n",
       "      <td>69668068</td>\n",
       "      <td>2018</td>\n",
       "      <td>12</td>\n",
       "      <td>0</td>\n",
       "      <td>23</td>\n",
       "      <td>1.703119e+10</td>\n",
       "      <td>1.703119e+10</td>\n",
       "      <td>26.783333</td>\n",
       "      <td>9.1</td>\n",
       "      <td>36.0</td>\n",
       "      <td>44.0</td>\n",
       "      <td>7.5</td>\n",
       "      <td>0.0</td>\n",
       "      <td>2.50</td>\n",
       "      <td>10.00</td>\n",
       "      <td>1</td>\n",
       "      <td>2.0</td>\n",
       "      <td>20.385812</td>\n",
       "      <td>5020f1ff4ca9c28bdac70be47c52ed875993952c</td>\n",
       "      <td>2018-12-24 23:15:00</td>\n",
       "      <td>2018-12-24 23:45:00</td>\n",
       "      <td>0</td>\n",
       "      <td>1</td>\n",
       "      <td>0</td>\n",
       "      <td>0</td>\n",
       "      <td>0</td>\n",
       "      <td>1</td>\n",
       "      <td>0</td>\n",
       "      <td>0</td>\n",
       "      <td>0</td>\n",
       "      <td>0</td>\n",
       "      <td>Internal Suppressed</td>\n",
       "      <td>15</td>\n",
       "      <td>1</td>\n",
       "      <td>0</td>\n",
       "      <td>811</td>\n",
       "      <td>24.0</td>\n",
       "      <td>13.516667</td>\n",
       "      <td>13.516667</td>\n",
       "      <td>0.0</td>\n",
       "      <td>0.000000</td>\n",
       "      <td>0.0</td>\n",
       "      <td>0.000000</td>\n",
       "      <td>10.509208</td>\n",
       "      <td>0</td>\n",
       "      <td>1</td>\n",
       "      <td>0</td>\n",
       "    </tr>\n",
       "    <tr>\n",
       "      <th>2</th>\n",
       "      <td>94859909</td>\n",
       "      <td>2019</td>\n",
       "      <td>1</td>\n",
       "      <td>1</td>\n",
       "      <td>22</td>\n",
       "      <td>1.703119e+10</td>\n",
       "      <td>1.703119e+10</td>\n",
       "      <td>25.283333</td>\n",
       "      <td>5.3</td>\n",
       "      <td>63.0</td>\n",
       "      <td>64.0</td>\n",
       "      <td>5.0</td>\n",
       "      <td>0.0</td>\n",
       "      <td>2.55</td>\n",
       "      <td>7.55</td>\n",
       "      <td>1</td>\n",
       "      <td>4.0</td>\n",
       "      <td>12.577456</td>\n",
       "      <td>543d9f800fa8d96a34103818336af36a672ce063</td>\n",
       "      <td>2019-01-29 22:30:00</td>\n",
       "      <td>2019-01-29 23:00:00</td>\n",
       "      <td>0</td>\n",
       "      <td>1</td>\n",
       "      <td>0</td>\n",
       "      <td>0</td>\n",
       "      <td>0</td>\n",
       "      <td>1</td>\n",
       "      <td>0</td>\n",
       "      <td>0</td>\n",
       "      <td>0</td>\n",
       "      <td>0</td>\n",
       "      <td>Internal Suppressed</td>\n",
       "      <td>30</td>\n",
       "      <td>1</td>\n",
       "      <td>0</td>\n",
       "      <td>811</td>\n",
       "      <td>24.0</td>\n",
       "      <td>13.516667</td>\n",
       "      <td>13.516667</td>\n",
       "      <td>0.0</td>\n",
       "      <td>0.000000</td>\n",
       "      <td>0.0</td>\n",
       "      <td>0.000000</td>\n",
       "      <td>10.509208</td>\n",
       "      <td>1</td>\n",
       "      <td>0</td>\n",
       "      <td>1</td>\n",
       "    </tr>\n",
       "    <tr>\n",
       "      <th>3</th>\n",
       "      <td>124653460</td>\n",
       "      <td>2019</td>\n",
       "      <td>8</td>\n",
       "      <td>2</td>\n",
       "      <td>9</td>\n",
       "      <td>1.703119e+10</td>\n",
       "      <td>1.703119e+10</td>\n",
       "      <td>25.033333</td>\n",
       "      <td>8.5</td>\n",
       "      <td>8.0</td>\n",
       "      <td>14.0</td>\n",
       "      <td>10.0</td>\n",
       "      <td>0.0</td>\n",
       "      <td>0.00</td>\n",
       "      <td>10.00</td>\n",
       "      <td>1</td>\n",
       "      <td>2.0</td>\n",
       "      <td>20.372836</td>\n",
       "      <td>89f7efee4b829fbb5eafad597da9fad7bdd82e2f</td>\n",
       "      <td>2019-08-28 09:30:00</td>\n",
       "      <td>2019-08-28 10:00:00</td>\n",
       "      <td>0</td>\n",
       "      <td>1</td>\n",
       "      <td>0</td>\n",
       "      <td>0</td>\n",
       "      <td>0</td>\n",
       "      <td>0</td>\n",
       "      <td>0</td>\n",
       "      <td>1</td>\n",
       "      <td>0</td>\n",
       "      <td>0</td>\n",
       "      <td>Internal Suppressed</td>\n",
       "      <td>30</td>\n",
       "      <td>1</td>\n",
       "      <td>0</td>\n",
       "      <td>811</td>\n",
       "      <td>24.0</td>\n",
       "      <td>13.516667</td>\n",
       "      <td>0.000000</td>\n",
       "      <td>0.0</td>\n",
       "      <td>13.516667</td>\n",
       "      <td>0.0</td>\n",
       "      <td>0.000000</td>\n",
       "      <td>12.650248</td>\n",
       "      <td>0</td>\n",
       "      <td>1</td>\n",
       "      <td>0</td>\n",
       "    </tr>\n",
       "    <tr>\n",
       "      <th>4</th>\n",
       "      <td>76008622</td>\n",
       "      <td>2018</td>\n",
       "      <td>11</td>\n",
       "      <td>4</td>\n",
       "      <td>12</td>\n",
       "      <td>1.703119e+10</td>\n",
       "      <td>1.703119e+10</td>\n",
       "      <td>38.600000</td>\n",
       "      <td>8.8</td>\n",
       "      <td>16.0</td>\n",
       "      <td>28.0</td>\n",
       "      <td>12.5</td>\n",
       "      <td>0.0</td>\n",
       "      <td>2.50</td>\n",
       "      <td>15.00</td>\n",
       "      <td>1</td>\n",
       "      <td>2.0</td>\n",
       "      <td>13.678756</td>\n",
       "      <td>b96f0c1e806ac4bd8e3b7f8723512389c5242046</td>\n",
       "      <td>2018-11-02 12:30:00</td>\n",
       "      <td>2018-11-02 13:15:00</td>\n",
       "      <td>0</td>\n",
       "      <td>1</td>\n",
       "      <td>0</td>\n",
       "      <td>0</td>\n",
       "      <td>0</td>\n",
       "      <td>0</td>\n",
       "      <td>0</td>\n",
       "      <td>1</td>\n",
       "      <td>0</td>\n",
       "      <td>0</td>\n",
       "      <td>Internal Suppressed</td>\n",
       "      <td>30</td>\n",
       "      <td>1</td>\n",
       "      <td>0</td>\n",
       "      <td>811</td>\n",
       "      <td>24.0</td>\n",
       "      <td>13.516667</td>\n",
       "      <td>0.000000</td>\n",
       "      <td>0.0</td>\n",
       "      <td>13.516667</td>\n",
       "      <td>0.0</td>\n",
       "      <td>0.000000</td>\n",
       "      <td>12.650248</td>\n",
       "      <td>0</td>\n",
       "      <td>1</td>\n",
       "      <td>0</td>\n",
       "    </tr>\n",
       "    <tr>\n",
       "      <th>...</th>\n",
       "      <td>...</td>\n",
       "      <td>...</td>\n",
       "      <td>...</td>\n",
       "      <td>...</td>\n",
       "      <td>...</td>\n",
       "      <td>...</td>\n",
       "      <td>...</td>\n",
       "      <td>...</td>\n",
       "      <td>...</td>\n",
       "      <td>...</td>\n",
       "      <td>...</td>\n",
       "      <td>...</td>\n",
       "      <td>...</td>\n",
       "      <td>...</td>\n",
       "      <td>...</td>\n",
       "      <td>...</td>\n",
       "      <td>...</td>\n",
       "      <td>...</td>\n",
       "      <td>...</td>\n",
       "      <td>...</td>\n",
       "      <td>...</td>\n",
       "      <td>...</td>\n",
       "      <td>...</td>\n",
       "      <td>...</td>\n",
       "      <td>...</td>\n",
       "      <td>...</td>\n",
       "      <td>...</td>\n",
       "      <td>...</td>\n",
       "      <td>...</td>\n",
       "      <td>...</td>\n",
       "      <td>...</td>\n",
       "      <td>...</td>\n",
       "      <td>...</td>\n",
       "      <td>...</td>\n",
       "      <td>...</td>\n",
       "      <td>...</td>\n",
       "      <td>...</td>\n",
       "      <td>...</td>\n",
       "      <td>...</td>\n",
       "      <td>...</td>\n",
       "      <td>...</td>\n",
       "      <td>...</td>\n",
       "      <td>...</td>\n",
       "      <td>...</td>\n",
       "      <td>...</td>\n",
       "      <td>...</td>\n",
       "      <td>...</td>\n",
       "    </tr>\n",
       "    <tr>\n",
       "      <th>122796</th>\n",
       "      <td>84077151</td>\n",
       "      <td>2020</td>\n",
       "      <td>2</td>\n",
       "      <td>3</td>\n",
       "      <td>19</td>\n",
       "      <td>1.703125e+10</td>\n",
       "      <td>1.703108e+10</td>\n",
       "      <td>30.033333</td>\n",
       "      <td>9.9</td>\n",
       "      <td>25.0</td>\n",
       "      <td>8.0</td>\n",
       "      <td>12.5</td>\n",
       "      <td>0.0</td>\n",
       "      <td>0.00</td>\n",
       "      <td>12.50</td>\n",
       "      <td>1</td>\n",
       "      <td>2.0</td>\n",
       "      <td>19.778024</td>\n",
       "      <td>874ec29992bd48eb33af793051b6816b16c75b35</td>\n",
       "      <td>2020-02-27 19:15:00</td>\n",
       "      <td>2020-02-27 19:45:00</td>\n",
       "      <td>1</td>\n",
       "      <td>0</td>\n",
       "      <td>0</td>\n",
       "      <td>0</td>\n",
       "      <td>0</td>\n",
       "      <td>0</td>\n",
       "      <td>0</td>\n",
       "      <td>0</td>\n",
       "      <td>0</td>\n",
       "      <td>1</td>\n",
       "      <td>Internal Unsuppressed</td>\n",
       "      <td>15</td>\n",
       "      <td>1</td>\n",
       "      <td>0</td>\n",
       "      <td>1420</td>\n",
       "      <td>71.0</td>\n",
       "      <td>23.666667</td>\n",
       "      <td>0.000000</td>\n",
       "      <td>0.0</td>\n",
       "      <td>0.000000</td>\n",
       "      <td>0.0</td>\n",
       "      <td>23.666667</td>\n",
       "      <td>22.904600</td>\n",
       "      <td>0</td>\n",
       "      <td>1</td>\n",
       "      <td>0</td>\n",
       "    </tr>\n",
       "    <tr>\n",
       "      <th>122797</th>\n",
       "      <td>89255123</td>\n",
       "      <td>2019</td>\n",
       "      <td>2</td>\n",
       "      <td>1</td>\n",
       "      <td>21</td>\n",
       "      <td>1.703108e+10</td>\n",
       "      <td>1.703183e+10</td>\n",
       "      <td>24.250000</td>\n",
       "      <td>7.3</td>\n",
       "      <td>8.0</td>\n",
       "      <td>20.0</td>\n",
       "      <td>30.0</td>\n",
       "      <td>0.0</td>\n",
       "      <td>0.00</td>\n",
       "      <td>30.00</td>\n",
       "      <td>1</td>\n",
       "      <td>2.0</td>\n",
       "      <td>18.061856</td>\n",
       "      <td>29f46992436052f87a70f3201a9bb25c0772c7cb</td>\n",
       "      <td>2019-02-05 21:45:00</td>\n",
       "      <td>2019-02-05 22:15:00</td>\n",
       "      <td>1</td>\n",
       "      <td>0</td>\n",
       "      <td>0</td>\n",
       "      <td>0</td>\n",
       "      <td>0</td>\n",
       "      <td>0</td>\n",
       "      <td>0</td>\n",
       "      <td>0</td>\n",
       "      <td>0</td>\n",
       "      <td>1</td>\n",
       "      <td>Internal Unsuppressed</td>\n",
       "      <td>45</td>\n",
       "      <td>1</td>\n",
       "      <td>0</td>\n",
       "      <td>1587</td>\n",
       "      <td>73.0</td>\n",
       "      <td>26.450000</td>\n",
       "      <td>0.000000</td>\n",
       "      <td>0.0</td>\n",
       "      <td>0.000000</td>\n",
       "      <td>0.0</td>\n",
       "      <td>26.450000</td>\n",
       "      <td>25.598310</td>\n",
       "      <td>0</td>\n",
       "      <td>1</td>\n",
       "      <td>0</td>\n",
       "    </tr>\n",
       "    <tr>\n",
       "      <th>122798</th>\n",
       "      <td>146657035</td>\n",
       "      <td>2019</td>\n",
       "      <td>6</td>\n",
       "      <td>0</td>\n",
       "      <td>21</td>\n",
       "      <td>1.703183e+10</td>\n",
       "      <td>1.703107e+10</td>\n",
       "      <td>20.666667</td>\n",
       "      <td>4.1</td>\n",
       "      <td>22.0</td>\n",
       "      <td>7.0</td>\n",
       "      <td>7.5</td>\n",
       "      <td>0.0</td>\n",
       "      <td>0.00</td>\n",
       "      <td>7.50</td>\n",
       "      <td>1</td>\n",
       "      <td>4.0</td>\n",
       "      <td>11.903226</td>\n",
       "      <td>48ba3a926eaf6c147f7d391d86f8659814d5e6de</td>\n",
       "      <td>2019-06-17 21:15:00</td>\n",
       "      <td>2019-06-17 21:45:00</td>\n",
       "      <td>1</td>\n",
       "      <td>0</td>\n",
       "      <td>0</td>\n",
       "      <td>0</td>\n",
       "      <td>0</td>\n",
       "      <td>0</td>\n",
       "      <td>0</td>\n",
       "      <td>0</td>\n",
       "      <td>0</td>\n",
       "      <td>1</td>\n",
       "      <td>Internal Unsuppressed</td>\n",
       "      <td>15</td>\n",
       "      <td>1</td>\n",
       "      <td>0</td>\n",
       "      <td>966</td>\n",
       "      <td>53.0</td>\n",
       "      <td>16.100000</td>\n",
       "      <td>0.000000</td>\n",
       "      <td>0.0</td>\n",
       "      <td>0.000000</td>\n",
       "      <td>0.0</td>\n",
       "      <td>16.100000</td>\n",
       "      <td>15.581580</td>\n",
       "      <td>1</td>\n",
       "      <td>0</td>\n",
       "      <td>1</td>\n",
       "    </tr>\n",
       "    <tr>\n",
       "      <th>122799</th>\n",
       "      <td>84178664</td>\n",
       "      <td>2019</td>\n",
       "      <td>3</td>\n",
       "      <td>1</td>\n",
       "      <td>20</td>\n",
       "      <td>1.703107e+10</td>\n",
       "      <td>1.703106e+10</td>\n",
       "      <td>9.416667</td>\n",
       "      <td>1.9</td>\n",
       "      <td>7.0</td>\n",
       "      <td>6.0</td>\n",
       "      <td>5.0</td>\n",
       "      <td>0.0</td>\n",
       "      <td>0.00</td>\n",
       "      <td>5.00</td>\n",
       "      <td>1</td>\n",
       "      <td>3.0</td>\n",
       "      <td>12.106195</td>\n",
       "      <td>03a8a73c1bd0f77a81115687f69bfec728908b59</td>\n",
       "      <td>2019-03-05 20:45:00</td>\n",
       "      <td>2019-03-05 21:00:00</td>\n",
       "      <td>1</td>\n",
       "      <td>0</td>\n",
       "      <td>0</td>\n",
       "      <td>0</td>\n",
       "      <td>0</td>\n",
       "      <td>0</td>\n",
       "      <td>0</td>\n",
       "      <td>0</td>\n",
       "      <td>0</td>\n",
       "      <td>1</td>\n",
       "      <td>Internal Unsuppressed</td>\n",
       "      <td>45</td>\n",
       "      <td>1</td>\n",
       "      <td>0</td>\n",
       "      <td>638</td>\n",
       "      <td>44.0</td>\n",
       "      <td>10.633333</td>\n",
       "      <td>0.000000</td>\n",
       "      <td>0.0</td>\n",
       "      <td>0.000000</td>\n",
       "      <td>0.0</td>\n",
       "      <td>10.633333</td>\n",
       "      <td>10.290940</td>\n",
       "      <td>1</td>\n",
       "      <td>0</td>\n",
       "      <td>0</td>\n",
       "    </tr>\n",
       "    <tr>\n",
       "      <th>122800</th>\n",
       "      <td>57343569</td>\n",
       "      <td>2020</td>\n",
       "      <td>1</td>\n",
       "      <td>4</td>\n",
       "      <td>20</td>\n",
       "      <td>1.703183e+10</td>\n",
       "      <td>1.703122e+10</td>\n",
       "      <td>30.500000</td>\n",
       "      <td>7.2</td>\n",
       "      <td>13.0</td>\n",
       "      <td>22.0</td>\n",
       "      <td>10.0</td>\n",
       "      <td>0.0</td>\n",
       "      <td>2.55</td>\n",
       "      <td>12.55</td>\n",
       "      <td>1</td>\n",
       "      <td>2.0</td>\n",
       "      <td>14.163934</td>\n",
       "      <td>97d194673c9497702ab626b3052bc5c9d59c5e0b</td>\n",
       "      <td>2020-01-03 20:00:00</td>\n",
       "      <td>2020-01-03 20:30:00</td>\n",
       "      <td>1</td>\n",
       "      <td>0</td>\n",
       "      <td>0</td>\n",
       "      <td>0</td>\n",
       "      <td>0</td>\n",
       "      <td>0</td>\n",
       "      <td>0</td>\n",
       "      <td>0</td>\n",
       "      <td>0</td>\n",
       "      <td>1</td>\n",
       "      <td>Internal Unsuppressed</td>\n",
       "      <td>0</td>\n",
       "      <td>1</td>\n",
       "      <td>0</td>\n",
       "      <td>1266</td>\n",
       "      <td>NaN</td>\n",
       "      <td>21.100000</td>\n",
       "      <td>0.000000</td>\n",
       "      <td>0.0</td>\n",
       "      <td>0.000000</td>\n",
       "      <td>0.0</td>\n",
       "      <td>21.100000</td>\n",
       "      <td>20.420580</td>\n",
       "      <td>0</td>\n",
       "      <td>1</td>\n",
       "      <td>0</td>\n",
       "    </tr>\n",
       "  </tbody>\n",
       "</table>\n",
       "<p>122799 rows × 47 columns</p>\n",
       "</div>"
      ],
      "text/plain": [
       "        Unnamed: 0  YEAR  MONTH  DOW  HOUR        ORIGIN   DESTINATION  \\\n",
       "0        139246972  2019      5    0     5  1.703119e+10  1.703119e+10   \n",
       "1         69668068  2018     12    0    23  1.703119e+10  1.703119e+10   \n",
       "2         94859909  2019      1    1    22  1.703119e+10  1.703119e+10   \n",
       "3        124653460  2019      8    2     9  1.703119e+10  1.703119e+10   \n",
       "4         76008622  2018     11    4    12  1.703119e+10  1.703119e+10   \n",
       "...            ...   ...    ...  ...   ...           ...           ...   \n",
       "122796    84077151  2020      2    3    19  1.703125e+10  1.703108e+10   \n",
       "122797    89255123  2019      2    1    21  1.703108e+10  1.703183e+10   \n",
       "122798   146657035  2019      6    0    21  1.703183e+10  1.703107e+10   \n",
       "122799    84178664  2019      3    1    20  1.703107e+10  1.703106e+10   \n",
       "122800    57343569  2020      1    4    20  1.703183e+10  1.703122e+10   \n",
       "\n",
       "        TRAVEL_TIME_MINUTES  TRIP_LENGTH_MILES  ORIGIN_COM_AREA  \\\n",
       "0                 18.916667                5.9             25.0   \n",
       "1                 26.783333                9.1             36.0   \n",
       "2                 25.283333                5.3             63.0   \n",
       "3                 25.033333                8.5              8.0   \n",
       "4                 38.600000                8.8             16.0   \n",
       "...                     ...                ...              ...   \n",
       "122796            30.033333                9.9             25.0   \n",
       "122797            24.250000                7.3              8.0   \n",
       "122798            20.666667                4.1             22.0   \n",
       "122799             9.416667                1.9              7.0   \n",
       "122800            30.500000                7.2             13.0   \n",
       "\n",
       "        DEST_COM_AREA  FARE  TIP  ADDITIONAL_CHARGES  TOTAL_COST  \\\n",
       "0                11.0  15.0  0.0                0.00       15.00   \n",
       "1                44.0   7.5  0.0                2.50       10.00   \n",
       "2                64.0   5.0  0.0                2.55        7.55   \n",
       "3                14.0  10.0  0.0                0.00       10.00   \n",
       "4                28.0  12.5  0.0                2.50       15.00   \n",
       "...               ...   ...  ...                 ...         ...   \n",
       "122796            8.0  12.5  0.0                0.00       12.50   \n",
       "122797           20.0  30.0  0.0                0.00       30.00   \n",
       "122798            7.0   7.5  0.0                0.00        7.50   \n",
       "122799            6.0   5.0  0.0                0.00        5.00   \n",
       "122800           22.0  10.0  0.0                2.55       12.55   \n",
       "\n",
       "        SHARED_FLAGGER  NUM_TRIPS_POOLED      SPEED  \\\n",
       "0                    1               2.0  18.713656   \n",
       "1                    1               2.0  20.385812   \n",
       "2                    1               4.0  12.577456   \n",
       "3                    1               2.0  20.372836   \n",
       "4                    1               2.0  13.678756   \n",
       "...                ...               ...        ...   \n",
       "122796               1               2.0  19.778024   \n",
       "122797               1               2.0  18.061856   \n",
       "122798               1               4.0  11.903226   \n",
       "122799               1               3.0  12.106195   \n",
       "122800               1               2.0  14.163934   \n",
       "\n",
       "                                         TRIP_ID      TRIP_START_TIME  \\\n",
       "0       057370757db88466215dbe57b05f19a8e5346ba7  2019-05-13 05:15:00   \n",
       "1       5020f1ff4ca9c28bdac70be47c52ed875993952c  2018-12-24 23:15:00   \n",
       "2       543d9f800fa8d96a34103818336af36a672ce063  2019-01-29 22:30:00   \n",
       "3       89f7efee4b829fbb5eafad597da9fad7bdd82e2f  2019-08-28 09:30:00   \n",
       "4       b96f0c1e806ac4bd8e3b7f8723512389c5242046  2018-11-02 12:30:00   \n",
       "...                                          ...                  ...   \n",
       "122796  874ec29992bd48eb33af793051b6816b16c75b35  2020-02-27 19:15:00   \n",
       "122797  29f46992436052f87a70f3201a9bb25c0772c7cb  2019-02-05 21:45:00   \n",
       "122798  48ba3a926eaf6c147f7d391d86f8659814d5e6de  2019-06-17 21:15:00   \n",
       "122799  03a8a73c1bd0f77a81115687f69bfec728908b59  2019-03-05 20:45:00   \n",
       "122800  97d194673c9497702ab626b3052bc5c9d59c5e0b  2020-01-03 20:00:00   \n",
       "\n",
       "              TRIP_END_TIME  INTERNAL_UNSUPPRESSED_FLAGGER  \\\n",
       "0       2019-05-13 05:30:00                              0   \n",
       "1       2018-12-24 23:45:00                              0   \n",
       "2       2019-01-29 23:00:00                              0   \n",
       "3       2019-08-28 10:00:00                              0   \n",
       "4       2018-11-02 13:15:00                              0   \n",
       "...                     ...                            ...   \n",
       "122796  2020-02-27 19:45:00                              1   \n",
       "122797  2019-02-05 22:15:00                              1   \n",
       "122798  2019-06-17 21:45:00                              1   \n",
       "122799  2019-03-05 21:00:00                              1   \n",
       "122800  2020-01-03 20:30:00                              1   \n",
       "\n",
       "        INTERNAL_SUPPPRESSED_FLAGGER  EXTERNAL_FLAGGER  \\\n",
       "0                                  1                 0   \n",
       "1                                  1                 0   \n",
       "2                                  1                 0   \n",
       "3                                  1                 0   \n",
       "4                                  1                 0   \n",
       "...                              ...               ...   \n",
       "122796                             0                 0   \n",
       "122797                             0                 0   \n",
       "122798                             0                 0   \n",
       "122799                             0                 0   \n",
       "122800                             0                 0   \n",
       "\n",
       "        INTERNAL_EXTERNAL_FLAGGER  AIRPORT_FLAGGER  TOD_1  TOD_2  TOD_3  \\\n",
       "0                               0                0      1      0      0   \n",
       "1                               0                0      1      0      0   \n",
       "2                               0                0      1      0      0   \n",
       "3                               0                0      0      0      1   \n",
       "4                               0                0      0      0      1   \n",
       "...                           ...              ...    ...    ...    ...   \n",
       "122796                          0                0      0      0      0   \n",
       "122797                          0                0      0      0      0   \n",
       "122798                          0                0      0      0      0   \n",
       "122799                          0                0      0      0      0   \n",
       "122800                          0                0      0      0      0   \n",
       "\n",
       "        TOD_4  TOD_5              TRIP_TYPE  MINUTE  MATCHED_TRIP  \\\n",
       "0           0      0    Internal Suppressed      15             1   \n",
       "1           0      0    Internal Suppressed      15             1   \n",
       "2           0      0    Internal Suppressed      30             1   \n",
       "3           0      0    Internal Suppressed      30             1   \n",
       "4           0      0    Internal Suppressed      30             1   \n",
       "...       ...    ...                    ...     ...           ...   \n",
       "122796      0      1  Internal Unsuppressed      15             1   \n",
       "122797      0      1  Internal Unsuppressed      45             1   \n",
       "122798      0      1  Internal Unsuppressed      15             1   \n",
       "122799      0      1  Internal Unsuppressed      45             1   \n",
       "122800      0      1  Internal Unsuppressed       0             1   \n",
       "\n",
       "        UNMATCHED_TRIP  travel_time  walk_distance  OTP_AUTO_TRAVEL_TIME  \\\n",
       "0                    0          811           24.0             13.516667   \n",
       "1                    0          811           24.0             13.516667   \n",
       "2                    0          811           24.0             13.516667   \n",
       "3                    0          811           24.0             13.516667   \n",
       "4                    0          811           24.0             13.516667   \n",
       "...                ...          ...            ...                   ...   \n",
       "122796               0         1420           71.0             23.666667   \n",
       "122797               0         1587           73.0             26.450000   \n",
       "122798               0          966           53.0             16.100000   \n",
       "122799               0          638           44.0             10.633333   \n",
       "122800               0         1266            NaN             21.100000   \n",
       "\n",
       "        OTP_AUTO_TRAVEL_TIME_1  OTP_AUTO_TRAVEL_TIME_2  \\\n",
       "0                    13.516667                     0.0   \n",
       "1                    13.516667                     0.0   \n",
       "2                    13.516667                     0.0   \n",
       "3                     0.000000                     0.0   \n",
       "4                     0.000000                     0.0   \n",
       "...                        ...                     ...   \n",
       "122796                0.000000                     0.0   \n",
       "122797                0.000000                     0.0   \n",
       "122798                0.000000                     0.0   \n",
       "122799                0.000000                     0.0   \n",
       "122800                0.000000                     0.0   \n",
       "\n",
       "        OTP_AUTO_TRAVEL_TIME_3  OTP_AUTO_TRAVEL_TIME_4  \\\n",
       "0                     0.000000                     0.0   \n",
       "1                     0.000000                     0.0   \n",
       "2                     0.000000                     0.0   \n",
       "3                    13.516667                     0.0   \n",
       "4                    13.516667                     0.0   \n",
       "...                        ...                     ...   \n",
       "122796                0.000000                     0.0   \n",
       "122797                0.000000                     0.0   \n",
       "122798                0.000000                     0.0   \n",
       "122799                0.000000                     0.0   \n",
       "122800                0.000000                     0.0   \n",
       "\n",
       "        OTP_AUTO_TRAVEL_TIME_5  UNMATCHED_TIME  MULTIPLE_POOLS  NUM_POOLS_2  \\\n",
       "0                     0.000000       10.509208               0            1   \n",
       "1                     0.000000       10.509208               0            1   \n",
       "2                     0.000000       10.509208               1            0   \n",
       "3                     0.000000       12.650248               0            1   \n",
       "4                     0.000000       12.650248               0            1   \n",
       "...                        ...             ...             ...          ...   \n",
       "122796               23.666667       22.904600               0            1   \n",
       "122797               26.450000       25.598310               0            1   \n",
       "122798               16.100000       15.581580               1            0   \n",
       "122799               10.633333       10.290940               1            0   \n",
       "122800               21.100000       20.420580               0            1   \n",
       "\n",
       "        NUM_POOLS_3P  \n",
       "0                  0  \n",
       "1                  0  \n",
       "2                  1  \n",
       "3                  0  \n",
       "4                  0  \n",
       "...              ...  \n",
       "122796             0  \n",
       "122797             0  \n",
       "122798             1  \n",
       "122799             0  \n",
       "122800             0  \n",
       "\n",
       "[122799 rows x 47 columns]"
      ]
     },
     "execution_count": 600,
     "metadata": {},
     "output_type": "execute_result"
    }
   ],
   "source": [
    "matched"
   ]
  },
  {
   "cell_type": "code",
   "execution_count": null,
   "metadata": {},
   "outputs": [],
   "source": []
  },
  {
   "cell_type": "code",
   "execution_count": null,
   "metadata": {},
   "outputs": [],
   "source": []
  },
  {
   "cell_type": "code",
   "execution_count": 603,
   "metadata": {},
   "outputs": [
    {
     "name": "stdout",
     "output_type": "stream",
     "text": [
      "                             OLS Regression Results                            \n",
      "===============================================================================\n",
      "Dep. Variable:     TRAVEL_TIME_MINUTES   R-squared:                       0.194\n",
      "Model:                             OLS   Adj. R-squared:                  0.194\n",
      "Method:                  Least Squares   F-statistic:                 2.953e+04\n",
      "Date:                 Sat, 16 Jul 2022   Prob (F-statistic):               0.00\n",
      "Time:                         12:23:58   Log-Likelihood:            -4.7508e+05\n",
      "No. Observations:               122799   AIC:                         9.502e+05\n",
      "Df Residuals:                   122797   BIC:                         9.502e+05\n",
      "Df Model:                            1                                         \n",
      "Covariance Type:             nonrobust                                         \n",
      "=========================================================================================\n",
      "                            coef    std err          t      P>|t|      [0.025      0.975]\n",
      "-----------------------------------------------------------------------------------------\n",
      "Intercept                13.3793      0.063    212.250      0.000      13.256      13.503\n",
      "UNMATCHED_TRAVEL_TIME     0.6816      0.004    171.857      0.000       0.674       0.689\n",
      "==============================================================================\n",
      "Omnibus:                    30558.869   Durbin-Watson:                   1.540\n",
      "Prob(Omnibus):                  0.000   Jarque-Bera (JB):            80985.446\n",
      "Skew:                           1.343   Prob(JB):                         0.00\n",
      "Kurtosis:                       5.935   Cond. No.                         30.4\n",
      "==============================================================================\n",
      "\n",
      "Warnings:\n",
      "[1] Standard Errors assume that the covariance matrix of the errors is correctly specified.\n"
     ]
    }
   ],
   "source": [
    "results = smf.ols('TRAVEL_TIME_MINUTES ~ UNMATCHED_TRAVEL_TIME ', data=matched).fit()\n",
    "print(results.summary())"
   ]
  },
  {
   "cell_type": "code",
   "execution_count": 611,
   "metadata": {},
   "outputs": [
    {
     "name": "stdout",
     "output_type": "stream",
     "text": [
      "                                 OLS Regression Results                                 \n",
      "========================================================================================\n",
      "Dep. Variable:     TRAVEL_TIME_MINUTES   R-squared (uncentered):                   0.786\n",
      "Model:                             OLS   Adj. R-squared (uncentered):              0.786\n",
      "Method:                  Least Squares   F-statistic:                          2.262e+05\n",
      "Date:                 Sat, 16 Jul 2022   Prob (F-statistic):                        0.00\n",
      "Time:                         12:26:12   Log-Likelihood:                     -4.7966e+05\n",
      "No. Observations:               122799   AIC:                                  9.593e+05\n",
      "Df Residuals:                   122797   BIC:                                  9.593e+05\n",
      "Df Model:                            2                                                  \n",
      "Covariance Type:             nonrobust                                                  \n",
      "=========================================================================================\n",
      "                            coef    std err          t      P>|t|      [0.025      0.975]\n",
      "-----------------------------------------------------------------------------------------\n",
      "UNMATCHED_TRAVEL_TIME     0.8605      0.004    234.855      0.000       0.853       0.868\n",
      "NUM_TRIPS_POOLED          3.6636      0.020    181.625      0.000       3.624       3.703\n",
      "==============================================================================\n",
      "Omnibus:                    26273.203   Durbin-Watson:                   1.471\n",
      "Prob(Omnibus):                  0.000   Jarque-Bera (JB):            67833.582\n",
      "Skew:                           1.167   Prob(JB):                         0.00\n",
      "Kurtosis:                       5.794   Cond. No.                         9.55\n",
      "==============================================================================\n",
      "\n",
      "Warnings:\n",
      "[1] Standard Errors assume that the covariance matrix of the errors is correctly specified.\n"
     ]
    }
   ],
   "source": [
    "results = smf.ols('TRAVEL_TIME_MINUTES ~ UNMATCHED_TRAVEL_TIME + NUM_TRIPS_POOLED - 1', data=matched).fit()\n",
    "print(results.summary())"
   ]
  },
  {
   "cell_type": "code",
   "execution_count": null,
   "metadata": {},
   "outputs": [],
   "source": [
    "matched['NUM_MATCHED_TRIPS'] = matched['NUM_TRIPS_POOLED'] - 1"
   ]
  },
  {
   "cell_type": "code",
   "execution_count": 646,
   "metadata": {},
   "outputs": [
    {
     "name": "stdout",
     "output_type": "stream",
     "text": [
      "                                 OLS Regression Results                                 \n",
      "========================================================================================\n",
      "Dep. Variable:     TRAVEL_TIME_MINUTES   R-squared (uncentered):                   0.771\n",
      "Model:                             OLS   Adj. R-squared (uncentered):              0.771\n",
      "Method:                  Least Squares   F-statistic:                          2.067e+05\n",
      "Date:                 Sat, 16 Jul 2022   Prob (F-statistic):                        0.00\n",
      "Time:                         12:32:29   Log-Likelihood:                     -4.8395e+05\n",
      "No. Observations:               122799   AIC:                                  9.679e+05\n",
      "Df Residuals:                   122797   BIC:                                  9.679e+05\n",
      "Df Model:                            2                                                  \n",
      "Covariance Type:             nonrobust                                                  \n",
      "=========================================================================================\n",
      "                            coef    std err          t      P>|t|      [0.025      0.975]\n",
      "-----------------------------------------------------------------------------------------\n",
      "UNMATCHED_TRAVEL_TIME     1.0163      0.003    299.761      0.000       1.010       1.023\n",
      "NUM_MATCHED_TRIPS         4.0985      0.027    149.894      0.000       4.045       4.152\n",
      "==============================================================================\n",
      "Omnibus:                    24373.757   Durbin-Watson:                   1.384\n",
      "Prob(Omnibus):                  0.000   Jarque-Bera (JB):            61890.563\n",
      "Skew:                           1.093   Prob(JB):                         0.00\n",
      "Kurtosis:                       5.706   Cond. No.                         12.3\n",
      "==============================================================================\n",
      "\n",
      "Warnings:\n",
      "[1] Standard Errors assume that the covariance matrix of the errors is correctly specified.\n"
     ]
    }
   ],
   "source": [
    "# USE THIS MODEL\n",
    "results = smf.ols('TRAVEL_TIME_MINUTES ~ UNMATCHED_TRAVEL_TIME + NUM_MATCHED_TRIPS  - 1', data=matched).fit()\n",
    "print(results.summary())"
   ]
  },
  {
   "cell_type": "code",
   "execution_count": 605,
   "metadata": {},
   "outputs": [],
   "source": [
    "matched['MULTIPLE_POOLS'] = np.where(matched['NUM_TRIPS_POOLED'] > 2, 1, 0)\n",
    "matched['NUM_POOLS_2'] = np.where(matched['NUM_TRIPS_POOLED'] == 2, 1, 0)\n",
    "matched['NUM_POOLS_3P'] = np.where(matched['NUM_TRIPS_POOLED'] > 3, 1, 0)"
   ]
  },
  {
   "cell_type": "code",
   "execution_count": 645,
   "metadata": {},
   "outputs": [],
   "source": []
  },
  {
   "cell_type": "code",
   "execution_count": 606,
   "metadata": {},
   "outputs": [
    {
     "data": {
      "text/html": [
       "<div>\n",
       "<style scoped>\n",
       "    .dataframe tbody tr th:only-of-type {\n",
       "        vertical-align: middle;\n",
       "    }\n",
       "\n",
       "    .dataframe tbody tr th {\n",
       "        vertical-align: top;\n",
       "    }\n",
       "\n",
       "    .dataframe thead th {\n",
       "        text-align: right;\n",
       "    }\n",
       "</style>\n",
       "<table border=\"1\" class=\"dataframe\">\n",
       "  <thead>\n",
       "    <tr style=\"text-align: right;\">\n",
       "      <th></th>\n",
       "      <th>Unnamed: 0</th>\n",
       "      <th>YEAR</th>\n",
       "      <th>MONTH</th>\n",
       "      <th>DOW</th>\n",
       "      <th>HOUR</th>\n",
       "      <th>ORIGIN</th>\n",
       "      <th>DESTINATION</th>\n",
       "      <th>TRAVEL_TIME_MINUTES</th>\n",
       "      <th>TRIP_LENGTH_MILES</th>\n",
       "      <th>ORIGIN_COM_AREA</th>\n",
       "      <th>DEST_COM_AREA</th>\n",
       "      <th>FARE</th>\n",
       "      <th>TIP</th>\n",
       "      <th>ADDITIONAL_CHARGES</th>\n",
       "      <th>TOTAL_COST</th>\n",
       "      <th>SHARED_FLAGGER</th>\n",
       "      <th>NUM_TRIPS_POOLED</th>\n",
       "      <th>SPEED</th>\n",
       "      <th>TRIP_ID</th>\n",
       "      <th>TRIP_START_TIME</th>\n",
       "      <th>TRIP_END_TIME</th>\n",
       "      <th>INTERNAL_UNSUPPRESSED_FLAGGER</th>\n",
       "      <th>INTERNAL_SUPPPRESSED_FLAGGER</th>\n",
       "      <th>EXTERNAL_FLAGGER</th>\n",
       "      <th>INTERNAL_EXTERNAL_FLAGGER</th>\n",
       "      <th>AIRPORT_FLAGGER</th>\n",
       "      <th>TOD_1</th>\n",
       "      <th>TOD_2</th>\n",
       "      <th>TOD_3</th>\n",
       "      <th>TOD_4</th>\n",
       "      <th>TOD_5</th>\n",
       "      <th>TRIP_TYPE</th>\n",
       "      <th>MINUTE</th>\n",
       "      <th>MATCHED_TRIP</th>\n",
       "      <th>UNMATCHED_TRIP</th>\n",
       "      <th>travel_time</th>\n",
       "      <th>walk_distance</th>\n",
       "      <th>OTP_AUTO_TRAVEL_TIME</th>\n",
       "      <th>OTP_AUTO_TRAVEL_TIME_1</th>\n",
       "      <th>OTP_AUTO_TRAVEL_TIME_2</th>\n",
       "      <th>OTP_AUTO_TRAVEL_TIME_3</th>\n",
       "      <th>OTP_AUTO_TRAVEL_TIME_4</th>\n",
       "      <th>OTP_AUTO_TRAVEL_TIME_5</th>\n",
       "      <th>MULTIPLE_POOLS</th>\n",
       "      <th>NUM_POOLS_2</th>\n",
       "      <th>NUM_POOLS_3P</th>\n",
       "      <th>UNMATCHED_TRAVEL_TIME</th>\n",
       "    </tr>\n",
       "  </thead>\n",
       "  <tbody>\n",
       "    <tr>\n",
       "      <th>0</th>\n",
       "      <td>139246972</td>\n",
       "      <td>2019</td>\n",
       "      <td>5</td>\n",
       "      <td>0</td>\n",
       "      <td>5</td>\n",
       "      <td>1.703119e+10</td>\n",
       "      <td>1.703119e+10</td>\n",
       "      <td>18.916667</td>\n",
       "      <td>5.9</td>\n",
       "      <td>25.0</td>\n",
       "      <td>11.0</td>\n",
       "      <td>15.0</td>\n",
       "      <td>0.0</td>\n",
       "      <td>0.00</td>\n",
       "      <td>15.00</td>\n",
       "      <td>1</td>\n",
       "      <td>2.0</td>\n",
       "      <td>18.713656</td>\n",
       "      <td>057370757db88466215dbe57b05f19a8e5346ba7</td>\n",
       "      <td>2019-05-13 05:15:00</td>\n",
       "      <td>2019-05-13 05:30:00</td>\n",
       "      <td>0</td>\n",
       "      <td>1</td>\n",
       "      <td>0</td>\n",
       "      <td>0</td>\n",
       "      <td>0</td>\n",
       "      <td>1</td>\n",
       "      <td>0</td>\n",
       "      <td>0</td>\n",
       "      <td>0</td>\n",
       "      <td>0</td>\n",
       "      <td>Internal Suppressed</td>\n",
       "      <td>15</td>\n",
       "      <td>1</td>\n",
       "      <td>0</td>\n",
       "      <td>811</td>\n",
       "      <td>24.0</td>\n",
       "      <td>13.516667</td>\n",
       "      <td>13.516667</td>\n",
       "      <td>0.0</td>\n",
       "      <td>0.000000</td>\n",
       "      <td>0.0</td>\n",
       "      <td>0.0</td>\n",
       "      <td>0</td>\n",
       "      <td>1</td>\n",
       "      <td>0</td>\n",
       "      <td>10.509208</td>\n",
       "    </tr>\n",
       "    <tr>\n",
       "      <th>1</th>\n",
       "      <td>69668068</td>\n",
       "      <td>2018</td>\n",
       "      <td>12</td>\n",
       "      <td>0</td>\n",
       "      <td>23</td>\n",
       "      <td>1.703119e+10</td>\n",
       "      <td>1.703119e+10</td>\n",
       "      <td>26.783333</td>\n",
       "      <td>9.1</td>\n",
       "      <td>36.0</td>\n",
       "      <td>44.0</td>\n",
       "      <td>7.5</td>\n",
       "      <td>0.0</td>\n",
       "      <td>2.50</td>\n",
       "      <td>10.00</td>\n",
       "      <td>1</td>\n",
       "      <td>2.0</td>\n",
       "      <td>20.385812</td>\n",
       "      <td>5020f1ff4ca9c28bdac70be47c52ed875993952c</td>\n",
       "      <td>2018-12-24 23:15:00</td>\n",
       "      <td>2018-12-24 23:45:00</td>\n",
       "      <td>0</td>\n",
       "      <td>1</td>\n",
       "      <td>0</td>\n",
       "      <td>0</td>\n",
       "      <td>0</td>\n",
       "      <td>1</td>\n",
       "      <td>0</td>\n",
       "      <td>0</td>\n",
       "      <td>0</td>\n",
       "      <td>0</td>\n",
       "      <td>Internal Suppressed</td>\n",
       "      <td>15</td>\n",
       "      <td>1</td>\n",
       "      <td>0</td>\n",
       "      <td>811</td>\n",
       "      <td>24.0</td>\n",
       "      <td>13.516667</td>\n",
       "      <td>13.516667</td>\n",
       "      <td>0.0</td>\n",
       "      <td>0.000000</td>\n",
       "      <td>0.0</td>\n",
       "      <td>0.0</td>\n",
       "      <td>0</td>\n",
       "      <td>1</td>\n",
       "      <td>0</td>\n",
       "      <td>10.509208</td>\n",
       "    </tr>\n",
       "    <tr>\n",
       "      <th>2</th>\n",
       "      <td>94859909</td>\n",
       "      <td>2019</td>\n",
       "      <td>1</td>\n",
       "      <td>1</td>\n",
       "      <td>22</td>\n",
       "      <td>1.703119e+10</td>\n",
       "      <td>1.703119e+10</td>\n",
       "      <td>25.283333</td>\n",
       "      <td>5.3</td>\n",
       "      <td>63.0</td>\n",
       "      <td>64.0</td>\n",
       "      <td>5.0</td>\n",
       "      <td>0.0</td>\n",
       "      <td>2.55</td>\n",
       "      <td>7.55</td>\n",
       "      <td>1</td>\n",
       "      <td>4.0</td>\n",
       "      <td>12.577456</td>\n",
       "      <td>543d9f800fa8d96a34103818336af36a672ce063</td>\n",
       "      <td>2019-01-29 22:30:00</td>\n",
       "      <td>2019-01-29 23:00:00</td>\n",
       "      <td>0</td>\n",
       "      <td>1</td>\n",
       "      <td>0</td>\n",
       "      <td>0</td>\n",
       "      <td>0</td>\n",
       "      <td>1</td>\n",
       "      <td>0</td>\n",
       "      <td>0</td>\n",
       "      <td>0</td>\n",
       "      <td>0</td>\n",
       "      <td>Internal Suppressed</td>\n",
       "      <td>30</td>\n",
       "      <td>1</td>\n",
       "      <td>0</td>\n",
       "      <td>811</td>\n",
       "      <td>24.0</td>\n",
       "      <td>13.516667</td>\n",
       "      <td>13.516667</td>\n",
       "      <td>0.0</td>\n",
       "      <td>0.000000</td>\n",
       "      <td>0.0</td>\n",
       "      <td>0.0</td>\n",
       "      <td>1</td>\n",
       "      <td>0</td>\n",
       "      <td>1</td>\n",
       "      <td>10.509208</td>\n",
       "    </tr>\n",
       "    <tr>\n",
       "      <th>3</th>\n",
       "      <td>124653460</td>\n",
       "      <td>2019</td>\n",
       "      <td>8</td>\n",
       "      <td>2</td>\n",
       "      <td>9</td>\n",
       "      <td>1.703119e+10</td>\n",
       "      <td>1.703119e+10</td>\n",
       "      <td>25.033333</td>\n",
       "      <td>8.5</td>\n",
       "      <td>8.0</td>\n",
       "      <td>14.0</td>\n",
       "      <td>10.0</td>\n",
       "      <td>0.0</td>\n",
       "      <td>0.00</td>\n",
       "      <td>10.00</td>\n",
       "      <td>1</td>\n",
       "      <td>2.0</td>\n",
       "      <td>20.372836</td>\n",
       "      <td>89f7efee4b829fbb5eafad597da9fad7bdd82e2f</td>\n",
       "      <td>2019-08-28 09:30:00</td>\n",
       "      <td>2019-08-28 10:00:00</td>\n",
       "      <td>0</td>\n",
       "      <td>1</td>\n",
       "      <td>0</td>\n",
       "      <td>0</td>\n",
       "      <td>0</td>\n",
       "      <td>0</td>\n",
       "      <td>0</td>\n",
       "      <td>1</td>\n",
       "      <td>0</td>\n",
       "      <td>0</td>\n",
       "      <td>Internal Suppressed</td>\n",
       "      <td>30</td>\n",
       "      <td>1</td>\n",
       "      <td>0</td>\n",
       "      <td>811</td>\n",
       "      <td>24.0</td>\n",
       "      <td>13.516667</td>\n",
       "      <td>0.000000</td>\n",
       "      <td>0.0</td>\n",
       "      <td>13.516667</td>\n",
       "      <td>0.0</td>\n",
       "      <td>0.0</td>\n",
       "      <td>0</td>\n",
       "      <td>1</td>\n",
       "      <td>0</td>\n",
       "      <td>12.650248</td>\n",
       "    </tr>\n",
       "    <tr>\n",
       "      <th>4</th>\n",
       "      <td>76008622</td>\n",
       "      <td>2018</td>\n",
       "      <td>11</td>\n",
       "      <td>4</td>\n",
       "      <td>12</td>\n",
       "      <td>1.703119e+10</td>\n",
       "      <td>1.703119e+10</td>\n",
       "      <td>38.600000</td>\n",
       "      <td>8.8</td>\n",
       "      <td>16.0</td>\n",
       "      <td>28.0</td>\n",
       "      <td>12.5</td>\n",
       "      <td>0.0</td>\n",
       "      <td>2.50</td>\n",
       "      <td>15.00</td>\n",
       "      <td>1</td>\n",
       "      <td>2.0</td>\n",
       "      <td>13.678756</td>\n",
       "      <td>b96f0c1e806ac4bd8e3b7f8723512389c5242046</td>\n",
       "      <td>2018-11-02 12:30:00</td>\n",
       "      <td>2018-11-02 13:15:00</td>\n",
       "      <td>0</td>\n",
       "      <td>1</td>\n",
       "      <td>0</td>\n",
       "      <td>0</td>\n",
       "      <td>0</td>\n",
       "      <td>0</td>\n",
       "      <td>0</td>\n",
       "      <td>1</td>\n",
       "      <td>0</td>\n",
       "      <td>0</td>\n",
       "      <td>Internal Suppressed</td>\n",
       "      <td>30</td>\n",
       "      <td>1</td>\n",
       "      <td>0</td>\n",
       "      <td>811</td>\n",
       "      <td>24.0</td>\n",
       "      <td>13.516667</td>\n",
       "      <td>0.000000</td>\n",
       "      <td>0.0</td>\n",
       "      <td>13.516667</td>\n",
       "      <td>0.0</td>\n",
       "      <td>0.0</td>\n",
       "      <td>0</td>\n",
       "      <td>1</td>\n",
       "      <td>0</td>\n",
       "      <td>12.650248</td>\n",
       "    </tr>\n",
       "  </tbody>\n",
       "</table>\n",
       "</div>"
      ],
      "text/plain": [
       "   Unnamed: 0  YEAR  MONTH  DOW  HOUR        ORIGIN   DESTINATION  \\\n",
       "0   139246972  2019      5    0     5  1.703119e+10  1.703119e+10   \n",
       "1    69668068  2018     12    0    23  1.703119e+10  1.703119e+10   \n",
       "2    94859909  2019      1    1    22  1.703119e+10  1.703119e+10   \n",
       "3   124653460  2019      8    2     9  1.703119e+10  1.703119e+10   \n",
       "4    76008622  2018     11    4    12  1.703119e+10  1.703119e+10   \n",
       "\n",
       "   TRAVEL_TIME_MINUTES  TRIP_LENGTH_MILES  ORIGIN_COM_AREA  DEST_COM_AREA  \\\n",
       "0            18.916667                5.9             25.0           11.0   \n",
       "1            26.783333                9.1             36.0           44.0   \n",
       "2            25.283333                5.3             63.0           64.0   \n",
       "3            25.033333                8.5              8.0           14.0   \n",
       "4            38.600000                8.8             16.0           28.0   \n",
       "\n",
       "   FARE  TIP  ADDITIONAL_CHARGES  TOTAL_COST  SHARED_FLAGGER  \\\n",
       "0  15.0  0.0                0.00       15.00               1   \n",
       "1   7.5  0.0                2.50       10.00               1   \n",
       "2   5.0  0.0                2.55        7.55               1   \n",
       "3  10.0  0.0                0.00       10.00               1   \n",
       "4  12.5  0.0                2.50       15.00               1   \n",
       "\n",
       "   NUM_TRIPS_POOLED      SPEED                                   TRIP_ID  \\\n",
       "0               2.0  18.713656  057370757db88466215dbe57b05f19a8e5346ba7   \n",
       "1               2.0  20.385812  5020f1ff4ca9c28bdac70be47c52ed875993952c   \n",
       "2               4.0  12.577456  543d9f800fa8d96a34103818336af36a672ce063   \n",
       "3               2.0  20.372836  89f7efee4b829fbb5eafad597da9fad7bdd82e2f   \n",
       "4               2.0  13.678756  b96f0c1e806ac4bd8e3b7f8723512389c5242046   \n",
       "\n",
       "       TRIP_START_TIME        TRIP_END_TIME  INTERNAL_UNSUPPRESSED_FLAGGER  \\\n",
       "0  2019-05-13 05:15:00  2019-05-13 05:30:00                              0   \n",
       "1  2018-12-24 23:15:00  2018-12-24 23:45:00                              0   \n",
       "2  2019-01-29 22:30:00  2019-01-29 23:00:00                              0   \n",
       "3  2019-08-28 09:30:00  2019-08-28 10:00:00                              0   \n",
       "4  2018-11-02 12:30:00  2018-11-02 13:15:00                              0   \n",
       "\n",
       "   INTERNAL_SUPPPRESSED_FLAGGER  EXTERNAL_FLAGGER  INTERNAL_EXTERNAL_FLAGGER  \\\n",
       "0                             1                 0                          0   \n",
       "1                             1                 0                          0   \n",
       "2                             1                 0                          0   \n",
       "3                             1                 0                          0   \n",
       "4                             1                 0                          0   \n",
       "\n",
       "   AIRPORT_FLAGGER  TOD_1  TOD_2  TOD_3  TOD_4  TOD_5            TRIP_TYPE  \\\n",
       "0                0      1      0      0      0      0  Internal Suppressed   \n",
       "1                0      1      0      0      0      0  Internal Suppressed   \n",
       "2                0      1      0      0      0      0  Internal Suppressed   \n",
       "3                0      0      0      1      0      0  Internal Suppressed   \n",
       "4                0      0      0      1      0      0  Internal Suppressed   \n",
       "\n",
       "   MINUTE  MATCHED_TRIP  UNMATCHED_TRIP  travel_time  walk_distance  \\\n",
       "0      15             1               0          811           24.0   \n",
       "1      15             1               0          811           24.0   \n",
       "2      30             1               0          811           24.0   \n",
       "3      30             1               0          811           24.0   \n",
       "4      30             1               0          811           24.0   \n",
       "\n",
       "   OTP_AUTO_TRAVEL_TIME  OTP_AUTO_TRAVEL_TIME_1  OTP_AUTO_TRAVEL_TIME_2  \\\n",
       "0             13.516667               13.516667                     0.0   \n",
       "1             13.516667               13.516667                     0.0   \n",
       "2             13.516667               13.516667                     0.0   \n",
       "3             13.516667                0.000000                     0.0   \n",
       "4             13.516667                0.000000                     0.0   \n",
       "\n",
       "   OTP_AUTO_TRAVEL_TIME_3  OTP_AUTO_TRAVEL_TIME_4  OTP_AUTO_TRAVEL_TIME_5  \\\n",
       "0                0.000000                     0.0                     0.0   \n",
       "1                0.000000                     0.0                     0.0   \n",
       "2                0.000000                     0.0                     0.0   \n",
       "3               13.516667                     0.0                     0.0   \n",
       "4               13.516667                     0.0                     0.0   \n",
       "\n",
       "   MULTIPLE_POOLS  NUM_POOLS_2  NUM_POOLS_3P  UNMATCHED_TRAVEL_TIME  \n",
       "0               0            1             0              10.509208  \n",
       "1               0            1             0              10.509208  \n",
       "2               1            0             1              10.509208  \n",
       "3               0            1             0              12.650248  \n",
       "4               0            1             0              12.650248  "
      ]
     },
     "execution_count": 606,
     "metadata": {},
     "output_type": "execute_result"
    }
   ],
   "source": [
    "matched.head()"
   ]
  },
  {
   "cell_type": "code",
   "execution_count": 607,
   "metadata": {},
   "outputs": [
    {
     "name": "stdout",
     "output_type": "stream",
     "text": [
      "                                 OLS Regression Results                                 \n",
      "========================================================================================\n",
      "Dep. Variable:     TRAVEL_TIME_MINUTES   R-squared (uncentered):                   0.746\n",
      "Model:                             OLS   Adj. R-squared (uncentered):              0.746\n",
      "Method:                  Least Squares   F-statistic:                          1.205e+05\n",
      "Date:                 Sat, 16 Jul 2022   Prob (F-statistic):                        0.00\n",
      "Time:                         12:24:30   Log-Likelihood:                     -4.9023e+05\n",
      "No. Observations:               122799   AIC:                                  9.805e+05\n",
      "Df Residuals:                   122796   BIC:                                  9.805e+05\n",
      "Df Model:                            3                                                  \n",
      "Covariance Type:             nonrobust                                                  \n",
      "=========================================================================================\n",
      "                            coef    std err          t      P>|t|      [0.025      0.975]\n",
      "-----------------------------------------------------------------------------------------\n",
      "UNMATCHED_TRAVEL_TIME     1.2109      0.003    386.471      0.000       1.205       1.217\n",
      "NUM_POOLS_2               5.3246      0.067     79.073      0.000       5.193       5.457\n",
      "NUM_POOLS_3P              6.9397      0.110     63.342      0.000       6.725       7.154\n",
      "==============================================================================\n",
      "Omnibus:                    24463.371   Durbin-Watson:                   1.292\n",
      "Prob(Omnibus):                  0.000   Jarque-Bera (JB):            59320.150\n",
      "Skew:                           1.114   Prob(JB):                         0.00\n",
      "Kurtosis:                       5.575   Cond. No.                         47.3\n",
      "==============================================================================\n",
      "\n",
      "Warnings:\n",
      "[1] Standard Errors assume that the covariance matrix of the errors is correctly specified.\n"
     ]
    }
   ],
   "source": [
    "results = smf.ols('TRAVEL_TIME_MINUTES ~ UNMATCHED_TRAVEL_TIME + NUM_POOLS_2 + NUM_POOLS_3P - 1', data=matched).fit()\n",
    "print(results.summary())"
   ]
  },
  {
   "cell_type": "code",
   "execution_count": 608,
   "metadata": {},
   "outputs": [
    {
     "name": "stdout",
     "output_type": "stream",
     "text": [
      "                                 OLS Regression Results                                 \n",
      "========================================================================================\n",
      "Dep. Variable:     TRAVEL_TIME_MINUTES   R-squared (uncentered):                   0.746\n",
      "Model:                             OLS   Adj. R-squared (uncentered):              0.746\n",
      "Method:                  Least Squares   F-statistic:                          1.205e+05\n",
      "Date:                 Sat, 16 Jul 2022   Prob (F-statistic):                        0.00\n",
      "Time:                         12:24:45   Log-Likelihood:                     -4.9023e+05\n",
      "No. Observations:               122799   AIC:                                  9.805e+05\n",
      "Df Residuals:                   122796   BIC:                                  9.805e+05\n",
      "Df Model:                            3                                                  \n",
      "Covariance Type:             nonrobust                                                  \n",
      "=========================================================================================\n",
      "                            coef    std err          t      P>|t|      [0.025      0.975]\n",
      "-----------------------------------------------------------------------------------------\n",
      "UNMATCHED_TRAVEL_TIME     1.2109      0.003    386.471      0.000       1.205       1.217\n",
      "NUM_POOLS_2               5.3246      0.067     79.073      0.000       5.193       5.457\n",
      "NUM_POOLS_3P              6.9397      0.110     63.342      0.000       6.725       7.154\n",
      "==============================================================================\n",
      "Omnibus:                    24463.371   Durbin-Watson:                   1.292\n",
      "Prob(Omnibus):                  0.000   Jarque-Bera (JB):            59320.150\n",
      "Skew:                           1.114   Prob(JB):                         0.00\n",
      "Kurtosis:                       5.575   Cond. No.                         47.3\n",
      "==============================================================================\n",
      "\n",
      "Warnings:\n",
      "[1] Standard Errors assume that the covariance matrix of the errors is correctly specified.\n"
     ]
    }
   ],
   "source": [
    "results = smf.ols('TRAVEL_TIME_MINUTES ~ UNMATCHED_TRAVEL_TIME + NUM_POOLS_2 + NUM_POOLS_3P - 1', data=matched).fit()\n",
    "print(results.summary())"
   ]
  },
  {
   "cell_type": "code",
   "execution_count": 609,
   "metadata": {},
   "outputs": [
    {
     "name": "stdout",
     "output_type": "stream",
     "text": [
      "                                 OLS Regression Results                                 \n",
      "========================================================================================\n",
      "Dep. Variable:     TRAVEL_TIME_MINUTES   R-squared (uncentered):                   0.754\n",
      "Model:                             OLS   Adj. R-squared (uncentered):              0.754\n",
      "Method:                  Least Squares   F-statistic:                          1.879e+05\n",
      "Date:                 Sat, 16 Jul 2022   Prob (F-statistic):                        0.00\n",
      "Time:                         12:24:50   Log-Likelihood:                     -4.8844e+05\n",
      "No. Observations:               122799   AIC:                                  9.769e+05\n",
      "Df Residuals:                   122797   BIC:                                  9.769e+05\n",
      "Df Model:                            2                                                  \n",
      "Covariance Type:             nonrobust                                                  \n",
      "=========================================================================================\n",
      "                            coef    std err          t      P>|t|      [0.025      0.975]\n",
      "-----------------------------------------------------------------------------------------\n",
      "UNMATCHED_TRAVEL_TIME     1.1933      0.003    402.098      0.000       1.188       1.199\n",
      "MULTIPLE_POOLS            7.3256      0.066    110.643      0.000       7.196       7.455\n",
      "==============================================================================\n",
      "Omnibus:                    24558.908   Durbin-Watson:                   1.236\n",
      "Prob(Omnibus):                  0.000   Jarque-Bera (JB):            60171.595\n",
      "Skew:                           1.114   Prob(JB):                         0.00\n",
      "Kurtosis:                       5.607   Cond. No.                         28.6\n",
      "==============================================================================\n",
      "\n",
      "Warnings:\n",
      "[1] Standard Errors assume that the covariance matrix of the errors is correctly specified.\n"
     ]
    }
   ],
   "source": [
    "results = smf.ols('TRAVEL_TIME_MINUTES ~ UNMATCHED_TRAVEL_TIME + MULTIPLE_POOLS  - 1', data=matched).fit()\n",
    "print(results.summary())"
   ]
  },
  {
   "cell_type": "code",
   "execution_count": null,
   "metadata": {},
   "outputs": [],
   "source": [
    "results = smf.ols('SHARED_TRAVEL_TIME ~ OTP_AUTO_TRAVEL_TIME_1 + OTP_AUTO_TRAVEL_TIME_2 + OTP_AUTO_TRAVEL_TIME_3 + OTP_AUTO_TRAVEL_TIME_4 + OTP_AUTO_TRAVEL_TIME_5 -1', data=shared_samp2).fit()\n",
    "print(results.summary())"
   ]
  },
  {
   "cell_type": "code",
   "execution_count": null,
   "metadata": {},
   "outputs": [],
   "source": []
  },
  {
   "cell_type": "code",
   "execution_count": 328,
   "metadata": {},
   "outputs": [
    {
     "data": {
      "text/plain": [
       "843982"
      ]
     },
     "execution_count": 328,
     "metadata": {},
     "output_type": "execute_result"
    }
   ],
   "source": [
    "len(samp)"
   ]
  },
  {
   "cell_type": "code",
   "execution_count": 282,
   "metadata": {},
   "outputs": [
    {
     "data": {
      "text/plain": [
       "122801"
      ]
     },
     "execution_count": 282,
     "metadata": {},
     "output_type": "execute_result"
    }
   ],
   "source": [
    "len(samp[(samp['NUM_TRIPS_POOLED'] >= 2)&(samp['SHARED_FLAGGER'] == 1)])"
   ]
  },
  {
   "cell_type": "code",
   "execution_count": 317,
   "metadata": {},
   "outputs": [
    {
     "data": {
      "text/plain": [
       "843982"
      ]
     },
     "execution_count": 317,
     "metadata": {},
     "output_type": "execute_result"
    }
   ],
   "source": [
    "len(samp)"
   ]
  },
  {
   "cell_type": "code",
   "execution_count": 305,
   "metadata": {},
   "outputs": [
    {
     "name": "stdout",
     "output_type": "stream",
     "text": [
      "15.989323808216476\n",
      "4.696780697217681\n",
      "10.607489659322693\n",
      "721181\n"
     ]
    }
   ],
   "source": [
    "print(samp[(samp['NUM_TRIPS_POOLED'] == 1)]['TRAVEL_TIME_MINUTES'].mean())\n",
    "print(samp[(samp['NUM_TRIPS_POOLED'] == 1)]['TRIP_LENGTH_MILES'].mean())\n",
    "print(samp[(samp['NUM_TRIPS_POOLED'] == 1)]['FARE'].mean())\n",
    "print(len(samp[(samp['NUM_TRIPS_POOLED'] == 1)]))"
   ]
  },
  {
   "cell_type": "code",
   "execution_count": 307,
   "metadata": {},
   "outputs": [
    {
     "name": "stdout",
     "output_type": "stream",
     "text": [
      "21.22685999845627\n",
      "6.346300400224951\n",
      "8.808669334832798\n",
      "60466\n"
     ]
    }
   ],
   "source": [
    "print(samp[(samp['NUM_TRIPS_POOLED'] == 2)]['TRAVEL_TIME_MINUTES'].mean())\n",
    "print(samp[(samp['NUM_TRIPS_POOLED'] == 2)]['TRIP_LENGTH_MILES'].mean())\n",
    "print(samp[(samp['NUM_TRIPS_POOLED'] == 2)]['FARE'].mean())\n",
    "print(len(samp[(samp['NUM_TRIPS_POOLED'] == 2)]))"
   ]
  },
  {
   "cell_type": "code",
   "execution_count": 308,
   "metadata": {},
   "outputs": [
    {
     "name": "stdout",
     "output_type": "stream",
     "text": [
      "24.15435846706197\n",
      "6.433216091448683\n",
      "7.272532424708727\n",
      "45490\n"
     ]
    }
   ],
   "source": [
    "print(samp[(samp['NUM_TRIPS_POOLED'] == 3)]['TRAVEL_TIME_MINUTES'].mean())\n",
    "print(samp[(samp['NUM_TRIPS_POOLED'] == 3)]['TRIP_LENGTH_MILES'].mean())\n",
    "print(samp[(samp['NUM_TRIPS_POOLED'] == 3)]['FARE'].mean())\n",
    "print(len(samp[(samp['NUM_TRIPS_POOLED'] == 3)]))"
   ]
  },
  {
   "cell_type": "code",
   "execution_count": 309,
   "metadata": {},
   "outputs": [
    {
     "name": "stdout",
     "output_type": "stream",
     "text": [
      "23.378482402424652\n",
      "6.132250881425106\n",
      "6.373863425496381\n",
      "10778\n"
     ]
    }
   ],
   "source": [
    "print(samp[(samp['NUM_TRIPS_POOLED'] == 4)]['TRAVEL_TIME_MINUTES'].mean())\n",
    "print(samp[(samp['NUM_TRIPS_POOLED'] == 4)]['TRIP_LENGTH_MILES'].mean())\n",
    "print(samp[(samp['NUM_TRIPS_POOLED'] == 4)]['FARE'].mean())\n",
    "print(len(samp[(samp['NUM_TRIPS_POOLED'] == 4)]))"
   ]
  },
  {
   "cell_type": "code",
   "execution_count": 310,
   "metadata": {},
   "outputs": [
    {
     "name": "stdout",
     "output_type": "stream",
     "text": [
      "23.314552511415535\n",
      "5.746684931506851\n",
      "5.695890410958904\n",
      "3650\n"
     ]
    }
   ],
   "source": [
    "print(samp[(samp['NUM_TRIPS_POOLED'] == 5)]['TRAVEL_TIME_MINUTES'].mean())\n",
    "print(samp[(samp['NUM_TRIPS_POOLED'] == 5)]['TRIP_LENGTH_MILES'].mean())\n",
    "print(samp[(samp['NUM_TRIPS_POOLED'] == 5)]['FARE'].mean())\n",
    "print(len(samp[(samp['NUM_TRIPS_POOLED'] == 5)]))"
   ]
  },
  {
   "cell_type": "code",
   "execution_count": 311,
   "metadata": {},
   "outputs": [
    {
     "name": "stdout",
     "output_type": "stream",
     "text": [
      "23.645668934240348\n",
      "5.587755102040825\n",
      "5.66156462585034\n",
      "1470\n"
     ]
    }
   ],
   "source": [
    "print(samp[(samp['NUM_TRIPS_POOLED'] == 6)]['TRAVEL_TIME_MINUTES'].mean())\n",
    "print(samp[(samp['NUM_TRIPS_POOLED'] == 6)]['TRIP_LENGTH_MILES'].mean())\n",
    "print(samp[(samp['NUM_TRIPS_POOLED'] == 6)]['FARE'].mean())\n",
    "print(len(samp[(samp['NUM_TRIPS_POOLED'] == 6)]))"
   ]
  },
  {
   "cell_type": "code",
   "execution_count": 312,
   "metadata": {},
   "outputs": [
    {
     "name": "stdout",
     "output_type": "stream",
     "text": [
      "22.52800224466892\n",
      "5.303367003367004\n",
      "5.311447811447811\n",
      "594\n"
     ]
    }
   ],
   "source": [
    "print(samp[(samp['NUM_TRIPS_POOLED'] == 7)]['TRAVEL_TIME_MINUTES'].mean())\n",
    "print(samp[(samp['NUM_TRIPS_POOLED'] == 7)]['TRIP_LENGTH_MILES'].mean())\n",
    "print(samp[(samp['NUM_TRIPS_POOLED'] == 7)]['FARE'].mean())\n",
    "print(len(samp[(samp['NUM_TRIPS_POOLED'] == 7)]))"
   ]
  },
  {
   "cell_type": "code",
   "execution_count": 313,
   "metadata": {},
   "outputs": [
    {
     "name": "stdout",
     "output_type": "stream",
     "text": [
      "23.238780487804863\n",
      "5.273658536585367\n",
      "5.2073170731707314\n",
      "205\n"
     ]
    }
   ],
   "source": [
    "print(samp[(samp['NUM_TRIPS_POOLED'] == 8)]['TRAVEL_TIME_MINUTES'].mean())\n",
    "print(samp[(samp['NUM_TRIPS_POOLED'] == 8)]['TRIP_LENGTH_MILES'].mean())\n",
    "print(samp[(samp['NUM_TRIPS_POOLED'] == 8)]['FARE'].mean())\n",
    "print(len(samp[(samp['NUM_TRIPS_POOLED'] == 8)]))"
   ]
  },
  {
   "cell_type": "code",
   "execution_count": 314,
   "metadata": {},
   "outputs": [
    {
     "name": "stdout",
     "output_type": "stream",
     "text": [
      "24.26666666666666\n",
      "5.885714285714287\n",
      "5.961538461538462\n",
      "91\n"
     ]
    }
   ],
   "source": [
    "print(samp[(samp['NUM_TRIPS_POOLED'] == 9)]['TRAVEL_TIME_MINUTES'].mean())\n",
    "print(samp[(samp['NUM_TRIPS_POOLED'] == 9)]['TRIP_LENGTH_MILES'].mean())\n",
    "print(samp[(samp['NUM_TRIPS_POOLED'] == 9)]['FARE'].mean())\n",
    "print(len(samp[(samp['NUM_TRIPS_POOLED'] == 9)]))"
   ]
  },
  {
   "cell_type": "code",
   "execution_count": 315,
   "metadata": {},
   "outputs": [
    {
     "name": "stdout",
     "output_type": "stream",
     "text": [
      "18.618518518518517\n",
      "3.872222222222222\n",
      "4.583333333333333\n",
      "36\n"
     ]
    }
   ],
   "source": [
    "print(samp[(samp['NUM_TRIPS_POOLED'] == 10)]['TRAVEL_TIME_MINUTES'].mean())\n",
    "print(samp[(samp['NUM_TRIPS_POOLED'] == 10)]['TRIP_LENGTH_MILES'].mean())\n",
    "print(samp[(samp['NUM_TRIPS_POOLED'] == 10)]['FARE'].mean())\n",
    "print(len(samp[(samp['NUM_TRIPS_POOLED'] == 10)]))"
   ]
  },
  {
   "cell_type": "code",
   "execution_count": 316,
   "metadata": {},
   "outputs": [
    {
     "name": "stdout",
     "output_type": "stream",
     "text": [
      "20.811111111111114\n",
      "4.980952380952381\n",
      "5.9523809523809526\n",
      "21\n"
     ]
    }
   ],
   "source": [
    "print(samp[(samp['NUM_TRIPS_POOLED'] > 10)]['TRAVEL_TIME_MINUTES'].mean())\n",
    "print(samp[(samp['NUM_TRIPS_POOLED'] > 10)]['TRIP_LENGTH_MILES'].mean())\n",
    "print(samp[(samp['NUM_TRIPS_POOLED'] > 10)]['FARE'].mean())\n",
    "print(len(samp[(samp['NUM_TRIPS_POOLED'] > 10)]))"
   ]
  },
  {
   "cell_type": "code",
   "execution_count": 289,
   "metadata": {},
   "outputs": [
    {
     "data": {
      "image/png": "[encoded data removed]",
      "text/plain": [
       "<Figure size 432x288 with 1 Axes>"
      ]
     },
     "metadata": {
      "needs_background": "light"
     },
     "output_type": "display_data"
    }
   ],
   "source": [
    "test = sns.scatterplot(x = matched['NUM_TRIPS_POOLED'], y = matched['TRAVEL_TIME_MINUTES'])\n",
    "                       \n",
    "#test.set_ylim(0,100)\n",
    "#test.set_xlim(0,100)"
   ]
  },
  {
   "cell_type": "code",
   "execution_count": 162,
   "metadata": {},
   "outputs": [
    {
     "data": {
      "text/plain": [
       "(0, 120)"
      ]
     },
     "execution_count": 162,
     "metadata": {},
     "output_type": "execute_result"
    },
    {
     "data": {
      "image/png": "[encoded data removed]",
      "text/plain": [
       "<Figure size 432x288 with 1 Axes>"
      ]
     },
     "metadata": {
      "needs_background": "light"
     },
     "output_type": "display_data"
    }
   ],
   "source": [
    "test = sns.scatterplot(x = private_samp2['TRAVEL_TIME_MINUTES'], y = private_samp2['OTP_AUTO_TRAVEL_TIME'])\n",
    "                       \n",
    "test.set_ylim(0,120)"
   ]
  },
  {
   "cell_type": "code",
   "execution_count": 25,
   "metadata": {},
   "outputs": [
    {
     "data": {
      "text/plain": [
       "(0, 120)"
      ]
     },
     "execution_count": 25,
     "metadata": {},
     "output_type": "execute_result"
    },
    {
     "data": {
      "image/png": "[encoded data removed]",
      "text/plain": [
       "<Figure size 432x288 with 1 Axes>"
      ]
     },
     "metadata": {
      "needs_background": "light"
     },
     "output_type": "display_data"
    }
   ],
   "source": [
    "test = sns.scatterplot(x = df3['PRIVATE_TRAVEL_TIME'], y = df3['SHARED_TRAVEL_TIME'])\n",
    "                       \n",
    "test.set_ylim(0,120)\n",
    "test.set_xlim(0,120)"
   ]
  },
  {
   "cell_type": "code",
   "execution_count": 42,
   "metadata": {},
   "outputs": [
    {
     "data": {
      "text/html": [
       "<div>\n",
       "<style scoped>\n",
       "    .dataframe tbody tr th:only-of-type {\n",
       "        vertical-align: middle;\n",
       "    }\n",
       "\n",
       "    .dataframe tbody tr th {\n",
       "        vertical-align: top;\n",
       "    }\n",
       "\n",
       "    .dataframe thead th {\n",
       "        text-align: right;\n",
       "    }\n",
       "</style>\n",
       "<table border=\"1\" class=\"dataframe\">\n",
       "  <thead>\n",
       "    <tr style=\"text-align: right;\">\n",
       "      <th></th>\n",
       "      <th>DISTANCE</th>\n",
       "      <th>TRIP_LENGTH_MILES</th>\n",
       "    </tr>\n",
       "  </thead>\n",
       "  <tbody>\n",
       "    <tr>\n",
       "      <th>0</th>\n",
       "      <td>4.927800</td>\n",
       "      <td>7.7</td>\n",
       "    </tr>\n",
       "    <tr>\n",
       "      <th>1</th>\n",
       "      <td>3.945020</td>\n",
       "      <td>4.8</td>\n",
       "    </tr>\n",
       "    <tr>\n",
       "      <th>2</th>\n",
       "      <td>3.945020</td>\n",
       "      <td>5.0</td>\n",
       "    </tr>\n",
       "    <tr>\n",
       "      <th>3</th>\n",
       "      <td>3.945020</td>\n",
       "      <td>5.6</td>\n",
       "    </tr>\n",
       "    <tr>\n",
       "      <th>4</th>\n",
       "      <td>3.945020</td>\n",
       "      <td>5.7</td>\n",
       "    </tr>\n",
       "    <tr>\n",
       "      <th>...</th>\n",
       "      <td>...</td>\n",
       "      <td>...</td>\n",
       "    </tr>\n",
       "    <tr>\n",
       "      <th>845159</th>\n",
       "      <td>1.486876</td>\n",
       "      <td>2.7</td>\n",
       "    </tr>\n",
       "    <tr>\n",
       "      <th>845160</th>\n",
       "      <td>4.790464</td>\n",
       "      <td>7.2</td>\n",
       "    </tr>\n",
       "    <tr>\n",
       "      <th>845161</th>\n",
       "      <td>8.985808</td>\n",
       "      <td>16.1</td>\n",
       "    </tr>\n",
       "    <tr>\n",
       "      <th>845163</th>\n",
       "      <td>4.288254</td>\n",
       "      <td>5.3</td>\n",
       "    </tr>\n",
       "    <tr>\n",
       "      <th>845164</th>\n",
       "      <td>3.800632</td>\n",
       "      <td>4.4</td>\n",
       "    </tr>\n",
       "  </tbody>\n",
       "</table>\n",
       "<p>666485 rows × 2 columns</p>\n",
       "</div>"
      ],
      "text/plain": [
       "        DISTANCE  TRIP_LENGTH_MILES\n",
       "0       4.927800                7.7\n",
       "1       3.945020                4.8\n",
       "2       3.945020                5.0\n",
       "3       3.945020                5.6\n",
       "4       3.945020                5.7\n",
       "...          ...                ...\n",
       "845159  1.486876                2.7\n",
       "845160  4.790464                7.2\n",
       "845161  8.985808               16.1\n",
       "845163  4.288254                5.3\n",
       "845164  3.800632                4.4\n",
       "\n",
       "[666485 rows x 2 columns]"
      ]
     },
     "execution_count": 42,
     "metadata": {},
     "output_type": "execute_result"
    }
   ],
   "source": [
    "private_samp2[['DISTANCE','TRIP_LENGTH_MILES']]"
   ]
  },
  {
   "cell_type": "code",
   "execution_count": null,
   "metadata": {},
   "outputs": [],
   "source": []
  },
  {
   "cell_type": "code",
   "execution_count": null,
   "metadata": {},
   "outputs": [],
   "source": []
  },
  {
   "cell_type": "code",
   "execution_count": 127,
   "metadata": {},
   "outputs": [
    {
     "name": "stdout",
     "output_type": "stream",
     "text": [
      "                            OLS Regression Results                            \n",
      "==============================================================================\n",
      "Dep. Variable:                   FARE   R-squared:                       0.669\n",
      "Model:                            OLS   Adj. R-squared:                  0.669\n",
      "Method:                 Least Squares   F-statistic:                 8.543e+05\n",
      "Date:                Wed, 11 May 2022   Prob (F-statistic):               0.00\n",
      "Time:                        14:45:18   Log-Likelihood:            -2.4506e+06\n",
      "No. Observations:              845166   AIC:                         4.901e+06\n",
      "Df Residuals:                  845163   BIC:                         4.901e+06\n",
      "Df Model:                           2                                         \n",
      "Covariance Type:            nonrobust                                         \n",
      "=======================================================================================\n",
      "                          coef    std err          t      P>|t|      [0.025      0.975]\n",
      "---------------------------------------------------------------------------------------\n",
      "Intercept               1.9017      0.008    228.139      0.000       1.885       1.918\n",
      "TRAVEL_TIME_MINUTES     0.3616      0.001    687.554      0.000       0.361       0.363\n",
      "DISTANCE                0.7262      0.002    407.340      0.000       0.723       0.730\n",
      "==============================================================================\n",
      "Omnibus:                   593891.964   Durbin-Watson:                   1.768\n",
      "Prob(Omnibus):                  0.000   Jarque-Bera (JB):         43780802.679\n",
      "Skew:                           2.700   Prob(JB):                         0.00\n",
      "Kurtosis:                      37.844   Cond. No.                         36.7\n",
      "==============================================================================\n",
      "\n",
      "Warnings:\n",
      "[1] Standard Errors assume that the covariance matrix of the errors is correctly specified.\n"
     ]
    }
   ],
   "source": [
    "#this is for comparison... it is all trips grouped together \n",
    "\n",
    "results = smf.ols('FARE ~ TRAVEL_TIME_MINUTES + DISTANCE', data=samp2).fit()\n",
    "print(results.summary())"
   ]
  },
  {
   "cell_type": "code",
   "execution_count": null,
   "metadata": {},
   "outputs": [],
   "source": []
  },
  {
   "cell_type": "code",
   "execution_count": null,
   "metadata": {},
   "outputs": [],
   "source": []
  },
  {
   "cell_type": "code",
   "execution_count": 648,
   "metadata": {},
   "outputs": [
    {
     "name": "stdout",
     "output_type": "stream",
     "text": [
      "                            OLS Regression Results                            \n",
      "==============================================================================\n",
      "Dep. Variable:                   FARE   R-squared:                       0.829\n",
      "Model:                            OLS   Adj. R-squared:                  0.829\n",
      "Method:                 Least Squares   F-statistic:                 1.612e+06\n",
      "Date:                Sat, 16 Jul 2022   Prob (F-statistic):               0.00\n",
      "Time:                        12:36:00   Log-Likelihood:            -1.7415e+06\n",
      "No. Observations:              665301   AIC:                         3.483e+06\n",
      "Df Residuals:                  665298   BIC:                         3.483e+06\n",
      "Df Model:                           2                                         \n",
      "Covariance Type:            nonrobust                                         \n",
      "=======================================================================================\n",
      "                          coef    std err          t      P>|t|      [0.025      0.975]\n",
      "---------------------------------------------------------------------------------------\n",
      "Intercept               1.9035      0.007    266.024      0.000       1.890       1.918\n",
      "TRAVEL_TIME_MINUTES     0.2892      0.001    459.082      0.000       0.288       0.290\n",
      "TRIP_LENGTH_MILES       0.8822      0.002    587.459      0.000       0.879       0.885\n",
      "==============================================================================\n",
      "Omnibus:                   786749.174   Durbin-Watson:                   1.948\n",
      "Prob(Omnibus):                  0.000   Jarque-Bera (JB):        200550299.061\n",
      "Skew:                           6.019   Prob(JB):                         0.00\n",
      "Kurtosis:                      87.200   Cond. No.                         37.0\n",
      "==============================================================================\n",
      "\n",
      "Warnings:\n",
      "[1] Standard Errors assume that the covariance matrix of the errors is correctly specified.\n"
     ]
    }
   ],
   "source": [
    "# use this model to estimate the private base fare\n",
    "\n",
    "results = smf.ols('FARE ~ TRAVEL_TIME_MINUTES + TRIP_LENGTH_MILES', data=private).fit()\n",
    "print(results.summary())"
   ]
  },
  {
   "cell_type": "code",
   "execution_count": 652,
   "metadata": {},
   "outputs": [],
   "source": [
    "private['BASE_MODELED_FARE'] = 1.9035 + 0.2892*private['TRAVEL_TIME_MINUTES']+0.8822*private['TRIP_LENGTH_MILES']"
   ]
  },
  {
   "cell_type": "code",
   "execution_count": 656,
   "metadata": {},
   "outputs": [],
   "source": [
    "private['YEAR_MONTH'] = private['YEAR']*100 + private['MONTH']"
   ]
  },
  {
   "cell_type": "code",
   "execution_count": 116,
   "metadata": {},
   "outputs": [],
   "source": [
    "#results = smf.ols('PRIVATE_FARE ~ BASE_MODELED_FARE*C(YEAR_MONTH) - 1', data=private_samp2).fit()\n",
    "#print(results.summary())"
   ]
  },
  {
   "cell_type": "code",
   "execution_count": 657,
   "metadata": {},
   "outputs": [],
   "source": [
    "private['BASE_MODELED_FARE_201811'] = np.where(private['YEAR_MONTH']==201811, private['BASE_MODELED_FARE'], 0)\n",
    "private['BASE_MODELED_FARE_201812'] = np.where(private['YEAR_MONTH']==201812, private['BASE_MODELED_FARE'], 0)\n",
    "private['BASE_MODELED_FARE_201901'] = np.where(private['YEAR_MONTH']==201901, private['BASE_MODELED_FARE'], 0)\n",
    "private['BASE_MODELED_FARE_201902'] = np.where(private['YEAR_MONTH']==201902, private['BASE_MODELED_FARE'], 0)\n",
    "private['BASE_MODELED_FARE_201903'] = np.where(private['YEAR_MONTH']==201903, private['BASE_MODELED_FARE'], 0)\n",
    "private['BASE_MODELED_FARE_201904'] = np.where(private['YEAR_MONTH']==201904, private['BASE_MODELED_FARE'], 0)\n",
    "private['BASE_MODELED_FARE_201905'] = np.where(private['YEAR_MONTH']==201905, private['BASE_MODELED_FARE'], 0)\n",
    "private['BASE_MODELED_FARE_201906'] = np.where(private['YEAR_MONTH']==201906, private['BASE_MODELED_FARE'], 0)\n",
    "private['BASE_MODELED_FARE_201907'] = np.where(private['YEAR_MONTH']==201907, private['BASE_MODELED_FARE'], 0)\n",
    "private['BASE_MODELED_FARE_201908'] = np.where(private['YEAR_MONTH']==201908, private['BASE_MODELED_FARE'], 0)\n",
    "private['BASE_MODELED_FARE_201909'] = np.where(private['YEAR_MONTH']==201909, private['BASE_MODELED_FARE'], 0)\n",
    "private['BASE_MODELED_FARE_201910'] = np.where(private['YEAR_MONTH']==201910, private['BASE_MODELED_FARE'], 0)\n",
    "private['BASE_MODELED_FARE_201911'] = np.where(private['YEAR_MONTH']==201911, private['BASE_MODELED_FARE'], 0)\n",
    "private['BASE_MODELED_FARE_201912'] = np.where(private['YEAR_MONTH']==201912, private['BASE_MODELED_FARE'], 0)\n",
    "private['BASE_MODELED_FARE_202001'] = np.where(private['YEAR_MONTH']==202001, private['BASE_MODELED_FARE'], 0)\n",
    "private['BASE_MODELED_FARE_202002'] = np.where(private['YEAR_MONTH']==202002, private['BASE_MODELED_FARE'], 0)"
   ]
  },
  {
   "cell_type": "code",
   "execution_count": 659,
   "metadata": {},
   "outputs": [
    {
     "name": "stdout",
     "output_type": "stream",
     "text": [
      "                                 OLS Regression Results                                \n",
      "=======================================================================================\n",
      "Dep. Variable:                   FARE   R-squared (uncentered):                   0.941\n",
      "Model:                            OLS   Adj. R-squared (uncentered):              0.941\n",
      "Method:                 Least Squares   F-statistic:                          6.685e+05\n",
      "Date:                Sat, 16 Jul 2022   Prob (F-statistic):                        0.00\n",
      "Time:                        12:38:38   Log-Likelihood:                     -1.7312e+06\n",
      "No. Observations:              665301   AIC:                                  3.462e+06\n",
      "Df Residuals:                  665285   BIC:                                  3.463e+06\n",
      "Df Model:                          16                                                  \n",
      "Covariance Type:            nonrobust                                                  \n",
      "============================================================================================\n",
      "                               coef    std err          t      P>|t|      [0.025      0.975]\n",
      "--------------------------------------------------------------------------------------------\n",
      "BASE_MODELED_FARE            1.0023      0.001    780.173      0.000       1.000       1.005\n",
      "BASE_MODELED_FARE_201812    -0.0020      0.002     -1.047      0.295      -0.006       0.002\n",
      "BASE_MODELED_FARE_201901    -0.0035      0.002     -1.837      0.066      -0.007       0.000\n",
      "BASE_MODELED_FARE_201902     0.0020      0.002      1.087      0.277      -0.002       0.006\n",
      "BASE_MODELED_FARE_201903    -0.0092      0.002     -5.136      0.000      -0.013      -0.006\n",
      "BASE_MODELED_FARE_201904     0.0641      0.002     36.166      0.000       0.061       0.068\n",
      "BASE_MODELED_FARE_201905     0.0856      0.002     50.120      0.000       0.082       0.089\n",
      "BASE_MODELED_FARE_201906     0.0903      0.002     51.484      0.000       0.087       0.094\n",
      "BASE_MODELED_FARE_201907    -0.0326      0.002    -18.766      0.000      -0.036      -0.029\n",
      "BASE_MODELED_FARE_201908    -0.0435      0.002    -25.118      0.000      -0.047      -0.040\n",
      "BASE_MODELED_FARE_201909    -0.0304      0.002    -17.439      0.000      -0.034      -0.027\n",
      "BASE_MODELED_FARE_201910    -0.0412      0.002    -24.389      0.000      -0.044      -0.038\n",
      "BASE_MODELED_FARE_201911    -0.0285      0.002    -16.405      0.000      -0.032      -0.025\n",
      "BASE_MODELED_FARE_201912    -0.0327      0.002    -18.578      0.000      -0.036      -0.029\n",
      "BASE_MODELED_FARE_202001    -0.0339      0.002    -18.927      0.000      -0.037      -0.030\n",
      "BASE_MODELED_FARE_202002    -0.0231      0.002    -12.826      0.000      -0.027      -0.020\n",
      "==============================================================================\n",
      "Omnibus:                   777972.380   Durbin-Watson:                   1.947\n",
      "Prob(Omnibus):                  0.000   Jarque-Bera (JB):        200218922.540\n",
      "Skew:                           5.887   Prob(JB):                         0.00\n",
      "Kurtosis:                      87.167   Cond. No.                         17.8\n",
      "==============================================================================\n",
      "\n",
      "Warnings:\n",
      "[1] Standard Errors assume that the covariance matrix of the errors is correctly specified.\n"
     ]
    }
   ],
   "source": [
    "#test if we need to scale by month... I do not need to\n",
    "\n",
    "results = smf.ols('FARE ~ BASE_MODELED_FARE \\\n",
    "                                + BASE_MODELED_FARE_201812 \\\n",
    "                                + BASE_MODELED_FARE_201901 \\\n",
    "                                + BASE_MODELED_FARE_201902 \\\n",
    "                                + BASE_MODELED_FARE_201903 \\\n",
    "                                + BASE_MODELED_FARE_201904 \\\n",
    "                                + BASE_MODELED_FARE_201905 \\\n",
    "                                + BASE_MODELED_FARE_201906 \\\n",
    "                                + BASE_MODELED_FARE_201907 \\\n",
    "                                + BASE_MODELED_FARE_201908 \\\n",
    "                                + BASE_MODELED_FARE_201909 \\\n",
    "                                + BASE_MODELED_FARE_201910 \\\n",
    "                                + BASE_MODELED_FARE_201911 \\\n",
    "                                + BASE_MODELED_FARE_201912 \\\n",
    "                                + BASE_MODELED_FARE_202001 \\\n",
    "                                + BASE_MODELED_FARE_202002 \\\n",
    "                                - 1', data=private).fit()\n",
    "print(results.summary())"
   ]
  },
  {
   "cell_type": "code",
   "execution_count": null,
   "metadata": {},
   "outputs": [],
   "source": []
  },
  {
   "cell_type": "code",
   "execution_count": 660,
   "metadata": {},
   "outputs": [],
   "source": [
    "private['BASE_MODELED_FARE_1'] = np.where(private['TOD_1']==1, private['BASE_MODELED_FARE'], 0)\n",
    "private['BASE_MODELED_FARE_2'] = np.where(private['TOD_2']==1, private['BASE_MODELED_FARE'], 0)\n",
    "private['BASE_MODELED_FARE_3'] = np.where(private['TOD_3']==1, private['BASE_MODELED_FARE'], 0)\n",
    "private['BASE_MODELED_FARE_4'] = np.where(private['TOD_4']==1, private['BASE_MODELED_FARE'], 0)\n",
    "private['BASE_MODELED_FARE_5'] = np.where(private['TOD_5']==1, private['BASE_MODELED_FARE'], 0)"
   ]
  },
  {
   "cell_type": "code",
   "execution_count": 662,
   "metadata": {},
   "outputs": [
    {
     "name": "stdout",
     "output_type": "stream",
     "text": [
      "                                 OLS Regression Results                                \n",
      "=======================================================================================\n",
      "Dep. Variable:                   FARE   R-squared (uncentered):                   0.940\n",
      "Model:                            OLS   Adj. R-squared (uncentered):              0.940\n",
      "Method:                 Least Squares   F-statistic:                          2.077e+06\n",
      "Date:                Sat, 16 Jul 2022   Prob (F-statistic):                        0.00\n",
      "Time:                        12:39:09   Log-Likelihood:                     -1.7404e+06\n",
      "No. Observations:              665301   AIC:                                  3.481e+06\n",
      "Df Residuals:                  665296   BIC:                                  3.481e+06\n",
      "Df Model:                           5                                                  \n",
      "Covariance Type:            nonrobust                                                  \n",
      "=======================================================================================\n",
      "                          coef    std err          t      P>|t|      [0.025      0.975]\n",
      "---------------------------------------------------------------------------------------\n",
      "BASE_MODELED_FARE       1.0114      0.001   1194.692      0.000       1.010       1.013\n",
      "BASE_MODELED_FARE_2     0.0067      0.001      5.789      0.000       0.004       0.009\n",
      "BASE_MODELED_FARE_3    -0.0265      0.001    -26.716      0.000      -0.028      -0.025\n",
      "BASE_MODELED_FARE_4     0.0016      0.001      1.461      0.144      -0.001       0.004\n",
      "BASE_MODELED_FARE_5    -0.0221      0.001    -18.781      0.000      -0.024      -0.020\n",
      "==============================================================================\n",
      "Omnibus:                   784658.568   Durbin-Watson:                   1.953\n",
      "Prob(Omnibus):                  0.000   Jarque-Bera (JB):        199056071.584\n",
      "Skew:                           5.991   Prob(JB):                         0.00\n",
      "Kurtosis:                      86.888   Cond. No.                         7.16\n",
      "==============================================================================\n",
      "\n",
      "Warnings:\n",
      "[1] Standard Errors assume that the covariance matrix of the errors is correctly specified.\n"
     ]
    }
   ],
   "source": [
    "#things dont change much throughout the TOD, so we do not need to scale by TOD\n",
    "\n",
    "results = smf.ols('FARE ~ BASE_MODELED_FARE \\\n",
    "                                + BASE_MODELED_FARE_2 \\\n",
    "                                + BASE_MODELED_FARE_3 \\\n",
    "                                + BASE_MODELED_FARE_4 \\\n",
    "                                + BASE_MODELED_FARE_5 \\\n",
    "                                - 1', data=private).fit()\n",
    "print(results.summary())"
   ]
  },
  {
   "cell_type": "code",
   "execution_count": null,
   "metadata": {},
   "outputs": [],
   "source": [
    "\n"
   ]
  },
  {
   "cell_type": "markdown",
   "metadata": {},
   "source": [
    "# Need to scale shared/private travel time by TOD\n",
    "# Need to scale shared fare by YEAR_MONTH"
   ]
  },
  {
   "attachments": {
    "image.png": {
     "image/png": "[encoded data removed]"
    }
   },
   "cell_type": "markdown",
   "metadata": {},
   "source": [
    "![image.png](attachment:image.png)"
   ]
  },
  {
   "cell_type": "code",
   "execution_count": 147,
   "metadata": {},
   "outputs": [
    {
     "name": "stdout",
     "output_type": "stream",
     "text": [
      "TOD 1: 10.49756563904439\n",
      "TOD 2: 11.914158775457258\n",
      "TOD 3: 11.177191078793344\n",
      "TOD 4: 11.145552716245131\n",
      "TOD 5: 9.467002043097798\n"
     ]
    }
   ],
   "source": [
    "print('TOD 1: ' + str(private_samp2[private_samp2['TOD_1'] ==1].FARE.mean()))\n",
    "print('TOD 2: ' + str(private_samp2[private_samp2['TOD_2'] ==1].FARE.mean()))\n",
    "print('TOD 3: ' + str(private_samp2[private_samp2['TOD_3'] ==1].FARE.mean()))\n",
    "print('TOD 4: ' + str(private_samp2[private_samp2['TOD_4'] ==1].FARE.mean()))\n",
    "print('TOD 5: ' + str(private_samp2[private_samp2['TOD_5'] ==1].FARE.mean()))"
   ]
  },
  {
   "cell_type": "code",
   "execution_count": 155,
   "metadata": {},
   "outputs": [
    {
     "name": "stdout",
     "output_type": "stream",
     "text": [
      "TOD 1: 13.396437817025422\n",
      "TOD 2: 18.38942523889821\n",
      "TOD 3: 17.150460731721974\n",
      "TOD 4: 18.39909830513687\n",
      "TOD 5: 13.663144314662702\n"
     ]
    }
   ],
   "source": [
    "print('TOD 1: ' + str(private_samp2[private_samp2['TOD_1'] ==1].PRIVATE_TRAVEL_TIME.mean()))\n",
    "print('TOD 2: ' + str(private_samp2[private_samp2['TOD_2'] ==1].PRIVATE_TRAVEL_TIME.mean()))\n",
    "print('TOD 3: ' + str(private_samp2[private_samp2['TOD_3'] ==1].PRIVATE_TRAVEL_TIME.mean()))\n",
    "print('TOD 4: ' + str(private_samp2[private_samp2['TOD_4'] ==1].PRIVATE_TRAVEL_TIME.mean()))\n",
    "print('TOD 5: ' + str(private_samp2[private_samp2['TOD_5'] ==1].PRIVATE_TRAVEL_TIME.mean()))"
   ]
  },
  {
   "cell_type": "code",
   "execution_count": 148,
   "metadata": {},
   "outputs": [
    {
     "name": "stdout",
     "output_type": "stream",
     "text": [
      "201908 : 10.684470174806272\n",
      "201910 : 10.912337662337663\n",
      "201812 : 10.420673794874858\n",
      "201911 : 10.734383730025701\n",
      "202002 : 10.368010310016468\n",
      "201904 : 11.527171805313166\n",
      "201905 : 12.120402860442391\n",
      "201901 : 10.067979433902257\n",
      "201906 : 12.386372336353196\n",
      "202001 : 10.220412570063402\n",
      "201912 : 10.417400881057269\n",
      "201909 : 11.065287249178237\n",
      "201907 : 10.663770870096375\n",
      "201811 : 10.762195121951219\n",
      "201902 : 10.43107331160745\n",
      "201903 : 10.496207484217853\n"
     ]
    }
   ],
   "source": [
    "for yr_mn in private_samp2['YEAR_MONTH'].unique():\n",
    "    \n",
    "    print(str(yr_mn) + ' : ' + str(private_samp2[private_samp2['YEAR_MONTH'] == yr_mn].FARE.mean()))\n"
   ]
  },
  {
   "cell_type": "code",
   "execution_count": 154,
   "metadata": {},
   "outputs": [
    {
     "name": "stdout",
     "output_type": "stream",
     "text": [
      "201908 : 16.848884183336413\n",
      "201910 : 17.02146732299961\n",
      "201812 : 15.69082890309211\n",
      "201911 : 16.454727902558798\n",
      "202002 : 15.444733220368681\n",
      "201904 : 16.45147776485044\n",
      "201905 : 17.233750851322103\n",
      "201901 : 14.799270292236514\n",
      "201906 : 17.61701756624568\n",
      "202001 : 15.364458712364833\n",
      "201912 : 15.881345814978188\n",
      "201909 : 17.338013295393203\n",
      "201907 : 16.806577379605656\n",
      "201811 : 16.266531018027667\n",
      "201902 : 15.648278709517891\n",
      "201903 : 15.785099573542007\n"
     ]
    }
   ],
   "source": [
    "for yr_mn in private_samp2['YEAR_MONTH'].unique():\n",
    "    \n",
    "    print(str(yr_mn) + ' : ' + str(private_samp2[private_samp2['YEAR_MONTH'] == yr_mn].PRIVATE_TRAVEL_TIME.mean()))\n"
   ]
  },
  {
   "cell_type": "code",
   "execution_count": null,
   "metadata": {},
   "outputs": [],
   "source": []
  },
  {
   "cell_type": "code",
   "execution_count": 226,
   "metadata": {},
   "outputs": [
    {
     "data": {
      "text/plain": [
       "178681"
      ]
     },
     "execution_count": 226,
     "metadata": {},
     "output_type": "execute_result"
    }
   ],
   "source": [
    "len(shared_samp2['NUM_TRIPS_POOLED'] > 1)"
   ]
  },
  {
   "cell_type": "code",
   "execution_count": 227,
   "metadata": {},
   "outputs": [
    {
     "name": "stdout",
     "output_type": "stream",
     "text": [
      "201908 : 0.6286009411224607\n",
      "201910 : 0.6231193580742227\n",
      "201812 : 0.700742782755188\n",
      "201911 : 0.6252061572292469\n",
      "202002 : 0.6295622650660846\n",
      "201904 : 0.7345766557935045\n",
      "201905 : 0.7304070586490695\n",
      "201901 : 0.7169952582979785\n",
      "201906 : 0.7116728318947801\n",
      "202001 : 0.6093189964157706\n",
      "201912 : 0.6090969899665551\n",
      "201909 : 0.6306782433622751\n",
      "201907 : 0.6371644730023837\n",
      "201811 : 0.6889927310488058\n",
      "201902 : 0.7511062699979577\n",
      "201903 : 0.758875835659116\n"
     ]
    }
   ],
   "source": [
    "for yr_mn in private_samp2['YEAR_MONTH'].unique():\n",
    "    \n",
    "    print(str(yr_mn) + ' : ' + str(len(shared_samp2[(shared_samp2['YEAR_MONTH'] == yr_mn)&(shared_samp2['NUM_TRIPS_POOLED'] > 1)])/len(shared_samp2[shared_samp2['YEAR_MONTH'] == yr_mn])))\n"
   ]
  },
  {
   "cell_type": "code",
   "execution_count": 149,
   "metadata": {},
   "outputs": [
    {
     "name": "stdout",
     "output_type": "stream",
     "text": [
      "TOD 1: 8.647918446169273\n",
      "TOD 2: 7.6973204345656265\n",
      "TOD 3: 7.92594283306412\n",
      "TOD 4: 7.4772465739094045\n",
      "TOD 5: 7.4278176514928065\n"
     ]
    }
   ],
   "source": [
    "print('TOD 1: ' + str(shared_samp2[shared_samp2['TOD_1'] ==1].FARE.mean()))\n",
    "print('TOD 2: ' + str(shared_samp2[shared_samp2['TOD_2'] ==1].FARE.mean()))\n",
    "print('TOD 3: ' + str(shared_samp2[shared_samp2['TOD_3'] ==1].FARE.mean()))\n",
    "print('TOD 4: ' + str(shared_samp2[shared_samp2['TOD_4'] ==1].FARE.mean()))\n",
    "print('TOD 5: ' + str(shared_samp2[shared_samp2['TOD_5'] ==1].FARE.mean()))"
   ]
  },
  {
   "cell_type": "code",
   "execution_count": 156,
   "metadata": {},
   "outputs": [
    {
     "name": "stdout",
     "output_type": "stream",
     "text": [
      "TOD 1: 16.56485250244481\n",
      "TOD 2: 21.701298834248345\n",
      "TOD 3: 19.215367710747056\n",
      "TOD 4: 21.476461101230747\n",
      "TOD 5: 17.075306699876588\n"
     ]
    }
   ],
   "source": [
    "print('TOD 1: ' + str(shared_samp2[shared_samp2['TOD_1'] ==1].SHARED_TRAVEL_TIME.mean()))\n",
    "print('TOD 2: ' + str(shared_samp2[shared_samp2['TOD_2'] ==1].SHARED_TRAVEL_TIME.mean()))\n",
    "print('TOD 3: ' + str(shared_samp2[shared_samp2['TOD_3'] ==1].SHARED_TRAVEL_TIME.mean()))\n",
    "print('TOD 4: ' + str(shared_samp2[shared_samp2['TOD_4'] ==1].SHARED_TRAVEL_TIME.mean()))\n",
    "print('TOD 5: ' + str(shared_samp2[shared_samp2['TOD_5'] ==1].SHARED_TRAVEL_TIME.mean()))"
   ]
  },
  {
   "cell_type": "code",
   "execution_count": 152,
   "metadata": {},
   "outputs": [
    {
     "name": "stdout",
     "output_type": "stream",
     "text": [
      "201904 : 7.431038150616934\n",
      "201901 : 6.891221612178687\n",
      "201811 : 6.785436137071651\n",
      "201903 : 6.951385733757383\n",
      "201905 : 7.898161192259213\n",
      "201912 : 9.170234113712375\n",
      "201902 : 6.9153788549254545\n",
      "201906 : 8.278103164817098\n",
      "202002 : 9.61440523826846\n",
      "201907 : 8.280909938853767\n",
      "201812 : 6.87897235622942\n",
      "201911 : 8.8173446948873\n",
      "201908 : 8.532652358544704\n",
      "202001 : 9.055186590765338\n",
      "201909 : 8.751101044419277\n",
      "201910 : 8.810180541624874\n"
     ]
    }
   ],
   "source": [
    "for yr_mn in shared_samp2['YEAR_MONTH'].unique():\n",
    "    \n",
    "    print(str(yr_mn) + ' : ' + str(shared_samp2[shared_samp2['YEAR_MONTH'] == yr_mn].FARE.mean()))\n"
   ]
  },
  {
   "cell_type": "code",
   "execution_count": 153,
   "metadata": {},
   "outputs": [
    {
     "name": "stdout",
     "output_type": "stream",
     "text": [
      "201904 : 19.674620621188584\n",
      "201901 : 18.512649737958583\n",
      "201811 : 18.98380819487708\n",
      "201903 : 19.329397892732693\n",
      "201905 : 20.52967796149376\n",
      "201912 : 19.053763656633254\n",
      "201902 : 19.073295209567245\n",
      "201906 : 20.738577202356492\n",
      "202002 : 18.052667636716443\n",
      "201907 : 19.730602480395294\n",
      "201812 : 18.608884039104627\n",
      "201911 : 19.350293201392827\n",
      "201908 : 19.66743180687862\n",
      "202001 : 18.304406493780274\n",
      "201909 : 20.075290466004063\n",
      "201910 : 19.379379806085005\n"
     ]
    }
   ],
   "source": [
    "for yr_mn in shared_samp2['YEAR_MONTH'].unique():\n",
    "    \n",
    "    print(str(yr_mn) + ' : ' + str(shared_samp2[shared_samp2['YEAR_MONTH'] == yr_mn].SHARED_TRAVEL_TIME.mean()))\n"
   ]
  },
  {
   "cell_type": "code",
   "execution_count": 157,
   "metadata": {},
   "outputs": [
    {
     "name": "stdout",
     "output_type": "stream",
     "text": [
      "201904 : 5.2456743724294554\n",
      "201901 : 4.938644871474895\n",
      "201811 : 4.875551661474572\n",
      "201903 : 5.100408905043148\n",
      "201905 : 5.4412841995995995\n",
      "201912 : 6.789217391304359\n",
      "201902 : 4.929300837361272\n",
      "201906 : 5.498633374434844\n",
      "202002 : 6.337310537165027\n",
      "201907 : 5.335102083117418\n",
      "201812 : 4.94837276973733\n",
      "201911 : 6.429782847718538\n",
      "201908 : 5.433639389418083\n",
      "202001 : 6.552993885726325\n",
      "201909 : 5.457770227758911\n",
      "201910 : 6.387349548645957\n"
     ]
    }
   ],
   "source": [
    "for yr_mn in shared_samp2['YEAR_MONTH'].unique():\n",
    "    \n",
    "    print(str(yr_mn) + ' : ' + str(shared_samp2[shared_samp2['YEAR_MONTH'] == yr_mn].TRIP_LENGTH_MILES.mean()))\n"
   ]
  },
  {
   "cell_type": "code",
   "execution_count": null,
   "metadata": {},
   "outputs": [],
   "source": []
  },
  {
   "cell_type": "code",
   "execution_count": 663,
   "metadata": {},
   "outputs": [],
   "source": [
    "#results = smf.ols('FARE ~ SHARED_TRAVEL_TIME + TRIP_LENGTH_MILES', data=shared_samp2[shared_samp2['YEAR_MONTH'] == 201811]).fit()\n",
    "#print(results.summary())"
   ]
  },
  {
   "cell_type": "code",
   "execution_count": 664,
   "metadata": {},
   "outputs": [],
   "source": [
    "#results = smf.ols('SHARED_FARE ~ SHARED_TRAVEL_TIME + TRIP_LENGTH_MILES', data=shared_samp2[shared_samp2['YEAR_MONTH'] == 201902]).fit()\n",
    "#print(results.summary())"
   ]
  },
  {
   "cell_type": "code",
   "execution_count": 665,
   "metadata": {},
   "outputs": [],
   "source": [
    "#results = smf.ols('SHARED_FARE ~ SHARED_TRAVEL_TIME + TRIP_LENGTH_MILES', data=shared_samp2[shared_samp2['YEAR_MONTH'] == 201905]).fit()\n",
    "#print(results.summary())"
   ]
  },
  {
   "cell_type": "code",
   "execution_count": 666,
   "metadata": {},
   "outputs": [],
   "source": [
    "#results = smf.ols('SHARED_FARE ~ SHARED_TRAVEL_TIME + TRIP_LENGTH_MILES', data=shared_samp2[shared_samp2['YEAR_MONTH'] == 201908]).fit()\n",
    "#print(results.summary())"
   ]
  },
  {
   "cell_type": "code",
   "execution_count": 667,
   "metadata": {},
   "outputs": [],
   "source": [
    "#results = smf.ols('SHARED_FARE ~ SHARED_TRAVEL_TIME + TRIP_LENGTH_MILES', data=shared_samp2[shared_samp2['YEAR_MONTH'] == 201911]).fit()\n",
    "#print(results.summary())"
   ]
  },
  {
   "cell_type": "code",
   "execution_count": 668,
   "metadata": {},
   "outputs": [],
   "source": [
    "#results = smf.ols('SHARED_FARE ~ SHARED_TRAVEL_TIME + TRIP_LENGTH_MILES', data=shared_samp2[shared_samp2['YEAR_MONTH'] == 202002]).fit()\n",
    "#print(results.summary())"
   ]
  },
  {
   "cell_type": "code",
   "execution_count": 459,
   "metadata": {},
   "outputs": [],
   "source": []
  },
  {
   "cell_type": "code",
   "execution_count": 460,
   "metadata": {},
   "outputs": [],
   "source": []
  },
  {
   "cell_type": "code",
   "execution_count": null,
   "metadata": {},
   "outputs": [],
   "source": []
  },
  {
   "cell_type": "code",
   "execution_count": 453,
   "metadata": {},
   "outputs": [
    {
     "data": {
      "text/plain": [
       "2231"
      ]
     },
     "execution_count": 453,
     "metadata": {},
     "output_type": "execute_result"
    }
   ],
   "source": [
    "len(samp[(samp['FARE'] == 0)&(samp['NUM_TRIPS_POOLED'] == 1)])"
   ]
  },
  {
   "cell_type": "code",
   "execution_count": 454,
   "metadata": {},
   "outputs": [
    {
     "data": {
      "text/plain": [
       "2721"
      ]
     },
     "execution_count": 454,
     "metadata": {},
     "output_type": "execute_result"
    }
   ],
   "source": [
    "len(samp[(samp['FARE'] == 0)&(samp['NUM_TRIPS_POOLED'] == 2)])"
   ]
  },
  {
   "cell_type": "code",
   "execution_count": 455,
   "metadata": {},
   "outputs": [
    {
     "data": {
      "text/plain": [
       "2691"
      ]
     },
     "execution_count": 455,
     "metadata": {},
     "output_type": "execute_result"
    }
   ],
   "source": [
    "len(samp[(samp['FARE'] == 0)&(samp['NUM_TRIPS_POOLED'] == 3)])"
   ]
  },
  {
   "cell_type": "code",
   "execution_count": 669,
   "metadata": {},
   "outputs": [],
   "source": [
    "matched['YEAR_MONTH'] = matched['YEAR']*100 + matched['MONTH']\n",
    "unmatched['YEAR_MONTH'] = unmatched['YEAR']*100 + unmatched['MONTH']\n",
    "shared['YEAR_MONTH'] = shared['YEAR']*100 + shared['MONTH']\n"
   ]
  },
  {
   "cell_type": "code",
   "execution_count": null,
   "metadata": {},
   "outputs": [],
   "source": []
  },
  {
   "cell_type": "code",
   "execution_count": 474,
   "metadata": {},
   "outputs": [
    {
     "name": "stdout",
     "output_type": "stream",
     "text": [
      "201908 : 3236\n",
      "201910 : 3006\n",
      "201911 : 2727\n",
      "201905 : 3636\n",
      "202002 : 3055\n",
      "201904 : 3743\n",
      "201901 : 4536\n",
      "201906 : 2806\n",
      "201907 : 3501\n",
      "201903 : 3715\n",
      "201912 : 2922\n",
      "201812 : 3908\n",
      "202001 : 3706\n",
      "201909 : 2935\n",
      "201902 : 3656\n",
      "201811 : 4792\n"
     ]
    }
   ],
   "source": [
    "for yr_mn in samp['YEAR_MONTH'].unique():\n",
    "    \n",
    "    print(str(yr_mn) + ' : ' + str(len(samp[(samp['YEAR_MONTH'] == yr_mn)&(samp['SHARED_FLAGGER'] == 1)&(samp['NUM_TRIPS_POOLED'] == 1)])))\n"
   ]
  },
  {
   "cell_type": "code",
   "execution_count": 477,
   "metadata": {},
   "outputs": [
    {
     "name": "stdout",
     "output_type": "stream",
     "text": [
      "201904 : 7.431038150616934\n",
      "201901 : 6.891221612178687\n",
      "201811 : 6.785436137071651\n",
      "201903 : 6.951385733757383\n",
      "201905 : 7.898161192259213\n",
      "201912 : 9.170234113712375\n",
      "201902 : 6.9153788549254545\n",
      "201906 : 8.278103164817098\n",
      "202002 : 9.61440523826846\n",
      "201907 : 8.280909938853767\n",
      "201812 : 6.87897235622942\n",
      "201911 : 8.8173446948873\n",
      "201908 : 8.532652358544704\n",
      "202001 : 9.055186590765338\n",
      "201909 : 8.751101044419277\n",
      "201910 : 8.810180541624874\n"
     ]
    }
   ],
   "source": [
    "for yr_mn in shared['YEAR_MONTH'].unique():\n",
    "    \n",
    "    print(str(yr_mn) + ' : ' + str(shared[shared['YEAR_MONTH'] == yr_mn].FARE.mean()))\n"
   ]
  },
  {
   "cell_type": "code",
   "execution_count": 433,
   "metadata": {},
   "outputs": [
    {
     "data": {
      "text/plain": [
       "8913"
      ]
     },
     "execution_count": 433,
     "metadata": {},
     "output_type": "execute_result"
    }
   ],
   "source": [
    "#most of the 0 fare trips are shared.. but they include matched and unmatched trips... they are not matched trips being added to original trip for $0\n",
    "len(samp[(samp['FARE'] == 0)&(samp['SHARED_FLAGGER'] == 1)])"
   ]
  },
  {
   "cell_type": "code",
   "execution_count": 432,
   "metadata": {},
   "outputs": [
    {
     "data": {
      "text/plain": [
       "26"
      ]
     },
     "execution_count": 432,
     "metadata": {},
     "output_type": "execute_result"
    }
   ],
   "source": [
    "len(samp[(samp['FARE'] == 0)&(samp['SHARED_FLAGGER'] == 0)])"
   ]
  },
  {
   "cell_type": "code",
   "execution_count": 452,
   "metadata": {},
   "outputs": [
    {
     "data": {
      "text/plain": [
       "7.5"
      ]
     },
     "execution_count": 452,
     "metadata": {},
     "output_type": "execute_result"
    }
   ],
   "source": [
    "samp[(samp['SHARED_FLAGGER'] == 1)&(samp['NUM_TRIPS_POOLED'] > 1)]['FARE'].median()"
   ]
  },
  {
   "cell_type": "code",
   "execution_count": 451,
   "metadata": {},
   "outputs": [
    {
     "data": {
      "text/plain": [
       "7.5"
      ]
     },
     "execution_count": 451,
     "metadata": {},
     "output_type": "execute_result"
    }
   ],
   "source": [
    "samp[(samp['SHARED_FLAGGER'] == 1)&(samp['NUM_TRIPS_POOLED'] == 1)]['FARE'].median()"
   ]
  },
  {
   "cell_type": "code",
   "execution_count": null,
   "metadata": {},
   "outputs": [],
   "source": []
  },
  {
   "cell_type": "markdown",
   "metadata": {},
   "source": [
    "# Shared Fare"
   ]
  },
  {
   "cell_type": "code",
   "execution_count": 129,
   "metadata": {},
   "outputs": [
    {
     "data": {
      "text/plain": [
       "array([201911, 201905, 201908, 201812, 201901, 201811, 202001, 201909,\n",
       "       201903, 201910, 202002, 201904, 201912, 201902, 201907, 201906],\n",
       "      dtype=int64)"
      ]
     },
     "execution_count": 129,
     "metadata": {},
     "output_type": "execute_result"
    }
   ],
   "source": [
    "shared.YEAR_MONTH.unique()\n"
   ]
  },
  {
   "cell_type": "code",
   "execution_count": 130,
   "metadata": {},
   "outputs": [],
   "source": [
    "shared['TRIP_LENGTH_MILES_11_18'] = np.where(shared['YEAR_MONTH'] == 201811, shared['TRIP_LENGTH_MILES'], 0) \n",
    "shared['TRIP_LENGTH_MILES_12_18'] = np.where(shared['YEAR_MONTH'] == 201812, shared['TRIP_LENGTH_MILES'], 0 )\n",
    "shared['TRIP_LENGTH_MILES_1_19'] = np.where(shared['YEAR_MONTH'] == 201901, shared['TRIP_LENGTH_MILES'], 0 )\n",
    "shared['TRIP_LENGTH_MILES_2_19'] = np.where(shared['YEAR_MONTH'] == 201902, shared['TRIP_LENGTH_MILES'], 0 )\n",
    "shared['TRIP_LENGTH_MILES_3_19'] = np.where(shared['YEAR_MONTH'] == 201903, shared['TRIP_LENGTH_MILES'], 0 )\n",
    "shared['TRIP_LENGTH_MILES_4_19'] = np.where(shared['YEAR_MONTH'] == 201904, shared['TRIP_LENGTH_MILES'], 0 )\n",
    "shared['TRIP_LENGTH_MILES_5_19'] = np.where(shared['YEAR_MONTH'] == 201905, shared['TRIP_LENGTH_MILES'], 0 )\n",
    "shared['TRIP_LENGTH_MILES_6_19'] = np.where(shared['YEAR_MONTH'] == 201906, shared['TRIP_LENGTH_MILES'], 0 )\n",
    "shared['TRIP_LENGTH_MILES_7_19'] = np.where(shared['YEAR_MONTH'] == 201907, shared['TRIP_LENGTH_MILES'], 0 )\n",
    "shared['TRIP_LENGTH_MILES_8_19'] = np.where(shared['YEAR_MONTH'] == 201908, shared['TRIP_LENGTH_MILES'], 0 )\n",
    "shared['TRIP_LENGTH_MILES_9_19'] = np.where(shared['YEAR_MONTH'] == 201909, shared['TRIP_LENGTH_MILES'], 0 )\n",
    "shared['TRIP_LENGTH_MILES_10_19'] = np.where(shared['YEAR_MONTH'] == 201910, shared['TRIP_LENGTH_MILES'], 0) \n",
    "shared['TRIP_LENGTH_MILES_11_19'] = np.where(shared['YEAR_MONTH'] == 201911, shared['TRIP_LENGTH_MILES'], 0 )\n",
    "shared['TRIP_LENGTH_MILES_12_19'] = np.where(shared['YEAR_MONTH'] == 201912, shared['TRIP_LENGTH_MILES'], 0 )\n",
    "shared['TRIP_LENGTH_MILES_1_20'] = np.where(shared['YEAR_MONTH'] == 202001, shared['TRIP_LENGTH_MILES'], 0 )\n",
    "shared['TRIP_LENGTH_MILES_2_20'] = np.where(shared['YEAR_MONTH'] == 202002, shared['TRIP_LENGTH_MILES'], 0 )\n",
    "                                                                      "
   ]
  },
  {
   "cell_type": "code",
   "execution_count": 127,
   "metadata": {},
   "outputs": [
    {
     "data": {
      "text/plain": [
       "array([0.])"
      ]
     },
     "execution_count": 127,
     "metadata": {},
     "output_type": "execute_result"
    }
   ],
   "source": [
    "shared['TRIP_LENGTH_MILES_2_20'].unique()"
   ]
  },
  {
   "cell_type": "code",
   "execution_count": 132,
   "metadata": {},
   "outputs": [],
   "source": [
    "shared['TRAVEL_TIME_MINUTES_11_18'] = np.where(shared['YEAR_MONTH'] == 201811, shared['TRAVEL_TIME_MINUTES'], 0) \n",
    "shared['TRAVEL_TIME_MINUTES_12_18'] = np.where(shared['YEAR_MONTH'] == 201812, shared['TRAVEL_TIME_MINUTES'], 0 )\n",
    "shared['TRAVEL_TIME_MINUTES_1_19'] = np.where(shared['YEAR_MONTH'] == 201901, shared['TRAVEL_TIME_MINUTES'], 0 )\n",
    "shared['TRAVEL_TIME_MINUTES_2_19'] = np.where(shared['YEAR_MONTH'] == 201902, shared['TRAVEL_TIME_MINUTES'], 0 )\n",
    "shared['TRAVEL_TIME_MINUTES_3_19'] = np.where(shared['YEAR_MONTH'] == 201903, shared['TRAVEL_TIME_MINUTES'], 0 )\n",
    "shared['TRAVEL_TIME_MINUTES_4_19'] = np.where(shared['YEAR_MONTH'] == 201904, shared['TRAVEL_TIME_MINUTES'], 0 )\n",
    "shared['TRAVEL_TIME_MINUTES_5_19'] = np.where(shared['YEAR_MONTH'] == 201905, shared['TRAVEL_TIME_MINUTES'], 0 )\n",
    "shared['TRAVEL_TIME_MINUTES_6_19'] = np.where(shared['YEAR_MONTH'] == 201906, shared['TRAVEL_TIME_MINUTES'], 0 )\n",
    "shared['TRAVEL_TIME_MINUTES_7_19'] = np.where(shared['YEAR_MONTH'] == 201907, shared['TRAVEL_TIME_MINUTES'], 0 )\n",
    "shared['TRAVEL_TIME_MINUTES_8_19'] = np.where(shared['YEAR_MONTH'] == 201908, shared['TRAVEL_TIME_MINUTES'], 0 )\n",
    "shared['TRAVEL_TIME_MINUTES_9_19'] = np.where(shared['YEAR_MONTH'] == 201909, shared['TRAVEL_TIME_MINUTES'], 0 )\n",
    "shared['TRAVEL_TIME_MINUTES_10_19'] = np.where(shared['YEAR_MONTH'] == 201910, shared['TRAVEL_TIME_MINUTES'], 0) \n",
    "shared['TRAVEL_TIME_MINUTES_11_19'] = np.where(shared['YEAR_MONTH'] == 201911, shared['TRAVEL_TIME_MINUTES'], 0 )\n",
    "shared['TRAVEL_TIME_MINUTES_12_19'] = np.where(shared['YEAR_MONTH'] == 201912, shared['TRAVEL_TIME_MINUTES'], 0 )\n",
    "shared['TRAVEL_TIME_MINUTES_1_20'] = np.where(shared['YEAR_MONTH'] == 202001, shared['TRAVEL_TIME_MINUTES'], 0 )\n",
    "shared['TRAVEL_TIME_MINUTES_2_20'] = np.where(shared['YEAR_MONTH'] == 202002, shared['TRAVEL_TIME_MINUTES'], 0 )\n",
    "                                                                      "
   ]
  },
  {
   "cell_type": "code",
   "execution_count": 138,
   "metadata": {},
   "outputs": [],
   "source": [
    "shared['MONTH_YEAR_11_18'] = np.where(shared['YEAR_MONTH'] == 201811, 1, 0) \n",
    "shared['MONTH_YEAR_12_18'] = np.where(shared['YEAR_MONTH'] == 201812, 1, 0 )\n",
    "shared['MONTH_YEAR_1_19'] = np.where(shared['YEAR_MONTH'] == 201901, 1, 0 )\n",
    "shared['MONTH_YEAR_2_19'] = np.where(shared['YEAR_MONTH'] == 201902, 1, 0 )\n",
    "shared['MONTH_YEAR_3_19'] = np.where(shared['YEAR_MONTH'] == 201903, 1, 0 )\n",
    "shared['MONTH_YEAR_4_19'] = np.where(shared['YEAR_MONTH'] == 201904, 1, 0 )\n",
    "shared['MONTH_YEAR_5_19'] = np.where(shared['YEAR_MONTH'] == 201905, 1, 0 )\n",
    "shared['MONTH_YEAR_6_19'] = np.where(shared['YEAR_MONTH'] == 201906, 1, 0 )\n",
    "shared['MONTH_YEAR_7_19'] = np.where(shared['YEAR_MONTH'] == 201907, 1, 0 )\n",
    "shared['MONTH_YEAR_8_19'] = np.where(shared['YEAR_MONTH'] == 201908, 1, 0 )\n",
    "shared['MONTH_YEAR_9_19'] = np.where(shared['YEAR_MONTH'] == 201909, 1, 0 )\n",
    "shared['MONTH_YEAR_10_19'] = np.where(shared['YEAR_MONTH'] == 201910, 1, 0) \n",
    "shared['MONTH_YEAR_11_19'] = np.where(shared['YEAR_MONTH'] == 201911, 1, 0 )\n",
    "shared['MONTH_YEAR_12_19'] = np.where(shared['YEAR_MONTH'] == 201912, 1, 0 )\n",
    "shared['MONTH_YEAR_1_20'] = np.where(shared['YEAR_MONTH'] == 202001, 1, 0 )\n",
    "shared['MONTH_YEAR_2_20'] = np.where(shared['YEAR_MONTH'] == 202002, 1, 0 )\n",
    "                                                                      "
   ]
  },
  {
   "cell_type": "code",
   "execution_count": 140,
   "metadata": {},
   "outputs": [
    {
     "name": "stdout",
     "output_type": "stream",
     "text": [
      "                            OLS Regression Results                            \n",
      "==============================================================================\n",
      "Dep. Variable:                   FARE   R-squared:                       0.581\n",
      "Model:                            OLS   Adj. R-squared:                  0.581\n",
      "Method:                 Least Squares   F-statistic:                     5278.\n",
      "Date:                Sun, 31 Jul 2022   Prob (F-statistic):               0.00\n",
      "Time:                        13:22:18   Log-Likelihood:            -4.7710e+05\n",
      "No. Observations:              178681   AIC:                         9.543e+05\n",
      "Df Residuals:                  178633   BIC:                         9.548e+05\n",
      "Df Model:                          47                                         \n",
      "Covariance Type:            nonrobust                                         \n",
      "=============================================================================================\n",
      "                                coef    std err          t      P>|t|      [0.025      0.975]\n",
      "---------------------------------------------------------------------------------------------\n",
      "MONTH_YEAR_11_18              2.3348      0.051     45.714      0.000       2.235       2.435\n",
      "MONTH_YEAR_12_18              2.4820      0.056     44.438      0.000       2.373       2.591\n",
      "MONTH_YEAR_1_19               2.5289      0.050     50.130      0.000       2.430       2.628\n",
      "MONTH_YEAR_2_19               2.4811      0.053     47.110      0.000       2.378       2.584\n",
      "MONTH_YEAR_3_19               2.4837      0.052     48.092      0.000       2.382       2.585\n",
      "MONTH_YEAR_4_19               2.3181      0.054     43.005      0.000       2.212       2.424\n",
      "MONTH_YEAR_5_19               2.1782      0.054     39.992      0.000       2.071       2.285\n",
      "MONTH_YEAR_6_19               2.5179      0.065     38.633      0.000       2.390       2.646\n",
      "MONTH_YEAR_7_19               3.0549      0.065     47.320      0.000       2.928       3.181\n",
      "MONTH_YEAR_8_19               3.2271      0.069     47.063      0.000       3.093       3.362\n",
      "MONTH_YEAR_9_19               2.9665      0.071     41.764      0.000       2.827       3.106\n",
      "MONTH_YEAR_10_19              2.9074      0.070     41.758      0.000       2.771       3.044\n",
      "MONTH_YEAR_11_19              3.2829      0.073     45.117      0.000       3.140       3.426\n",
      "MONTH_YEAR_12_19              3.2625      0.073     44.978      0.000       3.120       3.405\n",
      "MONTH_YEAR_1_20               3.4497      0.066     52.066      0.000       3.320       3.580\n",
      "MONTH_YEAR_2_20               3.5547      0.070     50.752      0.000       3.417       3.692\n",
      "TRAVEL_TIME_MINUTES_11_18     0.0127      0.004      3.263      0.001       0.005       0.020\n",
      "TRAVEL_TIME_MINUTES_12_18     0.0060      0.004      1.407      0.159      -0.002       0.014\n",
      "TRAVEL_TIME_MINUTES_1_19      0.0207      0.004      5.406      0.000       0.013       0.028\n",
      "TRAVEL_TIME_MINUTES_2_19      0.0181      0.004      4.363      0.000       0.010       0.026\n",
      "TRAVEL_TIME_MINUTES_3_19      0.0161      0.004      3.847      0.000       0.008       0.024\n",
      "TRAVEL_TIME_MINUTES_4_19      0.0418      0.004     10.241      0.000       0.034       0.050\n",
      "TRAVEL_TIME_MINUTES_5_19      0.0620      0.004     15.990      0.000       0.054       0.070\n",
      "TRAVEL_TIME_MINUTES_6_19      0.0519      0.005     11.416      0.000       0.043       0.061\n",
      "TRAVEL_TIME_MINUTES_7_19      0.0149      0.005      3.098      0.002       0.005       0.024\n",
      "TRAVEL_TIME_MINUTES_8_19      0.0112      0.005      2.136      0.033       0.001       0.021\n",
      "TRAVEL_TIME_MINUTES_9_19      0.0429      0.005      8.628      0.000       0.033       0.053\n",
      "TRAVEL_TIME_MINUTES_10_19     0.1140      0.004     26.341      0.000       0.106       0.123\n",
      "TRAVEL_TIME_MINUTES_11_19     0.1166      0.004     27.070      0.000       0.108       0.125\n",
      "TRAVEL_TIME_MINUTES_12_19     0.1241      0.004     28.143      0.000       0.115       0.133\n",
      "TRAVEL_TIME_MINUTES_1_20      0.1295      0.004     31.075      0.000       0.121       0.138\n",
      "TRAVEL_TIME_MINUTES_2_20      0.1510      0.005     33.222      0.000       0.142       0.160\n",
      "TRIP_LENGTH_MILES_11_18       0.8633      0.012     71.789      0.000       0.840       0.887\n",
      "TRIP_LENGTH_MILES_12_18       0.8659      0.013     68.066      0.000       0.841       0.891\n",
      "TRIP_LENGTH_MILES_1_19        0.8059      0.011     71.928      0.000       0.784       0.828\n",
      "TRIP_LENGTH_MILES_2_19        0.8295      0.013     65.612      0.000       0.805       0.854\n",
      "TRIP_LENGTH_MILES_3_19        0.8150      0.013     64.798      0.000       0.790       0.840\n",
      "TRIP_LENGTH_MILES_4_19        0.8178      0.012     68.038      0.000       0.794       0.841\n",
      "TRIP_LENGTH_MILES_5_19        0.8174      0.012     69.537      0.000       0.794       0.840\n",
      "TRIP_LENGTH_MILES_6_19        0.8519      0.013     63.246      0.000       0.826       0.878\n",
      "TRIP_LENGTH_MILES_7_19        0.9243      0.014     65.753      0.000       0.897       0.952\n",
      "TRIP_LENGTH_MILES_8_19        0.9359      0.015     62.697      0.000       0.907       0.965\n",
      "TRIP_LENGTH_MILES_9_19        0.9020      0.015     61.580      0.000       0.873       0.931\n",
      "TRIP_LENGTH_MILES_10_19       0.5781      0.010     56.152      0.000       0.558       0.598\n",
      "TRIP_LENGTH_MILES_11_19       0.5100      0.010     50.973      0.000       0.490       0.530\n",
      "TRIP_LENGTH_MILES_12_19       0.5218      0.010     54.231      0.000       0.503       0.541\n",
      "TRIP_LENGTH_MILES_1_20        0.4938      0.009     55.208      0.000       0.476       0.511\n",
      "TRIP_LENGTH_MILES_2_20        0.5259      0.010     52.086      0.000       0.506       0.546\n",
      "==============================================================================\n",
      "Omnibus:                    82136.323   Durbin-Watson:                   1.846\n",
      "Prob(Omnibus):                  0.000   Jarque-Bera (JB):          4200480.611\n",
      "Skew:                           1.459   Prob(JB):                         0.00\n",
      "Kurtosis:                      26.573   Cond. No.                         61.9\n",
      "==============================================================================\n",
      "\n",
      "Warnings:\n",
      "[1] Standard Errors assume that the covariance matrix of the errors is correctly specified.\n"
     ]
    }
   ],
   "source": [
    "results = smf.ols('FARE ~ MONTH_YEAR_11_18 + MONTH_YEAR_12_18  + MONTH_YEAR_1_19 + MONTH_YEAR_2_19 + MONTH_YEAR_3_19  + MONTH_YEAR_4_19 + MONTH_YEAR_5_19 + MONTH_YEAR_6_19 + MONTH_YEAR_7_19 + MONTH_YEAR_8_19 + MONTH_YEAR_9_19 + MONTH_YEAR_10_19 + MONTH_YEAR_11_19 + MONTH_YEAR_12_19 + MONTH_YEAR_1_20 + MONTH_YEAR_2_20 + TRAVEL_TIME_MINUTES_11_18 + TRAVEL_TIME_MINUTES_12_18 + TRAVEL_TIME_MINUTES_1_19 + TRAVEL_TIME_MINUTES_2_19 + TRAVEL_TIME_MINUTES_3_19 + TRAVEL_TIME_MINUTES_4_19 + TRAVEL_TIME_MINUTES_5_19 +TRAVEL_TIME_MINUTES_6_19  + TRAVEL_TIME_MINUTES_7_19 + TRAVEL_TIME_MINUTES_8_19 + TRAVEL_TIME_MINUTES_9_19 + TRAVEL_TIME_MINUTES_10_19 + TRAVEL_TIME_MINUTES_11_19 + TRAVEL_TIME_MINUTES_12_19 + TRAVEL_TIME_MINUTES_1_20 + TRAVEL_TIME_MINUTES_2_20 +  TRIP_LENGTH_MILES_11_18 + TRIP_LENGTH_MILES_12_18 + TRIP_LENGTH_MILES_1_19 + TRIP_LENGTH_MILES_2_19 + TRIP_LENGTH_MILES_3_19 + TRIP_LENGTH_MILES_4_19 + TRIP_LENGTH_MILES_5_19 + TRIP_LENGTH_MILES_6_19 + TRIP_LENGTH_MILES_7_19 + TRIP_LENGTH_MILES_8_19 + TRIP_LENGTH_MILES_9_19 + TRIP_LENGTH_MILES_10_19 + TRIP_LENGTH_MILES_11_19 + TRIP_LENGTH_MILES_12_19 + TRIP_LENGTH_MILES_1_20 + TRIP_LENGTH_MILES_2_20 - 1', data=shared).fit()\n",
    "print(results.summary())"
   ]
  },
  {
   "cell_type": "code",
   "execution_count": 143,
   "metadata": {},
   "outputs": [
    {
     "name": "stdout",
     "output_type": "stream",
     "text": [
      "                            OLS Regression Results                            \n",
      "==============================================================================\n",
      "Dep. Variable:                   FARE   R-squared:                       0.622\n",
      "Model:                            OLS   Adj. R-squared:                  0.622\n",
      "Method:                 Least Squares   F-statistic:                     4295.\n",
      "Date:                Sun, 31 Jul 2022   Prob (F-statistic):               0.00\n",
      "Time:                        13:23:25   Log-Likelihood:            -3.2400e+05\n",
      "No. Observations:              122801   AIC:                         6.481e+05\n",
      "Df Residuals:                  122753   BIC:                         6.486e+05\n",
      "Df Model:                          47                                         \n",
      "Covariance Type:            nonrobust                                         \n",
      "=============================================================================================\n",
      "                                coef    std err          t      P>|t|      [0.025      0.975]\n",
      "---------------------------------------------------------------------------------------------\n",
      "MONTH_YEAR_11_18              1.1715      0.066     17.705      0.000       1.042       1.301\n",
      "MONTH_YEAR_12_18              1.1721      0.072     16.341      0.000       1.032       1.313\n",
      "MONTH_YEAR_1_19               1.3691      0.064     21.234      0.000       1.243       1.496\n",
      "MONTH_YEAR_2_19               1.3968      0.065     21.358      0.000       1.269       1.525\n",
      "MONTH_YEAR_3_19               1.2938      0.063     20.425      0.000       1.170       1.418\n",
      "MONTH_YEAR_4_19               0.9907      0.067     14.768      0.000       0.859       1.122\n",
      "MONTH_YEAR_5_19               0.8433      0.067     12.506      0.000       0.711       0.975\n",
      "MONTH_YEAR_6_19               1.1669      0.083     14.142      0.000       1.005       1.329\n",
      "MONTH_YEAR_7_19               1.7637      0.088     19.948      0.000       1.590       1.937\n",
      "MONTH_YEAR_8_19               1.9624      0.094     20.871      0.000       1.778       2.147\n",
      "MONTH_YEAR_9_19               1.6167      0.098     16.527      0.000       1.425       1.808\n",
      "MONTH_YEAR_10_19              0.9648      0.097      9.964      0.000       0.775       1.155\n",
      "MONTH_YEAR_11_19              1.2991      0.102     12.769      0.000       1.100       1.499\n",
      "MONTH_YEAR_12_19              1.2662      0.104     12.224      0.000       1.063       1.469\n",
      "MONTH_YEAR_1_20               1.8345      0.095     19.235      0.000       1.648       2.021\n",
      "MONTH_YEAR_2_20               2.1047      0.098     21.429      0.000       1.912       2.297\n",
      "TRAVEL_TIME_MINUTES_11_18     0.0713      0.004     16.355      0.000       0.063       0.080\n",
      "TRAVEL_TIME_MINUTES_12_18     0.0813      0.005     17.250      0.000       0.072       0.091\n",
      "TRAVEL_TIME_MINUTES_1_19      0.0832      0.004     19.902      0.000       0.075       0.091\n",
      "TRAVEL_TIME_MINUTES_2_19      0.0725      0.004     16.124      0.000       0.064       0.081\n",
      "TRAVEL_TIME_MINUTES_3_19      0.0796      0.005     17.693      0.000       0.071       0.088\n",
      "TRAVEL_TIME_MINUTES_4_19      0.1101      0.004     24.773      0.000       0.101       0.119\n",
      "TRAVEL_TIME_MINUTES_5_19      0.1221      0.004     28.863      0.000       0.114       0.130\n",
      "TRAVEL_TIME_MINUTES_6_19      0.1135      0.005     22.162      0.000       0.103       0.124\n",
      "TRAVEL_TIME_MINUTES_7_19      0.0726      0.006     13.006      0.000       0.062       0.084\n",
      "TRAVEL_TIME_MINUTES_8_19      0.0703      0.006     11.568      0.000       0.058       0.082\n",
      "TRAVEL_TIME_MINUTES_9_19      0.1007      0.006     17.483      0.000       0.089       0.112\n",
      "TRAVEL_TIME_MINUTES_10_19     0.1551      0.005     33.374      0.000       0.146       0.164\n",
      "TRAVEL_TIME_MINUTES_11_19     0.1586      0.005     34.552      0.000       0.150       0.168\n",
      "TRAVEL_TIME_MINUTES_12_19     0.1695      0.005     36.280      0.000       0.160       0.179\n",
      "TRAVEL_TIME_MINUTES_1_20      0.1697      0.004     38.253      0.000       0.161       0.178\n",
      "TRAVEL_TIME_MINUTES_2_20      0.1847      0.005     38.517      0.000       0.175       0.194\n",
      "TRIP_LENGTH_MILES_11_18       0.7306      0.013     55.324      0.000       0.705       0.756\n",
      "TRIP_LENGTH_MILES_12_18       0.6896      0.014     49.509      0.000       0.662       0.717\n",
      "TRIP_LENGTH_MILES_1_19        0.6623      0.012     54.855      0.000       0.639       0.686\n",
      "TRIP_LENGTH_MILES_2_19        0.7034      0.013     52.417      0.000       0.677       0.730\n",
      "TRIP_LENGTH_MILES_3_19        0.6790      0.013     50.897      0.000       0.653       0.705\n",
      "TRIP_LENGTH_MILES_4_19        0.6767      0.013     52.431      0.000       0.651       0.702\n",
      "TRIP_LENGTH_MILES_5_19        0.6882      0.013     53.891      0.000       0.663       0.713\n",
      "TRIP_LENGTH_MILES_6_19        0.7154      0.015     46.953      0.000       0.686       0.745\n",
      "TRIP_LENGTH_MILES_7_19        0.8059      0.016     49.655      0.000       0.774       0.838\n",
      "TRIP_LENGTH_MILES_8_19        0.8132      0.017     47.160      0.000       0.779       0.847\n",
      "TRIP_LENGTH_MILES_9_19        0.7797      0.017     46.003      0.000       0.747       0.813\n",
      "TRIP_LENGTH_MILES_10_19       0.5590      0.011     51.635      0.000       0.538       0.580\n",
      "TRIP_LENGTH_MILES_11_19       0.5027      0.010     48.761      0.000       0.482       0.523\n",
      "TRIP_LENGTH_MILES_12_19       0.5068      0.010     50.193      0.000       0.487       0.527\n",
      "TRIP_LENGTH_MILES_1_20        0.4629      0.009     48.905      0.000       0.444       0.481\n",
      "TRIP_LENGTH_MILES_2_20        0.5099      0.011     48.357      0.000       0.489       0.531\n",
      "==============================================================================\n",
      "Omnibus:                    42931.154   Durbin-Watson:                   1.872\n",
      "Prob(Omnibus):                  0.000   Jarque-Bera (JB):           515157.360\n",
      "Skew:                           1.340   Prob(JB):                         0.00\n",
      "Kurtosis:                      12.670   Cond. No.                         87.0\n",
      "==============================================================================\n",
      "\n",
      "Warnings:\n",
      "[1] Standard Errors assume that the covariance matrix of the errors is correctly specified.\n"
     ]
    }
   ],
   "source": [
    "results = smf.ols('FARE ~ MONTH_YEAR_11_18 + MONTH_YEAR_12_18  + MONTH_YEAR_1_19 + MONTH_YEAR_2_19 + MONTH_YEAR_3_19  + MONTH_YEAR_4_19 + MONTH_YEAR_5_19 + MONTH_YEAR_6_19 + MONTH_YEAR_7_19 + MONTH_YEAR_8_19 + MONTH_YEAR_9_19 + MONTH_YEAR_10_19 + MONTH_YEAR_11_19 + MONTH_YEAR_12_19 + MONTH_YEAR_1_20 + MONTH_YEAR_2_20 + TRAVEL_TIME_MINUTES_11_18 + TRAVEL_TIME_MINUTES_12_18 + TRAVEL_TIME_MINUTES_1_19 + TRAVEL_TIME_MINUTES_2_19 + TRAVEL_TIME_MINUTES_3_19 + TRAVEL_TIME_MINUTES_4_19 + TRAVEL_TIME_MINUTES_5_19 +TRAVEL_TIME_MINUTES_6_19  + TRAVEL_TIME_MINUTES_7_19 + TRAVEL_TIME_MINUTES_8_19 + TRAVEL_TIME_MINUTES_9_19 + TRAVEL_TIME_MINUTES_10_19 + TRAVEL_TIME_MINUTES_11_19 + TRAVEL_TIME_MINUTES_12_19 + TRAVEL_TIME_MINUTES_1_20 + TRAVEL_TIME_MINUTES_2_20 +  TRIP_LENGTH_MILES_11_18 + TRIP_LENGTH_MILES_12_18 + TRIP_LENGTH_MILES_1_19 + TRIP_LENGTH_MILES_2_19 + TRIP_LENGTH_MILES_3_19 + TRIP_LENGTH_MILES_4_19 + TRIP_LENGTH_MILES_5_19 + TRIP_LENGTH_MILES_6_19 + TRIP_LENGTH_MILES_7_19 + TRIP_LENGTH_MILES_8_19 + TRIP_LENGTH_MILES_9_19 + TRIP_LENGTH_MILES_10_19 + TRIP_LENGTH_MILES_11_19 + TRIP_LENGTH_MILES_12_19 + TRIP_LENGTH_MILES_1_20 + TRIP_LENGTH_MILES_2_20 - 1', data=matched).fit()\n",
    "print(results.summary())"
   ]
  },
  {
   "cell_type": "code",
   "execution_count": 144,
   "metadata": {},
   "outputs": [
    {
     "name": "stdout",
     "output_type": "stream",
     "text": [
      "                            OLS Regression Results                            \n",
      "==============================================================================\n",
      "Dep. Variable:                   FARE   R-squared:                       0.683\n",
      "Model:                            OLS   Adj. R-squared:                  0.683\n",
      "Method:                 Least Squares   F-statistic:                     2560.\n",
      "Date:                Sun, 31 Jul 2022   Prob (F-statistic):               0.00\n",
      "Time:                        13:23:35   Log-Likelihood:            -1.3891e+05\n",
      "No. Observations:               55880   AIC:                         2.779e+05\n",
      "Df Residuals:                   55832   BIC:                         2.783e+05\n",
      "Df Model:                          47                                         \n",
      "Covariance Type:            nonrobust                                         \n",
      "=============================================================================================\n",
      "                                coef    std err          t      P>|t|      [0.025      0.975]\n",
      "---------------------------------------------------------------------------------------------\n",
      "MONTH_YEAR_11_18              3.0560      0.070     43.876      0.000       2.919       3.192\n",
      "MONTH_YEAR_12_18              3.1378      0.084     37.470      0.000       2.974       3.302\n",
      "MONTH_YEAR_1_19               2.8668      0.075     38.437      0.000       2.721       3.013\n",
      "MONTH_YEAR_2_19               2.6726      0.080     33.441      0.000       2.516       2.829\n",
      "MONTH_YEAR_3_19               3.2781      0.081     40.309      0.000       3.119       3.437\n",
      "MONTH_YEAR_4_19               3.3402      0.083     40.314      0.000       3.178       3.503\n",
      "MONTH_YEAR_5_19               3.2050      0.080     39.830      0.000       3.047       3.363\n",
      "MONTH_YEAR_6_19               3.4255      0.092     37.410      0.000       3.246       3.605\n",
      "MONTH_YEAR_7_19               3.6437      0.084     43.578      0.000       3.480       3.808\n",
      "MONTH_YEAR_8_19               3.6634      0.092     39.892      0.000       3.483       3.843\n",
      "MONTH_YEAR_9_19               3.4474      0.092     37.483      0.000       3.267       3.628\n",
      "MONTH_YEAR_10_19              3.8790      0.089     43.421      0.000       3.704       4.054\n",
      "MONTH_YEAR_11_19              4.0664      0.097     41.876      0.000       3.876       4.257\n",
      "MONTH_YEAR_12_19              4.0375      0.100     40.553      0.000       3.842       4.233\n",
      "MONTH_YEAR_1_20               3.9387      0.090     43.995      0.000       3.763       4.114\n",
      "MONTH_YEAR_2_20               4.0519      0.096     42.149      0.000       3.863       4.240\n",
      "TRAVEL_TIME_MINUTES_11_18    -0.0160      0.008     -2.008      0.045      -0.032      -0.000\n",
      "TRAVEL_TIME_MINUTES_12_18    -0.0241      0.011     -2.242      0.025      -0.045      -0.003\n",
      "TRAVEL_TIME_MINUTES_1_19      0.0424      0.010      4.368      0.000       0.023       0.061\n",
      "TRAVEL_TIME_MINUTES_2_19      0.1052      0.011      9.825      0.000       0.084       0.126\n",
      "TRAVEL_TIME_MINUTES_3_19      0.0143      0.011      1.282      0.200      -0.008       0.036\n",
      "TRAVEL_TIME_MINUTES_4_19     -0.0032      0.010     -0.311      0.756      -0.023       0.017\n",
      "TRAVEL_TIME_MINUTES_5_19      0.0596      0.009      6.659      0.000       0.042       0.077\n",
      "TRAVEL_TIME_MINUTES_6_19      0.0716      0.009      7.690      0.000       0.053       0.090\n",
      "TRAVEL_TIME_MINUTES_7_19      0.0253      0.009      2.750      0.006       0.007       0.043\n",
      "TRAVEL_TIME_MINUTES_8_19      0.0300      0.010      2.898      0.004       0.010       0.050\n",
      "TRAVEL_TIME_MINUTES_9_19      0.0689      0.010      7.071      0.000       0.050       0.088\n",
      "TRAVEL_TIME_MINUTES_10_19     0.0555      0.010      5.609      0.000       0.036       0.075\n",
      "TRAVEL_TIME_MINUTES_11_19     0.0549      0.011      4.812      0.000       0.033       0.077\n",
      "TRAVEL_TIME_MINUTES_12_19     0.0364      0.012      3.137      0.002       0.014       0.059\n",
      "TRAVEL_TIME_MINUTES_1_20      0.0597      0.011      5.506      0.000       0.038       0.081\n",
      "TRAVEL_TIME_MINUTES_2_20      0.0779      0.012      6.424      0.000       0.054       0.102\n",
      "TRIP_LENGTH_MILES_11_18       1.1525      0.022     52.595      0.000       1.110       1.195\n",
      "TRIP_LENGTH_MILES_12_18       1.2472      0.025     50.418      0.000       1.199       1.296\n",
      "TRIP_LENGTH_MILES_1_19        1.1215      0.023     49.178      0.000       1.077       1.166\n",
      "TRIP_LENGTH_MILES_2_19        1.0583      0.027     38.805      0.000       1.005       1.112\n",
      "TRIP_LENGTH_MILES_3_19        1.1457      0.028     41.502      0.000       1.092       1.200\n",
      "TRIP_LENGTH_MILES_4_19        1.1821      0.025     48.038      0.000       1.134       1.230\n",
      "TRIP_LENGTH_MILES_5_19        1.0700      0.023     47.037      0.000       1.025       1.115\n",
      "TRIP_LENGTH_MILES_6_19        1.0129      0.023     44.399      0.000       0.968       1.058\n",
      "TRIP_LENGTH_MILES_7_19        1.0418      0.023     45.986      0.000       0.997       1.086\n",
      "TRIP_LENGTH_MILES_8_19        1.0427      0.024     42.904      0.000       0.995       1.090\n",
      "TRIP_LENGTH_MILES_9_19        1.0085      0.024     42.656      0.000       0.962       1.055\n",
      "TRIP_LENGTH_MILES_10_19       1.0036      0.024     42.160      0.000       0.957       1.050\n",
      "TRIP_LENGTH_MILES_11_19       0.9718      0.027     35.710      0.000       0.918       1.025\n",
      "TRIP_LENGTH_MILES_12_19       1.0246      0.024     42.370      0.000       0.977       1.072\n",
      "TRIP_LENGTH_MILES_1_20        0.9705      0.022     44.438      0.000       0.928       1.013\n",
      "TRIP_LENGTH_MILES_2_20        1.0211      0.026     38.621      0.000       0.969       1.073\n",
      "==============================================================================\n",
      "Omnibus:                    42803.154   Durbin-Watson:                   1.878\n",
      "Prob(Omnibus):                  0.000   Jarque-Bera (JB):         26543925.477\n",
      "Skew:                           2.473   Prob(JB):                         0.00\n",
      "Kurtosis:                     109.658   Cond. No.                         38.0\n",
      "==============================================================================\n",
      "\n",
      "Warnings:\n",
      "[1] Standard Errors assume that the covariance matrix of the errors is correctly specified.\n"
     ]
    }
   ],
   "source": [
    "results = smf.ols('FARE ~ MONTH_YEAR_11_18 + MONTH_YEAR_12_18  + MONTH_YEAR_1_19 + MONTH_YEAR_2_19 + MONTH_YEAR_3_19  + MONTH_YEAR_4_19 + MONTH_YEAR_5_19 + MONTH_YEAR_6_19 + MONTH_YEAR_7_19 + MONTH_YEAR_8_19 + MONTH_YEAR_9_19 + MONTH_YEAR_10_19 + MONTH_YEAR_11_19 + MONTH_YEAR_12_19 + MONTH_YEAR_1_20 + MONTH_YEAR_2_20 + TRAVEL_TIME_MINUTES_11_18 + TRAVEL_TIME_MINUTES_12_18 + TRAVEL_TIME_MINUTES_1_19 + TRAVEL_TIME_MINUTES_2_19 + TRAVEL_TIME_MINUTES_3_19 + TRAVEL_TIME_MINUTES_4_19 + TRAVEL_TIME_MINUTES_5_19 +TRAVEL_TIME_MINUTES_6_19  + TRAVEL_TIME_MINUTES_7_19 + TRAVEL_TIME_MINUTES_8_19 + TRAVEL_TIME_MINUTES_9_19 + TRAVEL_TIME_MINUTES_10_19 + TRAVEL_TIME_MINUTES_11_19 + TRAVEL_TIME_MINUTES_12_19 + TRAVEL_TIME_MINUTES_1_20 + TRAVEL_TIME_MINUTES_2_20 +  TRIP_LENGTH_MILES_11_18 + TRIP_LENGTH_MILES_12_18 + TRIP_LENGTH_MILES_1_19 + TRIP_LENGTH_MILES_2_19 + TRIP_LENGTH_MILES_3_19 + TRIP_LENGTH_MILES_4_19 + TRIP_LENGTH_MILES_5_19 + TRIP_LENGTH_MILES_6_19 + TRIP_LENGTH_MILES_7_19 + TRIP_LENGTH_MILES_8_19 + TRIP_LENGTH_MILES_9_19 + TRIP_LENGTH_MILES_10_19 + TRIP_LENGTH_MILES_11_19 + TRIP_LENGTH_MILES_12_19 + TRIP_LENGTH_MILES_1_20 + TRIP_LENGTH_MILES_2_20 - 1', data=unmatched).fit()\n",
    "print(results.summary())"
   ]
  },
  {
   "cell_type": "code",
   "execution_count": 670,
   "metadata": {},
   "outputs": [
    {
     "name": "stdout",
     "output_type": "stream",
     "text": [
      "                            OLS Regression Results                            \n",
      "==============================================================================\n",
      "Dep. Variable:                   FARE   R-squared:                       0.561\n",
      "Model:                            OLS   Adj. R-squared:                  0.561\n",
      "Method:                 Least Squares   F-statistic:                 1.143e+05\n",
      "Date:                Sat, 16 Jul 2022   Prob (F-statistic):               0.00\n",
      "Time:                        12:40:39   Log-Likelihood:            -4.8130e+05\n",
      "No. Observations:              178681   AIC:                         9.626e+05\n",
      "Df Residuals:                  178678   BIC:                         9.626e+05\n",
      "Df Model:                           2                                         \n",
      "Covariance Type:            nonrobust                                         \n",
      "=======================================================================================\n",
      "                          coef    std err          t      P>|t|      [0.025      0.975]\n",
      "---------------------------------------------------------------------------------------\n",
      "Intercept               2.6496      0.015    172.636      0.000       2.620       2.680\n",
      "TRAVEL_TIME_MINUTES     0.0600      0.001     57.140      0.000       0.058       0.062\n",
      "TRIP_LENGTH_MILES       0.7349      0.003    255.776      0.000       0.729       0.741\n",
      "==============================================================================\n",
      "Omnibus:                    78024.454   Durbin-Watson:                   1.839\n",
      "Prob(Omnibus):                  0.000   Jarque-Bera (JB):          3599580.849\n",
      "Skew:                           1.373   Prob(JB):                         0.00\n",
      "Kurtosis:                      24.816   Cond. No.                         43.7\n",
      "==============================================================================\n",
      "\n",
      "Warnings:\n",
      "[1] Standard Errors assume that the covariance matrix of the errors is correctly specified.\n"
     ]
    }
   ],
   "source": [
    "#USE THIS MODEL to estimate the base fare for shared trips\n",
    "results = smf.ols('FARE ~ TRAVEL_TIME_MINUTES + TRIP_LENGTH_MILES', data=shared).fit()\n",
    "print(results.summary())"
   ]
  },
  {
   "cell_type": "code",
   "execution_count": 44,
   "metadata": {},
   "outputs": [],
   "source": [
    "shared_11_18 = shared[(shared['YEAR'] == 2018)&(shared['MONTH'] == 11)]\n",
    "shared_2_20 = shared[(shared['YEAR'] == 2020)&(shared['MONTH'] == 2)]\n",
    "shared_9_19 = shared[(shared['YEAR'] == 2019)&(shared['MONTH'] == 9)]"
   ]
  },
  {
   "cell_type": "code",
   "execution_count": null,
   "metadata": {},
   "outputs": [],
   "source": []
  },
  {
   "cell_type": "code",
   "execution_count": null,
   "metadata": {},
   "outputs": [],
   "source": []
  },
  {
   "cell_type": "code",
   "execution_count": 674,
   "metadata": {},
   "outputs": [],
   "source": [
    "#shared['PRIV_BASE_MODELED_FARE'] = 1.8911 + 0.2895*shared['TRAVEL_TIME_MINUTES'] + 0.8816*shared['TRIP_LENGTH_MILES']"
   ]
  },
  {
   "cell_type": "code",
   "execution_count": null,
   "metadata": {},
   "outputs": [],
   "source": []
  },
  {
   "cell_type": "code",
   "execution_count": 675,
   "metadata": {},
   "outputs": [],
   "source": [
    "shared['SHARED_BASE_FARE'] = 2.6496 + 0.0600 * shared['TRAVEL_TIME_MINUTES'] + 0.7349*shared['TRIP_LENGTH_MILES']"
   ]
  },
  {
   "cell_type": "code",
   "execution_count": 484,
   "metadata": {},
   "outputs": [
    {
     "name": "stderr",
     "output_type": "stream",
     "text": [
      "C:\\Users\\ramu225\\Anaconda3\\lib\\site-packages\\ipykernel_launcher.py:2: SettingWithCopyWarning: \n",
      "A value is trying to be set on a copy of a slice from a DataFrame.\n",
      "Try using .loc[row_indexer,col_indexer] = value instead\n",
      "\n",
      "See the caveats in the documentation: https://pandas.pydata.org/pandas-docs/stable/user_guide/indexing.html#returning-a-view-versus-a-copy\n",
      "  \n"
     ]
    }
   ],
   "source": []
  },
  {
   "cell_type": "code",
   "execution_count": 676,
   "metadata": {},
   "outputs": [],
   "source": [
    "shared['YEAR_MONTH'] = shared['YEAR']*100 + shared['MONTH']\n"
   ]
  },
  {
   "cell_type": "code",
   "execution_count": null,
   "metadata": {},
   "outputs": [],
   "source": []
  },
  {
   "cell_type": "code",
   "execution_count": null,
   "metadata": {},
   "outputs": [],
   "source": []
  },
  {
   "cell_type": "code",
   "execution_count": null,
   "metadata": {},
   "outputs": [],
   "source": []
  },
  {
   "cell_type": "code",
   "execution_count": 686,
   "metadata": {},
   "outputs": [
    {
     "name": "stdout",
     "output_type": "stream",
     "text": [
      "                                 OLS Regression Results                                \n",
      "=======================================================================================\n",
      "Dep. Variable:                   FARE   R-squared (uncentered):                   0.861\n",
      "Model:                            OLS   Adj. R-squared (uncentered):              0.861\n",
      "Method:                 Least Squares   F-statistic:                          6.938e+04\n",
      "Date:                Sat, 16 Jul 2022   Prob (F-statistic):                        0.00\n",
      "Time:                        12:47:00   Log-Likelihood:                     -4.7935e+05\n",
      "No. Observations:              178681   AIC:                                  9.587e+05\n",
      "Df Residuals:                  178665   BIC:                                  9.589e+05\n",
      "Df Model:                          16                                                  \n",
      "Covariance Type:            nonrobust                                                  \n",
      "===========================================================================================\n",
      "                              coef    std err          t      P>|t|      [0.025      0.975]\n",
      "-------------------------------------------------------------------------------------------\n",
      "SHARED_BASE_FARE_201811     0.9358      0.003    269.729      0.000       0.929       0.943\n",
      "SHARED_BASE_FARE_201812     0.9408      0.004    250.585      0.000       0.933       0.948\n",
      "SHARED_BASE_FARE_201901     0.9392      0.003    276.820      0.000       0.933       0.946\n",
      "SHARED_BASE_FARE_201902     0.9414      0.004    266.827      0.000       0.935       0.948\n",
      "SHARED_BASE_FARE_201903     0.9270      0.003    274.309      0.000       0.920       0.934\n",
      "SHARED_BASE_FARE_201904     0.9817      0.003    283.527      0.000       0.975       0.988\n",
      "SHARED_BASE_FARE_201905     1.0219      0.003    296.332      0.000       1.015       1.029\n",
      "SHARED_BASE_FARE_201906     1.0563      0.004    261.923      0.000       1.048       1.064\n",
      "SHARED_BASE_FARE_201907     1.0708      0.004    258.858      0.000       1.063       1.079\n",
      "SHARED_BASE_FARE_201908     1.0900      0.004    252.419      0.000       1.081       1.098\n",
      "SHARED_BASE_FARE_201909     1.1179      0.005    248.315      0.000       1.109       1.127\n",
      "SHARED_BASE_FARE_201910     1.0129      0.004    248.330      0.000       1.005       1.021\n",
      "SHARED_BASE_FARE_201911     0.9906      0.004    233.601      0.000       0.982       0.999\n",
      "SHARED_BASE_FARE_201912     1.0042      0.004    246.791      0.000       0.996       1.012\n",
      "SHARED_BASE_FARE_202001     1.0110      0.004    270.216      0.000       1.004       1.018\n",
      "SHARED_BASE_FARE_202002     1.1003      0.004    268.603      0.000       1.092       1.108\n",
      "==============================================================================\n",
      "Omnibus:                    79357.498   Durbin-Watson:                   1.842\n",
      "Prob(Omnibus):                  0.000   Jarque-Bera (JB):          3991527.709\n",
      "Skew:                           1.386   Prob(JB):                         0.00\n",
      "Kurtosis:                      25.988   Cond. No.                         1.33\n",
      "==============================================================================\n",
      "\n",
      "Warnings:\n",
      "[1] Standard Errors assume that the covariance matrix of the errors is correctly specified.\n"
     ]
    }
   ],
   "source": [
    "#USE THIS MODEL TO SCALE SHARED FARE MONTHLY\n",
    "\n",
    "results = smf.ols('FARE ~  SHARED_BASE_FARE_201811 \\\n",
    "                                + SHARED_BASE_FARE_201812 \\\n",
    "                                + SHARED_BASE_FARE_201901 \\\n",
    "                                + SHARED_BASE_FARE_201902 \\\n",
    "                                + SHARED_BASE_FARE_201903 \\\n",
    "                                + SHARED_BASE_FARE_201904 \\\n",
    "                                + SHARED_BASE_FARE_201905 \\\n",
    "                                + SHARED_BASE_FARE_201906 \\\n",
    "                                + SHARED_BASE_FARE_201907 \\\n",
    "                                + SHARED_BASE_FARE_201908 \\\n",
    "                                + SHARED_BASE_FARE_201909 \\\n",
    "                                + SHARED_BASE_FARE_201910 \\\n",
    "                                + SHARED_BASE_FARE_201911 \\\n",
    "                                + SHARED_BASE_FARE_201912 \\\n",
    "                                + SHARED_BASE_FARE_202001 \\\n",
    "                                + SHARED_BASE_FARE_202002 \\\n",
    "                                - 1', data=shared).fit()\n",
    "print(results.summary())"
   ]
  },
  {
   "cell_type": "code",
   "execution_count": null,
   "metadata": {},
   "outputs": [],
   "source": []
  },
  {
   "cell_type": "code",
   "execution_count": 680,
   "metadata": {},
   "outputs": [],
   "source": [
    "shared['SHARED_BASE_FARE_1'] = np.where(shared['TOD_1']==1, shared['SHARED_BASE_FARE'], 0)\n",
    "shared['SHARED_BASE_FARE_2'] = np.where(shared['TOD_2']==1, shared['SHARED_BASE_FARE'], 0)\n",
    "shared['SHARED_BASE_FARE_3'] = np.where(shared['TOD_3']==1, shared['SHARED_BASE_FARE'], 0)\n",
    "shared['SHARED_BASE_FARE_4'] = np.where(shared['TOD_4']==1, shared['SHARED_BASE_FARE'], 0)\n",
    "shared['SHARED_BASE_FARE_5'] = np.where(shared['TOD_5']==1, shared['SHARED_BASE_FARE'], 0)"
   ]
  },
  {
   "cell_type": "code",
   "execution_count": 682,
   "metadata": {},
   "outputs": [
    {
     "name": "stdout",
     "output_type": "stream",
     "text": [
      "                                 OLS Regression Results                                \n",
      "=======================================================================================\n",
      "Dep. Variable:                   FARE   R-squared (uncentered):                   0.859\n",
      "Model:                            OLS   Adj. R-squared (uncentered):              0.859\n",
      "Method:                 Least Squares   F-statistic:                          2.171e+05\n",
      "Date:                Sat, 16 Jul 2022   Prob (F-statistic):                        0.00\n",
      "Time:                        12:42:41   Log-Likelihood:                     -4.8106e+05\n",
      "No. Observations:              178681   AIC:                                  9.621e+05\n",
      "Df Residuals:                  178676   BIC:                                  9.622e+05\n",
      "Df Model:                           5                                                  \n",
      "Covariance Type:            nonrobust                                                  \n",
      "======================================================================================\n",
      "                         coef    std err          t      P>|t|      [0.025      0.975]\n",
      "--------------------------------------------------------------------------------------\n",
      "SHARED_BASE_FARE_1     0.0398      0.003     12.497      0.000       0.034       0.046\n",
      "SHARED_BASE_FARE_2    -0.0251      0.003     -7.652      0.000      -0.032      -0.019\n",
      "SHARED_BASE_FARE_3     0.0127      0.003      4.634      0.000       0.007       0.018\n",
      "SHARED_BASE_FARE       0.9956      0.002    461.718      0.000       0.991       1.000\n",
      "SHARED_BASE_FARE_5    -0.0174      0.003     -5.381      0.000      -0.024      -0.011\n",
      "==============================================================================\n",
      "Omnibus:                    77973.716   Durbin-Watson:                   1.845\n",
      "Prob(Omnibus):                  0.000   Jarque-Bera (JB):          3618860.388\n",
      "Skew:                           1.370   Prob(JB):                         0.00\n",
      "Kurtosis:                      24.876   Cond. No.                         5.97\n",
      "==============================================================================\n",
      "\n",
      "Warnings:\n",
      "[1] Standard Errors assume that the covariance matrix of the errors is correctly specified.\n"
     ]
    }
   ],
   "source": [
    "#LEAVE OUT THE TOD ASPECT\n",
    "results = smf.ols('FARE ~  SHARED_BASE_FARE_1 \\\n",
    "                                + SHARED_BASE_FARE_2 \\\n",
    "                                + SHARED_BASE_FARE_3 \\\n",
    "                                + SHARED_BASE_FARE \\\n",
    "                                + SHARED_BASE_FARE_5 \\\n",
    "                                - 1', data=shared).fit()\n",
    "print(results.summary())"
   ]
  },
  {
   "cell_type": "code",
   "execution_count": 683,
   "metadata": {},
   "outputs": [
    {
     "name": "stdout",
     "output_type": "stream",
     "text": [
      "                            OLS Regression Results                            \n",
      "==============================================================================\n",
      "Dep. Variable:                   FARE   R-squared:                       0.674\n",
      "Model:                            OLS   Adj. R-squared:                  0.674\n",
      "Method:                 Least Squares   F-statistic:                 5.789e+04\n",
      "Date:                Sat, 16 Jul 2022   Prob (F-statistic):               0.00\n",
      "Time:                        12:43:20   Log-Likelihood:            -1.3966e+05\n",
      "No. Observations:               55880   AIC:                         2.793e+05\n",
      "Df Residuals:                   55877   BIC:                         2.794e+05\n",
      "Df Model:                           2                                         \n",
      "Covariance Type:            nonrobust                                         \n",
      "=======================================================================================\n",
      "                          coef    std err          t      P>|t|      [0.025      0.975]\n",
      "---------------------------------------------------------------------------------------\n",
      "Intercept               3.4203      0.021    159.768      0.000       3.378       3.462\n",
      "TRAVEL_TIME_MINUTES     0.0382      0.003     15.137      0.000       0.033       0.043\n",
      "TRIP_LENGTH_MILES       1.0754      0.006    177.927      0.000       1.064       1.087\n",
      "==============================================================================\n",
      "Omnibus:                    42233.480   Durbin-Watson:                   1.870\n",
      "Prob(Omnibus):                  0.000   Jarque-Bera (JB):         24015969.473\n",
      "Skew:                           2.433   Prob(JB):                         0.00\n",
      "Kurtosis:                     104.444   Cond. No.                         27.0\n",
      "==============================================================================\n",
      "\n",
      "Warnings:\n",
      "[1] Standard Errors assume that the covariance matrix of the errors is correctly specified.\n"
     ]
    }
   ],
   "source": [
    "#USE THIS MODEL to estimate the base fare for unmatched trips\n",
    "results = smf.ols('FARE ~ TRAVEL_TIME_MINUTES + TRIP_LENGTH_MILES', data=unmatched).fit()\n",
    "print(results.summary())"
   ]
  },
  {
   "cell_type": "code",
   "execution_count": null,
   "metadata": {},
   "outputs": [],
   "source": []
  },
  {
   "cell_type": "code",
   "execution_count": null,
   "metadata": {},
   "outputs": [],
   "source": []
  },
  {
   "cell_type": "code",
   "execution_count": 688,
   "metadata": {},
   "outputs": [],
   "source": [
    "unmatched['BASE_MODELED_FARE'] = 3.4203 + 0.0382 * unmatched['TRAVEL_TIME_MINUTES'] + 1.0754*unmatched['TRIP_LENGTH_MILES']"
   ]
  },
  {
   "cell_type": "code",
   "execution_count": 696,
   "metadata": {},
   "outputs": [],
   "source": [
    "matched['BASE_MODELED_FARE_201811'] = np.where(matched['YEAR_MONTH']==201811, matched['BASE_MODELED_FARE'], 0)\n",
    "matched['BASE_MODELED_FARE_201812'] = np.where(matched['YEAR_MONTH']==201812, matched['BASE_MODELED_FARE'], 0)\n",
    "matched['BASE_MODELED_FARE_201901'] = np.where(matched['YEAR_MONTH']==201901, matched['BASE_MODELED_FARE'], 0)\n",
    "matched['BASE_MODELED_FARE_201902'] = np.where(matched['YEAR_MONTH']==201902, matched['BASE_MODELED_FARE'], 0)\n",
    "matched['BASE_MODELED_FARE_201903'] = np.where(matched['YEAR_MONTH']==201903, matched['BASE_MODELED_FARE'], 0)\n",
    "matched['BASE_MODELED_FARE_201904'] = np.where(matched['YEAR_MONTH']==201904, matched['BASE_MODELED_FARE'], 0)\n",
    "matched['BASE_MODELED_FARE_201905'] = np.where(matched['YEAR_MONTH']==201905, matched['BASE_MODELED_FARE'], 0)\n",
    "matched['BASE_MODELED_FARE_201906'] = np.where(matched['YEAR_MONTH']==201906, matched['BASE_MODELED_FARE'], 0)\n",
    "matched['BASE_MODELED_FARE_201907'] = np.where(matched['YEAR_MONTH']==201907, matched['BASE_MODELED_FARE'], 0)\n",
    "matched['BASE_MODELED_FARE_201908'] = np.where(matched['YEAR_MONTH']==201908, matched['BASE_MODELED_FARE'], 0)\n",
    "matched['BASE_MODELED_FARE_201909'] = np.where(matched['YEAR_MONTH']==201909, matched['BASE_MODELED_FARE'], 0)\n",
    "matched['BASE_MODELED_FARE_201910'] = np.where(matched['YEAR_MONTH']==201910, matched['BASE_MODELED_FARE'], 0)\n",
    "matched['BASE_MODELED_FARE_201911'] = np.where(matched['YEAR_MONTH']==201911, matched['BASE_MODELED_FARE'], 0)\n",
    "matched['BASE_MODELED_FARE_201912'] = np.where(matched['YEAR_MONTH']==201912, matched['BASE_MODELED_FARE'], 0)\n",
    "matched['BASE_MODELED_FARE_202001'] = np.where(matched['YEAR_MONTH']==202001, matched['BASE_MODELED_FARE'], 0)\n",
    "matched['BASE_MODELED_FARE_202002'] = np.where(matched['YEAR_MONTH']==202002, matched['BASE_MODELED_FARE'], 0)"
   ]
  },
  {
   "cell_type": "code",
   "execution_count": 698,
   "metadata": {},
   "outputs": [
    {
     "name": "stdout",
     "output_type": "stream",
     "text": [
      "                                 OLS Regression Results                                \n",
      "=======================================================================================\n",
      "Dep. Variable:                   FARE   R-squared (uncentered):                   0.901\n",
      "Model:                            OLS   Adj. R-squared (uncentered):              0.901\n",
      "Method:                 Least Squares   F-statistic:                          3.166e+04\n",
      "Date:                Sat, 16 Jul 2022   Prob (F-statistic):                        0.00\n",
      "Time:                        12:52:54   Log-Likelihood:                     -1.3927e+05\n",
      "No. Observations:               55880   AIC:                                  2.786e+05\n",
      "Df Residuals:                   55864   BIC:                                  2.787e+05\n",
      "Df Model:                          16                                                  \n",
      "Covariance Type:            nonrobust                                                  \n",
      "============================================================================================\n",
      "                               coef    std err          t      P>|t|      [0.025      0.975]\n",
      "--------------------------------------------------------------------------------------------\n",
      "BASE_MODELED_FARE_201811     0.9108      0.005    182.848      0.000       0.901       0.921\n",
      "BASE_MODELED_FARE_201812     0.9650      0.006    172.060      0.000       0.954       0.976\n",
      "BASE_MODELED_FARE_201901     0.9713      0.005    183.127      0.000       0.961       0.982\n",
      "BASE_MODELED_FARE_201902     1.0150      0.006    167.130      0.000       1.003       1.027\n",
      "BASE_MODELED_FARE_201903     0.9836      0.006    166.213      0.000       0.972       0.995\n",
      "BASE_MODELED_FARE_201904     0.9830      0.006    174.122      0.000       0.972       0.994\n",
      "BASE_MODELED_FARE_201905     1.0121      0.005    188.570      0.000       1.002       1.023\n",
      "BASE_MODELED_FARE_201906     1.0204      0.006    174.305      0.000       1.009       1.032\n",
      "BASE_MODELED_FARE_201907     0.9803      0.005    182.937      0.000       0.970       0.991\n",
      "BASE_MODELED_FARE_201908     0.9910      0.006    178.189      0.000       0.980       1.002\n",
      "BASE_MODELED_FARE_201909     1.0147      0.006    176.632      0.000       1.003       1.026\n",
      "BASE_MODELED_FARE_201910     1.0294      0.006    181.029      0.000       1.018       1.041\n",
      "BASE_MODELED_FARE_201911     1.0325      0.006    164.723      0.000       1.020       1.045\n",
      "BASE_MODELED_FARE_201912     1.0270      0.006    174.363      0.000       1.015       1.039\n",
      "BASE_MODELED_FARE_202001     1.0204      0.005    196.668      0.000       1.010       1.031\n",
      "BASE_MODELED_FARE_202002     1.0940      0.006    181.072      0.000       1.082       1.106\n",
      "==============================================================================\n",
      "Omnibus:                    42927.277   Durbin-Watson:                   1.867\n",
      "Prob(Omnibus):                  0.000   Jarque-Bera (JB):         25531488.805\n",
      "Skew:                           2.497   Prob(JB):                         0.00\n",
      "Kurtosis:                     107.597   Cond. No.                         1.26\n",
      "==============================================================================\n",
      "\n",
      "Warnings:\n",
      "[1] Standard Errors assume that the covariance matrix of the errors is correctly specified.\n"
     ]
    }
   ],
   "source": [
    "#USE THIS MODEL TO SCALE UNMATCHED SHARED FARE MONTHLY\n",
    "\n",
    "results = smf.ols('FARE ~ BASE_MODELED_FARE_201811 \\\n",
    "                                + BASE_MODELED_FARE_201812 \\\n",
    "                                + BASE_MODELED_FARE_201901 \\\n",
    "                                + BASE_MODELED_FARE_201902 \\\n",
    "                                + BASE_MODELED_FARE_201903 \\\n",
    "                                + BASE_MODELED_FARE_201904 \\\n",
    "                                + BASE_MODELED_FARE_201905 \\\n",
    "                                + BASE_MODELED_FARE_201906 \\\n",
    "                                + BASE_MODELED_FARE_201907 \\\n",
    "                                + BASE_MODELED_FARE_201908 \\\n",
    "                                + BASE_MODELED_FARE_201909 \\\n",
    "                                + BASE_MODELED_FARE_201910 \\\n",
    "                                + BASE_MODELED_FARE_201911 \\\n",
    "                                + BASE_MODELED_FARE_201912 \\\n",
    "                                + BASE_MODELED_FARE_202001 \\\n",
    "                                + BASE_MODELED_FARE_202002 \\\n",
    "                                - 1', data=unmatched).fit()\n",
    "print(results.summary())"
   ]
  },
  {
   "cell_type": "code",
   "execution_count": null,
   "metadata": {},
   "outputs": [],
   "source": []
  },
  {
   "cell_type": "code",
   "execution_count": null,
   "metadata": {},
   "outputs": [],
   "source": []
  },
  {
   "cell_type": "code",
   "execution_count": null,
   "metadata": {},
   "outputs": [],
   "source": [
    "print(results.summary())"
   ]
  },
  {
   "cell_type": "code",
   "execution_count": 693,
   "metadata": {},
   "outputs": [
    {
     "name": "stdout",
     "output_type": "stream",
     "text": [
      "                            OLS Regression Results                            \n",
      "==============================================================================\n",
      "Dep. Variable:                   FARE   R-squared:                       0.607\n",
      "Model:                            OLS   Adj. R-squared:                  0.607\n",
      "Method:                 Least Squares   F-statistic:                 9.472e+04\n",
      "Date:                Sat, 16 Jul 2022   Prob (F-statistic):               0.00\n",
      "Time:                        12:51:15   Log-Likelihood:            -3.2640e+05\n",
      "No. Observations:              122799   AIC:                         6.528e+05\n",
      "Df Residuals:                  122796   BIC:                         6.528e+05\n",
      "Df Model:                           2                                         \n",
      "Covariance Type:            nonrobust                                         \n",
      "=======================================================================================\n",
      "                          coef    std err          t      P>|t|      [0.025      0.975]\n",
      "---------------------------------------------------------------------------------------\n",
      "Intercept               1.2135      0.020     61.061      0.000       1.175       1.252\n",
      "TRAVEL_TIME_MINUTES     0.1157      0.001    102.403      0.000       0.113       0.118\n",
      "TRIP_LENGTH_MILES       0.6388      0.003    210.327      0.000       0.633       0.645\n",
      "==============================================================================\n",
      "Omnibus:                    41563.599   Durbin-Watson:                   1.865\n",
      "Prob(Omnibus):                  0.000   Jarque-Bera (JB):           478092.879\n",
      "Skew:                           1.298   Prob(JB):                         0.00\n",
      "Kurtosis:                      12.311   Cond. No.                         54.6\n",
      "==============================================================================\n",
      "\n",
      "Warnings:\n",
      "[1] Standard Errors assume that the covariance matrix of the errors is correctly specified.\n"
     ]
    }
   ],
   "source": [
    "#USE THIS MODEL to estimate the base fare for matched trips\n",
    "results = smf.ols('FARE ~ TRAVEL_TIME_MINUTES + TRIP_LENGTH_MILES', data=matched).fit()\n",
    "print(results.summary())"
   ]
  },
  {
   "cell_type": "code",
   "execution_count": 695,
   "metadata": {},
   "outputs": [],
   "source": [
    "matched['BASE_MODELED_FARE'] = 1.2135 + 0.1157 * matched['TRAVEL_TIME_MINUTES'] +  0.6388*matched['TRIP_LENGTH_MILES']"
   ]
  },
  {
   "cell_type": "code",
   "execution_count": 700,
   "metadata": {},
   "outputs": [
    {
     "name": "stdout",
     "output_type": "stream",
     "text": [
      "                                 OLS Regression Results                                \n",
      "=======================================================================================\n",
      "Dep. Variable:                   FARE   R-squared (uncentered):                   0.874\n",
      "Model:                            OLS   Adj. R-squared (uncentered):              0.874\n",
      "Method:                 Least Squares   F-statistic:                          5.316e+04\n",
      "Date:                Sat, 16 Jul 2022   Prob (F-statistic):                        0.00\n",
      "Time:                        12:53:29   Log-Likelihood:                     -3.2492e+05\n",
      "No. Observations:              122799   AIC:                                  6.499e+05\n",
      "Df Residuals:                  122783   BIC:                                  6.500e+05\n",
      "Df Model:                          16                                                  \n",
      "Covariance Type:            nonrobust                                                  \n",
      "============================================================================================\n",
      "                               coef    std err          t      P>|t|      [0.025      0.975]\n",
      "--------------------------------------------------------------------------------------------\n",
      "BASE_MODELED_FARE_201811     0.9378      0.004    235.183      0.000       0.930       0.946\n",
      "BASE_MODELED_FARE_201812     0.9365      0.004    218.501      0.000       0.928       0.945\n",
      "BASE_MODELED_FARE_201901     0.9413      0.004    244.873      0.000       0.934       0.949\n",
      "BASE_MODELED_FARE_201902     0.9443      0.004    241.191      0.000       0.937       0.952\n",
      "BASE_MODELED_FARE_201903     0.9353      0.004    250.334      0.000       0.928       0.943\n",
      "BASE_MODELED_FARE_201904     0.9929      0.004    257.131      0.000       0.985       1.000\n",
      "BASE_MODELED_FARE_201905     1.0242      0.004    265.549      0.000       1.017       1.032\n",
      "BASE_MODELED_FARE_201906     1.0530      0.005    230.068      0.000       1.044       1.062\n",
      "BASE_MODELED_FARE_201907     1.0679      0.005    219.937      0.000       1.058       1.077\n",
      "BASE_MODELED_FARE_201908     1.0885      0.005    214.364      0.000       1.079       1.098\n",
      "BASE_MODELED_FARE_201909     1.1135      0.005    210.335      0.000       1.103       1.124\n",
      "BASE_MODELED_FARE_201910     1.0027      0.005    210.831      0.000       0.993       1.012\n",
      "BASE_MODELED_FARE_201911     0.9844      0.005    201.971      0.000       0.975       0.994\n",
      "BASE_MODELED_FARE_201912     1.0039      0.005    212.898      0.000       0.995       1.013\n",
      "BASE_MODELED_FARE_202001     1.0120      0.004    229.314      0.000       1.003       1.021\n",
      "BASE_MODELED_FARE_202002     1.1214      0.005    235.341      0.000       1.112       1.131\n",
      "==============================================================================\n",
      "Omnibus:                    42051.409   Durbin-Watson:                   1.868\n",
      "Prob(Omnibus):                  0.000   Jarque-Bera (JB):           523614.907\n",
      "Skew:                           1.294   Prob(JB):                         0.00\n",
      "Kurtosis:                      12.780   Cond. No.                         1.42\n",
      "==============================================================================\n",
      "\n",
      "Warnings:\n",
      "[1] Standard Errors assume that the covariance matrix of the errors is correctly specified.\n"
     ]
    }
   ],
   "source": [
    "#USE THIS MODEL TO SCALE MATCHED SHARED FARE MONTHLY\n",
    "\n",
    "results = smf.ols('FARE ~ BASE_MODELED_FARE_201811 \\\n",
    "                                + BASE_MODELED_FARE_201812 \\\n",
    "                                + BASE_MODELED_FARE_201901 \\\n",
    "                                + BASE_MODELED_FARE_201902 \\\n",
    "                                + BASE_MODELED_FARE_201903 \\\n",
    "                                + BASE_MODELED_FARE_201904 \\\n",
    "                                + BASE_MODELED_FARE_201905 \\\n",
    "                                + BASE_MODELED_FARE_201906 \\\n",
    "                                + BASE_MODELED_FARE_201907 \\\n",
    "                                + BASE_MODELED_FARE_201908 \\\n",
    "                                + BASE_MODELED_FARE_201909 \\\n",
    "                                + BASE_MODELED_FARE_201910 \\\n",
    "                                + BASE_MODELED_FARE_201911 \\\n",
    "                                + BASE_MODELED_FARE_201912 \\\n",
    "                                + BASE_MODELED_FARE_202001 \\\n",
    "                                + BASE_MODELED_FARE_202002 \\\n",
    "                                - 1', data=matched).fit()\n",
    "print(results.summary())"
   ]
  },
  {
   "cell_type": "code",
   "execution_count": 711,
   "metadata": {},
   "outputs": [
    {
     "data": {
      "text/html": [
       "<div>\n",
       "<style scoped>\n",
       "    .dataframe tbody tr th:only-of-type {\n",
       "        vertical-align: middle;\n",
       "    }\n",
       "\n",
       "    .dataframe tbody tr th {\n",
       "        vertical-align: top;\n",
       "    }\n",
       "\n",
       "    .dataframe thead th {\n",
       "        text-align: right;\n",
       "    }\n",
       "</style>\n",
       "<table border=\"1\" class=\"dataframe\">\n",
       "  <thead>\n",
       "    <tr style=\"text-align: right;\">\n",
       "      <th></th>\n",
       "      <th>Unnamed: 0</th>\n",
       "      <th>YEAR</th>\n",
       "      <th>MONTH</th>\n",
       "      <th>DOW</th>\n",
       "      <th>HOUR</th>\n",
       "      <th>ORIGIN</th>\n",
       "      <th>DESTINATION</th>\n",
       "      <th>TRAVEL_TIME_MINUTES</th>\n",
       "      <th>TRIP_LENGTH_MILES</th>\n",
       "      <th>ORIGIN_COM_AREA</th>\n",
       "      <th>DEST_COM_AREA</th>\n",
       "      <th>FARE</th>\n",
       "      <th>TIP</th>\n",
       "      <th>ADDITIONAL_CHARGES</th>\n",
       "      <th>TOTAL_COST</th>\n",
       "      <th>SHARED_FLAGGER</th>\n",
       "      <th>NUM_TRIPS_POOLED</th>\n",
       "      <th>SPEED</th>\n",
       "      <th>TRIP_ID</th>\n",
       "      <th>TRIP_START_TIME</th>\n",
       "      <th>TRIP_END_TIME</th>\n",
       "      <th>INTERNAL_UNSUPPRESSED_FLAGGER</th>\n",
       "      <th>INTERNAL_SUPPPRESSED_FLAGGER</th>\n",
       "      <th>EXTERNAL_FLAGGER</th>\n",
       "      <th>INTERNAL_EXTERNAL_FLAGGER</th>\n",
       "      <th>AIRPORT_FLAGGER</th>\n",
       "      <th>TOD_1</th>\n",
       "      <th>TOD_2</th>\n",
       "      <th>TOD_3</th>\n",
       "      <th>TOD_4</th>\n",
       "      <th>TOD_5</th>\n",
       "      <th>TRIP_TYPE</th>\n",
       "      <th>MINUTE</th>\n",
       "      <th>MATCHED_TRIP</th>\n",
       "      <th>UNMATCHED_TRIP</th>\n",
       "    </tr>\n",
       "  </thead>\n",
       "  <tbody>\n",
       "  </tbody>\n",
       "</table>\n",
       "</div>"
      ],
      "text/plain": [
       "Empty DataFrame\n",
       "Columns: [Unnamed: 0, YEAR, MONTH, DOW, HOUR, ORIGIN, DESTINATION, TRAVEL_TIME_MINUTES, TRIP_LENGTH_MILES, ORIGIN_COM_AREA, DEST_COM_AREA, FARE, TIP, ADDITIONAL_CHARGES, TOTAL_COST, SHARED_FLAGGER, NUM_TRIPS_POOLED, SPEED, TRIP_ID, TRIP_START_TIME, TRIP_END_TIME, INTERNAL_UNSUPPRESSED_FLAGGER, INTERNAL_SUPPPRESSED_FLAGGER, EXTERNAL_FLAGGER, INTERNAL_EXTERNAL_FLAGGER, AIRPORT_FLAGGER, TOD_1, TOD_2, TOD_3, TOD_4, TOD_5, TRIP_TYPE, MINUTE, MATCHED_TRIP, UNMATCHED_TRIP]\n",
       "Index: []"
      ]
     },
     "execution_count": 711,
     "metadata": {},
     "output_type": "execute_result"
    }
   ],
   "source": [
    "samp[(samp['YEAR'] == 2018)&(samp['MONTH'] == 1)&(samp['MATCHED_TRIP'] == 1)]"
   ]
  },
  {
   "cell_type": "code",
   "execution_count": 713,
   "metadata": {},
   "outputs": [
    {
     "data": {
      "text/plain": [
       "6.798229088168802"
      ]
     },
     "execution_count": 713,
     "metadata": {},
     "output_type": "execute_result"
    }
   ],
   "source": [
    "samp[(samp['YEAR'] == 2018)&(samp['MONTH'] == 11)&(samp['NUM_TRIPS_POOLED'] > 1)]['FARE'].mean()"
   ]
  },
  {
   "cell_type": "code",
   "execution_count": 708,
   "metadata": {},
   "outputs": [
    {
     "data": {
      "text/plain": [
       "6.757095158597663"
      ]
     },
     "execution_count": 708,
     "metadata": {},
     "output_type": "execute_result"
    }
   ],
   "source": [
    "unmatched[unmatched['YEAR_MONTH'] == 201811]['FARE'].mean()"
   ]
  },
  {
   "cell_type": "code",
   "execution_count": 709,
   "metadata": {},
   "outputs": [
    {
     "data": {
      "text/plain": [
       "6.798229088168802"
      ]
     },
     "execution_count": 709,
     "metadata": {},
     "output_type": "execute_result"
    }
   ],
   "source": [
    "matched[matched['YEAR_MONTH'] == 201811]['FARE'].mean()"
   ]
  },
  {
   "cell_type": "code",
   "execution_count": 706,
   "metadata": {},
   "outputs": [
    {
     "data": {
      "text/plain": [
       "10.200308166409862"
      ]
     },
     "execution_count": 706,
     "metadata": {},
     "output_type": "execute_result"
    }
   ],
   "source": [
    "matched[matched['YEAR_MONTH'] == 202002]['FARE'].mean()"
   ]
  },
  {
   "cell_type": "code",
   "execution_count": 705,
   "metadata": {},
   "outputs": [
    {
     "data": {
      "text/plain": [
       "8.82467729455573"
      ]
     },
     "execution_count": 705,
     "metadata": {},
     "output_type": "execute_result"
    }
   ],
   "source": [
    "matched[matched['YEAR_MONTH'] == 202002]['BASE_MODELED_FARE'].mean()"
   ]
  },
  {
   "cell_type": "code",
   "execution_count": 715,
   "metadata": {},
   "outputs": [
    {
     "name": "stdout",
     "output_type": "stream",
     "text": [
      "201905 : 7.8870165465434985\n",
      "201812 : 6.844060758387061\n",
      "201901 : 6.898929690219283\n",
      "201908 : 8.76939930618952\n",
      "201811 : 6.798229088168802\n",
      "201909 : 8.969473264166002\n",
      "202001 : 9.441608996539792\n",
      "201902 : 6.90315417384211\n",
      "201906 : 8.254403696217153\n",
      "201903 : 6.944919603147452\n",
      "201904 : 7.4905878945844195\n",
      "201907 : 8.468765251342118\n",
      "202002 : 10.200308166409862\n",
      "201910 : 8.976152143288388\n",
      "201911 : 9.09320729830732\n",
      "201912 : 9.63375796178344\n"
     ]
    }
   ],
   "source": [
    "for yr_mn in matched['YEAR_MONTH'].unique():\n",
    "    \n",
    "    print(str(yr_mn) + ' : ' + str(matched[matched['YEAR_MONTH'] == yr_mn].FARE.mean()))\n"
   ]
  },
  {
   "cell_type": "code",
   "execution_count": 717,
   "metadata": {},
   "outputs": [],
   "source": [
    "samp['YEAR_MONTH'] = samp['YEAR']*100 + samp['MONTH']\n"
   ]
  },
  {
   "cell_type": "code",
   "execution_count": 719,
   "metadata": {},
   "outputs": [
    {
     "name": "stdout",
     "output_type": "stream",
     "text": [
      "201908 : 10.357919107919107\n",
      "201910 : 10.62432583057673\n",
      "201911 : 10.491504503288269\n",
      "201905 : 11.14728953754657\n",
      "202002 : 10.266808697913541\n",
      "201904 : 10.483678667557852\n",
      "201901 : 9.120861235119047\n",
      "201906 : 11.569035304699797\n",
      "201907 : 10.246762549771146\n",
      "201903 : 9.53899870325588\n",
      "201912 : 10.263776913591956\n",
      "201812 : 9.426903160654048\n",
      "202001 : 10.033294867671819\n",
      "201909 : 10.708131755018014\n",
      "201902 : 9.446240558480202\n",
      "201811 : 9.60886914621292\n"
     ]
    }
   ],
   "source": [
    "for yr_mn in samp['YEAR_MONTH'].unique():\n",
    "    \n",
    "    print(str(yr_mn) + ' : ' + str(samp[samp['YEAR_MONTH'] == yr_mn].FARE.mean()))\n"
   ]
  },
  {
   "cell_type": "code",
   "execution_count": 720,
   "metadata": {},
   "outputs": [
    {
     "name": "stdout",
     "output_type": "stream",
     "text": [
      "201908 : 10.717752336131412\n",
      "201910 : 10.928003274009402\n",
      "201812 : 10.420673794874858\n",
      "201911 : 10.764778463264161\n",
      "202002 : 10.395704566144412\n",
      "201904 : 11.527148224457642\n",
      "201905 : 12.120505474493083\n",
      "201901 : 10.067979433902257\n",
      "201906 : 12.386372336353196\n",
      "202001 : 10.247204610951009\n",
      "201912 : 10.444462864721485\n",
      "201909 : 11.090934823274589\n",
      "201907 : 10.676916797061024\n",
      "201811 : 10.762195121951219\n",
      "201902 : 10.43131773496913\n",
      "201903 : 10.49599126239228\n"
     ]
    }
   ],
   "source": [
    "for yr_mn in private['YEAR_MONTH'].unique():\n",
    "    \n",
    "    print(str(yr_mn) + ' : ' + str(private[private['YEAR_MONTH'] == yr_mn].FARE.mean()))\n"
   ]
  },
  {
   "cell_type": "code",
   "execution_count": 725,
   "metadata": {},
   "outputs": [
    {
     "name": "stdout",
     "output_type": "stream",
     "text": [
      "201911 : 8.8173446948873\n",
      "201905 : 7.898161192259213\n",
      "201908 : 8.532652358544704\n",
      "201812 : 6.87897235622942\n",
      "201901 : 6.891221612178687\n",
      "201811 : 6.785436137071651\n",
      "202001 : 9.055186590765338\n",
      "201909 : 8.751101044419277\n",
      "201903 : 6.951385733757383\n",
      "201910 : 8.810180541624874\n",
      "202002 : 9.61440523826846\n",
      "201904 : 7.431038150616934\n",
      "201912 : 9.170234113712375\n",
      "201902 : 6.9153788549254545\n",
      "201907 : 8.280909938853767\n",
      "201906 : 8.278103164817098\n"
     ]
    }
   ],
   "source": [
    "for yr_mn in shared['YEAR_MONTH'].unique():\n",
    "    \n",
    "    print(str(yr_mn) + ' : ' + str(shared[shared['YEAR_MONTH'] == yr_mn].FARE.mean()))\n"
   ]
  },
  {
   "cell_type": "code",
   "execution_count": 726,
   "metadata": {},
   "outputs": [
    {
     "name": "stdout",
     "output_type": "stream",
     "text": [
      "201905 : 7.8870165465434985\n",
      "201812 : 6.844060758387061\n",
      "201901 : 6.898929690219283\n",
      "201908 : 8.76939930618952\n",
      "201811 : 6.798229088168802\n",
      "201909 : 8.969473264166002\n",
      "202001 : 9.441608996539792\n",
      "201902 : 6.90315417384211\n",
      "201906 : 8.254403696217153\n",
      "201903 : 6.944919603147452\n",
      "201904 : 7.4905878945844195\n",
      "201907 : 8.468765251342118\n",
      "202002 : 10.200308166409862\n",
      "201910 : 8.976152143288388\n",
      "201911 : 9.09320729830732\n",
      "201912 : 9.63375796178344\n"
     ]
    }
   ],
   "source": [
    "for yr_mn in matched['YEAR_MONTH'].unique():\n",
    "    \n",
    "    print(str(yr_mn) + ' : ' + str(matched[matched['YEAR_MONTH'] == yr_mn].FARE.mean()))\n"
   ]
  },
  {
   "cell_type": "code",
   "execution_count": 727,
   "metadata": {},
   "outputs": [
    {
     "name": "stdout",
     "output_type": "stream",
     "text": [
      "201911 : 8.357169050238356\n",
      "202002 : 8.618657937806875\n",
      "201811 : 6.757095158597663\n",
      "201901 : 6.871693121693122\n",
      "201908 : 8.13195302843016\n",
      "201906 : 8.336600142551674\n",
      "201905 : 7.928355335533554\n",
      "201910 : 8.536260811709914\n",
      "201904 : 7.266230296553567\n",
      "201902 : 6.952270240700219\n",
      "201907 : 7.953441873750357\n",
      "201812 : 6.960721596724667\n",
      "201909 : 8.378194207836456\n",
      "202001 : 8.45250944414463\n",
      "201903 : 6.971736204576043\n",
      "201912 : 8.44798083504449\n"
     ]
    }
   ],
   "source": [
    "for yr_mn in unmatched['YEAR_MONTH'].unique():\n",
    "    \n",
    "    print(str(yr_mn) + ' : ' + str(unmatched[unmatched['YEAR_MONTH'] == yr_mn].FARE.mean()))\n"
   ]
  },
  {
   "cell_type": "code",
   "execution_count": 728,
   "metadata": {},
   "outputs": [
    {
     "name": "stdout",
     "output_type": "stream",
     "text": [
      "201911 : 2727\n",
      "202002 : 3055\n",
      "201811 : 4792\n",
      "201901 : 4536\n",
      "201908 : 3236\n",
      "201906 : 2806\n",
      "201905 : 3636\n",
      "201910 : 3006\n",
      "201904 : 3743\n",
      "201902 : 3656\n",
      "201907 : 3501\n",
      "201812 : 3908\n",
      "201909 : 2935\n",
      "202001 : 3706\n",
      "201903 : 3715\n",
      "201912 : 2922\n"
     ]
    }
   ],
   "source": [
    "for yr_mn in unmatched['YEAR_MONTH'].unique():\n",
    "    \n",
    "    print(str(yr_mn) + ' : ' + str(len(unmatched[unmatched['YEAR_MONTH'] == yr_mn])))\n"
   ]
  },
  {
   "cell_type": "code",
   "execution_count": 723,
   "metadata": {},
   "outputs": [
    {
     "name": "stdout",
     "output_type": "stream",
     "text": [
      "201905 : 9851\n",
      "201812 : 9151\n",
      "201901 : 11492\n",
      "201908 : 5477\n",
      "201811 : 10616\n",
      "201909 : 5012\n",
      "202001 : 5780\n",
      "201902 : 11033\n",
      "201906 : 6926\n",
      "201903 : 11692\n",
      "201904 : 10359\n",
      "201907 : 6147\n",
      "202002 : 5192\n",
      "201910 : 4969\n",
      "201911 : 4549\n",
      "201912 : 4553\n"
     ]
    }
   ],
   "source": [
    "for yr_mn in matched['YEAR_MONTH'].unique():\n",
    "    \n",
    "    print(str(yr_mn) + ' : ' + str(len(matched[matched['YEAR_MONTH'] == yr_mn])))\n"
   ]
  },
  {
   "cell_type": "code",
   "execution_count": null,
   "metadata": {},
   "outputs": [],
   "source": []
  },
  {
   "cell_type": "code",
   "execution_count": null,
   "metadata": {},
   "outputs": [],
   "source": []
  },
  {
   "cell_type": "code",
   "execution_count": null,
   "metadata": {},
   "outputs": [],
   "source": []
  },
  {
   "cell_type": "code",
   "execution_count": null,
   "metadata": {},
   "outputs": [],
   "source": []
  },
  {
   "cell_type": "code",
   "execution_count": null,
   "metadata": {},
   "outputs": [],
   "source": [
    "#PROBABILITY MODEL FOR SHARED VS PRIVATE"
   ]
  },
  {
   "cell_type": "code",
   "execution_count": null,
   "metadata": {},
   "outputs": [],
   "source": [
    "#MAKE A PROBABILITY LOGIT MODEL FOR A SHARED TRIP BEING MATCHED\n",
    "#TRIP LENGTH, POPULATION DENSITY, TRAVEL TIME,  USE THE TORONTON MODEL "
   ]
  }
 ],
 "metadata": {
  "kernelspec": {
   "display_name": "Python 3",
   "language": "python",
   "name": "python3"
  },
  "language_info": {
   "codemirror_mode": {
    "name": "ipython",
    "version": 3
   },
   "file_extension": ".py",
   "mimetype": "text/x-python",
   "name": "python",
   "nbconvert_exporter": "python",
   "pygments_lexer": "ipython3",
   "version": "3.7.6"
  }
 },
 "nbformat": 4,
 "nbformat_minor": 4
}
