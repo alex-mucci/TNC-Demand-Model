{
 "cells": [
  {
   "cell_type": "code",
   "execution_count": 1,
   "metadata": {},
   "outputs": [],
   "source": [
    "import numpy as np\n",
    "import pandas as pd\n",
    "import seaborn as sns"
   ]
  },
  {
   "cell_type": "code",
   "execution_count": 2,
   "metadata": {},
   "outputs": [],
   "source": []
  },
  {
   "cell_type": "code",
   "execution_count": 3,
   "metadata": {},
   "outputs": [],
   "source": []
  },
  {
   "cell_type": "code",
   "execution_count": null,
   "metadata": {
    "scrolled": true
   },
   "outputs": [],
   "source": []
  },
  {
   "cell_type": "code",
   "execution_count": null,
   "metadata": {},
   "outputs": [],
   "source": []
  },
  {
   "cell_type": "code",
   "execution_count": null,
   "metadata": {},
   "outputs": [],
   "source": []
  },
  {
   "cell_type": "code",
   "execution_count": null,
   "metadata": {},
   "outputs": [],
   "source": []
  },
  {
   "cell_type": "code",
   "execution_count": null,
   "metadata": {},
   "outputs": [],
   "source": []
  },
  {
   "cell_type": "code",
   "execution_count": null,
   "metadata": {},
   "outputs": [],
   "source": []
  },
  {
   "cell_type": "code",
   "execution_count": null,
   "metadata": {},
   "outputs": [],
   "source": [
    "empty =  pd.read_csv('C:/Workspace/TNC-Demand-Model/Outputs/Empty_Chicago_Matrix.csv', index_col = 0)"
   ]
  },
  {
   "cell_type": "code",
   "execution_count": null,
   "metadata": {},
   "outputs": [],
   "source": [
    "len(empty)"
   ]
  },
  {
   "cell_type": "code",
   "execution_count": null,
   "metadata": {},
   "outputs": [],
   "source": [
    "empty = empty.groupby(by =['YEAR','MONTH','TOD','DESTINATION'], as_index = False).first()"
   ]
  },
  {
   "cell_type": "code",
   "execution_count": null,
   "metadata": {},
   "outputs": [],
   "source": [
    "empty = empty.drop('ORIGIN', axis = 1)"
   ]
  },
  {
   "cell_type": "code",
   "execution_count": null,
   "metadata": {},
   "outputs": [],
   "source": [
    "df2 = pd.read_csv('C:/Workspace/TNC-Demand-Model/Outputs/Sample.csv', index_col = 0)"
   ]
  },
  {
   "cell_type": "code",
   "execution_count": null,
   "metadata": {},
   "outputs": [],
   "source": [
    "empty['AIR_F'] = np.where((empty['DESTINATION'].isin([17031980000,17031980100])),1,0)"
   ]
  },
  {
   "cell_type": "code",
   "execution_count": null,
   "metadata": {},
   "outputs": [],
   "source": [
    "df2['TOD_1'] = np.where( (df2['HOUR'] <  6)|(df2['HOUR'] >= 22), 1,0)\n",
    "df2['TOD'] = np.where( (df2['HOUR'] <  6)|(df2['HOUR'] >= 22), 1,0)\n",
    "\n",
    "df2['TOD_2'] = np.where( (df2['HOUR'] <  9)&(df2['HOUR'] >= 6), 1,0)\n",
    "df2['TOD'] = np.where( (df2['HOUR'] <  9)&(df2['HOUR'] >= 6), 2,df2['TOD'])\n",
    "\n",
    "df2['TOD_3'] = np.where( (df2['HOUR'] <  16)&(df2['HOUR'] >= 9), 1,0)\n",
    "df2['TOD'] = np.where( (df2['HOUR'] <  16)&(df2['HOUR'] >= 9), 3,df2['TOD'])\n",
    "\n",
    "df2['TOD_4'] = np.where( (df2['HOUR'] <  19)&(df2['HOUR'] >= 16), 1,0)\n",
    "df2['TOD'] = np.where( (df2['HOUR'] <  19)&(df2['HOUR'] >= 16), 4,df2['TOD'])\n",
    "\n",
    "df2['TOD_5'] = np.where( (df2['HOUR'] <  22)&(df2['HOUR'] >= 19), 1,0)\n",
    "df2['TOD'] = np.where( (df2['HOUR'] <  22)&(df2['HOUR'] >= 19), 5,df2['TOD'])\n"
   ]
  },
  {
   "cell_type": "code",
   "execution_count": null,
   "metadata": {},
   "outputs": [],
   "source": [
    "df2.TOD.unique()"
   ]
  },
  {
   "cell_type": "code",
   "execution_count": null,
   "metadata": {},
   "outputs": [],
   "source": []
  },
  {
   "cell_type": "code",
   "execution_count": null,
   "metadata": {},
   "outputs": [],
   "source": []
  },
  {
   "cell_type": "code",
   "execution_count": null,
   "metadata": {},
   "outputs": [],
   "source": []
  },
  {
   "cell_type": "code",
   "execution_count": null,
   "metadata": {},
   "outputs": [],
   "source": []
  },
  {
   "cell_type": "code",
   "execution_count": null,
   "metadata": {},
   "outputs": [],
   "source": []
  },
  {
   "cell_type": "code",
   "execution_count": null,
   "metadata": {},
   "outputs": [],
   "source": []
  },
  {
   "cell_type": "code",
   "execution_count": null,
   "metadata": {},
   "outputs": [],
   "source": []
  },
  {
   "cell_type": "code",
   "execution_count": null,
   "metadata": {},
   "outputs": [],
   "source": []
  },
  {
   "cell_type": "code",
   "execution_count": null,
   "metadata": {},
   "outputs": [],
   "source": []
  },
  {
   "cell_type": "code",
   "execution_count": null,
   "metadata": {},
   "outputs": [],
   "source": []
  },
  {
   "cell_type": "code",
   "execution_count": null,
   "metadata": {},
   "outputs": [],
   "source": []
  },
  {
   "cell_type": "code",
   "execution_count": null,
   "metadata": {},
   "outputs": [],
   "source": []
  },
  {
   "cell_type": "code",
   "execution_count": null,
   "metadata": {},
   "outputs": [],
   "source": []
  },
  {
   "cell_type": "code",
   "execution_count": 10,
   "metadata": {},
   "outputs": [],
   "source": [
    "df2['DROPOFFS'] = 1\n",
    "df2['SHARED_DROPOFFS'] = np.where(df2['SHARED_FLAGGER'] == 1,1,0)\n",
    "df2['PRIVATE_DROPOFFS'] = np.where(df2['SHARED_FLAGGER'] == 0,1,0)"
   ]
  },
  {
   "cell_type": "code",
   "execution_count": 11,
   "metadata": {},
   "outputs": [],
   "source": [
    "drop = ['HOUR','ORIGIN_COM_AREA','DEST_COM_AREA','ORIGIN','TOD_1',\n",
    "'TOD_2',\n",
    "'TOD_3',\n",
    "'TOD_4',\n",
    "'TOD_5',\n",
    "'SHARED_FLAGGER','TRIP_ID','TRIP_START_TIME','TRIP_END_TIME','INTERNAL_UNSUPPRESSED_FLAGGER','INTERNAL_SUPPPRESSED_FLAGGER','EXTERNAL_FLAGGER','INTERNAL_EXTERNAL_FLAGGER','TRIP_TYPE']"
   ]
  },
  {
   "cell_type": "code",
   "execution_count": 12,
   "metadata": {},
   "outputs": [],
   "source": [
    "df2 = df2.drop(drop, axis = 1)"
   ]
  },
  {
   "cell_type": "code",
   "execution_count": 13,
   "metadata": {},
   "outputs": [],
   "source": [
    "agg = {'DROPOFFS':'sum','PRIVATE_DROPOFFS':'sum','SHARED_DROPOFFS':'sum',\n",
    "'TRAVEL_TIME_MINUTES':'mean',\n",
    "'TRIP_LENGTH_MILES':'mean',\n",
    "'FARE':'mean',\n",
    "'TIP':'mean',\n",
    "'ADDITIONAL_CHARGES':'mean',\n",
    "'TOTAL_COST':'mean',\n",
    "'NUM_TRIPS_POOLED':'sum',\n",
    "'SPEED':'mean'}"
   ]
  },
  {
   "cell_type": "code",
   "execution_count": null,
   "metadata": {},
   "outputs": [],
   "source": [
    "df2 = df2.groupby(by =['YEAR','MONTH','TOD','DESTINATION'], as_index = False).agg(agg)"
   ]
  },
  {
   "cell_type": "code",
   "execution_count": 16,
   "metadata": {},
   "outputs": [],
   "source": [
    "wd = pd.read_csv('C:/Workspace/TNC-Demand-Model/Outputs/Number of Weekdays.csv')"
   ]
  },
  {
   "cell_type": "code",
   "execution_count": 17,
   "metadata": {},
   "outputs": [],
   "source": [
    "df2 = df2.merge(wd, on = ['YEAR','MONTH'])"
   ]
  },
  {
   "cell_type": "code",
   "execution_count": 19,
   "metadata": {},
   "outputs": [],
   "source": [
    "df2['DROPOFFS_AVG'] = df2['DROPOFFS']/df2['WEEKDAYS']"
   ]
  },
  {
   "cell_type": "code",
   "execution_count": null,
   "metadata": {},
   "outputs": [],
   "source": [
    "df2['DROPOFFS_AVG'].mean()"
   ]
  },
  {
   "cell_type": "code",
   "execution_count": 22,
   "metadata": {},
   "outputs": [
    {
     "data": {
      "text/plain": [
       "72.55"
      ]
     },
     "execution_count": 22,
     "metadata": {},
     "output_type": "execute_result"
    }
   ],
   "source": [
    "df2['DROPOFFS_AVG'].max()"
   ]
  },
  {
   "cell_type": "code",
   "execution_count": 23,
   "metadata": {},
   "outputs": [
    {
     "data": {
      "text/plain": [
       "0.043478260869565216"
      ]
     },
     "execution_count": 23,
     "metadata": {},
     "output_type": "execute_result"
    }
   ],
   "source": [
    "df2['DROPOFFS_AVG'].min()"
   ]
  },
  {
   "cell_type": "code",
   "execution_count": 24,
   "metadata": {},
   "outputs": [
    {
     "data": {
      "text/plain": [
       "array([1, 2, 3, 4, 5], dtype=int64)"
      ]
     },
     "execution_count": 24,
     "metadata": {},
     "output_type": "execute_result"
    }
   ],
   "source": [
    "df2.TOD.unique()"
   ]
  },
  {
   "cell_type": "code",
   "execution_count": 19,
   "metadata": {},
   "outputs": [],
   "source": []
  },
  {
   "cell_type": "code",
   "execution_count": 25,
   "metadata": {},
   "outputs": [
    {
     "data": {
      "text/plain": [
       "0.8308167316281229"
      ]
     },
     "execution_count": 25,
     "metadata": {},
     "output_type": "execute_result"
    }
   ],
   "source": [
    "df2['DROPOFFS_AVG'].mean()"
   ]
  },
  {
   "cell_type": "code",
   "execution_count": 26,
   "metadata": {},
   "outputs": [
    {
     "data": {
      "text/plain": [
       "72.55"
      ]
     },
     "execution_count": 26,
     "metadata": {},
     "output_type": "execute_result"
    }
   ],
   "source": [
    "df2['DROPOFFS_AVG'].max()"
   ]
  },
  {
   "cell_type": "code",
   "execution_count": 27,
   "metadata": {},
   "outputs": [
    {
     "data": {
      "text/plain": [
       "0.043478260869565216"
      ]
     },
     "execution_count": 27,
     "metadata": {},
     "output_type": "execute_result"
    }
   ],
   "source": [
    "df2['DROPOFFS_AVG'].min()"
   ]
  },
  {
   "cell_type": "code",
   "execution_count": 28,
   "metadata": {},
   "outputs": [
    {
     "data": {
      "text/plain": [
       "64080"
      ]
     },
     "execution_count": 28,
     "metadata": {},
     "output_type": "execute_result"
    }
   ],
   "source": [
    "len(empty)"
   ]
  },
  {
   "cell_type": "code",
   "execution_count": 29,
   "metadata": {},
   "outputs": [],
   "source": [
    "df2 = empty.merge(df2, how ='left',on = ['DESTINATION','MONTH','YEAR','TOD'])"
   ]
  },
  {
   "cell_type": "code",
   "execution_count": 30,
   "metadata": {},
   "outputs": [
    {
     "data": {
      "text/plain": [
       "64080"
      ]
     },
     "execution_count": 30,
     "metadata": {},
     "output_type": "execute_result"
    }
   ],
   "source": [
    "len(df2)"
   ]
  },
  {
   "cell_type": "code",
   "execution_count": 31,
   "metadata": {},
   "outputs": [],
   "source": [
    "df2['DROPOFFS_AVG'] = df2['DROPOFFS_AVG'].fillna(0)"
   ]
  },
  {
   "cell_type": "code",
   "execution_count": 32,
   "metadata": {},
   "outputs": [],
   "source": [
    "acs = pd.read_csv('C:/Workspace/TNC-Demand-Model/Outputs/Chicago_ACS_Data.csv')"
   ]
  },
  {
   "cell_type": "code",
   "execution_count": 33,
   "metadata": {},
   "outputs": [],
   "source": [
    "acs['HHLDS_LESS_35K'] = acs['TOTAL_HHLDS_LESS_10K'] + acs['TOTAL_HHLDS_10K_15K'] + acs['TOTAL_HHLDS_15K_25K'] + acs['TOTAL_HHLDS_25K_35K']\n",
    "acs['HHLDS_35K_150K'] = acs['TOTAL_HHLDS_35K_50K'] + acs['TOTAL_HHLDS_50K_75K'] + acs['TOTAL_HHLDS_75K_100K'] + acs['TOTAL_HHLDS_100K_150K']\n",
    "acs['HHLDS_MORE_150K'] =  acs['TOTAL_HHLDS_150K_200K'] + acs['TOTAL_HHLDS_200KP']"
   ]
  },
  {
   "cell_type": "code",
   "execution_count": 34,
   "metadata": {},
   "outputs": [],
   "source": [
    "acs['T20_35'] = acs['AGE_20_24'] + acs['AGE_25_34']\n",
    "acs['T35_65'] = acs['AGE_35_44'] + acs['AGE_45_54'] + acs['AGE_55_59'] + acs['AGE_60_64']\n",
    "acs['T65P'] = acs['AGE_65_74'] + acs['AGE_75_84'] + acs['AGE_85P']\n",
    "\n",
    "\n",
    "acs['PER_20_35'] = (acs['T20_35']/acs['TOTAL_POP'])*100\n",
    "acs['PER_35_65'] = (acs['T35_65']/acs['TOTAL_POP'])*100\n",
    "acs['PER_65P'] = (acs['T65P']/acs['TOTAL_POP'])*100"
   ]
  },
  {
   "cell_type": "code",
   "execution_count": 35,
   "metadata": {},
   "outputs": [],
   "source": [
    "acs['P_BACH_25P'] = (acs['TOTAL_POP_25P_BACHELORS_HIGHER']/acs['TOTAL_POP'])*100"
   ]
  },
  {
   "cell_type": "code",
   "execution_count": 36,
   "metadata": {},
   "outputs": [],
   "source": [
    "acs2 = acs[['PER_20_35','P_BACH_25P','PER_35_65','PER_65P','YEAR','MONTH','TOD','CENSUS_TRACT','TOTAL_POP','TOTAL_HHLDS','AVG_HHLD_SIZE','HHLDS_MEAN_INCOME','HHLDS_LESS_35K','HHLDS_35K_150K','HHLDS_MORE_150K','HHLDS_0_VEH','AVG_VEH_PER_HHLD','HHLDS_MEDIAN_INCOME','TOTAL_POP_25P_BACHELORS_HIGHER','TOTAL_MALE', 'TOTAL_FEMALE','MEDIAN_AGE']]"
   ]
  },
  {
   "cell_type": "code",
   "execution_count": 37,
   "metadata": {},
   "outputs": [
    {
     "data": {
      "text/html": [
       "<div>\n",
       "<style scoped>\n",
       "    .dataframe tbody tr th:only-of-type {\n",
       "        vertical-align: middle;\n",
       "    }\n",
       "\n",
       "    .dataframe tbody tr th {\n",
       "        vertical-align: top;\n",
       "    }\n",
       "\n",
       "    .dataframe thead th {\n",
       "        text-align: right;\n",
       "    }\n",
       "</style>\n",
       "<table border=\"1\" class=\"dataframe\">\n",
       "  <thead>\n",
       "    <tr style=\"text-align: right;\">\n",
       "      <th></th>\n",
       "      <th>PER_20_35</th>\n",
       "      <th>P_BACH_25P</th>\n",
       "      <th>PER_35_65</th>\n",
       "      <th>PER_65P</th>\n",
       "      <th>YEAR</th>\n",
       "      <th>MONTH</th>\n",
       "      <th>TOD</th>\n",
       "      <th>CENSUS_TRACT</th>\n",
       "      <th>TOTAL_POP</th>\n",
       "      <th>TOTAL_HHLDS</th>\n",
       "      <th>...</th>\n",
       "      <th>HHLDS_LESS_35K</th>\n",
       "      <th>HHLDS_35K_150K</th>\n",
       "      <th>HHLDS_MORE_150K</th>\n",
       "      <th>HHLDS_0_VEH</th>\n",
       "      <th>AVG_VEH_PER_HHLD</th>\n",
       "      <th>HHLDS_MEDIAN_INCOME</th>\n",
       "      <th>TOTAL_POP_25P_BACHELORS_HIGHER</th>\n",
       "      <th>TOTAL_MALE</th>\n",
       "      <th>TOTAL_FEMALE</th>\n",
       "      <th>MEDIAN_AGE</th>\n",
       "    </tr>\n",
       "  </thead>\n",
       "  <tbody>\n",
       "    <tr>\n",
       "      <th>0</th>\n",
       "      <td>28.217603</td>\n",
       "      <td>32.795223</td>\n",
       "      <td>45.687749</td>\n",
       "      <td>5.572755</td>\n",
       "      <td>2018</td>\n",
       "      <td>11</td>\n",
       "      <td>1</td>\n",
       "      <td>17031010100</td>\n",
       "      <td>4522.0</td>\n",
       "      <td>2316.0</td>\n",
       "      <td>...</td>\n",
       "      <td>48.8</td>\n",
       "      <td>45.0</td>\n",
       "      <td>6.3</td>\n",
       "      <td>1162.0</td>\n",
       "      <td>0.665803</td>\n",
       "      <td>37985.0</td>\n",
       "      <td>1483.0</td>\n",
       "      <td>2301.0</td>\n",
       "      <td>2221.0</td>\n",
       "      <td>35.3</td>\n",
       "    </tr>\n",
       "    <tr>\n",
       "      <th>1</th>\n",
       "      <td>21.082540</td>\n",
       "      <td>21.380878</td>\n",
       "      <td>45.389970</td>\n",
       "      <td>6.591845</td>\n",
       "      <td>2018</td>\n",
       "      <td>11</td>\n",
       "      <td>1</td>\n",
       "      <td>17031010201</td>\n",
       "      <td>7039.0</td>\n",
       "      <td>2688.0</td>\n",
       "      <td>...</td>\n",
       "      <td>47.8</td>\n",
       "      <td>49.4</td>\n",
       "      <td>2.8</td>\n",
       "      <td>751.0</td>\n",
       "      <td>0.988095</td>\n",
       "      <td>39549.0</td>\n",
       "      <td>1505.0</td>\n",
       "      <td>3701.0</td>\n",
       "      <td>3338.0</td>\n",
       "      <td>36.3</td>\n",
       "    </tr>\n",
       "    <tr>\n",
       "      <th>2</th>\n",
       "      <td>24.684432</td>\n",
       "      <td>23.457223</td>\n",
       "      <td>38.639551</td>\n",
       "      <td>13.394109</td>\n",
       "      <td>2018</td>\n",
       "      <td>11</td>\n",
       "      <td>1</td>\n",
       "      <td>17031010202</td>\n",
       "      <td>2852.0</td>\n",
       "      <td>1102.0</td>\n",
       "      <td>...</td>\n",
       "      <td>46.3</td>\n",
       "      <td>50.0</td>\n",
       "      <td>3.6</td>\n",
       "      <td>464.0</td>\n",
       "      <td>0.768603</td>\n",
       "      <td>38370.0</td>\n",
       "      <td>669.0</td>\n",
       "      <td>1390.0</td>\n",
       "      <td>1462.0</td>\n",
       "      <td>35.7</td>\n",
       "    </tr>\n",
       "    <tr>\n",
       "      <th>3</th>\n",
       "      <td>20.571429</td>\n",
       "      <td>30.977444</td>\n",
       "      <td>43.984962</td>\n",
       "      <td>18.751880</td>\n",
       "      <td>2018</td>\n",
       "      <td>11</td>\n",
       "      <td>1</td>\n",
       "      <td>17031010300</td>\n",
       "      <td>6650.0</td>\n",
       "      <td>3037.0</td>\n",
       "      <td>...</td>\n",
       "      <td>44.3</td>\n",
       "      <td>47.0</td>\n",
       "      <td>8.6</td>\n",
       "      <td>993.0</td>\n",
       "      <td>0.932170</td>\n",
       "      <td>38866.0</td>\n",
       "      <td>2060.0</td>\n",
       "      <td>3294.0</td>\n",
       "      <td>3356.0</td>\n",
       "      <td>41.6</td>\n",
       "    </tr>\n",
       "    <tr>\n",
       "      <th>4</th>\n",
       "      <td>33.883175</td>\n",
       "      <td>33.087522</td>\n",
       "      <td>27.634388</td>\n",
       "      <td>6.617504</td>\n",
       "      <td>2018</td>\n",
       "      <td>11</td>\n",
       "      <td>1</td>\n",
       "      <td>17031010400</td>\n",
       "      <td>5153.0</td>\n",
       "      <td>1938.0</td>\n",
       "      <td>...</td>\n",
       "      <td>41.5</td>\n",
       "      <td>53.2</td>\n",
       "      <td>5.2</td>\n",
       "      <td>655.0</td>\n",
       "      <td>0.762126</td>\n",
       "      <td>39152.0</td>\n",
       "      <td>1705.0</td>\n",
       "      <td>2405.0</td>\n",
       "      <td>2748.0</td>\n",
       "      <td>25.2</td>\n",
       "    </tr>\n",
       "  </tbody>\n",
       "</table>\n",
       "<p>5 rows × 22 columns</p>\n",
       "</div>"
      ],
      "text/plain": [
       "   PER_20_35  P_BACH_25P  PER_35_65    PER_65P  YEAR  MONTH  TOD  \\\n",
       "0  28.217603   32.795223  45.687749   5.572755  2018     11    1   \n",
       "1  21.082540   21.380878  45.389970   6.591845  2018     11    1   \n",
       "2  24.684432   23.457223  38.639551  13.394109  2018     11    1   \n",
       "3  20.571429   30.977444  43.984962  18.751880  2018     11    1   \n",
       "4  33.883175   33.087522  27.634388   6.617504  2018     11    1   \n",
       "\n",
       "   CENSUS_TRACT  TOTAL_POP  TOTAL_HHLDS  ...  HHLDS_LESS_35K  HHLDS_35K_150K  \\\n",
       "0   17031010100     4522.0       2316.0  ...            48.8            45.0   \n",
       "1   17031010201     7039.0       2688.0  ...            47.8            49.4   \n",
       "2   17031010202     2852.0       1102.0  ...            46.3            50.0   \n",
       "3   17031010300     6650.0       3037.0  ...            44.3            47.0   \n",
       "4   17031010400     5153.0       1938.0  ...            41.5            53.2   \n",
       "\n",
       "   HHLDS_MORE_150K  HHLDS_0_VEH  AVG_VEH_PER_HHLD  HHLDS_MEDIAN_INCOME  \\\n",
       "0              6.3       1162.0          0.665803              37985.0   \n",
       "1              2.8        751.0          0.988095              39549.0   \n",
       "2              3.6        464.0          0.768603              38370.0   \n",
       "3              8.6        993.0          0.932170              38866.0   \n",
       "4              5.2        655.0          0.762126              39152.0   \n",
       "\n",
       "   TOTAL_POP_25P_BACHELORS_HIGHER  TOTAL_MALE  TOTAL_FEMALE  MEDIAN_AGE  \n",
       "0                          1483.0      2301.0        2221.0        35.3  \n",
       "1                          1505.0      3701.0        3338.0        36.3  \n",
       "2                           669.0      1390.0        1462.0        35.7  \n",
       "3                          2060.0      3294.0        3356.0        41.6  \n",
       "4                          1705.0      2405.0        2748.0        25.2  \n",
       "\n",
       "[5 rows x 22 columns]"
      ]
     },
     "execution_count": 37,
     "metadata": {},
     "output_type": "execute_result"
    }
   ],
   "source": [
    "acs2.head()"
   ]
  },
  {
   "cell_type": "code",
   "execution_count": 38,
   "metadata": {},
   "outputs": [],
   "source": [
    "lehd = pd.read_csv('C:/Workspace/TNC-Demand-Model/Outputs/CHI_WAC.csv',index_col = 0)"
   ]
  },
  {
   "cell_type": "code",
   "execution_count": 39,
   "metadata": {},
   "outputs": [],
   "source": [
    "lehd['TOTAL_EMP'] = lehd['CNS01'] + lehd['CNS02'] + lehd['CNS03'] + lehd['CNS04'] + lehd['CNS05'] + lehd['CNS06'] + lehd['CNS07'] + lehd['CNS08'] + lehd['CNS09'] + lehd['CNS10'] + lehd['CNS11'] + lehd['CNS12'] + lehd['CNS13'] + lehd['CNS14'] + lehd['CNS15'] + lehd['CNS16'] + lehd['CNS17'] + lehd['CNS18'] + lehd['CNS19'] + lehd['CNS20']"
   ]
  },
  {
   "cell_type": "code",
   "execution_count": 40,
   "metadata": {},
   "outputs": [],
   "source": [
    "lehd['OTHER_EMP'] = lehd['CNS01'] + lehd['CNS02'] + lehd['CNS03'] + lehd['CNS04'] + lehd['CNS05'] + lehd['CNS06'] + lehd['CNS08'] + lehd['CNS09'] + lehd['CNS10'] + lehd['CNS11'] + lehd['CNS12'] + lehd['CNS13'] + lehd['CNS14'] + lehd['CNS15'] + lehd['CNS16'] + lehd['CNS17'] + lehd['CNS19'] + lehd['CNS20']"
   ]
  },
  {
   "cell_type": "code",
   "execution_count": 41,
   "metadata": {},
   "outputs": [],
   "source": [
    "lehd['RETAIL_EMP'] = lehd['CNS07']"
   ]
  },
  {
   "cell_type": "code",
   "execution_count": 42,
   "metadata": {},
   "outputs": [],
   "source": [
    "lehd['FOOD_EMP'] = lehd['CNS18']"
   ]
  },
  {
   "cell_type": "code",
   "execution_count": 43,
   "metadata": {},
   "outputs": [],
   "source": [
    "lehd['PER_RETAIL'] = lehd['RETAIL_EMP']/lehd['TOTAL_EMP']\n",
    "lehd['PER_FOOD'] = lehd['FOOD_EMP']/lehd['TOTAL_EMP']\n",
    "lehd['PER_OTHER'] = lehd['OTHER_EMP']/lehd['TOTAL_EMP']"
   ]
  },
  {
   "cell_type": "code",
   "execution_count": 44,
   "metadata": {},
   "outputs": [],
   "source": [
    "access = pd.read_csv('C:/Workspace/TNC-Demand-Model/Outputs/Trip_Generation_Accessibility_Variables.csv',index_col = 0)"
   ]
  },
  {
   "cell_type": "code",
   "execution_count": 45,
   "metadata": {},
   "outputs": [],
   "source": [
    "access['DESTINATION'] = access['ORIGIN']"
   ]
  },
  {
   "cell_type": "code",
   "execution_count": 46,
   "metadata": {},
   "outputs": [],
   "source": [
    "df2 = df2.merge(access, on = ['DESTINATION','MONTH','YEAR','TOD'], how = 'left')"
   ]
  },
  {
   "cell_type": "code",
   "execution_count": null,
   "metadata": {},
   "outputs": [],
   "source": []
  },
  {
   "cell_type": "code",
   "execution_count": 47,
   "metadata": {},
   "outputs": [],
   "source": [
    "df2['TRACTCE10'] = df2.DESTINATION.astype(str)\n",
    "df2['TRACTCE10'] = df2['TRACTCE10'].apply(lambda x : x[5:11])\n",
    "df2['TRACTCE10'] = df2['TRACTCE10'].astype(int)"
   ]
  },
  {
   "cell_type": "code",
   "execution_count": 48,
   "metadata": {},
   "outputs": [
    {
     "data": {
      "text/plain": [
       "0        1\n",
       "1        1\n",
       "2        1\n",
       "3        1\n",
       "4        1\n",
       "        ..\n",
       "64075    5\n",
       "64076    5\n",
       "64077    5\n",
       "64078    5\n",
       "64079    5\n",
       "Name: TOD, Length: 64080, dtype: int64"
      ]
     },
     "execution_count": 48,
     "metadata": {},
     "output_type": "execute_result"
    }
   ],
   "source": [
    "df2.TOD"
   ]
  },
  {
   "cell_type": "code",
   "execution_count": 49,
   "metadata": {},
   "outputs": [],
   "source": [
    "df2 = df2.merge(lehd[['PER_OTHER','PER_FOOD','PER_RETAIL','TOTAL_EMP','RETAIL_EMP','OTHER_EMP','FOOD_EMP','TRACTCE10','MONTH','YEAR']], how = 'left', on = ['TRACTCE10','MONTH','YEAR'])"
   ]
  },
  {
   "cell_type": "code",
   "execution_count": null,
   "metadata": {},
   "outputs": [],
   "source": []
  },
  {
   "cell_type": "code",
   "execution_count": 50,
   "metadata": {},
   "outputs": [],
   "source": [
    "df2 = df2.merge(acs2, how = 'left', left_on = ['DESTINATION','MONTH','YEAR','TOD'], right_on = ['CENSUS_TRACT','MONTH','YEAR','TOD'])"
   ]
  },
  {
   "cell_type": "code",
   "execution_count": null,
   "metadata": {},
   "outputs": [],
   "source": []
  },
  {
   "cell_type": "code",
   "execution_count": 51,
   "metadata": {},
   "outputs": [],
   "source": [
    "transit_access = pd.read_csv('C:/Workspace/TNC-Demand-Model/Outputs/Trip_Generation_Transit_Accessibility_Variables.csv', index_col = 0)"
   ]
  },
  {
   "cell_type": "code",
   "execution_count": 52,
   "metadata": {},
   "outputs": [],
   "source": [
    "transit_access['DESTINATION'] = transit_access['ORIGIN']"
   ]
  },
  {
   "cell_type": "code",
   "execution_count": null,
   "metadata": {},
   "outputs": [],
   "source": []
  },
  {
   "cell_type": "code",
   "execution_count": 53,
   "metadata": {},
   "outputs": [],
   "source": [
    "all_access = access.merge(transit_access, on = ['DESTINATION','MONTH','YEAR','TOD'], how = 'right', suffixes = ('_AUTO','_TRANSIT'))"
   ]
  },
  {
   "cell_type": "code",
   "execution_count": 54,
   "metadata": {},
   "outputs": [],
   "source": [
    "log_sum = pd.read_csv('C:/Workspace/TNC-Demand-Model/Outputs/Trip_Generation_LOGSUM.csv', index_col = 0)"
   ]
  },
  {
   "cell_type": "code",
   "execution_count": 55,
   "metadata": {},
   "outputs": [
    {
     "data": {
      "text/html": [
       "<div>\n",
       "<style scoped>\n",
       "    .dataframe tbody tr th:only-of-type {\n",
       "        vertical-align: middle;\n",
       "    }\n",
       "\n",
       "    .dataframe tbody tr th {\n",
       "        vertical-align: top;\n",
       "    }\n",
       "\n",
       "    .dataframe thead th {\n",
       "        text-align: right;\n",
       "    }\n",
       "</style>\n",
       "<table border=\"1\" class=\"dataframe\">\n",
       "  <thead>\n",
       "    <tr style=\"text-align: right;\">\n",
       "      <th></th>\n",
       "      <th>ORIGIN</th>\n",
       "      <th>MONTH</th>\n",
       "      <th>YEAR</th>\n",
       "      <th>TOD</th>\n",
       "      <th>LOGSUM</th>\n",
       "    </tr>\n",
       "  </thead>\n",
       "  <tbody>\n",
       "    <tr>\n",
       "      <th>0</th>\n",
       "      <td>1.703101e+10</td>\n",
       "      <td>11.0</td>\n",
       "      <td>2018.0</td>\n",
       "      <td>1.0</td>\n",
       "      <td>3.654643</td>\n",
       "    </tr>\n",
       "    <tr>\n",
       "      <th>1</th>\n",
       "      <td>1.703101e+10</td>\n",
       "      <td>11.0</td>\n",
       "      <td>2018.0</td>\n",
       "      <td>1.0</td>\n",
       "      <td>3.870129</td>\n",
       "    </tr>\n",
       "    <tr>\n",
       "      <th>2</th>\n",
       "      <td>1.703101e+10</td>\n",
       "      <td>11.0</td>\n",
       "      <td>2018.0</td>\n",
       "      <td>1.0</td>\n",
       "      <td>3.849336</td>\n",
       "    </tr>\n",
       "    <tr>\n",
       "      <th>3</th>\n",
       "      <td>1.703101e+10</td>\n",
       "      <td>11.0</td>\n",
       "      <td>2018.0</td>\n",
       "      <td>1.0</td>\n",
       "      <td>3.745827</td>\n",
       "    </tr>\n",
       "    <tr>\n",
       "      <th>4</th>\n",
       "      <td>1.703101e+10</td>\n",
       "      <td>11.0</td>\n",
       "      <td>2018.0</td>\n",
       "      <td>1.0</td>\n",
       "      <td>3.954551</td>\n",
       "    </tr>\n",
       "  </tbody>\n",
       "</table>\n",
       "</div>"
      ],
      "text/plain": [
       "         ORIGIN  MONTH    YEAR  TOD    LOGSUM\n",
       "0  1.703101e+10   11.0  2018.0  1.0  3.654643\n",
       "1  1.703101e+10   11.0  2018.0  1.0  3.870129\n",
       "2  1.703101e+10   11.0  2018.0  1.0  3.849336\n",
       "3  1.703101e+10   11.0  2018.0  1.0  3.745827\n",
       "4  1.703101e+10   11.0  2018.0  1.0  3.954551"
      ]
     },
     "execution_count": 55,
     "metadata": {},
     "output_type": "execute_result"
    }
   ],
   "source": [
    "log_sum.head()"
   ]
  },
  {
   "cell_type": "code",
   "execution_count": 56,
   "metadata": {},
   "outputs": [],
   "source": [
    "log_sum['DESTINATION'] = log_sum['ORIGIN']"
   ]
  },
  {
   "cell_type": "code",
   "execution_count": 57,
   "metadata": {},
   "outputs": [],
   "source": [
    "df2 = df2.merge(log_sum, on = ['DESTINATION','MONTH','YEAR','TOD'], how = 'left')"
   ]
  },
  {
   "cell_type": "code",
   "execution_count": 58,
   "metadata": {},
   "outputs": [
    {
     "data": {
      "text/html": [
       "<div>\n",
       "<style scoped>\n",
       "    .dataframe tbody tr th:only-of-type {\n",
       "        vertical-align: middle;\n",
       "    }\n",
       "\n",
       "    .dataframe tbody tr th {\n",
       "        vertical-align: top;\n",
       "    }\n",
       "\n",
       "    .dataframe thead th {\n",
       "        text-align: right;\n",
       "    }\n",
       "</style>\n",
       "<table border=\"1\" class=\"dataframe\">\n",
       "  <thead>\n",
       "    <tr style=\"text-align: right;\">\n",
       "      <th></th>\n",
       "      <th>YEAR</th>\n",
       "      <th>MONTH</th>\n",
       "      <th>TOD</th>\n",
       "      <th>DESTINATION</th>\n",
       "      <th>AIR_F</th>\n",
       "      <th>DROPOFFS</th>\n",
       "      <th>PRIVATE_DROPOFFS</th>\n",
       "      <th>SHARED_DROPOFFS</th>\n",
       "      <th>TRAVEL_TIME_MINUTES</th>\n",
       "      <th>TRIP_LENGTH_MILES</th>\n",
       "      <th>...</th>\n",
       "      <th>HHLDS_MORE_150K</th>\n",
       "      <th>HHLDS_0_VEH</th>\n",
       "      <th>AVG_VEH_PER_HHLD</th>\n",
       "      <th>HHLDS_MEDIAN_INCOME</th>\n",
       "      <th>TOTAL_POP_25P_BACHELORS_HIGHER</th>\n",
       "      <th>TOTAL_MALE</th>\n",
       "      <th>TOTAL_FEMALE</th>\n",
       "      <th>MEDIAN_AGE</th>\n",
       "      <th>ORIGIN_y</th>\n",
       "      <th>LOGSUM</th>\n",
       "    </tr>\n",
       "  </thead>\n",
       "  <tbody>\n",
       "    <tr>\n",
       "      <th>0</th>\n",
       "      <td>2018</td>\n",
       "      <td>11</td>\n",
       "      <td>1</td>\n",
       "      <td>17031010100</td>\n",
       "      <td>0</td>\n",
       "      <td>17.0</td>\n",
       "      <td>12.0</td>\n",
       "      <td>5.0</td>\n",
       "      <td>17.791176</td>\n",
       "      <td>7.505882</td>\n",
       "      <td>...</td>\n",
       "      <td>6.3</td>\n",
       "      <td>1162.0</td>\n",
       "      <td>0.665803</td>\n",
       "      <td>37985.0</td>\n",
       "      <td>1483.0</td>\n",
       "      <td>2301.0</td>\n",
       "      <td>2221.0</td>\n",
       "      <td>35.3</td>\n",
       "      <td>1.703101e+10</td>\n",
       "      <td>3.654643</td>\n",
       "    </tr>\n",
       "    <tr>\n",
       "      <th>1</th>\n",
       "      <td>2018</td>\n",
       "      <td>11</td>\n",
       "      <td>1</td>\n",
       "      <td>17031010201</td>\n",
       "      <td>0</td>\n",
       "      <td>14.0</td>\n",
       "      <td>7.0</td>\n",
       "      <td>7.0</td>\n",
       "      <td>15.391667</td>\n",
       "      <td>6.021429</td>\n",
       "      <td>...</td>\n",
       "      <td>2.8</td>\n",
       "      <td>751.0</td>\n",
       "      <td>0.988095</td>\n",
       "      <td>39549.0</td>\n",
       "      <td>1505.0</td>\n",
       "      <td>3701.0</td>\n",
       "      <td>3338.0</td>\n",
       "      <td>36.3</td>\n",
       "      <td>1.703101e+10</td>\n",
       "      <td>3.870129</td>\n",
       "    </tr>\n",
       "    <tr>\n",
       "      <th>2</th>\n",
       "      <td>2018</td>\n",
       "      <td>11</td>\n",
       "      <td>1</td>\n",
       "      <td>17031010202</td>\n",
       "      <td>0</td>\n",
       "      <td>7.0</td>\n",
       "      <td>3.0</td>\n",
       "      <td>4.0</td>\n",
       "      <td>15.019048</td>\n",
       "      <td>5.014286</td>\n",
       "      <td>...</td>\n",
       "      <td>3.6</td>\n",
       "      <td>464.0</td>\n",
       "      <td>0.768603</td>\n",
       "      <td>38370.0</td>\n",
       "      <td>669.0</td>\n",
       "      <td>1390.0</td>\n",
       "      <td>1462.0</td>\n",
       "      <td>35.7</td>\n",
       "      <td>1.703101e+10</td>\n",
       "      <td>3.849336</td>\n",
       "    </tr>\n",
       "    <tr>\n",
       "      <th>3</th>\n",
       "      <td>2018</td>\n",
       "      <td>11</td>\n",
       "      <td>1</td>\n",
       "      <td>17031010300</td>\n",
       "      <td>0</td>\n",
       "      <td>25.0</td>\n",
       "      <td>14.0</td>\n",
       "      <td>11.0</td>\n",
       "      <td>16.430667</td>\n",
       "      <td>6.728000</td>\n",
       "      <td>...</td>\n",
       "      <td>8.6</td>\n",
       "      <td>993.0</td>\n",
       "      <td>0.932170</td>\n",
       "      <td>38866.0</td>\n",
       "      <td>2060.0</td>\n",
       "      <td>3294.0</td>\n",
       "      <td>3356.0</td>\n",
       "      <td>41.6</td>\n",
       "      <td>1.703101e+10</td>\n",
       "      <td>3.745827</td>\n",
       "    </tr>\n",
       "    <tr>\n",
       "      <th>4</th>\n",
       "      <td>2018</td>\n",
       "      <td>11</td>\n",
       "      <td>1</td>\n",
       "      <td>17031010400</td>\n",
       "      <td>0</td>\n",
       "      <td>19.0</td>\n",
       "      <td>13.0</td>\n",
       "      <td>6.0</td>\n",
       "      <td>18.312281</td>\n",
       "      <td>7.484211</td>\n",
       "      <td>...</td>\n",
       "      <td>5.2</td>\n",
       "      <td>655.0</td>\n",
       "      <td>0.762126</td>\n",
       "      <td>39152.0</td>\n",
       "      <td>1705.0</td>\n",
       "      <td>2405.0</td>\n",
       "      <td>2748.0</td>\n",
       "      <td>25.2</td>\n",
       "      <td>1.703101e+10</td>\n",
       "      <td>3.954551</td>\n",
       "    </tr>\n",
       "  </tbody>\n",
       "</table>\n",
       "<p>5 rows × 83 columns</p>\n",
       "</div>"
      ],
      "text/plain": [
       "   YEAR  MONTH  TOD  DESTINATION  AIR_F  DROPOFFS  PRIVATE_DROPOFFS  \\\n",
       "0  2018     11    1  17031010100      0      17.0              12.0   \n",
       "1  2018     11    1  17031010201      0      14.0               7.0   \n",
       "2  2018     11    1  17031010202      0       7.0               3.0   \n",
       "3  2018     11    1  17031010300      0      25.0              14.0   \n",
       "4  2018     11    1  17031010400      0      19.0              13.0   \n",
       "\n",
       "   SHARED_DROPOFFS  TRAVEL_TIME_MINUTES  TRIP_LENGTH_MILES  ...  \\\n",
       "0              5.0            17.791176           7.505882  ...   \n",
       "1              7.0            15.391667           6.021429  ...   \n",
       "2              4.0            15.019048           5.014286  ...   \n",
       "3             11.0            16.430667           6.728000  ...   \n",
       "4              6.0            18.312281           7.484211  ...   \n",
       "\n",
       "   HHLDS_MORE_150K  HHLDS_0_VEH  AVG_VEH_PER_HHLD  HHLDS_MEDIAN_INCOME  \\\n",
       "0              6.3       1162.0          0.665803              37985.0   \n",
       "1              2.8        751.0          0.988095              39549.0   \n",
       "2              3.6        464.0          0.768603              38370.0   \n",
       "3              8.6        993.0          0.932170              38866.0   \n",
       "4              5.2        655.0          0.762126              39152.0   \n",
       "\n",
       "   TOTAL_POP_25P_BACHELORS_HIGHER  TOTAL_MALE  TOTAL_FEMALE  MEDIAN_AGE  \\\n",
       "0                          1483.0      2301.0        2221.0        35.3   \n",
       "1                          1505.0      3701.0        3338.0        36.3   \n",
       "2                           669.0      1390.0        1462.0        35.7   \n",
       "3                          2060.0      3294.0        3356.0        41.6   \n",
       "4                          1705.0      2405.0        2748.0        25.2   \n",
       "\n",
       "       ORIGIN_y    LOGSUM  \n",
       "0  1.703101e+10  3.654643  \n",
       "1  1.703101e+10  3.870129  \n",
       "2  1.703101e+10  3.849336  \n",
       "3  1.703101e+10  3.745827  \n",
       "4  1.703101e+10  3.954551  \n",
       "\n",
       "[5 rows x 83 columns]"
      ]
     },
     "execution_count": 58,
     "metadata": {},
     "output_type": "execute_result"
    }
   ],
   "source": [
    "df2.head()"
   ]
  },
  {
   "cell_type": "code",
   "execution_count": 59,
   "metadata": {},
   "outputs": [],
   "source": [
    "vars = ['TOTAL_EMP','RETAIL_EMP','OTHER_EMP','FOOD_SERVICES_EMP','TOTAL_POP','TOTAL_HHLDS','TOTAL_HHLDS_MORE_150K']"
   ]
  },
  {
   "cell_type": "code",
   "execution_count": 60,
   "metadata": {},
   "outputs": [],
   "source": [
    "#for var in vars:\n",
    " #   print('Working on variable ' + var)\n",
    "  #  all_access[var + '_WITHIN_5_TRANSIT_AUTO_DIFF'] = all_access[var + '_WITHIN_5_TRANSIT'] - all_access[var + '_WITHIN_5_AUTO']\n",
    "   # all_access[var + '_WITHIN_15_TRANSIT_AUTO_DIFF'] = all_access[var + '_WITHIN_15_TRANSIT'] - all_access[var + '_WITHIN_15_AUTO']\n",
    "    #all_access[var + '_WITHIN_30_TRANSIT_AUTO_DIFF'] = all_access[var + '_WITHIN_30_TRANSIT'] - all_access[var + '_WITHIN_30_AUTO']\n",
    "    #all_access[var + '_WITHIN_45_TRANSIT_AUTO_DIFF'] = all_access[var + '_WITHIN_45_TRANSIT'] - all_access[var + '_WITHIN_45_AUTO']\n",
    "    #all_access[var + '_WITHIN_60_TRANSIT_AUTO_DIFF'] = all_access[var + '_WITHIN_60_TRANSIT'] - all_access[var + '_WITHIN_60_AUTO']"
   ]
  },
  {
   "cell_type": "code",
   "execution_count": 61,
   "metadata": {},
   "outputs": [],
   "source": [
    "drop = [ 'TOTAL_POP_WITHIN_5_AUTO',\n",
    "       'TOTAL_POP_WITHIN_15_AUTO', 'TOTAL_POP_WITHIN_30_AUTO',\n",
    "       'TOTAL_POP_WITHIN_45_AUTO', 'TOTAL_POP_WITHIN_60_AUTO',\n",
    "       'TOTAL_HHLDS_MORE_150K_WITHIN_60_AUTO',\n",
    "       'TOTAL_HHLDS_MORE_150K_WITHIN_45_AUTO',\n",
    "       'TOTAL_HHLDS_MORE_150K_WITHIN_30_AUTO',\n",
    "       'TOTAL_HHLDS_MORE_150K_WITHIN_15_AUTO',\n",
    "       'TOTAL_HHLDS_MORE_150K_WITHIN_5_AUTO', 'TOTAL_HHLDS_WITHIN_60_AUTO',\n",
    "       'TOTAL_HHLDS_WITHIN_45_AUTO', 'TOTAL_HHLDS_WITHIN_30_AUTO',\n",
    "       'TOTAL_HHLDS_WITHIN_15_AUTO', 'TOTAL_HHLDS_WITHIN_5_AUTO',\n",
    "       'FOOD_SERVICES_EMP_WITHIN_60_AUTO', 'FOOD_SERVICES_EMP_WITHIN_45_AUTO',\n",
    "       'FOOD_SERVICES_EMP_WITHIN_30_AUTO', 'FOOD_SERVICES_EMP_WITHIN_15_AUTO',\n",
    "       'FOOD_SERVICES_EMP_WITHIN_5_AUTO', 'OTHER_EMP_WITHIN_60_AUTO',\n",
    "       'OTHER_EMP_WITHIN_45_AUTO', 'OTHER_EMP_WITHIN_30_AUTO',\n",
    "       'OTHER_EMP_WITHIN_15_AUTO', 'OTHER_EMP_WITHIN_5_AUTO',\n",
    "       'RETAIL_EMP_WITHIN_60_AUTO', 'RETAIL_EMP_WITHIN_45_AUTO',\n",
    "       'RETAIL_EMP_WITHIN_30_AUTO', 'RETAIL_EMP_WITHIN_15_AUTO',\n",
    "       'RETAIL_EMP_WITHIN_5_AUTO', 'TOTAL_EMP_WITHIN_60_AUTO',\n",
    "       'TOTAL_EMP_WITHIN_45_AUTO', 'TOTAL_EMP_WITHIN_30_AUTO',\n",
    "       'TOTAL_EMP_WITHIN_15_AUTO', 'TOTAL_EMP_WITHIN_5_AUTO',\n",
    "        'TOTAL_POP_WITHIN_5_TRANSIT',\n",
    "       'TOTAL_POP_WITHIN_15_TRANSIT', 'TOTAL_POP_WITHIN_30_TRANSIT',\n",
    "       'TOTAL_POP_WITHIN_45_TRANSIT', 'TOTAL_POP_WITHIN_60_TRANSIT',\n",
    "       'TOTAL_HHLDS_MORE_150K_WITHIN_60_TRANSIT',\n",
    "       'TOTAL_HHLDS_MORE_150K_WITHIN_45_TRANSIT',\n",
    "       'TOTAL_HHLDS_MORE_150K_WITHIN_30_TRANSIT',\n",
    "       'TOTAL_HHLDS_MORE_150K_WITHIN_15_TRANSIT',\n",
    "       'TOTAL_HHLDS_MORE_150K_WITHIN_5_TRANSIT',\n",
    "       'TOTAL_HHLDS_WITHIN_60_TRANSIT', 'TOTAL_HHLDS_WITHIN_45_TRANSIT',\n",
    "       'TOTAL_HHLDS_WITHIN_30_TRANSIT', 'TOTAL_HHLDS_WITHIN_15_TRANSIT',\n",
    "       'TOTAL_HHLDS_WITHIN_5_TRANSIT', 'FOOD_SERVICES_EMP_WITHIN_60_TRANSIT',\n",
    "       'FOOD_SERVICES_EMP_WITHIN_45_TRANSIT',\n",
    "       'FOOD_SERVICES_EMP_WITHIN_30_TRANSIT',\n",
    "       'FOOD_SERVICES_EMP_WITHIN_15_TRANSIT',\n",
    "       'FOOD_SERVICES_EMP_WITHIN_5_TRANSIT', 'OTHER_EMP_WITHIN_60_TRANSIT',\n",
    "       'OTHER_EMP_WITHIN_45_TRANSIT', 'OTHER_EMP_WITHIN_30_TRANSIT',\n",
    "       'OTHER_EMP_WITHIN_15_TRANSIT', 'OTHER_EMP_WITHIN_5_TRANSIT',\n",
    "       'RETAIL_EMP_WITHIN_60_TRANSIT', 'RETAIL_EMP_WITHIN_45_TRANSIT',\n",
    "       'RETAIL_EMP_WITHIN_30_TRANSIT', 'RETAIL_EMP_WITHIN_15_TRANSIT',\n",
    "       'RETAIL_EMP_WITHIN_5_TRANSIT', 'TOTAL_EMP_WITHIN_60_TRANSIT',\n",
    "       'TOTAL_EMP_WITHIN_45_TRANSIT', 'TOTAL_EMP_WITHIN_30_TRANSIT',\n",
    "       'TOTAL_EMP_WITHIN_15_TRANSIT', 'TOTAL_EMP_WITHIN_5_TRANSIT']"
   ]
  },
  {
   "cell_type": "code",
   "execution_count": 62,
   "metadata": {},
   "outputs": [],
   "source": [
    "#all_access = all_access.drop(drop, axis = 1)"
   ]
  },
  {
   "cell_type": "code",
   "execution_count": 63,
   "metadata": {},
   "outputs": [
    {
     "data": {
      "text/html": [
       "<div>\n",
       "<style scoped>\n",
       "    .dataframe tbody tr th:only-of-type {\n",
       "        vertical-align: middle;\n",
       "    }\n",
       "\n",
       "    .dataframe tbody tr th {\n",
       "        vertical-align: top;\n",
       "    }\n",
       "\n",
       "    .dataframe thead th {\n",
       "        text-align: right;\n",
       "    }\n",
       "</style>\n",
       "<table border=\"1\" class=\"dataframe\">\n",
       "  <thead>\n",
       "    <tr style=\"text-align: right;\">\n",
       "      <th></th>\n",
       "      <th>ORIGIN_AUTO</th>\n",
       "      <th>MONTH</th>\n",
       "      <th>YEAR</th>\n",
       "      <th>TOD</th>\n",
       "      <th>TOTAL_POP_WITHIN_5_AUTO</th>\n",
       "      <th>TOTAL_POP_WITHIN_15_AUTO</th>\n",
       "      <th>TOTAL_POP_WITHIN_30_AUTO</th>\n",
       "      <th>TOTAL_POP_WITHIN_45_AUTO</th>\n",
       "      <th>TOTAL_POP_WITHIN_60_AUTO</th>\n",
       "      <th>TOTAL_HHLDS_MORE_150K_WITHIN_60_AUTO</th>\n",
       "      <th>...</th>\n",
       "      <th>RETAIL_EMP_WITHIN_60_TRANSIT</th>\n",
       "      <th>RETAIL_EMP_WITHIN_45_TRANSIT</th>\n",
       "      <th>RETAIL_EMP_WITHIN_30_TRANSIT</th>\n",
       "      <th>RETAIL_EMP_WITHIN_15_TRANSIT</th>\n",
       "      <th>RETAIL_EMP_WITHIN_5_TRANSIT</th>\n",
       "      <th>TOTAL_EMP_WITHIN_60_TRANSIT</th>\n",
       "      <th>TOTAL_EMP_WITHIN_45_TRANSIT</th>\n",
       "      <th>TOTAL_EMP_WITHIN_30_TRANSIT</th>\n",
       "      <th>TOTAL_EMP_WITHIN_15_TRANSIT</th>\n",
       "      <th>TOTAL_EMP_WITHIN_5_TRANSIT</th>\n",
       "    </tr>\n",
       "  </thead>\n",
       "  <tbody>\n",
       "    <tr>\n",
       "      <th>0</th>\n",
       "      <td>17031010100</td>\n",
       "      <td>11</td>\n",
       "      <td>2018</td>\n",
       "      <td>1</td>\n",
       "      <td>14024.0</td>\n",
       "      <td>142668.0</td>\n",
       "      <td>561530.0</td>\n",
       "      <td>1379540.0</td>\n",
       "      <td>2556817.0</td>\n",
       "      <td>9376.8</td>\n",
       "      <td>...</td>\n",
       "      <td>32226.806436</td>\n",
       "      <td>5383.930438</td>\n",
       "      <td>1293.678829</td>\n",
       "      <td>158.350895</td>\n",
       "      <td>13.435834</td>\n",
       "      <td>583544.066499</td>\n",
       "      <td>47632.550255</td>\n",
       "      <td>13858.836594</td>\n",
       "      <td>2257.935752</td>\n",
       "      <td>372.081790</td>\n",
       "    </tr>\n",
       "    <tr>\n",
       "      <th>1</th>\n",
       "      <td>17031010201</td>\n",
       "      <td>11</td>\n",
       "      <td>2018</td>\n",
       "      <td>1</td>\n",
       "      <td>26825.0</td>\n",
       "      <td>166149.0</td>\n",
       "      <td>589976.0</td>\n",
       "      <td>1422751.0</td>\n",
       "      <td>2530807.0</td>\n",
       "      <td>9306.9</td>\n",
       "      <td>...</td>\n",
       "      <td>13590.345621</td>\n",
       "      <td>3623.836245</td>\n",
       "      <td>676.590189</td>\n",
       "      <td>161.230002</td>\n",
       "      <td>10.556726</td>\n",
       "      <td>105695.050823</td>\n",
       "      <td>39174.426471</td>\n",
       "      <td>11290.680105</td>\n",
       "      <td>3535.731394</td>\n",
       "      <td>132.424791</td>\n",
       "    </tr>\n",
       "    <tr>\n",
       "      <th>2</th>\n",
       "      <td>17031010202</td>\n",
       "      <td>11</td>\n",
       "      <td>2018</td>\n",
       "      <td>1</td>\n",
       "      <td>19120.0</td>\n",
       "      <td>166760.0</td>\n",
       "      <td>606222.0</td>\n",
       "      <td>1506893.0</td>\n",
       "      <td>2590344.0</td>\n",
       "      <td>9440.8</td>\n",
       "      <td>...</td>\n",
       "      <td>37296.914191</td>\n",
       "      <td>7342.683027</td>\n",
       "      <td>1464.505855</td>\n",
       "      <td>232.247980</td>\n",
       "      <td>135.318038</td>\n",
       "      <td>670401.781087</td>\n",
       "      <td>68090.872785</td>\n",
       "      <td>20755.089557</td>\n",
       "      <td>3953.411309</td>\n",
       "      <td>771.269190</td>\n",
       "    </tr>\n",
       "    <tr>\n",
       "      <th>3</th>\n",
       "      <td>17031010300</td>\n",
       "      <td>11</td>\n",
       "      <td>2018</td>\n",
       "      <td>1</td>\n",
       "      <td>18171.0</td>\n",
       "      <td>145250.0</td>\n",
       "      <td>577022.0</td>\n",
       "      <td>1420539.0</td>\n",
       "      <td>2560937.0</td>\n",
       "      <td>9384.1</td>\n",
       "      <td>...</td>\n",
       "      <td>38823.800702</td>\n",
       "      <td>6664.173433</td>\n",
       "      <td>1331.107222</td>\n",
       "      <td>164.109110</td>\n",
       "      <td>9.597024</td>\n",
       "      <td>703148.221759</td>\n",
       "      <td>58750.572801</td>\n",
       "      <td>17810.698377</td>\n",
       "      <td>2371.953631</td>\n",
       "      <td>1114.584773</td>\n",
       "    </tr>\n",
       "    <tr>\n",
       "      <th>4</th>\n",
       "      <td>17031010400</td>\n",
       "      <td>11</td>\n",
       "      <td>2018</td>\n",
       "      <td>1</td>\n",
       "      <td>18373.0</td>\n",
       "      <td>173572.0</td>\n",
       "      <td>659534.0</td>\n",
       "      <td>1735216.0</td>\n",
       "      <td>2646308.0</td>\n",
       "      <td>9587.2</td>\n",
       "      <td>...</td>\n",
       "      <td>31736.398512</td>\n",
       "      <td>5120.971982</td>\n",
       "      <td>1433.795379</td>\n",
       "      <td>299.427147</td>\n",
       "      <td>79.655299</td>\n",
       "      <td>579773.482092</td>\n",
       "      <td>47193.806349</td>\n",
       "      <td>17629.740467</td>\n",
       "      <td>6549.231192</td>\n",
       "      <td>5155.811451</td>\n",
       "    </tr>\n",
       "  </tbody>\n",
       "</table>\n",
       "<p>5 rows × 76 columns</p>\n",
       "</div>"
      ],
      "text/plain": [
       "   ORIGIN_AUTO  MONTH  YEAR  TOD  TOTAL_POP_WITHIN_5_AUTO  \\\n",
       "0  17031010100     11  2018    1                  14024.0   \n",
       "1  17031010201     11  2018    1                  26825.0   \n",
       "2  17031010202     11  2018    1                  19120.0   \n",
       "3  17031010300     11  2018    1                  18171.0   \n",
       "4  17031010400     11  2018    1                  18373.0   \n",
       "\n",
       "   TOTAL_POP_WITHIN_15_AUTO  TOTAL_POP_WITHIN_30_AUTO  \\\n",
       "0                  142668.0                  561530.0   \n",
       "1                  166149.0                  589976.0   \n",
       "2                  166760.0                  606222.0   \n",
       "3                  145250.0                  577022.0   \n",
       "4                  173572.0                  659534.0   \n",
       "\n",
       "   TOTAL_POP_WITHIN_45_AUTO  TOTAL_POP_WITHIN_60_AUTO  \\\n",
       "0                 1379540.0                 2556817.0   \n",
       "1                 1422751.0                 2530807.0   \n",
       "2                 1506893.0                 2590344.0   \n",
       "3                 1420539.0                 2560937.0   \n",
       "4                 1735216.0                 2646308.0   \n",
       "\n",
       "   TOTAL_HHLDS_MORE_150K_WITHIN_60_AUTO  ...  RETAIL_EMP_WITHIN_60_TRANSIT  \\\n",
       "0                                9376.8  ...                  32226.806436   \n",
       "1                                9306.9  ...                  13590.345621   \n",
       "2                                9440.8  ...                  37296.914191   \n",
       "3                                9384.1  ...                  38823.800702   \n",
       "4                                9587.2  ...                  31736.398512   \n",
       "\n",
       "   RETAIL_EMP_WITHIN_45_TRANSIT  RETAIL_EMP_WITHIN_30_TRANSIT  \\\n",
       "0                   5383.930438                   1293.678829   \n",
       "1                   3623.836245                    676.590189   \n",
       "2                   7342.683027                   1464.505855   \n",
       "3                   6664.173433                   1331.107222   \n",
       "4                   5120.971982                   1433.795379   \n",
       "\n",
       "   RETAIL_EMP_WITHIN_15_TRANSIT  RETAIL_EMP_WITHIN_5_TRANSIT  \\\n",
       "0                    158.350895                    13.435834   \n",
       "1                    161.230002                    10.556726   \n",
       "2                    232.247980                   135.318038   \n",
       "3                    164.109110                     9.597024   \n",
       "4                    299.427147                    79.655299   \n",
       "\n",
       "   TOTAL_EMP_WITHIN_60_TRANSIT  TOTAL_EMP_WITHIN_45_TRANSIT  \\\n",
       "0                583544.066499                 47632.550255   \n",
       "1                105695.050823                 39174.426471   \n",
       "2                670401.781087                 68090.872785   \n",
       "3                703148.221759                 58750.572801   \n",
       "4                579773.482092                 47193.806349   \n",
       "\n",
       "   TOTAL_EMP_WITHIN_30_TRANSIT  TOTAL_EMP_WITHIN_15_TRANSIT  \\\n",
       "0                 13858.836594                  2257.935752   \n",
       "1                 11290.680105                  3535.731394   \n",
       "2                 20755.089557                  3953.411309   \n",
       "3                 17810.698377                  2371.953631   \n",
       "4                 17629.740467                  6549.231192   \n",
       "\n",
       "   TOTAL_EMP_WITHIN_5_TRANSIT  \n",
       "0                  372.081790  \n",
       "1                  132.424791  \n",
       "2                  771.269190  \n",
       "3                 1114.584773  \n",
       "4                 5155.811451  \n",
       "\n",
       "[5 rows x 76 columns]"
      ]
     },
     "execution_count": 63,
     "metadata": {},
     "output_type": "execute_result"
    }
   ],
   "source": [
    "all_access.head()"
   ]
  },
  {
   "cell_type": "code",
   "execution_count": 64,
   "metadata": {},
   "outputs": [
    {
     "data": {
      "text/plain": [
       "0        1\n",
       "1        1\n",
       "2        1\n",
       "3        1\n",
       "4        1\n",
       "        ..\n",
       "64075    5\n",
       "64076    5\n",
       "64077    5\n",
       "64078    5\n",
       "64079    5\n",
       "Name: TOD, Length: 64080, dtype: int64"
      ]
     },
     "execution_count": 64,
     "metadata": {},
     "output_type": "execute_result"
    }
   ],
   "source": [
    "df2.TOD"
   ]
  },
  {
   "cell_type": "code",
   "execution_count": 65,
   "metadata": {},
   "outputs": [],
   "source": [
    "df2 = df2.merge(all_access, on = ['DESTINATION','MONTH','YEAR','TOD'])"
   ]
  },
  {
   "cell_type": "code",
   "execution_count": 66,
   "metadata": {},
   "outputs": [
    {
     "data": {
      "text/html": [
       "<div>\n",
       "<style scoped>\n",
       "    .dataframe tbody tr th:only-of-type {\n",
       "        vertical-align: middle;\n",
       "    }\n",
       "\n",
       "    .dataframe tbody tr th {\n",
       "        vertical-align: top;\n",
       "    }\n",
       "\n",
       "    .dataframe thead th {\n",
       "        text-align: right;\n",
       "    }\n",
       "</style>\n",
       "<table border=\"1\" class=\"dataframe\">\n",
       "  <thead>\n",
       "    <tr style=\"text-align: right;\">\n",
       "      <th></th>\n",
       "      <th>YEAR</th>\n",
       "      <th>MONTH</th>\n",
       "      <th>TOD</th>\n",
       "      <th>DESTINATION</th>\n",
       "      <th>AIR_F</th>\n",
       "      <th>DROPOFFS</th>\n",
       "      <th>PRIVATE_DROPOFFS</th>\n",
       "      <th>SHARED_DROPOFFS</th>\n",
       "      <th>TRAVEL_TIME_MINUTES</th>\n",
       "      <th>TRIP_LENGTH_MILES</th>\n",
       "      <th>...</th>\n",
       "      <th>RETAIL_EMP_WITHIN_60_TRANSIT</th>\n",
       "      <th>RETAIL_EMP_WITHIN_45_TRANSIT</th>\n",
       "      <th>RETAIL_EMP_WITHIN_30_TRANSIT</th>\n",
       "      <th>RETAIL_EMP_WITHIN_15_TRANSIT</th>\n",
       "      <th>RETAIL_EMP_WITHIN_5_TRANSIT</th>\n",
       "      <th>TOTAL_EMP_WITHIN_60_TRANSIT</th>\n",
       "      <th>TOTAL_EMP_WITHIN_45_TRANSIT</th>\n",
       "      <th>TOTAL_EMP_WITHIN_30_TRANSIT</th>\n",
       "      <th>TOTAL_EMP_WITHIN_15_TRANSIT</th>\n",
       "      <th>TOTAL_EMP_WITHIN_5_TRANSIT</th>\n",
       "    </tr>\n",
       "  </thead>\n",
       "  <tbody>\n",
       "    <tr>\n",
       "      <th>0</th>\n",
       "      <td>2018</td>\n",
       "      <td>11</td>\n",
       "      <td>1</td>\n",
       "      <td>17031010100</td>\n",
       "      <td>0</td>\n",
       "      <td>17.0</td>\n",
       "      <td>12.0</td>\n",
       "      <td>5.0</td>\n",
       "      <td>17.791176</td>\n",
       "      <td>7.505882</td>\n",
       "      <td>...</td>\n",
       "      <td>32226.806436</td>\n",
       "      <td>5383.930438</td>\n",
       "      <td>1293.678829</td>\n",
       "      <td>158.350895</td>\n",
       "      <td>13.435834</td>\n",
       "      <td>583544.066499</td>\n",
       "      <td>47632.550255</td>\n",
       "      <td>13858.836594</td>\n",
       "      <td>2257.935752</td>\n",
       "      <td>372.081790</td>\n",
       "    </tr>\n",
       "    <tr>\n",
       "      <th>1</th>\n",
       "      <td>2018</td>\n",
       "      <td>11</td>\n",
       "      <td>1</td>\n",
       "      <td>17031010201</td>\n",
       "      <td>0</td>\n",
       "      <td>14.0</td>\n",
       "      <td>7.0</td>\n",
       "      <td>7.0</td>\n",
       "      <td>15.391667</td>\n",
       "      <td>6.021429</td>\n",
       "      <td>...</td>\n",
       "      <td>13590.345621</td>\n",
       "      <td>3623.836245</td>\n",
       "      <td>676.590189</td>\n",
       "      <td>161.230002</td>\n",
       "      <td>10.556726</td>\n",
       "      <td>105695.050823</td>\n",
       "      <td>39174.426471</td>\n",
       "      <td>11290.680105</td>\n",
       "      <td>3535.731394</td>\n",
       "      <td>132.424791</td>\n",
       "    </tr>\n",
       "    <tr>\n",
       "      <th>2</th>\n",
       "      <td>2018</td>\n",
       "      <td>11</td>\n",
       "      <td>1</td>\n",
       "      <td>17031010202</td>\n",
       "      <td>0</td>\n",
       "      <td>7.0</td>\n",
       "      <td>3.0</td>\n",
       "      <td>4.0</td>\n",
       "      <td>15.019048</td>\n",
       "      <td>5.014286</td>\n",
       "      <td>...</td>\n",
       "      <td>37296.914191</td>\n",
       "      <td>7342.683027</td>\n",
       "      <td>1464.505855</td>\n",
       "      <td>232.247980</td>\n",
       "      <td>135.318038</td>\n",
       "      <td>670401.781087</td>\n",
       "      <td>68090.872785</td>\n",
       "      <td>20755.089557</td>\n",
       "      <td>3953.411309</td>\n",
       "      <td>771.269190</td>\n",
       "    </tr>\n",
       "    <tr>\n",
       "      <th>3</th>\n",
       "      <td>2018</td>\n",
       "      <td>11</td>\n",
       "      <td>1</td>\n",
       "      <td>17031010300</td>\n",
       "      <td>0</td>\n",
       "      <td>25.0</td>\n",
       "      <td>14.0</td>\n",
       "      <td>11.0</td>\n",
       "      <td>16.430667</td>\n",
       "      <td>6.728000</td>\n",
       "      <td>...</td>\n",
       "      <td>38823.800702</td>\n",
       "      <td>6664.173433</td>\n",
       "      <td>1331.107222</td>\n",
       "      <td>164.109110</td>\n",
       "      <td>9.597024</td>\n",
       "      <td>703148.221759</td>\n",
       "      <td>58750.572801</td>\n",
       "      <td>17810.698377</td>\n",
       "      <td>2371.953631</td>\n",
       "      <td>1114.584773</td>\n",
       "    </tr>\n",
       "    <tr>\n",
       "      <th>4</th>\n",
       "      <td>2018</td>\n",
       "      <td>11</td>\n",
       "      <td>1</td>\n",
       "      <td>17031010400</td>\n",
       "      <td>0</td>\n",
       "      <td>19.0</td>\n",
       "      <td>13.0</td>\n",
       "      <td>6.0</td>\n",
       "      <td>18.312281</td>\n",
       "      <td>7.484211</td>\n",
       "      <td>...</td>\n",
       "      <td>31736.398512</td>\n",
       "      <td>5120.971982</td>\n",
       "      <td>1433.795379</td>\n",
       "      <td>299.427147</td>\n",
       "      <td>79.655299</td>\n",
       "      <td>579773.482092</td>\n",
       "      <td>47193.806349</td>\n",
       "      <td>17629.740467</td>\n",
       "      <td>6549.231192</td>\n",
       "      <td>5155.811451</td>\n",
       "    </tr>\n",
       "  </tbody>\n",
       "</table>\n",
       "<p>5 rows × 155 columns</p>\n",
       "</div>"
      ],
      "text/plain": [
       "   YEAR  MONTH  TOD  DESTINATION  AIR_F  DROPOFFS  PRIVATE_DROPOFFS  \\\n",
       "0  2018     11    1  17031010100      0      17.0              12.0   \n",
       "1  2018     11    1  17031010201      0      14.0               7.0   \n",
       "2  2018     11    1  17031010202      0       7.0               3.0   \n",
       "3  2018     11    1  17031010300      0      25.0              14.0   \n",
       "4  2018     11    1  17031010400      0      19.0              13.0   \n",
       "\n",
       "   SHARED_DROPOFFS  TRAVEL_TIME_MINUTES  TRIP_LENGTH_MILES  ...  \\\n",
       "0              5.0            17.791176           7.505882  ...   \n",
       "1              7.0            15.391667           6.021429  ...   \n",
       "2              4.0            15.019048           5.014286  ...   \n",
       "3             11.0            16.430667           6.728000  ...   \n",
       "4              6.0            18.312281           7.484211  ...   \n",
       "\n",
       "   RETAIL_EMP_WITHIN_60_TRANSIT  RETAIL_EMP_WITHIN_45_TRANSIT  \\\n",
       "0                  32226.806436                   5383.930438   \n",
       "1                  13590.345621                   3623.836245   \n",
       "2                  37296.914191                   7342.683027   \n",
       "3                  38823.800702                   6664.173433   \n",
       "4                  31736.398512                   5120.971982   \n",
       "\n",
       "   RETAIL_EMP_WITHIN_30_TRANSIT  RETAIL_EMP_WITHIN_15_TRANSIT  \\\n",
       "0                   1293.678829                    158.350895   \n",
       "1                    676.590189                    161.230002   \n",
       "2                   1464.505855                    232.247980   \n",
       "3                   1331.107222                    164.109110   \n",
       "4                   1433.795379                    299.427147   \n",
       "\n",
       "   RETAIL_EMP_WITHIN_5_TRANSIT  TOTAL_EMP_WITHIN_60_TRANSIT  \\\n",
       "0                    13.435834                583544.066499   \n",
       "1                    10.556726                105695.050823   \n",
       "2                   135.318038                670401.781087   \n",
       "3                     9.597024                703148.221759   \n",
       "4                    79.655299                579773.482092   \n",
       "\n",
       "   TOTAL_EMP_WITHIN_45_TRANSIT  TOTAL_EMP_WITHIN_30_TRANSIT  \\\n",
       "0                 47632.550255                 13858.836594   \n",
       "1                 39174.426471                 11290.680105   \n",
       "2                 68090.872785                 20755.089557   \n",
       "3                 58750.572801                 17810.698377   \n",
       "4                 47193.806349                 17629.740467   \n",
       "\n",
       "   TOTAL_EMP_WITHIN_15_TRANSIT  TOTAL_EMP_WITHIN_5_TRANSIT  \n",
       "0                  2257.935752                  372.081790  \n",
       "1                  3535.731394                  132.424791  \n",
       "2                  3953.411309                  771.269190  \n",
       "3                  2371.953631                 1114.584773  \n",
       "4                  6549.231192                 5155.811451  \n",
       "\n",
       "[5 rows x 155 columns]"
      ]
     },
     "execution_count": 66,
     "metadata": {},
     "output_type": "execute_result"
    }
   ],
   "source": [
    "df2.head()"
   ]
  },
  {
   "cell_type": "code",
   "execution_count": 67,
   "metadata": {},
   "outputs": [
    {
     "name": "stdout",
     "output_type": "stream",
     "text": [
      "YEAR\n",
      "MONTH\n",
      "TOD\n",
      "DESTINATION\n",
      "AIR_F\n",
      "DROPOFFS\n",
      "PRIVATE_DROPOFFS\n",
      "SHARED_DROPOFFS\n",
      "TRAVEL_TIME_MINUTES\n",
      "TRIP_LENGTH_MILES\n",
      "FARE\n",
      "TIP\n",
      "ADDITIONAL_CHARGES\n",
      "TOTAL_COST\n",
      "NUM_TRIPS_POOLED\n",
      "SPEED\n",
      "WEEKDAYS\n",
      "DROPOFFS_AVG\n",
      "ORIGIN_x\n",
      "TOTAL_POP_WITHIN_5\n",
      "TOTAL_POP_WITHIN_15\n",
      "TOTAL_POP_WITHIN_30\n",
      "TOTAL_POP_WITHIN_45\n",
      "TOTAL_POP_WITHIN_60\n",
      "TOTAL_HHLDS_MORE_150K_WITHIN_60\n",
      "TOTAL_HHLDS_MORE_150K_WITHIN_45\n",
      "TOTAL_HHLDS_MORE_150K_WITHIN_30\n",
      "TOTAL_HHLDS_MORE_150K_WITHIN_15\n",
      "TOTAL_HHLDS_MORE_150K_WITHIN_5\n",
      "TOTAL_HHLDS_WITHIN_60\n",
      "TOTAL_HHLDS_WITHIN_45\n",
      "TOTAL_HHLDS_WITHIN_30\n",
      "TOTAL_HHLDS_WITHIN_15\n",
      "TOTAL_HHLDS_WITHIN_5\n",
      "FOOD_SERVICES_EMP_WITHIN_60\n",
      "FOOD_SERVICES_EMP_WITHIN_45\n",
      "FOOD_SERVICES_EMP_WITHIN_30\n",
      "FOOD_SERVICES_EMP_WITHIN_15\n",
      "FOOD_SERVICES_EMP_WITHIN_5\n",
      "OTHER_EMP_WITHIN_60\n",
      "OTHER_EMP_WITHIN_45\n",
      "OTHER_EMP_WITHIN_30\n",
      "OTHER_EMP_WITHIN_15\n",
      "OTHER_EMP_WITHIN_5\n",
      "RETAIL_EMP_WITHIN_60\n",
      "RETAIL_EMP_WITHIN_45\n",
      "RETAIL_EMP_WITHIN_30\n",
      "RETAIL_EMP_WITHIN_15\n",
      "RETAIL_EMP_WITHIN_5\n",
      "TOTAL_EMP_WITHIN_60\n",
      "TOTAL_EMP_WITHIN_45\n",
      "TOTAL_EMP_WITHIN_30\n",
      "TOTAL_EMP_WITHIN_15\n",
      "TOTAL_EMP_WITHIN_5\n",
      "TRACTCE10\n",
      "PER_OTHER\n",
      "PER_FOOD\n",
      "PER_RETAIL\n",
      "TOTAL_EMP\n",
      "RETAIL_EMP\n",
      "OTHER_EMP\n",
      "FOOD_EMP\n",
      "PER_20_35\n",
      "P_BACH_25P\n",
      "PER_35_65\n",
      "PER_65P\n",
      "CENSUS_TRACT\n",
      "TOTAL_POP\n",
      "TOTAL_HHLDS\n",
      "AVG_HHLD_SIZE\n",
      "HHLDS_MEAN_INCOME\n",
      "HHLDS_LESS_35K\n",
      "HHLDS_35K_150K\n",
      "HHLDS_MORE_150K\n",
      "HHLDS_0_VEH\n",
      "AVG_VEH_PER_HHLD\n",
      "HHLDS_MEDIAN_INCOME\n",
      "TOTAL_POP_25P_BACHELORS_HIGHER\n",
      "TOTAL_MALE\n",
      "TOTAL_FEMALE\n",
      "MEDIAN_AGE\n",
      "ORIGIN_y\n",
      "LOGSUM\n",
      "ORIGIN_AUTO\n",
      "TOTAL_POP_WITHIN_5_AUTO\n",
      "TOTAL_POP_WITHIN_15_AUTO\n",
      "TOTAL_POP_WITHIN_30_AUTO\n",
      "TOTAL_POP_WITHIN_45_AUTO\n",
      "TOTAL_POP_WITHIN_60_AUTO\n",
      "TOTAL_HHLDS_MORE_150K_WITHIN_60_AUTO\n",
      "TOTAL_HHLDS_MORE_150K_WITHIN_45_AUTO\n",
      "TOTAL_HHLDS_MORE_150K_WITHIN_30_AUTO\n",
      "TOTAL_HHLDS_MORE_150K_WITHIN_15_AUTO\n",
      "TOTAL_HHLDS_MORE_150K_WITHIN_5_AUTO\n",
      "TOTAL_HHLDS_WITHIN_60_AUTO\n",
      "TOTAL_HHLDS_WITHIN_45_AUTO\n",
      "TOTAL_HHLDS_WITHIN_30_AUTO\n",
      "TOTAL_HHLDS_WITHIN_15_AUTO\n",
      "TOTAL_HHLDS_WITHIN_5_AUTO\n",
      "FOOD_SERVICES_EMP_WITHIN_60_AUTO\n",
      "FOOD_SERVICES_EMP_WITHIN_45_AUTO\n",
      "FOOD_SERVICES_EMP_WITHIN_30_AUTO\n",
      "FOOD_SERVICES_EMP_WITHIN_15_AUTO\n",
      "FOOD_SERVICES_EMP_WITHIN_5_AUTO\n",
      "OTHER_EMP_WITHIN_60_AUTO\n",
      "OTHER_EMP_WITHIN_45_AUTO\n",
      "OTHER_EMP_WITHIN_30_AUTO\n",
      "OTHER_EMP_WITHIN_15_AUTO\n",
      "OTHER_EMP_WITHIN_5_AUTO\n",
      "RETAIL_EMP_WITHIN_60_AUTO\n",
      "RETAIL_EMP_WITHIN_45_AUTO\n",
      "RETAIL_EMP_WITHIN_30_AUTO\n",
      "RETAIL_EMP_WITHIN_15_AUTO\n",
      "RETAIL_EMP_WITHIN_5_AUTO\n",
      "TOTAL_EMP_WITHIN_60_AUTO\n",
      "TOTAL_EMP_WITHIN_45_AUTO\n",
      "TOTAL_EMP_WITHIN_30_AUTO\n",
      "TOTAL_EMP_WITHIN_15_AUTO\n",
      "TOTAL_EMP_WITHIN_5_AUTO\n",
      "ORIGIN_TRANSIT\n",
      "TOTAL_POP_WITHIN_5_TRANSIT\n",
      "TOTAL_POP_WITHIN_15_TRANSIT\n",
      "TOTAL_POP_WITHIN_30_TRANSIT\n",
      "TOTAL_POP_WITHIN_45_TRANSIT\n",
      "TOTAL_POP_WITHIN_60_TRANSIT\n",
      "TOTAL_HHLDS_MORE_150K_WITHIN_60_TRANSIT\n",
      "TOTAL_HHLDS_MORE_150K_WITHIN_45_TRANSIT\n",
      "TOTAL_HHLDS_MORE_150K_WITHIN_30_TRANSIT\n",
      "TOTAL_HHLDS_MORE_150K_WITHIN_15_TRANSIT\n",
      "TOTAL_HHLDS_MORE_150K_WITHIN_5_TRANSIT\n",
      "TOTAL_HHLDS_WITHIN_60_TRANSIT\n",
      "TOTAL_HHLDS_WITHIN_45_TRANSIT\n",
      "TOTAL_HHLDS_WITHIN_30_TRANSIT\n",
      "TOTAL_HHLDS_WITHIN_15_TRANSIT\n",
      "TOTAL_HHLDS_WITHIN_5_TRANSIT\n",
      "FOOD_SERVICES_EMP_WITHIN_60_TRANSIT\n",
      "FOOD_SERVICES_EMP_WITHIN_45_TRANSIT\n",
      "FOOD_SERVICES_EMP_WITHIN_30_TRANSIT\n",
      "FOOD_SERVICES_EMP_WITHIN_15_TRANSIT\n",
      "FOOD_SERVICES_EMP_WITHIN_5_TRANSIT\n",
      "OTHER_EMP_WITHIN_60_TRANSIT\n",
      "OTHER_EMP_WITHIN_45_TRANSIT\n",
      "OTHER_EMP_WITHIN_30_TRANSIT\n",
      "OTHER_EMP_WITHIN_15_TRANSIT\n",
      "OTHER_EMP_WITHIN_5_TRANSIT\n",
      "RETAIL_EMP_WITHIN_60_TRANSIT\n",
      "RETAIL_EMP_WITHIN_45_TRANSIT\n",
      "RETAIL_EMP_WITHIN_30_TRANSIT\n",
      "RETAIL_EMP_WITHIN_15_TRANSIT\n",
      "RETAIL_EMP_WITHIN_5_TRANSIT\n",
      "TOTAL_EMP_WITHIN_60_TRANSIT\n",
      "TOTAL_EMP_WITHIN_45_TRANSIT\n",
      "TOTAL_EMP_WITHIN_30_TRANSIT\n",
      "TOTAL_EMP_WITHIN_15_TRANSIT\n",
      "TOTAL_EMP_WITHIN_5_TRANSIT\n"
     ]
    }
   ],
   "source": [
    "for col in df2.columns:\n",
    "    print(col)"
   ]
  },
  {
   "cell_type": "code",
   "execution_count": 71,
   "metadata": {},
   "outputs": [],
   "source": [
    "drop = ['SPEED','TRIP_LENGTH_MILES','TRAVEL_TIME_MINUTES']"
   ]
  },
  {
   "cell_type": "code",
   "execution_count": 72,
   "metadata": {},
   "outputs": [],
   "source": [
    "df2 = df2.drop(drop, axis = 1)"
   ]
  },
  {
   "cell_type": "code",
   "execution_count": 73,
   "metadata": {},
   "outputs": [],
   "source": [
    "area = pd.read_csv('C:/Workspace/TNC-Demand-Model/Outputs/Census_Tracts_Area.csv')"
   ]
  },
  {
   "cell_type": "code",
   "execution_count": 74,
   "metadata": {},
   "outputs": [],
   "source": [
    "df2 = df2.merge(area[['CENSUS_TRACT','AREA_SQ_MI']], how = 'left', on = 'CENSUS_TRACT')"
   ]
  },
  {
   "cell_type": "code",
   "execution_count": 75,
   "metadata": {},
   "outputs": [],
   "source": [
    "df2['E_P'] = df2['TOTAL_EMP'] + df2['TOTAL_POP']"
   ]
  },
  {
   "cell_type": "code",
   "execution_count": 76,
   "metadata": {},
   "outputs": [],
   "source": [
    "df2['POP'] = df2['TOTAL_POP']\n",
    "density_vars = ['TOTAL_EMP',\n",
    "'RETAIL_EMP',\n",
    "'OTHER_EMP',\n",
    "'FOOD_EMP',\n",
    "'POP',\n",
    "'TOTAL_HHLDS','E_P']\n",
    "\n",
    "for var in density_vars:\n",
    "    df2[var + '_DEN'] = df2[var]/df2['AREA_SQ_MI']"
   ]
  },
  {
   "cell_type": "code",
   "execution_count": 77,
   "metadata": {},
   "outputs": [],
   "source": [
    "df2['TOD_1'] = np.where(df2['TOD'] == 1, 1,0)\n",
    "df2['TOD_2'] = np.where(df2['TOD'] == 2, 1,0)\n",
    "df2['TOD_3'] = np.where(df2['TOD'] == 3, 1,0)\n",
    "df2['TOD_4'] = np.where(df2['TOD'] == 4, 1,0)\n",
    "df2['TOD_5'] = np.where(df2['TOD'] == 5, 1,0)"
   ]
  },
  {
   "cell_type": "code",
   "execution_count": 78,
   "metadata": {},
   "outputs": [],
   "source": [
    "df2['TOR_F'] = np.where((df2['DESTINATION'].isin([17031081402,17031330100,17031841000])),1,0)"
   ]
  },
  {
   "cell_type": "code",
   "execution_count": 79,
   "metadata": {},
   "outputs": [],
   "source": [
    "veh_inc = pd.read_csv('C:/Workspace/TNC-Demand-Model/Outputs/Formatted_Vehicle_Ownership_Income.csv', index_col = 0)"
   ]
  },
  {
   "cell_type": "code",
   "execution_count": null,
   "metadata": {},
   "outputs": [],
   "source": []
  },
  {
   "cell_type": "code",
   "execution_count": 80,
   "metadata": {},
   "outputs": [
    {
     "data": {
      "text/html": [
       "<div>\n",
       "<style scoped>\n",
       "    .dataframe tbody tr th:only-of-type {\n",
       "        vertical-align: middle;\n",
       "    }\n",
       "\n",
       "    .dataframe tbody tr th {\n",
       "        vertical-align: top;\n",
       "    }\n",
       "\n",
       "    .dataframe thead th {\n",
       "        text-align: right;\n",
       "    }\n",
       "</style>\n",
       "<table border=\"1\" class=\"dataframe\">\n",
       "  <thead>\n",
       "    <tr style=\"text-align: right;\">\n",
       "      <th></th>\n",
       "      <th>YEAR</th>\n",
       "      <th>MONTH</th>\n",
       "      <th>TOD</th>\n",
       "      <th>DESTINATION</th>\n",
       "      <th>AIR_F</th>\n",
       "      <th>DROPOFFS</th>\n",
       "      <th>PRIVATE_DROPOFFS</th>\n",
       "      <th>SHARED_DROPOFFS</th>\n",
       "      <th>FARE</th>\n",
       "      <th>TIP</th>\n",
       "      <th>...</th>\n",
       "      <th>FOOD_EMP_DEN</th>\n",
       "      <th>POP_DEN</th>\n",
       "      <th>TOTAL_HHLDS_DEN</th>\n",
       "      <th>E_P_DEN</th>\n",
       "      <th>TOD_1</th>\n",
       "      <th>TOD_2</th>\n",
       "      <th>TOD_3</th>\n",
       "      <th>TOD_4</th>\n",
       "      <th>TOD_5</th>\n",
       "      <th>TOR_F</th>\n",
       "    </tr>\n",
       "  </thead>\n",
       "  <tbody>\n",
       "    <tr>\n",
       "      <th>0</th>\n",
       "      <td>2018</td>\n",
       "      <td>11</td>\n",
       "      <td>1</td>\n",
       "      <td>17031010100</td>\n",
       "      <td>0</td>\n",
       "      <td>17.0</td>\n",
       "      <td>12.0</td>\n",
       "      <td>5.0</td>\n",
       "      <td>11.470588</td>\n",
       "      <td>0.647059</td>\n",
       "      <td>...</td>\n",
       "      <td>6.792316</td>\n",
       "      <td>30734.315785</td>\n",
       "      <td>15740.971994</td>\n",
       "      <td>33263.214330</td>\n",
       "      <td>1</td>\n",
       "      <td>0</td>\n",
       "      <td>0</td>\n",
       "      <td>0</td>\n",
       "      <td>0</td>\n",
       "      <td>0</td>\n",
       "    </tr>\n",
       "    <tr>\n",
       "      <th>1</th>\n",
       "      <td>2018</td>\n",
       "      <td>11</td>\n",
       "      <td>1</td>\n",
       "      <td>17031010201</td>\n",
       "      <td>0</td>\n",
       "      <td>14.0</td>\n",
       "      <td>7.0</td>\n",
       "      <td>7.0</td>\n",
       "      <td>9.821429</td>\n",
       "      <td>0.500000</td>\n",
       "      <td>...</td>\n",
       "      <td>123.137439</td>\n",
       "      <td>36138.068614</td>\n",
       "      <td>13800.131899</td>\n",
       "      <td>36817.934531</td>\n",
       "      <td>1</td>\n",
       "      <td>0</td>\n",
       "      <td>0</td>\n",
       "      <td>0</td>\n",
       "      <td>0</td>\n",
       "      <td>0</td>\n",
       "    </tr>\n",
       "    <tr>\n",
       "      <th>2</th>\n",
       "      <td>2018</td>\n",
       "      <td>11</td>\n",
       "      <td>1</td>\n",
       "      <td>17031010202</td>\n",
       "      <td>0</td>\n",
       "      <td>7.0</td>\n",
       "      <td>3.0</td>\n",
       "      <td>4.0</td>\n",
       "      <td>7.857143</td>\n",
       "      <td>1.285714</td>\n",
       "      <td>...</td>\n",
       "      <td>220.769408</td>\n",
       "      <td>21001.110263</td>\n",
       "      <td>8114.734751</td>\n",
       "      <td>26680.461350</td>\n",
       "      <td>1</td>\n",
       "      <td>0</td>\n",
       "      <td>0</td>\n",
       "      <td>0</td>\n",
       "      <td>0</td>\n",
       "      <td>0</td>\n",
       "    </tr>\n",
       "    <tr>\n",
       "      <th>3</th>\n",
       "      <td>2018</td>\n",
       "      <td>11</td>\n",
       "      <td>1</td>\n",
       "      <td>17031010300</td>\n",
       "      <td>0</td>\n",
       "      <td>25.0</td>\n",
       "      <td>14.0</td>\n",
       "      <td>11.0</td>\n",
       "      <td>9.900000</td>\n",
       "      <td>0.040000</td>\n",
       "      <td>...</td>\n",
       "      <td>224.821592</td>\n",
       "      <td>36488.070868</td>\n",
       "      <td>16663.800184</td>\n",
       "      <td>42603.717210</td>\n",
       "      <td>1</td>\n",
       "      <td>0</td>\n",
       "      <td>0</td>\n",
       "      <td>0</td>\n",
       "      <td>0</td>\n",
       "      <td>0</td>\n",
       "    </tr>\n",
       "    <tr>\n",
       "      <th>4</th>\n",
       "      <td>2018</td>\n",
       "      <td>11</td>\n",
       "      <td>1</td>\n",
       "      <td>17031010400</td>\n",
       "      <td>0</td>\n",
       "      <td>19.0</td>\n",
       "      <td>13.0</td>\n",
       "      <td>6.0</td>\n",
       "      <td>11.578947</td>\n",
       "      <td>0.315789</td>\n",
       "      <td>...</td>\n",
       "      <td>1288.118850</td>\n",
       "      <td>11591.417597</td>\n",
       "      <td>4359.434757</td>\n",
       "      <td>23189.159413</td>\n",
       "      <td>1</td>\n",
       "      <td>0</td>\n",
       "      <td>0</td>\n",
       "      <td>0</td>\n",
       "      <td>0</td>\n",
       "      <td>0</td>\n",
       "    </tr>\n",
       "  </tbody>\n",
       "</table>\n",
       "<p>5 rows × 168 columns</p>\n",
       "</div>"
      ],
      "text/plain": [
       "   YEAR  MONTH  TOD  DESTINATION  AIR_F  DROPOFFS  PRIVATE_DROPOFFS  \\\n",
       "0  2018     11    1  17031010100      0      17.0              12.0   \n",
       "1  2018     11    1  17031010201      0      14.0               7.0   \n",
       "2  2018     11    1  17031010202      0       7.0               3.0   \n",
       "3  2018     11    1  17031010300      0      25.0              14.0   \n",
       "4  2018     11    1  17031010400      0      19.0              13.0   \n",
       "\n",
       "   SHARED_DROPOFFS       FARE       TIP  ...  FOOD_EMP_DEN       POP_DEN  \\\n",
       "0              5.0  11.470588  0.647059  ...      6.792316  30734.315785   \n",
       "1              7.0   9.821429  0.500000  ...    123.137439  36138.068614   \n",
       "2              4.0   7.857143  1.285714  ...    220.769408  21001.110263   \n",
       "3             11.0   9.900000  0.040000  ...    224.821592  36488.070868   \n",
       "4              6.0  11.578947  0.315789  ...   1288.118850  11591.417597   \n",
       "\n",
       "   TOTAL_HHLDS_DEN       E_P_DEN  TOD_1  TOD_2  TOD_3  TOD_4  TOD_5  TOR_F  \n",
       "0     15740.971994  33263.214330      1      0      0      0      0      0  \n",
       "1     13800.131899  36817.934531      1      0      0      0      0      0  \n",
       "2      8114.734751  26680.461350      1      0      0      0      0      0  \n",
       "3     16663.800184  42603.717210      1      0      0      0      0      0  \n",
       "4      4359.434757  23189.159413      1      0      0      0      0      0  \n",
       "\n",
       "[5 rows x 168 columns]"
      ]
     },
     "execution_count": 80,
     "metadata": {},
     "output_type": "execute_result"
    }
   ],
   "source": [
    "df2.head()"
   ]
  },
  {
   "cell_type": "code",
   "execution_count": 81,
   "metadata": {},
   "outputs": [
    {
     "data": {
      "text/plain": [
       "Index(['NAMELSAD10', 'GEOID10', 'Census Tract', '0_LOW', '1_LOW', '2_LOW',\n",
       "       '3P_LOW', '0_HI', '1_HI', '2_HI', '3P_HI', '1P_HI', '1P_LOW'],\n",
       "      dtype='object')"
      ]
     },
     "execution_count": 81,
     "metadata": {},
     "output_type": "execute_result"
    }
   ],
   "source": [
    "veh_inc.columns"
   ]
  },
  {
   "cell_type": "code",
   "execution_count": 82,
   "metadata": {},
   "outputs": [],
   "source": [
    "veh_inc.columns = ['NAMELSAD10', 'GEOID10', 'Census Tract', 'LOW_INC_0', 'LOW_INC_1', 'LOW_INC_2',\n",
    "       'LOW_3P', 'HI_INC_0', \n",
    " 'HI_INC_1', 'HI_INC_2','HI_INC_3P', 'HI_INC_1P', 'LOW_INC_1P']"
   ]
  },
  {
   "cell_type": "code",
   "execution_count": 83,
   "metadata": {},
   "outputs": [
    {
     "data": {
      "text/html": [
       "<div>\n",
       "<style scoped>\n",
       "    .dataframe tbody tr th:only-of-type {\n",
       "        vertical-align: middle;\n",
       "    }\n",
       "\n",
       "    .dataframe tbody tr th {\n",
       "        vertical-align: top;\n",
       "    }\n",
       "\n",
       "    .dataframe thead th {\n",
       "        text-align: right;\n",
       "    }\n",
       "</style>\n",
       "<table border=\"1\" class=\"dataframe\">\n",
       "  <thead>\n",
       "    <tr style=\"text-align: right;\">\n",
       "      <th></th>\n",
       "      <th>NAMELSAD10</th>\n",
       "      <th>GEOID10</th>\n",
       "      <th>Census Tract</th>\n",
       "      <th>LOW_INC_0</th>\n",
       "      <th>LOW_INC_1</th>\n",
       "      <th>LOW_INC_2</th>\n",
       "      <th>LOW_3P</th>\n",
       "      <th>HI_INC_0</th>\n",
       "      <th>HI_INC_1</th>\n",
       "      <th>HI_INC_2</th>\n",
       "      <th>HI_INC_3P</th>\n",
       "      <th>HI_INC_1P</th>\n",
       "      <th>LOW_INC_1P</th>\n",
       "    </tr>\n",
       "  </thead>\n",
       "  <tbody>\n",
       "    <tr>\n",
       "      <th>0</th>\n",
       "      <td>8424.0</td>\n",
       "      <td>17031842400</td>\n",
       "      <td>8424.0</td>\n",
       "      <td>315</td>\n",
       "      <td>655</td>\n",
       "      <td>165</td>\n",
       "      <td>35</td>\n",
       "      <td>20</td>\n",
       "      <td>200</td>\n",
       "      <td>50</td>\n",
       "      <td>10</td>\n",
       "      <td>260</td>\n",
       "      <td>855</td>\n",
       "    </tr>\n",
       "    <tr>\n",
       "      <th>1</th>\n",
       "      <td>8403.0</td>\n",
       "      <td>17031840300</td>\n",
       "      <td>8403.0</td>\n",
       "      <td>105</td>\n",
       "      <td>530</td>\n",
       "      <td>320</td>\n",
       "      <td>28</td>\n",
       "      <td>19</td>\n",
       "      <td>100</td>\n",
       "      <td>65</td>\n",
       "      <td>50</td>\n",
       "      <td>215</td>\n",
       "      <td>878</td>\n",
       "    </tr>\n",
       "    <tr>\n",
       "      <th>2</th>\n",
       "      <td>8411.0</td>\n",
       "      <td>17031841100</td>\n",
       "      <td>8411.0</td>\n",
       "      <td>1045</td>\n",
       "      <td>1080</td>\n",
       "      <td>214</td>\n",
       "      <td>20</td>\n",
       "      <td>25</td>\n",
       "      <td>1400</td>\n",
       "      <td>125</td>\n",
       "      <td>15</td>\n",
       "      <td>1540</td>\n",
       "      <td>1314</td>\n",
       "    </tr>\n",
       "    <tr>\n",
       "      <th>3</th>\n",
       "      <td>8412.0</td>\n",
       "      <td>17031841200</td>\n",
       "      <td>8412.0</td>\n",
       "      <td>495</td>\n",
       "      <td>775</td>\n",
       "      <td>130</td>\n",
       "      <td>130</td>\n",
       "      <td>0</td>\n",
       "      <td>300</td>\n",
       "      <td>70</td>\n",
       "      <td>10</td>\n",
       "      <td>380</td>\n",
       "      <td>1035</td>\n",
       "    </tr>\n",
       "    <tr>\n",
       "      <th>4</th>\n",
       "      <td>8390.0</td>\n",
       "      <td>17031839000</td>\n",
       "      <td>8390.0</td>\n",
       "      <td>1290</td>\n",
       "      <td>1135</td>\n",
       "      <td>45</td>\n",
       "      <td>30</td>\n",
       "      <td>585</td>\n",
       "      <td>490620</td>\n",
       "      <td>335</td>\n",
       "      <td>0</td>\n",
       "      <td>490955</td>\n",
       "      <td>1210</td>\n",
       "    </tr>\n",
       "  </tbody>\n",
       "</table>\n",
       "</div>"
      ],
      "text/plain": [
       "   NAMELSAD10      GEOID10  Census Tract  LOW_INC_0  LOW_INC_1  LOW_INC_2  \\\n",
       "0      8424.0  17031842400        8424.0        315        655        165   \n",
       "1      8403.0  17031840300        8403.0        105        530        320   \n",
       "2      8411.0  17031841100        8411.0       1045       1080        214   \n",
       "3      8412.0  17031841200        8412.0        495        775        130   \n",
       "4      8390.0  17031839000        8390.0       1290       1135         45   \n",
       "\n",
       "   LOW_3P  HI_INC_0  HI_INC_1  HI_INC_2  HI_INC_3P  HI_INC_1P  LOW_INC_1P  \n",
       "0      35        20       200        50         10        260         855  \n",
       "1      28        19       100        65         50        215         878  \n",
       "2      20        25      1400       125         15       1540        1314  \n",
       "3     130         0       300        70         10        380        1035  \n",
       "4      30       585    490620       335          0     490955        1210  "
      ]
     },
     "execution_count": 83,
     "metadata": {},
     "output_type": "execute_result"
    }
   ],
   "source": [
    "veh_inc.head()"
   ]
  },
  {
   "cell_type": "code",
   "execution_count": 84,
   "metadata": {},
   "outputs": [],
   "source": [
    "df2 = df2.merge(veh_inc, how = 'left', left_on = 'DESTINATION', right_on = 'GEOID10')"
   ]
  },
  {
   "cell_type": "code",
   "execution_count": null,
   "metadata": {},
   "outputs": [],
   "source": []
  },
  {
   "cell_type": "code",
   "execution_count": 85,
   "metadata": {},
   "outputs": [],
   "source": [
    "variables = ['AIR_F','TOTAL_EMP',\n",
    "'RETAIL_EMP',\n",
    "'OTHER_EMP',\n",
    "'FOOD_EMP','TOTAL_POP','PER_RETAIL','PER_OTHER','PER_FOOD',\n",
    "'TOTAL_HHLDS',\n",
    "'AVG_HHLD_SIZE',\n",
    "'HHLDS_MEAN_INCOME',\n",
    "'HHLDS_LESS_35K',\n",
    "'HHLDS_35K_150K',\n",
    "'HHLDS_MORE_150K',\n",
    "'HHLDS_0_VEH',\n",
    "'AVG_VEH_PER_HHLD',\n",
    "'HHLDS_MEDIAN_INCOME',\n",
    "'TOTAL_POP_25P_BACHELORS_HIGHER',\n",
    "'TOTAL_MALE','TOR_F','PER_20_35','P_BACH_25P','PER_35_65','PER_65P',\n",
    "'TOTAL_FEMALE','LOGSUM','HI_INC_0','MED_INC_0','LOW_INC_0','HI_INC_1P','MED_INC_1P','POP_DEN',\n",
    "'LOW_INC_1P','MEDIAN_AGE','E_P','E_P_DEN']\n",
    "\n",
    "#for var in variables:\n",
    "  #  df2[var + '_1'] = df2[var]*df2['TOD_1']\n",
    "   # df2[var + '_2'] = df2[var]*df2['TOD_2']\n",
    "    #df2[var + '_3'] = df2[var]*df2['TOD_3']\n",
    "    #df2[var + '_4'] = df2[var]*df2['TOD_4']\n",
    "    #df2[var + '_5'] = df2[var]*df2['TOD_5']"
   ]
  },
  {
   "cell_type": "code",
   "execution_count": 86,
   "metadata": {},
   "outputs": [],
   "source": [
    "df2 = df2.fillna(0)"
   ]
  },
  {
   "cell_type": "code",
   "execution_count": 87,
   "metadata": {},
   "outputs": [],
   "source": [
    "df2['ENTITY'] = df2['CENSUS_TRACT']\n",
    "df2['TIME'] = df2['YEAR']*1000 + df2['MONTH']*10 + df2['TOD']"
   ]
  },
  {
   "cell_type": "code",
   "execution_count": 88,
   "metadata": {},
   "outputs": [
    {
     "data": {
      "text/plain": [
       "17021"
      ]
     },
     "execution_count": 88,
     "metadata": {},
     "output_type": "execute_result"
    }
   ],
   "source": [
    "len(df2[df2['DROPOFFS'] == 0])"
   ]
  },
  {
   "cell_type": "code",
   "execution_count": 89,
   "metadata": {},
   "outputs": [
    {
     "data": {
      "text/plain": [
       "64080"
      ]
     },
     "execution_count": 89,
     "metadata": {},
     "output_type": "execute_result"
    }
   ],
   "source": [
    "len(df2)"
   ]
  },
  {
   "cell_type": "code",
   "execution_count": 90,
   "metadata": {},
   "outputs": [],
   "source": [
    "df2['JAN'] = np.where(df2['MONTH'] == 1,1,0)\n",
    "df2['FEB'] = np.where(df2['MONTH'] == 2,1,0)\n",
    "df2['MAR'] = np.where(df2['MONTH'] == 3,1,0)\n",
    "df2['APR'] = np.where(df2['MONTH'] == 4,1,0)\n",
    "df2['MAY'] = np.where(df2['MONTH'] == 5,1,0)\n",
    "df2['JUN'] = np.where(df2['MONTH'] == 6,1,0)\n",
    "df2['JUL'] = np.where(df2['MONTH'] == 7,1,0)\n",
    "df2['AUG'] = np.where(df2['MONTH'] == 8,1,0)\n",
    "df2['SEP'] = np.where(df2['MONTH'] == 9,1,0)\n",
    "df2['OCT'] = np.where(df2['MONTH'] == 10,1,0)\n",
    "df2['NOV'] = np.where(df2['MONTH'] == 11,1,0)\n",
    "df2['DEC'] = np.where(df2['MONTH'] == 12,1,0)"
   ]
  },
  {
   "cell_type": "code",
   "execution_count": 91,
   "metadata": {},
   "outputs": [],
   "source": [
    "tod1 = df2[df2['TOD'] == 1]\n",
    "tod2 = df2[df2['TOD'] == 2]\n",
    "tod3 = df2[df2['TOD'] == 3]\n",
    "tod4 = df2[df2['TOD'] == 4]\n",
    "tod5 = df2[df2['TOD'] == 5]"
   ]
  },
  {
   "cell_type": "code",
   "execution_count": 92,
   "metadata": {},
   "outputs": [],
   "source": [
    "tod1.to_csv('C:/Workspace/TNC-Demand-Model/Outputs/Trip_Generation_Destination_Estimation_File_TOD_1.csv')\n",
    "tod2.to_csv('C:/Workspace/TNC-Demand-Model/Outputs/Trip_Generation_Destination_Estimation_File_TOD_2.csv')\n",
    "tod3.to_csv('C:/Workspace/TNC-Demand-Model/Outputs/Trip_Generation_Destination_Estimation_File_TOD_3.csv')\n",
    "tod4.to_csv('C:/Workspace/TNC-Demand-Model/Outputs/Trip_Generation_Destination_Estimation_File_TOD_4.csv')\n",
    "tod5.to_csv('C:/Workspace/TNC-Demand-Model/Outputs/Trip_Generation_Destination_Estimation_File_TOD_5.csv')"
   ]
  },
  {
   "cell_type": "code",
   "execution_count": 93,
   "metadata": {},
   "outputs": [
    {
     "data": {
      "text/plain": [
       "128694.0"
      ]
     },
     "execution_count": 93,
     "metadata": {},
     "output_type": "execute_result"
    }
   ],
   "source": [
    "tod1.DROPOFFS.sum()"
   ]
  },
  {
   "cell_type": "code",
   "execution_count": 94,
   "metadata": {},
   "outputs": [
    {
     "data": {
      "text/plain": [
       "118799.0"
      ]
     },
     "execution_count": 94,
     "metadata": {},
     "output_type": "execute_result"
    }
   ],
   "source": [
    "tod2.DROPOFFS.sum()"
   ]
  },
  {
   "cell_type": "code",
   "execution_count": 95,
   "metadata": {},
   "outputs": [],
   "source": [
    "df2.to_csv('C:/Workspace/TNC-Demand-Model/Outputs/Trip_Generation_Destination_Estimation_File.csv')"
   ]
  },
  {
   "cell_type": "code",
   "execution_count": 236,
   "metadata": {
    "scrolled": true
   },
   "outputs": [
    {
     "data": {
      "text/html": [
       "<div>\n",
       "<style scoped>\n",
       "    .dataframe tbody tr th:only-of-type {\n",
       "        vertical-align: middle;\n",
       "    }\n",
       "\n",
       "    .dataframe tbody tr th {\n",
       "        vertical-align: top;\n",
       "    }\n",
       "\n",
       "    .dataframe thead th {\n",
       "        text-align: right;\n",
       "    }\n",
       "</style>\n",
       "<table border=\"1\" class=\"dataframe\">\n",
       "  <thead>\n",
       "    <tr style=\"text-align: right;\">\n",
       "      <th></th>\n",
       "      <th>YEAR</th>\n",
       "      <th>MONTH</th>\n",
       "      <th>TOD</th>\n",
       "      <th>DESTINATION</th>\n",
       "      <th>AIR_F</th>\n",
       "      <th>DROPOFFS</th>\n",
       "      <th>PRIVATE_DROPOFFS</th>\n",
       "      <th>SHARED_DROPOFFS</th>\n",
       "      <th>FARE</th>\n",
       "      <th>TIP</th>\n",
       "      <th>...</th>\n",
       "      <th>LOW_INC_2</th>\n",
       "      <th>LOW_3P</th>\n",
       "      <th>HI_INC_0</th>\n",
       "      <th>HI_INC_1</th>\n",
       "      <th>HI_INC_2</th>\n",
       "      <th>HI_INC_3P</th>\n",
       "      <th>HI_INC_1P</th>\n",
       "      <th>LOW_INC_1P</th>\n",
       "      <th>ENTITY</th>\n",
       "      <th>TIME</th>\n",
       "    </tr>\n",
       "  </thead>\n",
       "  <tbody>\n",
       "  </tbody>\n",
       "</table>\n",
       "<p>0 rows × 181 columns</p>\n",
       "</div>"
      ],
      "text/plain": [
       "Empty DataFrame\n",
       "Columns: [YEAR, MONTH, TOD, DESTINATION, AIR_F, DROPOFFS, PRIVATE_DROPOFFS, SHARED_DROPOFFS, FARE, TIP, ADDITIONAL_CHARGES, TOTAL_COST, NUM_TRIPS_POOLED, ORIGIN_x, TOTAL_POP_WITHIN_5, TOTAL_POP_WITHIN_15, TOTAL_POP_WITHIN_30, TOTAL_POP_WITHIN_45, TOTAL_POP_WITHIN_60, TOTAL_HHLDS_MORE_150K_WITHIN_60, TOTAL_HHLDS_MORE_150K_WITHIN_45, TOTAL_HHLDS_MORE_150K_WITHIN_30, TOTAL_HHLDS_MORE_150K_WITHIN_15, TOTAL_HHLDS_MORE_150K_WITHIN_5, TOTAL_HHLDS_WITHIN_60, TOTAL_HHLDS_WITHIN_45, TOTAL_HHLDS_WITHIN_30, TOTAL_HHLDS_WITHIN_15, TOTAL_HHLDS_WITHIN_5, FOOD_SERVICES_EMP_WITHIN_60, FOOD_SERVICES_EMP_WITHIN_45, FOOD_SERVICES_EMP_WITHIN_30, FOOD_SERVICES_EMP_WITHIN_15, FOOD_SERVICES_EMP_WITHIN_5, OTHER_EMP_WITHIN_60, OTHER_EMP_WITHIN_45, OTHER_EMP_WITHIN_30, OTHER_EMP_WITHIN_15, OTHER_EMP_WITHIN_5, RETAIL_EMP_WITHIN_60, RETAIL_EMP_WITHIN_45, RETAIL_EMP_WITHIN_30, RETAIL_EMP_WITHIN_15, RETAIL_EMP_WITHIN_5, TOTAL_EMP_WITHIN_60, TOTAL_EMP_WITHIN_45, TOTAL_EMP_WITHIN_30, TOTAL_EMP_WITHIN_15, TOTAL_EMP_WITHIN_5, TRACTCE10, PER_OTHER, PER_FOOD, PER_RETAIL, TOTAL_EMP, RETAIL_EMP, OTHER_EMP, FOOD_EMP, PER_20_35, P_BACH_25P, PER_35_65, PER_65P, CENSUS_TRACT, TOTAL_POP, TOTAL_HHLDS, AVG_HHLD_SIZE, HHLDS_MEAN_INCOME, HHLDS_LESS_35K, HHLDS_35K_150K, HHLDS_MORE_150K, HHLDS_0_VEH, AVG_VEH_PER_HHLD, HHLDS_MEDIAN_INCOME, TOTAL_POP_25P_BACHELORS_HIGHER, TOTAL_MALE, TOTAL_FEMALE, MEDIAN_AGE, ORIGIN_y, LOGSUM, ORIGIN_AUTO, TOTAL_POP_WITHIN_5_AUTO, TOTAL_POP_WITHIN_15_AUTO, TOTAL_POP_WITHIN_30_AUTO, TOTAL_POP_WITHIN_45_AUTO, TOTAL_POP_WITHIN_60_AUTO, TOTAL_HHLDS_MORE_150K_WITHIN_60_AUTO, TOTAL_HHLDS_MORE_150K_WITHIN_45_AUTO, TOTAL_HHLDS_MORE_150K_WITHIN_30_AUTO, TOTAL_HHLDS_MORE_150K_WITHIN_15_AUTO, TOTAL_HHLDS_MORE_150K_WITHIN_5_AUTO, TOTAL_HHLDS_WITHIN_60_AUTO, TOTAL_HHLDS_WITHIN_45_AUTO, TOTAL_HHLDS_WITHIN_30_AUTO, TOTAL_HHLDS_WITHIN_15_AUTO, TOTAL_HHLDS_WITHIN_5_AUTO, FOOD_SERVICES_EMP_WITHIN_60_AUTO, FOOD_SERVICES_EMP_WITHIN_45_AUTO, FOOD_SERVICES_EMP_WITHIN_30_AUTO, FOOD_SERVICES_EMP_WITHIN_15_AUTO, FOOD_SERVICES_EMP_WITHIN_5_AUTO, OTHER_EMP_WITHIN_60_AUTO, ...]\n",
       "Index: []\n",
       "\n",
       "[0 rows x 181 columns]"
      ]
     },
     "execution_count": 236,
     "metadata": {},
     "output_type": "execute_result"
    }
   ],
   "source": [
    "df2[np.isnan(df2['TOTAL_EMP'])]"
   ]
  },
  {
   "cell_type": "code",
   "execution_count": 121,
   "metadata": {},
   "outputs": [
    {
     "data": {
      "text/html": [
       "<div>\n",
       "<style scoped>\n",
       "    .dataframe tbody tr th:only-of-type {\n",
       "        vertical-align: middle;\n",
       "    }\n",
       "\n",
       "    .dataframe tbody tr th {\n",
       "        vertical-align: top;\n",
       "    }\n",
       "\n",
       "    .dataframe thead th {\n",
       "        text-align: right;\n",
       "    }\n",
       "</style>\n",
       "<table border=\"1\" class=\"dataframe\">\n",
       "  <thead>\n",
       "    <tr style=\"text-align: right;\">\n",
       "      <th></th>\n",
       "      <th>YEAR</th>\n",
       "      <th>MONTH</th>\n",
       "      <th>TOD</th>\n",
       "      <th>DESTINATION</th>\n",
       "      <th>AIR_F</th>\n",
       "      <th>DROPOFFS</th>\n",
       "      <th>PRIVATE_DROPOFFS</th>\n",
       "      <th>SHARED_DROPOFFS</th>\n",
       "      <th>FARE</th>\n",
       "      <th>TIP</th>\n",
       "      <th>...</th>\n",
       "      <th>E_P_3</th>\n",
       "      <th>E_P_4</th>\n",
       "      <th>E_P_5</th>\n",
       "      <th>E_P_DEN_1</th>\n",
       "      <th>E_P_DEN_2</th>\n",
       "      <th>E_P_DEN_3</th>\n",
       "      <th>E_P_DEN_4</th>\n",
       "      <th>E_P_DEN_5</th>\n",
       "      <th>ENTITY</th>\n",
       "      <th>TIME</th>\n",
       "    </tr>\n",
       "  </thead>\n",
       "  <tbody>\n",
       "    <tr>\n",
       "      <th>0</th>\n",
       "      <td>2018</td>\n",
       "      <td>11</td>\n",
       "      <td>1</td>\n",
       "      <td>17031010100</td>\n",
       "      <td>0</td>\n",
       "      <td>3.4</td>\n",
       "      <td>2.4</td>\n",
       "      <td>1.0</td>\n",
       "      <td>10.166667</td>\n",
       "      <td>0.400000</td>\n",
       "      <td>...</td>\n",
       "      <td>0.0</td>\n",
       "      <td>0.0</td>\n",
       "      <td>0.0</td>\n",
       "      <td>33263.214330</td>\n",
       "      <td>0.0</td>\n",
       "      <td>0.0</td>\n",
       "      <td>0.0</td>\n",
       "      <td>0.0</td>\n",
       "      <td>17031010100</td>\n",
       "      <td>2018111</td>\n",
       "    </tr>\n",
       "    <tr>\n",
       "      <th>1</th>\n",
       "      <td>2018</td>\n",
       "      <td>11</td>\n",
       "      <td>1</td>\n",
       "      <td>17031010201</td>\n",
       "      <td>0</td>\n",
       "      <td>2.8</td>\n",
       "      <td>1.4</td>\n",
       "      <td>1.4</td>\n",
       "      <td>9.516667</td>\n",
       "      <td>0.360000</td>\n",
       "      <td>...</td>\n",
       "      <td>0.0</td>\n",
       "      <td>0.0</td>\n",
       "      <td>0.0</td>\n",
       "      <td>36817.934531</td>\n",
       "      <td>0.0</td>\n",
       "      <td>0.0</td>\n",
       "      <td>0.0</td>\n",
       "      <td>0.0</td>\n",
       "      <td>17031010201</td>\n",
       "      <td>2018111</td>\n",
       "    </tr>\n",
       "    <tr>\n",
       "      <th>2</th>\n",
       "      <td>2018</td>\n",
       "      <td>11</td>\n",
       "      <td>1</td>\n",
       "      <td>17031010202</td>\n",
       "      <td>0</td>\n",
       "      <td>1.4</td>\n",
       "      <td>0.6</td>\n",
       "      <td>0.8</td>\n",
       "      <td>7.500000</td>\n",
       "      <td>1.400000</td>\n",
       "      <td>...</td>\n",
       "      <td>0.0</td>\n",
       "      <td>0.0</td>\n",
       "      <td>0.0</td>\n",
       "      <td>26680.461350</td>\n",
       "      <td>0.0</td>\n",
       "      <td>0.0</td>\n",
       "      <td>0.0</td>\n",
       "      <td>0.0</td>\n",
       "      <td>17031010202</td>\n",
       "      <td>2018111</td>\n",
       "    </tr>\n",
       "    <tr>\n",
       "      <th>3</th>\n",
       "      <td>2018</td>\n",
       "      <td>11</td>\n",
       "      <td>1</td>\n",
       "      <td>17031010300</td>\n",
       "      <td>0</td>\n",
       "      <td>5.0</td>\n",
       "      <td>2.8</td>\n",
       "      <td>2.2</td>\n",
       "      <td>10.132540</td>\n",
       "      <td>0.028571</td>\n",
       "      <td>...</td>\n",
       "      <td>0.0</td>\n",
       "      <td>0.0</td>\n",
       "      <td>0.0</td>\n",
       "      <td>42603.717210</td>\n",
       "      <td>0.0</td>\n",
       "      <td>0.0</td>\n",
       "      <td>0.0</td>\n",
       "      <td>0.0</td>\n",
       "      <td>17031010300</td>\n",
       "      <td>2018111</td>\n",
       "    </tr>\n",
       "    <tr>\n",
       "      <th>4</th>\n",
       "      <td>2018</td>\n",
       "      <td>11</td>\n",
       "      <td>1</td>\n",
       "      <td>17031010400</td>\n",
       "      <td>0</td>\n",
       "      <td>3.8</td>\n",
       "      <td>2.6</td>\n",
       "      <td>1.2</td>\n",
       "      <td>11.200000</td>\n",
       "      <td>0.400000</td>\n",
       "      <td>...</td>\n",
       "      <td>0.0</td>\n",
       "      <td>0.0</td>\n",
       "      <td>0.0</td>\n",
       "      <td>23189.159413</td>\n",
       "      <td>0.0</td>\n",
       "      <td>0.0</td>\n",
       "      <td>0.0</td>\n",
       "      <td>0.0</td>\n",
       "      <td>17031010400</td>\n",
       "      <td>2018111</td>\n",
       "    </tr>\n",
       "  </tbody>\n",
       "</table>\n",
       "<p>5 rows × 407 columns</p>\n",
       "</div>"
      ],
      "text/plain": [
       "   YEAR  MONTH  TOD  DESTINATION  AIR_F  DROPOFFS  PRIVATE_DROPOFFS  \\\n",
       "0  2018     11    1  17031010100      0       3.4               2.4   \n",
       "1  2018     11    1  17031010201      0       2.8               1.4   \n",
       "2  2018     11    1  17031010202      0       1.4               0.6   \n",
       "3  2018     11    1  17031010300      0       5.0               2.8   \n",
       "4  2018     11    1  17031010400      0       3.8               2.6   \n",
       "\n",
       "   SHARED_DROPOFFS       FARE       TIP  ...  E_P_3  E_P_4  E_P_5  \\\n",
       "0              1.0  10.166667  0.400000  ...    0.0    0.0    0.0   \n",
       "1              1.4   9.516667  0.360000  ...    0.0    0.0    0.0   \n",
       "2              0.8   7.500000  1.400000  ...    0.0    0.0    0.0   \n",
       "3              2.2  10.132540  0.028571  ...    0.0    0.0    0.0   \n",
       "4              1.2  11.200000  0.400000  ...    0.0    0.0    0.0   \n",
       "\n",
       "      E_P_DEN_1  E_P_DEN_2  E_P_DEN_3  E_P_DEN_4  E_P_DEN_5       ENTITY  \\\n",
       "0  33263.214330        0.0        0.0        0.0        0.0  17031010100   \n",
       "1  36817.934531        0.0        0.0        0.0        0.0  17031010201   \n",
       "2  26680.461350        0.0        0.0        0.0        0.0  17031010202   \n",
       "3  42603.717210        0.0        0.0        0.0        0.0  17031010300   \n",
       "4  23189.159413        0.0        0.0        0.0        0.0  17031010400   \n",
       "\n",
       "      TIME  \n",
       "0  2018111  \n",
       "1  2018111  \n",
       "2  2018111  \n",
       "3  2018111  \n",
       "4  2018111  \n",
       "\n",
       "[5 rows x 407 columns]"
      ]
     },
     "execution_count": 121,
     "metadata": {},
     "output_type": "execute_result"
    }
   ],
   "source": [
    "df2.head()"
   ]
  },
  {
   "cell_type": "code",
   "execution_count": 120,
   "metadata": {},
   "outputs": [
    {
     "data": {
      "text/plain": [
       "<matplotlib.axes._subplots.AxesSubplot at 0x1d513728908>"
      ]
     },
     "execution_count": 120,
     "metadata": {},
     "output_type": "execute_result"
    },
    {
     "data": {
      "image/png": "[encoded data removed]",
      "text/plain": [
       "<Figure size 432x288 with 1 Axes>"
      ]
     },
     "metadata": {
      "needs_background": "light"
     },
     "output_type": "display_data"
    }
   ],
   "source": [
    "sns.scatterplot(y = df2['DROPOFFS'], x = df2['E_P_DEN'], alpha = 0.1)"
   ]
  },
  {
   "cell_type": "code",
   "execution_count": null,
   "metadata": {},
   "outputs": [],
   "source": [
    "#df2 = df2[df2['ORIGIN'] != 17031030702]"
   ]
  },
  {
   "cell_type": "code",
   "execution_count": null,
   "metadata": {},
   "outputs": [],
   "source": [
    "sns.scatterplot(y = df2['DROPOFFS'], x = df2['E_P_DEN'], hue = df2['TOD'])"
   ]
  },
  {
   "cell_type": "code",
   "execution_count": null,
   "metadata": {},
   "outputs": [],
   "source": [
    "sns.regplot(y = df2['PICKUPS'], x = df2['E_P_DEN'])"
   ]
  },
  {
   "cell_type": "code",
   "execution_count": null,
   "metadata": {},
   "outputs": [],
   "source": [
    "df2[df2['E_P_DEN'] > 750000].ORIGIN.unique()"
   ]
  },
  {
   "cell_type": "code",
   "execution_count": null,
   "metadata": {},
   "outputs": [],
   "source": [
    "df2[df2['DESTINATION'] == 17031030702].PICKUPS.sum()"
   ]
  },
  {
   "cell_type": "code",
   "execution_count": null,
   "metadata": {},
   "outputs": [],
   "source": [
    "len(df[df['DESTINATION'] == 17031030702])"
   ]
  },
  {
   "cell_type": "code",
   "execution_count": null,
   "metadata": {},
   "outputs": [],
   "source": [
    "df2[df2['DESTINATION'] == 17031839100].PICKUPS.sum()"
   ]
  },
  {
   "cell_type": "code",
   "execution_count": null,
   "metadata": {},
   "outputs": [],
   "source": [
    "len(df[df['DESTINATION'] == 17031839100])"
   ]
  },
  {
   "cell_type": "code",
   "execution_count": null,
   "metadata": {},
   "outputs": [],
   "source": [
    "df2[(df2['E_P_DEN'] > 700000)&(df2['DROPOFFS'] <60)]"
   ]
  },
  {
   "cell_type": "code",
   "execution_count": 124,
   "metadata": {},
   "outputs": [
    {
     "data": {
      "text/plain": [
       "<seaborn.axisgrid.FacetGrid at 0x1d50dcca848>"
      ]
     },
     "execution_count": 124,
     "metadata": {},
     "output_type": "execute_result"
    },
    {
     "data": {
      "image/png": "[encoded data removed]",
      "text/plain": [
       "<Figure size 360x360 with 1 Axes>"
      ]
     },
     "metadata": {
      "needs_background": "light"
     },
     "output_type": "display_data"
    }
   ],
   "source": [
    "sns.displot(df2['DROPOFFS'])"
   ]
  },
  {
   "cell_type": "code",
   "execution_count": null,
   "metadata": {},
   "outputs": [],
   "source": []
  },
  {
   "cell_type": "code",
   "execution_count": null,
   "metadata": {},
   "outputs": [],
   "source": []
  },
  {
   "cell_type": "code",
   "execution_count": null,
   "metadata": {},
   "outputs": [],
   "source": []
  },
  {
   "cell_type": "code",
   "execution_count": null,
   "metadata": {},
   "outputs": [],
   "source": []
  },
  {
   "cell_type": "code",
   "execution_count": null,
   "metadata": {},
   "outputs": [],
   "source": []
  },
  {
   "cell_type": "code",
   "execution_count": null,
   "metadata": {},
   "outputs": [],
   "source": []
  },
  {
   "cell_type": "code",
   "execution_count": null,
   "metadata": {},
   "outputs": [],
   "source": []
  },
  {
   "cell_type": "code",
   "execution_count": null,
   "metadata": {},
   "outputs": [],
   "source": []
  },
  {
   "cell_type": "code",
   "execution_count": null,
   "metadata": {},
   "outputs": [],
   "source": []
  },
  {
   "cell_type": "code",
   "execution_count": null,
   "metadata": {},
   "outputs": [],
   "source": []
  },
  {
   "cell_type": "code",
   "execution_count": null,
   "metadata": {},
   "outputs": [],
   "source": []
  },
  {
   "cell_type": "code",
   "execution_count": null,
   "metadata": {},
   "outputs": [],
   "source": []
  },
  {
   "cell_type": "code",
   "execution_count": null,
   "metadata": {},
   "outputs": [],
   "source": []
  },
  {
   "cell_type": "code",
   "execution_count": null,
   "metadata": {},
   "outputs": [],
   "source": []
  },
  {
   "cell_type": "code",
   "execution_count": null,
   "metadata": {},
   "outputs": [],
   "source": []
  },
  {
   "cell_type": "code",
   "execution_count": null,
   "metadata": {},
   "outputs": [],
   "source": []
  },
  {
   "cell_type": "code",
   "execution_count": null,
   "metadata": {},
   "outputs": [],
   "source": []
  },
  {
   "cell_type": "code",
   "execution_count": null,
   "metadata": {},
   "outputs": [],
   "source": []
  },
  {
   "cell_type": "code",
   "execution_count": null,
   "metadata": {},
   "outputs": [],
   "source": []
  },
  {
   "cell_type": "code",
   "execution_count": null,
   "metadata": {},
   "outputs": [],
   "source": []
  },
  {
   "cell_type": "code",
   "execution_count": null,
   "metadata": {},
   "outputs": [],
   "source": []
  }
 ],
 "metadata": {
  "kernelspec": {
   "display_name": "Python 3",
   "language": "python",
   "name": "python3"
  },
  "language_info": {
   "codemirror_mode": {
    "name": "ipython",
    "version": 3
   },
   "file_extension": ".py",
   "mimetype": "text/x-python",
   "name": "python",
   "nbconvert_exporter": "python",
   "pygments_lexer": "ipython3",
   "version": "3.7.6"
  }
 },
 "nbformat": 4,
 "nbformat_minor": 4
}
