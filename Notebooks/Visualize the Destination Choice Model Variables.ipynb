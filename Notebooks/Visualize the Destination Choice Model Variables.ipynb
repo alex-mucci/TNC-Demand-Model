{
 "cells": [
  {
   "cell_type": "code",
   "execution_count": 39,
   "metadata": {},
   "outputs": [],
   "source": [
    "import pandas as pd\n",
    "import numpy as np\n",
    "import geopandas as gp\n",
    "import folium"
   ]
  },
  {
   "cell_type": "code",
   "execution_count": 29,
   "metadata": {},
   "outputs": [],
   "source": [
    "df = pd.read_csv('T:/Ridehailing 3-Step Demand Model/Destination Choice Model/Formatted_Vehicle_Ownership_Income.csv', index_col = 0)"
   ]
  },
  {
   "cell_type": "code",
   "execution_count": 30,
   "metadata": {},
   "outputs": [
    {
     "data": {
      "text/html": [
       "<div>\n",
       "<style scoped>\n",
       "    .dataframe tbody tr th:only-of-type {\n",
       "        vertical-align: middle;\n",
       "    }\n",
       "\n",
       "    .dataframe tbody tr th {\n",
       "        vertical-align: top;\n",
       "    }\n",
       "\n",
       "    .dataframe thead th {\n",
       "        text-align: right;\n",
       "    }\n",
       "</style>\n",
       "<table border=\"1\" class=\"dataframe\">\n",
       "  <thead>\n",
       "    <tr style=\"text-align: right;\">\n",
       "      <th></th>\n",
       "      <th>NAMELSAD10</th>\n",
       "      <th>GEOID10</th>\n",
       "      <th>Census Tract</th>\n",
       "      <th>0_LOW</th>\n",
       "      <th>1_LOW</th>\n",
       "      <th>2_LOW</th>\n",
       "      <th>3P_LOW</th>\n",
       "      <th>0_MED</th>\n",
       "      <th>1_MED</th>\n",
       "      <th>2_MED</th>\n",
       "      <th>3P_MED</th>\n",
       "      <th>0_HI</th>\n",
       "      <th>1_HI</th>\n",
       "      <th>2_HI</th>\n",
       "      <th>3P_HI</th>\n",
       "      <th>1P_HI</th>\n",
       "      <th>1P_MED</th>\n",
       "      <th>1P_LOW</th>\n",
       "    </tr>\n",
       "  </thead>\n",
       "  <tbody>\n",
       "    <tr>\n",
       "      <th>0</th>\n",
       "      <td>8424.0</td>\n",
       "      <td>17031842400</td>\n",
       "      <td>8424.0</td>\n",
       "      <td>270</td>\n",
       "      <td>175</td>\n",
       "      <td>55</td>\n",
       "      <td>10</td>\n",
       "      <td>45</td>\n",
       "      <td>480</td>\n",
       "      <td>110</td>\n",
       "      <td>25</td>\n",
       "      <td>20</td>\n",
       "      <td>200</td>\n",
       "      <td>50</td>\n",
       "      <td>10</td>\n",
       "      <td>260</td>\n",
       "      <td>615</td>\n",
       "      <td>240</td>\n",
       "    </tr>\n",
       "    <tr>\n",
       "      <th>1</th>\n",
       "      <td>8403.0</td>\n",
       "      <td>17031840300</td>\n",
       "      <td>8403.0</td>\n",
       "      <td>45</td>\n",
       "      <td>270</td>\n",
       "      <td>70</td>\n",
       "      <td>4</td>\n",
       "      <td>60</td>\n",
       "      <td>260</td>\n",
       "      <td>250</td>\n",
       "      <td>24</td>\n",
       "      <td>19</td>\n",
       "      <td>100</td>\n",
       "      <td>65</td>\n",
       "      <td>50</td>\n",
       "      <td>215</td>\n",
       "      <td>534</td>\n",
       "      <td>344</td>\n",
       "    </tr>\n",
       "    <tr>\n",
       "      <th>2</th>\n",
       "      <td>8411.0</td>\n",
       "      <td>17031841100</td>\n",
       "      <td>8411.0</td>\n",
       "      <td>955</td>\n",
       "      <td>605</td>\n",
       "      <td>49</td>\n",
       "      <td>0</td>\n",
       "      <td>90</td>\n",
       "      <td>475</td>\n",
       "      <td>165</td>\n",
       "      <td>20</td>\n",
       "      <td>25</td>\n",
       "      <td>1400</td>\n",
       "      <td>125</td>\n",
       "      <td>15</td>\n",
       "      <td>1540</td>\n",
       "      <td>660</td>\n",
       "      <td>654</td>\n",
       "    </tr>\n",
       "    <tr>\n",
       "      <th>3</th>\n",
       "      <td>8412.0</td>\n",
       "      <td>17031841200</td>\n",
       "      <td>8412.0</td>\n",
       "      <td>370</td>\n",
       "      <td>480</td>\n",
       "      <td>15</td>\n",
       "      <td>10</td>\n",
       "      <td>125</td>\n",
       "      <td>295</td>\n",
       "      <td>115</td>\n",
       "      <td>120</td>\n",
       "      <td>0</td>\n",
       "      <td>300</td>\n",
       "      <td>70</td>\n",
       "      <td>10</td>\n",
       "      <td>380</td>\n",
       "      <td>530</td>\n",
       "      <td>505</td>\n",
       "    </tr>\n",
       "    <tr>\n",
       "      <th>4</th>\n",
       "      <td>8390.0</td>\n",
       "      <td>17031839000</td>\n",
       "      <td>8390.0</td>\n",
       "      <td>740</td>\n",
       "      <td>260</td>\n",
       "      <td>0</td>\n",
       "      <td>30</td>\n",
       "      <td>550</td>\n",
       "      <td>875</td>\n",
       "      <td>45</td>\n",
       "      <td>0</td>\n",
       "      <td>585</td>\n",
       "      <td>490620</td>\n",
       "      <td>335</td>\n",
       "      <td>0</td>\n",
       "      <td>490955</td>\n",
       "      <td>920</td>\n",
       "      <td>290</td>\n",
       "    </tr>\n",
       "  </tbody>\n",
       "</table>\n",
       "</div>"
      ],
      "text/plain": [
       "   NAMELSAD10      GEOID10  Census Tract  0_LOW  1_LOW  2_LOW  3P_LOW  0_MED  \\\n",
       "0      8424.0  17031842400        8424.0    270    175     55      10     45   \n",
       "1      8403.0  17031840300        8403.0     45    270     70       4     60   \n",
       "2      8411.0  17031841100        8411.0    955    605     49       0     90   \n",
       "3      8412.0  17031841200        8412.0    370    480     15      10    125   \n",
       "4      8390.0  17031839000        8390.0    740    260      0      30    550   \n",
       "\n",
       "   1_MED  2_MED  3P_MED  0_HI    1_HI  2_HI  3P_HI   1P_HI  1P_MED  1P_LOW  \n",
       "0    480    110      25    20     200    50     10     260     615     240  \n",
       "1    260    250      24    19     100    65     50     215     534     344  \n",
       "2    475    165      20    25    1400   125     15    1540     660     654  \n",
       "3    295    115     120     0     300    70     10     380     530     505  \n",
       "4    875     45       0   585  490620   335      0  490955     920     290  "
      ]
     },
     "execution_count": 30,
     "metadata": {},
     "output_type": "execute_result"
    }
   ],
   "source": [
    "df.head()"
   ]
  },
  {
   "cell_type": "code",
   "execution_count": 31,
   "metadata": {},
   "outputs": [
    {
     "data": {
      "text/plain": [
       "0      17031842400\n",
       "1      17031840300\n",
       "2      17031841100\n",
       "3      17031841200\n",
       "4      17031839000\n",
       "          ...     \n",
       "796    17031070400\n",
       "797    17031070500\n",
       "798    17031130300\n",
       "799    17031292200\n",
       "800    17031630900\n",
       "Name: GEOID10, Length: 801, dtype: int64"
      ]
     },
     "execution_count": 31,
     "metadata": {},
     "output_type": "execute_result"
    }
   ],
   "source": [
    "df.GEOID10"
   ]
  },
  {
   "cell_type": "code",
   "execution_count": null,
   "metadata": {},
   "outputs": [],
   "source": [
    "\n",
    "\n"
   ]
  },
  {
   "cell_type": "code",
   "execution_count": null,
   "metadata": {},
   "outputs": [],
   "source": []
  },
  {
   "cell_type": "code",
   "execution_count": null,
   "metadata": {},
   "outputs": [],
   "source": []
  },
  {
   "cell_type": "code",
   "execution_count": 32,
   "metadata": {},
   "outputs": [],
   "source": [
    "tracts = gp.read_file('C:/Workspace/TNC-Demand-Model/Inputs/Census Shapefiles/Illinois/Chicago Tracts/geo_export_558aad9f-98d8-4dd5-a6b1-c1730155d596.shp')"
   ]
  },
  {
   "cell_type": "code",
   "execution_count": 36,
   "metadata": {},
   "outputs": [
    {
     "data": {
      "text/html": [
       "<div>\n",
       "<style scoped>\n",
       "    .dataframe tbody tr th:only-of-type {\n",
       "        vertical-align: middle;\n",
       "    }\n",
       "\n",
       "    .dataframe tbody tr th {\n",
       "        vertical-align: top;\n",
       "    }\n",
       "\n",
       "    .dataframe thead th {\n",
       "        text-align: right;\n",
       "    }\n",
       "</style>\n",
       "<table border=\"1\" class=\"dataframe\">\n",
       "  <thead>\n",
       "    <tr style=\"text-align: right;\">\n",
       "      <th></th>\n",
       "      <th>commarea</th>\n",
       "      <th>commarea_n</th>\n",
       "      <th>countyfp10</th>\n",
       "      <th>geoid10</th>\n",
       "      <th>name10</th>\n",
       "      <th>namelsad10</th>\n",
       "      <th>notes</th>\n",
       "      <th>statefp10</th>\n",
       "      <th>tractce10</th>\n",
       "      <th>geometry</th>\n",
       "    </tr>\n",
       "  </thead>\n",
       "  <tbody>\n",
       "    <tr>\n",
       "      <th>0</th>\n",
       "      <td>44</td>\n",
       "      <td>44.0</td>\n",
       "      <td>031</td>\n",
       "      <td>17031842400</td>\n",
       "      <td>8424</td>\n",
       "      <td>Census Tract 8424</td>\n",
       "      <td>None</td>\n",
       "      <td>17</td>\n",
       "      <td>842400</td>\n",
       "      <td>POLYGON ((-87.62405 41.73022, -87.62405 41.730...</td>\n",
       "    </tr>\n",
       "    <tr>\n",
       "      <th>1</th>\n",
       "      <td>59</td>\n",
       "      <td>59.0</td>\n",
       "      <td>031</td>\n",
       "      <td>17031840300</td>\n",
       "      <td>8403</td>\n",
       "      <td>Census Tract 8403</td>\n",
       "      <td>None</td>\n",
       "      <td>17</td>\n",
       "      <td>840300</td>\n",
       "      <td>POLYGON ((-87.68608 41.82296, -87.68607 41.823...</td>\n",
       "    </tr>\n",
       "    <tr>\n",
       "      <th>2</th>\n",
       "      <td>34</td>\n",
       "      <td>34.0</td>\n",
       "      <td>031</td>\n",
       "      <td>17031841100</td>\n",
       "      <td>8411</td>\n",
       "      <td>Census Tract 8411</td>\n",
       "      <td>None</td>\n",
       "      <td>17</td>\n",
       "      <td>841100</td>\n",
       "      <td>POLYGON ((-87.62935 41.85280, -87.62934 41.852...</td>\n",
       "    </tr>\n",
       "    <tr>\n",
       "      <th>3</th>\n",
       "      <td>31</td>\n",
       "      <td>31.0</td>\n",
       "      <td>031</td>\n",
       "      <td>17031841200</td>\n",
       "      <td>8412</td>\n",
       "      <td>Census Tract 8412</td>\n",
       "      <td>None</td>\n",
       "      <td>17</td>\n",
       "      <td>841200</td>\n",
       "      <td>POLYGON ((-87.68813 41.85569, -87.68816 41.856...</td>\n",
       "    </tr>\n",
       "    <tr>\n",
       "      <th>4</th>\n",
       "      <td>32</td>\n",
       "      <td>32.0</td>\n",
       "      <td>031</td>\n",
       "      <td>17031839000</td>\n",
       "      <td>8390</td>\n",
       "      <td>Census Tract 8390</td>\n",
       "      <td>None</td>\n",
       "      <td>17</td>\n",
       "      <td>839000</td>\n",
       "      <td>POLYGON ((-87.63312 41.87449, -87.63306 41.874...</td>\n",
       "    </tr>\n",
       "  </tbody>\n",
       "</table>\n",
       "</div>"
      ],
      "text/plain": [
       "  commarea  commarea_n countyfp10      geoid10 name10         namelsad10  \\\n",
       "0       44        44.0        031  17031842400   8424  Census Tract 8424   \n",
       "1       59        59.0        031  17031840300   8403  Census Tract 8403   \n",
       "2       34        34.0        031  17031841100   8411  Census Tract 8411   \n",
       "3       31        31.0        031  17031841200   8412  Census Tract 8412   \n",
       "4       32        32.0        031  17031839000   8390  Census Tract 8390   \n",
       "\n",
       "  notes statefp10 tractce10                                           geometry  \n",
       "0  None        17    842400  POLYGON ((-87.62405 41.73022, -87.62405 41.730...  \n",
       "1  None        17    840300  POLYGON ((-87.68608 41.82296, -87.68607 41.823...  \n",
       "2  None        17    841100  POLYGON ((-87.62935 41.85280, -87.62934 41.852...  \n",
       "3  None        17    841200  POLYGON ((-87.68813 41.85569, -87.68816 41.856...  \n",
       "4  None        17    839000  POLYGON ((-87.63312 41.87449, -87.63306 41.874...  "
      ]
     },
     "execution_count": 36,
     "metadata": {},
     "output_type": "execute_result"
    }
   ],
   "source": [
    "tracts.head()"
   ]
  },
  {
   "cell_type": "code",
   "execution_count": 33,
   "metadata": {},
   "outputs": [],
   "source": [
    "variables = df.columns.drop(['Census Tract', 'NAMELSAD10', 'GEOID10'])"
   ]
  },
  {
   "cell_type": "code",
   "execution_count": 35,
   "metadata": {},
   "outputs": [
    {
     "data": {
      "text/plain": [
       "Index(['0_LOW', '1_LOW', '2_LOW', '3P_LOW', '0_MED', '1_MED', '2_MED',\n",
       "       '3P_MED', '0_HI', '1_HI', '2_HI', '3P_HI', '1P_HI', '1P_MED', '1P_LOW'],\n",
       "      dtype='object')"
      ]
     },
     "execution_count": 35,
     "metadata": {},
     "output_type": "execute_result"
    }
   ],
   "source": [
    "variables"
   ]
  },
  {
   "cell_type": "code",
   "execution_count": 42,
   "metadata": {},
   "outputs": [],
   "source": [
    "centroids = pd.read_csv('C:/Workspace/TNC-Demand-Model/otp/points.csv')\n",
    "\n",
    "centroids = gp.GeoDataFrame(centroids)"
   ]
  },
  {
   "cell_type": "code",
   "execution_count": 45,
   "metadata": {},
   "outputs": [
    {
     "data": {
      "text/plain": [
       "0      17031842400\n",
       "1      17031840300\n",
       "2      17031841100\n",
       "3      17031841200\n",
       "4      17031839000\n",
       "          ...     \n",
       "796    17031070400\n",
       "797    17031070500\n",
       "798    17031130300\n",
       "799    17031292200\n",
       "800    17031630900\n",
       "Name: geoid10, Length: 801, dtype: object"
      ]
     },
     "execution_count": 45,
     "metadata": {},
     "output_type": "execute_result"
    }
   ],
   "source": [
    "tracts.geoid10"
   ]
  },
  {
   "cell_type": "code",
   "execution_count": 48,
   "metadata": {},
   "outputs": [],
   "source": [
    "df['GEOID10_STR'] = df.GEOID10.astype(str)"
   ]
  },
  {
   "cell_type": "code",
   "execution_count": 50,
   "metadata": {
    "scrolled": true
   },
   "outputs": [
    {
     "name": "stdout",
     "output_type": "stream",
     "text": [
      "Working on 0_LOW\n"
     ]
    },
    {
     "name": "stderr",
     "output_type": "stream",
     "text": [
      "C:\\Users\\ramu225\\Anaconda3\\lib\\site-packages\\folium\\folium.py:415: FutureWarning: The choropleth  method has been deprecated. Instead use the new Choropleth class, which has the same arguments. See the example notebook 'GeoJSON_and_choropleth' for how to do this.\n",
      "  FutureWarning\n"
     ]
    },
    {
     "name": "stdout",
     "output_type": "stream",
     "text": [
      "Working on 1_LOW\n"
     ]
    },
    {
     "name": "stderr",
     "output_type": "stream",
     "text": [
      "C:\\Users\\ramu225\\Anaconda3\\lib\\site-packages\\folium\\folium.py:415: FutureWarning: The choropleth  method has been deprecated. Instead use the new Choropleth class, which has the same arguments. See the example notebook 'GeoJSON_and_choropleth' for how to do this.\n",
      "  FutureWarning\n"
     ]
    },
    {
     "name": "stdout",
     "output_type": "stream",
     "text": [
      "Working on 2_LOW\n"
     ]
    },
    {
     "name": "stderr",
     "output_type": "stream",
     "text": [
      "C:\\Users\\ramu225\\Anaconda3\\lib\\site-packages\\folium\\folium.py:415: FutureWarning: The choropleth  method has been deprecated. Instead use the new Choropleth class, which has the same arguments. See the example notebook 'GeoJSON_and_choropleth' for how to do this.\n",
      "  FutureWarning\n"
     ]
    },
    {
     "name": "stdout",
     "output_type": "stream",
     "text": [
      "Working on 3P_LOW\n"
     ]
    },
    {
     "name": "stderr",
     "output_type": "stream",
     "text": [
      "C:\\Users\\ramu225\\Anaconda3\\lib\\site-packages\\folium\\folium.py:415: FutureWarning: The choropleth  method has been deprecated. Instead use the new Choropleth class, which has the same arguments. See the example notebook 'GeoJSON_and_choropleth' for how to do this.\n",
      "  FutureWarning\n"
     ]
    },
    {
     "name": "stdout",
     "output_type": "stream",
     "text": [
      "Working on 0_MED\n"
     ]
    },
    {
     "name": "stderr",
     "output_type": "stream",
     "text": [
      "C:\\Users\\ramu225\\Anaconda3\\lib\\site-packages\\folium\\folium.py:415: FutureWarning: The choropleth  method has been deprecated. Instead use the new Choropleth class, which has the same arguments. See the example notebook 'GeoJSON_and_choropleth' for how to do this.\n",
      "  FutureWarning\n"
     ]
    },
    {
     "name": "stdout",
     "output_type": "stream",
     "text": [
      "Working on 1_MED\n"
     ]
    },
    {
     "name": "stderr",
     "output_type": "stream",
     "text": [
      "C:\\Users\\ramu225\\Anaconda3\\lib\\site-packages\\folium\\folium.py:415: FutureWarning: The choropleth  method has been deprecated. Instead use the new Choropleth class, which has the same arguments. See the example notebook 'GeoJSON_and_choropleth' for how to do this.\n",
      "  FutureWarning\n"
     ]
    },
    {
     "name": "stdout",
     "output_type": "stream",
     "text": [
      "Working on 2_MED\n"
     ]
    },
    {
     "name": "stderr",
     "output_type": "stream",
     "text": [
      "C:\\Users\\ramu225\\Anaconda3\\lib\\site-packages\\folium\\folium.py:415: FutureWarning: The choropleth  method has been deprecated. Instead use the new Choropleth class, which has the same arguments. See the example notebook 'GeoJSON_and_choropleth' for how to do this.\n",
      "  FutureWarning\n"
     ]
    },
    {
     "name": "stdout",
     "output_type": "stream",
     "text": [
      "Working on 3P_MED\n"
     ]
    },
    {
     "name": "stderr",
     "output_type": "stream",
     "text": [
      "C:\\Users\\ramu225\\Anaconda3\\lib\\site-packages\\folium\\folium.py:415: FutureWarning: The choropleth  method has been deprecated. Instead use the new Choropleth class, which has the same arguments. See the example notebook 'GeoJSON_and_choropleth' for how to do this.\n",
      "  FutureWarning\n"
     ]
    },
    {
     "name": "stdout",
     "output_type": "stream",
     "text": [
      "Working on 0_HI\n"
     ]
    },
    {
     "name": "stderr",
     "output_type": "stream",
     "text": [
      "C:\\Users\\ramu225\\Anaconda3\\lib\\site-packages\\folium\\folium.py:415: FutureWarning: The choropleth  method has been deprecated. Instead use the new Choropleth class, which has the same arguments. See the example notebook 'GeoJSON_and_choropleth' for how to do this.\n",
      "  FutureWarning\n"
     ]
    },
    {
     "name": "stdout",
     "output_type": "stream",
     "text": [
      "Working on 1_HI\n"
     ]
    },
    {
     "name": "stderr",
     "output_type": "stream",
     "text": [
      "C:\\Users\\ramu225\\Anaconda3\\lib\\site-packages\\folium\\folium.py:415: FutureWarning: The choropleth  method has been deprecated. Instead use the new Choropleth class, which has the same arguments. See the example notebook 'GeoJSON_and_choropleth' for how to do this.\n",
      "  FutureWarning\n"
     ]
    },
    {
     "name": "stdout",
     "output_type": "stream",
     "text": [
      "Working on 2_HI\n"
     ]
    },
    {
     "name": "stderr",
     "output_type": "stream",
     "text": [
      "C:\\Users\\ramu225\\Anaconda3\\lib\\site-packages\\folium\\folium.py:415: FutureWarning: The choropleth  method has been deprecated. Instead use the new Choropleth class, which has the same arguments. See the example notebook 'GeoJSON_and_choropleth' for how to do this.\n",
      "  FutureWarning\n"
     ]
    },
    {
     "name": "stdout",
     "output_type": "stream",
     "text": [
      "Working on 3P_HI\n"
     ]
    },
    {
     "name": "stderr",
     "output_type": "stream",
     "text": [
      "C:\\Users\\ramu225\\Anaconda3\\lib\\site-packages\\folium\\folium.py:415: FutureWarning: The choropleth  method has been deprecated. Instead use the new Choropleth class, which has the same arguments. See the example notebook 'GeoJSON_and_choropleth' for how to do this.\n",
      "  FutureWarning\n"
     ]
    },
    {
     "name": "stdout",
     "output_type": "stream",
     "text": [
      "Working on 1P_HI\n"
     ]
    },
    {
     "name": "stderr",
     "output_type": "stream",
     "text": [
      "C:\\Users\\ramu225\\Anaconda3\\lib\\site-packages\\folium\\folium.py:415: FutureWarning: The choropleth  method has been deprecated. Instead use the new Choropleth class, which has the same arguments. See the example notebook 'GeoJSON_and_choropleth' for how to do this.\n",
      "  FutureWarning\n"
     ]
    },
    {
     "name": "stdout",
     "output_type": "stream",
     "text": [
      "Working on 1P_MED\n"
     ]
    },
    {
     "name": "stderr",
     "output_type": "stream",
     "text": [
      "C:\\Users\\ramu225\\Anaconda3\\lib\\site-packages\\folium\\folium.py:415: FutureWarning: The choropleth  method has been deprecated. Instead use the new Choropleth class, which has the same arguments. See the example notebook 'GeoJSON_and_choropleth' for how to do this.\n",
      "  FutureWarning\n"
     ]
    },
    {
     "name": "stdout",
     "output_type": "stream",
     "text": [
      "Working on 1P_LOW\n"
     ]
    },
    {
     "name": "stderr",
     "output_type": "stream",
     "text": [
      "C:\\Users\\ramu225\\Anaconda3\\lib\\site-packages\\folium\\folium.py:415: FutureWarning: The choropleth  method has been deprecated. Instead use the new Choropleth class, which has the same arguments. See the example notebook 'GeoJSON_and_choropleth' for how to do this.\n",
      "  FutureWarning\n"
     ]
    }
   ],
   "source": [
    "for var in variables:\n",
    "\n",
    "    print('Working on ' + var)\n",
    "    \n",
    "    # Add the color for the chloropleth:\n",
    "    m = folium.Map([41.8781, -87.6298], zoom_start=11)\n",
    "    m.choropleth(\n",
    "     geo_data=tracts,\n",
    "     name= var,\n",
    "     data=df,\n",
    "     columns = ['GEOID10_STR', var],\n",
    "     key_on='feature.properties.geoid10',\n",
    "     fill_color='BuGn',\n",
    "     fill_opacity=0.6,\n",
    "     line_opacity=0.2,\n",
    "     #bins = bins,\n",
    "     legend_name= var + ' Totals',\n",
    "     highlight = True\n",
    "    )\n",
    "\n",
    "    feature_group = folium.FeatureGroup(name='Census Tract Centroids', show = False)\n",
    "\n",
    "    for tract2 in centroids.GEOID:\n",
    "        row = centroids[centroids['GEOID'] == tract2]\n",
    "        folium.CircleMarker([row['Y'], row['X']], popup = str(int(row['GEOID'].values[0])), radius = 1, fill = True, fill_color = 'grey', color = 'grey').add_to(feature_group)\n",
    "    \n",
    "    m.add_child(feature_group)\n",
    "    \n",
    "    folium.LayerControl().add_to(m)\n",
    "\n",
    "    m.save('C:/Workspace/TNC-Demand-Model/Data Exploration/Destination Choice Model Visualizations/'+ var + '_Map.html')\n"
   ]
  },
  {
   "cell_type": "code",
   "execution_count": null,
   "metadata": {},
   "outputs": [],
   "source": [
    "for var in variables:\n",
    "\n",
    "    print('Working on ' + var)\n",
    "    \n",
    "    # Add the color for the chloropleth:\n",
    "    m = folium.Map([41.8781, -87.6298], zoom_start=11)\n",
    "    m.choropleth(\n",
    "     geo_data=tracts,\n",
    "     name= var,\n",
    "     data=df,\n",
    "     columns = ['GEOID10_STR', var],\n",
    "     key_on='feature.properties.geoid10',\n",
    "     fill_color='BuGn',\n",
    "     fill_opacity=0.6,\n",
    "     line_opacity=0.2,\n",
    "     #bins = bins,\n",
    "     legend_name= var + ' Totals',\n",
    "     highlight = True\n",
    "    )\n",
    "\n",
    "    feature_group = folium.FeatureGroup(name='Census Tract Centroids', show = False)\n",
    "\n",
    "    for tract2 in centroids.GEOID:\n",
    "        row = centroids[centroids['GEOID'] == tract2]\n",
    "        folium.CircleMarker([row['Y'], row['X']], popup = str(int(row['GEOID'].values[0])), radius = 1, fill = True, fill_color = 'grey', color = 'grey').add_to(feature_group)\n",
    "    \n",
    "    m.add_child(feature_group)\n",
    "    \n",
    "    folium.LayerControl().add_to(m)\n",
    "\n",
    "    m.save('C:/Workspace/TNC-Demand-Model/Data Exploration/Destination Choice Model Visualizations/'+ var + '_Map.html')\n"
   ]
  }
 ],
 "metadata": {
  "kernelspec": {
   "display_name": "Python 3",
   "language": "python",
   "name": "python3"
  },
  "language_info": {
   "codemirror_mode": {
    "name": "ipython",
    "version": 3
   },
   "file_extension": ".py",
   "mimetype": "text/x-python",
   "name": "python",
   "nbconvert_exporter": "python",
   "pygments_lexer": "ipython3",
   "version": "3.7.6"
  }
 },
 "nbformat": 4,
 "nbformat_minor": 4
}
