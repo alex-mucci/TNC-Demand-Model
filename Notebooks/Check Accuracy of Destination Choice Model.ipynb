{
 "cells": [
  {
   "cell_type": "code",
   "execution_count": 10,
   "metadata": {},
   "outputs": [],
   "source": [
    "import pandas as pd\n",
    "import numpy as np\n",
    "import seaborn as sns\n",
    "import geopandas as gp\n",
    "import folium"
   ]
  },
  {
   "cell_type": "code",
   "execution_count": 42,
   "metadata": {},
   "outputs": [],
   "source": [
    "df = pd.read_csv('C:/Workspace/TNC-Demand-Model/Outputs/Predicted_Trips.csv')"
   ]
  },
  {
   "cell_type": "code",
   "execution_count": 43,
   "metadata": {},
   "outputs": [
    {
     "data": {
      "text/plain": [
       "51328080"
      ]
     },
     "execution_count": 43,
     "metadata": {},
     "output_type": "execute_result"
    }
   ],
   "source": [
    "len(df)"
   ]
  },
  {
   "cell_type": "code",
   "execution_count": null,
   "metadata": {},
   "outputs": [],
   "source": []
  },
  {
   "cell_type": "code",
   "execution_count": 44,
   "metadata": {},
   "outputs": [
    {
     "data": {
      "text/plain": [
       "51328080"
      ]
     },
     "execution_count": 44,
     "metadata": {},
     "output_type": "execute_result"
    }
   ],
   "source": [
    "len(df)"
   ]
  },
  {
   "cell_type": "code",
   "execution_count": null,
   "metadata": {},
   "outputs": [],
   "source": []
  },
  {
   "cell_type": "code",
   "execution_count": null,
   "metadata": {},
   "outputs": [],
   "source": []
  },
  {
   "cell_type": "code",
   "execution_count": 45,
   "metadata": {},
   "outputs": [
    {
     "data": {
      "text/html": [
       "<div>\n",
       "<style scoped>\n",
       "    .dataframe tbody tr th:only-of-type {\n",
       "        vertical-align: middle;\n",
       "    }\n",
       "\n",
       "    .dataframe tbody tr th {\n",
       "        vertical-align: top;\n",
       "    }\n",
       "\n",
       "    .dataframe thead th {\n",
       "        text-align: right;\n",
       "    }\n",
       "</style>\n",
       "<table border=\"1\" class=\"dataframe\">\n",
       "  <thead>\n",
       "    <tr style=\"text-align: right;\">\n",
       "      <th></th>\n",
       "      <th>Unnamed: 0</th>\n",
       "      <th>YEAR</th>\n",
       "      <th>MONTH</th>\n",
       "      <th>TOD</th>\n",
       "      <th>ORIGIN</th>\n",
       "      <th>DESTINATION</th>\n",
       "      <th>PRED_TRIPS</th>\n",
       "      <th>DISTANCE</th>\n",
       "    </tr>\n",
       "  </thead>\n",
       "  <tbody>\n",
       "    <tr>\n",
       "      <th>0</th>\n",
       "      <td>0</td>\n",
       "      <td>2018</td>\n",
       "      <td>11</td>\n",
       "      <td>1</td>\n",
       "      <td>17031842400</td>\n",
       "      <td>17031842400</td>\n",
       "      <td>0.054527</td>\n",
       "      <td>0.0</td>\n",
       "    </tr>\n",
       "    <tr>\n",
       "      <th>1</th>\n",
       "      <td>1</td>\n",
       "      <td>2018</td>\n",
       "      <td>11</td>\n",
       "      <td>2</td>\n",
       "      <td>17031842400</td>\n",
       "      <td>17031842400</td>\n",
       "      <td>0.056030</td>\n",
       "      <td>0.0</td>\n",
       "    </tr>\n",
       "    <tr>\n",
       "      <th>2</th>\n",
       "      <td>2</td>\n",
       "      <td>2018</td>\n",
       "      <td>11</td>\n",
       "      <td>3</td>\n",
       "      <td>17031842400</td>\n",
       "      <td>17031842400</td>\n",
       "      <td>0.070483</td>\n",
       "      <td>0.0</td>\n",
       "    </tr>\n",
       "    <tr>\n",
       "      <th>3</th>\n",
       "      <td>3</td>\n",
       "      <td>2018</td>\n",
       "      <td>11</td>\n",
       "      <td>4</td>\n",
       "      <td>17031842400</td>\n",
       "      <td>17031842400</td>\n",
       "      <td>0.068086</td>\n",
       "      <td>0.0</td>\n",
       "    </tr>\n",
       "    <tr>\n",
       "      <th>4</th>\n",
       "      <td>4</td>\n",
       "      <td>2018</td>\n",
       "      <td>11</td>\n",
       "      <td>5</td>\n",
       "      <td>17031842400</td>\n",
       "      <td>17031842400</td>\n",
       "      <td>0.045321</td>\n",
       "      <td>0.0</td>\n",
       "    </tr>\n",
       "  </tbody>\n",
       "</table>\n",
       "</div>"
      ],
      "text/plain": [
       "   Unnamed: 0  YEAR  MONTH  TOD       ORIGIN  DESTINATION  PRED_TRIPS  \\\n",
       "0           0  2018     11    1  17031842400  17031842400    0.054527   \n",
       "1           1  2018     11    2  17031842400  17031842400    0.056030   \n",
       "2           2  2018     11    3  17031842400  17031842400    0.070483   \n",
       "3           3  2018     11    4  17031842400  17031842400    0.068086   \n",
       "4           4  2018     11    5  17031842400  17031842400    0.045321   \n",
       "\n",
       "   DISTANCE  \n",
       "0       0.0  \n",
       "1       0.0  \n",
       "2       0.0  \n",
       "3       0.0  \n",
       "4       0.0  "
      ]
     },
     "execution_count": 45,
     "metadata": {},
     "output_type": "execute_result"
    }
   ],
   "source": [
    "df.head()"
   ]
  },
  {
   "cell_type": "code",
   "execution_count": null,
   "metadata": {},
   "outputs": [],
   "source": []
  },
  {
   "cell_type": "code",
   "execution_count": 46,
   "metadata": {},
   "outputs": [
    {
     "data": {
      "text/html": [
       "<div>\n",
       "<style scoped>\n",
       "    .dataframe tbody tr th:only-of-type {\n",
       "        vertical-align: middle;\n",
       "    }\n",
       "\n",
       "    .dataframe tbody tr th {\n",
       "        vertical-align: top;\n",
       "    }\n",
       "\n",
       "    .dataframe thead th {\n",
       "        text-align: right;\n",
       "    }\n",
       "</style>\n",
       "<table border=\"1\" class=\"dataframe\">\n",
       "  <thead>\n",
       "    <tr style=\"text-align: right;\">\n",
       "      <th></th>\n",
       "      <th>Unnamed: 0</th>\n",
       "      <th>YEAR</th>\n",
       "      <th>MONTH</th>\n",
       "      <th>TOD</th>\n",
       "      <th>ORIGIN</th>\n",
       "      <th>DESTINATION</th>\n",
       "      <th>PRED_TRIPS</th>\n",
       "      <th>DISTANCE</th>\n",
       "    </tr>\n",
       "  </thead>\n",
       "  <tbody>\n",
       "    <tr>\n",
       "      <th>0</th>\n",
       "      <td>0</td>\n",
       "      <td>2018</td>\n",
       "      <td>11</td>\n",
       "      <td>1</td>\n",
       "      <td>17031842400</td>\n",
       "      <td>17031842400</td>\n",
       "      <td>0.054527</td>\n",
       "      <td>0.0</td>\n",
       "    </tr>\n",
       "    <tr>\n",
       "      <th>1</th>\n",
       "      <td>1</td>\n",
       "      <td>2018</td>\n",
       "      <td>11</td>\n",
       "      <td>2</td>\n",
       "      <td>17031842400</td>\n",
       "      <td>17031842400</td>\n",
       "      <td>0.056030</td>\n",
       "      <td>0.0</td>\n",
       "    </tr>\n",
       "    <tr>\n",
       "      <th>2</th>\n",
       "      <td>2</td>\n",
       "      <td>2018</td>\n",
       "      <td>11</td>\n",
       "      <td>3</td>\n",
       "      <td>17031842400</td>\n",
       "      <td>17031842400</td>\n",
       "      <td>0.070483</td>\n",
       "      <td>0.0</td>\n",
       "    </tr>\n",
       "    <tr>\n",
       "      <th>3</th>\n",
       "      <td>3</td>\n",
       "      <td>2018</td>\n",
       "      <td>11</td>\n",
       "      <td>4</td>\n",
       "      <td>17031842400</td>\n",
       "      <td>17031842400</td>\n",
       "      <td>0.068086</td>\n",
       "      <td>0.0</td>\n",
       "    </tr>\n",
       "    <tr>\n",
       "      <th>4</th>\n",
       "      <td>4</td>\n",
       "      <td>2018</td>\n",
       "      <td>11</td>\n",
       "      <td>5</td>\n",
       "      <td>17031842400</td>\n",
       "      <td>17031842400</td>\n",
       "      <td>0.045321</td>\n",
       "      <td>0.0</td>\n",
       "    </tr>\n",
       "  </tbody>\n",
       "</table>\n",
       "</div>"
      ],
      "text/plain": [
       "   Unnamed: 0  YEAR  MONTH  TOD       ORIGIN  DESTINATION  PRED_TRIPS  \\\n",
       "0           0  2018     11    1  17031842400  17031842400    0.054527   \n",
       "1           1  2018     11    2  17031842400  17031842400    0.056030   \n",
       "2           2  2018     11    3  17031842400  17031842400    0.070483   \n",
       "3           3  2018     11    4  17031842400  17031842400    0.068086   \n",
       "4           4  2018     11    5  17031842400  17031842400    0.045321   \n",
       "\n",
       "   DISTANCE  \n",
       "0       0.0  \n",
       "1       0.0  \n",
       "2       0.0  \n",
       "3       0.0  \n",
       "4       0.0  "
      ]
     },
     "execution_count": 46,
     "metadata": {},
     "output_type": "execute_result"
    }
   ],
   "source": [
    "df.head()"
   ]
  },
  {
   "cell_type": "code",
   "execution_count": 47,
   "metadata": {},
   "outputs": [
    {
     "data": {
      "text/plain": [
       "8.416995024901455"
      ]
     },
     "execution_count": 47,
     "metadata": {},
     "output_type": "execute_result"
    }
   ],
   "source": [
    "df['DISTANCE'].mean()"
   ]
  },
  {
   "cell_type": "code",
   "execution_count": 48,
   "metadata": {},
   "outputs": [
    {
     "data": {
      "text/plain": [
       "<seaborn.axisgrid.FacetGrid at 0x16b9dbad288>"
      ]
     },
     "execution_count": 48,
     "metadata": {},
     "output_type": "execute_result"
    },
    {
     "data": {
      "image/png": "[encoded data removed]",
      "text/plain": [
       "<Figure size 360x360 with 1 Axes>"
      ]
     },
     "metadata": {
      "needs_background": "light"
     },
     "output_type": "display_data"
    }
   ],
   "source": [
    "sns.displot(df['DISTANCE'])"
   ]
  },
  {
   "cell_type": "code",
   "execution_count": 12,
   "metadata": {},
   "outputs": [
    {
     "data": {
      "text/plain": [
       "<seaborn.axisgrid.FacetGrid at 0x2478719c348>"
      ]
     },
     "execution_count": 12,
     "metadata": {},
     "output_type": "execute_result"
    },
    {
     "data": {
      "image/png": "[encoded data removed]",
      "text/plain": [
       "<Figure size 360x360 with 1 Axes>"
      ]
     },
     "metadata": {
      "needs_background": "light"
     },
     "output_type": "display_data"
    }
   ],
   "source": [
    "sns.displot(df['DISTANCE'])"
   ]
  },
  {
   "cell_type": "code",
   "execution_count": 12,
   "metadata": {},
   "outputs": [],
   "source": [
    "obs = pd.read_csv('C:/Workspace/TNC-Demand-Model/Outputs/Sample.csv')"
   ]
  },
  {
   "cell_type": "code",
   "execution_count": 13,
   "metadata": {},
   "outputs": [],
   "source": [
    "obs_filtered = obs[obs['TRIP_LENGTH_MILES'] < 50]"
   ]
  },
  {
   "cell_type": "code",
   "execution_count": 14,
   "metadata": {},
   "outputs": [
    {
     "data": {
      "text/plain": [
       "4.933584590208281"
      ]
     },
     "execution_count": 14,
     "metadata": {},
     "output_type": "execute_result"
    }
   ],
   "source": [
    "obs_filtered['TRIP_LENGTH_MILES'].mean()"
   ]
  },
  {
   "cell_type": "code",
   "execution_count": 15,
   "metadata": {},
   "outputs": [],
   "source": [
    "obs_filtered = obs_filtered.merge(dist, on = ['ORIGIN','DESTINATION'])"
   ]
  },
  {
   "cell_type": "code",
   "execution_count": 16,
   "metadata": {},
   "outputs": [
    {
     "data": {
      "text/plain": [
       "2.9902527096171636"
      ]
     },
     "execution_count": 16,
     "metadata": {},
     "output_type": "execute_result"
    }
   ],
   "source": [
    "obs_filtered['DISTANCE'].mean()"
   ]
  },
  {
   "cell_type": "code",
   "execution_count": 17,
   "metadata": {},
   "outputs": [
    {
     "data": {
      "text/plain": [
       "<seaborn.axisgrid.FacetGrid at 0x22abaa3ebc8>"
      ]
     },
     "execution_count": 17,
     "metadata": {},
     "output_type": "execute_result"
    },
    {
     "data": {
      "image/png": "[encoded data removed]",
      "text/plain": [
       "<Figure size 360x360 with 1 Axes>"
      ]
     },
     "metadata": {
      "needs_background": "light"
     },
     "output_type": "display_data"
    }
   ],
   "source": [
    "sns.displot(obs_filtered['DISTANCE'])"
   ]
  },
  {
   "cell_type": "code",
   "execution_count": 23,
   "metadata": {},
   "outputs": [
    {
     "data": {
      "text/plain": [
       "<seaborn.axisgrid.FacetGrid at 0x24931731848>"
      ]
     },
     "execution_count": 23,
     "metadata": {},
     "output_type": "execute_result"
    },
    {
     "data": {
      "image/png": "[encoded data removed]",
      "text/plain": [
       "<Figure size 360x360 with 1 Axes>"
      ]
     },
     "metadata": {
      "needs_background": "light"
     },
     "output_type": "display_data"
    }
   ],
   "source": [
    "sns.displot(obs_filtered['TRIP_LENGTH_MILES'])"
   ]
  },
  {
   "cell_type": "code",
   "execution_count": 25,
   "metadata": {},
   "outputs": [],
   "source": [
    "map_df = df[['DESTINATION','TOD','TRIPS']].groupby(by = ['DESTINATION','TOD'], as_index = False).sum()"
   ]
  },
  {
   "cell_type": "code",
   "execution_count": 29,
   "metadata": {},
   "outputs": [],
   "source": [
    "tracts = gp.read_file('C:/Workspace/TNC-Demand-Model/Inputs/Census Shapefiles/Illinois/Chicago Tracts/geo_export_558aad9f-98d8-4dd5-a6b1-c1730155d596.shp')\n"
   ]
  },
  {
   "cell_type": "code",
   "execution_count": 32,
   "metadata": {},
   "outputs": [],
   "source": [
    "tracts['DESTINATION'] = tracts.geoid10.astype(float)"
   ]
  },
  {
   "cell_type": "code",
   "execution_count": null,
   "metadata": {},
   "outputs": [],
   "source": []
  },
  {
   "cell_type": "code",
   "execution_count": 42,
   "metadata": {},
   "outputs": [
    {
     "name": "stderr",
     "output_type": "stream",
     "text": [
      "C:\\Users\\ramu225\\Anaconda3\\lib\\site-packages\\folium\\folium.py:415: FutureWarning: The choropleth  method has been deprecated. Instead use the new Choropleth class, which has the same arguments. See the example notebook 'GeoJSON_and_choropleth' for how to do this.\n",
      "  FutureWarning\n"
     ]
    }
   ],
   "source": [
    "\n",
    "# Add the color for the chloropleth:\n",
    "m = folium.Map([41.8781, -87.6298], zoom_start=11)\n",
    "m.choropleth(\n",
    " geo_data=tracts,\n",
    " name= 'Predicted Dropoffs',\n",
    " data=map_df,\n",
    " columns = ['DESTINATION', 'TRIPS'],\n",
    " key_on='feature.properties.geoid10',\n",
    " fill_color='BuGn',\n",
    " fill_opacity=0.6,\n",
    " line_opacity=0.2,\n",
    " #bins = bins,\n",
    " legend_name= 'Total Predicted Dropoffs',\n",
    " highlight = True\n",
    ")\n",
    "\n",
    "#feature_group = folium.FeatureGroup(name='Census Tract Centroids', show = False)\n",
    "\n",
    "#for tract2 in centroids.GEOID:\n",
    "  #  row = centroids[centroids['GEOID'] == tract2]\n",
    " #   folium.CircleMarker([row['Y'], row['X']], popup = str(int(row['GEOID'].values[0])), radius = 1, fill = True, fill_color = 'grey', color = 'grey').add_to(feature_group)\n",
    "\n",
    "#m.add_child(feature_group)\n",
    "\n",
    "folium.LayerControl().add_to(m)\n",
    "\n",
    "m.save('C:/Workspace/TNC-Demand-Model/Data Exploration/Destination Choice Model Visualizations/Predicted_Dropoffs_Map.html')\n"
   ]
  },
  {
   "cell_type": "code",
   "execution_count": 57,
   "metadata": {},
   "outputs": [],
   "source": [
    "obs['TOD'] = np.where(obs['TOD_1'] == 1,1,np.nan)\n",
    "obs['TOD'] = np.where(obs['TOD_2'] == 1,2,obs['TOD'])\n",
    "obs['TOD'] = np.where(obs['TOD_3'] == 1,3,obs['TOD'])\n",
    "obs['TOD'] = np.where(obs['TOD_4'] == 1,4,obs['TOD'])\n",
    "obs['TOD'] = np.where(obs['TOD_5'] == 1,5,obs['TOD'])"
   ]
  },
  {
   "cell_type": "code",
   "execution_count": 58,
   "metadata": {},
   "outputs": [],
   "source": [
    "obs['TRIPS'] = 1"
   ]
  },
  {
   "cell_type": "code",
   "execution_count": 59,
   "metadata": {},
   "outputs": [],
   "source": [
    "obs = obs[['DESTINATION','TOD','MONTH','YEAR','DOW','TRIPS']].groupby(by = ['DESTINATION','DOW','YEAR','MONTH','TOD'], as_index = False).sum()"
   ]
  },
  {
   "cell_type": "code",
   "execution_count": 60,
   "metadata": {},
   "outputs": [],
   "source": [
    "obs = obs[['DESTINATION','TOD','MONTH','YEAR','TRIPS']].groupby(by = ['DESTINATION','YEAR','MONTH','TOD'], as_index = False).mean()"
   ]
  },
  {
   "cell_type": "code",
   "execution_count": 61,
   "metadata": {},
   "outputs": [],
   "source": [
    "obs = obs[['DESTINATION','TOD','TRIPS']].groupby(by = ['DESTINATION','TOD'], as_index = False).sum()"
   ]
  },
  {
   "cell_type": "code",
   "execution_count": 62,
   "metadata": {},
   "outputs": [
    {
     "data": {
      "text/html": [
       "<div>\n",
       "<style scoped>\n",
       "    .dataframe tbody tr th:only-of-type {\n",
       "        vertical-align: middle;\n",
       "    }\n",
       "\n",
       "    .dataframe tbody tr th {\n",
       "        vertical-align: top;\n",
       "    }\n",
       "\n",
       "    .dataframe thead th {\n",
       "        text-align: right;\n",
       "    }\n",
       "</style>\n",
       "<table border=\"1\" class=\"dataframe\">\n",
       "  <thead>\n",
       "    <tr style=\"text-align: right;\">\n",
       "      <th></th>\n",
       "      <th>DESTINATION</th>\n",
       "      <th>TOD</th>\n",
       "      <th>TRIPS</th>\n",
       "    </tr>\n",
       "  </thead>\n",
       "  <tbody>\n",
       "    <tr>\n",
       "      <th>0</th>\n",
       "      <td>1.703101e+10</td>\n",
       "      <td>1.0</td>\n",
       "      <td>53.150000</td>\n",
       "    </tr>\n",
       "    <tr>\n",
       "      <th>1</th>\n",
       "      <td>1.703101e+10</td>\n",
       "      <td>2.0</td>\n",
       "      <td>31.316667</td>\n",
       "    </tr>\n",
       "    <tr>\n",
       "      <th>2</th>\n",
       "      <td>1.703101e+10</td>\n",
       "      <td>3.0</td>\n",
       "      <td>60.300000</td>\n",
       "    </tr>\n",
       "    <tr>\n",
       "      <th>3</th>\n",
       "      <td>1.703101e+10</td>\n",
       "      <td>4.0</td>\n",
       "      <td>32.650000</td>\n",
       "    </tr>\n",
       "    <tr>\n",
       "      <th>4</th>\n",
       "      <td>1.703101e+10</td>\n",
       "      <td>5.0</td>\n",
       "      <td>44.166667</td>\n",
       "    </tr>\n",
       "  </tbody>\n",
       "</table>\n",
       "</div>"
      ],
      "text/plain": [
       "    DESTINATION  TOD      TRIPS\n",
       "0  1.703101e+10  1.0  53.150000\n",
       "1  1.703101e+10  2.0  31.316667\n",
       "2  1.703101e+10  3.0  60.300000\n",
       "3  1.703101e+10  4.0  32.650000\n",
       "4  1.703101e+10  5.0  44.166667"
      ]
     },
     "execution_count": 62,
     "metadata": {},
     "output_type": "execute_result"
    }
   ],
   "source": [
    "obs.head()"
   ]
  },
  {
   "cell_type": "code",
   "execution_count": 63,
   "metadata": {},
   "outputs": [],
   "source": [
    "df2 = map_df.merge(obs, on = ['DESTINATION','TOD'],suffixes = ('_PRED','_OBS'))"
   ]
  },
  {
   "cell_type": "code",
   "execution_count": 64,
   "metadata": {},
   "outputs": [
    {
     "data": {
      "text/html": [
       "<div>\n",
       "<style scoped>\n",
       "    .dataframe tbody tr th:only-of-type {\n",
       "        vertical-align: middle;\n",
       "    }\n",
       "\n",
       "    .dataframe tbody tr th {\n",
       "        vertical-align: top;\n",
       "    }\n",
       "\n",
       "    .dataframe thead th {\n",
       "        text-align: right;\n",
       "    }\n",
       "</style>\n",
       "<table border=\"1\" class=\"dataframe\">\n",
       "  <thead>\n",
       "    <tr style=\"text-align: right;\">\n",
       "      <th></th>\n",
       "      <th>DESTINATION</th>\n",
       "      <th>TOD</th>\n",
       "      <th>TRIPS_PRED</th>\n",
       "      <th>TRIPS_OBS</th>\n",
       "    </tr>\n",
       "  </thead>\n",
       "  <tbody>\n",
       "    <tr>\n",
       "      <th>0</th>\n",
       "      <td>17031010100</td>\n",
       "      <td>1</td>\n",
       "      <td>13.505764</td>\n",
       "      <td>53.150000</td>\n",
       "    </tr>\n",
       "    <tr>\n",
       "      <th>1</th>\n",
       "      <td>17031010100</td>\n",
       "      <td>2</td>\n",
       "      <td>11.476194</td>\n",
       "      <td>31.316667</td>\n",
       "    </tr>\n",
       "    <tr>\n",
       "      <th>2</th>\n",
       "      <td>17031010100</td>\n",
       "      <td>3</td>\n",
       "      <td>17.567262</td>\n",
       "      <td>60.300000</td>\n",
       "    </tr>\n",
       "    <tr>\n",
       "      <th>3</th>\n",
       "      <td>17031010100</td>\n",
       "      <td>4</td>\n",
       "      <td>13.523643</td>\n",
       "      <td>32.650000</td>\n",
       "    </tr>\n",
       "    <tr>\n",
       "      <th>4</th>\n",
       "      <td>17031010100</td>\n",
       "      <td>5</td>\n",
       "      <td>10.917930</td>\n",
       "      <td>44.166667</td>\n",
       "    </tr>\n",
       "  </tbody>\n",
       "</table>\n",
       "</div>"
      ],
      "text/plain": [
       "   DESTINATION  TOD  TRIPS_PRED  TRIPS_OBS\n",
       "0  17031010100    1   13.505764  53.150000\n",
       "1  17031010100    2   11.476194  31.316667\n",
       "2  17031010100    3   17.567262  60.300000\n",
       "3  17031010100    4   13.523643  32.650000\n",
       "4  17031010100    5   10.917930  44.166667"
      ]
     },
     "execution_count": 64,
     "metadata": {},
     "output_type": "execute_result"
    }
   ],
   "source": [
    "df2.head()"
   ]
  },
  {
   "cell_type": "code",
   "execution_count": 65,
   "metadata": {},
   "outputs": [
    {
     "data": {
      "text/plain": [
       "189567.68333333335"
      ]
     },
     "execution_count": 65,
     "metadata": {},
     "output_type": "execute_result"
    }
   ],
   "source": [
    "df2.TRIPS_OBS.sum()"
   ]
  },
  {
   "cell_type": "code",
   "execution_count": 66,
   "metadata": {},
   "outputs": [
    {
     "data": {
      "text/plain": [
       "216625.24737017372"
      ]
     },
     "execution_count": 66,
     "metadata": {},
     "output_type": "execute_result"
    }
   ],
   "source": [
    "df2.TRIPS_PRED.sum()"
   ]
  },
  {
   "cell_type": "code",
   "execution_count": 67,
   "metadata": {},
   "outputs": [],
   "source": [
    "df2['DIFF'] = df2['TRIPS_PRED'] - df2['TRIPS_OBS']"
   ]
  },
  {
   "cell_type": "code",
   "execution_count": 68,
   "metadata": {},
   "outputs": [],
   "source": [
    "df2['PDIFF'] = df2['DIFF']/df2['TRIPS_OBS']"
   ]
  },
  {
   "cell_type": "code",
   "execution_count": 69,
   "metadata": {},
   "outputs": [
    {
     "data": {
      "text/plain": [
       "11997.730461367904"
      ]
     },
     "execution_count": 69,
     "metadata": {},
     "output_type": "execute_result"
    }
   ],
   "source": [
    "df2['DIFF'].max()"
   ]
  },
  {
   "cell_type": "code",
   "execution_count": 70,
   "metadata": {},
   "outputs": [
    {
     "data": {
      "text/plain": [
       "-1093.1428726722909"
      ]
     },
     "execution_count": 70,
     "metadata": {},
     "output_type": "execute_result"
    }
   ],
   "source": [
    "df2['DIFF'].min()"
   ]
  },
  {
   "cell_type": "code",
   "execution_count": 71,
   "metadata": {},
   "outputs": [
    {
     "data": {
      "text/plain": [
       "7.0389084383039435"
      ]
     },
     "execution_count": 71,
     "metadata": {},
     "output_type": "execute_result"
    }
   ],
   "source": [
    "df2['DIFF'].mean()"
   ]
  },
  {
   "cell_type": "code",
   "execution_count": 79,
   "metadata": {},
   "outputs": [],
   "source": [
    "\n",
    "# Add the color for the chloropleth:\n",
    "m = folium.Map([41.8781, -87.6298], zoom_start=11)\n",
    "m.choropleth(\n",
    " geo_data=tracts,\n",
    " name= 'Difference Dropoffs',\n",
    " data=df2,\n",
    " columns = ['DESTINATION', 'DIFF'],\n",
    " key_on='feature.properties.geoid10',\n",
    " fill_color='RdYlGn',\n",
    " fill_opacity=0.6,\n",
    " line_opacity=0.2,\n",
    " bins = [-1000,-500,-100,100,500,1000,3000],\n",
    " legend_name= 'Difference of Predicted and Observed Dropoffs',\n",
    " highlight = True\n",
    ")\n",
    "\n",
    "#feature_group = folium.FeatureGroup(name='Census Tract Centroids', show = False)\n",
    "\n",
    "#for tract2 in centroids.GEOID:\n",
    "  #  row = centroids[centroids['GEOID'] == tract2]\n",
    " #   folium.CircleMarker([row['Y'], row['X']], popup = str(int(row['GEOID'].values[0])), radius = 1, fill = True, fill_color = 'grey', color = 'grey').add_to(feature_group)\n",
    "\n",
    "#m.add_child(feature_group)\n",
    "\n",
    "folium.LayerControl().add_to(m)\n",
    "\n",
    "m.save('C:/Workspace/TNC-Demand-Model/Data Exploration/Destination Choice Model Visualizations/Accuracy_Difference_Map.html')\n"
   ]
  },
  {
   "cell_type": "code",
   "execution_count": 83,
   "metadata": {},
   "outputs": [],
   "source": [
    "\n",
    "# Add the color for the chloropleth:\n",
    "m = folium.Map([41.8781, -87.6298], zoom_start=11)\n",
    "m.choropleth(\n",
    " geo_data=tracts,\n",
    " name= 'Percent Difference Dropoffs',\n",
    " data=df2,\n",
    " columns = ['DESTINATION', 'PDIFF'],\n",
    " key_on='feature.properties.geoid10',\n",
    " fill_color='RdYlGn',\n",
    " fill_opacity=0.6,\n",
    " line_opacity=0.2,\n",
    " bins = [-1,0,1,5,18],\n",
    " legend_name= 'Percent Difference of Predicted and Observed Dropoffs',\n",
    " highlight = True\n",
    ")\n",
    "\n",
    "#feature_group = folium.FeatureGroup(name='Census Tract Centroids', show = False)\n",
    "\n",
    "#for tract2 in centroids.GEOID:\n",
    "  #  row = centroids[centroids['GEOID'] == tract2]\n",
    " #   folium.CircleMarker([row['Y'], row['X']], popup = str(int(row['GEOID'].values[0])), radius = 1, fill = True, fill_color = 'grey', color = 'grey').add_to(feature_group)\n",
    "\n",
    "#m.add_child(feature_group)\n",
    "\n",
    "folium.LayerControl().add_to(m)\n",
    "\n",
    "m.save('C:/Workspace/TNC-Demand-Model/Data Exploration/Destination Choice Model Visualizations/Accuracy_Percent_Difference_Map.html')\n"
   ]
  },
  {
   "cell_type": "code",
   "execution_count": null,
   "metadata": {},
   "outputs": [],
   "source": []
  }
 ],
 "metadata": {
  "kernelspec": {
   "display_name": "Python 3",
   "language": "python",
   "name": "python3"
  },
  "language_info": {
   "codemirror_mode": {
    "name": "ipython",
    "version": 3
   },
   "file_extension": ".py",
   "mimetype": "text/x-python",
   "name": "python",
   "nbconvert_exporter": "python",
   "pygments_lexer": "ipython3",
   "version": "3.7.6"
  }
 },
 "nbformat": 4,
 "nbformat_minor": 4
}
