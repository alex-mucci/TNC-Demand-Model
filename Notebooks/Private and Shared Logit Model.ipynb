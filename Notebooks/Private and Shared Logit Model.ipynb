{
 "cells": [
  {
   "cell_type": "code",
   "execution_count": 6,
   "metadata": {},
   "outputs": [],
   "source": [
    "import biogeme.database as db\n",
    "import biogeme.biogeme as bio\n",
    "from biogeme import models\n",
    "from biogeme.expressions import Beta\n",
    "from biogeme.expressions import log\n",
    "import math\n",
    "import pandas as pd\n",
    "import numpy as np"
   ]
  },
  {
   "cell_type": "code",
   "execution_count": 7,
   "metadata": {
    "scrolled": true
   },
   "outputs": [],
   "source": [
    "df = pd.read_csv('C:/Workspace/TNC-Demand-Model/Outputs/Estimation_File.csv', index_col = 0)"
   ]
  },
  {
   "cell_type": "code",
   "execution_count": 8,
   "metadata": {
    "scrolled": true
   },
   "outputs": [
    {
     "name": "stdout",
     "output_type": "stream",
     "text": [
      "YEAR\n",
      "MONTH\n",
      "DOW\n",
      "HOUR\n",
      "ORIGIN\n",
      "DESTINATION\n",
      "TRAVEL_TIME_MINUTES\n",
      "TRIP_LENGTH_MILES\n",
      "ORIGIN_COM_AREA\n",
      "DEST_COM_AREA\n",
      "FARE\n",
      "TIP\n",
      "ADDITIONAL_CHARGES\n",
      "TOTAL_COST\n",
      "SHARED_FLAGGER\n",
      "NUM_TRIPS_POOLED\n",
      "SPEED\n",
      "TRIP_ID\n",
      "TRIP_START_TIME\n",
      "TRIP_END_TIME\n",
      "INTERNAL_UNSUPPRESSED_FLAGGER\n",
      "INTERNAL_SUPPPRESSED_FLAGGER\n",
      "EXTERNAL_FLAGGER\n",
      "INTERNAL_EXTERNAL_FLAGGER\n",
      "AIRPORT_FLAGGER\n",
      "TOD_1\n",
      "TOD_2\n",
      "TOD_3\n",
      "TOD_4\n",
      "TOD_5\n",
      "TRIP_TYPE\n",
      "walk_distance\n",
      "travel_time\n",
      "TOD\n",
      "TOTAL_POP_ORIGIN\n",
      "MEDIAN_AGE_ORIGIN\n",
      "TOTAL_HHLDS_ORIGIN\n",
      "AVG_HHLD_SIZE_ORIGIN\n",
      "HHLDS_MEAN_INCOME_ORIGIN\n",
      "HHLDS_UNDER_35k_ORIGIN\n",
      "HHLDS_35k_100k_ORIGIN\n",
      "HHLDS_OVER_100k_ORIGIN\n",
      "HHLDS_0_VEH_ORIGIN\n",
      "AVG_VEH_PER_HHLD_ORIGIN\n",
      "HHLDS_MEDIAN_INCOME_ORIGIN\n",
      "TOTAL_POP_25P_BACHELORS_HIGHER_ORIGIN\n",
      "TOTAL_MALE_ORIGIN\n",
      "TOTAL_FEMALE_ORIGIN\n",
      "MEDIAN_AGE_ORIGIN.1\n",
      "TOTAL_POP_DESTINATION\n",
      "MEDIAN_AGE_DESTINATION\n",
      "TOTAL_HHLDS_DESTINATION\n",
      "AVG_HHLD_SIZE_DESTINATION\n",
      "HHLDS_MEAN_INCOME_DESTINATION\n",
      "HHLDS_UNDER_35k_DESTINATION\n",
      "HHLDS_35k_100k_DESTINATION\n",
      "HHLDS_OVER_100k_DESTINATION\n",
      "HHLDS_0_VEH_DESTINATION\n",
      "AVG_VEH_PER_HHLD_DESTINATION\n",
      "HHLDS_MEDIAN_INCOME_DESTINATION\n",
      "TOTAL_POP_25P_BACHELORS_HIGHER_DESTINATION\n",
      "TOTAL_MALE_DESTINATION\n",
      "TOTAL_FEMALE_DESTINATION\n",
      "MEDIAN_AGE_DESTINATION.1\n",
      "DISTANCE\n",
      "TOTAL_EMP_ORIGIN\n",
      "TRACTCE10_ORIGIN\n",
      "TOTAL_EMP_DESTINATION\n",
      "TRACTCE10_DESTINATION\n",
      "SI01\n",
      "SI02\n",
      "SI03\n",
      "TOTAL_EMP_FLOW\n",
      "OTP_AUTO_TRAVEL_TIME\n",
      "PRIVATE_TRAVEL_TIME\n",
      "SHARED_TRAVEL_TIME\n",
      "NUM_POOLS_2\n",
      "NUM_POOLS_3P\n",
      "PRIVATE_FARE\n",
      "UNMATCHED_TRAVEL_TIME\n",
      "NUM_MATCHED_TRIPS\n",
      "MATCHED_TRAVEL_TIME\n",
      "SHARED_FARE\n",
      "YEAR_MONTH\n",
      "UNMATCHED_FARE\n",
      "MATCHED_FARE\n",
      "SHARED_TAX\n",
      "PRIVATE_TAX\n",
      "TAX\n",
      "geometry_ORIGIN\n",
      "AREA_SQ_MI_ORIGIN\n",
      "geometry_DESTINATION\n",
      "AREA_SQ_MI_DESTINATION\n",
      "POP_ORIGIN_DEN\n",
      "HHLDS_ORIGIN_DEN\n",
      "EMP_ORIGIN_DEN\n",
      "POP_DESTINATION_DEN\n",
      "HHLDS_DESTINATION_DEN\n",
      "EMP_DESTINATION_DEN\n"
     ]
    }
   ],
   "source": [
    "for col in df.columns:\n",
    "    print(col)"
   ]
  },
  {
   "cell_type": "code",
   "execution_count": 9,
   "metadata": {},
   "outputs": [],
   "source": [
    "df['MATCHED_FLAGGER'] = np.where(df['NUM_TRIPS_POOLED'] > 1, 1, 0)"
   ]
  },
  {
   "cell_type": "code",
   "execution_count": 10,
   "metadata": {},
   "outputs": [],
   "source": [
    "df['HHLDS_MEDIAN_INCOME_ORIGIN'] = df['HHLDS_MEDIAN_INCOME_ORIGIN'].fillna(0)\n",
    "df['HHLDS_MEDIAN_INCOME_DESTINATION'] = df['HHLDS_MEDIAN_INCOME_DESTINATION'].fillna(0)"
   ]
  },
  {
   "cell_type": "code",
   "execution_count": 11,
   "metadata": {},
   "outputs": [],
   "source": [
    "df['HHLDS_MEDIAN_INCOME_ORIGIN_10k'] = df['HHLDS_MEDIAN_INCOME_ORIGIN']/10000\n",
    "df['HHLDS_MEDIAN_INCOME_DESTINATION_10k'] = df['HHLDS_MEDIAN_INCOME_DESTINATION'] / 10000"
   ]
  },
  {
   "cell_type": "code",
   "execution_count": null,
   "metadata": {},
   "outputs": [],
   "source": []
  },
  {
   "cell_type": "code",
   "execution_count": 12,
   "metadata": {},
   "outputs": [],
   "source": [
    "df['HHLDS_UNDER_35k_ORIGIN'] = df['HHLDS_UNDER_35k_ORIGIN'].fillna(0)\n",
    "df['HHLDS_UNDER_35k_DESTINATION'] = df['HHLDS_UNDER_35k_DESTINATION'].fillna(0)\n",
    "\n",
    "df['HHLDS_35k_100k_ORIGIN'] = df['HHLDS_35k_100k_ORIGIN'].fillna(0)\n",
    "df['HHLDS_35k_100k_DESTINATION'] = df['HHLDS_35k_100k_DESTINATION'].fillna(0)\n",
    "\n",
    "df['HHLDS_OVER_100k_ORIGIN'] = df['HHLDS_OVER_100k_ORIGIN'].fillna(0)\n",
    "df['HHLDS_OVER_100k_DESTINATION'] = df['HHLDS_OVER_100k_DESTINATION'].fillna(0)"
   ]
  },
  {
   "cell_type": "code",
   "execution_count": 13,
   "metadata": {},
   "outputs": [],
   "source": [
    "df['AVG_HHLD_SIZE_ORIGIN'] = df['AVG_HHLD_SIZE_ORIGIN'].fillna(0)\n",
    "df['AVG_HHLD_SIZE_DESTINATION'] = df['AVG_HHLD_SIZE_DESTINATION'].fillna(0)\n",
    "\n"
   ]
  },
  {
   "cell_type": "code",
   "execution_count": 14,
   "metadata": {},
   "outputs": [],
   "source": [
    "df['HHLDS_UNDER_35k_ORIGIN_SHR'] = df['HHLDS_UNDER_35k_ORIGIN']/df['TOTAL_HHLDS_ORIGIN']\n",
    "df['HHLDS_UNDER_35k_DESTINATION_SHR'] = df['HHLDS_UNDER_35k_DESTINATION']/df['TOTAL_HHLDS_DESTINATION']"
   ]
  },
  {
   "cell_type": "code",
   "execution_count": 15,
   "metadata": {},
   "outputs": [],
   "source": [
    "df['HHLDS_UNDER_35K_0_VEH_ORIGIN'] = df['HHLDS_UNDER_35k_ORIGIN_SHR']*df['HHLDS_0_VEH_ORIGIN']\n",
    "df['HHLDS_UNDER_35K_0_VEH_DESTINATION'] = df['HHLDS_UNDER_35k_DESTINATION_SHR']*df['HHLDS_0_VEH_DESTINATION']"
   ]
  },
  {
   "cell_type": "code",
   "execution_count": 16,
   "metadata": {},
   "outputs": [],
   "source": [
    "df['HHLDS_UNDER_35K_0_VEH_ORIGIN'] = df['HHLDS_UNDER_35K_0_VEH_ORIGIN'].fillna(0)\n",
    "df['HHLDS_UNDER_35K_0_VEH_DESTINATION'] = df['HHLDS_UNDER_35K_0_VEH_DESTINATION'].fillna(0)"
   ]
  },
  {
   "cell_type": "code",
   "execution_count": 17,
   "metadata": {},
   "outputs": [],
   "source": [
    "df['MEDIAN_AGE_ORIGIN'] = df['MEDIAN_AGE_ORIGIN'].fillna(0)\n",
    "df['MEDIAN_AGE_DESTINATION'] = df['MEDIAN_AGE_DESTINATION'].fillna(0)"
   ]
  },
  {
   "cell_type": "code",
   "execution_count": 18,
   "metadata": {},
   "outputs": [],
   "source": [
    "df['COST'] = df['TAX'] + df['FARE']"
   ]
  },
  {
   "cell_type": "code",
   "execution_count": 19,
   "metadata": {},
   "outputs": [],
   "source": [
    "# making the Biogeme Database that is used for the model estimation\n",
    "database = db.Database('est_file', df[['HHLDS_UNDER_35K_0_VEH_ORIGIN','HHLDS_UNDER_35K_0_VEH_DESTINATION','YEAR','MONTH','DOW','HOUR','COST','ORIGIN','DESTINATION','SHARED_FARE','PRIVATE_FARE','TRIP_LENGTH_MILES','SHARED_TRAVEL_TIME','PRIVATE_TRAVEL_TIME','NUM_TRIPS_POOLED','SHARED_FLAGGER','INTERNAL_SUPPPRESSED_FLAGGER','AIRPORT_FLAGGER','TOD_1', 'TOD_2',\n",
    "       'TOD_3', 'TOD_4', 'TOD_5','PRIVATE_TAX','SHARED_TAX','TAX','EMP_ORIGIN_DEN','EMP_DESTINATION_DEN','MEDIAN_AGE_ORIGIN','MEDIAN_AGE_DESTINATION',\n",
    "        'TOTAL_POP_ORIGIN','TOTAL_POP_DESTINATION','TOTAL_HHLDS_DESTINATION','AVG_HHLD_SIZE_DESTINATION','HHLDS_MEDIAN_INCOME_DESTINATION','TOTAL_EMP_ORIGIN','TOTAL_EMP_DESTINATION','TOTAL_EMP_FLOW','MATCHED_TRAVEL_TIME','UNMATCHED_TRAVEL_TIME','NUM_MATCHED_TRIPS','UNMATCHED_FARE','MATCHED_FARE',\n",
    "       'TOTAL_HHLDS_ORIGIN', 'AVG_HHLD_SIZE_ORIGIN','HHLDS_OVER_100k_ORIGIN','HHLDS_OVER_100k_DESTINATION','MATCHED_FLAGGER','TOD',\n",
    "       'HHLDS_MEDIAN_INCOME_ORIGIN', 'HHLDS_UNDER_35k_ORIGIN','HHLDS_UNDER_35k_DESTINATION','HHLDS_35k_100k_ORIGIN','HHLDS_35k_100k_DESTINATION','HHLDS_0_VEH_ORIGIN','HHLDS_0_VEH_DESTINATION',\n",
    "        'HHLDS_MEDIAN_INCOME_ORIGIN_10k','HHLDS_MEDIAN_INCOME_DESTINATION_10k','AVG_VEH_PER_HHLD_ORIGIN','AVG_VEH_PER_HHLD_DESTINATION','POP_ORIGIN_DEN','POP_DESTINATION_DEN','HHLDS_ORIGIN_DEN','HHLDS_DESTINATION_DEN']])"
   ]
  },
  {
   "cell_type": "code",
   "execution_count": 20,
   "metadata": {},
   "outputs": [],
   "source": [
    "# The following statement allows you to use the names of the\n",
    "# variable as Python variable. (in the utility functions)\n",
    "globals().update(database.variables)"
   ]
  },
  {
   "cell_type": "code",
   "execution_count": 21,
   "metadata": {},
   "outputs": [
    {
     "name": "stdout",
     "output_type": "stream",
     "text": [
      "c_0 = Beta('c_0', 0, None, None, 0)\n",
      "V0 = c_0\n",
      "c_1 = Beta('c_1', 0, None, None, 0)\n",
      "V1 = c_1\n"
     ]
    }
   ],
   "source": [
    "# constants only model (all utilities equal to unique constant)\n",
    "\n",
    "for i in range(2):\n",
    "     key = \"c_\" + str(i)\n",
    "     print(\"{0} = Beta('{0}', 0, None, None, 0)\".format(key))\n",
    "     print (\"V{0} = {1}\".format(i, key))"
   ]
  },
  {
   "cell_type": "code",
   "execution_count": 20,
   "metadata": {},
   "outputs": [],
   "source": [
    "#constants only model\n",
    "c_0 = Beta('c_0', 0, None, None, 0)\n",
    "V0 = 0\n",
    "c_1 = Beta('c_1', 0, None, None, 0)\n",
    "V1 = c_1"
   ]
  },
  {
   "cell_type": "code",
   "execution_count": 21,
   "metadata": {},
   "outputs": [],
   "source": [
    "# Associate utility functions with the numbering of alternatives (corresponds to the SHARED_FLAGGER field)\n",
    "V = {0: V0, 1: V1}"
   ]
  },
  {
   "cell_type": "code",
   "execution_count": 22,
   "metadata": {},
   "outputs": [],
   "source": [
    "# Associate the availability conditions with the alternatives\n",
    "# for this model, all migrants had all alternatives theoretically available so all are equal to 1 (available)\n",
    "# if individual people had different availability for alterantives, could pass in a column of the dataframe to account for that availability\n",
    "av = {}\n",
    "for i in range(0, 2):\n",
    "    av[i] = 1\n"
   ]
  },
  {
   "cell_type": "code",
   "execution_count": 23,
   "metadata": {},
   "outputs": [],
   "source": [
    "# Definition of the model. This is the contribution of each\n",
    "# observation to the log likelihood function.\n",
    "# estimating the CHOSEN field\n",
    "logprob = models.loglogit(V, av, SHARED_FLAGGER)"
   ]
  },
  {
   "cell_type": "code",
   "execution_count": 24,
   "metadata": {},
   "outputs": [],
   "source": [
    "# Create the Biogeme object\n",
    "biogeme = bio.BIOGEME(database, logprob)\n",
    "biogeme.modelName = 'constants_only'"
   ]
  },
  {
   "cell_type": "code",
   "execution_count": 25,
   "metadata": {},
   "outputs": [
    {
     "data": {
      "text/plain": [
       "-585003.7437433443"
      ]
     },
     "execution_count": 25,
     "metadata": {},
     "output_type": "execute_result"
    }
   ],
   "source": [
    "# Calculate the null log likelihood for reporting. (likelihood of predicting every entry's alterantive correctly if alternatives are randomly chosen)\n",
    "biogeme.calculateNullLoglikelihood(av)"
   ]
  },
  {
   "cell_type": "code",
   "execution_count": 26,
   "metadata": {},
   "outputs": [],
   "source": [
    "# Estimate the parameters\n",
    "results = biogeme.estimate()\n"
   ]
  },
  {
   "cell_type": "code",
   "execution_count": 27,
   "metadata": {},
   "outputs": [
    {
     "name": "stdout",
     "output_type": "stream",
     "text": [
      "        Value   Std err      t-test  p-value  Rob. Std err  Rob. t-test  \\\n",
      "c_1 -1.314637  0.002665 -493.386986      0.0      0.002665  -493.386987   \n",
      "\n",
      "     Rob. p-value  \n",
      "c_1           0.0  \n"
     ]
    }
   ],
   "source": [
    "# Get the results in a pandas table\n",
    "pandasResults = results.getEstimatedParameters()\n",
    "print(pandasResults)"
   ]
  },
  {
   "cell_type": "code",
   "execution_count": 44,
   "metadata": {},
   "outputs": [
    {
     "data": {
      "text/plain": [
       "{'Number of estimated parameters': (1, ''),\n",
       " 'Sample size': (843982, ''),\n",
       " 'Excluded observations': (0, ''),\n",
       " 'Null log likelihood': (-585003.7437433443, '.7g'),\n",
       " 'Init log likelihood': (-435676.96524891746, '.7g'),\n",
       " 'Final log likelihood': (-435676.96524891746, '.7g'),\n",
       " 'Likelihood ratio test for the null model': (298653.5569888537, '.7g'),\n",
       " 'Rho-square for the null model': (0.2552578168797843, '.3g'),\n",
       " 'Rho-square-bar for the null model': (0.2552561074890143, '.3g'),\n",
       " 'Likelihood ratio test for the init. model': (-0.0, '.7g'),\n",
       " 'Rho-square for the init. model': (0.0, '.3g'),\n",
       " 'Rho-square-bar for the init. model': (-2.2952785658780783e-06, '.3g'),\n",
       " 'Akaike Information Criterion': (871355.9304978349, '.7g'),\n",
       " 'Bayesian Information Criterion': (871367.5763842813, '.7g'),\n",
       " 'Final gradient norm': (0.0010114306892319291, '.4E'),\n",
       " 'Nbr of threads': (8, '')}"
      ]
     },
     "execution_count": 44,
     "metadata": {},
     "output_type": "execute_result"
    }
   ],
   "source": [
    "results.getGeneralStatistics()"
   ]
  },
  {
   "cell_type": "code",
   "execution_count": 28,
   "metadata": {},
   "outputs": [],
   "source": [
    "# Private Choice Parameters to be estimated\n",
    "# Beta(name of the factor, initial value of the coefficient, lower bound, upper bound, whether or not the coefficinet should be fixed to initial value value)\n",
    "c_fare =Beta('c_fare', 0, None, None, 0)\n",
    "c_tax =Beta('c_tax', 0, None, None, 0)\n",
    "c_cost =Beta('c_cost', 0, None, None, 0)\n",
    "\n",
    "c_travel_time =Beta('c_travel_time', 0, None, None, 0)\n",
    "c_private_airport =Beta('c_private_airport', 0, None, None, 1)\n",
    "c_private_pop_den =Beta('c_private_pop_den', 0, None, None, 1)\n",
    "c_private_hhld_den =Beta('c_private_hhld_den', 0, None, None, 1)\n",
    "c_private_tot_pop =Beta('c_private_tot_pop', 0, None, None, 1)\n",
    "c_private_tot_hhlds =Beta('c_private_tot_hhlds', 0, None, None, 1)\n",
    "#c_private_avg_hh_size =Beta('c_private_avg_hh_size', 0, None, None, 1)\n",
    "c_private_avg_veh_per_hhld =Beta('c_private_avg_veh_per_hhld', 0, None, None, 1)\n",
    "c_private_tot_hhlds_200k_plus =Beta('c_private_tot_hhlds_200k_plus', 0, None, None, 1)\n",
    "c_private_tot_hhlds_zero_veh =Beta('c_private_tot_hhlds_zero_veh', 0, None, None, 1)\n",
    "c_private_hhld_avg_income =Beta('c_private_hhld_avg_income', 0, None, None, 1)\n"
   ]
  },
  {
   "cell_type": "code",
   "execution_count": 29,
   "metadata": {},
   "outputs": [],
   "source": [
    "# Shared Choice Parameters to be estimated\n",
    "# Beta(name of the factor, initial value of the coefficient, lower bound, upper bound, whether or not the coefficinet should be fixed to initial value value)\n",
    "\n",
    "c_shared_airport =Beta('c_shared_airport', 0, None, None, 0)\n",
    "c_shared_pop_den =Beta('c_shared_pop_den', 0, None, None, 0)\n",
    "c_shared_hhld_den =Beta('c_shared_hhld_den', 0, None, None, 0)\n",
    "c_shared_tot_pop =Beta('c_shared_tot_pop', 0, None, None, 0)\n",
    "c_shared_tot_hhlds =Beta('c_shared_tot_hhlds', 0, None, None, 0)\n",
    "#c_private_avg_hh_size =Beta('c_private_avg_hh_size', 0, None, None, 0)\n",
    "c_shared_avg_veh_per_hhld =Beta('c_shared_avg_veh_per_hhld', 0, None, None, 0)\n",
    "c_shared_tot_hhlds_200k_plus =Beta('c_shared_tot_hhlds_200k_plus', 0, None, None, 0)\n",
    "c_shared_tot_hhlds_zero_veh_origin =Beta('c_shared_tot_hhlds_zero_veh_origin', 0, None, None, 0)\n",
    "c_shared_tot_hhlds_zero_veh_dest =Beta('c_shared_tot_hhlds_zero_veh_dest', 0, None, None, 0)\n",
    "\n",
    "c_shared_hhld_median_income_origin =Beta('c_shared_hhld_median_income_origin', 0, None, None, 0)\n",
    "c_shared_hhld_median_income_dest =Beta('c_shared_hhld_median_income_dest', 0, None, None, 0)\n",
    "\n",
    "c_shared_trip_length =Beta('c_shared_trip_length', 0, None, None, 0)\n",
    "c_shared_pop_den_origin =Beta('c_shared_pop_den_origin', 0, None, None, 0)\n",
    "c_shared_pop_den_dest =Beta('c_shared_pop_den_dest', 0, None, None, 0)\n",
    "c_shared_constant = Beta('shared_constant', 0, None, None, 0)\n",
    "\n",
    "c_shared_median_age_origin =Beta('c_shared_median_age_origin', 0, None, None, 0)\n",
    "c_shared_median_age_dest =Beta('c_shared_median_age_dest', 0, None, None, 0)\n",
    "\n",
    "c_shared_35kU_hhlds_origin = Beta('c_shared_35kU_hhlds_origin', 0, None, None, 0)\n",
    "c_shared_35kU_0_veh_hhlds_origin = Beta('c_shared_35kU_0_veh_hhlds_origin', 0, None, None, 0)\n",
    "c_shared_35kU_hhlds_dest = Beta('c_shared_35kU_hhlds_dest', 0, None, None, 0)\n",
    "c_shared_35kU_0_veh_hhlds_dest = Beta('c_shared_35kU_0_veh_hhlds_dest', 0, None, None, 0)\n",
    "\n",
    "c_shared_constant_1 = Beta('c_shared_constant_1', 0, None, None, 0)\n",
    "c_shared_constant_2 = Beta('c_shared_constant_2', 0, None, None, 0)\n",
    "c_shared_constant_3 = Beta('c_shared_constant_3', 0, None, None, 0)\n",
    "c_shared_constant_4 = Beta('c_shared_constant_4', 0, None, None, 0)\n",
    "c_shared_constant_5 = Beta('c_shared_constant_5', 0, None, None, 0)\n"
   ]
  },
  {
   "cell_type": "code",
   "execution_count": 266,
   "metadata": {},
   "outputs": [],
   "source": [
    "# defining the private utility function\n",
    "V0 = c_fare * PRIVATE_FARE + c_tax + PRIVATE_TAX +  c_travel_time * PRIVATE_TRAVEL_TIME"
   ]
  },
  {
   "cell_type": "code",
   "execution_count": 267,
   "metadata": {},
   "outputs": [],
   "source": [
    "# defining the shared utility function\n",
    "V1 = c_shared_constant + c_fare * SHARED_FARE + c_tax + SHARED_TAX + c_shared_trip_length * TRIP_LENGTH_MILES + c_travel_time * SHARED_TRAVEL_TIME + c_shared_airport * AIRPORT_FLAGGER + c_shared_pop_den_origin * POP_ORIGIN_DEN + c_shared_pop_den_dest * POP_DESTINATION_DEN + c_shared_hhld_median_income_origin * HHLDS_MEDIAN_INCOME_ORIGIN + c_shared_hhld_median_income_dest * HHLDS_MEDIAN_INCOME_DESTINATION "
   ]
  },
  {
   "cell_type": "code",
   "execution_count": 92,
   "metadata": {},
   "outputs": [],
   "source": [
    "# Associate utility functions with the numbering of alternatives (corresponds to the SHARED_FLAGGER field)\n",
    "V = {0: V0, 1: V1}"
   ]
  },
  {
   "cell_type": "code",
   "execution_count": 1,
   "metadata": {},
   "outputs": [],
   "source": [
    "# Associate the availability conditions with the alternatives\n",
    "# for this model, all migrants had all alternatives theoretically available so all are equal to 1 (available)\n",
    "# if individual people had different availability for alterantives, could pass in a column of the dataframe to account for that availability\n",
    "av = {}\n",
    "for i in range(0, 2):\n",
    "    av[i] = 1\n"
   ]
  },
  {
   "cell_type": "code",
   "execution_count": 2,
   "metadata": {},
   "outputs": [
    {
     "ename": "NameError",
     "evalue": "name 'models' is not defined",
     "output_type": "error",
     "traceback": [
      "\u001b[1;31m---------------------------------------------------------------------------\u001b[0m",
      "\u001b[1;31mNameError\u001b[0m                                 Traceback (most recent call last)",
      "\u001b[1;32m<ipython-input-2-f61f0b84b008>\u001b[0m in \u001b[0;36m<module>\u001b[1;34m\u001b[0m\n\u001b[0;32m      2\u001b[0m \u001b[1;31m# observation to the log likelihood function.\u001b[0m\u001b[1;33m\u001b[0m\u001b[1;33m\u001b[0m\u001b[1;33m\u001b[0m\u001b[0m\n\u001b[0;32m      3\u001b[0m \u001b[1;31m# estimating the CHOSEN field\u001b[0m\u001b[1;33m\u001b[0m\u001b[1;33m\u001b[0m\u001b[1;33m\u001b[0m\u001b[0m\n\u001b[1;32m----> 4\u001b[1;33m \u001b[0mlogprob\u001b[0m \u001b[1;33m=\u001b[0m \u001b[0mmodels\u001b[0m\u001b[1;33m.\u001b[0m\u001b[0mloglogit\u001b[0m\u001b[1;33m(\u001b[0m\u001b[0mV\u001b[0m\u001b[1;33m,\u001b[0m \u001b[0mav\u001b[0m\u001b[1;33m,\u001b[0m \u001b[0mSHARED_FLAGGER\u001b[0m\u001b[1;33m)\u001b[0m\u001b[1;33m\u001b[0m\u001b[1;33m\u001b[0m\u001b[0m\n\u001b[0m",
      "\u001b[1;31mNameError\u001b[0m: name 'models' is not defined"
     ]
    }
   ],
   "source": [
    "# Definition of the model. This is the contribution of each\n",
    "# observation to the log likelihood function.\n",
    "# estimating the CHOSEN field\n",
    "logprob = models.loglogit(V, av, SHARED_FLAGGER)"
   ]
  },
  {
   "cell_type": "code",
   "execution_count": 3,
   "metadata": {},
   "outputs": [
    {
     "ename": "NameError",
     "evalue": "name 'bio' is not defined",
     "output_type": "error",
     "traceback": [
      "\u001b[1;31m---------------------------------------------------------------------------\u001b[0m",
      "\u001b[1;31mNameError\u001b[0m                                 Traceback (most recent call last)",
      "\u001b[1;32m<ipython-input-3-d5c69bf3134c>\u001b[0m in \u001b[0;36m<module>\u001b[1;34m\u001b[0m\n\u001b[0;32m      1\u001b[0m \u001b[1;31m# Create the Biogeme object\u001b[0m\u001b[1;33m\u001b[0m\u001b[1;33m\u001b[0m\u001b[1;33m\u001b[0m\u001b[0m\n\u001b[1;32m----> 2\u001b[1;33m \u001b[0mbiogeme\u001b[0m \u001b[1;33m=\u001b[0m \u001b[0mbio\u001b[0m\u001b[1;33m.\u001b[0m\u001b[0mBIOGEME\u001b[0m\u001b[1;33m(\u001b[0m\u001b[0mdatabase\u001b[0m\u001b[1;33m,\u001b[0m \u001b[0mlogprob\u001b[0m\u001b[1;33m)\u001b[0m\u001b[1;33m\u001b[0m\u001b[1;33m\u001b[0m\u001b[0m\n\u001b[0m\u001b[0;32m      3\u001b[0m \u001b[0mbiogeme\u001b[0m\u001b[1;33m.\u001b[0m\u001b[0mmodelName\u001b[0m \u001b[1;33m=\u001b[0m \u001b[1;34m'rh_mode_choice'\u001b[0m\u001b[1;33m\u001b[0m\u001b[1;33m\u001b[0m\u001b[0m\n",
      "\u001b[1;31mNameError\u001b[0m: name 'bio' is not defined"
     ]
    }
   ],
   "source": [
    "# Create the Biogeme object\n",
    "biogeme = bio.BIOGEME(database, logprob)\n",
    "biogeme.modelName = 'rh_mode_choice'"
   ]
  },
  {
   "cell_type": "code",
   "execution_count": 4,
   "metadata": {},
   "outputs": [
    {
     "ename": "NameError",
     "evalue": "name 'biogeme' is not defined",
     "output_type": "error",
     "traceback": [
      "\u001b[1;31m---------------------------------------------------------------------------\u001b[0m",
      "\u001b[1;31mNameError\u001b[0m                                 Traceback (most recent call last)",
      "\u001b[1;32m<ipython-input-4-bc6fba64cf9a>\u001b[0m in \u001b[0;36m<module>\u001b[1;34m\u001b[0m\n\u001b[0;32m      1\u001b[0m \u001b[1;31m# Estimate the parameters\u001b[0m\u001b[1;33m\u001b[0m\u001b[1;33m\u001b[0m\u001b[1;33m\u001b[0m\u001b[0m\n\u001b[1;32m----> 2\u001b[1;33m \u001b[0mresults\u001b[0m \u001b[1;33m=\u001b[0m \u001b[0mbiogeme\u001b[0m\u001b[1;33m.\u001b[0m\u001b[0mestimate\u001b[0m\u001b[1;33m(\u001b[0m\u001b[1;33m)\u001b[0m\u001b[1;33m\u001b[0m\u001b[1;33m\u001b[0m\u001b[0m\n\u001b[0m",
      "\u001b[1;31mNameError\u001b[0m: name 'biogeme' is not defined"
     ]
    }
   ],
   "source": [
    "# Estimate the parameters\n",
    "results = biogeme.estimate()\n"
   ]
  },
  {
   "cell_type": "code",
   "execution_count": 5,
   "metadata": {},
   "outputs": [
    {
     "ename": "NameError",
     "evalue": "name 'results' is not defined",
     "output_type": "error",
     "traceback": [
      "\u001b[1;31m---------------------------------------------------------------------------\u001b[0m",
      "\u001b[1;31mNameError\u001b[0m                                 Traceback (most recent call last)",
      "\u001b[1;32m<ipython-input-5-4b6e7edd2b03>\u001b[0m in \u001b[0;36m<module>\u001b[1;34m\u001b[0m\n\u001b[0;32m      1\u001b[0m \u001b[1;31m# Get the results in a pandas table\u001b[0m\u001b[1;33m\u001b[0m\u001b[1;33m\u001b[0m\u001b[1;33m\u001b[0m\u001b[0m\n\u001b[1;32m----> 2\u001b[1;33m \u001b[0mpandasResults\u001b[0m \u001b[1;33m=\u001b[0m \u001b[0mresults\u001b[0m\u001b[1;33m.\u001b[0m\u001b[0mgetEstimatedParameters\u001b[0m\u001b[1;33m(\u001b[0m\u001b[1;33m)\u001b[0m\u001b[1;33m\u001b[0m\u001b[1;33m\u001b[0m\u001b[0m\n\u001b[0m\u001b[0;32m      3\u001b[0m \u001b[0mprint\u001b[0m\u001b[1;33m(\u001b[0m\u001b[0mpandasResults\u001b[0m\u001b[1;33m)\u001b[0m\u001b[1;33m\u001b[0m\u001b[1;33m\u001b[0m\u001b[0m\n",
      "\u001b[1;31mNameError\u001b[0m: name 'results' is not defined"
     ]
    }
   ],
   "source": [
    "# Get the results in a pandas table\n",
    "pandasResults = results.getEstimatedParameters()\n",
    "print(pandasResults)"
   ]
  },
  {
   "cell_type": "code",
   "execution_count": 98,
   "metadata": {},
   "outputs": [
    {
     "data": {
      "text/plain": [
       "{'Number of estimated parameters': (10, ''),\n",
       " 'Sample size': (843982, ''),\n",
       " 'Excluded observations': (0, ''),\n",
       " 'Init log likelihood': (-620278.786377839, '.7g'),\n",
       " 'Final log likelihood': (-409735.5509440722, '.7g'),\n",
       " 'Likelihood ratio test for the init. model': (421086.4708675337, '.7g'),\n",
       " 'Rho-square for the init. model': (0.33943323559918703, '.3g'),\n",
       " 'Rho-square-bar for the init. model': (0.33941711381617656, '.3g'),\n",
       " 'Akaike Information Criterion': (819491.1018881444, '.7g'),\n",
       " 'Bayesian Information Criterion': (819607.5607526078, '.7g'),\n",
       " 'Final gradient norm': (0.8848478189598489, '.4E'),\n",
       " 'Nbr of threads': (8, '')}"
      ]
     },
     "execution_count": 98,
     "metadata": {},
     "output_type": "execute_result"
    }
   ],
   "source": [
    "results.getGeneralStatistics()"
   ]
  },
  {
   "cell_type": "code",
   "execution_count": 99,
   "metadata": {},
   "outputs": [],
   "source": [
    "#start with a basic model\n",
    "V0 = c_travel_time * PRIVATE_TRAVEL_TIME\n",
    "V1 = c_shared_constant + c_travel_time * SHARED_TRAVEL_TIME "
   ]
  },
  {
   "cell_type": "code",
   "execution_count": 100,
   "metadata": {},
   "outputs": [
    {
     "name": "stdout",
     "output_type": "stream",
     "text": [
      "                    Value   Std err      t-test  p-value  Rob. Std err  \\\n",
      "c_travel_time   -0.073008  0.002033  -35.904014      0.0      0.002112   \n",
      "shared_constant -1.168971  0.004789 -244.075981      0.0      0.004910   \n",
      "\n",
      "                 Rob. t-test  Rob. p-value  \n",
      "c_travel_time     -34.565998           0.0  \n",
      "shared_constant  -238.079614           0.0  \n"
     ]
    }
   ],
   "source": [
    "# Associate utility functions with the numbering of alternatives (corresponds to the SHARED_FLAGGER field)\n",
    "V = {0: V0, 1: V1}\n",
    "\n",
    "# Associate the availability conditions with the alternatives\n",
    "# for this model, all migrants had all alternatives theoretically available so all are equal to 1 (available)\n",
    "# if individual people had different availability for alterantives, could pass in a column of the dataframe to account for that availability\n",
    "av = {}\n",
    "for i in range(0, 2):\n",
    "    av[i] = 1\n",
    "    \n",
    "    \n",
    "# Definition of the model. This is the contribution of each\n",
    "# observation to the log likelihood function.\n",
    "# estimating the CHOSEN field\n",
    "logprob = models.loglogit(V, av, SHARED_FLAGGER)\n",
    "\n",
    "\n",
    "# Create the Biogeme object\n",
    "biogeme = bio.BIOGEME(database, logprob)\n",
    "biogeme.modelName = 'rh_mode_choice'\n",
    "\n",
    "# Estimate the parameters\n",
    "results = biogeme.estimate()\n",
    "\n",
    "# Get the results in a pandas table\n",
    "pandasResults = results.getEstimatedParameters()\n",
    "print(pandasResults)"
   ]
  },
  {
   "cell_type": "code",
   "execution_count": 101,
   "metadata": {},
   "outputs": [
    {
     "data": {
      "text/plain": [
       "{'Number of estimated parameters': (2, ''),\n",
       " 'Sample size': (843982, ''),\n",
       " 'Excluded observations': (0, ''),\n",
       " 'Init log likelihood': (-436703.0842610704, '.7g'),\n",
       " 'Final log likelihood': (-435013.8832444569, '.7g'),\n",
       " 'Likelihood ratio test for the init. model': (3378.40203322703, '.7g'),\n",
       " 'Rho-square for the init. model': (0.0038680766806851175, '.3g'),\n",
       " 'Rho-square-bar for the init. model': (0.0038634969099620164, '.3g'),\n",
       " 'Akaike Information Criterion': (870031.7664889138, '.7g'),\n",
       " 'Bayesian Information Criterion': (870055.0582618065, '.7g'),\n",
       " 'Final gradient norm': (1.051884368636977, '.4E'),\n",
       " 'Nbr of threads': (8, '')}"
      ]
     },
     "execution_count": 101,
     "metadata": {},
     "output_type": "execute_result"
    }
   ],
   "source": [
    "results.getGeneralStatistics()"
   ]
  },
  {
   "cell_type": "code",
   "execution_count": 102,
   "metadata": {},
   "outputs": [],
   "source": [
    "#looks good add in fare\n",
    "V0 = c_travel_time * PRIVATE_TRAVEL_TIME + c_fare * PRIVATE_FARE\n",
    "V1 = c_shared_constant + c_travel_time * SHARED_TRAVEL_TIME + c_fare * SHARED_FARE"
   ]
  },
  {
   "cell_type": "code",
   "execution_count": 103,
   "metadata": {},
   "outputs": [
    {
     "name": "stdout",
     "output_type": "stream",
     "text": [
      "                    Value   Std err      t-test  p-value  Rob. Std err  \\\n",
      "c_fare          -0.114570  0.000861 -133.041820      0.0      0.000884   \n",
      "c_travel_time   -0.220233  0.002351  -93.682138      0.0      0.002511   \n",
      "shared_constant -1.334374  0.004991 -267.354276      0.0      0.004991   \n",
      "\n",
      "                 Rob. t-test  Rob. p-value  \n",
      "c_fare           -129.637223           0.0  \n",
      "c_travel_time     -87.697429           0.0  \n",
      "shared_constant  -267.380983           0.0  \n"
     ]
    }
   ],
   "source": [
    "# Associate utility functions with the numbering of alternatives (corresponds to the SHARED_FLAGGER field)\n",
    "V = {0: V0, 1: V1}\n",
    "\n",
    "# Associate the availability conditions with the alternatives\n",
    "# for this model, all migrants had all alternatives theoretically available so all are equal to 1 (available)\n",
    "# if individual people had different availability for alterantives, could pass in a column of the dataframe to account for that availability\n",
    "av = {}\n",
    "for i in range(0, 2):\n",
    "    av[i] = 1\n",
    "    \n",
    "    \n",
    "# Definition of the model. This is the contribution of each\n",
    "# observation to the log likelihood function.\n",
    "# estimating the CHOSEN field\n",
    "logprob = models.loglogit(V, av, SHARED_FLAGGER)\n",
    "\n",
    "\n",
    "# Create the Biogeme object\n",
    "biogeme = bio.BIOGEME(database, logprob)\n",
    "biogeme.modelName = 'rh_mode_choice'\n",
    "\n",
    "# Estimate the parameters\n",
    "results = biogeme.estimate()\n",
    "\n",
    "# Get the results in a pandas table\n",
    "pandasResults = results.getEstimatedParameters()\n",
    "print(pandasResults)"
   ]
  },
  {
   "cell_type": "code",
   "execution_count": 104,
   "metadata": {},
   "outputs": [
    {
     "data": {
      "text/plain": [
       "{'Number of estimated parameters': (3, ''),\n",
       " 'Sample size': (843982, ''),\n",
       " 'Excluded observations': (0, ''),\n",
       " 'Init log likelihood': (-432548.1238082609, '.7g'),\n",
       " 'Final log likelihood': (-426352.44301828125, '.7g'),\n",
       " 'Likelihood ratio test for the init. model': (12391.36157995928, '.7g'),\n",
       " 'Rho-square for the init. model': (0.01432367972245796, '.3g'),\n",
       " 'Rho-square-bar for the init. model': (0.014316744077994659, '.3g'),\n",
       " 'Akaike Information Criterion': (852710.8860365625, '.7g'),\n",
       " 'Bayesian Information Criterion': (852745.8236959015, '.7g'),\n",
       " 'Final gradient norm': (0.0612003884729439, '.4E'),\n",
       " 'Nbr of threads': (8, '')}"
      ]
     },
     "execution_count": 104,
     "metadata": {},
     "output_type": "execute_result"
    }
   ],
   "source": [
    "results.getGeneralStatistics()"
   ]
  },
  {
   "cell_type": "code",
   "execution_count": 105,
   "metadata": {},
   "outputs": [],
   "source": [
    "#looks good add in tax\n",
    "V0 = c_travel_time * PRIVATE_TRAVEL_TIME + c_fare * PRIVATE_FARE + c_tax * PRIVATE_TAX\n",
    "V1 = c_shared_constant + c_travel_time * SHARED_TRAVEL_TIME + c_fare * SHARED_FARE + c_tax * SHARED_TAX"
   ]
  },
  {
   "cell_type": "code",
   "execution_count": 106,
   "metadata": {},
   "outputs": [
    {
     "name": "stdout",
     "output_type": "stream",
     "text": [
      "                    Value   Std err      t-test  p-value  Rob. Std err  \\\n",
      "c_fare          -0.112335  0.000863 -130.141469      0.0      0.000886   \n",
      "c_tax            0.256907  0.007441   34.525607      0.0      0.007297   \n",
      "c_travel_time   -0.216303  0.002350  -92.047274      0.0      0.002505   \n",
      "shared_constant -1.302361  0.005061 -257.329157      0.0      0.005056   \n",
      "\n",
      "                 Rob. t-test  Rob. p-value  \n",
      "c_fare           -126.843631           0.0  \n",
      "c_tax              35.206257           0.0  \n",
      "c_travel_time     -86.336934           0.0  \n",
      "shared_constant  -257.590029           0.0  \n"
     ]
    }
   ],
   "source": [
    "# Associate utility functions with the numbering of alternatives (corresponds to the SHARED_FLAGGER field)\n",
    "V = {0: V0, 1: V1}\n",
    "\n",
    "# Associate the availability conditions with the alternatives\n",
    "# for this model, all migrants had all alternatives theoretically available so all are equal to 1 (available)\n",
    "# if individual people had different availability for alterantives, could pass in a column of the dataframe to account for that availability\n",
    "av = {}\n",
    "for i in range(0, 2):\n",
    "    av[i] = 1\n",
    "    \n",
    "    \n",
    "# Definition of the model. This is the contribution of each\n",
    "# observation to the log likelihood function.\n",
    "# estimating the CHOSEN field\n",
    "logprob = models.loglogit(V, av, SHARED_FLAGGER)\n",
    "\n",
    "\n",
    "# Create the Biogeme object\n",
    "biogeme = bio.BIOGEME(database, logprob)\n",
    "biogeme.modelName = 'rh_mode_choice'\n",
    "\n",
    "# Estimate the parameters\n",
    "results = biogeme.estimate()\n",
    "\n",
    "# Get the results in a pandas table\n",
    "pandasResults = results.getEstimatedParameters()\n",
    "print(pandasResults)"
   ]
  },
  {
   "cell_type": "code",
   "execution_count": 107,
   "metadata": {},
   "outputs": [
    {
     "data": {
      "text/plain": [
       "{'Number of estimated parameters': (4, ''),\n",
       " 'Sample size': (843982, ''),\n",
       " 'Excluded observations': (0, ''),\n",
       " 'Init log likelihood': (-426836.13747494353, '.7g'),\n",
       " 'Final log likelihood': (-425706.1121547368, '.7g'),\n",
       " 'Likelihood ratio test for the init. model': (2260.050640413421, '.7g'),\n",
       " 'Rho-square for the init. model': (0.002647445286361294, '.3g'),\n",
       " 'Rho-square-bar for the init. model': (0.0026380740086067167, '.3g'),\n",
       " 'Akaike Information Criterion': (851420.2243094736, '.7g'),\n",
       " 'Bayesian Information Criterion': (851466.807855259, '.7g'),\n",
       " 'Final gradient norm': (0.42196262147716407, '.4E'),\n",
       " 'Nbr of threads': (8, '')}"
      ]
     },
     "execution_count": 107,
     "metadata": {},
     "output_type": "execute_result"
    }
   ],
   "source": [
    "results.getGeneralStatistics()"
   ]
  },
  {
   "cell_type": "code",
   "execution_count": 108,
   "metadata": {},
   "outputs": [],
   "source": [
    "#try cost instead\n",
    "V0 = c_travel_time * PRIVATE_TRAVEL_TIME + c_cost * PRIVATE_FARE + c_cost * PRIVATE_TAX\n",
    "V1 = c_shared_constant + c_travel_time * SHARED_TRAVEL_TIME + c_cost * SHARED_FARE + c_cost * SHARED_TAX"
   ]
  },
  {
   "cell_type": "code",
   "execution_count": 109,
   "metadata": {},
   "outputs": [
    {
     "name": "stdout",
     "output_type": "stream",
     "text": [
      "                    Value   Std err      t-test  p-value  Rob. Std err  \\\n",
      "c_cost          -0.109888  0.000863 -127.380787      0.0      0.000883   \n",
      "c_travel_time   -0.214436  0.002352  -91.174691      0.0      0.002513   \n",
      "shared_constant -1.341183  0.005019 -267.218749      0.0      0.005017   \n",
      "\n",
      "                 Rob. t-test  Rob. p-value  \n",
      "c_cost           -124.395136           0.0  \n",
      "c_travel_time     -85.333896           0.0  \n",
      "shared_constant  -267.352717           0.0  \n"
     ]
    }
   ],
   "source": [
    "# Associate utility functions with the numbering of alternatives (corresponds to the SHARED_FLAGGER field)\n",
    "V = {0: V0, 1: V1}\n",
    "\n",
    "# Associate the availability conditions with the alternatives\n",
    "# for this model, all migrants had all alternatives theoretically available so all are equal to 1 (available)\n",
    "# if individual people had different availability for alterantives, could pass in a column of the dataframe to account for that availability\n",
    "av = {}\n",
    "for i in range(0, 2):\n",
    "    av[i] = 1\n",
    "    \n",
    "    \n",
    "# Definition of the model. This is the contribution of each\n",
    "# observation to the log likelihood function.\n",
    "# estimating the CHOSEN field\n",
    "logprob = models.loglogit(V, av, SHARED_FLAGGER)\n",
    "\n",
    "\n",
    "# Create the Biogeme object\n",
    "biogeme = bio.BIOGEME(database, logprob)\n",
    "biogeme.modelName = 'rh_mode_choice'\n",
    "\n",
    "# Estimate the parameters\n",
    "results = biogeme.estimate()\n",
    "\n",
    "# Get the results in a pandas table\n",
    "pandasResults = results.getEstimatedParameters()\n",
    "print(pandasResults)"
   ]
  },
  {
   "cell_type": "code",
   "execution_count": 110,
   "metadata": {},
   "outputs": [
    {
     "data": {
      "text/plain": [
       "{'Number of estimated parameters': (3, ''),\n",
       " 'Sample size': (843982, ''),\n",
       " 'Excluded observations': (0, ''),\n",
       " 'Init log likelihood': (-447824.64947611856, '.7g'),\n",
       " 'Final log likelihood': (-427091.2474256091, '.7g'),\n",
       " 'Likelihood ratio test for the init. model': (41466.80410101893, '.7g'),\n",
       " 'Rho-square for the init. model': (0.04629803668637744, '.3g'),\n",
       " 'Rho-square-bar for the init. model': (0.04629133763574789, '.3g'),\n",
       " 'Akaike Information Criterion': (854188.4948512182, '.7g'),\n",
       " 'Bayesian Information Criterion': (854223.4325105572, '.7g'),\n",
       " 'Final gradient norm': (2.238454905820698, '.4E'),\n",
       " 'Nbr of threads': (8, '')}"
      ]
     },
     "execution_count": 110,
     "metadata": {},
     "output_type": "execute_result"
    }
   ],
   "source": [
    "results.getGeneralStatistics()"
   ]
  },
  {
   "cell_type": "code",
   "execution_count": 111,
   "metadata": {},
   "outputs": [],
   "source": [
    "#keep cost because fare and tax is co-linear and rho squared improves with cost.. try adding trip length\n",
    "\n",
    "\n",
    "V0 = c_travel_time * PRIVATE_TRAVEL_TIME + c_cost * PRIVATE_FARE + c_cost * PRIVATE_TAX \n",
    "V1 = c_shared_constant + c_travel_time * SHARED_TRAVEL_TIME + c_cost * SHARED_FARE + c_cost * SHARED_TAX + c_shared_trip_length * TRIP_LENGTH_MILES\n"
   ]
  },
  {
   "cell_type": "code",
   "execution_count": 112,
   "metadata": {},
   "outputs": [
    {
     "name": "stdout",
     "output_type": "stream",
     "text": [
      "                         Value   Std err      t-test  p-value  Rob. Std err  \\\n",
      "c_cost               -0.161613  0.001559 -103.646944      0.0      0.001677   \n",
      "c_shared_trip_length -0.044186  0.001115  -39.626584      0.0      0.001184   \n",
      "c_travel_time        -0.200426  0.002401  -83.461644      0.0      0.002604   \n",
      "shared_constant      -1.358271  0.005064 -268.202042      0.0      0.005135   \n",
      "\n",
      "                      Rob. t-test  Rob. p-value  \n",
      "c_cost                 -96.394279           0.0  \n",
      "c_shared_trip_length   -37.322770           0.0  \n",
      "c_travel_time          -76.961705           0.0  \n",
      "shared_constant       -264.486903           0.0  \n"
     ]
    }
   ],
   "source": [
    "# Associate utility functions with the numbering of alternatives (corresponds to the SHARED_FLAGGER field)\n",
    "V = {0: V0, 1: V1}\n",
    "\n",
    "# Associate the availability conditions with the alternatives\n",
    "# for this model, all migrants had all alternatives theoretically available so all are equal to 1 (available)\n",
    "# if individual people had different availability for alterantives, could pass in a column of the dataframe to account for that availability\n",
    "av = {}\n",
    "for i in range(0, 2):\n",
    "    av[i] = 1\n",
    "    \n",
    "    \n",
    "# Definition of the model. This is the contribution of each\n",
    "# observation to the log likelihood function.\n",
    "# estimating the CHOSEN field\n",
    "logprob = models.loglogit(V, av, SHARED_FLAGGER)\n",
    "\n",
    "\n",
    "# Create the Biogeme object\n",
    "biogeme = bio.BIOGEME(database, logprob)\n",
    "biogeme.modelName = 'rh_mode_choice'\n",
    "\n",
    "# Estimate the parameters\n",
    "results = biogeme.estimate()\n",
    "\n",
    "# Get the results in a pandas table\n",
    "pandasResults = results.getEstimatedParameters()\n",
    "print(pandasResults)"
   ]
  },
  {
   "cell_type": "code",
   "execution_count": 113,
   "metadata": {},
   "outputs": [
    {
     "data": {
      "text/plain": [
       "{'Number of estimated parameters': (4, ''),\n",
       " 'Sample size': (843982, ''),\n",
       " 'Excluded observations': (0, ''),\n",
       " 'Init log likelihood': (-427091.2474256091, '.7g'),\n",
       " 'Final log likelihood': (-426281.8192272079, '.7g'),\n",
       " 'Likelihood ratio test for the init. model': (1618.8563968023518, '.7g'),\n",
       " 'Rho-square for the init. model': (0.0018952113940058357, '.3g'),\n",
       " 'Rho-square-bar for the init. model': (0.001885845713898604, '.3g'),\n",
       " 'Akaike Information Criterion': (852571.6384544158, '.7g'),\n",
       " 'Bayesian Information Criterion': (852618.2220002012, '.7g'),\n",
       " 'Final gradient norm': (2.8996784434496865, '.4E'),\n",
       " 'Nbr of threads': (8, '')}"
      ]
     },
     "execution_count": 113,
     "metadata": {},
     "output_type": "execute_result"
    }
   ],
   "source": [
    "results.getGeneralStatistics()"
   ]
  },
  {
   "cell_type": "code",
   "execution_count": 114,
   "metadata": {},
   "outputs": [],
   "source": [
    "#cost and trip length is colinear but keep them for now... try adding income\n",
    "\n",
    "\n",
    "V0 = c_travel_time * PRIVATE_TRAVEL_TIME + c_cost * PRIVATE_FARE + c_cost * PRIVATE_TAX \n",
    "V1 = c_shared_constant + c_travel_time * SHARED_TRAVEL_TIME + c_cost * SHARED_FARE + c_cost * SHARED_TAX + c_shared_trip_length * TRIP_LENGTH_MILES + c_shared_hhld_median_income_origin * HHLDS_MEDIAN_INCOME_ORIGIN + c_shared_hhld_median_income_dest * HHLDS_MEDIAN_INCOME_DESTINATION\n"
   ]
  },
  {
   "cell_type": "code",
   "execution_count": 115,
   "metadata": {},
   "outputs": [
    {
     "name": "stdout",
     "output_type": "stream",
     "text": [
      "                                       Value       Std err      t-test  \\\n",
      "c_cost                             -0.178877  1.596778e-03 -112.023430   \n",
      "c_shared_hhld_median_income_dest   -0.000005  7.344353e-08  -72.952514   \n",
      "c_shared_hhld_median_income_origin -0.000006  7.375590e-08  -85.723817   \n",
      "c_shared_trip_length               -0.088188  1.212377e-03  -72.740167   \n",
      "c_travel_time                      -0.159802  2.372260e-03  -67.362883   \n",
      "shared_constant                    -0.313386  9.436180e-03  -33.211093   \n",
      "\n",
      "                                    p-value  Rob. Std err  Rob. t-test  \\\n",
      "c_cost                                  0.0  1.769603e-03  -101.082868   \n",
      "c_shared_hhld_median_income_dest        0.0  7.299888e-08   -73.396880   \n",
      "c_shared_hhld_median_income_origin      0.0  7.328678e-08   -86.272553   \n",
      "c_shared_trip_length                    0.0  1.369543e-03   -64.392628   \n",
      "c_travel_time                           0.0  2.516714e-03   -63.496390   \n",
      "shared_constant                         0.0  9.772531e-03   -32.068033   \n",
      "\n",
      "                                    Rob. p-value  \n",
      "c_cost                                       0.0  \n",
      "c_shared_hhld_median_income_dest             0.0  \n",
      "c_shared_hhld_median_income_origin           0.0  \n",
      "c_shared_trip_length                         0.0  \n",
      "c_travel_time                                0.0  \n",
      "shared_constant                              0.0  \n"
     ]
    }
   ],
   "source": [
    "# Associate utility functions with the numbering of alternatives (corresponds to the SHARED_FLAGGER field)\n",
    "V = {0: V0, 1: V1}\n",
    "\n",
    "# Associate the availability conditions with the alternatives\n",
    "# for this model, all migrants had all alternatives theoretically available so all are equal to 1 (available)\n",
    "# if individual people had different availability for alterantives, could pass in a column of the dataframe to account for that availability\n",
    "av = {}\n",
    "for i in range(0, 2):\n",
    "    av[i] = 1\n",
    "    \n",
    "    \n",
    "# Definition of the model. This is the contribution of each\n",
    "# observation to the log likelihood function.\n",
    "# estimating the CHOSEN field\n",
    "logprob = models.loglogit(V, av, SHARED_FLAGGER)\n",
    "\n",
    "\n",
    "# Create the Biogeme object\n",
    "biogeme = bio.BIOGEME(database, logprob)\n",
    "biogeme.modelName = 'rh_mode_choice'\n",
    "\n",
    "# Estimate the parameters\n",
    "results = biogeme.estimate()\n",
    "\n",
    "# Get the results in a pandas table\n",
    "pandasResults = results.getEstimatedParameters()\n",
    "print(pandasResults)"
   ]
  },
  {
   "cell_type": "code",
   "execution_count": 116,
   "metadata": {},
   "outputs": [
    {
     "data": {
      "text/plain": [
       "{'Number of estimated parameters': (6, ''),\n",
       " 'Sample size': (843982, ''),\n",
       " 'Excluded observations': (0, ''),\n",
       " 'Init log likelihood': (-426281.8192272079, '.7g'),\n",
       " 'Final log likelihood': (-418201.2327642944, '.7g'),\n",
       " 'Likelihood ratio test for the init. model': (16161.172925827093, '.7g'),\n",
       " 'Rho-square for the init. model': (0.018955972547838318, '.3g'),\n",
       " 'Rho-square-bar for the init. model': (0.018941897352206305, '.3g'),\n",
       " 'Akaike Information Criterion': (836414.4655285887, '.7g'),\n",
       " 'Bayesian Information Criterion': (836484.3408472667, '.7g'),\n",
       " 'Final gradient norm': (649.5952560965575, '.4E'),\n",
       " 'Nbr of threads': (8, '')}"
      ]
     },
     "execution_count": 116,
     "metadata": {},
     "output_type": "execute_result"
    }
   ],
   "source": [
    "results.getGeneralStatistics()"
   ]
  },
  {
   "cell_type": "code",
   "execution_count": 118,
   "metadata": {},
   "outputs": [],
   "source": [
    "#goodness of fit measurements increase so keep income... add in airport flagger\n",
    "#note that shared constant decreased signficantly when income was added\n",
    "\n",
    "V0 = c_travel_time * PRIVATE_TRAVEL_TIME + c_cost * PRIVATE_FARE + c_cost * PRIVATE_TAX \n",
    "V1 = c_shared_constant + c_travel_time * SHARED_TRAVEL_TIME + c_cost * SHARED_FARE + c_cost * SHARED_TAX + c_shared_trip_length * TRIP_LENGTH_MILES + c_shared_hhld_median_income_origin * HHLDS_MEDIAN_INCOME_ORIGIN + c_shared_hhld_median_income_dest * HHLDS_MEDIAN_INCOME_DESTINATION + c_shared_airport * AIRPORT_FLAGGER\n"
   ]
  },
  {
   "cell_type": "code",
   "execution_count": 119,
   "metadata": {},
   "outputs": [
    {
     "name": "stdout",
     "output_type": "stream",
     "text": [
      "                                       Value       Std err      t-test  \\\n",
      "c_cost                             -0.180034  1.656145e-03 -108.706860   \n",
      "c_shared_airport                   -2.605167  2.160534e-02 -120.579798   \n",
      "c_shared_hhld_median_income_dest   -0.000005  7.771618e-08  -69.798819   \n",
      "c_shared_hhld_median_income_origin -0.000007  7.888442e-08  -90.217870   \n",
      "c_shared_trip_length               -0.040067  1.256418e-03  -31.889735   \n",
      "c_travel_time                      -0.103405  2.350098e-03  -44.000442   \n",
      "shared_constant                    -0.499911  9.582973e-03  -52.166585   \n",
      "\n",
      "                                    p-value  Rob. Std err  Rob. t-test  \\\n",
      "c_cost                                  0.0  1.805106e-03   -99.736174   \n",
      "c_shared_airport                        0.0  2.207070e-02  -118.037341   \n",
      "c_shared_hhld_median_income_dest        0.0  7.888044e-08   -68.768607   \n",
      "c_shared_hhld_median_income_origin      0.0  8.032315e-08   -88.601899   \n",
      "c_shared_trip_length                    0.0  1.379200e-03   -29.050787   \n",
      "c_travel_time                           0.0  2.400225e-03   -43.081527   \n",
      "shared_constant                         0.0  9.964986e-03   -50.166753   \n",
      "\n",
      "                                    Rob. p-value  \n",
      "c_cost                                       0.0  \n",
      "c_shared_airport                             0.0  \n",
      "c_shared_hhld_median_income_dest             0.0  \n",
      "c_shared_hhld_median_income_origin           0.0  \n",
      "c_shared_trip_length                         0.0  \n",
      "c_travel_time                                0.0  \n",
      "shared_constant                              0.0  \n"
     ]
    }
   ],
   "source": [
    "# Associate utility functions with the numbering of alternatives (corresponds to the SHARED_FLAGGER field)\n",
    "V = {0: V0, 1: V1}\n",
    "\n",
    "# Associate the availability conditions with the alternatives\n",
    "# for this model, all migrants had all alternatives theoretically available so all are equal to 1 (available)\n",
    "# if individual people had different availability for alterantives, could pass in a column of the dataframe to account for that availability\n",
    "av = {}\n",
    "for i in range(0, 2):\n",
    "    av[i] = 1\n",
    "    \n",
    "    \n",
    "# Definition of the model. This is the contribution of each\n",
    "# observation to the log likelihood function.\n",
    "# estimating the CHOSEN field\n",
    "logprob = models.loglogit(V, av, SHARED_FLAGGER)\n",
    "\n",
    "\n",
    "# Create the Biogeme object\n",
    "biogeme = bio.BIOGEME(database, logprob)\n",
    "biogeme.modelName = 'rh_mode_choice'\n",
    "\n",
    "# Estimate the parameters\n",
    "results = biogeme.estimate()\n",
    "\n",
    "# Get the results in a pandas table\n",
    "pandasResults = results.getEstimatedParameters()\n",
    "print(pandasResults)"
   ]
  },
  {
   "cell_type": "code",
   "execution_count": 120,
   "metadata": {},
   "outputs": [
    {
     "data": {
      "text/plain": [
       "{'Number of estimated parameters': (7, ''),\n",
       " 'Sample size': (843982, ''),\n",
       " 'Excluded observations': (0, ''),\n",
       " 'Init log likelihood': (-418201.2327642944, '.7g'),\n",
       " 'Final log likelihood': (-407571.0285015364, '.7g'),\n",
       " 'Likelihood ratio test for the init. model': (21260.40852551593, '.7g'),\n",
       " 'Rho-square for the init. model': (0.025418873570727474, '.3g'),\n",
       " 'Rho-square-bar for the init. model': (0.02540213521739043, '.3g'),\n",
       " 'Akaike Information Criterion': (815156.0570030728, '.7g'),\n",
       " 'Bayesian Information Criterion': (815237.5782081971, '.7g'),\n",
       " 'Final gradient norm': (0.4463168078614239, '.4E'),\n",
       " 'Nbr of threads': (8, '')}"
      ]
     },
     "execution_count": 120,
     "metadata": {},
     "output_type": "execute_result"
    }
   ],
   "source": [
    "results.getGeneralStatistics()"
   ]
  },
  {
   "cell_type": "code",
   "execution_count": 121,
   "metadata": {},
   "outputs": [],
   "source": [
    "#goodness of fit measurements increase so keep airport... add in pop density\n",
    "#note that travel time and trip length effect decreased\n",
    "\n",
    "V0 = c_travel_time * PRIVATE_TRAVEL_TIME + c_cost * PRIVATE_FARE + c_cost * PRIVATE_TAX \n",
    "V1 = c_shared_constant + c_travel_time * SHARED_TRAVEL_TIME + c_cost * SHARED_FARE + c_cost * SHARED_TAX + c_shared_trip_length * TRIP_LENGTH_MILES + c_shared_hhld_median_income_origin * HHLDS_MEDIAN_INCOME_ORIGIN + c_shared_hhld_median_income_dest * HHLDS_MEDIAN_INCOME_DESTINATION + c_shared_airport * AIRPORT_FLAGGER + c_shared_pop_den_origin * POP_ORIGIN_DEN + c_shared_pop_den_dest * POP_DESTINATION_DEN\n"
   ]
  },
  {
   "cell_type": "code",
   "execution_count": 122,
   "metadata": {},
   "outputs": [
    {
     "name": "stdout",
     "output_type": "stream",
     "text": [
      "                                       Value       Std err      t-test  \\\n",
      "c_cost                             -0.181852  1.659547e-03 -109.579174   \n",
      "c_shared_airport                   -2.655649  2.165552e-02 -122.631490   \n",
      "c_shared_hhld_median_income_dest   -0.000005  7.838061e-08  -63.317467   \n",
      "c_shared_hhld_median_income_origin -0.000007  7.902321e-08  -84.647012   \n",
      "c_shared_pop_den_dest              -0.000004  1.860689e-07  -19.746608   \n",
      "c_shared_pop_den_origin            -0.000008  1.885066e-07  -39.799299   \n",
      "c_shared_trip_length               -0.043394  1.261085e-03  -34.410117   \n",
      "c_travel_time                      -0.104219  2.351192e-03  -44.325931   \n",
      "shared_constant                    -0.308357  1.050216e-02  -29.361341   \n",
      "\n",
      "                                    p-value  Rob. Std err  Rob. t-test  \\\n",
      "c_cost                                  0.0  1.811596e-03  -100.382046   \n",
      "c_shared_airport                        0.0  2.208306e-02  -120.257279   \n",
      "c_shared_hhld_median_income_dest        0.0  7.949554e-08   -62.429435   \n",
      "c_shared_hhld_median_income_origin      0.0  8.001359e-08   -83.599281   \n",
      "c_shared_pop_den_dest                   0.0  1.951577e-07   -18.826979   \n",
      "c_shared_pop_den_origin                 0.0  1.970897e-07   -38.066068   \n",
      "c_shared_trip_length                    0.0  1.387110e-03   -31.283819   \n",
      "c_travel_time                           0.0  2.397101e-03   -43.477015   \n",
      "shared_constant                         0.0  1.095520e-02   -28.147116   \n",
      "\n",
      "                                    Rob. p-value  \n",
      "c_cost                                       0.0  \n",
      "c_shared_airport                             0.0  \n",
      "c_shared_hhld_median_income_dest             0.0  \n",
      "c_shared_hhld_median_income_origin           0.0  \n",
      "c_shared_pop_den_dest                        0.0  \n",
      "c_shared_pop_den_origin                      0.0  \n",
      "c_shared_trip_length                         0.0  \n",
      "c_travel_time                                0.0  \n",
      "shared_constant                              0.0  \n"
     ]
    }
   ],
   "source": [
    "# Associate utility functions with the numbering of alternatives (corresponds to the SHARED_FLAGGER field)\n",
    "V = {0: V0, 1: V1}\n",
    "\n",
    "# Associate the availability conditions with the alternatives\n",
    "# for this model, all migrants had all alternatives theoretically available so all are equal to 1 (available)\n",
    "# if individual people had different availability for alterantives, could pass in a column of the dataframe to account for that availability\n",
    "av = {}\n",
    "for i in range(0, 2):\n",
    "    av[i] = 1\n",
    "    \n",
    "    \n",
    "# Definition of the model. This is the contribution of each\n",
    "# observation to the log likelihood function.\n",
    "# estimating the CHOSEN field\n",
    "logprob = models.loglogit(V, av, SHARED_FLAGGER)\n",
    "\n",
    "\n",
    "# Create the Biogeme object\n",
    "biogeme = bio.BIOGEME(database, logprob)\n",
    "biogeme.modelName = 'rh_mode_choice'\n",
    "\n",
    "# Estimate the parameters\n",
    "results = biogeme.estimate()\n",
    "\n",
    "# Get the results in a pandas table\n",
    "pandasResults = results.getEstimatedParameters()\n",
    "print(pandasResults)"
   ]
  },
  {
   "cell_type": "code",
   "execution_count": 123,
   "metadata": {},
   "outputs": [
    {
     "data": {
      "text/plain": [
       "{'Number of estimated parameters': (9, ''),\n",
       " 'Sample size': (843982, ''),\n",
       " 'Excluded observations': (0, ''),\n",
       " 'Init log likelihood': (-407571.0285015364, '.7g'),\n",
       " 'Final log likelihood': (-406466.5830925455, '.7g'),\n",
       " 'Likelihood ratio test for the init. model': (2208.8908179817954, '.7g'),\n",
       " 'Rho-square for the init. model': (0.0027098231516883287, '.3g'),\n",
       " 'Rho-square-bar for the init. model': (0.0026877411110852734, '.3g'),\n",
       " 'Akaike Information Criterion': (812951.166185091, '.7g'),\n",
       " 'Bayesian Information Criterion': (813055.979163108, '.7g'),\n",
       " 'Final gradient norm': (569.3756632475169, '.4E'),\n",
       " 'Nbr of threads': (8, '')}"
      ]
     },
     "execution_count": 123,
     "metadata": {},
     "output_type": "execute_result"
    }
   ],
   "source": [
    "results.getGeneralStatistics()"
   ]
  },
  {
   "cell_type": "code",
   "execution_count": 125,
   "metadata": {},
   "outputs": [],
   "source": [
    "#try pop den by itself because the sign doesnt make sense\n",
    "\n",
    "V0 =  0\n",
    "V1 = c_shared_constant + c_shared_pop_den_origin * POP_ORIGIN_DEN + c_shared_pop_den_dest * POP_DESTINATION_DEN\n"
   ]
  },
  {
   "cell_type": "code",
   "execution_count": 126,
   "metadata": {},
   "outputs": [
    {
     "name": "stdout",
     "output_type": "stream",
     "text": [
      "                            Value       Std err      t-test  p-value  \\\n",
      "c_shared_pop_den_dest   -0.000006  1.741165e-07  -36.217534      0.0   \n",
      "c_shared_pop_den_origin -0.000009  1.749371e-07  -51.406794      0.0   \n",
      "shared_constant         -0.970627  5.865845e-03 -165.470919      0.0   \n",
      "\n",
      "                         Rob. Std err  Rob. t-test  Rob. p-value  \n",
      "c_shared_pop_den_dest    1.786728e-07   -35.293964           0.0  \n",
      "c_shared_pop_den_origin  1.774983e-07   -50.665011           0.0  \n",
      "shared_constant          6.046625e-03  -160.523727           0.0  \n"
     ]
    }
   ],
   "source": [
    "# Associate utility functions with the numbering of alternatives (corresponds to the SHARED_FLAGGER field)\n",
    "V = {0: V0, 1: V1}\n",
    "\n",
    "# Associate the availability conditions with the alternatives\n",
    "# for this model, all migrants had all alternatives theoretically available so all are equal to 1 (available)\n",
    "# if individual people had different availability for alterantives, could pass in a column of the dataframe to account for that availability\n",
    "av = {}\n",
    "for i in range(0, 2):\n",
    "    av[i] = 1\n",
    "    \n",
    "    \n",
    "# Definition of the model. This is the contribution of each\n",
    "# observation to the log likelihood function.\n",
    "# estimating the CHOSEN field\n",
    "logprob = models.loglogit(V, av, SHARED_FLAGGER)\n",
    "\n",
    "\n",
    "# Create the Biogeme object\n",
    "biogeme = bio.BIOGEME(database, logprob)\n",
    "biogeme.modelName = 'rh_mode_choice'\n",
    "\n",
    "# Estimate the parameters\n",
    "results = biogeme.estimate()\n",
    "\n",
    "# Get the results in a pandas table\n",
    "pandasResults = results.getEstimatedParameters()\n",
    "print(pandasResults)"
   ]
  },
  {
   "cell_type": "code",
   "execution_count": 127,
   "metadata": {},
   "outputs": [
    {
     "data": {
      "text/plain": [
       "{'Number of estimated parameters': (3, ''),\n",
       " 'Sample size': (843982, ''),\n",
       " 'Excluded observations': (0, ''),\n",
       " 'Init log likelihood': (-478930.5275276555, '.7g'),\n",
       " 'Final log likelihood': (-433432.0871438003, '.7g'),\n",
       " 'Likelihood ratio test for the init. model': (90996.88076771039, '.7g'),\n",
       " 'Rho-square for the init. model': (0.0950000840805203, '.3g'),\n",
       " 'Rho-square-bar for the init. model': (0.09499382012400137, '.3g'),\n",
       " 'Akaike Information Criterion': (866870.1742876006, '.7g'),\n",
       " 'Bayesian Information Criterion': (866905.1119469396, '.7g'),\n",
       " 'Final gradient norm': (0.25250341562162393, '.4E'),\n",
       " 'Nbr of threads': (8, '')}"
      ]
     },
     "execution_count": 127,
     "metadata": {},
     "output_type": "execute_result"
    }
   ],
   "source": [
    "results.getGeneralStatistics()"
   ]
  },
  {
   "cell_type": "code",
   "execution_count": 129,
   "metadata": {},
   "outputs": [],
   "source": [
    "#try hhld density\n",
    "\n",
    "V0 =  0\n",
    "V1 = c_shared_constant + c_shared_pop_den_origin * HHLDS_ORIGIN_DEN + c_shared_pop_den_dest * HHLDS_DESTINATION_DEN\n"
   ]
  },
  {
   "cell_type": "code",
   "execution_count": 130,
   "metadata": {},
   "outputs": [
    {
     "name": "stdout",
     "output_type": "stream",
     "text": [
      "                            Value       Std err      t-test  p-value  \\\n",
      "c_shared_pop_den_dest   -0.000018  2.909812e-07  -60.819460      0.0   \n",
      "c_shared_pop_den_origin -0.000021  2.929289e-07  -72.779680      0.0   \n",
      "shared_constant         -0.877675  4.933025e-03 -177.918218      0.0   \n",
      "\n",
      "                         Rob. Std err  Rob. t-test  Rob. p-value  \n",
      "c_shared_pop_den_dest    3.229268e-07   -54.802888           0.0  \n",
      "c_shared_pop_den_origin  3.213759e-07   -66.337474           0.0  \n",
      "shared_constant          5.345449e-03  -164.191075           0.0  \n"
     ]
    }
   ],
   "source": [
    "# Associate utility functions with the numbering of alternatives (corresponds to the SHARED_FLAGGER field)\n",
    "V = {0: V0, 1: V1}\n",
    "\n",
    "# Associate the availability conditions with the alternatives\n",
    "# for this model, all migrants had all alternatives theoretically available so all are equal to 1 (available)\n",
    "# if individual people had different availability for alterantives, could pass in a column of the dataframe to account for that availability\n",
    "av = {}\n",
    "for i in range(0, 2):\n",
    "    av[i] = 1\n",
    "    \n",
    "    \n",
    "# Definition of the model. This is the contribution of each\n",
    "# observation to the log likelihood function.\n",
    "# estimating the CHOSEN field\n",
    "logprob = models.loglogit(V, av, SHARED_FLAGGER)\n",
    "\n",
    "\n",
    "# Create the Biogeme object\n",
    "biogeme = bio.BIOGEME(database, logprob)\n",
    "biogeme.modelName = 'rh_mode_choice'\n",
    "\n",
    "# Estimate the parameters\n",
    "results = biogeme.estimate()\n",
    "\n",
    "# Get the results in a pandas table\n",
    "pandasResults = results.getEstimatedParameters()\n",
    "print(pandasResults)"
   ]
  },
  {
   "cell_type": "code",
   "execution_count": 131,
   "metadata": {},
   "outputs": [
    {
     "data": {
      "text/plain": [
       "{'Number of estimated parameters': (3, ''),\n",
       " 'Sample size': (843982, ''),\n",
       " 'Excluded observations': (0, ''),\n",
       " 'Init log likelihood': (-433992.53659061174, '.7g'),\n",
       " 'Final log likelihood': (-430032.7118904114, '.7g'),\n",
       " 'Likelihood ratio test for the init. model': (7919.649400400696, '.7g'),\n",
       " 'Rho-square for the init. model': (0.009124176953152707, '.3g'),\n",
       " 'Rho-square-bar for the init. model': (0.00911726439188254, '.3g'),\n",
       " 'Akaike Information Criterion': (860071.4237808228, '.7g'),\n",
       " 'Bayesian Information Criterion': (860106.3614401618, '.7g'),\n",
       " 'Final gradient norm': (0.044270281439902616, '.4E'),\n",
       " 'Nbr of threads': (8, '')}"
      ]
     },
     "execution_count": 131,
     "metadata": {},
     "output_type": "execute_result"
    }
   ],
   "source": [
    "results.getGeneralStatistics()"
   ]
  },
  {
   "cell_type": "code",
   "execution_count": 132,
   "metadata": {},
   "outputs": [],
   "source": [
    "#try emp density\n",
    "\n",
    "V0 =  0\n",
    "V1 = c_shared_constant + c_shared_pop_den_origin * EMP_ORIGIN_DEN + c_shared_pop_den_dest * EMP_DESTINATION_DEN\n"
   ]
  },
  {
   "cell_type": "code",
   "execution_count": 133,
   "metadata": {},
   "outputs": [
    {
     "name": "stdout",
     "output_type": "stream",
     "text": [
      "                            Value   Std err      t-test   p-value  \\\n",
      "c_shared_pop_den_dest    0.000004  0.000004    1.143549  0.252811   \n",
      "c_shared_pop_den_origin -0.000410  0.000009  -44.530296  0.000000   \n",
      "shared_constant         -1.246891  0.002833 -440.107403  0.000000   \n",
      "\n",
      "                         Rob. Std err  Rob. t-test  Rob. p-value  \n",
      "c_shared_pop_den_dest        0.000004     1.040421      0.298144  \n",
      "c_shared_pop_den_origin      0.000012   -33.551035      0.000000  \n",
      "shared_constant              0.002930  -425.507630      0.000000  \n"
     ]
    }
   ],
   "source": [
    "# Associate utility functions with the numbering of alternatives (corresponds to the SHARED_FLAGGER field)\n",
    "V = {0: V0, 1: V1}\n",
    "\n",
    "# Associate the availability conditions with the alternatives\n",
    "# for this model, all migrants had all alternatives theoretically available so all are equal to 1 (available)\n",
    "# if individual people had different availability for alterantives, could pass in a column of the dataframe to account for that availability\n",
    "av = {}\n",
    "for i in range(0, 2):\n",
    "    av[i] = 1\n",
    "    \n",
    "    \n",
    "# Definition of the model. This is the contribution of each\n",
    "# observation to the log likelihood function.\n",
    "# estimating the CHOSEN field\n",
    "logprob = models.loglogit(V, av, SHARED_FLAGGER)\n",
    "\n",
    "\n",
    "# Create the Biogeme object\n",
    "biogeme = bio.BIOGEME(database, logprob)\n",
    "biogeme.modelName = 'rh_mode_choice'\n",
    "\n",
    "# Estimate the parameters\n",
    "results = biogeme.estimate()\n",
    "\n",
    "# Get the results in a pandas table\n",
    "pandasResults = results.getEstimatedParameters()\n",
    "print(pandasResults)"
   ]
  },
  {
   "cell_type": "code",
   "execution_count": 134,
   "metadata": {},
   "outputs": [
    {
     "data": {
      "text/plain": [
       "{'Number of estimated parameters': (3, ''),\n",
       " 'Sample size': (843982, ''),\n",
       " 'Excluded observations': (0, ''),\n",
       " 'Init log likelihood': (-448962.7143743303, '.7g'),\n",
       " 'Final log likelihood': (-433292.60958260274, '.7g'),\n",
       " 'Likelihood ratio test for the init. model': (31340.209583455115, '.7g'),\n",
       " 'Rho-square for the init. model': (0.0349029090613131, '.3g'),\n",
       " 'Rho-square-bar for the init. model': (0.03489622699194761, '.3g'),\n",
       " 'Akaike Information Criterion': (866591.2191652055, '.7g'),\n",
       " 'Bayesian Information Criterion': (866626.1568245445, '.7g'),\n",
       " 'Final gradient norm': (0.028379572525570794, '.4E'),\n",
       " 'Nbr of threads': (8, '')}"
      ]
     },
     "execution_count": 134,
     "metadata": {},
     "output_type": "execute_result"
    }
   ],
   "source": [
    "results.getGeneralStatistics()"
   ]
  },
  {
   "cell_type": "code",
   "execution_count": 135,
   "metadata": {},
   "outputs": [],
   "source": [
    "#leave the density variables out of the model and try to add total pop\n",
    "\n",
    "V0 =  0\n",
    "V1 = c_shared_constant + c_shared_pop_den_origin * TOTAL_POP_ORIGIN + c_shared_pop_den_dest * TOTAL_POP_DESTINATION\n"
   ]
  },
  {
   "cell_type": "code",
   "execution_count": 136,
   "metadata": {},
   "outputs": [
    {
     "name": "stdout",
     "output_type": "stream",
     "text": [
      "                            Value       Std err      t-test  p-value  \\\n",
      "c_shared_pop_den_dest   -0.000037  8.777591e-07  -41.627929      0.0   \n",
      "c_shared_pop_den_origin -0.000047  9.169897e-07  -51.004299      0.0   \n",
      "shared_constant         -0.932782  5.997852e-03 -155.519339      0.0   \n",
      "\n",
      "                         Rob. Std err  Rob. t-test  Rob. p-value  \n",
      "c_shared_pop_den_dest    8.515408e-07   -42.909622           0.0  \n",
      "c_shared_pop_den_origin  9.128989e-07   -51.232856           0.0  \n",
      "shared_constant          6.030842e-03  -154.668603           0.0  \n"
     ]
    }
   ],
   "source": [
    "# Associate utility functions with the numbering of alternatives (corresponds to the SHARED_FLAGGER field)\n",
    "V = {0: V0, 1: V1}\n",
    "\n",
    "# Associate the availability conditions with the alternatives\n",
    "# for this model, all migrants had all alternatives theoretically available so all are equal to 1 (available)\n",
    "# if individual people had different availability for alterantives, could pass in a column of the dataframe to account for that availability\n",
    "av = {}\n",
    "for i in range(0, 2):\n",
    "    av[i] = 1\n",
    "    \n",
    "    \n",
    "# Definition of the model. This is the contribution of each\n",
    "# observation to the log likelihood function.\n",
    "# estimating the CHOSEN field\n",
    "logprob = models.loglogit(V, av, SHARED_FLAGGER)\n",
    "\n",
    "\n",
    "# Create the Biogeme object\n",
    "biogeme = bio.BIOGEME(database, logprob)\n",
    "biogeme.modelName = 'rh_mode_choice'\n",
    "\n",
    "# Estimate the parameters\n",
    "results = biogeme.estimate()\n",
    "\n",
    "# Get the results in a pandas table\n",
    "pandasResults = results.getEstimatedParameters()\n",
    "print(pandasResults)"
   ]
  },
  {
   "cell_type": "code",
   "execution_count": 137,
   "metadata": {},
   "outputs": [
    {
     "data": {
      "text/plain": [
       "{'Number of estimated parameters': (3, ''),\n",
       " 'Sample size': (843982, ''),\n",
       " 'Excluded observations': (0, ''),\n",
       " 'Init log likelihood': (-593605.5941382226, '.7g'),\n",
       " 'Final log likelihood': (-433101.32627320685, '.7g'),\n",
       " 'Likelihood ratio test for the init. model': (321008.53573003155, '.7g'),\n",
       " 'Rho-square for the init. model': (0.27038873866751656, '.3g'),\n",
       " 'Rho-square-bar for the init. model': (0.27038368480678876, '.3g'),\n",
       " 'Akaike Information Criterion': (866208.6525464137, '.7g'),\n",
       " 'Bayesian Information Criterion': (866243.5902057528, '.7g'),\n",
       " 'Final gradient norm': (42.06707873886512, '.4E'),\n",
       " 'Nbr of threads': (8, '')}"
      ]
     },
     "execution_count": 137,
     "metadata": {},
     "output_type": "execute_result"
    }
   ],
   "source": [
    "results.getGeneralStatistics()"
   ]
  },
  {
   "cell_type": "code",
   "execution_count": 138,
   "metadata": {},
   "outputs": [],
   "source": [
    "#try total households\n",
    "\n",
    "V0 =  0\n",
    "V1 = c_shared_constant + c_shared_pop_den_origin * TOTAL_HHLDS_ORIGIN + c_shared_pop_den_dest * TOTAL_HHLDS_DESTINATION\n"
   ]
  },
  {
   "cell_type": "code",
   "execution_count": 139,
   "metadata": {},
   "outputs": [
    {
     "name": "stdout",
     "output_type": "stream",
     "text": [
      "                            Value   Std err      t-test  p-value  \\\n",
      "c_shared_pop_den_dest   -0.000101  0.000002  -65.728551      0.0   \n",
      "c_shared_pop_den_origin -0.000122  0.000002  -75.069929      0.0   \n",
      "shared_constant         -0.812600  0.005158 -157.532300      0.0   \n",
      "\n",
      "                         Rob. Std err  Rob. t-test  Rob. p-value  \n",
      "c_shared_pop_den_dest        0.000002   -62.887098           0.0  \n",
      "c_shared_pop_den_origin      0.000002   -69.660748           0.0  \n",
      "shared_constant              0.005461  -148.788457           0.0  \n"
     ]
    }
   ],
   "source": [
    "# Associate utility functions with the numbering of alternatives (corresponds to the SHARED_FLAGGER field)\n",
    "V = {0: V0, 1: V1}\n",
    "\n",
    "# Associate the availability conditions with the alternatives\n",
    "# for this model, all migrants had all alternatives theoretically available so all are equal to 1 (available)\n",
    "# if individual people had different availability for alterantives, could pass in a column of the dataframe to account for that availability\n",
    "av = {}\n",
    "for i in range(0, 2):\n",
    "    av[i] = 1\n",
    "    \n",
    "    \n",
    "# Definition of the model. This is the contribution of each\n",
    "# observation to the log likelihood function.\n",
    "# estimating the CHOSEN field\n",
    "logprob = models.loglogit(V, av, SHARED_FLAGGER)\n",
    "\n",
    "\n",
    "# Create the Biogeme object\n",
    "biogeme = bio.BIOGEME(database, logprob)\n",
    "biogeme.modelName = 'rh_mode_choice'\n",
    "\n",
    "# Estimate the parameters\n",
    "results = biogeme.estimate()\n",
    "\n",
    "# Get the results in a pandas table\n",
    "pandasResults = results.getEstimatedParameters()\n",
    "print(pandasResults)"
   ]
  },
  {
   "cell_type": "code",
   "execution_count": 140,
   "metadata": {},
   "outputs": [
    {
     "data": {
      "text/plain": [
       "{'Number of estimated parameters': (3, ''),\n",
       " 'Sample size': (843982, ''),\n",
       " 'Excluded observations': (0, ''),\n",
       " 'Init log likelihood': (-434068.40651075065, '.7g'),\n",
       " 'Final log likelihood': (-429071.00870303216, '.7g'),\n",
       " 'Likelihood ratio test for the init. model': (9994.795615436975, '.7g'),\n",
       " 'Rho-square for the init. model': (0.01151292684001115, '.3g'),\n",
       " 'Rho-square-bar for the init. model': (0.011506015486973276, '.3g'),\n",
       " 'Akaike Information Criterion': (858148.0174060643, '.7g'),\n",
       " 'Bayesian Information Criterion': (858182.9550654034, '.7g'),\n",
       " 'Final gradient norm': (0.1100171342591974, '.4E'),\n",
       " 'Nbr of threads': (8, '')}"
      ]
     },
     "execution_count": 140,
     "metadata": {},
     "output_type": "execute_result"
    }
   ],
   "source": [
    "results.getGeneralStatistics()"
   ]
  },
  {
   "cell_type": "code",
   "execution_count": 141,
   "metadata": {},
   "outputs": [],
   "source": [
    "#try total emp\n",
    "\n",
    "V0 =  0\n",
    "V1 = c_shared_constant + c_shared_pop_den_origin * TOTAL_EMP_ORIGIN + c_shared_pop_den_dest * TOTAL_EMP_DESTINATION\n"
   ]
  },
  {
   "cell_type": "code",
   "execution_count": 142,
   "metadata": {},
   "outputs": [
    {
     "name": "stdout",
     "output_type": "stream",
     "text": [
      "                            Value   Std err      t-test  p-value  \\\n",
      "c_shared_pop_den_dest   -0.000334  0.000008  -43.413940      0.0   \n",
      "c_shared_pop_den_origin -0.000354  0.000008  -46.056199      0.0   \n",
      "shared_constant         -1.275408  0.002762 -461.707726      0.0   \n",
      "\n",
      "                         Rob. Std err  Rob. t-test  Rob. p-value  \n",
      "c_shared_pop_den_dest        0.000010   -34.273908           0.0  \n",
      "c_shared_pop_den_origin      0.000010   -36.359887           0.0  \n",
      "shared_constant              0.002807  -454.393568           0.0  \n"
     ]
    }
   ],
   "source": [
    "# Associate utility functions with the numbering of alternatives (corresponds to the SHARED_FLAGGER field)\n",
    "V = {0: V0, 1: V1}\n",
    "\n",
    "# Associate the availability conditions with the alternatives\n",
    "# for this model, all migrants had all alternatives theoretically available so all are equal to 1 (available)\n",
    "# if individual people had different availability for alterantives, could pass in a column of the dataframe to account for that availability\n",
    "av = {}\n",
    "for i in range(0, 2):\n",
    "    av[i] = 1\n",
    "    \n",
    "    \n",
    "# Definition of the model. This is the contribution of each\n",
    "# observation to the log likelihood function.\n",
    "# estimating the CHOSEN field\n",
    "logprob = models.loglogit(V, av, SHARED_FLAGGER)\n",
    "\n",
    "\n",
    "# Create the Biogeme object\n",
    "biogeme = bio.BIOGEME(database, logprob)\n",
    "biogeme.modelName = 'rh_mode_choice'\n",
    "\n",
    "# Estimate the parameters\n",
    "results = biogeme.estimate()\n",
    "\n",
    "# Get the results in a pandas table\n",
    "pandasResults = results.getEstimatedParameters()\n",
    "print(pandasResults)"
   ]
  },
  {
   "cell_type": "code",
   "execution_count": 143,
   "metadata": {},
   "outputs": [
    {
     "data": {
      "text/plain": [
       "{'Number of estimated parameters': (3, ''),\n",
       " 'Sample size': (843982, ''),\n",
       " 'Excluded observations': (0, ''),\n",
       " 'Init log likelihood': (-453140.2732364768, '.7g'),\n",
       " 'Final log likelihood': (-434303.8871625286, '.7g'),\n",
       " 'Likelihood ratio test for the init. model': (37672.77214789647, '.7g'),\n",
       " 'Rho-square for the init. model': (0.04156855434502116, '.3g'),\n",
       " 'Rho-square-bar for the init. model': (0.041561933878518476, '.3g'),\n",
       " 'Akaike Information Criterion': (868613.7743250572, '.7g'),\n",
       " 'Bayesian Information Criterion': (868648.7119843962, '.7g'),\n",
       " 'Final gradient norm': (3.5721592326197893, '.4E'),\n",
       " 'Nbr of threads': (8, '')}"
      ]
     },
     "execution_count": 143,
     "metadata": {},
     "output_type": "execute_result"
    }
   ],
   "source": [
    "results.getGeneralStatistics()"
   ]
  },
  {
   "cell_type": "code",
   "execution_count": 144,
   "metadata": {},
   "outputs": [],
   "source": [
    "#try total emp flow\n",
    "\n",
    "V0 =  0\n",
    "V1 = c_shared_constant + c_shared_pop_den_origin * TOTAL_EMP_FLOW \n"
   ]
  },
  {
   "cell_type": "code",
   "execution_count": 145,
   "metadata": {},
   "outputs": [
    {
     "name": "stdout",
     "output_type": "stream",
     "text": [
      "                            Value   Std err      t-test  p-value  \\\n",
      "c_shared_pop_den_origin -0.000688  0.000015  -44.736558      0.0   \n",
      "shared_constant         -1.275387  0.002762 -461.702546      0.0   \n",
      "\n",
      "                         Rob. Std err  Rob. t-test  Rob. p-value  \n",
      "c_shared_pop_den_origin      0.000019   -35.317630           0.0  \n",
      "shared_constant              0.002807  -454.390589           0.0  \n"
     ]
    }
   ],
   "source": [
    "# Associate utility functions with the numbering of alternatives (corresponds to the SHARED_FLAGGER field)\n",
    "V = {0: V0, 1: V1}\n",
    "\n",
    "# Associate the availability conditions with the alternatives\n",
    "# for this model, all migrants had all alternatives theoretically available so all are equal to 1 (available)\n",
    "# if individual people had different availability for alterantives, could pass in a column of the dataframe to account for that availability\n",
    "av = {}\n",
    "for i in range(0, 2):\n",
    "    av[i] = 1\n",
    "    \n",
    "    \n",
    "# Definition of the model. This is the contribution of each\n",
    "# observation to the log likelihood function.\n",
    "# estimating the CHOSEN field\n",
    "logprob = models.loglogit(V, av, SHARED_FLAGGER)\n",
    "\n",
    "\n",
    "# Create the Biogeme object\n",
    "biogeme = bio.BIOGEME(database, logprob)\n",
    "biogeme.modelName = 'rh_mode_choice'\n",
    "\n",
    "# Estimate the parameters\n",
    "results = biogeme.estimate()\n",
    "\n",
    "# Get the results in a pandas table\n",
    "pandasResults = results.getEstimatedParameters()\n",
    "print(pandasResults)"
   ]
  },
  {
   "cell_type": "code",
   "execution_count": 146,
   "metadata": {},
   "outputs": [
    {
     "data": {
      "text/plain": [
       "{'Number of estimated parameters': (2, ''),\n",
       " 'Sample size': (843982, ''),\n",
       " 'Excluded observations': (0, ''),\n",
       " 'Init log likelihood': (-434597.3778939819, '.7g'),\n",
       " 'Final log likelihood': (-434303.88713319064, '.7g'),\n",
       " 'Likelihood ratio test for the init. model': (586.9815215824638, '.7g'),\n",
       " 'Rho-square for the init. model': (0.0006753164554592628, '.3g'),\n",
       " 'Rho-square-bar for the init. model': (0.0006707144948820964, '.3g'),\n",
       " 'Akaike Information Criterion': (868611.7742663813, '.7g'),\n",
       " 'Bayesian Information Criterion': (868635.066039274, '.7g'),\n",
       " 'Final gradient norm': (0.017764517161036903, '.4E'),\n",
       " 'Nbr of threads': (8, '')}"
      ]
     },
     "execution_count": 146,
     "metadata": {},
     "output_type": "execute_result"
    }
   ],
   "source": [
    "results.getGeneralStatistics()"
   ]
  },
  {
   "cell_type": "code",
   "execution_count": 148,
   "metadata": {
    "scrolled": true
   },
   "outputs": [
    {
     "name": "stdout",
     "output_type": "stream",
     "text": [
      "Unnamed: 0\n",
      "YEAR\n",
      "MONTH\n",
      "DOW\n",
      "HOUR\n",
      "ORIGIN\n",
      "DESTINATION\n",
      "TRAVEL_TIME_MINUTES\n",
      "TRIP_LENGTH_MILES\n",
      "ORIGIN_COM_AREA\n",
      "DEST_COM_AREA\n",
      "FARE\n",
      "TIP\n",
      "ADDITIONAL_CHARGES\n",
      "TOTAL_COST\n",
      "SHARED_FLAGGER\n",
      "NUM_TRIPS_POOLED\n",
      "SPEED\n",
      "TRIP_ID\n",
      "TRIP_START_TIME\n",
      "TRIP_END_TIME\n",
      "INTERNAL_UNSUPPRESSED_FLAGGER\n",
      "INTERNAL_SUPPPRESSED_FLAGGER\n",
      "EXTERNAL_FLAGGER\n",
      "INTERNAL_EXTERNAL_FLAGGER\n",
      "AIRPORT_FLAGGER\n",
      "TOD_1\n",
      "TOD_2\n",
      "TOD_3\n",
      "TOD_4\n",
      "TOD_5\n",
      "TRIP_TYPE\n",
      "walk_distance\n",
      "travel_time\n",
      "TOD\n",
      "TOTAL_POP_ORIGIN\n",
      "MEDIAN_AGE_ORIGIN\n",
      "TOTAL_HHLDS_ORIGIN\n",
      "AVG_HHLD_SIZE_ORIGIN\n",
      "HHLDS_MEAN_INCOME_ORIGIN\n",
      "HHLDS_UNDER_35k_ORIGIN\n",
      "HHLDS_35k_100k_ORIGIN\n",
      "HHLDS_OVER_100k_ORIGIN\n",
      "HHLDS_0_VEH_ORIGIN\n",
      "AVG_VEH_PER_HHLD_ORIGIN\n",
      "HHLDS_MEDIAN_INCOME_ORIGIN\n",
      "TOTAL_POP_25P_BACHELORS_HIGHER_ORIGIN\n",
      "TOTAL_MALE_ORIGIN\n",
      "TOTAL_FEMALE_ORIGIN\n",
      "MEDIAN_AGE_ORIGIN.1\n",
      "TOTAL_POP_DESTINATION\n",
      "MEDIAN_AGE_DESTINATION\n",
      "TOTAL_HHLDS_DESTINATION\n",
      "AVG_HHLD_SIZE_DESTINATION\n",
      "HHLDS_MEAN_INCOME_DESTINATION\n",
      "HHLDS_UNDER_35k_DESTINATION\n",
      "HHLDS_35k_100k_DESTINATION\n",
      "HHLDS_OVER_100k_DESTINATION\n",
      "HHLDS_0_VEH_DESTINATION\n",
      "AVG_VEH_PER_HHLD_DESTINATION\n",
      "HHLDS_MEDIAN_INCOME_DESTINATION\n",
      "TOTAL_POP_25P_BACHELORS_HIGHER_DESTINATION\n",
      "TOTAL_MALE_DESTINATION\n",
      "TOTAL_FEMALE_DESTINATION\n",
      "MEDIAN_AGE_DESTINATION.1\n",
      "DISTANCE\n",
      "TOTAL_EMP_ORIGIN\n",
      "TRACTCE10_ORIGIN\n",
      "TOTAL_EMP_DESTINATION\n",
      "TRACTCE10_DESTINATION\n",
      "SI01\n",
      "SI02\n",
      "SI03\n",
      "TOTAL_EMP_FLOW\n",
      "OTP_AUTO_TRAVEL_TIME\n",
      "PRIVATE_TRAVEL_TIME\n",
      "SHARED_TRAVEL_TIME\n",
      "NUM_POOLS_2\n",
      "NUM_POOLS_3P\n",
      "PRIVATE_FARE\n",
      "UNMATCHED_TRAVEL_TIME\n",
      "NUM_MATCHED_TRIPS\n",
      "MATCHED_TRAVEL_TIME\n",
      "SHARED_FARE\n",
      "YEAR_MONTH\n",
      "UNMATCHED_FARE\n",
      "MATCHED_FARE\n",
      "SHARED_TAX\n",
      "PRIVATE_TAX\n",
      "TAX\n",
      "geometry_ORIGIN\n",
      "AREA_SQ_MI_ORIGIN\n",
      "geometry_DESTINATION\n",
      "AREA_SQ_MI_DESTINATION\n",
      "POP_ORIGIN_DEN\n",
      "HHLDS_ORIGIN_DEN\n",
      "EMP_ORIGIN_DEN\n",
      "POP_DESTINATION_DEN\n",
      "HHLDS_DESTINATION_DEN\n",
      "EMP_DESTINATION_DEN\n",
      "MATCHED_FLAGGER\n"
     ]
    }
   ],
   "source": [
    "for col in df.columns:\n",
    "    print(col)"
   ]
  },
  {
   "cell_type": "code",
   "execution_count": 169,
   "metadata": {},
   "outputs": [],
   "source": [
    "#demand density and total variables do not need to be included because the signs are negative\n",
    "#this might be because both private and shared ridehailing trips concentrate in dense areas \n",
    "#private trips are more common so the shared coefficient is negative \n",
    "\n",
    "#try adding in zero hhlds variable \n",
    "\n",
    "\n",
    "V0 = c_travel_time * PRIVATE_TRAVEL_TIME + c_cost * PRIVATE_FARE + c_cost * PRIVATE_TAX \n",
    "V1 = c_shared_constant + c_travel_time * SHARED_TRAVEL_TIME + c_cost * SHARED_FARE + c_cost * SHARED_TAX + c_shared_trip_length * TRIP_LENGTH_MILES + c_shared_hhld_median_income_origin * HHLDS_MEDIAN_INCOME_ORIGIN + c_shared_hhld_median_income_dest * HHLDS_MEDIAN_INCOME_DESTINATION + c_shared_airport * AIRPORT_FLAGGER + c_shared_tot_hhlds_zero_veh_origin * HHLDS_0_VEH_ORIGIN  + c_shared_tot_hhlds_zero_veh_dest * HHLDS_0_VEH_DESTINATION\n"
   ]
  },
  {
   "cell_type": "code",
   "execution_count": 170,
   "metadata": {},
   "outputs": [
    {
     "name": "stdout",
     "output_type": "stream",
     "text": [
      "                                       Value       Std err      t-test  \\\n",
      "c_cost                             -0.187344  1.672357e-03 -112.023663   \n",
      "c_shared_airport                   -2.525025  2.158182e-02 -116.997784   \n",
      "c_shared_hhld_median_income_dest   -0.000004  7.906098e-08  -52.725785   \n",
      "c_shared_hhld_median_income_origin -0.000006  7.993633e-08  -72.868572   \n",
      "c_shared_tot_hhlds_zero_veh_dest   -0.000193  3.977672e-06  -48.573812   \n",
      "c_shared_tot_hhlds_zero_veh_origin -0.000217  4.114742e-06  -52.787370   \n",
      "c_shared_trip_length               -0.053875  1.280243e-03  -42.081938   \n",
      "c_travel_time                      -0.078471  2.354235e-03  -33.331698   \n",
      "shared_constant                    -0.410652  9.561668e-03  -42.947723   \n",
      "\n",
      "                                    p-value  Rob. Std err  Rob. t-test  \\\n",
      "c_cost                                  0.0  1.838360e-03  -101.907995   \n",
      "c_shared_airport                        0.0  2.198285e-02  -114.863389   \n",
      "c_shared_hhld_median_income_dest        0.0  7.933775e-08   -52.541855   \n",
      "c_shared_hhld_median_income_origin      0.0  8.039918e-08   -72.449077   \n",
      "c_shared_tot_hhlds_zero_veh_dest        0.0  4.043177e-06   -47.786850   \n",
      "c_shared_tot_hhlds_zero_veh_origin      0.0  4.250340e-06   -51.103302   \n",
      "c_shared_trip_length                    0.0  1.422382e-03   -37.876676   \n",
      "c_travel_time                           0.0  2.375862e-03   -33.028289   \n",
      "shared_constant                         0.0  9.857708e-03   -41.657949   \n",
      "\n",
      "                                    Rob. p-value  \n",
      "c_cost                                       0.0  \n",
      "c_shared_airport                             0.0  \n",
      "c_shared_hhld_median_income_dest             0.0  \n",
      "c_shared_hhld_median_income_origin           0.0  \n",
      "c_shared_tot_hhlds_zero_veh_dest             0.0  \n",
      "c_shared_tot_hhlds_zero_veh_origin           0.0  \n",
      "c_shared_trip_length                         0.0  \n",
      "c_travel_time                                0.0  \n",
      "shared_constant                              0.0  \n"
     ]
    }
   ],
   "source": [
    "# Associate utility functions with the numbering of alternatives (corresponds to the SHARED_FLAGGER field)\n",
    "V = {0: V0, 1: V1}\n",
    "\n",
    "# Associate the availability conditions with the alternatives\n",
    "# for this model, all migrants had all alternatives theoretically available so all are equal to 1 (available)\n",
    "# if individual people had different availability for alterantives, could pass in a column of the dataframe to account for that availability\n",
    "av = {}\n",
    "for i in range(0, 2):\n",
    "    av[i] = 1\n",
    "    \n",
    "    \n",
    "# Definition of the model. This is the contribution of each\n",
    "# observation to the log likelihood function.\n",
    "# estimating the CHOSEN field\n",
    "logprob = models.loglogit(V, av, SHARED_FLAGGER)\n",
    "\n",
    "\n",
    "# Create the Biogeme object\n",
    "biogeme = bio.BIOGEME(database, logprob)\n",
    "biogeme.modelName = 'rh_mode_choice'\n",
    "\n",
    "# Estimate the parameters\n",
    "results = biogeme.estimate()\n",
    "\n",
    "# Get the results in a pandas table\n",
    "pandasResults = results.getEstimatedParameters()\n",
    "print(pandasResults)"
   ]
  },
  {
   "cell_type": "code",
   "execution_count": 172,
   "metadata": {},
   "outputs": [
    {
     "data": {
      "text/plain": [
       "{'Number of estimated parameters': (9, ''),\n",
       " 'Sample size': (843982, ''),\n",
       " 'Excluded observations': (0, ''),\n",
       " 'Init log likelihood': (-1764274.7405266692, '.7g'),\n",
       " 'Final log likelihood': (-404337.2938012125, '.7g'),\n",
       " 'Likelihood ratio test for the init. model': (2719874.8934509135, '.7g'),\n",
       " 'Rho-square for the init. model': (0.7708195415865273, '.3g'),\n",
       " 'Rho-square-bar for the init. model': (0.7708144403402231, '.3g'),\n",
       " 'Akaike Information Criterion': (808692.587602425, '.7g'),\n",
       " 'Bayesian Information Criterion': (808797.400580442, '.7g'),\n",
       " 'Final gradient norm': (1.998466128028466, '.4E'),\n",
       " 'Nbr of threads': (8, '')}"
      ]
     },
     "execution_count": 172,
     "metadata": {},
     "output_type": "execute_result"
    }
   ],
   "source": [
    "results.getGeneralStatistics()"
   ]
  },
  {
   "cell_type": "code",
   "execution_count": 171,
   "metadata": {},
   "outputs": [],
   "source": [
    "#try low income 0 vehicle households because coefficient is negative\n",
    "\n",
    "\n",
    "V0 = c_travel_time * PRIVATE_TRAVEL_TIME + c_cost * PRIVATE_FARE + c_cost * PRIVATE_TAX \n",
    "V1 = c_shared_constant + c_travel_time * SHARED_TRAVEL_TIME + c_cost * SHARED_FARE + c_cost * SHARED_TAX + c_shared_trip_length * TRIP_LENGTH_MILES + c_shared_hhld_median_income_origin * HHLDS_MEDIAN_INCOME_ORIGIN + c_shared_hhld_median_income_dest * HHLDS_MEDIAN_INCOME_DESTINATION + c_shared_airport * AIRPORT_FLAGGER + c_shared_tot_hhlds_zero_veh_origin * HHLDS_UNDER_35K_0_VEH_ORIGIN  + c_shared_tot_hhlds_zero_veh_dest * HHLDS_UNDER_35K_0_VEH_DESTINATION\n"
   ]
  },
  {
   "cell_type": "code",
   "execution_count": 173,
   "metadata": {},
   "outputs": [
    {
     "name": "stdout",
     "output_type": "stream",
     "text": [
      "                                       Value       Std err      t-test  \\\n",
      "c_cost                             -0.180416  1.657813e-03 -108.827463   \n",
      "c_shared_airport                   -2.730258  2.205371e-02 -123.800421   \n",
      "c_shared_hhld_median_income_dest   -0.000005  9.120642e-08  -59.894361   \n",
      "c_shared_hhld_median_income_origin -0.000009  9.709871e-08  -92.244589   \n",
      "c_shared_tot_hhlds_zero_veh_dest    0.001216  4.226627e-04    2.878122   \n",
      "c_shared_tot_hhlds_zero_veh_origin -0.014538  4.503525e-04  -32.282084   \n",
      "c_shared_trip_length               -0.042750  1.265681e-03  -33.776199   \n",
      "c_travel_time                      -0.096491  2.354276e-03  -40.985376   \n",
      "shared_constant                    -0.233302  1.431994e-02  -16.292080   \n",
      "\n",
      "                                     p-value  Rob. Std err  Rob. t-test  \\\n",
      "c_cost                              0.000000  1.808320e-03   -99.769759   \n",
      "c_shared_airport                    0.000000  2.234407e-02  -122.191636   \n",
      "c_shared_hhld_median_income_dest    0.000000  9.194919e-08   -59.410532   \n",
      "c_shared_hhld_median_income_origin  0.000000  9.987741e-08   -89.678246   \n",
      "c_shared_tot_hhlds_zero_veh_dest    0.004001  4.264850e-04     2.852328   \n",
      "c_shared_tot_hhlds_zero_veh_origin  0.000000  4.660686e-04   -31.193516   \n",
      "c_shared_trip_length                0.000000  1.395685e-03   -30.630033   \n",
      "c_travel_time                       0.000000  2.395621e-03   -40.278015   \n",
      "shared_constant                     0.000000  1.500795e-02   -15.545203   \n",
      "\n",
      "                                    Rob. p-value  \n",
      "c_cost                                   0.00000  \n",
      "c_shared_airport                         0.00000  \n",
      "c_shared_hhld_median_income_dest         0.00000  \n",
      "c_shared_hhld_median_income_origin       0.00000  \n",
      "c_shared_tot_hhlds_zero_veh_dest         0.00434  \n",
      "c_shared_tot_hhlds_zero_veh_origin       0.00000  \n",
      "c_shared_trip_length                     0.00000  \n",
      "c_travel_time                            0.00000  \n",
      "shared_constant                          0.00000  \n"
     ]
    }
   ],
   "source": [
    "# Associate utility functions with the numbering of alternatives (corresponds to the SHARED_FLAGGER field)\n",
    "V = {0: V0, 1: V1}\n",
    "\n",
    "# Associate the availability conditions with the alternatives\n",
    "# for this model, all migrants had all alternatives theoretically available so all are equal to 1 (available)\n",
    "# if individual people had different availability for alterantives, could pass in a column of the dataframe to account for that availability\n",
    "av = {}\n",
    "for i in range(0, 2):\n",
    "    av[i] = 1\n",
    "    \n",
    "    \n",
    "# Definition of the model. This is the contribution of each\n",
    "# observation to the log likelihood function.\n",
    "# estimating the CHOSEN field\n",
    "logprob = models.loglogit(V, av, SHARED_FLAGGER)\n",
    "\n",
    "\n",
    "# Create the Biogeme object\n",
    "biogeme = bio.BIOGEME(database, logprob)\n",
    "biogeme.modelName = 'rh_mode_choice'\n",
    "\n",
    "# Estimate the parameters\n",
    "results = biogeme.estimate()\n",
    "\n",
    "# Get the results in a pandas table\n",
    "pandasResults = results.getEstimatedParameters()\n",
    "print(pandasResults)"
   ]
  },
  {
   "cell_type": "code",
   "execution_count": 174,
   "metadata": {},
   "outputs": [
    {
     "data": {
      "text/plain": [
       "{'Number of estimated parameters': (9, ''),\n",
       " 'Sample size': (843982, ''),\n",
       " 'Excluded observations': (0, ''),\n",
       " 'Init log likelihood': (-414771.8820004546, '.7g'),\n",
       " 'Final log likelihood': (-407024.0053007905, '.7g'),\n",
       " 'Likelihood ratio test for the init. model': (15495.753399328212, '.7g'),\n",
       " 'Rho-square for the init. model': (0.01867985038497766, '.3g'),\n",
       " 'Rho-square-bar for the init. model': (0.018658151710620574, '.3g'),\n",
       " 'Akaike Information Criterion': (814066.010601581, '.7g'),\n",
       " 'Bayesian Information Criterion': (814170.823579598, '.7g'),\n",
       " 'Final gradient norm': (1.7593080204223508, '.4E'),\n",
       " 'Nbr of threads': (8, '')}"
      ]
     },
     "execution_count": 174,
     "metadata": {},
     "output_type": "execute_result"
    }
   ],
   "source": [
    "results.getGeneralStatistics()"
   ]
  },
  {
   "cell_type": "code",
   "execution_count": 181,
   "metadata": {},
   "outputs": [],
   "source": [
    "#try 0 vehicle household variable by itself\n",
    "\n",
    "\n",
    "V0 = 0\n",
    "V1 = c_shared_constant + c_shared_tot_hhlds_zero_veh_origin * HHLDS_0_VEH_ORIGIN  + c_shared_tot_hhlds_zero_veh_dest * HHLDS_0_VEH_DESTINATION\n"
   ]
  },
  {
   "cell_type": "code",
   "execution_count": 182,
   "metadata": {},
   "outputs": [
    {
     "name": "stdout",
     "output_type": "stream",
     "text": [
      "                                       Value   Std err      t-test  p-value  \\\n",
      "c_shared_tot_hhlds_zero_veh_dest   -0.000284  0.000004  -76.690763      0.0   \n",
      "c_shared_tot_hhlds_zero_veh_origin -0.000320  0.000004  -82.778855      0.0   \n",
      "shared_constant                    -0.852876  0.004287 -198.944416      0.0   \n",
      "\n",
      "                                    Rob. Std err  Rob. t-test  Rob. p-value  \n",
      "c_shared_tot_hhlds_zero_veh_dest        0.000004   -75.382744           0.0  \n",
      "c_shared_tot_hhlds_zero_veh_origin      0.000004   -80.250281           0.0  \n",
      "shared_constant                         0.004385  -194.505522           0.0  \n"
     ]
    }
   ],
   "source": [
    "# Associate utility functions with the numbering of alternatives (corresponds to the SHARED_FLAGGER field)\n",
    "V = {0: V0, 1: V1}\n",
    "\n",
    "# Associate the availability conditions with the alternatives\n",
    "# for this model, all migrants had all alternatives theoretically available so all are equal to 1 (available)\n",
    "# if individual people had different availability for alterantives, could pass in a column of the dataframe to account for that availability\n",
    "av = {}\n",
    "for i in range(0, 2):\n",
    "    av[i] = 1\n",
    "    \n",
    "    \n",
    "# Definition of the model. This is the contribution of each\n",
    "# observation to the log likelihood function.\n",
    "# estimating the CHOSEN field\n",
    "logprob = models.loglogit(V, av, SHARED_FLAGGER)\n",
    "\n",
    "\n",
    "# Create the Biogeme object\n",
    "biogeme = bio.BIOGEME(database, logprob)\n",
    "biogeme.modelName = 'rh_mode_choice'\n",
    "\n",
    "# Estimate the parameters\n",
    "results = biogeme.estimate()\n",
    "\n",
    "# Get the results in a pandas table\n",
    "pandasResults = results.getEstimatedParameters()\n",
    "print(pandasResults)"
   ]
  },
  {
   "cell_type": "code",
   "execution_count": 183,
   "metadata": {},
   "outputs": [
    {
     "data": {
      "text/plain": [
       "{'Number of estimated parameters': (3, ''),\n",
       " 'Sample size': (843982, ''),\n",
       " 'Excluded observations': (0, ''),\n",
       " 'Init log likelihood': (-3637542.792176735, '.7g'),\n",
       " 'Final log likelihood': (-426743.45519001945, '.7g'),\n",
       " 'Likelihood ratio test for the init. model': (6421598.673973432, '.7g'),\n",
       " 'Rho-square for the init. model': (0.8826835917620497, '.3g'),\n",
       " 'Rho-square-bar for the init. model': (0.882682767029484, '.3g'),\n",
       " 'Akaike Information Criterion': (853492.9103800389, '.7g'),\n",
       " 'Bayesian Information Criterion': (853527.848039378, '.7g'),\n",
       " 'Final gradient norm': (0.7410477129324031, '.4E'),\n",
       " 'Nbr of threads': (8, '')}"
      ]
     },
     "execution_count": 183,
     "metadata": {},
     "output_type": "execute_result"
    }
   ],
   "source": [
    "results.getGeneralStatistics()"
   ]
  },
  {
   "cell_type": "code",
   "execution_count": 175,
   "metadata": {},
   "outputs": [],
   "source": [
    "#try low income (under 35k) 0 vehicle household variable by itself\n",
    "\n",
    "\n",
    "V0 = 0\n",
    "V1 = c_shared_constant + c_shared_tot_hhlds_zero_veh_origin * HHLDS_UNDER_35K_0_VEH_ORIGIN  + c_shared_tot_hhlds_zero_veh_dest * HHLDS_UNDER_35K_0_VEH_DESTINATION\n"
   ]
  },
  {
   "cell_type": "code",
   "execution_count": 176,
   "metadata": {},
   "outputs": [
    {
     "name": "stdout",
     "output_type": "stream",
     "text": [
      "                                       Value   Std err      t-test  p-value  \\\n",
      "c_shared_tot_hhlds_zero_veh_dest    0.018963  0.000348   54.478167      0.0   \n",
      "c_shared_tot_hhlds_zero_veh_origin  0.015978  0.000353   45.308554      0.0   \n",
      "shared_constant                    -1.594654  0.004288 -371.878868      0.0   \n",
      "\n",
      "                                    Rob. Std err  Rob. t-test  Rob. p-value  \n",
      "c_shared_tot_hhlds_zero_veh_dest        0.000348    54.433363           0.0  \n",
      "c_shared_tot_hhlds_zero_veh_origin      0.000355    44.949015           0.0  \n",
      "shared_constant                         0.004312  -369.840954           0.0  \n"
     ]
    }
   ],
   "source": [
    "# Associate utility functions with the numbering of alternatives (corresponds to the SHARED_FLAGGER field)\n",
    "V = {0: V0, 1: V1}\n",
    "\n",
    "# Associate the availability conditions with the alternatives\n",
    "# for this model, all migrants had all alternatives theoretically available so all are equal to 1 (available)\n",
    "# if individual people had different availability for alterantives, could pass in a column of the dataframe to account for that availability\n",
    "av = {}\n",
    "for i in range(0, 2):\n",
    "    av[i] = 1\n",
    "    \n",
    "    \n",
    "# Definition of the model. This is the contribution of each\n",
    "# observation to the log likelihood function.\n",
    "# estimating the CHOSEN field\n",
    "logprob = models.loglogit(V, av, SHARED_FLAGGER)\n",
    "\n",
    "\n",
    "# Create the Biogeme object\n",
    "biogeme = bio.BIOGEME(database, logprob)\n",
    "biogeme.modelName = 'rh_mode_choice'\n",
    "\n",
    "# Estimate the parameters\n",
    "results = biogeme.estimate()\n",
    "\n",
    "# Get the results in a pandas table\n",
    "pandasResults = results.getEstimatedParameters()\n",
    "print(pandasResults)"
   ]
  },
  {
   "cell_type": "code",
   "execution_count": 177,
   "metadata": {},
   "outputs": [
    {
     "data": {
      "text/plain": [
       "{'Number of estimated parameters': (3, ''),\n",
       " 'Sample size': (843982, ''),\n",
       " 'Excluded observations': (0, ''),\n",
       " 'Init log likelihood': (-518794.724288487, '.7g'),\n",
       " 'Final log likelihood': (-432043.97689442796, '.7g'),\n",
       " 'Likelihood ratio test for the init. model': (173501.49478811806, '.7g'),\n",
       " 'Rho-square for the init. model': (0.16721593981711236, '.3g'),\n",
       " 'Rho-square-bar for the init. model': (0.16721015718313492, '.3g'),\n",
       " 'Akaike Information Criterion': (864093.9537888559, '.7g'),\n",
       " 'Bayesian Information Criterion': (864128.891448195, '.7g'),\n",
       " 'Final gradient norm': (0.001478247323692427, '.4E'),\n",
       " 'Nbr of threads': (8, '')}"
      ]
     },
     "execution_count": 177,
     "metadata": {},
     "output_type": "execute_result"
    }
   ],
   "source": [
    "results.getGeneralStatistics()"
   ]
  },
  {
   "cell_type": "code",
   "execution_count": 178,
   "metadata": {},
   "outputs": [],
   "source": [
    "#add in income variables to see if they is multicollinearity\n",
    "\n",
    "\n",
    "V0 = 0\n",
    "V1 = c_shared_constant + c_shared_tot_hhlds_zero_veh_origin * HHLDS_UNDER_35K_0_VEH_ORIGIN  + c_shared_tot_hhlds_zero_veh_dest * HHLDS_UNDER_35K_0_VEH_DESTINATION + c_shared_hhld_median_income_origin * HHLDS_MEDIAN_INCOME_ORIGIN + c_shared_hhld_median_income_dest * HHLDS_MEDIAN_INCOME_DESTINATION\n"
   ]
  },
  {
   "cell_type": "code",
   "execution_count": 179,
   "metadata": {},
   "outputs": [
    {
     "name": "stdout",
     "output_type": "stream",
     "text": [
      "                                       Value       Std err     t-test  \\\n",
      "c_shared_hhld_median_income_dest   -0.000004  7.650969e-08 -58.388854   \n",
      "c_shared_hhld_median_income_origin -0.000006  7.853187e-08 -80.065369   \n",
      "c_shared_tot_hhlds_zero_veh_dest    0.006969  3.842183e-04  18.139068   \n",
      "c_shared_tot_hhlds_zero_veh_origin -0.000732  3.953620e-04  -1.851822   \n",
      "shared_constant                    -0.469151  1.097278e-02 -42.755866   \n",
      "\n",
      "                                     p-value  Rob. Std err  Rob. t-test  \\\n",
      "c_shared_hhld_median_income_dest    0.000000  6.914264e-08   -64.610106   \n",
      "c_shared_hhld_median_income_origin  0.000000  7.338857e-08   -85.676601   \n",
      "c_shared_tot_hhlds_zero_veh_dest    0.000000  3.672632e-04    18.976481   \n",
      "c_shared_tot_hhlds_zero_veh_origin  0.064051  3.863785e-04    -1.894878   \n",
      "shared_constant                     0.000000  1.054975e-02   -44.470322   \n",
      "\n",
      "                                    Rob. p-value  \n",
      "c_shared_hhld_median_income_dest        0.000000  \n",
      "c_shared_hhld_median_income_origin      0.000000  \n",
      "c_shared_tot_hhlds_zero_veh_dest        0.000000  \n",
      "c_shared_tot_hhlds_zero_veh_origin      0.058109  \n",
      "shared_constant                         0.000000  \n"
     ]
    }
   ],
   "source": [
    "# Associate utility functions with the numbering of alternatives (corresponds to the SHARED_FLAGGER field)\n",
    "V = {0: V0, 1: V1}\n",
    "\n",
    "# Associate the availability conditions with the alternatives\n",
    "# for this model, all migrants had all alternatives theoretically available so all are equal to 1 (available)\n",
    "# if individual people had different availability for alterantives, could pass in a column of the dataframe to account for that availability\n",
    "av = {}\n",
    "for i in range(0, 2):\n",
    "    av[i] = 1\n",
    "    \n",
    "    \n",
    "# Definition of the model. This is the contribution of each\n",
    "# observation to the log likelihood function.\n",
    "# estimating the CHOSEN field\n",
    "logprob = models.loglogit(V, av, SHARED_FLAGGER)\n",
    "\n",
    "\n",
    "# Create the Biogeme object\n",
    "biogeme = bio.BIOGEME(database, logprob)\n",
    "biogeme.modelName = 'rh_mode_choice'\n",
    "\n",
    "# Estimate the parameters\n",
    "results = biogeme.estimate()\n",
    "\n",
    "# Get the results in a pandas table\n",
    "pandasResults = results.getEstimatedParameters()\n",
    "print(pandasResults)"
   ]
  },
  {
   "cell_type": "code",
   "execution_count": 180,
   "metadata": {},
   "outputs": [
    {
     "data": {
      "text/plain": [
       "{'Number of estimated parameters': (5, ''),\n",
       " 'Sample size': (843982, ''),\n",
       " 'Excluded observations': (0, ''),\n",
       " 'Init log likelihood': (-467067.8890870514, '.7g'),\n",
       " 'Final log likelihood': (-426091.62737980805, '.7g'),\n",
       " 'Likelihood ratio test for the init. model': (81952.52341448667, '.7g'),\n",
       " 'Rho-square for the init. model': (0.08773084740922155, '.3g'),\n",
       " 'Rho-square-bar for the init. model': (0.08772014232733338, '.3g'),\n",
       " 'Akaike Information Criterion': (852193.2547596161, '.7g'),\n",
       " 'Bayesian Information Criterion': (852251.4841918477, '.7g'),\n",
       " 'Final gradient norm': (0.16037427961197698, '.4E'),\n",
       " 'Nbr of threads': (8, '')}"
      ]
     },
     "execution_count": 180,
     "metadata": {},
     "output_type": "execute_result"
    }
   ],
   "source": [
    "results.getGeneralStatistics()"
   ]
  },
  {
   "cell_type": "code",
   "execution_count": 193,
   "metadata": {},
   "outputs": [],
   "source": [
    "#the low income zero vehicle households and income variables is interacting... keep only the median income variables for now\n",
    "#try a median age variable\n",
    "\n",
    "\n",
    "\n",
    "V0 = c_travel_time * PRIVATE_TRAVEL_TIME + c_cost * PRIVATE_FARE + c_cost * PRIVATE_TAX \n",
    "V1 = c_shared_constant + c_travel_time * SHARED_TRAVEL_TIME + c_cost * SHARED_FARE + c_cost * SHARED_TAX + c_shared_trip_length * TRIP_LENGTH_MILES + c_shared_hhld_median_income_origin * HHLDS_MEDIAN_INCOME_ORIGIN + c_shared_hhld_median_income_dest * HHLDS_MEDIAN_INCOME_DESTINATION + c_shared_airport * AIRPORT_FLAGGER + c_shared_median_age_origin * MEDIAN_AGE_ORIGIN + c_shared_median_age_dest * MEDIAN_AGE_DESTINATION\n"
   ]
  },
  {
   "cell_type": "code",
   "execution_count": 194,
   "metadata": {},
   "outputs": [
    {
     "name": "stdout",
     "output_type": "stream",
     "text": [
      "                                       Value       Std err      t-test  \\\n",
      "c_cost                             -0.181392  1.657307e-03 -109.450130   \n",
      "c_shared_airport                   -2.590693  2.414652e-02 -107.290538   \n",
      "c_shared_hhld_median_income_dest   -0.000006  7.916721e-08  -73.432744   \n",
      "c_shared_hhld_median_income_origin -0.000007  7.981375e-08  -84.339972   \n",
      "c_shared_median_age_dest            0.011792  3.726681e-04   31.643061   \n",
      "c_shared_median_age_origin         -0.006101  4.333267e-04  -14.078376   \n",
      "c_shared_trip_length               -0.039320  1.256028e-03  -31.304987   \n",
      "c_travel_time                      -0.097403  2.357238e-03  -41.320746   \n",
      "shared_constant                    -0.710871  2.303291e-02  -30.863276   \n",
      "\n",
      "                                    p-value  Rob. Std err  Rob. t-test  \\\n",
      "c_cost                                  0.0  1.797147e-03  -100.933560   \n",
      "c_shared_airport                        0.0  2.437694e-02  -106.276395   \n",
      "c_shared_hhld_median_income_dest        0.0  8.057078e-08   -72.153522   \n",
      "c_shared_hhld_median_income_origin      0.0  8.107052e-08   -83.032521   \n",
      "c_shared_median_age_dest                0.0  3.537021e-04    33.339799   \n",
      "c_shared_median_age_origin              0.0  4.328128e-04   -14.095092   \n",
      "c_shared_trip_length                    0.0  1.374380e-03   -28.609236   \n",
      "c_travel_time                           0.0  2.406219e-03   -40.479626   \n",
      "shared_constant                         0.0  2.290333e-02   -31.037894   \n",
      "\n",
      "                                    Rob. p-value  \n",
      "c_cost                                       0.0  \n",
      "c_shared_airport                             0.0  \n",
      "c_shared_hhld_median_income_dest             0.0  \n",
      "c_shared_hhld_median_income_origin           0.0  \n",
      "c_shared_median_age_dest                     0.0  \n",
      "c_shared_median_age_origin                   0.0  \n",
      "c_shared_trip_length                         0.0  \n",
      "c_travel_time                                0.0  \n",
      "shared_constant                              0.0  \n"
     ]
    }
   ],
   "source": [
    "# Associate utility functions with the numbering of alternatives (corresponds to the SHARED_FLAGGER field)\n",
    "V = {0: V0, 1: V1}\n",
    "\n",
    "# Associate the availability conditions with the alternatives\n",
    "# for this model, all migrants had all alternatives theoretically available so all are equal to 1 (available)\n",
    "# if individual people had different availability for alterantives, could pass in a column of the dataframe to account for that availability\n",
    "av = {}\n",
    "for i in range(0, 2):\n",
    "    av[i] = 1\n",
    "    \n",
    "    \n",
    "# Definition of the model. This is the contribution of each\n",
    "# observation to the log likelihood function.\n",
    "# estimating the CHOSEN field\n",
    "logprob = models.loglogit(V, av, SHARED_FLAGGER)\n",
    "\n",
    "\n",
    "# Create the Biogeme object\n",
    "biogeme = bio.BIOGEME(database, logprob)\n",
    "biogeme.modelName = 'rh_mode_choice'\n",
    "\n",
    "# Estimate the parameters\n",
    "results = biogeme.estimate()\n",
    "\n",
    "# Get the results in a pandas table\n",
    "pandasResults = results.getEstimatedParameters()\n",
    "print(pandasResults)"
   ]
  },
  {
   "cell_type": "code",
   "execution_count": 195,
   "metadata": {},
   "outputs": [
    {
     "data": {
      "text/plain": [
       "{'Number of estimated parameters': (9, ''),\n",
       " 'Sample size': (843982, ''),\n",
       " 'Excluded observations': (0, ''),\n",
       " 'Init log likelihood': (-535449.7841162394, '.7g'),\n",
       " 'Final log likelihood': (-406947.0619233983, '.7g'),\n",
       " 'Likelihood ratio test for the init. model': (257005.44438568223, '.7g'),\n",
       " 'Rho-square for the init. model': (0.23999023999035696, '.3g'),\n",
       " 'Rho-square-bar for the init. model': (0.23997343169148944, '.3g'),\n",
       " 'Akaike Information Criterion': (813912.1238467966, '.7g'),\n",
       " 'Bayesian Information Criterion': (814016.9368248136, '.7g'),\n",
       " 'Final gradient norm': (5.177551409026499, '.4E'),\n",
       " 'Nbr of threads': (8, '')}"
      ]
     },
     "execution_count": 195,
     "metadata": {},
     "output_type": "execute_result"
    }
   ],
   "source": [
    "results.getGeneralStatistics()"
   ]
  },
  {
   "cell_type": "code",
   "execution_count": 196,
   "metadata": {},
   "outputs": [],
   "source": [
    "#try median age variable alone\n",
    "\n",
    "\n",
    "\n",
    "V0 = 0\n",
    "V1 = c_shared_constant + c_shared_median_age_origin * MEDIAN_AGE_ORIGIN + c_shared_median_age_dest * MEDIAN_AGE_DESTINATION\n"
   ]
  },
  {
   "cell_type": "code",
   "execution_count": 197,
   "metadata": {},
   "outputs": [
    {
     "name": "stdout",
     "output_type": "stream",
     "text": [
      "                               Value   Std err      t-test  p-value  \\\n",
      "c_shared_median_age_dest    0.020642  0.000332   62.241077      0.0   \n",
      "c_shared_median_age_origin  0.013605  0.000342   39.764064      0.0   \n",
      "shared_constant            -2.453866  0.016017 -153.205300      0.0   \n",
      "\n",
      "                            Rob. Std err  Rob. t-test  Rob. p-value  \n",
      "c_shared_median_age_dest        0.000290    71.287809           0.0  \n",
      "c_shared_median_age_origin      0.000314    43.345457           0.0  \n",
      "shared_constant                 0.014654  -167.449487           0.0  \n"
     ]
    }
   ],
   "source": [
    "# Associate utility functions with the numbering of alternatives (corresponds to the SHARED_FLAGGER field)\n",
    "V = {0: V0, 1: V1}\n",
    "\n",
    "# Associate the availability conditions with the alternatives\n",
    "# for this model, all migrants had all alternatives theoretically available so all are equal to 1 (available)\n",
    "# if individual people had different availability for alterantives, could pass in a column of the dataframe to account for that availability\n",
    "av = {}\n",
    "for i in range(0, 2):\n",
    "    av[i] = 1\n",
    "    \n",
    "    \n",
    "# Definition of the model. This is the contribution of each\n",
    "# observation to the log likelihood function.\n",
    "# estimating the CHOSEN field\n",
    "logprob = models.loglogit(V, av, SHARED_FLAGGER)\n",
    "\n",
    "\n",
    "# Create the Biogeme object\n",
    "biogeme = bio.BIOGEME(database, logprob)\n",
    "biogeme.modelName = 'rh_mode_choice'\n",
    "\n",
    "# Estimate the parameters\n",
    "results = biogeme.estimate()\n",
    "\n",
    "# Get the results in a pandas table\n",
    "pandasResults = results.getEstimatedParameters()\n",
    "print(pandasResults)"
   ]
  },
  {
   "cell_type": "code",
   "execution_count": 198,
   "metadata": {},
   "outputs": [
    {
     "data": {
      "text/plain": [
       "{'Number of estimated parameters': (3, ''),\n",
       " 'Sample size': (843982, ''),\n",
       " 'Excluded observations': (0, ''),\n",
       " 'Init log likelihood': (-485391.30257493956, '.7g'),\n",
       " 'Final log likelihood': (-432734.98176178604, '.7g'),\n",
       " 'Likelihood ratio test for the init. model': (105312.64162630704, '.7g'),\n",
       " 'Rho-square for the init. model': (0.10848220916571516, '.3g'),\n",
       " 'Rho-square-bar for the init. model': (0.1084760285852554, '.3g'),\n",
       " 'Akaike Information Criterion': (865475.9635235721, '.7g'),\n",
       " 'Bayesian Information Criterion': (865510.9011829111, '.7g'),\n",
       " 'Final gradient norm': (2.523397351660548, '.4E'),\n",
       " 'Nbr of threads': (8, '')}"
      ]
     },
     "execution_count": 198,
     "metadata": {},
     "output_type": "execute_result"
    }
   ],
   "source": [
    "results.getGeneralStatistics()"
   ]
  },
  {
   "cell_type": "code",
   "execution_count": 201,
   "metadata": {},
   "outputs": [],
   "source": [
    "#older people taking shared rides more often doesn't make sense so I am dropping the variable\n",
    "\n",
    "\n",
    "\n",
    "V0 = c_travel_time * PRIVATE_TRAVEL_TIME + c_cost * PRIVATE_FARE + c_cost * PRIVATE_TAX \n",
    "V1 = c_shared_constant + c_travel_time * SHARED_TRAVEL_TIME + c_cost * SHARED_FARE + c_cost * SHARED_TAX + c_shared_trip_length * TRIP_LENGTH_MILES + c_shared_hhld_median_income_origin * HHLDS_MEDIAN_INCOME_ORIGIN + c_shared_hhld_median_income_dest * HHLDS_MEDIAN_INCOME_DESTINATION + c_shared_airport * AIRPORT_FLAGGER \n"
   ]
  },
  {
   "cell_type": "code",
   "execution_count": 202,
   "metadata": {},
   "outputs": [
    {
     "name": "stdout",
     "output_type": "stream",
     "text": [
      "                                       Value       Std err      t-test  \\\n",
      "c_cost                             -0.180026  1.656139e-03 -108.702221   \n",
      "c_shared_airport                   -2.605132  2.160520e-02 -120.578919   \n",
      "c_shared_hhld_median_income_dest   -0.000005  7.771604e-08  -69.798721   \n",
      "c_shared_hhld_median_income_origin -0.000007  7.888430e-08  -90.218030   \n",
      "c_shared_trip_length               -0.040062  1.256412e-03  -31.885631   \n",
      "c_travel_time                      -0.103405  2.350095e-03  -44.000546   \n",
      "shared_constant                    -0.499904  9.582962e-03  -52.165914   \n",
      "\n",
      "                                    p-value  Rob. Std err  Rob. t-test  \\\n",
      "c_cost                                  0.0  1.805088e-03   -99.732546   \n",
      "c_shared_airport                        0.0  2.207040e-02  -118.037360   \n",
      "c_shared_hhld_median_income_dest        0.0  7.888012e-08   -68.768663   \n",
      "c_shared_hhld_median_income_origin      0.0  8.032291e-08   -88.602188   \n",
      "c_shared_trip_length                    0.0  1.379184e-03   -29.047251   \n",
      "c_travel_time                           0.0  2.400218e-03   -43.081691   \n",
      "shared_constant                         0.0  9.964961e-03   -50.166176   \n",
      "\n",
      "                                    Rob. p-value  \n",
      "c_cost                                       0.0  \n",
      "c_shared_airport                             0.0  \n",
      "c_shared_hhld_median_income_dest             0.0  \n",
      "c_shared_hhld_median_income_origin           0.0  \n",
      "c_shared_trip_length                         0.0  \n",
      "c_travel_time                                0.0  \n",
      "shared_constant                              0.0  \n"
     ]
    }
   ],
   "source": [
    "# Associate utility functions with the numbering of alternatives (corresponds to the SHARED_FLAGGER field)\n",
    "V = {0: V0, 1: V1}\n",
    "\n",
    "# Associate the availability conditions with the alternatives\n",
    "# for this model, all migrants had all alternatives theoretically available so all are equal to 1 (available)\n",
    "# if individual people had different availability for alterantives, could pass in a column of the dataframe to account for that availability\n",
    "av = {}\n",
    "for i in range(0, 2):\n",
    "    av[i] = 1\n",
    "    \n",
    "    \n",
    "# Definition of the model. This is the contribution of each\n",
    "# observation to the log likelihood function.\n",
    "# estimating the CHOSEN field\n",
    "logprob = models.loglogit(V, av, SHARED_FLAGGER)\n",
    "\n",
    "\n",
    "# Create the Biogeme object\n",
    "biogeme = bio.BIOGEME(database, logprob)\n",
    "biogeme.modelName = 'rh_mode_choice'\n",
    "\n",
    "# Estimate the parameters\n",
    "results = biogeme.estimate()\n",
    "\n",
    "# Get the results in a pandas table\n",
    "pandasResults = results.getEstimatedParameters()\n",
    "print(pandasResults)"
   ]
  },
  {
   "cell_type": "code",
   "execution_count": 203,
   "metadata": {},
   "outputs": [
    {
     "data": {
      "text/plain": [
       "{'Number of estimated parameters': (7, ''),\n",
       " 'Sample size': (843982, ''),\n",
       " 'Excluded observations': (0, ''),\n",
       " 'Init log likelihood': (-410747.71874952625, '.7g'),\n",
       " 'Final log likelihood': (-407571.0285272583, '.7g'),\n",
       " 'Likelihood ratio test for the init. model': (6353.380444535869, '.7g'),\n",
       " 'Rho-square for the init. model': (0.007733920548454898, '.3g'),\n",
       " 'Rho-square-bar for the init. model': (0.007716878457457277, '.3g'),\n",
       " 'Akaike Information Criterion': (815156.0570545166, '.7g'),\n",
       " 'Bayesian Information Criterion': (815237.578259641, '.7g'),\n",
       " 'Final gradient norm': (51.55129805863291, '.4E'),\n",
       " 'Nbr of threads': (8, '')}"
      ]
     },
     "execution_count": 203,
     "metadata": {},
     "output_type": "execute_result"
    }
   ],
   "source": [
    "results.getGeneralStatistics()"
   ]
  },
  {
   "cell_type": "code",
   "execution_count": 204,
   "metadata": {},
   "outputs": [],
   "source": [
    "#try the low income 0 vehicle households instead of income variables\n",
    "\n",
    "\n",
    "\n",
    "V0 = c_travel_time * PRIVATE_TRAVEL_TIME + c_cost * PRIVATE_FARE + c_cost * PRIVATE_TAX \n",
    "V1 = c_shared_constant + c_travel_time * SHARED_TRAVEL_TIME + c_cost * SHARED_FARE + c_cost * SHARED_TAX + c_shared_trip_length * TRIP_LENGTH_MILES  + c_shared_airport * AIRPORT_FLAGGER + c_shared_tot_hhlds_zero_veh_origin * HHLDS_UNDER_35K_0_VEH_ORIGIN  + c_shared_tot_hhlds_zero_veh_dest * HHLDS_UNDER_35K_0_VEH_DESTINATION \n"
   ]
  },
  {
   "cell_type": "code",
   "execution_count": 205,
   "metadata": {},
   "outputs": [
    {
     "name": "stdout",
     "output_type": "stream",
     "text": [
      "                                       Value   Std err      t-test   p-value  \\\n",
      "c_cost                             -0.166692  0.001627 -102.458480  0.000000   \n",
      "c_shared_airport                   -2.332393  0.021814 -106.923678  0.000000   \n",
      "c_shared_tot_hhlds_zero_veh_dest    0.016630  0.000359   46.273955  0.000000   \n",
      "c_shared_tot_hhlds_zero_veh_origin  0.010813  0.000366   29.529848  0.000000   \n",
      "c_shared_trip_length               -0.002787  0.001192   -2.337907  0.019392   \n",
      "c_travel_time                      -0.145563  0.002381  -61.135697  0.000000   \n",
      "shared_constant                    -1.826895  0.006506 -280.821036  0.000000   \n",
      "\n",
      "                                    Rob. Std err  Rob. t-test  Rob. p-value  \n",
      "c_cost                                  0.001731   -96.271185      0.000000  \n",
      "c_shared_airport                        0.022483  -103.738863      0.000000  \n",
      "c_shared_tot_hhlds_zero_veh_dest        0.000365    45.523133      0.000000  \n",
      "c_shared_tot_hhlds_zero_veh_origin      0.000375    28.826864      0.000000  \n",
      "c_shared_trip_length                    0.001259    -2.214049      0.026825  \n",
      "c_travel_time                           0.002501   -58.204117      0.000000  \n",
      "shared_constant                         0.006724  -271.705934      0.000000  \n"
     ]
    }
   ],
   "source": [
    "# Associate utility functions with the numbering of alternatives (corresponds to the SHARED_FLAGGER field)\n",
    "V = {0: V0, 1: V1}\n",
    "\n",
    "# Associate the availability conditions with the alternatives\n",
    "# for this model, all migrants had all alternatives theoretically available so all are equal to 1 (available)\n",
    "# if individual people had different availability for alterantives, could pass in a column of the dataframe to account for that availability\n",
    "av = {}\n",
    "for i in range(0, 2):\n",
    "    av[i] = 1\n",
    "    \n",
    "    \n",
    "# Definition of the model. This is the contribution of each\n",
    "# observation to the log likelihood function.\n",
    "# estimating the CHOSEN field\n",
    "logprob = models.loglogit(V, av, SHARED_FLAGGER)\n",
    "\n",
    "\n",
    "# Create the Biogeme object\n",
    "biogeme = bio.BIOGEME(database, logprob)\n",
    "biogeme.modelName = 'rh_mode_choice'\n",
    "\n",
    "# Estimate the parameters\n",
    "results = biogeme.estimate()\n",
    "\n",
    "# Get the results in a pandas table\n",
    "pandasResults = results.getEstimatedParameters()\n",
    "print(pandasResults)"
   ]
  },
  {
   "cell_type": "code",
   "execution_count": 206,
   "metadata": {},
   "outputs": [
    {
     "data": {
      "text/plain": [
       "{'Number of estimated parameters': (7, ''),\n",
       " 'Sample size': (843982, ''),\n",
       " 'Excluded observations': (0, ''),\n",
       " 'Init log likelihood': (-470964.72542692657, '.7g'),\n",
       " 'Final log likelihood': (-414607.38749010174, '.7g'),\n",
       " 'Likelihood ratio test for the init. model': (112714.67587364966, '.7g'),\n",
       " 'Rho-square for the init. model': (0.11966360726004954, '.3g'),\n",
       " 'Rho-square-bar for the init. model': (0.11964874415115401, '.3g'),\n",
       " 'Akaike Information Criterion': (829228.7749802035, '.7g'),\n",
       " 'Bayesian Information Criterion': (829310.2961853278, '.7g'),\n",
       " 'Final gradient norm': (2.4198794634577916, '.4E'),\n",
       " 'Nbr of threads': (8, '')}"
      ]
     },
     "execution_count": 206,
     "metadata": {},
     "output_type": "execute_result"
    }
   ],
   "source": [
    "results.getGeneralStatistics()"
   ]
  },
  {
   "cell_type": "code",
   "execution_count": 28,
   "metadata": {},
   "outputs": [],
   "source": [
    "#try the trip length by itself because it is negative\n",
    "\n",
    "\n",
    "\n",
    "V0 = 0\n",
    "V1 = c_shared_constant + c_shared_trip_length * TRIP_LENGTH_MILES  + c_shared_airport * AIRPORT_FLAGGER "
   ]
  },
  {
   "cell_type": "code",
   "execution_count": 29,
   "metadata": {},
   "outputs": [
    {
     "name": "stdout",
     "output_type": "stream",
     "text": [
      "                         Value   Std err      t-test  p-value  Rob. Std err  \\\n",
      "c_shared_airport     -2.602081  0.021244 -122.487683      0.0      0.021558   \n",
      "c_shared_trip_length  0.085420  0.000659  129.592137      0.0      0.000678   \n",
      "shared_constant      -1.644068  0.004151 -396.097809      0.0      0.004142   \n",
      "\n",
      "                      Rob. t-test  Rob. p-value  \n",
      "c_shared_airport      -120.699816           0.0  \n",
      "c_shared_trip_length   125.976531           0.0  \n",
      "shared_constant       -396.880787           0.0  \n"
     ]
    }
   ],
   "source": [
    "# Associate utility functions with the numbering of alternatives (corresponds to the SHARED_FLAGGER field)\n",
    "V = {0: V0, 1: V1}\n",
    "\n",
    "# Associate the availability conditions with the alternatives\n",
    "# for this model, all migrants had all alternatives theoretically available so all are equal to 1 (available)\n",
    "# if individual people had different availability for alterantives, could pass in a column of the dataframe to account for that availability\n",
    "av = {}\n",
    "for i in range(0, 2):\n",
    "    av[i] = 1\n",
    "    \n",
    "    \n",
    "# Definition of the model. This is the contribution of each\n",
    "# observation to the log likelihood function.\n",
    "# estimating the CHOSEN field\n",
    "logprob = models.loglogit(V, av, SHARED_FLAGGER)\n",
    "\n",
    "\n",
    "# Create the Biogeme object\n",
    "biogeme = bio.BIOGEME(database, logprob)\n",
    "biogeme.modelName = 'rh_mode_choice'\n",
    "\n",
    "# Estimate the parameters\n",
    "results = biogeme.estimate()\n",
    "\n",
    "# Get the results in a pandas table\n",
    "pandasResults = results.getEstimatedParameters()\n",
    "print(pandasResults)"
   ]
  },
  {
   "cell_type": "code",
   "execution_count": 30,
   "metadata": {},
   "outputs": [
    {
     "data": {
      "text/plain": [
       "{'Number of estimated parameters': (3, ''),\n",
       " 'Sample size': (843982, ''),\n",
       " 'Excluded observations': (0, ''),\n",
       " 'Init log likelihood': (-454282.1553713052, '.7g'),\n",
       " 'Final log likelihood': (-422979.73288483964, '.7g'),\n",
       " 'Likelihood ratio test for the init. model': (62604.84497293108, '.7g'),\n",
       " 'Rho-square for the init. model': (0.06890524339632198, '.3g'),\n",
       " 'Rho-square-bar for the init. model': (0.06889863957100217, '.3g'),\n",
       " 'Akaike Information Criterion': (845965.4657696793, '.7g'),\n",
       " 'Bayesian Information Criterion': (846000.4034290183, '.7g'),\n",
       " 'Final gradient norm': (1.9233789954843548, '.4E'),\n",
       " 'Nbr of threads': (8, '')}"
      ]
     },
     "execution_count": 30,
     "metadata": {},
     "output_type": "execute_result"
    }
   ],
   "source": [
    "results.getGeneralStatistics()"
   ]
  },
  {
   "cell_type": "code",
   "execution_count": 31,
   "metadata": {},
   "outputs": [],
   "source": [
    "#add in travel time to see if it is causing it to go negative\n",
    "\n",
    "\n",
    "\n",
    "V0 = c_travel_time * PRIVATE_TRAVEL_TIME\n",
    "V1 = c_shared_constant + c_travel_time * SHARED_TRAVEL_TIME + c_shared_trip_length * TRIP_LENGTH_MILES  + c_shared_airport * AIRPORT_FLAGGER "
   ]
  },
  {
   "cell_type": "code",
   "execution_count": 32,
   "metadata": {},
   "outputs": [
    {
     "name": "stdout",
     "output_type": "stream",
     "text": [
      "                         Value   Std err      t-test  p-value  Rob. Std err  \\\n",
      "c_shared_airport     -2.497944  0.021465 -116.372252      0.0      0.021885   \n",
      "c_shared_trip_length  0.097408  0.000709  137.451920      0.0      0.000756   \n",
      "c_travel_time        -0.110388  0.002309  -47.811812      0.0      0.002441   \n",
      "shared_constant      -1.487251  0.005247 -283.443509      0.0      0.005298   \n",
      "\n",
      "                      Rob. t-test  Rob. p-value  \n",
      "c_shared_airport      -114.137651           0.0  \n",
      "c_shared_trip_length   128.792914           0.0  \n",
      "c_travel_time          -45.218435           0.0  \n",
      "shared_constant       -280.710349           0.0  \n"
     ]
    }
   ],
   "source": [
    "# Associate utility functions with the numbering of alternatives (corresponds to the SHARED_FLAGGER field)\n",
    "V = {0: V0, 1: V1}\n",
    "\n",
    "# Associate the availability conditions with the alternatives\n",
    "# for this model, all migrants had all alternatives theoretically available so all are equal to 1 (available)\n",
    "# if individual people had different availability for alterantives, could pass in a column of the dataframe to account for that availability\n",
    "av = {}\n",
    "for i in range(0, 2):\n",
    "    av[i] = 1\n",
    "    \n",
    "    \n",
    "# Definition of the model. This is the contribution of each\n",
    "# observation to the log likelihood function.\n",
    "# estimating the CHOSEN field\n",
    "logprob = models.loglogit(V, av, SHARED_FLAGGER)\n",
    "\n",
    "\n",
    "# Create the Biogeme object\n",
    "biogeme = bio.BIOGEME(database, logprob)\n",
    "biogeme.modelName = 'rh_mode_choice'\n",
    "\n",
    "# Estimate the parameters\n",
    "results = biogeme.estimate()\n",
    "\n",
    "# Get the results in a pandas table\n",
    "pandasResults = results.getEstimatedParameters()\n",
    "print(pandasResults)"
   ]
  },
  {
   "cell_type": "code",
   "execution_count": 33,
   "metadata": {},
   "outputs": [],
   "source": [
    "#try cost instead to see if it is causing it to go negative\n",
    "\n",
    "\n",
    "\n",
    "V0 =  c_cost * PRIVATE_FARE + c_cost * PRIVATE_TAX \n",
    "V1 =  c_cost * SHARED_FARE + c_cost * SHARED_TAX  + c_shared_trip_length * TRIP_LENGTH_MILES  + c_shared_airport * AIRPORT_FLAGGER "
   ]
  },
  {
   "cell_type": "code",
   "execution_count": 34,
   "metadata": {},
   "outputs": [
    {
     "name": "stdout",
     "output_type": "stream",
     "text": [
      "                         Value   Std err     t-test  p-value  Rob. Std err  \\\n",
      "c_cost                0.114208  0.001638  69.725719      0.0      0.002104   \n",
      "c_shared_airport     -0.704508  0.020952 -33.624595      0.0      0.022324   \n",
      "c_shared_trip_length -0.054209  0.001337 -40.548131      0.0      0.001716   \n",
      "\n",
      "                      Rob. t-test  Rob. p-value  \n",
      "c_cost                  54.278385           0.0  \n",
      "c_shared_airport       -31.557743           0.0  \n",
      "c_shared_trip_length   -31.589461           0.0  \n"
     ]
    }
   ],
   "source": [
    "# Associate utility functions with the numbering of alternatives (corresponds to the SHARED_FLAGGER field)\n",
    "V = {0: V0, 1: V1}\n",
    "\n",
    "# Associate the availability conditions with the alternatives\n",
    "# for this model, all migrants had all alternatives theoretically available so all are equal to 1 (available)\n",
    "# if individual people had different availability for alterantives, could pass in a column of the dataframe to account for that availability\n",
    "av = {}\n",
    "for i in range(0, 2):\n",
    "    av[i] = 1\n",
    "    \n",
    "    \n",
    "# Definition of the model. This is the contribution of each\n",
    "# observation to the log likelihood function.\n",
    "# estimating the CHOSEN field\n",
    "logprob = models.loglogit(V, av, SHARED_FLAGGER)\n",
    "\n",
    "\n",
    "# Create the Biogeme object\n",
    "biogeme = bio.BIOGEME(database, logprob)\n",
    "biogeme.modelName = 'rh_mode_choice'\n",
    "\n",
    "# Estimate the parameters\n",
    "results = biogeme.estimate()\n",
    "\n",
    "# Get the results in a pandas table\n",
    "pandasResults = results.getEstimatedParameters()\n",
    "print(pandasResults)"
   ]
  },
  {
   "cell_type": "code",
   "execution_count": 500,
   "metadata": {},
   "outputs": [],
   "source": [
    "#drop the trip length variable because it interacts with the cost variable and makes the interpretation weird\n",
    "#use this model\n",
    "\n",
    "\n",
    "\n",
    "V0 = c_travel_time * PRIVATE_TRAVEL_TIME + c_cost * PRIVATE_FARE + c_cost * PRIVATE_TAX \n",
    "V1 = c_shared_constant_1*TOD_1 + c_shared_constant_2*TOD_2 + c_shared_constant_3*TOD_3 + c_shared_constant_4*TOD_4 + c_shared_constant_5*TOD_5 + c_travel_time * SHARED_TRAVEL_TIME + c_cost * SHARED_FARE + c_cost * SHARED_TAX + c_shared_hhld_median_income_origin * HHLDS_MEDIAN_INCOME_ORIGIN_10k + c_shared_hhld_median_income_dest * HHLDS_MEDIAN_INCOME_DESTINATION_10k + c_shared_airport * AIRPORT_FLAGGER \n"
   ]
  },
  {
   "cell_type": "code",
   "execution_count": null,
   "metadata": {},
   "outputs": [],
   "source": []
  },
  {
   "cell_type": "code",
   "execution_count": 501,
   "metadata": {},
   "outputs": [
    {
     "name": "stdout",
     "output_type": "stream",
     "text": [
      "                                       Value   Std err      t-test  p-value  \\\n",
      "c_cost                             -0.140851  0.001032 -136.530191      0.0   \n",
      "c_shared_airport                   -2.689735  0.021272 -126.444415      0.0   \n",
      "c_shared_constant_1                -0.503032  0.011134  -45.178552      0.0   \n",
      "c_shared_constant_2                -0.516959  0.012152  -42.540014      0.0   \n",
      "c_shared_constant_3                -0.636545  0.009948  -63.987001      0.0   \n",
      "c_shared_constant_4                -0.545016  0.011162  -48.827791      0.0   \n",
      "c_shared_constant_5                -0.513553  0.011496  -44.671205      0.0   \n",
      "c_shared_hhld_median_income_dest   -0.049087  0.000764  -64.276656      0.0   \n",
      "c_shared_hhld_median_income_origin -0.068398  0.000787  -86.938134      0.0   \n",
      "c_travel_time                      -0.125107  0.002536  -49.339084      0.0   \n",
      "\n",
      "                                    Rob. Std err  Rob. t-test  Rob. p-value  \n",
      "c_cost                                  0.001115  -126.339990           0.0  \n",
      "c_shared_airport                        0.021723  -123.822026           0.0  \n",
      "c_shared_constant_1                     0.011358   -44.290530           0.0  \n",
      "c_shared_constant_2                     0.012353   -41.848321           0.0  \n",
      "c_shared_constant_3                     0.010367   -61.400768           0.0  \n",
      "c_shared_constant_4                     0.011554   -47.172469           0.0  \n",
      "c_shared_constant_5                     0.011746   -43.719977           0.0  \n",
      "c_shared_hhld_median_income_dest        0.000767   -64.029949           0.0  \n",
      "c_shared_hhld_median_income_origin      0.000799   -85.560243           0.0  \n",
      "c_travel_time                           0.002588   -48.336040           0.0  \n"
     ]
    }
   ],
   "source": [
    "# Associate utility functions with the numbering of alternatives (corresponds to the SHARED_FLAGGER field)\n",
    "V = {0: V0, 1: V1}\n",
    "\n",
    "# Associate the availability conditions with the alternatives\n",
    "# for this model, all migrants had all alternatives theoretically available so all are equal to 1 (available)\n",
    "# if individual people had different availability for alterantives, could pass in a column of the dataframe to account for that availability\n",
    "av = {}\n",
    "for i in range(0, 2):\n",
    "    av[i] = 1\n",
    "    \n",
    "    \n",
    "# Definition of the model. This is the contribution of each\n",
    "# observation to the log likelihood function.\n",
    "# estimating the CHOSEN field\n",
    "logprob = models.loglogit(V, av, SHARED_FLAGGER)\n",
    "\n",
    "\n",
    "# Create the Biogeme object\n",
    "biogeme = bio.BIOGEME(database, logprob)\n",
    "biogeme.modelName = 'rh_mode_choice'\n",
    "\n",
    "# Estimate the parameters\n",
    "results = biogeme.estimate()\n",
    "\n",
    "# Get the results in a pandas table\n",
    "pandasResults = results.getEstimatedParameters()\n",
    "print(pandasResults)"
   ]
  },
  {
   "cell_type": "code",
   "execution_count": null,
   "metadata": {},
   "outputs": [],
   "source": []
  },
  {
   "cell_type": "code",
   "execution_count": 184,
   "metadata": {},
   "outputs": [
    {
     "data": {
      "text/plain": [
       "{'Number of estimated parameters': (6, ''),\n",
       " 'Sample size': (843982, ''),\n",
       " 'Excluded observations': (0, ''),\n",
       " 'Init log likelihood': (-408405.5739302699, '.7g'),\n",
       " 'Final log likelihood': (-408405.5739302699, '.7g'),\n",
       " 'Likelihood ratio test for the init. model': (-0.0, '.7g'),\n",
       " 'Rho-square for the init. model': (0.0, '.3g'),\n",
       " 'Rho-square-bar for the init. model': (-1.469127843245488e-05, '.3g'),\n",
       " 'Akaike Information Criterion': (816823.1478605398, '.7g'),\n",
       " 'Bayesian Information Criterion': (816893.0231792178, '.7g'),\n",
       " 'Final gradient norm': (1.252218497976254, '.4E'),\n",
       " 'Nbr of threads': (8, '')}"
      ]
     },
     "execution_count": 184,
     "metadata": {},
     "output_type": "execute_result"
    }
   ],
   "source": [
    "results.getGeneralStatistics()"
   ]
  },
  {
   "cell_type": "code",
   "execution_count": 282,
   "metadata": {},
   "outputs": [],
   "source": [
    "#try low income hhlds  instead of income variable\n",
    "\n",
    "V0 = c_travel_time * PRIVATE_TRAVEL_TIME + c_cost * PRIVATE_FARE + c_cost * PRIVATE_TAX \n",
    "V1 = c_shared_constant + c_travel_time * SHARED_TRAVEL_TIME + c_cost * SHARED_FARE + c_cost * SHARED_TAX + c_shared_35kU_hhlds_origin * HHLDS_UNDER_35k_ORIGIN + c_shared_35kU_hhlds_dest * HHLDS_UNDER_35k_DESTINATION + c_shared_airport * AIRPORT_FLAGGER \n"
   ]
  },
  {
   "cell_type": "code",
   "execution_count": 270,
   "metadata": {},
   "outputs": [
    {
     "name": "stdout",
     "output_type": "stream",
     "text": [
      "                               Value   Std err      t-test  p-value  \\\n",
      "c_cost                     -0.150391  0.000993 -151.428609      0.0   \n",
      "c_shared_35kU_hhlds_dest    0.016374  0.000193   84.948183      0.0   \n",
      "c_shared_35kU_hhlds_origin  0.010667  0.000195   54.572672      0.0   \n",
      "c_shared_airport           -1.997917  0.021537  -92.764765      0.0   \n",
      "c_travel_time              -0.113530  0.002355  -48.214734      0.0   \n",
      "shared_constant            -2.294251  0.007832 -292.923248      0.0   \n",
      "\n",
      "                            Rob. Std err  Rob. t-test  Rob. p-value  \n",
      "c_cost                          0.001060  -141.813281           0.0  \n",
      "c_shared_35kU_hhlds_dest        0.000194    84.458432           0.0  \n",
      "c_shared_35kU_hhlds_origin      0.000198    53.969237           0.0  \n",
      "c_shared_airport                0.022260   -89.752909           0.0  \n",
      "c_travel_time                   0.002418   -46.943462           0.0  \n",
      "shared_constant                 0.007844  -292.502833           0.0  \n"
     ]
    }
   ],
   "source": [
    "# Associate utility functions with the numbering of alternatives (corresponds to the SHARED_FLAGGER field)\n",
    "V = {0: V0, 1: V1}\n",
    "\n",
    "# Associate the availability conditions with the alternatives\n",
    "# for this model, all migrants had all alternatives theoretically available so all are equal to 1 (available)\n",
    "# if individual people had different availability for alterantives, could pass in a column of the dataframe to account for that availability\n",
    "av = {}\n",
    "for i in range(0, 2):\n",
    "    av[i] = 1\n",
    "    \n",
    "    \n",
    "# Definition of the model. This is the contribution of each\n",
    "# observation to the log likelihood function.\n",
    "# estimating the CHOSEN field\n",
    "logprob = models.loglogit(V, av, SHARED_FLAGGER)\n",
    "\n",
    "\n",
    "# Create the Biogeme object\n",
    "biogeme = bio.BIOGEME(database, logprob)\n",
    "biogeme.modelName = 'rh_mode_choice'\n",
    "\n",
    "# Estimate the parameters\n",
    "results = biogeme.estimate()\n",
    "\n",
    "# Get the results in a pandas table\n",
    "pandasResults = results.getEstimatedParameters()\n",
    "print(pandasResults)"
   ]
  },
  {
   "cell_type": "code",
   "execution_count": 271,
   "metadata": {},
   "outputs": [
    {
     "data": {
      "text/plain": [
       "{'Number of estimated parameters': (6, ''),\n",
       " 'Sample size': (843982, ''),\n",
       " 'Excluded observations': (0, ''),\n",
       " 'Init log likelihood': (-494508.61692522734, '.7g'),\n",
       " 'Final log likelihood': (-408405.57374652405, '.7g'),\n",
       " 'Likelihood ratio test for the init. model': (172206.08635740657, '.7g'),\n",
       " 'Rho-square for the init. model': (0.17411838789398204, '.3g'),\n",
       " 'Rho-square-bar for the init. model': (0.17410625463726082, '.3g'),\n",
       " 'Akaike Information Criterion': (816823.1474930481, '.7g'),\n",
       " 'Bayesian Information Criterion': (816893.0228117261, '.7g'),\n",
       " 'Final gradient norm': (4.687515518752275, '.4E'),\n",
       " 'Nbr of threads': (8, '')}"
      ]
     },
     "execution_count": 271,
     "metadata": {},
     "output_type": "execute_result"
    }
   ],
   "source": [
    "results.getGeneralStatistics()"
   ]
  },
  {
   "cell_type": "code",
   "execution_count": 288,
   "metadata": {},
   "outputs": [],
   "source": [
    "#try low income hhlds and no vehicles instead of income variable\n",
    "\n",
    "V0 = c_travel_time * PRIVATE_TRAVEL_TIME + c_cost * PRIVATE_FARE + c_cost * PRIVATE_TAX \n",
    "V1 = c_shared_constant + c_travel_time * SHARED_TRAVEL_TIME + c_cost * SHARED_FARE + c_cost * SHARED_TAX + c_shared_35kU_hhlds_origin * HHLDS_UNDER_35k_ORIGIN + c_shared_35kU_hhlds_dest * HHLDS_UNDER_35k_DESTINATION + c_shared_tot_hhlds_zero_veh_origin * HHLDS_0_VEH_ORIGIN + c_shared_tot_hhlds_zero_veh_dest * HHLDS_0_VEH_DESTINATION + c_shared_airport * AIRPORT_FLAGGER \n"
   ]
  },
  {
   "cell_type": "code",
   "execution_count": 289,
   "metadata": {},
   "outputs": [
    {
     "name": "stdout",
     "output_type": "stream",
     "text": [
      "                                       Value   Std err      t-test  p-value  \\\n",
      "c_cost                             -0.138950  0.000997 -139.369106      0.0   \n",
      "c_shared_35kU_hhlds_dest            0.013844  0.000195   71.001816      0.0   \n",
      "c_shared_35kU_hhlds_origin          0.008268  0.000198   41.853532      0.0   \n",
      "c_shared_airport                   -2.097589  0.021434  -97.863825      0.0   \n",
      "c_shared_tot_hhlds_zero_veh_dest   -0.000195  0.000004  -50.394690      0.0   \n",
      "c_shared_tot_hhlds_zero_veh_origin -0.000225  0.000004  -55.499014      0.0   \n",
      "c_travel_time                      -0.086949  0.002346  -37.060471      0.0   \n",
      "shared_constant                    -1.853241  0.009248 -200.397087      0.0   \n",
      "\n",
      "                                    Rob. Std err  Rob. t-test  Rob. p-value  \n",
      "c_cost                                  0.001063  -130.676554           0.0  \n",
      "c_shared_35kU_hhlds_dest                0.000196    70.561662           0.0  \n",
      "c_shared_35kU_hhlds_origin              0.000200    41.426476           0.0  \n",
      "c_shared_airport                        0.021910   -95.734775           0.0  \n",
      "c_shared_tot_hhlds_zero_veh_dest        0.000004   -49.557233           0.0  \n",
      "c_shared_tot_hhlds_zero_veh_origin      0.000004   -53.910753           0.0  \n",
      "c_travel_time                           0.002369   -36.700080           0.0  \n",
      "shared_constant                         0.009489  -195.305228           0.0  \n"
     ]
    }
   ],
   "source": [
    "# Associate utility functions with the numbering of alternatives (corresponds to the SHARED_FLAGGER field)\n",
    "V = {0: V0, 1: V1}\n",
    "\n",
    "# Associate the availability conditions with the alternatives\n",
    "# for this model, all migrants had all alternatives theoretically available so all are equal to 1 (available)\n",
    "# if individual people had different availability for alterantives, could pass in a column of the dataframe to account for that availability\n",
    "av = {}\n",
    "for i in range(0, 2):\n",
    "    av[i] = 1\n",
    "    \n",
    "    \n",
    "# Definition of the model. This is the contribution of each\n",
    "# observation to the log likelihood function.\n",
    "# estimating the CHOSEN field\n",
    "logprob = models.loglogit(V, av, SHARED_FLAGGER)\n",
    "\n",
    "\n",
    "# Create the Biogeme object\n",
    "biogeme = bio.BIOGEME(database, logprob)\n",
    "biogeme.modelName = 'rh_mode_choice'\n",
    "\n",
    "# Estimate the parameters\n",
    "results = biogeme.estimate()\n",
    "\n",
    "# Get the results in a pandas table\n",
    "pandasResults = results.getEstimatedParameters()\n",
    "print(pandasResults)"
   ]
  },
  {
   "cell_type": "code",
   "execution_count": 290,
   "metadata": {},
   "outputs": [
    {
     "data": {
      "text/plain": [
       "{'Number of estimated parameters': (8, ''),\n",
       " 'Sample size': (843982, ''),\n",
       " 'Excluded observations': (0, ''),\n",
       " 'Init log likelihood': (-408405.57374652405, '.7g'),\n",
       " 'Final log likelihood': (-404779.1479102463, '.7g'),\n",
       " 'Likelihood ratio test for the init. model': (7252.851672555553, '.7g'),\n",
       " 'Rho-square for the init. model': (0.008879471949931106, '.3g'),\n",
       " 'Rho-square-bar for the init. model': (0.008859883578678951, '.3g'),\n",
       " 'Akaike Information Criterion': (809574.2958204926, '.7g'),\n",
       " 'Bayesian Information Criterion': (809667.4629120632, '.7g'),\n",
       " 'Final gradient norm': (27.58642050385629, '.4E'),\n",
       " 'Nbr of threads': (8, '')}"
      ]
     },
     "execution_count": 290,
     "metadata": {},
     "output_type": "execute_result"
    }
   ],
   "source": [
    "results.getGeneralStatistics()"
   ]
  },
  {
   "cell_type": "code",
   "execution_count": 295,
   "metadata": {},
   "outputs": [],
   "source": [
    "#try low income hhlds with no vehicles instead of income variable\n",
    "\n",
    "V0 = c_travel_time * PRIVATE_TRAVEL_TIME + c_cost * PRIVATE_FARE + c_cost * PRIVATE_TAX \n",
    "V1 = c_shared_constant + c_travel_time * SHARED_TRAVEL_TIME + c_cost * SHARED_FARE + c_cost * SHARED_TAX + c_shared_35kU_0_veh_hhlds_origin * HHLDS_UNDER_35K_0_VEH_ORIGIN + c_shared_35kU_0_veh_hhlds_dest * HHLDS_UNDER_35K_0_VEH_DESTINATION  + c_shared_airport * AIRPORT_FLAGGER \n"
   ]
  },
  {
   "cell_type": "code",
   "execution_count": 296,
   "metadata": {},
   "outputs": [
    {
     "name": "stdout",
     "output_type": "stream",
     "text": [
      "                                     Value   Std err      t-test  p-value  \\\n",
      "c_cost                           -0.163663  0.000985 -166.209990      0.0   \n",
      "c_shared_35kU_0_veh_hhlds_dest    0.016598  0.000359   46.228990      0.0   \n",
      "c_shared_35kU_0_veh_hhlds_origin  0.010774  0.000366   29.459992      0.0   \n",
      "c_shared_airport                 -2.341291  0.021402 -109.398332      0.0   \n",
      "c_travel_time                    -0.145887  0.002376  -61.408670      0.0   \n",
      "shared_constant                  -1.826789  0.006504 -280.871672      0.0   \n",
      "\n",
      "                                  Rob. Std err  Rob. t-test  Rob. p-value  \n",
      "c_cost                                0.001055  -155.135429           0.0  \n",
      "c_shared_35kU_0_veh_hhlds_dest        0.000365    45.470884           0.0  \n",
      "c_shared_35kU_0_veh_hhlds_origin      0.000374    28.770587           0.0  \n",
      "c_shared_airport                      0.022320  -104.898590           0.0  \n",
      "c_travel_time                         0.002489   -58.602631           0.0  \n",
      "shared_constant                       0.006717  -271.945422           0.0  \n"
     ]
    }
   ],
   "source": [
    "# Associate utility functions with the numbering of alternatives (corresponds to the SHARED_FLAGGER field)\n",
    "V = {0: V0, 1: V1}\n",
    "\n",
    "# Associate the availability conditions with the alternatives\n",
    "# for this model, all migrants had all alternatives theoretically available so all are equal to 1 (available)\n",
    "# if individual people had different availability for alterantives, could pass in a column of the dataframe to account for that availability\n",
    "av = {}\n",
    "for i in range(0, 2):\n",
    "    av[i] = 1\n",
    "    \n",
    "    \n",
    "# Definition of the model. This is the contribution of each\n",
    "# observation to the log likelihood function.\n",
    "# estimating the CHOSEN field\n",
    "logprob = models.loglogit(V, av, SHARED_FLAGGER)\n",
    "\n",
    "\n",
    "# Create the Biogeme object\n",
    "biogeme = bio.BIOGEME(database, logprob)\n",
    "biogeme.modelName = 'rh_mode_choice'\n",
    "\n",
    "# Estimate the parameters\n",
    "results = biogeme.estimate()\n",
    "\n",
    "# Get the results in a pandas table\n",
    "pandasResults = results.getEstimatedParameters()\n",
    "print(pandasResults)"
   ]
  },
  {
   "cell_type": "code",
   "execution_count": 297,
   "metadata": {},
   "outputs": [
    {
     "data": {
      "text/plain": [
       "{'Number of estimated parameters': (6, ''),\n",
       " 'Sample size': (843982, ''),\n",
       " 'Excluded observations': (0, ''),\n",
       " 'Init log likelihood': (-420860.1271814893, '.7g'),\n",
       " 'Final log likelihood': (-414610.12360728125, '.7g'),\n",
       " 'Likelihood ratio test for the init. model': (12500.00714841613, '.7g'),\n",
       " 'Rho-square for the init. model': (0.014850548128815366, '.3g'),\n",
       " 'Rho-square-bar for the init. model': (0.014836291610764607, '.3g'),\n",
       " 'Akaike Information Criterion': (829232.2472145625, '.7g'),\n",
       " 'Bayesian Information Criterion': (829302.1225332405, '.7g'),\n",
       " 'Final gradient norm': (3.9912615255352297, '.4E'),\n",
       " 'Nbr of threads': (8, '')}"
      ]
     },
     "execution_count": 297,
     "metadata": {},
     "output_type": "execute_result"
    }
   ],
   "source": [
    "results.getGeneralStatistics()"
   ]
  },
  {
   "cell_type": "code",
   "execution_count": 22,
   "metadata": {},
   "outputs": [],
   "source": [
    "df['PRIVATE_UTILITY'] = df['PRIVATE_TRAVEL_TIME']*-0.110075 + df['PRIVATE_FARE']*-0.137794 + df['PRIVATE_TAX']*-0.137794"
   ]
  },
  {
   "cell_type": "code",
   "execution_count": 23,
   "metadata": {},
   "outputs": [],
   "source": [
    "df['SHARED_UTILITY'] = -0.573322 + df['SHARED_TRAVEL_TIME']*-0.110075 + df['SHARED_FARE']*-0.137794 + df['SHARED_TAX']*-0.137794 + df['HHLDS_MEDIAN_INCOME_ORIGIN_10k']*-0.068228 + df['HHLDS_MEDIAN_INCOME_DESTINATION_10k']*-0.049448 + df['AIRPORT_FLAGGER']*-2.716947"
   ]
  },
  {
   "cell_type": "code",
   "execution_count": 28,
   "metadata": {},
   "outputs": [],
   "source": [
    "#df['PRIVATE_UTILITY'] = df['PRIVATE_TRAVEL_TIME']*-0.11353 + df['PRIVATE_FARE']*-0.150391 + df['PRIVATE_TAX']*-0.150391\n",
    "#df['SHARED_UTILITY'] = -2.294251 + df['SHARED_TRAVEL_TIME']*-0.11353 + df['SHARED_FARE']*-0.150391 + df['SHARED_TAX']*-0.150391 + df['HHLDS_UNDER_35k_ORIGIN']* 0.010667 + df['HHLDS_UNDER_35k_DESTINATION']* 0.016374 + df['AIRPORT_FLAGGER']*-1.997917"
   ]
  },
  {
   "cell_type": "code",
   "execution_count": 29,
   "metadata": {},
   "outputs": [],
   "source": [
    "#df['PRIVATE_UTILITY'] = df['PRIVATE_TRAVEL_TIME']*-0.145887 + df['PRIVATE_FARE']*-0.163663 + df['PRIVATE_TAX']*-0.163663\n",
    "#df['SHARED_UTILITY'] = -2.294251 + df['SHARED_TRAVEL_TIME']*-0.145887 + df['SHARED_FARE']*-0.163663 + df['SHARED_TAX']*-0.163663 + df['HHLDS_UNDER_35K_0_VEH_ORIGIN']* 0.010774 + df['HHLDS_UNDER_35K_0_VEH_DESTINATION']* 0.016598 + df['AIRPORT_FLAGGER']*-2.341291"
   ]
  },
  {
   "cell_type": "code",
   "execution_count": null,
   "metadata": {},
   "outputs": [],
   "source": []
  },
  {
   "cell_type": "code",
   "execution_count": 30,
   "metadata": {},
   "outputs": [],
   "source": [
    "#df['PRIVATE_UTILITY'] = df['PRIVATE_TRAVEL_TIME']*-0.125107 + df['PRIVATE_FARE']*-0.140851 + df['PRIVATE_TAX']*-0.140851\n",
    "#df['SHARED_UTILITY'] =   -0.503032*df['TOD_1'] + -0.516959*df['TOD_2'] + -0.636545*df['TOD_3'] + -0.545016*df['TOD_4'] + -0.513553*df['TOD_5']+ df['SHARED_TRAVEL_TIME']*-0.125107 + df['SHARED_FARE']*-0.140851 + df['SHARED_TAX']*-0.140851 + df['HHLDS_MEDIAN_INCOME_ORIGIN_10k']*-0.068398 + df['HHLDS_MEDIAN_INCOME_DESTINATION_10k']*-0.049087 + df['AIRPORT_FLAGGER']*-2.689735"
   ]
  },
  {
   "cell_type": "code",
   "execution_count": 24,
   "metadata": {},
   "outputs": [
    {
     "data": {
      "text/plain": [
       "-4.772544343126439"
      ]
     },
     "execution_count": 24,
     "metadata": {},
     "output_type": "execute_result"
    }
   ],
   "source": [
    "df['SHARED_UTILITY'].mean()"
   ]
  },
  {
   "cell_type": "code",
   "execution_count": 25,
   "metadata": {},
   "outputs": [
    {
     "data": {
      "text/plain": [
       "-3.3418619077614973"
      ]
     },
     "execution_count": 25,
     "metadata": {},
     "output_type": "execute_result"
    }
   ],
   "source": [
    "df['PRIVATE_UTILITY'].mean()"
   ]
  },
  {
   "cell_type": "code",
   "execution_count": 26,
   "metadata": {},
   "outputs": [
    {
     "data": {
      "text/plain": [
       "0.788290318509469"
      ]
     },
     "execution_count": 26,
     "metadata": {},
     "output_type": "execute_result"
    }
   ],
   "source": [
    "df['PRIVATE_PROBABILITY'] = np.exp(df['PRIVATE_UTILITY'])/(np.exp(df['SHARED_UTILITY']) + np.exp(df['PRIVATE_UTILITY']))\n",
    "df['PRIVATE_PROBABILITY'].mean()"
   ]
  },
  {
   "cell_type": "code",
   "execution_count": 27,
   "metadata": {},
   "outputs": [
    {
     "data": {
      "text/plain": [
       "0.21170968149053002"
      ]
     },
     "execution_count": 27,
     "metadata": {},
     "output_type": "execute_result"
    }
   ],
   "source": [
    "df['SHARED_PROBABILITY'] = np.exp(df['SHARED_UTILITY'])/(np.exp(df['SHARED_UTILITY']) + np.exp(df['PRIVATE_UTILITY']))\n",
    "df['SHARED_PROBABILITY'].mean()"
   ]
  },
  {
   "cell_type": "code",
   "execution_count": 28,
   "metadata": {},
   "outputs": [
    {
     "data": {
      "text/plain": [
       "14.938712557587886"
      ]
     },
     "execution_count": 28,
     "metadata": {},
     "output_type": "execute_result"
    }
   ],
   "source": [
    "df['PRIVATE_TRAVEL_TIME'].mean()"
   ]
  },
  {
   "cell_type": "code",
   "execution_count": 38,
   "metadata": {},
   "outputs": [],
   "source": [
    "agg = {'ORIGIN':'first', 'DESTINATION':'first', 'PRIVATE_TRAVEL_TIME':'mean', 'PRIVATE_FARE':'mean', 'PRIVATE_TAX':'mean', 'SHARED_TRAVEL_TIME':'mean', 'SHARED_FARE':'mean', 'SHARED_TAX':'mean', 'HHLDS_MEDIAN_INCOME_ORIGIN_10k':'mean', 'HHLDS_MEDIAN_INCOME_DESTINATION_10k':'mean', 'AIRPORT_FLAGGER':'mean'}"
   ]
  },
  {
   "cell_type": "code",
   "execution_count": 54,
   "metadata": {},
   "outputs": [],
   "source": [
    "log_sum = df[['PRIVATE_TRAVEL_TIME', 'PRIVATE_FARE', 'PRIVATE_TAX', 'SHARED_TRAVEL_TIME', 'SHARED_FARE', 'SHARED_TAX', 'HHLDS_MEDIAN_INCOME_ORIGIN_10k', 'HHLDS_MEDIAN_INCOME_DESTINATION_10k', 'AIRPORT_FLAGGER','ORIGIN', 'DESTINATION']].groupby(by = ['ORIGIN','DESTINATION'], as_index = False).agg(agg)"
   ]
  },
  {
   "cell_type": "code",
   "execution_count": 41,
   "metadata": {},
   "outputs": [],
   "source": [
    "log_sum['PRIVATE_UTILITY'] = log_sum['PRIVATE_TRAVEL_TIME']*-0.110075 + log_sum['PRIVATE_FARE']*-0.137794 + log_sum['PRIVATE_TAX']*-0.137794\n",
    "log_sum['SHARED_UTILITY'] = -0.573322 + log_sum['SHARED_TRAVEL_TIME']*-0.110075 + log_sum['SHARED_FARE']*-0.137794 + log_sum['SHARED_TAX']*-0.137794 + log_sum['HHLDS_MEDIAN_INCOME_ORIGIN_10k']*-0.068228 + log_sum['HHLDS_MEDIAN_INCOME_DESTINATION_10k']*-0.049448 + log_sum['AIRPORT_FLAGGER']*-2.716947"
   ]
  },
  {
   "cell_type": "code",
   "execution_count": 42,
   "metadata": {},
   "outputs": [],
   "source": [
    "log_sum['EXP_PRIVATE_UTILITY'] = np.exp(log_sum['PRIVATE_UTILITY'])"
   ]
  },
  {
   "cell_type": "code",
   "execution_count": 43,
   "metadata": {},
   "outputs": [],
   "source": [
    "log_sum['EXP_SHARED_UTILITY'] = np.exp(log_sum['SHARED_UTILITY'])"
   ]
  },
  {
   "cell_type": "code",
   "execution_count": 44,
   "metadata": {},
   "outputs": [],
   "source": [
    "log_sum['LOG_SUM'] = np.log(log_sum['EXP_PRIVATE_UTILITY'] + log_sum['EXP_SHARED_UTILITY'])"
   ]
  },
  {
   "cell_type": "code",
   "execution_count": 49,
   "metadata": {},
   "outputs": [
    {
     "data": {
      "text/html": [
       "<div>\n",
       "<style scoped>\n",
       "    .dataframe tbody tr th:only-of-type {\n",
       "        vertical-align: middle;\n",
       "    }\n",
       "\n",
       "    .dataframe tbody tr th {\n",
       "        vertical-align: top;\n",
       "    }\n",
       "\n",
       "    .dataframe thead th {\n",
       "        text-align: right;\n",
       "    }\n",
       "</style>\n",
       "<table border=\"1\" class=\"dataframe\">\n",
       "  <thead>\n",
       "    <tr style=\"text-align: right;\">\n",
       "      <th></th>\n",
       "      <th>ORIGIN</th>\n",
       "      <th>DESTINATION</th>\n",
       "      <th>PRIVATE_TRAVEL_TIME</th>\n",
       "      <th>PRIVATE_FARE</th>\n",
       "      <th>PRIVATE_TAX</th>\n",
       "      <th>SHARED_TRAVEL_TIME</th>\n",
       "      <th>SHARED_FARE</th>\n",
       "      <th>SHARED_TAX</th>\n",
       "      <th>HHLDS_MEDIAN_INCOME_ORIGIN_10k</th>\n",
       "      <th>HHLDS_MEDIAN_INCOME_DESTINATION_10k</th>\n",
       "      <th>AIRPORT_FLAGGER</th>\n",
       "      <th>PRIVATE_UTILITY</th>\n",
       "      <th>SHARED_UTILITY</th>\n",
       "      <th>EXP_PRIVATE_UTILITY</th>\n",
       "      <th>EXP_SHARED_UTILITY</th>\n",
       "      <th>LOG_SUM</th>\n",
       "    </tr>\n",
       "  </thead>\n",
       "  <tbody>\n",
       "    <tr>\n",
       "      <th>0</th>\n",
       "      <td>1.703101e+10</td>\n",
       "      <td>1.703101e+10</td>\n",
       "      <td>0.593068</td>\n",
       "      <td>10.972227</td>\n",
       "      <td>0.759714</td>\n",
       "      <td>0.683721</td>\n",
       "      <td>7.333536</td>\n",
       "      <td>0.708286</td>\n",
       "      <td>3.310383</td>\n",
       "      <td>3.310383</td>\n",
       "      <td>0</td>\n",
       "      <td>-1.681873</td>\n",
       "      <td>-2.146250</td>\n",
       "      <td>0.186025</td>\n",
       "      <td>0.116922</td>\n",
       "      <td>-1.194197</td>\n",
       "    </tr>\n",
       "    <tr>\n",
       "      <th>1</th>\n",
       "      <td>1.703101e+10</td>\n",
       "      <td>1.703101e+10</td>\n",
       "      <td>6.967073</td>\n",
       "      <td>10.916579</td>\n",
       "      <td>0.756338</td>\n",
       "      <td>7.909838</td>\n",
       "      <td>7.418463</td>\n",
       "      <td>0.705634</td>\n",
       "      <td>3.340544</td>\n",
       "      <td>4.460970</td>\n",
       "      <td>0</td>\n",
       "      <td>-2.375359</td>\n",
       "      <td>-3.011954</td>\n",
       "      <td>0.092981</td>\n",
       "      <td>0.049195</td>\n",
       "      <td>-1.950685</td>\n",
       "    </tr>\n",
       "    <tr>\n",
       "      <th>2</th>\n",
       "      <td>1.703101e+10</td>\n",
       "      <td>1.703101e+10</td>\n",
       "      <td>3.777623</td>\n",
       "      <td>12.227059</td>\n",
       "      <td>0.772540</td>\n",
       "      <td>4.328503</td>\n",
       "      <td>8.250023</td>\n",
       "      <td>0.705873</td>\n",
       "      <td>3.317381</td>\n",
       "      <td>4.109032</td>\n",
       "      <td>0</td>\n",
       "      <td>-2.207089</td>\n",
       "      <td>-2.713372</td>\n",
       "      <td>0.110020</td>\n",
       "      <td>0.066313</td>\n",
       "      <td>-1.735379</td>\n",
       "    </tr>\n",
       "    <tr>\n",
       "      <th>3</th>\n",
       "      <td>1.703101e+10</td>\n",
       "      <td>1.703101e+10</td>\n",
       "      <td>3.809582</td>\n",
       "      <td>10.015455</td>\n",
       "      <td>0.779825</td>\n",
       "      <td>4.369671</td>\n",
       "      <td>6.958802</td>\n",
       "      <td>0.706140</td>\n",
       "      <td>3.305411</td>\n",
       "      <td>4.099905</td>\n",
       "      <td>0</td>\n",
       "      <td>-1.906865</td>\n",
       "      <td>-2.538750</td>\n",
       "      <td>0.148545</td>\n",
       "      <td>0.078965</td>\n",
       "      <td>-1.480559</td>\n",
       "    </tr>\n",
       "    <tr>\n",
       "      <th>4</th>\n",
       "      <td>1.703101e+10</td>\n",
       "      <td>1.703101e+10</td>\n",
       "      <td>11.088357</td>\n",
       "      <td>5.512180</td>\n",
       "      <td>0.932000</td>\n",
       "      <td>12.347344</td>\n",
       "      <td>4.433277</td>\n",
       "      <td>0.692000</td>\n",
       "      <td>3.247400</td>\n",
       "      <td>3.970000</td>\n",
       "      <td>0</td>\n",
       "      <td>-2.108520</td>\n",
       "      <td>-3.056560</td>\n",
       "      <td>0.121417</td>\n",
       "      <td>0.047049</td>\n",
       "      <td>-1.781017</td>\n",
       "    </tr>\n",
       "  </tbody>\n",
       "</table>\n",
       "</div>"
      ],
      "text/plain": [
       "         ORIGIN   DESTINATION  PRIVATE_TRAVEL_TIME  PRIVATE_FARE  PRIVATE_TAX  \\\n",
       "0  1.703101e+10  1.703101e+10             0.593068     10.972227     0.759714   \n",
       "1  1.703101e+10  1.703101e+10             6.967073     10.916579     0.756338   \n",
       "2  1.703101e+10  1.703101e+10             3.777623     12.227059     0.772540   \n",
       "3  1.703101e+10  1.703101e+10             3.809582     10.015455     0.779825   \n",
       "4  1.703101e+10  1.703101e+10            11.088357      5.512180     0.932000   \n",
       "\n",
       "   SHARED_TRAVEL_TIME  SHARED_FARE  SHARED_TAX  \\\n",
       "0            0.683721     7.333536    0.708286   \n",
       "1            7.909838     7.418463    0.705634   \n",
       "2            4.328503     8.250023    0.705873   \n",
       "3            4.369671     6.958802    0.706140   \n",
       "4           12.347344     4.433277    0.692000   \n",
       "\n",
       "   HHLDS_MEDIAN_INCOME_ORIGIN_10k  HHLDS_MEDIAN_INCOME_DESTINATION_10k  \\\n",
       "0                        3.310383                             3.310383   \n",
       "1                        3.340544                             4.460970   \n",
       "2                        3.317381                             4.109032   \n",
       "3                        3.305411                             4.099905   \n",
       "4                        3.247400                             3.970000   \n",
       "\n",
       "   AIRPORT_FLAGGER  PRIVATE_UTILITY  SHARED_UTILITY  EXP_PRIVATE_UTILITY  \\\n",
       "0                0        -1.681873       -2.146250             0.186025   \n",
       "1                0        -2.375359       -3.011954             0.092981   \n",
       "2                0        -2.207089       -2.713372             0.110020   \n",
       "3                0        -1.906865       -2.538750             0.148545   \n",
       "4                0        -2.108520       -3.056560             0.121417   \n",
       "\n",
       "   EXP_SHARED_UTILITY   LOG_SUM  \n",
       "0            0.116922 -1.194197  \n",
       "1            0.049195 -1.950685  \n",
       "2            0.066313 -1.735379  \n",
       "3            0.078965 -1.480559  \n",
       "4            0.047049 -1.781017  "
      ]
     },
     "execution_count": 49,
     "metadata": {},
     "output_type": "execute_result"
    }
   ],
   "source": [
    "log_sum.head()"
   ]
  },
  {
   "cell_type": "code",
   "execution_count": 50,
   "metadata": {},
   "outputs": [
    {
     "data": {
      "text/plain": [
       "94063"
      ]
     },
     "execution_count": 50,
     "metadata": {},
     "output_type": "execute_result"
    }
   ],
   "source": [
    "len(log_sum)"
   ]
  },
  {
   "cell_type": "code",
   "execution_count": 51,
   "metadata": {},
   "outputs": [
    {
     "data": {
      "text/plain": [
       "799"
      ]
     },
     "execution_count": 51,
     "metadata": {},
     "output_type": "execute_result"
    }
   ],
   "source": [
    "len(log_sum.ORIGIN.unique())"
   ]
  },
  {
   "cell_type": "code",
   "execution_count": 52,
   "metadata": {},
   "outputs": [
    {
     "data": {
      "text/plain": [
       "797"
      ]
     },
     "execution_count": 52,
     "metadata": {},
     "output_type": "execute_result"
    }
   ],
   "source": [
    "len(log_sum.DESTINATION.unique())"
   ]
  },
  {
   "cell_type": "code",
   "execution_count": 53,
   "metadata": {},
   "outputs": [],
   "source": [
    "log_sum.to_csv('C:/Workspace/TNC-Demand-Model/Outputs/Log_Sum_O-D.csv')"
   ]
  },
  {
   "cell_type": "code",
   "execution_count": 521,
   "metadata": {},
   "outputs": [
    {
     "data": {
      "text/html": [
       "<div>\n",
       "<style scoped>\n",
       "    .dataframe tbody tr th:only-of-type {\n",
       "        vertical-align: middle;\n",
       "    }\n",
       "\n",
       "    .dataframe tbody tr th {\n",
       "        vertical-align: top;\n",
       "    }\n",
       "\n",
       "    .dataframe thead th {\n",
       "        text-align: right;\n",
       "    }\n",
       "</style>\n",
       "<table border=\"1\" class=\"dataframe\">\n",
       "  <thead>\n",
       "    <tr style=\"text-align: right;\">\n",
       "      <th></th>\n",
       "      <th>SHARED_PROBABILITY</th>\n",
       "    </tr>\n",
       "    <tr>\n",
       "      <th>HOUR</th>\n",
       "      <th></th>\n",
       "    </tr>\n",
       "  </thead>\n",
       "  <tbody>\n",
       "    <tr>\n",
       "      <th>1</th>\n",
       "      <td>2689.676181</td>\n",
       "    </tr>\n",
       "    <tr>\n",
       "      <th>2</th>\n",
       "      <td>1938.527916</td>\n",
       "    </tr>\n",
       "    <tr>\n",
       "      <th>3</th>\n",
       "      <td>1510.029305</td>\n",
       "    </tr>\n",
       "    <tr>\n",
       "      <th>4</th>\n",
       "      <td>1973.817036</td>\n",
       "    </tr>\n",
       "    <tr>\n",
       "      <th>5</th>\n",
       "      <td>2988.910920</td>\n",
       "    </tr>\n",
       "    <tr>\n",
       "      <th>6</th>\n",
       "      <td>5117.021895</td>\n",
       "    </tr>\n",
       "    <tr>\n",
       "      <th>7</th>\n",
       "      <td>9197.866546</td>\n",
       "    </tr>\n",
       "    <tr>\n",
       "      <th>8</th>\n",
       "      <td>11733.899341</td>\n",
       "    </tr>\n",
       "    <tr>\n",
       "      <th>9</th>\n",
       "      <td>9660.144334</td>\n",
       "    </tr>\n",
       "    <tr>\n",
       "      <th>10</th>\n",
       "      <td>7351.825743</td>\n",
       "    </tr>\n",
       "    <tr>\n",
       "      <th>11</th>\n",
       "      <td>7196.816262</td>\n",
       "    </tr>\n",
       "    <tr>\n",
       "      <th>12</th>\n",
       "      <td>7458.096633</td>\n",
       "    </tr>\n",
       "    <tr>\n",
       "      <th>13</th>\n",
       "      <td>7742.148297</td>\n",
       "    </tr>\n",
       "    <tr>\n",
       "      <th>14</th>\n",
       "      <td>8205.052399</td>\n",
       "    </tr>\n",
       "    <tr>\n",
       "      <th>15</th>\n",
       "      <td>9345.392921</td>\n",
       "    </tr>\n",
       "    <tr>\n",
       "      <th>16</th>\n",
       "      <td>11280.285454</td>\n",
       "    </tr>\n",
       "    <tr>\n",
       "      <th>17</th>\n",
       "      <td>13378.979994</td>\n",
       "    </tr>\n",
       "    <tr>\n",
       "      <th>18</th>\n",
       "      <td>13576.507426</td>\n",
       "    </tr>\n",
       "    <tr>\n",
       "      <th>19</th>\n",
       "      <td>11492.056173</td>\n",
       "    </tr>\n",
       "    <tr>\n",
       "      <th>20</th>\n",
       "      <td>9684.021506</td>\n",
       "    </tr>\n",
       "    <tr>\n",
       "      <th>21</th>\n",
       "      <td>9336.414786</td>\n",
       "    </tr>\n",
       "    <tr>\n",
       "      <th>22</th>\n",
       "      <td>8673.732199</td>\n",
       "    </tr>\n",
       "    <tr>\n",
       "      <th>23</th>\n",
       "      <td>7152.047496</td>\n",
       "    </tr>\n",
       "  </tbody>\n",
       "</table>\n",
       "</div>"
      ],
      "text/plain": [
       "      SHARED_PROBABILITY\n",
       "HOUR                    \n",
       "1            2689.676181\n",
       "2            1938.527916\n",
       "3            1510.029305\n",
       "4            1973.817036\n",
       "5            2988.910920\n",
       "6            5117.021895\n",
       "7            9197.866546\n",
       "8           11733.899341\n",
       "9            9660.144334\n",
       "10           7351.825743\n",
       "11           7196.816262\n",
       "12           7458.096633\n",
       "13           7742.148297\n",
       "14           8205.052399\n",
       "15           9345.392921\n",
       "16          11280.285454\n",
       "17          13378.979994\n",
       "18          13576.507426\n",
       "19          11492.056173\n",
       "20           9684.021506\n",
       "21           9336.414786\n",
       "22           8673.732199\n",
       "23           7152.047496"
      ]
     },
     "execution_count": 521,
     "metadata": {},
     "output_type": "execute_result"
    }
   ],
   "source": [
    "df[['SHARED_PROBABILITY', 'HOUR']].groupby(by = 'HOUR').sum()"
   ]
  },
  {
   "cell_type": "code",
   "execution_count": null,
   "metadata": {},
   "outputs": [],
   "source": []
  },
  {
   "cell_type": "code",
   "execution_count": null,
   "metadata": {},
   "outputs": [],
   "source": []
  },
  {
   "cell_type": "code",
   "execution_count": 522,
   "metadata": {},
   "outputs": [
    {
     "data": {
      "text/plain": [
       "178683.2707628549"
      ]
     },
     "execution_count": 522,
     "metadata": {},
     "output_type": "execute_result"
    }
   ],
   "source": [
    "df['SHARED_PROBABILITY'].sum()"
   ]
  },
  {
   "cell_type": "code",
   "execution_count": 523,
   "metadata": {},
   "outputs": [
    {
     "data": {
      "text/plain": [
       "665298.7292371453"
      ]
     },
     "execution_count": 523,
     "metadata": {},
     "output_type": "execute_result"
    }
   ],
   "source": [
    "df['PRIVATE_PROBABILITY'].sum()"
   ]
  },
  {
   "cell_type": "code",
   "execution_count": 524,
   "metadata": {},
   "outputs": [
    {
     "data": {
      "text/plain": [
       "0.21171455168813422"
      ]
     },
     "execution_count": 524,
     "metadata": {},
     "output_type": "execute_result"
    }
   ],
   "source": [
    "df['SHARED_PROBABILITY'].sum()/(len(df))"
   ]
  },
  {
   "cell_type": "code",
   "execution_count": 31,
   "metadata": {},
   "outputs": [],
   "source": [
    "df['OBSERVED_PRIVATE_TRIP'] = np.where(df['SHARED_FLAGGER'] == 0, 1, 0)"
   ]
  },
  {
   "cell_type": "code",
   "execution_count": 32,
   "metadata": {},
   "outputs": [],
   "source": [
    "df['OBSERVED_SHARED_TRIP'] = np.where(df['SHARED_FLAGGER'] == 1, 1, 0)"
   ]
  },
  {
   "cell_type": "code",
   "execution_count": 33,
   "metadata": {},
   "outputs": [
    {
     "ename": "KeyError",
     "evalue": "\"['PRIVATE_PROBABILITY', 'SHARED_PROBABILITY'] not in index\"",
     "output_type": "error",
     "traceback": [
      "\u001b[1;31m---------------------------------------------------------------------------\u001b[0m",
      "\u001b[1;31mKeyError\u001b[0m                                  Traceback (most recent call last)",
      "\u001b[1;32m<ipython-input-33-4472b158db8c>\u001b[0m in \u001b[0;36m<module>\u001b[1;34m\u001b[0m\n\u001b[1;32m----> 1\u001b[1;33m \u001b[0mdf2\u001b[0m \u001b[1;33m=\u001b[0m \u001b[0mdf\u001b[0m\u001b[1;33m[\u001b[0m\u001b[1;33m[\u001b[0m\u001b[1;34m'ORIGIN'\u001b[0m\u001b[1;33m,\u001b[0m\u001b[1;34m'OBSERVED_PRIVATE_TRIP'\u001b[0m\u001b[1;33m,\u001b[0m \u001b[1;34m'OBSERVED_SHARED_TRIP'\u001b[0m\u001b[1;33m,\u001b[0m\u001b[1;34m'SHARED_PROBABILITY'\u001b[0m\u001b[1;33m,\u001b[0m\u001b[1;34m'PRIVATE_PROBABILITY'\u001b[0m\u001b[1;33m,\u001b[0m\u001b[1;33m]\u001b[0m\u001b[1;33m]\u001b[0m\u001b[1;33m.\u001b[0m\u001b[0mgroupby\u001b[0m\u001b[1;33m(\u001b[0m\u001b[0mby\u001b[0m \u001b[1;33m=\u001b[0m \u001b[1;34m'ORIGIN'\u001b[0m\u001b[1;33m,\u001b[0m \u001b[0mas_index\u001b[0m \u001b[1;33m=\u001b[0m \u001b[1;32mFalse\u001b[0m\u001b[1;33m)\u001b[0m\u001b[1;33m.\u001b[0m\u001b[0msum\u001b[0m\u001b[1;33m(\u001b[0m\u001b[1;33m)\u001b[0m\u001b[1;33m\u001b[0m\u001b[1;33m\u001b[0m\u001b[0m\n\u001b[0m",
      "\u001b[1;32m~\\Anaconda3\\lib\\site-packages\\pandas\\core\\frame.py\u001b[0m in \u001b[0;36m__getitem__\u001b[1;34m(self, key)\u001b[0m\n\u001b[0;32m   2906\u001b[0m             \u001b[1;32mif\u001b[0m \u001b[0mis_iterator\u001b[0m\u001b[1;33m(\u001b[0m\u001b[0mkey\u001b[0m\u001b[1;33m)\u001b[0m\u001b[1;33m:\u001b[0m\u001b[1;33m\u001b[0m\u001b[1;33m\u001b[0m\u001b[0m\n\u001b[0;32m   2907\u001b[0m                 \u001b[0mkey\u001b[0m \u001b[1;33m=\u001b[0m \u001b[0mlist\u001b[0m\u001b[1;33m(\u001b[0m\u001b[0mkey\u001b[0m\u001b[1;33m)\u001b[0m\u001b[1;33m\u001b[0m\u001b[1;33m\u001b[0m\u001b[0m\n\u001b[1;32m-> 2908\u001b[1;33m             \u001b[0mindexer\u001b[0m \u001b[1;33m=\u001b[0m \u001b[0mself\u001b[0m\u001b[1;33m.\u001b[0m\u001b[0mloc\u001b[0m\u001b[1;33m.\u001b[0m\u001b[0m_get_listlike_indexer\u001b[0m\u001b[1;33m(\u001b[0m\u001b[0mkey\u001b[0m\u001b[1;33m,\u001b[0m \u001b[0maxis\u001b[0m\u001b[1;33m=\u001b[0m\u001b[1;36m1\u001b[0m\u001b[1;33m,\u001b[0m \u001b[0mraise_missing\u001b[0m\u001b[1;33m=\u001b[0m\u001b[1;32mTrue\u001b[0m\u001b[1;33m)\u001b[0m\u001b[1;33m[\u001b[0m\u001b[1;36m1\u001b[0m\u001b[1;33m]\u001b[0m\u001b[1;33m\u001b[0m\u001b[1;33m\u001b[0m\u001b[0m\n\u001b[0m\u001b[0;32m   2909\u001b[0m \u001b[1;33m\u001b[0m\u001b[0m\n\u001b[0;32m   2910\u001b[0m         \u001b[1;31m# take() does not accept boolean indexers\u001b[0m\u001b[1;33m\u001b[0m\u001b[1;33m\u001b[0m\u001b[1;33m\u001b[0m\u001b[0m\n",
      "\u001b[1;32m~\\Anaconda3\\lib\\site-packages\\pandas\\core\\indexing.py\u001b[0m in \u001b[0;36m_get_listlike_indexer\u001b[1;34m(self, key, axis, raise_missing)\u001b[0m\n\u001b[0;32m   1252\u001b[0m             \u001b[0mkeyarr\u001b[0m\u001b[1;33m,\u001b[0m \u001b[0mindexer\u001b[0m\u001b[1;33m,\u001b[0m \u001b[0mnew_indexer\u001b[0m \u001b[1;33m=\u001b[0m \u001b[0max\u001b[0m\u001b[1;33m.\u001b[0m\u001b[0m_reindex_non_unique\u001b[0m\u001b[1;33m(\u001b[0m\u001b[0mkeyarr\u001b[0m\u001b[1;33m)\u001b[0m\u001b[1;33m\u001b[0m\u001b[1;33m\u001b[0m\u001b[0m\n\u001b[0;32m   1253\u001b[0m \u001b[1;33m\u001b[0m\u001b[0m\n\u001b[1;32m-> 1254\u001b[1;33m         \u001b[0mself\u001b[0m\u001b[1;33m.\u001b[0m\u001b[0m_validate_read_indexer\u001b[0m\u001b[1;33m(\u001b[0m\u001b[0mkeyarr\u001b[0m\u001b[1;33m,\u001b[0m \u001b[0mindexer\u001b[0m\u001b[1;33m,\u001b[0m \u001b[0maxis\u001b[0m\u001b[1;33m,\u001b[0m \u001b[0mraise_missing\u001b[0m\u001b[1;33m=\u001b[0m\u001b[0mraise_missing\u001b[0m\u001b[1;33m)\u001b[0m\u001b[1;33m\u001b[0m\u001b[1;33m\u001b[0m\u001b[0m\n\u001b[0m\u001b[0;32m   1255\u001b[0m         \u001b[1;32mreturn\u001b[0m \u001b[0mkeyarr\u001b[0m\u001b[1;33m,\u001b[0m \u001b[0mindexer\u001b[0m\u001b[1;33m\u001b[0m\u001b[1;33m\u001b[0m\u001b[0m\n\u001b[0;32m   1256\u001b[0m \u001b[1;33m\u001b[0m\u001b[0m\n",
      "\u001b[1;32m~\\Anaconda3\\lib\\site-packages\\pandas\\core\\indexing.py\u001b[0m in \u001b[0;36m_validate_read_indexer\u001b[1;34m(self, key, indexer, axis, raise_missing)\u001b[0m\n\u001b[0;32m   1302\u001b[0m             \u001b[1;32mif\u001b[0m \u001b[0mraise_missing\u001b[0m\u001b[1;33m:\u001b[0m\u001b[1;33m\u001b[0m\u001b[1;33m\u001b[0m\u001b[0m\n\u001b[0;32m   1303\u001b[0m                 \u001b[0mnot_found\u001b[0m \u001b[1;33m=\u001b[0m \u001b[0mlist\u001b[0m\u001b[1;33m(\u001b[0m\u001b[0mset\u001b[0m\u001b[1;33m(\u001b[0m\u001b[0mkey\u001b[0m\u001b[1;33m)\u001b[0m \u001b[1;33m-\u001b[0m \u001b[0mset\u001b[0m\u001b[1;33m(\u001b[0m\u001b[0max\u001b[0m\u001b[1;33m)\u001b[0m\u001b[1;33m)\u001b[0m\u001b[1;33m\u001b[0m\u001b[1;33m\u001b[0m\u001b[0m\n\u001b[1;32m-> 1304\u001b[1;33m                 \u001b[1;32mraise\u001b[0m \u001b[0mKeyError\u001b[0m\u001b[1;33m(\u001b[0m\u001b[1;34mf\"{not_found} not in index\"\u001b[0m\u001b[1;33m)\u001b[0m\u001b[1;33m\u001b[0m\u001b[1;33m\u001b[0m\u001b[0m\n\u001b[0m\u001b[0;32m   1305\u001b[0m \u001b[1;33m\u001b[0m\u001b[0m\n\u001b[0;32m   1306\u001b[0m             \u001b[1;31m# we skip the warning on Categorical\u001b[0m\u001b[1;33m\u001b[0m\u001b[1;33m\u001b[0m\u001b[1;33m\u001b[0m\u001b[0m\n",
      "\u001b[1;31mKeyError\u001b[0m: \"['PRIVATE_PROBABILITY', 'SHARED_PROBABILITY'] not in index\""
     ]
    }
   ],
   "source": [
    "df2 = df[['ORIGIN','OBSERVED_PRIVATE_TRIP', 'OBSERVED_SHARED_TRIP','SHARED_PROBABILITY','PRIVATE_PROBABILITY',]].groupby(by = 'ORIGIN', as_index = False).sum()"
   ]
  },
  {
   "cell_type": "code",
   "execution_count": 34,
   "metadata": {},
   "outputs": [],
   "source": [
    "#df2 = df[['ORIGIN','OBSERVED_PRIVATE_TRIP','OBSERVED_SHARED_TRIP']].groupby(by = 'ORIGIN', as_index = False).sum()"
   ]
  },
  {
   "cell_type": "code",
   "execution_count": null,
   "metadata": {},
   "outputs": [],
   "source": []
  },
  {
   "cell_type": "code",
   "execution_count": 434,
   "metadata": {},
   "outputs": [],
   "source": [
    "#'PRIVATE_TRAVEL_TIME','SHARED_TRAVEL_TIME','PRIVATE_FARE','SHARED_FARE','PRIVATE_TAX','SHARED_TAX','HHLDS_MEDIAN_INCOME_ORIGIN_10k','HHLDS_MEDIAN_INCOME_DESTINATION_10k','AIRPORT_FLAGGER'"
   ]
  },
  {
   "cell_type": "code",
   "execution_count": 46,
   "metadata": {},
   "outputs": [],
   "source": [
    "df2['OBSERVED_PRIVATE_SHR'] = df2['OBSERVED_PRIVATE_TRIP']/(df2['OBSERVED_PRIVATE_TRIP'] + df2['OBSERVED_SHARED_TRIP'])\n",
    "df2['OBSERVED_SHARED_SHR'] = 1-df2['OBSERVED_PRIVATE_SHR']\n",
    "\n",
    "\n",
    "df2['PREDICTED_PRIVATE_SHR'] = df2['PRIVATE_PROBABILITY']/(df2['PRIVATE_PROBABILITY'] + df2['SHARED_PROBABILITY'])"
   ]
  },
  {
   "cell_type": "code",
   "execution_count": 530,
   "metadata": {},
   "outputs": [],
   "source": [
    "df2['PRIVATE_TRIPS_DIFF'] = df2['PRIVATE_PROBABILITY'] - df2['OBSERVED_PRIVATE_TRIP']"
   ]
  },
  {
   "cell_type": "code",
   "execution_count": 531,
   "metadata": {},
   "outputs": [],
   "source": [
    "df2['SHARED_TRIPS_DIFF'] = df2['SHARED_PROBABILITY'] - df2['OBSERVED_SHARED_TRIP']"
   ]
  },
  {
   "cell_type": "code",
   "execution_count": 532,
   "metadata": {},
   "outputs": [],
   "source": [
    "df2['PRIVATE_SHR_DIFF'] = df2['PREDICTED_PRIVATE_SHR'] - df2['OBSERVED_PRIVATE_SHR']"
   ]
  },
  {
   "cell_type": "code",
   "execution_count": 533,
   "metadata": {},
   "outputs": [
    {
     "data": {
      "text/plain": [
       "0.04008653387179543"
      ]
     },
     "execution_count": 533,
     "metadata": {},
     "output_type": "execute_result"
    }
   ],
   "source": [
    "df2['PRIVATE_SHR_DIFF'].mean()"
   ]
  },
  {
   "cell_type": "code",
   "execution_count": 534,
   "metadata": {},
   "outputs": [
    {
     "data": {
      "text/plain": [
       "<matplotlib.axes._subplots.AxesSubplot at 0x1c252b83888>"
      ]
     },
     "execution_count": 534,
     "metadata": {},
     "output_type": "execute_result"
    },
    {
     "data": {
      "image/png": "[encoded data removed]",
      "text/plain": [
       "<Figure size 432x288 with 1 Axes>"
      ]
     },
     "metadata": {
      "needs_background": "light"
     },
     "output_type": "display_data"
    }
   ],
   "source": [
    "df2['PRIVATE_SHR_DIFF'].plot()"
   ]
  },
  {
   "cell_type": "code",
   "execution_count": 535,
   "metadata": {},
   "outputs": [
    {
     "data": {
      "text/plain": [
       "256"
      ]
     },
     "execution_count": 535,
     "metadata": {},
     "output_type": "execute_result"
    }
   ],
   "source": [
    "len(df2[df2['PRIVATE_SHR_DIFF'] < -0])"
   ]
  },
  {
   "cell_type": "code",
   "execution_count": 536,
   "metadata": {},
   "outputs": [
    {
     "data": {
      "text/plain": [
       "4"
      ]
     },
     "execution_count": 536,
     "metadata": {},
     "output_type": "execute_result"
    }
   ],
   "source": [
    "len(df2[df2['PRIVATE_SHR_DIFF'] > 0.5])"
   ]
  },
  {
   "cell_type": "code",
   "execution_count": 537,
   "metadata": {},
   "outputs": [
    {
     "data": {
      "text/html": [
       "<div>\n",
       "<style scoped>\n",
       "    .dataframe tbody tr th:only-of-type {\n",
       "        vertical-align: middle;\n",
       "    }\n",
       "\n",
       "    .dataframe tbody tr th {\n",
       "        vertical-align: top;\n",
       "    }\n",
       "\n",
       "    .dataframe thead th {\n",
       "        text-align: right;\n",
       "    }\n",
       "</style>\n",
       "<table border=\"1\" class=\"dataframe\">\n",
       "  <thead>\n",
       "    <tr style=\"text-align: right;\">\n",
       "      <th></th>\n",
       "      <th>ORIGIN</th>\n",
       "      <th>OBSERVED_PRIVATE_TRIP</th>\n",
       "      <th>OBSERVED_SHARED_TRIP</th>\n",
       "      <th>SHARED_PROBABILITY</th>\n",
       "      <th>PRIVATE_PROBABILITY</th>\n",
       "      <th>OBSERVED_PRIVATE_SHR</th>\n",
       "      <th>PREDICTED_PRIVATE_SHR</th>\n",
       "      <th>PRIVATE_TRIPS_DIFF</th>\n",
       "      <th>SHARED_TRIPS_DIFF</th>\n",
       "      <th>PRIVATE_SHR_DIFF</th>\n",
       "    </tr>\n",
       "  </thead>\n",
       "  <tbody>\n",
       "    <tr>\n",
       "      <th>0</th>\n",
       "      <td>1.703101e+10</td>\n",
       "      <td>662</td>\n",
       "      <td>293</td>\n",
       "      <td>331.647652</td>\n",
       "      <td>623.352348</td>\n",
       "      <td>0.693194</td>\n",
       "      <td>0.652725</td>\n",
       "      <td>-38.647652</td>\n",
       "      <td>38.647652</td>\n",
       "      <td>-0.040469</td>\n",
       "    </tr>\n",
       "    <tr>\n",
       "      <th>3</th>\n",
       "      <td>1.703101e+10</td>\n",
       "      <td>820</td>\n",
       "      <td>371</td>\n",
       "      <td>381.298580</td>\n",
       "      <td>809.701420</td>\n",
       "      <td>0.688497</td>\n",
       "      <td>0.679850</td>\n",
       "      <td>-10.298580</td>\n",
       "      <td>10.298580</td>\n",
       "      <td>-0.008647</td>\n",
       "    </tr>\n",
       "    <tr>\n",
       "      <th>4</th>\n",
       "      <td>1.703101e+10</td>\n",
       "      <td>1216</td>\n",
       "      <td>392</td>\n",
       "      <td>393.496277</td>\n",
       "      <td>1214.503723</td>\n",
       "      <td>0.756219</td>\n",
       "      <td>0.755288</td>\n",
       "      <td>-1.496277</td>\n",
       "      <td>1.496277</td>\n",
       "      <td>-0.000931</td>\n",
       "    </tr>\n",
       "    <tr>\n",
       "      <th>5</th>\n",
       "      <td>1.703101e+10</td>\n",
       "      <td>686</td>\n",
       "      <td>288</td>\n",
       "      <td>328.067077</td>\n",
       "      <td>645.932923</td>\n",
       "      <td>0.704312</td>\n",
       "      <td>0.663175</td>\n",
       "      <td>-40.067077</td>\n",
       "      <td>40.067077</td>\n",
       "      <td>-0.041137</td>\n",
       "    </tr>\n",
       "    <tr>\n",
       "      <th>6</th>\n",
       "      <td>1.703101e+10</td>\n",
       "      <td>754</td>\n",
       "      <td>302</td>\n",
       "      <td>346.378131</td>\n",
       "      <td>709.621869</td>\n",
       "      <td>0.714015</td>\n",
       "      <td>0.671990</td>\n",
       "      <td>-44.378131</td>\n",
       "      <td>44.378131</td>\n",
       "      <td>-0.042025</td>\n",
       "    </tr>\n",
       "    <tr>\n",
       "      <th>...</th>\n",
       "      <td>...</td>\n",
       "      <td>...</td>\n",
       "      <td>...</td>\n",
       "      <td>...</td>\n",
       "      <td>...</td>\n",
       "      <td>...</td>\n",
       "      <td>...</td>\n",
       "      <td>...</td>\n",
       "      <td>...</td>\n",
       "      <td>...</td>\n",
       "    </tr>\n",
       "    <tr>\n",
       "      <th>769</th>\n",
       "      <td>1.703184e+10</td>\n",
       "      <td>1787</td>\n",
       "      <td>519</td>\n",
       "      <td>593.669332</td>\n",
       "      <td>1712.330668</td>\n",
       "      <td>0.774935</td>\n",
       "      <td>0.742554</td>\n",
       "      <td>-74.669332</td>\n",
       "      <td>74.669332</td>\n",
       "      <td>-0.032380</td>\n",
       "    </tr>\n",
       "    <tr>\n",
       "      <th>775</th>\n",
       "      <td>1.703184e+10</td>\n",
       "      <td>21</td>\n",
       "      <td>9</td>\n",
       "      <td>9.788143</td>\n",
       "      <td>20.211857</td>\n",
       "      <td>0.700000</td>\n",
       "      <td>0.673729</td>\n",
       "      <td>-0.788143</td>\n",
       "      <td>0.788143</td>\n",
       "      <td>-0.026271</td>\n",
       "    </tr>\n",
       "    <tr>\n",
       "      <th>779</th>\n",
       "      <td>1.703184e+10</td>\n",
       "      <td>815</td>\n",
       "      <td>410</td>\n",
       "      <td>419.243883</td>\n",
       "      <td>805.756117</td>\n",
       "      <td>0.665306</td>\n",
       "      <td>0.657760</td>\n",
       "      <td>-9.243883</td>\n",
       "      <td>9.243883</td>\n",
       "      <td>-0.007546</td>\n",
       "    </tr>\n",
       "    <tr>\n",
       "      <th>780</th>\n",
       "      <td>1.703184e+10</td>\n",
       "      <td>6140</td>\n",
       "      <td>1313</td>\n",
       "      <td>1368.161200</td>\n",
       "      <td>6084.838800</td>\n",
       "      <td>0.823829</td>\n",
       "      <td>0.816428</td>\n",
       "      <td>-55.161200</td>\n",
       "      <td>55.161200</td>\n",
       "      <td>-0.007401</td>\n",
       "    </tr>\n",
       "    <tr>\n",
       "      <th>792</th>\n",
       "      <td>1.703184e+10</td>\n",
       "      <td>116</td>\n",
       "      <td>55</td>\n",
       "      <td>55.895548</td>\n",
       "      <td>115.104452</td>\n",
       "      <td>0.678363</td>\n",
       "      <td>0.673125</td>\n",
       "      <td>-0.895548</td>\n",
       "      <td>0.895548</td>\n",
       "      <td>-0.005237</td>\n",
       "    </tr>\n",
       "  </tbody>\n",
       "</table>\n",
       "<p>256 rows × 10 columns</p>\n",
       "</div>"
      ],
      "text/plain": [
       "           ORIGIN  OBSERVED_PRIVATE_TRIP  OBSERVED_SHARED_TRIP  \\\n",
       "0    1.703101e+10                    662                   293   \n",
       "3    1.703101e+10                    820                   371   \n",
       "4    1.703101e+10                   1216                   392   \n",
       "5    1.703101e+10                    686                   288   \n",
       "6    1.703101e+10                    754                   302   \n",
       "..            ...                    ...                   ...   \n",
       "769  1.703184e+10                   1787                   519   \n",
       "775  1.703184e+10                     21                     9   \n",
       "779  1.703184e+10                    815                   410   \n",
       "780  1.703184e+10                   6140                  1313   \n",
       "792  1.703184e+10                    116                    55   \n",
       "\n",
       "     SHARED_PROBABILITY  PRIVATE_PROBABILITY  OBSERVED_PRIVATE_SHR  \\\n",
       "0            331.647652           623.352348              0.693194   \n",
       "3            381.298580           809.701420              0.688497   \n",
       "4            393.496277          1214.503723              0.756219   \n",
       "5            328.067077           645.932923              0.704312   \n",
       "6            346.378131           709.621869              0.714015   \n",
       "..                  ...                  ...                   ...   \n",
       "769          593.669332          1712.330668              0.774935   \n",
       "775            9.788143            20.211857              0.700000   \n",
       "779          419.243883           805.756117              0.665306   \n",
       "780         1368.161200          6084.838800              0.823829   \n",
       "792           55.895548           115.104452              0.678363   \n",
       "\n",
       "     PREDICTED_PRIVATE_SHR  PRIVATE_TRIPS_DIFF  SHARED_TRIPS_DIFF  \\\n",
       "0                 0.652725          -38.647652          38.647652   \n",
       "3                 0.679850          -10.298580          10.298580   \n",
       "4                 0.755288           -1.496277           1.496277   \n",
       "5                 0.663175          -40.067077          40.067077   \n",
       "6                 0.671990          -44.378131          44.378131   \n",
       "..                     ...                 ...                ...   \n",
       "769               0.742554          -74.669332          74.669332   \n",
       "775               0.673729           -0.788143           0.788143   \n",
       "779               0.657760           -9.243883           9.243883   \n",
       "780               0.816428          -55.161200          55.161200   \n",
       "792               0.673125           -0.895548           0.895548   \n",
       "\n",
       "     PRIVATE_SHR_DIFF  \n",
       "0           -0.040469  \n",
       "3           -0.008647  \n",
       "4           -0.000931  \n",
       "5           -0.041137  \n",
       "6           -0.042025  \n",
       "..                ...  \n",
       "769         -0.032380  \n",
       "775         -0.026271  \n",
       "779         -0.007546  \n",
       "780         -0.007401  \n",
       "792         -0.005237  \n",
       "\n",
       "[256 rows x 10 columns]"
      ]
     },
     "execution_count": 537,
     "metadata": {},
     "output_type": "execute_result"
    }
   ],
   "source": [
    "df2[df2['PRIVATE_SHR_DIFF'] < 0]"
   ]
  },
  {
   "cell_type": "code",
   "execution_count": 538,
   "metadata": {
    "scrolled": true
   },
   "outputs": [
    {
     "data": {
      "text/html": [
       "<div>\n",
       "<style scoped>\n",
       "    .dataframe tbody tr th:only-of-type {\n",
       "        vertical-align: middle;\n",
       "    }\n",
       "\n",
       "    .dataframe tbody tr th {\n",
       "        vertical-align: top;\n",
       "    }\n",
       "\n",
       "    .dataframe thead th {\n",
       "        text-align: right;\n",
       "    }\n",
       "</style>\n",
       "<table border=\"1\" class=\"dataframe\">\n",
       "  <thead>\n",
       "    <tr style=\"text-align: right;\">\n",
       "      <th></th>\n",
       "      <th>ORIGIN</th>\n",
       "      <th>OBSERVED_PRIVATE_TRIP</th>\n",
       "      <th>OBSERVED_SHARED_TRIP</th>\n",
       "      <th>SHARED_PROBABILITY</th>\n",
       "      <th>PRIVATE_PROBABILITY</th>\n",
       "      <th>OBSERVED_PRIVATE_SHR</th>\n",
       "      <th>PREDICTED_PRIVATE_SHR</th>\n",
       "      <th>PRIVATE_TRIPS_DIFF</th>\n",
       "      <th>SHARED_TRIPS_DIFF</th>\n",
       "      <th>PRIVATE_SHR_DIFF</th>\n",
       "    </tr>\n",
       "  </thead>\n",
       "  <tbody>\n",
       "    <tr>\n",
       "      <th>499</th>\n",
       "      <td>1.703152e+10</td>\n",
       "      <td>0</td>\n",
       "      <td>1</td>\n",
       "      <td>0.255741</td>\n",
       "      <td>0.744259</td>\n",
       "      <td>0.0</td>\n",
       "      <td>0.744259</td>\n",
       "      <td>0.744259</td>\n",
       "      <td>-0.744259</td>\n",
       "      <td>0.744259</td>\n",
       "    </tr>\n",
       "    <tr>\n",
       "      <th>517</th>\n",
       "      <td>1.703156e+10</td>\n",
       "      <td>0</td>\n",
       "      <td>5</td>\n",
       "      <td>1.752825</td>\n",
       "      <td>3.247175</td>\n",
       "      <td>0.0</td>\n",
       "      <td>0.649435</td>\n",
       "      <td>3.247175</td>\n",
       "      <td>-3.247175</td>\n",
       "      <td>0.649435</td>\n",
       "    </tr>\n",
       "    <tr>\n",
       "      <th>565</th>\n",
       "      <td>1.703163e+10</td>\n",
       "      <td>0</td>\n",
       "      <td>3</td>\n",
       "      <td>1.072503</td>\n",
       "      <td>1.927497</td>\n",
       "      <td>0.0</td>\n",
       "      <td>0.642499</td>\n",
       "      <td>1.927497</td>\n",
       "      <td>-1.927497</td>\n",
       "      <td>0.642499</td>\n",
       "    </tr>\n",
       "    <tr>\n",
       "      <th>611</th>\n",
       "      <td>1.703167e+10</td>\n",
       "      <td>0</td>\n",
       "      <td>1</td>\n",
       "      <td>0.282281</td>\n",
       "      <td>0.717719</td>\n",
       "      <td>0.0</td>\n",
       "      <td>0.717719</td>\n",
       "      <td>0.717719</td>\n",
       "      <td>-0.717719</td>\n",
       "      <td>0.717719</td>\n",
       "    </tr>\n",
       "  </tbody>\n",
       "</table>\n",
       "</div>"
      ],
      "text/plain": [
       "           ORIGIN  OBSERVED_PRIVATE_TRIP  OBSERVED_SHARED_TRIP  \\\n",
       "499  1.703152e+10                      0                     1   \n",
       "517  1.703156e+10                      0                     5   \n",
       "565  1.703163e+10                      0                     3   \n",
       "611  1.703167e+10                      0                     1   \n",
       "\n",
       "     SHARED_PROBABILITY  PRIVATE_PROBABILITY  OBSERVED_PRIVATE_SHR  \\\n",
       "499            0.255741             0.744259                   0.0   \n",
       "517            1.752825             3.247175                   0.0   \n",
       "565            1.072503             1.927497                   0.0   \n",
       "611            0.282281             0.717719                   0.0   \n",
       "\n",
       "     PREDICTED_PRIVATE_SHR  PRIVATE_TRIPS_DIFF  SHARED_TRIPS_DIFF  \\\n",
       "499               0.744259            0.744259          -0.744259   \n",
       "517               0.649435            3.247175          -3.247175   \n",
       "565               0.642499            1.927497          -1.927497   \n",
       "611               0.717719            0.717719          -0.717719   \n",
       "\n",
       "     PRIVATE_SHR_DIFF  \n",
       "499          0.744259  \n",
       "517          0.649435  \n",
       "565          0.642499  \n",
       "611          0.717719  "
      ]
     },
     "execution_count": 538,
     "metadata": {},
     "output_type": "execute_result"
    }
   ],
   "source": [
    "df2[df2['PRIVATE_SHR_DIFF'] > 0.5]"
   ]
  },
  {
   "cell_type": "code",
   "execution_count": 39,
   "metadata": {},
   "outputs": [],
   "source": [
    "import geopandas as gp\n",
    "\n",
    "geo = gp.read_file('C:/Workspace/TNC-Demand-Model/Inputs/Census Shapefiles/Illinois/Chicago Tracts/geo_export_558aad9f-98d8-4dd5-a6b1-c1730155d596.shp')\n"
   ]
  },
  {
   "cell_type": "code",
   "execution_count": 40,
   "metadata": {},
   "outputs": [],
   "source": [
    "geo['geoid10'] = geo.geoid10.astype(float)"
   ]
  },
  {
   "cell_type": "code",
   "execution_count": 41,
   "metadata": {},
   "outputs": [],
   "source": [
    "centroids = pd.read_csv('C:/Workspace/TNC-Demand-Model/otp/points.csv')\n",
    "centroids = gp.GeoDataFrame(centroids)\n",
    "centroids['GEOID']  = centroids['GEOID'].astype(float)"
   ]
  },
  {
   "cell_type": "code",
   "execution_count": 42,
   "metadata": {},
   "outputs": [],
   "source": [
    "import folium"
   ]
  },
  {
   "cell_type": "code",
   "execution_count": 37,
   "metadata": {},
   "outputs": [],
   "source": [
    "df3 = df[['ORIGIN','SHARED_PROBABILITY','PRIVATE_PROBABILITY','DESTINATION']].groupby(by = ['ORIGIN','DESTINATION'], as_index = False).sum()"
   ]
  },
  {
   "cell_type": "code",
   "execution_count": 38,
   "metadata": {},
   "outputs": [],
   "source": [
    "df3[['SHARED_PROBABILITY','ORIGIN','DESTINATION']].to_csv('Predicted_Shared_Trips.csv')"
   ]
  },
  {
   "cell_type": "code",
   "execution_count": null,
   "metadata": {},
   "outputs": [],
   "source": []
  },
  {
   "cell_type": "code",
   "execution_count": 49,
   "metadata": {
    "scrolled": true
   },
   "outputs": [
    {
     "name": "stderr",
     "output_type": "stream",
     "text": [
      "C:\\Users\\ramu225\\Anaconda3\\lib\\site-packages\\folium\\folium.py:415: FutureWarning: The choropleth  method has been deprecated. Instead use the new Choropleth class, which has the same arguments. See the example notebook 'GeoJSON_and_choropleth' for how to do this.\n",
      "  FutureWarning\n"
     ]
    }
   ],
   "source": [
    "# Initialize the map:\n",
    "import folium\n",
    "m = folium.Map([41.8781, -87.6298], zoom_start=11)\n",
    "\n",
    "\n",
    "m = folium.Map([41.8781, -87.6298], zoom_start=11)\n",
    "\n",
    "\n",
    "\n",
    "#rh_tod_tract = rh_tod_tract.groupby(by = ['Pickup Census Tract','Dropoff Census Tract'], as_index = False).sum()\n",
    "\n",
    "bins = [0, 0.25, 0.5, 0.75, 1]\n",
    "\n",
    "# Add the color for the chloropleth:\n",
    "m.choropleth(\n",
    " geo_data=geo,\n",
    " name= 'Observed Shared Share of Trips',\n",
    " data=df2,\n",
    " columns = ['ORIGIN', 'OBSERVED_SHARED_SHR'],\n",
    " key_on='feature.properties.geoid10',\n",
    " fill_color='RdPu',\n",
    " fill_opacity=0.6,\n",
    " line_opacity=0.2,\n",
    " bins = bins,\n",
    " legend_name='Observed Shared Share of Trips',\n",
    " highlight = True\n",
    ")\n",
    "\n",
    "#folium.LayerControl().add_to(m)\n",
    "\n",
    "feature_group = folium.FeatureGroup(name='Census Tract Centroids', show = False)\n",
    "\n",
    "for tract2 in centroids.GEOID:\n",
    "    row = centroids[centroids['GEOID'] == tract2]\n",
    "    folium.CircleMarker([row['Y'], row['X']], popup = str(int(row['GEOID'].values[0])), radius = 1, fill = True, fill_color = 'grey', color = 'grey').add_to(feature_group)\n",
    "\n",
    "m.add_child(feature_group)\n",
    "\n",
    "    \n",
    "folium.LayerControl().add_to(m)\n",
    "\n",
    "m.save('C:/Workspace/TNC-Demand-Model/Data Exploration/Private Shared Logit Model' + '/Observed_Shared_Share.html')\n",
    "\n"
   ]
  },
  {
   "cell_type": "code",
   "execution_count": 539,
   "metadata": {},
   "outputs": [
    {
     "name": "stderr",
     "output_type": "stream",
     "text": [
      "C:\\Users\\ramu225\\Anaconda3\\lib\\site-packages\\folium\\folium.py:415: FutureWarning: The choropleth  method has been deprecated. Instead use the new Choropleth class, which has the same arguments. See the example notebook 'GeoJSON_and_choropleth' for how to do this.\n",
      "  FutureWarning\n"
     ]
    }
   ],
   "source": [
    "# Initialize the map: \n",
    "m = folium.Map([41.8781, -87.6298], zoom_start=11)\n",
    "\n",
    "\n",
    "m = folium.Map([41.8781, -87.6298], zoom_start=11)\n",
    "\n",
    "\n",
    "\n",
    "#rh_tod_tract = rh_tod_tract.groupby(by = ['Pickup Census Tract','Dropoff Census Tract'], as_index = False).sum()\n",
    "\n",
    "bins = [0, 0.25, 0.5, 0.75, 0.9, 1]\n",
    "\n",
    "# Add the color for the chloropleth:\n",
    "m.choropleth(\n",
    " geo_data=geo,\n",
    " name= 'Predicted Private Share of Trips',\n",
    " data=df2,\n",
    " columns = ['ORIGIN', 'PREDICTED_PRIVATE_SHR'],\n",
    " key_on='feature.properties.geoid10',\n",
    " fill_color='RdPu',\n",
    " fill_opacity=0.6,\n",
    " line_opacity=0.2,\n",
    " bins = bins,\n",
    " legend_name='Pred Private Share of Trips',\n",
    " highlight = True\n",
    ")\n",
    "\n",
    "folium.LayerControl().add_to(m)\n",
    "\n",
    "m.save('C:/Workspace/TNC-Demand-Model/Data Exploration/Private Shared Logit Model' + '/Predicted_Private_Share.html')\n",
    "\n"
   ]
  },
  {
   "cell_type": "code",
   "execution_count": 542,
   "metadata": {},
   "outputs": [
    {
     "data": {
      "text/plain": [
       "-0.33231444059918425"
      ]
     },
     "execution_count": 542,
     "metadata": {},
     "output_type": "execute_result"
    }
   ],
   "source": [
    "df2['PRIVATE_SHR_DIFF'].min()"
   ]
  },
  {
   "cell_type": "code",
   "execution_count": 553,
   "metadata": {},
   "outputs": [],
   "source": [
    "# Initialize the map: \n",
    "m = folium.Map([41.8781, -87.6298], zoom_start=11)\n",
    "\n",
    "\n",
    "m = folium.Map([41.8781, -87.6298], zoom_start=11)\n",
    "\n",
    "\n",
    "\n",
    "#rh_tod_tract = rh_tod_tract.groupby(by = ['Pickup Census Tract','Dropoff Census Tract'], as_index = False).sum()\n",
    "\n",
    "bins = [-0.5, -0.1, 0, 0.1, 0.5, 1]\n",
    "\n",
    "# Add the color for the chloropleth:\n",
    "m.choropleth(\n",
    " geo_data=geo,\n",
    " name= 'Difference Private Share of Trips',\n",
    " data=df2,\n",
    " columns = ['ORIGIN', 'PRIVATE_SHR_DIFF'],\n",
    " key_on='feature.properties.geoid10',\n",
    " fill_color='RdYlGn',\n",
    " fill_opacity=0.6,\n",
    " line_opacity=0.2,\n",
    " bins = bins,\n",
    " legend_name='Diff Private Share of Trips',\n",
    " highlight = True\n",
    ")\n",
    "\n",
    "folium.LayerControl().add_to(m)\n",
    "\n",
    "m.save('C:/Workspace/TNC-Demand-Model/Data Exploration/Private Shared Logit Model' + '/Difference_Private_Share.html')\n",
    "\n"
   ]
  },
  {
   "cell_type": "code",
   "execution_count": 549,
   "metadata": {},
   "outputs": [
    {
     "ename": "ValueError",
     "evalue": "RdGn is not a valid ColorBrewer code",
     "output_type": "error",
     "traceback": [
      "\u001b[1;31m---------------------------------------------------------------------------\u001b[0m",
      "\u001b[1;31mValueError\u001b[0m                                Traceback (most recent call last)",
      "\u001b[1;32m<ipython-input-549-cf258a8fb02d>\u001b[0m in \u001b[0;36m<module>\u001b[1;34m\u001b[0m\n\u001b[0;32m     23\u001b[0m  \u001b[1;31m#bins = bins,\u001b[0m\u001b[1;33m\u001b[0m\u001b[1;33m\u001b[0m\u001b[1;33m\u001b[0m\u001b[0m\n\u001b[0;32m     24\u001b[0m  \u001b[0mlegend_name\u001b[0m\u001b[1;33m=\u001b[0m\u001b[1;34m'Obs Private Number of Trips'\u001b[0m\u001b[1;33m,\u001b[0m\u001b[1;33m\u001b[0m\u001b[1;33m\u001b[0m\u001b[0m\n\u001b[1;32m---> 25\u001b[1;33m  \u001b[0mhighlight\u001b[0m \u001b[1;33m=\u001b[0m \u001b[1;32mTrue\u001b[0m\u001b[1;33m\u001b[0m\u001b[1;33m\u001b[0m\u001b[0m\n\u001b[0m\u001b[0;32m     26\u001b[0m )\n\u001b[0;32m     27\u001b[0m \u001b[1;33m\u001b[0m\u001b[0m\n",
      "\u001b[1;32m~\\Anaconda3\\lib\\site-packages\\folium\\folium.py\u001b[0m in \u001b[0;36mchoropleth\u001b[1;34m(self, *args, **kwargs)\u001b[0m\n\u001b[0;32m    416\u001b[0m         )\n\u001b[0;32m    417\u001b[0m         \u001b[1;32mfrom\u001b[0m \u001b[0mfolium\u001b[0m\u001b[1;33m.\u001b[0m\u001b[0mfeatures\u001b[0m \u001b[1;32mimport\u001b[0m \u001b[0mChoropleth\u001b[0m\u001b[1;33m\u001b[0m\u001b[1;33m\u001b[0m\u001b[0m\n\u001b[1;32m--> 418\u001b[1;33m         \u001b[0mself\u001b[0m\u001b[1;33m.\u001b[0m\u001b[0madd_child\u001b[0m\u001b[1;33m(\u001b[0m\u001b[0mChoropleth\u001b[0m\u001b[1;33m(\u001b[0m\u001b[1;33m*\u001b[0m\u001b[0margs\u001b[0m\u001b[1;33m,\u001b[0m \u001b[1;33m**\u001b[0m\u001b[0mkwargs\u001b[0m\u001b[1;33m)\u001b[0m\u001b[1;33m)\u001b[0m\u001b[1;33m\u001b[0m\u001b[1;33m\u001b[0m\u001b[0m\n\u001b[0m\u001b[0;32m    419\u001b[0m \u001b[1;33m\u001b[0m\u001b[0m\n\u001b[0;32m    420\u001b[0m     \u001b[1;32mdef\u001b[0m \u001b[0mkeep_in_front\u001b[0m\u001b[1;33m(\u001b[0m\u001b[0mself\u001b[0m\u001b[1;33m,\u001b[0m \u001b[1;33m*\u001b[0m\u001b[0margs\u001b[0m\u001b[1;33m)\u001b[0m\u001b[1;33m:\u001b[0m\u001b[1;33m\u001b[0m\u001b[1;33m\u001b[0m\u001b[0m\n",
      "\u001b[1;32m~\\Anaconda3\\lib\\site-packages\\folium\\features.py\u001b[0m in \u001b[0;36m__init__\u001b[1;34m(self, geo_data, data, columns, key_on, bins, fill_color, nan_fill_color, fill_opacity, nan_fill_opacity, line_color, line_weight, line_opacity, name, legend_name, overlay, control, show, topojson, smooth_factor, highlight, **kwargs)\u001b[0m\n\u001b[0;32m   1139\u001b[0m         \u001b[0mfill_color\u001b[0m \u001b[1;33m=\u001b[0m \u001b[0mfill_color\u001b[0m \u001b[1;32mor\u001b[0m \u001b[1;33m(\u001b[0m\u001b[1;34m'blue'\u001b[0m \u001b[1;32mif\u001b[0m \u001b[0mdata\u001b[0m \u001b[1;32mis\u001b[0m \u001b[1;32mNone\u001b[0m \u001b[1;32melse\u001b[0m \u001b[1;34m'Blues'\u001b[0m\u001b[1;33m)\u001b[0m\u001b[1;33m\u001b[0m\u001b[1;33m\u001b[0m\u001b[0m\n\u001b[0;32m   1140\u001b[0m \u001b[1;33m\u001b[0m\u001b[0m\n\u001b[1;32m-> 1141\u001b[1;33m         \u001b[1;32mif\u001b[0m \u001b[0mdata\u001b[0m \u001b[1;32mis\u001b[0m \u001b[1;32mnot\u001b[0m \u001b[1;32mNone\u001b[0m \u001b[1;32mand\u001b[0m \u001b[1;32mnot\u001b[0m \u001b[0mcolor_brewer\u001b[0m\u001b[1;33m(\u001b[0m\u001b[0mfill_color\u001b[0m\u001b[1;33m)\u001b[0m\u001b[1;33m:\u001b[0m\u001b[1;33m\u001b[0m\u001b[1;33m\u001b[0m\u001b[0m\n\u001b[0m\u001b[0;32m   1142\u001b[0m             raise ValueError('Please pass a valid color brewer code to '\n\u001b[0;32m   1143\u001b[0m                              'fill_local. See docstring for valid codes.')\n",
      "\u001b[1;32m~\\Anaconda3\\lib\\site-packages\\branca\\utilities.py\u001b[0m in \u001b[0;36mcolor_brewer\u001b[1;34m(color_code, n)\u001b[0m\n\u001b[0;32m    139\u001b[0m \u001b[1;33m\u001b[0m\u001b[0m\n\u001b[0;32m    140\u001b[0m     \u001b[1;32mif\u001b[0m \u001b[0mbase_code\u001b[0m \u001b[1;32mnot\u001b[0m \u001b[1;32min\u001b[0m \u001b[0mcore_schemes\u001b[0m\u001b[1;33m:\u001b[0m\u001b[1;33m\u001b[0m\u001b[1;33m\u001b[0m\u001b[0m\n\u001b[1;32m--> 141\u001b[1;33m         \u001b[1;32mraise\u001b[0m \u001b[0mValueError\u001b[0m\u001b[1;33m(\u001b[0m\u001b[0mbase_code\u001b[0m \u001b[1;33m+\u001b[0m \u001b[1;34m' is not a valid ColorBrewer code'\u001b[0m\u001b[1;33m)\u001b[0m\u001b[1;33m\u001b[0m\u001b[1;33m\u001b[0m\u001b[0m\n\u001b[0m\u001b[0;32m    142\u001b[0m \u001b[1;33m\u001b[0m\u001b[0m\n\u001b[0;32m    143\u001b[0m     \u001b[1;32mtry\u001b[0m\u001b[1;33m:\u001b[0m\u001b[1;33m\u001b[0m\u001b[1;33m\u001b[0m\u001b[0m\n",
      "\u001b[1;31mValueError\u001b[0m: RdGn is not a valid ColorBrewer code"
     ]
    }
   ],
   "source": [
    "# Initialize the map: \n",
    "m = folium.Map([41.8781, -87.6298], zoom_start=11)\n",
    "\n",
    "\n",
    "m = folium.Map([41.8781, -87.6298], zoom_start=11)\n",
    "\n",
    "\n",
    "\n",
    "#rh_tod_tract = rh_tod_tract.groupby(by = ['Pickup Census Tract','Dropoff Census Tract'], as_index = False).sum()\n",
    "\n",
    "#bins = [0, 0.25, 0.5, 0.75, 0.9, 1]\n",
    "\n",
    "# Add the color for the chloropleth:\n",
    "m.choropleth(\n",
    " geo_data=geo,\n",
    " name= 'Observed Private Total Trips',\n",
    " data=df2,\n",
    " columns = ['ORIGIN', 'OBSERVED_PRIVATE_TRIP'],\n",
    " key_on='feature.properties.geoid10',\n",
    " fill_color='RdGn',\n",
    " fill_opacity=0.6,\n",
    " line_opacity=0.2,\n",
    " #bins = bins,\n",
    " legend_name='Obs Private Number of Trips',\n",
    " highlight = True\n",
    ")\n",
    "\n",
    "#folium.LayerControl().add_to(m)\n",
    "\n",
    "feature_group = folium.FeatureGroup(name='Census Tract Centroids', show = False)\n",
    "\n",
    "for tract2 in centroids.GEOID:\n",
    "    row = centroids[centroids['GEOID'] == tract2]\n",
    "    folium.CircleMarker([row['Y'], row['X']], popup = str(int(row['GEOID'].values[0])), radius = 1, fill = True, fill_color = 'grey', color = 'grey').add_to(feature_group)\n",
    "\n",
    "m.add_child(feature_group)\n",
    "\n",
    "    \n",
    "folium.LayerControl().add_to(m)\n",
    "\n",
    "m.save('C:/Workspace/TNC-Demand-Model/Data Exploration/Private Shared Logit Model' + '/Observed_Private_Trips.html')\n",
    "\n"
   ]
  },
  {
   "cell_type": "code",
   "execution_count": 544,
   "metadata": {},
   "outputs": [],
   "source": [
    "# Initialize the map: \n",
    "m = folium.Map([41.8781, -87.6298], zoom_start=11)\n",
    "\n",
    "\n",
    "m = folium.Map([41.8781, -87.6298], zoom_start=11)\n",
    "\n",
    "\n",
    "\n",
    "#rh_tod_tract = rh_tod_tract.groupby(by = ['Pickup Census Tract','Dropoff Census Tract'], as_index = False).sum()\n",
    "\n",
    "#bins = [0, 0.25, 0.5, 0.75, 0.9, 1]\n",
    "\n",
    "# Add the color for the chloropleth:\n",
    "m.choropleth(\n",
    " geo_data=geo,\n",
    " name= 'Predicted Private Total Trips',\n",
    " data=df2,\n",
    " columns = ['ORIGIN', 'SHARED_PROBABILITY'],\n",
    " key_on='feature.properties.geoid10',\n",
    " fill_color='RdPu',\n",
    " fill_opacity=0.6,\n",
    " line_opacity=0.2,\n",
    " #bins = bins,\n",
    " legend_name='Pred Private Number of Trips',\n",
    " highlight = True\n",
    ")\n",
    "\n",
    "#folium.LayerControl().add_to(m)\n",
    "\n",
    "feature_group = folium.FeatureGroup(name='Census Tract Centroids', show = False)\n",
    "\n",
    "for tract2 in centroids.GEOID:\n",
    "    row = centroids[centroids['GEOID'] == tract2]\n",
    "    folium.CircleMarker([row['Y'], row['X']], popup = str(int(row['GEOID'].values[0])), radius = 1, fill = True, fill_color = 'grey', color = 'grey').add_to(feature_group)\n",
    "\n",
    "m.add_child(feature_group)\n",
    "\n",
    "    \n",
    "folium.LayerControl().add_to(m)\n",
    "\n",
    "m.save('C:/Workspace/TNC-Demand-Model/Data Exploration/Private Shared Logit Model' + '/Predicted_Private_Trips.html')\n",
    "\n"
   ]
  },
  {
   "cell_type": "code",
   "execution_count": 557,
   "metadata": {},
   "outputs": [],
   "source": [
    "# Initialize the map: \n",
    "m = folium.Map([41.8781, -87.6298], zoom_start=11)\n",
    "\n",
    "\n",
    "m = folium.Map([41.8781, -87.6298], zoom_start=11)\n",
    "\n",
    "\n",
    "\n",
    "#rh_tod_tract = rh_tod_tract.groupby(by = ['Pickup Census Tract','Dropoff Census Tract'], as_index = False).sum()\n",
    "\n",
    "bins = [-1500, -750, -250, 0, 250, 750]\n",
    "\n",
    "# Add the color for the chloropleth:\n",
    "m.choropleth(\n",
    " geo_data=geo,\n",
    " name= 'Private Total Trips Difference',\n",
    " data=df2,\n",
    " columns = ['ORIGIN', 'PRIVATE_TRIPS_DIFF'],\n",
    " key_on='feature.properties.geoid10',\n",
    " fill_color='RdYlGn',\n",
    " fill_opacity=0.6,\n",
    " line_opacity=0.2,\n",
    " bins = bins,\n",
    " legend_name='Private Number of Trips Difference',\n",
    " highlight = True\n",
    ")\n",
    "\n",
    "#folium.LayerControl().add_to(m)\n",
    "\n",
    "feature_group = folium.FeatureGroup(name='Census Tract Centroids', show = False)\n",
    "\n",
    "for tract2 in centroids.GEOID:\n",
    "    row = centroids[centroids['GEOID'] == tract2]\n",
    "    folium.CircleMarker([row['Y'], row['X']], popup = str(int(row['GEOID'].values[0])), radius = 1, fill = True, fill_color = 'grey', color = 'grey').add_to(feature_group)\n",
    "\n",
    "m.add_child(feature_group)\n",
    "\n",
    "    \n",
    "folium.LayerControl().add_to(m)\n",
    "\n",
    "m.save('C:/Workspace/TNC-Demand-Model/Data Exploration/Private Shared Logit Model' + '/Private_Trips_Difference.html')\n",
    "\n"
   ]
  },
  {
   "cell_type": "code",
   "execution_count": 381,
   "metadata": {},
   "outputs": [
    {
     "name": "stderr",
     "output_type": "stream",
     "text": [
      "C:\\Users\\ramu225\\Anaconda3\\lib\\site-packages\\folium\\folium.py:415: FutureWarning: The choropleth  method has been deprecated. Instead use the new Choropleth class, which has the same arguments. See the example notebook 'GeoJSON_and_choropleth' for how to do this.\n",
      "  FutureWarning\n"
     ]
    }
   ],
   "source": [
    "# Initialize the map: \n",
    "m = folium.Map([41.8781, -87.6298], zoom_start=11)\n",
    "\n",
    "\n",
    "m = folium.Map([41.8781, -87.6298], zoom_start=11)\n",
    "\n",
    "\n",
    "\n",
    "#rh_tod_tract = rh_tod_tract.groupby(by = ['Pickup Census Tract','Dropoff Census Tract'], as_index = False).sum()\n",
    "\n",
    "#bins = [0, 0.25, 0.5, 0.75, 0.9, 1]\n",
    "\n",
    "# Add the color for the chloropleth:\n",
    "m.choropleth(\n",
    " geo_data=geo,\n",
    " name= 'Observed Shared Total Trips',\n",
    " data=df2,\n",
    " columns = ['ORIGIN', 'OBSERVED_SHARED_TRIP'],\n",
    " key_on='feature.properties.geoid10',\n",
    " fill_color='RdPu',\n",
    " fill_opacity=0.6,\n",
    " line_opacity=0.2,\n",
    " #bins = bins,\n",
    " legend_name='Obs Shared Number of Trips',\n",
    " highlight = True\n",
    ")\n",
    "\n",
    "#folium.LayerControl().add_to(m)\n",
    "\n",
    "feature_group = folium.FeatureGroup(name='Census Tract Centroids', show = False)\n",
    "\n",
    "for tract2 in centroids.GEOID:\n",
    "    row = centroids[centroids['GEOID'] == tract2]\n",
    "    folium.CircleMarker([row['Y'], row['X']], popup = str(int(row['GEOID'].values[0])), radius = 1, fill = True, fill_color = 'grey', color = 'grey').add_to(feature_group)\n",
    "\n",
    "m.add_child(feature_group)\n",
    "\n",
    "    \n",
    "folium.LayerControl().add_to(m)\n",
    "\n",
    "m.save('C:/Workspace/TNC-Demand-Model/Data Exploration/Private Shared Logit Model' + '/Observed_Shared_Trips.html')\n",
    "\n"
   ]
  },
  {
   "cell_type": "code",
   "execution_count": 546,
   "metadata": {},
   "outputs": [
    {
     "name": "stderr",
     "output_type": "stream",
     "text": [
      "C:\\Users\\ramu225\\Anaconda3\\lib\\site-packages\\folium\\folium.py:415: FutureWarning: The choropleth  method has been deprecated. Instead use the new Choropleth class, which has the same arguments. See the example notebook 'GeoJSON_and_choropleth' for how to do this.\n",
      "  FutureWarning\n"
     ]
    }
   ],
   "source": [
    "# Initialize the map: \n",
    "m = folium.Map([41.8781, -87.6298], zoom_start=11)\n",
    "\n",
    "\n",
    "m = folium.Map([41.8781, -87.6298], zoom_start=11)\n",
    "\n",
    "\n",
    "\n",
    "#rh_tod_tract = rh_tod_tract.groupby(by = ['Pickup Census Tract','Dropoff Census Tract'], as_index = False).sum()\n",
    "\n",
    "#bins = [0, 0.25, 0.5, 0.75, 0.9, 1]\n",
    "\n",
    "# Add the color for the chloropleth:\n",
    "m.choropleth(\n",
    " geo_data=geo,\n",
    " name= 'Predicted Shared Total Trips',\n",
    " data=df2,\n",
    " columns = ['ORIGIN', 'SHARED_PROBABILITY'],\n",
    " key_on='feature.properties.geoid10',\n",
    " fill_color='RdPu',\n",
    " fill_opacity=0.6,\n",
    " line_opacity=0.2,\n",
    " #bins = bins,\n",
    " legend_name='Pred Shared Number of Trips',\n",
    " highlight = True\n",
    ")\n",
    "\n",
    "#folium.LayerControl().add_to(m)\n",
    "\n",
    "feature_group = folium.FeatureGroup(name='Census Tract Centroids', show = False)\n",
    "\n",
    "for tract2 in centroids.GEOID:\n",
    "    row = centroids[centroids['GEOID'] == tract2]\n",
    "    folium.CircleMarker([row['Y'], row['X']], popup = str(int(row['GEOID'].values[0])), radius = 1, fill = True, fill_color = 'grey', color = 'grey').add_to(feature_group)\n",
    "\n",
    "m.add_child(feature_group)\n",
    "\n",
    "    \n",
    "folium.LayerControl().add_to(m)\n",
    "\n",
    "m.save('C:/Workspace/TNC-Demand-Model/Data Exploration/Private Shared Logit Model' + '/Predicted_Shared_Trips.html')\n",
    "\n"
   ]
  },
  {
   "cell_type": "code",
   "execution_count": 384,
   "metadata": {},
   "outputs": [
    {
     "name": "stderr",
     "output_type": "stream",
     "text": [
      "C:\\Users\\ramu225\\Anaconda3\\lib\\site-packages\\folium\\folium.py:415: FutureWarning: The choropleth  method has been deprecated. Instead use the new Choropleth class, which has the same arguments. See the example notebook 'GeoJSON_and_choropleth' for how to do this.\n",
      "  FutureWarning\n"
     ]
    }
   ],
   "source": [
    "# Initialize the map: \n",
    "m = folium.Map([41.8781, -87.6298], zoom_start=11)\n",
    "\n",
    "\n",
    "m = folium.Map([41.8781, -87.6298], zoom_start=11)\n",
    "\n",
    "\n",
    "\n",
    "#rh_tod_tract = rh_tod_tract.groupby(by = ['Pickup Census Tract','Dropoff Census Tract'], as_index = False).sum()\n",
    "\n",
    "#bins = [0, 0.25, 0.5, 0.75, 0.9, 1]\n",
    "\n",
    "# Add the color for the chloropleth:\n",
    "m.choropleth(\n",
    " geo_data=geo,\n",
    " name= 'Shared Total Trips Difference',\n",
    " data=df2,\n",
    " columns = ['ORIGIN', 'SHARED_TRIPS_DIFF'],\n",
    " key_on='feature.properties.geoid10',\n",
    " fill_color='RdPu',\n",
    " fill_opacity=0.6,\n",
    " line_opacity=0.2,\n",
    " #bins = bins,\n",
    " legend_name='Shared Number of Trips Difference',\n",
    " highlight = True\n",
    ")\n",
    "\n",
    "#folium.LayerControl().add_to(m)\n",
    "\n",
    "feature_group = folium.FeatureGroup(name='Census Tract Centroids', show = False)\n",
    "\n",
    "for tract2 in centroids.GEOID:\n",
    "    row = centroids[centroids['GEOID'] == tract2]\n",
    "    folium.CircleMarker([row['Y'], row['X']], popup = str(int(row['GEOID'].values[0])), radius = 1, fill = True, fill_color = 'grey', color = 'grey').add_to(feature_group)\n",
    "\n",
    "m.add_child(feature_group)\n",
    "\n",
    "    \n",
    "folium.LayerControl().add_to(m)\n",
    "\n",
    "m.save('C:/Workspace/TNC-Demand-Model/Data Exploration/Private Shared Logit Model' + '/Shared_Trips_Difference.html')\n",
    "\n"
   ]
  },
  {
   "cell_type": "code",
   "execution_count": null,
   "metadata": {},
   "outputs": [],
   "source": []
  }
 ],
 "metadata": {
  "kernelspec": {
   "display_name": "Python 3",
   "language": "python",
   "name": "python3"
  },
  "language_info": {
   "codemirror_mode": {
    "name": "ipython",
    "version": 3
   },
   "file_extension": ".py",
   "mimetype": "text/x-python",
   "name": "python",
   "nbconvert_exporter": "python",
   "pygments_lexer": "ipython3",
   "version": "3.7.6"
  }
 },
 "nbformat": 4,
 "nbformat_minor": 4
}
