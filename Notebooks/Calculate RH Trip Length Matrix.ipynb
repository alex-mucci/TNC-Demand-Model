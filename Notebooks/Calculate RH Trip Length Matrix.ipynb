{
 "cells": [
  {
   "cell_type": "code",
   "execution_count": 15,
   "metadata": {},
   "outputs": [],
   "source": [
    "import pandas as pd\n",
    "import numpy as np"
   ]
  },
  {
   "cell_type": "code",
   "execution_count": 16,
   "metadata": {},
   "outputs": [],
   "source": [
    "df2 = pd.read_csv('C:/Workspace/TNC-Demand-Model/Outputs/Sample.csv', index_col = 0)"
   ]
  },
  {
   "cell_type": "code",
   "execution_count": 3,
   "metadata": {},
   "outputs": [
    {
     "data": {
      "text/plain": [
       "Index(['YEAR', 'MONTH', 'DOW', 'HOUR', 'ORIGIN', 'DESTINATION',\n",
       "       'TRAVEL_TIME_MINUTES', 'TRIP_LENGTH_MILES', 'ORIGIN_COM_AREA',\n",
       "       'DEST_COM_AREA', 'FARE', 'TIP', 'ADDITIONAL_CHARGES', 'TOTAL_COST',\n",
       "       'SHARED_FLAGGER', 'NUM_TRIPS_POOLED', 'SPEED', 'TRIP_ID',\n",
       "       'TRIP_START_TIME', 'TRIP_END_TIME', 'INTERNAL_UNSUPPRESSED_FLAGGER',\n",
       "       'INTERNAL_SUPPPRESSED_FLAGGER', 'EXTERNAL_FLAGGER',\n",
       "       'INTERNAL_EXTERNAL_FLAGGER', 'AIRPORT_FLAGGER', 'TOD_1', 'TOD_2',\n",
       "       'TOD_3', 'TOD_4', 'TOD_5', 'TRIP_TYPE'],\n",
       "      dtype='object')"
      ]
     },
     "execution_count": 3,
     "metadata": {},
     "output_type": "execute_result"
    }
   ],
   "source": [
    "df2.columns"
   ]
  },
  {
   "cell_type": "code",
   "execution_count": null,
   "metadata": {},
   "outputs": [],
   "source": []
  },
  {
   "cell_type": "code",
   "execution_count": 17,
   "metadata": {},
   "outputs": [],
   "source": [
    "df2['TOD'] = np.where(df2['TOD_1'] == 1, 1,0)"
   ]
  },
  {
   "cell_type": "code",
   "execution_count": 18,
   "metadata": {},
   "outputs": [],
   "source": [
    "df2['TOD'] = np.where(df2['TOD_2'] == 1, 2,df2['TOD'])\n",
    "df2['TOD'] = np.where(df2['TOD_3'] == 1, 3,df2['TOD'])\n",
    "df2['TOD'] = np.where(df2['TOD_4'] == 1, 4,df2['TOD'])\n",
    "df2['TOD'] = np.where(df2['TOD_5'] == 1, 5,df2['TOD'])"
   ]
  },
  {
   "cell_type": "code",
   "execution_count": 4,
   "metadata": {},
   "outputs": [],
   "source": [
    "df2 = df2[df2['NUM_TRIPS_POOLED'] == 1]"
   ]
  },
  {
   "cell_type": "code",
   "execution_count": 22,
   "metadata": {},
   "outputs": [],
   "source": [
    "df3 = df2[['ORIGIN','DESTINATION','TOD','TRIP_LENGTH_MILES']].groupby(by = ['ORIGIN', 'DESTINATION','TOD'], as_index = False).mean()"
   ]
  },
  {
   "cell_type": "code",
   "execution_count": 24,
   "metadata": {},
   "outputs": [],
   "source": [
    "df3.to_csv('C:/Workspace/TNC-Demand-Model/Outputs/Private_Unmatched_Trip_Length.csv')"
   ]
  },
  {
   "cell_type": "code",
   "execution_count": 21,
   "metadata": {},
   "outputs": [
    {
     "data": {
      "text/plain": [
       "192419"
      ]
     },
     "execution_count": 21,
     "metadata": {},
     "output_type": "execute_result"
    }
   ],
   "source": [
    "len(df3)"
   ]
  },
  {
   "cell_type": "code",
   "execution_count": null,
   "metadata": {},
   "outputs": [],
   "source": []
  },
  {
   "cell_type": "code",
   "execution_count": null,
   "metadata": {},
   "outputs": [],
   "source": []
  },
  {
   "cell_type": "code",
   "execution_count": null,
   "metadata": {},
   "outputs": [],
   "source": []
  },
  {
   "cell_type": "code",
   "execution_count": null,
   "metadata": {},
   "outputs": [],
   "source": []
  }
 ],
 "metadata": {
  "kernelspec": {
   "display_name": "Python 3",
   "language": "python",
   "name": "python3"
  },
  "language_info": {
   "codemirror_mode": {
    "name": "ipython",
    "version": 3
   },
   "file_extension": ".py",
   "mimetype": "text/x-python",
   "name": "python",
   "nbconvert_exporter": "python",
   "pygments_lexer": "ipython3",
   "version": "3.7.6"
  }
 },
 "nbformat": 4,
 "nbformat_minor": 4
}
