{
 "cells": [
  {
   "cell_type": "code",
   "execution_count": 4,
   "metadata": {},
   "outputs": [],
   "source": [
    "import pandas as pd\n",
    "import numpy as np\n",
    "import seaborn as sns"
   ]
  },
  {
   "cell_type": "code",
   "execution_count": null,
   "metadata": {},
   "outputs": [],
   "source": []
  },
  {
   "cell_type": "code",
   "execution_count": 5,
   "metadata": {},
   "outputs": [],
   "source": [
    "tods = [1,2,3,4,5]"
   ]
  },
  {
   "cell_type": "code",
   "execution_count": 6,
   "metadata": {},
   "outputs": [],
   "source": [
    "years = [2018,2019,2020]"
   ]
  },
  {
   "cell_type": "code",
   "execution_count": null,
   "metadata": {
    "scrolled": true
   },
   "outputs": [
    {
     "name": "stdout",
     "output_type": "stream",
     "text": [
      "Working on year 2018\n",
      "Working on month 11\n",
      "Working on tod 1\n",
      "Maximum Travel Time\n",
      "118.61666666666666\n",
      "Maximum Trip Length\n",
      "50.0\n",
      "Maximum Speed\n",
      "118.58823529411762\n",
      "Working on tod 2\n",
      "Maximum Travel Time\n",
      "119.9\n",
      "Maximum Trip Length\n",
      "50.0\n",
      "Maximum Speed\n",
      "113.87755102040818\n",
      "Working on tod 3\n",
      "Maximum Travel Time\n",
      "119.91666666666667\n",
      "Maximum Trip Length\n",
      "50.0\n",
      "Maximum Speed\n",
      "113.89090909090909\n",
      "Working on tod 4\n",
      "Maximum Travel Time\n",
      "119.86666666666666\n",
      "Maximum Trip Length\n",
      "50.0\n",
      "Maximum Speed\n",
      "111.06382978723404\n",
      "Working on tod 5\n",
      "Maximum Travel Time\n",
      "119.71666666666667\n",
      "Maximum Trip Length\n",
      "50.0\n",
      "Maximum Speed\n",
      "110.76923076923076\n",
      "Working on month 12\n",
      "Working on tod 1\n",
      "Maximum Travel Time\n",
      "117.8\n",
      "Maximum Trip Length\n",
      "50.0\n",
      "Maximum Speed\n",
      "111.23595505617978\n",
      "Working on tod 2\n",
      "Maximum Travel Time\n",
      "119.56666666666666\n",
      "Maximum Trip Length\n",
      "50.0\n",
      "Maximum Speed\n",
      "117.62376237623762\n",
      "Working on tod 3\n",
      "Maximum Travel Time\n",
      "120.0\n",
      "Maximum Trip Length\n",
      "50.0\n",
      "Maximum Speed\n",
      "116.07476635514018\n",
      "Working on tod 4\n",
      "Maximum Travel Time\n",
      "119.91666666666667\n",
      "Maximum Trip Length\n",
      "50.0\n",
      "Maximum Speed\n",
      "113.68421052631578\n",
      "Working on tod 5\n",
      "Maximum Travel Time\n",
      "119.65\n",
      "Maximum Trip Length\n",
      "50.0\n",
      "Maximum Speed\n",
      "116.75675675675674\n",
      "Working on year 2019\n",
      "Working on month 1\n",
      "Working on tod 1\n",
      "Maximum Travel Time\n",
      "119.9\n",
      "Maximum Trip Length\n",
      "50.0\n",
      "Maximum Speed\n",
      "115.2\n",
      "Working on tod 2\n",
      "Maximum Travel Time\n",
      "120.0\n",
      "Maximum Trip Length\n",
      "50.0\n",
      "Maximum Speed\n",
      "112.5\n",
      "Working on tod 3\n",
      "Maximum Travel Time\n",
      "119.95\n",
      "Maximum Trip Length\n",
      "50.0\n",
      "Maximum Speed\n",
      "117.76951672862455\n",
      "Working on tod 4\n",
      "Maximum Travel Time\n",
      "119.96666666666667\n",
      "Maximum Trip Length\n",
      "50.0\n",
      "Maximum Speed\n",
      "115.71428571428572\n",
      "Working on tod 5\n"
     ]
    }
   ],
   "source": [
    "df_all = pd.DataFrame()\n",
    "\n",
    "\n",
    "for year in years:\n",
    "    print('Working on year ' + str(year))\n",
    "    if year == 2018:\n",
    "        months = [11,12]\n",
    "    elif year == 2020:\n",
    "        months = [1,2]\n",
    "    else:\n",
    "        months = [1,2,3,4,5,6,7,8,9,10,11,12]\n",
    "        \n",
    "    for month in months:\n",
    "        print('Working on month ' + str(month))\n",
    "        \n",
    "        for tod in tods:\n",
    "            print('Working on tod ' + str(tod))\n",
    "\n",
    "            store = pd.HDFStore('C:/Workspace/TNC-Demand-Model/Outputs/Chicago_TNC_Trips_20.H5')\n",
    "            df = store.select(where = ['YEAR == ' + str(year), 'MONTH == ' + str(month)], key = 'Weekday_' + str(tod))\n",
    "            store.close()\n",
    "\n",
    "            df['TOD'] = tod\n",
    "\n",
    "            df = df[df['TRIP_LENGTH_MILES'] <= 50]\n",
    "            df = df[df['TRAVEL_TIME_MINUTES'] <= 120]\n",
    "\n",
    "            #drop the trips that have a trip length of 0 or travel time of 0 because they do not make sense\n",
    "            df = df[df['TRIP_LENGTH_MILES'] > 0]\n",
    "            df = df[df['TRAVEL_TIME_MINUTES'] > 0]\n",
    "\n",
    "            #filter out the trips that have an unreasonable speed\n",
    "            df = df[df['SPEED']<120]\n",
    "\n",
    "            print('Maximum Travel Time')\n",
    "            print(df['TRAVEL_TIME_MINUTES'].max())\n",
    "\n",
    "            print('Maximum Trip Length')\n",
    "            print(df['TRIP_LENGTH_MILES'].max())\n",
    "\n",
    "            print('Maximum Speed')\n",
    "            print(df['SPEED'].max())\n",
    "\n",
    "\n",
    "            #census tract 17031980000 replaces the trips assigned to census tract 17031770700 because they are likely misasigned.\n",
    "            #Census tract 17031980000 contains contains O'Hare airport and census tract is adjacent. The trips assigned to census tract 17031770700 are likely trips from the airport.\n",
    "            df.loc[df['ORIGIN'] == 17031770700, 'ORIGIN'] = 17031980000\n",
    "            df.loc[df['DESTINATION'] == 17031770700, 'DESTINATION'] = 17031980000\n",
    "\n",
    "\n",
    "            df = df[df['EXTERNAL_FLAGGER'] == 0]\n",
    "            df = df[df['INTERNAL_EXTERNAL_FLAGGER'] == 0]\n",
    "\n",
    "\n",
    "\n",
    "            df['PRIVATE_PICKUPS'] = np.where(df['SHARED_FLAGGER'] == 0, 1,0)\n",
    "            df['SHARED_PICKUPS'] = np.where(df['SHARED_FLAGGER'] == 1, 1,0)\n",
    "            df['PICKUPS'] = 1\n",
    "\n",
    "            df = df.groupby(by= ['ORIGIN','YEAR', 'MONTH','TOD'], as_index =False).sum()\n",
    "\n",
    "            df_all = df_all.append(df)\n",
    "\n",
    "df_all = df_all.groupby(by= ['ORIGIN','YEAR', 'MONTH','TOD'], as_index =False).sum()\n"
   ]
  },
  {
   "cell_type": "code",
   "execution_count": null,
   "metadata": {},
   "outputs": [],
   "source": []
  },
  {
   "cell_type": "code",
   "execution_count": null,
   "metadata": {},
   "outputs": [],
   "source": [
    "df_all.head()"
   ]
  },
  {
   "cell_type": "code",
   "execution_count": null,
   "metadata": {},
   "outputs": [],
   "source": []
  },
  {
   "cell_type": "code",
   "execution_count": null,
   "metadata": {},
   "outputs": [],
   "source": [
    "weekday.WEEKDAYS.sum()"
   ]
  },
  {
   "cell_type": "code",
   "execution_count": null,
   "metadata": {},
   "outputs": [],
   "source": []
  },
  {
   "cell_type": "code",
   "execution_count": null,
   "metadata": {},
   "outputs": [],
   "source": [
    "\n",
    "weekday = pd.read_csv('C:/Workspace/TNC-Demand-Model/Outputs/Number of Weekdays.csv')\n",
    "\n",
    "df2 = df_all.merge(weekday, on = ['YEAR','MONTH'])\n",
    "\n",
    "\n",
    "df2['AVG_WD_PICKUPS'] = df2['PICKUPS']/df2['WEEKDAYS']\n",
    "df2['AVG_WD_PRIVATE_PICKUPS'] = df2['PRIVATE_PICKUPS']/df2['WEEKDAYS']\n",
    "df2['AVG_WD_SHARED_PICKUPS'] = df2['SHARED_PICKUPS']/df2['WEEKDAYS']\n"
   ]
  },
  {
   "cell_type": "code",
   "execution_count": null,
   "metadata": {},
   "outputs": [],
   "source": [
    "empty = pd.read_csv('C:/Workspace/TNC-Demand-Model/Outputs/Empty_Chicago_Matrix.csv')"
   ]
  },
  {
   "cell_type": "code",
   "execution_count": null,
   "metadata": {},
   "outputs": [],
   "source": [
    "len(empty)"
   ]
  },
  {
   "cell_type": "code",
   "execution_count": null,
   "metadata": {},
   "outputs": [],
   "source": [
    "empty = empty.groupby(by =['YEAR','MONTH','TOD','ORIGIN'], as_index = False).first()"
   ]
  },
  {
   "cell_type": "code",
   "execution_count": null,
   "metadata": {},
   "outputs": [],
   "source": [
    "empty = empty.drop('DESTINATION', axis = 1)"
   ]
  },
  {
   "cell_type": "code",
   "execution_count": null,
   "metadata": {},
   "outputs": [],
   "source": [
    "empty['AIR_F'] = np.where((empty['ORIGIN'].isin([17031980000,17031980100])),1,0)"
   ]
  },
  {
   "cell_type": "code",
   "execution_count": null,
   "metadata": {},
   "outputs": [],
   "source": []
  },
  {
   "cell_type": "code",
   "execution_count": null,
   "metadata": {},
   "outputs": [],
   "source": []
  },
  {
   "cell_type": "code",
   "execution_count": null,
   "metadata": {},
   "outputs": [],
   "source": []
  },
  {
   "cell_type": "code",
   "execution_count": null,
   "metadata": {},
   "outputs": [],
   "source": []
  },
  {
   "cell_type": "code",
   "execution_count": null,
   "metadata": {},
   "outputs": [],
   "source": [
    "df2['AVG_WD_PICKUPS'].min()"
   ]
  },
  {
   "cell_type": "code",
   "execution_count": null,
   "metadata": {},
   "outputs": [],
   "source": [
    "df2['AVG_WD_PICKUPS'].mean()"
   ]
  },
  {
   "cell_type": "code",
   "execution_count": null,
   "metadata": {},
   "outputs": [],
   "source": [
    "df2['AVG_WD_PICKUPS'].max()"
   ]
  },
  {
   "cell_type": "code",
   "execution_count": null,
   "metadata": {},
   "outputs": [],
   "source": [
    "df2[(df2['MONTH'] == 11)&(df2['YEAR'] == 2018)]['AVG_WD_PICKUPS'].sum()"
   ]
  },
  {
   "cell_type": "code",
   "execution_count": null,
   "metadata": {},
   "outputs": [],
   "source": [
    "df2.TOD.unique()"
   ]
  },
  {
   "cell_type": "code",
   "execution_count": null,
   "metadata": {},
   "outputs": [],
   "source": []
  },
  {
   "cell_type": "code",
   "execution_count": null,
   "metadata": {},
   "outputs": [],
   "source": [
    "df2[['TOD','PICKUPS']].groupby(by = 'TOD').sum()/weekday.WEEKDAYS.sum()"
   ]
  },
  {
   "cell_type": "code",
   "execution_count": null,
   "metadata": {},
   "outputs": [],
   "source": []
  },
  {
   "cell_type": "code",
   "execution_count": null,
   "metadata": {},
   "outputs": [],
   "source": [
    "df_final[['MONTH','YEAR','PICKUPS']].groupby(by = ['MONTH','YEAR']).sum()/weekday.WEEKDAYS.sum()"
   ]
  },
  {
   "cell_type": "code",
   "execution_count": null,
   "metadata": {},
   "outputs": [],
   "source": []
  },
  {
   "cell_type": "code",
   "execution_count": null,
   "metadata": {},
   "outputs": [],
   "source": [
    "df2[['MONTH','YEAR','PICKUPS']].groupby(by = ['MONTH','YEAR']).sum()"
   ]
  },
  {
   "cell_type": "code",
   "execution_count": null,
   "metadata": {},
   "outputs": [],
   "source": [
    "len(df2)"
   ]
  },
  {
   "cell_type": "code",
   "execution_count": null,
   "metadata": {},
   "outputs": [],
   "source": []
  },
  {
   "cell_type": "code",
   "execution_count": null,
   "metadata": {},
   "outputs": [],
   "source": [
    "len(df_final)"
   ]
  },
  {
   "cell_type": "code",
   "execution_count": null,
   "metadata": {},
   "outputs": [],
   "source": [
    "df2['PICKUPS'].mean()"
   ]
  },
  {
   "cell_type": "code",
   "execution_count": null,
   "metadata": {},
   "outputs": [],
   "source": [
    "df2['PICKUPS'].max()"
   ]
  },
  {
   "cell_type": "code",
   "execution_count": null,
   "metadata": {},
   "outputs": [],
   "source": [
    "df2['PICKUPS'].min()"
   ]
  },
  {
   "cell_type": "code",
   "execution_count": null,
   "metadata": {},
   "outputs": [],
   "source": [
    "df2['PICKUPS'].sum()"
   ]
  },
  {
   "cell_type": "code",
   "execution_count": null,
   "metadata": {},
   "outputs": [],
   "source": [
    "len(empty)"
   ]
  },
  {
   "cell_type": "code",
   "execution_count": null,
   "metadata": {},
   "outputs": [],
   "source": [
    "df_final = empty.merge(df2, how ='left',on = ['ORIGIN','MONTH','YEAR','TOD'])"
   ]
  },
  {
   "cell_type": "code",
   "execution_count": null,
   "metadata": {},
   "outputs": [],
   "source": [
    "len(df_final)"
   ]
  },
  {
   "cell_type": "code",
   "execution_count": null,
   "metadata": {},
   "outputs": [],
   "source": [
    "df_final['PICKUPS'] = df_final['PICKUPS'].fillna(0)\n",
    "df_final['PRIVATE_PICKUPS'] = df_final['PRIVATE_PICKUPS'].fillna(0)\n",
    "df_final['SHARED_PICKUPS'] = df_final['SHARED_PICKUPS'].fillna(0)\n",
    "\n",
    "\n",
    "df_final['AVG_WD_PICKUPS'] = df_final['AVG_WD_PICKUPS'].fillna(0)\n",
    "df_final['AVG_WD_PRIVATE_PICKUPS'] = df_final['AVG_WD_PRIVATE_PICKUPS'].fillna(0)\n",
    "df_final['AVG_WD_SHARED_PICKUPS'] = df_final['AVG_WD_SHARED_PICKUPS'].fillna(0)"
   ]
  },
  {
   "cell_type": "code",
   "execution_count": null,
   "metadata": {},
   "outputs": [],
   "source": [
    "df_final.head()"
   ]
  },
  {
   "cell_type": "code",
   "execution_count": null,
   "metadata": {},
   "outputs": [],
   "source": [
    "acs = pd.read_csv('C:/Workspace/TNC-Demand-Model/Outputs/Chicago_ACS_Data.csv')"
   ]
  },
  {
   "cell_type": "code",
   "execution_count": null,
   "metadata": {},
   "outputs": [],
   "source": [
    "acs['HHLDS_LESS_35K'] = acs['TOTAL_HHLDS_LESS_10K'] + acs['TOTAL_HHLDS_10K_15K'] + acs['TOTAL_HHLDS_15K_25K'] + acs['TOTAL_HHLDS_25K_35K']\n",
    "acs['HHLDS_35K_150K'] = acs['TOTAL_HHLDS_35K_50K'] + acs['TOTAL_HHLDS_50K_75K'] + acs['TOTAL_HHLDS_75K_100K'] + acs['TOTAL_HHLDS_100K_150K']\n",
    "acs['HHLDS_MORE_150K'] =  acs['TOTAL_HHLDS_150K_200K'] + acs['TOTAL_HHLDS_200KP']"
   ]
  },
  {
   "cell_type": "code",
   "execution_count": null,
   "metadata": {},
   "outputs": [],
   "source": [
    "acs['T20_35'] = acs['AGE_20_24'] + acs['AGE_25_34']\n",
    "acs['T35_65'] = acs['AGE_35_44'] + acs['AGE_45_54'] + acs['AGE_55_59'] + acs['AGE_60_64']\n",
    "acs['T65P'] = acs['AGE_65_74'] + acs['AGE_75_84'] + acs['AGE_85P']\n",
    "\n",
    "\n",
    "acs['PER_20_35'] = (acs['T20_35']/acs['TOTAL_POP'])*100\n",
    "acs['PER_35_65'] = (acs['T35_65']/acs['TOTAL_POP'])*100\n",
    "acs['PER_65P'] = (acs['T65P']/acs['TOTAL_POP'])*100"
   ]
  },
  {
   "cell_type": "code",
   "execution_count": null,
   "metadata": {},
   "outputs": [],
   "source": [
    "acs['P_BACH_25P'] = (acs['TOTAL_POP_25P_BACHELORS_HIGHER']/acs['TOTAL_POP'])*100"
   ]
  },
  {
   "cell_type": "code",
   "execution_count": null,
   "metadata": {},
   "outputs": [],
   "source": [
    "acs2 = acs[['PER_20_35','P_BACH_25P','PER_35_65','PER_65P','YEAR','MONTH','TOD','CENSUS_TRACT','TOTAL_POP','TOTAL_HHLDS','AVG_HHLD_SIZE','HHLDS_MEAN_INCOME','HHLDS_LESS_35K','HHLDS_35K_150K','HHLDS_MORE_150K','HHLDS_0_VEH','AVG_VEH_PER_HHLD','HHLDS_MEDIAN_INCOME','TOTAL_POP_25P_BACHELORS_HIGHER','TOTAL_MALE', 'TOTAL_FEMALE','MEDIAN_AGE']]"
   ]
  },
  {
   "cell_type": "code",
   "execution_count": null,
   "metadata": {},
   "outputs": [],
   "source": [
    "acs2.head()"
   ]
  },
  {
   "cell_type": "code",
   "execution_count": null,
   "metadata": {},
   "outputs": [],
   "source": [
    "lehd = pd.read_csv('C:/Workspace/TNC-Demand-Model/Outputs/CHI_WAC.csv',index_col = 0)"
   ]
  },
  {
   "cell_type": "code",
   "execution_count": null,
   "metadata": {},
   "outputs": [],
   "source": [
    "lehd['TOTAL_EMP'] = lehd['CNS01'] + lehd['CNS02'] + lehd['CNS03'] + lehd['CNS04'] + lehd['CNS05'] + lehd['CNS06'] + lehd['CNS07'] + lehd['CNS08'] + lehd['CNS09'] + lehd['CNS10'] + lehd['CNS11'] + lehd['CNS12'] + lehd['CNS13'] + lehd['CNS14'] + lehd['CNS15'] + lehd['CNS16'] + lehd['CNS17'] + lehd['CNS18'] + lehd['CNS19'] + lehd['CNS20']"
   ]
  },
  {
   "cell_type": "code",
   "execution_count": null,
   "metadata": {},
   "outputs": [],
   "source": [
    "lehd['OTHER_EMP'] = lehd['CNS01'] + lehd['CNS02'] + lehd['CNS03'] + lehd['CNS04'] + lehd['CNS05'] + lehd['CNS06'] + lehd['CNS08'] + lehd['CNS09'] + lehd['CNS10'] + lehd['CNS11'] + lehd['CNS12'] + lehd['CNS13'] + lehd['CNS14'] + lehd['CNS15'] + lehd['CNS16'] + lehd['CNS17'] + lehd['CNS19'] + lehd['CNS20']"
   ]
  },
  {
   "cell_type": "code",
   "execution_count": null,
   "metadata": {},
   "outputs": [],
   "source": [
    "lehd['RETAIL_EMP'] = lehd['CNS07']"
   ]
  },
  {
   "cell_type": "code",
   "execution_count": null,
   "metadata": {},
   "outputs": [],
   "source": [
    "lehd['FOOD_EMP'] = lehd['CNS18']"
   ]
  },
  {
   "cell_type": "code",
   "execution_count": null,
   "metadata": {},
   "outputs": [],
   "source": [
    "lehd['PER_RETAIL'] = lehd['RETAIL_EMP']/lehd['TOTAL_EMP']\n",
    "lehd['PER_FOOD'] = lehd['FOOD_EMP']/lehd['TOTAL_EMP']\n",
    "lehd['PER_OTHER'] = lehd['OTHER_EMP']/lehd['TOTAL_EMP']"
   ]
  },
  {
   "cell_type": "code",
   "execution_count": null,
   "metadata": {},
   "outputs": [],
   "source": [
    "access = pd.read_csv('C:/Workspace/TNC-Demand-Model/Outputs/Trip_Generation_Accessibility_Variables.csv',index_col = 0)"
   ]
  },
  {
   "cell_type": "code",
   "execution_count": null,
   "metadata": {},
   "outputs": [],
   "source": []
  },
  {
   "cell_type": "code",
   "execution_count": null,
   "metadata": {},
   "outputs": [],
   "source": [
    "df_final = df_final.merge(access, on = ['ORIGIN','MONTH','YEAR','TOD'], how = 'left')"
   ]
  },
  {
   "cell_type": "code",
   "execution_count": null,
   "metadata": {},
   "outputs": [],
   "source": []
  },
  {
   "cell_type": "code",
   "execution_count": null,
   "metadata": {},
   "outputs": [],
   "source": [
    "df_final['TRACTCE10'] = df_final.ORIGIN.astype(str)\n",
    "df_final['TRACTCE10'] = df_final['TRACTCE10'].apply(lambda x : x[5:11])\n",
    "df_final['TRACTCE10'] = df_final['TRACTCE10'].astype(int)"
   ]
  },
  {
   "cell_type": "code",
   "execution_count": null,
   "metadata": {},
   "outputs": [],
   "source": []
  },
  {
   "cell_type": "code",
   "execution_count": null,
   "metadata": {},
   "outputs": [],
   "source": [
    "df_final = df_final.merge(lehd[['PER_OTHER','PER_FOOD','PER_RETAIL','TOTAL_EMP','RETAIL_EMP','OTHER_EMP','FOOD_EMP','TRACTCE10','MONTH','YEAR']], how = 'left', on = ['TRACTCE10','MONTH','YEAR'])"
   ]
  },
  {
   "cell_type": "code",
   "execution_count": null,
   "metadata": {},
   "outputs": [],
   "source": []
  },
  {
   "cell_type": "code",
   "execution_count": null,
   "metadata": {},
   "outputs": [],
   "source": [
    "df_final = df_final.merge(acs2, how = 'left', left_on = ['ORIGIN','MONTH','YEAR','TOD'], right_on = ['CENSUS_TRACT','MONTH','YEAR','TOD'])"
   ]
  },
  {
   "cell_type": "code",
   "execution_count": null,
   "metadata": {},
   "outputs": [],
   "source": []
  },
  {
   "cell_type": "code",
   "execution_count": null,
   "metadata": {},
   "outputs": [],
   "source": [
    "transit_access = pd.read_csv('C:/Workspace/TNC-Demand-Model/Outputs/Trip_Generation_Transit_Accessibility_Variables.csv', index_col = 0)"
   ]
  },
  {
   "cell_type": "code",
   "execution_count": null,
   "metadata": {},
   "outputs": [],
   "source": []
  },
  {
   "cell_type": "code",
   "execution_count": null,
   "metadata": {},
   "outputs": [],
   "source": []
  },
  {
   "cell_type": "code",
   "execution_count": null,
   "metadata": {},
   "outputs": [],
   "source": [
    "all_access = access.merge(transit_access, on = ['ORIGIN','MONTH','YEAR','TOD'], how = 'right', suffixes = ('_AUTO','_TRANSIT'))"
   ]
  },
  {
   "cell_type": "code",
   "execution_count": null,
   "metadata": {},
   "outputs": [],
   "source": [
    "log_sum = pd.read_csv('C:/Workspace/TNC-Demand-Model/Outputs/Trip_Generation_LOGSUM.csv', index_col = 0)"
   ]
  },
  {
   "cell_type": "code",
   "execution_count": null,
   "metadata": {},
   "outputs": [],
   "source": [
    "log_sum.head()"
   ]
  },
  {
   "cell_type": "code",
   "execution_count": null,
   "metadata": {},
   "outputs": [],
   "source": [
    "df_final = df_final.merge(log_sum, on = ['ORIGIN','MONTH','YEAR','TOD'], how = 'left')"
   ]
  },
  {
   "cell_type": "code",
   "execution_count": null,
   "metadata": {},
   "outputs": [],
   "source": [
    "df_final.head()"
   ]
  },
  {
   "cell_type": "code",
   "execution_count": null,
   "metadata": {},
   "outputs": [],
   "source": [
    "vars = ['TOTAL_EMP','RETAIL_EMP','OTHER_EMP','FOOD_SERVICES_EMP','TOTAL_POP','TOTAL_HHLDS','TOTAL_HHLDS_MORE_150K']"
   ]
  },
  {
   "cell_type": "code",
   "execution_count": null,
   "metadata": {},
   "outputs": [],
   "source": [
    "#for var in vars:\n",
    " #   print('Working on variable ' + var)\n",
    "  #  all_access[var + '_WITHIN_5_TRANSIT_AUTO_DIFF'] = all_access[var + '_WITHIN_5_TRANSIT'] - all_access[var + '_WITHIN_5_AUTO']\n",
    "   # all_access[var + '_WITHIN_15_TRANSIT_AUTO_DIFF'] = all_access[var + '_WITHIN_15_TRANSIT'] - all_access[var + '_WITHIN_15_AUTO']\n",
    "    #all_access[var + '_WITHIN_30_TRANSIT_AUTO_DIFF'] = all_access[var + '_WITHIN_30_TRANSIT'] - all_access[var + '_WITHIN_30_AUTO']\n",
    "    #all_access[var + '_WITHIN_45_TRANSIT_AUTO_DIFF'] = all_access[var + '_WITHIN_45_TRANSIT'] - all_access[var + '_WITHIN_45_AUTO']\n",
    "    #all_access[var + '_WITHIN_60_TRANSIT_AUTO_DIFF'] = all_access[var + '_WITHIN_60_TRANSIT'] - all_access[var + '_WITHIN_60_AUTO']"
   ]
  },
  {
   "cell_type": "code",
   "execution_count": null,
   "metadata": {},
   "outputs": [],
   "source": [
    "drop = [ 'TOTAL_POP_WITHIN_5_AUTO',\n",
    "       'TOTAL_POP_WITHIN_15_AUTO', 'TOTAL_POP_WITHIN_30_AUTO',\n",
    "       'TOTAL_POP_WITHIN_45_AUTO', 'TOTAL_POP_WITHIN_60_AUTO',\n",
    "       'TOTAL_HHLDS_MORE_150K_WITHIN_60_AUTO',\n",
    "       'TOTAL_HHLDS_MORE_150K_WITHIN_45_AUTO',\n",
    "       'TOTAL_HHLDS_MORE_150K_WITHIN_30_AUTO',\n",
    "       'TOTAL_HHLDS_MORE_150K_WITHIN_15_AUTO',\n",
    "       'TOTAL_HHLDS_MORE_150K_WITHIN_5_AUTO', 'TOTAL_HHLDS_WITHIN_60_AUTO',\n",
    "       'TOTAL_HHLDS_WITHIN_45_AUTO', 'TOTAL_HHLDS_WITHIN_30_AUTO',\n",
    "       'TOTAL_HHLDS_WITHIN_15_AUTO', 'TOTAL_HHLDS_WITHIN_5_AUTO',\n",
    "       'FOOD_SERVICES_EMP_WITHIN_60_AUTO', 'FOOD_SERVICES_EMP_WITHIN_45_AUTO',\n",
    "       'FOOD_SERVICES_EMP_WITHIN_30_AUTO', 'FOOD_SERVICES_EMP_WITHIN_15_AUTO',\n",
    "       'FOOD_SERVICES_EMP_WITHIN_5_AUTO', 'OTHER_EMP_WITHIN_60_AUTO',\n",
    "       'OTHER_EMP_WITHIN_45_AUTO', 'OTHER_EMP_WITHIN_30_AUTO',\n",
    "       'OTHER_EMP_WITHIN_15_AUTO', 'OTHER_EMP_WITHIN_5_AUTO',\n",
    "       'RETAIL_EMP_WITHIN_60_AUTO', 'RETAIL_EMP_WITHIN_45_AUTO',\n",
    "       'RETAIL_EMP_WITHIN_30_AUTO', 'RETAIL_EMP_WITHIN_15_AUTO',\n",
    "       'RETAIL_EMP_WITHIN_5_AUTO', 'TOTAL_EMP_WITHIN_60_AUTO',\n",
    "       'TOTAL_EMP_WITHIN_45_AUTO', 'TOTAL_EMP_WITHIN_30_AUTO',\n",
    "       'TOTAL_EMP_WITHIN_15_AUTO', 'TOTAL_EMP_WITHIN_5_AUTO',\n",
    "        'TOTAL_POP_WITHIN_5_TRANSIT',\n",
    "       'TOTAL_POP_WITHIN_15_TRANSIT', 'TOTAL_POP_WITHIN_30_TRANSIT',\n",
    "       'TOTAL_POP_WITHIN_45_TRANSIT', 'TOTAL_POP_WITHIN_60_TRANSIT',\n",
    "       'TOTAL_HHLDS_MORE_150K_WITHIN_60_TRANSIT',\n",
    "       'TOTAL_HHLDS_MORE_150K_WITHIN_45_TRANSIT',\n",
    "       'TOTAL_HHLDS_MORE_150K_WITHIN_30_TRANSIT',\n",
    "       'TOTAL_HHLDS_MORE_150K_WITHIN_15_TRANSIT',\n",
    "       'TOTAL_HHLDS_MORE_150K_WITHIN_5_TRANSIT',\n",
    "       'TOTAL_HHLDS_WITHIN_60_TRANSIT', 'TOTAL_HHLDS_WITHIN_45_TRANSIT',\n",
    "       'TOTAL_HHLDS_WITHIN_30_TRANSIT', 'TOTAL_HHLDS_WITHIN_15_TRANSIT',\n",
    "       'TOTAL_HHLDS_WITHIN_5_TRANSIT', 'FOOD_SERVICES_EMP_WITHIN_60_TRANSIT',\n",
    "       'FOOD_SERVICES_EMP_WITHIN_45_TRANSIT',\n",
    "       'FOOD_SERVICES_EMP_WITHIN_30_TRANSIT',\n",
    "       'FOOD_SERVICES_EMP_WITHIN_15_TRANSIT',\n",
    "       'FOOD_SERVICES_EMP_WITHIN_5_TRANSIT', 'OTHER_EMP_WITHIN_60_TRANSIT',\n",
    "       'OTHER_EMP_WITHIN_45_TRANSIT', 'OTHER_EMP_WITHIN_30_TRANSIT',\n",
    "       'OTHER_EMP_WITHIN_15_TRANSIT', 'OTHER_EMP_WITHIN_5_TRANSIT',\n",
    "       'RETAIL_EMP_WITHIN_60_TRANSIT', 'RETAIL_EMP_WITHIN_45_TRANSIT',\n",
    "       'RETAIL_EMP_WITHIN_30_TRANSIT', 'RETAIL_EMP_WITHIN_15_TRANSIT',\n",
    "       'RETAIL_EMP_WITHIN_5_TRANSIT', 'TOTAL_EMP_WITHIN_60_TRANSIT',\n",
    "       'TOTAL_EMP_WITHIN_45_TRANSIT', 'TOTAL_EMP_WITHIN_30_TRANSIT',\n",
    "       'TOTAL_EMP_WITHIN_15_TRANSIT', 'TOTAL_EMP_WITHIN_5_TRANSIT']"
   ]
  },
  {
   "cell_type": "code",
   "execution_count": null,
   "metadata": {},
   "outputs": [],
   "source": [
    "#all_access = all_access.drop(drop, axis = 1)"
   ]
  },
  {
   "cell_type": "code",
   "execution_count": null,
   "metadata": {},
   "outputs": [],
   "source": [
    "all_access.head()"
   ]
  },
  {
   "cell_type": "code",
   "execution_count": null,
   "metadata": {},
   "outputs": [],
   "source": [
    "df_final.TOD"
   ]
  },
  {
   "cell_type": "code",
   "execution_count": null,
   "metadata": {},
   "outputs": [],
   "source": [
    "df_final = df_final.merge(all_access, on = ['ORIGIN','MONTH','YEAR','TOD'])"
   ]
  },
  {
   "cell_type": "code",
   "execution_count": null,
   "metadata": {},
   "outputs": [],
   "source": [
    "df_final.head()"
   ]
  },
  {
   "cell_type": "code",
   "execution_count": null,
   "metadata": {},
   "outputs": [],
   "source": [
    "for col in df_final.columns:\n",
    "    print(col)"
   ]
  },
  {
   "cell_type": "code",
   "execution_count": null,
   "metadata": {},
   "outputs": [],
   "source": [
    "drop = ['SPEED','TRIP_LENGTH_MILES','TRAVEL_TIME_MINUTES']"
   ]
  },
  {
   "cell_type": "code",
   "execution_count": null,
   "metadata": {},
   "outputs": [],
   "source": [
    "df_final = df_final.drop(drop, axis = 1)"
   ]
  },
  {
   "cell_type": "code",
   "execution_count": null,
   "metadata": {},
   "outputs": [],
   "source": [
    "area = pd.read_csv('C:/Workspace/TNC-Demand-Model/Outputs/Census_Tracts_Area.csv')"
   ]
  },
  {
   "cell_type": "code",
   "execution_count": null,
   "metadata": {},
   "outputs": [],
   "source": [
    "df_final = df_final.merge(area[['CENSUS_TRACT','AREA_SQ_MI']], how = 'left', on = 'CENSUS_TRACT')"
   ]
  },
  {
   "cell_type": "code",
   "execution_count": null,
   "metadata": {},
   "outputs": [],
   "source": [
    "df_final['E_P'] = df_final['TOTAL_EMP'] + df_final['TOTAL_POP']"
   ]
  },
  {
   "cell_type": "code",
   "execution_count": null,
   "metadata": {},
   "outputs": [],
   "source": [
    "df_final['POP'] = df_final['TOTAL_POP']\n",
    "density_vars = ['TOTAL_EMP',\n",
    "'RETAIL_EMP',\n",
    "'OTHER_EMP',\n",
    "'FOOD_EMP',\n",
    "'POP',\n",
    "'TOTAL_HHLDS','E_P']\n",
    "\n",
    "for var in density_vars:\n",
    "    df_final[var + '_DEN'] = df_final[var]/df_final['AREA_SQ_MI']"
   ]
  },
  {
   "cell_type": "code",
   "execution_count": null,
   "metadata": {},
   "outputs": [],
   "source": [
    "df_final['TOD_1'] = np.where(df_final['TOD'] == 1, 1,0)\n",
    "df_final['TOD_2'] = np.where(df_final['TOD'] == 2, 1,0)\n",
    "df_final['TOD_3'] = np.where(df_final['TOD'] == 3, 1,0)\n",
    "df_final['TOD_4'] = np.where(df_final['TOD'] == 4, 1,0)\n",
    "df_final['TOD_5'] = np.where(df_final['TOD'] == 5, 1,0)"
   ]
  },
  {
   "cell_type": "code",
   "execution_count": null,
   "metadata": {},
   "outputs": [],
   "source": [
    "df_final['TOR_F'] = np.where((df_final['ORIGIN'].isin([17031081402,17031330100,17031841000])),1,0)"
   ]
  },
  {
   "cell_type": "code",
   "execution_count": null,
   "metadata": {},
   "outputs": [],
   "source": [
    "veh_inc = pd.read_csv('C:/Workspace/TNC-Demand-Model/Outputs/Formatted_Vehicle_Ownership_Income.csv', index_col = 0)"
   ]
  },
  {
   "cell_type": "code",
   "execution_count": null,
   "metadata": {},
   "outputs": [],
   "source": []
  },
  {
   "cell_type": "code",
   "execution_count": null,
   "metadata": {},
   "outputs": [],
   "source": [
    "df_final.head()"
   ]
  },
  {
   "cell_type": "code",
   "execution_count": null,
   "metadata": {},
   "outputs": [],
   "source": [
    "veh_inc.columns"
   ]
  },
  {
   "cell_type": "code",
   "execution_count": null,
   "metadata": {},
   "outputs": [],
   "source": [
    "veh_inc.columns = ['NAMELSAD10', 'GEOID10', 'Census Tract', 'LOW_INC_0', 'LOW_INC_1', 'LOW_INC_2',\n",
    "       'LOW_3P', 'HI_INC_0', \n",
    " 'HI_INC_1', 'HI_INC_2','HI_INC_3P', 'HI_INC_1P', 'LOW_INC_1P']"
   ]
  },
  {
   "cell_type": "code",
   "execution_count": null,
   "metadata": {},
   "outputs": [],
   "source": [
    "veh_inc.head()"
   ]
  },
  {
   "cell_type": "code",
   "execution_count": null,
   "metadata": {},
   "outputs": [],
   "source": [
    "df_final = df_final.merge(veh_inc, how = 'left', left_on = 'ORIGIN', right_on = 'GEOID10')"
   ]
  },
  {
   "cell_type": "code",
   "execution_count": null,
   "metadata": {},
   "outputs": [],
   "source": []
  },
  {
   "cell_type": "code",
   "execution_count": null,
   "metadata": {},
   "outputs": [],
   "source": [
    "variables = ['AIR_F','TOTAL_EMP',\n",
    "'RETAIL_EMP',\n",
    "'OTHER_EMP',\n",
    "'FOOD_EMP','TOTAL_POP','PER_RETAIL','PER_OTHER','PER_FOOD',\n",
    "'TOTAL_HHLDS',\n",
    "'AVG_HHLD_SIZE',\n",
    "'HHLDS_MEAN_INCOME',\n",
    "'HHLDS_LESS_35K',\n",
    "'HHLDS_35K_150K',\n",
    "'HHLDS_MORE_150K',\n",
    "'HHLDS_0_VEH',\n",
    "'AVG_VEH_PER_HHLD',\n",
    "'HHLDS_MEDIAN_INCOME',\n",
    "'TOTAL_POP_25P_BACHELORS_HIGHER',\n",
    "'TOTAL_MALE','TOR_F','PER_20_35','P_BACH_25P','PER_35_65','PER_65P',\n",
    "'TOTAL_FEMALE','LOGSUM','HI_INC_0','LOW_INC_0','HI_INC_1P','POP_DEN',\n",
    "'LOW_INC_1P','MEDIAN_AGE','E_P','E_P_DEN']\n",
    "\n",
    "#for var in variables:\n",
    " #   df2[var + '_1'] = df2[var]*df2['TOD_1']\n",
    "  #  df2[var + '_2'] = df2[var]*df2['TOD_2']\n",
    "   # df2[var + '_3'] = df2[var]*df2['TOD_3']\n",
    "    #df2[var + '_4'] = df2[var]*df2['TOD_4']\n",
    "    #df2[var + '_5'] = df2[var]*df2['TOD_5']"
   ]
  },
  {
   "cell_type": "code",
   "execution_count": null,
   "metadata": {},
   "outputs": [],
   "source": [
    "df_final = df_final.fillna(0)"
   ]
  },
  {
   "cell_type": "code",
   "execution_count": null,
   "metadata": {},
   "outputs": [],
   "source": [
    "df_final['ENTITY'] = df_final['CENSUS_TRACT']\n",
    "df_final['TIME'] = df_final['YEAR']*1000 + df_final['MONTH']*10 + df_final['TOD']"
   ]
  },
  {
   "cell_type": "code",
   "execution_count": null,
   "metadata": {},
   "outputs": [],
   "source": [
    "len(df_final[df_final['PICKUPS'] == 0])"
   ]
  },
  {
   "cell_type": "code",
   "execution_count": null,
   "metadata": {},
   "outputs": [],
   "source": [
    "len(df_final)"
   ]
  },
  {
   "cell_type": "code",
   "execution_count": null,
   "metadata": {},
   "outputs": [],
   "source": [
    "len(tod1)"
   ]
  },
  {
   "cell_type": "code",
   "execution_count": null,
   "metadata": {},
   "outputs": [],
   "source": [
    "len(tod2)"
   ]
  },
  {
   "cell_type": "code",
   "execution_count": null,
   "metadata": {},
   "outputs": [],
   "source": [
    "len(tod3)"
   ]
  },
  {
   "cell_type": "code",
   "execution_count": null,
   "metadata": {},
   "outputs": [],
   "source": [
    "df_final['JAN'] = np.where(df_final['MONTH'] == 1,1,0)\n",
    "df_final['FEB'] = np.where(df_final['MONTH'] == 2,1,0)\n",
    "df_final['MAR'] = np.where(df_final['MONTH'] == 3,1,0)\n",
    "df_final['APR'] = np.where(df_final['MONTH'] == 4,1,0)\n",
    "df_final['MAY'] = np.where(df_final['MONTH'] == 5,1,0)\n",
    "df_final['JUN'] = np.where(df_final['MONTH'] == 6,1,0)\n",
    "df_final['JUL'] = np.where(df_final['MONTH'] == 7,1,0)\n",
    "df_final['AUG'] = np.where(df_final['MONTH'] == 8,1,0)\n",
    "df_final['SEP'] = np.where(df_final['MONTH'] == 9,1,0)\n",
    "df_final['OCT'] = np.where(df_final['MONTH'] == 10,1,0)\n",
    "df_final['NOV'] = np.where(df_final['MONTH'] == 11,1,0)\n",
    "df_final['DEC'] = np.where(df_final['MONTH'] == 12,1,0)"
   ]
  },
  {
   "cell_type": "code",
   "execution_count": null,
   "metadata": {},
   "outputs": [],
   "source": [
    "tod1 = df_final[df_final['TOD'] == 1]\n",
    "tod2 = df_final[df_final['TOD'] == 2]\n",
    "tod3 = df_final[df_final['TOD'] == 3]\n",
    "tod4 = df_final[df_final['TOD'] == 4]\n",
    "tod5 = df_final[df_final['TOD'] == 5]\n"
   ]
  },
  {
   "cell_type": "code",
   "execution_count": null,
   "metadata": {
    "scrolled": true
   },
   "outputs": [],
   "source": [
    "tod1.to_csv('C:/Workspace/TNC-Demand-Model/Outputs/Trip_Generation_Origin_Estimation_File_TOD_1.csv')\n",
    "tod2.to_csv('C:/Workspace/TNC-Demand-Model/Outputs/Trip_Generation_Origin_Estimation_File_TOD_2.csv')\n",
    "tod3.to_csv('C:/Workspace/TNC-Demand-Model/Outputs/Trip_Generation_Origin_Estimation_File_TOD_3.csv')\n",
    "tod4.to_csv('C:/Workspace/TNC-Demand-Model/Outputs/Trip_Generation_Origin_Estimation_File_TOD_4.csv')\n",
    "tod5.to_csv('C:/Workspace/TNC-Demand-Model/Outputs/Trip_Generation_Origin_Estimation_File_TOD_5.csv')"
   ]
  },
  {
   "cell_type": "code",
   "execution_count": null,
   "metadata": {},
   "outputs": [],
   "source": [
    "#tod1[['MONTH','YEAR','AVG_WD_PICKUPS']].groupby(by = ['MONTH','YEAR']).sum()"
   ]
  },
  {
   "cell_type": "code",
   "execution_count": null,
   "metadata": {},
   "outputs": [],
   "source": []
  },
  {
   "cell_type": "code",
   "execution_count": 91,
   "metadata": {},
   "outputs": [
    {
     "data": {
      "text/plain": [
       "12367166.0"
      ]
     },
     "execution_count": 91,
     "metadata": {},
     "output_type": "execute_result"
    }
   ],
   "source": [
    "tod2.PICKUPS.sum()"
   ]
  },
  {
   "cell_type": "code",
   "execution_count": 93,
   "metadata": {},
   "outputs": [
    {
     "data": {
      "text/plain": [
       "<matplotlib.axes._subplots.AxesSubplot at 0x280a16e8d48>"
      ]
     },
     "execution_count": 93,
     "metadata": {},
     "output_type": "execute_result"
    },
    {
     "data": {
      "image/png": "[encoded data removed]",
      "text/plain": [
       "<Figure size 432x288 with 1 Axes>"
      ]
     },
     "metadata": {
      "needs_background": "light"
     },
     "output_type": "display_data"
    }
   ],
   "source": [
    "sns.scatterplot(y = df_final['PICKUPS'], x = df_final['E_P_DEN'], alpha = 0.1)"
   ]
  },
  {
   "cell_type": "code",
   "execution_count": 323,
   "metadata": {},
   "outputs": [],
   "source": [
    "#df2 = df2[df2['ORIGIN'] != 17031030702]"
   ]
  },
  {
   "cell_type": "code",
   "execution_count": 324,
   "metadata": {},
   "outputs": [
    {
     "data": {
      "text/plain": [
       "<matplotlib.axes._subplots.AxesSubplot at 0x1e31d61f2c8>"
      ]
     },
     "execution_count": 324,
     "metadata": {},
     "output_type": "execute_result"
    },
    {
     "data": {
      "image/png": "[encoded data removed]",
      "text/plain": [
       "<Figure size 432x288 with 1 Axes>"
      ]
     },
     "metadata": {
      "needs_background": "light"
     },
     "output_type": "display_data"
    }
   ],
   "source": [
    "sns.scatterplot(y = df2['PICKUPS'], x = df2['E_P_DEN'], hue = df2['TOD'])"
   ]
  },
  {
   "cell_type": "code",
   "execution_count": 325,
   "metadata": {},
   "outputs": [
    {
     "data": {
      "text/plain": [
       "<matplotlib.axes._subplots.AxesSubplot at 0x1e31d632f48>"
      ]
     },
     "execution_count": 325,
     "metadata": {},
     "output_type": "execute_result"
    },
    {
     "data": {
      "image/png": "[encoded data removed]",
      "text/plain": [
       "<Figure size 432x288 with 1 Axes>"
      ]
     },
     "metadata": {
      "needs_background": "light"
     },
     "output_type": "display_data"
    }
   ],
   "source": [
    "sns.regplot(y = df2['PICKUPS'], x = df2['E_P_DEN'])"
   ]
  },
  {
   "cell_type": "code",
   "execution_count": null,
   "metadata": {},
   "outputs": [],
   "source": []
  },
  {
   "cell_type": "code",
   "execution_count": null,
   "metadata": {},
   "outputs": [],
   "source": []
  },
  {
   "cell_type": "code",
   "execution_count": null,
   "metadata": {},
   "outputs": [],
   "source": []
  },
  {
   "cell_type": "code",
   "execution_count": null,
   "metadata": {},
   "outputs": [],
   "source": []
  },
  {
   "cell_type": "code",
   "execution_count": null,
   "metadata": {},
   "outputs": [],
   "source": []
  },
  {
   "cell_type": "code",
   "execution_count": null,
   "metadata": {},
   "outputs": [],
   "source": []
  },
  {
   "cell_type": "code",
   "execution_count": null,
   "metadata": {},
   "outputs": [],
   "source": []
  },
  {
   "cell_type": "code",
   "execution_count": null,
   "metadata": {},
   "outputs": [],
   "source": []
  },
  {
   "cell_type": "code",
   "execution_count": null,
   "metadata": {},
   "outputs": [],
   "source": []
  },
  {
   "cell_type": "code",
   "execution_count": null,
   "metadata": {},
   "outputs": [],
   "source": []
  },
  {
   "cell_type": "code",
   "execution_count": null,
   "metadata": {},
   "outputs": [],
   "source": []
  },
  {
   "cell_type": "code",
   "execution_count": null,
   "metadata": {},
   "outputs": [],
   "source": []
  },
  {
   "cell_type": "code",
   "execution_count": null,
   "metadata": {},
   "outputs": [],
   "source": []
  },
  {
   "cell_type": "code",
   "execution_count": null,
   "metadata": {},
   "outputs": [],
   "source": []
  },
  {
   "cell_type": "code",
   "execution_count": null,
   "metadata": {},
   "outputs": [],
   "source": []
  },
  {
   "cell_type": "code",
   "execution_count": null,
   "metadata": {},
   "outputs": [],
   "source": []
  },
  {
   "cell_type": "code",
   "execution_count": null,
   "metadata": {},
   "outputs": [],
   "source": []
  },
  {
   "cell_type": "code",
   "execution_count": null,
   "metadata": {},
   "outputs": [],
   "source": []
  },
  {
   "cell_type": "code",
   "execution_count": null,
   "metadata": {},
   "outputs": [],
   "source": []
  },
  {
   "cell_type": "code",
   "execution_count": null,
   "metadata": {},
   "outputs": [],
   "source": []
  },
  {
   "cell_type": "code",
   "execution_count": null,
   "metadata": {},
   "outputs": [],
   "source": []
  },
  {
   "cell_type": "code",
   "execution_count": null,
   "metadata": {},
   "outputs": [],
   "source": []
  },
  {
   "cell_type": "code",
   "execution_count": null,
   "metadata": {},
   "outputs": [],
   "source": []
  },
  {
   "cell_type": "code",
   "execution_count": null,
   "metadata": {},
   "outputs": [],
   "source": []
  },
  {
   "cell_type": "code",
   "execution_count": null,
   "metadata": {},
   "outputs": [],
   "source": []
  },
  {
   "cell_type": "code",
   "execution_count": null,
   "metadata": {},
   "outputs": [],
   "source": []
  },
  {
   "cell_type": "code",
   "execution_count": null,
   "metadata": {},
   "outputs": [],
   "source": []
  },
  {
   "cell_type": "code",
   "execution_count": null,
   "metadata": {},
   "outputs": [],
   "source": []
  }
 ],
 "metadata": {
  "kernelspec": {
   "display_name": "Python 3",
   "language": "python",
   "name": "python3"
  },
  "language_info": {
   "codemirror_mode": {
    "name": "ipython",
    "version": 3
   },
   "file_extension": ".py",
   "mimetype": "text/x-python",
   "name": "python",
   "nbconvert_exporter": "python",
   "pygments_lexer": "ipython3",
   "version": "3.7.6"
  }
 },
 "nbformat": 4,
 "nbformat_minor": 4
}
