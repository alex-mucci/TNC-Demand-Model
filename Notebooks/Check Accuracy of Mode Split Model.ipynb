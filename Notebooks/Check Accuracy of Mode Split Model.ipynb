{
 "cells": [
  {
   "cell_type": "code",
   "execution_count": 134,
   "metadata": {},
   "outputs": [],
   "source": [
    "import pandas as pd\n",
    "import numpy as np\n",
    "import geopandas as gp"
   ]
  },
  {
   "cell_type": "code",
   "execution_count": 67,
   "metadata": {},
   "outputs": [],
   "source": [
    "#total pickups by TOD\n",
    "#choropleth of pickups shared/private by TOD\n",
    "\n",
    "obs = pd.read_csv('C:/Workspace/TNC-Demand-Model/Outputs/Sample.csv', index_col = 0)"
   ]
  },
  {
   "cell_type": "code",
   "execution_count": 31,
   "metadata": {},
   "outputs": [
    {
     "data": {
      "text/html": [
       "<div>\n",
       "<style scoped>\n",
       "    .dataframe tbody tr th:only-of-type {\n",
       "        vertical-align: middle;\n",
       "    }\n",
       "\n",
       "    .dataframe tbody tr th {\n",
       "        vertical-align: top;\n",
       "    }\n",
       "\n",
       "    .dataframe thead th {\n",
       "        text-align: right;\n",
       "    }\n",
       "</style>\n",
       "<table border=\"1\" class=\"dataframe\">\n",
       "  <thead>\n",
       "    <tr style=\"text-align: right;\">\n",
       "      <th></th>\n",
       "      <th>YEAR</th>\n",
       "      <th>MONTH</th>\n",
       "      <th>DOW</th>\n",
       "      <th>HOUR</th>\n",
       "      <th>ORIGIN</th>\n",
       "      <th>DESTINATION</th>\n",
       "      <th>TRAVEL_TIME_MINUTES</th>\n",
       "      <th>TRIP_LENGTH_MILES</th>\n",
       "      <th>ORIGIN_COM_AREA</th>\n",
       "      <th>DEST_COM_AREA</th>\n",
       "      <th>...</th>\n",
       "      <th>INTERNAL_SUPPPRESSED_FLAGGER</th>\n",
       "      <th>EXTERNAL_FLAGGER</th>\n",
       "      <th>INTERNAL_EXTERNAL_FLAGGER</th>\n",
       "      <th>AIRPORT_FLAGGER</th>\n",
       "      <th>TOD_1</th>\n",
       "      <th>TOD_2</th>\n",
       "      <th>TOD_3</th>\n",
       "      <th>TOD_4</th>\n",
       "      <th>TOD_5</th>\n",
       "      <th>TRIP_TYPE</th>\n",
       "    </tr>\n",
       "  </thead>\n",
       "  <tbody>\n",
       "    <tr>\n",
       "      <th>77270553</th>\n",
       "      <td>2019</td>\n",
       "      <td>8</td>\n",
       "      <td>0</td>\n",
       "      <td>5</td>\n",
       "      <td>1.703106e+10</td>\n",
       "      <td>1.703116e+10</td>\n",
       "      <td>29.150000</td>\n",
       "      <td>7.7</td>\n",
       "      <td>6.0</td>\n",
       "      <td>16.0</td>\n",
       "      <td>...</td>\n",
       "      <td>0</td>\n",
       "      <td>0</td>\n",
       "      <td>0</td>\n",
       "      <td>0</td>\n",
       "      <td>1</td>\n",
       "      <td>0</td>\n",
       "      <td>0</td>\n",
       "      <td>0</td>\n",
       "      <td>0</td>\n",
       "      <td>Internal Unsuppressed</td>\n",
       "    </tr>\n",
       "    <tr>\n",
       "      <th>21472972</th>\n",
       "      <td>2019</td>\n",
       "      <td>10</td>\n",
       "      <td>0</td>\n",
       "      <td>5</td>\n",
       "      <td>1.703107e+10</td>\n",
       "      <td>1.703184e+10</td>\n",
       "      <td>11.666667</td>\n",
       "      <td>4.8</td>\n",
       "      <td>7.0</td>\n",
       "      <td>32.0</td>\n",
       "      <td>...</td>\n",
       "      <td>0</td>\n",
       "      <td>0</td>\n",
       "      <td>0</td>\n",
       "      <td>0</td>\n",
       "      <td>1</td>\n",
       "      <td>0</td>\n",
       "      <td>0</td>\n",
       "      <td>0</td>\n",
       "      <td>0</td>\n",
       "      <td>Internal Unsuppressed</td>\n",
       "    </tr>\n",
       "    <tr>\n",
       "      <th>46169129</th>\n",
       "      <td>2019</td>\n",
       "      <td>11</td>\n",
       "      <td>3</td>\n",
       "      <td>22</td>\n",
       "      <td>1.703108e+10</td>\n",
       "      <td>1.703106e+10</td>\n",
       "      <td>9.933333</td>\n",
       "      <td>4.2</td>\n",
       "      <td>8.0</td>\n",
       "      <td>6.0</td>\n",
       "      <td>...</td>\n",
       "      <td>0</td>\n",
       "      <td>0</td>\n",
       "      <td>0</td>\n",
       "      <td>0</td>\n",
       "      <td>1</td>\n",
       "      <td>0</td>\n",
       "      <td>0</td>\n",
       "      <td>0</td>\n",
       "      <td>0</td>\n",
       "      <td>Internal Unsuppressed</td>\n",
       "    </tr>\n",
       "    <tr>\n",
       "      <th>139246972</th>\n",
       "      <td>2019</td>\n",
       "      <td>5</td>\n",
       "      <td>0</td>\n",
       "      <td>5</td>\n",
       "      <td>1.703119e+10</td>\n",
       "      <td>1.703119e+10</td>\n",
       "      <td>18.916667</td>\n",
       "      <td>5.9</td>\n",
       "      <td>25.0</td>\n",
       "      <td>11.0</td>\n",
       "      <td>...</td>\n",
       "      <td>1</td>\n",
       "      <td>0</td>\n",
       "      <td>0</td>\n",
       "      <td>0</td>\n",
       "      <td>1</td>\n",
       "      <td>0</td>\n",
       "      <td>0</td>\n",
       "      <td>0</td>\n",
       "      <td>0</td>\n",
       "      <td>Internal Suppressed</td>\n",
       "    </tr>\n",
       "    <tr>\n",
       "      <th>57123553</th>\n",
       "      <td>2020</td>\n",
       "      <td>2</td>\n",
       "      <td>0</td>\n",
       "      <td>22</td>\n",
       "      <td>1.703122e+10</td>\n",
       "      <td>1.703122e+10</td>\n",
       "      <td>9.733333</td>\n",
       "      <td>2.7</td>\n",
       "      <td>48.0</td>\n",
       "      <td>69.0</td>\n",
       "      <td>...</td>\n",
       "      <td>1</td>\n",
       "      <td>0</td>\n",
       "      <td>0</td>\n",
       "      <td>0</td>\n",
       "      <td>1</td>\n",
       "      <td>0</td>\n",
       "      <td>0</td>\n",
       "      <td>0</td>\n",
       "      <td>0</td>\n",
       "      <td>Internal Suppressed</td>\n",
       "    </tr>\n",
       "  </tbody>\n",
       "</table>\n",
       "<p>5 rows × 31 columns</p>\n",
       "</div>"
      ],
      "text/plain": [
       "           YEAR  MONTH  DOW  HOUR        ORIGIN   DESTINATION  \\\n",
       "77270553   2019      8    0     5  1.703106e+10  1.703116e+10   \n",
       "21472972   2019     10    0     5  1.703107e+10  1.703184e+10   \n",
       "46169129   2019     11    3    22  1.703108e+10  1.703106e+10   \n",
       "139246972  2019      5    0     5  1.703119e+10  1.703119e+10   \n",
       "57123553   2020      2    0    22  1.703122e+10  1.703122e+10   \n",
       "\n",
       "           TRAVEL_TIME_MINUTES  TRIP_LENGTH_MILES  ORIGIN_COM_AREA  \\\n",
       "77270553             29.150000                7.7              6.0   \n",
       "21472972             11.666667                4.8              7.0   \n",
       "46169129              9.933333                4.2              8.0   \n",
       "139246972            18.916667                5.9             25.0   \n",
       "57123553              9.733333                2.7             48.0   \n",
       "\n",
       "           DEST_COM_AREA  ...  INTERNAL_SUPPPRESSED_FLAGGER  EXTERNAL_FLAGGER  \\\n",
       "77270553            16.0  ...                             0                 0   \n",
       "21472972            32.0  ...                             0                 0   \n",
       "46169129             6.0  ...                             0                 0   \n",
       "139246972           11.0  ...                             1                 0   \n",
       "57123553            69.0  ...                             1                 0   \n",
       "\n",
       "           INTERNAL_EXTERNAL_FLAGGER  AIRPORT_FLAGGER  TOD_1  TOD_2  TOD_3  \\\n",
       "77270553                           0                0      1      0      0   \n",
       "21472972                           0                0      1      0      0   \n",
       "46169129                           0                0      1      0      0   \n",
       "139246972                          0                0      1      0      0   \n",
       "57123553                           0                0      1      0      0   \n",
       "\n",
       "          TOD_4 TOD_5              TRIP_TYPE  \n",
       "77270553      0     0  Internal Unsuppressed  \n",
       "21472972      0     0  Internal Unsuppressed  \n",
       "46169129      0     0  Internal Unsuppressed  \n",
       "139246972     0     0    Internal Suppressed  \n",
       "57123553      0     0    Internal Suppressed  \n",
       "\n",
       "[5 rows x 31 columns]"
      ]
     },
     "execution_count": 31,
     "metadata": {},
     "output_type": "execute_result"
    }
   ],
   "source": [
    "obs.head()"
   ]
  },
  {
   "cell_type": "code",
   "execution_count": 68,
   "metadata": {},
   "outputs": [],
   "source": [
    "obs['TOD'] = np.where(obs['TOD_1'] == 1,1,np.nan)\n",
    "obs['TOD'] = np.where(obs['TOD_2'] == 1,2,obs['TOD'])\n",
    "obs['TOD'] = np.where(obs['TOD_3'] == 1,3,obs['TOD'])\n",
    "obs['TOD'] = np.where(obs['TOD_4'] == 1,4,obs['TOD'])\n",
    "obs['TOD'] = np.where(obs['TOD_5'] == 1,5,obs['TOD'])"
   ]
  },
  {
   "cell_type": "code",
   "execution_count": 69,
   "metadata": {},
   "outputs": [],
   "source": [
    "obs['PRIVATE_TRIPS'] = np.where(obs['SHARED_FLAGGER'] == 1, 0,1)\n",
    "obs['SHARED_TRIPS'] = np.where(obs['SHARED_FLAGGER'] == 1, 1,0)"
   ]
  },
  {
   "cell_type": "code",
   "execution_count": 70,
   "metadata": {},
   "outputs": [],
   "source": [
    "obs = obs[['YEAR','MONTH','DOW','ORIGIN','DESTINATION','SHARED_TRIPS','PRIVATE_TRIPS','TOD']].groupby(by = ['YEAR','MONTH','DOW','ORIGIN','DESTINATION','TOD'], as_index = False).sum()"
   ]
  },
  {
   "cell_type": "code",
   "execution_count": 35,
   "metadata": {},
   "outputs": [
    {
     "data": {
      "text/html": [
       "<div>\n",
       "<style scoped>\n",
       "    .dataframe tbody tr th:only-of-type {\n",
       "        vertical-align: middle;\n",
       "    }\n",
       "\n",
       "    .dataframe tbody tr th {\n",
       "        vertical-align: top;\n",
       "    }\n",
       "\n",
       "    .dataframe thead th {\n",
       "        text-align: right;\n",
       "    }\n",
       "</style>\n",
       "<table border=\"1\" class=\"dataframe\">\n",
       "  <thead>\n",
       "    <tr style=\"text-align: right;\">\n",
       "      <th></th>\n",
       "      <th>YEAR</th>\n",
       "      <th>MONTH</th>\n",
       "      <th>DOW</th>\n",
       "      <th>ORIGIN</th>\n",
       "      <th>DESTINATION</th>\n",
       "      <th>TOD</th>\n",
       "      <th>SHARED_TRIPS</th>\n",
       "      <th>PRIVATE_TRIPS</th>\n",
       "    </tr>\n",
       "  </thead>\n",
       "  <tbody>\n",
       "    <tr>\n",
       "      <th>0</th>\n",
       "      <td>2018</td>\n",
       "      <td>11</td>\n",
       "      <td>0</td>\n",
       "      <td>1.703101e+10</td>\n",
       "      <td>1.703101e+10</td>\n",
       "      <td>3.0</td>\n",
       "      <td>0</td>\n",
       "      <td>1</td>\n",
       "    </tr>\n",
       "    <tr>\n",
       "      <th>1</th>\n",
       "      <td>2018</td>\n",
       "      <td>11</td>\n",
       "      <td>0</td>\n",
       "      <td>1.703101e+10</td>\n",
       "      <td>1.703101e+10</td>\n",
       "      <td>5.0</td>\n",
       "      <td>0</td>\n",
       "      <td>1</td>\n",
       "    </tr>\n",
       "    <tr>\n",
       "      <th>2</th>\n",
       "      <td>2018</td>\n",
       "      <td>11</td>\n",
       "      <td>0</td>\n",
       "      <td>1.703101e+10</td>\n",
       "      <td>1.703101e+10</td>\n",
       "      <td>5.0</td>\n",
       "      <td>0</td>\n",
       "      <td>1</td>\n",
       "    </tr>\n",
       "    <tr>\n",
       "      <th>3</th>\n",
       "      <td>2018</td>\n",
       "      <td>11</td>\n",
       "      <td>0</td>\n",
       "      <td>1.703101e+10</td>\n",
       "      <td>1.703101e+10</td>\n",
       "      <td>3.0</td>\n",
       "      <td>1</td>\n",
       "      <td>0</td>\n",
       "    </tr>\n",
       "    <tr>\n",
       "      <th>4</th>\n",
       "      <td>2018</td>\n",
       "      <td>11</td>\n",
       "      <td>0</td>\n",
       "      <td>1.703101e+10</td>\n",
       "      <td>1.703101e+10</td>\n",
       "      <td>3.0</td>\n",
       "      <td>0</td>\n",
       "      <td>1</td>\n",
       "    </tr>\n",
       "  </tbody>\n",
       "</table>\n",
       "</div>"
      ],
      "text/plain": [
       "   YEAR  MONTH  DOW        ORIGIN   DESTINATION  TOD  SHARED_TRIPS  \\\n",
       "0  2018     11    0  1.703101e+10  1.703101e+10  3.0             0   \n",
       "1  2018     11    0  1.703101e+10  1.703101e+10  5.0             0   \n",
       "2  2018     11    0  1.703101e+10  1.703101e+10  5.0             0   \n",
       "3  2018     11    0  1.703101e+10  1.703101e+10  3.0             1   \n",
       "4  2018     11    0  1.703101e+10  1.703101e+10  3.0             0   \n",
       "\n",
       "   PRIVATE_TRIPS  \n",
       "0              1  \n",
       "1              1  \n",
       "2              1  \n",
       "3              0  \n",
       "4              1  "
      ]
     },
     "execution_count": 35,
     "metadata": {},
     "output_type": "execute_result"
    }
   ],
   "source": [
    "obs.head()"
   ]
  },
  {
   "cell_type": "code",
   "execution_count": 74,
   "metadata": {},
   "outputs": [],
   "source": [
    "obs = obs[['YEAR','MONTH','ORIGIN','DESTINATION','SHARED_TRIPS','PRIVATE_TRIPS','TOD']].groupby(by = ['YEAR','MONTH','ORIGIN','DESTINATION','TOD'], as_index = False).mean()"
   ]
  },
  {
   "cell_type": "code",
   "execution_count": 75,
   "metadata": {},
   "outputs": [
    {
     "data": {
      "text/plain": [
       "538248"
      ]
     },
     "execution_count": 75,
     "metadata": {},
     "output_type": "execute_result"
    }
   ],
   "source": [
    "len(obs)"
   ]
  },
  {
   "cell_type": "code",
   "execution_count": 76,
   "metadata": {},
   "outputs": [
    {
     "data": {
      "text/html": [
       "<div>\n",
       "<style scoped>\n",
       "    .dataframe tbody tr th:only-of-type {\n",
       "        vertical-align: middle;\n",
       "    }\n",
       "\n",
       "    .dataframe tbody tr th {\n",
       "        vertical-align: top;\n",
       "    }\n",
       "\n",
       "    .dataframe thead th {\n",
       "        text-align: right;\n",
       "    }\n",
       "</style>\n",
       "<table border=\"1\" class=\"dataframe\">\n",
       "  <thead>\n",
       "    <tr style=\"text-align: right;\">\n",
       "      <th></th>\n",
       "      <th>YEAR</th>\n",
       "      <th>MONTH</th>\n",
       "      <th>ORIGIN</th>\n",
       "      <th>DESTINATION</th>\n",
       "      <th>TOD</th>\n",
       "      <th>SHARED_TRIPS</th>\n",
       "      <th>PRIVATE_TRIPS</th>\n",
       "    </tr>\n",
       "  </thead>\n",
       "  <tbody>\n",
       "    <tr>\n",
       "      <th>0</th>\n",
       "      <td>2018</td>\n",
       "      <td>11</td>\n",
       "      <td>1.703101e+10</td>\n",
       "      <td>1.703101e+10</td>\n",
       "      <td>2.0</td>\n",
       "      <td>0.0</td>\n",
       "      <td>1.0</td>\n",
       "    </tr>\n",
       "    <tr>\n",
       "      <th>1</th>\n",
       "      <td>2018</td>\n",
       "      <td>11</td>\n",
       "      <td>1.703101e+10</td>\n",
       "      <td>1.703101e+10</td>\n",
       "      <td>3.0</td>\n",
       "      <td>0.5</td>\n",
       "      <td>0.5</td>\n",
       "    </tr>\n",
       "    <tr>\n",
       "      <th>2</th>\n",
       "      <td>2018</td>\n",
       "      <td>11</td>\n",
       "      <td>1.703101e+10</td>\n",
       "      <td>1.703101e+10</td>\n",
       "      <td>1.0</td>\n",
       "      <td>1.0</td>\n",
       "      <td>0.0</td>\n",
       "    </tr>\n",
       "    <tr>\n",
       "      <th>3</th>\n",
       "      <td>2018</td>\n",
       "      <td>11</td>\n",
       "      <td>1.703101e+10</td>\n",
       "      <td>1.703101e+10</td>\n",
       "      <td>2.0</td>\n",
       "      <td>0.0</td>\n",
       "      <td>1.0</td>\n",
       "    </tr>\n",
       "    <tr>\n",
       "      <th>4</th>\n",
       "      <td>2018</td>\n",
       "      <td>11</td>\n",
       "      <td>1.703101e+10</td>\n",
       "      <td>1.703101e+10</td>\n",
       "      <td>3.0</td>\n",
       "      <td>0.5</td>\n",
       "      <td>0.5</td>\n",
       "    </tr>\n",
       "  </tbody>\n",
       "</table>\n",
       "</div>"
      ],
      "text/plain": [
       "   YEAR  MONTH        ORIGIN   DESTINATION  TOD  SHARED_TRIPS  PRIVATE_TRIPS\n",
       "0  2018     11  1.703101e+10  1.703101e+10  2.0           0.0            1.0\n",
       "1  2018     11  1.703101e+10  1.703101e+10  3.0           0.5            0.5\n",
       "2  2018     11  1.703101e+10  1.703101e+10  1.0           1.0            0.0\n",
       "3  2018     11  1.703101e+10  1.703101e+10  2.0           0.0            1.0\n",
       "4  2018     11  1.703101e+10  1.703101e+10  3.0           0.5            0.5"
      ]
     },
     "execution_count": 76,
     "metadata": {},
     "output_type": "execute_result"
    }
   ],
   "source": [
    "obs.head()"
   ]
  },
  {
   "cell_type": "code",
   "execution_count": 80,
   "metadata": {},
   "outputs": [
    {
     "data": {
      "text/plain": [
       "0.0"
      ]
     },
     "execution_count": 80,
     "metadata": {},
     "output_type": "execute_result"
    }
   ],
   "source": [
    "obs.PRIVATE_TRIPS.min()"
   ]
  },
  {
   "cell_type": "code",
   "execution_count": 78,
   "metadata": {},
   "outputs": [
    {
     "data": {
      "text/plain": [
       "24.2"
      ]
     },
     "execution_count": 78,
     "metadata": {},
     "output_type": "execute_result"
    }
   ],
   "source": [
    "obs.PRIVATE_TRIPS.max()"
   ]
  },
  {
   "cell_type": "code",
   "execution_count": 79,
   "metadata": {},
   "outputs": [
    {
     "data": {
      "text/plain": [
       "0.8445856742616832"
      ]
     },
     "execution_count": 79,
     "metadata": {},
     "output_type": "execute_result"
    }
   ],
   "source": [
    "obs.PRIVATE_TRIPS.mean()"
   ]
  },
  {
   "cell_type": "code",
   "execution_count": 81,
   "metadata": {},
   "outputs": [
    {
     "data": {
      "text/plain": [
       "0.0"
      ]
     },
     "execution_count": 81,
     "metadata": {},
     "output_type": "execute_result"
    }
   ],
   "source": [
    "obs.SHARED_TRIPS.min()"
   ]
  },
  {
   "cell_type": "code",
   "execution_count": 82,
   "metadata": {},
   "outputs": [
    {
     "data": {
      "text/plain": [
       "4.0"
      ]
     },
     "execution_count": 82,
     "metadata": {},
     "output_type": "execute_result"
    }
   ],
   "source": [
    "obs.SHARED_TRIPS.max()"
   ]
  },
  {
   "cell_type": "code",
   "execution_count": 83,
   "metadata": {},
   "outputs": [
    {
     "data": {
      "text/plain": [
       "0.2546628443889319"
      ]
     },
     "execution_count": 83,
     "metadata": {},
     "output_type": "execute_result"
    }
   ],
   "source": [
    "obs.SHARED_TRIPS.mean()"
   ]
  },
  {
   "cell_type": "code",
   "execution_count": 63,
   "metadata": {},
   "outputs": [],
   "source": [
    "obs = obs[['YEAR','MONTH','DOW','ORIGIN','DESTINATION','SHARED_TRIPS','PRIVATE_TRIPS','TOD']].groupby(by = ['YEAR','MONTH','DOW','ORIGIN','TOD'], as_index = False).sum()"
   ]
  },
  {
   "cell_type": "code",
   "execution_count": 56,
   "metadata": {},
   "outputs": [],
   "source": [
    "obs = obs[['YEAR','MONTH','ORIGIN','DESTINATION','SHARED_TRIPS','PRIVATE_TRIPS','TOD']].groupby(by = ['YEAR','MONTH','DESTINATION','TOD'], as_index = False).mean()"
   ]
  },
  {
   "cell_type": "code",
   "execution_count": 64,
   "metadata": {},
   "outputs": [
    {
     "data": {
      "text/plain": [
       "179052"
      ]
     },
     "execution_count": 64,
     "metadata": {},
     "output_type": "execute_result"
    }
   ],
   "source": [
    "obs.SHARED_TRIPS.sum()"
   ]
  },
  {
   "cell_type": "code",
   "execution_count": 65,
   "metadata": {},
   "outputs": [
    {
     "data": {
      "text/plain": [
       "667986"
      ]
     },
     "execution_count": 65,
     "metadata": {},
     "output_type": "execute_result"
    }
   ],
   "source": [
    "obs.PRIVATE_TRIPS.sum()"
   ]
  },
  {
   "cell_type": "code",
   "execution_count": 66,
   "metadata": {},
   "outputs": [
    {
     "data": {
      "text/plain": [
       "847038"
      ]
     },
     "execution_count": 66,
     "metadata": {},
     "output_type": "execute_result"
    }
   ],
   "source": [
    "obs.PRIVATE_TRIPS.sum() + obs.SHARED_TRIPS.sum()"
   ]
  },
  {
   "cell_type": "code",
   "execution_count": 84,
   "metadata": {},
   "outputs": [
    {
     "name": "stderr",
     "output_type": "stream",
     "text": [
      "C:\\Users\\ramu225\\Anaconda3\\lib\\site-packages\\numpy\\lib\\arraysetops.py:580: FutureWarning: elementwise comparison failed; returning scalar instead, but in the future will perform elementwise comparison\n",
      "  mask |= (ar1 == a)\n"
     ]
    }
   ],
   "source": [
    "pred = pd.read_csv('C:/Workspace/TNC-Demand-Model/Outputs/Mode_Specific_Trips.csv', index_col = 0)"
   ]
  },
  {
   "cell_type": "code",
   "execution_count": 85,
   "metadata": {},
   "outputs": [
    {
     "data": {
      "text/html": [
       "<div>\n",
       "<style scoped>\n",
       "    .dataframe tbody tr th:only-of-type {\n",
       "        vertical-align: middle;\n",
       "    }\n",
       "\n",
       "    .dataframe tbody tr th {\n",
       "        vertical-align: top;\n",
       "    }\n",
       "\n",
       "    .dataframe thead th {\n",
       "        text-align: right;\n",
       "    }\n",
       "</style>\n",
       "<table border=\"1\" class=\"dataframe\">\n",
       "  <thead>\n",
       "    <tr style=\"text-align: right;\">\n",
       "      <th></th>\n",
       "      <th>MONTH</th>\n",
       "      <th>YEAR</th>\n",
       "      <th>TOD</th>\n",
       "      <th>ORIGIN</th>\n",
       "      <th>DESTINATION</th>\n",
       "      <th>TRIPS</th>\n",
       "      <th>SHARED_TRIPS</th>\n",
       "      <th>PRIVATE_TRIPS</th>\n",
       "    </tr>\n",
       "  </thead>\n",
       "  <tbody>\n",
       "    <tr>\n",
       "      <th>0</th>\n",
       "      <td>11.0</td>\n",
       "      <td>2018.0</td>\n",
       "      <td>1.0</td>\n",
       "      <td>1.703101e+10</td>\n",
       "      <td>1.703184e+10</td>\n",
       "      <td>0.000012</td>\n",
       "      <td>0.000005</td>\n",
       "      <td>0.000007</td>\n",
       "    </tr>\n",
       "    <tr>\n",
       "      <th>1</th>\n",
       "      <td>11.0</td>\n",
       "      <td>2018.0</td>\n",
       "      <td>1.0</td>\n",
       "      <td>1.703101e+10</td>\n",
       "      <td>1.703184e+10</td>\n",
       "      <td>0.000014</td>\n",
       "      <td>0.000006</td>\n",
       "      <td>0.000008</td>\n",
       "    </tr>\n",
       "    <tr>\n",
       "      <th>2</th>\n",
       "      <td>11.0</td>\n",
       "      <td>2018.0</td>\n",
       "      <td>1.0</td>\n",
       "      <td>1.703101e+10</td>\n",
       "      <td>1.703184e+10</td>\n",
       "      <td>0.000012</td>\n",
       "      <td>0.000005</td>\n",
       "      <td>0.000007</td>\n",
       "    </tr>\n",
       "    <tr>\n",
       "      <th>3</th>\n",
       "      <td>11.0</td>\n",
       "      <td>2018.0</td>\n",
       "      <td>1.0</td>\n",
       "      <td>1.703101e+10</td>\n",
       "      <td>1.703184e+10</td>\n",
       "      <td>0.000016</td>\n",
       "      <td>0.000007</td>\n",
       "      <td>0.000010</td>\n",
       "    </tr>\n",
       "    <tr>\n",
       "      <th>4</th>\n",
       "      <td>11.0</td>\n",
       "      <td>2018.0</td>\n",
       "      <td>1.0</td>\n",
       "      <td>1.703101e+10</td>\n",
       "      <td>1.703184e+10</td>\n",
       "      <td>0.000041</td>\n",
       "      <td>0.000017</td>\n",
       "      <td>0.000024</td>\n",
       "    </tr>\n",
       "  </tbody>\n",
       "</table>\n",
       "</div>"
      ],
      "text/plain": [
       "   MONTH    YEAR  TOD        ORIGIN   DESTINATION     TRIPS  SHARED_TRIPS  \\\n",
       "0   11.0  2018.0  1.0  1.703101e+10  1.703184e+10  0.000012      0.000005   \n",
       "1   11.0  2018.0  1.0  1.703101e+10  1.703184e+10  0.000014      0.000006   \n",
       "2   11.0  2018.0  1.0  1.703101e+10  1.703184e+10  0.000012      0.000005   \n",
       "3   11.0  2018.0  1.0  1.703101e+10  1.703184e+10  0.000016      0.000007   \n",
       "4   11.0  2018.0  1.0  1.703101e+10  1.703184e+10  0.000041      0.000017   \n",
       "\n",
       "   PRIVATE_TRIPS  \n",
       "0       0.000007  \n",
       "1       0.000008  \n",
       "2       0.000007  \n",
       "3       0.000010  \n",
       "4       0.000024  "
      ]
     },
     "execution_count": 85,
     "metadata": {},
     "output_type": "execute_result"
    }
   ],
   "source": [
    "pred.head()"
   ]
  },
  {
   "cell_type": "code",
   "execution_count": 86,
   "metadata": {},
   "outputs": [],
   "source": [
    "df = pred.merge(obs, how = 'left', on = ['YEAR','MONTH','TOD','ORIGIN','DESTINATION'], suffixes = ('_PRED','_OBS'))"
   ]
  },
  {
   "cell_type": "code",
   "execution_count": 87,
   "metadata": {},
   "outputs": [],
   "source": [
    "df['PRIVATE_DIFF'] = df['PRIVATE_TRIPS_PRED'] - df['PRIVATE_TRIPS_OBS']\n",
    "df['SHARED_DIFF'] = df['SHARED_TRIPS_PRED'] - df['SHARED_TRIPS_OBS']"
   ]
  },
  {
   "cell_type": "code",
   "execution_count": 88,
   "metadata": {},
   "outputs": [
    {
     "data": {
      "text/plain": [
       "74.20747064337317"
      ]
     },
     "execution_count": 88,
     "metadata": {},
     "output_type": "execute_result"
    }
   ],
   "source": [
    "df['PRIVATE_DIFF'].max()"
   ]
  },
  {
   "cell_type": "code",
   "execution_count": 89,
   "metadata": {},
   "outputs": [
    {
     "data": {
      "text/plain": [
       "-9.592838691866872"
      ]
     },
     "execution_count": 89,
     "metadata": {},
     "output_type": "execute_result"
    }
   ],
   "source": [
    "df['PRIVATE_DIFF'].min()"
   ]
  },
  {
   "cell_type": "code",
   "execution_count": 90,
   "metadata": {},
   "outputs": [
    {
     "data": {
      "text/plain": [
       "-0.7238286359275329"
      ]
     },
     "execution_count": 90,
     "metadata": {},
     "output_type": "execute_result"
    }
   ],
   "source": [
    "df['PRIVATE_DIFF'].mean()"
   ]
  },
  {
   "cell_type": "code",
   "execution_count": 91,
   "metadata": {},
   "outputs": [
    {
     "data": {
      "text/plain": [
       "11.969276401856543"
      ]
     },
     "execution_count": 91,
     "metadata": {},
     "output_type": "execute_result"
    }
   ],
   "source": [
    "df['SHARED_DIFF'].max()"
   ]
  },
  {
   "cell_type": "code",
   "execution_count": 92,
   "metadata": {},
   "outputs": [
    {
     "data": {
      "text/plain": [
       "-3.9882184626652877"
      ]
     },
     "execution_count": 92,
     "metadata": {},
     "output_type": "execute_result"
    }
   ],
   "source": [
    "df['SHARED_DIFF'].min()"
   ]
  },
  {
   "cell_type": "code",
   "execution_count": 93,
   "metadata": {},
   "outputs": [
    {
     "data": {
      "text/plain": [
       "-0.2423534876918222"
      ]
     },
     "execution_count": 93,
     "metadata": {},
     "output_type": "execute_result"
    }
   ],
   "source": [
    "df['SHARED_DIFF'].mean()"
   ]
  },
  {
   "cell_type": "code",
   "execution_count": null,
   "metadata": {},
   "outputs": [],
   "source": []
  },
  {
   "cell_type": "code",
   "execution_count": 98,
   "metadata": {},
   "outputs": [],
   "source": [
    "rmse_private = np.sqrt(np.sum(np.square(df['PRIVATE_DIFF']))/len(df))"
   ]
  },
  {
   "cell_type": "code",
   "execution_count": 99,
   "metadata": {},
   "outputs": [
    {
     "data": {
      "text/plain": [
       "0.11293878136055326"
      ]
     },
     "execution_count": 99,
     "metadata": {},
     "output_type": "execute_result"
    }
   ],
   "source": [
    "rmse_private"
   ]
  },
  {
   "cell_type": "code",
   "execution_count": 97,
   "metadata": {},
   "outputs": [
    {
     "data": {
      "text/plain": [
       "0.8445856742616762"
      ]
     },
     "execution_count": 97,
     "metadata": {},
     "output_type": "execute_result"
    }
   ],
   "source": [
    "df['PRIVATE_TRIPS_OBS'].mean()"
   ]
  },
  {
   "cell_type": "code",
   "execution_count": 100,
   "metadata": {},
   "outputs": [],
   "source": [
    "rmse_shared = np.sqrt(np.sum(np.square(df['SHARED_DIFF']))/len(df))"
   ]
  },
  {
   "cell_type": "code",
   "execution_count": 101,
   "metadata": {},
   "outputs": [
    {
     "data": {
      "text/plain": [
       "0.050680700486254754"
      ]
     },
     "execution_count": 101,
     "metadata": {},
     "output_type": "execute_result"
    }
   ],
   "source": [
    "rmse_shared"
   ]
  },
  {
   "cell_type": "code",
   "execution_count": 102,
   "metadata": {},
   "outputs": [
    {
     "data": {
      "text/plain": [
       "0.25466284438894254"
      ]
     },
     "execution_count": 102,
     "metadata": {},
     "output_type": "execute_result"
    }
   ],
   "source": [
    "df['SHARED_TRIPS_OBS'].mean()"
   ]
  },
  {
   "cell_type": "code",
   "execution_count": 109,
   "metadata": {},
   "outputs": [],
   "source": [
    "relative_rmse_private = np.sqrt((np.sum(np.square(df['PRIVATE_DIFF']))/len(df))/np.sum(np.square(df['PRIVATE_TRIPS_OBS'])))"
   ]
  },
  {
   "cell_type": "code",
   "execution_count": 110,
   "metadata": {},
   "outputs": [
    {
     "data": {
      "text/plain": [
       "0.00015163552983332322"
      ]
     },
     "execution_count": 110,
     "metadata": {},
     "output_type": "execute_result"
    }
   ],
   "source": [
    "relative_rmse_private"
   ]
  },
  {
   "cell_type": "code",
   "execution_count": 111,
   "metadata": {},
   "outputs": [],
   "source": [
    "relative_rmse_shared = np.sqrt((np.sum(np.square(df['SHARED_DIFF']))/len(df))/np.sum(np.square(df['SHARED_TRIPS_OBS'])))"
   ]
  },
  {
   "cell_type": "code",
   "execution_count": 112,
   "metadata": {},
   "outputs": [
    {
     "data": {
      "text/plain": [
       "0.00014034680280122468"
      ]
     },
     "execution_count": 112,
     "metadata": {},
     "output_type": "execute_result"
    }
   ],
   "source": [
    "relative_rmse_shared"
   ]
  },
  {
   "cell_type": "code",
   "execution_count": 117,
   "metadata": {},
   "outputs": [],
   "source": [
    "nrmse_private = np.sqrt((np.sum(np.square(df['PRIVATE_DIFF']))/len(df))/df['PRIVATE_TRIPS_OBS'].mean())"
   ]
  },
  {
   "cell_type": "code",
   "execution_count": 118,
   "metadata": {},
   "outputs": [
    {
     "data": {
      "text/plain": [
       "0.12289132928824985"
      ]
     },
     "execution_count": 118,
     "metadata": {},
     "output_type": "execute_result"
    }
   ],
   "source": [
    "nrmse_private"
   ]
  },
  {
   "cell_type": "code",
   "execution_count": 121,
   "metadata": {},
   "outputs": [],
   "source": [
    "nrmse_shared = np.sqrt((np.sum(np.square(df['SHARED_DIFF']))/len(df))/df['SHARED_TRIPS_OBS'].mean())"
   ]
  },
  {
   "cell_type": "code",
   "execution_count": 122,
   "metadata": {},
   "outputs": [
    {
     "data": {
      "text/plain": [
       "0.10042915674019583"
      ]
     },
     "execution_count": 122,
     "metadata": {},
     "output_type": "execute_result"
    }
   ],
   "source": [
    "nrmse_shared"
   ]
  },
  {
   "cell_type": "code",
   "execution_count": 130,
   "metadata": {},
   "outputs": [],
   "source": [
    "import seaborn as sns\n",
    "import matplotlib.pyplot as plt"
   ]
  },
  {
   "cell_type": "code",
   "execution_count": 131,
   "metadata": {},
   "outputs": [
    {
     "name": "stderr",
     "output_type": "stream",
     "text": [
      "C:\\Users\\ramu225\\Anaconda3\\lib\\site-packages\\seaborn\\_decorators.py:43: FutureWarning: Pass the following variables as keyword args: x, y. From version 0.12, the only valid positional argument will be `data`, and passing other arguments without an explicit keyword will result in an error or misinterpretation.\n",
      "  FutureWarning\n"
     ]
    },
    {
     "data": {
      "text/plain": [
       "(0, 100)"
      ]
     },
     "execution_count": 131,
     "metadata": {},
     "output_type": "execute_result"
    },
    {
     "data": {
      "image/png": "[encoded data removed]",
      "text/plain": [
       "<Figure size 432x288 with 1 Axes>"
      ]
     },
     "metadata": {
      "needs_background": "light"
     },
     "output_type": "display_data"
    }
   ],
   "source": [
    "sns.scatterplot(df['PRIVATE_TRIPS_OBS'], df['PRIVATE_TRIPS_PRED'])\n",
    "plt.xlim(0,100)\n",
    "plt.ylim(0,100)"
   ]
  },
  {
   "cell_type": "code",
   "execution_count": 138,
   "metadata": {},
   "outputs": [
    {
     "name": "stderr",
     "output_type": "stream",
     "text": [
      "C:\\Users\\ramu225\\Anaconda3\\lib\\site-packages\\seaborn\\_decorators.py:43: FutureWarning: Pass the following variables as keyword args: x, y. From version 0.12, the only valid positional argument will be `data`, and passing other arguments without an explicit keyword will result in an error or misinterpretation.\n",
      "  FutureWarning\n"
     ]
    },
    {
     "data": {
      "text/plain": [
       "(0, 15)"
      ]
     },
     "execution_count": 138,
     "metadata": {},
     "output_type": "execute_result"
    },
    {
     "data": {
      "image/png": "[encoded data removed]",
      "text/plain": [
       "<Figure size 432x288 with 1 Axes>"
      ]
     },
     "metadata": {
      "needs_background": "light"
     },
     "output_type": "display_data"
    }
   ],
   "source": [
    "sns.scatterplot(df['SHARED_TRIPS_OBS'], df['SHARED_TRIPS_PRED'])\n",
    "\n",
    "plt.xlim(0,15)\n",
    "plt.ylim(0,15)"
   ]
  },
  {
   "cell_type": "code",
   "execution_count": 137,
   "metadata": {},
   "outputs": [],
   "source": [
    "df2 = df.groupby(by = ['ORIGIN','MONTH','YEAR','TOD'], as_index = False).sum()"
   ]
  },
  {
   "cell_type": "code",
   "execution_count": 139,
   "metadata": {},
   "outputs": [
    {
     "name": "stderr",
     "output_type": "stream",
     "text": [
      "C:\\Users\\ramu225\\Anaconda3\\lib\\site-packages\\seaborn\\_decorators.py:43: FutureWarning: Pass the following variables as keyword args: x, y. From version 0.12, the only valid positional argument will be `data`, and passing other arguments without an explicit keyword will result in an error or misinterpretation.\n",
      "  FutureWarning\n"
     ]
    },
    {
     "data": {
      "text/plain": [
       "(0, 100)"
      ]
     },
     "execution_count": 139,
     "metadata": {},
     "output_type": "execute_result"
    },
    {
     "data": {
      "image/png": "[encoded data removed]",
      "text/plain": [
       "<Figure size 432x288 with 1 Axes>"
      ]
     },
     "metadata": {
      "needs_background": "light"
     },
     "output_type": "display_data"
    }
   ],
   "source": [
    "sns.scatterplot(df2['PRIVATE_TRIPS_OBS'], df2['PRIVATE_TRIPS_PRED'])\n",
    "plt.xlim(0,100)\n",
    "plt.ylim(0,100)"
   ]
  },
  {
   "cell_type": "code",
   "execution_count": null,
   "metadata": {},
   "outputs": [],
   "source": []
  },
  {
   "cell_type": "code",
   "execution_count": null,
   "metadata": {},
   "outputs": [],
   "source": [
    "\n",
    "# Add the color for the chloropleth:\n",
    "m = folium.Map([41.8781, -87.6298], zoom_start=11)\n",
    "m.choropleth(\n",
    " geo_data=tracts,\n",
    " name= var,\n",
    " data=df,\n",
    " columns = ['GEOID10_STR', var],\n",
    " key_on='feature.properties.geoid10',\n",
    " fill_color='BuGn',\n",
    " fill_opacity=0.6,\n",
    " line_opacity=0.2,\n",
    " #bins = bins,\n",
    " legend_name= ' Totals',\n",
    " highlight = True\n",
    ")\n",
    "\n",
    "feature_group = folium.FeatureGroup(name='Census Tract Centroids', show = False)\n",
    "\n",
    "for tract2 in centroids.GEOID:\n",
    "    row = centroids[centroids['GEOID'] == tract2]\n",
    "    folium.CircleMarker([row['Y'], row['X']], popup = str(int(row['GEOID'].values[0])), radius = 1, fill = True, fill_color = 'grey', color = 'grey').add_to(feature_group)\n",
    "\n",
    "m.add_child(feature_group)\n",
    "\n",
    "folium.LayerControl().add_to(m)\n",
    "\n",
    "m.save('C:/Workspace/TNC-Demand-Model/Data Exploration/Destination Choice Model Visualizations/'+ var + '_Map.html')\n"
   ]
  }
 ],
 "metadata": {
  "kernelspec": {
   "display_name": "Python 3",
   "language": "python",
   "name": "python3"
  },
  "language_info": {
   "codemirror_mode": {
    "name": "ipython",
    "version": 3
   },
   "file_extension": ".py",
   "mimetype": "text/x-python",
   "name": "python",
   "nbconvert_exporter": "python",
   "pygments_lexer": "ipython3",
   "version": "3.7.6"
  }
 },
 "nbformat": 4,
 "nbformat_minor": 4
}
