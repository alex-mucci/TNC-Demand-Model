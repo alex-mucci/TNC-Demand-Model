{
 "cells": [
  {
   "cell_type": "code",
   "execution_count": null,
   "metadata": {},
   "outputs": [],
   "source": [
    "import pandas as pd\n",
    "import seaborn as sns\n",
    "import statsmodels.api as sm\n",
    "import statsmodels.formula.api as smf\n",
    "import geopandas as gp\n",
    "import numpy as np\n",
    "pd.set_option('display.max_columns', 500)"
   ]
  },
  {
   "cell_type": "code",
   "execution_count": null,
   "metadata": {},
   "outputs": [],
   "source": [
    "samp = pd.read_csv('C:/Workspace/TNC-Demand-Model/Outputs/Sample.csv')"
   ]
  },
  {
   "cell_type": "code",
   "execution_count": null,
   "metadata": {},
   "outputs": [],
   "source": [
    "samp = samp[samp['TRAVEL_TIME_MINUTES'] <= 120]\n",
    "samp = samp[samp['TRIP_LENGTH_MILES'] <= 50]"
   ]
  },
  {
   "cell_type": "code",
   "execution_count": null,
   "metadata": {},
   "outputs": [],
   "source": [
    "#drop the private trips that have more than one trip pooled because I dont know what is going on there (~0.1% of all trips)\n",
    "drop = samp[(samp['NUM_TRIPS_POOLED'] > 1)&(samp['SHARED_FLAGGER'] == 0)]['TRAVEL_TIME_MINUTES'].index\n",
    "samp = samp.drop(drop)"
   ]
  },
  {
   "cell_type": "code",
   "execution_count": null,
   "metadata": {},
   "outputs": [],
   "source": [
    "samp['PRIVATE_TRIP'] = np.where(samp['SHARED_FLAGGER'] == 0, 1,0)\n",
    "samp['SHARED_TRIP'] = np.where(samp['SHARED_FLAGGER'] == 1, 1,0)"
   ]
  },
  {
   "cell_type": "code",
   "execution_count": null,
   "metadata": {},
   "outputs": [],
   "source": [
    "samp['DAY'] = pd.to_datetime(samp['TRIP_START_TIME']).dt.day"
   ]
  },
  {
   "cell_type": "code",
   "execution_count": null,
   "metadata": {},
   "outputs": [],
   "source": [
    "samp['MINUTE'] = pd.to_datetime(samp['TRIP_START_TIME']).dt.minute"
   ]
  },
  {
   "cell_type": "code",
   "execution_count": null,
   "metadata": {},
   "outputs": [],
   "source": [
    "agg = { 'INTERNAL_SUPPPRESSED_FLAGGER':'sum','MATCHED_TRIP':'sum','UNMATCHED_TRIP':'sum',\n",
    "       'SHARED_FARE':'mean','PRIVATE_FARE':'mean','TRAVEL_TIME_MINUTES':'mean', 'PRIVATE_TRIP_LENGTH':'mean','SHARED_TRIP_LENGTH':'mean','TRIP_LENGTH_MILES':'mean',  'FARE':'mean', 'TIP':'mean', 'ADDITIONAL_CHARGES':'mean', 'TOTAL_COST':'mean',\n",
    "        'NUM_TRIPS_POOLED':'max', 'SPEED':'mean','PRIVATE_TRIP':'sum','SHARED_TRIP':'sum','PRIVATE_TRAVEL_TIME':'mean','SHARED_TRAVEL_TIME':'mean','TOD_1':'first','TOD_2':'first','TOD_3':'first','TOD_4':'first','TOD_5':'first'}"
   ]
  },
  {
   "cell_type": "code",
   "execution_count": null,
   "metadata": {},
   "outputs": [],
   "source": [
    "samp['PRIVATE_TRIP_LENGTH'] = np.where(samp['SHARED_FLAGGER'] == 0, samp['TRIP_LENGTH_MILES'], np.nan)\n",
    "samp['SHARED_TRIP_LENGTH'] = np.where(samp['SHARED_FLAGGER'] == 1, samp['TRIP_LENGTH_MILES'], np.nan)"
   ]
  },
  {
   "cell_type": "code",
   "execution_count": null,
   "metadata": {},
   "outputs": [],
   "source": [
    "samp['PRIVATE_FARE'] = np.where(samp['SHARED_FLAGGER'] == 0, samp['FARE'], np.nan)\n",
    "samp['SHARED_FARE'] = np.where(samp['SHARED_FLAGGER'] == 1, samp['FARE'], np.nan)"
   ]
  },
  {
   "cell_type": "code",
   "execution_count": null,
   "metadata": {},
   "outputs": [],
   "source": [
    "samp['PRIVATE_TRAVEL_TIME'] = np.where(samp['SHARED_FLAGGER'] == 0,samp['TRAVEL_TIME_MINUTES'],np.nan)\n",
    "samp['SHARED_TRAVEL_TIME'] = np.where(samp['SHARED_FLAGGER'] == 1,samp['TRAVEL_TIME_MINUTES'],np.nan)"
   ]
  },
  {
   "cell_type": "code",
   "execution_count": null,
   "metadata": {},
   "outputs": [],
   "source": [
    "#samp['PRIVATE_TRIP_LENGTH'] = np.where(samp['SHARED_FLAGGER'] == 0,samp['TRAVEL_TIME_MINUTES'],np.nan)\n",
    "#samp['SHARED_TRIP_LENGTH'] = np.where(samp['SHARED_FLAGGER'] == 1,samp['TRAVEL_TIME_MINUTES'],np.nan)"
   ]
  },
  {
   "cell_type": "code",
   "execution_count": null,
   "metadata": {},
   "outputs": [],
   "source": [
    "samp['MATCHED_TRIP'] = np.where(samp['NUM_TRIPS_POOLED'] > 1, 1, 0)\n",
    "samp['UNMATCHED_TRIP'] = np.where((samp['SHARED_FLAGGER'] == 1)&(samp['NUM_TRIPS_POOLED'] == 1), 1, 0)\n"
   ]
  },
  {
   "cell_type": "code",
   "execution_count": null,
   "metadata": {},
   "outputs": [],
   "source": [
    "#do not aggregate and use the estimated private travel time to estimate matched shared travel time\n",
    "#df2 = samp[['MATCHED_TRIP','UNMATCHED_TRIP','PRIVATE_TRIP_LENGTH','SHARED_TRIP_LENGTH','ORIGIN','DESTINATION','MONTH','YEAR','DAY','HOUR','MINUTE','TRAVEL_TIME_MINUTES', 'TRIP_LENGTH_MILES','FARE', 'TIP', 'ADDITIONAL_CHARGES', 'TOTAL_COST','SPEED','NUM_TRIPS_POOLED','PRIVATE_TRIP','SHARED_TRIP','PRIVATE_TRAVEL_TIME','SHARED_TRAVEL_TIME','SHARED_FARE','PRIVATE_FARE','TOD_1','TOD_2',\"TOD_3\",\"TOD_4\",'TOD_5','INTERNAL_SUPPPRESSED_FLAGGER']].groupby(by = ['ORIGIN','DESTINATION','MONTH','YEAR','DAY','HOUR','MINUTE'], as_index = False).agg(agg)"
   ]
  },
  {
   "cell_type": "code",
   "execution_count": null,
   "metadata": {},
   "outputs": [],
   "source": []
  },
  {
   "cell_type": "code",
   "execution_count": null,
   "metadata": {},
   "outputs": [],
   "source": [
    "results = smf.ols('SHARED_TRIP_LENGTH ~ PRIVATE_TRIP_LENGTH - 1', data=df4).fit()\n",
    "print(results.summary())"
   ]
  },
  {
   "cell_type": "code",
   "execution_count": null,
   "metadata": {},
   "outputs": [],
   "source": [
    "results = smf.ols('SHARED_TRIP_LENGTH ~ PRIVATE_TRIP_LENGTH - 1', data=df5).fit()\n",
    "print(results.summary())"
   ]
  },
  {
   "cell_type": "code",
   "execution_count": null,
   "metadata": {},
   "outputs": [],
   "source": [
    "df3['TRAVEL_TIME_SH_PV_DIFF'] = df3['SHARED_TRAVEL_TIME'] - df3['PRIVATE_TRAVEL_TIME']"
   ]
  },
  {
   "cell_type": "code",
   "execution_count": null,
   "metadata": {},
   "outputs": [],
   "source": [
    "df3['TRAVEL_TIME_SH_PV_DIFF'].mean()"
   ]
  },
  {
   "cell_type": "code",
   "execution_count": null,
   "metadata": {},
   "outputs": [],
   "source": [
    "df3['TRAVEL_TIME_SH_PV_DIFF'].std()"
   ]
  },
  {
   "cell_type": "code",
   "execution_count": null,
   "metadata": {},
   "outputs": [],
   "source": [
    "sns.displot(df3['TRAVEL_TIME_SH_PV_DIFF'])"
   ]
  },
  {
   "cell_type": "code",
   "execution_count": null,
   "metadata": {},
   "outputs": [],
   "source": [
    "pooled_df = df3[df3['NUM_TRIPS_POOLED'] > 1]"
   ]
  },
  {
   "cell_type": "code",
   "execution_count": null,
   "metadata": {},
   "outputs": [],
   "source": [
    "pooled_df['TRAVEL_TIME_MA_SH_DIFF'] = pooled_df['SHARED_TRAVEL_TIME'] - pooled_df['PRIVATE_TRAVEL_TIME']"
   ]
  },
  {
   "cell_type": "code",
   "execution_count": null,
   "metadata": {},
   "outputs": [],
   "source": [
    "pooled_df['TRAVEL_TIME_MA_SH_DIFF'].value_counts(dropna = False)"
   ]
  },
  {
   "cell_type": "code",
   "execution_count": null,
   "metadata": {},
   "outputs": [],
   "source": [
    "pooled_df['TRAVEL_TIME_MA_SH_DIFF'].mean()"
   ]
  },
  {
   "cell_type": "code",
   "execution_count": null,
   "metadata": {},
   "outputs": [],
   "source": [
    "pooled_df['TRAVEL_TIME_MA_SH_DIFF'].std()"
   ]
  },
  {
   "cell_type": "code",
   "execution_count": null,
   "metadata": {},
   "outputs": [],
   "source": [
    "sns.displot(pooled_df['TRAVEL_TIME_MA_SH_DIFF'])"
   ]
  },
  {
   "cell_type": "code",
   "execution_count": null,
   "metadata": {},
   "outputs": [],
   "source": [
    "results = smf.ols('SHARED_TRIP_LENGTH ~ PRIVATE_TRIP_LENGTH - 1', data=df3).fit()\n",
    "print(results.summary())"
   ]
  },
  {
   "cell_type": "code",
   "execution_count": null,
   "metadata": {},
   "outputs": [],
   "source": [
    "results = smf.ols('SHARED_TRAVEL_TIME ~ PRIVATE_TRAVEL_TIME', data=df3).fit()\n",
    "print(results.summary())"
   ]
  },
  {
   "cell_type": "code",
   "execution_count": null,
   "metadata": {},
   "outputs": [],
   "source": [
    "results = smf.ols('SHARED_TRAVEL_TIME ~ PRIVATE_TRAVEL_TIME', data=pooled_df).fit()\n",
    "print(results.summary())"
   ]
  },
  {
   "cell_type": "code",
   "execution_count": null,
   "metadata": {},
   "outputs": [],
   "source": [
    "results = smf.ols('TRAVEL_TIME_SH_PV_DIFF ~ PRIVATE_TRAVEL_TIME', data=pooled_df).fit()\n",
    "print(results.summary())"
   ]
  },
  {
   "cell_type": "code",
   "execution_count": null,
   "metadata": {},
   "outputs": [],
   "source": [
    "# add in density at the origin and destination as two separate variables\n",
    "results = smf.ols('TRAVEL_TIME_SH_PV_DIFF ~ TRIP_LENGTH_MILES', data=df3).fit()\n",
    "print(results.summary())"
   ]
  },
  {
   "cell_type": "code",
   "execution_count": null,
   "metadata": {},
   "outputs": [],
   "source": []
  },
  {
   "cell_type": "code",
   "execution_count": null,
   "metadata": {},
   "outputs": [],
   "source": [
    "acs = pd.read_csv('C:/Workspace/TNC-Demand-Model/Outputs/Chicago_ACS_Data.csv')"
   ]
  },
  {
   "cell_type": "code",
   "execution_count": null,
   "metadata": {},
   "outputs": [],
   "source": [
    "area = gp.read_file('C:/Workspace/TNC-Demand-Model/Inputs/Census Shapefiles/Illinois/Chicago Tracts/geo_export_558aad9f-98d8-4dd5-a6b1-c1730155d596.shp')"
   ]
  },
  {
   "cell_type": "code",
   "execution_count": null,
   "metadata": {},
   "outputs": [],
   "source": [
    "area = area.to_crs('EPSG:26971')"
   ]
  },
  {
   "cell_type": "code",
   "execution_count": null,
   "metadata": {},
   "outputs": [],
   "source": [
    "area['AREA_SQ_MI'] = area.area/2590000"
   ]
  },
  {
   "cell_type": "code",
   "execution_count": null,
   "metadata": {},
   "outputs": [],
   "source": [
    "area['CENSUS_TRACT'] = area.geoid10.astype(float)"
   ]
  },
  {
   "cell_type": "code",
   "execution_count": null,
   "metadata": {},
   "outputs": [],
   "source": [
    "acs_area = acs_area.groupby(by = ['YEAR','MONTH','CENSUS_TRACT'], as_index = False).mean()"
   ]
  },
  {
   "cell_type": "code",
   "execution_count": null,
   "metadata": {},
   "outputs": [],
   "source": [
    "acs_area = acs.merge(area, how = 'left', on = 'CENSUS_TRACT')"
   ]
  },
  {
   "cell_type": "code",
   "execution_count": null,
   "metadata": {},
   "outputs": [],
   "source": [
    "acs_area['POP_DEN'] = acs_area['TOTAL_POP']/acs_area['AREA_SQ_MI']"
   ]
  },
  {
   "cell_type": "code",
   "execution_count": null,
   "metadata": {},
   "outputs": [],
   "source": [
    "acs_area['HHLDS_DEN'] = acs_area['TOTAL_HHLDS']/acs_area['AREA_SQ_MI']"
   ]
  },
  {
   "cell_type": "code",
   "execution_count": null,
   "metadata": {},
   "outputs": [],
   "source": [
    "df3 = df3.merge(acs_area[['CENSUS_TRACT','POP_DEN','HHLDS_DEN','YEAR','MONTH']], how = 'left', left_on = ['ORIGIN','MONTH','YEAR'], right_on = ['CENSUS_TRACT','MONTH','YEAR'])"
   ]
  },
  {
   "cell_type": "code",
   "execution_count": null,
   "metadata": {},
   "outputs": [],
   "source": [
    "df3 = df3.merge(acs_area[['CENSUS_TRACT','POP_DEN','HHLDS_DEN','YEAR','MONTH']], how = 'left', left_on = ['DESTINATION','MONTH','YEAR'], right_on = ['CENSUS_TRACT','MONTH','YEAR'], suffixes = ('_ORIGIN','_DESTINATION'))"
   ]
  },
  {
   "cell_type": "code",
   "execution_count": null,
   "metadata": {},
   "outputs": [],
   "source": []
  },
  {
   "cell_type": "code",
   "execution_count": null,
   "metadata": {},
   "outputs": [],
   "source": [
    "#try densisty variables at the origin and destination\n",
    "results = smf.ols('TRAVEL_TIME_SH_PV_DIFF ~ TRIP_LENGTH_MILES + POP_DEN_ORIGIN + POP_DEN_DESTINATION', data=df3).fit()\n",
    "print(results.summary())"
   ]
  },
  {
   "cell_type": "code",
   "execution_count": null,
   "metadata": {},
   "outputs": [],
   "source": [
    "#try using the matched trips with difference between matched and unmatched travel time\n",
    "results = smf.ols('TRAVEL_TIME_MA_SH_DIFF ~  TRIP_LENGTH_MILES + POP_DEN_ORIGIN + POP_DEN_DESTINATION', data=pooled_df).fit()\n",
    "print(results.summary())"
   ]
  },
  {
   "cell_type": "code",
   "execution_count": null,
   "metadata": {},
   "outputs": [],
   "source": [
    "area2 = area.merge(df3, how = 'left', left_on = 'CENSUS_TRACT', right_on = 'DESTINATION')\n",
    "area2.to_file('C:/Workspace/TNC-Demand-Model/Outputs/TT_Diff_Map_Dest.shp', driver = 'ESRI Shapefile')"
   ]
  },
  {
   "cell_type": "code",
   "execution_count": null,
   "metadata": {},
   "outputs": [],
   "source": [
    "test = sns.scatterplot(x = df3['PRIVATE_TRAVEL_TIME'], y = df3['TRAVEL_TIME_SH_PV_DIFF'])\n",
    "                       \n",
    "#test.set_ylim(0,100)\n",
    "#test.set_xlim(0,100)"
   ]
  },
  {
   "cell_type": "code",
   "execution_count": null,
   "metadata": {},
   "outputs": [],
   "source": [
    "test = sns.scatterplot(x = df3['TRIP_LENGTH_MILES'], y = df3['TRAVEL_TIME_SH_PV_DIFF'])\n",
    "                       \n",
    "#test.set_ylim(0,100)\n",
    "#test.set_xlim(0,100)"
   ]
  },
  {
   "cell_type": "code",
   "execution_count": 2,
   "metadata": {},
   "outputs": [
    {
     "ename": "NameError",
     "evalue": "name 'df3' is not defined",
     "output_type": "error",
     "traceback": [
      "\u001b[1;31m---------------------------------------------------------------------------\u001b[0m",
      "\u001b[1;31mNameError\u001b[0m                                 Traceback (most recent call last)",
      "\u001b[1;32m<ipython-input-2-6d5630225f59>\u001b[0m in \u001b[0;36m<module>\u001b[1;34m\u001b[0m\n\u001b[1;32m----> 1\u001b[1;33m \u001b[0mtest\u001b[0m \u001b[1;33m=\u001b[0m \u001b[0msns\u001b[0m\u001b[1;33m.\u001b[0m\u001b[0mscatterplot\u001b[0m\u001b[1;33m(\u001b[0m\u001b[0mx\u001b[0m \u001b[1;33m=\u001b[0m \u001b[0mdf3\u001b[0m\u001b[1;33m[\u001b[0m\u001b[1;34m'POP_DEN_ORIGIN'\u001b[0m\u001b[1;33m]\u001b[0m\u001b[1;33m,\u001b[0m \u001b[0my\u001b[0m \u001b[1;33m=\u001b[0m \u001b[0mdf3\u001b[0m\u001b[1;33m[\u001b[0m\u001b[1;34m'TRAVEL_TIME_SH_PV_DIFF'\u001b[0m\u001b[1;33m]\u001b[0m\u001b[1;33m)\u001b[0m\u001b[1;33m\u001b[0m\u001b[1;33m\u001b[0m\u001b[0m\n\u001b[0m\u001b[0;32m      2\u001b[0m \u001b[1;33m\u001b[0m\u001b[0m\n\u001b[0;32m      3\u001b[0m \u001b[1;31m#test.set_ylim(0,100)\u001b[0m\u001b[1;33m\u001b[0m\u001b[1;33m\u001b[0m\u001b[1;33m\u001b[0m\u001b[0m\n\u001b[0;32m      4\u001b[0m \u001b[1;31m#test.set_xlim(0,100)\u001b[0m\u001b[1;33m\u001b[0m\u001b[1;33m\u001b[0m\u001b[1;33m\u001b[0m\u001b[0m\n",
      "\u001b[1;31mNameError\u001b[0m: name 'df3' is not defined"
     ]
    }
   ],
   "source": [
    "test = sns.scatterplot(x = df3['POP_DEN_ORIGIN'], y = df3['TRAVEL_TIME_SH_PV_DIFF'])\n",
    "                       \n",
    "#test.set_ylim(0,100)\n",
    "#test.set_xlim(0,100)"
   ]
  },
  {
   "cell_type": "code",
   "execution_count": null,
   "metadata": {},
   "outputs": [],
   "source": [
    "test = sns.scatterplot(x = df3['POP_DEN_ORIGIN'], y = pooled_df['TRAVEL_TIME_MA_SH_DIFF'])\n",
    "                       \n",
    "#test.set_ylim(0,100)\n",
    "#test.set_xlim(0,100)"
   ]
  },
  {
   "cell_type": "code",
   "execution_count": null,
   "metadata": {},
   "outputs": [],
   "source": [
    "df3[df3['TRAVEL_TIME_SH_PV_DIFF'] > 20]"
   ]
  },
  {
   "cell_type": "code",
   "execution_count": null,
   "metadata": {},
   "outputs": [],
   "source": [
    "df3[df3['TRAVEL_TIME_SH_PV_DIFF'] > 20][['PRIVATE_TRAVEL_TIME', 'SHARED_TRAVEL_TIME','PRIVATE_TRIP_LENGTH','SHARED_TRIP_LENGTH','NUM_TRIPS_POOLED','PRIVATE_SPEED','SHARED_SPEED']]"
   ]
  },
  {
   "cell_type": "code",
   "execution_count": null,
   "metadata": {},
   "outputs": [],
   "source": [
    "df3['PRIVATE_SPEED'] = df3['PRIVATE_TRIP_LENGTH']/(df3['PRIVATE_TRAVEL_TIME']/60)"
   ]
  },
  {
   "cell_type": "code",
   "execution_count": null,
   "metadata": {},
   "outputs": [],
   "source": [
    "df3['SHARED_SPEED'] = df3['SHARED_TRIP_LENGTH']/(df3['SHARED_TRAVEL_TIME']/60)"
   ]
  },
  {
   "cell_type": "code",
   "execution_count": null,
   "metadata": {},
   "outputs": [],
   "source": [
    "df3[df3['TRAVEL_TIME_SH_PV_DIFF'] < -20][['PRIVATE_TRAVEL_TIME','SHARED_TRAVEL_TIME','SHARED_TRIP_LENGTH','PRIVATE_TRIP_LENGTH','PRIVATE_SPEED','SHARED_SPEED','INTERNAL_SUPPPRESSED_FLAGGER']]"
   ]
  },
  {
   "cell_type": "code",
   "execution_count": null,
   "metadata": {},
   "outputs": [],
   "source": [
    "samp[(samp['ORIGIN'] == 17031150800)&(samp['DESTINATION'] == 17031151200)&(samp['YEAR'] == 2018)&(samp['MONTH'] == 11)]"
   ]
  },
  {
   "cell_type": "code",
   "execution_count": null,
   "metadata": {},
   "outputs": [],
   "source": [
    "#try using the matched trips with difference between matched and unmatched travel time\n",
    "results = smf.ols('TRAVEL_TIME_SH_PV_DIFF ~  + 1', data=pooled_df).fit()\n",
    "print(results.summary())"
   ]
  },
  {
   "cell_type": "code",
   "execution_count": null,
   "metadata": {},
   "outputs": [],
   "source": [
    "len(df2[df2['NUM_TRIPS_POOLED'] > 1])/len(df2[df2['SHARED_TRIP'] == 1])"
   ]
  },
  {
   "cell_type": "code",
   "execution_count": null,
   "metadata": {},
   "outputs": [],
   "source": [
    "len(df2[df2['NUM_TRIPS_POOLED'] > 1])/len(df2)"
   ]
  },
  {
   "cell_type": "code",
   "execution_count": null,
   "metadata": {},
   "outputs": [],
   "source": []
  },
  {
   "cell_type": "code",
   "execution_count": null,
   "metadata": {},
   "outputs": [],
   "source": [
    "pooled_df['TRIP_LENGTH_MILES_1'] = np.where(pooled_df['TOD_1'] == 1, pooled_df['TRIP_LENGTH_MILES'],0)\n",
    "pooled_df['TRIP_LENGTH_MILES_2'] = np.where(pooled_df['TOD_2'] == 1, pooled_df['TRIP_LENGTH_MILES'],0)\n",
    "pooled_df['TRIP_LENGTH_MILES_3'] = np.where(pooled_df['TOD_3'] == 1, pooled_df['TRIP_LENGTH_MILES'],0)\n",
    "pooled_df['TRIP_LENGTH_MILES_4'] = np.where(pooled_df['TOD_4'] == 1, pooled_df['TRIP_LENGTH_MILES'],0)\n",
    "pooled_df['TRIP_LENGTH_MILES_5'] = np.where(pooled_df['TOD_5'] == 1, pooled_df['TRIP_LENGTH_MILES'],0)"
   ]
  },
  {
   "cell_type": "code",
   "execution_count": null,
   "metadata": {},
   "outputs": [],
   "source": []
  },
  {
   "cell_type": "code",
   "execution_count": null,
   "metadata": {},
   "outputs": [],
   "source": [
    "\n",
    "results = smf.ols('TRAVEL_TIME_SH_PV_DIFF ~ TRIP_LENGTH_MILES + TRIP_LENGTH_MILES_2 + TRIP_LENGTH_MILES_3 + TRIP_LENGTH_MILES_4 + TRIP_LENGTH_MILES_5 - 1', data=pooled_df).fit()\n",
    "print(results.summary())"
   ]
  },
  {
   "cell_type": "code",
   "execution_count": null,
   "metadata": {},
   "outputs": [],
   "source": [
    "#LEAVE OUT TOD ASPECT\n",
    "results = smf.ols('TRAVEL_TIME_SH_PV_DIFF ~ TRIP_LENGTH_MILES  + TOD_2 + TOD_3 + TOD_4 + TOD_5 ', data=pooled_df).fit()\n",
    "print(results.summary())"
   ]
  },
  {
   "cell_type": "code",
   "execution_count": null,
   "metadata": {},
   "outputs": [],
   "source": []
  },
  {
   "cell_type": "code",
   "execution_count": null,
   "metadata": {},
   "outputs": [],
   "source": []
  }
 ],
 "metadata": {
  "kernelspec": {
   "display_name": "Python 3",
   "language": "python",
   "name": "python3"
  },
  "language_info": {
   "codemirror_mode": {
    "name": "ipython",
    "version": 3
   },
   "file_extension": ".py",
   "mimetype": "text/x-python",
   "name": "python",
   "nbconvert_exporter": "python",
   "pygments_lexer": "ipython3",
   "version": "3.7.6"
  }
 },
 "nbformat": 4,
 "nbformat_minor": 4
}
