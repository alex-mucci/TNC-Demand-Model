{
 "cells": [
  {
   "cell_type": "code",
   "execution_count": 2,
   "metadata": {},
   "outputs": [],
   "source": [
    "import pandas as pd\n",
    "import numpy as np\n",
    "import folium\n",
    "import geopandas as gp\n"
   ]
  },
  {
   "cell_type": "markdown",
   "metadata": {},
   "source": [
    "## Pull out the suppresed trips and assign them to census tracts\n",
    "\n",
    "* Trips are suppressed to community areas when there is less than 3 trips for OD-15min \n",
    "* Assign those trips randomly to the census tracts within the community area that the suppressed trip is assigned to"
   ]
  },
  {
   "cell_type": "code",
   "execution_count": 6,
   "metadata": {},
   "outputs": [],
   "source": [
    "tods = [1,2,3,4,5]\n",
    "years = [2018,2019,2020]\n"
   ]
  },
  {
   "cell_type": "code",
   "execution_count": 7,
   "metadata": {},
   "outputs": [],
   "source": [
    "agg = {'SCALED_SUP_PRIVATE_TRIPS':'sum', 'SCALED_SUP_SHARED_TRIPS':'sum', 'Pickup Community Area':'first', 'Dropoff Community Area':'first'}"
   ]
  },
  {
   "cell_type": "code",
   "execution_count": 30,
   "metadata": {},
   "outputs": [],
   "source": [
    "df2 = pd.read_hdf('D:/TNC-Demand-Model/Inputs/Chicago Ride-Hailing/Chicago_TNC_Trips_20.H5', where = 'YEAR == ' + str(year), key = 'Weekday_' + str(tod))\n"
   ]
  },
  {
   "cell_type": "code",
   "execution_count": 31,
   "metadata": {},
   "outputs": [
    {
     "data": {
      "text/html": [
       "<div>\n",
       "<style scoped>\n",
       "    .dataframe tbody tr th:only-of-type {\n",
       "        vertical-align: middle;\n",
       "    }\n",
       "\n",
       "    .dataframe tbody tr th {\n",
       "        vertical-align: top;\n",
       "    }\n",
       "\n",
       "    .dataframe thead th {\n",
       "        text-align: right;\n",
       "    }\n",
       "</style>\n",
       "<table border=\"1\" class=\"dataframe\">\n",
       "  <thead>\n",
       "    <tr style=\"text-align: right;\">\n",
       "      <th></th>\n",
       "      <th>Trip ID</th>\n",
       "      <th>Trip Start Timestamp</th>\n",
       "      <th>Trip End Timestamp</th>\n",
       "      <th>Trip Seconds</th>\n",
       "      <th>Trip Miles</th>\n",
       "      <th>Pickup Census Tract</th>\n",
       "      <th>Dropoff Census Tract</th>\n",
       "      <th>Pickup Community Area</th>\n",
       "      <th>Dropoff Community Area</th>\n",
       "      <th>Fare</th>\n",
       "      <th>...</th>\n",
       "      <th>Pickup Centroid Latitude</th>\n",
       "      <th>Pickup Centroid Longitude</th>\n",
       "      <th>Pickup Centroid Location</th>\n",
       "      <th>Dropoff Centroid Latitude</th>\n",
       "      <th>Dropoff Centroid Longitude</th>\n",
       "      <th>Dropoff Centroid Location</th>\n",
       "      <th>YEAR</th>\n",
       "      <th>MONTH</th>\n",
       "      <th>DOW</th>\n",
       "      <th>HOUR</th>\n",
       "    </tr>\n",
       "  </thead>\n",
       "  <tbody>\n",
       "  </tbody>\n",
       "</table>\n",
       "<p>0 rows × 25 columns</p>\n",
       "</div>"
      ],
      "text/plain": [
       "Empty DataFrame\n",
       "Columns: [Trip ID, Trip Start Timestamp, Trip End Timestamp, Trip Seconds, Trip Miles, Pickup Census Tract, Dropoff Census Tract, Pickup Community Area, Dropoff Community Area, Fare, Tip, Additional Charges, Trip Total, Shared Trip Authorized, Trips Pooled, Pickup Centroid Latitude, Pickup Centroid Longitude, Pickup Centroid Location, Dropoff Centroid Latitude, Dropoff Centroid Longitude, Dropoff Centroid Location, YEAR, MONTH, DOW, HOUR]\n",
       "Index: []\n",
       "\n",
       "[0 rows x 25 columns]"
      ]
     },
     "execution_count": 31,
     "metadata": {},
     "output_type": "execute_result"
    }
   ],
   "source": [
    "df2"
   ]
  },
  {
   "cell_type": "code",
   "execution_count": 11,
   "metadata": {},
   "outputs": [],
   "source": [
    "store = pd.HDFStore('D:/TNC-Demand-Model/Inputs/Chicago Ride-Hailing/Incomplete H5 file/Chicago_TNC_Trips_20.H5')\n"
   ]
  },
  {
   "cell_type": "code",
   "execution_count": 12,
   "metadata": {},
   "outputs": [],
   "source": [
    "#df = pd.read_hdf('C:/Workspace/TNC-Demand-Model/Inputs/Chicago Ride-Hailing/Chicago_TNC_Trips_20.H5', where = ['YEAR == 2019'], key = 'Weekday_' + str(1))"
   ]
  },
  {
   "cell_type": "code",
   "execution_count": 28,
   "metadata": {},
   "outputs": [],
   "source": [
    "df = store.select(where = ['YEAR == 2018'], key = 'Weekday_' + str(1))"
   ]
  },
  {
   "cell_type": "code",
   "execution_count": 29,
   "metadata": {},
   "outputs": [
    {
     "data": {
      "text/plain": [
       "Timestamp('2018-11-01 01:00:00')"
      ]
     },
     "execution_count": 29,
     "metadata": {},
     "output_type": "execute_result"
    }
   ],
   "source": [
    "df[df['MONTH'] == 11]['Trip Start Timestamp'].min()"
   ]
  },
  {
   "cell_type": "code",
   "execution_count": null,
   "metadata": {
    "scrolled": true
   },
   "outputs": [
    {
     "name": "stdout",
     "output_type": "stream",
     "text": [
      "Working on year 2018\n",
      "Working on month 11\n",
      "Working on tod 1\n",
      "Filtering the Data!\n",
      "563808 Trip Records with Suppressed Origin and Destination out of 1800773\n",
      "138037 Trip Records Outside of Chicago but within cook county out of 1800773\n",
      "978219 Trip Records with both trip ends within Chicago out of 1800773\n",
      "258746 Trip Records with one trip end outside of Cook county out of 1800773\n",
      "There are 31928.0321587769 Average Weekday Trips that are Suppressed!\n",
      "Working on assigning suppressed trips!\n",
      "Working on tod 2\n",
      "Filtering the Data!\n",
      "330100 Trip Records with Suppressed Origin and Destination out of 1558829\n",
      "89564 Trip Records Outside of Chicago but within cook county out of 1558829\n",
      "1035235 Trip Records with both trip ends within Chicago out of 1558829\n",
      "193494 Trip Records with one trip end outside of Cook county out of 1558829\n",
      "There are 20861.294404417393 Average Weekday Trips that are Suppressed!\n",
      "Working on assigning suppressed trips!\n",
      "Working on tod 3\n",
      "Filtering the Data!\n",
      "835235 Trip Records with Suppressed Origin and Destination out of 3599337\n",
      "261514 Trip Records Outside of Chicago but within cook county out of 3599337\n",
      "2246895 Trip Records with both trip ends within Chicago out of 3599337\n",
      "517207 Trip Records with one trip end outside of Cook county out of 3599337\n",
      "There are 44364.684112473355 Average Weekday Trips that are Suppressed!\n",
      "Working on assigning suppressed trips!\n",
      "Working on tod 4\n",
      "Filtering the Data!\n",
      "338608 Trip Records with Suppressed Origin and Destination out of 2307651\n",
      "128429 Trip Records Outside of Chicago but within cook county out of 2307651\n",
      "1711140 Trip Records with both trip ends within Chicago out of 2307651\n",
      "257903 Trip Records with one trip end outside of Cook county out of 2307651\n",
      "There are 21787.7802936099 Average Weekday Trips that are Suppressed!\n",
      "Working on assigning suppressed trips!\n",
      "Working on tod 5\n",
      "Filtering the Data!\n",
      "317564 Trip Records with Suppressed Origin and Destination out of 2181662\n",
      "150523 Trip Records Outside of Chicago but within cook county out of 2181662\n",
      "1619880 Trip Records with both trip ends within Chicago out of 2181662\n",
      "244218 Trip Records with one trip end outside of Cook county out of 2181662\n",
      "There are 20955.34950771193 Average Weekday Trips that are Suppressed!\n",
      "Working on assigning suppressed trips!\n",
      "11737.837696777973\n",
      "9977.80370089952\n",
      "Working on month 12\n",
      "Working on tod 1\n",
      "Filtering the Data!\n",
      "563808 Trip Records with Suppressed Origin and Destination out of 1800773\n",
      "138037 Trip Records Outside of Chicago but within cook county out of 1800773\n",
      "978219 Trip Records with both trip ends within Chicago out of 1800773\n",
      "258746 Trip Records with one trip end outside of Cook county out of 1800773\n",
      "There are 31928.0321587769 Average Weekday Trips that are Suppressed!\n",
      "Working on assigning suppressed trips!\n",
      "Working on tod 2\n",
      "Filtering the Data!\n",
      "330100 Trip Records with Suppressed Origin and Destination out of 1558829\n",
      "89564 Trip Records Outside of Chicago but within cook county out of 1558829\n",
      "1035235 Trip Records with both trip ends within Chicago out of 1558829\n",
      "193494 Trip Records with one trip end outside of Cook county out of 1558829\n",
      "There are 20861.294404417393 Average Weekday Trips that are Suppressed!\n",
      "Working on assigning suppressed trips!\n",
      "Working on tod 3\n",
      "Filtering the Data!\n",
      "835235 Trip Records with Suppressed Origin and Destination out of 3599337\n",
      "261514 Trip Records Outside of Chicago but within cook county out of 3599337\n",
      "2246895 Trip Records with both trip ends within Chicago out of 3599337\n",
      "517207 Trip Records with one trip end outside of Cook county out of 3599337\n",
      "There are 44364.684112473355 Average Weekday Trips that are Suppressed!\n",
      "Working on assigning suppressed trips!\n",
      "Working on tod 4\n",
      "Filtering the Data!\n",
      "338608 Trip Records with Suppressed Origin and Destination out of 2307651\n",
      "128429 Trip Records Outside of Chicago but within cook county out of 2307651\n",
      "1711140 Trip Records with both trip ends within Chicago out of 2307651\n",
      "257903 Trip Records with one trip end outside of Cook county out of 2307651\n",
      "There are 21787.7802936099 Average Weekday Trips that are Suppressed!\n",
      "Working on assigning suppressed trips!\n",
      "Working on tod 5\n",
      "Filtering the Data!\n",
      "317564 Trip Records with Suppressed Origin and Destination out of 2181662\n",
      "150523 Trip Records Outside of Chicago but within cook county out of 2181662\n",
      "1619880 Trip Records with both trip ends within Chicago out of 2181662\n",
      "244218 Trip Records with one trip end outside of Cook county out of 2181662\n",
      "There are 20955.34950771193 Average Weekday Trips that are Suppressed!\n",
      "Working on assigning suppressed trips!\n",
      "11739.762595880053\n",
      "9972.377618493183\n",
      "Working on year 2019\n",
      "Working on month 1\n",
      "Working on tod 1\n",
      "Filtering the Data!\n",
      "2580492 Trip Records with Suppressed Origin and Destination out of 8339655\n",
      "683789 Trip Records Outside of Chicago but within cook county out of 8339655\n",
      "4470381 Trip Records with both trip ends within Chicago out of 8339655\n",
      "1288782 Trip Records with one trip end outside of Cook county out of 8339655\n",
      "There are 154487.06237014208 Average Weekday Trips that are Suppressed!\n",
      "Working on assigning suppressed trips!\n",
      "Working on tod 2\n",
      "Filtering the Data!\n",
      "1498707 Trip Records with Suppressed Origin and Destination out of 7512705\n",
      "461318 Trip Records Outside of Chicago but within cook county out of 7512705\n",
      "4992284 Trip Records with both trip ends within Chicago out of 7512705\n",
      "1021714 Trip Records with one trip end outside of Cook county out of 7512705\n",
      "There are 102615.52442144143 Average Weekday Trips that are Suppressed!\n",
      "Working on assigning suppressed trips!\n",
      "Working on tod 3\n",
      "Filtering the Data!\n",
      "3785440 Trip Records with Suppressed Origin and Destination out of 17460851\n",
      "1314076 Trip Records Outside of Chicago but within cook county out of 17460851\n",
      "11043250 Trip Records with both trip ends within Chicago out of 17460851\n",
      "2632161 Trip Records with one trip end outside of Cook county out of 17460851\n",
      "There are 209194.9435302245 Average Weekday Trips that are Suppressed!\n",
      "Working on assigning suppressed trips!\n",
      "Working on tod 4\n",
      "Filtering the Data!\n",
      "1506166 Trip Records with Suppressed Origin and Destination out of 10436084\n",
      "637182 Trip Records Outside of Chicago but within cook county out of 10436084\n",
      "7666998 Trip Records with both trip ends within Chicago out of 10436084\n",
      "1262920 Trip Records with one trip end outside of Cook county out of 10436084\n",
      "There are 105816.10681616212 Average Weekday Trips that are Suppressed!\n",
      "Working on assigning suppressed trips!\n",
      "Working on tod 5\n",
      "Filtering the Data!\n",
      "1437111 Trip Records with Suppressed Origin and Destination out of 9928328\n",
      "746823 Trip Records Outside of Chicago but within cook county out of 9928328\n",
      "7307411 Trip Records with both trip ends within Chicago out of 9928328\n",
      "1183806 Trip Records with one trip end outside of Cook county out of 9928328\n",
      "There are 103786.41337431115 Average Weekday Trips that are Suppressed!\n",
      "Working on assigning suppressed trips!\n",
      "12215.992501890554\n",
      "7554.6298377864105\n",
      "Working on month 2\n",
      "Working on tod 1\n",
      "Filtering the Data!\n",
      "2580492 Trip Records with Suppressed Origin and Destination out of 8339655\n",
      "683789 Trip Records Outside of Chicago but within cook county out of 8339655\n",
      "4470381 Trip Records with both trip ends within Chicago out of 8339655\n",
      "1288782 Trip Records with one trip end outside of Cook county out of 8339655\n",
      "There are 154487.06237014208 Average Weekday Trips that are Suppressed!\n",
      "Working on assigning suppressed trips!\n",
      "Working on tod 2\n",
      "Filtering the Data!\n",
      "1498707 Trip Records with Suppressed Origin and Destination out of 7512705\n",
      "461318 Trip Records Outside of Chicago but within cook county out of 7512705\n",
      "4992284 Trip Records with both trip ends within Chicago out of 7512705\n",
      "1021714 Trip Records with one trip end outside of Cook county out of 7512705\n",
      "There are 102615.52442144143 Average Weekday Trips that are Suppressed!\n",
      "Working on assigning suppressed trips!\n",
      "Working on tod 3\n",
      "Filtering the Data!\n",
      "3785440 Trip Records with Suppressed Origin and Destination out of 17460851\n",
      "1314076 Trip Records Outside of Chicago but within cook county out of 17460851\n",
      "11043250 Trip Records with both trip ends within Chicago out of 17460851\n",
      "2632161 Trip Records with one trip end outside of Cook county out of 17460851\n",
      "There are 209194.9435302245 Average Weekday Trips that are Suppressed!\n",
      "Working on assigning suppressed trips!\n"
     ]
    }
   ],
   "source": [
    "conflation = pd.read_csv('D:/TNC-Demand-Model/Inputs/Chicago Community Areas/Community_Area_to_Census_Tract.csv')\n",
    "conflation['COMMUNITY_AREA'] = conflation.area_num_1.astype(float)\n",
    "store = pd.HDFStore('D:/TNC-Demand-Model/Inputs/Chicago Ride-Hailing/Incomplete H5 file/Chicago_TNC_Trips_20.H5')\n",
    "\n",
    "for year in years:  \n",
    "    if year == 2018:\n",
    "        months = [11,12]\n",
    "    elif year == 2020:\n",
    "        months = [1,2]\n",
    "    else:\n",
    "        months = [1,2,3,4,5,6,7,8,9,10,11,12]\n",
    "        \n",
    "    print('Working on year ' + str(year))\n",
    "    df5 = pd.DataFrame()\n",
    "    \n",
    "    for month in months:\n",
    "        print('Working on month ' + str(month))\n",
    "        df4 = pd.DataFrame()\n",
    "        \n",
    "        for tod in tods:\n",
    "            print('Working on tod ' + str(tod))\n",
    "\n",
    "            df3 = pd.DataFrame()\n",
    "            df2 = pd.DataFrame()\n",
    "            df = pd.DataFrame()\n",
    "            df = store.select(where = ['YEAR == ' + str(year)], key = 'Weekday_' + str(tod))\n",
    "\n",
    "            print('Filtering the Data!')\n",
    "           # df = df[df['MONTH'].isin(months)]\n",
    "            df['DAY'] = df['Trip Start Timestamp'].dt.day\n",
    "\n",
    "            print(str(len(df[(~np.isnan(df['Pickup Community Area']))&(np.isnan(df['Pickup Census Tract']))&(~np.isnan(df['Dropoff Community Area'])) & (np.isnan(df['Dropoff Census Tract']))])) +  ' Trip Records with Suppressed Origin and Destination out of ' + str(len(df)) )\n",
    "            print(str(len(df[((np.isnan(df['Pickup Community Area']))&(~np.isnan(df['Pickup Census Tract'])))|((np.isnan(df['Dropoff Community Area'])) & (np.isnan(df['Dropoff Census Tract'])))])) +  ' Trip Records Outside of Chicago but within cook county out of ' + str(len(df)) )\n",
    "            print(str(len(df[((~np.isnan(df['Pickup Community Area']))&(~np.isnan(df['Pickup Census Tract'])))&((~np.isnan(df['Dropoff Community Area'])) & (~np.isnan(df['Dropoff Census Tract'])))])) +  ' Trip Records with both trip ends within Chicago out of ' + str(len(df)) )\n",
    "            print(str(len(df[(np.isnan(df['Pickup Community Area']))|(np.isnan(df['Dropoff Community Area']))])) +  ' Trip Records with one trip end outside of Cook county out of ' + str(len(df)) )\n",
    "\n",
    "\n",
    "            #select out the trips that have community area data and are missing census tract data \n",
    "            df['SUP_PRIVATE_TRIPS'] = np.where(df['Shared Trip Authorized'] == False, 1, 0)\n",
    "            df['SUP_SHARED_TRIPS'] = np.where(df['Shared Trip Authorized'] == True, 1, 0)\n",
    "            df = df[(np.isnan(df['Pickup Census Tract']))|(np.isnan(df['Dropoff Census Tract']))]\n",
    "            df = df[~np.isnan(df['Pickup Community Area'])&(~np.isnan(df['Dropoff Community Area']))]\n",
    "\n",
    "\n",
    "            df = df.groupby(by = ['Pickup Community Area', 'Dropoff Community Area', 'YEAR','MONTH','DAY'], as_index = False).sum()\n",
    "            df = df.groupby(by = ['Pickup Community Area', 'Dropoff Community Area','YEAR','MONTH'], as_index = False).mean()\n",
    "\n",
    "            print('There are ' +str(df.SUP_PRIVATE_TRIPS.sum() + df.SUP_SHARED_TRIPS.sum()) + ' Average Weekday Trips that are Suppressed!')\n",
    "\n",
    "            #make a column to iterate through\n",
    "            df['OD_PAIRS'] = df['Pickup Community Area'].astype(str) + '_' + df['Dropoff Community Area'].astype(str)\n",
    "\n",
    "            #iterate through each of the suppressed Community Areas\n",
    "            print('Working on assigning suppressed trips!')\n",
    "            for od in df['OD_PAIRS'].unique():\n",
    "\n",
    "                #select out the trips that are originating from the given community area\n",
    "                od_trips = df[df['OD_PAIRS'] == od]\n",
    "\n",
    "                #conflate the community area to the census tract centroids that fall within it\n",
    "                df2 = od_trips[['SUP_PRIVATE_TRIPS', 'SUP_SHARED_TRIPS', 'Pickup Community Area', 'Dropoff Community Area']].merge(conflation[['GEOID','COMMUNITY_AREA']], how = 'left', left_on = 'Pickup Community Area' , right_on = 'COMMUNITY_AREA')\n",
    "                df2 = df2.merge(conflation[['GEOID','area_num_1']], how = 'left', left_on = 'Dropoff Community Area' , right_on = 'area_num_1', suffixes = ('_PICKUP','_DROPOFF'))\n",
    "\n",
    "                df2['SCALAR'] = np.random.dirichlet(np.ones(len(df2)))\n",
    "                df2['SCALED_SUP_PRIVATE_TRIPS'] = df2['SUP_PRIVATE_TRIPS']*df2['SCALAR']\n",
    "                df2['SCALED_SUP_SHARED_TRIPS'] = df2['SUP_SHARED_TRIPS']*df2['SCALAR']\n",
    "                df3 = df3.append(df2)\n",
    "            df3['TOD'] = tod       \n",
    "            \n",
    "            df4 = df3.append(df3)\n",
    "        df4['MONTH'] = month\n",
    "        print(str(df4.SCALED_SUP_PRIVATE_TRIPS.sum()))\n",
    "        print(str(df4.SCALED_SUP_SHARED_TRIPS.sum()))\n",
    "        \n",
    "        df5 = df4.append(df4)\n",
    "    df5['YEAR'] = year    \n",
    "       \n",
    "    df6 = df5.append(df5)\n",
    "    \n",
    "\n",
    "grouped = df6[['SCALED_SUP_PRIVATE_TRIPS','SCALED_SUP_SHARED_TRIPS', 'GEOID_PICKUP','GEOID_DROPOFF', 'MONTH','YEAR','Pickup Community Area', 'Dropoff Community Area']].groupby(by = ['GEOID_PICKUP', 'GEOID_DROPOFF','MONTH','YEAR'], as_index = False).agg(agg)        \n",
    "\n",
    "\n",
    "\n",
    "\n",
    "print('Everyting is Complete!')"
   ]
  },
  {
   "cell_type": "markdown",
   "metadata": {},
   "source": [
    "## Total Number of Suppressed Trips"
   ]
  },
  {
   "cell_type": "code",
   "execution_count": null,
   "metadata": {},
   "outputs": [],
   "source": [
    "df_all.SCALED_SUP_PRIVATE_TRIPS.sum() + df_all.SCALED_SUP_SHARED_TRIPS.sum()"
   ]
  },
  {
   "cell_type": "markdown",
   "metadata": {},
   "source": [
    "## Aggregate the data to an average weekday by TOD"
   ]
  },
  {
   "cell_type": "code",
   "execution_count": 10,
   "metadata": {},
   "outputs": [],
   "source": []
  },
  {
   "cell_type": "code",
   "execution_count": 11,
   "metadata": {},
   "outputs": [],
   "source": []
  },
  {
   "cell_type": "code",
   "execution_count": 12,
   "metadata": {},
   "outputs": [],
   "source": [
    "grouped.to_csv('C:/Workspace/TNC-Demand-Model/Inputs/Chicago Ride-Hailing/Monthly Suppressed Trips.csv')"
   ]
  },
  {
   "cell_type": "markdown",
   "metadata": {},
   "source": [
    "## Visualize the Suppressed Trips"
   ]
  },
  {
   "cell_type": "code",
   "execution_count": 13,
   "metadata": {},
   "outputs": [],
   "source": [
    "grouped['TOTAL_SUP_TRIPS'] = grouped.SCALED_SUP_PRIVATE_TRIPS + grouped.SCALED_SUP_SHARED_TRIPS"
   ]
  },
  {
   "cell_type": "code",
   "execution_count": 14,
   "metadata": {},
   "outputs": [],
   "source": [
    "origin = grouped[['GEOID_PICKUP', 'TOTAL_SUP_TRIPS']].groupby(by = 'GEOID_PICKUP', as_index = False).sum()\n",
    "dest = grouped[['GEOID_DROPOFF', 'TOTAL_SUP_TRIPS']].groupby(by = 'GEOID_DROPOFF', as_index = False).sum()"
   ]
  },
  {
   "cell_type": "code",
   "execution_count": 15,
   "metadata": {},
   "outputs": [],
   "source": [
    "geo = gp.read_file('C:/Workspace/TNC-Demand-Model/Inputs/Census Shapefiles/Chicago Tracts/geo_export_558aad9f-98d8-4dd5-a6b1-c1730155d596.shp')"
   ]
  },
  {
   "cell_type": "code",
   "execution_count": 16,
   "metadata": {},
   "outputs": [
    {
     "data": {
      "text/html": [
       "<div>\n",
       "<style scoped>\n",
       "    .dataframe tbody tr th:only-of-type {\n",
       "        vertical-align: middle;\n",
       "    }\n",
       "\n",
       "    .dataframe tbody tr th {\n",
       "        vertical-align: top;\n",
       "    }\n",
       "\n",
       "    .dataframe thead th {\n",
       "        text-align: right;\n",
       "    }\n",
       "</style>\n",
       "<table border=\"1\" class=\"dataframe\">\n",
       "  <thead>\n",
       "    <tr style=\"text-align: right;\">\n",
       "      <th></th>\n",
       "      <th>GEOID_PICKUP</th>\n",
       "      <th>TOTAL_SUP_TRIPS</th>\n",
       "    </tr>\n",
       "  </thead>\n",
       "  <tbody>\n",
       "    <tr>\n",
       "      <th>137</th>\n",
       "      <td>17031081403</td>\n",
       "      <td>116.343629</td>\n",
       "    </tr>\n",
       "  </tbody>\n",
       "</table>\n",
       "</div>"
      ],
      "text/plain": [
       "     GEOID_PICKUP  TOTAL_SUP_TRIPS\n",
       "137   17031081403       116.343629"
      ]
     },
     "execution_count": 16,
     "metadata": {},
     "output_type": "execute_result"
    }
   ],
   "source": [
    "origin[origin['GEOID_PICKUP'] == 17031081403]"
   ]
  },
  {
   "cell_type": "code",
   "execution_count": 17,
   "metadata": {},
   "outputs": [],
   "source": [
    "origin['GEOID_PICKUP'] = origin.GEOID_PICKUP.astype(float)\n",
    "dest['GEOID_DROPOFF'] = dest.GEOID_DROPOFF.astype(float)"
   ]
  },
  {
   "cell_type": "code",
   "execution_count": 18,
   "metadata": {},
   "outputs": [],
   "source": [
    "geo['geoid10'] = geo.geoid10.astype(float)"
   ]
  },
  {
   "cell_type": "code",
   "execution_count": 19,
   "metadata": {},
   "outputs": [],
   "source": [
    "centroids = pd.read_csv('C:/Workspace/TNC-Demand-Model/otp/points.csv')\n",
    "centroids = gp.GeoDataFrame(centroids)"
   ]
  },
  {
   "cell_type": "code",
   "execution_count": 20,
   "metadata": {},
   "outputs": [
    {
     "data": {
      "text/html": [
       "<div>\n",
       "<style scoped>\n",
       "    .dataframe tbody tr th:only-of-type {\n",
       "        vertical-align: middle;\n",
       "    }\n",
       "\n",
       "    .dataframe tbody tr th {\n",
       "        vertical-align: top;\n",
       "    }\n",
       "\n",
       "    .dataframe thead th {\n",
       "        text-align: right;\n",
       "    }\n",
       "</style>\n",
       "<table border=\"1\" class=\"dataframe\">\n",
       "  <thead>\n",
       "    <tr style=\"text-align: right;\">\n",
       "      <th></th>\n",
       "      <th>commarea</th>\n",
       "      <th>commarea_n</th>\n",
       "      <th>countyfp10</th>\n",
       "      <th>geoid10</th>\n",
       "      <th>name10</th>\n",
       "      <th>namelsad10</th>\n",
       "      <th>notes</th>\n",
       "      <th>statefp10</th>\n",
       "      <th>tractce10</th>\n",
       "      <th>geometry</th>\n",
       "    </tr>\n",
       "  </thead>\n",
       "  <tbody>\n",
       "    <tr>\n",
       "      <th>165</th>\n",
       "      <td>8</td>\n",
       "      <td>8.0</td>\n",
       "      <td>031</td>\n",
       "      <td>1.703108e+10</td>\n",
       "      <td>814.03</td>\n",
       "      <td>Census Tract 814.03</td>\n",
       "      <td>Small unpopulated area in CA 32</td>\n",
       "      <td>17</td>\n",
       "      <td>081403</td>\n",
       "      <td>POLYGON ((-87.60953 41.89096, -87.60484 41.891...</td>\n",
       "    </tr>\n",
       "  </tbody>\n",
       "</table>\n",
       "</div>"
      ],
      "text/plain": [
       "    commarea  commarea_n countyfp10       geoid10  name10  \\\n",
       "165        8         8.0        031  1.703108e+10  814.03   \n",
       "\n",
       "              namelsad10                            notes statefp10 tractce10  \\\n",
       "165  Census Tract 814.03  Small unpopulated area in CA 32        17    081403   \n",
       "\n",
       "                                              geometry  \n",
       "165  POLYGON ((-87.60953 41.89096, -87.60484 41.891...  "
      ]
     },
     "execution_count": 20,
     "metadata": {},
     "output_type": "execute_result"
    }
   ],
   "source": [
    "geo[geo['geoid10'] == 17031081403]"
   ]
  },
  {
   "cell_type": "code",
   "execution_count": 21,
   "metadata": {},
   "outputs": [
    {
     "name": "stdout",
     "output_type": "stream",
     "text": [
      "Everything is Complete!\n"
     ]
    }
   ],
   "source": [
    "m = folium.Map([41.8781, -87.6298], zoom_start=11)\n",
    "    \n",
    "    \n",
    "# Add the color for the chloropleth:\n",
    "folium.Choropleth(\n",
    " geo_data=geo,\n",
    " name= \"Suppressed Pickups\",\n",
    " data=origin,\n",
    " columns = ['GEOID_PICKUP', 'TOTAL_SUP_TRIPS'],\n",
    " key_on='feature.properties.geoid10',\n",
    " fill_color='BuGn',\n",
    " fill_opacity=0.6,\n",
    " line_opacity=0.2,\n",
    " legend_name='Average Weekday Pickups',\n",
    " highlight = True\n",
    ").add_to(m)\n",
    "\n",
    "folium.Choropleth(\n",
    " geo_data=geo,\n",
    " name= \"Suppressed Dropoffs\",\n",
    " data=dest,\n",
    " columns = ['GEOID_DROPOFF', 'TOTAL_SUP_TRIPS'],\n",
    " key_on='feature.properties.geoid10',\n",
    " fill_color='BuGn',\n",
    " fill_opacity=0.6,\n",
    " line_opacity=0.2,\n",
    " legend_name='Average Weekday Dropoffs',\n",
    " highlight = True\n",
    ").add_to(m)\n",
    "\n",
    "feature_group = folium.FeatureGroup(name='Census Tract Centroids', show = False)\n",
    "\n",
    "\n",
    "for tract2 in centroids.GEOID:\n",
    "    row = centroids[centroids['GEOID'] == tract2]\n",
    "    folium.CircleMarker([row['Y'], row['X']], popup = str(int(row['GEOID'].values[0])), radius = 1, fill = True, fill_color = 'grey', color = 'grey').add_to(feature_group)\n",
    "\n",
    "m.add_child(feature_group)\n",
    "\n",
    "\n",
    "folium.LayerControl().add_to(m)\n",
    "\n",
    "m.save('C:/Workspace/TNC-Demand-Model/Data Exploration/Suppressed Ridehailing Maps/Suppressed_Trips.html')\n",
    "\n",
    "print('Everything is Complete!')"
   ]
  },
  {
   "cell_type": "code",
   "execution_count": null,
   "metadata": {},
   "outputs": [],
   "source": []
  },
  {
   "cell_type": "code",
   "execution_count": null,
   "metadata": {},
   "outputs": [],
   "source": []
  }
 ],
 "metadata": {
  "kernelspec": {
   "display_name": "Python 3",
   "language": "python",
   "name": "python3"
  },
  "language_info": {
   "codemirror_mode": {
    "name": "ipython",
    "version": 3
   },
   "file_extension": ".py",
   "mimetype": "text/x-python",
   "name": "python",
   "nbconvert_exporter": "python",
   "pygments_lexer": "ipython3",
   "version": "3.6.12"
  }
 },
 "nbformat": 4,
 "nbformat_minor": 4
}
