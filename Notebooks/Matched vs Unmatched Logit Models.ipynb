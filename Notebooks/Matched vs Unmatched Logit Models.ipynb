{
 "cells": [
  {
   "cell_type": "code",
   "execution_count": 2,
   "metadata": {},
   "outputs": [],
   "source": [
    "import biogeme.database as db\n",
    "import biogeme.biogeme as bio\n",
    "from biogeme import models\n",
    "from biogeme.expressions import B\n",
    ".eta\n",
    "from biogeme.expressions import log\n",
    "import math\n",
    "import pandas as pd\n",
    "import numpy as np\n",
    "import seaborn as sns"
   ]
  },
  {
   "cell_type": "code",
   "execution_count": 3,
   "metadata": {},
   "outputs": [
    {
     "ename": "NameError",
     "evalue": "name 'shared' is not defined",
     "output_type": "error",
     "traceback": [
      "\u001b[1;31m---------------------------------------------------------------------------\u001b[0m",
      "\u001b[1;31mNameError\u001b[0m                                 Traceback (most recent call last)",
      "\u001b[1;32m<ipython-input-3-6c5ffa31efef>\u001b[0m in \u001b[0;36m<module>\u001b[1;34m\u001b[0m\n\u001b[1;32m----> 1\u001b[1;33m \u001b[0mmatched\u001b[0m \u001b[1;33m=\u001b[0m \u001b[0mshared\u001b[0m\u001b[1;33m[\u001b[0m\u001b[0mshared\u001b[0m\u001b[1;33m[\u001b[0m\u001b[1;34m'MATCHED_FLAGGER'\u001b[0m\u001b[1;33m]\u001b[0m \u001b[1;33m==\u001b[0m \u001b[1;36m1\u001b[0m\u001b[1;33m]\u001b[0m\u001b[1;33m\u001b[0m\u001b[1;33m\u001b[0m\u001b[0m\n\u001b[0m\u001b[0;32m      2\u001b[0m \u001b[0munmatched\u001b[0m \u001b[1;33m=\u001b[0m \u001b[0mshared\u001b[0m\u001b[1;33m[\u001b[0m\u001b[0mshared\u001b[0m\u001b[1;33m[\u001b[0m\u001b[1;34m'MATCHED_FLAGGER'\u001b[0m\u001b[1;33m]\u001b[0m \u001b[1;33m==\u001b[0m \u001b[1;36m0\u001b[0m\u001b[1;33m]\u001b[0m\u001b[1;33m\u001b[0m\u001b[1;33m\u001b[0m\u001b[0m\n",
      "\u001b[1;31mNameError\u001b[0m: name 'shared' is not defined"
     ]
    }
   ],
   "source": [
    "matched = shared[shared['MATCHED_FLAGGER'] == 1]\n",
    "unmatched = shared[shared['MATCHED_FLAGGER'] == 0]"
   ]
  },
  {
   "cell_type": "code",
   "execution_count": 4,
   "metadata": {},
   "outputs": [
    {
     "ename": "NameError",
     "evalue": "name 'matched' is not defined",
     "output_type": "error",
     "traceback": [
      "\u001b[1;31m---------------------------------------------------------------------------\u001b[0m",
      "\u001b[1;31mNameError\u001b[0m                                 Traceback (most recent call last)",
      "\u001b[1;32m<ipython-input-4-5a12f53d9cf9>\u001b[0m in \u001b[0;36m<module>\u001b[1;34m\u001b[0m\n\u001b[1;32m----> 1\u001b[1;33m \u001b[0msns\u001b[0m\u001b[1;33m.\u001b[0m\u001b[0mdisplot\u001b[0m\u001b[1;33m(\u001b[0m\u001b[0mmatched\u001b[0m\u001b[1;33m[\u001b[0m\u001b[1;34m'TRAVEL_TIME_MINUTES'\u001b[0m\u001b[1;33m]\u001b[0m\u001b[1;33m)\u001b[0m\u001b[1;33m\u001b[0m\u001b[1;33m\u001b[0m\u001b[0m\n\u001b[0m",
      "\u001b[1;31mNameError\u001b[0m: name 'matched' is not defined"
     ]
    }
   ],
   "source": [
    "sns.displot(matched['TRAVEL_TIME_MINUTES'])"
   ]
  },
  {
   "cell_type": "code",
   "execution_count": 5,
   "metadata": {},
   "outputs": [
    {
     "ename": "NameError",
     "evalue": "name 'unmatched' is not defined",
     "output_type": "error",
     "traceback": [
      "\u001b[1;31m---------------------------------------------------------------------------\u001b[0m",
      "\u001b[1;31mNameError\u001b[0m                                 Traceback (most recent call last)",
      "\u001b[1;32m<ipython-input-5-d391818e9b1e>\u001b[0m in \u001b[0;36m<module>\u001b[1;34m\u001b[0m\n\u001b[1;32m----> 1\u001b[1;33m \u001b[0msns\u001b[0m\u001b[1;33m.\u001b[0m\u001b[0mdisplot\u001b[0m\u001b[1;33m(\u001b[0m\u001b[0munmatched\u001b[0m\u001b[1;33m[\u001b[0m\u001b[1;34m'TRAVEL_TIME_MINUTES'\u001b[0m\u001b[1;33m]\u001b[0m\u001b[1;33m)\u001b[0m\u001b[1;33m\u001b[0m\u001b[1;33m\u001b[0m\u001b[0m\n\u001b[0m",
      "\u001b[1;31mNameError\u001b[0m: name 'unmatched' is not defined"
     ]
    }
   ],
   "source": [
    "sns.displot(unmatched['TRAVEL_TIME_MINUTES'])"
   ]
  },
  {
   "cell_type": "code",
   "execution_count": 6,
   "metadata": {},
   "outputs": [
    {
     "ename": "NameError",
     "evalue": "name 'df' is not defined",
     "output_type": "error",
     "traceback": [
      "\u001b[1;31m---------------------------------------------------------------------------\u001b[0m",
      "\u001b[1;31mNameError\u001b[0m                                 Traceback (most recent call last)",
      "\u001b[1;32m<ipython-input-6-448386c24e76>\u001b[0m in \u001b[0;36m<module>\u001b[1;34m\u001b[0m\n\u001b[1;32m----> 1\u001b[1;33m \u001b[0mprivate\u001b[0m \u001b[1;33m=\u001b[0m \u001b[0mdf\u001b[0m\u001b[1;33m[\u001b[0m\u001b[0mdf\u001b[0m\u001b[1;33m[\u001b[0m\u001b[1;34m'SHARED_FLAGGER'\u001b[0m\u001b[1;33m]\u001b[0m \u001b[1;33m==\u001b[0m \u001b[1;36m0\u001b[0m\u001b[1;33m]\u001b[0m\u001b[1;33m\u001b[0m\u001b[1;33m\u001b[0m\u001b[0m\n\u001b[0m",
      "\u001b[1;31mNameError\u001b[0m: name 'df' is not defined"
     ]
    }
   ],
   "source": [
    "private = df[df['SHARED_FLAGGER'] == 0] "
   ]
  },
  {
   "cell_type": "code",
   "execution_count": 7,
   "metadata": {},
   "outputs": [
    {
     "ename": "NameError",
     "evalue": "name 'private' is not defined",
     "output_type": "error",
     "traceback": [
      "\u001b[1;31m---------------------------------------------------------------------------\u001b[0m",
      "\u001b[1;31mNameError\u001b[0m                                 Traceback (most recent call last)",
      "\u001b[1;32m<ipython-input-7-3e812484042e>\u001b[0m in \u001b[0;36m<module>\u001b[1;34m\u001b[0m\n\u001b[1;32m----> 1\u001b[1;33m \u001b[0msns\u001b[0m\u001b[1;33m.\u001b[0m\u001b[0mdisplot\u001b[0m\u001b[1;33m(\u001b[0m\u001b[0mprivate\u001b[0m\u001b[1;33m[\u001b[0m\u001b[1;34m'TRAVEL_TIME_MINUTES'\u001b[0m\u001b[1;33m]\u001b[0m\u001b[1;33m)\u001b[0m\u001b[1;33m\u001b[0m\u001b[1;33m\u001b[0m\u001b[0m\n\u001b[0m",
      "\u001b[1;31mNameError\u001b[0m: name 'private' is not defined"
     ]
    }
   ],
   "source": [
    "sns.displot(private['TRAVEL_TIME_MINUTES'])"
   ]
  },
  {
   "cell_type": "code",
   "execution_count": 8,
   "metadata": {},
   "outputs": [],
   "source": [
    "requests = pd.read_csv('C:/Workspace/TNC-Demand-Model/Outputs/Requests_Per_Hour.csv', index_col = 0)"
   ]
  },
  {
   "cell_type": "code",
   "execution_count": 9,
   "metadata": {},
   "outputs": [],
   "source": [
    "df = pd.read_csv('C:/Workspace/TNC-Demand-Model/Outputs/Estimation_File.csv')"
   ]
  },
  {
   "cell_type": "code",
   "execution_count": 10,
   "metadata": {},
   "outputs": [],
   "source": [
    "tl = pd.read_csv('C:/Workspace/TNC-Demand-Model/Outputs/Private_Unmatched_Trip_Length.csv')"
   ]
  },
  {
   "cell_type": "code",
   "execution_count": 11,
   "metadata": {},
   "outputs": [],
   "source": [
    "#df = pd.read_csv('C:/Workspace/TNC-Demand-Model/Outputs/Estimation_File.csv', usecols = ['ORIGIN','DESTINATION','HHLDS_0_VEH_ORIGIN','HHLDS_0_VEH_DESTINATION','HHLDS_UNDER_35k_ORIGIN','HHLDS_UNDER_35k_DESTINATION','HHLDS_35k_100k_ORIGIN','HHLDS_35k_100k_DESTINATION','HHLDS_OVER_100k_ORIGIN','HHLDS_MEDIAN_INCOME_DESTINATION','HHLDS_MEDIAN_INCOME_ORIGIN','AVG_HHLD_SIZE_DESTINATION','AVG_HHLD_SIZE_ORIGIN','HHLDS_OVER_100k_DESTINATION','TRIP_LENGTH_MILES','TOD','MEDIAN_AGE_DESTINATION','MEDIAN_AGE_ORIGIN','NUM_TRIPS_POOLED','TOTAL_HHLDS_DESTINATION','TOTAL_HHLDS_ORIGIN','HHLDS_ORIGIN_DEN','HHLDS_DESTINATION_DEN','SHARED_FLAGGER'])"
   ]
  },
  {
   "cell_type": "code",
   "execution_count": 12,
   "metadata": {},
   "outputs": [],
   "source": [
    "#pred = pd.read_csv('Predicted_Shared_Trips.csv')"
   ]
  },
  {
   "cell_type": "code",
   "execution_count": null,
   "metadata": {},
   "outputs": [],
   "source": []
  },
  {
   "cell_type": "code",
   "execution_count": 13,
   "metadata": {},
   "outputs": [],
   "source": [
    "df['MATCHED_FLAGGER'] = np.where(df['NUM_TRIPS_POOLED'] > 1, 1, 0)"
   ]
  },
  {
   "cell_type": "code",
   "execution_count": 14,
   "metadata": {},
   "outputs": [],
   "source": [
    "df['HHLDS_UNDER_35k_ORIGIN'] = df['HHLDS_UNDER_35k_ORIGIN'].fillna(0)\n",
    "df['HHLDS_UNDER_35k_DESTINATION'] = df['HHLDS_UNDER_35k_DESTINATION'].fillna(0)\n",
    "\n",
    "df['HHLDS_35k_100k_ORIGIN'] = df['HHLDS_35k_100k_ORIGIN'].fillna(0)\n",
    "df['HHLDS_35k_100k_DESTINATION'] = df['HHLDS_35k_100k_DESTINATION'].fillna(0)\n",
    "\n",
    "df['HHLDS_OVER_100k_ORIGIN'] = df['HHLDS_OVER_100k_ORIGIN'].fillna(0)\n",
    "df['HHLDS_OVER_100k_DESTINATION'] = df['HHLDS_OVER_100k_DESTINATION'].fillna(0)"
   ]
  },
  {
   "cell_type": "code",
   "execution_count": 15,
   "metadata": {},
   "outputs": [],
   "source": [
    "df['AVG_HHLD_SIZE_ORIGIN'] = df['AVG_HHLD_SIZE_ORIGIN'].fillna(0)\n",
    "df['AVG_HHLD_SIZE_DESTINATION'] = df['AVG_HHLD_SIZE_DESTINATION'].fillna(0)\n",
    "\n",
    "df['HHLDS_MEDIAN_INCOME_ORIGIN'] = df['HHLDS_MEDIAN_INCOME_ORIGIN'].fillna(0)\n",
    "df['HHLDS_MEDIAN_INCOME_DESTINATION'] = df['HHLDS_MEDIAN_INCOME_DESTINATION'].fillna(0)"
   ]
  },
  {
   "cell_type": "code",
   "execution_count": 16,
   "metadata": {},
   "outputs": [],
   "source": [
    "df['HHLDS_UNDER_35k_ORIGIN_SHR'] = df['HHLDS_UNDER_35k_ORIGIN']/df['TOTAL_HHLDS_ORIGIN']\n",
    "df['HHLDS_UNDER_35k_DESTINATION_SHR'] = df['HHLDS_UNDER_35k_DESTINATION']/df['TOTAL_HHLDS_DESTINATION']"
   ]
  },
  {
   "cell_type": "code",
   "execution_count": 17,
   "metadata": {},
   "outputs": [],
   "source": [
    "df['HHLDS_UNDER_35K_0_VEH_ORIGIN'] = df['HHLDS_UNDER_35k_ORIGIN_SHR']*df['HHLDS_0_VEH_ORIGIN']\n",
    "df['HHLDS_UNDER_35K_0_VEH_DESTINATION'] = df['HHLDS_UNDER_35k_DESTINATION_SHR']*df['HHLDS_0_VEH_DESTINATION']"
   ]
  },
  {
   "cell_type": "code",
   "execution_count": 18,
   "metadata": {},
   "outputs": [],
   "source": [
    "df['HHLDS_UNDER_35K_0_VEH_ORIGIN'] = df['HHLDS_UNDER_35K_0_VEH_ORIGIN'].fillna(0)\n",
    "df['HHLDS_UNDER_35K_0_VEH_DESTINATION'] = df['HHLDS_UNDER_35K_0_VEH_DESTINATION'].fillna(0)"
   ]
  },
  {
   "cell_type": "code",
   "execution_count": 19,
   "metadata": {},
   "outputs": [],
   "source": [
    "df['MEDIAN_AGE_ORIGIN'] = df['MEDIAN_AGE_ORIGIN'].fillna(0)\n",
    "df['MEDIAN_AGE_DESTINATION'] = df['MEDIAN_AGE_DESTINATION'].fillna(0)"
   ]
  },
  {
   "cell_type": "code",
   "execution_count": 20,
   "metadata": {},
   "outputs": [],
   "source": [
    "df['HHLDS_ORIGIN_DEN_1k'] = df['HHLDS_ORIGIN_DEN']/1000\n",
    "\n",
    "df['HHLDS_DESTINATION_DEN_1k'] = df['HHLDS_DESTINATION_DEN']/1000\n"
   ]
  },
  {
   "cell_type": "code",
   "execution_count": null,
   "metadata": {},
   "outputs": [],
   "source": []
  },
  {
   "cell_type": "code",
   "execution_count": 21,
   "metadata": {},
   "outputs": [],
   "source": [
    "def set_tod(row):\n",
    "    \n",
    "    if row['HOUR'] >= 22:\n",
    "        row['TOD'] = 1\n",
    "\n",
    "    elif row['HOUR'] < 6:\n",
    "        row['TOD'] = 1\n",
    "        \n",
    "    elif (row['HOUR'] >= 6)&(row['HOUR'] < 9):\n",
    "        row['TOD'] = 2        \n",
    "        \n",
    "    elif (row['HOUR'] >= 9)&(row['HOUR'] < 16):\n",
    "        row['TOD'] = 3\n",
    "        \n",
    "        \n",
    "    elif (row['HOUR'] >= 16)&(row['HOUR'] < 19):\n",
    "        row['TOD'] = 4\n",
    "        \n",
    "    elif (row['HOUR'] >= 19)&(row['HOUR'] < 22):\n",
    "        row['TOD'] = 5\n",
    "        \n",
    "    return row"
   ]
  },
  {
   "cell_type": "code",
   "execution_count": 22,
   "metadata": {},
   "outputs": [],
   "source": [
    "#df = df.apply(lambda row: set_tod(row), axis = 1)"
   ]
  },
  {
   "cell_type": "code",
   "execution_count": 23,
   "metadata": {},
   "outputs": [
    {
     "name": "stdout",
     "output_type": "stream",
     "text": [
      "<class 'pandas.core.frame.DataFrame'>\n",
      "RangeIndex: 843982 entries, 0 to 843981\n",
      "Columns: 107 entries, Unnamed: 0 to HHLDS_DESTINATION_DEN_1k\n",
      "dtypes: float64(80), int32(1), int64(20), object(6)\n",
      "memory usage: 685.8+ MB\n"
     ]
    }
   ],
   "source": [
    "df.info()"
   ]
  },
  {
   "cell_type": "code",
   "execution_count": 24,
   "metadata": {},
   "outputs": [
    {
     "data": {
      "text/plain": [
       "843982"
      ]
     },
     "execution_count": 24,
     "metadata": {},
     "output_type": "execute_result"
    }
   ],
   "source": [
    "len(df)"
   ]
  },
  {
   "cell_type": "code",
   "execution_count": null,
   "metadata": {},
   "outputs": [],
   "source": []
  },
  {
   "cell_type": "code",
   "execution_count": 25,
   "metadata": {},
   "outputs": [],
   "source": [
    "df['TOD'] = df['TOD'].astype(int)"
   ]
  },
  {
   "cell_type": "code",
   "execution_count": 26,
   "metadata": {},
   "outputs": [
    {
     "data": {
      "text/html": [
       "<div>\n",
       "<style scoped>\n",
       "    .dataframe tbody tr th:only-of-type {\n",
       "        vertical-align: middle;\n",
       "    }\n",
       "\n",
       "    .dataframe tbody tr th {\n",
       "        vertical-align: top;\n",
       "    }\n",
       "\n",
       "    .dataframe thead th {\n",
       "        text-align: right;\n",
       "    }\n",
       "</style>\n",
       "<table border=\"1\" class=\"dataframe\">\n",
       "  <thead>\n",
       "    <tr style=\"text-align: right;\">\n",
       "      <th></th>\n",
       "      <th>REQUESTS_PER_HOUR</th>\n",
       "      <th>ORIGIN</th>\n",
       "      <th>DESTINATION</th>\n",
       "      <th>TOD</th>\n",
       "    </tr>\n",
       "  </thead>\n",
       "  <tbody>\n",
       "    <tr>\n",
       "      <th>0</th>\n",
       "      <td>0.219349</td>\n",
       "      <td>1.703101e+10</td>\n",
       "      <td>1.703101e+10</td>\n",
       "      <td>1</td>\n",
       "    </tr>\n",
       "    <tr>\n",
       "      <th>1</th>\n",
       "      <td>0.476471</td>\n",
       "      <td>1.703101e+10</td>\n",
       "      <td>1.703101e+10</td>\n",
       "      <td>2</td>\n",
       "    </tr>\n",
       "    <tr>\n",
       "      <th>2</th>\n",
       "      <td>0.319159</td>\n",
       "      <td>1.703101e+10</td>\n",
       "      <td>1.703101e+10</td>\n",
       "      <td>3</td>\n",
       "    </tr>\n",
       "    <tr>\n",
       "      <th>3</th>\n",
       "      <td>0.509346</td>\n",
       "      <td>1.703101e+10</td>\n",
       "      <td>1.703101e+10</td>\n",
       "      <td>4</td>\n",
       "    </tr>\n",
       "    <tr>\n",
       "      <th>4</th>\n",
       "      <td>0.496051</td>\n",
       "      <td>1.703101e+10</td>\n",
       "      <td>1.703101e+10</td>\n",
       "      <td>5</td>\n",
       "    </tr>\n",
       "  </tbody>\n",
       "</table>\n",
       "</div>"
      ],
      "text/plain": [
       "   REQUESTS_PER_HOUR        ORIGIN   DESTINATION  TOD\n",
       "0           0.219349  1.703101e+10  1.703101e+10    1\n",
       "1           0.476471  1.703101e+10  1.703101e+10    2\n",
       "2           0.319159  1.703101e+10  1.703101e+10    3\n",
       "3           0.509346  1.703101e+10  1.703101e+10    4\n",
       "4           0.496051  1.703101e+10  1.703101e+10    5"
      ]
     },
     "execution_count": 26,
     "metadata": {},
     "output_type": "execute_result"
    }
   ],
   "source": [
    "requests.head()"
   ]
  },
  {
   "cell_type": "code",
   "execution_count": 27,
   "metadata": {},
   "outputs": [
    {
     "data": {
      "text/plain": [
       "921219"
      ]
     },
     "execution_count": 27,
     "metadata": {},
     "output_type": "execute_result"
    }
   ],
   "source": [
    "len(requests)"
   ]
  },
  {
   "cell_type": "code",
   "execution_count": 28,
   "metadata": {},
   "outputs": [
    {
     "data": {
      "text/plain": [
       "921219"
      ]
     },
     "execution_count": 28,
     "metadata": {},
     "output_type": "execute_result"
    }
   ],
   "source": [
    "len(requests.drop_duplicates(subset = ['ORIGIN','DESTINATION','TOD']))"
   ]
  },
  {
   "cell_type": "code",
   "execution_count": 29,
   "metadata": {},
   "outputs": [],
   "source": [
    "df2 = df.merge(requests, how = 'left', on = ['ORIGIN','DESTINATION','TOD'])"
   ]
  },
  {
   "cell_type": "code",
   "execution_count": 30,
   "metadata": {},
   "outputs": [
    {
     "data": {
      "text/plain": [
       "843982"
      ]
     },
     "execution_count": 30,
     "metadata": {},
     "output_type": "execute_result"
    }
   ],
   "source": [
    "len(df2)"
   ]
  },
  {
   "cell_type": "code",
   "execution_count": 31,
   "metadata": {},
   "outputs": [
    {
     "data": {
      "text/plain": [
       "843982"
      ]
     },
     "execution_count": 31,
     "metadata": {},
     "output_type": "execute_result"
    }
   ],
   "source": [
    "len(df)"
   ]
  },
  {
   "cell_type": "code",
   "execution_count": 32,
   "metadata": {},
   "outputs": [],
   "source": [
    "df2 = df2.merge(tl, how = 'left', on = ['ORIGIN','DESTINATION','TOD'])"
   ]
  },
  {
   "cell_type": "code",
   "execution_count": 33,
   "metadata": {},
   "outputs": [
    {
     "data": {
      "text/html": [
       "<div>\n",
       "<style scoped>\n",
       "    .dataframe tbody tr th:only-of-type {\n",
       "        vertical-align: middle;\n",
       "    }\n",
       "\n",
       "    .dataframe tbody tr th {\n",
       "        vertical-align: top;\n",
       "    }\n",
       "\n",
       "    .dataframe thead th {\n",
       "        text-align: right;\n",
       "    }\n",
       "</style>\n",
       "<table border=\"1\" class=\"dataframe\">\n",
       "  <thead>\n",
       "    <tr style=\"text-align: right;\">\n",
       "      <th></th>\n",
       "      <th>Unnamed: 0_x</th>\n",
       "      <th>YEAR</th>\n",
       "      <th>MONTH</th>\n",
       "      <th>DOW</th>\n",
       "      <th>HOUR</th>\n",
       "      <th>ORIGIN</th>\n",
       "      <th>DESTINATION</th>\n",
       "      <th>TRAVEL_TIME_MINUTES</th>\n",
       "      <th>TRIP_LENGTH_MILES_x</th>\n",
       "      <th>ORIGIN_COM_AREA</th>\n",
       "      <th>...</th>\n",
       "      <th>MATCHED_FLAGGER</th>\n",
       "      <th>HHLDS_UNDER_35k_ORIGIN_SHR</th>\n",
       "      <th>HHLDS_UNDER_35k_DESTINATION_SHR</th>\n",
       "      <th>HHLDS_UNDER_35K_0_VEH_ORIGIN</th>\n",
       "      <th>HHLDS_UNDER_35K_0_VEH_DESTINATION</th>\n",
       "      <th>HHLDS_ORIGIN_DEN_1k</th>\n",
       "      <th>HHLDS_DESTINATION_DEN_1k</th>\n",
       "      <th>REQUESTS_PER_HOUR</th>\n",
       "      <th>Unnamed: 0_y</th>\n",
       "      <th>TRIP_LENGTH_MILES_y</th>\n",
       "    </tr>\n",
       "  </thead>\n",
       "  <tbody>\n",
       "    <tr>\n",
       "      <th>0</th>\n",
       "      <td>0</td>\n",
       "      <td>2019</td>\n",
       "      <td>8</td>\n",
       "      <td>0</td>\n",
       "      <td>5</td>\n",
       "      <td>1.703106e+10</td>\n",
       "      <td>1.703116e+10</td>\n",
       "      <td>29.150000</td>\n",
       "      <td>7.7</td>\n",
       "      <td>6.0</td>\n",
       "      <td>...</td>\n",
       "      <td>0</td>\n",
       "      <td>0.011888</td>\n",
       "      <td>0.029352</td>\n",
       "      <td>8.833140</td>\n",
       "      <td>2.671053</td>\n",
       "      <td>20.111646</td>\n",
       "      <td>4.311072</td>\n",
       "      <td>0.125000</td>\n",
       "      <td>31522</td>\n",
       "      <td>7.700000</td>\n",
       "    </tr>\n",
       "    <tr>\n",
       "      <th>1</th>\n",
       "      <td>1</td>\n",
       "      <td>2019</td>\n",
       "      <td>10</td>\n",
       "      <td>0</td>\n",
       "      <td>5</td>\n",
       "      <td>1.703107e+10</td>\n",
       "      <td>1.703184e+10</td>\n",
       "      <td>11.666667</td>\n",
       "      <td>4.8</td>\n",
       "      <td>7.0</td>\n",
       "      <td>...</td>\n",
       "      <td>0</td>\n",
       "      <td>0.009379</td>\n",
       "      <td>0.003757</td>\n",
       "      <td>2.626066</td>\n",
       "      <td>6.863333</td>\n",
       "      <td>6.198089</td>\n",
       "      <td>8.254095</td>\n",
       "      <td>0.130000</td>\n",
       "      <td>44855</td>\n",
       "      <td>5.220000</td>\n",
       "    </tr>\n",
       "    <tr>\n",
       "      <th>2</th>\n",
       "      <td>2</td>\n",
       "      <td>2019</td>\n",
       "      <td>11</td>\n",
       "      <td>3</td>\n",
       "      <td>22</td>\n",
       "      <td>1.703108e+10</td>\n",
       "      <td>1.703106e+10</td>\n",
       "      <td>9.933333</td>\n",
       "      <td>4.2</td>\n",
       "      <td>8.0</td>\n",
       "      <td>...</td>\n",
       "      <td>0</td>\n",
       "      <td>0.004874</td>\n",
       "      <td>0.004297</td>\n",
       "      <td>2.485614</td>\n",
       "      <td>4.258689</td>\n",
       "      <td>6.000588</td>\n",
       "      <td>33.377308</td>\n",
       "      <td>0.133929</td>\n",
       "      <td>55616</td>\n",
       "      <td>4.183333</td>\n",
       "    </tr>\n",
       "    <tr>\n",
       "      <th>3</th>\n",
       "      <td>3</td>\n",
       "      <td>2019</td>\n",
       "      <td>5</td>\n",
       "      <td>0</td>\n",
       "      <td>5</td>\n",
       "      <td>1.703119e+10</td>\n",
       "      <td>1.703119e+10</td>\n",
       "      <td>18.916667</td>\n",
       "      <td>5.9</td>\n",
       "      <td>25.0</td>\n",
       "      <td>...</td>\n",
       "      <td>1</td>\n",
       "      <td>0.055019</td>\n",
       "      <td>0.022060</td>\n",
       "      <td>13.314498</td>\n",
       "      <td>8.559203</td>\n",
       "      <td>6.611149</td>\n",
       "      <td>5.774789</td>\n",
       "      <td>0.213415</td>\n",
       "      <td>78094</td>\n",
       "      <td>6.443750</td>\n",
       "    </tr>\n",
       "    <tr>\n",
       "      <th>4</th>\n",
       "      <td>4</td>\n",
       "      <td>2020</td>\n",
       "      <td>2</td>\n",
       "      <td>0</td>\n",
       "      <td>22</td>\n",
       "      <td>1.703122e+10</td>\n",
       "      <td>1.703122e+10</td>\n",
       "      <td>9.733333</td>\n",
       "      <td>2.7</td>\n",
       "      <td>48.0</td>\n",
       "      <td>...</td>\n",
       "      <td>0</td>\n",
       "      <td>0.015858</td>\n",
       "      <td>0.093407</td>\n",
       "      <td>4.662136</td>\n",
       "      <td>8.126374</td>\n",
       "      <td>9.557951</td>\n",
       "      <td>8.463877</td>\n",
       "      <td>0.222846</td>\n",
       "      <td>86088</td>\n",
       "      <td>8.343750</td>\n",
       "    </tr>\n",
       "  </tbody>\n",
       "</table>\n",
       "<p>5 rows × 110 columns</p>\n",
       "</div>"
      ],
      "text/plain": [
       "   Unnamed: 0_x  YEAR  MONTH  DOW  HOUR        ORIGIN   DESTINATION  \\\n",
       "0             0  2019      8    0     5  1.703106e+10  1.703116e+10   \n",
       "1             1  2019     10    0     5  1.703107e+10  1.703184e+10   \n",
       "2             2  2019     11    3    22  1.703108e+10  1.703106e+10   \n",
       "3             3  2019      5    0     5  1.703119e+10  1.703119e+10   \n",
       "4             4  2020      2    0    22  1.703122e+10  1.703122e+10   \n",
       "\n",
       "   TRAVEL_TIME_MINUTES  TRIP_LENGTH_MILES_x  ORIGIN_COM_AREA  ...  \\\n",
       "0            29.150000                  7.7              6.0  ...   \n",
       "1            11.666667                  4.8              7.0  ...   \n",
       "2             9.933333                  4.2              8.0  ...   \n",
       "3            18.916667                  5.9             25.0  ...   \n",
       "4             9.733333                  2.7             48.0  ...   \n",
       "\n",
       "   MATCHED_FLAGGER  HHLDS_UNDER_35k_ORIGIN_SHR  \\\n",
       "0                0                    0.011888   \n",
       "1                0                    0.009379   \n",
       "2                0                    0.004874   \n",
       "3                1                    0.055019   \n",
       "4                0                    0.015858   \n",
       "\n",
       "   HHLDS_UNDER_35k_DESTINATION_SHR  HHLDS_UNDER_35K_0_VEH_ORIGIN  \\\n",
       "0                         0.029352                      8.833140   \n",
       "1                         0.003757                      2.626066   \n",
       "2                         0.004297                      2.485614   \n",
       "3                         0.022060                     13.314498   \n",
       "4                         0.093407                      4.662136   \n",
       "\n",
       "   HHLDS_UNDER_35K_0_VEH_DESTINATION  HHLDS_ORIGIN_DEN_1k  \\\n",
       "0                           2.671053            20.111646   \n",
       "1                           6.863333             6.198089   \n",
       "2                           4.258689             6.000588   \n",
       "3                           8.559203             6.611149   \n",
       "4                           8.126374             9.557951   \n",
       "\n",
       "   HHLDS_DESTINATION_DEN_1k  REQUESTS_PER_HOUR Unnamed: 0_y  \\\n",
       "0                  4.311072           0.125000        31522   \n",
       "1                  8.254095           0.130000        44855   \n",
       "2                 33.377308           0.133929        55616   \n",
       "3                  5.774789           0.213415        78094   \n",
       "4                  8.463877           0.222846        86088   \n",
       "\n",
       "  TRIP_LENGTH_MILES_y  \n",
       "0            7.700000  \n",
       "1            5.220000  \n",
       "2            4.183333  \n",
       "3            6.443750  \n",
       "4            8.343750  \n",
       "\n",
       "[5 rows x 110 columns]"
      ]
     },
     "execution_count": 33,
     "metadata": {},
     "output_type": "execute_result"
    }
   ],
   "source": [
    "df2.head()"
   ]
  },
  {
   "cell_type": "code",
   "execution_count": 34,
   "metadata": {},
   "outputs": [],
   "source": [
    "shared = df2[df2['SHARED_FLAGGER'] == 1]"
   ]
  },
  {
   "cell_type": "code",
   "execution_count": 35,
   "metadata": {},
   "outputs": [],
   "source": [
    "database = db.Database('est_file', shared[['ORIGIN','DESTINATION','TRIP_LENGTH_MILES_y','HHLDS_ORIGIN_DEN_1k','HHLDS_DESTINATION_DEN_1k','REQUESTS_PER_HOUR']])"
   ]
  },
  {
   "cell_type": "code",
   "execution_count": 36,
   "metadata": {},
   "outputs": [],
   "source": [
    "# making the Biogeme Database that is used for the model estimation\n",
    "database = db.Database('est_file', shared[['YEAR','MONTH','DOW','REQUESTS_PER_HOUR','HOUR','ORIGIN','DESTINATION','TRIP_LENGTH_MILES_y','NUM_TRIPS_POOLED','SHARED_FLAGGER','INTERNAL_SUPPPRESSED_FLAGGER','AIRPORT_FLAGGER','TOD_1', 'TOD_2',\n",
    "       'TOD_3', 'TOD_4', 'TOD_5','TAX','EMP_ORIGIN_DEN','EMP_DESTINATION_DEN','MEDIAN_AGE_ORIGIN','MEDIAN_AGE_DESTINATION','HHLDS_ORIGIN_DEN_1k','HHLDS_DESTINATION_DEN_1k',\n",
    "        'TOTAL_POP_ORIGIN','TOTAL_POP_DESTINATION','TOTAL_HHLDS_DESTINATION','AVG_HHLD_SIZE_DESTINATION','HHLDS_MEDIAN_INCOME_DESTINATION','TOTAL_EMP_ORIGIN','TOTAL_EMP_DESTINATION','TOTAL_EMP_FLOW','MATCHED_TRAVEL_TIME','UNMATCHED_TRAVEL_TIME','NUM_MATCHED_TRIPS','UNMATCHED_FARE','MATCHED_FARE',\n",
    "       'TOTAL_HHLDS_ORIGIN', 'AVG_HHLD_SIZE_ORIGIN','HHLDS_OVER_100k_ORIGIN','HHLDS_OVER_100k_DESTINATION','MATCHED_FLAGGER',\n",
    "       'HHLDS_MEDIAN_INCOME_ORIGIN', 'HHLDS_UNDER_35k_ORIGIN','HHLDS_UNDER_35k_DESTINATION','HHLDS_35k_100k_ORIGIN','HHLDS_35k_100k_DESTINATION','HHLDS_UNDER_35K_0_VEH_ORIGIN','HHLDS_UNDER_35K_0_VEH_DESTINATION',\n",
    "       'HHLDS_0_VEH_ORIGIN','HHLDS_0_VEH_DESTINATION', 'AVG_VEH_PER_HHLD_ORIGIN','AVG_VEH_PER_HHLD_DESTINATION','POP_ORIGIN_DEN','POP_DESTINATION_DEN','HHLDS_ORIGIN_DEN','HHLDS_DESTINATION_DEN']])"
   ]
  },
  {
   "cell_type": "code",
   "execution_count": null,
   "metadata": {},
   "outputs": [],
   "source": []
  },
  {
   "cell_type": "code",
   "execution_count": 37,
   "metadata": {},
   "outputs": [],
   "source": [
    "# The following statement allows you to use the names of the\n",
    "# variable as Python variable. (in the utility functions)\n",
    "globals().update(database.variables)"
   ]
  },
  {
   "cell_type": "code",
   "execution_count": 38,
   "metadata": {},
   "outputs": [],
   "source": [
    "# Unmatched Choice Parameters to be estimated\n",
    "# Beta(name of the factor, initial value of the coefficient, lower bound, upper bound, whether or not the coefficinet should be fixed to initial value value)\n",
    "c_fare =Beta('c_fare', 0, None, None, 0)\n",
    "c_tax =Beta('c_tax', 0, None, None, 0)\n",
    "c_cost =Beta('c_cost', 0, None, None, 0)\n",
    "\n",
    "c_travel_time =Beta('c_travel_time', 0, None, None, 0)"
   ]
  },
  {
   "cell_type": "code",
   "execution_count": 39,
   "metadata": {},
   "outputs": [],
   "source": [
    "# Matched Choice Parameters to be estimated\n",
    "# Beta(name of the factor, initial value of the coefficient, lower bound, upper bound, whether or not the coefficinet should be fixed to initial value value)\n",
    "\n",
    "c_matched_airport =Beta('c_matched_airport', 0, None, None, 0)\n",
    "c_matched_pop_den =Beta('c_matched_pop_den', 0, None, None, 0)\n",
    "c_matched_hhld_den =Beta('c_matched_hhld_den', 0, None, None, 0)\n",
    "c_matched_tot_pop =Beta('c_matched_tot_pop', 0, None, None, 0)\n",
    "c_matched_tot_hhlds =Beta('c_matched_tot_hhlds', 0, None, None, 0)\n",
    "#c_private_avg_hh_size =Beta('c_private_avg_hh_size', 0, None, None, 0)\n",
    "c_matched_avg_veh_per_hhld =Beta('c_matched_avg_veh_per_hhld', 0, None, None, 0)\n",
    "c_matched_tot_hhlds_200k_plus =Beta('c_matched_tot_hhlds_200k_plus', 0, None, None, 0)\n",
    "c_matched_tot_hhlds_zero_veh_origin =Beta('c_matched_tot_hhlds_zero_veh_origin', 0, None, None, 0)\n",
    "c_matched_emp_flow =Beta('c_matched_emp_flow', 0, None, None, 0)\n",
    "\n",
    "c_matched_hhld_median_income_origin =Beta('c_matched_hhld_median_income_origin', 0, None, None, 0)\n",
    "c_matched_hhld_median_income_dest =Beta('c_matched_hhld_median_income_dest', 0, None, None, 0)\n",
    "\n",
    "c_matched_trip_length =Beta('c_matched_trip_length', 0, None, None, 0)\n",
    "c_matched_pop_den_origin =Beta('c_matched_pop_den_origin', 0, None, None, 0)\n",
    "c_matched_pop_den_dest =Beta('c_matched_pop_den_dest', 0, None, None, 0)\n",
    "\n",
    "c_matched_hhlds_den_origin =Beta('c_matched_hhlds_den_origin', 0, None, None, 0)\n",
    "c_matched_hhlds_den_dest =Beta('c_matched_hhlds_den_dest', 0, None, None, 0)\n",
    "\n",
    "\n",
    "c_matched_constant = Beta('c_matched_constant', 0, None, None, 0)\n",
    "\n",
    "c_matched_median_age_origin =Beta('c_matched_median_age_origin', 0, None, None, 0)\n",
    "c_matched_median_age_dest =Beta('c_matched_median_age_dest', 0, None, None, 0)\n",
    "\n",
    "c_matched_shared_trips = Beta('c_matched_shared_trips', 0, None, None, 0)"
   ]
  },
  {
   "cell_type": "code",
   "execution_count": 91,
   "metadata": {},
   "outputs": [],
   "source": [
    "# defining the unmatched utility function\n",
    "V0 =  0\n",
    "\n",
    "# defining the matched utility function\n",
    "V1 = c_matched_constant "
   ]
  },
  {
   "cell_type": "code",
   "execution_count": null,
   "metadata": {},
   "outputs": [],
   "source": []
  },
  {
   "cell_type": "code",
   "execution_count": null,
   "metadata": {},
   "outputs": [],
   "source": []
  },
  {
   "cell_type": "code",
   "execution_count": 92,
   "metadata": {},
   "outputs": [
    {
     "name": "stdout",
     "output_type": "stream",
     "text": [
      "                       Value   Std err    t-test  p-value  Rob. Std err  \\\n",
      "c_matched_constant  0.787356  0.005103  154.2984      0.0      0.005103   \n",
      "\n",
      "                    Rob. t-test  Rob. p-value  \n",
      "c_matched_constant    154.29847           0.0  \n"
     ]
    }
   ],
   "source": [
    "# Associate utility functions with the numbering of alternatives (corresponds to the SHARED_FLAGGER field)\n",
    "V = {0: V0, 1: V1}\n",
    "\n",
    "# Associate the availability conditions with the alternatives\n",
    "# for this model, all migrants had all alternatives theoretically available so all are equal to 1 (available)\n",
    "# if individual people had different availability for alterantives, could pass in a column of the dataframe to account for that availability\n",
    "av = {}\n",
    "for i in range(0, 2):\n",
    "    av[i] = 1\n",
    "\n",
    "# Definition of the model. This is the contribution of each\n",
    "# observation to the log likelihood function.\n",
    "# estimating the CHOSEN field\n",
    "logprob = models.loglogit(V, av, MATCHED_FLAGGER)\n",
    "\n",
    "# Create the Biogeme object\n",
    "biogeme = bio.BIOGEME(database, logprob)\n",
    "biogeme.modelName = 'rh_matched_choice'\n",
    "\n",
    "# Estimate the parameters\n",
    "results = biogeme.estimate()\n",
    "\n",
    "# Get the results in a pandas table\n",
    "pandasResults = results.getEstimatedParameters()\n",
    "print(pandasResults)"
   ]
  },
  {
   "cell_type": "code",
   "execution_count": 197,
   "metadata": {},
   "outputs": [
    {
     "data": {
      "text/plain": [
       "{'Number of estimated parameters': (1, ''),\n",
       " 'Sample size': (178681, ''),\n",
       " 'Excluded observations': (0, ''),\n",
       " 'Init log likelihood': (-146198.6097470288, '.7g'),\n",
       " 'Final log likelihood': (-111009.57437115465, '.7g'),\n",
       " 'Likelihood ratio test for the init. model': (70378.07075174828, '.7g'),\n",
       " 'Rho-square for the init. model': (0.24069336525677387, '.3g'),\n",
       " 'Rho-square-bar for the init. model': (0.24068652524645007, '.3g'),\n",
       " 'Akaike Information Criterion': (222021.1487423093, '.7g'),\n",
       " 'Bayesian Information Criterion': (222031.24209968135, '.7g'),\n",
       " 'Final gradient norm': (0.9756071859044368, '.4E'),\n",
       " 'Nbr of threads': (8, '')}"
      ]
     },
     "execution_count": 197,
     "metadata": {},
     "output_type": "execute_result"
    }
   ],
   "source": [
    "results.getGeneralStatistics()"
   ]
  },
  {
   "cell_type": "code",
   "execution_count": 42,
   "metadata": {},
   "outputs": [],
   "source": [
    "# add in travel time\n",
    "V0 =  c_travel_time * UNMATCHED_TRAVEL_TIME\n",
    "\n",
    "V1 = c_matched_constant + c_travel_time * MATCHED_TRAVEL_TIME"
   ]
  },
  {
   "cell_type": "code",
   "execution_count": 43,
   "metadata": {},
   "outputs": [
    {
     "name": "stdout",
     "output_type": "stream",
     "text": [
      "                        Value   Std err    t-test   p-value  Rob. Std err  \\\n",
      "c_matched_constant -15.829421  5.165760 -3.064297  0.002182      0.015642   \n",
      "c_travel_time        7.404400  2.934318  2.523380  0.011623      0.002340   \n",
      "\n",
      "                    Rob. t-test  Rob. p-value  \n",
      "c_matched_constant -1011.985745           0.0  \n",
      "c_travel_time       3164.418572           0.0  \n"
     ]
    }
   ],
   "source": [
    "# Associate utility functions with the numbering of alternatives (corresponds to the SHARED_FLAGGER field)\n",
    "V = {0: V0, 1: V1}\n",
    "\n",
    "# Associate the availability conditions with the alternatives\n",
    "# for this model, all migrants had all alternatives theoretically available so all are equal to 1 (available)\n",
    "# if individual people had different availability for alterantives, could pass in a column of the dataframe to account for that availability\n",
    "av = {}\n",
    "for i in range(0, 2):\n",
    "    av[i] = 1\n",
    "\n",
    "# Definition of the model. This is the contribution of each\n",
    "# observation to the log likelihood function.\n",
    "# estimating the CHOSEN field\n",
    "logprob = models.loglogit(V, av, MATCHED_FLAGGER)\n",
    "\n",
    "# Create the Biogeme object\n",
    "biogeme = bio.BIOGEME(database, logprob)\n",
    "biogeme.modelName = 'rh_matched_choice'\n",
    "\n",
    "# Estimate the parameters\n",
    "results = biogeme.estimate()\n",
    "\n",
    "# Get the results in a pandas table\n",
    "pandasResults = results.getEstimatedParameters()\n",
    "print(pandasResults)"
   ]
  },
  {
   "cell_type": "code",
   "execution_count": 44,
   "metadata": {},
   "outputs": [
    {
     "data": {
      "text/plain": [
       "{'Number of estimated parameters': (2, ''),\n",
       " 'Sample size': (178681, ''),\n",
       " 'Excluded observations': (0, ''),\n",
       " 'Init log likelihood': (-111009.57435871573, '.7g'),\n",
       " 'Final log likelihood': (-0.056413718841705505, '.7g'),\n",
       " 'Likelihood ratio test for the init. model': (222019.03588999377, '.7g'),\n",
       " 'Rho-square for the init. model': (0.9999994918121328, '.3g'),\n",
       " 'Rho-square-bar for the init. model': (0.9999814753481335, '.3g'),\n",
       " 'Akaike Information Criterion': (4.112827437683411, '.7g'),\n",
       " 'Bayesian Information Criterion': (24.299542181778737, '.7g'),\n",
       " 'Final gradient norm': (0.043134510640684916, '.4E'),\n",
       " 'Nbr of threads': (8, '')}"
      ]
     },
     "execution_count": 44,
     "metadata": {},
     "output_type": "execute_result"
    }
   ],
   "source": [
    "results.getGeneralStatistics()"
   ]
  },
  {
   "cell_type": "code",
   "execution_count": 47,
   "metadata": {},
   "outputs": [],
   "source": [
    "# try trip length instead\n",
    "V0 =  0\n",
    "\n",
    "V1 = c_matched_constant + c_matched_trip_length * TRIP_LENGTH_MILES"
   ]
  },
  {
   "cell_type": "code",
   "execution_count": 48,
   "metadata": {},
   "outputs": [
    {
     "name": "stdout",
     "output_type": "stream",
     "text": [
      "                          Value   Std err      t-test  p-value  Rob. Std err  \\\n",
      "c_matched_constant    -0.119895  0.008848  -13.551087      0.0      0.010483   \n",
      "c_matched_trip_length  0.194304  0.001760  110.425720      0.0      0.002399   \n",
      "\n",
      "                       Rob. t-test  Rob. p-value  \n",
      "c_matched_constant      -11.437636           0.0  \n",
      "c_matched_trip_length    80.987644           0.0  \n"
     ]
    }
   ],
   "source": [
    "# Associate utility functions with the numbering of alternatives (corresponds to the SHARED_FLAGGER field)\n",
    "V = {0: V0, 1: V1}\n",
    "\n",
    "# Associate the availability conditions with the alternatives\n",
    "# for this model, all migrants had all alternatives theoretically available so all are equal to 1 (available)\n",
    "# if individual people had different availability for alterantives, could pass in a column of the dataframe to account for that availability\n",
    "av = {}\n",
    "for i in range(0, 2):\n",
    "    av[i] = 1\n",
    "\n",
    "# Definition of the model. This is the contribution of each\n",
    "# observation to the log likelihood function.\n",
    "# estimating the CHOSEN field\n",
    "logprob = models.loglogit(V, av, MATCHED_FLAGGER)\n",
    "\n",
    "# Create the Biogeme object\n",
    "biogeme = bio.BIOGEME(database, logprob)\n",
    "biogeme.modelName = 'rh_matched_choice'\n",
    "\n",
    "# Estimate the parameters\n",
    "results = biogeme.estimate()\n",
    "\n",
    "# Get the results in a pandas table\n",
    "pandasResults = results.getEstimatedParameters()\n",
    "print(pandasResults)"
   ]
  },
  {
   "cell_type": "code",
   "execution_count": 49,
   "metadata": {},
   "outputs": [
    {
     "data": {
      "text/plain": [
       "{'Number of estimated parameters': (2, ''),\n",
       " 'Sample size': (178681, ''),\n",
       " 'Excluded observations': (0, ''),\n",
       " 'Init log likelihood': (-1943868.7175780742, '.7g'),\n",
       " 'Final log likelihood': (-102364.88872261718, '.7g'),\n",
       " 'Likelihood ratio test for the init. model': (3683007.657710914, '.7g'),\n",
       " 'Rho-square for the init. model': (0.9473396079699473, '.3g'),\n",
       " 'Rho-square-bar for the init. model': (0.9473385790938808, '.3g'),\n",
       " 'Akaike Information Criterion': (204733.77744523436, '.7g'),\n",
       " 'Bayesian Information Criterion': (204753.96415997847, '.7g'),\n",
       " 'Final gradient norm': (11.497724194861945, '.4E'),\n",
       " 'Nbr of threads': (8, '')}"
      ]
     },
     "execution_count": 49,
     "metadata": {},
     "output_type": "execute_result"
    }
   ],
   "source": [
    "results.getGeneralStatistics()"
   ]
  },
  {
   "cell_type": "code",
   "execution_count": null,
   "metadata": {},
   "outputs": [],
   "source": []
  },
  {
   "cell_type": "code",
   "execution_count": 58,
   "metadata": {},
   "outputs": [],
   "source": [
    "# add in employment flows\n",
    "V0 =  0\n",
    "\n",
    "V1 = c_matched_constant + c_matched_trip_length * TRIP_LENGTH_MILES + c_matched_emp_flow * TOTAL_EMP_FLOW"
   ]
  },
  {
   "cell_type": "code",
   "execution_count": 59,
   "metadata": {},
   "outputs": [
    {
     "name": "stdout",
     "output_type": "stream",
     "text": [
      "                          Value   Std err      t-test  p-value  Rob. Std err  \\\n",
      "c_matched_constant    -0.163980  0.009092  -18.036109      0.0      0.010806   \n",
      "c_matched_emp_flow     0.000594  0.000029   20.208258      0.0      0.000033   \n",
      "c_matched_trip_length  0.198456  0.001779  111.566381      0.0      0.002439   \n",
      "\n",
      "                       Rob. t-test  Rob. p-value  \n",
      "c_matched_constant      -15.174299           0.0  \n",
      "c_matched_emp_flow       17.841335           0.0  \n",
      "c_matched_trip_length    81.356070           0.0  \n"
     ]
    }
   ],
   "source": [
    "# Associate utility functions with the numbering of alternatives (corresponds to the SHARED_FLAGGER field)\n",
    "V = {0: V0, 1: V1}\n",
    "\n",
    "# Associate the availability conditions with the alternatives\n",
    "# for this model, all migrants had all alternatives theoretically available so all are equal to 1 (available)\n",
    "# if individual people had different availability for alterantives, could pass in a column of the dataframe to account for that availability\n",
    "av = {}\n",
    "for i in range(0, 2):\n",
    "    av[i] = 1\n",
    "\n",
    "# Definition of the model. This is the contribution of each\n",
    "# observation to the log likelihood function.\n",
    "# estimating the CHOSEN field\n",
    "logprob = models.loglogit(V, av, MATCHED_FLAGGER)\n",
    "\n",
    "# Create the Biogeme object\n",
    "biogeme = bio.BIOGEME(database, logprob)\n",
    "biogeme.modelName = 'rh_matched_choice'\n",
    "\n",
    "# Estimate the parameters\n",
    "results = biogeme.estimate()\n",
    "\n",
    "# Get the results in a pandas table\n",
    "pandasResults = results.getEstimatedParameters()\n",
    "print(pandasResults)"
   ]
  },
  {
   "cell_type": "code",
   "execution_count": 60,
   "metadata": {},
   "outputs": [
    {
     "data": {
      "text/plain": [
       "{'Number of estimated parameters': (3, ''),\n",
       " 'Sample size': (178681, ''),\n",
       " 'Excluded observations': (0, ''),\n",
       " 'Init log likelihood': (-115322.77861084645, '.7g'),\n",
       " 'Final log likelihood': (-102119.77065601753, '.7g'),\n",
       " 'Likelihood ratio test for the init. model': (26406.015909657843, '.7g'),\n",
       " 'Rho-square for the init. model': (0.11448742489445307, '.3g'),\n",
       " 'Rho-square-bar for the init. model': (0.11446141095309526, '.3g'),\n",
       " 'Akaike Information Criterion': (204245.54131203506, '.7g'),\n",
       " 'Bayesian Information Criterion': (204275.8213841512, '.7g'),\n",
       " 'Final gradient norm': (0.49107009700993304, '.4E'),\n",
       " 'Nbr of threads': (8, '')}"
      ]
     },
     "execution_count": 60,
     "metadata": {},
     "output_type": "execute_result"
    }
   ],
   "source": [
    "results.getGeneralStatistics()"
   ]
  },
  {
   "cell_type": "code",
   "execution_count": 62,
   "metadata": {
    "scrolled": true
   },
   "outputs": [
    {
     "name": "stdout",
     "output_type": "stream",
     "text": [
      "YEAR\n",
      "MONTH\n",
      "DOW\n",
      "HOUR\n",
      "ORIGIN\n",
      "DESTINATION\n",
      "TRAVEL_TIME_MINUTES\n",
      "TRIP_LENGTH_MILES\n",
      "ORIGIN_COM_AREA\n",
      "DEST_COM_AREA\n",
      "FARE\n",
      "TIP\n",
      "ADDITIONAL_CHARGES\n",
      "TOTAL_COST\n",
      "SHARED_FLAGGER\n",
      "NUM_TRIPS_POOLED\n",
      "SPEED\n",
      "TRIP_ID\n",
      "TRIP_START_TIME\n",
      "TRIP_END_TIME\n",
      "INTERNAL_UNSUPPRESSED_FLAGGER\n",
      "INTERNAL_SUPPPRESSED_FLAGGER\n",
      "EXTERNAL_FLAGGER\n",
      "INTERNAL_EXTERNAL_FLAGGER\n",
      "AIRPORT_FLAGGER\n",
      "TOD_1\n",
      "TOD_2\n",
      "TOD_3\n",
      "TOD_4\n",
      "TOD_5\n",
      "TRIP_TYPE\n",
      "walk_distance\n",
      "travel_time\n",
      "TOD\n",
      "TOTAL_POP_ORIGIN\n",
      "MEDIAN_AGE_ORIGIN\n",
      "TOTAL_HHLDS_ORIGIN\n",
      "AVG_HHLD_SIZE_ORIGIN\n",
      "HHLDS_MEAN_INCOME_ORIGIN\n",
      "HHLDS_UNDER_35k_ORIGIN\n",
      "HHLDS_35k_100k_ORIGIN\n",
      "HHLDS_OVER_100k_ORIGIN\n",
      "HHLDS_0_VEH_ORIGIN\n",
      "AVG_VEH_PER_HHLD_ORIGIN\n",
      "HHLDS_MEDIAN_INCOME_ORIGIN\n",
      "TOTAL_POP_25P_BACHELORS_HIGHER_ORIGIN\n",
      "TOTAL_MALE_ORIGIN\n",
      "TOTAL_FEMALE_ORIGIN\n",
      "MEDIAN_AGE_ORIGIN.1\n",
      "TOTAL_POP_DESTINATION\n",
      "MEDIAN_AGE_DESTINATION\n",
      "TOTAL_HHLDS_DESTINATION\n",
      "AVG_HHLD_SIZE_DESTINATION\n",
      "HHLDS_MEAN_INCOME_DESTINATION\n",
      "HHLDS_UNDER_35k_DESTINATION\n",
      "HHLDS_35k_100k_DESTINATION\n",
      "HHLDS_OVER_100k_DESTINATION\n",
      "HHLDS_0_VEH_DESTINATION\n",
      "AVG_VEH_PER_HHLD_DESTINATION\n",
      "HHLDS_MEDIAN_INCOME_DESTINATION\n",
      "TOTAL_POP_25P_BACHELORS_HIGHER_DESTINATION\n",
      "TOTAL_MALE_DESTINATION\n",
      "TOTAL_FEMALE_DESTINATION\n",
      "MEDIAN_AGE_DESTINATION.1\n",
      "DISTANCE\n",
      "TOTAL_EMP_ORIGIN\n",
      "TRACTCE10_ORIGIN\n",
      "TOTAL_EMP_DESTINATION\n",
      "TRACTCE10_DESTINATION\n",
      "SI01\n",
      "SI02\n",
      "SI03\n",
      "TOTAL_EMP_FLOW\n",
      "OTP_AUTO_TRAVEL_TIME\n",
      "PRIVATE_TRAVEL_TIME\n",
      "SHARED_TRAVEL_TIME\n",
      "NUM_POOLS_2\n",
      "NUM_POOLS_3P\n",
      "PRIVATE_FARE\n",
      "UNMATCHED_TRAVEL_TIME\n",
      "NUM_MATCHED_TRIPS\n",
      "MATCHED_TRAVEL_TIME\n",
      "SHARED_FARE\n",
      "YEAR_MONTH\n",
      "UNMATCHED_FARE\n",
      "MATCHED_FARE\n",
      "SHARED_TAX\n",
      "PRIVATE_TAX\n",
      "TAX\n",
      "geometry_ORIGIN\n",
      "AREA_SQ_MI_ORIGIN\n",
      "geometry_DESTINATION\n",
      "AREA_SQ_MI_DESTINATION\n",
      "POP_ORIGIN_DEN\n",
      "HHLDS_ORIGIN_DEN\n",
      "EMP_ORIGIN_DEN\n",
      "POP_DESTINATION_DEN\n",
      "HHLDS_DESTINATION_DEN\n",
      "EMP_DESTINATION_DEN\n",
      "MATCHED_FLAGGER\n",
      "HHLDS_UNDER_35k_ORIGIN_SHR\n",
      "HHLDS_UNDER_35k_DESTINATION_SHR\n",
      "HHLDS_UNDER_35K_0_VEH_ORIGIN\n",
      "HHLDS_UNDER_35K_0_VEH_DESTINATION\n"
     ]
    }
   ],
   "source": [
    "for col in shared.columns:\n",
    "    print(col)"
   ]
  },
  {
   "cell_type": "code",
   "execution_count": 65,
   "metadata": {},
   "outputs": [],
   "source": [
    "# try fare\n",
    "V0 =  0 + c_fare*UNMATCHED_FARE\n",
    "\n",
    "V1 = c_matched_constant + c_matched_trip_length * TRIP_LENGTH_MILES + c_matched_emp_flow * TOTAL_EMP_FLOW + c_fare*MATCHED_FARE"
   ]
  },
  {
   "cell_type": "code",
   "execution_count": 66,
   "metadata": {},
   "outputs": [
    {
     "name": "stdout",
     "output_type": "stream",
     "text": [
      "                          Value   Std err      t-test  p-value  Rob. Std err  \\\n",
      "c_fare                 0.905845  0.009654   93.834135      0.0      0.010922   \n",
      "c_matched_constant     1.344277  0.017571   76.506489      0.0      0.018323   \n",
      "c_matched_emp_flow     0.000524  0.000029   18.045518      0.0      0.000032   \n",
      "c_matched_trip_length  0.448751  0.003464  129.561602      0.0      0.004353   \n",
      "\n",
      "                       Rob. t-test  Rob. p-value  \n",
      "c_fare                   82.939178           0.0  \n",
      "c_matched_constant       73.363843           0.0  \n",
      "c_matched_emp_flow       16.591009           0.0  \n",
      "c_matched_trip_length   103.084663           0.0  \n"
     ]
    }
   ],
   "source": [
    "# Associate utility functions with the numbering of alternatives (corresponds to the SHARED_FLAGGER field)\n",
    "V = {0: V0, 1: V1}\n",
    "\n",
    "# Associate the availability conditions with the alternatives\n",
    "# for this model, all migrants had all alternatives theoretically available so all are equal to 1 (available)\n",
    "# if individual people had different availability for alterantives, could pass in a column of the dataframe to account for that availability\n",
    "av = {}\n",
    "for i in range(0, 2):\n",
    "    av[i] = 1\n",
    "\n",
    "# Definition of the model. This is the contribution of each\n",
    "# observation to the log likelihood function.\n",
    "# estimating the CHOSEN field\n",
    "logprob = models.loglogit(V, av, MATCHED_FLAGGER)\n",
    "\n",
    "# Create the Biogeme object\n",
    "biogeme = bio.BIOGEME(database, logprob)\n",
    "biogeme.modelName = 'rh_matched_choice'\n",
    "\n",
    "# Estimate the parameters\n",
    "results = biogeme.estimate()\n",
    "\n",
    "# Get the results in a pandas table\n",
    "pandasResults = results.getEstimatedParameters()\n",
    "print(pandasResults)"
   ]
  },
  {
   "cell_type": "code",
   "execution_count": 67,
   "metadata": {},
   "outputs": [
    {
     "data": {
      "text/plain": [
       "{'Number of estimated parameters': (4, ''),\n",
       " 'Sample size': (178681, ''),\n",
       " 'Excluded observations': (0, ''),\n",
       " 'Init log likelihood': (-102119.77065601753, '.7g'),\n",
       " 'Final log likelihood': (-97277.24821730533, '.7g'),\n",
       " 'Likelihood ratio test for the init. model': (9685.0448774244, '.7g'),\n",
       " 'Rho-square for the init. model': (0.04742002853711702, '.3g'),\n",
       " 'Rho-square-bar for the init. model': (0.04738085884476162, '.3g'),\n",
       " 'Akaike Information Criterion': (194562.49643461066, '.7g'),\n",
       " 'Bayesian Information Criterion': (194602.86986409884, '.7g'),\n",
       " 'Final gradient norm': (0.03901915060001539, '.4E'),\n",
       " 'Nbr of threads': (8, '')}"
      ]
     },
     "execution_count": 67,
     "metadata": {},
     "output_type": "execute_result"
    }
   ],
   "source": [
    "results.getGeneralStatistics()"
   ]
  },
  {
   "cell_type": "code",
   "execution_count": null,
   "metadata": {},
   "outputs": [],
   "source": []
  },
  {
   "cell_type": "code",
   "execution_count": 91,
   "metadata": {},
   "outputs": [],
   "source": [
    "# try population density\n",
    "V0 =  0 \n",
    "\n",
    "V1 = c_matched_constant + c_matched_trip_length * TRIP_LENGTH_MILES + c_matched_emp_flow * TOTAL_EMP_FLOW + c_matched_pop_den_dest * POP_DESTINATION_DEN + c_matched_pop_den_origin * POP_ORIGIN_DEN"
   ]
  },
  {
   "cell_type": "code",
   "execution_count": 92,
   "metadata": {},
   "outputs": [
    {
     "name": "stdout",
     "output_type": "stream",
     "text": [
      "                             Value       Std err      t-test  p-value  \\\n",
      "c_matched_constant       -0.485296  1.468297e-02  -33.051639      0.0   \n",
      "c_matched_emp_flow        0.000569  2.912674e-05   19.546468      0.0   \n",
      "c_matched_pop_den_dest    0.000007  3.922237e-07   18.463512      0.0   \n",
      "c_matched_pop_den_origin  0.000007  3.842292e-07   18.012192      0.0   \n",
      "c_matched_trip_length     0.202550  1.788483e-03  113.252362      0.0   \n",
      "\n",
      "                          Rob. Std err  Rob. t-test  Rob. p-value  \n",
      "c_matched_constant        1.633815e-02   -29.703258           0.0  \n",
      "c_matched_emp_flow        3.249940e-05    17.518009           0.0  \n",
      "c_matched_pop_den_dest    4.462073e-07    16.229735           0.0  \n",
      "c_matched_pop_den_origin  4.029426e-07    17.175671           0.0  \n",
      "c_matched_trip_length     2.444584e-03    82.856596           0.0  \n"
     ]
    }
   ],
   "source": [
    "# Associate utility functions with the numbering of alternatives (corresponds to the SHARED_FLAGGER field)\n",
    "V = {0: V0, 1: V1}\n",
    "\n",
    "# Associate the availability conditions with the alternatives\n",
    "# for this model, all migrants had all alternatives theoretically available so all are equal to 1 (available)\n",
    "# if individual people had different availability for alterantives, could pass in a column of the dataframe to account for that availability\n",
    "av = {}\n",
    "for i in range(0, 2):\n",
    "    av[i] = 1\n",
    "\n",
    "# Definition of the model. This is the contribution of each\n",
    "# observation to the log likelihood function.\n",
    "# estimating the CHOSEN field\n",
    "logprob = models.loglogit(V, av, MATCHED_FLAGGER)\n",
    "\n",
    "# Create the Biogeme object\n",
    "biogeme = bio.BIOGEME(database, logprob)\n",
    "biogeme.modelName = 'rh_matched_choice'\n",
    "\n",
    "# Estimate the parameters\n",
    "results = biogeme.estimate()\n",
    "\n",
    "# Get the results in a pandas table\n",
    "pandasResults = results.getEstimatedParameters()\n",
    "print(pandasResults)"
   ]
  },
  {
   "cell_type": "code",
   "execution_count": 93,
   "metadata": {},
   "outputs": [
    {
     "data": {
      "text/plain": [
       "{'Number of estimated parameters': (5, ''),\n",
       " 'Sample size': (178681, ''),\n",
       " 'Excluded observations': (0, ''),\n",
       " 'Init log likelihood': (-116654.75073243673, '.7g'),\n",
       " 'Final log likelihood': (-101717.9596279941, '.7g'),\n",
       " 'Likelihood ratio test for the init. model': (29873.58220888526, '.7g'),\n",
       " 'Rho-square for the init. model': (0.12804271588306038, '.3g'),\n",
       " 'Rho-square-bar for the init. model': (0.12799985436247419, '.3g'),\n",
       " 'Akaike Information Criterion': (203445.9192559882, '.7g'),\n",
       " 'Bayesian Information Criterion': (203496.38604284843, '.7g'),\n",
       " 'Final gradient norm': (0.35824198151505693, '.4E'),\n",
       " 'Nbr of threads': (8, '')}"
      ]
     },
     "execution_count": 93,
     "metadata": {},
     "output_type": "execute_result"
    }
   ],
   "source": [
    "results.getGeneralStatistics()"
   ]
  },
  {
   "cell_type": "code",
   "execution_count": 79,
   "metadata": {},
   "outputs": [],
   "source": [
    "# try household density\n",
    "\n",
    "V0 =  0 \n",
    "\n",
    "V1 = c_matched_constant + c_matched_trip_length * TRIP_LENGTH_MILES + c_matched_emp_flow * TOTAL_EMP_FLOW + c_matched_hhlds_den_dest * HHLDS_DESTINATION_DEN + c_matched_hhlds_den_origin * HHLDS_ORIGIN_DEN"
   ]
  },
  {
   "cell_type": "code",
   "execution_count": 80,
   "metadata": {},
   "outputs": [
    {
     "name": "stdout",
     "output_type": "stream",
     "text": [
      "                               Value       Std err      t-test  p-value  \\\n",
      "c_matched_constant         -0.501533  1.268119e-02  -39.549381      0.0   \n",
      "c_matched_emp_flow          0.000501  2.866259e-05   17.480590      0.0   \n",
      "c_matched_hhlds_den_dest    0.000016  6.446661e-07   25.452122      0.0   \n",
      "c_matched_hhlds_den_origin  0.000014  6.213900e-07   23.108623      0.0   \n",
      "c_matched_trip_length       0.205127  1.795737e-03  114.230011      0.0   \n",
      "\n",
      "                            Rob. Std err  Rob. t-test  Rob. p-value  \n",
      "c_matched_constant          1.460815e-02   -34.332435           0.0  \n",
      "c_matched_emp_flow          3.125449e-05    16.030942           0.0  \n",
      "c_matched_hhlds_den_dest    7.721384e-07    21.250233           0.0  \n",
      "c_matched_hhlds_den_origin  6.740927e-07    21.301919           0.0  \n",
      "c_matched_trip_length       2.460671e-03    83.362217           0.0  \n"
     ]
    }
   ],
   "source": [
    "# Associate utility functions with the numbering of alternatives (corresponds to the SHARED_FLAGGER field)\n",
    "V = {0: V0, 1: V1}\n",
    "\n",
    "# Associate the availability conditions with the alternatives\n",
    "# for this model, all migrants had all alternatives theoretically available so all are equal to 1 (available)\n",
    "# if individual people had different availability for alterantives, could pass in a column of the dataframe to account for that availability\n",
    "av = {}\n",
    "for i in range(0, 2):\n",
    "    av[i] = 1\n",
    "\n",
    "# Definition of the model. This is the contribution of each\n",
    "# observation to the log likelihood function.\n",
    "# estimating the CHOSEN field\n",
    "logprob = models.loglogit(V, av, MATCHED_FLAGGER)\n",
    "\n",
    "# Create the Biogeme object\n",
    "biogeme = bio.BIOGEME(database, logprob)\n",
    "biogeme.modelName = 'rh_matched_choice'\n",
    "\n",
    "# Estimate the parameters\n",
    "results = biogeme.estimate()\n",
    "\n",
    "# Get the results in a pandas table\n",
    "pandasResults = results.getEstimatedParameters()\n",
    "print(pandasResults)"
   ]
  },
  {
   "cell_type": "code",
   "execution_count": 81,
   "metadata": {},
   "outputs": [
    {
     "data": {
      "text/plain": [
       "{'Number of estimated parameters': (5, ''),\n",
       " 'Sample size': (178681, ''),\n",
       " 'Excluded observations': (0, ''),\n",
       " 'Init log likelihood': (-116654.03933012532, '.7g'),\n",
       " 'Final log likelihood': (-101349.99040529973, '.7g'),\n",
       " 'Likelihood ratio test for the init. model': (30608.09784965118, '.7g'),\n",
       " 'Rho-square for the init. model': (0.13119176166301338, '.3g'),\n",
       " 'Rho-square-bar for the init. model': (0.13114889988104073, '.3g'),\n",
       " 'Akaike Information Criterion': (202709.98081059946, '.7g'),\n",
       " 'Bayesian Information Criterion': (202760.4475974597, '.7g'),\n",
       " 'Final gradient norm': (0.9575275079202501, '.4E'),\n",
       " 'Nbr of threads': (8, '')}"
      ]
     },
     "execution_count": 81,
     "metadata": {},
     "output_type": "execute_result"
    }
   ],
   "source": [
    "results.getGeneralStatistics()"
   ]
  },
  {
   "cell_type": "code",
   "execution_count": 86,
   "metadata": {},
   "outputs": [],
   "source": [
    "# try employment density\n",
    "V0 =  0 \n",
    "\n",
    "V1 = c_matched_constant + c_matched_trip_length * TRIP_LENGTH_MILES + c_matched_emp_flow * TOTAL_EMP_FLOW + c_matched_hhlds_den_dest * EMP_DESTINATION_DEN + c_matched_hhlds_den_origin * EMP_ORIGIN_DEN"
   ]
  },
  {
   "cell_type": "code",
   "execution_count": 87,
   "metadata": {},
   "outputs": [
    {
     "name": "stdout",
     "output_type": "stream",
     "text": [
      "                               Value   Std err      t-test  p-value  \\\n",
      "c_matched_constant         -0.203045  0.009391  -21.620207      0.0   \n",
      "c_matched_emp_flow         -0.001174  0.000108  -10.867591      0.0   \n",
      "c_matched_hhlds_den_dest    0.000099  0.000009   11.284532      0.0   \n",
      "c_matched_hhlds_den_origin  0.000634  0.000045   13.931014      0.0   \n",
      "c_matched_trip_length       0.201504  0.001795  112.288276      0.0   \n",
      "\n",
      "                            Rob. Std err  Rob. t-test  Rob. p-value  \n",
      "c_matched_constant              0.011123   -18.254553           0.0  \n",
      "c_matched_emp_flow              0.000115   -10.238946           0.0  \n",
      "c_matched_hhlds_den_dest        0.000009    10.898290           0.0  \n",
      "c_matched_hhlds_den_origin      0.000049    12.988914           0.0  \n",
      "c_matched_trip_length           0.002465    81.740987           0.0  \n"
     ]
    }
   ],
   "source": [
    "# Associate utility functions with the numbering of alternatives (corresponds to the SHARED_FLAGGER field)\n",
    "V = {0: V0, 1: V1}\n",
    "\n",
    "# Associate the availability conditions with the alternatives\n",
    "# for this model, all migrants had all alternatives theoretically available so all are equal to 1 (available)\n",
    "# if individual people had different availability for alterantives, could pass in a column of the dataframe to account for that availability\n",
    "av = {}\n",
    "for i in range(0, 2):\n",
    "    av[i] = 1\n",
    "\n",
    "# Definition of the model. This is the contribution of each\n",
    "# observation to the log likelihood function.\n",
    "# estimating the CHOSEN field\n",
    "logprob = models.loglogit(V, av, MATCHED_FLAGGER)\n",
    "\n",
    "# Create the Biogeme object\n",
    "biogeme = bio.BIOGEME(database, logprob)\n",
    "biogeme.modelName = 'rh_matched_choice'\n",
    "\n",
    "# Estimate the parameters\n",
    "results = biogeme.estimate()\n",
    "\n",
    "# Get the results in a pandas table\n",
    "pandasResults = results.getEstimatedParameters()\n",
    "print(pandasResults)"
   ]
  },
  {
   "cell_type": "code",
   "execution_count": 88,
   "metadata": {},
   "outputs": [
    {
     "data": {
      "text/plain": [
       "{'Number of estimated parameters': (5, ''),\n",
       " 'Sample size': (178681, ''),\n",
       " 'Excluded observations': (0, ''),\n",
       " 'Init log likelihood': (-116654.04003058838, '.7g'),\n",
       " 'Final log likelihood': (-101941.955061827, '.7g'),\n",
       " 'Likelihood ratio test for the init. model': (29424.16993752276, '.7g'),\n",
       " 'Rho-square for the init. model': (0.12611723490162585, '.3g'),\n",
       " 'Rho-square-bar for the init. model': (0.12607437311991054, '.3g'),\n",
       " 'Akaike Information Criterion': (203893.910123654, '.7g'),\n",
       " 'Bayesian Information Criterion': (203944.37691051423, '.7g'),\n",
       " 'Final gradient norm': (0.12258842779651637, '.4E'),\n",
       " 'Nbr of threads': (8, '')}"
      ]
     },
     "execution_count": 88,
     "metadata": {},
     "output_type": "execute_result"
    }
   ],
   "source": [
    "results.getGeneralStatistics()"
   ]
  },
  {
   "cell_type": "code",
   "execution_count": null,
   "metadata": {},
   "outputs": [],
   "source": []
  },
  {
   "cell_type": "code",
   "execution_count": 99,
   "metadata": {},
   "outputs": [
    {
     "name": "stdout",
     "output_type": "stream",
     "text": [
      "201908 : 3236\n",
      "201910 : 3006\n",
      "201911 : 2727\n",
      "201905 : 3636\n",
      "202002 : 3055\n",
      "201904 : 3743\n",
      "201901 : 4536\n",
      "201906 : 2806\n",
      "201907 : 3501\n",
      "201903 : 3715\n",
      "201912 : 2922\n",
      "201812 : 3908\n",
      "202001 : 3706\n",
      "201909 : 2935\n",
      "201902 : 3656\n",
      "201811 : 4792\n"
     ]
    }
   ],
   "source": [
    "for yr_mn in df['YEAR_MONTH'].unique():\n",
    "    \n",
    "    print(str(yr_mn) + ' : ' + str(len(df[(df['YEAR_MONTH'] == yr_mn)&(df['SHARED_FLAGGER'] == 1)&(df['NUM_TRIPS_POOLED'] == 1)])))\n"
   ]
  },
  {
   "cell_type": "code",
   "execution_count": 101,
   "metadata": {},
   "outputs": [
    {
     "name": "stdout",
     "output_type": "stream",
     "text": [
      "201908 : 5477\n",
      "201910 : 4970\n",
      "201911 : 4549\n",
      "201905 : 9851\n",
      "202002 : 5192\n",
      "201904 : 10359\n",
      "201901 : 11492\n",
      "201906 : 6926\n",
      "201907 : 6148\n",
      "201903 : 11692\n",
      "201912 : 4553\n",
      "201812 : 9151\n",
      "202001 : 5780\n",
      "201909 : 5012\n",
      "201902 : 11033\n",
      "201811 : 10616\n"
     ]
    }
   ],
   "source": [
    "for yr_mn in df['YEAR_MONTH'].unique():\n",
    "    \n",
    "    print(str(yr_mn) + ' : ' + str(len(df[(df['YEAR_MONTH'] == yr_mn)&(df['SHARED_FLAGGER'] == 1)&(df['NUM_TRIPS_POOLED'] > 1)])))\n"
   ]
  },
  {
   "cell_type": "code",
   "execution_count": 102,
   "metadata": {},
   "outputs": [
    {
     "name": "stdout",
     "output_type": "stream",
     "text": [
      "201908 : 44197\n",
      "201910 : 47648\n",
      "201911 : 44575\n",
      "201905 : 45027\n",
      "202002 : 41742\n",
      "201904 : 41255\n",
      "201901 : 37732\n",
      "201906 : 39185\n",
      "201907 : 44097\n",
      "201903 : 41659\n",
      "201912 : 45240\n",
      "201812 : 33482\n",
      "202001 : 43375\n",
      "201909 : 40628\n",
      "201902 : 37739\n",
      "201811 : 37720\n"
     ]
    }
   ],
   "source": [
    "for yr_mn in df['YEAR_MONTH'].unique():\n",
    "    \n",
    "    print(str(yr_mn) + ' : ' + str(len(df[(df['YEAR_MONTH'] == yr_mn)&(df['SHARED_FLAGGER'] == 0)&(df['NUM_TRIPS_POOLED'] == 1)])))\n"
   ]
  },
  {
   "cell_type": "code",
   "execution_count": 201,
   "metadata": {},
   "outputs": [
    {
     "data": {
      "text/plain": [
       "10        19.176261\n",
       "13        19.176261\n",
       "14        19.176261\n",
       "18        19.176261\n",
       "19        19.176261\n",
       "            ...    \n",
       "843970     0.313051\n",
       "843971     0.389735\n",
       "843973     0.239205\n",
       "843978     0.259067\n",
       "843981     0.326428\n",
       "Name: SHARED_PROBABILITY, Length: 178681, dtype: float64"
      ]
     },
     "execution_count": 201,
     "metadata": {},
     "output_type": "execute_result"
    }
   ],
   "source": [
    "shared['SHARED_PROBABILITY']"
   ]
  },
  {
   "cell_type": "code",
   "execution_count": 37,
   "metadata": {},
   "outputs": [],
   "source": [
    "# try shared trips instead of emp variables\n",
    "\n",
    "V0 =  0 \n",
    "\n",
    "V1 = c_matched_constant + c_matched_trip_length * TRIP_LENGTH_MILES + c_matched_shared_trips * REQUESTS_PER_HOUR"
   ]
  },
  {
   "cell_type": "code",
   "execution_count": 102,
   "metadata": {},
   "outputs": [],
   "source": [
    "# try household density 1k increments per acre\n",
    "\n",
    "V0 =  0 \n",
    "\n",
    "V1 = c_matched_constant + c_matched_trip_length * TRIP_LENGTH_MILES + c_matched_shared_trips * REQUESTS_PER_HOUR + c_matched_hhlds_den_dest * HHLDS_DESTINATION_DEN_1k + c_matched_hhlds_den_origin * HHLDS_ORIGIN_DEN_1k"
   ]
  },
  {
   "cell_type": "code",
   "execution_count": null,
   "metadata": {},
   "outputs": [],
   "source": []
  },
  {
   "cell_type": "code",
   "execution_count": 103,
   "metadata": {},
   "outputs": [
    {
     "ename": "biogemeError",
     "evalue": "Variables in formula loglike missing in the database: ['TRIP_LENGTH_MILES']",
     "output_type": "error",
     "traceback": [
      "\u001b[1;31m---------------------------------------------------------------------------\u001b[0m",
      "\u001b[1;31mbiogemeError\u001b[0m                              Traceback (most recent call last)",
      "\u001b[1;32m<ipython-input-103-c815ca8439d8>\u001b[0m in \u001b[0;36m<module>\u001b[1;34m\u001b[0m\n\u001b[0;32m     15\u001b[0m \u001b[1;33m\u001b[0m\u001b[0m\n\u001b[0;32m     16\u001b[0m \u001b[1;31m# Create the Biogeme object\u001b[0m\u001b[1;33m\u001b[0m\u001b[1;33m\u001b[0m\u001b[1;33m\u001b[0m\u001b[0m\n\u001b[1;32m---> 17\u001b[1;33m \u001b[0mbiogeme\u001b[0m \u001b[1;33m=\u001b[0m \u001b[0mbio\u001b[0m\u001b[1;33m.\u001b[0m\u001b[0mBIOGEME\u001b[0m\u001b[1;33m(\u001b[0m\u001b[0mdatabase\u001b[0m\u001b[1;33m,\u001b[0m \u001b[0mlogprob\u001b[0m\u001b[1;33m)\u001b[0m\u001b[1;33m\u001b[0m\u001b[1;33m\u001b[0m\u001b[0m\n\u001b[0m\u001b[0;32m     18\u001b[0m \u001b[0mbiogeme\u001b[0m\u001b[1;33m.\u001b[0m\u001b[0mmodelName\u001b[0m \u001b[1;33m=\u001b[0m \u001b[1;34m'rh_matched_choice'\u001b[0m\u001b[1;33m\u001b[0m\u001b[1;33m\u001b[0m\u001b[0m\n\u001b[0;32m     19\u001b[0m \u001b[1;33m\u001b[0m\u001b[0m\n",
      "\u001b[1;32m~\\Anaconda3\\lib\\site-packages\\biogeme\\biogeme.py\u001b[0m in \u001b[0;36m__init__\u001b[1;34m(self, database, formulas, userNotes, numberOfThreads, numberOfDraws, seed, skipAudit, removeUnusedVariables, displayUsedVariables, suggestScales, missingData)\u001b[0m\n\u001b[0;32m    234\u001b[0m                     \u001b[1;34mf'{missingVariables}'\u001b[0m\u001b[1;33m\u001b[0m\u001b[1;33m\u001b[0m\u001b[0m\n\u001b[0;32m    235\u001b[0m                 )\n\u001b[1;32m--> 236\u001b[1;33m                 \u001b[1;32mraise\u001b[0m \u001b[0mexcep\u001b[0m\u001b[1;33m.\u001b[0m\u001b[0mbiogemeError\u001b[0m\u001b[1;33m(\u001b[0m\u001b[0merrorMsg\u001b[0m\u001b[1;33m)\u001b[0m\u001b[1;33m\u001b[0m\u001b[1;33m\u001b[0m\u001b[0m\n\u001b[0m\u001b[0;32m    237\u001b[0m             \u001b[0mself\u001b[0m\u001b[1;33m.\u001b[0m\u001b[0musedVariables\u001b[0m \u001b[1;33m|=\u001b[0m \u001b[0mf\u001b[0m\u001b[1;33m.\u001b[0m\u001b[0msetOfVariables\u001b[0m\u001b[1;33m(\u001b[0m\u001b[1;33m)\u001b[0m\u001b[1;33m\u001b[0m\u001b[1;33m\u001b[0m\u001b[0m\n\u001b[0;32m    238\u001b[0m         \u001b[1;32mif\u001b[0m \u001b[0mself\u001b[0m\u001b[1;33m.\u001b[0m\u001b[0mdatabase\u001b[0m\u001b[1;33m.\u001b[0m\u001b[0misPanel\u001b[0m\u001b[1;33m(\u001b[0m\u001b[1;33m)\u001b[0m\u001b[1;33m:\u001b[0m\u001b[1;33m\u001b[0m\u001b[1;33m\u001b[0m\u001b[0m\n",
      "\u001b[1;31mbiogemeError\u001b[0m: Variables in formula loglike missing in the database: ['TRIP_LENGTH_MILES']"
     ]
    }
   ],
   "source": [
    "# Associate utility functions with the numbering of alternatives (corresponds to the SHARED_FLAGGER field)\n",
    "V = {0: V0, 1: V1}\n",
    "\n",
    "# Associate the availability conditions with the alternatives\n",
    "# for this model, all migrants had all alternatives theoretically available so all are equal to 1 (available)\n",
    "# if individual people had different availability for alterantives, could pass in a column of the dataframe to account for that availability\n",
    "av = {}\n",
    "for i in range(0, 2):\n",
    "    av[i] = 1\n",
    "\n",
    "# Definition of the model. This is the contribution of each\n",
    "# observation to the log likelihood function.\n",
    "# estimating the CHOSEN field\n",
    "logprob = models.loglogit(V, av, MATCHED_FLAGGER)\n",
    "\n",
    "# Create the Biogeme object\n",
    "biogeme = bio.BIOGEME(database, logprob)\n",
    "biogeme.modelName = 'rh_matched_choice'\n",
    "\n",
    "# Estimate the parameters\n",
    "results = biogeme.estimate()\n",
    "\n",
    "# Get the results in a pandas table\n",
    "pandasResults = results.getEstimatedParameters()\n",
    "print(pandasResults)"
   ]
  },
  {
   "cell_type": "code",
   "execution_count": 100,
   "metadata": {},
   "outputs": [],
   "source": [
    "# try household density 1k increments per acre\n",
    "#USE THIS MODEL \n",
    "\n",
    "V0 =  0 \n",
    "\n",
    "V1 = c_matched_constant + c_matched_trip_length * TRIP_LENGTH_MILES_y + c_matched_shared_trips * REQUESTS_PER_HOUR + c_matched_hhlds_den_dest * HHLDS_DESTINATION_DEN_1k + c_matched_hhlds_den_origin * HHLDS_ORIGIN_DEN_1k"
   ]
  },
  {
   "cell_type": "code",
   "execution_count": 99,
   "metadata": {},
   "outputs": [
    {
     "name": "stdout",
     "output_type": "stream",
     "text": [
      "                               Value   Std err     t-test  p-value  \\\n",
      "c_matched_constant         -0.361023  0.015720 -22.965282      0.0   \n",
      "c_matched_hhlds_den_dest    0.016326  0.000630  25.912929      0.0   \n",
      "c_matched_hhlds_den_origin  0.011812  0.000611  19.332993      0.0   \n",
      "c_matched_shared_trips      0.323197  0.011093  29.136026      0.0   \n",
      "c_matched_trip_length       0.147806  0.002044  72.325672      0.0   \n",
      "\n",
      "                            Rob. Std err  Rob. t-test  Rob. p-value  \n",
      "c_matched_constant              0.017790   -20.293171           0.0  \n",
      "c_matched_hhlds_den_dest        0.000749    21.790349           0.0  \n",
      "c_matched_hhlds_den_origin      0.000658    17.950280           0.0  \n",
      "c_matched_shared_trips          0.012843    25.164649           0.0  \n",
      "c_matched_trip_length           0.002395    61.707588           0.0  \n"
     ]
    }
   ],
   "source": [
    "# Associate utility functions with the numbering of alternatives (corresponds to the SHARED_FLAGGER field)\n",
    "V = {0: V0, 1: V1}\n",
    "\n",
    "# Associate the availability conditions with the alternatives\n",
    "# for this model, all migrants had all alternatives theoretically available so all are equal to 1 (available)\n",
    "# if individual people had different availability for alterantives, could pass in a column of the dataframe to account for that availability\n",
    "av = {}\n",
    "for i in range(0, 2):\n",
    "    av[i] = 1\n",
    "\n",
    "# Definition of the model. This is the contribution of each\n",
    "# observation to the log likelihood function.\n",
    "# estimating the CHOSEN field\n",
    "logprob = models.loglogit(V, av, MATCHED_FLAGGER)\n",
    "\n",
    "# Create the Biogeme object\n",
    "biogeme = bio.BIOGEME(database, logprob)\n",
    "biogeme.modelName = 'rh_matched_choice'\n",
    "\n",
    "# Estimate the parameters\n",
    "results = biogeme.estimate()\n",
    "\n",
    "# Get the results in a pandas table\n",
    "pandasResults = results.getEstimatedParameters()\n",
    "print(pandasResults)"
   ]
  },
  {
   "cell_type": "code",
   "execution_count": 98,
   "metadata": {},
   "outputs": [
    {
     "data": {
      "text/plain": [
       "{'Number of estimated parameters': (5, ''),\n",
       " 'Sample size': (178681, ''),\n",
       " 'Excluded observations': (0, ''),\n",
       " 'Init log likelihood': (-139755.10193494437, '.7g'),\n",
       " 'Final log likelihood': (-107374.79776695998, '.7g'),\n",
       " 'Likelihood ratio test for the init. model': (64760.60833596878, '.7g'),\n",
       " 'Rho-square for the init. model': (0.23169318128405314, '.3g'),\n",
       " 'Rho-square-bar for the init. model': (0.23165740441486715, '.3g'),\n",
       " 'Akaike Information Criterion': (214759.59553391996, '.7g'),\n",
       " 'Bayesian Information Criterion': (214810.06232078018, '.7g'),\n",
       " 'Final gradient norm': (0.5173166318358979, '.4E'),\n",
       " 'Nbr of threads': (8, '')}"
      ]
     },
     "execution_count": 98,
     "metadata": {},
     "output_type": "execute_result"
    }
   ],
   "source": [
    "results.getGeneralStatistics()"
   ]
  },
  {
   "cell_type": "code",
   "execution_count": 18,
   "metadata": {},
   "outputs": [
    {
     "name": "stdout",
     "output_type": "stream",
     "text": [
      "YEAR\n",
      "MONTH\n",
      "DOW\n",
      "HOUR\n",
      "ORIGIN\n",
      "DESTINATION\n",
      "TRAVEL_TIME_MINUTES\n",
      "TRIP_LENGTH_MILES\n",
      "ORIGIN_COM_AREA\n",
      "DEST_COM_AREA\n",
      "FARE\n",
      "TIP\n",
      "ADDITIONAL_CHARGES\n",
      "TOTAL_COST\n",
      "SHARED_FLAGGER\n",
      "NUM_TRIPS_POOLED\n",
      "SPEED\n",
      "TRIP_ID\n",
      "TRIP_START_TIME\n",
      "TRIP_END_TIME\n",
      "INTERNAL_UNSUPPRESSED_FLAGGER\n",
      "INTERNAL_SUPPPRESSED_FLAGGER\n",
      "EXTERNAL_FLAGGER\n",
      "INTERNAL_EXTERNAL_FLAGGER\n",
      "AIRPORT_FLAGGER\n",
      "TOD_1\n",
      "TOD_2\n",
      "TOD_3\n",
      "TOD_4\n",
      "TOD_5\n",
      "TRIP_TYPE\n",
      "walk_distance\n",
      "travel_time\n",
      "TOD\n",
      "TOTAL_POP_ORIGIN\n",
      "MEDIAN_AGE_ORIGIN\n",
      "TOTAL_HHLDS_ORIGIN\n",
      "AVG_HHLD_SIZE_ORIGIN\n",
      "HHLDS_MEAN_INCOME_ORIGIN\n",
      "HHLDS_UNDER_35k_ORIGIN\n",
      "HHLDS_35k_100k_ORIGIN\n",
      "HHLDS_OVER_100k_ORIGIN\n",
      "HHLDS_0_VEH_ORIGIN\n",
      "AVG_VEH_PER_HHLD_ORIGIN\n",
      "HHLDS_MEDIAN_INCOME_ORIGIN\n",
      "TOTAL_POP_25P_BACHELORS_HIGHER_ORIGIN\n",
      "TOTAL_MALE_ORIGIN\n",
      "TOTAL_FEMALE_ORIGIN\n",
      "MEDIAN_AGE_ORIGIN.1\n",
      "TOTAL_POP_DESTINATION\n",
      "MEDIAN_AGE_DESTINATION\n",
      "TOTAL_HHLDS_DESTINATION\n",
      "AVG_HHLD_SIZE_DESTINATION\n",
      "HHLDS_MEAN_INCOME_DESTINATION\n",
      "HHLDS_UNDER_35k_DESTINATION\n",
      "HHLDS_35k_100k_DESTINATION\n",
      "HHLDS_OVER_100k_DESTINATION\n",
      "HHLDS_0_VEH_DESTINATION\n",
      "AVG_VEH_PER_HHLD_DESTINATION\n",
      "HHLDS_MEDIAN_INCOME_DESTINATION\n",
      "TOTAL_POP_25P_BACHELORS_HIGHER_DESTINATION\n",
      "TOTAL_MALE_DESTINATION\n",
      "TOTAL_FEMALE_DESTINATION\n",
      "MEDIAN_AGE_DESTINATION.1\n",
      "DISTANCE\n",
      "TOTAL_EMP_ORIGIN\n",
      "TRACTCE10_ORIGIN\n",
      "TOTAL_EMP_DESTINATION\n",
      "TRACTCE10_DESTINATION\n",
      "SI01\n",
      "SI02\n",
      "SI03\n",
      "TOTAL_EMP_FLOW\n",
      "OTP_AUTO_TRAVEL_TIME\n",
      "PRIVATE_TRAVEL_TIME\n",
      "SHARED_TRAVEL_TIME\n",
      "NUM_POOLS_2\n",
      "NUM_POOLS_3P\n",
      "PRIVATE_FARE\n",
      "UNMATCHED_TRAVEL_TIME\n",
      "NUM_MATCHED_TRIPS\n",
      "MATCHED_TRAVEL_TIME\n",
      "SHARED_FARE\n",
      "YEAR_MONTH\n",
      "UNMATCHED_FARE\n",
      "MATCHED_FARE\n",
      "SHARED_TAX\n",
      "PRIVATE_TAX\n",
      "TAX\n",
      "geometry_ORIGIN\n",
      "AREA_SQ_MI_ORIGIN\n",
      "geometry_DESTINATION\n",
      "AREA_SQ_MI_DESTINATION\n",
      "POP_ORIGIN_DEN\n",
      "HHLDS_ORIGIN_DEN\n",
      "EMP_ORIGIN_DEN\n",
      "POP_DESTINATION_DEN\n",
      "HHLDS_DESTINATION_DEN\n",
      "EMP_DESTINATION_DEN\n",
      "MATCHED_FLAGGER\n",
      "HHLDS_UNDER_35k_ORIGIN_SHR\n",
      "HHLDS_UNDER_35k_DESTINATION_SHR\n",
      "HHLDS_UNDER_35K_0_VEH_ORIGIN\n",
      "HHLDS_UNDER_35K_0_VEH_DESTINATION\n",
      "HHLDS_ORIGIN_DEN_1k\n",
      "HHLDS_DESTINATION_DEN_1k\n"
     ]
    }
   ],
   "source": [
    "for col in df.columns:\n",
    "    print(col)"
   ]
  },
  {
   "cell_type": "code",
   "execution_count": 519,
   "metadata": {},
   "outputs": [
    {
     "name": "stderr",
     "output_type": "stream",
     "text": [
      "C:\\Users\\ramu225\\Anaconda3\\lib\\site-packages\\ipykernel_launcher.py:1: SettingWithCopyWarning: \n",
      "A value is trying to be set on a copy of a slice from a DataFrame.\n",
      "Try using .loc[row_indexer,col_indexer] = value instead\n",
      "\n",
      "See the caveats in the documentation: https://pandas.pydata.org/pandas-docs/stable/user_guide/indexing.html#returning-a-view-versus-a-copy\n",
      "  \"\"\"Entry point for launching an IPython kernel.\n",
      "C:\\Users\\ramu225\\Anaconda3\\lib\\site-packages\\ipykernel_launcher.py:2: SettingWithCopyWarning: \n",
      "A value is trying to be set on a copy of a slice from a DataFrame.\n",
      "Try using .loc[row_indexer,col_indexer] = value instead\n",
      "\n",
      "See the caveats in the documentation: https://pandas.pydata.org/pandas-docs/stable/user_guide/indexing.html#returning-a-view-versus-a-copy\n",
      "  \n"
     ]
    }
   ],
   "source": [
    "#shared['UNMATCHED_UTILITY'] = 0\n",
    "#shared['MATCHED_UTILITY'] = -0.194973 + shared['TRIP_LENGTH_MILES']*0.200174 + shared['SHARED_PROBABILITY'] * 0.002617"
   ]
  },
  {
   "cell_type": "code",
   "execution_count": 484,
   "metadata": {},
   "outputs": [
    {
     "name": "stderr",
     "output_type": "stream",
     "text": [
      "C:\\Users\\ramu225\\Anaconda3\\lib\\site-packages\\ipykernel_launcher.py:1: SettingWithCopyWarning: \n",
      "A value is trying to be set on a copy of a slice from a DataFrame.\n",
      "Try using .loc[row_indexer,col_indexer] = value instead\n",
      "\n",
      "See the caveats in the documentation: https://pandas.pydata.org/pandas-docs/stable/user_guide/indexing.html#returning-a-view-versus-a-copy\n",
      "  \"\"\"Entry point for launching an IPython kernel.\n",
      "C:\\Users\\ramu225\\Anaconda3\\lib\\site-packages\\ipykernel_launcher.py:2: SettingWithCopyWarning: \n",
      "A value is trying to be set on a copy of a slice from a DataFrame.\n",
      "Try using .loc[row_indexer,col_indexer] = value instead\n",
      "\n",
      "See the caveats in the documentation: https://pandas.pydata.org/pandas-docs/stable/user_guide/indexing.html#returning-a-view-versus-a-copy\n",
      "  \n"
     ]
    }
   ],
   "source": [
    "#shared['UNMATCHED_UTILITY'] = 0\n",
    "#shared['MATCHED_UTILITY'] = -0.501578 + shared['TRIP_LENGTH_MILES']*0.205130 + shared['TOTAL_EMP_FLOW']*0.000501 + shared['HHLDS_ORIGIN_DEN_1k']*0.014361 + shared['HHLDS_DESTINATION_DEN_1k']* 0.016409"
   ]
  },
  {
   "cell_type": "code",
   "execution_count": 43,
   "metadata": {},
   "outputs": [
    {
     "name": "stderr",
     "output_type": "stream",
     "text": [
      "C:\\Users\\ramu225\\Anaconda3\\lib\\site-packages\\ipykernel_launcher.py:1: SettingWithCopyWarning: \n",
      "A value is trying to be set on a copy of a slice from a DataFrame.\n",
      "Try using .loc[row_indexer,col_indexer] = value instead\n",
      "\n",
      "See the caveats in the documentation: https://pandas.pydata.org/pandas-docs/stable/user_guide/indexing.html#returning-a-view-versus-a-copy\n",
      "  \"\"\"Entry point for launching an IPython kernel.\n",
      "C:\\Users\\ramu225\\Anaconda3\\lib\\site-packages\\ipykernel_launcher.py:2: SettingWithCopyWarning: \n",
      "A value is trying to be set on a copy of a slice from a DataFrame.\n",
      "Try using .loc[row_indexer,col_indexer] = value instead\n",
      "\n",
      "See the caveats in the documentation: https://pandas.pydata.org/pandas-docs/stable/user_guide/indexing.html#returning-a-view-versus-a-copy\n",
      "  \n"
     ]
    }
   ],
   "source": [
    "shared['UNMATCHED_UTILITY'] = 0\n",
    "shared['MATCHED_UTILITY'] = -0.673041 + shared['TRIP_LENGTH_MILES']* 0.212605 + shared['HHLDS_ORIGIN_DEN_1k']* 0.012540 + shared['HHLDS_DESTINATION_DEN_1k']* 0.016882 + shared['REQUESTS_PER_HOUR'] * 0.372965"
   ]
  },
  {
   "cell_type": "code",
   "execution_count": 44,
   "metadata": {},
   "outputs": [
    {
     "data": {
      "text/plain": [
       "0.9645039539410789"
      ]
     },
     "execution_count": 44,
     "metadata": {},
     "output_type": "execute_result"
    }
   ],
   "source": [
    "shared.MATCHED_UTILITY.mean()"
   ]
  },
  {
   "cell_type": "code",
   "execution_count": 45,
   "metadata": {},
   "outputs": [
    {
     "name": "stderr",
     "output_type": "stream",
     "text": [
      "C:\\Users\\ramu225\\Anaconda3\\lib\\site-packages\\ipykernel_launcher.py:1: SettingWithCopyWarning: \n",
      "A value is trying to be set on a copy of a slice from a DataFrame.\n",
      "Try using .loc[row_indexer,col_indexer] = value instead\n",
      "\n",
      "See the caveats in the documentation: https://pandas.pydata.org/pandas-docs/stable/user_guide/indexing.html#returning-a-view-versus-a-copy\n",
      "  \"\"\"Entry point for launching an IPython kernel.\n"
     ]
    },
    {
     "data": {
      "text/plain": [
       "0.3127370177798534"
      ]
     },
     "execution_count": 45,
     "metadata": {},
     "output_type": "execute_result"
    }
   ],
   "source": [
    "shared['UNMATCHED_PROBABILITY'] = np.exp(shared['UNMATCHED_UTILITY'])/(np.exp(shared['MATCHED_UTILITY']) + np.exp(shared['UNMATCHED_UTILITY']))\n",
    "shared['UNMATCHED_PROBABILITY'].mean()"
   ]
  },
  {
   "cell_type": "code",
   "execution_count": 46,
   "metadata": {},
   "outputs": [
    {
     "name": "stderr",
     "output_type": "stream",
     "text": [
      "C:\\Users\\ramu225\\Anaconda3\\lib\\site-packages\\ipykernel_launcher.py:1: SettingWithCopyWarning: \n",
      "A value is trying to be set on a copy of a slice from a DataFrame.\n",
      "Try using .loc[row_indexer,col_indexer] = value instead\n",
      "\n",
      "See the caveats in the documentation: https://pandas.pydata.org/pandas-docs/stable/user_guide/indexing.html#returning-a-view-versus-a-copy\n",
      "  \"\"\"Entry point for launching an IPython kernel.\n"
     ]
    },
    {
     "data": {
      "text/plain": [
       "0.6872629822201543"
      ]
     },
     "execution_count": 46,
     "metadata": {},
     "output_type": "execute_result"
    }
   ],
   "source": [
    "shared['MATCHED_PROBABILITY'] = np.exp(shared['MATCHED_UTILITY'])/(np.exp(shared['MATCHED_UTILITY']) + np.exp(shared['UNMATCHED_UTILITY']))\n",
    "shared['MATCHED_PROBABILITY'].mean()"
   ]
  },
  {
   "cell_type": "code",
   "execution_count": 47,
   "metadata": {},
   "outputs": [
    {
     "name": "stderr",
     "output_type": "stream",
     "text": [
      "C:\\Users\\ramu225\\Anaconda3\\lib\\site-packages\\ipykernel_launcher.py:1: SettingWithCopyWarning: \n",
      "A value is trying to be set on a copy of a slice from a DataFrame.\n",
      "Try using .loc[row_indexer,col_indexer] = value instead\n",
      "\n",
      "See the caveats in the documentation: https://pandas.pydata.org/pandas-docs/stable/user_guide/indexing.html#returning-a-view-versus-a-copy\n",
      "  \"\"\"Entry point for launching an IPython kernel.\n"
     ]
    }
   ],
   "source": [
    "shared['OBSERVED_UNMATCHED_TRIP'] = np.where(shared['MATCHED_FLAGGER'] == 0, 1, 0)"
   ]
  },
  {
   "cell_type": "code",
   "execution_count": 48,
   "metadata": {},
   "outputs": [
    {
     "name": "stderr",
     "output_type": "stream",
     "text": [
      "C:\\Users\\ramu225\\Anaconda3\\lib\\site-packages\\ipykernel_launcher.py:1: SettingWithCopyWarning: \n",
      "A value is trying to be set on a copy of a slice from a DataFrame.\n",
      "Try using .loc[row_indexer,col_indexer] = value instead\n",
      "\n",
      "See the caveats in the documentation: https://pandas.pydata.org/pandas-docs/stable/user_guide/indexing.html#returning-a-view-versus-a-copy\n",
      "  \"\"\"Entry point for launching an IPython kernel.\n"
     ]
    }
   ],
   "source": [
    "shared['OBSERVED_MATCHED_TRIP'] = np.where(shared['MATCHED_FLAGGER'] == 1, 1, 0)"
   ]
  },
  {
   "cell_type": "code",
   "execution_count": 49,
   "metadata": {},
   "outputs": [
    {
     "data": {
      "text/plain": [
       "0.6872638948741052"
      ]
     },
     "execution_count": 49,
     "metadata": {},
     "output_type": "execute_result"
    }
   ],
   "source": [
    "shared['OBSERVED_MATCHED_TRIP'].sum()/len(shared)"
   ]
  },
  {
   "cell_type": "code",
   "execution_count": 50,
   "metadata": {},
   "outputs": [
    {
     "data": {
      "text/plain": [
       "0.3127361051258947"
      ]
     },
     "execution_count": 50,
     "metadata": {},
     "output_type": "execute_result"
    }
   ],
   "source": [
    "shared['OBSERVED_UNMATCHED_TRIP'].sum()/len(shared)"
   ]
  },
  {
   "cell_type": "code",
   "execution_count": 51,
   "metadata": {},
   "outputs": [
    {
     "data": {
      "text/html": [
       "<div>\n",
       "<style scoped>\n",
       "    .dataframe tbody tr th:only-of-type {\n",
       "        vertical-align: middle;\n",
       "    }\n",
       "\n",
       "    .dataframe tbody tr th {\n",
       "        vertical-align: top;\n",
       "    }\n",
       "\n",
       "    .dataframe thead th {\n",
       "        text-align: right;\n",
       "    }\n",
       "</style>\n",
       "<table border=\"1\" class=\"dataframe\">\n",
       "  <thead>\n",
       "    <tr style=\"text-align: right;\">\n",
       "      <th></th>\n",
       "      <th>MATCHED_PROBABILITY</th>\n",
       "    </tr>\n",
       "    <tr>\n",
       "      <th>HOUR</th>\n",
       "      <th></th>\n",
       "    </tr>\n",
       "  </thead>\n",
       "  <tbody>\n",
       "    <tr>\n",
       "      <th>1</th>\n",
       "      <td>0.673161</td>\n",
       "    </tr>\n",
       "    <tr>\n",
       "      <th>2</th>\n",
       "      <td>0.664387</td>\n",
       "    </tr>\n",
       "    <tr>\n",
       "      <th>3</th>\n",
       "      <td>0.691747</td>\n",
       "    </tr>\n",
       "    <tr>\n",
       "      <th>4</th>\n",
       "      <td>0.717779</td>\n",
       "    </tr>\n",
       "    <tr>\n",
       "      <th>5</th>\n",
       "      <td>0.727474</td>\n",
       "    </tr>\n",
       "    <tr>\n",
       "      <th>6</th>\n",
       "      <td>0.730286</td>\n",
       "    </tr>\n",
       "    <tr>\n",
       "      <th>7</th>\n",
       "      <td>0.710323</td>\n",
       "    </tr>\n",
       "    <tr>\n",
       "      <th>8</th>\n",
       "      <td>0.697949</td>\n",
       "    </tr>\n",
       "    <tr>\n",
       "      <th>9</th>\n",
       "      <td>0.675336</td>\n",
       "    </tr>\n",
       "    <tr>\n",
       "      <th>10</th>\n",
       "      <td>0.676499</td>\n",
       "    </tr>\n",
       "    <tr>\n",
       "      <th>11</th>\n",
       "      <td>0.681262</td>\n",
       "    </tr>\n",
       "    <tr>\n",
       "      <th>12</th>\n",
       "      <td>0.674036</td>\n",
       "    </tr>\n",
       "    <tr>\n",
       "      <th>13</th>\n",
       "      <td>0.674150</td>\n",
       "    </tr>\n",
       "    <tr>\n",
       "      <th>14</th>\n",
       "      <td>0.674095</td>\n",
       "    </tr>\n",
       "    <tr>\n",
       "      <th>15</th>\n",
       "      <td>0.674195</td>\n",
       "    </tr>\n",
       "    <tr>\n",
       "      <th>16</th>\n",
       "      <td>0.691113</td>\n",
       "    </tr>\n",
       "    <tr>\n",
       "      <th>17</th>\n",
       "      <td>0.689602</td>\n",
       "    </tr>\n",
       "    <tr>\n",
       "      <th>18</th>\n",
       "      <td>0.688033</td>\n",
       "    </tr>\n",
       "    <tr>\n",
       "      <th>19</th>\n",
       "      <td>0.683101</td>\n",
       "    </tr>\n",
       "    <tr>\n",
       "      <th>20</th>\n",
       "      <td>0.687532</td>\n",
       "    </tr>\n",
       "    <tr>\n",
       "      <th>21</th>\n",
       "      <td>0.696444</td>\n",
       "    </tr>\n",
       "    <tr>\n",
       "      <th>22</th>\n",
       "      <td>0.677725</td>\n",
       "    </tr>\n",
       "    <tr>\n",
       "      <th>23</th>\n",
       "      <td>0.685545</td>\n",
       "    </tr>\n",
       "  </tbody>\n",
       "</table>\n",
       "</div>"
      ],
      "text/plain": [
       "      MATCHED_PROBABILITY\n",
       "HOUR                     \n",
       "1                0.673161\n",
       "2                0.664387\n",
       "3                0.691747\n",
       "4                0.717779\n",
       "5                0.727474\n",
       "6                0.730286\n",
       "7                0.710323\n",
       "8                0.697949\n",
       "9                0.675336\n",
       "10               0.676499\n",
       "11               0.681262\n",
       "12               0.674036\n",
       "13               0.674150\n",
       "14               0.674095\n",
       "15               0.674195\n",
       "16               0.691113\n",
       "17               0.689602\n",
       "18               0.688033\n",
       "19               0.683101\n",
       "20               0.687532\n",
       "21               0.696444\n",
       "22               0.677725\n",
       "23               0.685545"
      ]
     },
     "execution_count": 51,
     "metadata": {},
     "output_type": "execute_result"
    }
   ],
   "source": [
    "shared[['MATCHED_PROBABILITY', 'HOUR']].groupby(by = 'HOUR').mean()"
   ]
  },
  {
   "cell_type": "code",
   "execution_count": null,
   "metadata": {},
   "outputs": [],
   "source": []
  },
  {
   "cell_type": "code",
   "execution_count": 52,
   "metadata": {},
   "outputs": [
    {
     "data": {
      "text/plain": [
       "122801"
      ]
     },
     "execution_count": 52,
     "metadata": {},
     "output_type": "execute_result"
    }
   ],
   "source": [
    "shared['OBSERVED_MATCHED_TRIP'].sum()"
   ]
  },
  {
   "cell_type": "code",
   "execution_count": 53,
   "metadata": {},
   "outputs": [
    {
     "data": {
      "text/plain": [
       "122800.83692607842"
      ]
     },
     "execution_count": 53,
     "metadata": {},
     "output_type": "execute_result"
    }
   ],
   "source": [
    "shared['MATCHED_PROBABILITY'].sum()"
   ]
  },
  {
   "cell_type": "code",
   "execution_count": 54,
   "metadata": {},
   "outputs": [],
   "source": [
    "df2 = shared[['ORIGIN','OBSERVED_MATCHED_TRIP', 'OBSERVED_UNMATCHED_TRIP','UNMATCHED_PROBABILITY','MATCHED_PROBABILITY',]].groupby(by = 'ORIGIN', as_index = False).sum()"
   ]
  },
  {
   "cell_type": "code",
   "execution_count": 55,
   "metadata": {},
   "outputs": [],
   "source": [
    "df2['OBSERVED_UNMATCHED_SHR'] = df2['OBSERVED_UNMATCHED_TRIP']/(df2['OBSERVED_UNMATCHED_TRIP'] + df2['OBSERVED_MATCHED_TRIP'])\n",
    "\n",
    "df2['PREDICTED_UNMATCHED_SHR'] = df2['UNMATCHED_PROBABILITY']/(df2['UNMATCHED_PROBABILITY'] + df2['MATCHED_PROBABILITY'])"
   ]
  },
  {
   "cell_type": "code",
   "execution_count": 56,
   "metadata": {},
   "outputs": [],
   "source": [
    "df2['OBSERVED_MATCHED_SHR'] = df2['OBSERVED_MATCHED_TRIP']/(df2['OBSERVED_MATCHED_TRIP'] + df2['OBSERVED_UNMATCHED_TRIP'])\n",
    "\n",
    "df2['PREDICTED_MATCHED_SHR'] = df2['MATCHED_PROBABILITY']/(df2['MATCHED_PROBABILITY'] + df2['UNMATCHED_PROBABILITY'])"
   ]
  },
  {
   "cell_type": "code",
   "execution_count": 57,
   "metadata": {},
   "outputs": [],
   "source": [
    "df2['UNMATCHED_TRIPS_DIFF'] = df2['UNMATCHED_PROBABILITY'] - df2['OBSERVED_UNMATCHED_TRIP']"
   ]
  },
  {
   "cell_type": "code",
   "execution_count": 58,
   "metadata": {},
   "outputs": [],
   "source": [
    "df2['MATCHED_TRIPS_DIFF'] = df2['MATCHED_PROBABILITY'] - df2['OBSERVED_MATCHED_TRIP']"
   ]
  },
  {
   "cell_type": "code",
   "execution_count": 59,
   "metadata": {},
   "outputs": [],
   "source": [
    "df2['MATCHED_SHR_DIFF'] = df2['PREDICTED_MATCHED_SHR'] - df2['OBSERVED_MATCHED_SHR']"
   ]
  },
  {
   "cell_type": "code",
   "execution_count": 60,
   "metadata": {},
   "outputs": [
    {
     "data": {
      "text/plain": [
       "0.007472688438624262"
      ]
     },
     "execution_count": 60,
     "metadata": {},
     "output_type": "execute_result"
    }
   ],
   "source": [
    "df2['MATCHED_SHR_DIFF'].mean()"
   ]
  },
  {
   "cell_type": "code",
   "execution_count": 61,
   "metadata": {},
   "outputs": [
    {
     "data": {
      "text/plain": [
       "<matplotlib.axes._subplots.AxesSubplot at 0x29dad3da108>"
      ]
     },
     "execution_count": 61,
     "metadata": {},
     "output_type": "execute_result"
    },
    {
     "data": {
      "image/png": "[encoded data removed]",
      "text/plain": [
       "<Figure size 432x288 with 1 Axes>"
      ]
     },
     "metadata": {
      "needs_background": "light"
     },
     "output_type": "display_data"
    }
   ],
   "source": [
    "df2['MATCHED_SHR_DIFF'].plot()"
   ]
  },
  {
   "cell_type": "code",
   "execution_count": 62,
   "metadata": {},
   "outputs": [
    {
     "data": {
      "text/plain": [
       "<matplotlib.axes._subplots.AxesSubplot at 0x29dad4c2148>"
      ]
     },
     "execution_count": 62,
     "metadata": {},
     "output_type": "execute_result"
    },
    {
     "data": {
      "image/png": "[encoded data removed]",
      "text/plain": [
       "<Figure size 432x288 with 1 Axes>"
      ]
     },
     "metadata": {
      "needs_background": "light"
     },
     "output_type": "display_data"
    }
   ],
   "source": [
    "df2['UNMATCHED_TRIPS_DIFF'].plot()"
   ]
  },
  {
   "cell_type": "code",
   "execution_count": 63,
   "metadata": {},
   "outputs": [
    {
     "data": {
      "text/html": [
       "<div>\n",
       "<style scoped>\n",
       "    .dataframe tbody tr th:only-of-type {\n",
       "        vertical-align: middle;\n",
       "    }\n",
       "\n",
       "    .dataframe tbody tr th {\n",
       "        vertical-align: top;\n",
       "    }\n",
       "\n",
       "    .dataframe thead th {\n",
       "        text-align: right;\n",
       "    }\n",
       "</style>\n",
       "<table border=\"1\" class=\"dataframe\">\n",
       "  <thead>\n",
       "    <tr style=\"text-align: right;\">\n",
       "      <th></th>\n",
       "      <th>ORIGIN</th>\n",
       "      <th>OBSERVED_MATCHED_TRIP</th>\n",
       "      <th>OBSERVED_UNMATCHED_TRIP</th>\n",
       "      <th>UNMATCHED_PROBABILITY</th>\n",
       "      <th>MATCHED_PROBABILITY</th>\n",
       "      <th>OBSERVED_UNMATCHED_SHR</th>\n",
       "      <th>PREDICTED_UNMATCHED_SHR</th>\n",
       "      <th>OBSERVED_MATCHED_SHR</th>\n",
       "      <th>PREDICTED_MATCHED_SHR</th>\n",
       "      <th>UNMATCHED_TRIPS_DIFF</th>\n",
       "      <th>MATCHED_TRIPS_DIFF</th>\n",
       "      <th>MATCHED_SHR_DIFF</th>\n",
       "    </tr>\n",
       "  </thead>\n",
       "  <tbody>\n",
       "  </tbody>\n",
       "</table>\n",
       "</div>"
      ],
      "text/plain": [
       "Empty DataFrame\n",
       "Columns: [ORIGIN, OBSERVED_MATCHED_TRIP, OBSERVED_UNMATCHED_TRIP, UNMATCHED_PROBABILITY, MATCHED_PROBABILITY, OBSERVED_UNMATCHED_SHR, PREDICTED_UNMATCHED_SHR, OBSERVED_MATCHED_SHR, PREDICTED_MATCHED_SHR, UNMATCHED_TRIPS_DIFF, MATCHED_TRIPS_DIFF, MATCHED_SHR_DIFF]\n",
       "Index: []"
      ]
     },
     "execution_count": 63,
     "metadata": {},
     "output_type": "execute_result"
    }
   ],
   "source": [
    "df2[df2['UNMATCHED_TRIPS_DIFF'] < -1000]"
   ]
  },
  {
   "cell_type": "code",
   "execution_count": 107,
   "metadata": {},
   "outputs": [],
   "source": [
    "import geopandas as gp\n",
    "\n",
    "geo = gp.read_file('C:/Workspace/TNC-Demand-Model/Inputs/Census Shapefiles/Illinois/Chicago Tracts/geo_export_558aad9f-98d8-4dd5-a6b1-c1730155d596.shp')\n"
   ]
  },
  {
   "cell_type": "code",
   "execution_count": 108,
   "metadata": {},
   "outputs": [],
   "source": [
    "geo['geoid10'] = geo.geoid10.astype(float)"
   ]
  },
  {
   "cell_type": "code",
   "execution_count": 109,
   "metadata": {},
   "outputs": [],
   "source": [
    "centroids = pd.read_csv('C:/Workspace/TNC-Demand-Model/otp/points.csv')\n",
    "centroids = gp.GeoDataFrame(centroids)\n",
    "centroids['GEOID']  = centroids['GEOID'].astype(float)"
   ]
  },
  {
   "cell_type": "code",
   "execution_count": 110,
   "metadata": {},
   "outputs": [],
   "source": [
    "import folium"
   ]
  },
  {
   "cell_type": "code",
   "execution_count": 111,
   "metadata": {},
   "outputs": [
    {
     "name": "stderr",
     "output_type": "stream",
     "text": [
      "C:\\Users\\ramu225\\Anaconda3\\lib\\site-packages\\folium\\folium.py:415: FutureWarning: The choropleth  method has been deprecated. Instead use the new Choropleth class, which has the same arguments. See the example notebook 'GeoJSON_and_choropleth' for how to do this.\n",
      "  FutureWarning\n"
     ]
    },
    {
     "ename": "KeyError",
     "evalue": "'OBSERVED_MATCHED_SHR'",
     "output_type": "error",
     "traceback": [
      "\u001b[1;31m---------------------------------------------------------------------------\u001b[0m",
      "\u001b[1;31mKeyError\u001b[0m                                  Traceback (most recent call last)",
      "\u001b[1;32m~\\Anaconda3\\lib\\site-packages\\pandas\\core\\indexes\\base.py\u001b[0m in \u001b[0;36mget_loc\u001b[1;34m(self, key, method, tolerance)\u001b[0m\n\u001b[0;32m   2890\u001b[0m             \u001b[1;32mtry\u001b[0m\u001b[1;33m:\u001b[0m\u001b[1;33m\u001b[0m\u001b[1;33m\u001b[0m\u001b[0m\n\u001b[1;32m-> 2891\u001b[1;33m                 \u001b[1;32mreturn\u001b[0m \u001b[0mself\u001b[0m\u001b[1;33m.\u001b[0m\u001b[0m_engine\u001b[0m\u001b[1;33m.\u001b[0m\u001b[0mget_loc\u001b[0m\u001b[1;33m(\u001b[0m\u001b[0mcasted_key\u001b[0m\u001b[1;33m)\u001b[0m\u001b[1;33m\u001b[0m\u001b[1;33m\u001b[0m\u001b[0m\n\u001b[0m\u001b[0;32m   2892\u001b[0m             \u001b[1;32mexcept\u001b[0m \u001b[0mKeyError\u001b[0m \u001b[1;32mas\u001b[0m \u001b[0merr\u001b[0m\u001b[1;33m:\u001b[0m\u001b[1;33m\u001b[0m\u001b[1;33m\u001b[0m\u001b[0m\n",
      "\u001b[1;32mpandas\\_libs\\index.pyx\u001b[0m in \u001b[0;36mpandas._libs.index.IndexEngine.get_loc\u001b[1;34m()\u001b[0m\n",
      "\u001b[1;32mpandas\\_libs\\index.pyx\u001b[0m in \u001b[0;36mpandas._libs.index.IndexEngine.get_loc\u001b[1;34m()\u001b[0m\n",
      "\u001b[1;32mpandas\\_libs\\hashtable_class_helper.pxi\u001b[0m in \u001b[0;36mpandas._libs.hashtable.PyObjectHashTable.get_item\u001b[1;34m()\u001b[0m\n",
      "\u001b[1;32mpandas\\_libs\\hashtable_class_helper.pxi\u001b[0m in \u001b[0;36mpandas._libs.hashtable.PyObjectHashTable.get_item\u001b[1;34m()\u001b[0m\n",
      "\u001b[1;31mKeyError\u001b[0m: 'OBSERVED_MATCHED_SHR'",
      "\nThe above exception was the direct cause of the following exception:\n",
      "\u001b[1;31mKeyError\u001b[0m                                  Traceback (most recent call last)",
      "\u001b[1;32m<ipython-input-111-af629e1cbb4b>\u001b[0m in \u001b[0;36m<module>\u001b[1;34m\u001b[0m\n\u001b[0;32m     23\u001b[0m  \u001b[0mbins\u001b[0m \u001b[1;33m=\u001b[0m \u001b[0mbins\u001b[0m\u001b[1;33m,\u001b[0m\u001b[1;33m\u001b[0m\u001b[1;33m\u001b[0m\u001b[0m\n\u001b[0;32m     24\u001b[0m  \u001b[0mlegend_name\u001b[0m\u001b[1;33m=\u001b[0m\u001b[1;34m'Obs Matched Share of Trips'\u001b[0m\u001b[1;33m,\u001b[0m\u001b[1;33m\u001b[0m\u001b[1;33m\u001b[0m\u001b[0m\n\u001b[1;32m---> 25\u001b[1;33m  \u001b[0mhighlight\u001b[0m \u001b[1;33m=\u001b[0m \u001b[1;32mTrue\u001b[0m\u001b[1;33m\u001b[0m\u001b[1;33m\u001b[0m\u001b[0m\n\u001b[0m\u001b[0;32m     26\u001b[0m )\n\u001b[0;32m     27\u001b[0m \u001b[1;33m\u001b[0m\u001b[0m\n",
      "\u001b[1;32m~\\Anaconda3\\lib\\site-packages\\folium\\folium.py\u001b[0m in \u001b[0;36mchoropleth\u001b[1;34m(self, *args, **kwargs)\u001b[0m\n\u001b[0;32m    416\u001b[0m         )\n\u001b[0;32m    417\u001b[0m         \u001b[1;32mfrom\u001b[0m \u001b[0mfolium\u001b[0m\u001b[1;33m.\u001b[0m\u001b[0mfeatures\u001b[0m \u001b[1;32mimport\u001b[0m \u001b[0mChoropleth\u001b[0m\u001b[1;33m\u001b[0m\u001b[1;33m\u001b[0m\u001b[0m\n\u001b[1;32m--> 418\u001b[1;33m         \u001b[0mself\u001b[0m\u001b[1;33m.\u001b[0m\u001b[0madd_child\u001b[0m\u001b[1;33m(\u001b[0m\u001b[0mChoropleth\u001b[0m\u001b[1;33m(\u001b[0m\u001b[1;33m*\u001b[0m\u001b[0margs\u001b[0m\u001b[1;33m,\u001b[0m \u001b[1;33m**\u001b[0m\u001b[0mkwargs\u001b[0m\u001b[1;33m)\u001b[0m\u001b[1;33m)\u001b[0m\u001b[1;33m\u001b[0m\u001b[1;33m\u001b[0m\u001b[0m\n\u001b[0m\u001b[0;32m    419\u001b[0m \u001b[1;33m\u001b[0m\u001b[0m\n\u001b[0;32m    420\u001b[0m     \u001b[1;32mdef\u001b[0m \u001b[0mkeep_in_front\u001b[0m\u001b[1;33m(\u001b[0m\u001b[0mself\u001b[0m\u001b[1;33m,\u001b[0m \u001b[1;33m*\u001b[0m\u001b[0margs\u001b[0m\u001b[1;33m)\u001b[0m\u001b[1;33m:\u001b[0m\u001b[1;33m\u001b[0m\u001b[1;33m\u001b[0m\u001b[0m\n",
      "\u001b[1;32m~\\Anaconda3\\lib\\site-packages\\folium\\features.py\u001b[0m in \u001b[0;36m__init__\u001b[1;34m(self, geo_data, data, columns, key_on, bins, fill_color, nan_fill_color, fill_opacity, nan_fill_opacity, line_color, line_weight, line_opacity, name, legend_name, overlay, control, show, topojson, smooth_factor, highlight, **kwargs)\u001b[0m\n\u001b[0;32m   1156\u001b[0m         \u001b[1;32mif\u001b[0m \u001b[0mhasattr\u001b[0m\u001b[1;33m(\u001b[0m\u001b[0mdata\u001b[0m\u001b[1;33m,\u001b[0m \u001b[1;34m'set_index'\u001b[0m\u001b[1;33m)\u001b[0m\u001b[1;33m:\u001b[0m\u001b[1;33m\u001b[0m\u001b[1;33m\u001b[0m\u001b[0m\n\u001b[0;32m   1157\u001b[0m             \u001b[1;31m# This is a pd.DataFrame\u001b[0m\u001b[1;33m\u001b[0m\u001b[1;33m\u001b[0m\u001b[1;33m\u001b[0m\u001b[0m\n\u001b[1;32m-> 1158\u001b[1;33m             \u001b[0mcolor_data\u001b[0m \u001b[1;33m=\u001b[0m \u001b[0mdata\u001b[0m\u001b[1;33m.\u001b[0m\u001b[0mset_index\u001b[0m\u001b[1;33m(\u001b[0m\u001b[0mcolumns\u001b[0m\u001b[1;33m[\u001b[0m\u001b[1;36m0\u001b[0m\u001b[1;33m]\u001b[0m\u001b[1;33m)\u001b[0m\u001b[1;33m[\u001b[0m\u001b[0mcolumns\u001b[0m\u001b[1;33m[\u001b[0m\u001b[1;36m1\u001b[0m\u001b[1;33m]\u001b[0m\u001b[1;33m]\u001b[0m\u001b[1;33m.\u001b[0m\u001b[0mto_dict\u001b[0m\u001b[1;33m(\u001b[0m\u001b[1;33m)\u001b[0m\u001b[1;33m\u001b[0m\u001b[1;33m\u001b[0m\u001b[0m\n\u001b[0m\u001b[0;32m   1159\u001b[0m         \u001b[1;32melif\u001b[0m \u001b[0mhasattr\u001b[0m\u001b[1;33m(\u001b[0m\u001b[0mdata\u001b[0m\u001b[1;33m,\u001b[0m \u001b[1;34m'to_dict'\u001b[0m\u001b[1;33m)\u001b[0m\u001b[1;33m:\u001b[0m\u001b[1;33m\u001b[0m\u001b[1;33m\u001b[0m\u001b[0m\n\u001b[0;32m   1160\u001b[0m             \u001b[1;31m# This is a pd.Series\u001b[0m\u001b[1;33m\u001b[0m\u001b[1;33m\u001b[0m\u001b[1;33m\u001b[0m\u001b[0m\n",
      "\u001b[1;32m~\\Anaconda3\\lib\\site-packages\\pandas\\core\\frame.py\u001b[0m in \u001b[0;36m__getitem__\u001b[1;34m(self, key)\u001b[0m\n\u001b[0;32m   2900\u001b[0m             \u001b[1;32mif\u001b[0m \u001b[0mself\u001b[0m\u001b[1;33m.\u001b[0m\u001b[0mcolumns\u001b[0m\u001b[1;33m.\u001b[0m\u001b[0mnlevels\u001b[0m \u001b[1;33m>\u001b[0m \u001b[1;36m1\u001b[0m\u001b[1;33m:\u001b[0m\u001b[1;33m\u001b[0m\u001b[1;33m\u001b[0m\u001b[0m\n\u001b[0;32m   2901\u001b[0m                 \u001b[1;32mreturn\u001b[0m \u001b[0mself\u001b[0m\u001b[1;33m.\u001b[0m\u001b[0m_getitem_multilevel\u001b[0m\u001b[1;33m(\u001b[0m\u001b[0mkey\u001b[0m\u001b[1;33m)\u001b[0m\u001b[1;33m\u001b[0m\u001b[1;33m\u001b[0m\u001b[0m\n\u001b[1;32m-> 2902\u001b[1;33m             \u001b[0mindexer\u001b[0m \u001b[1;33m=\u001b[0m \u001b[0mself\u001b[0m\u001b[1;33m.\u001b[0m\u001b[0mcolumns\u001b[0m\u001b[1;33m.\u001b[0m\u001b[0mget_loc\u001b[0m\u001b[1;33m(\u001b[0m\u001b[0mkey\u001b[0m\u001b[1;33m)\u001b[0m\u001b[1;33m\u001b[0m\u001b[1;33m\u001b[0m\u001b[0m\n\u001b[0m\u001b[0;32m   2903\u001b[0m             \u001b[1;32mif\u001b[0m \u001b[0mis_integer\u001b[0m\u001b[1;33m(\u001b[0m\u001b[0mindexer\u001b[0m\u001b[1;33m)\u001b[0m\u001b[1;33m:\u001b[0m\u001b[1;33m\u001b[0m\u001b[1;33m\u001b[0m\u001b[0m\n\u001b[0;32m   2904\u001b[0m                 \u001b[0mindexer\u001b[0m \u001b[1;33m=\u001b[0m \u001b[1;33m[\u001b[0m\u001b[0mindexer\u001b[0m\u001b[1;33m]\u001b[0m\u001b[1;33m\u001b[0m\u001b[1;33m\u001b[0m\u001b[0m\n",
      "\u001b[1;32m~\\Anaconda3\\lib\\site-packages\\pandas\\core\\indexes\\base.py\u001b[0m in \u001b[0;36mget_loc\u001b[1;34m(self, key, method, tolerance)\u001b[0m\n\u001b[0;32m   2891\u001b[0m                 \u001b[1;32mreturn\u001b[0m \u001b[0mself\u001b[0m\u001b[1;33m.\u001b[0m\u001b[0m_engine\u001b[0m\u001b[1;33m.\u001b[0m\u001b[0mget_loc\u001b[0m\u001b[1;33m(\u001b[0m\u001b[0mcasted_key\u001b[0m\u001b[1;33m)\u001b[0m\u001b[1;33m\u001b[0m\u001b[1;33m\u001b[0m\u001b[0m\n\u001b[0;32m   2892\u001b[0m             \u001b[1;32mexcept\u001b[0m \u001b[0mKeyError\u001b[0m \u001b[1;32mas\u001b[0m \u001b[0merr\u001b[0m\u001b[1;33m:\u001b[0m\u001b[1;33m\u001b[0m\u001b[1;33m\u001b[0m\u001b[0m\n\u001b[1;32m-> 2893\u001b[1;33m                 \u001b[1;32mraise\u001b[0m \u001b[0mKeyError\u001b[0m\u001b[1;33m(\u001b[0m\u001b[0mkey\u001b[0m\u001b[1;33m)\u001b[0m \u001b[1;32mfrom\u001b[0m \u001b[0merr\u001b[0m\u001b[1;33m\u001b[0m\u001b[1;33m\u001b[0m\u001b[0m\n\u001b[0m\u001b[0;32m   2894\u001b[0m \u001b[1;33m\u001b[0m\u001b[0m\n\u001b[0;32m   2895\u001b[0m         \u001b[1;32mif\u001b[0m \u001b[0mtolerance\u001b[0m \u001b[1;32mis\u001b[0m \u001b[1;32mnot\u001b[0m \u001b[1;32mNone\u001b[0m\u001b[1;33m:\u001b[0m\u001b[1;33m\u001b[0m\u001b[1;33m\u001b[0m\u001b[0m\n",
      "\u001b[1;31mKeyError\u001b[0m: 'OBSERVED_MATCHED_SHR'"
     ]
    }
   ],
   "source": [
    "# Initialize the map: \n",
    "m = folium.Map([41.8781, -87.6298], zoom_start=11)\n",
    "\n",
    "\n",
    "m = folium.Map([41.8781, -87.6298], zoom_start=11)\n",
    "\n",
    "\n",
    "\n",
    "#rh_tod_tract = rh_tod_tract.groupby(by = ['Pickup Census Tract','Dropoff Census Tract'], as_index = False).sum()\n",
    "\n",
    "bins = [0, 0.3, 0.5, 0.7, 0.9, 1]\n",
    "\n",
    "# Add the color for the chloropleth:\n",
    "m.choropleth(\n",
    " geo_data=geo,\n",
    " name= 'Observed Matched Share of Trips',\n",
    " data=df2,\n",
    " columns = ['ORIGIN', 'OBSERVED_MATCHED_SHR'],\n",
    " key_on='feature.properties.geoid10',\n",
    " fill_color='RdPu',\n",
    " fill_opacity=0.6,\n",
    " line_opacity=0.2,\n",
    " bins = bins,\n",
    " legend_name='Obs Matched Share of Trips',\n",
    " highlight = True\n",
    ")\n",
    "\n",
    "#folium.LayerControl().add_to(m)\n",
    "\n",
    "feature_group = folium.FeatureGroup(name='Census Tract Centroids', show = False)\n",
    "\n",
    "for tract2 in centroids.GEOID:\n",
    "    row = centroids[centroids['GEOID'] == tract2]\n",
    "    folium.CircleMarker([row['Y'], row['X']], popup = str(int(row['GEOID'].values[0])), radius = 1, fill = True, fill_color = 'grey', color = 'grey').add_to(feature_group)\n",
    "\n",
    "m.add_child(feature_group)\n",
    "\n",
    "    \n",
    "folium.LayerControl().add_to(m)\n",
    "\n",
    "m.save('C:/Workspace/TNC-Demand-Model/Data Exploration/Private Shared Logit Model' + '/Observed_Matched_Share.html')\n",
    "\n"
   ]
  },
  {
   "cell_type": "code",
   "execution_count": 69,
   "metadata": {},
   "outputs": [
    {
     "name": "stderr",
     "output_type": "stream",
     "text": [
      "C:\\Users\\ramu225\\Anaconda3\\lib\\site-packages\\folium\\folium.py:415: FutureWarning: The choropleth  method has been deprecated. Instead use the new Choropleth class, which has the same arguments. See the example notebook 'GeoJSON_and_choropleth' for how to do this.\n",
      "  FutureWarning\n"
     ]
    }
   ],
   "source": [
    "# Initialize the map: \n",
    "m = folium.Map([41.8781, -87.6298], zoom_start=11)\n",
    "\n",
    "\n",
    "m = folium.Map([41.8781, -87.6298], zoom_start=11)\n",
    "\n",
    "\n",
    "\n",
    "#rh_tod_tract = rh_tod_tract.groupby(by = ['Pickup Census Tract','Dropoff Census Tract'], as_index = False).sum()\n",
    "\n",
    "bins = [0, 0.3, 0.5, 0.7, 0.9, 1]\n",
    "\n",
    "# Add the color for the chloropleth:\n",
    "m.choropleth(\n",
    " geo_data=geo,\n",
    " name= 'Predicted Matched Share of Trips',\n",
    " data=df2,\n",
    " columns = ['ORIGIN', 'PREDICTED_MATCHED_SHR'],\n",
    " key_on='feature.properties.geoid10',\n",
    " fill_color='RdPu',\n",
    " fill_opacity=0.6,\n",
    " line_opacity=0.2,\n",
    " bins = bins,\n",
    " legend_name='Pred Matched Share of Trips',\n",
    " highlight = True\n",
    ")\n",
    "\n",
    "folium.LayerControl().add_to(m)\n",
    "\n",
    "m.save('C:/Workspace/TNC-Demand-Model/Data Exploration/Private Shared Logit Model' + '/Predicted_Matched_Share.html')\n",
    "\n"
   ]
  },
  {
   "cell_type": "code",
   "execution_count": 70,
   "metadata": {},
   "outputs": [
    {
     "data": {
      "text/plain": [
       "-0.3981190161523013"
      ]
     },
     "execution_count": 70,
     "metadata": {},
     "output_type": "execute_result"
    }
   ],
   "source": [
    "df2['MATCHED_SHR_DIFF'].min()"
   ]
  },
  {
   "cell_type": "code",
   "execution_count": 71,
   "metadata": {},
   "outputs": [],
   "source": [
    "# Initialize the map: \n",
    "m = folium.Map([41.8781, -87.6298], zoom_start=11)\n",
    "\n",
    "\n",
    "m = folium.Map([41.8781, -87.6298], zoom_start=11)\n",
    "\n",
    "\n",
    "\n",
    "#rh_tod_tract = rh_tod_tract.groupby(by = ['Pickup Census Tract','Dropoff Census Tract'], as_index = False).sum()\n",
    "\n",
    "bins = [-0.5, -0.1, 0, 0.1, 0.5, 1]\n",
    "\n",
    "# Add the color for the chloropleth:\n",
    "m.choropleth(\n",
    " geo_data=geo,\n",
    " name= 'Difference Matched Share of Trips',\n",
    " data=df2,\n",
    " columns = ['ORIGIN', 'MATCHED_SHR_DIFF'],\n",
    " key_on='feature.properties.geoid10',\n",
    " fill_color='RdYlGn',\n",
    " fill_opacity=0.6,\n",
    " line_opacity=0.2,\n",
    " bins = bins,\n",
    " legend_name='Diff Matched Share of Trips',\n",
    " highlight = True\n",
    ")\n",
    "\n",
    "folium.LayerControl().add_to(m)\n",
    "\n",
    "m.save('C:/Workspace/TNC-Demand-Model/Data Exploration/Private Shared Logit Model' + '/Difference_Matched_Share.html')\n",
    "\n"
   ]
  },
  {
   "cell_type": "code",
   "execution_count": 75,
   "metadata": {},
   "outputs": [
    {
     "name": "stderr",
     "output_type": "stream",
     "text": [
      "C:\\Users\\ramu225\\Anaconda3\\lib\\site-packages\\folium\\folium.py:415: FutureWarning: The choropleth  method has been deprecated. Instead use the new Choropleth class, which has the same arguments. See the example notebook 'GeoJSON_and_choropleth' for how to do this.\n",
      "  FutureWarning\n"
     ]
    }
   ],
   "source": [
    "# Initialize the map: \n",
    "m = folium.Map([41.8781, -87.6298], zoom_start=11)\n",
    "\n",
    "\n",
    "m = folium.Map([41.8781, -87.6298], zoom_start=11)\n",
    "\n",
    "\n",
    "\n",
    "#rh_tod_tract = rh_tod_tract.groupby(by = ['Pickup Census Tract','Dropoff Census Tract'], as_index = False).sum()\n",
    "\n",
    "bins = [ -500, -100, 0, 100, 500]\n",
    "\n",
    "# Add the color for the chloropleth:\n",
    "m.choropleth(\n",
    " geo_data=geo,\n",
    " name= 'Matched Total Trips Difference',\n",
    " data=df2,\n",
    " columns = ['ORIGIN', 'MATCHED_TRIPS_DIFF'],\n",
    " key_on='feature.properties.geoid10',\n",
    " fill_color='RdPu',\n",
    " fill_opacity=0.6,\n",
    " line_opacity=0.2,\n",
    " bins = bins,\n",
    " legend_name='Matched Number of Trips Difference',\n",
    " highlight = True\n",
    ")\n",
    "\n",
    "#folium.LayerControl().add_to(m)\n",
    "\n",
    "feature_group = folium.FeatureGroup(name='Census Tract Centroids', show = False)\n",
    "\n",
    "for tract2 in centroids.GEOID:\n",
    "    row = centroids[centroids['GEOID'] == tract2]\n",
    "    folium.CircleMarker([row['Y'], row['X']], popup = str(int(row['GEOID'].values[0])), radius = 1, fill = True, fill_color = 'grey', color = 'grey').add_to(feature_group)\n",
    "\n",
    "m.add_child(feature_group)\n",
    "\n",
    "    \n",
    "folium.LayerControl().add_to(m)\n",
    "\n",
    "m.save('C:/Workspace/TNC-Demand-Model/Data Exploration/Private Shared Logit Model' + '/Matched_Trips_Difference.html')\n",
    "\n"
   ]
  },
  {
   "cell_type": "code",
   "execution_count": 73,
   "metadata": {},
   "outputs": [
    {
     "data": {
      "text/plain": [
       "-360.7144824168163"
      ]
     },
     "execution_count": 73,
     "metadata": {},
     "output_type": "execute_result"
    }
   ],
   "source": [
    "df2.MATCHED_TRIPS_DIFF.min()"
   ]
  },
  {
   "cell_type": "code",
   "execution_count": 74,
   "metadata": {},
   "outputs": [
    {
     "data": {
      "text/plain": [
       "266.8036029601403"
      ]
     },
     "execution_count": 74,
     "metadata": {},
     "output_type": "execute_result"
    }
   ],
   "source": [
    "df2.MATCHED_TRIPS_DIFF.max()"
   ]
  },
  {
   "cell_type": "code",
   "execution_count": 31,
   "metadata": {},
   "outputs": [
    {
     "ename": "NameError",
     "evalue": "name 'pandasResults' is not defined",
     "output_type": "error",
     "traceback": [
      "\u001b[1;31m---------------------------------------------------------------------------\u001b[0m",
      "\u001b[1;31mNameError\u001b[0m                                 Traceback (most recent call last)",
      "\u001b[1;32m<ipython-input-31-e664807790c7>\u001b[0m in \u001b[0;36m<module>\u001b[1;34m\u001b[0m\n\u001b[1;32m----> 1\u001b[1;33m \u001b[0mpandasResults\u001b[0m\u001b[1;33m\u001b[0m\u001b[1;33m\u001b[0m\u001b[0m\n\u001b[0m",
      "\u001b[1;31mNameError\u001b[0m: name 'pandasResults' is not defined"
     ]
    }
   ],
   "source": [
    "pandasResults"
   ]
  },
  {
   "cell_type": "code",
   "execution_count": 54,
   "metadata": {},
   "outputs": [
    {
     "data": {
      "text/plain": [
       "4.93364206819597"
      ]
     },
     "execution_count": 54,
     "metadata": {},
     "output_type": "execute_result"
    }
   ],
   "source": [
    "df2['TRIP_LENGTH_MILES'].mean()"
   ]
  },
  {
   "cell_type": "code",
   "execution_count": 53,
   "metadata": {},
   "outputs": [
    {
     "data": {
      "text/plain": [
       "12.678648567262812"
      ]
     },
     "execution_count": 53,
     "metadata": {},
     "output_type": "execute_result"
    }
   ],
   "source": [
    "df2['UNMATCHED_TRAVEL_TIME'].mean()"
   ]
  },
  {
   "cell_type": "code",
   "execution_count": 104,
   "metadata": {},
   "outputs": [],
   "source": [
    "df['TRIPS'] = 1"
   ]
  },
  {
   "cell_type": "code",
   "execution_count": 105,
   "metadata": {},
   "outputs": [],
   "source": [
    "df3 = df[['ORIGIN','TRIPS']].groupby(by = 'ORIGIN', as_index = False).sum()"
   ]
  },
  {
   "cell_type": "code",
   "execution_count": 117,
   "metadata": {},
   "outputs": [
    {
     "name": "stderr",
     "output_type": "stream",
     "text": [
      "C:\\Users\\ramu225\\Anaconda3\\lib\\site-packages\\folium\\folium.py:415: FutureWarning: The choropleth  method has been deprecated. Instead use the new Choropleth class, which has the same arguments. See the example notebook 'GeoJSON_and_choropleth' for how to do this.\n",
      "  FutureWarning\n"
     ]
    }
   ],
   "source": [
    "import folium\n",
    "#Make a total rh trips choropleth map\n",
    "\n",
    "# Initialize the map: \n",
    "m = folium.Map([41.8781, -87.6298], zoom_start=11)\n",
    "\n",
    "\n",
    "m = folium.Map([41.8781, -87.6298], zoom_start=11)\n",
    "\n",
    "\n",
    "\n",
    "#rh_tod_tract = rh_tod_tract.groupby(by = ['Pickup Census Tract','Dropoff Census Tract'], as_index = False).sum()\n",
    "\n",
    "bins = [ 0, 2500, 10000, 20000, 35000, 45000]\n",
    "\n",
    "# Add the color for the chloropleth:\n",
    "m.choropleth(\n",
    " geo_data=geo,\n",
    " name= 'Ride Hailing Pickups',\n",
    " data=df3,\n",
    " columns = ['ORIGIN', 'TRIPS'],\n",
    " key_on='feature.properties.geoid10',\n",
    " fill_color='RdPu',\n",
    " fill_opacity=0.6,\n",
    " line_opacity=0.2,\n",
    " bins = bins,\n",
    " legend_name='Ride Hailing Pickups',\n",
    " highlight = True\n",
    ")\n",
    "\n",
    "#folium.LayerControl().add_to(m)\n",
    "\n",
    "feature_group = folium.FeatureGroup(name='Census Tract Centroids', show = False)\n",
    "\n",
    "for tract2 in centroids.GEOID:\n",
    "    row = centroids[centroids['GEOID'] == tract2]\n",
    "    folium.CircleMarker([row['Y'], row['X']], popup = str(int(row['GEOID'].values[0])), radius = 1, fill = True, fill_color = 'grey', color = 'grey').add_to(feature_group)\n",
    "\n",
    "m.add_child(feature_group)\n",
    "\n",
    "    \n",
    "folium.LayerControl().add_to(m)\n",
    "\n",
    "m.save('C:/Workspace/TNC-Demand-Model/Data Exploration/Private Shared Logit Model' + '/Total_Pickups.html')\n",
    "\n"
   ]
  },
  {
   "cell_type": "code",
   "execution_count": 40,
   "metadata": {},
   "outputs": [
    {
     "data": {
      "text/plain": [
       "5.144980881883236"
      ]
     },
     "execution_count": 40,
     "metadata": {},
     "output_type": "execute_result"
    }
   ],
   "source": [
    "shared['TRIP_LENGTH_MILES_y'].mean()"
   ]
  },
  {
   "cell_type": "code",
   "execution_count": 41,
   "metadata": {},
   "outputs": [
    {
     "data": {
      "text/plain": [
       "0.472777369849754"
      ]
     },
     "execution_count": 41,
     "metadata": {},
     "output_type": "execute_result"
    }
   ],
   "source": [
    "shared['REQUESTS_PER_HOUR'].mean()"
   ]
  },
  {
   "cell_type": "code",
   "execution_count": 42,
   "metadata": {},
   "outputs": [
    {
     "data": {
      "text/plain": [
       "10.211534796814481"
      ]
     },
     "execution_count": 42,
     "metadata": {},
     "output_type": "execute_result"
    }
   ],
   "source": [
    "shared['HHLDS_DESTINATION_DEN_1k'].mean()"
   ]
  },
  {
   "cell_type": "code",
   "execution_count": 43,
   "metadata": {},
   "outputs": [
    {
     "data": {
      "text/plain": [
       "10.182561514377593"
      ]
     },
     "execution_count": 43,
     "metadata": {},
     "output_type": "execute_result"
    }
   ],
   "source": [
    "shared['HHLDS_ORIGIN_DEN_1k'].mean()"
   ]
  },
  {
   "cell_type": "code",
   "execution_count": null,
   "metadata": {},
   "outputs": [],
   "source": [
    "unmatched 0.31\n",
    "matched 0.69"
   ]
  }
 ],
 "metadata": {
  "kernelspec": {
   "display_name": "Python 3",
   "language": "python",
   "name": "python3"
  },
  "language_info": {
   "codemirror_mode": {
    "name": "ipython",
    "version": 3
   },
   "file_extension": ".py",
   "mimetype": "text/x-python",
   "name": "python",
   "nbconvert_exporter": "python",
   "pygments_lexer": "ipython3",
   "version": "3.7.6"
  }
 },
 "nbformat": 4,
 "nbformat_minor": 4
}
