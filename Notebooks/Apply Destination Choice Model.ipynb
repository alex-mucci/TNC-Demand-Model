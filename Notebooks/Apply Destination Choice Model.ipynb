{
 "cells": [
  {
   "cell_type": "code",
   "execution_count": 2,
   "metadata": {},
   "outputs": [],
   "source": [
    "import pandas as pd\n",
    "import numpy as np\n",
    "import seaborn as sns\n",
    "import matplotlib.pyplot as plt\n",
    "import geopandas as gp"
   ]
  },
  {
   "cell_type": "code",
   "execution_count": 2,
   "metadata": {},
   "outputs": [],
   "source": [
    "years = [2018,2019,2020]\n",
    "tods = [1,2,3,4,5]\n"
   ]
  },
  {
   "cell_type": "code",
   "execution_count": 3,
   "metadata": {},
   "outputs": [],
   "source": [
    "def assign_data(row, data):\n",
    "    row = row.append(data.loc[row['ORIGIN']])\n",
    "    return row"
   ]
  },
  {
   "cell_type": "code",
   "execution_count": 4,
   "metadata": {},
   "outputs": [],
   "source": [
    "#tracts = pd.read_csv('points.csv', index_col = 0)\n",
    "#tracts = tracts.drop(['X','Y'],axis = 1)\n",
    "#tracts['ALT'] = range(1,len(tracts)+1)"
   ]
  },
  {
   "cell_type": "code",
   "execution_count": 10,
   "metadata": {},
   "outputs": [
    {
     "name": "stderr",
     "output_type": "stream",
     "text": [
      "C:\\Users\\ramu225\\Anaconda3\\lib\\site-packages\\numpy\\lib\\arraysetops.py:580: FutureWarning: elementwise comparison failed; returning scalar instead, but in the future will perform elementwise comparison\n",
      "  mask |= (ar1 == a)\n"
     ]
    }
   ],
   "source": [
    "empty = pd.read_csv('C:/Workspace/TNC-Demand-Model/Inputs/Chicago Ride-Hailing/Empty_Chicago_Matrix.csv', index_col = 0 )\n",
    "\n",
    "#empty = empty.groupby(by = ['ORIGIN','MONTH','YEAR','TOD'], as_index = False).first()"
   ]
  },
  {
   "cell_type": "code",
   "execution_count": 11,
   "metadata": {},
   "outputs": [
    {
     "data": {
      "text/plain": [
       "51328080"
      ]
     },
     "execution_count": 11,
     "metadata": {},
     "output_type": "execute_result"
    }
   ],
   "source": [
    "len(empty)"
   ]
  },
  {
   "cell_type": "code",
   "execution_count": 12,
   "metadata": {},
   "outputs": [
    {
     "data": {
      "text/html": [
       "<div>\n",
       "<style scoped>\n",
       "    .dataframe tbody tr th:only-of-type {\n",
       "        vertical-align: middle;\n",
       "    }\n",
       "\n",
       "    .dataframe tbody tr th {\n",
       "        vertical-align: top;\n",
       "    }\n",
       "\n",
       "    .dataframe thead th {\n",
       "        text-align: right;\n",
       "    }\n",
       "</style>\n",
       "<table border=\"1\" class=\"dataframe\">\n",
       "  <thead>\n",
       "    <tr style=\"text-align: right;\">\n",
       "      <th></th>\n",
       "      <th>DESTINATION</th>\n",
       "      <th>ORIGIN</th>\n",
       "      <th>MONTH</th>\n",
       "      <th>YEAR</th>\n",
       "      <th>TOD</th>\n",
       "    </tr>\n",
       "  </thead>\n",
       "  <tbody>\n",
       "    <tr>\n",
       "      <th>0</th>\n",
       "      <td>17031842400</td>\n",
       "      <td>17031842400</td>\n",
       "      <td>11</td>\n",
       "      <td>2018</td>\n",
       "      <td>1</td>\n",
       "    </tr>\n",
       "    <tr>\n",
       "      <th>1</th>\n",
       "      <td>17031840300</td>\n",
       "      <td>17031842400</td>\n",
       "      <td>11</td>\n",
       "      <td>2018</td>\n",
       "      <td>1</td>\n",
       "    </tr>\n",
       "    <tr>\n",
       "      <th>2</th>\n",
       "      <td>17031841100</td>\n",
       "      <td>17031842400</td>\n",
       "      <td>11</td>\n",
       "      <td>2018</td>\n",
       "      <td>1</td>\n",
       "    </tr>\n",
       "    <tr>\n",
       "      <th>3</th>\n",
       "      <td>17031841200</td>\n",
       "      <td>17031842400</td>\n",
       "      <td>11</td>\n",
       "      <td>2018</td>\n",
       "      <td>1</td>\n",
       "    </tr>\n",
       "    <tr>\n",
       "      <th>4</th>\n",
       "      <td>17031839000</td>\n",
       "      <td>17031842400</td>\n",
       "      <td>11</td>\n",
       "      <td>2018</td>\n",
       "      <td>1</td>\n",
       "    </tr>\n",
       "  </tbody>\n",
       "</table>\n",
       "</div>"
      ],
      "text/plain": [
       "   DESTINATION       ORIGIN  MONTH  YEAR  TOD\n",
       "0  17031842400  17031842400     11  2018    1\n",
       "1  17031840300  17031842400     11  2018    1\n",
       "2  17031841100  17031842400     11  2018    1\n",
       "3  17031841200  17031842400     11  2018    1\n",
       "4  17031839000  17031842400     11  2018    1"
      ]
     },
     "execution_count": 12,
     "metadata": {},
     "output_type": "execute_result"
    }
   ],
   "source": [
    "empty.head()"
   ]
  },
  {
   "cell_type": "code",
   "execution_count": 14,
   "metadata": {
    "scrolled": true
   },
   "outputs": [
    {
     "name": "stdout",
     "output_type": "stream",
     "text": [
      "Working on Year 2018\n",
      "Working on Month 11\n",
      "Working on TOD 1\n",
      "Working on TOD 2\n",
      "Working on TOD 3\n",
      "Working on TOD 4\n",
      "Working on TOD 5\n",
      "Working on Month 12\n",
      "Working on TOD 1\n",
      "Working on TOD 2\n",
      "Working on TOD 3\n",
      "Working on TOD 4\n",
      "Working on TOD 5\n",
      "Working on Year 2019\n",
      "Working on Month 1\n",
      "Working on TOD 1\n",
      "Working on TOD 2\n",
      "Working on TOD 3\n",
      "Working on TOD 4\n",
      "Working on TOD 5\n",
      "Working on Month 2\n",
      "Working on TOD 1\n",
      "Working on TOD 2\n",
      "Working on TOD 3\n",
      "Working on TOD 4\n",
      "Working on TOD 5\n",
      "Working on Month 3\n",
      "Working on TOD 1\n",
      "Working on TOD 2\n",
      "Working on TOD 3\n",
      "Working on TOD 4\n",
      "Working on TOD 5\n",
      "Working on Month 4\n",
      "Working on TOD 1\n",
      "Working on TOD 2\n",
      "Working on TOD 3\n",
      "Working on TOD 4\n",
      "Working on TOD 5\n",
      "Working on Month 5\n",
      "Working on TOD 1\n",
      "Working on TOD 2\n",
      "Working on TOD 3\n",
      "Working on TOD 4\n",
      "Working on TOD 5\n",
      "Working on Month 6\n",
      "Working on TOD 1\n",
      "Working on TOD 2\n",
      "Working on TOD 3\n",
      "Working on TOD 4\n",
      "Working on TOD 5\n",
      "Working on Month 7\n",
      "Working on TOD 1\n",
      "Working on TOD 2\n",
      "Working on TOD 3\n",
      "Working on TOD 4\n",
      "Working on TOD 5\n",
      "Working on Month 8\n",
      "Working on TOD 1\n",
      "Working on TOD 2\n",
      "Working on TOD 3\n",
      "Working on TOD 4\n",
      "Working on TOD 5\n",
      "Working on Month 9\n",
      "Working on TOD 1\n",
      "Working on TOD 2\n",
      "Working on TOD 3\n",
      "Working on TOD 4\n",
      "Working on TOD 5\n",
      "Working on Month 10\n",
      "Working on TOD 1\n",
      "Working on TOD 2\n",
      "Working on TOD 3\n",
      "Working on TOD 4\n",
      "Working on TOD 5\n",
      "Working on Month 11\n",
      "Working on TOD 1\n",
      "Working on TOD 2\n",
      "Working on TOD 3\n",
      "Working on TOD 4\n",
      "Working on TOD 5\n",
      "Working on Month 12\n",
      "Working on TOD 1\n",
      "Working on TOD 2\n",
      "Working on TOD 3\n",
      "Working on TOD 4\n",
      "Working on TOD 5\n",
      "Working on Year 2020\n",
      "Working on Month 1\n",
      "Working on TOD 1\n",
      "Working on TOD 2\n",
      "Working on TOD 3\n",
      "Working on TOD 4\n",
      "Working on TOD 5\n",
      "Working on Month 2\n",
      "Working on TOD 1\n",
      "Working on TOD 2\n",
      "Working on TOD 3\n",
      "Working on TOD 4\n",
      "Working on TOD 5\n"
     ]
    }
   ],
   "source": [
    "years = [2018,2019,2020]\n",
    "tods = [1,2,3,4,5]\n",
    "df2 = pd.DataFrame()\n",
    "airport_list = [17031980000,17031980100]\n",
    "tourist_list = [17031081402,17031330100,17031841000]\n",
    "\n",
    "for year in years:\n",
    "    print('Working on Year '+ (str(year)))\n",
    "    if year == 2018:\n",
    "        months = [11,12]\n",
    "    elif year == 2019:\n",
    "        months = [1,2,3,4,5,6,7,8,9,10,11,12]\n",
    "    elif year == 2020:\n",
    "        months = [1,2]\n",
    "    else:\n",
    "        print('Bad Year')\n",
    "        \n",
    "    for month in months:\n",
    "        print('Working on Month '+ (str(month)))\n",
    "    \n",
    "        for tod in tods:\n",
    "            print('Working on TOD '+ (str(tod)))\n",
    "        \n",
    "            ls = pd.read_csv('C:/Workspace/TNC-Demand-Model/Outputs/Destination Choice Model Matricies/Log Sum/Log_Sum_'+ str(year) + '_' + str(month) + '_' + str(tod) + '.csv', index_col = 0)\n",
    "            dropoffs = pd.read_csv('C:/Workspace/TNC-Demand-Model/Outputs/Destination Choice Model Matricies/Estimated Dropoffs/' + str(year) + '_' + str(month) + '_' + str(tod) + '_Dropoffs.csv', index_col = 0)\n",
    "\n",
    "            df = empty.merge(dropoffs, on = ['YEAR','MONTH','TOD','ORIGIN','DESTINATION'])\n",
    "            df = df.merge(ls[['YEAR','MONTH','TOD','ORIGIN','DESTINATION','LOG_SUM']], on = ['YEAR','MONTH','TOD','ORIGIN','DESTINATION'])\n",
    "\n",
    "            df2 = df2.append(df)\n",
    "\n",
    "dist = pd.read_csv('C:/Workspace/TNC-Demand-Model/Outputs/Distance_Matrix.csv')\n",
    "df2 = df2.merge(dist, on = ['ORIGIN','DESTINATION'])            \n",
    "\n",
    "df2['INTERNAL_FLAGGER'] = np.where(df2['ORIGIN'] == df2['DESTINATION'],1,0)\n",
    "df2['AIRPORT_FLAGGER'] = np.where(df2['DESTINATION'].isin(airport_list),1,0)\n",
    "df2['TOURIST_FLAGGER'] = np.where(df2['DESTINATION'].isin(tourist_list),1,0)\n"
   ]
  },
  {
   "cell_type": "code",
   "execution_count": 15,
   "metadata": {},
   "outputs": [
    {
     "data": {
      "text/html": [
       "<div>\n",
       "<style scoped>\n",
       "    .dataframe tbody tr th:only-of-type {\n",
       "        vertical-align: middle;\n",
       "    }\n",
       "\n",
       "    .dataframe tbody tr th {\n",
       "        vertical-align: top;\n",
       "    }\n",
       "\n",
       "    .dataframe thead th {\n",
       "        text-align: right;\n",
       "    }\n",
       "</style>\n",
       "<table border=\"1\" class=\"dataframe\">\n",
       "  <thead>\n",
       "    <tr style=\"text-align: right;\">\n",
       "      <th></th>\n",
       "      <th>DESTINATION</th>\n",
       "      <th>ORIGIN</th>\n",
       "      <th>MONTH</th>\n",
       "      <th>YEAR</th>\n",
       "      <th>TOD</th>\n",
       "      <th>Unnamed: 0.1</th>\n",
       "      <th>DROPOFFS_AVG</th>\n",
       "      <th>PRED_DROPOFFS</th>\n",
       "      <th>LOG_SUM</th>\n",
       "      <th>DISTANCE</th>\n",
       "      <th>INTERNAL_FLAGGER</th>\n",
       "      <th>AIRPORT_FLAGGER</th>\n",
       "      <th>TOURIST_FLAGGER</th>\n",
       "    </tr>\n",
       "  </thead>\n",
       "  <tbody>\n",
       "    <tr>\n",
       "      <th>0</th>\n",
       "      <td>17031842400</td>\n",
       "      <td>17031842400</td>\n",
       "      <td>11</td>\n",
       "      <td>2018</td>\n",
       "      <td>1</td>\n",
       "      <td>784</td>\n",
       "      <td>0.045455</td>\n",
       "      <td>0.199378</td>\n",
       "      <td>-0.124957</td>\n",
       "      <td>0.0</td>\n",
       "      <td>1</td>\n",
       "      <td>0</td>\n",
       "      <td>0</td>\n",
       "    </tr>\n",
       "    <tr>\n",
       "      <th>1</th>\n",
       "      <td>17031842400</td>\n",
       "      <td>17031842400</td>\n",
       "      <td>11</td>\n",
       "      <td>2018</td>\n",
       "      <td>2</td>\n",
       "      <td>784</td>\n",
       "      <td>0.545455</td>\n",
       "      <td>0.653743</td>\n",
       "      <td>-0.145677</td>\n",
       "      <td>0.0</td>\n",
       "      <td>1</td>\n",
       "      <td>0</td>\n",
       "      <td>0</td>\n",
       "    </tr>\n",
       "    <tr>\n",
       "      <th>2</th>\n",
       "      <td>17031842400</td>\n",
       "      <td>17031842400</td>\n",
       "      <td>11</td>\n",
       "      <td>2018</td>\n",
       "      <td>3</td>\n",
       "      <td>2386</td>\n",
       "      <td>1.272727</td>\n",
       "      <td>1.942026</td>\n",
       "      <td>-0.141584</td>\n",
       "      <td>0.0</td>\n",
       "      <td>1</td>\n",
       "      <td>0</td>\n",
       "      <td>0</td>\n",
       "    </tr>\n",
       "    <tr>\n",
       "      <th>3</th>\n",
       "      <td>17031842400</td>\n",
       "      <td>17031842400</td>\n",
       "      <td>11</td>\n",
       "      <td>2018</td>\n",
       "      <td>4</td>\n",
       "      <td>3187</td>\n",
       "      <td>0.363636</td>\n",
       "      <td>0.600135</td>\n",
       "      <td>-0.151391</td>\n",
       "      <td>0.0</td>\n",
       "      <td>1</td>\n",
       "      <td>0</td>\n",
       "      <td>0</td>\n",
       "    </tr>\n",
       "    <tr>\n",
       "      <th>4</th>\n",
       "      <td>17031842400</td>\n",
       "      <td>17031842400</td>\n",
       "      <td>11</td>\n",
       "      <td>2018</td>\n",
       "      <td>5</td>\n",
       "      <td>3988</td>\n",
       "      <td>0.136364</td>\n",
       "      <td>0.551210</td>\n",
       "      <td>-0.129843</td>\n",
       "      <td>0.0</td>\n",
       "      <td>1</td>\n",
       "      <td>0</td>\n",
       "      <td>0</td>\n",
       "    </tr>\n",
       "  </tbody>\n",
       "</table>\n",
       "</div>"
      ],
      "text/plain": [
       "   DESTINATION       ORIGIN  MONTH  YEAR  TOD  Unnamed: 0.1  DROPOFFS_AVG  \\\n",
       "0  17031842400  17031842400     11  2018    1           784      0.045455   \n",
       "1  17031842400  17031842400     11  2018    2           784      0.545455   \n",
       "2  17031842400  17031842400     11  2018    3          2386      1.272727   \n",
       "3  17031842400  17031842400     11  2018    4          3187      0.363636   \n",
       "4  17031842400  17031842400     11  2018    5          3988      0.136364   \n",
       "\n",
       "   PRED_DROPOFFS   LOG_SUM  DISTANCE  INTERNAL_FLAGGER  AIRPORT_FLAGGER  \\\n",
       "0       0.199378 -0.124957       0.0                 1                0   \n",
       "1       0.653743 -0.145677       0.0                 1                0   \n",
       "2       1.942026 -0.141584       0.0                 1                0   \n",
       "3       0.600135 -0.151391       0.0                 1                0   \n",
       "4       0.551210 -0.129843       0.0                 1                0   \n",
       "\n",
       "   TOURIST_FLAGGER  \n",
       "0                0  \n",
       "1                0  \n",
       "2                0  \n",
       "3                0  \n",
       "4                0  "
      ]
     },
     "execution_count": 15,
     "metadata": {},
     "output_type": "execute_result"
    }
   ],
   "source": [
    "df2.head()"
   ]
  },
  {
   "cell_type": "code",
   "execution_count": 16,
   "metadata": {},
   "outputs": [
    {
     "data": {
      "text/plain": [
       "51328080"
      ]
     },
     "execution_count": 16,
     "metadata": {},
     "output_type": "execute_result"
    }
   ],
   "source": [
    "len(df2)"
   ]
  },
  {
   "cell_type": "code",
   "execution_count": 13,
   "metadata": {},
   "outputs": [],
   "source": [
    "df2['LOG_SUM_AIRPORTS'] = df2['LOG_SUM']*df2['AIRPORT_FLAGGER']"
   ]
  },
  {
   "cell_type": "code",
   "execution_count": 14,
   "metadata": {},
   "outputs": [],
   "source": [
    "df2['LOG_SUM_NO_AIRPORTS'] = df2['LOG_SUM']*(1-df2['AIRPORT_FLAGGER'])"
   ]
  },
  {
   "cell_type": "code",
   "execution_count": 15,
   "metadata": {},
   "outputs": [
    {
     "data": {
      "text/plain": [
       "-0.01872228740388578"
      ]
     },
     "execution_count": 15,
     "metadata": {},
     "output_type": "execute_result"
    }
   ],
   "source": [
    "df2['LOG_SUM_AIRPORTS'].mean()"
   ]
  },
  {
   "cell_type": "code",
   "execution_count": 17,
   "metadata": {},
   "outputs": [],
   "source": [
    "#df2.to_csv('Trip_Distribution_Estimation_File.csv')"
   ]
  },
  {
   "cell_type": "code",
   "execution_count": 4,
   "metadata": {},
   "outputs": [],
   "source": [
    "#df2 = pd.read_csv('C:/Workspace/TNC-Demand-Model/Outputs/Trip_Distribution_Estimation_File.csv')"
   ]
  },
  {
   "cell_type": "code",
   "execution_count": null,
   "metadata": {},
   "outputs": [],
   "source": [
    "print('Working on TOD 1')\n",
    "df2['UTILITY'] = np.where(df2['TOD'] == 1, np.log(df2['PRED_DROPOFFS']) - 2.81*df2['AIRPORT_FLAGGER'] + 0.49*df2['TOURIST_FLAGGER'] - 0.07*df2['INTERNAL_FLAGGER'] + 0*df2['LOG_SUM_AIRPORTS'] + 1*df2['LOG_SUM_NO_AIRPORTS'], np.nan)\n",
    "print('Working on TOD 2')\n",
    "\n",
    "df2['UTILITY'] = np.where(df2['TOD'] == 2, np.log(df2['PRED_DROPOFFS']) - 2.18*df2['AIRPORT_FLAGGER'] + 0.47*df2['TOURIST_FLAGGER'] - 0.80*df2['INTERNAL_FLAGGER'] + 0.15*df2['LOG_SUM_AIRPORTS'] + 0.85*df2['LOG_SUM_NO_AIRPORTS'], df2['UTILITY'])\n",
    "print('Working on TOD 3')\n",
    "\n",
    "df2['UTILITY'] = np.where(df2['TOD'] == 3, np.log(df2['PRED_DROPOFFS']) - 2.84*df2['AIRPORT_FLAGGER'] + 0.48*df2['TOURIST_FLAGGER'] - 1.22*df2['INTERNAL_FLAGGER'] + 0.08*df2['LOG_SUM_AIRPORTS'] + 0.96*df2['LOG_SUM_NO_AIRPORTS'], df2['UTILITY'])\n",
    "print('Working on TOD 4')\n",
    "\n",
    "df2['UTILITY'] = np.where(df2['TOD'] == 4, np.log(df2['PRED_DROPOFFS']) - 1.95*df2['AIRPORT_FLAGGER'] + 0.23*df2['TOURIST_FLAGGER'] - 1.20*df2['INTERNAL_FLAGGER'] + 0.12*df2['LOG_SUM_AIRPORTS'] + 0.72*df2['LOG_SUM_NO_AIRPORTS'], df2['UTILITY'])\n",
    "print('Working on TOD 5')\n",
    "\n",
    "df2['UTILITY'] = np.where(df2['TOD'] == 5, np.log(df2['PRED_DROPOFFS']) - 2.18*df2['AIRPORT_FLAGGER'] + 0.30*df2['TOURIST_FLAGGER'] - 1.06*df2['INTERNAL_FLAGGER'] + 0.16*df2['LOG_SUM_AIRPORTS'] + 0.91*df2['LOG_SUM_NO_AIRPORTS'], df2['UTILITY'])\n"
   ]
  },
  {
   "cell_type": "code",
   "execution_count": null,
   "metadata": {},
   "outputs": [],
   "source": [
    "df2.head()"
   ]
  },
  {
   "cell_type": "code",
   "execution_count": null,
   "metadata": {},
   "outputs": [],
   "source": [
    "df2.DISTANCE.mean()"
   ]
  },
  {
   "cell_type": "code",
   "execution_count": null,
   "metadata": {},
   "outputs": [],
   "source": []
  },
  {
   "cell_type": "code",
   "execution_count": 382,
   "metadata": {},
   "outputs": [],
   "source": [
    "#TRY DIFFERENT DISTANCE COEFFICIENTS TO MATCH TRIP DISTRIBUTION\n",
    "#df2['UTILITY'] = np.where(df2['DISTANCE'] < 1, df2['UTILITY'] - 1 * df2['DISTANCE'], df2['UTILITY'])"
   ]
  },
  {
   "cell_type": "code",
   "execution_count": 6,
   "metadata": {
    "scrolled": true
   },
   "outputs": [],
   "source": [
    "df2['EXP_UTILITY'] = np.exp(df2['UTILITY'])"
   ]
  },
  {
   "cell_type": "code",
   "execution_count": 7,
   "metadata": {},
   "outputs": [],
   "source": [
    "util_sum = df2[['ORIGIN','MONTH','YEAR','TOD','EXP_UTILITY']].groupby(by =['ORIGIN','MONTH','YEAR','TOD'],as_index = False).sum()"
   ]
  },
  {
   "cell_type": "code",
   "execution_count": 8,
   "metadata": {},
   "outputs": [],
   "source": [
    "df2 = df2.merge(util_sum, how = 'left', on = ['ORIGIN','MONTH','YEAR','TOD'], suffixes = ('','_SUM'))"
   ]
  },
  {
   "cell_type": "code",
   "execution_count": 9,
   "metadata": {},
   "outputs": [],
   "source": [
    "df2['SHARE'] = df2['EXP_UTILITY']/df2['EXP_UTILITY_SUM']"
   ]
  },
  {
   "cell_type": "code",
   "execution_count": 18,
   "metadata": {
    "scrolled": true
   },
   "outputs": [
    {
     "data": {
      "text/plain": [
       "64079.99999999999"
      ]
     },
     "execution_count": 18,
     "metadata": {},
     "output_type": "execute_result"
    }
   ],
   "source": [
    "df2.SHARE.sum()"
   ]
  },
  {
   "cell_type": "code",
   "execution_count": null,
   "metadata": {},
   "outputs": [],
   "source": []
  },
  {
   "cell_type": "code",
   "execution_count": null,
   "metadata": {},
   "outputs": [],
   "source": []
  },
  {
   "cell_type": "code",
   "execution_count": 11,
   "metadata": {},
   "outputs": [
    {
     "data": {
      "text/html": [
       "<div>\n",
       "<style scoped>\n",
       "    .dataframe tbody tr th:only-of-type {\n",
       "        vertical-align: middle;\n",
       "    }\n",
       "\n",
       "    .dataframe tbody tr th {\n",
       "        vertical-align: top;\n",
       "    }\n",
       "\n",
       "    .dataframe thead th {\n",
       "        text-align: right;\n",
       "    }\n",
       "</style>\n",
       "<table border=\"1\" class=\"dataframe\">\n",
       "  <thead>\n",
       "    <tr style=\"text-align: right;\">\n",
       "      <th></th>\n",
       "      <th>Unnamed: 0</th>\n",
       "      <th>DESTINATION</th>\n",
       "      <th>ORIGIN</th>\n",
       "      <th>MONTH</th>\n",
       "      <th>YEAR</th>\n",
       "      <th>TOD</th>\n",
       "      <th>Unnamed: 0.1</th>\n",
       "      <th>DROPOFFS_AVG</th>\n",
       "      <th>PRED_DROPOFFS</th>\n",
       "      <th>LOG_SUM</th>\n",
       "      <th>DISTANCE</th>\n",
       "      <th>INTERNAL_FLAGGER</th>\n",
       "      <th>AIRPORT_FLAGGER</th>\n",
       "      <th>TOURIST_FLAGGER</th>\n",
       "      <th>LOG_SUM_AIRPORTS</th>\n",
       "      <th>LOG_SUM_NO_AIRPORTS</th>\n",
       "      <th>UTILITY</th>\n",
       "      <th>EXP_UTILITY</th>\n",
       "      <th>EXP_UTILITY_SUM</th>\n",
       "      <th>SHARE</th>\n",
       "    </tr>\n",
       "  </thead>\n",
       "  <tbody>\n",
       "    <tr>\n",
       "      <th>0</th>\n",
       "      <td>0</td>\n",
       "      <td>17031842400</td>\n",
       "      <td>17031842400</td>\n",
       "      <td>11</td>\n",
       "      <td>2018</td>\n",
       "      <td>1</td>\n",
       "      <td>784</td>\n",
       "      <td>0.045455</td>\n",
       "      <td>0.199378</td>\n",
       "      <td>-0.124957</td>\n",
       "      <td>0.0</td>\n",
       "      <td>1</td>\n",
       "      <td>0</td>\n",
       "      <td>0</td>\n",
       "      <td>-0.0</td>\n",
       "      <td>-0.124957</td>\n",
       "      <td>-1.807508</td>\n",
       "      <td>0.164062</td>\n",
       "      <td>8.343480</td>\n",
       "      <td>0.019664</td>\n",
       "    </tr>\n",
       "    <tr>\n",
       "      <th>1</th>\n",
       "      <td>1</td>\n",
       "      <td>17031842400</td>\n",
       "      <td>17031842400</td>\n",
       "      <td>11</td>\n",
       "      <td>2018</td>\n",
       "      <td>2</td>\n",
       "      <td>784</td>\n",
       "      <td>0.545455</td>\n",
       "      <td>0.653743</td>\n",
       "      <td>-0.145677</td>\n",
       "      <td>0.0</td>\n",
       "      <td>1</td>\n",
       "      <td>0</td>\n",
       "      <td>0</td>\n",
       "      <td>-0.0</td>\n",
       "      <td>-0.145677</td>\n",
       "      <td>-1.348867</td>\n",
       "      <td>0.259534</td>\n",
       "      <td>4.688809</td>\n",
       "      <td>0.055352</td>\n",
       "    </tr>\n",
       "    <tr>\n",
       "      <th>2</th>\n",
       "      <td>2</td>\n",
       "      <td>17031842400</td>\n",
       "      <td>17031842400</td>\n",
       "      <td>11</td>\n",
       "      <td>2018</td>\n",
       "      <td>3</td>\n",
       "      <td>2386</td>\n",
       "      <td>1.272727</td>\n",
       "      <td>1.942026</td>\n",
       "      <td>-0.141584</td>\n",
       "      <td>0.0</td>\n",
       "      <td>1</td>\n",
       "      <td>0</td>\n",
       "      <td>0</td>\n",
       "      <td>-0.0</td>\n",
       "      <td>-0.141584</td>\n",
       "      <td>-0.692189</td>\n",
       "      <td>0.500479</td>\n",
       "      <td>9.077959</td>\n",
       "      <td>0.055131</td>\n",
       "    </tr>\n",
       "    <tr>\n",
       "      <th>3</th>\n",
       "      <td>3</td>\n",
       "      <td>17031842400</td>\n",
       "      <td>17031842400</td>\n",
       "      <td>11</td>\n",
       "      <td>2018</td>\n",
       "      <td>4</td>\n",
       "      <td>3187</td>\n",
       "      <td>0.363636</td>\n",
       "      <td>0.600135</td>\n",
       "      <td>-0.151391</td>\n",
       "      <td>0.0</td>\n",
       "      <td>1</td>\n",
       "      <td>0</td>\n",
       "      <td>0</td>\n",
       "      <td>-0.0</td>\n",
       "      <td>-0.151391</td>\n",
       "      <td>-1.819603</td>\n",
       "      <td>0.162090</td>\n",
       "      <td>10.519487</td>\n",
       "      <td>0.015409</td>\n",
       "    </tr>\n",
       "    <tr>\n",
       "      <th>4</th>\n",
       "      <td>4</td>\n",
       "      <td>17031842400</td>\n",
       "      <td>17031842400</td>\n",
       "      <td>11</td>\n",
       "      <td>2018</td>\n",
       "      <td>5</td>\n",
       "      <td>3988</td>\n",
       "      <td>0.136364</td>\n",
       "      <td>0.551210</td>\n",
       "      <td>-0.129843</td>\n",
       "      <td>0.0</td>\n",
       "      <td>1</td>\n",
       "      <td>0</td>\n",
       "      <td>0</td>\n",
       "      <td>-0.0</td>\n",
       "      <td>-0.129843</td>\n",
       "      <td>-1.773796</td>\n",
       "      <td>0.169688</td>\n",
       "      <td>10.075633</td>\n",
       "      <td>0.016841</td>\n",
       "    </tr>\n",
       "  </tbody>\n",
       "</table>\n",
       "</div>"
      ],
      "text/plain": [
       "   Unnamed: 0  DESTINATION       ORIGIN  MONTH  YEAR  TOD  Unnamed: 0.1  \\\n",
       "0           0  17031842400  17031842400     11  2018    1           784   \n",
       "1           1  17031842400  17031842400     11  2018    2           784   \n",
       "2           2  17031842400  17031842400     11  2018    3          2386   \n",
       "3           3  17031842400  17031842400     11  2018    4          3187   \n",
       "4           4  17031842400  17031842400     11  2018    5          3988   \n",
       "\n",
       "   DROPOFFS_AVG  PRED_DROPOFFS   LOG_SUM  DISTANCE  INTERNAL_FLAGGER  \\\n",
       "0      0.045455       0.199378 -0.124957       0.0                 1   \n",
       "1      0.545455       0.653743 -0.145677       0.0                 1   \n",
       "2      1.272727       1.942026 -0.141584       0.0                 1   \n",
       "3      0.363636       0.600135 -0.151391       0.0                 1   \n",
       "4      0.136364       0.551210 -0.129843       0.0                 1   \n",
       "\n",
       "   AIRPORT_FLAGGER  TOURIST_FLAGGER  LOG_SUM_AIRPORTS  LOG_SUM_NO_AIRPORTS  \\\n",
       "0                0                0              -0.0            -0.124957   \n",
       "1                0                0              -0.0            -0.145677   \n",
       "2                0                0              -0.0            -0.141584   \n",
       "3                0                0              -0.0            -0.151391   \n",
       "4                0                0              -0.0            -0.129843   \n",
       "\n",
       "    UTILITY  EXP_UTILITY  EXP_UTILITY_SUM     SHARE  \n",
       "0 -1.807508     0.164062         8.343480  0.019664  \n",
       "1 -1.348867     0.259534         4.688809  0.055352  \n",
       "2 -0.692189     0.500479         9.077959  0.055131  \n",
       "3 -1.819603     0.162090        10.519487  0.015409  \n",
       "4 -1.773796     0.169688        10.075633  0.016841  "
      ]
     },
     "execution_count": 11,
     "metadata": {},
     "output_type": "execute_result"
    }
   ],
   "source": [
    "df2.head()"
   ]
  },
  {
   "cell_type": "code",
   "execution_count": 12,
   "metadata": {},
   "outputs": [
    {
     "data": {
      "text/plain": [
       "51328080"
      ]
     },
     "execution_count": 12,
     "metadata": {},
     "output_type": "execute_result"
    }
   ],
   "source": [
    "len(df2)"
   ]
  },
  {
   "cell_type": "code",
   "execution_count": null,
   "metadata": {},
   "outputs": [],
   "source": []
  },
  {
   "cell_type": "code",
   "execution_count": 27,
   "metadata": {},
   "outputs": [],
   "source": [
    "pred_pickups = pd.read_csv('C:/Workspace/TNC-Demand-Model/Outputs/Trip_Generation_Predicted_Pickups.csv', index_col = 0)"
   ]
  },
  {
   "cell_type": "code",
   "execution_count": 28,
   "metadata": {},
   "outputs": [
    {
     "data": {
      "text/plain": [
       "64080"
      ]
     },
     "execution_count": 28,
     "metadata": {},
     "output_type": "execute_result"
    }
   ],
   "source": [
    "len(pred_pickups)"
   ]
  },
  {
   "cell_type": "code",
   "execution_count": 29,
   "metadata": {},
   "outputs": [
    {
     "data": {
      "text/html": [
       "<div>\n",
       "<style scoped>\n",
       "    .dataframe tbody tr th:only-of-type {\n",
       "        vertical-align: middle;\n",
       "    }\n",
       "\n",
       "    .dataframe tbody tr th {\n",
       "        vertical-align: top;\n",
       "    }\n",
       "\n",
       "    .dataframe thead th {\n",
       "        text-align: right;\n",
       "    }\n",
       "</style>\n",
       "<table border=\"1\" class=\"dataframe\">\n",
       "  <thead>\n",
       "    <tr style=\"text-align: right;\">\n",
       "      <th></th>\n",
       "      <th>YEAR</th>\n",
       "      <th>MONTH</th>\n",
       "      <th>TOD</th>\n",
       "      <th>ORIGIN</th>\n",
       "      <th>PRED_PICKUPS</th>\n",
       "      <th>PICKUPS</th>\n",
       "      <th>AVG_WD_PICKUPS</th>\n",
       "    </tr>\n",
       "  </thead>\n",
       "  <tbody>\n",
       "    <tr>\n",
       "      <th>0</th>\n",
       "      <td>2018</td>\n",
       "      <td>11</td>\n",
       "      <td>1</td>\n",
       "      <td>17031010100</td>\n",
       "      <td>13.520988</td>\n",
       "      <td>1280.0</td>\n",
       "      <td>58.181818</td>\n",
       "    </tr>\n",
       "    <tr>\n",
       "      <th>1</th>\n",
       "      <td>2018</td>\n",
       "      <td>11</td>\n",
       "      <td>1</td>\n",
       "      <td>17031010201</td>\n",
       "      <td>21.980578</td>\n",
       "      <td>1377.0</td>\n",
       "      <td>62.590909</td>\n",
       "    </tr>\n",
       "    <tr>\n",
       "      <th>2</th>\n",
       "      <td>2018</td>\n",
       "      <td>11</td>\n",
       "      <td>1</td>\n",
       "      <td>17031010202</td>\n",
       "      <td>14.393246</td>\n",
       "      <td>1271.0</td>\n",
       "      <td>57.772727</td>\n",
       "    </tr>\n",
       "    <tr>\n",
       "      <th>3</th>\n",
       "      <td>2018</td>\n",
       "      <td>11</td>\n",
       "      <td>1</td>\n",
       "      <td>17031010300</td>\n",
       "      <td>20.273000</td>\n",
       "      <td>1454.0</td>\n",
       "      <td>66.090909</td>\n",
       "    </tr>\n",
       "    <tr>\n",
       "      <th>4</th>\n",
       "      <td>2018</td>\n",
       "      <td>11</td>\n",
       "      <td>1</td>\n",
       "      <td>17031010400</td>\n",
       "      <td>44.705047</td>\n",
       "      <td>2163.0</td>\n",
       "      <td>98.318182</td>\n",
       "    </tr>\n",
       "  </tbody>\n",
       "</table>\n",
       "</div>"
      ],
      "text/plain": [
       "   YEAR  MONTH  TOD       ORIGIN  PRED_PICKUPS  PICKUPS  AVG_WD_PICKUPS\n",
       "0  2018     11    1  17031010100     13.520988   1280.0       58.181818\n",
       "1  2018     11    1  17031010201     21.980578   1377.0       62.590909\n",
       "2  2018     11    1  17031010202     14.393246   1271.0       57.772727\n",
       "3  2018     11    1  17031010300     20.273000   1454.0       66.090909\n",
       "4  2018     11    1  17031010400     44.705047   2163.0       98.318182"
      ]
     },
     "execution_count": 29,
     "metadata": {},
     "output_type": "execute_result"
    }
   ],
   "source": [
    "pred_pickups.head()"
   ]
  },
  {
   "cell_type": "code",
   "execution_count": 30,
   "metadata": {},
   "outputs": [
    {
     "data": {
      "text/plain": [
       "4238853.553437324"
      ]
     },
     "execution_count": 30,
     "metadata": {},
     "output_type": "execute_result"
    }
   ],
   "source": [
    "pred_pickups.PRED_PICKUPS.sum()"
   ]
  },
  {
   "cell_type": "code",
   "execution_count": 31,
   "metadata": {},
   "outputs": [
    {
     "data": {
      "text/html": [
       "<div>\n",
       "<style scoped>\n",
       "    .dataframe tbody tr th:only-of-type {\n",
       "        vertical-align: middle;\n",
       "    }\n",
       "\n",
       "    .dataframe tbody tr th {\n",
       "        vertical-align: top;\n",
       "    }\n",
       "\n",
       "    .dataframe thead th {\n",
       "        text-align: right;\n",
       "    }\n",
       "</style>\n",
       "<table border=\"1\" class=\"dataframe\">\n",
       "  <thead>\n",
       "    <tr style=\"text-align: right;\">\n",
       "      <th></th>\n",
       "      <th></th>\n",
       "      <th></th>\n",
       "      <th>ORIGIN</th>\n",
       "      <th>PRED_PICKUPS</th>\n",
       "      <th>PICKUPS</th>\n",
       "      <th>AVG_WD_PICKUPS</th>\n",
       "    </tr>\n",
       "    <tr>\n",
       "      <th>YEAR</th>\n",
       "      <th>MONTH</th>\n",
       "      <th>TOD</th>\n",
       "      <th></th>\n",
       "      <th></th>\n",
       "      <th></th>\n",
       "      <th></th>\n",
       "    </tr>\n",
       "  </thead>\n",
       "  <tbody>\n",
       "    <tr>\n",
       "      <th rowspan=\"5\" valign=\"top\">2018</th>\n",
       "      <th rowspan=\"5\" valign=\"top\">11</th>\n",
       "      <th>1</th>\n",
       "      <td>13642155690529</td>\n",
       "      <td>41938.871108</td>\n",
       "      <td>857885.0</td>\n",
       "      <td>38994.772727</td>\n",
       "    </tr>\n",
       "    <tr>\n",
       "      <th>2</th>\n",
       "      <td>13642155690529</td>\n",
       "      <td>37704.380448</td>\n",
       "      <td>762973.0</td>\n",
       "      <td>34680.590909</td>\n",
       "    </tr>\n",
       "    <tr>\n",
       "      <th>3</th>\n",
       "      <td>13642155690529</td>\n",
       "      <td>83215.855069</td>\n",
       "      <td>1731054.0</td>\n",
       "      <td>78684.272727</td>\n",
       "    </tr>\n",
       "    <tr>\n",
       "      <th>4</th>\n",
       "      <td>13642155690529</td>\n",
       "      <td>53631.941927</td>\n",
       "      <td>1126522.0</td>\n",
       "      <td>51205.545455</td>\n",
       "    </tr>\n",
       "    <tr>\n",
       "      <th>5</th>\n",
       "      <td>13642155690529</td>\n",
       "      <td>52193.612193</td>\n",
       "      <td>1085431.0</td>\n",
       "      <td>49337.772727</td>\n",
       "    </tr>\n",
       "    <tr>\n",
       "      <th>...</th>\n",
       "      <th>...</th>\n",
       "      <th>...</th>\n",
       "      <td>...</td>\n",
       "      <td>...</td>\n",
       "      <td>...</td>\n",
       "      <td>...</td>\n",
       "    </tr>\n",
       "    <tr>\n",
       "      <th rowspan=\"5\" valign=\"top\">2020</th>\n",
       "      <th rowspan=\"5\" valign=\"top\">2</th>\n",
       "      <th>1</th>\n",
       "      <td>13642155690529</td>\n",
       "      <td>35552.029907</td>\n",
       "      <td>742491.0</td>\n",
       "      <td>37124.550000</td>\n",
       "    </tr>\n",
       "    <tr>\n",
       "      <th>2</th>\n",
       "      <td>13642155690529</td>\n",
       "      <td>38097.903560</td>\n",
       "      <td>767668.0</td>\n",
       "      <td>38383.400000</td>\n",
       "    </tr>\n",
       "    <tr>\n",
       "      <th>3</th>\n",
       "      <td>13642155690529</td>\n",
       "      <td>81798.258585</td>\n",
       "      <td>1685810.0</td>\n",
       "      <td>84290.500000</td>\n",
       "    </tr>\n",
       "    <tr>\n",
       "      <th>4</th>\n",
       "      <td>13642155690529</td>\n",
       "      <td>51063.690298</td>\n",
       "      <td>1045171.0</td>\n",
       "      <td>52258.550000</td>\n",
       "    </tr>\n",
       "    <tr>\n",
       "      <th>5</th>\n",
       "      <td>13642155690529</td>\n",
       "      <td>48306.704467</td>\n",
       "      <td>1026731.0</td>\n",
       "      <td>51336.550000</td>\n",
       "    </tr>\n",
       "  </tbody>\n",
       "</table>\n",
       "<p>80 rows × 4 columns</p>\n",
       "</div>"
      ],
      "text/plain": [
       "                        ORIGIN  PRED_PICKUPS    PICKUPS  AVG_WD_PICKUPS\n",
       "YEAR MONTH TOD                                                         \n",
       "2018 11    1    13642155690529  41938.871108   857885.0    38994.772727\n",
       "           2    13642155690529  37704.380448   762973.0    34680.590909\n",
       "           3    13642155690529  83215.855069  1731054.0    78684.272727\n",
       "           4    13642155690529  53631.941927  1126522.0    51205.545455\n",
       "           5    13642155690529  52193.612193  1085431.0    49337.772727\n",
       "...                        ...           ...        ...             ...\n",
       "2020 2     1    13642155690529  35552.029907   742491.0    37124.550000\n",
       "           2    13642155690529  38097.903560   767668.0    38383.400000\n",
       "           3    13642155690529  81798.258585  1685810.0    84290.500000\n",
       "           4    13642155690529  51063.690298  1045171.0    52258.550000\n",
       "           5    13642155690529  48306.704467  1026731.0    51336.550000\n",
       "\n",
       "[80 rows x 4 columns]"
      ]
     },
     "execution_count": 31,
     "metadata": {},
     "output_type": "execute_result"
    }
   ],
   "source": [
    "pred_pickups.groupby(by = ['YEAR','MONTH','TOD']).sum()"
   ]
  },
  {
   "cell_type": "code",
   "execution_count": 33,
   "metadata": {},
   "outputs": [],
   "source": [
    "df2 = df2.merge(pred_pickups, how = 'left', on = ['ORIGIN','YEAR','MONTH','TOD'])"
   ]
  },
  {
   "cell_type": "code",
   "execution_count": null,
   "metadata": {},
   "outputs": [],
   "source": []
  },
  {
   "cell_type": "code",
   "execution_count": null,
   "metadata": {},
   "outputs": [],
   "source": []
  },
  {
   "cell_type": "code",
   "execution_count": 396,
   "metadata": {},
   "outputs": [
    {
     "data": {
      "text/html": [
       "<div>\n",
       "<style scoped>\n",
       "    .dataframe tbody tr th:only-of-type {\n",
       "        vertical-align: middle;\n",
       "    }\n",
       "\n",
       "    .dataframe tbody tr th {\n",
       "        vertical-align: top;\n",
       "    }\n",
       "\n",
       "    .dataframe thead th {\n",
       "        text-align: right;\n",
       "    }\n",
       "</style>\n",
       "<table border=\"1\" class=\"dataframe\">\n",
       "  <thead>\n",
       "    <tr style=\"text-align: right;\">\n",
       "      <th></th>\n",
       "      <th>DESTINATION</th>\n",
       "      <th>ORIGIN</th>\n",
       "      <th>MONTH</th>\n",
       "      <th>YEAR</th>\n",
       "      <th>TOD</th>\n",
       "      <th>Unnamed: 0.1</th>\n",
       "      <th>DROPOFFS_AVG</th>\n",
       "      <th>PRED_DROPOFFS</th>\n",
       "      <th>LOG_SUM</th>\n",
       "      <th>DISTANCE</th>\n",
       "      <th>...</th>\n",
       "      <th>TOURIST_FLAGGER</th>\n",
       "      <th>UTILITY</th>\n",
       "      <th>EXP_UTILITY</th>\n",
       "      <th>LOGSUM_AIRPORTS</th>\n",
       "      <th>LOGSUM_NO_AIRPORTS</th>\n",
       "      <th>LOG_SUM_AIRPORTS</th>\n",
       "      <th>LOG_SUM_NO_AIRPORTS</th>\n",
       "      <th>EXP_UTILITY_SUM</th>\n",
       "      <th>SHARE</th>\n",
       "      <th>PRED_PICKUPS</th>\n",
       "    </tr>\n",
       "  </thead>\n",
       "  <tbody>\n",
       "    <tr>\n",
       "      <th>0</th>\n",
       "      <td>17031842400</td>\n",
       "      <td>17031842400</td>\n",
       "      <td>11</td>\n",
       "      <td>2018</td>\n",
       "      <td>1</td>\n",
       "      <td>784</td>\n",
       "      <td>0.045455</td>\n",
       "      <td>0.199378</td>\n",
       "      <td>-0.124957</td>\n",
       "      <td>0.0</td>\n",
       "      <td>...</td>\n",
       "      <td>0</td>\n",
       "      <td>-1.807508</td>\n",
       "      <td>0.164062</td>\n",
       "      <td>-0.0</td>\n",
       "      <td>-0.124957</td>\n",
       "      <td>-0.0</td>\n",
       "      <td>-0.124957</td>\n",
       "      <td>8.343480</td>\n",
       "      <td>0.019664</td>\n",
       "      <td>0.165677</td>\n",
       "    </tr>\n",
       "    <tr>\n",
       "      <th>1</th>\n",
       "      <td>17031842400</td>\n",
       "      <td>17031842400</td>\n",
       "      <td>11</td>\n",
       "      <td>2018</td>\n",
       "      <td>2</td>\n",
       "      <td>784</td>\n",
       "      <td>0.545455</td>\n",
       "      <td>0.653743</td>\n",
       "      <td>-0.145677</td>\n",
       "      <td>0.0</td>\n",
       "      <td>...</td>\n",
       "      <td>0</td>\n",
       "      <td>-1.348867</td>\n",
       "      <td>0.259534</td>\n",
       "      <td>-0.0</td>\n",
       "      <td>-0.145677</td>\n",
       "      <td>-0.0</td>\n",
       "      <td>-0.145677</td>\n",
       "      <td>4.688809</td>\n",
       "      <td>0.055352</td>\n",
       "      <td>0.203454</td>\n",
       "    </tr>\n",
       "    <tr>\n",
       "      <th>2</th>\n",
       "      <td>17031842400</td>\n",
       "      <td>17031842400</td>\n",
       "      <td>11</td>\n",
       "      <td>2018</td>\n",
       "      <td>3</td>\n",
       "      <td>2386</td>\n",
       "      <td>1.272727</td>\n",
       "      <td>1.942026</td>\n",
       "      <td>-0.141584</td>\n",
       "      <td>0.0</td>\n",
       "      <td>...</td>\n",
       "      <td>0</td>\n",
       "      <td>-0.692189</td>\n",
       "      <td>0.500479</td>\n",
       "      <td>-0.0</td>\n",
       "      <td>-0.141584</td>\n",
       "      <td>-0.0</td>\n",
       "      <td>-0.141584</td>\n",
       "      <td>9.077959</td>\n",
       "      <td>0.055131</td>\n",
       "      <td>0.669257</td>\n",
       "    </tr>\n",
       "    <tr>\n",
       "      <th>3</th>\n",
       "      <td>17031842400</td>\n",
       "      <td>17031842400</td>\n",
       "      <td>11</td>\n",
       "      <td>2018</td>\n",
       "      <td>4</td>\n",
       "      <td>3187</td>\n",
       "      <td>0.363636</td>\n",
       "      <td>0.600135</td>\n",
       "      <td>-0.151391</td>\n",
       "      <td>0.0</td>\n",
       "      <td>...</td>\n",
       "      <td>0</td>\n",
       "      <td>-1.819603</td>\n",
       "      <td>0.162090</td>\n",
       "      <td>-0.0</td>\n",
       "      <td>-0.151391</td>\n",
       "      <td>-0.0</td>\n",
       "      <td>-0.151391</td>\n",
       "      <td>10.519487</td>\n",
       "      <td>0.015409</td>\n",
       "      <td>0.460589</td>\n",
       "    </tr>\n",
       "    <tr>\n",
       "      <th>4</th>\n",
       "      <td>17031842400</td>\n",
       "      <td>17031842400</td>\n",
       "      <td>11</td>\n",
       "      <td>2018</td>\n",
       "      <td>5</td>\n",
       "      <td>3988</td>\n",
       "      <td>0.136364</td>\n",
       "      <td>0.551210</td>\n",
       "      <td>-0.129843</td>\n",
       "      <td>0.0</td>\n",
       "      <td>...</td>\n",
       "      <td>0</td>\n",
       "      <td>-1.773796</td>\n",
       "      <td>0.169688</td>\n",
       "      <td>-0.0</td>\n",
       "      <td>-0.129843</td>\n",
       "      <td>-0.0</td>\n",
       "      <td>-0.129843</td>\n",
       "      <td>10.075633</td>\n",
       "      <td>0.016841</td>\n",
       "      <td>0.093199</td>\n",
       "    </tr>\n",
       "  </tbody>\n",
       "</table>\n",
       "<p>5 rows × 22 columns</p>\n",
       "</div>"
      ],
      "text/plain": [
       "   DESTINATION       ORIGIN  MONTH  YEAR  TOD  Unnamed: 0.1  DROPOFFS_AVG  \\\n",
       "0  17031842400  17031842400     11  2018    1           784      0.045455   \n",
       "1  17031842400  17031842400     11  2018    2           784      0.545455   \n",
       "2  17031842400  17031842400     11  2018    3          2386      1.272727   \n",
       "3  17031842400  17031842400     11  2018    4          3187      0.363636   \n",
       "4  17031842400  17031842400     11  2018    5          3988      0.136364   \n",
       "\n",
       "   PRED_DROPOFFS   LOG_SUM  DISTANCE  ...  TOURIST_FLAGGER   UTILITY  \\\n",
       "0       0.199378 -0.124957       0.0  ...                0 -1.807508   \n",
       "1       0.653743 -0.145677       0.0  ...                0 -1.348867   \n",
       "2       1.942026 -0.141584       0.0  ...                0 -0.692189   \n",
       "3       0.600135 -0.151391       0.0  ...                0 -1.819603   \n",
       "4       0.551210 -0.129843       0.0  ...                0 -1.773796   \n",
       "\n",
       "   EXP_UTILITY  LOGSUM_AIRPORTS  LOGSUM_NO_AIRPORTS  LOG_SUM_AIRPORTS  \\\n",
       "0     0.164062             -0.0           -0.124957              -0.0   \n",
       "1     0.259534             -0.0           -0.145677              -0.0   \n",
       "2     0.500479             -0.0           -0.141584              -0.0   \n",
       "3     0.162090             -0.0           -0.151391              -0.0   \n",
       "4     0.169688             -0.0           -0.129843              -0.0   \n",
       "\n",
       "   LOG_SUM_NO_AIRPORTS  EXP_UTILITY_SUM     SHARE  PRED_PICKUPS  \n",
       "0            -0.124957         8.343480  0.019664      0.165677  \n",
       "1            -0.145677         4.688809  0.055352      0.203454  \n",
       "2            -0.141584         9.077959  0.055131      0.669257  \n",
       "3            -0.151391        10.519487  0.015409      0.460589  \n",
       "4            -0.129843        10.075633  0.016841      0.093199  \n",
       "\n",
       "[5 rows x 22 columns]"
      ]
     },
     "execution_count": 396,
     "metadata": {},
     "output_type": "execute_result"
    }
   ],
   "source": [
    "df3.head()"
   ]
  },
  {
   "cell_type": "code",
   "execution_count": 34,
   "metadata": {},
   "outputs": [
    {
     "data": {
      "text/plain": [
       "64079.99999999999"
      ]
     },
     "execution_count": 34,
     "metadata": {},
     "output_type": "execute_result"
    }
   ],
   "source": [
    "df2.SHARE.sum()"
   ]
  },
  {
   "cell_type": "code",
   "execution_count": 35,
   "metadata": {},
   "outputs": [],
   "source": [
    "df2['PRED_TRIPS'] = df2['PRED_PICKUPS']*df2['SHARE']"
   ]
  },
  {
   "cell_type": "code",
   "execution_count": null,
   "metadata": {},
   "outputs": [],
   "source": []
  },
  {
   "cell_type": "code",
   "execution_count": 36,
   "metadata": {},
   "outputs": [
    {
     "data": {
      "text/plain": [
       "4238853.553437344"
      ]
     },
     "execution_count": 36,
     "metadata": {},
     "output_type": "execute_result"
    }
   ],
   "source": [
    "df2['PRED_TRIPS'].sum()"
   ]
  },
  {
   "cell_type": "code",
   "execution_count": 37,
   "metadata": {},
   "outputs": [
    {
     "data": {
      "text/plain": [
       "4238853.553437324"
      ]
     },
     "execution_count": 37,
     "metadata": {},
     "output_type": "execute_result"
    }
   ],
   "source": [
    "pred_pickups.PRED_PICKUPS.sum()"
   ]
  },
  {
   "cell_type": "code",
   "execution_count": 39,
   "metadata": {},
   "outputs": [],
   "source": [
    "#output = df2[['YEAR','MONTH','TOD','ORIGIN','DESTINATION','PRED_TRIPS','DISTANCE']]\n",
    "#output['TRAVELED_MILES_PRED'] = output['PRED_TRIPS']*output['DISTANCE']"
   ]
  },
  {
   "cell_type": "code",
   "execution_count": null,
   "metadata": {},
   "outputs": [],
   "source": [
    "df2[['YEAR','MONTH','TOD','ORIGIN','DESTINATION','PRED_TRIPS','DISTANCE']].to_csv('Trip_Distribution_Predicted_Trips.csv')"
   ]
  },
  {
   "cell_type": "code",
   "execution_count": 419,
   "metadata": {},
   "outputs": [
    {
     "name": "stdout",
     "output_type": "stream",
     "text": [
      "<class 'pandas.core.frame.DataFrame'>\n",
      "Int64Index: 51328080 entries, 0 to 51328079\n",
      "Data columns (total 8 columns):\n",
      " #   Column               Dtype  \n",
      "---  ------               -----  \n",
      " 0   YEAR                 int64  \n",
      " 1   MONTH                int64  \n",
      " 2   TOD                  int64  \n",
      " 3   ORIGIN               int64  \n",
      " 4   DESTINATION          int64  \n",
      " 5   PRED_TRIPS           float64\n",
      " 6   DISTANCE             float64\n",
      " 7   TRAVELED_MILES_PRED  float64\n",
      "dtypes: float64(3), int64(5)\n",
      "memory usage: 3.4 GB\n"
     ]
    }
   ],
   "source": [
    "output.info()"
   ]
  },
  {
   "cell_type": "code",
   "execution_count": 484,
   "metadata": {},
   "outputs": [],
   "source": [
    "#output.to_csv('output.csv')"
   ]
  },
  {
   "cell_type": "code",
   "execution_count": null,
   "metadata": {},
   "outputs": [],
   "source": [
    "agg = {'PRED_TRIPS':'sum','DISTANCE':'mean'}"
   ]
  },
  {
   "cell_type": "code",
   "execution_count": null,
   "metadata": {},
   "outputs": [],
   "source": [
    "grouped = output[['ORIGIN','DESTINATION','DISTANCE','PRED_TRIPS']].groupby(by = ['ORIGIN','DESTINATION'], as_index = False).agg(agg)"
   ]
  },
  {
   "cell_type": "code",
   "execution_count": 406,
   "metadata": {},
   "outputs": [
    {
     "data": {
      "text/html": [
       "<div>\n",
       "<style scoped>\n",
       "    .dataframe tbody tr th:only-of-type {\n",
       "        vertical-align: middle;\n",
       "    }\n",
       "\n",
       "    .dataframe tbody tr th {\n",
       "        vertical-align: top;\n",
       "    }\n",
       "\n",
       "    .dataframe thead th {\n",
       "        text-align: right;\n",
       "    }\n",
       "</style>\n",
       "<table border=\"1\" class=\"dataframe\">\n",
       "  <thead>\n",
       "    <tr style=\"text-align: right;\">\n",
       "      <th></th>\n",
       "      <th>ORIGIN</th>\n",
       "      <th>DESTINATION</th>\n",
       "      <th>PRED_TRIPS</th>\n",
       "      <th>DISTANCE</th>\n",
       "    </tr>\n",
       "  </thead>\n",
       "  <tbody>\n",
       "    <tr>\n",
       "      <th>0</th>\n",
       "      <td>17031010100</td>\n",
       "      <td>17031010100</td>\n",
       "      <td>0.244221</td>\n",
       "      <td>0.000000</td>\n",
       "    </tr>\n",
       "    <tr>\n",
       "      <th>1</th>\n",
       "      <td>17031010100</td>\n",
       "      <td>17031010201</td>\n",
       "      <td>0.230857</td>\n",
       "      <td>0.642447</td>\n",
       "    </tr>\n",
       "    <tr>\n",
       "      <th>2</th>\n",
       "      <td>17031010100</td>\n",
       "      <td>17031010202</td>\n",
       "      <td>0.319371</td>\n",
       "      <td>0.401739</td>\n",
       "    </tr>\n",
       "    <tr>\n",
       "      <th>3</th>\n",
       "      <td>17031010100</td>\n",
       "      <td>17031010300</td>\n",
       "      <td>0.647644</td>\n",
       "      <td>0.404804</td>\n",
       "    </tr>\n",
       "    <tr>\n",
       "      <th>4</th>\n",
       "      <td>17031010100</td>\n",
       "      <td>17031010400</td>\n",
       "      <td>0.670910</td>\n",
       "      <td>1.272078</td>\n",
       "    </tr>\n",
       "  </tbody>\n",
       "</table>\n",
       "</div>"
      ],
      "text/plain": [
       "        ORIGIN  DESTINATION  PRED_TRIPS  DISTANCE\n",
       "0  17031010100  17031010100    0.244221  0.000000\n",
       "1  17031010100  17031010201    0.230857  0.642447\n",
       "2  17031010100  17031010202    0.319371  0.401739\n",
       "3  17031010100  17031010300    0.647644  0.404804\n",
       "4  17031010100  17031010400    0.670910  1.272078"
      ]
     },
     "execution_count": 406,
     "metadata": {},
     "output_type": "execute_result"
    }
   ],
   "source": [
    "grouped.head()"
   ]
  },
  {
   "cell_type": "code",
   "execution_count": 407,
   "metadata": {},
   "outputs": [],
   "source": [
    "#grouped['DISTANCE_SCALED'] = grouped['DISTANCE']*grouped['PRED_TRIPS']"
   ]
  },
  {
   "cell_type": "code",
   "execution_count": null,
   "metadata": {},
   "outputs": [],
   "source": [
    "grouped.to_csv('dist_file.csv')"
   ]
  },
  {
   "cell_type": "code",
   "execution_count": 43,
   "metadata": {},
   "outputs": [],
   "source": []
  },
  {
   "cell_type": "code",
   "execution_count": null,
   "metadata": {},
   "outputs": [],
   "source": []
  },
  {
   "cell_type": "code",
   "execution_count": 32,
   "metadata": {},
   "outputs": [
    {
     "data": {
      "text/plain": [
       "Index(['DESTINATION', 'ORIGIN', 'MONTH', 'YEAR', 'TOD', 'Unnamed: 0.1',\n",
       "       'DROPOFFS_AVG', 'PRED_DROPOFFS', 'LOG_SUM', 'DISTANCE',\n",
       "       'INTERNAL_FLAGGER', 'AIRPORT_FLAGGER', 'TOURIST_FLAGGER', 'UTILITY',\n",
       "       'EXP_UTILITY', 'EXP_UTILITY_SUM', 'SHARE', 'PRED_PICKUPS',\n",
       "       'PRED_TRIPS'],\n",
       "      dtype='object')"
      ]
     },
     "execution_count": 32,
     "metadata": {},
     "output_type": "execute_result"
    }
   ],
   "source": [
    "df3.columns"
   ]
  },
  {
   "cell_type": "code",
   "execution_count": null,
   "metadata": {},
   "outputs": [],
   "source": [
    "dist = pd.read_csv('Distance_Matrix.csv')"
   ]
  },
  {
   "cell_type": "code",
   "execution_count": 451,
   "metadata": {},
   "outputs": [],
   "source": [
    "output = df3[['YEAR','MONTH','TOD','ORIGIN','DESTINATION','PRED_TRIPS','DISTANCE']]"
   ]
  },
  {
   "cell_type": "code",
   "execution_count": null,
   "metadata": {},
   "outputs": [],
   "source": []
  },
  {
   "cell_type": "code",
   "execution_count": 423,
   "metadata": {},
   "outputs": [],
   "source": [
    "#output['TRAVELED_MILES_PRED'] = output['PRED_TRIPS']*output['DISTANCE']"
   ]
  },
  {
   "cell_type": "code",
   "execution_count": 424,
   "metadata": {},
   "outputs": [
    {
     "data": {
      "text/plain": [
       "51328080"
      ]
     },
     "execution_count": 424,
     "metadata": {},
     "output_type": "execute_result"
    }
   ],
   "source": [
    "len(output)"
   ]
  },
  {
   "cell_type": "code",
   "execution_count": 425,
   "metadata": {},
   "outputs": [
    {
     "data": {
      "text/plain": [
       "0.000000     64080\n",
       "13.933132      320\n",
       "7.704492       320\n",
       "14.666032      320\n",
       "13.647344      320\n",
       "             ...  \n",
       "5.509519       160\n",
       "4.519533       160\n",
       "8.145539       160\n",
       "4.864367       160\n",
       "6.515879       160\n",
       "Name: DISTANCE, Length: 320391, dtype: int64"
      ]
     },
     "execution_count": 425,
     "metadata": {},
     "output_type": "execute_result"
    }
   ],
   "source": [
    "output.DISTANCE.value_counts()"
   ]
  },
  {
   "cell_type": "code",
   "execution_count": 452,
   "metadata": {},
   "outputs": [
    {
     "data": {
      "text/plain": [
       "8.416995024901455"
      ]
     },
     "execution_count": 452,
     "metadata": {},
     "output_type": "execute_result"
    }
   ],
   "source": [
    "output.DISTANCE.mean()"
   ]
  },
  {
   "cell_type": "code",
   "execution_count": 453,
   "metadata": {},
   "outputs": [
    {
     "data": {
      "text/plain": [
       "38880.176885529334"
      ]
     },
     "execution_count": 453,
     "metadata": {},
     "output_type": "execute_result"
    }
   ],
   "source": [
    "output.PRED_TRIPS.sum()"
   ]
  },
  {
   "cell_type": "code",
   "execution_count": null,
   "metadata": {},
   "outputs": [],
   "source": []
  },
  {
   "cell_type": "code",
   "execution_count": null,
   "metadata": {},
   "outputs": [],
   "source": []
  },
  {
   "cell_type": "code",
   "execution_count": 427,
   "metadata": {
    "scrolled": true
   },
   "outputs": [
    {
     "data": {
      "text/plain": [
       "51328080"
      ]
     },
     "execution_count": 427,
     "metadata": {},
     "output_type": "execute_result"
    }
   ],
   "source": [
    "len(output)"
   ]
  },
  {
   "cell_type": "code",
   "execution_count": 458,
   "metadata": {},
   "outputs": [],
   "source": [
    "obs = pd.read_csv('Sample.csv')"
   ]
  },
  {
   "cell_type": "code",
   "execution_count": 459,
   "metadata": {},
   "outputs": [],
   "source": [
    "obs_filtered = obs[obs['TRIP_LENGTH_MILES']<50]"
   ]
  },
  {
   "cell_type": "code",
   "execution_count": 460,
   "metadata": {},
   "outputs": [
    {
     "name": "stderr",
     "output_type": "stream",
     "text": [
      "C:\\Users\\Transportlab\\anaconda3\\lib\\site-packages\\ipykernel_launcher.py:1: SettingWithCopyWarning: \n",
      "A value is trying to be set on a copy of a slice from a DataFrame.\n",
      "Try using .loc[row_indexer,col_indexer] = value instead\n",
      "\n",
      "See the caveats in the documentation: https://pandas.pydata.org/pandas-docs/stable/user_guide/indexing.html#returning-a-view-versus-a-copy\n",
      "  \"\"\"Entry point for launching an IPython kernel.\n"
     ]
    }
   ],
   "source": [
    "obs_filtered['OBS_TRIPS'] = 1"
   ]
  },
  {
   "cell_type": "code",
   "execution_count": 461,
   "metadata": {},
   "outputs": [
    {
     "name": "stderr",
     "output_type": "stream",
     "text": [
      "C:\\Users\\Transportlab\\anaconda3\\lib\\site-packages\\ipykernel_launcher.py:1: SettingWithCopyWarning: \n",
      "A value is trying to be set on a copy of a slice from a DataFrame.\n",
      "Try using .loc[row_indexer,col_indexer] = value instead\n",
      "\n",
      "See the caveats in the documentation: https://pandas.pydata.org/pandas-docs/stable/user_guide/indexing.html#returning-a-view-versus-a-copy\n",
      "  \"\"\"Entry point for launching an IPython kernel.\n",
      "C:\\Users\\Transportlab\\anaconda3\\lib\\site-packages\\ipykernel_launcher.py:2: SettingWithCopyWarning: \n",
      "A value is trying to be set on a copy of a slice from a DataFrame.\n",
      "Try using .loc[row_indexer,col_indexer] = value instead\n",
      "\n",
      "See the caveats in the documentation: https://pandas.pydata.org/pandas-docs/stable/user_guide/indexing.html#returning-a-view-versus-a-copy\n",
      "  \n",
      "C:\\Users\\Transportlab\\anaconda3\\lib\\site-packages\\ipykernel_launcher.py:3: SettingWithCopyWarning: \n",
      "A value is trying to be set on a copy of a slice from a DataFrame.\n",
      "Try using .loc[row_indexer,col_indexer] = value instead\n",
      "\n",
      "See the caveats in the documentation: https://pandas.pydata.org/pandas-docs/stable/user_guide/indexing.html#returning-a-view-versus-a-copy\n",
      "  This is separate from the ipykernel package so we can avoid doing imports until\n",
      "C:\\Users\\Transportlab\\anaconda3\\lib\\site-packages\\ipykernel_launcher.py:4: SettingWithCopyWarning: \n",
      "A value is trying to be set on a copy of a slice from a DataFrame.\n",
      "Try using .loc[row_indexer,col_indexer] = value instead\n",
      "\n",
      "See the caveats in the documentation: https://pandas.pydata.org/pandas-docs/stable/user_guide/indexing.html#returning-a-view-versus-a-copy\n",
      "  after removing the cwd from sys.path.\n",
      "C:\\Users\\Transportlab\\anaconda3\\lib\\site-packages\\ipykernel_launcher.py:5: SettingWithCopyWarning: \n",
      "A value is trying to be set on a copy of a slice from a DataFrame.\n",
      "Try using .loc[row_indexer,col_indexer] = value instead\n",
      "\n",
      "See the caveats in the documentation: https://pandas.pydata.org/pandas-docs/stable/user_guide/indexing.html#returning-a-view-versus-a-copy\n",
      "  \"\"\"\n"
     ]
    }
   ],
   "source": [
    "obs_filtered['TOD'] = np.where(obs_filtered['TOD_1'] == 1,1,np.nan)\n",
    "obs_filtered['TOD'] = np.where(obs_filtered['TOD_2'] == 1,2, obs_filtered['TOD'])\n",
    "obs_filtered['TOD'] = np.where(obs_filtered['TOD_3'] == 1,3, obs_filtered['TOD'])\n",
    "obs_filtered['TOD'] = np.where(obs_filtered['TOD_4'] == 1,4, obs_filtered['TOD'])\n",
    "obs_filtered['TOD'] = np.where(obs_filtered['TOD_5'] == 1,5, obs_filtered['TOD'])"
   ]
  },
  {
   "cell_type": "code",
   "execution_count": null,
   "metadata": {},
   "outputs": [],
   "source": []
  },
  {
   "cell_type": "code",
   "execution_count": null,
   "metadata": {},
   "outputs": [],
   "source": []
  },
  {
   "cell_type": "code",
   "execution_count": 462,
   "metadata": {},
   "outputs": [
    {
     "data": {
      "text/plain": [
       "0.6925019915674121"
      ]
     },
     "execution_count": 462,
     "metadata": {},
     "output_type": "execute_result"
    }
   ],
   "source": [
    "obs_filtered[obs_filtered['TRIP_LENGTH_MILES'] >15].AIRPORT_FLAGGER.sum()/len(obs_filtered[obs_filtered['TRIP_LENGTH_MILES'] >15])"
   ]
  },
  {
   "cell_type": "code",
   "execution_count": 463,
   "metadata": {},
   "outputs": [
    {
     "data": {
      "text/plain": [
       "0.01602928739705616"
      ]
     },
     "execution_count": 463,
     "metadata": {},
     "output_type": "execute_result"
    }
   ],
   "source": [
    "obs_filtered[obs_filtered['TRIP_LENGTH_MILES'] <15].AIRPORT_FLAGGER.sum()/len(obs_filtered[obs_filtered['TRIP_LENGTH_MILES'] <15])"
   ]
  },
  {
   "cell_type": "code",
   "execution_count": 464,
   "metadata": {},
   "outputs": [],
   "source": [
    "obs_filtered = obs_filtered[['MONTH','YEAR','TOD','ORIGIN','DESTINATION','OBS_TRIPS']].groupby(by = ['ORIGIN','DESTINATION','YEAR','MONTH','TOD',], as_index = False).sum()"
   ]
  },
  {
   "cell_type": "code",
   "execution_count": 465,
   "metadata": {},
   "outputs": [],
   "source": [
    "wd = pd.read_csv('Number of Weekdays.csv')"
   ]
  },
  {
   "cell_type": "code",
   "execution_count": 466,
   "metadata": {},
   "outputs": [
    {
     "data": {
      "text/html": [
       "<div>\n",
       "<style scoped>\n",
       "    .dataframe tbody tr th:only-of-type {\n",
       "        vertical-align: middle;\n",
       "    }\n",
       "\n",
       "    .dataframe tbody tr th {\n",
       "        vertical-align: top;\n",
       "    }\n",
       "\n",
       "    .dataframe thead th {\n",
       "        text-align: right;\n",
       "    }\n",
       "</style>\n",
       "<table border=\"1\" class=\"dataframe\">\n",
       "  <thead>\n",
       "    <tr style=\"text-align: right;\">\n",
       "      <th></th>\n",
       "      <th>YEAR</th>\n",
       "      <th>MONTH</th>\n",
       "      <th>WEEKDAYS</th>\n",
       "    </tr>\n",
       "  </thead>\n",
       "  <tbody>\n",
       "    <tr>\n",
       "      <th>0</th>\n",
       "      <td>2018</td>\n",
       "      <td>11</td>\n",
       "      <td>22</td>\n",
       "    </tr>\n",
       "    <tr>\n",
       "      <th>1</th>\n",
       "      <td>2018</td>\n",
       "      <td>12</td>\n",
       "      <td>21</td>\n",
       "    </tr>\n",
       "    <tr>\n",
       "      <th>2</th>\n",
       "      <td>2019</td>\n",
       "      <td>1</td>\n",
       "      <td>23</td>\n",
       "    </tr>\n",
       "    <tr>\n",
       "      <th>3</th>\n",
       "      <td>2019</td>\n",
       "      <td>2</td>\n",
       "      <td>20</td>\n",
       "    </tr>\n",
       "    <tr>\n",
       "      <th>4</th>\n",
       "      <td>2019</td>\n",
       "      <td>3</td>\n",
       "      <td>21</td>\n",
       "    </tr>\n",
       "  </tbody>\n",
       "</table>\n",
       "</div>"
      ],
      "text/plain": [
       "   YEAR  MONTH  WEEKDAYS\n",
       "0  2018     11        22\n",
       "1  2018     12        21\n",
       "2  2019      1        23\n",
       "3  2019      2        20\n",
       "4  2019      3        21"
      ]
     },
     "execution_count": 466,
     "metadata": {},
     "output_type": "execute_result"
    }
   ],
   "source": [
    "wd.head()"
   ]
  },
  {
   "cell_type": "code",
   "execution_count": 467,
   "metadata": {},
   "outputs": [],
   "source": [
    "obs_filtered = obs_filtered.merge(wd, on =['YEAR','MONTH'])"
   ]
  },
  {
   "cell_type": "code",
   "execution_count": 468,
   "metadata": {},
   "outputs": [],
   "source": [
    "obs_filtered['OBS_TRIPS_AVG'] = obs_filtered['OBS_TRIPS']/obs_filtered['WEEKDAYS']"
   ]
  },
  {
   "cell_type": "code",
   "execution_count": 469,
   "metadata": {},
   "outputs": [
    {
     "data": {
      "text/plain": [
       "39092.96952757388"
      ]
     },
     "execution_count": 469,
     "metadata": {},
     "output_type": "execute_result"
    }
   ],
   "source": [
    "obs_filtered.OBS_TRIPS_AVG.sum()"
   ]
  },
  {
   "cell_type": "code",
   "execution_count": 470,
   "metadata": {},
   "outputs": [
    {
     "data": {
      "text/plain": [
       "538197"
      ]
     },
     "execution_count": 470,
     "metadata": {},
     "output_type": "execute_result"
    }
   ],
   "source": [
    "len(obs_filtered)"
   ]
  },
  {
   "cell_type": "code",
   "execution_count": 471,
   "metadata": {},
   "outputs": [
    {
     "data": {
      "text/plain": [
       "0           17031842400\n",
       "1           17031842400\n",
       "2           17031842400\n",
       "3           17031842400\n",
       "4           17031842400\n",
       "               ...     \n",
       "51328075    17031630900\n",
       "51328076    17031630900\n",
       "51328077    17031630900\n",
       "51328078    17031630900\n",
       "51328079    17031630900\n",
       "Name: ORIGIN, Length: 51328080, dtype: int64"
      ]
     },
     "execution_count": 471,
     "metadata": {},
     "output_type": "execute_result"
    }
   ],
   "source": [
    "output['ORIGIN']"
   ]
  },
  {
   "cell_type": "code",
   "execution_count": 472,
   "metadata": {},
   "outputs": [
    {
     "data": {
      "text/html": [
       "<div>\n",
       "<style scoped>\n",
       "    .dataframe tbody tr th:only-of-type {\n",
       "        vertical-align: middle;\n",
       "    }\n",
       "\n",
       "    .dataframe tbody tr th {\n",
       "        vertical-align: top;\n",
       "    }\n",
       "\n",
       "    .dataframe thead th {\n",
       "        text-align: right;\n",
       "    }\n",
       "</style>\n",
       "<table border=\"1\" class=\"dataframe\">\n",
       "  <thead>\n",
       "    <tr style=\"text-align: right;\">\n",
       "      <th></th>\n",
       "      <th>ORIGIN</th>\n",
       "      <th>DESTINATION</th>\n",
       "      <th>YEAR</th>\n",
       "      <th>MONTH</th>\n",
       "      <th>TOD</th>\n",
       "      <th>OBS_TRIPS</th>\n",
       "      <th>WEEKDAYS</th>\n",
       "      <th>OBS_TRIPS_AVG</th>\n",
       "    </tr>\n",
       "  </thead>\n",
       "  <tbody>\n",
       "    <tr>\n",
       "      <th>63495</th>\n",
       "      <td>1.703184e+10</td>\n",
       "      <td>1.703184e+10</td>\n",
       "      <td>2018</td>\n",
       "      <td>12</td>\n",
       "      <td>2.0</td>\n",
       "      <td>2</td>\n",
       "      <td>21</td>\n",
       "      <td>0.095238</td>\n",
       "    </tr>\n",
       "    <tr>\n",
       "      <th>63496</th>\n",
       "      <td>1.703184e+10</td>\n",
       "      <td>1.703184e+10</td>\n",
       "      <td>2018</td>\n",
       "      <td>12</td>\n",
       "      <td>3.0</td>\n",
       "      <td>3</td>\n",
       "      <td>21</td>\n",
       "      <td>0.142857</td>\n",
       "    </tr>\n",
       "    <tr>\n",
       "      <th>63497</th>\n",
       "      <td>1.703184e+10</td>\n",
       "      <td>1.703184e+10</td>\n",
       "      <td>2018</td>\n",
       "      <td>12</td>\n",
       "      <td>4.0</td>\n",
       "      <td>1</td>\n",
       "      <td>21</td>\n",
       "      <td>0.047619</td>\n",
       "    </tr>\n",
       "    <tr>\n",
       "      <th>63498</th>\n",
       "      <td>1.703184e+10</td>\n",
       "      <td>1.703184e+10</td>\n",
       "      <td>2018</td>\n",
       "      <td>12</td>\n",
       "      <td>5.0</td>\n",
       "      <td>1</td>\n",
       "      <td>21</td>\n",
       "      <td>0.047619</td>\n",
       "    </tr>\n",
       "  </tbody>\n",
       "</table>\n",
       "</div>"
      ],
      "text/plain": [
       "             ORIGIN   DESTINATION  YEAR  MONTH  TOD  OBS_TRIPS  WEEKDAYS  \\\n",
       "63495  1.703184e+10  1.703184e+10  2018     12  2.0          2        21   \n",
       "63496  1.703184e+10  1.703184e+10  2018     12  3.0          3        21   \n",
       "63497  1.703184e+10  1.703184e+10  2018     12  4.0          1        21   \n",
       "63498  1.703184e+10  1.703184e+10  2018     12  5.0          1        21   \n",
       "\n",
       "       OBS_TRIPS_AVG  \n",
       "63495       0.095238  \n",
       "63496       0.142857  \n",
       "63497       0.047619  \n",
       "63498       0.047619  "
      ]
     },
     "execution_count": 472,
     "metadata": {},
     "output_type": "execute_result"
    }
   ],
   "source": [
    "obs_filtered[(obs_filtered['ORIGIN'] == 17031842400)&(obs_filtered['DESTINATION'] == 17031842400)&(obs_filtered['MONTH'] == 12)&(obs_filtered['YEAR'] == 2018)]"
   ]
  },
  {
   "cell_type": "code",
   "execution_count": 473,
   "metadata": {},
   "outputs": [],
   "source": [
    "output = output.merge(obs_filtered[['MONTH','YEAR','TOD','ORIGIN','DESTINATION','OBS_TRIPS_AVG']], how = 'left', on = ['MONTH','YEAR','TOD','ORIGIN','DESTINATION'])"
   ]
  },
  {
   "cell_type": "code",
   "execution_count": 474,
   "metadata": {},
   "outputs": [
    {
     "data": {
      "text/plain": [
       "38880.176885529334"
      ]
     },
     "execution_count": 474,
     "metadata": {},
     "output_type": "execute_result"
    }
   ],
   "source": [
    "output.PRED_TRIPS.sum()"
   ]
  },
  {
   "cell_type": "code",
   "execution_count": 475,
   "metadata": {},
   "outputs": [],
   "source": [
    "output['OBS_TRIPS_AVG'] = output['OBS_TRIPS_AVG'].fillna(0)"
   ]
  },
  {
   "cell_type": "code",
   "execution_count": 476,
   "metadata": {
    "scrolled": true
   },
   "outputs": [],
   "source": [
    "output['TRAVELED_MILES_OBS'] = output['OBS_TRIPS_AVG']*output['DISTANCE']"
   ]
  },
  {
   "cell_type": "code",
   "execution_count": 477,
   "metadata": {},
   "outputs": [
    {
     "data": {
      "text/plain": [
       "51328080"
      ]
     },
     "execution_count": 477,
     "metadata": {},
     "output_type": "execute_result"
    }
   ],
   "source": [
    "len(output)"
   ]
  },
  {
   "cell_type": "code",
   "execution_count": 478,
   "metadata": {},
   "outputs": [
    {
     "data": {
      "text/html": [
       "<div>\n",
       "<style scoped>\n",
       "    .dataframe tbody tr th:only-of-type {\n",
       "        vertical-align: middle;\n",
       "    }\n",
       "\n",
       "    .dataframe tbody tr th {\n",
       "        vertical-align: top;\n",
       "    }\n",
       "\n",
       "    .dataframe thead th {\n",
       "        text-align: right;\n",
       "    }\n",
       "</style>\n",
       "<table border=\"1\" class=\"dataframe\">\n",
       "  <thead>\n",
       "    <tr style=\"text-align: right;\">\n",
       "      <th></th>\n",
       "      <th>YEAR</th>\n",
       "      <th>MONTH</th>\n",
       "      <th>TOD</th>\n",
       "      <th>ORIGIN</th>\n",
       "      <th>DESTINATION</th>\n",
       "      <th>PRED_TRIPS</th>\n",
       "      <th>DISTANCE</th>\n",
       "      <th>OBS_TRIPS_AVG</th>\n",
       "      <th>TRAVELED_MILES_OBS</th>\n",
       "    </tr>\n",
       "  </thead>\n",
       "  <tbody>\n",
       "    <tr>\n",
       "      <th>0</th>\n",
       "      <td>2018</td>\n",
       "      <td>11</td>\n",
       "      <td>1</td>\n",
       "      <td>17031842400</td>\n",
       "      <td>17031842400</td>\n",
       "      <td>0.003258</td>\n",
       "      <td>0.0</td>\n",
       "      <td>0.000000</td>\n",
       "      <td>0.0</td>\n",
       "    </tr>\n",
       "    <tr>\n",
       "      <th>1</th>\n",
       "      <td>2018</td>\n",
       "      <td>11</td>\n",
       "      <td>2</td>\n",
       "      <td>17031842400</td>\n",
       "      <td>17031842400</td>\n",
       "      <td>0.011262</td>\n",
       "      <td>0.0</td>\n",
       "      <td>0.000000</td>\n",
       "      <td>0.0</td>\n",
       "    </tr>\n",
       "    <tr>\n",
       "      <th>2</th>\n",
       "      <td>2018</td>\n",
       "      <td>11</td>\n",
       "      <td>3</td>\n",
       "      <td>17031842400</td>\n",
       "      <td>17031842400</td>\n",
       "      <td>0.036897</td>\n",
       "      <td>0.0</td>\n",
       "      <td>0.045455</td>\n",
       "      <td>0.0</td>\n",
       "    </tr>\n",
       "    <tr>\n",
       "      <th>3</th>\n",
       "      <td>2018</td>\n",
       "      <td>11</td>\n",
       "      <td>4</td>\n",
       "      <td>17031842400</td>\n",
       "      <td>17031842400</td>\n",
       "      <td>0.007097</td>\n",
       "      <td>0.0</td>\n",
       "      <td>0.000000</td>\n",
       "      <td>0.0</td>\n",
       "    </tr>\n",
       "    <tr>\n",
       "      <th>4</th>\n",
       "      <td>2018</td>\n",
       "      <td>11</td>\n",
       "      <td>5</td>\n",
       "      <td>17031842400</td>\n",
       "      <td>17031842400</td>\n",
       "      <td>0.001570</td>\n",
       "      <td>0.0</td>\n",
       "      <td>0.000000</td>\n",
       "      <td>0.0</td>\n",
       "    </tr>\n",
       "  </tbody>\n",
       "</table>\n",
       "</div>"
      ],
      "text/plain": [
       "   YEAR  MONTH  TOD       ORIGIN  DESTINATION  PRED_TRIPS  DISTANCE  \\\n",
       "0  2018     11    1  17031842400  17031842400    0.003258       0.0   \n",
       "1  2018     11    2  17031842400  17031842400    0.011262       0.0   \n",
       "2  2018     11    3  17031842400  17031842400    0.036897       0.0   \n",
       "3  2018     11    4  17031842400  17031842400    0.007097       0.0   \n",
       "4  2018     11    5  17031842400  17031842400    0.001570       0.0   \n",
       "\n",
       "   OBS_TRIPS_AVG  TRAVELED_MILES_OBS  \n",
       "0       0.000000                 0.0  \n",
       "1       0.000000                 0.0  \n",
       "2       0.045455                 0.0  \n",
       "3       0.000000                 0.0  \n",
       "4       0.000000                 0.0  "
      ]
     },
     "execution_count": 478,
     "metadata": {},
     "output_type": "execute_result"
    }
   ],
   "source": [
    "output.head()"
   ]
  },
  {
   "cell_type": "code",
   "execution_count": 479,
   "metadata": {},
   "outputs": [
    {
     "data": {
      "text/plain": [
       "38880.176885529334"
      ]
     },
     "execution_count": 479,
     "metadata": {},
     "output_type": "execute_result"
    }
   ],
   "source": [
    "df3['PRED_TRIPS'].sum()"
   ]
  },
  {
   "cell_type": "code",
   "execution_count": 480,
   "metadata": {},
   "outputs": [
    {
     "data": {
      "text/plain": [
       "39092.96952757384"
      ]
     },
     "execution_count": 480,
     "metadata": {},
     "output_type": "execute_result"
    }
   ],
   "source": [
    "output['OBS_TRIPS_AVG'].sum()"
   ]
  },
  {
   "cell_type": "code",
   "execution_count": 60,
   "metadata": {},
   "outputs": [
    {
     "data": {
      "text/plain": [
       "51328080"
      ]
     },
     "execution_count": 60,
     "metadata": {},
     "output_type": "execute_result"
    }
   ],
   "source": [
    "len(output)"
   ]
  },
  {
   "cell_type": "code",
   "execution_count": 489,
   "metadata": {},
   "outputs": [
    {
     "data": {
      "text/plain": [
       "(0, 7)"
      ]
     },
     "execution_count": 489,
     "metadata": {},
     "output_type": "execute_result"
    },
    {
     "data": {
      "image/png": "[encoded data removed]",
      "text/plain": [
       "<Figure size 432x288 with 1 Axes>"
      ]
     },
     "metadata": {
      "needs_background": "light"
     },
     "output_type": "display_data"
    }
   ],
   "source": [
    "sns.scatterplot(y = output['PRED_TRIPS'], x = output['OBS_TRIPS_AVG'])\n",
    "\n",
    "plt.xlim(0,7)"
   ]
  },
  {
   "cell_type": "code",
   "execution_count": 490,
   "metadata": {},
   "outputs": [
    {
     "data": {
      "text/html": [
       "<div>\n",
       "<style scoped>\n",
       "    .dataframe tbody tr th:only-of-type {\n",
       "        vertical-align: middle;\n",
       "    }\n",
       "\n",
       "    .dataframe tbody tr th {\n",
       "        vertical-align: top;\n",
       "    }\n",
       "\n",
       "    .dataframe thead th {\n",
       "        text-align: right;\n",
       "    }\n",
       "</style>\n",
       "<table border=\"1\" class=\"dataframe\">\n",
       "  <thead>\n",
       "    <tr style=\"text-align: right;\">\n",
       "      <th></th>\n",
       "      <th>YEAR</th>\n",
       "      <th>MONTH</th>\n",
       "      <th>TOD</th>\n",
       "      <th>ORIGIN</th>\n",
       "      <th>DESTINATION</th>\n",
       "      <th>PRED_TRIPS</th>\n",
       "      <th>DISTANCE</th>\n",
       "      <th>OBS_TRIPS_AVG</th>\n",
       "      <th>TRAVELED_MILES_OBS</th>\n",
       "    </tr>\n",
       "  </thead>\n",
       "  <tbody>\n",
       "    <tr>\n",
       "      <th>0</th>\n",
       "      <td>2018</td>\n",
       "      <td>11</td>\n",
       "      <td>1</td>\n",
       "      <td>17031842400</td>\n",
       "      <td>17031842400</td>\n",
       "      <td>0.003258</td>\n",
       "      <td>0.0</td>\n",
       "      <td>0.000000</td>\n",
       "      <td>0.0</td>\n",
       "    </tr>\n",
       "    <tr>\n",
       "      <th>1</th>\n",
       "      <td>2018</td>\n",
       "      <td>11</td>\n",
       "      <td>2</td>\n",
       "      <td>17031842400</td>\n",
       "      <td>17031842400</td>\n",
       "      <td>0.011262</td>\n",
       "      <td>0.0</td>\n",
       "      <td>0.000000</td>\n",
       "      <td>0.0</td>\n",
       "    </tr>\n",
       "    <tr>\n",
       "      <th>2</th>\n",
       "      <td>2018</td>\n",
       "      <td>11</td>\n",
       "      <td>3</td>\n",
       "      <td>17031842400</td>\n",
       "      <td>17031842400</td>\n",
       "      <td>0.036897</td>\n",
       "      <td>0.0</td>\n",
       "      <td>0.045455</td>\n",
       "      <td>0.0</td>\n",
       "    </tr>\n",
       "    <tr>\n",
       "      <th>3</th>\n",
       "      <td>2018</td>\n",
       "      <td>11</td>\n",
       "      <td>4</td>\n",
       "      <td>17031842400</td>\n",
       "      <td>17031842400</td>\n",
       "      <td>0.007097</td>\n",
       "      <td>0.0</td>\n",
       "      <td>0.000000</td>\n",
       "      <td>0.0</td>\n",
       "    </tr>\n",
       "    <tr>\n",
       "      <th>4</th>\n",
       "      <td>2018</td>\n",
       "      <td>11</td>\n",
       "      <td>5</td>\n",
       "      <td>17031842400</td>\n",
       "      <td>17031842400</td>\n",
       "      <td>0.001570</td>\n",
       "      <td>0.0</td>\n",
       "      <td>0.000000</td>\n",
       "      <td>0.0</td>\n",
       "    </tr>\n",
       "  </tbody>\n",
       "</table>\n",
       "</div>"
      ],
      "text/plain": [
       "   YEAR  MONTH  TOD       ORIGIN  DESTINATION  PRED_TRIPS  DISTANCE  \\\n",
       "0  2018     11    1  17031842400  17031842400    0.003258       0.0   \n",
       "1  2018     11    2  17031842400  17031842400    0.011262       0.0   \n",
       "2  2018     11    3  17031842400  17031842400    0.036897       0.0   \n",
       "3  2018     11    4  17031842400  17031842400    0.007097       0.0   \n",
       "4  2018     11    5  17031842400  17031842400    0.001570       0.0   \n",
       "\n",
       "   OBS_TRIPS_AVG  TRAVELED_MILES_OBS  \n",
       "0       0.000000                 0.0  \n",
       "1       0.000000                 0.0  \n",
       "2       0.045455                 0.0  \n",
       "3       0.000000                 0.0  \n",
       "4       0.000000                 0.0  "
      ]
     },
     "execution_count": 490,
     "metadata": {},
     "output_type": "execute_result"
    }
   ],
   "source": [
    "output.head()"
   ]
  },
  {
   "cell_type": "code",
   "execution_count": 491,
   "metadata": {},
   "outputs": [
    {
     "data": {
      "text/plain": [
       "51328080"
      ]
     },
     "execution_count": 491,
     "metadata": {},
     "output_type": "execute_result"
    }
   ],
   "source": [
    "len(output)"
   ]
  },
  {
   "cell_type": "code",
   "execution_count": 3,
   "metadata": {},
   "outputs": [
    {
     "ename": "NameError",
     "evalue": "name 'output' is not defined",
     "output_type": "error",
     "traceback": [
      "\u001b[1;31m---------------------------------------------------------------------------\u001b[0m",
      "\u001b[1;31mNameError\u001b[0m                                 Traceback (most recent call last)",
      "\u001b[1;32m<ipython-input-3-a559f4581691>\u001b[0m in \u001b[0;36m<module>\u001b[1;34m\u001b[0m\n\u001b[1;32m----> 1\u001b[1;33m \u001b[0moutput\u001b[0m\u001b[1;33m.\u001b[0m\u001b[0mto_csv\u001b[0m\u001b[1;33m(\u001b[0m\u001b[1;34m'Trip_Distribution_Predicted_Trips.csv'\u001b[0m\u001b[1;33m)\u001b[0m\u001b[1;33m\u001b[0m\u001b[1;33m\u001b[0m\u001b[0m\n\u001b[0m",
      "\u001b[1;31mNameError\u001b[0m: name 'output' is not defined"
     ]
    }
   ],
   "source": []
  },
  {
   "cell_type": "code",
   "execution_count": 83,
   "metadata": {},
   "outputs": [],
   "source": [
    "output = pd.read_csv('Trip_Distribution_Predicted_Trips.csv')"
   ]
  },
  {
   "cell_type": "code",
   "execution_count": 84,
   "metadata": {},
   "outputs": [],
   "source": [
    "airport_tracts = [17031980000,17031980100]\n",
    "tourist_tracts = [17031081402,17031330100,17031841000]\n",
    "downtown_tracts = pd.read_csv('Downtown Zone Census Tracts.csv')\n",
    "downtown_tracts = list(downtown_tracts['geoid10'])"
   ]
  },
  {
   "cell_type": "code",
   "execution_count": 85,
   "metadata": {},
   "outputs": [
    {
     "data": {
      "text/plain": [
       "[17031081402, 17031330100, 17031841000]"
      ]
     },
     "execution_count": 85,
     "metadata": {},
     "output_type": "execute_result"
    }
   ],
   "source": [
    "tourist_tracts"
   ]
  },
  {
   "cell_type": "code",
   "execution_count": 86,
   "metadata": {},
   "outputs": [],
   "source": [
    "downtown_tracts.remove(17031081402)"
   ]
  },
  {
   "cell_type": "code",
   "execution_count": null,
   "metadata": {},
   "outputs": [],
   "source": []
  },
  {
   "cell_type": "code",
   "execution_count": 87,
   "metadata": {},
   "outputs": [
    {
     "data": {
      "text/plain": [
       "38880.17688552933"
      ]
     },
     "execution_count": 87,
     "metadata": {},
     "output_type": "execute_result"
    }
   ],
   "source": [
    "output['PRED_TRIPS'].sum()"
   ]
  },
  {
   "cell_type": "code",
   "execution_count": 88,
   "metadata": {},
   "outputs": [
    {
     "data": {
      "text/plain": [
       "39092.96952757384"
      ]
     },
     "execution_count": 88,
     "metadata": {},
     "output_type": "execute_result"
    }
   ],
   "source": [
    "output['OBS_TRIPS_AVG'].sum()"
   ]
  },
  {
   "cell_type": "code",
   "execution_count": 89,
   "metadata": {},
   "outputs": [
    {
     "data": {
      "text/plain": [
       "17029.987601829816"
      ]
     },
     "execution_count": 89,
     "metadata": {},
     "output_type": "execute_result"
    }
   ],
   "source": [
    "output[output['DESTINATION'].isin(downtown_tracts)]['PRED_TRIPS'].sum()"
   ]
  },
  {
   "cell_type": "code",
   "execution_count": 90,
   "metadata": {},
   "outputs": [
    {
     "data": {
      "text/plain": [
       "0.4380120916622719"
      ]
     },
     "execution_count": 90,
     "metadata": {},
     "output_type": "execute_result"
    }
   ],
   "source": [
    "output[output['DESTINATION'].isin(downtown_tracts)]['PRED_TRIPS'].sum()/output['PRED_TRIPS'].sum()"
   ]
  },
  {
   "cell_type": "code",
   "execution_count": 91,
   "metadata": {},
   "outputs": [
    {
     "data": {
      "text/plain": [
       "14010.51325992847"
      ]
     },
     "execution_count": 91,
     "metadata": {},
     "output_type": "execute_result"
    }
   ],
   "source": [
    "output[output['DESTINATION'].isin(downtown_tracts)]['OBS_TRIPS_AVG'].sum()"
   ]
  },
  {
   "cell_type": "code",
   "execution_count": 92,
   "metadata": {},
   "outputs": [
    {
     "data": {
      "text/plain": [
       "0.3583895884411209"
      ]
     },
     "execution_count": 92,
     "metadata": {},
     "output_type": "execute_result"
    }
   ],
   "source": [
    "output[output['DESTINATION'].isin(downtown_tracts)]['OBS_TRIPS_AVG'].sum()/output['OBS_TRIPS_AVG'].sum()"
   ]
  },
  {
   "cell_type": "code",
   "execution_count": 93,
   "metadata": {},
   "outputs": [
    {
     "data": {
      "text/plain": [
       "965.4788405346036"
      ]
     },
     "execution_count": 93,
     "metadata": {},
     "output_type": "execute_result"
    }
   ],
   "source": [
    "output[output['DESTINATION'].isin(tourist_tracts)]['PRED_TRIPS'].sum()"
   ]
  },
  {
   "cell_type": "code",
   "execution_count": 94,
   "metadata": {},
   "outputs": [
    {
     "data": {
      "text/plain": [
       "0.02483216173056923"
      ]
     },
     "execution_count": 94,
     "metadata": {},
     "output_type": "execute_result"
    }
   ],
   "source": [
    "output[output['DESTINATION'].isin(tourist_tracts)]['PRED_TRIPS'].sum()/output['PRED_TRIPS'].sum()"
   ]
  },
  {
   "cell_type": "code",
   "execution_count": 95,
   "metadata": {},
   "outputs": [
    {
     "data": {
      "text/plain": [
       "943.4780538302277"
      ]
     },
     "execution_count": 95,
     "metadata": {},
     "output_type": "execute_result"
    }
   ],
   "source": [
    "output[output['DESTINATION'].isin(tourist_tracts)]['OBS_TRIPS_AVG'].sum()"
   ]
  },
  {
   "cell_type": "code",
   "execution_count": 96,
   "metadata": {},
   "outputs": [
    {
     "data": {
      "text/plain": [
       "0.024134213011491868"
      ]
     },
     "execution_count": 96,
     "metadata": {},
     "output_type": "execute_result"
    }
   ],
   "source": [
    "output[output['DESTINATION'].isin(tourist_tracts)]['OBS_TRIPS_AVG'].sum()/output['OBS_TRIPS_AVG'].sum()"
   ]
  },
  {
   "cell_type": "code",
   "execution_count": 97,
   "metadata": {},
   "outputs": [
    {
     "data": {
      "text/plain": [
       "1996.6114577913622"
      ]
     },
     "execution_count": 97,
     "metadata": {},
     "output_type": "execute_result"
    }
   ],
   "source": [
    "output[output['DESTINATION'].isin(airport_tracts)]['PRED_TRIPS'].sum()"
   ]
  },
  {
   "cell_type": "code",
   "execution_count": 98,
   "metadata": {},
   "outputs": [
    {
     "data": {
      "text/plain": [
       "0.05135294172322744"
      ]
     },
     "execution_count": 98,
     "metadata": {},
     "output_type": "execute_result"
    }
   ],
   "source": [
    "output[output['DESTINATION'].isin(airport_tracts)]['PRED_TRIPS'].sum()/output['PRED_TRIPS'].sum()"
   ]
  },
  {
   "cell_type": "code",
   "execution_count": 99,
   "metadata": {},
   "outputs": [
    {
     "data": {
      "text/plain": [
       "1492.9465556182947"
      ]
     },
     "execution_count": 99,
     "metadata": {},
     "output_type": "execute_result"
    }
   ],
   "source": [
    "output[output['DESTINATION'].isin(airport_tracts)]['OBS_TRIPS_AVG'].sum()"
   ]
  },
  {
   "cell_type": "code",
   "execution_count": 100,
   "metadata": {},
   "outputs": [
    {
     "data": {
      "text/plain": [
       "0.03818964314197875"
      ]
     },
     "execution_count": 100,
     "metadata": {},
     "output_type": "execute_result"
    }
   ],
   "source": [
    "output[output['DESTINATION'].isin(airport_tracts)]['OBS_TRIPS_AVG'].sum()/output['OBS_TRIPS_AVG'].sum()"
   ]
  },
  {
   "cell_type": "code",
   "execution_count": 101,
   "metadata": {},
   "outputs": [
    {
     "data": {
      "text/plain": [
       "18888.098985373366"
      ]
     },
     "execution_count": 101,
     "metadata": {},
     "output_type": "execute_result"
    }
   ],
   "source": [
    "output[(~output['DESTINATION'].isin(airport_tracts+tourist_tracts+downtown_tracts))]['PRED_TRIPS'].sum()"
   ]
  },
  {
   "cell_type": "code",
   "execution_count": 102,
   "metadata": {},
   "outputs": [
    {
     "data": {
      "text/plain": [
       "0.48580280488392685"
      ]
     },
     "execution_count": 102,
     "metadata": {},
     "output_type": "execute_result"
    }
   ],
   "source": [
    "output[(~output['DESTINATION'].isin(airport_tracts+tourist_tracts+downtown_tracts))]['PRED_TRIPS'].sum()/output['PRED_TRIPS'].sum()"
   ]
  },
  {
   "cell_type": "code",
   "execution_count": 103,
   "metadata": {},
   "outputs": [
    {
     "data": {
      "text/plain": [
       "22646.031658196804"
      ]
     },
     "execution_count": 103,
     "metadata": {},
     "output_type": "execute_result"
    }
   ],
   "source": [
    "output[(~output['DESTINATION'].isin(airport_tracts+tourist_tracts+downtown_tracts))]['OBS_TRIPS_AVG'].sum()"
   ]
  },
  {
   "cell_type": "code",
   "execution_count": 104,
   "metadata": {},
   "outputs": [
    {
     "data": {
      "text/plain": [
       "0.5792865554054073"
      ]
     },
     "execution_count": 104,
     "metadata": {},
     "output_type": "execute_result"
    }
   ],
   "source": [
    "output[(~output['DESTINATION'].isin(airport_tracts+tourist_tracts+downtown_tracts))]['OBS_TRIPS_AVG'].sum()/output['OBS_TRIPS_AVG'].sum()"
   ]
  },
  {
   "cell_type": "code",
   "execution_count": 105,
   "metadata": {},
   "outputs": [],
   "source": [
    "tracts = gp.read_file('geo_export_558aad9f-98d8-4dd5-a6b1-c1730155d596.shp')"
   ]
  },
  {
   "cell_type": "code",
   "execution_count": 106,
   "metadata": {},
   "outputs": [],
   "source": [
    "output['GEOID10_STR'] = output.DESTINATION.astype(str)"
   ]
  },
  {
   "cell_type": "code",
   "execution_count": null,
   "metadata": {},
   "outputs": [],
   "source": []
  },
  {
   "cell_type": "code",
   "execution_count": 111,
   "metadata": {},
   "outputs": [],
   "source": [
    "agg = {'PRED_TRIPS':'sum','GEOID10_STR':'first','OBS_TRIPS_AVG':'sum'}"
   ]
  },
  {
   "cell_type": "code",
   "execution_count": 112,
   "metadata": {},
   "outputs": [],
   "source": [
    "output2 =output[['DESTINATION','PRED_TRIPS','GEOID10_STR','OBS_TRIPS_AVG']].groupby(by = ['DESTINATION'], as_index = False).agg(agg)"
   ]
  },
  {
   "cell_type": "code",
   "execution_count": 113,
   "metadata": {},
   "outputs": [],
   "source": [
    "output2['DIFF'] = output2['PRED_TRIPS'] - output2['OBS_TRIPS_AVG']"
   ]
  },
  {
   "cell_type": "code",
   "execution_count": 114,
   "metadata": {},
   "outputs": [
    {
     "data": {
      "text/plain": [
       "-346.37095761165915"
      ]
     },
     "execution_count": 114,
     "metadata": {},
     "output_type": "execute_result"
    }
   ],
   "source": [
    "output2['DIFF'].min()"
   ]
  },
  {
   "cell_type": "code",
   "execution_count": 115,
   "metadata": {},
   "outputs": [
    {
     "data": {
      "text/plain": [
       "-0.2656587291442134"
      ]
     },
     "execution_count": 115,
     "metadata": {},
     "output_type": "execute_result"
    }
   ],
   "source": [
    "output2['DIFF'].mean()"
   ]
  },
  {
   "cell_type": "code",
   "execution_count": 116,
   "metadata": {},
   "outputs": [
    {
     "data": {
      "text/plain": [
       "460.49412988018156"
      ]
     },
     "execution_count": 116,
     "metadata": {},
     "output_type": "execute_result"
    }
   ],
   "source": [
    "output2['DIFF'].max()"
   ]
  },
  {
   "cell_type": "code",
   "execution_count": 117,
   "metadata": {},
   "outputs": [],
   "source": [
    "tracts['GEOID10_STR'] = tracts.geoid10.astype(str)"
   ]
  },
  {
   "cell_type": "code",
   "execution_count": 69,
   "metadata": {},
   "outputs": [],
   "source": [
    "import folium\n",
    "\n",
    "# Add the color for the chloropleth:\n",
    "m = folium.Map([41.8781, -87.6298], zoom_start=11)\n",
    "m.choropleth(\n",
    " geo_data=tracts,\n",
    " name= 'Dropoffs Diff',\n",
    " data=output2,\n",
    " columns = ['GEOID10_STR', 'DIFF'],\n",
    " key_on='feature.properties.geoid10',\n",
    " fill_color='RdYlGn',\n",
    " fill_opacity=0.6,\n",
    " line_opacity=0.2,\n",
    " #bins = bins,\n",
    " legend_name= 'Dropoff Totals Diff',\n",
    " highlight = True\n",
    ")\n",
    "\n",
    "#feature_group = folium.FeatureGroup(name='Census Tract Centroids', show = False)\n",
    "\n",
    "#for tract2 in centroids.GEOID:\n",
    " #   row = centroids[centroids['GEOID'] == tract2]\n",
    "  #  folium.CircleMarker([row['Y'], row['X']], popup = str(int(row['GEOID'].values[0])), radius = 1, fill = True, fill_color = 'grey', color = 'grey').add_to(feature_group)\n",
    "\n",
    "#m.add_child(feature_group)\n",
    "\n",
    "#folium.LayerControl().add_to(m)\n",
    "\n",
    "m.save('Trip_Distribution_Diff_Map.html')\n"
   ]
  },
  {
   "cell_type": "code",
   "execution_count": 71,
   "metadata": {},
   "outputs": [],
   "source": [
    "output2['P_DIFF'] = np.where(output2['OBS_TRIPS_AVG'] == 0, 0, output2['DIFF']/output2['OBS_TRIPS_AVG'])"
   ]
  },
  {
   "cell_type": "code",
   "execution_count": 82,
   "metadata": {},
   "outputs": [
    {
     "data": {
      "text/html": [
       "<div>\n",
       "<style scoped>\n",
       "    .dataframe tbody tr th:only-of-type {\n",
       "        vertical-align: middle;\n",
       "    }\n",
       "\n",
       "    .dataframe tbody tr th {\n",
       "        vertical-align: top;\n",
       "    }\n",
       "\n",
       "    .dataframe thead th {\n",
       "        text-align: right;\n",
       "    }\n",
       "</style>\n",
       "<table border=\"1\" class=\"dataframe\">\n",
       "  <thead>\n",
       "    <tr style=\"text-align: right;\">\n",
       "      <th></th>\n",
       "      <th>DESTINATION</th>\n",
       "      <th>PRED_TRIPS</th>\n",
       "      <th>GEOID10_STR</th>\n",
       "      <th>OBS_TRIPS_AVG</th>\n",
       "      <th>DIFF</th>\n",
       "      <th>P_DIFF</th>\n",
       "    </tr>\n",
       "  </thead>\n",
       "  <tbody>\n",
       "    <tr>\n",
       "      <th>37</th>\n",
       "      <td>17031030702</td>\n",
       "      <td>31.188360</td>\n",
       "      <td>17031030702</td>\n",
       "      <td>3.234820</td>\n",
       "      <td>27.953540</td>\n",
       "      <td>8.641451</td>\n",
       "    </tr>\n",
       "    <tr>\n",
       "      <th>143</th>\n",
       "      <td>17031090100</td>\n",
       "      <td>4.368767</td>\n",
       "      <td>17031090100</td>\n",
       "      <td>0.470723</td>\n",
       "      <td>3.898044</td>\n",
       "      <td>8.280976</td>\n",
       "    </tr>\n",
       "    <tr>\n",
       "      <th>145</th>\n",
       "      <td>17031090300</td>\n",
       "      <td>9.122039</td>\n",
       "      <td>17031090300</td>\n",
       "      <td>0.329814</td>\n",
       "      <td>8.792225</td>\n",
       "      <td>26.658160</td>\n",
       "    </tr>\n",
       "    <tr>\n",
       "      <th>146</th>\n",
       "      <td>17031100100</td>\n",
       "      <td>28.214774</td>\n",
       "      <td>17031100100</td>\n",
       "      <td>4.057133</td>\n",
       "      <td>24.157641</td>\n",
       "      <td>5.954362</td>\n",
       "    </tr>\n",
       "    <tr>\n",
       "      <th>147</th>\n",
       "      <td>17031100200</td>\n",
       "      <td>28.404281</td>\n",
       "      <td>17031100200</td>\n",
       "      <td>3.983060</td>\n",
       "      <td>24.421221</td>\n",
       "      <td>6.131270</td>\n",
       "    </tr>\n",
       "    <tr>\n",
       "      <th>...</th>\n",
       "      <td>...</td>\n",
       "      <td>...</td>\n",
       "      <td>...</td>\n",
       "      <td>...</td>\n",
       "      <td>...</td>\n",
       "      <td>...</td>\n",
       "    </tr>\n",
       "    <tr>\n",
       "      <th>742</th>\n",
       "      <td>17031836900</td>\n",
       "      <td>7.191344</td>\n",
       "      <td>17031836900</td>\n",
       "      <td>1.103858</td>\n",
       "      <td>6.087486</td>\n",
       "      <td>5.514734</td>\n",
       "    </tr>\n",
       "    <tr>\n",
       "      <th>746</th>\n",
       "      <td>17031837400</td>\n",
       "      <td>91.210699</td>\n",
       "      <td>17031837400</td>\n",
       "      <td>6.470224</td>\n",
       "      <td>84.740475</td>\n",
       "      <td>13.096993</td>\n",
       "    </tr>\n",
       "    <tr>\n",
       "      <th>769</th>\n",
       "      <td>17031840800</td>\n",
       "      <td>8.770345</td>\n",
       "      <td>17031840800</td>\n",
       "      <td>0.873697</td>\n",
       "      <td>7.896649</td>\n",
       "      <td>9.038205</td>\n",
       "    </tr>\n",
       "    <tr>\n",
       "      <th>776</th>\n",
       "      <td>17031841600</td>\n",
       "      <td>2.936812</td>\n",
       "      <td>17031841600</td>\n",
       "      <td>0.427649</td>\n",
       "      <td>2.509163</td>\n",
       "      <td>5.867341</td>\n",
       "    </tr>\n",
       "    <tr>\n",
       "      <th>777</th>\n",
       "      <td>17031841700</td>\n",
       "      <td>6.030733</td>\n",
       "      <td>17031841700</td>\n",
       "      <td>0.872285</td>\n",
       "      <td>5.158448</td>\n",
       "      <td>5.913719</td>\n",
       "    </tr>\n",
       "  </tbody>\n",
       "</table>\n",
       "<p>78 rows × 6 columns</p>\n",
       "</div>"
      ],
      "text/plain": [
       "     DESTINATION  PRED_TRIPS  GEOID10_STR  OBS_TRIPS_AVG       DIFF     P_DIFF\n",
       "37   17031030702   31.188360  17031030702       3.234820  27.953540   8.641451\n",
       "143  17031090100    4.368767  17031090100       0.470723   3.898044   8.280976\n",
       "145  17031090300    9.122039  17031090300       0.329814   8.792225  26.658160\n",
       "146  17031100100   28.214774  17031100100       4.057133  24.157641   5.954362\n",
       "147  17031100200   28.404281  17031100200       3.983060  24.421221   6.131270\n",
       "..           ...         ...          ...            ...        ...        ...\n",
       "742  17031836900    7.191344  17031836900       1.103858   6.087486   5.514734\n",
       "746  17031837400   91.210699  17031837400       6.470224  84.740475  13.096993\n",
       "769  17031840800    8.770345  17031840800       0.873697   7.896649   9.038205\n",
       "776  17031841600    2.936812  17031841600       0.427649   2.509163   5.867341\n",
       "777  17031841700    6.030733  17031841700       0.872285   5.158448   5.913719\n",
       "\n",
       "[78 rows x 6 columns]"
      ]
     },
     "execution_count": 82,
     "metadata": {},
     "output_type": "execute_result"
    }
   ],
   "source": [
    "output2[output2['P_DIFF'] > 5]"
   ]
  },
  {
   "cell_type": "code",
   "execution_count": 73,
   "metadata": {},
   "outputs": [
    {
     "data": {
      "text/plain": [
       "-0.930883468080833"
      ]
     },
     "execution_count": 73,
     "metadata": {},
     "output_type": "execute_result"
    }
   ],
   "source": [
    "output2.P_DIFF.min()"
   ]
  },
  {
   "cell_type": "code",
   "execution_count": 74,
   "metadata": {},
   "outputs": [
    {
     "data": {
      "text/plain": [
       "84.82794274055904"
      ]
     },
     "execution_count": 74,
     "metadata": {},
     "output_type": "execute_result"
    }
   ],
   "source": [
    "output2.P_DIFF.max()"
   ]
  },
  {
   "cell_type": "code",
   "execution_count": 75,
   "metadata": {},
   "outputs": [
    {
     "data": {
      "text/plain": [
       "1.608265847165933"
      ]
     },
     "execution_count": 75,
     "metadata": {},
     "output_type": "execute_result"
    }
   ],
   "source": [
    "output2.P_DIFF.mean()"
   ]
  },
  {
   "cell_type": "code",
   "execution_count": 78,
   "metadata": {},
   "outputs": [],
   "source": [
    "\n",
    "bins = [-1,-0.1,0.1,1,85]\n",
    "# Add the color for the chloropleth:\n",
    "m = folium.Map([41.8781, -87.6298], zoom_start=11)\n",
    "m.choropleth(\n",
    " geo_data=tracts,\n",
    " name= 'Dropoffs Percent Diff',\n",
    " data=output2,\n",
    " columns = ['GEOID10_STR', 'P_DIFF'],\n",
    " key_on='feature.properties.geoid10',\n",
    " fill_color='RdYlGn',\n",
    " fill_opacity=0.6,\n",
    " line_opacity=0.2,\n",
    " bins = bins,\n",
    " legend_name= 'Dropoff Percent Diff',\n",
    " highlight = True\n",
    ")\n",
    "\n",
    "#feature_group = folium.FeatureGroup(name='Census Tract Centroids', show = False)\n",
    "\n",
    "#for tract2 in centroids.GEOID:\n",
    " #   row = centroids[centroids['GEOID'] == tract2]\n",
    "  #  folium.CircleMarker([row['Y'], row['X']], popup = str(int(row['GEOID'].values[0])), radius = 1, fill = True, fill_color = 'grey', color = 'grey').add_to(feature_group)\n",
    "\n",
    "#m.add_child(feature_group)\n",
    "\n",
    "#folium.LayerControl().add_to(m)\n",
    "\n",
    "m.save('Trip_Distribution_Percent_Diff_Map.html')\n"
   ]
  },
  {
   "cell_type": "code",
   "execution_count": null,
   "metadata": {},
   "outputs": [],
   "source": []
  }
 ],
 "metadata": {
  "kernelspec": {
   "display_name": "Python 3",
   "language": "python",
   "name": "python3"
  },
  "language_info": {
   "codemirror_mode": {
    "name": "ipython",
    "version": 3
   },
   "file_extension": ".py",
   "mimetype": "text/x-python",
   "name": "python",
   "nbconvert_exporter": "python",
   "pygments_lexer": "ipython3",
   "version": "3.7.6"
  }
 },
 "nbformat": 4,
 "nbformat_minor": 4
}
