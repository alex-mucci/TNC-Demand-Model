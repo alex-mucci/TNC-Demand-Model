{
 "cells": [
  {
   "cell_type": "code",
   "execution_count": 32,
   "metadata": {},
   "outputs": [],
   "source": [
    "import pandas as pd\n",
    "import numpy as np"
   ]
  },
  {
   "cell_type": "code",
   "execution_count": 2,
   "metadata": {},
   "outputs": [
    {
     "ename": "FileNotFoundError",
     "evalue": "[Errno 2] No such file or directory: 'C:/Workspace/TNC-Demand-Model/Outputs/Empty Matricies/Empty_Chicago_Matrix_2018_11_1.csv'",
     "output_type": "error",
     "traceback": [
      "\u001b[1;31m---------------------------------------------------------------------------\u001b[0m",
      "\u001b[1;31mFileNotFoundError\u001b[0m                         Traceback (most recent call last)",
      "\u001b[1;32m<ipython-input-2-f6e2acb482cb>\u001b[0m in \u001b[0;36m<module>\u001b[1;34m\u001b[0m\n\u001b[1;32m----> 1\u001b[1;33m \u001b[0mdf\u001b[0m \u001b[1;33m=\u001b[0m \u001b[0mpd\u001b[0m\u001b[1;33m.\u001b[0m\u001b[0mread_csv\u001b[0m\u001b[1;33m(\u001b[0m\u001b[1;34m'C:/Workspace/TNC-Demand-Model/Outputs/Empty Matricies/Empty_Chicago_Matrix_2018_11_1.csv'\u001b[0m\u001b[1;33m,\u001b[0m\u001b[0mindex_col\u001b[0m \u001b[1;33m=\u001b[0m \u001b[1;36m0\u001b[0m\u001b[1;33m)\u001b[0m\u001b[1;33m\u001b[0m\u001b[1;33m\u001b[0m\u001b[0m\n\u001b[0m",
      "\u001b[1;32m~\\Anaconda3\\lib\\site-packages\\pandas\\io\\parsers.py\u001b[0m in \u001b[0;36mread_csv\u001b[1;34m(filepath_or_buffer, sep, delimiter, header, names, index_col, usecols, squeeze, prefix, mangle_dupe_cols, dtype, engine, converters, true_values, false_values, skipinitialspace, skiprows, skipfooter, nrows, na_values, keep_default_na, na_filter, verbose, skip_blank_lines, parse_dates, infer_datetime_format, keep_date_col, date_parser, dayfirst, cache_dates, iterator, chunksize, compression, thousands, decimal, lineterminator, quotechar, quoting, doublequote, escapechar, comment, encoding, dialect, error_bad_lines, warn_bad_lines, delim_whitespace, low_memory, memory_map, float_precision)\u001b[0m\n\u001b[0;32m    684\u001b[0m     )\n\u001b[0;32m    685\u001b[0m \u001b[1;33m\u001b[0m\u001b[0m\n\u001b[1;32m--> 686\u001b[1;33m     \u001b[1;32mreturn\u001b[0m \u001b[0m_read\u001b[0m\u001b[1;33m(\u001b[0m\u001b[0mfilepath_or_buffer\u001b[0m\u001b[1;33m,\u001b[0m \u001b[0mkwds\u001b[0m\u001b[1;33m)\u001b[0m\u001b[1;33m\u001b[0m\u001b[1;33m\u001b[0m\u001b[0m\n\u001b[0m\u001b[0;32m    687\u001b[0m \u001b[1;33m\u001b[0m\u001b[0m\n\u001b[0;32m    688\u001b[0m \u001b[1;33m\u001b[0m\u001b[0m\n",
      "\u001b[1;32m~\\Anaconda3\\lib\\site-packages\\pandas\\io\\parsers.py\u001b[0m in \u001b[0;36m_read\u001b[1;34m(filepath_or_buffer, kwds)\u001b[0m\n\u001b[0;32m    450\u001b[0m \u001b[1;33m\u001b[0m\u001b[0m\n\u001b[0;32m    451\u001b[0m     \u001b[1;31m# Create the parser.\u001b[0m\u001b[1;33m\u001b[0m\u001b[1;33m\u001b[0m\u001b[1;33m\u001b[0m\u001b[0m\n\u001b[1;32m--> 452\u001b[1;33m     \u001b[0mparser\u001b[0m \u001b[1;33m=\u001b[0m \u001b[0mTextFileReader\u001b[0m\u001b[1;33m(\u001b[0m\u001b[0mfp_or_buf\u001b[0m\u001b[1;33m,\u001b[0m \u001b[1;33m**\u001b[0m\u001b[0mkwds\u001b[0m\u001b[1;33m)\u001b[0m\u001b[1;33m\u001b[0m\u001b[1;33m\u001b[0m\u001b[0m\n\u001b[0m\u001b[0;32m    453\u001b[0m \u001b[1;33m\u001b[0m\u001b[0m\n\u001b[0;32m    454\u001b[0m     \u001b[1;32mif\u001b[0m \u001b[0mchunksize\u001b[0m \u001b[1;32mor\u001b[0m \u001b[0miterator\u001b[0m\u001b[1;33m:\u001b[0m\u001b[1;33m\u001b[0m\u001b[1;33m\u001b[0m\u001b[0m\n",
      "\u001b[1;32m~\\Anaconda3\\lib\\site-packages\\pandas\\io\\parsers.py\u001b[0m in \u001b[0;36m__init__\u001b[1;34m(self, f, engine, **kwds)\u001b[0m\n\u001b[0;32m    934\u001b[0m             \u001b[0mself\u001b[0m\u001b[1;33m.\u001b[0m\u001b[0moptions\u001b[0m\u001b[1;33m[\u001b[0m\u001b[1;34m\"has_index_names\"\u001b[0m\u001b[1;33m]\u001b[0m \u001b[1;33m=\u001b[0m \u001b[0mkwds\u001b[0m\u001b[1;33m[\u001b[0m\u001b[1;34m\"has_index_names\"\u001b[0m\u001b[1;33m]\u001b[0m\u001b[1;33m\u001b[0m\u001b[1;33m\u001b[0m\u001b[0m\n\u001b[0;32m    935\u001b[0m \u001b[1;33m\u001b[0m\u001b[0m\n\u001b[1;32m--> 936\u001b[1;33m         \u001b[0mself\u001b[0m\u001b[1;33m.\u001b[0m\u001b[0m_make_engine\u001b[0m\u001b[1;33m(\u001b[0m\u001b[0mself\u001b[0m\u001b[1;33m.\u001b[0m\u001b[0mengine\u001b[0m\u001b[1;33m)\u001b[0m\u001b[1;33m\u001b[0m\u001b[1;33m\u001b[0m\u001b[0m\n\u001b[0m\u001b[0;32m    937\u001b[0m \u001b[1;33m\u001b[0m\u001b[0m\n\u001b[0;32m    938\u001b[0m     \u001b[1;32mdef\u001b[0m \u001b[0mclose\u001b[0m\u001b[1;33m(\u001b[0m\u001b[0mself\u001b[0m\u001b[1;33m)\u001b[0m\u001b[1;33m:\u001b[0m\u001b[1;33m\u001b[0m\u001b[1;33m\u001b[0m\u001b[0m\n",
      "\u001b[1;32m~\\Anaconda3\\lib\\site-packages\\pandas\\io\\parsers.py\u001b[0m in \u001b[0;36m_make_engine\u001b[1;34m(self, engine)\u001b[0m\n\u001b[0;32m   1166\u001b[0m     \u001b[1;32mdef\u001b[0m \u001b[0m_make_engine\u001b[0m\u001b[1;33m(\u001b[0m\u001b[0mself\u001b[0m\u001b[1;33m,\u001b[0m \u001b[0mengine\u001b[0m\u001b[1;33m=\u001b[0m\u001b[1;34m\"c\"\u001b[0m\u001b[1;33m)\u001b[0m\u001b[1;33m:\u001b[0m\u001b[1;33m\u001b[0m\u001b[1;33m\u001b[0m\u001b[0m\n\u001b[0;32m   1167\u001b[0m         \u001b[1;32mif\u001b[0m \u001b[0mengine\u001b[0m \u001b[1;33m==\u001b[0m \u001b[1;34m\"c\"\u001b[0m\u001b[1;33m:\u001b[0m\u001b[1;33m\u001b[0m\u001b[1;33m\u001b[0m\u001b[0m\n\u001b[1;32m-> 1168\u001b[1;33m             \u001b[0mself\u001b[0m\u001b[1;33m.\u001b[0m\u001b[0m_engine\u001b[0m \u001b[1;33m=\u001b[0m \u001b[0mCParserWrapper\u001b[0m\u001b[1;33m(\u001b[0m\u001b[0mself\u001b[0m\u001b[1;33m.\u001b[0m\u001b[0mf\u001b[0m\u001b[1;33m,\u001b[0m \u001b[1;33m**\u001b[0m\u001b[0mself\u001b[0m\u001b[1;33m.\u001b[0m\u001b[0moptions\u001b[0m\u001b[1;33m)\u001b[0m\u001b[1;33m\u001b[0m\u001b[1;33m\u001b[0m\u001b[0m\n\u001b[0m\u001b[0;32m   1169\u001b[0m         \u001b[1;32melse\u001b[0m\u001b[1;33m:\u001b[0m\u001b[1;33m\u001b[0m\u001b[1;33m\u001b[0m\u001b[0m\n\u001b[0;32m   1170\u001b[0m             \u001b[1;32mif\u001b[0m \u001b[0mengine\u001b[0m \u001b[1;33m==\u001b[0m \u001b[1;34m\"python\"\u001b[0m\u001b[1;33m:\u001b[0m\u001b[1;33m\u001b[0m\u001b[1;33m\u001b[0m\u001b[0m\n",
      "\u001b[1;32m~\\Anaconda3\\lib\\site-packages\\pandas\\io\\parsers.py\u001b[0m in \u001b[0;36m__init__\u001b[1;34m(self, src, **kwds)\u001b[0m\n\u001b[0;32m   1996\u001b[0m         \u001b[0mkwds\u001b[0m\u001b[1;33m[\u001b[0m\u001b[1;34m\"usecols\"\u001b[0m\u001b[1;33m]\u001b[0m \u001b[1;33m=\u001b[0m \u001b[0mself\u001b[0m\u001b[1;33m.\u001b[0m\u001b[0musecols\u001b[0m\u001b[1;33m\u001b[0m\u001b[1;33m\u001b[0m\u001b[0m\n\u001b[0;32m   1997\u001b[0m \u001b[1;33m\u001b[0m\u001b[0m\n\u001b[1;32m-> 1998\u001b[1;33m         \u001b[0mself\u001b[0m\u001b[1;33m.\u001b[0m\u001b[0m_reader\u001b[0m \u001b[1;33m=\u001b[0m \u001b[0mparsers\u001b[0m\u001b[1;33m.\u001b[0m\u001b[0mTextReader\u001b[0m\u001b[1;33m(\u001b[0m\u001b[0msrc\u001b[0m\u001b[1;33m,\u001b[0m \u001b[1;33m**\u001b[0m\u001b[0mkwds\u001b[0m\u001b[1;33m)\u001b[0m\u001b[1;33m\u001b[0m\u001b[1;33m\u001b[0m\u001b[0m\n\u001b[0m\u001b[0;32m   1999\u001b[0m         \u001b[0mself\u001b[0m\u001b[1;33m.\u001b[0m\u001b[0munnamed_cols\u001b[0m \u001b[1;33m=\u001b[0m \u001b[0mself\u001b[0m\u001b[1;33m.\u001b[0m\u001b[0m_reader\u001b[0m\u001b[1;33m.\u001b[0m\u001b[0munnamed_cols\u001b[0m\u001b[1;33m\u001b[0m\u001b[1;33m\u001b[0m\u001b[0m\n\u001b[0;32m   2000\u001b[0m \u001b[1;33m\u001b[0m\u001b[0m\n",
      "\u001b[1;32mpandas\\_libs\\parsers.pyx\u001b[0m in \u001b[0;36mpandas._libs.parsers.TextReader.__cinit__\u001b[1;34m()\u001b[0m\n",
      "\u001b[1;32mpandas\\_libs\\parsers.pyx\u001b[0m in \u001b[0;36mpandas._libs.parsers.TextReader._setup_parser_source\u001b[1;34m()\u001b[0m\n",
      "\u001b[1;31mFileNotFoundError\u001b[0m: [Errno 2] No such file or directory: 'C:/Workspace/TNC-Demand-Model/Outputs/Empty Matricies/Empty_Chicago_Matrix_2018_11_1.csv'"
     ]
    }
   ],
   "source": [
    "df = pd.read_csv('C:/Workspace/TNC-Demand-Model/Outputs/Empty Matricies/Empty_Chicago_Matrix_2018_11_1.csv',index_col = 0)"
   ]
  },
  {
   "cell_type": "code",
   "execution_count": 3,
   "metadata": {},
   "outputs": [
    {
     "ename": "NameError",
     "evalue": "name 'df' is not defined",
     "output_type": "error",
     "traceback": [
      "\u001b[1;31m---------------------------------------------------------------------------\u001b[0m",
      "\u001b[1;31mNameError\u001b[0m                                 Traceback (most recent call last)",
      "\u001b[1;32m<ipython-input-3-9e112543b788>\u001b[0m in \u001b[0;36m<module>\u001b[1;34m\u001b[0m\n\u001b[1;32m----> 1\u001b[1;33m \u001b[0mlen\u001b[0m\u001b[1;33m(\u001b[0m\u001b[0mdf\u001b[0m\u001b[1;33m)\u001b[0m\u001b[1;33m\u001b[0m\u001b[1;33m\u001b[0m\u001b[0m\n\u001b[0m",
      "\u001b[1;31mNameError\u001b[0m: name 'df' is not defined"
     ]
    }
   ],
   "source": [
    "len(df)"
   ]
  },
  {
   "cell_type": "code",
   "execution_count": 4,
   "metadata": {},
   "outputs": [
    {
     "ename": "NameError",
     "evalue": "name 'df' is not defined",
     "output_type": "error",
     "traceback": [
      "\u001b[1;31m---------------------------------------------------------------------------\u001b[0m",
      "\u001b[1;31mNameError\u001b[0m                                 Traceback (most recent call last)",
      "\u001b[1;32m<ipython-input-4-c42a15b2c7cf>\u001b[0m in \u001b[0;36m<module>\u001b[1;34m\u001b[0m\n\u001b[1;32m----> 1\u001b[1;33m \u001b[0mdf\u001b[0m\u001b[1;33m.\u001b[0m\u001b[0mhead\u001b[0m\u001b[1;33m(\u001b[0m\u001b[1;33m)\u001b[0m\u001b[1;33m\u001b[0m\u001b[1;33m\u001b[0m\u001b[0m\n\u001b[0m",
      "\u001b[1;31mNameError\u001b[0m: name 'df' is not defined"
     ]
    }
   ],
   "source": [
    "df.head()"
   ]
  },
  {
   "cell_type": "code",
   "execution_count": 5,
   "metadata": {},
   "outputs": [],
   "source": [
    "otp = pd.read_csv('C:/Workspace/TNC-Demand-Model/Outputs/OTP Travel Times/Car/20190605/traveltime_matrix_0-29.csv')"
   ]
  },
  {
   "cell_type": "code",
   "execution_count": 6,
   "metadata": {},
   "outputs": [],
   "source": [
    "otp['ORIGIN'] = otp.origin.astype(float)\n",
    "otp['DESTINATION'] = otp.destination.astype(float)"
   ]
  },
  {
   "cell_type": "code",
   "execution_count": 7,
   "metadata": {},
   "outputs": [],
   "source": [
    "dist = pd.read_csv('C:/Workspace/TNC-Demand-Model/Outputs/Distance_Matrix.csv', index_col = 0)"
   ]
  },
  {
   "cell_type": "code",
   "execution_count": 8,
   "metadata": {},
   "outputs": [
    {
     "data": {
      "text/html": [
       "<div>\n",
       "<style scoped>\n",
       "    .dataframe tbody tr th:only-of-type {\n",
       "        vertical-align: middle;\n",
       "    }\n",
       "\n",
       "    .dataframe tbody tr th {\n",
       "        vertical-align: top;\n",
       "    }\n",
       "\n",
       "    .dataframe thead th {\n",
       "        text-align: right;\n",
       "    }\n",
       "</style>\n",
       "<table border=\"1\" class=\"dataframe\">\n",
       "  <thead>\n",
       "    <tr style=\"text-align: right;\">\n",
       "      <th></th>\n",
       "      <th>DESTINATION</th>\n",
       "      <th>DISTANCE</th>\n",
       "    </tr>\n",
       "    <tr>\n",
       "      <th>ORIGIN</th>\n",
       "      <th></th>\n",
       "      <th></th>\n",
       "    </tr>\n",
       "  </thead>\n",
       "  <tbody>\n",
       "    <tr>\n",
       "      <th>17031842400</th>\n",
       "      <td>17031842400</td>\n",
       "      <td>0.000000</td>\n",
       "    </tr>\n",
       "    <tr>\n",
       "      <th>17031842400</th>\n",
       "      <td>17031840300</td>\n",
       "      <td>6.739847</td>\n",
       "    </tr>\n",
       "    <tr>\n",
       "      <th>17031842400</th>\n",
       "      <td>17031841100</td>\n",
       "      <td>7.494828</td>\n",
       "    </tr>\n",
       "    <tr>\n",
       "      <th>17031842400</th>\n",
       "      <td>17031841200</td>\n",
       "      <td>8.275904</td>\n",
       "    </tr>\n",
       "    <tr>\n",
       "      <th>17031842400</th>\n",
       "      <td>17031839000</td>\n",
       "      <td>8.873522</td>\n",
       "    </tr>\n",
       "  </tbody>\n",
       "</table>\n",
       "</div>"
      ],
      "text/plain": [
       "             DESTINATION  DISTANCE\n",
       "ORIGIN                            \n",
       "17031842400  17031842400  0.000000\n",
       "17031842400  17031840300  6.739847\n",
       "17031842400  17031841100  7.494828\n",
       "17031842400  17031841200  8.275904\n",
       "17031842400  17031839000  8.873522"
      ]
     },
     "execution_count": 8,
     "metadata": {},
     "output_type": "execute_result"
    }
   ],
   "source": [
    "dist.head()"
   ]
  },
  {
   "cell_type": "code",
   "execution_count": 9,
   "metadata": {},
   "outputs": [],
   "source": [
    "acs = pd.read_csv('C:/Workspace/TNC-Demand-Model/Outputs/Chicago_ACS_Data.csv',index_col = 0)"
   ]
  },
  {
   "cell_type": "code",
   "execution_count": 10,
   "metadata": {},
   "outputs": [
    {
     "data": {
      "text/html": [
       "<div>\n",
       "<style scoped>\n",
       "    .dataframe tbody tr th:only-of-type {\n",
       "        vertical-align: middle;\n",
       "    }\n",
       "\n",
       "    .dataframe tbody tr th {\n",
       "        vertical-align: top;\n",
       "    }\n",
       "\n",
       "    .dataframe thead th {\n",
       "        text-align: right;\n",
       "    }\n",
       "</style>\n",
       "<table border=\"1\" class=\"dataframe\">\n",
       "  <thead>\n",
       "    <tr style=\"text-align: right;\">\n",
       "      <th></th>\n",
       "      <th>YEAR</th>\n",
       "      <th>MONTH</th>\n",
       "      <th>TOD</th>\n",
       "      <th>CENSUS_TRACT</th>\n",
       "      <th>TOTAL_POP</th>\n",
       "      <th>TOTAL_MALE</th>\n",
       "      <th>TOTAL_FEMALE</th>\n",
       "      <th>AGE_5U</th>\n",
       "      <th>AGE_5_9</th>\n",
       "      <th>AGE_10_14</th>\n",
       "      <th>...</th>\n",
       "      <th>TOTAL_HHLDS_100K_150K</th>\n",
       "      <th>TOTAL_HHLDS_150K_200K</th>\n",
       "      <th>TOTAL_HHLDS_200KP</th>\n",
       "      <th>HHLDS_MEDIAN_INCOME</th>\n",
       "      <th>HHLDS_MEAN_INCOME</th>\n",
       "      <th>HHLDS_0_VEH</th>\n",
       "      <th>HHLDS_1_VEH</th>\n",
       "      <th>HHLDS_2_VEH</th>\n",
       "      <th>HHLDS_3P_VEH</th>\n",
       "      <th>AVG_VEH_PER_HHLD</th>\n",
       "    </tr>\n",
       "  </thead>\n",
       "  <tbody>\n",
       "    <tr>\n",
       "      <th>0</th>\n",
       "      <td>2018</td>\n",
       "      <td>11</td>\n",
       "      <td>1</td>\n",
       "      <td>17031010100</td>\n",
       "      <td>4522.0</td>\n",
       "      <td>2301.0</td>\n",
       "      <td>2221.0</td>\n",
       "      <td>384.0</td>\n",
       "      <td>253.0</td>\n",
       "      <td>240.0</td>\n",
       "      <td>...</td>\n",
       "      <td>13.8</td>\n",
       "      <td>3.8</td>\n",
       "      <td>2.5</td>\n",
       "      <td>37985.0</td>\n",
       "      <td>56105.0</td>\n",
       "      <td>1162.0</td>\n",
       "      <td>788.0</td>\n",
       "      <td>344.0</td>\n",
       "      <td>22.0</td>\n",
       "      <td>0.665803</td>\n",
       "    </tr>\n",
       "    <tr>\n",
       "      <th>1</th>\n",
       "      <td>2018</td>\n",
       "      <td>11</td>\n",
       "      <td>1</td>\n",
       "      <td>17031010201</td>\n",
       "      <td>7039.0</td>\n",
       "      <td>3701.0</td>\n",
       "      <td>3338.0</td>\n",
       "      <td>480.0</td>\n",
       "      <td>507.0</td>\n",
       "      <td>479.0</td>\n",
       "      <td>...</td>\n",
       "      <td>12.3</td>\n",
       "      <td>1.2</td>\n",
       "      <td>1.6</td>\n",
       "      <td>39549.0</td>\n",
       "      <td>61626.0</td>\n",
       "      <td>751.0</td>\n",
       "      <td>1317.0</td>\n",
       "      <td>521.0</td>\n",
       "      <td>99.0</td>\n",
       "      <td>0.988095</td>\n",
       "    </tr>\n",
       "    <tr>\n",
       "      <th>2</th>\n",
       "      <td>2018</td>\n",
       "      <td>11</td>\n",
       "      <td>1</td>\n",
       "      <td>17031010202</td>\n",
       "      <td>2852.0</td>\n",
       "      <td>1390.0</td>\n",
       "      <td>1462.0</td>\n",
       "      <td>245.0</td>\n",
       "      <td>122.0</td>\n",
       "      <td>123.0</td>\n",
       "      <td>...</td>\n",
       "      <td>8.8</td>\n",
       "      <td>2.5</td>\n",
       "      <td>1.1</td>\n",
       "      <td>38370.0</td>\n",
       "      <td>49615.0</td>\n",
       "      <td>464.0</td>\n",
       "      <td>449.0</td>\n",
       "      <td>169.0</td>\n",
       "      <td>20.0</td>\n",
       "      <td>0.768603</td>\n",
       "    </tr>\n",
       "    <tr>\n",
       "      <th>3</th>\n",
       "      <td>2018</td>\n",
       "      <td>11</td>\n",
       "      <td>1</td>\n",
       "      <td>17031010300</td>\n",
       "      <td>6650.0</td>\n",
       "      <td>3294.0</td>\n",
       "      <td>3356.0</td>\n",
       "      <td>351.0</td>\n",
       "      <td>342.0</td>\n",
       "      <td>150.0</td>\n",
       "      <td>...</td>\n",
       "      <td>5.0</td>\n",
       "      <td>3.3</td>\n",
       "      <td>5.3</td>\n",
       "      <td>38866.0</td>\n",
       "      <td>69967.0</td>\n",
       "      <td>993.0</td>\n",
       "      <td>1344.0</td>\n",
       "      <td>613.0</td>\n",
       "      <td>87.0</td>\n",
       "      <td>0.932170</td>\n",
       "    </tr>\n",
       "    <tr>\n",
       "      <th>4</th>\n",
       "      <td>2018</td>\n",
       "      <td>11</td>\n",
       "      <td>1</td>\n",
       "      <td>17031010400</td>\n",
       "      <td>5153.0</td>\n",
       "      <td>2405.0</td>\n",
       "      <td>2748.0</td>\n",
       "      <td>84.0</td>\n",
       "      <td>232.0</td>\n",
       "      <td>148.0</td>\n",
       "      <td>...</td>\n",
       "      <td>11.8</td>\n",
       "      <td>3.8</td>\n",
       "      <td>1.4</td>\n",
       "      <td>39152.0</td>\n",
       "      <td>54235.0</td>\n",
       "      <td>655.0</td>\n",
       "      <td>1089.0</td>\n",
       "      <td>194.0</td>\n",
       "      <td>0.0</td>\n",
       "      <td>0.762126</td>\n",
       "    </tr>\n",
       "  </tbody>\n",
       "</table>\n",
       "<p>5 rows × 56 columns</p>\n",
       "</div>"
      ],
      "text/plain": [
       "   YEAR  MONTH  TOD  CENSUS_TRACT  TOTAL_POP  TOTAL_MALE  TOTAL_FEMALE  \\\n",
       "0  2018     11    1   17031010100     4522.0      2301.0        2221.0   \n",
       "1  2018     11    1   17031010201     7039.0      3701.0        3338.0   \n",
       "2  2018     11    1   17031010202     2852.0      1390.0        1462.0   \n",
       "3  2018     11    1   17031010300     6650.0      3294.0        3356.0   \n",
       "4  2018     11    1   17031010400     5153.0      2405.0        2748.0   \n",
       "\n",
       "   AGE_5U  AGE_5_9  AGE_10_14  ...  TOTAL_HHLDS_100K_150K  \\\n",
       "0   384.0    253.0      240.0  ...                   13.8   \n",
       "1   480.0    507.0      479.0  ...                   12.3   \n",
       "2   245.0    122.0      123.0  ...                    8.8   \n",
       "3   351.0    342.0      150.0  ...                    5.0   \n",
       "4    84.0    232.0      148.0  ...                   11.8   \n",
       "\n",
       "   TOTAL_HHLDS_150K_200K  TOTAL_HHLDS_200KP  HHLDS_MEDIAN_INCOME  \\\n",
       "0                    3.8                2.5              37985.0   \n",
       "1                    1.2                1.6              39549.0   \n",
       "2                    2.5                1.1              38370.0   \n",
       "3                    3.3                5.3              38866.0   \n",
       "4                    3.8                1.4              39152.0   \n",
       "\n",
       "   HHLDS_MEAN_INCOME  HHLDS_0_VEH  HHLDS_1_VEH  HHLDS_2_VEH  HHLDS_3P_VEH  \\\n",
       "0            56105.0       1162.0        788.0        344.0          22.0   \n",
       "1            61626.0        751.0       1317.0        521.0          99.0   \n",
       "2            49615.0        464.0        449.0        169.0          20.0   \n",
       "3            69967.0        993.0       1344.0        613.0          87.0   \n",
       "4            54235.0        655.0       1089.0        194.0           0.0   \n",
       "\n",
       "   AVG_VEH_PER_HHLD  \n",
       "0          0.665803  \n",
       "1          0.988095  \n",
       "2          0.768603  \n",
       "3          0.932170  \n",
       "4          0.762126  \n",
       "\n",
       "[5 rows x 56 columns]"
      ]
     },
     "execution_count": 10,
     "metadata": {},
     "output_type": "execute_result"
    }
   ],
   "source": [
    "acs.head()"
   ]
  },
  {
   "cell_type": "code",
   "execution_count": 11,
   "metadata": {},
   "outputs": [
    {
     "ename": "NameError",
     "evalue": "name 'df' is not defined",
     "output_type": "error",
     "traceback": [
      "\u001b[1;31m---------------------------------------------------------------------------\u001b[0m",
      "\u001b[1;31mNameError\u001b[0m                                 Traceback (most recent call last)",
      "\u001b[1;32m<ipython-input-11-1b3dd755063c>\u001b[0m in \u001b[0;36m<module>\u001b[1;34m\u001b[0m\n\u001b[1;32m----> 1\u001b[1;33m \u001b[0mdf3\u001b[0m \u001b[1;33m=\u001b[0m \u001b[0mdf\u001b[0m\u001b[1;33m.\u001b[0m\u001b[0mmerge\u001b[0m\u001b[1;33m(\u001b[0m\u001b[0motp\u001b[0m\u001b[1;33m[\u001b[0m\u001b[1;33m[\u001b[0m\u001b[1;34m'origin'\u001b[0m\u001b[1;33m,\u001b[0m\u001b[1;34m'destination'\u001b[0m\u001b[1;33m,\u001b[0m\u001b[1;34m'walk_distance'\u001b[0m\u001b[1;33m,\u001b[0m\u001b[1;34m'travel_time'\u001b[0m\u001b[1;33m]\u001b[0m\u001b[1;33m]\u001b[0m\u001b[1;33m,\u001b[0m \u001b[0mhow\u001b[0m \u001b[1;33m=\u001b[0m \u001b[1;34m'left'\u001b[0m\u001b[1;33m,\u001b[0m \u001b[0mleft_on\u001b[0m \u001b[1;33m=\u001b[0m \u001b[1;33m[\u001b[0m\u001b[1;34m'ORIGIN'\u001b[0m\u001b[1;33m,\u001b[0m\u001b[1;34m'DESTINATION'\u001b[0m\u001b[1;33m]\u001b[0m\u001b[1;33m,\u001b[0m \u001b[0mright_on\u001b[0m \u001b[1;33m=\u001b[0m \u001b[1;33m[\u001b[0m\u001b[1;34m'origin'\u001b[0m\u001b[1;33m,\u001b[0m\u001b[1;34m'destination'\u001b[0m\u001b[1;33m]\u001b[0m\u001b[1;33m)\u001b[0m\u001b[1;33m\u001b[0m\u001b[1;33m\u001b[0m\u001b[0m\n\u001b[0m",
      "\u001b[1;31mNameError\u001b[0m: name 'df' is not defined"
     ]
    }
   ],
   "source": [
    "df3 = df.merge(otp[['origin','destination','walk_distance','travel_time']], how = 'left', left_on = ['ORIGIN','DESTINATION'], right_on = ['origin','destination'])"
   ]
  },
  {
   "cell_type": "code",
   "execution_count": null,
   "metadata": {},
   "outputs": [],
   "source": [
    "df3 = df3.merge(acs[['HHLDS_MEDIAN_INCOME','YEAR','MONTH','TOD','CENSUS_TRACT']], how = 'left', left_on = ['YEAR','MONTH','TOD','ORIGIN'], right_on = ['YEAR','MONTH','TOD','CENSUS_TRACT'])\n",
    "df3 = df3.merge(acs[['HHLDS_MEDIAN_INCOME','YEAR','MONTH','TOD','CENSUS_TRACT']], how = 'left', left_on = ['YEAR','MONTH','TOD','DESTINATION'], right_on = ['YEAR','MONTH','TOD','CENSUS_TRACT'], suffixes = ('_ORIGIN','_DESTINATION'))\n"
   ]
  },
  {
   "cell_type": "code",
   "execution_count": null,
   "metadata": {},
   "outputs": [],
   "source": [
    "df3 = df3.merge(dist, how = 'left', on = ['ORIGIN','DESTINATION'])"
   ]
  },
  {
   "cell_type": "code",
   "execution_count": null,
   "metadata": {},
   "outputs": [],
   "source": [
    "df3['OTP_AUTO_TRAVEL_TIME'] = df3['travel_time']/60"
   ]
  },
  {
   "cell_type": "code",
   "execution_count": null,
   "metadata": {},
   "outputs": [],
   "source": []
  },
  {
   "cell_type": "code",
   "execution_count": 12,
   "metadata": {},
   "outputs": [],
   "source": [
    "def set_private_travel_time(row):\n",
    "    if row['TOD'] == 1:\n",
    "        row['PRIVATE_TRAVEL_TIME'] =  row['OTP_AUTO_TRAVEL_TIME']*0.8489\n",
    "        \n",
    "    elif row['TOD'] == 2:\n",
    "        row['PRIVATE_TRAVEL_TIME'] = row['OTP_AUTO_TRAVEL_TIME']*1.1825\n",
    "        \n",
    "    elif row['TOD'] == 3:\n",
    "        row['PRIVATE_TRAVEL_TIME'] = row['OTP_AUTO_TRAVEL_TIME']*1.1331\n",
    "        \n",
    "    elif row['TOD'] == 4:\n",
    "        row['PRIVATE_TRAVEL_TIME'] = row['OTP_AUTO_TRAVEL_TIME']*1.2906\n",
    "        \n",
    "    elif row['TOD'] == 5:\n",
    "        row['PRIVATE_TRAVEL_TIME'] = row['OTP_AUTO_TRAVEL_TIME']*0.9292\n",
    "        \n",
    "    else:\n",
    "        print('Bad Row!')\n",
    "        \n",
    "    return row"
   ]
  },
  {
   "cell_type": "code",
   "execution_count": 13,
   "metadata": {},
   "outputs": [
    {
     "ename": "NameError",
     "evalue": "name 'df3' is not defined",
     "output_type": "error",
     "traceback": [
      "\u001b[1;31m---------------------------------------------------------------------------\u001b[0m",
      "\u001b[1;31mNameError\u001b[0m                                 Traceback (most recent call last)",
      "\u001b[1;32m<ipython-input-13-6e0fa2d9b573>\u001b[0m in \u001b[0;36m<module>\u001b[1;34m\u001b[0m\n\u001b[1;32m----> 1\u001b[1;33m \u001b[0mdf3\u001b[0m \u001b[1;33m=\u001b[0m \u001b[0mdf3\u001b[0m\u001b[1;33m.\u001b[0m\u001b[0mapply\u001b[0m\u001b[1;33m(\u001b[0m\u001b[1;32mlambda\u001b[0m \u001b[0mrow\u001b[0m\u001b[1;33m:\u001b[0m \u001b[0mset_private_travel_time\u001b[0m\u001b[1;33m(\u001b[0m\u001b[0mrow\u001b[0m\u001b[1;33m)\u001b[0m\u001b[1;33m,\u001b[0m \u001b[0maxis\u001b[0m \u001b[1;33m=\u001b[0m \u001b[1;36m1\u001b[0m\u001b[1;33m)\u001b[0m\u001b[1;33m\u001b[0m\u001b[1;33m\u001b[0m\u001b[0m\n\u001b[0m",
      "\u001b[1;31mNameError\u001b[0m: name 'df3' is not defined"
     ]
    }
   ],
   "source": [
    "df3 = df3.apply(lambda row: set_private_travel_time(row), axis = 1)"
   ]
  },
  {
   "cell_type": "code",
   "execution_count": 14,
   "metadata": {},
   "outputs": [],
   "source": [
    "def set_shared_travel_time(row):\n",
    "    if row['TOD'] == 1:\n",
    "        row['SHARED_TRAVEL_TIME'] = row['OTP_AUTO_TRAVEL_TIME']*1.0293\n",
    "        \n",
    "    elif row['TOD'] == 2:\n",
    "        row['SHARED_TRAVEL_TIME'] =  row['OTP_AUTO_TRAVEL_TIME']*1.3786\n",
    "        \n",
    "    elif row['TOD'] == 3:\n",
    "        row['SHARED_TRAVEL_TIME'] = row['OTP_AUTO_TRAVEL_TIME']*1.2462\n",
    "        \n",
    "    elif row['TOD'] == 4:\n",
    "        row['SHARED_TRAVEL_TIME'] = row['OTP_AUTO_TRAVEL_TIME']*1.4132\n",
    "        \n",
    "    elif row['TOD'] == 5:\n",
    "        row['SHARED_TRAVEL_TIME'] =  row['OTP_AUTO_TRAVEL_TIME']*1.1053\n",
    "        \n",
    "    else:\n",
    "        print('Bad Row!')\n",
    "        \n",
    "    return row"
   ]
  },
  {
   "cell_type": "code",
   "execution_count": 15,
   "metadata": {},
   "outputs": [
    {
     "ename": "NameError",
     "evalue": "name 'df3' is not defined",
     "output_type": "error",
     "traceback": [
      "\u001b[1;31m---------------------------------------------------------------------------\u001b[0m",
      "\u001b[1;31mNameError\u001b[0m                                 Traceback (most recent call last)",
      "\u001b[1;32m<ipython-input-15-83181b3908ec>\u001b[0m in \u001b[0;36m<module>\u001b[1;34m\u001b[0m\n\u001b[1;32m----> 1\u001b[1;33m \u001b[0mdf3\u001b[0m \u001b[1;33m=\u001b[0m \u001b[0mdf3\u001b[0m\u001b[1;33m.\u001b[0m\u001b[0mapply\u001b[0m\u001b[1;33m(\u001b[0m\u001b[1;32mlambda\u001b[0m \u001b[0mrow\u001b[0m\u001b[1;33m:\u001b[0m \u001b[0mset_shared_travel_time\u001b[0m\u001b[1;33m(\u001b[0m\u001b[0mrow\u001b[0m\u001b[1;33m)\u001b[0m\u001b[1;33m,\u001b[0m \u001b[0maxis\u001b[0m \u001b[1;33m=\u001b[0m \u001b[1;36m1\u001b[0m\u001b[1;33m)\u001b[0m\u001b[1;33m\u001b[0m\u001b[1;33m\u001b[0m\u001b[0m\n\u001b[0m",
      "\u001b[1;31mNameError\u001b[0m: name 'df3' is not defined"
     ]
    }
   ],
   "source": [
    "df3 = df3.apply(lambda row: set_shared_travel_time(row), axis = 1)"
   ]
  },
  {
   "cell_type": "code",
   "execution_count": 16,
   "metadata": {},
   "outputs": [
    {
     "ename": "NameError",
     "evalue": "name 'df3' is not defined",
     "output_type": "error",
     "traceback": [
      "\u001b[1;31m---------------------------------------------------------------------------\u001b[0m",
      "\u001b[1;31mNameError\u001b[0m                                 Traceback (most recent call last)",
      "\u001b[1;32m<ipython-input-16-01594f090250>\u001b[0m in \u001b[0;36m<module>\u001b[1;34m\u001b[0m\n\u001b[1;32m----> 1\u001b[1;33m \u001b[0mdf3\u001b[0m\u001b[1;33m[\u001b[0m\u001b[1;34m'PRIVATE_FARE'\u001b[0m\u001b[1;33m]\u001b[0m \u001b[1;33m=\u001b[0m  \u001b[1;36m1.9035\u001b[0m \u001b[1;33m+\u001b[0m \u001b[0mdf3\u001b[0m\u001b[1;33m[\u001b[0m\u001b[1;34m'PRIVATE_TRAVEL_TIME'\u001b[0m\u001b[1;33m]\u001b[0m\u001b[1;33m*\u001b[0m\u001b[1;36m0.2892\u001b[0m \u001b[1;33m+\u001b[0m \u001b[0mdf3\u001b[0m\u001b[1;33m[\u001b[0m\u001b[1;34m'DISTANCE'\u001b[0m\u001b[1;33m]\u001b[0m\u001b[1;33m*\u001b[0m\u001b[1;36m0.8822\u001b[0m\u001b[1;33m\u001b[0m\u001b[1;33m\u001b[0m\u001b[0m\n\u001b[0m",
      "\u001b[1;31mNameError\u001b[0m: name 'df3' is not defined"
     ]
    }
   ],
   "source": [
    "df3['PRIVATE_FARE'] =  1.9035 + df3['PRIVATE_TRAVEL_TIME']*0.2892 + df3['DISTANCE']*0.8822"
   ]
  },
  {
   "cell_type": "code",
   "execution_count": 17,
   "metadata": {},
   "outputs": [
    {
     "ename": "NameError",
     "evalue": "name 'df3' is not defined",
     "output_type": "error",
     "traceback": [
      "\u001b[1;31m---------------------------------------------------------------------------\u001b[0m",
      "\u001b[1;31mNameError\u001b[0m                                 Traceback (most recent call last)",
      "\u001b[1;32m<ipython-input-17-14ef82ac9a7d>\u001b[0m in \u001b[0;36m<module>\u001b[1;34m\u001b[0m\n\u001b[1;32m----> 1\u001b[1;33m \u001b[0mdf3\u001b[0m\u001b[1;33m[\u001b[0m\u001b[1;34m'SHARED_FARE'\u001b[0m\u001b[1;33m]\u001b[0m \u001b[1;33m=\u001b[0m  \u001b[1;36m2.6496\u001b[0m \u001b[1;33m+\u001b[0m \u001b[1;36m0.06\u001b[0m\u001b[1;33m*\u001b[0m\u001b[0mdf3\u001b[0m\u001b[1;33m[\u001b[0m\u001b[1;34m'SHARED_TRAVEL_TIME'\u001b[0m\u001b[1;33m]\u001b[0m \u001b[1;33m+\u001b[0m \u001b[1;36m0.7349\u001b[0m\u001b[1;33m*\u001b[0m\u001b[0mdf3\u001b[0m\u001b[1;33m[\u001b[0m\u001b[1;34m'DISTANCE'\u001b[0m\u001b[1;33m]\u001b[0m\u001b[1;33m\u001b[0m\u001b[1;33m\u001b[0m\u001b[0m\n\u001b[0m",
      "\u001b[1;31mNameError\u001b[0m: name 'df3' is not defined"
     ]
    }
   ],
   "source": [
    "df3['SHARED_FARE'] =  2.6496 + 0.06*df3['SHARED_TRAVEL_TIME'] + 0.7349*df3['DISTANCE']"
   ]
  },
  {
   "cell_type": "code",
   "execution_count": 18,
   "metadata": {},
   "outputs": [
    {
     "ename": "NameError",
     "evalue": "name 'df3' is not defined",
     "output_type": "error",
     "traceback": [
      "\u001b[1;31m---------------------------------------------------------------------------\u001b[0m",
      "\u001b[1;31mNameError\u001b[0m                                 Traceback (most recent call last)",
      "\u001b[1;32m<ipython-input-18-a0a193170ddf>\u001b[0m in \u001b[0;36m<module>\u001b[1;34m\u001b[0m\n\u001b[1;32m----> 1\u001b[1;33m \u001b[0mdf3\u001b[0m\u001b[1;33m[\u001b[0m\u001b[1;34m'YEAR'\u001b[0m\u001b[1;33m]\u001b[0m\u001b[1;33m\u001b[0m\u001b[1;33m\u001b[0m\u001b[0m\n\u001b[0m",
      "\u001b[1;31mNameError\u001b[0m: name 'df3' is not defined"
     ]
    }
   ],
   "source": [
    " df3['YEAR']"
   ]
  },
  {
   "cell_type": "code",
   "execution_count": 19,
   "metadata": {},
   "outputs": [
    {
     "ename": "NameError",
     "evalue": "name 'df3' is not defined",
     "output_type": "error",
     "traceback": [
      "\u001b[1;31m---------------------------------------------------------------------------\u001b[0m",
      "\u001b[1;31mNameError\u001b[0m                                 Traceback (most recent call last)",
      "\u001b[1;32m<ipython-input-19-64f324be1091>\u001b[0m in \u001b[0;36m<module>\u001b[1;34m\u001b[0m\n\u001b[1;32m----> 1\u001b[1;33m \u001b[0mdf3\u001b[0m\u001b[1;33m[\u001b[0m\u001b[1;34m'YEAR_MONTH'\u001b[0m\u001b[1;33m]\u001b[0m \u001b[1;33m=\u001b[0m \u001b[0mdf3\u001b[0m\u001b[1;33m[\u001b[0m\u001b[1;34m'MONTH'\u001b[0m\u001b[1;33m]\u001b[0m \u001b[1;33m+\u001b[0m \u001b[0mdf3\u001b[0m\u001b[1;33m[\u001b[0m\u001b[1;34m'YEAR'\u001b[0m\u001b[1;33m]\u001b[0m\u001b[1;33m*\u001b[0m\u001b[1;36m100\u001b[0m\u001b[1;33m\u001b[0m\u001b[1;33m\u001b[0m\u001b[0m\n\u001b[0m",
      "\u001b[1;31mNameError\u001b[0m: name 'df3' is not defined"
     ]
    }
   ],
   "source": [
    "df3['YEAR_MONTH'] = df3['MONTH'] + df3['YEAR']*100"
   ]
  },
  {
   "cell_type": "code",
   "execution_count": 20,
   "metadata": {},
   "outputs": [],
   "source": [
    "def set_shared_fare(row):\n",
    "    if row['YEAR_MONTH'] == 201811:\n",
    "        row['SHARED_FARE'] = row['SHARED_FARE']*0.9358\n",
    "        \n",
    "    elif row['YEAR_MONTH'] == 201812:\n",
    "        row['SHARED_FARE'] = row['SHARED_FARE']*0.9408\n",
    "    \n",
    "    elif row['YEAR_MONTH'] == 201901:\n",
    "        row['SHARED_FARE'] = row['SHARED_FARE']*0.9392\n",
    "    \n",
    "    elif row['YEAR_MONTH'] == 201902:\n",
    "        row['SHARED_FARE'] = row['SHARED_FARE']*0.9414\n",
    "    \n",
    "    elif row['YEAR_MONTH'] == 201903:\n",
    "        row['SHARED_FARE'] = row['SHARED_FARE']*0.9270\n",
    "    \n",
    "    elif row['YEAR_MONTH'] == 201904:\n",
    "        row['SHARED_FARE'] = row['SHARED_FARE']*0.9817\n",
    "    \n",
    "    elif row['YEAR_MONTH'] == 201905:\n",
    "        row['SHARED_FARE'] = row['SHARED_FARE']*1.0219\n",
    "    \n",
    "    elif row['YEAR_MONTH'] == 201906:\n",
    "        row['SHARED_FARE'] = row['SHARED_FARE']*1.05634\n",
    "    \n",
    "    elif row['YEAR_MONTH'] == 201907:\n",
    "        row['SHARED_FARE'] = row['SHARED_FARE']*1.0708\n",
    "    \n",
    "    elif row['YEAR_MONTH'] == 201908:\n",
    "        row['SHARED_FARE'] = row['SHARED_FARE']*1.09\n",
    "    \n",
    "    elif row['YEAR_MONTH'] == 201909:\n",
    "        row['SHARED_FARE'] = row['SHARED_FARE']*1.1179\n",
    "    \n",
    "    elif row['YEAR_MONTH'] == 201910:\n",
    "        row['SHARED_FARE'] = row['SHARED_FARE']*1.0129\n",
    "    \n",
    "    elif row['YEAR_MONTH'] == 201911:\n",
    "        row['SHARED_FARE'] = row['SHARED_FARE']*0.9906\n",
    "    \n",
    "    elif row['YEAR_MONTH'] == 201912:\n",
    "        row['SHARED_FARE'] = row['SHARED_FARE']*1.0042\n",
    "    \n",
    "    elif row['YEAR_MONTH'] == 202001:\n",
    "        row['SHARED_FARE'] = row['SHARED_FARE']*1.011\n",
    "    \n",
    "    elif row['YEAR_MONTH'] == 202002:\n",
    "        row['SHARED_FARE'] = row['SHARED_FARE']*1.1003\n",
    "        \n",
    "    else:\n",
    "        print('Bad Row!')\n",
    "        \n",
    "    return row"
   ]
  },
  {
   "cell_type": "code",
   "execution_count": 21,
   "metadata": {},
   "outputs": [
    {
     "ename": "NameError",
     "evalue": "name 'df3' is not defined",
     "output_type": "error",
     "traceback": [
      "\u001b[1;31m---------------------------------------------------------------------------\u001b[0m",
      "\u001b[1;31mNameError\u001b[0m                                 Traceback (most recent call last)",
      "\u001b[1;32m<ipython-input-21-fc8231d2cf3b>\u001b[0m in \u001b[0;36m<module>\u001b[1;34m\u001b[0m\n\u001b[1;32m----> 1\u001b[1;33m \u001b[0mdf3\u001b[0m\u001b[1;33m[\u001b[0m\u001b[1;34m'YEAR_MONTH'\u001b[0m\u001b[1;33m]\u001b[0m\u001b[1;33m\u001b[0m\u001b[1;33m\u001b[0m\u001b[0m\n\u001b[0m",
      "\u001b[1;31mNameError\u001b[0m: name 'df3' is not defined"
     ]
    }
   ],
   "source": [
    "df3['YEAR_MONTH']"
   ]
  },
  {
   "cell_type": "code",
   "execution_count": 22,
   "metadata": {},
   "outputs": [
    {
     "ename": "NameError",
     "evalue": "name 'df3' is not defined",
     "output_type": "error",
     "traceback": [
      "\u001b[1;31m---------------------------------------------------------------------------\u001b[0m",
      "\u001b[1;31mNameError\u001b[0m                                 Traceback (most recent call last)",
      "\u001b[1;32m<ipython-input-22-b542a29ae0be>\u001b[0m in \u001b[0;36m<module>\u001b[1;34m\u001b[0m\n\u001b[1;32m----> 1\u001b[1;33m \u001b[0mdf3\u001b[0m \u001b[1;33m=\u001b[0m \u001b[0mdf3\u001b[0m\u001b[1;33m.\u001b[0m\u001b[0mapply\u001b[0m\u001b[1;33m(\u001b[0m\u001b[1;32mlambda\u001b[0m \u001b[0mrow\u001b[0m\u001b[1;33m:\u001b[0m \u001b[0mset_shared_fare\u001b[0m\u001b[1;33m(\u001b[0m\u001b[0mrow\u001b[0m\u001b[1;33m)\u001b[0m\u001b[1;33m,\u001b[0m \u001b[0maxis\u001b[0m \u001b[1;33m=\u001b[0m \u001b[1;36m1\u001b[0m\u001b[1;33m)\u001b[0m\u001b[1;33m\u001b[0m\u001b[1;33m\u001b[0m\u001b[0m\n\u001b[0m",
      "\u001b[1;31mNameError\u001b[0m: name 'df3' is not defined"
     ]
    }
   ],
   "source": [
    "df3 = df3.apply(lambda row: set_shared_fare(row), axis = 1)"
   ]
  },
  {
   "cell_type": "code",
   "execution_count": 23,
   "metadata": {},
   "outputs": [],
   "source": [
    "tourist_tracts = [17031980100, 17031835200, 17031770602, 17031081402, 17031330100, 17031841000]"
   ]
  },
  {
   "cell_type": "code",
   "execution_count": 24,
   "metadata": {},
   "outputs": [],
   "source": [
    "downtown_tracts = [17031839000,\n",
    "17031080202,\n",
    "17031839100,\n",
    "17031081201,\n",
    "17031838300,\n",
    "17031081401,\n",
    "17031081300,\n",
    "17031081100,\n",
    "17031081000,\n",
    "17031081900,\n",
    "17031081500,\n",
    "17031081600,\n",
    "17031081700,\n",
    "17031280100,\n",
    "17031842200,\n",
    "17031080400,\n",
    "17031080300,\n",
    "17031080201,\n",
    "17031080100,\n",
    "17031081202,\n",
    "17031081403,\n",
    "17031081402,\n",
    "17031320100,\n",
    "17031320400,\n",
    "17031320600,\n",
    "17031841900,\n",
    "17031281900,\n",
    "17031833100,\n",
    "17031833000,\n",
    "17031243400,\n",
    "17031243500,\n",
    "17031081800,\n",
    "17031243300]"
   ]
  },
  {
   "cell_type": "code",
   "execution_count": 25,
   "metadata": {},
   "outputs": [
    {
     "ename": "NameError",
     "evalue": "name 'df3' is not defined",
     "output_type": "error",
     "traceback": [
      "\u001b[1;31m---------------------------------------------------------------------------\u001b[0m",
      "\u001b[1;31mNameError\u001b[0m                                 Traceback (most recent call last)",
      "\u001b[1;32m<ipython-input-25-ee60f5d5d93c>\u001b[0m in \u001b[0;36m<module>\u001b[1;34m\u001b[0m\n\u001b[0;32m      1\u001b[0m \u001b[1;31m#set the tax for trips with both ends outside of tourist zone during 2018\u001b[0m\u001b[1;33m\u001b[0m\u001b[1;33m\u001b[0m\u001b[1;33m\u001b[0m\u001b[0m\n\u001b[1;32m----> 2\u001b[1;33m \u001b[0mdf3\u001b[0m\u001b[1;33m[\u001b[0m\u001b[1;34m'SHARED_TAX'\u001b[0m\u001b[1;33m]\u001b[0m \u001b[1;33m=\u001b[0m \u001b[0mnp\u001b[0m\u001b[1;33m.\u001b[0m\u001b[0mwhere\u001b[0m\u001b[1;33m(\u001b[0m\u001b[0mdf3\u001b[0m\u001b[1;33m[\u001b[0m\u001b[1;34m'YEAR'\u001b[0m\u001b[1;33m]\u001b[0m \u001b[1;33m==\u001b[0m \u001b[1;36m2018\u001b[0m\u001b[1;33m,\u001b[0m \u001b[1;36m0.67\u001b[0m\u001b[1;33m,\u001b[0m \u001b[0mnp\u001b[0m\u001b[1;33m.\u001b[0m\u001b[0mnan\u001b[0m\u001b[1;33m)\u001b[0m\u001b[1;33m\u001b[0m\u001b[1;33m\u001b[0m\u001b[0m\n\u001b[0m\u001b[0;32m      3\u001b[0m \u001b[0mdf3\u001b[0m\u001b[1;33m[\u001b[0m\u001b[1;34m'PRIVATE_TAX'\u001b[0m\u001b[1;33m]\u001b[0m \u001b[1;33m=\u001b[0m \u001b[0mnp\u001b[0m\u001b[1;33m.\u001b[0m\u001b[0mwhere\u001b[0m\u001b[1;33m(\u001b[0m\u001b[0mdf3\u001b[0m\u001b[1;33m[\u001b[0m\u001b[1;34m'YEAR'\u001b[0m\u001b[1;33m]\u001b[0m \u001b[1;33m==\u001b[0m \u001b[1;36m2018\u001b[0m\u001b[1;33m,\u001b[0m \u001b[1;36m0.67\u001b[0m\u001b[1;33m,\u001b[0m \u001b[0mnp\u001b[0m\u001b[1;33m.\u001b[0m\u001b[0mnan\u001b[0m\u001b[1;33m)\u001b[0m\u001b[1;33m\u001b[0m\u001b[1;33m\u001b[0m\u001b[0m\n\u001b[0;32m      4\u001b[0m \u001b[1;33m\u001b[0m\u001b[0m\n\u001b[0;32m      5\u001b[0m \u001b[1;31m#set the tax for trips with broth ends outside of trouist zone during 2019\u001b[0m\u001b[1;33m\u001b[0m\u001b[1;33m\u001b[0m\u001b[1;33m\u001b[0m\u001b[0m\n",
      "\u001b[1;31mNameError\u001b[0m: name 'df3' is not defined"
     ]
    }
   ],
   "source": [
    "#set the tax for trips with both ends outside of tourist zone during 2018\n",
    "df3['SHARED_TAX'] = np.where(df3['YEAR'] == 2018, 0.67, np.nan)\n",
    "df3['PRIVATE_TAX'] = np.where(df3['YEAR'] == 2018, 0.67, np.nan)\n",
    "\n",
    "#set the tax for trips with broth ends outside of trouist zone during 2019\n",
    "df3['SHARED_TAX'] = np.where(df3['YEAR'] == 2019, 0.72, df3['SHARED_TAX'])\n",
    "df3['PRIVATE_TAX'] = np.where(df3['YEAR'] == 2019, 0.72, df3['PRIVATE_TAX'])\n",
    "\n",
    "#set the tax for trips with at least one end within the tourist zone during 2019 and 2018\n",
    "df3['SHARED_TAX'] = np.where((df3['ORIGIN'].isin(tourist_tracts))|(df3['DESTINATION'].isin(tourist_tracts)), 5, df3['SHARED_TAX'])\n",
    "df3['PRIVATE_TAX'] = np.where((df3['ORIGIN'].isin(tourist_tracts))|(df3['DESTINATION'].isin(tourist_tracts)), 5, df3['PRIVATE_TAX'])\n",
    "\n",
    "                              \n",
    "#set the tax for trips with both trip ends outside of the downtown zone during 2020\n",
    "df3['SHARED_TAX'] = np.where((df3['YEAR'] == 2020), 0.65, df3['SHARED_TAX'])\n",
    "df3['PRIVATE_TAX'] = np.where((df3['YEAR'] == 2020), 1.25, df3['PRIVATE_TAX'])\n",
    "\n",
    "                              \n",
    "#set the tax with at least one trip end within the downtown zone for 2020\n",
    "df3['SHARED_TAX'] = np.where((df3['TOD'] != 1)&(df3['YEAR'] == 2020)&(df3['ORIGIN'].isin(downtown_tracts)), 1.25, df3['SHARED_TAX'])\n",
    "df3['PRIVATE_TAX'] = np.where((df3['TOD'] != 1)&(df3['YEAR'] == 2020)&(df3['ORIGIN'].isin(downtown_tracts)), 3, df3['PRIVATE_TAX'])\n",
    "                              \n",
    "df3['SHARED_TAX'] = np.where((df3['TOD'] != 1)&(df3['YEAR'] == 2020)&(df3['DESTINATION'].isin(downtown_tracts)), 1.25, df3['SHARED_TAX'])\n",
    "df3['PRIVATE_TAX'] = np.where((df3['TOD'] != 1)&(df3['YEAR'] == 2020)&(df3['DESTINATION'].isin(downtown_tracts)), 3, df3['PRIVATE_TAX'])\n",
    "\n",
    "                              \n",
    "#set the tax for trips with at least one trip end within a tourist zone for 2020                       \n",
    "df3['SHARED_TAX'] = np.where((df3['YEAR'] == 2020)&(df3['ORIGIN'].isin(tourist_tracts)), 5.65, df3['SHARED_TAX'])\n",
    "df3['PRIVATE_TAX'] = np.where((df3['YEAR'] == 2020)&(df3['ORIGIN'].isin(tourist_tracts)), 6.25, df3['PRIVATE_TAX'])\n",
    "\n",
    "df3['SHARED_TAX'] = np.where((df3['YEAR'] == 2020)&(df3['DESTINATION'].isin(tourist_tracts)), 5.65, df3['SHARED_TAX'])\n",
    "df3['PRIVATE_TAX'] = np.where((df3['YEAR'] == 2020)&(df3['DESTINATION'].isin(tourist_tracts)), 6.25, df3['PRIVATE_TAX'])\n",
    "                              \n",
    "                              \n",
    "#set the tax with one trip end in the downtown zone and the other trip end in a tourist zone for 2020\n",
    "df3['SHARED_TAX'] = np.where((df3['TOD'] != 1)&(df3['YEAR'] == 2020)&(df3['DESTINATION'].isin(downtown_tracts))&(df3['ORIGIN'].isin(tourist_tracts)), 6.25, df3['SHARED_TAX'])\n",
    "df3['PRIVATE_TAX'] = np.where((df3['TOD'] != 1)&(df3['YEAR'] == 2020)&(df3['DESTINATION'].isin(downtown_tracts))&(df3['ORIGIN'].isin(tourist_tracts)), 8, df3['PRIVATE_TAX'])\n",
    "\n",
    "df3['SHARED_TAX'] = np.where((df3['TOD'] != 1)&(df3['YEAR'] == 2020)&(df3['ORIGIN'].isin(downtown_tracts))&(df3['DESTINATION'].isin(tourist_tracts)), 6.25, df3['SHARED_TAX'])\n",
    "df3['PRIVATE_TAX'] = np.where((df3['TOD'] != 1)&(df3['YEAR'] == 2020)&(df3['ORIGIN'].isin(downtown_tracts))&(df3['DESTINATION'].isin(tourist_tracts)), 8, df3['PRIVATE_TAX'])\n"
   ]
  },
  {
   "cell_type": "code",
   "execution_count": 26,
   "metadata": {},
   "outputs": [
    {
     "ename": "NameError",
     "evalue": "name 'df3' is not defined",
     "output_type": "error",
     "traceback": [
      "\u001b[1;31m---------------------------------------------------------------------------\u001b[0m",
      "\u001b[1;31mNameError\u001b[0m                                 Traceback (most recent call last)",
      "\u001b[1;32m<ipython-input-26-3ab0df43f37b>\u001b[0m in \u001b[0;36m<module>\u001b[1;34m\u001b[0m\n\u001b[1;32m----> 1\u001b[1;33m \u001b[0mdf3\u001b[0m\u001b[1;33m.\u001b[0m\u001b[0mPRIVATE_TRAVEL_TIME\u001b[0m \u001b[1;33m=\u001b[0m \u001b[0mdf3\u001b[0m\u001b[1;33m.\u001b[0m\u001b[0mPRIVATE_TRAVEL_TIME\u001b[0m\u001b[1;33m.\u001b[0m\u001b[0mastype\u001b[0m\u001b[1;33m(\u001b[0m\u001b[0mfloat\u001b[0m\u001b[1;33m)\u001b[0m\u001b[1;33m\u001b[0m\u001b[1;33m\u001b[0m\u001b[0m\n\u001b[0m\u001b[0;32m      2\u001b[0m \u001b[0mdf3\u001b[0m\u001b[1;33m.\u001b[0m\u001b[0mSHARED_TRAVEL_TIME\u001b[0m \u001b[1;33m=\u001b[0m \u001b[0mdf3\u001b[0m\u001b[1;33m.\u001b[0m\u001b[0mSHARED_TRAVEL_TIME\u001b[0m\u001b[1;33m.\u001b[0m\u001b[0mastype\u001b[0m\u001b[1;33m(\u001b[0m\u001b[0mfloat\u001b[0m\u001b[1;33m)\u001b[0m\u001b[1;33m\u001b[0m\u001b[1;33m\u001b[0m\u001b[0m\n",
      "\u001b[1;31mNameError\u001b[0m: name 'df3' is not defined"
     ]
    }
   ],
   "source": [
    "df3.PRIVATE_TRAVEL_TIME = df3.PRIVATE_TRAVEL_TIME.astype(float)\n",
    "df3.SHARED_TRAVEL_TIME = df3.SHARED_TRAVEL_TIME.astype(float)"
   ]
  },
  {
   "cell_type": "code",
   "execution_count": 27,
   "metadata": {},
   "outputs": [
    {
     "ename": "NameError",
     "evalue": "name 'df3' is not defined",
     "output_type": "error",
     "traceback": [
      "\u001b[1;31m---------------------------------------------------------------------------\u001b[0m",
      "\u001b[1;31mNameError\u001b[0m                                 Traceback (most recent call last)",
      "\u001b[1;32m<ipython-input-27-e5187a916c9a>\u001b[0m in \u001b[0;36m<module>\u001b[1;34m\u001b[0m\n\u001b[1;32m----> 1\u001b[1;33m \u001b[0mdf3\u001b[0m\u001b[1;33m[\u001b[0m\u001b[1;34m'HHLDS_MEDIAN_INCOME_ORIGIN'\u001b[0m\u001b[1;33m]\u001b[0m \u001b[1;33m=\u001b[0m \u001b[0mdf3\u001b[0m\u001b[1;33m[\u001b[0m\u001b[1;34m'HHLDS_MEDIAN_INCOME_ORIGIN'\u001b[0m\u001b[1;33m]\u001b[0m\u001b[1;33m.\u001b[0m\u001b[0mfillna\u001b[0m\u001b[1;33m(\u001b[0m\u001b[1;36m0\u001b[0m\u001b[1;33m)\u001b[0m\u001b[1;33m\u001b[0m\u001b[1;33m\u001b[0m\u001b[0m\n\u001b[0m\u001b[0;32m      2\u001b[0m \u001b[0mdf3\u001b[0m\u001b[1;33m[\u001b[0m\u001b[1;34m'HHLDS_MEDIAN_INCOME_DESTINATION'\u001b[0m\u001b[1;33m]\u001b[0m \u001b[1;33m=\u001b[0m \u001b[0mdf3\u001b[0m\u001b[1;33m[\u001b[0m\u001b[1;34m'HHLDS_MEDIAN_INCOME_DESTINATION'\u001b[0m\u001b[1;33m]\u001b[0m\u001b[1;33m.\u001b[0m\u001b[0mfillna\u001b[0m\u001b[1;33m(\u001b[0m\u001b[1;36m0\u001b[0m\u001b[1;33m)\u001b[0m\u001b[1;33m\u001b[0m\u001b[1;33m\u001b[0m\u001b[0m\n",
      "\u001b[1;31mNameError\u001b[0m: name 'df3' is not defined"
     ]
    }
   ],
   "source": [
    "df3['HHLDS_MEDIAN_INCOME_ORIGIN'] = df3['HHLDS_MEDIAN_INCOME_ORIGIN'].fillna(0)\n",
    "df3['HHLDS_MEDIAN_INCOME_DESTINATION'] = df3['HHLDS_MEDIAN_INCOME_DESTINATION'].fillna(0)"
   ]
  },
  {
   "cell_type": "code",
   "execution_count": 28,
   "metadata": {},
   "outputs": [
    {
     "ename": "NameError",
     "evalue": "name 'df3' is not defined",
     "output_type": "error",
     "traceback": [
      "\u001b[1;31m---------------------------------------------------------------------------\u001b[0m",
      "\u001b[1;31mNameError\u001b[0m                                 Traceback (most recent call last)",
      "\u001b[1;32m<ipython-input-28-3f0066041555>\u001b[0m in \u001b[0;36m<module>\u001b[1;34m\u001b[0m\n\u001b[1;32m----> 1\u001b[1;33m \u001b[0mdf3\u001b[0m\u001b[1;33m[\u001b[0m\u001b[1;34m'HHLDS_MEDIAN_INCOME_ORIGIN_10k'\u001b[0m\u001b[1;33m]\u001b[0m \u001b[1;33m=\u001b[0m \u001b[0mdf3\u001b[0m\u001b[1;33m[\u001b[0m\u001b[1;34m'HHLDS_MEDIAN_INCOME_ORIGIN'\u001b[0m\u001b[1;33m]\u001b[0m\u001b[1;33m/\u001b[0m\u001b[1;36m10000\u001b[0m\u001b[1;33m\u001b[0m\u001b[1;33m\u001b[0m\u001b[0m\n\u001b[0m\u001b[0;32m      2\u001b[0m \u001b[0mdf3\u001b[0m\u001b[1;33m[\u001b[0m\u001b[1;34m'HHLDS_MEDIAN_INCOME_DESTINATION_10k'\u001b[0m\u001b[1;33m]\u001b[0m \u001b[1;33m=\u001b[0m \u001b[0mdf3\u001b[0m\u001b[1;33m[\u001b[0m\u001b[1;34m'HHLDS_MEDIAN_INCOME_DESTINATION'\u001b[0m\u001b[1;33m]\u001b[0m \u001b[1;33m/\u001b[0m \u001b[1;36m10000\u001b[0m\u001b[1;33m\u001b[0m\u001b[1;33m\u001b[0m\u001b[0m\n",
      "\u001b[1;31mNameError\u001b[0m: name 'df3' is not defined"
     ]
    }
   ],
   "source": [
    "df3['HHLDS_MEDIAN_INCOME_ORIGIN_10k'] = df3['HHLDS_MEDIAN_INCOME_ORIGIN']/10000\n",
    "df3['HHLDS_MEDIAN_INCOME_DESTINATION_10k'] = df3['HHLDS_MEDIAN_INCOME_DESTINATION'] / 10000"
   ]
  },
  {
   "cell_type": "code",
   "execution_count": 29,
   "metadata": {},
   "outputs": [
    {
     "ename": "NameError",
     "evalue": "name 'df3' is not defined",
     "output_type": "error",
     "traceback": [
      "\u001b[1;31m---------------------------------------------------------------------------\u001b[0m",
      "\u001b[1;31mNameError\u001b[0m                                 Traceback (most recent call last)",
      "\u001b[1;32m<ipython-input-29-1cedb5e49234>\u001b[0m in \u001b[0;36m<module>\u001b[1;34m\u001b[0m\n\u001b[1;32m----> 1\u001b[1;33m \u001b[0mdf3\u001b[0m\u001b[1;33m[\u001b[0m\u001b[1;34m'AIRPORT_FLAGGER'\u001b[0m\u001b[1;33m]\u001b[0m \u001b[1;33m=\u001b[0m \u001b[0mnp\u001b[0m\u001b[1;33m.\u001b[0m\u001b[0mwhere\u001b[0m\u001b[1;33m(\u001b[0m\u001b[1;33m(\u001b[0m\u001b[0mdf3\u001b[0m\u001b[1;33m[\u001b[0m\u001b[1;34m'ORIGIN'\u001b[0m\u001b[1;33m]\u001b[0m\u001b[1;33m.\u001b[0m\u001b[0misin\u001b[0m\u001b[1;33m(\u001b[0m\u001b[1;33m[\u001b[0m\u001b[1;36m17031980000\u001b[0m\u001b[1;33m,\u001b[0m\u001b[1;36m17031980100\u001b[0m\u001b[1;33m]\u001b[0m\u001b[1;33m)\u001b[0m\u001b[1;33m)\u001b[0m\u001b[1;33m|\u001b[0m\u001b[1;33m(\u001b[0m\u001b[0mdf3\u001b[0m\u001b[1;33m[\u001b[0m\u001b[1;34m'DESTINATION'\u001b[0m\u001b[1;33m]\u001b[0m\u001b[1;33m.\u001b[0m\u001b[0misin\u001b[0m\u001b[1;33m(\u001b[0m\u001b[1;33m[\u001b[0m\u001b[1;36m17031980000\u001b[0m\u001b[1;33m,\u001b[0m\u001b[1;36m1703198010\u001b[0m\u001b[1;33m]\u001b[0m\u001b[1;33m)\u001b[0m\u001b[1;33m)\u001b[0m\u001b[1;33m,\u001b[0m\u001b[1;36m1\u001b[0m\u001b[1;33m,\u001b[0m\u001b[1;36m0\u001b[0m\u001b[1;33m)\u001b[0m\u001b[1;33m\u001b[0m\u001b[1;33m\u001b[0m\u001b[0m\n\u001b[0m",
      "\u001b[1;31mNameError\u001b[0m: name 'df3' is not defined"
     ]
    }
   ],
   "source": [
    "df3['AIRPORT_FLAGGER'] = np.where((df3['ORIGIN'].isin([17031980000,17031980100]))|(df3['DESTINATION'].isin([17031980000,1703198010])),1,0)"
   ]
  },
  {
   "cell_type": "code",
   "execution_count": 30,
   "metadata": {},
   "outputs": [
    {
     "ename": "NameError",
     "evalue": "name 'df3' is not defined",
     "output_type": "error",
     "traceback": [
      "\u001b[1;31m---------------------------------------------------------------------------\u001b[0m",
      "\u001b[1;31mNameError\u001b[0m                                 Traceback (most recent call last)",
      "\u001b[1;32m<ipython-input-30-66daa50692c3>\u001b[0m in \u001b[0;36m<module>\u001b[1;34m\u001b[0m\n\u001b[1;32m----> 1\u001b[1;33m \u001b[0mdf3\u001b[0m\u001b[1;33m[\u001b[0m\u001b[1;34m'PRIVATE_UTILITY'\u001b[0m\u001b[1;33m]\u001b[0m \u001b[1;33m=\u001b[0m \u001b[0mdf3\u001b[0m\u001b[1;33m[\u001b[0m\u001b[1;34m'PRIVATE_TRAVEL_TIME'\u001b[0m\u001b[1;33m]\u001b[0m\u001b[1;33m*\u001b[0m\u001b[1;33m-\u001b[0m\u001b[1;36m0.110075\u001b[0m \u001b[1;33m+\u001b[0m \u001b[0mdf3\u001b[0m\u001b[1;33m[\u001b[0m\u001b[1;34m'PRIVATE_FARE'\u001b[0m\u001b[1;33m]\u001b[0m\u001b[1;33m*\u001b[0m\u001b[1;33m-\u001b[0m\u001b[1;36m0.137794\u001b[0m \u001b[1;33m+\u001b[0m \u001b[0mdf3\u001b[0m\u001b[1;33m[\u001b[0m\u001b[1;34m'PRIVATE_TAX'\u001b[0m\u001b[1;33m]\u001b[0m\u001b[1;33m*\u001b[0m\u001b[1;33m-\u001b[0m\u001b[1;36m0.137794\u001b[0m\u001b[1;33m\u001b[0m\u001b[1;33m\u001b[0m\u001b[0m\n\u001b[0m",
      "\u001b[1;31mNameError\u001b[0m: name 'df3' is not defined"
     ]
    }
   ],
   "source": [
    "df3['PRIVATE_UTILITY'] = df3['PRIVATE_TRAVEL_TIME']*-0.110075 + df3['PRIVATE_FARE']*-0.137794 + df3['PRIVATE_TAX']*-0.137794"
   ]
  },
  {
   "cell_type": "code",
   "execution_count": 37,
   "metadata": {},
   "outputs": [],
   "source": [
    "df3['SHARED_UTILITY'] = -0.573322 + df3['SHARED_TRAVEL_TIME']*-0.110075 + df3['SHARED_FARE']*-0.137794 + df3['SHARED_TAX']*-0.137794 + df3['HHLDS_MEDIAN_INCOME_ORIGIN_10k']*-0.068228 + df3['HHLDS_MEDIAN_INCOME_DESTINATION_10k']*-0.049448 + df3['AIRPORT_FLAGGER']*-2.716947"
   ]
  },
  {
   "cell_type": "code",
   "execution_count": 39,
   "metadata": {},
   "outputs": [],
   "source": [
    "df3['EXP_PRIVATE_UTILITY'] = np.exp(df3['PRIVATE_UTILITY'])"
   ]
  },
  {
   "cell_type": "code",
   "execution_count": 40,
   "metadata": {},
   "outputs": [],
   "source": [
    "df3['EXP_SHARED_UTILITY'] = np.exp(df3['SHARED_UTILITY'])"
   ]
  },
  {
   "cell_type": "code",
   "execution_count": 41,
   "metadata": {},
   "outputs": [],
   "source": [
    "df3['LOG_SUM'] = np.log(df3['EXP_PRIVATE_UTILITY'] + df3['EXP_SHARED_UTILITY'])"
   ]
  },
  {
   "cell_type": "code",
   "execution_count": 42,
   "metadata": {},
   "outputs": [
    {
     "data": {
      "text/plain": [
       "0.003737063341282254"
      ]
     },
     "execution_count": 42,
     "metadata": {},
     "output_type": "execute_result"
    }
   ],
   "source": [
    "df3['LOG_SUM'].max()"
   ]
  },
  {
   "cell_type": "code",
   "execution_count": 43,
   "metadata": {},
   "outputs": [
    {
     "data": {
      "text/plain": [
       "-12.295058475202469"
      ]
     },
     "execution_count": 43,
     "metadata": {},
     "output_type": "execute_result"
    }
   ],
   "source": [
    "df3['LOG_SUM'].min()"
   ]
  },
  {
   "cell_type": "code",
   "execution_count": 47,
   "metadata": {},
   "outputs": [],
   "source": [
    "df3.to_csv('C:/Workspace/TNC-Demand-Model/Outputs/Destination Choice Model Matricies/Log Sum/Log_Sum_2018_11_1.csv')"
   ]
  },
  {
   "cell_type": "markdown",
   "metadata": {},
   "source": [
    "# Automate the process to create o-d-month-tod specific matricies"
   ]
  },
  {
   "cell_type": "code",
   "execution_count": null,
   "metadata": {},
   "outputs": [],
   "source": [
    "dist = pd.read_csv('C:/Workspace/TNC-Demand-Model/Outputs/Distance_Matrix.csv', index_col = 0)"
   ]
  },
  {
   "cell_type": "code",
   "execution_count": null,
   "metadata": {},
   "outputs": [],
   "source": [
    "otp = pd.read_csv('C:/Workspace/TNC-Demand-Model/Outputs/OTP Travel Times/Car/20190605/traveltime_matrix_0-29.csv')"
   ]
  },
  {
   "cell_type": "code",
   "execution_count": null,
   "metadata": {},
   "outputs": [],
   "source": [
    "otp['ORIGIN'] = otp.origin.astype(float)\n",
    "otp['DESTINATION'] = otp.destination.astype(float)"
   ]
  },
  {
   "cell_type": "code",
   "execution_count": null,
   "metadata": {},
   "outputs": [],
   "source": [
    "acs = pd.read_csv('C:/Workspace/TNC-Demand-Model/Outputs/Chicago_ACS_Data.csv',index_col = 0)"
   ]
  },
  {
   "cell_type": "code",
   "execution_count": null,
   "metadata": {},
   "outputs": [],
   "source": [
    "def set_private_travel_time(row):\n",
    "    if row['TOD'] == 1:\n",
    "        row['PRIVATE_TRAVEL_TIME'] =  row['OTP_AUTO_TRAVEL_TIME']*0.8489\n",
    "        \n",
    "    elif row['TOD'] == 2:\n",
    "        row['PRIVATE_TRAVEL_TIME'] = row['OTP_AUTO_TRAVEL_TIME']*1.1825\n",
    "        \n",
    "    elif row['TOD'] == 3:\n",
    "        row['PRIVATE_TRAVEL_TIME'] = row['OTP_AUTO_TRAVEL_TIME']*1.1331\n",
    "        \n",
    "    elif row['TOD'] == 4:\n",
    "        row['PRIVATE_TRAVEL_TIME'] = row['OTP_AUTO_TRAVEL_TIME']*1.2906\n",
    "        \n",
    "    elif row['TOD'] == 5:\n",
    "        row['PRIVATE_TRAVEL_TIME'] = row['OTP_AUTO_TRAVEL_TIME']*0.9292\n",
    "        \n",
    "    else:\n",
    "        print('Bad Row!')\n",
    "        \n",
    "    return row"
   ]
  },
  {
   "cell_type": "code",
   "execution_count": null,
   "metadata": {},
   "outputs": [],
   "source": [
    "def set_shared_travel_time(row):\n",
    "    if row['TOD'] == 1:\n",
    "        row['SHARED_TRAVEL_TIME'] = row['OTP_AUTO_TRAVEL_TIME']*1.0293\n",
    "        \n",
    "    elif row['TOD'] == 2:\n",
    "        row['SHARED_TRAVEL_TIME'] =  row['OTP_AUTO_TRAVEL_TIME']*1.3786\n",
    "        \n",
    "    elif row['TOD'] == 3:\n",
    "        row['SHARED_TRAVEL_TIME'] = row['OTP_AUTO_TRAVEL_TIME']*1.2462\n",
    "        \n",
    "    elif row['TOD'] == 4:\n",
    "        row['SHARED_TRAVEL_TIME'] = row['OTP_AUTO_TRAVEL_TIME']*1.4132\n",
    "        \n",
    "    elif row['TOD'] == 5:\n",
    "        row['SHARED_TRAVEL_TIME'] =  row['OTP_AUTO_TRAVEL_TIME']*1.1053\n",
    "        \n",
    "    else:\n",
    "        print('Bad Row!')\n",
    "        \n",
    "    return row"
   ]
  },
  {
   "cell_type": "code",
   "execution_count": null,
   "metadata": {},
   "outputs": [],
   "source": [
    "def set_shared_fare(row):\n",
    "    if row['YEAR_MONTH'] == 201811:\n",
    "        row['SHARED_FARE'] = row['SHARED_FARE']*0.9358\n",
    "        \n",
    "    elif row['YEAR_MONTH'] == 201812:\n",
    "        row['SHARED_FARE'] = row['SHARED_FARE']*0.9408\n",
    "    \n",
    "    elif row['YEAR_MONTH'] == 201901:\n",
    "        row['SHARED_FARE'] = row['SHARED_FARE']*0.9392\n",
    "    \n",
    "    elif row['YEAR_MONTH'] == 201902:\n",
    "        row['SHARED_FARE'] = row['SHARED_FARE']*0.9414\n",
    "    \n",
    "    elif row['YEAR_MONTH'] == 201903:\n",
    "        row['SHARED_FARE'] = row['SHARED_FARE']*0.9270\n",
    "    \n",
    "    elif row['YEAR_MONTH'] == 201904:\n",
    "        row['SHARED_FARE'] = row['SHARED_FARE']*0.9817\n",
    "    \n",
    "    elif row['YEAR_MONTH'] == 201905:\n",
    "        row['SHARED_FARE'] = row['SHARED_FARE']*1.0219\n",
    "    \n",
    "    elif row['YEAR_MONTH'] == 201906:\n",
    "        row['SHARED_FARE'] = row['SHARED_FARE']*1.05634\n",
    "    \n",
    "    elif row['YEAR_MONTH'] == 201907:\n",
    "        row['SHARED_FARE'] = row['SHARED_FARE']*1.0708\n",
    "    \n",
    "    elif row['YEAR_MONTH'] == 201908:\n",
    "        row['SHARED_FARE'] = row['SHARED_FARE']*1.09\n",
    "    \n",
    "    elif row['YEAR_MONTH'] == 201909:\n",
    "        row['SHARED_FARE'] = row['SHARED_FARE']*1.1179\n",
    "    \n",
    "    elif row['YEAR_MONTH'] == 201910:\n",
    "        row['SHARED_FARE'] = row['SHARED_FARE']*1.0129\n",
    "    \n",
    "    elif row['YEAR_MONTH'] == 201911:\n",
    "        row['SHARED_FARE'] = row['SHARED_FARE']*0.9906\n",
    "    \n",
    "    elif row['YEAR_MONTH'] == 201912:\n",
    "        row['SHARED_FARE'] = row['SHARED_FARE']*1.0042\n",
    "    \n",
    "    elif row['YEAR_MONTH'] == 202001:\n",
    "        row['SHARED_FARE'] = row['SHARED_FARE']*1.011\n",
    "    \n",
    "    elif row['YEAR_MONTH'] == 202002:\n",
    "        row['SHARED_FARE'] = row['SHARED_FARE']*1.1003\n",
    "        \n",
    "    else:\n",
    "        print('Bad Row!')\n",
    "        \n",
    "    return row"
   ]
  },
  {
   "cell_type": "code",
   "execution_count": null,
   "metadata": {},
   "outputs": [],
   "source": [
    "tourist_tracts = [17031980100, 17031835200, 17031770602, 17031081402, 17031330100, 17031841000]"
   ]
  },
  {
   "cell_type": "code",
   "execution_count": null,
   "metadata": {},
   "outputs": [],
   "source": [
    "downtown_tracts = [17031839000,\n",
    "17031080202,\n",
    "17031839100,\n",
    "17031081201,\n",
    "17031838300,\n",
    "17031081401,\n",
    "17031081300,\n",
    "17031081100,\n",
    "17031081000,\n",
    "17031081900,\n",
    "17031081500,\n",
    "17031081600,\n",
    "17031081700,\n",
    "17031280100,\n",
    "17031842200,\n",
    "17031080400,\n",
    "17031080300,\n",
    "17031080201,\n",
    "17031080100,\n",
    "17031081202,\n",
    "17031081403,\n",
    "17031081402,\n",
    "17031320100,\n",
    "17031320400,\n",
    "17031320600,\n",
    "17031841900,\n",
    "17031281900,\n",
    "17031833100,\n",
    "17031833000,\n",
    "17031243400,\n",
    "17031243500,\n",
    "17031081800,\n",
    "17031243300]"
   ]
  },
  {
   "cell_type": "code",
   "execution_count": 58,
   "metadata": {},
   "outputs": [
    {
     "name": "stdout",
     "output_type": "stream",
     "text": [
      "Working on year 2018\n",
      "Working on month 11\n",
      "Working on TOD 1\n",
      "Merging the files!\n",
      "Formatting the data!\n",
      "Calculating Utility and Log Sum!\n",
      "Working on TOD 2\n",
      "Merging the files!\n",
      "Formatting the data!\n",
      "Calculating Utility and Log Sum!\n",
      "Working on TOD 3\n",
      "Merging the files!\n",
      "Formatting the data!\n",
      "Calculating Utility and Log Sum!\n",
      "Working on TOD 4\n",
      "Merging the files!\n",
      "Formatting the data!\n",
      "Calculating Utility and Log Sum!\n",
      "Working on TOD 5\n",
      "Merging the files!\n",
      "Formatting the data!\n",
      "Calculating Utility and Log Sum!\n",
      "Working on month 12\n",
      "Working on TOD 1\n",
      "Merging the files!\n",
      "Formatting the data!\n",
      "Calculating Utility and Log Sum!\n",
      "Working on TOD 2\n",
      "Merging the files!\n",
      "Formatting the data!\n",
      "Calculating Utility and Log Sum!\n",
      "Working on TOD 3\n",
      "Merging the files!\n",
      "Formatting the data!\n",
      "Calculating Utility and Log Sum!\n",
      "Working on TOD 4\n",
      "Merging the files!\n",
      "Formatting the data!\n",
      "Calculating Utility and Log Sum!\n",
      "Working on TOD 5\n",
      "Merging the files!\n",
      "Formatting the data!\n",
      "Calculating Utility and Log Sum!\n",
      "Working on year 2019\n",
      "Working on month 1\n",
      "Working on TOD 1\n",
      "Merging the files!\n",
      "Formatting the data!\n",
      "Calculating Utility and Log Sum!\n",
      "Working on TOD 2\n",
      "Merging the files!\n",
      "Formatting the data!\n",
      "Calculating Utility and Log Sum!\n",
      "Working on TOD 3\n",
      "Merging the files!\n",
      "Formatting the data!\n",
      "Calculating Utility and Log Sum!\n",
      "Working on TOD 4\n",
      "Merging the files!\n",
      "Formatting the data!\n",
      "Calculating Utility and Log Sum!\n",
      "Working on TOD 5\n",
      "Merging the files!\n",
      "Formatting the data!\n",
      "Calculating Utility and Log Sum!\n",
      "Working on month 2\n",
      "Working on TOD 1\n",
      "Merging the files!\n",
      "Formatting the data!\n",
      "Calculating Utility and Log Sum!\n",
      "Working on TOD 2\n",
      "Merging the files!\n",
      "Formatting the data!\n",
      "Calculating Utility and Log Sum!\n",
      "Working on TOD 3\n",
      "Merging the files!\n",
      "Formatting the data!\n",
      "Calculating Utility and Log Sum!\n",
      "Working on TOD 4\n",
      "Merging the files!\n",
      "Formatting the data!\n",
      "Calculating Utility and Log Sum!\n",
      "Working on TOD 5\n",
      "Merging the files!\n",
      "Formatting the data!\n",
      "Calculating Utility and Log Sum!\n",
      "Working on month 3\n",
      "Working on TOD 1\n",
      "Merging the files!\n",
      "Formatting the data!\n",
      "Calculating Utility and Log Sum!\n",
      "Working on TOD 2\n",
      "Merging the files!\n",
      "Formatting the data!\n",
      "Calculating Utility and Log Sum!\n",
      "Working on TOD 3\n",
      "Merging the files!\n",
      "Formatting the data!\n",
      "Calculating Utility and Log Sum!\n",
      "Working on TOD 4\n",
      "Merging the files!\n",
      "Formatting the data!\n",
      "Calculating Utility and Log Sum!\n",
      "Working on TOD 5\n",
      "Merging the files!\n",
      "Formatting the data!\n",
      "Calculating Utility and Log Sum!\n",
      "Working on month 4\n",
      "Working on TOD 1\n",
      "Merging the files!\n",
      "Formatting the data!\n",
      "Calculating Utility and Log Sum!\n",
      "Working on TOD 2\n",
      "Merging the files!\n",
      "Formatting the data!\n",
      "Calculating Utility and Log Sum!\n",
      "Working on TOD 3\n",
      "Merging the files!\n",
      "Formatting the data!\n",
      "Calculating Utility and Log Sum!\n",
      "Working on TOD 4\n",
      "Merging the files!\n",
      "Formatting the data!\n",
      "Calculating Utility and Log Sum!\n",
      "Working on TOD 5\n",
      "Merging the files!\n",
      "Formatting the data!\n",
      "Calculating Utility and Log Sum!\n",
      "Working on month 5\n",
      "Working on TOD 1\n",
      "Merging the files!\n",
      "Formatting the data!\n",
      "Calculating Utility and Log Sum!\n",
      "Working on TOD 2\n",
      "Merging the files!\n",
      "Formatting the data!\n",
      "Calculating Utility and Log Sum!\n",
      "Working on TOD 3\n",
      "Merging the files!\n",
      "Formatting the data!\n",
      "Calculating Utility and Log Sum!\n",
      "Working on TOD 4\n",
      "Merging the files!\n",
      "Formatting the data!\n",
      "Calculating Utility and Log Sum!\n",
      "Working on TOD 5\n",
      "Merging the files!\n",
      "Formatting the data!\n",
      "Calculating Utility and Log Sum!\n",
      "Working on month 6\n",
      "Working on TOD 1\n",
      "Merging the files!\n",
      "Formatting the data!\n",
      "Calculating Utility and Log Sum!\n",
      "Working on TOD 2\n",
      "Merging the files!\n",
      "Formatting the data!\n",
      "Calculating Utility and Log Sum!\n",
      "Working on TOD 3\n",
      "Merging the files!\n",
      "Formatting the data!\n",
      "Calculating Utility and Log Sum!\n",
      "Working on TOD 4\n",
      "Merging the files!\n",
      "Formatting the data!\n",
      "Calculating Utility and Log Sum!\n",
      "Working on TOD 5\n",
      "Merging the files!\n",
      "Formatting the data!\n",
      "Calculating Utility and Log Sum!\n",
      "Working on month 7\n",
      "Working on TOD 1\n",
      "Merging the files!\n",
      "Formatting the data!\n",
      "Calculating Utility and Log Sum!\n",
      "Working on TOD 2\n",
      "Merging the files!\n",
      "Formatting the data!\n",
      "Calculating Utility and Log Sum!\n",
      "Working on TOD 3\n",
      "Merging the files!\n",
      "Formatting the data!\n",
      "Calculating Utility and Log Sum!\n",
      "Working on TOD 4\n",
      "Merging the files!\n",
      "Formatting the data!\n",
      "Calculating Utility and Log Sum!\n",
      "Working on TOD 5\n",
      "Merging the files!\n",
      "Formatting the data!\n",
      "Calculating Utility and Log Sum!\n",
      "Working on month 8\n",
      "Working on TOD 1\n",
      "Merging the files!\n",
      "Formatting the data!\n",
      "Calculating Utility and Log Sum!\n",
      "Working on TOD 2\n",
      "Merging the files!\n",
      "Formatting the data!\n",
      "Calculating Utility and Log Sum!\n",
      "Working on TOD 3\n",
      "Merging the files!\n",
      "Formatting the data!\n",
      "Calculating Utility and Log Sum!\n",
      "Working on TOD 4\n",
      "Merging the files!\n",
      "Formatting the data!\n",
      "Calculating Utility and Log Sum!\n",
      "Working on TOD 5\n",
      "Merging the files!\n",
      "Formatting the data!\n",
      "Calculating Utility and Log Sum!\n",
      "Working on month 9\n",
      "Working on TOD 1\n",
      "Merging the files!\n",
      "Formatting the data!\n",
      "Calculating Utility and Log Sum!\n",
      "Working on TOD 2\n",
      "Merging the files!\n",
      "Formatting the data!\n",
      "Calculating Utility and Log Sum!\n",
      "Working on TOD 3\n",
      "Merging the files!\n",
      "Formatting the data!\n",
      "Calculating Utility and Log Sum!\n",
      "Working on TOD 4\n",
      "Merging the files!\n",
      "Formatting the data!\n",
      "Calculating Utility and Log Sum!\n",
      "Working on TOD 5\n",
      "Merging the files!\n",
      "Formatting the data!\n",
      "Calculating Utility and Log Sum!\n",
      "Working on month 10\n",
      "Working on TOD 1\n",
      "Merging the files!\n",
      "Formatting the data!\n",
      "Calculating Utility and Log Sum!\n",
      "Working on TOD 2\n",
      "Merging the files!\n",
      "Formatting the data!\n",
      "Calculating Utility and Log Sum!\n",
      "Working on TOD 3\n",
      "Merging the files!\n",
      "Formatting the data!\n",
      "Calculating Utility and Log Sum!\n",
      "Working on TOD 4\n",
      "Merging the files!\n",
      "Formatting the data!\n",
      "Calculating Utility and Log Sum!\n",
      "Working on TOD 5\n",
      "Merging the files!\n",
      "Formatting the data!\n",
      "Calculating Utility and Log Sum!\n",
      "Working on month 11\n",
      "Working on TOD 1\n",
      "Merging the files!\n",
      "Formatting the data!\n",
      "Calculating Utility and Log Sum!\n",
      "Working on TOD 2\n",
      "Merging the files!\n",
      "Formatting the data!\n",
      "Calculating Utility and Log Sum!\n",
      "Working on TOD 3\n",
      "Merging the files!\n",
      "Formatting the data!\n",
      "Calculating Utility and Log Sum!\n",
      "Working on TOD 4\n",
      "Merging the files!\n",
      "Formatting the data!\n",
      "Calculating Utility and Log Sum!\n",
      "Working on TOD 5\n",
      "Merging the files!\n",
      "Formatting the data!\n",
      "Calculating Utility and Log Sum!\n",
      "Working on month 12\n",
      "Working on TOD 1\n",
      "Merging the files!\n",
      "Formatting the data!\n",
      "Calculating Utility and Log Sum!\n",
      "Working on TOD 2\n",
      "Merging the files!\n",
      "Formatting the data!\n",
      "Calculating Utility and Log Sum!\n",
      "Working on TOD 3\n",
      "Merging the files!\n",
      "Formatting the data!\n",
      "Calculating Utility and Log Sum!\n",
      "Working on TOD 4\n",
      "Merging the files!\n",
      "Formatting the data!\n",
      "Calculating Utility and Log Sum!\n",
      "Working on TOD 5\n",
      "Merging the files!\n",
      "Formatting the data!\n",
      "Calculating Utility and Log Sum!\n",
      "Working on year 2020\n",
      "Working on month 1\n",
      "Working on TOD 1\n",
      "Merging the files!\n",
      "Formatting the data!\n",
      "Calculating Utility and Log Sum!\n",
      "Working on TOD 2\n",
      "Merging the files!\n",
      "Formatting the data!\n",
      "Calculating Utility and Log Sum!\n",
      "Working on TOD 3\n",
      "Merging the files!\n",
      "Formatting the data!\n",
      "Calculating Utility and Log Sum!\n",
      "Working on TOD 4\n",
      "Merging the files!\n",
      "Formatting the data!\n",
      "Calculating Utility and Log Sum!\n",
      "Working on TOD 5\n",
      "Merging the files!\n",
      "Formatting the data!\n",
      "Calculating Utility and Log Sum!\n",
      "Working on month 2\n",
      "Working on TOD 1\n",
      "Merging the files!\n",
      "Formatting the data!\n",
      "Calculating Utility and Log Sum!\n",
      "Working on TOD 2\n",
      "Merging the files!\n",
      "Formatting the data!\n",
      "Calculating Utility and Log Sum!\n",
      "Working on TOD 3\n",
      "Merging the files!\n",
      "Formatting the data!\n",
      "Calculating Utility and Log Sum!\n",
      "Working on TOD 4\n",
      "Merging the files!\n",
      "Formatting the data!\n",
      "Calculating Utility and Log Sum!\n",
      "Working on TOD 5\n",
      "Merging the files!\n",
      "Formatting the data!\n",
      "Calculating Utility and Log Sum!\n"
     ]
    }
   ],
   "source": [
    "\n",
    "\n",
    "years = [2018,2019,2020]\n",
    "tods = [1,2,3,4,5]\n",
    "\n",
    "for year in years:\n",
    "    print('Working on year ' + str(year))\n",
    "\n",
    "    if year == 2018:\n",
    "        months = [11,12]\n",
    "    elif year == 2020:\n",
    "        months = [1,2]\n",
    "    else:\n",
    "        months = [1,2,3,4,5,6,7,8,9,10,11,12]\n",
    "        \n",
    "    for month in months:\n",
    "        print('Working on month ' + str(month))\n",
    "\n",
    "        for tod in tods:\n",
    "            print('Working on TOD ' + str(tod))\n",
    "            print('Merging the files!')\n",
    "            df = pd.DataFrame()\n",
    "            df3 = pd.DataFrame()\n",
    "\n",
    "            df = pd.read_csv('C:/Workspace/TNC-Demand-Model/Outputs/Destination Choice Model Matricies/Empty Matricies/Empty_Chicago_Matrix_' + str(year) + '_' + str(month) + '_' + str(tod) + '.csv',index_col = 0)\n",
    "\n",
    "            df3 = df.merge(otp[['origin','destination','walk_distance','travel_time']], how = 'left', left_on = ['ORIGIN','DESTINATION'], right_on = ['origin','destination'])\n",
    "            df3 = df3.merge(acs[['HHLDS_MEDIAN_INCOME','YEAR','MONTH','TOD','CENSUS_TRACT']], how = 'left', left_on = ['YEAR','MONTH','TOD','ORIGIN'], right_on = ['YEAR','MONTH','TOD','CENSUS_TRACT'])\n",
    "            df3 = df3.merge(acs[['HHLDS_MEDIAN_INCOME','YEAR','MONTH','TOD','CENSUS_TRACT']], how = 'left', left_on = ['YEAR','MONTH','TOD','DESTINATION'], right_on = ['YEAR','MONTH','TOD','CENSUS_TRACT'], suffixes = ('_ORIGIN','_DESTINATION'))\n",
    "            df3 = df3.merge(dist, how = 'left', on = ['ORIGIN','DESTINATION'])\n",
    "            \n",
    "            print('Formatting the data!')\n",
    "\n",
    "            df3['OTP_AUTO_TRAVEL_TIME'] = df3['travel_time']/60\n",
    "            df3 = df3.apply(lambda row: set_private_travel_time(row), axis = 1)\n",
    "            df3 = df3.apply(lambda row: set_shared_travel_time(row), axis = 1)\n",
    "            df3['PRIVATE_FARE'] =  1.9035 + df3['PRIVATE_TRAVEL_TIME']*0.2892 + df3['DISTANCE']*0.8822\n",
    "            df3['SHARED_FARE'] =  2.6496 + 0.06*df3['SHARED_TRAVEL_TIME'] + 0.7349*df3['DISTANCE']\n",
    "            df3['YEAR_MONTH'] = df3['MONTH'] + df3['YEAR']*100\n",
    "            df3 = df3.apply(lambda row: set_shared_fare(row), axis = 1)\n",
    "            #set the tax for trips with both ends outside of tourist zone during 2018\n",
    "            df3['SHARED_TAX'] = np.where(df3['YEAR'] == 2018, 0.67, np.nan)\n",
    "            df3['PRIVATE_TAX'] = np.where(df3['YEAR'] == 2018, 0.67, np.nan)\n",
    "\n",
    "            #set the tax for trips with broth ends outside of trouist zone during 2019\n",
    "            df3['SHARED_TAX'] = np.where(df3['YEAR'] == 2019, 0.72, df3['SHARED_TAX'])\n",
    "            df3['PRIVATE_TAX'] = np.where(df3['YEAR'] == 2019, 0.72, df3['PRIVATE_TAX'])\n",
    "\n",
    "            #set the tax for trips with at least one end within the tourist zone during 2019 and 2018\n",
    "            df3['SHARED_TAX'] = np.where((df3['ORIGIN'].isin(tourist_tracts))|(df3['DESTINATION'].isin(tourist_tracts)), 5, df3['SHARED_TAX'])\n",
    "            df3['PRIVATE_TAX'] = np.where((df3['ORIGIN'].isin(tourist_tracts))|(df3['DESTINATION'].isin(tourist_tracts)), 5, df3['PRIVATE_TAX'])\n",
    "\n",
    "\n",
    "            #set the tax for trips with both trip ends outside of the downtown zone during 2020\n",
    "            df3['SHARED_TAX'] = np.where((df3['YEAR'] == 2020), 0.65, df3['SHARED_TAX'])\n",
    "            df3['PRIVATE_TAX'] = np.where((df3['YEAR'] == 2020), 1.25, df3['PRIVATE_TAX'])\n",
    "\n",
    "\n",
    "            #set the tax with at least one trip end within the downtown zone for 2020\n",
    "            df3['SHARED_TAX'] = np.where((df3['TOD'] != 1)&(df3['YEAR'] == 2020)&(df3['ORIGIN'].isin(downtown_tracts)), 1.25, df3['SHARED_TAX'])\n",
    "            df3['PRIVATE_TAX'] = np.where((df3['TOD'] != 1)&(df3['YEAR'] == 2020)&(df3['ORIGIN'].isin(downtown_tracts)), 3, df3['PRIVATE_TAX'])\n",
    "\n",
    "            df3['SHARED_TAX'] = np.where((df3['TOD'] != 1)&(df3['YEAR'] == 2020)&(df3['DESTINATION'].isin(downtown_tracts)), 1.25, df3['SHARED_TAX'])\n",
    "            df3['PRIVATE_TAX'] = np.where((df3['TOD'] != 1)&(df3['YEAR'] == 2020)&(df3['DESTINATION'].isin(downtown_tracts)), 3, df3['PRIVATE_TAX'])\n",
    "\n",
    "\n",
    "            #set the tax for trips with at least one trip end within a tourist zone for 2020                       \n",
    "            df3['SHARED_TAX'] = np.where((df3['YEAR'] == 2020)&(df3['ORIGIN'].isin(tourist_tracts)), 5.65, df3['SHARED_TAX'])\n",
    "            df3['PRIVATE_TAX'] = np.where((df3['YEAR'] == 2020)&(df3['ORIGIN'].isin(tourist_tracts)), 6.25, df3['PRIVATE_TAX'])\n",
    "\n",
    "            df3['SHARED_TAX'] = np.where((df3['YEAR'] == 2020)&(df3['DESTINATION'].isin(tourist_tracts)), 5.65, df3['SHARED_TAX'])\n",
    "            df3['PRIVATE_TAX'] = np.where((df3['YEAR'] == 2020)&(df3['DESTINATION'].isin(tourist_tracts)), 6.25, df3['PRIVATE_TAX'])\n",
    "\n",
    "\n",
    "            #set the tax with one trip end in the downtown zone and the other trip end in a tourist zone for 2020\n",
    "            df3['SHARED_TAX'] = np.where((df3['TOD'] != 1)&(df3['YEAR'] == 2020)&(df3['DESTINATION'].isin(downtown_tracts))&(df3['ORIGIN'].isin(tourist_tracts)), 6.25, df3['SHARED_TAX'])\n",
    "            df3['PRIVATE_TAX'] = np.where((df3['TOD'] != 1)&(df3['YEAR'] == 2020)&(df3['DESTINATION'].isin(downtown_tracts))&(df3['ORIGIN'].isin(tourist_tracts)), 8, df3['PRIVATE_TAX'])\n",
    "\n",
    "            df3['SHARED_TAX'] = np.where((df3['TOD'] != 1)&(df3['YEAR'] == 2020)&(df3['ORIGIN'].isin(downtown_tracts))&(df3['DESTINATION'].isin(tourist_tracts)), 6.25, df3['SHARED_TAX'])\n",
    "            df3['PRIVATE_TAX'] = np.where((df3['TOD'] != 1)&(df3['YEAR'] == 2020)&(df3['ORIGIN'].isin(downtown_tracts))&(df3['DESTINATION'].isin(tourist_tracts)), 8, df3['PRIVATE_TAX'])\n",
    "\n",
    "            df3['HHLDS_MEDIAN_INCOME_ORIGIN'] = df3['HHLDS_MEDIAN_INCOME_ORIGIN'].fillna(0)\n",
    "            df3['HHLDS_MEDIAN_INCOME_DESTINATION'] = df3['HHLDS_MEDIAN_INCOME_DESTINATION'].fillna(0)\n",
    "            \n",
    "            df3['HHLDS_MEDIAN_INCOME_ORIGIN_10k'] = df3['HHLDS_MEDIAN_INCOME_ORIGIN']/10000\n",
    "            df3['HHLDS_MEDIAN_INCOME_DESTINATION_10k'] = df3['HHLDS_MEDIAN_INCOME_DESTINATION'] / 10000\n",
    "            \n",
    "            df3['AIRPORT_FLAGGER'] = np.where((df3['ORIGIN'].isin([17031980000,17031980100]))|(df3['DESTINATION'].isin([17031980000,1703198010])),1,0)\n",
    "            \n",
    "            print('Calculating Utility and Log Sum!')\n",
    "\n",
    "            df3['PRIVATE_UTILITY'] = df3['PRIVATE_TRAVEL_TIME']*-0.110075 + df3['PRIVATE_FARE']*-0.137794 + df3['PRIVATE_TAX']*-0.137794\n",
    "            df3['SHARED_UTILITY'] = -0.573322 + df3['SHARED_TRAVEL_TIME']*-0.110075 + df3['SHARED_FARE']*-0.137794 + df3['SHARED_TAX']*-0.137794 + df3['HHLDS_MEDIAN_INCOME_ORIGIN_10k']*-0.068228 + df3['HHLDS_MEDIAN_INCOME_DESTINATION_10k']*-0.049448 + df3['AIRPORT_FLAGGER']*-2.716947\n",
    "            \n",
    "            df3['EXP_PRIVATE_UTILITY'] = np.exp(df3['PRIVATE_UTILITY'])\n",
    "            df3['EXP_SHARED_UTILITY'] = np.exp(df3['SHARED_UTILITY'])\n",
    "            \n",
    "            df3['LOG_SUM'] = np.log(df3['EXP_PRIVATE_UTILITY'] + df3['EXP_SHARED_UTILITY'])\n",
    "            \n",
    "            df3[['ORIGIN','DESTINATION','MONTH','YEAR','TOD','LOG_SUM','EXP_PRIVATE_UTILITY','EXP_SHARED_UTILITY','PRIVATE_UTILITY','SHARED_UTILITY','AIRPORT_FLAGGER','HHLDS_MEDIAN_INCOME_DESTINATION_10k','HHLDS_MEDIAN_INCOME_ORIGIN_10k','PRIVATE_TAX','SHARED_TAX','PRIVATE_FARE','SHARED_FARE','PRIVATE_FARE','SHARED_FARE','PRIVATE_TRAVEL_TIME','SHARED_TRAVEL_TIME']].to_csv('C:/Workspace/TNC-Demand-Model/Outputs/Destination Choice Model Matricies/Log Sum/Log_Sum_' + str(year) + '_' + str(month) + '_' + str(tod) + '.csv')"
   ]
  },
  {
   "cell_type": "code",
   "execution_count": null,
   "metadata": {},
   "outputs": [],
   "source": []
  }
 ],
 "metadata": {
  "kernelspec": {
   "display_name": "Python 3",
   "language": "python",
   "name": "python3"
  },
  "language_info": {
   "codemirror_mode": {
    "name": "ipython",
    "version": 3
   },
   "file_extension": ".py",
   "mimetype": "text/x-python",
   "name": "python",
   "nbconvert_exporter": "python",
   "pygments_lexer": "ipython3",
   "version": "3.7.6"
  }
 },
 "nbformat": 4,
 "nbformat_minor": 4
}
