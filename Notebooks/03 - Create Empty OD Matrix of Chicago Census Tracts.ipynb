{
 "cells": [
  {
   "cell_type": "code",
   "execution_count": 1,
   "metadata": {},
   "outputs": [],
   "source": [
    "import pandas as pd\n",
    "import geopandas as gp"
   ]
  },
  {
   "cell_type": "code",
   "execution_count": 2,
   "metadata": {},
   "outputs": [],
   "source": [
    "tracts = gp.read_file('C:/Workspace/TNC-Demand-Model/Inputs/Census Shapefiles/Chicago Tracts/geo_export_558aad9f-98d8-4dd5-a6b1-c1730155d596.shp')"
   ]
  },
  {
   "cell_type": "code",
   "execution_count": 3,
   "metadata": {},
   "outputs": [],
   "source": [
    "tods = [1,2,3,4,5]"
   ]
  },
  {
   "cell_type": "code",
   "execution_count": 25,
   "metadata": {},
   "outputs": [
    {
     "name": "stdout",
     "output_type": "stream",
     "text": [
      "Working on TOD 1\n",
      "Working on TOD 2\n",
      "Working on TOD 3\n",
      "Working on TOD 4\n",
      "Working on TOD 5\n",
      "Complete!\n"
     ]
    }
   ],
   "source": [
    "df = pd.DataFrame()\n",
    "df3 = pd.DataFrame()\n",
    "\n",
    "for tod in tods:\n",
    "    df2 = pd.DataFrame()\n",
    "    print('Working on TOD ' + str(tod))\n",
    "    \n",
    "    for tract in tracts.geoid10:\n",
    "        df['DESTINATION'] = tracts.geoid10\n",
    "        df['ORIGIN'] = tract\n",
    "        df2 = df2.append(df)\n",
    "        \n",
    "    df2['TOD'] = tod\n",
    "    df3 = df3.append(df2)\n",
    "    \n",
    "print('Complete!')"
   ]
  },
  {
   "cell_type": "code",
   "execution_count": 29,
   "metadata": {},
   "outputs": [
    {
     "data": {
      "text/plain": [
       "17031063302    801.0\n",
       "17031691400    801.0\n",
       "17031831900    801.0\n",
       "17031030604    801.0\n",
       "17031242600    801.0\n",
       "               ...  \n",
       "17031839200    801.0\n",
       "17031040100    801.0\n",
       "17031380700    801.0\n",
       "17031030800    801.0\n",
       "17031150401    801.0\n",
       "Name: ORIGIN, Length: 801, dtype: float64"
      ]
     },
     "execution_count": 29,
     "metadata": {},
     "output_type": "execute_result"
    }
   ],
   "source": [
    "df3.ORIGIN.value_counts()/5"
   ]
  },
  {
   "cell_type": "code",
   "execution_count": 31,
   "metadata": {},
   "outputs": [],
   "source": [
    "df3.to_csv('C:/Workspace/TNC-Demand-Model/Inputs/Chicago Ride-Hailing/Empty_Chicago_Matrix.csv')"
   ]
  }
 ],
 "metadata": {
  "kernelspec": {
   "display_name": "Python 3",
   "language": "python",
   "name": "python3"
  },
  "language_info": {
   "codemirror_mode": {
    "name": "ipython",
    "version": 3
   },
   "file_extension": ".py",
   "mimetype": "text/x-python",
   "name": "python",
   "nbconvert_exporter": "python",
   "pygments_lexer": "ipython3",
   "version": "3.6.12"
  }
 },
 "nbformat": 4,
 "nbformat_minor": 4
}
