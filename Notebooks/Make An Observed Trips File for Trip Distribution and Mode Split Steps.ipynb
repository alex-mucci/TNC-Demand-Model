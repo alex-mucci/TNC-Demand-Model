{
 "cells": [
  {
   "cell_type": "code",
   "execution_count": 10,
   "metadata": {},
   "outputs": [],
   "source": [
    "import pandas as pd\n",
    "import numpy as np"
   ]
  },
  {
   "cell_type": "code",
   "execution_count": 11,
   "metadata": {},
   "outputs": [],
   "source": [
    "tods = [1,2,3,4,5]"
   ]
  },
  {
   "cell_type": "code",
   "execution_count": 114,
   "metadata": {},
   "outputs": [],
   "source": [
    "years = [2018,2019,2020]"
   ]
  },
  {
   "cell_type": "code",
   "execution_count": null,
   "metadata": {},
   "outputs": [],
   "source": []
  },
  {
   "cell_type": "code",
   "execution_count": 13,
   "metadata": {
    "scrolled": true
   },
   "outputs": [
    {
     "name": "stdout",
     "output_type": "stream",
     "text": [
      "Working on year 2018\n",
      "Working on month 11\n",
      "Working on tod 1\n",
      "Maximum Travel Time\n",
      "118.61666666666666\n",
      "Maximum Trip Length\n",
      "50.0\n",
      "Maximum Speed\n",
      "118.58823529411762\n",
      "Working on tod 2\n",
      "Maximum Travel Time\n",
      "119.9\n",
      "Maximum Trip Length\n",
      "50.0\n",
      "Maximum Speed\n",
      "113.87755102040818\n",
      "Working on tod 3\n",
      "Maximum Travel Time\n",
      "119.91666666666667\n",
      "Maximum Trip Length\n",
      "50.0\n",
      "Maximum Speed\n",
      "113.89090909090909\n",
      "Working on tod 4\n",
      "Maximum Travel Time\n",
      "119.86666666666666\n",
      "Maximum Trip Length\n",
      "50.0\n",
      "Maximum Speed\n",
      "111.06382978723404\n",
      "Working on tod 5\n",
      "Maximum Travel Time\n",
      "119.71666666666667\n",
      "Maximum Trip Length\n",
      "50.0\n",
      "Maximum Speed\n",
      "110.76923076923076\n",
      "Working on month 12\n",
      "Working on tod 1\n",
      "Maximum Travel Time\n",
      "117.8\n",
      "Maximum Trip Length\n",
      "50.0\n",
      "Maximum Speed\n",
      "111.23595505617978\n",
      "Working on tod 2\n",
      "Maximum Travel Time\n",
      "119.56666666666666\n",
      "Maximum Trip Length\n",
      "50.0\n",
      "Maximum Speed\n",
      "117.62376237623762\n",
      "Working on tod 3\n",
      "Maximum Travel Time\n",
      "120.0\n",
      "Maximum Trip Length\n",
      "50.0\n",
      "Maximum Speed\n",
      "116.07476635514018\n",
      "Working on tod 4\n",
      "Maximum Travel Time\n",
      "119.91666666666667\n",
      "Maximum Trip Length\n",
      "50.0\n",
      "Maximum Speed\n",
      "113.68421052631578\n",
      "Working on tod 5\n",
      "Maximum Travel Time\n",
      "119.65\n",
      "Maximum Trip Length\n",
      "50.0\n",
      "Maximum Speed\n",
      "116.75675675675674\n",
      "Working on year 2019\n",
      "Working on month 1\n",
      "Working on tod 1\n",
      "Maximum Travel Time\n",
      "119.9\n",
      "Maximum Trip Length\n",
      "50.0\n",
      "Maximum Speed\n",
      "115.2\n",
      "Working on tod 2\n",
      "Maximum Travel Time\n",
      "120.0\n",
      "Maximum Trip Length\n",
      "50.0\n",
      "Maximum Speed\n",
      "112.5\n",
      "Working on tod 3\n",
      "Maximum Travel Time\n",
      "119.95\n",
      "Maximum Trip Length\n",
      "50.0\n",
      "Maximum Speed\n",
      "117.76951672862455\n",
      "Working on tod 4\n",
      "Maximum Travel Time\n",
      "119.96666666666667\n",
      "Maximum Trip Length\n",
      "50.0\n",
      "Maximum Speed\n",
      "115.71428571428572\n",
      "Working on tod 5\n",
      "Maximum Travel Time\n",
      "118.51666666666667\n",
      "Maximum Trip Length\n",
      "50.0\n",
      "Maximum Speed\n",
      "110.6024096385542\n",
      "Working on month 2\n",
      "Working on tod 1\n",
      "Maximum Travel Time\n",
      "118.86666666666666\n",
      "Maximum Trip Length\n",
      "50.0\n",
      "Maximum Speed\n",
      "113.68421052631578\n",
      "Working on tod 2\n",
      "Maximum Travel Time\n",
      "119.76666666666667\n",
      "Maximum Trip Length\n",
      "50.0\n",
      "Maximum Speed\n",
      "116.12903225806451\n",
      "Working on tod 3\n",
      "Maximum Travel Time\n",
      "119.81666666666666\n",
      "Maximum Trip Length\n",
      "50.0\n",
      "Maximum Speed\n",
      "119.36842105263158\n",
      "Working on tod 4\n",
      "Maximum Travel Time\n",
      "119.86666666666666\n",
      "Maximum Trip Length\n",
      "50.0\n",
      "Maximum Speed\n",
      "109.56521739130433\n",
      "Working on tod 5\n",
      "Maximum Travel Time\n",
      "119.31666666666666\n",
      "Maximum Trip Length\n",
      "50.0\n",
      "Maximum Speed\n",
      "119.4059405940594\n",
      "Working on month 3\n",
      "Working on tod 1\n",
      "Maximum Travel Time\n",
      "118.75\n",
      "Maximum Trip Length\n",
      "50.0\n",
      "Maximum Speed\n",
      "113.28\n",
      "Working on tod 2\n",
      "Maximum Travel Time\n",
      "119.71666666666667\n",
      "Maximum Trip Length\n",
      "50.0\n",
      "Maximum Speed\n",
      "116.61971830985915\n",
      "Working on tod 3\n",
      "Maximum Travel Time\n",
      "119.96666666666667\n",
      "Maximum Trip Length\n",
      "50.0\n",
      "Maximum Speed\n",
      "115.71428571428572\n",
      "Working on tod 4\n",
      "Maximum Travel Time\n",
      "119.95\n",
      "Maximum Trip Length\n",
      "50.0\n",
      "Maximum Speed\n",
      "112.5\n",
      "Working on tod 5\n",
      "Maximum Travel Time\n",
      "118.45\n",
      "Maximum Trip Length\n",
      "50.0\n",
      "Maximum Speed\n",
      "110.76923076923077\n",
      "Working on month 4\n",
      "Working on tod 1\n",
      "Maximum Travel Time\n",
      "117.6\n",
      "Maximum Trip Length\n",
      "50.0\n",
      "Maximum Speed\n",
      "110.57142857142857\n",
      "Working on tod 2\n",
      "Maximum Travel Time\n",
      "119.9\n",
      "Maximum Trip Length\n",
      "50.0\n",
      "Maximum Speed\n",
      "104.99999999999999\n",
      "Working on tod 3\n",
      "Maximum Travel Time\n",
      "119.81666666666666\n",
      "Maximum Trip Length\n",
      "50.0\n",
      "Maximum Speed\n",
      "118.00829875518673\n",
      "Working on tod 4\n",
      "Maximum Travel Time\n",
      "119.76666666666667\n",
      "Maximum Trip Length\n",
      "50.0\n",
      "Maximum Speed\n",
      "118.48101265822785\n",
      "Working on tod 5\n",
      "Maximum Travel Time\n",
      "115.91666666666667\n",
      "Maximum Trip Length\n",
      "50.0\n",
      "Maximum Speed\n",
      "113.6842105263158\n",
      "Working on month 5\n",
      "Working on tod 1\n",
      "Maximum Travel Time\n",
      "117.91666666666667\n",
      "Maximum Trip Length\n",
      "50.0\n",
      "Maximum Speed\n",
      "113.50588235294119\n",
      "Working on tod 2\n",
      "Maximum Travel Time\n",
      "120.0\n",
      "Maximum Trip Length\n",
      "50.0\n",
      "Maximum Speed\n",
      "115.93220338983052\n",
      "Working on tod 3\n",
      "Maximum Travel Time\n",
      "119.96666666666667\n",
      "Maximum Trip Length\n",
      "50.0\n",
      "Maximum Speed\n",
      "117.04433497536945\n",
      "Working on tod 4\n",
      "Maximum Travel Time\n",
      "119.96666666666667\n",
      "Maximum Trip Length\n",
      "50.0\n",
      "Maximum Speed\n",
      "108.00000000000001\n",
      "Working on tod 5\n",
      "Maximum Travel Time\n",
      "117.91666666666667\n",
      "Maximum Trip Length\n",
      "50.0\n",
      "Maximum Speed\n",
      "114.54545454545455\n",
      "Working on month 6\n",
      "Working on tod 1\n",
      "Maximum Travel Time\n",
      "119.46666666666667\n",
      "Maximum Trip Length\n",
      "50.0\n",
      "Maximum Speed\n",
      "115.77092511013215\n",
      "Working on tod 2\n",
      "Maximum Travel Time\n",
      "119.61666666666666\n",
      "Maximum Trip Length\n",
      "50.0\n",
      "Maximum Speed\n",
      "112.63803680981594\n",
      "Working on tod 3\n",
      "Maximum Travel Time\n",
      "119.95\n",
      "Maximum Trip Length\n",
      "50.0\n",
      "Maximum Speed\n",
      "117.81818181818183\n",
      "Working on tod 4\n",
      "Maximum Travel Time\n",
      "120.0\n",
      "Maximum Trip Length\n",
      "50.0\n",
      "Maximum Speed\n",
      "111.99999999999999\n",
      "Working on tod 5\n",
      "Maximum Travel Time\n",
      "119.86666666666666\n",
      "Maximum Trip Length\n",
      "50.0\n",
      "Maximum Speed\n",
      "111.50442477876106\n",
      "Working on month 7\n",
      "Working on tod 1\n",
      "Maximum Travel Time\n",
      "117.75\n",
      "Maximum Trip Length\n",
      "50.0\n",
      "Maximum Speed\n",
      "117.20930232558139\n",
      "Working on tod 2\n",
      "Maximum Travel Time\n",
      "119.91666666666667\n",
      "Maximum Trip Length\n",
      "50.0\n",
      "Maximum Speed\n",
      "106.66666666666666\n",
      "Working on tod 3\n",
      "Maximum Travel Time\n",
      "119.86666666666666\n",
      "Maximum Trip Length\n",
      "50.0\n",
      "Maximum Speed\n",
      "111.72413793103449\n",
      "Working on tod 4\n",
      "Maximum Travel Time\n",
      "119.91666666666667\n",
      "Maximum Trip Length\n",
      "50.0\n",
      "Maximum Speed\n",
      "118.125\n",
      "Working on tod 5\n",
      "Maximum Travel Time\n",
      "119.46666666666667\n",
      "Maximum Trip Length\n",
      "50.0\n",
      "Maximum Speed\n",
      "117.69230769230768\n",
      "Working on month 8\n",
      "Working on tod 1\n",
      "Maximum Travel Time\n",
      "119.0\n",
      "Maximum Trip Length\n",
      "50.0\n",
      "Maximum Speed\n",
      "117.81818181818183\n",
      "Working on tod 2\n",
      "Maximum Travel Time\n",
      "119.96666666666667\n",
      "Maximum Trip Length\n",
      "50.0\n",
      "Maximum Speed\n",
      "111.42857142857144\n",
      "Working on tod 3\n",
      "Maximum Travel Time\n",
      "119.91666666666667\n",
      "Maximum Trip Length\n",
      "50.0\n",
      "Maximum Speed\n",
      "114.54545454545455\n",
      "Working on tod 4\n",
      "Maximum Travel Time\n",
      "119.95\n",
      "Maximum Trip Length\n",
      "50.0\n",
      "Maximum Speed\n",
      "110.76923076923077\n",
      "Working on tod 5\n",
      "Maximum Travel Time\n",
      "119.0\n",
      "Maximum Trip Length\n",
      "50.0\n",
      "Maximum Speed\n",
      "110.76923076923077\n",
      "Working on month 9\n",
      "Working on tod 1\n",
      "Maximum Travel Time\n",
      "115.65\n",
      "Maximum Trip Length\n",
      "50.0\n",
      "Maximum Speed\n",
      "118.89400921658986\n",
      "Working on tod 2\n",
      "Maximum Travel Time\n",
      "119.95\n",
      "Maximum Trip Length\n",
      "50.0\n",
      "Maximum Speed\n",
      "115.2\n",
      "Working on tod 3\n",
      "Maximum Travel Time\n",
      "120.0\n",
      "Maximum Trip Length\n",
      "50.0\n",
      "Maximum Speed\n",
      "112.5\n",
      "Working on tod 4\n",
      "Maximum Travel Time\n",
      "119.96666666666667\n",
      "Maximum Trip Length\n",
      "50.0\n",
      "Maximum Speed\n",
      "112.83582089552237\n",
      "Working on tod 5\n",
      "Maximum Travel Time\n",
      "118.85\n",
      "Maximum Trip Length\n",
      "50.0\n",
      "Maximum Speed\n",
      "119.13669064748198\n",
      "Working on month 10\n",
      "Working on tod 1\n",
      "Maximum Travel Time\n",
      "119.2\n",
      "Maximum Trip Length\n",
      "50.0\n",
      "Maximum Speed\n",
      "119.81845688350984\n",
      "Working on tod 2\n",
      "Maximum Travel Time\n",
      "119.91666666666667\n",
      "Maximum Trip Length\n",
      "50.0\n",
      "Maximum Speed\n",
      "119.99999999999999\n",
      "Working on tod 3\n",
      "Maximum Travel Time\n",
      "119.91666666666667\n",
      "Maximum Trip Length\n",
      "50.0\n",
      "Maximum Speed\n",
      "119.99999999999999\n",
      "Working on tod 4\n",
      "Maximum Travel Time\n",
      "119.7\n",
      "Maximum Trip Length\n",
      "50.0\n",
      "Maximum Speed\n",
      "119.99999999999999\n",
      "Working on tod 5\n",
      "Maximum Travel Time\n",
      "119.85\n",
      "Maximum Trip Length\n",
      "50.0\n",
      "Maximum Speed\n",
      "119.83761840324763\n",
      "Working on month 11\n",
      "Working on tod 1\n",
      "Maximum Travel Time\n",
      "119.96666666666667\n",
      "Maximum Trip Length\n",
      "50.0\n",
      "Maximum Speed\n",
      "119.86501687289089\n",
      "Working on tod 2\n",
      "Maximum Travel Time\n",
      "119.91666666666667\n",
      "Maximum Trip Length\n",
      "50.0\n",
      "Maximum Speed\n",
      "119.99999999999999\n",
      "Working on tod 3\n",
      "Maximum Travel Time\n",
      "119.96666666666667\n",
      "Maximum Trip Length\n",
      "50.0\n",
      "Maximum Speed\n",
      "119.99999999999999\n",
      "Working on tod 4\n",
      "Maximum Travel Time\n",
      "120.0\n",
      "Maximum Trip Length\n",
      "50.0\n",
      "Maximum Speed\n",
      "119.7818181818182\n",
      "Working on tod 5\n",
      "Maximum Travel Time\n",
      "119.85\n",
      "Maximum Trip Length\n",
      "50.0\n",
      "Maximum Speed\n",
      "119.86547085201792\n",
      "Working on month 12\n",
      "Working on tod 1\n",
      "Maximum Travel Time\n",
      "117.06666666666666\n",
      "Maximum Trip Length\n",
      "50.0\n",
      "Maximum Speed\n",
      "119.99999999999999\n",
      "Working on tod 2\n",
      "Maximum Travel Time\n",
      "119.81666666666666\n",
      "Maximum Trip Length\n",
      "50.0\n",
      "Maximum Speed\n",
      "119.99999999999999\n",
      "Working on tod 3\n",
      "Maximum Travel Time\n",
      "120.0\n",
      "Maximum Trip Length\n",
      "50.0\n",
      "Maximum Speed\n",
      "119.99999999999999\n",
      "Working on tod 4\n",
      "Maximum Travel Time\n",
      "119.81666666666666\n",
      "Maximum Trip Length\n",
      "50.0\n",
      "Maximum Speed\n",
      "119.53125\n",
      "Working on tod 5\n",
      "Maximum Travel Time\n",
      "119.31666666666666\n",
      "Maximum Trip Length\n",
      "50.0\n",
      "Maximum Speed\n",
      "119.99999999999999\n",
      "Working on year 2020\n",
      "Working on month 1\n",
      "Working on tod 1\n",
      "Maximum Travel Time\n",
      "117.61666666666666\n",
      "Maximum Trip Length\n",
      "50.0\n",
      "Maximum Speed\n",
      "119.99999999999999\n",
      "Working on tod 2\n",
      "Maximum Travel Time\n",
      "120.0\n",
      "Maximum Trip Length\n",
      "50.0\n",
      "Maximum Speed\n",
      "119.79626485568762\n",
      "Working on tod 3\n",
      "Maximum Travel Time\n",
      "119.81666666666666\n",
      "Maximum Trip Length\n",
      "50.0\n",
      "Maximum Speed\n",
      "119.99999999999999\n"
     ]
    },
    {
     "name": "stdout",
     "output_type": "stream",
     "text": [
      "Working on tod 4\n",
      "Maximum Travel Time\n",
      "120.0\n",
      "Maximum Trip Length\n",
      "50.0\n",
      "Maximum Speed\n",
      "119.99999999999999\n",
      "Working on tod 5\n",
      "Maximum Travel Time\n",
      "119.21666666666667\n",
      "Maximum Trip Length\n",
      "50.0\n",
      "Maximum Speed\n",
      "119.79416809605488\n",
      "Working on month 2\n",
      "Working on tod 1\n",
      "Maximum Travel Time\n",
      "116.36666666666666\n",
      "Maximum Trip Length\n",
      "50.0\n",
      "Maximum Speed\n",
      "119.99999999999999\n",
      "Working on tod 2\n",
      "Maximum Travel Time\n",
      "119.91666666666667\n",
      "Maximum Trip Length\n",
      "50.0\n",
      "Maximum Speed\n",
      "119.99999999999999\n",
      "Working on tod 3\n",
      "Maximum Travel Time\n",
      "119.86666666666666\n",
      "Maximum Trip Length\n",
      "50.0\n",
      "Maximum Speed\n",
      "119.8314606741573\n",
      "Working on tod 4\n",
      "Maximum Travel Time\n",
      "119.86666666666666\n",
      "Maximum Trip Length\n",
      "50.0\n",
      "Maximum Speed\n",
      "119.66759002770084\n",
      "Working on tod 5\n",
      "Maximum Travel Time\n",
      "118.21666666666667\n",
      "Maximum Trip Length\n",
      "50.0\n",
      "Maximum Speed\n",
      "119.99999999999999\n"
     ]
    }
   ],
   "source": [
    "df_all = pd.DataFrame()\n",
    "\n",
    "\n",
    "for year in years:\n",
    "    print('Working on year ' + str(year))\n",
    "    if year == 2018:\n",
    "        months = [11,12]\n",
    "    elif year == 2020:\n",
    "        months = [1,2]\n",
    "    else:\n",
    "        months = [1,2,3,4,5,6,7,8,9,10,11,12]\n",
    "        \n",
    "    for month in months:\n",
    "        print('Working on month ' + str(month))\n",
    "        \n",
    "        for tod in tods:\n",
    "            print('Working on tod ' + str(tod))\n",
    "\n",
    "            store = pd.HDFStore('C:/Workspace/TNC-Demand-Model/Outputs/Chicago_TNC_Trips_20.H5')\n",
    "            df = store.select(where = ['YEAR == ' + str(year), 'MONTH == ' + str(month)], key = 'Weekday_' + str(tod))\n",
    "            store.close()\n",
    "\n",
    "            df['TOD'] = tod\n",
    "\n",
    "            df = df[df['TRIP_LENGTH_MILES'] <= 50]\n",
    "            df = df[df['TRAVEL_TIME_MINUTES'] <= 120]\n",
    "\n",
    "            #drop the trips that have a trip length of 0 or travel time of 0 because they do not make sense\n",
    "            df = df[df['TRIP_LENGTH_MILES'] > 0]\n",
    "            df = df[df['TRAVEL_TIME_MINUTES'] > 0]\n",
    "\n",
    "            #filter out the trips that have an unreasonable speed\n",
    "            df = df[df['SPEED']<120]\n",
    "\n",
    "            print('Maximum Travel Time')\n",
    "            print(df['TRAVEL_TIME_MINUTES'].max())\n",
    "\n",
    "            print('Maximum Trip Length')\n",
    "            print(df['TRIP_LENGTH_MILES'].max())\n",
    "\n",
    "            print('Maximum Speed')\n",
    "            print(df['SPEED'].max())\n",
    "\n",
    "\n",
    "            #census tract 17031980000 replaces the trips assigned to census tract 17031770700 because they are likely misasigned.\n",
    "            #Census tract 17031980000 contains contains O'Hare airport and census tract is adjacent. The trips assigned to census tract 17031770700 are likely trips from the airport.\n",
    "            df.loc[df['ORIGIN'] == 17031770700, 'ORIGIN'] = 17031980000\n",
    "            df.loc[df['DESTINATION'] == 17031770700, 'DESTINATION'] = 17031980000\n",
    "\n",
    "\n",
    "            df = df[df['EXTERNAL_FLAGGER'] == 0]\n",
    "            df = df[df['INTERNAL_EXTERNAL_FLAGGER'] == 0]\n",
    "\n",
    "\n",
    "            df['PRIVATE_TRIPS'] = np.where(df['SHARED_FLAGGER'] == 0, 1,0)\n",
    "            df['SHARED_TRIPS'] = np.where(df['SHARED_FLAGGER'] == 1, 1,0)\n",
    "            df['TRIPS'] = 1\n",
    "\n",
    "            df = df.groupby(by= ['ORIGIN','DESTINATION','YEAR', 'MONTH','TOD'], as_index =False).sum()\n",
    "\n",
    "            df_all = df_all.append(df)\n",
    "\n",
    "df_all = df_all.groupby(by= ['ORIGIN','DESTINATION','YEAR', 'MONTH','TOD'], as_index =False).sum()\n"
   ]
  },
  {
   "cell_type": "code",
   "execution_count": 14,
   "metadata": {},
   "outputs": [],
   "source": [
    "\n",
    "weekday = pd.read_csv('C:/Workspace/TNC-Demand-Model/Outputs/Number of Weekdays.csv')\n",
    "\n",
    "df2 = df_all.merge(weekday, on = ['YEAR','MONTH'])\n",
    "\n",
    "\n",
    "df2['AVG_WD_TRIPS'] = df2['TRIPS']/df2['WEEKDAYS']\n",
    "df2['AVG_WD_PRIVATE_TRIPS'] = df2['PRIVATE_TRIPS']/df2['WEEKDAYS']\n",
    "df2['AVG_WD_SHARED_TRIPS'] = df2['SHARED_TRIPS']/df2['WEEKDAYS']\n"
   ]
  },
  {
   "cell_type": "code",
   "execution_count": 16,
   "metadata": {},
   "outputs": [
    {
     "data": {
      "text/html": [
       "<div>\n",
       "<style scoped>\n",
       "    .dataframe tbody tr th:only-of-type {\n",
       "        vertical-align: middle;\n",
       "    }\n",
       "\n",
       "    .dataframe tbody tr th {\n",
       "        vertical-align: top;\n",
       "    }\n",
       "\n",
       "    .dataframe thead th {\n",
       "        text-align: right;\n",
       "    }\n",
       "</style>\n",
       "<table border=\"1\" class=\"dataframe\">\n",
       "  <thead>\n",
       "    <tr style=\"text-align: right;\">\n",
       "      <th></th>\n",
       "      <th></th>\n",
       "      <th>AVG_WD_TRIPS</th>\n",
       "    </tr>\n",
       "    <tr>\n",
       "      <th>MONTH</th>\n",
       "      <th>YEAR</th>\n",
       "      <th></th>\n",
       "    </tr>\n",
       "  </thead>\n",
       "  <tbody>\n",
       "    <tr>\n",
       "      <th rowspan=\"2\" valign=\"top\">1</th>\n",
       "      <th>2019</th>\n",
       "      <td>234341.086956</td>\n",
       "    </tr>\n",
       "    <tr>\n",
       "      <th>2020</th>\n",
       "      <td>230544.521738</td>\n",
       "    </tr>\n",
       "    <tr>\n",
       "      <th rowspan=\"2\" valign=\"top\">2</th>\n",
       "      <th>2019</th>\n",
       "      <td>262441.099999</td>\n",
       "    </tr>\n",
       "    <tr>\n",
       "      <th>2020</th>\n",
       "      <td>250590.249999</td>\n",
       "    </tr>\n",
       "    <tr>\n",
       "      <th>3</th>\n",
       "      <th>2019</th>\n",
       "      <td>271187.285716</td>\n",
       "    </tr>\n",
       "    <tr>\n",
       "      <th>4</th>\n",
       "      <th>2019</th>\n",
       "      <td>252499.090908</td>\n",
       "    </tr>\n",
       "    <tr>\n",
       "      <th>5</th>\n",
       "      <th>2019</th>\n",
       "      <td>253903.434782</td>\n",
       "    </tr>\n",
       "    <tr>\n",
       "      <th>6</th>\n",
       "      <th>2019</th>\n",
       "      <td>245274.549999</td>\n",
       "    </tr>\n",
       "    <tr>\n",
       "      <th>7</th>\n",
       "      <th>2019</th>\n",
       "      <td>235995.739130</td>\n",
       "    </tr>\n",
       "    <tr>\n",
       "      <th>8</th>\n",
       "      <th>2019</th>\n",
       "      <td>241552.499999</td>\n",
       "    </tr>\n",
       "    <tr>\n",
       "      <th>9</th>\n",
       "      <th>2019</th>\n",
       "      <td>234227.904763</td>\n",
       "    </tr>\n",
       "    <tr>\n",
       "      <th>10</th>\n",
       "      <th>2019</th>\n",
       "      <td>244649.565217</td>\n",
       "    </tr>\n",
       "    <tr>\n",
       "      <th rowspan=\"2\" valign=\"top\">11</th>\n",
       "      <th>2018</th>\n",
       "      <td>241531.045453</td>\n",
       "    </tr>\n",
       "    <tr>\n",
       "      <th>2019</th>\n",
       "      <td>249430.857144</td>\n",
       "    </tr>\n",
       "    <tr>\n",
       "      <th rowspan=\"2\" valign=\"top\">12</th>\n",
       "      <th>2018</th>\n",
       "      <td>223088.904763</td>\n",
       "    </tr>\n",
       "    <tr>\n",
       "      <th>2019</th>\n",
       "      <td>242151.272726</td>\n",
       "    </tr>\n",
       "  </tbody>\n",
       "</table>\n",
       "</div>"
      ],
      "text/plain": [
       "             AVG_WD_TRIPS\n",
       "MONTH YEAR               \n",
       "1     2019  234341.086956\n",
       "      2020  230544.521738\n",
       "2     2019  262441.099999\n",
       "      2020  250590.249999\n",
       "3     2019  271187.285716\n",
       "4     2019  252499.090908\n",
       "5     2019  253903.434782\n",
       "6     2019  245274.549999\n",
       "7     2019  235995.739130\n",
       "8     2019  241552.499999\n",
       "9     2019  234227.904763\n",
       "10    2019  244649.565217\n",
       "11    2018  241531.045453\n",
       "      2019  249430.857144\n",
       "12    2018  223088.904763\n",
       "      2019  242151.272726"
      ]
     },
     "execution_count": 16,
     "metadata": {},
     "output_type": "execute_result"
    }
   ],
   "source": [
    "df2[['AVG_WD_TRIPS','MONTH','YEAR']].groupby(by = ['MONTH','YEAR']).sum()"
   ]
  },
  {
   "cell_type": "code",
   "execution_count": 17,
   "metadata": {},
   "outputs": [],
   "source": [
    "df2.to_csv('C:/Workspace/TNC-Demand-Model/Outputs/OBS_AVG_WD_TRIPS.csv')"
   ]
  },
  {
   "cell_type": "code",
   "execution_count": 19,
   "metadata": {},
   "outputs": [],
   "source": [
    "airport_tracts = [17031980000,17031980100]\n",
    "tourist_tracts = [17031081402,17031330100,17031841000]\n",
    "downtown_tracts = pd.read_csv('C:/Workspace/TNC-Demand-Model/Inputs/Chicago Ride-Hailing/Downtown Zone Census Tracts.csv')\n",
    "downtown_tracts = list(downtown_tracts['geoid10'])"
   ]
  },
  {
   "cell_type": "code",
   "execution_count": 20,
   "metadata": {},
   "outputs": [],
   "source": [
    "downtown_tracts.remove(17031081402)"
   ]
  },
  {
   "cell_type": "code",
   "execution_count": 29,
   "metadata": {},
   "outputs": [
    {
     "data": {
      "text/plain": [
       "84799888"
      ]
     },
     "execution_count": 29,
     "metadata": {},
     "output_type": "execute_result"
    }
   ],
   "source": [
    "df2.TRIPS.sum()"
   ]
  },
  {
   "cell_type": "code",
   "execution_count": null,
   "metadata": {},
   "outputs": [],
   "source": []
  },
  {
   "cell_type": "code",
   "execution_count": 33,
   "metadata": {},
   "outputs": [
    {
     "data": {
      "text/plain": [
       "86823.1469740634"
      ]
     },
     "execution_count": 33,
     "metadata": {},
     "output_type": "execute_result"
    }
   ],
   "source": [
    "df2[df2['DESTINATION'].isin(downtown_tracts)]['TRIPS'].sum()/weekday.WEEKDAYS.sum()"
   ]
  },
  {
   "cell_type": "code",
   "execution_count": 34,
   "metadata": {},
   "outputs": [
    {
     "data": {
      "text/plain": [
       "0.35527914848189424"
      ]
     },
     "execution_count": 34,
     "metadata": {},
     "output_type": "execute_result"
    }
   ],
   "source": [
    "df2[df2['DESTINATION'].isin(downtown_tracts)]['TRIPS'].sum()/df2.TRIPS.sum()"
   ]
  },
  {
   "cell_type": "code",
   "execution_count": 35,
   "metadata": {},
   "outputs": [
    {
     "data": {
      "text/plain": [
       "5863.910662824207"
      ]
     },
     "execution_count": 35,
     "metadata": {},
     "output_type": "execute_result"
    }
   ],
   "source": [
    "df2[df2['DESTINATION'].isin(tourist_tracts)]['TRIPS'].sum()/weekday.WEEKDAYS.sum()"
   ]
  },
  {
   "cell_type": "code",
   "execution_count": 36,
   "metadata": {},
   "outputs": [
    {
     "data": {
      "text/plain": [
       "0.023995043484019696"
      ]
     },
     "execution_count": 36,
     "metadata": {},
     "output_type": "execute_result"
    }
   ],
   "source": [
    "df2[df2['DESTINATION'].isin(tourist_tracts)]['TRIPS'].sum()/df2.TRIPS.sum()"
   ]
  },
  {
   "cell_type": "code",
   "execution_count": 37,
   "metadata": {},
   "outputs": [
    {
     "data": {
      "text/plain": [
       "9607.337175792507"
      ]
     },
     "execution_count": 37,
     "metadata": {},
     "output_type": "execute_result"
    }
   ],
   "source": [
    "df2[df2['DESTINATION'].isin(airport_tracts)]['TRIPS'].sum()/weekday.WEEKDAYS.sum()"
   ]
  },
  {
   "cell_type": "code",
   "execution_count": 38,
   "metadata": {},
   "outputs": [
    {
     "data": {
      "text/plain": [
       "0.03931309437578503"
      ]
     },
     "execution_count": 38,
     "metadata": {},
     "output_type": "execute_result"
    }
   ],
   "source": [
    "df2[df2['DESTINATION'].isin(airport_tracts)]['TRIPS'].sum()/df2.TRIPS.sum()"
   ]
  },
  {
   "cell_type": "code",
   "execution_count": 39,
   "metadata": {},
   "outputs": [
    {
     "data": {
      "text/plain": [
       "142085.68587896254"
      ]
     },
     "execution_count": 39,
     "metadata": {},
     "output_type": "execute_result"
    }
   ],
   "source": [
    "df2[(~df2['DESTINATION'].isin(airport_tracts+tourist_tracts+downtown_tracts))]['TRIPS'].sum()/weekday.WEEKDAYS.sum()"
   ]
  },
  {
   "cell_type": "code",
   "execution_count": 40,
   "metadata": {},
   "outputs": [
    {
     "data": {
      "text/plain": [
       "0.581412713658301"
      ]
     },
     "execution_count": 40,
     "metadata": {},
     "output_type": "execute_result"
    }
   ],
   "source": [
    "df2[(~df2['DESTINATION'].isin(airport_tracts+tourist_tracts+downtown_tracts))]['TRIPS'].sum()/df2.TRIPS.sum()"
   ]
  },
  {
   "cell_type": "code",
   "execution_count": 45,
   "metadata": {},
   "outputs": [],
   "source": [
    "import seaborn as sns"
   ]
  },
  {
   "cell_type": "code",
   "execution_count": 42,
   "metadata": {},
   "outputs": [],
   "source": [
    "dist = pd.read_csv('C:/Workspace/TNC-Demand-Model/Outputs/Distance_Matrix.csv')"
   ]
  },
  {
   "cell_type": "code",
   "execution_count": 43,
   "metadata": {},
   "outputs": [],
   "source": [
    "obs_dist = df2.merge(dist, how = 'left', on = ['ORIGIN','DESTINATION'])"
   ]
  },
  {
   "cell_type": "code",
   "execution_count": 46,
   "metadata": {},
   "outputs": [
    {
     "data": {
      "text/plain": [
       "<matplotlib.axes._subplots.AxesSubplot at 0x1c90868fe08>"
      ]
     },
     "execution_count": 46,
     "metadata": {},
     "output_type": "execute_result"
    },
    {
     "data": {
      "image/png": "[encoded data removed]",
      "text/plain": [
       "<Figure size 432x288 with 1 Axes>"
      ]
     },
     "metadata": {
      "needs_background": "light"
     },
     "output_type": "display_data"
    }
   ],
   "source": [
    "sns.histplot(data = obs_dist, x = 'DISTANCE', bins = 30, weights = 'AVG_WD_TRIPS', stat = 'percent')"
   ]
  },
  {
   "cell_type": "code",
   "execution_count": null,
   "metadata": {},
   "outputs": [],
   "source": []
  },
  {
   "cell_type": "code",
   "execution_count": 47,
   "metadata": {},
   "outputs": [
    {
     "data": {
      "text/plain": [
       "2.9996755451653097"
      ]
     },
     "execution_count": 47,
     "metadata": {},
     "output_type": "execute_result"
    }
   ],
   "source": [
    "np.sum(obs_dist['DISTANCE']*obs_dist['TRIPS'])/obs_dist['TRIPS'].sum()"
   ]
  },
  {
   "cell_type": "code",
   "execution_count": 88,
   "metadata": {},
   "outputs": [
    {
     "data": {
      "text/plain": [
       "84799888"
      ]
     },
     "execution_count": 88,
     "metadata": {},
     "output_type": "execute_result"
    }
   ],
   "source": [
    "df2.TRIPS.sum()"
   ]
  },
  {
   "cell_type": "code",
   "execution_count": null,
   "metadata": {},
   "outputs": [],
   "source": []
  },
  {
   "cell_type": "code",
   "execution_count": 48,
   "metadata": {},
   "outputs": [
    {
     "data": {
      "text/plain": [
       "84745.34870317004"
      ]
     },
     "execution_count": 48,
     "metadata": {},
     "output_type": "execute_result"
    }
   ],
   "source": [
    "df2[df2['ORIGIN'].isin(downtown_tracts)]['TRIPS'].sum()/weekday.WEEKDAYS.sum()"
   ]
  },
  {
   "cell_type": "code",
   "execution_count": 49,
   "metadata": {},
   "outputs": [
    {
     "data": {
      "text/plain": [
       "0.3467768259316569"
      ]
     },
     "execution_count": 49,
     "metadata": {},
     "output_type": "execute_result"
    }
   ],
   "source": [
    "df2[df2['ORIGIN'].isin(downtown_tracts)]['TRIPS'].sum()/df2.TRIPS.sum()"
   ]
  },
  {
   "cell_type": "code",
   "execution_count": 50,
   "metadata": {},
   "outputs": [
    {
     "data": {
      "text/plain": [
       "6352.319884726225"
      ]
     },
     "execution_count": 50,
     "metadata": {},
     "output_type": "execute_result"
    }
   ],
   "source": [
    "df2[df2['ORIGIN'].isin(tourist_tracts)]['TRIPS'].sum()/weekday.WEEKDAYS.sum()"
   ]
  },
  {
   "cell_type": "code",
   "execution_count": 51,
   "metadata": {},
   "outputs": [
    {
     "data": {
      "text/plain": [
       "0.025993607444387192"
      ]
     },
     "execution_count": 51,
     "metadata": {},
     "output_type": "execute_result"
    }
   ],
   "source": [
    "df2[df2['ORIGIN'].isin(tourist_tracts)]['TRIPS'].sum()/df2.TRIPS.sum()"
   ]
  },
  {
   "cell_type": "code",
   "execution_count": 52,
   "metadata": {},
   "outputs": [
    {
     "data": {
      "text/plain": [
       "7470.466858789626"
      ]
     },
     "execution_count": 52,
     "metadata": {},
     "output_type": "execute_result"
    }
   ],
   "source": [
    "df2[df2['ORIGIN'].isin(airport_tracts)]['TRIPS'].sum()/weekday.WEEKDAYS.sum()"
   ]
  },
  {
   "cell_type": "code",
   "execution_count": 53,
   "metadata": {},
   "outputs": [
    {
     "data": {
      "text/plain": [
       "0.030569049808178993"
      ]
     },
     "execution_count": 53,
     "metadata": {},
     "output_type": "execute_result"
    }
   ],
   "source": [
    "df2[df2['ORIGIN'].isin(airport_tracts)]['TRIPS'].sum()/df2.TRIPS.sum()"
   ]
  },
  {
   "cell_type": "code",
   "execution_count": 54,
   "metadata": {},
   "outputs": [
    {
     "data": {
      "text/plain": [
       "145811.94524495676"
      ]
     },
     "execution_count": 54,
     "metadata": {},
     "output_type": "execute_result"
    }
   ],
   "source": [
    "df2[(~df2['ORIGIN'].isin(airport_tracts+tourist_tracts+downtown_tracts))]['TRIPS'].sum()/weekday.WEEKDAYS.sum()"
   ]
  },
  {
   "cell_type": "code",
   "execution_count": 55,
   "metadata": {},
   "outputs": [
    {
     "data": {
      "text/plain": [
       "0.5966605168157769"
      ]
     },
     "execution_count": 55,
     "metadata": {},
     "output_type": "execute_result"
    }
   ],
   "source": [
    "df2[(~df2['ORIGIN'].isin(airport_tracts+tourist_tracts+downtown_tracts))]['TRIPS'].sum()/df2.TRIPS.sum()"
   ]
  },
  {
   "cell_type": "code",
   "execution_count": 57,
   "metadata": {},
   "outputs": [
    {
     "data": {
      "text/plain": [
       "84799888"
      ]
     },
     "execution_count": 57,
     "metadata": {},
     "output_type": "execute_result"
    }
   ],
   "source": [
    "df2.TRIPS.sum()"
   ]
  },
  {
   "cell_type": "code",
   "execution_count": null,
   "metadata": {},
   "outputs": [],
   "source": []
  },
  {
   "cell_type": "code",
   "execution_count": 86,
   "metadata": {},
   "outputs": [
    {
     "data": {
      "text/plain": [
       "37082.20172910663"
      ]
     },
     "execution_count": 86,
     "metadata": {},
     "output_type": "execute_result"
    }
   ],
   "source": [
    "df2[df2['TOD'] == 1]['TRIPS'].sum()/weekday.WEEKDAYS.sum()"
   ]
  },
  {
   "cell_type": "code",
   "execution_count": 76,
   "metadata": {},
   "outputs": [
    {
     "data": {
      "text/plain": [
       "34269.78962536023"
      ]
     },
     "execution_count": 76,
     "metadata": {},
     "output_type": "execute_result"
    }
   ],
   "source": [
    "df2[df2['TOD'] == 2]['TRIPS'].sum()/weekday.WEEKDAYS.sum()"
   ]
  },
  {
   "cell_type": "code",
   "execution_count": 77,
   "metadata": {},
   "outputs": [
    {
     "data": {
      "text/plain": [
       "78061.41786743516"
      ]
     },
     "execution_count": 77,
     "metadata": {},
     "output_type": "execute_result"
    }
   ],
   "source": [
    "df2[df2['TOD'] == 3]['TRIPS'].sum()/weekday.WEEKDAYS.sum()"
   ]
  },
  {
   "cell_type": "code",
   "execution_count": 78,
   "metadata": {},
   "outputs": [
    {
     "data": {
      "text/plain": [
       "48630.452449567725"
      ]
     },
     "execution_count": 78,
     "metadata": {},
     "output_type": "execute_result"
    }
   ],
   "source": [
    "df2[df2['TOD'] == 4]['TRIPS'].sum()/weekday.WEEKDAYS.sum()"
   ]
  },
  {
   "cell_type": "code",
   "execution_count": 79,
   "metadata": {},
   "outputs": [
    {
     "data": {
      "text/plain": [
       "46336.21902017291"
      ]
     },
     "execution_count": 79,
     "metadata": {},
     "output_type": "execute_result"
    }
   ],
   "source": [
    "df2[df2['TOD'] == 5]['TRIPS'].sum()/weekday.WEEKDAYS.sum()"
   ]
  },
  {
   "cell_type": "code",
   "execution_count": null,
   "metadata": {},
   "outputs": [],
   "source": []
  },
  {
   "cell_type": "code",
   "execution_count": null,
   "metadata": {},
   "outputs": [],
   "source": []
  },
  {
   "cell_type": "code",
   "execution_count": null,
   "metadata": {},
   "outputs": [],
   "source": []
  }
 ],
 "metadata": {
  "kernelspec": {
   "display_name": "Python 3",
   "language": "python",
   "name": "python3"
  },
  "language_info": {
   "codemirror_mode": {
    "name": "ipython",
    "version": 3
   },
   "file_extension": ".py",
   "mimetype": "text/x-python",
   "name": "python",
   "nbconvert_exporter": "python",
   "pygments_lexer": "ipython3",
   "version": "3.7.6"
  }
 },
 "nbformat": 4,
 "nbformat_minor": 4
}
