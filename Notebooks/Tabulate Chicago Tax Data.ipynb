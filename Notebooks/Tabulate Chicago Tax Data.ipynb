{
 "cells": [
  {
   "cell_type": "code",
   "execution_count": 8,
   "metadata": {},
   "outputs": [],
   "source": [
    "import pandas as pd\n",
    "import geopandas as gp\n"
   ]
  },
  {
   "cell_type": "code",
   "execution_count": 9,
   "metadata": {},
   "outputs": [],
   "source": [
    "tracts = gp.read_file('C:/Workspace/TNC-Demand-Model/Inputs/Census Shapefiles/Illinois/Chicago Tracts/geo_export_558aad9f-98d8-4dd5-a6b1-c1730155d596.shp')"
   ]
  },
  {
   "cell_type": "code",
   "execution_count": 11,
   "metadata": {},
   "outputs": [],
   "source": [
    "years = [2018,2019,2020]\n"
   ]
  },
  {
   "cell_type": "code",
   "execution_count": 34,
   "metadata": {},
   "outputs": [
    {
     "name": "stdout",
     "output_type": "stream",
     "text": [
      "Working on year 2018\n",
      "Working on month 11\n",
      "Working on month 12\n",
      "Working on year 2019\n",
      "Working on month 1\n",
      "Working on month 2\n",
      "Working on month 3\n",
      "Working on month 4\n",
      "Working on month 5\n",
      "Working on month 6\n",
      "Working on month 7\n",
      "Working on month 8\n",
      "Working on month 9\n",
      "Working on month 10\n",
      "Working on month 11\n",
      "Working on month 12\n",
      "Working on year 2020\n",
      "Working on month 1\n",
      "Working on month 2\n"
     ]
    }
   ],
   "source": [
    "df5 = pd.DataFrame()\n",
    "\n",
    "for year in years:\n",
    "    print('Working on year ' + str(year))\n",
    "    if year == 2018:\n",
    "        months = [11,12]\n",
    "        \n",
    "    elif year == 2019:\n",
    "        months = [1,2,3,4,5,6,7,8,9,10,11,12]\n",
    "    \n",
    "    elif year == 2020:\n",
    "        months = [1,2]\n",
    "    \n",
    "    else:\n",
    "        print('Bad Year!')\n",
    "        \n",
    "    \n",
    "    for month in months:\n",
    "        df2 = pd.DataFrame()\n",
    "        df3 = pd.DataFrame()\n",
    "        print('Working on month ' + str(month))\n",
    "\n",
    "\n",
    "        for tract in tracts.geoid10:\n",
    "            df['DESTINATION'] = tracts.geoid10\n",
    "            df['ORIGIN'] = tract\n",
    "\n",
    "            df2 = df2.append(df)\n",
    "        df2['MONTH'] = month \n",
    "        \n",
    "        df3 = df3.append(df2)\n",
    "    df3['YEAR'] = year\n",
    "    df4 = df4.append(df3)\n",
    "    \n"
   ]
  },
  {
   "cell_type": "code",
   "execution_count": 35,
   "metadata": {},
   "outputs": [
    {
     "data": {
      "text/plain": [
       "35930457"
      ]
     },
     "execution_count": 35,
     "metadata": {},
     "output_type": "execute_result"
    }
   ],
   "source": [
    "len(df4)"
   ]
  },
  {
   "cell_type": "code",
   "execution_count": 36,
   "metadata": {},
   "outputs": [
    {
     "data": {
      "text/html": [
       "<div>\n",
       "<style scoped>\n",
       "    .dataframe tbody tr th:only-of-type {\n",
       "        vertical-align: middle;\n",
       "    }\n",
       "\n",
       "    .dataframe tbody tr th {\n",
       "        vertical-align: top;\n",
       "    }\n",
       "\n",
       "    .dataframe thead th {\n",
       "        text-align: right;\n",
       "    }\n",
       "</style>\n",
       "<table border=\"1\" class=\"dataframe\">\n",
       "  <thead>\n",
       "    <tr style=\"text-align: right;\">\n",
       "      <th></th>\n",
       "      <th>DESTINATION</th>\n",
       "      <th>ORIGIN</th>\n",
       "      <th>MONTH</th>\n",
       "      <th>YEAR</th>\n",
       "    </tr>\n",
       "  </thead>\n",
       "  <tbody>\n",
       "    <tr>\n",
       "      <th>0</th>\n",
       "      <td>17031842400</td>\n",
       "      <td>17031630900</td>\n",
       "      <td>2</td>\n",
       "      <td>2018</td>\n",
       "    </tr>\n",
       "    <tr>\n",
       "      <th>1</th>\n",
       "      <td>17031840300</td>\n",
       "      <td>17031630900</td>\n",
       "      <td>2</td>\n",
       "      <td>2018</td>\n",
       "    </tr>\n",
       "    <tr>\n",
       "      <th>2</th>\n",
       "      <td>17031841100</td>\n",
       "      <td>17031630900</td>\n",
       "      <td>2</td>\n",
       "      <td>2018</td>\n",
       "    </tr>\n",
       "    <tr>\n",
       "      <th>3</th>\n",
       "      <td>17031841200</td>\n",
       "      <td>17031630900</td>\n",
       "      <td>2</td>\n",
       "      <td>2018</td>\n",
       "    </tr>\n",
       "    <tr>\n",
       "      <th>4</th>\n",
       "      <td>17031839000</td>\n",
       "      <td>17031630900</td>\n",
       "      <td>2</td>\n",
       "      <td>2018</td>\n",
       "    </tr>\n",
       "  </tbody>\n",
       "</table>\n",
       "</div>"
      ],
      "text/plain": [
       "   DESTINATION       ORIGIN  MONTH  YEAR\n",
       "0  17031842400  17031630900      2  2018\n",
       "1  17031840300  17031630900      2  2018\n",
       "2  17031841100  17031630900      2  2018\n",
       "3  17031841200  17031630900      2  2018\n",
       "4  17031839000  17031630900      2  2018"
      ]
     },
     "execution_count": 36,
     "metadata": {},
     "output_type": "execute_result"
    }
   ],
   "source": [
    "df4.head()"
   ]
  },
  {
   "cell_type": "code",
   "execution_count": 38,
   "metadata": {},
   "outputs": [
    {
     "data": {
      "text/plain": [
       "17031630900    2853.5625\n",
       "17031130200    2803.5000\n",
       "17031836700    2803.5000\n",
       "17031150501    2803.5000\n",
       "17031832500    2803.5000\n",
       "                 ...    \n",
       "17031420600    2803.5000\n",
       "17031100400    2803.5000\n",
       "17031431301    2803.5000\n",
       "17031460301    2803.5000\n",
       "17031280900    2803.5000\n",
       "Name: ORIGIN, Length: 801, dtype: float64"
      ]
     },
     "execution_count": 38,
     "metadata": {},
     "output_type": "execute_result"
    }
   ],
   "source": [
    "df4.ORIGIN.value_counts()/16"
   ]
  },
  {
   "cell_type": "code",
   "execution_count": null,
   "metadata": {},
   "outputs": [],
   "source": []
  }
 ],
 "metadata": {
  "kernelspec": {
   "display_name": "Python 3",
   "language": "python",
   "name": "python3"
  },
  "language_info": {
   "codemirror_mode": {
    "name": "ipython",
    "version": 3
   },
   "file_extension": ".py",
   "mimetype": "text/x-python",
   "name": "python",
   "nbconvert_exporter": "python",
   "pygments_lexer": "ipython3",
   "version": "3.7.6"
  }
 },
 "nbformat": 4,
 "nbformat_minor": 4
}
