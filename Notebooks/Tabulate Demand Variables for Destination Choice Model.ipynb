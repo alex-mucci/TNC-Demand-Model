{
 "cells": [
  {
   "cell_type": "code",
   "execution_count": 71,
   "metadata": {},
   "outputs": [],
   "source": [
    "import pandas as pd\n",
    "import geopandas as gp"
   ]
  },
  {
   "cell_type": "markdown",
   "metadata": {},
   "source": [
    "# Create monthly OD Matricies"
   ]
  },
  {
   "cell_type": "code",
   "execution_count": 72,
   "metadata": {},
   "outputs": [],
   "source": [
    "area = pd.read_csv('C:/Workspace/TNC-Demand-Model/Outputs/Census_Tracts_Area.csv', index_col = 0)\n",
    "acs = pd.read_csv('C:/Workspace/TNC-Demand-Model/Outputs/Chicago_ACS_Data.csv', index_col = 0)\n",
    "lehd = pd.read_csv('C:/Workspace/TNC-Demand-Model/Outputs/CHI_WAC.csv', index_col = 0)"
   ]
  },
  {
   "cell_type": "code",
   "execution_count": 73,
   "metadata": {},
   "outputs": [],
   "source": [
    "lehd['TEMP'] = lehd['CNS01'] + lehd['CNS02'] + lehd['CNS03'] + lehd['CNS04'] + lehd['CNS05'] + lehd['CNS06'] + lehd['CNS07'] + lehd['CNS08'] + lehd['CNS09'] + lehd['CNS10'] + lehd['CNS11'] + lehd['CNS12'] + lehd['CNS13'] + lehd['CNS14'] + lehd['CNS15'] + lehd['CNS16'] + lehd['CNS17'] + lehd['CNS18'] + lehd['CNS19'] + lehd['CNS20']\n",
    "lehd['TO_EMP'] = lehd['CNS01'] + lehd['CNS02'] + lehd['CNS03'] + lehd['CNS04'] + lehd['CNS05'] + lehd['CNS06'] + lehd['CNS08'] + lehd['CNS09'] + lehd['CNS10'] + lehd['CNS11'] + lehd['CNS12'] + lehd['CNS13'] + lehd['CNS14'] + lehd['CNS15'] + lehd['CNS16'] + lehd['CNS17'] + lehd['CNS19'] + lehd['CNS20']\n",
    "lehd['TR_EMP'] = lehd['CNS07']\n",
    "lehd['TF_EMP'] = lehd['CNS18'] \n",
    "\n",
    "acs = acs.groupby(by = ['YEAR','MONTH','CENSUS_TRACT'], as_index = False).first()"
   ]
  },
  {
   "cell_type": "code",
   "execution_count": 74,
   "metadata": {
    "scrolled": true
   },
   "outputs": [
    {
     "name": "stdout",
     "output_type": "stream",
     "text": [
      "YEAR\n",
      "MONTH\n",
      "CENSUS_TRACT\n",
      "TOD\n",
      "TOTAL_POP\n",
      "TOTAL_MALE\n",
      "TOTAL_FEMALE\n",
      "AGE_5U\n",
      "AGE_5_9\n",
      "AGE_10_14\n",
      "AGE_15_19\n",
      "AGE_20_24\n",
      "AGE_25_34\n",
      "AGE_35_44\n",
      "AGE_45_54\n",
      "AGE_55_59\n",
      "AGE_60_64\n",
      "AGE_65_74\n",
      "AGE_75_84\n",
      "AGE_85P\n",
      "MEDIAN_AGE\n",
      "TOTAL_HHLDS\n",
      "AVG_HHLD_SIZE\n",
      "AVG_FAMILY_SIZE\n",
      "TOTAL_POP_18_24\n",
      "TOTAL_POP_18_24_NO_HIGH_SCHOOL\n",
      "TOTAL_POP_18_24_HIGH_SCHOOL\n",
      "TOTAL_POP_18_24_SOME_COLLEGE\n",
      "TOTAL_POP_18_24_SOME_BACHELORS_HIGHER\n",
      "TOTAL_POP_25P\n",
      "TOTAL_POP_25P_LESS_THAN_9TH\n",
      "TOTAL_POP_25P_9TH_TO_12TH\n",
      "TOTAL_POP_25P_HIGH_SCHOOL\n",
      "TOTAL_POP_25P_SOME_COLLEGE\n",
      "TOTAL_POP_25P_ASSOCIATES\n",
      "TOTAL_POP_25P_BACHELORS\n",
      "TOTAL_POP_25P_GRADUATE\n",
      "TOTAL_POP_25P_HIGH_SCHOOL_HIGHER\n",
      "TOTAL_POP_25P_BACHELORS_HIGHER\n",
      "TOTAL_HHLDS_LESS_10K\n",
      "TOTAL_HHLDS_10K_15K\n",
      "TOTAL_HHLDS_15K_25K\n",
      "TOTAL_HHLDS_25K_35K\n",
      "TOTAL_HHLDS_35K_50K\n",
      "TOTAL_HHLDS_50K_75K\n",
      "TOTAL_HHLDS_75K_100K\n",
      "TOTAL_HHLDS_100K_150K\n",
      "TOTAL_HHLDS_150K_200K\n",
      "TOTAL_HHLDS_200KP\n",
      "HHLDS_MEDIAN_INCOME\n",
      "HHLDS_MEAN_INCOME\n",
      "HHLDS_0_VEH\n",
      "HHLDS_1_VEH\n",
      "HHLDS_2_VEH\n",
      "HHLDS_3P_VEH\n",
      "AVG_VEH_PER_HHLD\n"
     ]
    }
   ],
   "source": [
    "for col in acs.columns:\n",
    "    print(col)"
   ]
  },
  {
   "cell_type": "code",
   "execution_count": 75,
   "metadata": {},
   "outputs": [],
   "source": [
    "acs['TOTAL_HHLDS_MORE_100K'] = acs['TOTAL_HHLDS_100K_150K'] + acs['TOTAL_HHLDS_150K_200K'] + acs['TOTAL_HHLDS_200KP']\n",
    "acs['TOTAL_HHLDS_35K_100K'] = acs['TOTAL_HHLDS_35K_50K'] + acs['TOTAL_HHLDS_50K_75K'] + acs['TOTAL_HHLDS_75K_100K']\n",
    "acs['TOTAL_HHLDS_LESS_35K'] = acs['TOTAL_HHLDS_LESS_10K'] + acs['TOTAL_HHLDS_10K_15K'] + acs['TOTAL_HHLDS_15K_25K'] + acs['TOTAL_HHLDS_25K_35K']\n",
    "\n",
    "\n",
    "acs['SHR_HHLDS_MORE_100K'] = acs['TOTAL_HHLDS_MORE_100K']/acs['TOTAL_HHLDS']\n",
    "acs['SHR_HHLDS_35K_100K'] = acs['TOTAL_HHLDS_35K_50K']/acs['TOTAL_HHLDS']\n",
    "acs['SHR_HHLDS_LESS_35K'] = acs['TOTAL_HHLDS_LESS_35K']/acs['TOTAL_HHLDS']"
   ]
  },
  {
   "cell_type": "code",
   "execution_count": 76,
   "metadata": {},
   "outputs": [
    {
     "data": {
      "text/plain": [
       "Index(['YEAR', 'MONTH', 'CENSUS_TRACT', 'TOD', 'TOTAL_POP', 'TOTAL_MALE',\n",
       "       'TOTAL_FEMALE', 'AGE_5U', 'AGE_5_9', 'AGE_10_14', 'AGE_15_19',\n",
       "       'AGE_20_24', 'AGE_25_34', 'AGE_35_44', 'AGE_45_54', 'AGE_55_59',\n",
       "       'AGE_60_64', 'AGE_65_74', 'AGE_75_84', 'AGE_85P', 'MEDIAN_AGE',\n",
       "       'TOTAL_HHLDS', 'AVG_HHLD_SIZE', 'AVG_FAMILY_SIZE', 'TOTAL_POP_18_24',\n",
       "       'TOTAL_POP_18_24_NO_HIGH_SCHOOL', 'TOTAL_POP_18_24_HIGH_SCHOOL',\n",
       "       'TOTAL_POP_18_24_SOME_COLLEGE', 'TOTAL_POP_18_24_SOME_BACHELORS_HIGHER',\n",
       "       'TOTAL_POP_25P', 'TOTAL_POP_25P_LESS_THAN_9TH',\n",
       "       'TOTAL_POP_25P_9TH_TO_12TH', 'TOTAL_POP_25P_HIGH_SCHOOL',\n",
       "       'TOTAL_POP_25P_SOME_COLLEGE', 'TOTAL_POP_25P_ASSOCIATES',\n",
       "       'TOTAL_POP_25P_BACHELORS', 'TOTAL_POP_25P_GRADUATE',\n",
       "       'TOTAL_POP_25P_HIGH_SCHOOL_HIGHER', 'TOTAL_POP_25P_BACHELORS_HIGHER',\n",
       "       'TOTAL_HHLDS_LESS_10K', 'TOTAL_HHLDS_10K_15K', 'TOTAL_HHLDS_15K_25K',\n",
       "       'TOTAL_HHLDS_25K_35K', 'TOTAL_HHLDS_35K_50K', 'TOTAL_HHLDS_50K_75K',\n",
       "       'TOTAL_HHLDS_75K_100K', 'TOTAL_HHLDS_100K_150K',\n",
       "       'TOTAL_HHLDS_150K_200K', 'TOTAL_HHLDS_200KP', 'HHLDS_MEDIAN_INCOME',\n",
       "       'HHLDS_MEAN_INCOME', 'HHLDS_0_VEH', 'HHLDS_1_VEH', 'HHLDS_2_VEH',\n",
       "       'HHLDS_3P_VEH', 'AVG_VEH_PER_HHLD', 'TOTAL_HHLDS_MORE_100K',\n",
       "       'TOTAL_HHLDS_35K_100K', 'TOTAL_HHLDS_LESS_35K', 'SHR_HHLDS_MORE_100K',\n",
       "       'SHR_HHLDS_35K_100K', 'SHR_HHLDS_LESS_35K'],\n",
       "      dtype='object')"
      ]
     },
     "execution_count": 76,
     "metadata": {},
     "output_type": "execute_result"
    }
   ],
   "source": [
    "acs.columns"
   ]
  },
  {
   "cell_type": "code",
   "execution_count": 77,
   "metadata": {},
   "outputs": [],
   "source": [
    "acs['T20_35'] = acs['AGE_20_24'] + acs['AGE_25_34']\n",
    "acs['T35_65'] = acs['AGE_35_44'] + acs['AGE_45_54'] + acs['AGE_55_59'] + acs['AGE_60_64']\n",
    "acs['T65P'] = acs['AGE_65_74'] + acs['AGE_75_84'] + acs['AGE_85P']\n",
    "\n",
    "\n",
    "acs['P20_35'] = (acs['T20_35']/acs['TOTAL_POP'])*100\n",
    "acs['P35_65'] = (acs['T35_65']/acs['TOTAL_POP'])*100\n",
    "acs['P65P'] = (acs['T65P']/acs['TOTAL_POP'])*100"
   ]
  },
  {
   "cell_type": "code",
   "execution_count": 78,
   "metadata": {},
   "outputs": [],
   "source": [
    "#acs['SHR_HHLDS_0_VEH'] = acs['HHLDS_0_VEH']/acs['TOTAL_HHLDS']"
   ]
  },
  {
   "cell_type": "code",
   "execution_count": 79,
   "metadata": {},
   "outputs": [],
   "source": [
    "acs['PBA_P'] = (acs['TOTAL_POP_25P_BACHELORS_HIGHER']/acs['TOTAL_POP'])*100"
   ]
  },
  {
   "cell_type": "code",
   "execution_count": 80,
   "metadata": {},
   "outputs": [],
   "source": [
    "acs['TBA_P'] = acs['TOTAL_POP_25P_BACHELORS_HIGHER']"
   ]
  },
  {
   "cell_type": "code",
   "execution_count": 82,
   "metadata": {},
   "outputs": [],
   "source": [
    "acs['ME_INC'] = acs['HHLDS_MEDIAN_INCOME']\n",
    "acs['ME_AGE'] = acs['MEDIAN_AGE']"
   ]
  },
  {
   "cell_type": "code",
   "execution_count": 83,
   "metadata": {},
   "outputs": [],
   "source": [
    "acs['TPOP'] = acs['TOTAL_POP']\n",
    "acs['THHLDS'] = acs['TOTAL_HHLDS']"
   ]
  },
  {
   "cell_type": "code",
   "execution_count": 84,
   "metadata": {},
   "outputs": [],
   "source": [
    "years = [2018,2019,2020]"
   ]
  },
  {
   "cell_type": "code",
   "execution_count": 85,
   "metadata": {},
   "outputs": [
    {
     "name": "stdout",
     "output_type": "stream",
     "text": [
      "Working on year 2018\n",
      "Working on month 11\n",
      "Working on month 12\n",
      "Working on year 2019\n",
      "Working on month 1\n",
      "Working on month 2\n",
      "Working on month 3\n",
      "Working on month 4\n",
      "Working on month 5\n",
      "Working on month 6\n",
      "Working on month 7\n",
      "Working on month 8\n",
      "Working on month 9\n",
      "Working on month 10\n",
      "Working on month 11\n",
      "Working on month 12\n",
      "Working on year 2020\n",
      "Working on month 1\n",
      "Working on month 2\n"
     ]
    }
   ],
   "source": [
    "for year in years:\n",
    "\n",
    "    print('Working on year ' + str(year))\n",
    "    if year == 2018:\n",
    "        months = [11,12]\n",
    "    elif year == 2020:\n",
    "        months = [1,2]\n",
    "    else:\n",
    "        months = [1,2,3,4,5,6,7,8,9,10,11,12]\n",
    "\n",
    "    for month in months:\n",
    "        print('Working on month ' + str(month))\n",
    "        \n",
    "        df =  pd.read_csv('C:/Workspace/TNC-Demand-Model/Outputs/Destination Choice Model Matricies/Empty Matricies/Empty_Chicago_Matrix_' + str(year) + '_'+ str(month) + '_1.csv', index_col = 0)\n",
    "        df['TRACTCE10'] = df.DESTINATION.astype(str)\n",
    "        df['TRACTCE10'] = df['TRACTCE10'].apply(lambda x : x[5:11])\n",
    "        df['TRACTCE10'] = df['TRACTCE10'].astype(int)\n",
    "        df = lehd.merge(df, how = 'right', on = ['TRACTCE10','MONTH','YEAR'])\n",
    "        df = df.merge(acs, how = 'left', left_on = ['DESTINATION','YEAR','MONTH'], right_on = ['CENSUS_TRACT','YEAR','MONTH'])\n",
    "        df = df.merge(area[['CENSUS_TRACT','AREA_SQ_MI']], how = 'left', on = ['CENSUS_TRACT'])\n",
    "        df['TE_P'] = df['TEMP'] + df['TPOP']\n",
    "        df['DE_P'] = df['TE_P']/df['AREA_SQ_MI']\n",
    "        \n",
    "        df['D_E'] = df['TEMP']/df['AREA_SQ_MI']\n",
    "        df['D_P'] = df['TPOP']/df['AREA_SQ_MI']\n",
    "        df['D_H'] = df['THHLDS']/df['AREA_SQ_MI']\n",
    "        \n",
    "        \n",
    "        df = df.fillna(0)\n",
    "        \n",
    "        df[['ORIGIN','T20_35','P20_35','T35_65','P35_65','T65P','P65P','TBA_P','PBA_P','ME_INC','ME_AGE','DESTINATION','MONTH','YEAR','D_P','D_E','D_H','TE_P','DE_P','TO_EMP','TR_EMP','TF_EMP']].to_csv('C:/Workspace/TNC-Demand-Model/Outputs/Destination Choice Model Matricies/Demand Variables/' + str(year) + '_' + str(month) + '_Demand_Variables.csv')"
   ]
  },
  {
   "cell_type": "code",
   "execution_count": 58,
   "metadata": {},
   "outputs": [],
   "source": [
    "dropoffs_1 = pd.read_csv('C:/Workspace/TNC-Demand-Model/Outputs/Estimated_Dropoffs_TOD_1.csv')\n",
    "dropoffs_2  = pd.read_csv('C:/Workspace/TNC-Demand-Model/Outputs/Estimated_Dropoffs_TOD_2.csv')\n",
    "dropoffs_3  = pd.read_csv('C:/Workspace/TNC-Demand-Model/Outputs/Estimated_Dropoffs_TOD_3.csv')\n",
    "dropoffs_4  = pd.read_csv('C:/Workspace/TNC-Demand-Model/Outputs/Estimated_Dropoffs_TOD_4.csv')\n",
    "dropoffs_5  = pd.read_csv('C:/Workspace/TNC-Demand-Model/Outputs/Estimated_Dropoffs_TOD_5.csv')"
   ]
  },
  {
   "cell_type": "code",
   "execution_count": null,
   "metadata": {},
   "outputs": [],
   "source": []
  },
  {
   "cell_type": "code",
   "execution_count": null,
   "metadata": {},
   "outputs": [],
   "source": []
  },
  {
   "cell_type": "code",
   "execution_count": null,
   "metadata": {},
   "outputs": [],
   "source": []
  },
  {
   "cell_type": "code",
   "execution_count": null,
   "metadata": {},
   "outputs": [],
   "source": []
  },
  {
   "cell_type": "code",
   "execution_count": 59,
   "metadata": {},
   "outputs": [],
   "source": [
    "dropoffs = dropoffs_1.append(dropoffs_2)"
   ]
  },
  {
   "cell_type": "code",
   "execution_count": 60,
   "metadata": {},
   "outputs": [],
   "source": [
    "dropoffs = dropoffs.append(dropoffs_3)"
   ]
  },
  {
   "cell_type": "code",
   "execution_count": 61,
   "metadata": {},
   "outputs": [],
   "source": [
    "dropoffs = dropoffs.append(dropoffs_4)"
   ]
  },
  {
   "cell_type": "code",
   "execution_count": 62,
   "metadata": {},
   "outputs": [],
   "source": [
    "dropoffs = dropoffs.append(dropoffs_5)"
   ]
  },
  {
   "cell_type": "code",
   "execution_count": 63,
   "metadata": {},
   "outputs": [],
   "source": [
    "df =  pd.read_csv('C:/Workspace/TNC-Demand-Model/Outputs/Destination Choice Model Matricies/Empty Matricies/Empty_Chicago_Matrix_2018_12_1.csv')"
   ]
  },
  {
   "cell_type": "code",
   "execution_count": 64,
   "metadata": {},
   "outputs": [
    {
     "data": {
      "text/html": [
       "<div>\n",
       "<style scoped>\n",
       "    .dataframe tbody tr th:only-of-type {\n",
       "        vertical-align: middle;\n",
       "    }\n",
       "\n",
       "    .dataframe tbody tr th {\n",
       "        vertical-align: top;\n",
       "    }\n",
       "\n",
       "    .dataframe thead th {\n",
       "        text-align: right;\n",
       "    }\n",
       "</style>\n",
       "<table border=\"1\" class=\"dataframe\">\n",
       "  <thead>\n",
       "    <tr style=\"text-align: right;\">\n",
       "      <th></th>\n",
       "      <th>Unnamed: 0</th>\n",
       "      <th>YEAR</th>\n",
       "      <th>MONTH</th>\n",
       "      <th>TOD</th>\n",
       "      <th>DESTINATION</th>\n",
       "      <th>DROPOFFS_AVG</th>\n",
       "      <th>PRED_DROPOFFS</th>\n",
       "    </tr>\n",
       "  </thead>\n",
       "  <tbody>\n",
       "    <tr>\n",
       "      <th>0</th>\n",
       "      <td>3204</td>\n",
       "      <td>2018</td>\n",
       "      <td>11</td>\n",
       "      <td>5</td>\n",
       "      <td>17031010100</td>\n",
       "      <td>0.272727</td>\n",
       "      <td>0.369219</td>\n",
       "    </tr>\n",
       "    <tr>\n",
       "      <th>1</th>\n",
       "      <td>3205</td>\n",
       "      <td>2018</td>\n",
       "      <td>11</td>\n",
       "      <td>5</td>\n",
       "      <td>17031010201</td>\n",
       "      <td>0.500000</td>\n",
       "      <td>0.445932</td>\n",
       "    </tr>\n",
       "    <tr>\n",
       "      <th>2</th>\n",
       "      <td>3206</td>\n",
       "      <td>2018</td>\n",
       "      <td>11</td>\n",
       "      <td>5</td>\n",
       "      <td>17031010202</td>\n",
       "      <td>0.363636</td>\n",
       "      <td>0.203022</td>\n",
       "    </tr>\n",
       "    <tr>\n",
       "      <th>3</th>\n",
       "      <td>3207</td>\n",
       "      <td>2018</td>\n",
       "      <td>11</td>\n",
       "      <td>5</td>\n",
       "      <td>17031010300</td>\n",
       "      <td>0.818182</td>\n",
       "      <td>0.645891</td>\n",
       "    </tr>\n",
       "    <tr>\n",
       "      <th>4</th>\n",
       "      <td>3208</td>\n",
       "      <td>2018</td>\n",
       "      <td>11</td>\n",
       "      <td>5</td>\n",
       "      <td>17031010400</td>\n",
       "      <td>1.000000</td>\n",
       "      <td>1.079589</td>\n",
       "    </tr>\n",
       "  </tbody>\n",
       "</table>\n",
       "</div>"
      ],
      "text/plain": [
       "   Unnamed: 0  YEAR  MONTH  TOD  DESTINATION  DROPOFFS_AVG  PRED_DROPOFFS\n",
       "0        3204  2018     11    5  17031010100      0.272727       0.369219\n",
       "1        3205  2018     11    5  17031010201      0.500000       0.445932\n",
       "2        3206  2018     11    5  17031010202      0.363636       0.203022\n",
       "3        3207  2018     11    5  17031010300      0.818182       0.645891\n",
       "4        3208  2018     11    5  17031010400      1.000000       1.079589"
      ]
     },
     "execution_count": 64,
     "metadata": {},
     "output_type": "execute_result"
    }
   ],
   "source": [
    "dropoffs_5.head()"
   ]
  },
  {
   "cell_type": "code",
   "execution_count": null,
   "metadata": {},
   "outputs": [],
   "source": []
  },
  {
   "cell_type": "code",
   "execution_count": null,
   "metadata": {},
   "outputs": [],
   "source": []
  },
  {
   "cell_type": "code",
   "execution_count": null,
   "metadata": {},
   "outputs": [],
   "source": []
  },
  {
   "cell_type": "code",
   "execution_count": null,
   "metadata": {},
   "outputs": [],
   "source": []
  },
  {
   "cell_type": "code",
   "execution_count": null,
   "metadata": {},
   "outputs": [],
   "source": []
  },
  {
   "cell_type": "code",
   "execution_count": null,
   "metadata": {},
   "outputs": [],
   "source": []
  },
  {
   "cell_type": "markdown",
   "metadata": {},
   "source": [
    "# USE THIS TO CALCULATE OBS and PRED AVG WEEKDAY DROPOFFS\n",
    "\n",
    "## SWITCH INPUTS AND OUTPUT FILENAME"
   ]
  },
  {
   "cell_type": "code",
   "execution_count": 70,
   "metadata": {
    "scrolled": true
   },
   "outputs": [
    {
     "name": "stdout",
     "output_type": "stream",
     "text": [
      "Working on year 2018\n",
      "Working on month 11\n",
      "Working on month 12\n",
      "Working on year 2019\n",
      "Working on month 1\n",
      "Working on month 2\n",
      "Working on month 3\n",
      "Working on month 4\n",
      "Working on month 5\n",
      "Working on month 6\n",
      "Working on month 7\n",
      "Working on month 8\n",
      "Working on month 9\n",
      "Working on month 10\n",
      "Working on month 11\n",
      "Working on month 12\n",
      "Working on year 2020\n",
      "Working on month 1\n",
      "Working on month 2\n"
     ]
    }
   ],
   "source": [
    "tods = [1,2,3,4,5]\n",
    "for year in years:\n",
    "\n",
    "    print('Working on year ' + str(year))\n",
    "    if year == 2018:\n",
    "        months = [11,12]\n",
    "    elif year == 2020:\n",
    "        months = [1,2]\n",
    "    else:\n",
    "        months = [1,2,3,4,5,6,7,8,9,10,11,12]\n",
    "\n",
    "    for month in months:\n",
    "        print('Working on month ' + str(month))\n",
    "        \n",
    "        for tod in tods:\n",
    "            \n",
    "            df =  pd.read_csv('C:/Workspace/TNC-Demand-Model/Outputs/Destination Choice Model Matricies/Empty Matricies/Empty_Chicago_Matrix_' + str(year) + '_'+ str(month) + '_' + str(tod) + '.csv', index_col = 0)\n",
    "            \n",
    "            df = dropoffs.merge(df[['ORIGIN','DESTINATION','MONTH','YEAR','TOD']], how = 'right', on = ['DESTINATION','MONTH','YEAR','TOD'])\n",
    "\n",
    "            df = df.fillna(0)\n",
    "\n",
    "            df.to_csv('C:/Workspace/TNC-Demand-Model/Outputs/Destination Choice Model Matricies/Estimated Dropoffs/' + str(year) + '_' + str(month) + '_' + str(tod) + '_Dropoffs.csv')"
   ]
  },
  {
   "cell_type": "code",
   "execution_count": 45,
   "metadata": {},
   "outputs": [],
   "source": [
    "import numpy as np"
   ]
  },
  {
   "cell_type": "code",
   "execution_count": null,
   "metadata": {},
   "outputs": [],
   "source": []
  },
  {
   "cell_type": "code",
   "execution_count": null,
   "metadata": {},
   "outputs": [],
   "source": []
  },
  {
   "cell_type": "code",
   "execution_count": null,
   "metadata": {},
   "outputs": [],
   "source": [
    "lehd_od = pd.read_csv('C:/Workspace/TNC-Demand-Model/Outputs/CHI_LEHD_OD.csv', index_col = 0)"
   ]
  },
  {
   "cell_type": "code",
   "execution_count": null,
   "metadata": {},
   "outputs": [],
   "source": [
    "lehd_od['TOTAL_EMP_FLOW'] = lehd_od['SI01'] + lehd_od['SI02'] + lehd_od['SI03']"
   ]
  },
  {
   "cell_type": "code",
   "execution_count": null,
   "metadata": {},
   "outputs": [],
   "source": [
    "#fill lehd missing values with 0 because it is census tracts without data (without employment)\n",
    "lehd_od['TOTAL_EMP_ORIGIN'] = lehd_od['TOTAL_EMP_FLOW'].fillna(0)\n",
    "lehd_od['TOTAL_EMP_DESTINATION'] = lehd_od['TOTAL_EMP_FLOW'].fillna(0)\n",
    "lehd_od['TOTAL_EMP_FLOW'] = lehd_od['TOTAL_EMP_FLOW'].fillna(0)"
   ]
  },
  {
   "cell_type": "code",
   "execution_count": null,
   "metadata": {},
   "outputs": [],
   "source": [
    "lehd_od.head()"
   ]
  },
  {
   "cell_type": "code",
   "execution_count": null,
   "metadata": {},
   "outputs": [],
   "source": [
    "#df = pd.read_csv('C:/Workspace/TNC-Demand-Model/Outputs/Destination Choice Model Matricies/Empty Matricies/Empty_Chicago_Matrix_2018_11_1.csv',index_col = 0)"
   ]
  },
  {
   "cell_type": "code",
   "execution_count": 52,
   "metadata": {},
   "outputs": [],
   "source": [
    "#df = df[['ORIGIN','DESTINATION']]"
   ]
  },
  {
   "cell_type": "code",
   "execution_count": 53,
   "metadata": {},
   "outputs": [],
   "source": [
    "#df['TRACTCE10_PICKUP'] = df.ORIGIN.astype(str)\n",
    "#df['TRACTCE10_PICKUP'] = df['TRACTCE10_PICKUP'].apply(lambda x : x[5:11])\n",
    "#df['TRACTCE10_PICKUP'] = df['TRACTCE10_PICKUP'].astype(int)\n",
    "#df['TRACTCE10_DEST'] = df.DESTINATION.astype(str)\n",
    "#df['TRACTCE10_DEST'] = df['TRACTCE10_DEST'].apply(lambda x : x[5:11])\n",
    "#df['TRACTCE10_DEST'] = df['TRACTCE10_DEST'].astype(int)"
   ]
  },
  {
   "cell_type": "code",
   "execution_count": 54,
   "metadata": {},
   "outputs": [],
   "source": [
    "#df = df.merge(lehd_od, how = 'right', on = ['TRACTCE10_PICKUP','TRACTCE10_DEST'])"
   ]
  },
  {
   "cell_type": "code",
   "execution_count": null,
   "metadata": {},
   "outputs": [],
   "source": []
  },
  {
   "cell_type": "code",
   "execution_count": null,
   "metadata": {},
   "outputs": [],
   "source": []
  },
  {
   "cell_type": "code",
   "execution_count": 126,
   "metadata": {},
   "outputs": [
    {
     "ename": "KeyError",
     "evalue": "\"['TOTAL_EMP_ORIGIN' 'TOTAL_EMP_DESTINATION'] not found in axis\"",
     "output_type": "error",
     "traceback": [
      "\u001b[1;31m---------------------------------------------------------------------------\u001b[0m",
      "\u001b[1;31mKeyError\u001b[0m                                  Traceback (most recent call last)",
      "\u001b[1;32m<ipython-input-126-0c619fb34e80>\u001b[0m in \u001b[0;36m<module>\u001b[1;34m\u001b[0m\n\u001b[1;32m----> 1\u001b[1;33m \u001b[0mdf\u001b[0m \u001b[1;33m=\u001b[0m \u001b[0mdf\u001b[0m\u001b[1;33m.\u001b[0m\u001b[0mdrop\u001b[0m\u001b[1;33m(\u001b[0m\u001b[1;33m[\u001b[0m\u001b[1;34m'TOTAL_EMP_ORIGIN'\u001b[0m\u001b[1;33m,\u001b[0m\u001b[1;34m'TOTAL_EMP_DESTINATION'\u001b[0m\u001b[1;33m]\u001b[0m\u001b[1;33m,\u001b[0m \u001b[0maxis\u001b[0m \u001b[1;33m=\u001b[0m \u001b[1;36m1\u001b[0m\u001b[1;33m)\u001b[0m\u001b[1;33m\u001b[0m\u001b[1;33m\u001b[0m\u001b[0m\n\u001b[0m",
      "\u001b[1;32m~\\Anaconda3\\lib\\site-packages\\pandas\\core\\frame.py\u001b[0m in \u001b[0;36mdrop\u001b[1;34m(self, labels, axis, index, columns, level, inplace, errors)\u001b[0m\n\u001b[0;32m   4167\u001b[0m             \u001b[0mlevel\u001b[0m\u001b[1;33m=\u001b[0m\u001b[0mlevel\u001b[0m\u001b[1;33m,\u001b[0m\u001b[1;33m\u001b[0m\u001b[1;33m\u001b[0m\u001b[0m\n\u001b[0;32m   4168\u001b[0m             \u001b[0minplace\u001b[0m\u001b[1;33m=\u001b[0m\u001b[0minplace\u001b[0m\u001b[1;33m,\u001b[0m\u001b[1;33m\u001b[0m\u001b[1;33m\u001b[0m\u001b[0m\n\u001b[1;32m-> 4169\u001b[1;33m             \u001b[0merrors\u001b[0m\u001b[1;33m=\u001b[0m\u001b[0merrors\u001b[0m\u001b[1;33m,\u001b[0m\u001b[1;33m\u001b[0m\u001b[1;33m\u001b[0m\u001b[0m\n\u001b[0m\u001b[0;32m   4170\u001b[0m         )\n\u001b[0;32m   4171\u001b[0m \u001b[1;33m\u001b[0m\u001b[0m\n",
      "\u001b[1;32m~\\Anaconda3\\lib\\site-packages\\pandas\\core\\generic.py\u001b[0m in \u001b[0;36mdrop\u001b[1;34m(self, labels, axis, index, columns, level, inplace, errors)\u001b[0m\n\u001b[0;32m   3882\u001b[0m         \u001b[1;32mfor\u001b[0m \u001b[0maxis\u001b[0m\u001b[1;33m,\u001b[0m \u001b[0mlabels\u001b[0m \u001b[1;32min\u001b[0m \u001b[0maxes\u001b[0m\u001b[1;33m.\u001b[0m\u001b[0mitems\u001b[0m\u001b[1;33m(\u001b[0m\u001b[1;33m)\u001b[0m\u001b[1;33m:\u001b[0m\u001b[1;33m\u001b[0m\u001b[1;33m\u001b[0m\u001b[0m\n\u001b[0;32m   3883\u001b[0m             \u001b[1;32mif\u001b[0m \u001b[0mlabels\u001b[0m \u001b[1;32mis\u001b[0m \u001b[1;32mnot\u001b[0m \u001b[1;32mNone\u001b[0m\u001b[1;33m:\u001b[0m\u001b[1;33m\u001b[0m\u001b[1;33m\u001b[0m\u001b[0m\n\u001b[1;32m-> 3884\u001b[1;33m                 \u001b[0mobj\u001b[0m \u001b[1;33m=\u001b[0m \u001b[0mobj\u001b[0m\u001b[1;33m.\u001b[0m\u001b[0m_drop_axis\u001b[0m\u001b[1;33m(\u001b[0m\u001b[0mlabels\u001b[0m\u001b[1;33m,\u001b[0m \u001b[0maxis\u001b[0m\u001b[1;33m,\u001b[0m \u001b[0mlevel\u001b[0m\u001b[1;33m=\u001b[0m\u001b[0mlevel\u001b[0m\u001b[1;33m,\u001b[0m \u001b[0merrors\u001b[0m\u001b[1;33m=\u001b[0m\u001b[0merrors\u001b[0m\u001b[1;33m)\u001b[0m\u001b[1;33m\u001b[0m\u001b[1;33m\u001b[0m\u001b[0m\n\u001b[0m\u001b[0;32m   3885\u001b[0m \u001b[1;33m\u001b[0m\u001b[0m\n\u001b[0;32m   3886\u001b[0m         \u001b[1;32mif\u001b[0m \u001b[0minplace\u001b[0m\u001b[1;33m:\u001b[0m\u001b[1;33m\u001b[0m\u001b[1;33m\u001b[0m\u001b[0m\n",
      "\u001b[1;32m~\\Anaconda3\\lib\\site-packages\\pandas\\core\\generic.py\u001b[0m in \u001b[0;36m_drop_axis\u001b[1;34m(self, labels, axis, level, errors)\u001b[0m\n\u001b[0;32m   3916\u001b[0m                 \u001b[0mnew_axis\u001b[0m \u001b[1;33m=\u001b[0m \u001b[0maxis\u001b[0m\u001b[1;33m.\u001b[0m\u001b[0mdrop\u001b[0m\u001b[1;33m(\u001b[0m\u001b[0mlabels\u001b[0m\u001b[1;33m,\u001b[0m \u001b[0mlevel\u001b[0m\u001b[1;33m=\u001b[0m\u001b[0mlevel\u001b[0m\u001b[1;33m,\u001b[0m \u001b[0merrors\u001b[0m\u001b[1;33m=\u001b[0m\u001b[0merrors\u001b[0m\u001b[1;33m)\u001b[0m\u001b[1;33m\u001b[0m\u001b[1;33m\u001b[0m\u001b[0m\n\u001b[0;32m   3917\u001b[0m             \u001b[1;32melse\u001b[0m\u001b[1;33m:\u001b[0m\u001b[1;33m\u001b[0m\u001b[1;33m\u001b[0m\u001b[0m\n\u001b[1;32m-> 3918\u001b[1;33m                 \u001b[0mnew_axis\u001b[0m \u001b[1;33m=\u001b[0m \u001b[0maxis\u001b[0m\u001b[1;33m.\u001b[0m\u001b[0mdrop\u001b[0m\u001b[1;33m(\u001b[0m\u001b[0mlabels\u001b[0m\u001b[1;33m,\u001b[0m \u001b[0merrors\u001b[0m\u001b[1;33m=\u001b[0m\u001b[0merrors\u001b[0m\u001b[1;33m)\u001b[0m\u001b[1;33m\u001b[0m\u001b[1;33m\u001b[0m\u001b[0m\n\u001b[0m\u001b[0;32m   3919\u001b[0m             \u001b[0mresult\u001b[0m \u001b[1;33m=\u001b[0m \u001b[0mself\u001b[0m\u001b[1;33m.\u001b[0m\u001b[0mreindex\u001b[0m\u001b[1;33m(\u001b[0m\u001b[1;33m**\u001b[0m\u001b[1;33m{\u001b[0m\u001b[0maxis_name\u001b[0m\u001b[1;33m:\u001b[0m \u001b[0mnew_axis\u001b[0m\u001b[1;33m}\u001b[0m\u001b[1;33m)\u001b[0m\u001b[1;33m\u001b[0m\u001b[1;33m\u001b[0m\u001b[0m\n\u001b[0;32m   3920\u001b[0m \u001b[1;33m\u001b[0m\u001b[0m\n",
      "\u001b[1;32m~\\Anaconda3\\lib\\site-packages\\pandas\\core\\indexes\\base.py\u001b[0m in \u001b[0;36mdrop\u001b[1;34m(self, labels, errors)\u001b[0m\n\u001b[0;32m   5276\u001b[0m         \u001b[1;32mif\u001b[0m \u001b[0mmask\u001b[0m\u001b[1;33m.\u001b[0m\u001b[0many\u001b[0m\u001b[1;33m(\u001b[0m\u001b[1;33m)\u001b[0m\u001b[1;33m:\u001b[0m\u001b[1;33m\u001b[0m\u001b[1;33m\u001b[0m\u001b[0m\n\u001b[0;32m   5277\u001b[0m             \u001b[1;32mif\u001b[0m \u001b[0merrors\u001b[0m \u001b[1;33m!=\u001b[0m \u001b[1;34m\"ignore\"\u001b[0m\u001b[1;33m:\u001b[0m\u001b[1;33m\u001b[0m\u001b[1;33m\u001b[0m\u001b[0m\n\u001b[1;32m-> 5278\u001b[1;33m                 \u001b[1;32mraise\u001b[0m \u001b[0mKeyError\u001b[0m\u001b[1;33m(\u001b[0m\u001b[1;34mf\"{labels[mask]} not found in axis\"\u001b[0m\u001b[1;33m)\u001b[0m\u001b[1;33m\u001b[0m\u001b[1;33m\u001b[0m\u001b[0m\n\u001b[0m\u001b[0;32m   5279\u001b[0m             \u001b[0mindexer\u001b[0m \u001b[1;33m=\u001b[0m \u001b[0mindexer\u001b[0m\u001b[1;33m[\u001b[0m\u001b[1;33m~\u001b[0m\u001b[0mmask\u001b[0m\u001b[1;33m]\u001b[0m\u001b[1;33m\u001b[0m\u001b[1;33m\u001b[0m\u001b[0m\n\u001b[0;32m   5280\u001b[0m         \u001b[1;32mreturn\u001b[0m \u001b[0mself\u001b[0m\u001b[1;33m.\u001b[0m\u001b[0mdelete\u001b[0m\u001b[1;33m(\u001b[0m\u001b[0mindexer\u001b[0m\u001b[1;33m)\u001b[0m\u001b[1;33m\u001b[0m\u001b[1;33m\u001b[0m\u001b[0m\n",
      "\u001b[1;31mKeyError\u001b[0m: \"['TOTAL_EMP_ORIGIN' 'TOTAL_EMP_DESTINATION'] not found in axis\""
     ]
    }
   ],
   "source": [
    "lehd_od = lehd_od.drop(['TOTAL_EMP_ORIGIN','TOTAL_EMP_DESTINATION'], axis = 1)"
   ]
  },
  {
   "cell_type": "code",
   "execution_count": 150,
   "metadata": {},
   "outputs": [
    {
     "name": "stdout",
     "output_type": "stream",
     "text": [
      "Working on year 2018\n",
      "Working on month 11\n",
      "Working on month 12\n",
      "Working on year 2019\n",
      "Working on month 1\n",
      "Working on month 2\n",
      "Working on month 3\n",
      "Working on month 4\n",
      "Working on month 5\n",
      "Working on month 6\n",
      "Working on month 7\n",
      "Working on month 8\n",
      "Working on month 9\n",
      "Working on month 10\n",
      "Working on month 11\n",
      "Working on month 12\n",
      "Working on year 2020\n",
      "Working on month 1\n",
      "Working on month 2\n"
     ]
    }
   ],
   "source": [
    "years = [2018,2019,2020]\n",
    "\n",
    "for year in years:\n",
    "    print('Working on year ' + str(year))\n",
    "\n",
    "    if year == 2018:\n",
    "        months = [11,12]\n",
    "    elif year == 2020:\n",
    "        months = [1,2]\n",
    "    else:\n",
    "        months = [1,2,3,4,5,6,7,8,9,10,11,12]\n",
    "        \n",
    "    for month in months:\n",
    "        print('Working on month ' + str(month))\n",
    "        df = pd.read_csv('C:/Workspace/TNC-Demand-Model/Outputs/Destination Choice Model Matricies/Empty Matricies/Empty_Chicago_Matrix_' + str(year) + '_' + str(month) + '_1.csv',index_col = 0)\n",
    "        df = df.drop('TOD',axis = 1)\n",
    "        \n",
    "        df['TRACTCE10_PICKUP'] = df.ORIGIN.astype(str)\n",
    "        df['TRACTCE10_PICKUP'] = df['TRACTCE10_PICKUP'].apply(lambda x : x[5:11])\n",
    "        df['TRACTCE10_PICKUP'] = df['TRACTCE10_PICKUP'].astype(int)\n",
    "        df['TRACTCE10_DEST'] = df.DESTINATION.astype(str)\n",
    "        df['TRACTCE10_DEST'] = df['TRACTCE10_DEST'].apply(lambda x : x[5:11])\n",
    "        df['TRACTCE10_DEST'] = df['TRACTCE10_DEST'].astype(int)\n",
    "\n",
    "        df = df.merge(lehd_od, how = 'left', on = ['TRACTCE10_PICKUP','TRACTCE10_DEST','YEAR','MONTH'])\n",
    "        df = df.drop(['TRACTCE10_PICKUP','TRACTCE10_DEST'],axis = 1)\n",
    "        \n",
    "        df['TOTAL_EMP_FLOW'] = df['TOTAL_EMP_FLOW'].fillna(0)\n",
    "        df['SI01'] = df['SI01'].fillna(0)\n",
    "        df['SI02'] = df['SI02'].fillna(0)\n",
    "        df['SI03'] = df['SI03'].fillna(0)\n",
    "\n",
    "        df.to_csv('C:/Workspace/TNC-Demand-Model/Outputs/Destination Choice Model Matricies/Employment Flows/Employment_Flow_'+ str(year) + '_' + str(month) + '.csv')"
   ]
  },
  {
   "cell_type": "code",
   "execution_count": 141,
   "metadata": {},
   "outputs": [
    {
     "data": {
      "text/plain": [
       "Index(['DESTINATION', 'ORIGIN', 'MONTH', 'YEAR', 'TRACTCE10_PICKUP',\n",
       "       'TRACTCE10_DEST', 'SI01', 'SI02', 'SI03', 'TOTAL_EMP_FLOW'],\n",
       "      dtype='object')"
      ]
     },
     "execution_count": 141,
     "metadata": {},
     "output_type": "execute_result"
    }
   ],
   "source": [
    "df.columns"
   ]
  },
  {
   "cell_type": "code",
   "execution_count": 129,
   "metadata": {},
   "outputs": [
    {
     "data": {
      "text/plain": [
       "array([1], dtype=int64)"
      ]
     },
     "execution_count": 129,
     "metadata": {},
     "output_type": "execute_result"
    }
   ],
   "source": [
    "df.TOD.unique()"
   ]
  },
  {
   "cell_type": "code",
   "execution_count": 116,
   "metadata": {},
   "outputs": [
    {
     "data": {
      "text/plain": [
       "801"
      ]
     },
     "execution_count": 116,
     "metadata": {},
     "output_type": "execute_result"
    }
   ],
   "source": [
    "len(df['DESTINATION'].unique())"
   ]
  },
  {
   "cell_type": "code",
   "execution_count": null,
   "metadata": {},
   "outputs": [],
   "source": []
  }
 ],
 "metadata": {
  "kernelspec": {
   "display_name": "Python 3",
   "language": "python",
   "name": "python3"
  },
  "language_info": {
   "codemirror_mode": {
    "name": "ipython",
    "version": 3
   },
   "file_extension": ".py",
   "mimetype": "text/x-python",
   "name": "python",
   "nbconvert_exporter": "python",
   "pygments_lexer": "ipython3",
   "version": "3.7.6"
  }
 },
 "nbformat": 4,
 "nbformat_minor": 4
}
