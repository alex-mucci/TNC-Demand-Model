{
 "cells": [
  {
   "cell_type": "code",
   "execution_count": 30,
   "id": "stock-ireland",
   "metadata": {},
   "outputs": [],
   "source": [
    "import pandas as pd\n",
    "import numpy as np"
   ]
  },
  {
   "cell_type": "code",
   "execution_count": 4,
   "id": "desperate-intent",
   "metadata": {},
   "outputs": [],
   "source": [
    "tod = [1\n",
    "month = 3\n",
    "year = 2019"
   ]
  },
  {
   "cell_type": "code",
   "execution_count": 6,
   "id": "hollywood-married",
   "metadata": {},
   "outputs": [],
   "source": [
    "for tod in tods:\n",
    "    df = pd.read_hdf('D:/TNC-Demand-Model/Inputs/Chicago Ride-Hailing/Chicago_TNC_Trips_20.H5', where = ['YEAR == ' + str(year),'MONTH == '+str(month)], key = 'Weekday' + '_' + str(tod))"
   ]
  },
  {
   "cell_type": "code",
   "execution_count": 11,
   "id": "engaged-greene",
   "metadata": {},
   "outputs": [],
   "source": [
    "df['TRIPS'] = 1 \n",
    "df['DAY'] = df['Trip Start Timestamp'].dt.day\n"
   ]
  },
  {
   "cell_type": "code",
   "execution_count": 10,
   "id": "young-syndicate",
   "metadata": {},
   "outputs": [
    {
     "data": {
      "text/html": [
       "<div>\n",
       "<style scoped>\n",
       "    .dataframe tbody tr th:only-of-type {\n",
       "        vertical-align: middle;\n",
       "    }\n",
       "\n",
       "    .dataframe tbody tr th {\n",
       "        vertical-align: top;\n",
       "    }\n",
       "\n",
       "    .dataframe thead th {\n",
       "        text-align: right;\n",
       "    }\n",
       "</style>\n",
       "<table border=\"1\" class=\"dataframe\">\n",
       "  <thead>\n",
       "    <tr style=\"text-align: right;\">\n",
       "      <th></th>\n",
       "      <th>Trip Seconds</th>\n",
       "      <th>Trip Miles</th>\n",
       "      <th>Pickup Census Tract</th>\n",
       "      <th>Dropoff Census Tract</th>\n",
       "      <th>Pickup Community Area</th>\n",
       "      <th>Dropoff Community Area</th>\n",
       "      <th>Fare</th>\n",
       "      <th>Tip</th>\n",
       "      <th>Additional Charges</th>\n",
       "      <th>Trip Total</th>\n",
       "      <th>Shared Trip Authorized</th>\n",
       "      <th>Trips Pooled</th>\n",
       "      <th>Pickup Centroid Latitude</th>\n",
       "      <th>Pickup Centroid Longitude</th>\n",
       "      <th>Dropoff Centroid Latitude</th>\n",
       "      <th>Dropoff Centroid Longitude</th>\n",
       "      <th>YEAR</th>\n",
       "      <th>DOW</th>\n",
       "      <th>HOUR</th>\n",
       "      <th>TRIPS</th>\n",
       "    </tr>\n",
       "    <tr>\n",
       "      <th>MONTH</th>\n",
       "      <th></th>\n",
       "      <th></th>\n",
       "      <th></th>\n",
       "      <th></th>\n",
       "      <th></th>\n",
       "      <th></th>\n",
       "      <th></th>\n",
       "      <th></th>\n",
       "      <th></th>\n",
       "      <th></th>\n",
       "      <th></th>\n",
       "      <th></th>\n",
       "      <th></th>\n",
       "      <th></th>\n",
       "      <th></th>\n",
       "      <th></th>\n",
       "      <th></th>\n",
       "      <th></th>\n",
       "      <th></th>\n",
       "      <th></th>\n",
       "    </tr>\n",
       "  </thead>\n",
       "  <tbody>\n",
       "    <tr>\n",
       "      <th>3</th>\n",
       "      <td>903081815.0</td>\n",
       "      <td>6443409.5</td>\n",
       "      <td>9.684142e+15</td>\n",
       "      <td>9.668541e+15</td>\n",
       "      <td>22975260.0</td>\n",
       "      <td>24447792.0</td>\n",
       "      <td>10885687.5</td>\n",
       "      <td>513474.0</td>\n",
       "      <td>2.887101e+06</td>\n",
       "      <td>1.428626e+07</td>\n",
       "      <td>250907</td>\n",
       "      <td>1260577.0</td>\n",
       "      <td>3.731777e+07</td>\n",
       "      <td>-7.809618e+07</td>\n",
       "      <td>3.710606e+07</td>\n",
       "      <td>-7.765469e+07</td>\n",
       "      <td>1931211861</td>\n",
       "      <td>2337763</td>\n",
       "      <td>14941210</td>\n",
       "      <td>956519</td>\n",
       "    </tr>\n",
       "  </tbody>\n",
       "</table>\n",
       "</div>"
      ],
      "text/plain": [
       "       Trip Seconds  Trip Miles  Pickup Census Tract  Dropoff Census Tract  \\\n",
       "MONTH                                                                        \n",
       "3       903081815.0   6443409.5         9.684142e+15          9.668541e+15   \n",
       "\n",
       "       Pickup Community Area  Dropoff Community Area        Fare       Tip  \\\n",
       "MONTH                                                                        \n",
       "3                 22975260.0              24447792.0  10885687.5  513474.0   \n",
       "\n",
       "       Additional Charges    Trip Total  Shared Trip Authorized  Trips Pooled  \\\n",
       "MONTH                                                                           \n",
       "3            2.887101e+06  1.428626e+07                  250907     1260577.0   \n",
       "\n",
       "       Pickup Centroid Latitude  Pickup Centroid Longitude  \\\n",
       "MONTH                                                        \n",
       "3                  3.731777e+07              -7.809618e+07   \n",
       "\n",
       "       Dropoff Centroid Latitude  Dropoff Centroid Longitude        YEAR  \\\n",
       "MONTH                                                                      \n",
       "3                   3.710606e+07               -7.765469e+07  1931211861   \n",
       "\n",
       "           DOW      HOUR   TRIPS  \n",
       "MONTH                             \n",
       "3      2337763  14941210  956519  "
      ]
     },
     "execution_count": 10,
     "metadata": {},
     "output_type": "execute_result"
    }
   ],
   "source": [
    "df.groupby(by = 'MONTH').sum()"
   ]
  },
  {
   "cell_type": "code",
   "execution_count": 14,
   "id": "furnished-recruitment",
   "metadata": {},
   "outputs": [],
   "source": [
    "df2 = df.groupby(by = ['MONTH','DAY'], as_index = False).sum()"
   ]
  },
  {
   "cell_type": "code",
   "execution_count": 15,
   "id": "increasing-filename",
   "metadata": {},
   "outputs": [
    {
     "data": {
      "text/html": [
       "<div>\n",
       "<style scoped>\n",
       "    .dataframe tbody tr th:only-of-type {\n",
       "        vertical-align: middle;\n",
       "    }\n",
       "\n",
       "    .dataframe tbody tr th {\n",
       "        vertical-align: top;\n",
       "    }\n",
       "\n",
       "    .dataframe thead th {\n",
       "        text-align: right;\n",
       "    }\n",
       "</style>\n",
       "<table border=\"1\" class=\"dataframe\">\n",
       "  <thead>\n",
       "    <tr style=\"text-align: right;\">\n",
       "      <th></th>\n",
       "      <th>MONTH</th>\n",
       "      <th>DAY</th>\n",
       "      <th>Trip Seconds</th>\n",
       "      <th>Trip Miles</th>\n",
       "      <th>Pickup Census Tract</th>\n",
       "      <th>Dropoff Census Tract</th>\n",
       "      <th>Pickup Community Area</th>\n",
       "      <th>Dropoff Community Area</th>\n",
       "      <th>Fare</th>\n",
       "      <th>Tip</th>\n",
       "      <th>...</th>\n",
       "      <th>Shared Trip Authorized</th>\n",
       "      <th>Trips Pooled</th>\n",
       "      <th>Pickup Centroid Latitude</th>\n",
       "      <th>Pickup Centroid Longitude</th>\n",
       "      <th>Dropoff Centroid Latitude</th>\n",
       "      <th>Dropoff Centroid Longitude</th>\n",
       "      <th>YEAR</th>\n",
       "      <th>DOW</th>\n",
       "      <th>HOUR</th>\n",
       "      <th>TRIPS</th>\n",
       "    </tr>\n",
       "  </thead>\n",
       "  <tbody>\n",
       "    <tr>\n",
       "      <th>0</th>\n",
       "      <td>3</td>\n",
       "      <td>15.761905</td>\n",
       "      <td>4.300390e+07</td>\n",
       "      <td>306829.02381</td>\n",
       "      <td>4.611496e+14</td>\n",
       "      <td>4.604067e+14</td>\n",
       "      <td>1094060.0</td>\n",
       "      <td>1.164181e+06</td>\n",
       "      <td>518366.071429</td>\n",
       "      <td>24451.142857</td>\n",
       "      <td>...</td>\n",
       "      <td>11947.952381</td>\n",
       "      <td>60027.47619</td>\n",
       "      <td>1.777037e+06</td>\n",
       "      <td>-3.718866e+06</td>\n",
       "      <td>1.766955e+06</td>\n",
       "      <td>-3.697843e+06</td>\n",
       "      <td>9.196247e+07</td>\n",
       "      <td>111322.047619</td>\n",
       "      <td>711486.190476</td>\n",
       "      <td>45548.52381</td>\n",
       "    </tr>\n",
       "  </tbody>\n",
       "</table>\n",
       "<p>1 rows × 22 columns</p>\n",
       "</div>"
      ],
      "text/plain": [
       "   MONTH        DAY  Trip Seconds    Trip Miles  Pickup Census Tract  \\\n",
       "0      3  15.761905  4.300390e+07  306829.02381         4.611496e+14   \n",
       "\n",
       "   Dropoff Census Tract  Pickup Community Area  Dropoff Community Area  \\\n",
       "0          4.604067e+14              1094060.0            1.164181e+06   \n",
       "\n",
       "            Fare           Tip  ...  Shared Trip Authorized  Trips Pooled  \\\n",
       "0  518366.071429  24451.142857  ...            11947.952381   60027.47619   \n",
       "\n",
       "   Pickup Centroid Latitude  Pickup Centroid Longitude  \\\n",
       "0              1.777037e+06              -3.718866e+06   \n",
       "\n",
       "   Dropoff Centroid Latitude  Dropoff Centroid Longitude          YEAR  \\\n",
       "0               1.766955e+06               -3.697843e+06  9.196247e+07   \n",
       "\n",
       "             DOW           HOUR        TRIPS  \n",
       "0  111322.047619  711486.190476  45548.52381  \n",
       "\n",
       "[1 rows x 22 columns]"
      ]
     },
     "execution_count": 15,
     "metadata": {},
     "output_type": "execute_result"
    }
   ],
   "source": [
    "df2.groupby(by = ['MONTH'], as_index = False).mean()"
   ]
  },
  {
   "cell_type": "code",
   "execution_count": 17,
   "id": "planned-flashing",
   "metadata": {},
   "outputs": [
    {
     "data": {
      "text/plain": [
       "21"
      ]
     },
     "execution_count": 17,
     "metadata": {},
     "output_type": "execute_result"
    }
   ],
   "source": [
    "len(df2.DAY.unique())"
   ]
  },
  {
   "cell_type": "code",
   "execution_count": 39,
   "id": "specialized-mortgage",
   "metadata": {},
   "outputs": [
    {
     "data": {
      "text/plain": [
       "956518.9199999999"
      ]
     },
     "execution_count": 39,
     "metadata": {},
     "output_type": "execute_result"
    }
   ],
   "source": [
    "45548.52*21"
   ]
  },
  {
   "cell_type": "markdown",
   "id": "widespread-airline",
   "metadata": {},
   "source": [
    "# Test Aggregating at a Comunnity Area Level"
   ]
  },
  {
   "cell_type": "code",
   "execution_count": 18,
   "id": "declared-diameter",
   "metadata": {},
   "outputs": [],
   "source": [
    "df3 = df.groupby(by = ['Pickup Community Area','Dropoff Community Area','MONTH','DAY'], as_index = False).sum()"
   ]
  },
  {
   "cell_type": "code",
   "execution_count": 34,
   "id": "juvenile-iraqi",
   "metadata": {},
   "outputs": [],
   "source": [
    "df4 = df3.groupby(by = ['Pickup Community Area','Dropoff Community Area','MONTH'], as_index = False).mean()"
   ]
  },
  {
   "cell_type": "code",
   "execution_count": 35,
   "id": "political-daniel",
   "metadata": {},
   "outputs": [
    {
     "data": {
      "text/plain": [
       "21"
      ]
     },
     "execution_count": 35,
     "metadata": {},
     "output_type": "execute_result"
    }
   ],
   "source": [
    "len(df3.DAY.unique())"
   ]
  },
  {
   "cell_type": "code",
   "execution_count": 36,
   "id": "unexpected-automation",
   "metadata": {},
   "outputs": [
    {
     "data": {
      "text/plain": [
       "2227"
      ]
     },
     "execution_count": 36,
     "metadata": {},
     "output_type": "execute_result"
    }
   ],
   "source": [
    "np.sum(df[(df['Pickup Community Area'] == 1)&(df['Dropoff Community Area'] == 1)]['TRIPS'])"
   ]
  },
  {
   "cell_type": "code",
   "execution_count": 38,
   "id": "qualified-invitation",
   "metadata": {},
   "outputs": [
    {
     "data": {
      "text/plain": [
       "2227.0"
      ]
     },
     "execution_count": 38,
     "metadata": {},
     "output_type": "execute_result"
    }
   ],
   "source": [
    "np.sum(df4[(df4['Pickup Community Area'] == 1)&(df4['Dropoff Community Area'] == 1)]['TRIPS']*21)"
   ]
  },
  {
   "cell_type": "code",
   "execution_count": 21,
   "id": "packed-shoulder",
   "metadata": {},
   "outputs": [
    {
     "data": {
      "text/html": [
       "<div>\n",
       "<style scoped>\n",
       "    .dataframe tbody tr th:only-of-type {\n",
       "        vertical-align: middle;\n",
       "    }\n",
       "\n",
       "    .dataframe tbody tr th {\n",
       "        vertical-align: top;\n",
       "    }\n",
       "\n",
       "    .dataframe thead th {\n",
       "        text-align: right;\n",
       "    }\n",
       "</style>\n",
       "<table border=\"1\" class=\"dataframe\">\n",
       "  <thead>\n",
       "    <tr style=\"text-align: right;\">\n",
       "      <th></th>\n",
       "      <th>Pickup Community Area</th>\n",
       "      <th>Dropoff Community Area</th>\n",
       "      <th>DAY</th>\n",
       "      <th>Trip Seconds</th>\n",
       "      <th>Trip Miles</th>\n",
       "      <th>Pickup Census Tract</th>\n",
       "      <th>Dropoff Census Tract</th>\n",
       "      <th>Fare</th>\n",
       "      <th>Tip</th>\n",
       "      <th>Additional Charges</th>\n",
       "      <th>...</th>\n",
       "      <th>Shared Trip Authorized</th>\n",
       "      <th>Trips Pooled</th>\n",
       "      <th>Pickup Centroid Latitude</th>\n",
       "      <th>Pickup Centroid Longitude</th>\n",
       "      <th>Dropoff Centroid Latitude</th>\n",
       "      <th>Dropoff Centroid Longitude</th>\n",
       "      <th>YEAR</th>\n",
       "      <th>DOW</th>\n",
       "      <th>HOUR</th>\n",
       "      <th>TRIPS</th>\n",
       "    </tr>\n",
       "    <tr>\n",
       "      <th>MONTH</th>\n",
       "      <th></th>\n",
       "      <th></th>\n",
       "      <th></th>\n",
       "      <th></th>\n",
       "      <th></th>\n",
       "      <th></th>\n",
       "      <th></th>\n",
       "      <th></th>\n",
       "      <th></th>\n",
       "      <th></th>\n",
       "      <th></th>\n",
       "      <th></th>\n",
       "      <th></th>\n",
       "      <th></th>\n",
       "      <th></th>\n",
       "      <th></th>\n",
       "      <th></th>\n",
       "      <th></th>\n",
       "      <th></th>\n",
       "      <th></th>\n",
       "      <th></th>\n",
       "    </tr>\n",
       "  </thead>\n",
       "  <tbody>\n",
       "    <tr>\n",
       "      <th>3</th>\n",
       "      <td>2253689.0</td>\n",
       "      <td>2294957.0</td>\n",
       "      <td>942637</td>\n",
       "      <td>690503534.0</td>\n",
       "      <td>4344698.2</td>\n",
       "      <td>8.991944e+15</td>\n",
       "      <td>8.991924e+15</td>\n",
       "      <td>7955305.0</td>\n",
       "      <td>353536.0</td>\n",
       "      <td>2.272942e+06</td>\n",
       "      <td>...</td>\n",
       "      <td>215519</td>\n",
       "      <td>1090109.0</td>\n",
       "      <td>3.432684e+07</td>\n",
       "      <td>-7.183318e+07</td>\n",
       "      <td>3.432933e+07</td>\n",
       "      <td>-7.183907e+07</td>\n",
       "      <td>1654376676</td>\n",
       "      <td>2026603</td>\n",
       "      <td>13099510</td>\n",
       "      <td>819404</td>\n",
       "    </tr>\n",
       "  </tbody>\n",
       "</table>\n",
       "<p>1 rows × 21 columns</p>\n",
       "</div>"
      ],
      "text/plain": [
       "       Pickup Community Area  Dropoff Community Area     DAY  Trip Seconds  \\\n",
       "MONTH                                                                        \n",
       "3                  2253689.0               2294957.0  942637   690503534.0   \n",
       "\n",
       "       Trip Miles  Pickup Census Tract  Dropoff Census Tract       Fare  \\\n",
       "MONTH                                                                     \n",
       "3       4344698.2         8.991944e+15          8.991924e+15  7955305.0   \n",
       "\n",
       "            Tip  Additional Charges  ...  Shared Trip Authorized  \\\n",
       "MONTH                                ...                           \n",
       "3      353536.0        2.272942e+06  ...                  215519   \n",
       "\n",
       "       Trips Pooled  Pickup Centroid Latitude  Pickup Centroid Longitude  \\\n",
       "MONTH                                                                      \n",
       "3         1090109.0              3.432684e+07              -7.183318e+07   \n",
       "\n",
       "       Dropoff Centroid Latitude  Dropoff Centroid Longitude        YEAR  \\\n",
       "MONTH                                                                      \n",
       "3                   3.432933e+07               -7.183907e+07  1654376676   \n",
       "\n",
       "           DOW      HOUR   TRIPS  \n",
       "MONTH                             \n",
       "3      2026603  13099510  819404  \n",
       "\n",
       "[1 rows x 21 columns]"
      ]
     },
     "execution_count": 21,
     "metadata": {},
     "output_type": "execute_result"
    }
   ],
   "source": [
    "df4.groupby(by = 'MONTH').sum()"
   ]
  },
  {
   "cell_type": "markdown",
   "id": "narrow-county",
   "metadata": {},
   "source": [
    "# Test Aggregating at a Census Tract Level"
   ]
  },
  {
   "cell_type": "code",
   "execution_count": 44,
   "id": "faced-estate",
   "metadata": {},
   "outputs": [],
   "source": [
    "df5 = df.groupby(by = ['Pickup Census Tract','Dropoff Census Tract','MONTH','DAY'], as_index = False).sum()"
   ]
  },
  {
   "cell_type": "code",
   "execution_count": 45,
   "id": "fixed-music",
   "metadata": {},
   "outputs": [],
   "source": [
    "df6 = df3.groupby(by = ['Pickup Census Tract','Dropoff Census Tract','MONTH'], as_index = False).mean()"
   ]
  },
  {
   "cell_type": "code",
   "execution_count": 46,
   "id": "elegant-trade",
   "metadata": {},
   "outputs": [
    {
     "data": {
      "text/plain": [
       "21"
      ]
     },
     "execution_count": 46,
     "metadata": {},
     "output_type": "execute_result"
    }
   ],
   "source": [
    "len(df5.DAY.unique())"
   ]
  },
  {
   "cell_type": "code",
   "execution_count": 55,
   "id": "partial-pharmacology",
   "metadata": {},
   "outputs": [
    {
     "data": {
      "text/plain": [
       "218"
      ]
     },
     "execution_count": 55,
     "metadata": {},
     "output_type": "execute_result"
    }
   ],
   "source": [
    "np.sum(df[(df['Pickup Census Tract'] == 17031841900)&(df['Dropoff Census Tract'] == 17031841900)]['TRIPS'])"
   ]
  },
  {
   "cell_type": "code",
   "execution_count": 56,
   "id": "civilian-november",
   "metadata": {},
   "outputs": [
    {
     "data": {
      "text/plain": [
       "218.0"
      ]
     },
     "execution_count": 56,
     "metadata": {},
     "output_type": "execute_result"
    }
   ],
   "source": [
    "np.sum(df4[(df4['Pickup Census Tract'] == 17031841900)&(df4['Dropoff Census Tract'] == 17031841900)]['TRIPS']*21)"
   ]
  },
  {
   "cell_type": "code",
   "execution_count": 57,
   "id": "representative-porcelain",
   "metadata": {},
   "outputs": [
    {
     "data": {
      "text/html": [
       "<div>\n",
       "<style scoped>\n",
       "    .dataframe tbody tr th:only-of-type {\n",
       "        vertical-align: middle;\n",
       "    }\n",
       "\n",
       "    .dataframe tbody tr th {\n",
       "        vertical-align: top;\n",
       "    }\n",
       "\n",
       "    .dataframe thead th {\n",
       "        text-align: right;\n",
       "    }\n",
       "</style>\n",
       "<table border=\"1\" class=\"dataframe\">\n",
       "  <thead>\n",
       "    <tr style=\"text-align: right;\">\n",
       "      <th></th>\n",
       "      <th>Pickup Census Tract</th>\n",
       "      <th>Dropoff Census Tract</th>\n",
       "      <th>DAY</th>\n",
       "      <th>Trip Seconds</th>\n",
       "      <th>Trip Miles</th>\n",
       "      <th>Pickup Community Area</th>\n",
       "      <th>Dropoff Community Area</th>\n",
       "      <th>Fare</th>\n",
       "      <th>Tip</th>\n",
       "      <th>Additional Charges</th>\n",
       "      <th>...</th>\n",
       "      <th>Shared Trip Authorized</th>\n",
       "      <th>Trips Pooled</th>\n",
       "      <th>Pickup Centroid Latitude</th>\n",
       "      <th>Pickup Centroid Longitude</th>\n",
       "      <th>Dropoff Centroid Latitude</th>\n",
       "      <th>Dropoff Centroid Longitude</th>\n",
       "      <th>YEAR</th>\n",
       "      <th>DOW</th>\n",
       "      <th>HOUR</th>\n",
       "      <th>TRIPS</th>\n",
       "    </tr>\n",
       "    <tr>\n",
       "      <th>MONTH</th>\n",
       "      <th></th>\n",
       "      <th></th>\n",
       "      <th></th>\n",
       "      <th></th>\n",
       "      <th></th>\n",
       "      <th></th>\n",
       "      <th></th>\n",
       "      <th></th>\n",
       "      <th></th>\n",
       "      <th></th>\n",
       "      <th></th>\n",
       "      <th></th>\n",
       "      <th></th>\n",
       "      <th></th>\n",
       "      <th></th>\n",
       "      <th></th>\n",
       "      <th></th>\n",
       "      <th></th>\n",
       "      <th></th>\n",
       "      <th></th>\n",
       "      <th></th>\n",
       "    </tr>\n",
       "  </thead>\n",
       "  <tbody>\n",
       "    <tr>\n",
       "      <th>3</th>\n",
       "      <td>1.396587e+15</td>\n",
       "      <td>1.396586e+15</td>\n",
       "      <td>1.250580e+06</td>\n",
       "      <td>9.793208e+07</td>\n",
       "      <td>590783.766105</td>\n",
       "      <td>2.368129e+06</td>\n",
       "      <td>2.474229e+06</td>\n",
       "      <td>1.044002e+06</td>\n",
       "      <td>42678.306466</td>\n",
       "      <td>254904.938005</td>\n",
       "      <td>...</td>\n",
       "      <td>29697.81601</td>\n",
       "      <td>144835.798322</td>\n",
       "      <td>4.233828e+06</td>\n",
       "      <td>-8.858466e+06</td>\n",
       "      <td>4.226428e+06</td>\n",
       "      <td>-8.843334e+06</td>\n",
       "      <td>2.047575e+08</td>\n",
       "      <td>285397.103872</td>\n",
       "      <td>2.038590e+06</td>\n",
       "      <td>101415.323063</td>\n",
       "    </tr>\n",
       "  </tbody>\n",
       "</table>\n",
       "<p>1 rows × 21 columns</p>\n",
       "</div>"
      ],
      "text/plain": [
       "       Pickup Census Tract  Dropoff Census Tract           DAY  Trip Seconds  \\\n",
       "MONTH                                                                          \n",
       "3             1.396587e+15          1.396586e+15  1.250580e+06  9.793208e+07   \n",
       "\n",
       "          Trip Miles  Pickup Community Area  Dropoff Community Area  \\\n",
       "MONTH                                                                 \n",
       "3      590783.766105           2.368129e+06            2.474229e+06   \n",
       "\n",
       "               Fare           Tip  Additional Charges  ...  \\\n",
       "MONTH                                                  ...   \n",
       "3      1.044002e+06  42678.306466       254904.938005  ...   \n",
       "\n",
       "       Shared Trip Authorized   Trips Pooled  Pickup Centroid Latitude  \\\n",
       "MONTH                                                                    \n",
       "3                 29697.81601  144835.798322              4.233828e+06   \n",
       "\n",
       "       Pickup Centroid Longitude  Dropoff Centroid Latitude  \\\n",
       "MONTH                                                         \n",
       "3                  -8.858466e+06               4.226428e+06   \n",
       "\n",
       "       Dropoff Centroid Longitude          YEAR            DOW          HOUR  \\\n",
       "MONTH                                                                          \n",
       "3                   -8.843334e+06  2.047575e+08  285397.103872  2.038590e+06   \n",
       "\n",
       "               TRIPS  \n",
       "MONTH                 \n",
       "3      101415.323063  \n",
       "\n",
       "[1 rows x 21 columns]"
      ]
     },
     "execution_count": 57,
     "metadata": {},
     "output_type": "execute_result"
    }
   ],
   "source": [
    "df6.groupby(by = 'MONTH').sum()"
   ]
  },
  {
   "cell_type": "code",
   "execution_count": null,
   "id": "amber-richardson",
   "metadata": {},
   "outputs": [],
   "source": []
  }
 ],
 "metadata": {
  "kernelspec": {
   "display_name": "Python 3",
   "language": "python",
   "name": "python3"
  },
  "language_info": {
   "codemirror_mode": {
    "name": "ipython",
    "version": 3
   },
   "file_extension": ".py",
   "mimetype": "text/x-python",
   "name": "python",
   "nbconvert_exporter": "python",
   "pygments_lexer": "ipython3",
   "version": "3.6.12"
  }
 },
 "nbformat": 4,
 "nbformat_minor": 5
}
