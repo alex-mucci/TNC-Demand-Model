{
 "cells": [
  {
   "cell_type": "code",
   "execution_count": 1,
   "id": "robust-collapse",
   "metadata": {},
   "outputs": [],
   "source": [
    "import pandas as pd\n",
    "import seaborn as sns\n",
    "import numpy as np\n",
    "import matplotlib.pyplot as plt\n"
   ]
  },
  {
   "cell_type": "code",
   "execution_count": null,
   "id": "iraqi-burner",
   "metadata": {
    "scrolled": true
   },
   "outputs": [],
   "source": [
    "rh = pd.read_csv('D:/TNC-Demand-Model/Outputs/Monthly_Ridehail_Trips.csv')"
   ]
  },
  {
   "cell_type": "code",
   "execution_count": null,
   "id": "offshore-civilian",
   "metadata": {},
   "outputs": [],
   "source": [
    "rh = rh.groupby(by = ['YEAR','MONTH','ORIGIN','DESTINATION'],as_index = False).mean()"
   ]
  },
  {
   "cell_type": "code",
   "execution_count": null,
   "id": "tropical-eligibility",
   "metadata": {},
   "outputs": [],
   "source": [
    "len(rh)"
   ]
  },
  {
   "cell_type": "code",
   "execution_count": null,
   "id": "weighted-inventory",
   "metadata": {},
   "outputs": [],
   "source": [
    "acs = pd.read_csv('D:/TNC-Demand-Model/Outputs/Chicago_ACS_Data.csv')"
   ]
  },
  {
   "cell_type": "code",
   "execution_count": null,
   "id": "italic-disposal",
   "metadata": {
    "scrolled": true
   },
   "outputs": [],
   "source": [
    "acs.columns"
   ]
  },
  {
   "cell_type": "code",
   "execution_count": null,
   "id": "interracial-round",
   "metadata": {
    "scrolled": false
   },
   "outputs": [],
   "source": [
    "rh[['TRAVEL_TIME_MINUTES_UNSUPPRESSED','DISTANCE_UNSUPPRESSED','FARE_UNSUPPRESSED']].mean()"
   ]
  },
  {
   "cell_type": "code",
   "execution_count": null,
   "id": "conceptual-canvas",
   "metadata": {},
   "outputs": [],
   "source": [
    "rh[['TRAVEL_TIME_MINUTES_SUPPRESSED','DISTANCE_SUPPRESSED','FARE_SUPPRESSED']].mean()"
   ]
  },
  {
   "cell_type": "code",
   "execution_count": null,
   "id": "centered-concrete",
   "metadata": {},
   "outputs": [],
   "source": [
    "rh = rh.fillna(0)"
   ]
  },
  {
   "cell_type": "code",
   "execution_count": null,
   "id": "romance-elite",
   "metadata": {},
   "outputs": [],
   "source": [
    "rh['TRIPS_SHARED'] = rh['TRIPS_SHARED_UNSUPPRESSED'] + rh['TRIPS_SHARED_SUPPRESSED']\n",
    "rh['TRIPS_PRIVATE'] = rh['TRIPS_PRIVATE_UNSUPPRESSED'] + rh['TRIPS_PRIVATE_SUPPRESSED']\n",
    "rh['TRIPS_SUPPRESSED'] = rh['TRIPS_SHARED_SUPPRESSED'] + rh['TRIPS_PRIVATE_SUPPRESSED']\n",
    "rh['TRIPS_UNSUPPRESSED'] = rh['TRIPS_SHARED_UNSUPPRESSED'] + rh['TRIPS_PRIVATE_UNSUPPRESSED']\n",
    "\n",
    "rh['TRIPS_ALL'] = rh['TRIPS_PRIVATE'] + rh['TRIPS_SHARED']"
   ]
  },
  {
   "cell_type": "code",
   "execution_count": null,
   "id": "important-knight",
   "metadata": {},
   "outputs": [],
   "source": []
  },
  {
   "cell_type": "code",
   "execution_count": null,
   "id": "average-innocent",
   "metadata": {},
   "outputs": [],
   "source": []
  },
  {
   "cell_type": "code",
   "execution_count": 13,
   "id": "timely-associate",
   "metadata": {},
   "outputs": [],
   "source": [
    "rh = rh[['TRIPS_UNSUPPRESSED','TRIPS_SUPPRESSED','DISTANCE','TRAVEL_TIME_MINUTES','YEAR','MONTH','ORIGIN']].merge(acs,how = 'left', left_on = ['YEAR', 'MONTH', 'ORIGIN'], right_on = ['YEAR', 'MONTH', 'CENSUS_TRACT'], suffixes = ('','_ORIGIN'))"
   ]
  },
  {
   "cell_type": "code",
   "execution_count": 24,
   "id": "afraid-mountain",
   "metadata": {},
   "outputs": [],
   "source": []
  },
  {
   "cell_type": "code",
   "execution_count": null,
   "id": "configured-graphics",
   "metadata": {},
   "outputs": [],
   "source": []
  },
  {
   "cell_type": "code",
   "execution_count": null,
   "id": "equipped-ceremony",
   "metadata": {},
   "outputs": [],
   "source": []
  },
  {
   "cell_type": "code",
   "execution_count": null,
   "id": "veterinary-aging",
   "metadata": {},
   "outputs": [],
   "source": []
  },
  {
   "cell_type": "code",
   "execution_count": 17,
   "id": "square-austria",
   "metadata": {},
   "outputs": [
    {
     "data": {
      "text/plain": [
       "Index(['TRIPS_UNSUPPRESSED', 'TRIPS_SUPPRESSED', 'YEAR', 'MONTH', 'ORIGIN',\n",
       "       'Unnamed: 0', 'TOD', 'CENSUS_TRACT', 'TOTAL_POP', 'TOTAL_MALE',\n",
       "       'TOTAL_FEMALE', 'AGE_5U', 'AGE_5_9', 'AGE_10_14', 'AGE_15_19',\n",
       "       'AGE_20_24', 'AGE_25_34', 'AGE_35_44', 'AGE_45_54', 'AGE_55_59',\n",
       "       'AGE_60_64', 'AGE_65_74', 'AGE_75_84', 'AGE_85P', 'MEDIAN_AGE',\n",
       "       'TOTAL_HHLDS', 'AVG_HHLD_SIZE', 'AVG_FAMILY_SIZE', 'TOTAL_POP_18_24',\n",
       "       'TOTAL_POP_18_24_NO_HIGH_SCHOOL', 'TOTAL_POP_18_24_HIGH_SCHOOL',\n",
       "       'TOTAL_POP_18_24_SOME_COLLEGE', 'TOTAL_POP_18_24_SOME_BACHELORS_HIGHER',\n",
       "       'TOTAL_POP_25P', 'TOTAL_POP_25P_LESS_THAN_9TH',\n",
       "       'TOTAL_POP_25P_9TH_TO_12TH', 'TOTAL_POP_25P_HIGH_SCHOOL',\n",
       "       'TOTAL_POP_25P_SOME_COLLEGE', 'TOTAL_POP_25P_ASSOCIATES',\n",
       "       'TOTAL_POP_25P_BACHELORS', 'TOTAL_POP_25P_GRADUATE',\n",
       "       'TOTAL_POP_25P_HIGH_SCHOOL_HIGHER', 'TOTAL_POP_25P_BACHELORS_HIGHER',\n",
       "       'TOTAL_HHLDS_LESS_10K', 'TOTAL_HHLDS_10K_15K', 'TOTAL_HHLDS_15K_25K',\n",
       "       'TOTAL_HHLDS_25K_35K', 'TOTAL_HHLDS_35K_50K', 'TOTAL_HHLDS_50K_75K',\n",
       "       'TOTAL_HHLDS_75K_100K', 'TOTAL_HHLDS_100K_150K',\n",
       "       'TOTAL_HHLDS_150K_200K', 'TOTAL_HHLDS_200KP', 'HHLDS_MEDIAN_INCOME',\n",
       "       'HHLDS_MEAN_INCOME', 'HHLDS_0_VEH', 'HHLDS_1_VEH', 'HHLDS_2_VEH',\n",
       "       'HHLDS_3P_VEH', 'AVG_VEH_PER_HHLD'],\n",
       "      dtype='object')"
      ]
     },
     "execution_count": 17,
     "metadata": {},
     "output_type": "execute_result"
    }
   ],
   "source": [
    "rh.columns"
   ]
  },
  {
   "cell_type": "code",
   "execution_count": 18,
   "id": "liked-duration",
   "metadata": {},
   "outputs": [],
   "source": [
    "# Compute the correlation matrix\n",
    "non_sup_corr = rh[['TRIPS_UNSUPPRESSED','AVG_HHLD_SIZE','MEDIAN_AGE','AVG_VEH_PER_HHLD','HHLDS_MEAN_INCOME']].corr()\n",
    "\n",
    "# Generate a mask for the upper triangle\n",
    "mask = np.triu(np.ones_like(non_sup_corr, dtype=bool))"
   ]
  },
  {
   "cell_type": "code",
   "execution_count": 19,
   "id": "broke-chile",
   "metadata": {},
   "outputs": [
    {
     "data": {
      "text/plain": [
       "<AxesSubplot:>"
      ]
     },
     "execution_count": 19,
     "metadata": {},
     "output_type": "execute_result"
    },
    {
     "data": {
      "image/png": "[encoded data removed]",
      "text/plain": [
       "<Figure size 792x648 with 2 Axes>"
      ]
     },
     "metadata": {
      "needs_background": "light"
     },
     "output_type": "display_data"
    }
   ],
   "source": [
    "# Set up the matplotlib figure\n",
    "f, ax = plt.subplots(figsize=(11, 9))\n",
    "\n",
    "# Generate a custom diverging colormap\n",
    "cmap = sns.diverging_palette(230, 20, as_cmap=True)\n",
    "\n",
    "# Draw the heatmap with the mask and correct aspect ratio\n",
    "sns.heatmap(non_sup_corr, mask=mask, cmap=cmap, vmax=.3, center=0,\n",
    "            square=True, linewidths=.5, cbar_kws={\"shrink\": .5})"
   ]
  },
  {
   "cell_type": "code",
   "execution_count": 20,
   "id": "respiratory-market",
   "metadata": {},
   "outputs": [],
   "source": [
    "# Compute the correlation matrix\n",
    "non_sup_corr = rh[['TRIPS_SUPPRESSED','AVG_HHLD_SIZE','MEDIAN_AGE','AVG_VEH_PER_HHLD','HHLDS_MEAN_INCOME']].corr()\n",
    "\n",
    "# Generate a mask for the upper triangle\n",
    "mask = np.triu(np.ones_like(non_sup_corr, dtype=bool))"
   ]
  },
  {
   "cell_type": "code",
   "execution_count": 21,
   "id": "bright-arrest",
   "metadata": {},
   "outputs": [
    {
     "data": {
      "text/plain": [
       "<AxesSubplot:>"
      ]
     },
     "execution_count": 21,
     "metadata": {},
     "output_type": "execute_result"
    },
    {
     "data": {
      "image/png": "[encoded data removed]",
      "text/plain": [
       "<Figure size 792x648 with 2 Axes>"
      ]
     },
     "metadata": {
      "needs_background": "light"
     },
     "output_type": "display_data"
    }
   ],
   "source": [
    "# Set up the matplotlib figure\n",
    "f, ax = plt.subplots(figsize=(11, 9))\n",
    "\n",
    "# Generate a custom diverging colormap\n",
    "cmap = sns.diverging_palette(230, 20, as_cmap=True)\n",
    "\n",
    "# Draw the heatmap with the mask and correct aspect ratio\n",
    "sns.heatmap(non_sup_corr, mask=mask, cmap=cmap, vmax=.3, center=0,\n",
    "            square=True, linewidths=.5, cbar_kws={\"shrink\": .5})"
   ]
  },
  {
   "cell_type": "code",
   "execution_count": 25,
   "id": "imposed-luther",
   "metadata": {},
   "outputs": [],
   "source": [
    "rh['TRIPS_SUPPRESSED_SHARE'] = rh['TRIPS_SUPPRESSED']/(rh['TRIPS_UNSUPPRESSED']+rh['TRIPS_SUPPRESSED'])"
   ]
  },
  {
   "cell_type": "code",
   "execution_count": 26,
   "id": "architectural-width",
   "metadata": {},
   "outputs": [],
   "source": [
    "# Compute the correlation matrix\n",
    "non_sup_corr = rh[['TRIPS_SUPPRESSED_SHARE','AVG_HHLD_SIZE','MEDIAN_AGE','AVG_VEH_PER_HHLD','HHLDS_MEAN_INCOME']].corr()\n",
    "\n",
    "# Generate a mask for the upper triangle\n",
    "mask = np.triu(np.ones_like(non_sup_corr, dtype=bool))"
   ]
  },
  {
   "cell_type": "code",
   "execution_count": 27,
   "id": "generous-forest",
   "metadata": {},
   "outputs": [
    {
     "data": {
      "text/plain": [
       "<AxesSubplot:>"
      ]
     },
     "execution_count": 27,
     "metadata": {},
     "output_type": "execute_result"
    },
    {
     "data": {
      "image/png": "[encoded data removed]",
      "text/plain": [
       "<Figure size 792x648 with 2 Axes>"
      ]
     },
     "metadata": {
      "needs_background": "light"
     },
     "output_type": "display_data"
    }
   ],
   "source": [
    "# Set up the matplotlib figure\n",
    "f, ax = plt.subplots(figsize=(11, 9))\n",
    "\n",
    "# Generate a custom diverging colormap\n",
    "cmap = sns.diverging_palette(230, 20, as_cmap=True)\n",
    "\n",
    "# Draw the heatmap with the mask and correct aspect ratio\n",
    "sns.heatmap(non_sup_corr, mask=mask, cmap=cmap, vmax=.3, center=0,\n",
    "            square=True, linewidths=.5, cbar_kws={\"shrink\": .5})"
   ]
  },
  {
   "cell_type": "code",
   "execution_count": null,
   "id": "fuzzy-suspension",
   "metadata": {},
   "outputs": [],
   "source": []
  }
 ],
 "metadata": {
  "kernelspec": {
   "display_name": "Python 3",
   "language": "python",
   "name": "python3"
  },
  "language_info": {
   "codemirror_mode": {
    "name": "ipython",
    "version": 3
   },
   "file_extension": ".py",
   "mimetype": "text/x-python",
   "name": "python",
   "nbconvert_exporter": "python",
   "pygments_lexer": "ipython3",
   "version": "3.6.12"
  }
 },
 "nbformat": 4,
 "nbformat_minor": 5
}
