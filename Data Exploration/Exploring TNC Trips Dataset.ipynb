{
 "cells": [
  {
   "cell_type": "code",
   "execution_count": 1,
   "metadata": {},
   "outputs": [],
   "source": [
    "import pandas as pd\n",
    "import geopandas as gp\n",
    "import numpy as np"
   ]
  },
  {
   "cell_type": "markdown",
   "metadata": {},
   "source": [
    "# Iterate through the tod tables to create plots of trips"
   ]
  },
  {
   "cell_type": "code",
   "execution_count": 2,
   "metadata": {},
   "outputs": [],
   "source": [
    "#filter out the trips with a trip end outisde of cook county \n",
    "\n",
    "\n",
    "#filter out the trips with a trip end outside of Chicago city limits\n",
    "\n",
    "#filter out the trips that are suppressed to having a community area as their origin/destination because there are\n",
    "## less than 3 trips between an OD pair during a 15 minute windown"
   ]
  },
  {
   "cell_type": "code",
   "execution_count": 2,
   "metadata": {},
   "outputs": [],
   "source": [
    "tods = [1,2,3,4,5]"
   ]
  },
  {
   "cell_type": "code",
   "execution_count": null,
   "metadata": {},
   "outputs": [],
   "source": []
  },
  {
   "cell_type": "code",
   "execution_count": 3,
   "metadata": {},
   "outputs": [],
   "source": [
    "dows = ['Weekday', 'Weekend']"
   ]
  },
  {
   "cell_type": "code",
   "execution_count": 4,
   "metadata": {},
   "outputs": [],
   "source": [
    "df_all = pd.DataFrame()"
   ]
  },
  {
   "cell_type": "code",
   "execution_count": 5,
   "metadata": {},
   "outputs": [],
   "source": [
    "#df = pd.read_hdf('C:/Workspace/TNC-Demand-Model/Inputs/Chicago_TNC_Trips_20.H5', 'Weekday_1')\n",
    "#df.head()\n",
    "#len(df)"
   ]
  },
  {
   "cell_type": "code",
   "execution_count": 6,
   "metadata": {},
   "outputs": [],
   "source": [
    "#df = pd.read_hdf('C:/Workspace/TNC-Demand-Model/Inputs/Chicago_TNC_Trips_20.H5', 'Weekend_1')\n",
    "#df.head()\n",
    "#len(df)"
   ]
  },
  {
   "cell_type": "code",
   "execution_count": null,
   "metadata": {},
   "outputs": [],
   "source": []
  },
  {
   "cell_type": "code",
   "execution_count": null,
   "metadata": {},
   "outputs": [],
   "source": []
  },
  {
   "cell_type": "code",
   "execution_count": null,
   "metadata": {},
   "outputs": [],
   "source": []
  },
  {
   "cell_type": "code",
   "execution_count": null,
   "metadata": {},
   "outputs": [],
   "source": []
  },
  {
   "cell_type": "code",
   "execution_count": null,
   "metadata": {},
   "outputs": [],
   "source": []
  },
  {
   "cell_type": "code",
   "execution_count": 7,
   "metadata": {
    "scrolled": true
   },
   "outputs": [
    {
     "name": "stdout",
     "output_type": "stream",
     "text": [
      "Working on dow Weekday\n",
      "Working on tod 1\n",
      "Reading in the data!\n",
      "Processing the data!\n",
      "Making plots of the data!\n",
      "Working on tod 2\n",
      "Reading in the data!\n",
      "Processing the data!\n",
      "Making plots of the data!\n",
      "Working on tod 3\n",
      "Reading in the data!\n",
      "Processing the data!\n",
      "Making plots of the data!\n",
      "Working on tod 4\n",
      "Reading in the data!\n",
      "Processing the data!\n",
      "Making plots of the data!\n",
      "Working on tod 5\n",
      "Reading in the data!\n",
      "Processing the data!\n",
      "Making plots of the data!\n",
      "Making plots of aggregated data\n",
      "Working on dow Weekend\n",
      "Working on tod 1\n",
      "Reading in the data!\n",
      "Processing the data!\n",
      "Making plots of the data!\n",
      "Working on tod 2\n",
      "Reading in the data!\n",
      "Processing the data!\n",
      "Making plots of the data!\n",
      "Working on tod 3\n",
      "Reading in the data!\n",
      "Processing the data!\n",
      "Making plots of the data!\n",
      "Working on tod 4\n",
      "Reading in the data!\n",
      "Processing the data!\n",
      "Making plots of the data!\n",
      "Working on tod 5\n",
      "Reading in the data!\n",
      "Processing the data!\n",
      "Making plots of the data!\n",
      "Making plots of aggregated data\n",
      "Complete\n"
     ]
    },
    {
     "data": {
      "text/plain": [
       "<Figure size 432x288 with 0 Axes>"
      ]
     },
     "metadata": {},
     "output_type": "display_data"
    }
   ],
   "source": [
    "for dow in dows:\n",
    "    print('Working on dow ' + dow)\n",
    "    df_all = pd.DataFrame()\n",
    "    \n",
    "    for tod in tods:\n",
    "        print(\"Working on tod \" + str(tod))\n",
    "\n",
    "        print('Reading in the data!')\n",
    "        df = pd.read_hdf('D:/TNC-Demand-Model/Inputs/Chicago Ride-Hailing/Chicago_TNC_Trips_20.H5', key = dow + '_' + str(tod))\n",
    "        \n",
    "        print('Processing the data!')\n",
    "        df = df[~((np.isnan(df['Dropoff Community Area']))|(np.isnan(df['Pickup Community Area'])))]\n",
    "        #df = df[df['Trip Seconds']>0]\n",
    "        #df['SPEED'] = df['Trip Miles']/(df['Trip Seconds']/3600)\n",
    "        #df = df[(df['SPEED'] > 5)&(df['SPEED'] < 70)]\n",
    "        \n",
    "        df['TRIPS'] = 1\n",
    "        df['SHARED_TRIPS'] = np.where(df['Shared Trip Authorized'] == True, 1, 0)\n",
    "        df['PRIVATE_TRIPS'] = np.where(df['Shared Trip Authorized'] == False, 1, 0)\n",
    "        df['SHARED_FARE'] = np.where(df['Shared Trip Authorized'] == True, df['Fare'], np.nan)\n",
    "        df['PRIVATE_FARE'] = np.where(df['Shared Trip Authorized'] == False, df['Fare'], np.nan)\n",
    "\n",
    "        df['DAY'] = df['Trip Start Timestamp'].dt.day\n",
    "        \n",
    "        agg = {'YEAR':'first','MONTH':'first','Fare':'mean','PRIVATE_FARE':'mean','SHARED_FARE':'mean','Trip Total':'sum','Trip Miles':'sum','Trips Pooled':'sum','PRIVATE_TRIPS':'sum','SHARED_TRIPS':'sum','TRIPS':'sum'}\n",
    "        \n",
    "        df = df.groupby(by = ['YEAR','MONTH','DAY'],as_index = False).agg(agg)\n",
    "        #df = df.groupby(by = ['YEAR','MONTH','Pickup Census Tract','Dropoff Census Tract'], as_index = False).mean()\n",
    "        df2 = df.groupby(by = ['YEAR','MONTH']).mean()\n",
    "\n",
    "        df_all = df.append(df_all)\n",
    "\n",
    "\n",
    "        print('Making plots of the data!')\n",
    "        \n",
    "        plot = df2['TRIPS'].plot()\n",
    "        fig = plot.get_figure()\n",
    "        fig.autofmt_xdate()\n",
    "        fig.savefig('D:/TNC-Demand-Model/Data Exploration/' + dow + '/Trip Total Plots/TRIPS_' + str(tod) + '.pdf')\n",
    "        fig.clear()\n",
    "\n",
    "        plot = df2['SHARED_TRIPS'].plot()\n",
    "        fig = plot.get_figure()\n",
    "        fig.autofmt_xdate()\n",
    "        fig.savefig('D:/TNC-Demand-Model/Data Exploration/' + dow + '/Trip Total Plots/SHARED_TRIPS_' + str(tod) + '.pdf')\n",
    "        fig.clear()\n",
    "\n",
    "        plot = df2['PRIVATE_TRIPS'].plot()\n",
    "        fig = plot.get_figure()\n",
    "        fig.autofmt_xdate()\n",
    "        fig.savefig('D:/TNC-Demand-Model/Data Exploration/' + dow + '/Trip Total Plots/PRIVATE_TRIPS_' + str(tod) + '.pdf')\n",
    "        fig.clear()\n",
    "\n",
    "        plot = df2['Fare'].plot()\n",
    "        fig = plot.get_figure()\n",
    "        fig.autofmt_xdate()\n",
    "        fig.savefig('D:/TNC-Demand-Model/Data Exploration/' + dow + '/Fare Plots/Fare_' + str(tod) + '.pdf')\n",
    "        fig.clear()\n",
    "\n",
    "        plot = df2['SHARED_FARE'].plot()\n",
    "        fig = plot.get_figure()\n",
    "        fig.autofmt_xdate()\n",
    "        fig.savefig('D:/TNC-Demand-Model/Data Exploration/' + dow + '/Fare Plots/SHARED_FARE_' + str(tod) + '.pdf')\n",
    "        fig.clear()\n",
    "\n",
    "        plot = df2['PRIVATE_FARE'].plot()\n",
    "        fig = plot.get_figure()\n",
    "        fig.autofmt_xdate()\n",
    "        fig.savefig('D:/TNC-Demand-Model/Data Exploration/' + dow + '/Fare Plots/PRIVATE_FARE_' + str(tod) + '.pdf')\n",
    "        fig.clear()\n",
    "        \n",
    "\n",
    "    agg = {'Fare':'mean','PRIVATE_FARE':'mean','SHARED_FARE':'mean','Trip Total':'sum','Trip Miles':'sum','Trips Pooled':'sum','PRIVATE_TRIPS':'sum','SHARED_TRIPS':'sum','TRIPS':'sum'}\n",
    "\n",
    "    df_all = df_all.groupby(by = ['YEAR','MONTH','DAY'],as_index = False).agg(agg)\n",
    "    df_all = df_all.groupby(by = ['YEAR','MONTH']).mean()\n",
    "\n",
    "    print('Making plots of aggregated data')\n",
    "\n",
    "    plot = df_all['TRIPS'].plot()\n",
    "    fig = plot.get_figure()\n",
    "    fig.autofmt_xdate()\n",
    "    fig.savefig('D:/TNC-Demand-Model/Data Exploration/' + dow + '/Trip Total Plots/TRIPS_ALL_DAY.pdf')\n",
    "    fig.clear()\n",
    "\n",
    "    plot = df_all['SHARED_TRIPS'].plot()\n",
    "    fig = plot.get_figure()\n",
    "    fig.autofmt_xdate()\n",
    "    fig.savefig('D:/TNC-Demand-Model/Data Exploration/' + dow + '/Trip Total Plots/SHARED_TRIPS_ALL_DAY.pdf')\n",
    "    fig.clear()\n",
    "\n",
    "    plot = df_all['PRIVATE_TRIPS'].plot()\n",
    "    fig = plot.get_figure()\n",
    "    fig.autofmt_xdate()\n",
    "    fig.savefig('D:/TNC-Demand-Model/Data Exploration/' + dow + '/Trip Total Plots/PRIVATE_TRIPS_ALL_DAY.pdf')\n",
    "    fig.clear()\n",
    "\n",
    "    plot = df_all['Fare'].plot()\n",
    "    fig = plot.get_figure()\n",
    "    fig.autofmt_xdate()\n",
    "    fig.savefig('D:/TNC-Demand-Model/Data Exploration/' + dow + '/Fare Plots/Fare_ALL_DAY_20.pdf')\n",
    "    fig.clear()\n",
    "\n",
    "    plot = df_all['SHARED_FARE'].plot()\n",
    "    fig = plot.get_figure()\n",
    "    fig.autofmt_xdate()\n",
    "    fig.savefig('D:/TNC-Demand-Model/Data Exploration/' + dow + '/Fare Plots/SHARED_FARE_ALL_DAY_20.pdf')\n",
    "    fig.clear()\n",
    "\n",
    "    plot = df_all['PRIVATE_FARE'].plot()\n",
    "    fig = plot.get_figure()\n",
    "    fig.autofmt_xdate()\n",
    "    fig.savefig('D:/TNC-Demand-Model/Data Exploration/' + dow + '/Fare Plots/PRIVATE_FARE_ALL_DAY_20.pdf')\n",
    "    fig.clear()\n",
    "\n",
    "print('Complete')"
   ]
  },
  {
   "cell_type": "code",
   "execution_count": null,
   "metadata": {},
   "outputs": [],
   "source": []
  },
  {
   "cell_type": "code",
   "execution_count": 8,
   "metadata": {},
   "outputs": [
    {
     "data": {
      "image/png": "[encoded data removed]",
      "text/plain": [
       "<Figure size 432x288 with 1 Axes>"
      ]
     },
     "metadata": {
      "needs_background": "light"
     },
     "output_type": "display_data"
    }
   ],
   "source": [
    "plot = df_all['TRIPS'].plot()\n",
    "fig = plot.get_figure()\n",
    "fig.autofmt_xdate()"
   ]
  },
  {
   "cell_type": "markdown",
   "metadata": {},
   "source": [
    "# Calculating how many trips are \"external\"\n",
    "\n",
    "### The Chicago ridehailing dataset includes trips with only one trip end within Chicago city limits\n",
    "### Need to determine whether I will include the external trips in the analysis or not "
   ]
  },
  {
   "cell_type": "code",
   "execution_count": 11,
   "metadata": {},
   "outputs": [],
   "source": [
    "chi = gp.read_file('C:/Workspace/TNC-Demand-Model/Inputs/Census Shapefiles/Chicago Tracts/geo_export_558aad9f-98d8-4dd5-a6b1-c1730155d596.shp')"
   ]
  },
  {
   "cell_type": "code",
   "execution_count": 12,
   "metadata": {},
   "outputs": [
    {
     "data": {
      "text/html": [
       "<div>\n",
       "<style scoped>\n",
       "    .dataframe tbody tr th:only-of-type {\n",
       "        vertical-align: middle;\n",
       "    }\n",
       "\n",
       "    .dataframe tbody tr th {\n",
       "        vertical-align: top;\n",
       "    }\n",
       "\n",
       "    .dataframe thead th {\n",
       "        text-align: right;\n",
       "    }\n",
       "</style>\n",
       "<table border=\"1\" class=\"dataframe\">\n",
       "  <thead>\n",
       "    <tr style=\"text-align: right;\">\n",
       "      <th></th>\n",
       "      <th>commarea</th>\n",
       "      <th>commarea_n</th>\n",
       "      <th>countyfp10</th>\n",
       "      <th>geoid10</th>\n",
       "      <th>name10</th>\n",
       "      <th>namelsad10</th>\n",
       "      <th>notes</th>\n",
       "      <th>statefp10</th>\n",
       "      <th>tractce10</th>\n",
       "      <th>geometry</th>\n",
       "    </tr>\n",
       "  </thead>\n",
       "  <tbody>\n",
       "    <tr>\n",
       "      <th>0</th>\n",
       "      <td>44</td>\n",
       "      <td>44.0</td>\n",
       "      <td>031</td>\n",
       "      <td>17031842400</td>\n",
       "      <td>8424</td>\n",
       "      <td>Census Tract 8424</td>\n",
       "      <td>None</td>\n",
       "      <td>17</td>\n",
       "      <td>842400</td>\n",
       "      <td>POLYGON ((-87.62405 41.73022, -87.62405 41.730...</td>\n",
       "    </tr>\n",
       "    <tr>\n",
       "      <th>1</th>\n",
       "      <td>59</td>\n",
       "      <td>59.0</td>\n",
       "      <td>031</td>\n",
       "      <td>17031840300</td>\n",
       "      <td>8403</td>\n",
       "      <td>Census Tract 8403</td>\n",
       "      <td>None</td>\n",
       "      <td>17</td>\n",
       "      <td>840300</td>\n",
       "      <td>POLYGON ((-87.68608 41.82296, -87.68607 41.823...</td>\n",
       "    </tr>\n",
       "    <tr>\n",
       "      <th>2</th>\n",
       "      <td>34</td>\n",
       "      <td>34.0</td>\n",
       "      <td>031</td>\n",
       "      <td>17031841100</td>\n",
       "      <td>8411</td>\n",
       "      <td>Census Tract 8411</td>\n",
       "      <td>None</td>\n",
       "      <td>17</td>\n",
       "      <td>841100</td>\n",
       "      <td>POLYGON ((-87.62935 41.85280, -87.62934 41.852...</td>\n",
       "    </tr>\n",
       "    <tr>\n",
       "      <th>3</th>\n",
       "      <td>31</td>\n",
       "      <td>31.0</td>\n",
       "      <td>031</td>\n",
       "      <td>17031841200</td>\n",
       "      <td>8412</td>\n",
       "      <td>Census Tract 8412</td>\n",
       "      <td>None</td>\n",
       "      <td>17</td>\n",
       "      <td>841200</td>\n",
       "      <td>POLYGON ((-87.68813 41.85569, -87.68816 41.856...</td>\n",
       "    </tr>\n",
       "    <tr>\n",
       "      <th>4</th>\n",
       "      <td>32</td>\n",
       "      <td>32.0</td>\n",
       "      <td>031</td>\n",
       "      <td>17031839000</td>\n",
       "      <td>8390</td>\n",
       "      <td>Census Tract 8390</td>\n",
       "      <td>None</td>\n",
       "      <td>17</td>\n",
       "      <td>839000</td>\n",
       "      <td>POLYGON ((-87.63312 41.87449, -87.63306 41.874...</td>\n",
       "    </tr>\n",
       "  </tbody>\n",
       "</table>\n",
       "</div>"
      ],
      "text/plain": [
       "  commarea  commarea_n countyfp10      geoid10 name10         namelsad10  \\\n",
       "0       44        44.0        031  17031842400   8424  Census Tract 8424   \n",
       "1       59        59.0        031  17031840300   8403  Census Tract 8403   \n",
       "2       34        34.0        031  17031841100   8411  Census Tract 8411   \n",
       "3       31        31.0        031  17031841200   8412  Census Tract 8412   \n",
       "4       32        32.0        031  17031839000   8390  Census Tract 8390   \n",
       "\n",
       "  notes statefp10 tractce10                                           geometry  \n",
       "0  None        17    842400  POLYGON ((-87.62405 41.73022, -87.62405 41.730...  \n",
       "1  None        17    840300  POLYGON ((-87.68608 41.82296, -87.68607 41.823...  \n",
       "2  None        17    841100  POLYGON ((-87.62935 41.85280, -87.62934 41.852...  \n",
       "3  None        17    841200  POLYGON ((-87.68813 41.85569, -87.68816 41.856...  \n",
       "4  None        17    839000  POLYGON ((-87.63312 41.87449, -87.63306 41.874...  "
      ]
     },
     "execution_count": 12,
     "metadata": {},
     "output_type": "execute_result"
    }
   ],
   "source": [
    "chi.head()"
   ]
  },
  {
   "cell_type": "code",
   "execution_count": 13,
   "metadata": {},
   "outputs": [],
   "source": [
    "rh = pd.read_csv('C:/Workspace/TNC-Demand-Model/Outputs/2019_Weekday_Ridehail.csv')"
   ]
  },
  {
   "cell_type": "code",
   "execution_count": 14,
   "metadata": {},
   "outputs": [],
   "source": [
    "rh_external_origin = rh[~rh['Pickup Census Tract'].isin(chi['geoid10'])]"
   ]
  },
  {
   "cell_type": "code",
   "execution_count": 15,
   "metadata": {},
   "outputs": [
    {
     "data": {
      "text/html": [
       "<div>\n",
       "<style scoped>\n",
       "    .dataframe tbody tr th:only-of-type {\n",
       "        vertical-align: middle;\n",
       "    }\n",
       "\n",
       "    .dataframe tbody tr th {\n",
       "        vertical-align: top;\n",
       "    }\n",
       "\n",
       "    .dataframe thead th {\n",
       "        text-align: right;\n",
       "    }\n",
       "</style>\n",
       "<table border=\"1\" class=\"dataframe\">\n",
       "  <thead>\n",
       "    <tr style=\"text-align: right;\">\n",
       "      <th></th>\n",
       "      <th>Unnamed: 0</th>\n",
       "      <th>Pickup Census Tract</th>\n",
       "      <th>Dropoff Census Tract</th>\n",
       "      <th>MONTH</th>\n",
       "      <th>DAY</th>\n",
       "      <th>Trip Seconds</th>\n",
       "      <th>Trip Miles</th>\n",
       "      <th>Fare</th>\n",
       "      <th>Tip</th>\n",
       "      <th>Additional Charges</th>\n",
       "      <th>Trip Total</th>\n",
       "      <th>PRIVATE_TRIPS</th>\n",
       "      <th>SHARED_TRIPS</th>\n",
       "      <th>Trips Pooled</th>\n",
       "      <th>TOD</th>\n",
       "      <th>GEOID_PICKUP</th>\n",
       "      <th>GEOID_DROPOFF</th>\n",
       "      <th>SCALED_SUP_PRIVATE_TRIPS</th>\n",
       "      <th>SCALED_SUP_SHARED_TRIPS</th>\n",
       "      <th>ALL_TRIPS</th>\n",
       "    </tr>\n",
       "  </thead>\n",
       "  <tbody>\n",
       "    <tr>\n",
       "      <th>101940</th>\n",
       "      <td>101940</td>\n",
       "      <td>1.703177e+10</td>\n",
       "      <td>1.703177e+10</td>\n",
       "      <td>1.527778</td>\n",
       "      <td>15.583333</td>\n",
       "      <td>910.477155</td>\n",
       "      <td>7.595876</td>\n",
       "      <td>11.776547</td>\n",
       "      <td>0.711027</td>\n",
       "      <td>2.730163</td>\n",
       "      <td>15.217738</td>\n",
       "      <td>NaN</td>\n",
       "      <td>NaN</td>\n",
       "      <td>11.222222</td>\n",
       "      <td>1</td>\n",
       "      <td>NaN</td>\n",
       "      <td>NaN</td>\n",
       "      <td>NaN</td>\n",
       "      <td>NaN</td>\n",
       "      <td>NaN</td>\n",
       "    </tr>\n",
       "    <tr>\n",
       "      <th>101941</th>\n",
       "      <td>101941</td>\n",
       "      <td>1.703177e+10</td>\n",
       "      <td>1.703180e+10</td>\n",
       "      <td>2.000000</td>\n",
       "      <td>28.000000</td>\n",
       "      <td>1215.000000</td>\n",
       "      <td>10.200000</td>\n",
       "      <td>12.500000</td>\n",
       "      <td>5.000000</td>\n",
       "      <td>0.000000</td>\n",
       "      <td>17.500000</td>\n",
       "      <td>NaN</td>\n",
       "      <td>NaN</td>\n",
       "      <td>1.000000</td>\n",
       "      <td>1</td>\n",
       "      <td>NaN</td>\n",
       "      <td>NaN</td>\n",
       "      <td>NaN</td>\n",
       "      <td>NaN</td>\n",
       "      <td>NaN</td>\n",
       "    </tr>\n",
       "    <tr>\n",
       "      <th>101942</th>\n",
       "      <td>101942</td>\n",
       "      <td>1.703177e+10</td>\n",
       "      <td>1.703180e+10</td>\n",
       "      <td>1.000000</td>\n",
       "      <td>10.000000</td>\n",
       "      <td>1362.000000</td>\n",
       "      <td>16.300000</td>\n",
       "      <td>22.500000</td>\n",
       "      <td>0.000000</td>\n",
       "      <td>8.700000</td>\n",
       "      <td>31.200000</td>\n",
       "      <td>NaN</td>\n",
       "      <td>NaN</td>\n",
       "      <td>1.000000</td>\n",
       "      <td>1</td>\n",
       "      <td>NaN</td>\n",
       "      <td>NaN</td>\n",
       "      <td>NaN</td>\n",
       "      <td>NaN</td>\n",
       "      <td>NaN</td>\n",
       "    </tr>\n",
       "    <tr>\n",
       "      <th>101943</th>\n",
       "      <td>101943</td>\n",
       "      <td>1.703177e+10</td>\n",
       "      <td>1.703181e+10</td>\n",
       "      <td>2.000000</td>\n",
       "      <td>15.000000</td>\n",
       "      <td>2370.000000</td>\n",
       "      <td>16.700000</td>\n",
       "      <td>22.500000</td>\n",
       "      <td>0.000000</td>\n",
       "      <td>3.890000</td>\n",
       "      <td>26.390000</td>\n",
       "      <td>NaN</td>\n",
       "      <td>NaN</td>\n",
       "      <td>1.000000</td>\n",
       "      <td>1</td>\n",
       "      <td>NaN</td>\n",
       "      <td>NaN</td>\n",
       "      <td>NaN</td>\n",
       "      <td>NaN</td>\n",
       "      <td>NaN</td>\n",
       "    </tr>\n",
       "    <tr>\n",
       "      <th>148517</th>\n",
       "      <td>148517</td>\n",
       "      <td>1.703177e+10</td>\n",
       "      <td>1.703177e+10</td>\n",
       "      <td>2.000000</td>\n",
       "      <td>20.000000</td>\n",
       "      <td>640.500000</td>\n",
       "      <td>2.850000</td>\n",
       "      <td>10.000000</td>\n",
       "      <td>1.000000</td>\n",
       "      <td>2.700000</td>\n",
       "      <td>13.700000</td>\n",
       "      <td>NaN</td>\n",
       "      <td>NaN</td>\n",
       "      <td>1.000000</td>\n",
       "      <td>2</td>\n",
       "      <td>NaN</td>\n",
       "      <td>NaN</td>\n",
       "      <td>NaN</td>\n",
       "      <td>NaN</td>\n",
       "      <td>NaN</td>\n",
       "    </tr>\n",
       "  </tbody>\n",
       "</table>\n",
       "</div>"
      ],
      "text/plain": [
       "        Unnamed: 0  Pickup Census Tract  Dropoff Census Tract     MONTH  \\\n",
       "101940      101940         1.703177e+10          1.703177e+10  1.527778   \n",
       "101941      101941         1.703177e+10          1.703180e+10  2.000000   \n",
       "101942      101942         1.703177e+10          1.703180e+10  1.000000   \n",
       "101943      101943         1.703177e+10          1.703181e+10  2.000000   \n",
       "148517      148517         1.703177e+10          1.703177e+10  2.000000   \n",
       "\n",
       "              DAY  Trip Seconds  Trip Miles       Fare       Tip  \\\n",
       "101940  15.583333    910.477155    7.595876  11.776547  0.711027   \n",
       "101941  28.000000   1215.000000   10.200000  12.500000  5.000000   \n",
       "101942  10.000000   1362.000000   16.300000  22.500000  0.000000   \n",
       "101943  15.000000   2370.000000   16.700000  22.500000  0.000000   \n",
       "148517  20.000000    640.500000    2.850000  10.000000  1.000000   \n",
       "\n",
       "        Additional Charges  Trip Total  PRIVATE_TRIPS  SHARED_TRIPS  \\\n",
       "101940            2.730163   15.217738            NaN           NaN   \n",
       "101941            0.000000   17.500000            NaN           NaN   \n",
       "101942            8.700000   31.200000            NaN           NaN   \n",
       "101943            3.890000   26.390000            NaN           NaN   \n",
       "148517            2.700000   13.700000            NaN           NaN   \n",
       "\n",
       "        Trips Pooled  TOD  GEOID_PICKUP  GEOID_DROPOFF  \\\n",
       "101940     11.222222    1           NaN            NaN   \n",
       "101941      1.000000    1           NaN            NaN   \n",
       "101942      1.000000    1           NaN            NaN   \n",
       "101943      1.000000    1           NaN            NaN   \n",
       "148517      1.000000    2           NaN            NaN   \n",
       "\n",
       "        SCALED_SUP_PRIVATE_TRIPS  SCALED_SUP_SHARED_TRIPS  ALL_TRIPS  \n",
       "101940                       NaN                      NaN        NaN  \n",
       "101941                       NaN                      NaN        NaN  \n",
       "101942                       NaN                      NaN        NaN  \n",
       "101943                       NaN                      NaN        NaN  \n",
       "148517                       NaN                      NaN        NaN  "
      ]
     },
     "execution_count": 15,
     "metadata": {},
     "output_type": "execute_result"
    }
   ],
   "source": [
    "rh_external_origin_destination = rh_external_origin[~rh_external_origin['Dropoff Census Tract'].isin(chi['geoid10'])]\n",
    "rh_external_origin_destination.head()"
   ]
  },
  {
   "cell_type": "code",
   "execution_count": 16,
   "metadata": {},
   "outputs": [],
   "source": [
    "rh_external_origin_destination.to_csv('Trips to and from outside of Chicago.csv')"
   ]
  },
  {
   "cell_type": "code",
   "execution_count": 29,
   "metadata": {},
   "outputs": [],
   "source": [
    "rh_external_origin = rh[~rh['Pickup Census Tract'].isin(chi['geoid10'])]"
   ]
  },
  {
   "cell_type": "code",
   "execution_count": 30,
   "metadata": {},
   "outputs": [],
   "source": [
    "rh_external_dest = rh[~rh['Dropoff Census Tract'].isin(chi['geoid10'])]"
   ]
  },
  {
   "cell_type": "code",
   "execution_count": 36,
   "metadata": {},
   "outputs": [
    {
     "data": {
      "text/html": [
       "<div>\n",
       "<style scoped>\n",
       "    .dataframe tbody tr th:only-of-type {\n",
       "        vertical-align: middle;\n",
       "    }\n",
       "\n",
       "    .dataframe tbody tr th {\n",
       "        vertical-align: top;\n",
       "    }\n",
       "\n",
       "    .dataframe thead th {\n",
       "        text-align: right;\n",
       "    }\n",
       "</style>\n",
       "<table border=\"1\" class=\"dataframe\">\n",
       "  <thead>\n",
       "    <tr style=\"text-align: right;\">\n",
       "      <th></th>\n",
       "      <th>Unnamed: 0</th>\n",
       "      <th>Pickup Census Tract</th>\n",
       "      <th>Dropoff Census Tract</th>\n",
       "      <th>MONTH</th>\n",
       "      <th>DAY</th>\n",
       "      <th>Trip Seconds</th>\n",
       "      <th>Trip Miles</th>\n",
       "      <th>Fare</th>\n",
       "      <th>Tip</th>\n",
       "      <th>Additional Charges</th>\n",
       "      <th>Trip Total</th>\n",
       "      <th>PRIVATE_TRIPS</th>\n",
       "      <th>SHARED_TRIPS</th>\n",
       "      <th>Trips Pooled</th>\n",
       "      <th>TOD</th>\n",
       "    </tr>\n",
       "  </thead>\n",
       "  <tbody>\n",
       "    <tr>\n",
       "      <th>0</th>\n",
       "      <td>0</td>\n",
       "      <td>1.703101e+10</td>\n",
       "      <td>1.703101e+10</td>\n",
       "      <td>1.545455</td>\n",
       "      <td>14.681818</td>\n",
       "      <td>357.088636</td>\n",
       "      <td>1.089394</td>\n",
       "      <td>4.126894</td>\n",
       "      <td>0.606061</td>\n",
       "      <td>2.351250</td>\n",
       "      <td>7.084205</td>\n",
       "      <td>1.272727</td>\n",
       "      <td>0.409091</td>\n",
       "      <td>1.772727</td>\n",
       "      <td>1</td>\n",
       "    </tr>\n",
       "    <tr>\n",
       "      <th>1</th>\n",
       "      <td>1</td>\n",
       "      <td>1.703101e+10</td>\n",
       "      <td>1.703101e+10</td>\n",
       "      <td>1.482759</td>\n",
       "      <td>15.310345</td>\n",
       "      <td>285.902299</td>\n",
       "      <td>1.069540</td>\n",
       "      <td>3.735632</td>\n",
       "      <td>0.068966</td>\n",
       "      <td>2.387069</td>\n",
       "      <td>6.191667</td>\n",
       "      <td>0.896552</td>\n",
       "      <td>0.655172</td>\n",
       "      <td>1.862069</td>\n",
       "      <td>1</td>\n",
       "    </tr>\n",
       "    <tr>\n",
       "      <th>2</th>\n",
       "      <td>2</td>\n",
       "      <td>1.703101e+10</td>\n",
       "      <td>1.703101e+10</td>\n",
       "      <td>1.384615</td>\n",
       "      <td>16.000000</td>\n",
       "      <td>230.307692</td>\n",
       "      <td>0.576923</td>\n",
       "      <td>2.884615</td>\n",
       "      <td>0.076923</td>\n",
       "      <td>2.153846</td>\n",
       "      <td>5.115385</td>\n",
       "      <td>0.461538</td>\n",
       "      <td>0.692308</td>\n",
       "      <td>1.307692</td>\n",
       "      <td>1</td>\n",
       "    </tr>\n",
       "    <tr>\n",
       "      <th>3</th>\n",
       "      <td>3</td>\n",
       "      <td>1.703101e+10</td>\n",
       "      <td>1.703101e+10</td>\n",
       "      <td>1.500000</td>\n",
       "      <td>14.333333</td>\n",
       "      <td>206.625000</td>\n",
       "      <td>0.700000</td>\n",
       "      <td>3.333333</td>\n",
       "      <td>0.250000</td>\n",
       "      <td>2.125000</td>\n",
       "      <td>5.708333</td>\n",
       "      <td>0.916667</td>\n",
       "      <td>0.333333</td>\n",
       "      <td>1.416667</td>\n",
       "      <td>1</td>\n",
       "    </tr>\n",
       "    <tr>\n",
       "      <th>4</th>\n",
       "      <td>4</td>\n",
       "      <td>1.703101e+10</td>\n",
       "      <td>1.703101e+10</td>\n",
       "      <td>1.588235</td>\n",
       "      <td>10.764706</td>\n",
       "      <td>365.431373</td>\n",
       "      <td>1.462745</td>\n",
       "      <td>4.950980</td>\n",
       "      <td>0.490196</td>\n",
       "      <td>1.647059</td>\n",
       "      <td>7.088235</td>\n",
       "      <td>0.529412</td>\n",
       "      <td>0.588235</td>\n",
       "      <td>1.294118</td>\n",
       "      <td>1</td>\n",
       "    </tr>\n",
       "  </tbody>\n",
       "</table>\n",
       "</div>"
      ],
      "text/plain": [
       "   Unnamed: 0  Pickup Census Tract  Dropoff Census Tract     MONTH        DAY  \\\n",
       "0           0         1.703101e+10          1.703101e+10  1.545455  14.681818   \n",
       "1           1         1.703101e+10          1.703101e+10  1.482759  15.310345   \n",
       "2           2         1.703101e+10          1.703101e+10  1.384615  16.000000   \n",
       "3           3         1.703101e+10          1.703101e+10  1.500000  14.333333   \n",
       "4           4         1.703101e+10          1.703101e+10  1.588235  10.764706   \n",
       "\n",
       "   Trip Seconds  Trip Miles      Fare       Tip  Additional Charges  \\\n",
       "0    357.088636    1.089394  4.126894  0.606061            2.351250   \n",
       "1    285.902299    1.069540  3.735632  0.068966            2.387069   \n",
       "2    230.307692    0.576923  2.884615  0.076923            2.153846   \n",
       "3    206.625000    0.700000  3.333333  0.250000            2.125000   \n",
       "4    365.431373    1.462745  4.950980  0.490196            1.647059   \n",
       "\n",
       "   Trip Total  PRIVATE_TRIPS  SHARED_TRIPS  Trips Pooled  TOD  \n",
       "0    7.084205       1.272727      0.409091      1.772727    1  \n",
       "1    6.191667       0.896552      0.655172      1.862069    1  \n",
       "2    5.115385       0.461538      0.692308      1.307692    1  \n",
       "3    5.708333       0.916667      0.333333      1.416667    1  \n",
       "4    7.088235       0.529412      0.588235      1.294118    1  "
      ]
     },
     "execution_count": 36,
     "metadata": {},
     "output_type": "execute_result"
    }
   ],
   "source": [
    "rh.head()"
   ]
  },
  {
   "cell_type": "code",
   "execution_count": 43,
   "metadata": {},
   "outputs": [
    {
     "data": {
      "text/plain": [
       "0.01561132958219678"
      ]
     },
     "execution_count": 43,
     "metadata": {},
     "output_type": "execute_result"
    }
   ],
   "source": [
    "(rh_external_origin.PRIVATE_TRIPS.sum() + rh_external_origin.SHARED_TRIPS.sum() + rh_external_dest.PRIVATE_TRIPS.sum() + rh_external_dest.SHARED_TRIPS.sum()) / (rh.PRIVATE_TRIPS.sum() + rh.SHARED_TRIPS.sum())"
   ]
  },
  {
   "cell_type": "markdown",
   "metadata": {},
   "source": [
    "## Roughly 1.5% of trips are \"external\" trips... a seeminly neglible amount of the trip totals\n",
    "\n",
    "### Intial reaction is to drop them out of the analysis and acknowledge it as a limitation of the study... need to remember this when applying the model in Mass. because the model will likely underestimate ridership."
   ]
  },
  {
   "cell_type": "code",
   "execution_count": 42,
   "metadata": {},
   "outputs": [
    {
     "data": {
      "text/plain": [
       "0.010758519559046274"
      ]
     },
     "execution_count": 42,
     "metadata": {},
     "output_type": "execute_result"
    }
   ],
   "source": [
    "rh_external_dest.PRIVATE_TRIPS.sum() / rh.PRIVATE_TRIPS.sum()"
   ]
  },
  {
   "cell_type": "code",
   "execution_count": 41,
   "metadata": {},
   "outputs": [
    {
     "data": {
      "text/plain": [
       "0.005582438012030641"
      ]
     },
     "execution_count": 41,
     "metadata": {},
     "output_type": "execute_result"
    }
   ],
   "source": [
    "rh_external_dest.SHARED_TRIPS.sum() / rh.SHARED_TRIPS.sum()"
   ]
  },
  {
   "cell_type": "code",
   "execution_count": null,
   "metadata": {},
   "outputs": [],
   "source": []
  },
  {
   "cell_type": "code",
   "execution_count": 37,
   "metadata": {},
   "outputs": [
    {
     "data": {
      "text/plain": [
       "0.008095744833106707"
      ]
     },
     "execution_count": 37,
     "metadata": {},
     "output_type": "execute_result"
    }
   ],
   "source": [
    "rh_external_origin.PRIVATE_TRIPS.sum() / rh.PRIVATE_TRIPS.sum()"
   ]
  },
  {
   "cell_type": "code",
   "execution_count": 38,
   "metadata": {},
   "outputs": [
    {
     "data": {
      "text/plain": [
       "0.004395607325270351"
      ]
     },
     "execution_count": 38,
     "metadata": {},
     "output_type": "execute_result"
    }
   ],
   "source": [
    "rh_external_origin.SHARED_TRIPS.sum() / rh.SHARED_TRIPS.sum()"
   ]
  },
  {
   "cell_type": "code",
   "execution_count": null,
   "metadata": {},
   "outputs": [],
   "source": []
  },
  {
   "cell_type": "code",
   "execution_count": 51,
   "metadata": {},
   "outputs": [
    {
     "data": {
      "text/plain": [
       "6128.023293617738"
      ]
     },
     "execution_count": 51,
     "metadata": {},
     "output_type": "execute_result"
    }
   ],
   "source": [
    "rh_external_origin.PRIVATE_TRIPS.sum() + rh_external_origin.SHARED_TRIPS.sum()"
   ]
  },
  {
   "cell_type": "code",
   "execution_count": 52,
   "metadata": {},
   "outputs": [
    {
     "data": {
      "text/plain": [
       "8057.632697163333"
      ]
     },
     "execution_count": 52,
     "metadata": {},
     "output_type": "execute_result"
    }
   ],
   "source": [
    "rh_external_dest.PRIVATE_TRIPS.sum() + rh_external_dest.SHARED_TRIPS.sum()"
   ]
  },
  {
   "cell_type": "code",
   "execution_count": null,
   "metadata": {},
   "outputs": [],
   "source": []
  }
 ],
 "metadata": {
  "kernelspec": {
   "display_name": "Python 3",
   "language": "python",
   "name": "python3"
  },
  "language_info": {
   "codemirror_mode": {
    "name": "ipython",
    "version": 3
   },
   "file_extension": ".py",
   "mimetype": "text/x-python",
   "name": "python",
   "nbconvert_exporter": "python",
   "pygments_lexer": "ipython3",
   "version": "3.6.12"
  }
 },
 "nbformat": 4,
 "nbformat_minor": 2
}
