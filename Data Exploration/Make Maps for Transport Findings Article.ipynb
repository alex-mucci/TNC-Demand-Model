{
 "cells": [
  {
   "cell_type": "code",
   "execution_count": 1,
   "id": "union-animal",
   "metadata": {},
   "outputs": [],
   "source": [
    "import pandas as pd\n",
    "import geopandas as gp\n",
    "import folium\n",
    "import numpy as np \n",
    "from sklearn.datasets import load_iris\n",
    "import seaborn as sns\n",
    "\n",
    "%matplotlib inline"
   ]
  },
  {
   "cell_type": "markdown",
   "id": "underlying-translation",
   "metadata": {},
   "source": [
    "# Pickups and Dropoffs within Community Areas"
   ]
  },
  {
   "cell_type": "code",
   "execution_count": 2,
   "id": "fantastic-lighting",
   "metadata": {},
   "outputs": [],
   "source": [
    "com_area = gp.read_file('D:/TNC-Demand-Model/Inputs/Chicago Community Areas/geo_export_d8da94d2-4ef1-4ee6-9fff-7bb20d451fe2.shp')"
   ]
  },
  {
   "cell_type": "code",
   "execution_count": 3,
   "id": "nonprofit-object",
   "metadata": {},
   "outputs": [],
   "source": [
    "com_area.area_num_1 = com_area.area_num_1.astype(float)"
   ]
  },
  {
   "cell_type": "code",
   "execution_count": 4,
   "id": "involved-queens",
   "metadata": {},
   "outputs": [],
   "source": [
    "com_area_conflate = pd.read_csv('D:/TNC-Demand-Model/Inputs/Chicago Community Areas/Community_Area_to_Census_Tract.csv')"
   ]
  },
  {
   "cell_type": "code",
   "execution_count": 62,
   "id": "champion-poker",
   "metadata": {},
   "outputs": [],
   "source": [
    "tods = [1,2,3,4,5]\n",
    "df3 = pd.DataFrame()\n",
    "df4 =  pd.DataFrame()\n",
    "df5 = pd.DataFrame()"
   ]
  },
  {
   "cell_type": "code",
   "execution_count": 63,
   "id": "familiar-accident",
   "metadata": {},
   "outputs": [
    {
     "name": "stdout",
     "output_type": "stream",
     "text": [
      "Working on TOD 1\n"
     ]
    },
    {
     "name": "stderr",
     "output_type": "stream",
     "text": [
      "C:\\Users\\transportlab\\anaconda3\\lib\\site-packages\\ipykernel_launcher.py:18: SettingWithCopyWarning: \n",
      "A value is trying to be set on a copy of a slice from a DataFrame.\n",
      "Try using .loc[row_indexer,col_indexer] = value instead\n",
      "\n",
      "See the caveats in the documentation: https://pandas.pydata.org/pandas-docs/stable/user_guide/indexing.html#returning-a-view-versus-a-copy\n"
     ]
    },
    {
     "name": "stdout",
     "output_type": "stream",
     "text": [
      "Working on TOD 2\n",
      "Working on TOD 3\n",
      "Working on TOD 4\n",
      "Working on TOD 5\n"
     ]
    }
   ],
   "source": [
    "for tod in tods:\n",
    "    print('Working on TOD ' + str(tod))\n",
    "    df = pd.read_hdf('D:/TNC-Demand-Model/Inputs/Chicago Ride-Hailing/Chicago_TNC_Trips_20.H5', columns = ['Pickup Census Tract','Dropoff Census Tract','MONTH','YEAR','Pickup Community Area','Dropoff Community Area','Trip Seconds','Trip Miles','Fare'],key = 'Weekday_' + str(tod))\n",
    "    df2 = df[(~np.isnan(df['Dropoff Community Area']))&(~np.isnan(df['Pickup Community Area']))]\n",
    "    df2 = df2[(np.isnan(df2['Dropoff Census Tract']))|(np.isnan(df2['Pickup Census Tract']))]\n",
    "    df2['SUPPRESSED_TRIPS'] = 1\n",
    "   # df2['DAY'] = df2['Trip Start Timestamp'].dt.day\n",
    "    #df2['MINUTE'] = df2['Trip Start Timestamp'].dt.minute\n",
    "\n",
    "\n",
    "    df_unsup = df[(~np.isnan(df['Dropoff Community Area']))&(~np.isnan(df['Pickup Community Area']))]\n",
    "    df_unsup = df_unsup[(~np.isnan(df_unsup['Dropoff Census Tract']))&(~np.isnan(df_unsup['Pickup Census Tract']))]\n",
    "    df_unsup['UNSUPPRESSED_TRIPS'] = 1\n",
    "    #df_unsup['DAY'] = df_unsup['Trip Start Timestamp'].dt.day\n",
    "    #df_unsup['MINUTE'] = df_unsup['Trip Start Timestamp'].dt.minute\n",
    "\n",
    "    df_external = df[(np.isnan(df['Pickup Community Area']))|(np.isnan(df['Dropoff Community Area']))]\n",
    "    df_external['EXTERNAL_TRIPS'] = 1\n",
    "\n",
    "    df3 = df3.append(df2)\n",
    "    df4 = df4.append(df_unsup)\n",
    "    df5 = df5.append(df_external)\n",
    "\n",
    "#sup_pickup_daily = df3.groupby(by = ['MONTH','YEAR','DAY','Pickup Community Area'],as_index = False).sum()\n",
    "sup_pickup_monthly_sum = df3.groupby(by = ['MONTH','YEAR','Pickup Community Area'],as_index = False).sum()\n",
    "#sup_pickup_monthly_avg = sup_pickup_daily.groupby(by = ['MONTH','YEAR','Pickup Community Area'],as_index = False).mean()\n",
    "#sup_dropoff_daily = df3.groupby(by = ['MONTH','YEAR','DAY','Dropoff Community Area'],as_index = False).sum()\n",
    "sup_dropoff_monthly_sum = df3.groupby(by = ['MONTH','YEAR','Dropoff Community Area'],as_index = False).sum()\n",
    "#sup_dropoff_monthly_avg = sup_dropoff_daily.groupby(by = ['MONTH','YEAR','Dropoff Community Area'],as_index = False).mean()"
   ]
  },
  {
   "cell_type": "code",
   "execution_count": 64,
   "id": "prospective-correction",
   "metadata": {},
   "outputs": [],
   "source": [
    "unsup_pickup_monthly_sum = df4.groupby(by = ['MONTH','YEAR','Pickup Community Area'],as_index = False).sum()\n",
    "unsup_dropoff_monthly_sum = df4.groupby(by = ['MONTH','YEAR','Dropoff Community Area'],as_index = False).sum()\n",
    "\n",
    "df_external_pickup_sum = df5.groupby(by = ['MONTH','YEAR','Pickup Community Area'],as_index = False).sum()\n",
    "df_external_dropoff_sum = df5.groupby(by = ['MONTH','YEAR','Dropoff Community Area'],as_index = False).sum()\n",
    "\n",
    "\n",
    "join_pickup = sup_pickup_monthly_sum.merge(unsup_pickup_monthly_sum, on = ['MONTH','YEAR','Pickup Community Area'])\n",
    "join_pickup = join_pickup.merge(df_external_pickup_sum, on = ['MONTH','YEAR','Pickup Community Area'])\n",
    "\n",
    "join_dropoff = sup_dropoff_monthly_sum.merge(unsup_dropoff_monthly_sum, on = ['MONTH','YEAR','Dropoff Community Area'])\n",
    "join_dropoff = join_dropoff.merge(df_external_dropoff_sum, on = ['MONTH','YEAR','Dropoff Community Area'])\n",
    "\n",
    "join_pickup['Share of Trips Suppressed'] = join_pickup['SUPPRESSED_TRIPS']/(join_pickup['UNSUPPRESSED_TRIPS'] + join_pickup['SUPPRESSED_TRIPS'] + join_pickup['EXTERNAL_TRIPS'])\n",
    "join_dropoff['Share of Trips Suppressed'] = join_dropoff['SUPPRESSED_TRIPS']/(join_dropoff['UNSUPPRESSED_TRIPS'] + join_dropoff['SUPPRESSED_TRIPS'] + join_dropoff['EXTERNAL_TRIPS'])\n",
    "\n",
    "join_pickup['Share of Trips External'] = join_pickup['EXTERNAL_TRIPS']/(join_pickup['UNSUPPRESSED_TRIPS'] + join_pickup['EXTERNAL_TRIPS'] + join_pickup['SUPPRESSED_TRIPS'])\n",
    "join_dropoff['Share of Trips External'] = join_dropoff['EXTERNAL_TRIPS']/(join_dropoff['UNSUPPRESSED_TRIPS'] + join_dropoff['EXTERNAL_TRIPS'] + join_dropoff['SUPPRESSED_TRIPS'])\n"
   ]
  },
  {
   "cell_type": "code",
   "execution_count": 61,
   "id": "sporting-furniture",
   "metadata": {},
   "outputs": [
    {
     "data": {
      "text/html": [
       "<div>\n",
       "<style scoped>\n",
       "    .dataframe tbody tr th:only-of-type {\n",
       "        vertical-align: middle;\n",
       "    }\n",
       "\n",
       "    .dataframe tbody tr th {\n",
       "        vertical-align: top;\n",
       "    }\n",
       "\n",
       "    .dataframe thead th {\n",
       "        text-align: right;\n",
       "    }\n",
       "</style>\n",
       "<table border=\"1\" class=\"dataframe\">\n",
       "  <thead>\n",
       "    <tr style=\"text-align: right;\">\n",
       "      <th></th>\n",
       "      <th>Pickup Census Tract</th>\n",
       "      <th>Dropoff Census Tract</th>\n",
       "      <th>MONTH</th>\n",
       "      <th>YEAR</th>\n",
       "      <th>Pickup Community Area</th>\n",
       "      <th>Dropoff Community Area</th>\n",
       "      <th>Trip Seconds</th>\n",
       "      <th>Trip Miles</th>\n",
       "      <th>Fare</th>\n",
       "      <th>UNSUPPRESSED_TRIPS</th>\n",
       "      <th>EXTERNAL_TRIPS</th>\n",
       "      <th>TRAVEL_TIME</th>\n",
       "      <th>SPEED</th>\n",
       "      <th>Trip Category</th>\n",
       "    </tr>\n",
       "  </thead>\n",
       "  <tbody>\n",
       "    <tr>\n",
       "      <th>0</th>\n",
       "      <td>1.703198e+10</td>\n",
       "      <td>1.703106e+10</td>\n",
       "      <td>10</td>\n",
       "      <td>2019</td>\n",
       "      <td>76.0</td>\n",
       "      <td>6.0</td>\n",
       "      <td>1236.0</td>\n",
       "      <td>16.5</td>\n",
       "      <td>20.0</td>\n",
       "      <td>1.0</td>\n",
       "      <td>NaN</td>\n",
       "      <td>20.600000</td>\n",
       "      <td>48.058252</td>\n",
       "      <td>External</td>\n",
       "    </tr>\n",
       "    <tr>\n",
       "      <th>7</th>\n",
       "      <td>1.703108e+10</td>\n",
       "      <td>1.703108e+10</td>\n",
       "      <td>2</td>\n",
       "      <td>2020</td>\n",
       "      <td>8.0</td>\n",
       "      <td>8.0</td>\n",
       "      <td>254.0</td>\n",
       "      <td>0.8</td>\n",
       "      <td>25.0</td>\n",
       "      <td>1.0</td>\n",
       "      <td>NaN</td>\n",
       "      <td>4.233333</td>\n",
       "      <td>11.338583</td>\n",
       "      <td>External</td>\n",
       "    </tr>\n",
       "    <tr>\n",
       "      <th>12</th>\n",
       "      <td>1.703133e+10</td>\n",
       "      <td>1.703106e+10</td>\n",
       "      <td>1</td>\n",
       "      <td>2020</td>\n",
       "      <td>33.0</td>\n",
       "      <td>6.0</td>\n",
       "      <td>826.0</td>\n",
       "      <td>5.9</td>\n",
       "      <td>10.0</td>\n",
       "      <td>1.0</td>\n",
       "      <td>NaN</td>\n",
       "      <td>13.766667</td>\n",
       "      <td>25.714286</td>\n",
       "      <td>External</td>\n",
       "    </tr>\n",
       "    <tr>\n",
       "      <th>24</th>\n",
       "      <td>1.703133e+10</td>\n",
       "      <td>1.703198e+10</td>\n",
       "      <td>10</td>\n",
       "      <td>2019</td>\n",
       "      <td>33.0</td>\n",
       "      <td>76.0</td>\n",
       "      <td>2118.0</td>\n",
       "      <td>19.7</td>\n",
       "      <td>27.5</td>\n",
       "      <td>1.0</td>\n",
       "      <td>NaN</td>\n",
       "      <td>35.300000</td>\n",
       "      <td>33.484419</td>\n",
       "      <td>External</td>\n",
       "    </tr>\n",
       "    <tr>\n",
       "      <th>29</th>\n",
       "      <td>1.703132e+10</td>\n",
       "      <td>1.703108e+10</td>\n",
       "      <td>10</td>\n",
       "      <td>2019</td>\n",
       "      <td>32.0</td>\n",
       "      <td>8.0</td>\n",
       "      <td>932.0</td>\n",
       "      <td>1.5</td>\n",
       "      <td>7.5</td>\n",
       "      <td>1.0</td>\n",
       "      <td>NaN</td>\n",
       "      <td>15.533333</td>\n",
       "      <td>5.793991</td>\n",
       "      <td>External</td>\n",
       "    </tr>\n",
       "    <tr>\n",
       "      <th>...</th>\n",
       "      <td>...</td>\n",
       "      <td>...</td>\n",
       "      <td>...</td>\n",
       "      <td>...</td>\n",
       "      <td>...</td>\n",
       "      <td>...</td>\n",
       "      <td>...</td>\n",
       "      <td>...</td>\n",
       "      <td>...</td>\n",
       "      <td>...</td>\n",
       "      <td>...</td>\n",
       "      <td>...</td>\n",
       "      <td>...</td>\n",
       "      <td>...</td>\n",
       "    </tr>\n",
       "    <tr>\n",
       "      <th>147173997</th>\n",
       "      <td>NaN</td>\n",
       "      <td>1.703166e+10</td>\n",
       "      <td>10</td>\n",
       "      <td>2019</td>\n",
       "      <td>NaN</td>\n",
       "      <td>66.0</td>\n",
       "      <td>1235.0</td>\n",
       "      <td>7.0</td>\n",
       "      <td>10.0</td>\n",
       "      <td>NaN</td>\n",
       "      <td>1.0</td>\n",
       "      <td>NaN</td>\n",
       "      <td>NaN</td>\n",
       "      <td>NaN</td>\n",
       "    </tr>\n",
       "    <tr>\n",
       "      <th>147173999</th>\n",
       "      <td>NaN</td>\n",
       "      <td>NaN</td>\n",
       "      <td>2</td>\n",
       "      <td>2020</td>\n",
       "      <td>NaN</td>\n",
       "      <td>30.0</td>\n",
       "      <td>1312.0</td>\n",
       "      <td>3.1</td>\n",
       "      <td>10.0</td>\n",
       "      <td>NaN</td>\n",
       "      <td>1.0</td>\n",
       "      <td>NaN</td>\n",
       "      <td>NaN</td>\n",
       "      <td>NaN</td>\n",
       "    </tr>\n",
       "    <tr>\n",
       "      <th>147174220</th>\n",
       "      <td>1.703109e+10</td>\n",
       "      <td>NaN</td>\n",
       "      <td>12</td>\n",
       "      <td>2019</td>\n",
       "      <td>9.0</td>\n",
       "      <td>NaN</td>\n",
       "      <td>479.0</td>\n",
       "      <td>2.2</td>\n",
       "      <td>5.0</td>\n",
       "      <td>NaN</td>\n",
       "      <td>1.0</td>\n",
       "      <td>NaN</td>\n",
       "      <td>NaN</td>\n",
       "      <td>NaN</td>\n",
       "    </tr>\n",
       "    <tr>\n",
       "      <th>147174444</th>\n",
       "      <td>1.703128e+10</td>\n",
       "      <td>NaN</td>\n",
       "      <td>1</td>\n",
       "      <td>2020</td>\n",
       "      <td>28.0</td>\n",
       "      <td>NaN</td>\n",
       "      <td>1819.0</td>\n",
       "      <td>15.2</td>\n",
       "      <td>20.0</td>\n",
       "      <td>NaN</td>\n",
       "      <td>1.0</td>\n",
       "      <td>NaN</td>\n",
       "      <td>NaN</td>\n",
       "      <td>NaN</td>\n",
       "    </tr>\n",
       "    <tr>\n",
       "      <th>147174626</th>\n",
       "      <td>1.703198e+10</td>\n",
       "      <td>NaN</td>\n",
       "      <td>2</td>\n",
       "      <td>2020</td>\n",
       "      <td>56.0</td>\n",
       "      <td>NaN</td>\n",
       "      <td>1558.0</td>\n",
       "      <td>11.4</td>\n",
       "      <td>12.5</td>\n",
       "      <td>NaN</td>\n",
       "      <td>1.0</td>\n",
       "      <td>NaN</td>\n",
       "      <td>NaN</td>\n",
       "      <td>NaN</td>\n",
       "    </tr>\n",
       "  </tbody>\n",
       "</table>\n",
       "<p>80234986 rows × 14 columns</p>\n",
       "</div>"
      ],
      "text/plain": [
       "           Pickup Census Tract  Dropoff Census Tract  MONTH  YEAR  \\\n",
       "0                 1.703198e+10          1.703106e+10     10  2019   \n",
       "7                 1.703108e+10          1.703108e+10      2  2020   \n",
       "12                1.703133e+10          1.703106e+10      1  2020   \n",
       "24                1.703133e+10          1.703198e+10     10  2019   \n",
       "29                1.703132e+10          1.703108e+10     10  2019   \n",
       "...                        ...                   ...    ...   ...   \n",
       "147173997                  NaN          1.703166e+10     10  2019   \n",
       "147173999                  NaN                   NaN      2  2020   \n",
       "147174220         1.703109e+10                   NaN     12  2019   \n",
       "147174444         1.703128e+10                   NaN      1  2020   \n",
       "147174626         1.703198e+10                   NaN      2  2020   \n",
       "\n",
       "           Pickup Community Area  Dropoff Community Area  Trip Seconds  \\\n",
       "0                           76.0                     6.0        1236.0   \n",
       "7                            8.0                     8.0         254.0   \n",
       "12                          33.0                     6.0         826.0   \n",
       "24                          33.0                    76.0        2118.0   \n",
       "29                          32.0                     8.0         932.0   \n",
       "...                          ...                     ...           ...   \n",
       "147173997                    NaN                    66.0        1235.0   \n",
       "147173999                    NaN                    30.0        1312.0   \n",
       "147174220                    9.0                     NaN         479.0   \n",
       "147174444                   28.0                     NaN        1819.0   \n",
       "147174626                   56.0                     NaN        1558.0   \n",
       "\n",
       "           Trip Miles  Fare  UNSUPPRESSED_TRIPS  EXTERNAL_TRIPS  TRAVEL_TIME  \\\n",
       "0                16.5  20.0                 1.0             NaN    20.600000   \n",
       "7                 0.8  25.0                 1.0             NaN     4.233333   \n",
       "12                5.9  10.0                 1.0             NaN    13.766667   \n",
       "24               19.7  27.5                 1.0             NaN    35.300000   \n",
       "29                1.5   7.5                 1.0             NaN    15.533333   \n",
       "...               ...   ...                 ...             ...          ...   \n",
       "147173997         7.0  10.0                 NaN             1.0          NaN   \n",
       "147173999         3.1  10.0                 NaN             1.0          NaN   \n",
       "147174220         2.2   5.0                 NaN             1.0          NaN   \n",
       "147174444        15.2  20.0                 NaN             1.0          NaN   \n",
       "147174626        11.4  12.5                 NaN             1.0          NaN   \n",
       "\n",
       "               SPEED Trip Category  \n",
       "0          48.058252      External  \n",
       "7          11.338583      External  \n",
       "12         25.714286      External  \n",
       "24         33.484419      External  \n",
       "29          5.793991      External  \n",
       "...              ...           ...  \n",
       "147173997        NaN           NaN  \n",
       "147173999        NaN           NaN  \n",
       "147174220        NaN           NaN  \n",
       "147174444        NaN           NaN  \n",
       "147174626        NaN           NaN  \n",
       "\n",
       "[80234986 rows x 14 columns]"
      ]
     },
     "execution_count": 61,
     "metadata": {},
     "output_type": "execute_result"
    }
   ],
   "source": [
    "df5"
   ]
  },
  {
   "cell_type": "code",
   "execution_count": null,
   "id": "addressed-vehicle",
   "metadata": {},
   "outputs": [],
   "source": []
  },
  {
   "cell_type": "code",
   "execution_count": 65,
   "id": "urban-subscriber",
   "metadata": {},
   "outputs": [],
   "source": [
    "\n",
    "m = folium.Map([41.8781, -87.6298],  tiles= None, zoom_start=11)\n",
    "\n",
    "# Add the color for the chloropleth:\n",
    "folium.Choropleth(\n",
    " geo_data=com_area,\n",
    " name= \"Share of Pickups Being Suppressed\",\n",
    " data=join_pickup,\n",
    " columns = ['Pickup Community Area', 'Share of Trips Suppressed'],\n",
    " key_on='feature.properties.area_num_1',\n",
    " fill_color='BuGn',\n",
    " fill_opacity=0.6,\n",
    " line_opacity=0.2,\n",
    " bins = [0,0.25,0.5,0.75,1],\n",
    " legend_name='Share of Pickups Being Suppressed',\n",
    " highlight = True\n",
    ").add_to(m)\n",
    "\n",
    "\n",
    "\n",
    "#feature_group = folium.FeatureGroup(name='Census Tract Centroids', show = False)\n",
    "\n",
    "\n",
    "#for tract2 in centroids.GEOID:\n",
    "#    row = centroids[centroids['GEOID'] == tract2]\n",
    "#    folium.CircleMarker([row['Y'], row['X']], popup = str(int(row['GEOID'].values[0])), radius = 1, fill = True, fill_color = 'grey', color = 'grey').add_to(feature_group)\n",
    "\n",
    "#m.add_child(feature_group)\n",
    "\n",
    "\n",
    "folium.LayerControl().add_to(m)\n",
    "\n",
    "m.save('D:/TNC-Demand-Model/Data Exploration/Suppressed Ridehailing Maps/Share_of_Trips_Being_Suppressed.html')\n"
   ]
  },
  {
   "cell_type": "code",
   "execution_count": 66,
   "id": "classified-muslim",
   "metadata": {},
   "outputs": [],
   "source": [
    "bins = np.quantile(join_pickup['UNSUPPRESSED_TRIPS'], [0,0.5,0.75,0.9,0.98,1])"
   ]
  },
  {
   "cell_type": "code",
   "execution_count": 67,
   "id": "violent-decimal",
   "metadata": {},
   "outputs": [],
   "source": [
    "\n",
    "m = folium.Map([41.8781, -87.6298] ,tiles= None, zoom_start=11)\n",
    "\n",
    "# Add the color for the chloropleth:\n",
    "folium.Choropleth(\n",
    " geo_data=com_area,\n",
    " name= \"Total Trips Unsuppressed\",\n",
    " data=join_pickup,\n",
    " columns = ['Pickup Community Area', 'UNSUPPRESSED_TRIPS'],\n",
    " key_on='feature.properties.area_num_1',\n",
    " fill_color='BuGn',\n",
    " fill_opacity=0.6,\n",
    " line_opacity=0.2,\n",
    " legend_name='Unsuppressed Pickups',\n",
    " bins = bins,\n",
    " highlight = True\n",
    ").add_to(m)\n",
    "\n",
    "\n",
    "\n",
    "#feature_group = folium.FeatureGroup(name='Census Tract Centroids', show = False)\n",
    "\n",
    "\n",
    "#for tract2 in centroids.GEOID:\n",
    "#    row = centroids[centroids['GEOID'] == tract2]\n",
    "#    folium.CircleMarker([row['Y'], row['X']], popup = str(int(row['GEOID'].values[0])), radius = 1, fill = True, fill_color = 'grey', color = 'grey').add_to(feature_group)\n",
    "\n",
    "#m.add_child(feature_group)\n",
    "\n",
    "\n",
    "folium.LayerControl().add_to(m)\n",
    "\n",
    "m.save('D:/TNC-Demand-Model/Data Exploration/Suppressed Ridehailing Maps/UnSuppressed_Trips.html')\n"
   ]
  },
  {
   "cell_type": "code",
   "execution_count": 68,
   "id": "suburban-dating",
   "metadata": {},
   "outputs": [],
   "source": [
    "\n",
    "m = folium.Map([41.8781, -87.6298],  tiles= None, zoom_start=11)\n",
    "\n",
    "# Add the color for the chloropleth:\n",
    "folium.Choropleth(\n",
    " geo_data=com_area,\n",
    " name= \"Share of Pickups with External Dropoff\",\n",
    " data=join_pickup,\n",
    " columns = ['Pickup Community Area', 'Share of Trips External'],\n",
    " key_on='feature.properties.area_num_1',\n",
    " fill_color='BuGn',\n",
    " fill_opacity=0.6,\n",
    " line_opacity=0.2,\n",
    " bins = [0,0.3,0.5,0.7,1.0],\n",
    " legend_name='Share of Pickups With External Dropoff',\n",
    " highlight = True\n",
    ").add_to(m)\n",
    "\n",
    "\n",
    "\n",
    "#feature_group = folium.FeatureGroup(name='Census Tract Centroids', show = False)\n",
    "\n",
    "\n",
    "#for tract2 in centroids.GEOID:\n",
    "#    row = centroids[centroids['GEOID'] == tract2]\n",
    "#    folium.CircleMarker([row['Y'], row['X']], popup = str(int(row['GEOID'].values[0])), radius = 1, fill = True, fill_color = 'grey', color = 'grey').add_to(feature_group)\n",
    "\n",
    "#m.add_child(feature_group)\n",
    "\n",
    "\n",
    "folium.LayerControl().add_to(m)\n",
    "\n",
    "m.save('D:/TNC-Demand-Model/Data Exploration/Share_of_Pickups_External.html')\n"
   ]
  },
  {
   "cell_type": "markdown",
   "id": "north-bunch",
   "metadata": {},
   "source": [
    "# ACS Maps"
   ]
  },
  {
   "cell_type": "code",
   "execution_count": 69,
   "id": "actual-attraction",
   "metadata": {},
   "outputs": [],
   "source": [
    "acs = pd.read_csv('D:/TNC-Demand-Model/Outputs/Chicago_ACS_Data.csv')"
   ]
  },
  {
   "cell_type": "code",
   "execution_count": 70,
   "id": "athletic-exercise",
   "metadata": {},
   "outputs": [
    {
     "data": {
      "text/html": [
       "<div>\n",
       "<style scoped>\n",
       "    .dataframe tbody tr th:only-of-type {\n",
       "        vertical-align: middle;\n",
       "    }\n",
       "\n",
       "    .dataframe tbody tr th {\n",
       "        vertical-align: top;\n",
       "    }\n",
       "\n",
       "    .dataframe thead th {\n",
       "        text-align: right;\n",
       "    }\n",
       "</style>\n",
       "<table border=\"1\" class=\"dataframe\">\n",
       "  <thead>\n",
       "    <tr style=\"text-align: right;\">\n",
       "      <th></th>\n",
       "      <th>Unnamed: 0</th>\n",
       "      <th>YEAR</th>\n",
       "      <th>MONTH</th>\n",
       "      <th>TOD</th>\n",
       "      <th>CENSUS_TRACT</th>\n",
       "      <th>TOTAL_POP</th>\n",
       "      <th>TOTAL_MALE</th>\n",
       "      <th>TOTAL_FEMALE</th>\n",
       "      <th>AGE_5U</th>\n",
       "      <th>AGE_5_9</th>\n",
       "      <th>...</th>\n",
       "      <th>TOTAL_HHLDS_100K_150K</th>\n",
       "      <th>TOTAL_HHLDS_150K_200K</th>\n",
       "      <th>TOTAL_HHLDS_200KP</th>\n",
       "      <th>HHLDS_MEDIAN_INCOME</th>\n",
       "      <th>HHLDS_MEAN_INCOME</th>\n",
       "      <th>HHLDS_0_VEH</th>\n",
       "      <th>HHLDS_1_VEH</th>\n",
       "      <th>HHLDS_2_VEH</th>\n",
       "      <th>HHLDS_3P_VEH</th>\n",
       "      <th>AVG_VEH_PER_HHLD</th>\n",
       "    </tr>\n",
       "  </thead>\n",
       "  <tbody>\n",
       "    <tr>\n",
       "      <th>0</th>\n",
       "      <td>0</td>\n",
       "      <td>2018</td>\n",
       "      <td>11</td>\n",
       "      <td>1</td>\n",
       "      <td>17031010100</td>\n",
       "      <td>4522.0</td>\n",
       "      <td>2301.0</td>\n",
       "      <td>2221.0</td>\n",
       "      <td>384.0</td>\n",
       "      <td>253.0</td>\n",
       "      <td>...</td>\n",
       "      <td>13.8</td>\n",
       "      <td>3.8</td>\n",
       "      <td>2.5</td>\n",
       "      <td>37985.0</td>\n",
       "      <td>56105.0</td>\n",
       "      <td>1162.0</td>\n",
       "      <td>788.0</td>\n",
       "      <td>344.0</td>\n",
       "      <td>22.0</td>\n",
       "      <td>0.665803</td>\n",
       "    </tr>\n",
       "    <tr>\n",
       "      <th>1</th>\n",
       "      <td>1</td>\n",
       "      <td>2018</td>\n",
       "      <td>11</td>\n",
       "      <td>1</td>\n",
       "      <td>17031010201</td>\n",
       "      <td>7039.0</td>\n",
       "      <td>3701.0</td>\n",
       "      <td>3338.0</td>\n",
       "      <td>480.0</td>\n",
       "      <td>507.0</td>\n",
       "      <td>...</td>\n",
       "      <td>12.3</td>\n",
       "      <td>1.2</td>\n",
       "      <td>1.6</td>\n",
       "      <td>39549.0</td>\n",
       "      <td>61626.0</td>\n",
       "      <td>751.0</td>\n",
       "      <td>1317.0</td>\n",
       "      <td>521.0</td>\n",
       "      <td>99.0</td>\n",
       "      <td>0.988095</td>\n",
       "    </tr>\n",
       "    <tr>\n",
       "      <th>2</th>\n",
       "      <td>2</td>\n",
       "      <td>2018</td>\n",
       "      <td>11</td>\n",
       "      <td>1</td>\n",
       "      <td>17031010202</td>\n",
       "      <td>2852.0</td>\n",
       "      <td>1390.0</td>\n",
       "      <td>1462.0</td>\n",
       "      <td>245.0</td>\n",
       "      <td>122.0</td>\n",
       "      <td>...</td>\n",
       "      <td>8.8</td>\n",
       "      <td>2.5</td>\n",
       "      <td>1.1</td>\n",
       "      <td>38370.0</td>\n",
       "      <td>49615.0</td>\n",
       "      <td>464.0</td>\n",
       "      <td>449.0</td>\n",
       "      <td>169.0</td>\n",
       "      <td>20.0</td>\n",
       "      <td>0.768603</td>\n",
       "    </tr>\n",
       "    <tr>\n",
       "      <th>3</th>\n",
       "      <td>3</td>\n",
       "      <td>2018</td>\n",
       "      <td>11</td>\n",
       "      <td>1</td>\n",
       "      <td>17031010300</td>\n",
       "      <td>6650.0</td>\n",
       "      <td>3294.0</td>\n",
       "      <td>3356.0</td>\n",
       "      <td>351.0</td>\n",
       "      <td>342.0</td>\n",
       "      <td>...</td>\n",
       "      <td>5.0</td>\n",
       "      <td>3.3</td>\n",
       "      <td>5.3</td>\n",
       "      <td>38866.0</td>\n",
       "      <td>69967.0</td>\n",
       "      <td>993.0</td>\n",
       "      <td>1344.0</td>\n",
       "      <td>613.0</td>\n",
       "      <td>87.0</td>\n",
       "      <td>0.932170</td>\n",
       "    </tr>\n",
       "    <tr>\n",
       "      <th>4</th>\n",
       "      <td>4</td>\n",
       "      <td>2018</td>\n",
       "      <td>11</td>\n",
       "      <td>1</td>\n",
       "      <td>17031010400</td>\n",
       "      <td>5153.0</td>\n",
       "      <td>2405.0</td>\n",
       "      <td>2748.0</td>\n",
       "      <td>84.0</td>\n",
       "      <td>232.0</td>\n",
       "      <td>...</td>\n",
       "      <td>11.8</td>\n",
       "      <td>3.8</td>\n",
       "      <td>1.4</td>\n",
       "      <td>39152.0</td>\n",
       "      <td>54235.0</td>\n",
       "      <td>655.0</td>\n",
       "      <td>1089.0</td>\n",
       "      <td>194.0</td>\n",
       "      <td>0.0</td>\n",
       "      <td>0.762126</td>\n",
       "    </tr>\n",
       "  </tbody>\n",
       "</table>\n",
       "<p>5 rows × 57 columns</p>\n",
       "</div>"
      ],
      "text/plain": [
       "   Unnamed: 0  YEAR  MONTH  TOD  CENSUS_TRACT  TOTAL_POP  TOTAL_MALE  \\\n",
       "0           0  2018     11    1   17031010100     4522.0      2301.0   \n",
       "1           1  2018     11    1   17031010201     7039.0      3701.0   \n",
       "2           2  2018     11    1   17031010202     2852.0      1390.0   \n",
       "3           3  2018     11    1   17031010300     6650.0      3294.0   \n",
       "4           4  2018     11    1   17031010400     5153.0      2405.0   \n",
       "\n",
       "   TOTAL_FEMALE  AGE_5U  AGE_5_9  ...  TOTAL_HHLDS_100K_150K  \\\n",
       "0        2221.0   384.0    253.0  ...                   13.8   \n",
       "1        3338.0   480.0    507.0  ...                   12.3   \n",
       "2        1462.0   245.0    122.0  ...                    8.8   \n",
       "3        3356.0   351.0    342.0  ...                    5.0   \n",
       "4        2748.0    84.0    232.0  ...                   11.8   \n",
       "\n",
       "   TOTAL_HHLDS_150K_200K  TOTAL_HHLDS_200KP  HHLDS_MEDIAN_INCOME  \\\n",
       "0                    3.8                2.5              37985.0   \n",
       "1                    1.2                1.6              39549.0   \n",
       "2                    2.5                1.1              38370.0   \n",
       "3                    3.3                5.3              38866.0   \n",
       "4                    3.8                1.4              39152.0   \n",
       "\n",
       "   HHLDS_MEAN_INCOME  HHLDS_0_VEH  HHLDS_1_VEH  HHLDS_2_VEH  HHLDS_3P_VEH  \\\n",
       "0            56105.0       1162.0        788.0        344.0          22.0   \n",
       "1            61626.0        751.0       1317.0        521.0          99.0   \n",
       "2            49615.0        464.0        449.0        169.0          20.0   \n",
       "3            69967.0        993.0       1344.0        613.0          87.0   \n",
       "4            54235.0        655.0       1089.0        194.0           0.0   \n",
       "\n",
       "   AVG_VEH_PER_HHLD  \n",
       "0          0.665803  \n",
       "1          0.988095  \n",
       "2          0.768603  \n",
       "3          0.932170  \n",
       "4          0.762126  \n",
       "\n",
       "[5 rows x 57 columns]"
      ]
     },
     "execution_count": 70,
     "metadata": {},
     "output_type": "execute_result"
    }
   ],
   "source": [
    "acs.head()"
   ]
  },
  {
   "cell_type": "code",
   "execution_count": 71,
   "id": "respective-learning",
   "metadata": {},
   "outputs": [
    {
     "data": {
      "text/html": [
       "<div>\n",
       "<style scoped>\n",
       "    .dataframe tbody tr th:only-of-type {\n",
       "        vertical-align: middle;\n",
       "    }\n",
       "\n",
       "    .dataframe tbody tr th {\n",
       "        vertical-align: top;\n",
       "    }\n",
       "\n",
       "    .dataframe thead th {\n",
       "        text-align: right;\n",
       "    }\n",
       "</style>\n",
       "<table border=\"1\" class=\"dataframe\">\n",
       "  <thead>\n",
       "    <tr style=\"text-align: right;\">\n",
       "      <th></th>\n",
       "      <th>area_num_1</th>\n",
       "      <th>GEOID</th>\n",
       "      <th>Unnamed: 2</th>\n",
       "    </tr>\n",
       "  </thead>\n",
       "  <tbody>\n",
       "    <tr>\n",
       "      <th>0</th>\n",
       "      <td>35</td>\n",
       "      <td>17031351500</td>\n",
       "      <td>NaN</td>\n",
       "    </tr>\n",
       "    <tr>\n",
       "      <th>1</th>\n",
       "      <td>35</td>\n",
       "      <td>17031351400</td>\n",
       "      <td>NaN</td>\n",
       "    </tr>\n",
       "    <tr>\n",
       "      <th>2</th>\n",
       "      <td>35</td>\n",
       "      <td>17031839600</td>\n",
       "      <td>NaN</td>\n",
       "    </tr>\n",
       "    <tr>\n",
       "      <th>3</th>\n",
       "      <td>35</td>\n",
       "      <td>17031351100</td>\n",
       "      <td>NaN</td>\n",
       "    </tr>\n",
       "    <tr>\n",
       "      <th>4</th>\n",
       "      <td>35</td>\n",
       "      <td>17031839500</td>\n",
       "      <td>NaN</td>\n",
       "    </tr>\n",
       "    <tr>\n",
       "      <th>...</th>\n",
       "      <td>...</td>\n",
       "      <td>...</td>\n",
       "      <td>...</td>\n",
       "    </tr>\n",
       "    <tr>\n",
       "      <th>797</th>\n",
       "      <td>76</td>\n",
       "      <td>17031770902</td>\n",
       "      <td>NaN</td>\n",
       "    </tr>\n",
       "    <tr>\n",
       "      <th>798</th>\n",
       "      <td>10</td>\n",
       "      <td>17031810400</td>\n",
       "      <td>NaN</td>\n",
       "    </tr>\n",
       "    <tr>\n",
       "      <th>799</th>\n",
       "      <td>1</td>\n",
       "      <td>17031010400</td>\n",
       "      <td>NaN</td>\n",
       "    </tr>\n",
       "    <tr>\n",
       "      <th>800</th>\n",
       "      <td>8</td>\n",
       "      <td>17031081202</td>\n",
       "      <td>NaN</td>\n",
       "    </tr>\n",
       "    <tr>\n",
       "      <th>801</th>\n",
       "      <td>8</td>\n",
       "      <td>17031081402</td>\n",
       "      <td>NaN</td>\n",
       "    </tr>\n",
       "  </tbody>\n",
       "</table>\n",
       "<p>802 rows × 3 columns</p>\n",
       "</div>"
      ],
      "text/plain": [
       "     area_num_1        GEOID  Unnamed: 2\n",
       "0            35  17031351500         NaN\n",
       "1            35  17031351400         NaN\n",
       "2            35  17031839600         NaN\n",
       "3            35  17031351100         NaN\n",
       "4            35  17031839500         NaN\n",
       "..          ...          ...         ...\n",
       "797          76  17031770902         NaN\n",
       "798          10  17031810400         NaN\n",
       "799           1  17031010400         NaN\n",
       "800           8  17031081202         NaN\n",
       "801           8  17031081402         NaN\n",
       "\n",
       "[802 rows x 3 columns]"
      ]
     },
     "execution_count": 71,
     "metadata": {},
     "output_type": "execute_result"
    }
   ],
   "source": [
    "com_area_conflate"
   ]
  },
  {
   "cell_type": "code",
   "execution_count": 72,
   "id": "million-transformation",
   "metadata": {},
   "outputs": [],
   "source": [
    "acs_com = acs.merge(com_area_conflate, how = 'right', left_on = 'CENSUS_TRACT', right_on = 'GEOID')"
   ]
  },
  {
   "cell_type": "code",
   "execution_count": 73,
   "id": "saved-velvet",
   "metadata": {},
   "outputs": [],
   "source": [
    "agg = {'TOTAL_POP':'sum','HHLDS_MEDIAN_INCOME':'mean'}"
   ]
  },
  {
   "cell_type": "code",
   "execution_count": 74,
   "id": "explicit-declaration",
   "metadata": {},
   "outputs": [],
   "source": [
    "acs_com = acs_com[['TOTAL_POP','HHLDS_MEDIAN_INCOME','area_num_1']].groupby(by = 'area_num_1',as_index = False).agg(agg)"
   ]
  },
  {
   "cell_type": "code",
   "execution_count": 75,
   "id": "objective-economy",
   "metadata": {},
   "outputs": [],
   "source": [
    "rh_pop = join_pickup[['UNSUPPRESSED_TRIPS','Pickup Community Area']].merge(acs_com, how = 'inner', left_on = 'Pickup Community Area', right_on = 'area_num_1')"
   ]
  },
  {
   "cell_type": "code",
   "execution_count": 76,
   "id": "cultural-geometry",
   "metadata": {},
   "outputs": [],
   "source": [
    "rh_pop['PICKUP_PER_PERSON'] = rh_pop['UNSUPPRESSED_TRIPS']/rh_pop['TOTAL_POP']"
   ]
  },
  {
   "cell_type": "code",
   "execution_count": 77,
   "id": "minor-finance",
   "metadata": {},
   "outputs": [],
   "source": [
    "bins = np.quantile(rh_pop['PICKUP_PER_PERSON'], [0,0.5,0.75,0.9,0.98,1])"
   ]
  },
  {
   "cell_type": "code",
   "execution_count": 78,
   "id": "sustained-problem",
   "metadata": {},
   "outputs": [],
   "source": [
    "\n",
    "m = folium.Map([41.8781, -87.6298],  tiles= None, zoom_start=11)\n",
    "\n",
    "# Add the color for the chloropleth:\n",
    "folium.Choropleth(\n",
    " geo_data=com_area,\n",
    " name= \"Total Trips Unsuppressed\",\n",
    " data=rh_pop,\n",
    " columns = ['Pickup Community Area', 'PICKUP_PER_PERSON'],\n",
    " key_on='feature.properties.area_num_1',\n",
    " fill_color='BuGn',\n",
    " bins = bins,\n",
    " fill_opacity=0.6,\n",
    " line_opacity=0.2,\n",
    " legend_name='Unsuppressed Pickups Per Capita',\n",
    " highlight = True\n",
    ").add_to(m)\n",
    "\n",
    "\n",
    "\n",
    "#feature_group = folium.FeatureGroup(name='Census Tract Centroids', show = False)\n",
    "\n",
    "\n",
    "#for tract2 in centroids.GEOID:\n",
    "#    row = centroids[centroids['GEOID'] == tract2]\n",
    "#    folium.CircleMarker([row['Y'], row['X']], popup = str(int(row['GEOID'].values[0])), radius = 1, fill = True, fill_color = 'grey', color = 'grey').add_to(feature_group)\n",
    "\n",
    "#m.add_child(feature_group)\n",
    "\n",
    "\n",
    "folium.LayerControl().add_to(m)\n",
    "\n",
    "m.save('D:/TNC-Demand-Model/Data Exploration/Suppressed Ridehailing Maps/UnSuppressed_Trips_Per_Capita.html')\n"
   ]
  },
  {
   "cell_type": "code",
   "execution_count": null,
   "id": "disturbed-quilt",
   "metadata": {},
   "outputs": [],
   "source": []
  },
  {
   "cell_type": "code",
   "execution_count": 22,
   "id": "surface-pride",
   "metadata": {},
   "outputs": [],
   "source": [
    "\n",
    "m = folium.Map([41.8781, -87.6298],  tiles= None, zoom_start=11)\n",
    "\n",
    "# Add the color for the chloropleth:\n",
    "folium.Choropleth(\n",
    " geo_data=com_area,\n",
    " name= \"Households Median Income\",\n",
    " data=acs_com,\n",
    " columns = ['area_num_1', 'HHLDS_MEDIAN_INCOME'],\n",
    " key_on='feature.properties.area_num_1',\n",
    " fill_color='BuGn',\n",
    " bins = [0,40000,75000,100000,150000],\n",
    " fill_opacity=0.6,\n",
    " line_opacity=0.2,\n",
    " legend_name='Median Income of Households',\n",
    " highlight = True\n",
    ").add_to(m)\n",
    "\n",
    "\n",
    "\n",
    "#feature_group = folium.FeatureGroup(name='Census Tract Centroids', show = False)\n",
    "\n",
    "\n",
    "#for tract2 in centroids.GEOID:\n",
    "#    row = centroids[centroids['GEOID'] == tract2]\n",
    "#    folium.CircleMarker([row['Y'], row['X']], popup = str(int(row['GEOID'].values[0])), radius = 1, fill = True, fill_color = 'grey', color = 'grey').add_to(feature_group)\n",
    "\n",
    "#m.add_child(feature_group)\n",
    "\n",
    "\n",
    "folium.LayerControl().add_to(m)\n",
    "\n",
    "m.save('D:/TNC-Demand-Model/Data Exploration/Suppressed Ridehailing Maps/Median_Income_HHLDS.html')\n"
   ]
  },
  {
   "cell_type": "code",
   "execution_count": 20,
   "id": "flying-colorado",
   "metadata": {},
   "outputs": [],
   "source": []
  },
  {
   "cell_type": "code",
   "execution_count": 13,
   "id": "demographic-indonesia",
   "metadata": {},
   "outputs": [
    {
     "data": {
      "text/plain": [
       "Index(['Trip ID', 'Trip Start Timestamp', 'Trip End Timestamp', 'Trip Seconds',\n",
       "       'Trip Miles', 'Pickup Census Tract', 'Dropoff Census Tract',\n",
       "       'Pickup Community Area', 'Dropoff Community Area', 'Fare', 'Tip',\n",
       "       'Additional Charges', 'Trip Total', 'Shared Trip Authorized',\n",
       "       'Trips Pooled', 'Pickup Centroid Latitude', 'Pickup Centroid Longitude',\n",
       "       'Pickup Centroid Location', 'Dropoff Centroid Latitude',\n",
       "       'Dropoff Centroid Longitude', 'Dropoff Centroid Location', 'YEAR',\n",
       "       'MONTH', 'DOW', 'HOUR', 'UNSUPPRESSED_TRIPS', 'DAY', 'MINUTE'],\n",
       "      dtype='object')"
      ]
     },
     "execution_count": 13,
     "metadata": {},
     "output_type": "execute_result"
    }
   ],
   "source": []
  },
  {
   "cell_type": "code",
   "execution_count": null,
   "id": "sexual-fortune",
   "metadata": {},
   "outputs": [],
   "source": []
  },
  {
   "cell_type": "code",
   "execution_count": null,
   "id": "finished-stake",
   "metadata": {},
   "outputs": [],
   "source": [
    "df3.drop(df3.columns[[0,1,2,5,6,7,8,10,11,12,13,14,15,16,17,18,19,20,21,22,23,24,25,26,27]], axis=1, inplace=True)"
   ]
  },
  {
   "cell_type": "code",
   "execution_count": null,
   "id": "subsequent-recall",
   "metadata": {},
   "outputs": [],
   "source": [
    "df4.drop(df4.columns[[0,1,2,5,6,7,8,10,11,12,13,14,15,16,17,18,19,20,21,22,23,24,25,26,27]], axis=1, inplace=True)"
   ]
  },
  {
   "cell_type": "code",
   "execution_count": null,
   "id": "piano-burden",
   "metadata": {},
   "outputs": [],
   "source": []
  },
  {
   "cell_type": "code",
   "execution_count": 79,
   "id": "confused-clearance",
   "metadata": {},
   "outputs": [],
   "source": [
    "df3['TRAVEL_TIME'] = df3['Trip Seconds']/60"
   ]
  },
  {
   "cell_type": "code",
   "execution_count": 80,
   "id": "attended-hollywood",
   "metadata": {},
   "outputs": [],
   "source": [
    "df4['TRAVEL_TIME'] = df4['Trip Seconds']/60\n",
    "df5['TRAVEL_TIME'] = df5['Trip Seconds']/60\n"
   ]
  },
  {
   "cell_type": "code",
   "execution_count": 81,
   "id": "confirmed-search",
   "metadata": {},
   "outputs": [],
   "source": [
    "df4['SPEED'] = df4['Trip Miles']/(df4['TRAVEL_TIME']/60)\n",
    "df3['SPEED'] = df3['Trip Miles']/(df3['TRAVEL_TIME']/60)\n",
    "df5['SPEED'] = df5['Trip Miles']/(df5['TRAVEL_TIME']/60)"
   ]
  },
  {
   "cell_type": "code",
   "execution_count": 82,
   "id": "cheap-testimony",
   "metadata": {
    "scrolled": true
   },
   "outputs": [],
   "source": [
    "df3 = df3[df3['TRAVEL_TIME'] <= 80]"
   ]
  },
  {
   "cell_type": "code",
   "execution_count": 115,
   "id": "residential-forestry",
   "metadata": {},
   "outputs": [
    {
     "data": {
      "text/plain": [
       "4.689924640341041"
      ]
     },
     "execution_count": 115,
     "metadata": {},
     "output_type": "execute_result"
    }
   ],
   "source": [
    "df4['Trip Miles'].mean()"
   ]
  },
  {
   "cell_type": "code",
   "execution_count": 117,
   "id": "independent-ontario",
   "metadata": {},
   "outputs": [
    {
     "data": {
      "text/plain": [
       "14.79747425272021"
      ]
     },
     "execution_count": 117,
     "metadata": {},
     "output_type": "execute_result"
    }
   ],
   "source": [
    "df5['Trip Miles'].mean()"
   ]
  },
  {
   "cell_type": "code",
   "execution_count": 83,
   "id": "ambient-grounds",
   "metadata": {},
   "outputs": [],
   "source": [
    "df4 = df4[df4['TRAVEL_TIME'] <= 80]\n",
    "df5 = df5[df5['TRAVEL_TIME'] <= 80]"
   ]
  },
  {
   "cell_type": "code",
   "execution_count": 116,
   "id": "behavioral-columbus",
   "metadata": {},
   "outputs": [
    {
     "data": {
      "text/plain": [
       "5.67061237060059"
      ]
     },
     "execution_count": 116,
     "metadata": {},
     "output_type": "execute_result"
    }
   ],
   "source": [
    "df3['Trip Miles'].mean()"
   ]
  },
  {
   "cell_type": "code",
   "execution_count": 85,
   "id": "pointed-brighton",
   "metadata": {},
   "outputs": [],
   "source": [
    "df3['Trip Category'] = 'Internal Suppressed'\n",
    "df4['Trip Category'] = 'Internal Unsuppressed'\n",
    "df5['Trip Category'] = 'External'\n"
   ]
  },
  {
   "cell_type": "code",
   "execution_count": 92,
   "id": "greater-ground",
   "metadata": {},
   "outputs": [],
   "source": [
    "final = df4.append(df3)"
   ]
  },
  {
   "cell_type": "code",
   "execution_count": 93,
   "id": "bottom-trick",
   "metadata": {},
   "outputs": [],
   "source": [
    "final = final.append(df5)"
   ]
  },
  {
   "cell_type": "code",
   "execution_count": 94,
   "id": "young-burke",
   "metadata": {},
   "outputs": [],
   "source": [
    "final['Travel Time (Minutes)'] = final['TRAVEL_TIME']"
   ]
  },
  {
   "cell_type": "code",
   "execution_count": 95,
   "id": "wrong-margin",
   "metadata": {},
   "outputs": [],
   "source": [
    "final['Fare (Dollars)'] = final.Fare\n",
    "final['Trip Length (Miles)'] = final['Trip Miles']"
   ]
  },
  {
   "cell_type": "code",
   "execution_count": 27,
   "id": "quantitative-beijing",
   "metadata": {},
   "outputs": [
    {
     "data": {
      "text/plain": [
       "<seaborn.axisgrid.FacetGrid at 0x27992b05198>"
      ]
     },
     "execution_count": 27,
     "metadata": {},
     "output_type": "execute_result"
    },
    {
     "data": {
      "image/png": "[encoded data removed]",
      "text/plain": [
       "<Figure size 485.125x360 with 1 Axes>"
      ]
     },
     "metadata": {
      "needs_background": "light"
     },
     "output_type": "display_data"
    }
   ],
   "source": [
    "sns.displot(final, stat = 'count', multiple = 'stack', x = 'TRAVEL_TIME',kde=False, bins = 80,\n",
    "             palette = 'deep', hue = 'SUPPRESSED_FLAGGER', element = 'bars',legend = True)"
   ]
  },
  {
   "cell_type": "code",
   "execution_count": 96,
   "id": "norwegian-wealth",
   "metadata": {},
   "outputs": [
    {
     "data": {
      "text/plain": [
       "<seaborn.axisgrid.FacetGrid at 0x1d193b8c0f0>"
      ]
     },
     "execution_count": 96,
     "metadata": {},
     "output_type": "execute_result"
    },
    {
     "data": {
      "image/png": "[encoded data removed]",
      "text/plain": [
       "<Figure size 508.625x360 with 1 Axes>"
      ]
     },
     "metadata": {
      "needs_background": "light"
     },
     "output_type": "display_data"
    }
   ],
   "source": [
    "sns.displot(final, stat = 'count', multiple = 'stack', x = 'Travel Time (Minutes)',kde=False, bins = 80,\n",
    "             palette = 'deep', hue = 'Trip Category', element = 'bars',legend = True)"
   ]
  },
  {
   "cell_type": "code",
   "execution_count": 90,
   "id": "congressional-filling",
   "metadata": {},
   "outputs": [
    {
     "data": {
      "text/plain": [
       "15.000000    194008\n",
       "17.000000    168547\n",
       "11.000000    156586\n",
       "10.000000    156016\n",
       "12.000000    153672\n",
       "              ...  \n",
       "0.700000        272\n",
       "0.566667        271\n",
       "0.633333        259\n",
       "0.583333        257\n",
       "0.016667        185\n",
       "Name: TRAVEL_TIME, Length: 3764, dtype: int64"
      ]
     },
     "execution_count": 90,
     "metadata": {},
     "output_type": "execute_result"
    }
   ],
   "source": [
    "final.TRAVEL_TIME.value_counts()"
   ]
  },
  {
   "cell_type": "code",
   "execution_count": 53,
   "id": "killing-ethiopia",
   "metadata": {},
   "outputs": [
    {
     "data": {
      "text/plain": [
       "5.0     21489113\n",
       "7.5     18930132\n",
       "10.0    12928341\n",
       "12.5     7961829\n",
       "2.5      5593472\n",
       "15.0     4754741\n",
       "17.5     2943769\n",
       "20.0     2114741\n",
       "22.5     1759817\n",
       "25.0     1429325\n",
       "27.5     1054707\n",
       "0.0       892405\n",
       "30.0      735754\n",
       "32.5      503842\n",
       "35.0      344801\n",
       "37.5      231648\n",
       "40.0      151817\n",
       "42.5      110111\n",
       "45.0       89243\n",
       "47.5       71753\n",
       "50.0       59828\n",
       "Name: FARE, dtype: int64"
      ]
     },
     "execution_count": 53,
     "metadata": {},
     "output_type": "execute_result"
    }
   ],
   "source": [
    "final.FARE.value_counts()"
   ]
  },
  {
   "cell_type": "code",
   "execution_count": 104,
   "id": "electoral-movement",
   "metadata": {},
   "outputs": [],
   "source": [
    "final = final[final['Fare (Dollars)'] <= 50]"
   ]
  },
  {
   "cell_type": "code",
   "execution_count": 102,
   "id": "rubber-bandwidth",
   "metadata": {},
   "outputs": [
    {
     "data": {
      "text/plain": [
       "97671415"
      ]
     },
     "execution_count": 102,
     "metadata": {},
     "output_type": "execute_result"
    }
   ],
   "source": [
    "len(final['Fare'])"
   ]
  },
  {
   "cell_type": "code",
   "execution_count": 103,
   "id": "reverse-backing",
   "metadata": {},
   "outputs": [
    {
     "data": {
      "text/plain": [
       "97018368"
      ]
     },
     "execution_count": 103,
     "metadata": {},
     "output_type": "execute_result"
    }
   ],
   "source": [
    "len(final[final['Fare']<= 50])"
   ]
  },
  {
   "cell_type": "code",
   "execution_count": 105,
   "id": "needed-skating",
   "metadata": {},
   "outputs": [
    {
     "data": {
      "text/plain": [
       "<seaborn.axisgrid.FacetGrid at 0x1d192eee6d8>"
      ]
     },
     "execution_count": 105,
     "metadata": {},
     "output_type": "execute_result"
    },
    {
     "data": {
      "image/png": "[encoded data removed]",
      "text/plain": [
       "<Figure size 508.625x360 with 1 Axes>"
      ]
     },
     "metadata": {
      "needs_background": "light"
     },
     "output_type": "display_data"
    }
   ],
   "source": [
    "sns.displot(final, stat = 'count', multiple = 'stack', x = 'Fare (Dollars)',kind = 'hist',bins = 20,\n",
    "             palette = 'deep', hue = 'Trip Category', element = 'bars',legend = True)\n"
   ]
  },
  {
   "cell_type": "code",
   "execution_count": null,
   "id": "optical-metallic",
   "metadata": {},
   "outputs": [],
   "source": []
  },
  {
   "cell_type": "code",
   "execution_count": 107,
   "id": "competitive-example",
   "metadata": {},
   "outputs": [],
   "source": [
    "final = final[final['Trip Length (Miles)'] <= 40]"
   ]
  },
  {
   "cell_type": "code",
   "execution_count": 110,
   "id": "adaptive-myrtle",
   "metadata": {},
   "outputs": [
    {
     "data": {
      "text/plain": [
       "16.7762707692901"
      ]
     },
     "execution_count": 110,
     "metadata": {},
     "output_type": "execute_result"
    }
   ],
   "source": [
    "df4.TRAVEL_TIME.mean()"
   ]
  },
  {
   "cell_type": "code",
   "execution_count": 108,
   "id": "recovered-edmonton",
   "metadata": {},
   "outputs": [
    {
     "data": {
      "text/plain": [
       "<seaborn.axisgrid.FacetGrid at 0x1d3d6e03eb8>"
      ]
     },
     "execution_count": 108,
     "metadata": {},
     "output_type": "execute_result"
    },
    {
     "data": {
      "image/png": "[encoded data removed]",
      "text/plain": [
       "<Figure size 508.625x360 with 1 Axes>"
      ]
     },
     "metadata": {
      "needs_background": "light"
     },
     "output_type": "display_data"
    }
   ],
   "source": [
    "sns.displot(final, stat = 'count', multiple = 'stack', x = 'Trip Length (Miles)',kde=False, bins = 40,\n",
    "             palette = 'deep', hue = 'Trip Category', element = 'bars',legend = True)"
   ]
  },
  {
   "cell_type": "code",
   "execution_count": null,
   "id": "level-yellow",
   "metadata": {},
   "outputs": [],
   "source": [
    "final.TRIP_MILES.value_counts()"
   ]
  },
  {
   "cell_type": "markdown",
   "id": "outstanding-amazon",
   "metadata": {},
   "source": [
    "# External vs Internal Visualizations"
   ]
  },
  {
   "cell_type": "code",
   "execution_count": 5,
   "id": "elder-subdivision",
   "metadata": {},
   "outputs": [
    {
     "name": "stdout",
     "output_type": "stream",
     "text": [
      "The history saving thread hit an unexpected error (OperationalError('database or disk is full',)).History will not be written to the database.\n"
     ]
    }
   ],
   "source": [
    "store = pd.HDFStore('D:/TNC-Demand-Model/Inputs/Chicago Ride-Hailing/Chicago_TNC_Trips_20.H5')"
   ]
  },
  {
   "cell_type": "code",
   "execution_count": 6,
   "id": "choice-pepper",
   "metadata": {},
   "outputs": [],
   "source": [
    "tods = [1,2,3,4,5]"
   ]
  },
  {
   "cell_type": "code",
   "execution_count": 7,
   "id": "smoking-fundamental",
   "metadata": {},
   "outputs": [],
   "source": [
    "df2 = pd.DataFrame()\n",
    "for tod in tods:\n",
    "    print('Working on TOD ' + str(tod))\n",
    "    df = store.select(key = 'Weekday_' + str(tod), columns = ['Pickup Census Tract','Dropoff Census Tract','MONTH','YEAR','Pickup Community Area','Dropoff Community Area','Trip Seconds','Trip Miles','Fare'])\n",
    "    df2 = df2.append(df)"
   ]
  },
  {
   "cell_type": "code",
   "execution_count": null,
   "id": "convertible-involvement",
   "metadata": {},
   "outputs": [],
   "source": [
    "store.close()"
   ]
  },
  {
   "cell_type": "code",
   "execution_count": 8,
   "id": "secondary-biotechnology",
   "metadata": {},
   "outputs": [],
   "source": [
    "df3 = df2[(~np.isnan(df2['Pickup Census Tract']))&(~np.isnan(df2['Dropoff Census Tract']))]"
   ]
  },
  {
   "cell_type": "code",
   "execution_count": 9,
   "id": "going-controversy",
   "metadata": {},
   "outputs": [],
   "source": [
    "df_external = df2[(np.isnan(df2['Pickup Community Area']))|(np.isnan(df2['Dropoff Community Area']))]"
   ]
  },
  {
   "cell_type": "code",
   "execution_count": 10,
   "id": "every-malawi",
   "metadata": {},
   "outputs": [],
   "source": [
    "df_internal = df2[(~np.isnan(df2['Pickup Community Area']))&(~np.isnan(df2['Dropoff Community Area']))]"
   ]
  },
  {
   "cell_type": "code",
   "execution_count": 11,
   "id": "temporal-invitation",
   "metadata": {},
   "outputs": [
    {
     "data": {
      "text/plain": [
       "13470786"
      ]
     },
     "execution_count": 11,
     "metadata": {},
     "output_type": "execute_result"
    }
   ],
   "source": [
    "len(df_external)"
   ]
  },
  {
   "cell_type": "code",
   "execution_count": 12,
   "id": "accepting-trailer",
   "metadata": {},
   "outputs": [
    {
     "data": {
      "text/plain": [
       "84703806"
      ]
     },
     "execution_count": 12,
     "metadata": {},
     "output_type": "execute_result"
    }
   ],
   "source": [
    "len(df_internal)"
   ]
  },
  {
   "cell_type": "code",
   "execution_count": 13,
   "id": "local-percentage",
   "metadata": {},
   "outputs": [
    {
     "data": {
      "text/plain": [
       "98174592"
      ]
     },
     "execution_count": 13,
     "metadata": {},
     "output_type": "execute_result"
    }
   ],
   "source": [
    "len(df2)"
   ]
  },
  {
   "cell_type": "code",
   "execution_count": 14,
   "id": "federal-ready",
   "metadata": {},
   "outputs": [
    {
     "data": {
      "text/plain": [
       "65208585"
      ]
     },
     "execution_count": 14,
     "metadata": {},
     "output_type": "execute_result"
    }
   ],
   "source": [
    "len(df3)"
   ]
  },
  {
   "cell_type": "code",
   "execution_count": 15,
   "id": "rural-kinase",
   "metadata": {},
   "outputs": [
    {
     "data": {
      "text/plain": [
       "98174592"
      ]
     },
     "execution_count": 15,
     "metadata": {},
     "output_type": "execute_result"
    }
   ],
   "source": [
    "len(df2)"
   ]
  },
  {
   "cell_type": "code",
   "execution_count": 16,
   "id": "geographic-quarter",
   "metadata": {},
   "outputs": [],
   "source": [
    "df_external_suppressed = df_external[(np.isnan(df_external['Pickup Census Tract']))&(np.isnan(df_external['Dropoff Census Tract']))]"
   ]
  },
  {
   "cell_type": "code",
   "execution_count": 17,
   "id": "trained-warning",
   "metadata": {},
   "outputs": [
    {
     "data": {
      "text/plain": [
       "4831124"
      ]
     },
     "execution_count": 17,
     "metadata": {},
     "output_type": "execute_result"
    }
   ],
   "source": [
    "len(df_external_suppressed)"
   ]
  },
  {
   "cell_type": "code",
   "execution_count": 61,
   "id": "accomplished-academy",
   "metadata": {},
   "outputs": [],
   "source": [
    "df_external['EXTERNAL_TRIPS'] = 1\n",
    "#df_external['DAY'] = df_external['Trip Start Timestamp'].dt.day\n",
    "#df_external['MINUTE'] = df_external['Trip Start Timestamp'].dt.minute\n"
   ]
  },
  {
   "cell_type": "code",
   "execution_count": 19,
   "id": "adjustable-framework",
   "metadata": {},
   "outputs": [
    {
     "ename": "KeyError",
     "evalue": "'DAY'",
     "output_type": "error",
     "traceback": [
      "\u001b[1;31m---------------------------------------------------------------------------\u001b[0m",
      "\u001b[1;31mKeyError\u001b[0m                                  Traceback (most recent call last)",
      "\u001b[1;32m<ipython-input-19-18e988aa1b34>\u001b[0m in \u001b[0;36m<module>\u001b[1;34m\u001b[0m\n\u001b[1;32m----> 1\u001b[1;33m \u001b[0mdf_external_pickup\u001b[0m \u001b[1;33m=\u001b[0m \u001b[0mdf_external\u001b[0m\u001b[1;33m.\u001b[0m\u001b[0mgroupby\u001b[0m\u001b[1;33m(\u001b[0m\u001b[0mby\u001b[0m \u001b[1;33m=\u001b[0m \u001b[1;33m[\u001b[0m\u001b[1;34m'MONTH'\u001b[0m\u001b[1;33m,\u001b[0m\u001b[1;34m'YEAR'\u001b[0m\u001b[1;33m,\u001b[0m\u001b[1;34m'DAY'\u001b[0m\u001b[1;33m,\u001b[0m\u001b[1;34m'Pickup Community Area'\u001b[0m\u001b[1;33m]\u001b[0m\u001b[1;33m,\u001b[0m\u001b[0mas_index\u001b[0m \u001b[1;33m=\u001b[0m \u001b[1;32mFalse\u001b[0m\u001b[1;33m)\u001b[0m\u001b[1;33m.\u001b[0m\u001b[0msum\u001b[0m\u001b[1;33m(\u001b[0m\u001b[1;33m)\u001b[0m\u001b[1;33m\u001b[0m\u001b[1;33m\u001b[0m\u001b[0m\n\u001b[0m",
      "\u001b[1;32m~\\AppData\\Roaming\\Python\\Python36\\site-packages\\pandas\\core\\frame.py\u001b[0m in \u001b[0;36mgroupby\u001b[1;34m(self, by, axis, level, as_index, sort, group_keys, squeeze, observed, dropna)\u001b[0m\n\u001b[0;32m   6523\u001b[0m             \u001b[0msqueeze\u001b[0m\u001b[1;33m=\u001b[0m\u001b[0msqueeze\u001b[0m\u001b[1;33m,\u001b[0m\u001b[1;33m\u001b[0m\u001b[1;33m\u001b[0m\u001b[0m\n\u001b[0;32m   6524\u001b[0m             \u001b[0mobserved\u001b[0m\u001b[1;33m=\u001b[0m\u001b[0mobserved\u001b[0m\u001b[1;33m,\u001b[0m\u001b[1;33m\u001b[0m\u001b[1;33m\u001b[0m\u001b[0m\n\u001b[1;32m-> 6525\u001b[1;33m             \u001b[0mdropna\u001b[0m\u001b[1;33m=\u001b[0m\u001b[0mdropna\u001b[0m\u001b[1;33m,\u001b[0m\u001b[1;33m\u001b[0m\u001b[1;33m\u001b[0m\u001b[0m\n\u001b[0m\u001b[0;32m   6526\u001b[0m         )\n\u001b[0;32m   6527\u001b[0m \u001b[1;33m\u001b[0m\u001b[0m\n",
      "\u001b[1;32m~\\AppData\\Roaming\\Python\\Python36\\site-packages\\pandas\\core\\groupby\\groupby.py\u001b[0m in \u001b[0;36m__init__\u001b[1;34m(self, obj, keys, axis, level, grouper, exclusions, selection, as_index, sort, group_keys, squeeze, observed, mutated, dropna)\u001b[0m\n\u001b[0;32m    531\u001b[0m                 \u001b[0mobserved\u001b[0m\u001b[1;33m=\u001b[0m\u001b[0mobserved\u001b[0m\u001b[1;33m,\u001b[0m\u001b[1;33m\u001b[0m\u001b[1;33m\u001b[0m\u001b[0m\n\u001b[0;32m    532\u001b[0m                 \u001b[0mmutated\u001b[0m\u001b[1;33m=\u001b[0m\u001b[0mself\u001b[0m\u001b[1;33m.\u001b[0m\u001b[0mmutated\u001b[0m\u001b[1;33m,\u001b[0m\u001b[1;33m\u001b[0m\u001b[1;33m\u001b[0m\u001b[0m\n\u001b[1;32m--> 533\u001b[1;33m                 \u001b[0mdropna\u001b[0m\u001b[1;33m=\u001b[0m\u001b[0mself\u001b[0m\u001b[1;33m.\u001b[0m\u001b[0mdropna\u001b[0m\u001b[1;33m,\u001b[0m\u001b[1;33m\u001b[0m\u001b[1;33m\u001b[0m\u001b[0m\n\u001b[0m\u001b[0;32m    534\u001b[0m             )\n\u001b[0;32m    535\u001b[0m \u001b[1;33m\u001b[0m\u001b[0m\n",
      "\u001b[1;32m~\\AppData\\Roaming\\Python\\Python36\\site-packages\\pandas\\core\\groupby\\grouper.py\u001b[0m in \u001b[0;36mget_grouper\u001b[1;34m(obj, key, axis, level, sort, observed, mutated, validate, dropna)\u001b[0m\n\u001b[0;32m    784\u001b[0m                 \u001b[0min_axis\u001b[0m\u001b[1;33m,\u001b[0m \u001b[0mname\u001b[0m\u001b[1;33m,\u001b[0m \u001b[0mlevel\u001b[0m\u001b[1;33m,\u001b[0m \u001b[0mgpr\u001b[0m \u001b[1;33m=\u001b[0m \u001b[1;32mFalse\u001b[0m\u001b[1;33m,\u001b[0m \u001b[1;32mNone\u001b[0m\u001b[1;33m,\u001b[0m \u001b[0mgpr\u001b[0m\u001b[1;33m,\u001b[0m \u001b[1;32mNone\u001b[0m\u001b[1;33m\u001b[0m\u001b[1;33m\u001b[0m\u001b[0m\n\u001b[0;32m    785\u001b[0m             \u001b[1;32melse\u001b[0m\u001b[1;33m:\u001b[0m\u001b[1;33m\u001b[0m\u001b[1;33m\u001b[0m\u001b[0m\n\u001b[1;32m--> 786\u001b[1;33m                 \u001b[1;32mraise\u001b[0m \u001b[0mKeyError\u001b[0m\u001b[1;33m(\u001b[0m\u001b[0mgpr\u001b[0m\u001b[1;33m)\u001b[0m\u001b[1;33m\u001b[0m\u001b[1;33m\u001b[0m\u001b[0m\n\u001b[0m\u001b[0;32m    787\u001b[0m         \u001b[1;32melif\u001b[0m \u001b[0misinstance\u001b[0m\u001b[1;33m(\u001b[0m\u001b[0mgpr\u001b[0m\u001b[1;33m,\u001b[0m \u001b[0mGrouper\u001b[0m\u001b[1;33m)\u001b[0m \u001b[1;32mand\u001b[0m \u001b[0mgpr\u001b[0m\u001b[1;33m.\u001b[0m\u001b[0mkey\u001b[0m \u001b[1;32mis\u001b[0m \u001b[1;32mnot\u001b[0m \u001b[1;32mNone\u001b[0m\u001b[1;33m:\u001b[0m\u001b[1;33m\u001b[0m\u001b[1;33m\u001b[0m\u001b[0m\n\u001b[0;32m    788\u001b[0m             \u001b[1;31m# Add key to exclusions\u001b[0m\u001b[1;33m\u001b[0m\u001b[1;33m\u001b[0m\u001b[1;33m\u001b[0m\u001b[0m\n",
      "\u001b[1;31mKeyError\u001b[0m: 'DAY'"
     ]
    }
   ],
   "source": [
    "df_external_pickup = df_external.groupby(by = ['MONTH','YEAR','DAY','Pickup Community Area'],as_index = False).sum()"
   ]
  },
  {
   "cell_type": "code",
   "execution_count": 67,
   "id": "given-singer",
   "metadata": {},
   "outputs": [],
   "source": [
    "#df_external_pickup_avg = df_external_pickup.groupby(by = ['MONTH','YEAR','Pickup Community Area'],as_index = False).mean()\n",
    "df_external_pickup_sum = df_external.groupby(by = ['MONTH','YEAR','Pickup Community Area'],as_index = False).sum()"
   ]
  },
  {
   "cell_type": "code",
   "execution_count": 65,
   "id": "hundred-navigator",
   "metadata": {},
   "outputs": [],
   "source": [
    "#df_external_dropoff = df_external.groupby(by = ['MONTH','YEAR','DAY','Dropoff Community Area'],as_index = False).sum()\n",
    "#df_external_dropoff_avg = df_external_dropoff.groupby(by = ['MONTH','YEAR','Dropoff Community Area'],as_index = False).mean()\n",
    "df_external_dropoff_sum = df_external.groupby(by = ['MONTH','YEAR','Dropoff Community Area'],as_index = False).sum()"
   ]
  },
  {
   "cell_type": "code",
   "execution_count": 64,
   "id": "institutional-coral",
   "metadata": {},
   "outputs": [],
   "source": [
    "df= pd.DataFrame()"
   ]
  },
  {
   "cell_type": "code",
   "execution_count": 66,
   "id": "cleared-queensland",
   "metadata": {},
   "outputs": [],
   "source": [
    "df_internal['INTERNAL_TRIPS'] = 1\n",
    "#df_internal['DAY'] = df_internal['Trip Start Timestamp'].dt.day\n",
    "#df_internal['MINUTE'] = df_internal['Trip Start Timestamp'].dt.minute\n"
   ]
  },
  {
   "cell_type": "code",
   "execution_count": 68,
   "id": "efficient-bobby",
   "metadata": {},
   "outputs": [],
   "source": [
    "#df_internal_pickup = df_internal.groupby(by = ['MONTH','YEAR','DAY','Pickup Community Area'],as_index = False).sum()\n",
    "#df_internal_pickup_avg = df_internal_pickup.groupby(by = ['MONTH','YEAR','Pickup Community Area'],as_index = False).mean()\n",
    "df_internal_pickup_sum = df_internal.groupby(by = ['MONTH','YEAR','Pickup Community Area'],as_index = False).sum()"
   ]
  },
  {
   "cell_type": "code",
   "execution_count": 69,
   "id": "weekly-collective",
   "metadata": {},
   "outputs": [],
   "source": [
    "#df_internal_dropoff = df_internal.groupby(by = ['MONTH','YEAR','DAY','Dropoff Community Area'],as_index = False).sum()\n",
    "#df_internal_dropoff_avg = df_internal_dropoff.groupby(by = ['MONTH','YEAR','Dropoff Community Area'],as_index = False).mean()\n",
    "df_internal_dropoff_sum = df_internal.groupby(by = ['MONTH','YEAR','Dropoff Community Area'],as_index = False).sum()"
   ]
  },
  {
   "cell_type": "code",
   "execution_count": 70,
   "id": "geological-monster",
   "metadata": {},
   "outputs": [],
   "source": [
    "join_pickup = df_internal_pickup_sum.merge(df_external_pickup_sum, on = ['MONTH','YEAR','Pickup Community Area'])\n",
    "join_dropoff = df_internal_dropoff_sum.merge(df_external_dropoff_sum, on = ['MONTH','YEAR','Dropoff Community Area'])\n"
   ]
  },
  {
   "cell_type": "code",
   "execution_count": 71,
   "id": "abstract-ballet",
   "metadata": {},
   "outputs": [],
   "source": [
    "join_pickup['Share of Trips External'] = join_pickup['EXTERNAL_TRIPS']/(join_pickup['INTERNAL_TRIPS'] + join_pickup['EXTERNAL_TRIPS'])\n",
    "join_dropoff['Share of Trips External'] = join_dropoff['EXTERNAL_TRIPS']/(join_dropoff['INTERNAL_TRIPS'] + join_dropoff['EXTERNAL_TRIPS'])\n"
   ]
  },
  {
   "cell_type": "code",
   "execution_count": 72,
   "id": "timely-commander",
   "metadata": {},
   "outputs": [],
   "source": [
    "\n",
    "m = folium.Map([41.8781, -87.6298],  tiles= None, zoom_start=11)\n",
    "\n",
    "# Add the color for the chloropleth:\n",
    "folium.Choropleth(\n",
    " geo_data=com_area,\n",
    " name= \"Share of Pickups Being Suppressed\",\n",
    " data=join_pickup,\n",
    " columns = ['Pickup Community Area', 'Share of Trips External'],\n",
    " key_on='feature.properties.area_num_1',\n",
    " fill_color='BuGn',\n",
    " fill_opacity=0.6,\n",
    " line_opacity=0.2,\n",
    " bins = 4,\n",
    " legend_name='Share of Pickups With External Dropoff',\n",
    " highlight = True\n",
    ").add_to(m)\n",
    "\n",
    "\n",
    "\n",
    "#feature_group = folium.FeatureGroup(name='Census Tract Centroids', show = False)\n",
    "\n",
    "\n",
    "#for tract2 in centroids.GEOID:\n",
    "#    row = centroids[centroids['GEOID'] == tract2]\n",
    "#    folium.CircleMarker([row['Y'], row['X']], popup = str(int(row['GEOID'].values[0])), radius = 1, fill = True, fill_color = 'grey', color = 'grey').add_to(feature_group)\n",
    "\n",
    "#m.add_child(feature_group)\n",
    "\n",
    "\n",
    "folium.LayerControl().add_to(m)\n",
    "\n",
    "m.save('D:/TNC-Demand-Model/Data Exploration/Share_of_Pickups_External.html')\n"
   ]
  },
  {
   "cell_type": "code",
   "execution_count": 73,
   "id": "efficient-blues",
   "metadata": {},
   "outputs": [],
   "source": [
    "\n",
    "m = folium.Map([41.8781, -87.6298] , zoom_start=11)\n",
    "\n",
    "# Add the color for the chloropleth:\n",
    "folium.Choropleth(\n",
    " geo_data=com_area,\n",
    " name= \"Total External Trips\",\n",
    " data=join_pickup,\n",
    " columns = ['Pickup Community Area', 'EXTERNAL_TRIPS'],\n",
    " key_on='feature.properties.area_num_1',\n",
    " fill_color='BuGn',\n",
    " fill_opacity=0.6,\n",
    " line_opacity=0.2,\n",
    " legend_name='External Pickups',\n",
    " highlight = True\n",
    ").add_to(m)\n",
    "\n",
    "\n",
    "\n",
    "#feature_group = folium.FeatureGroup(name='Census Tract Centroids', show = False)\n",
    "\n",
    "\n",
    "#for tract2 in centroids.GEOID:\n",
    "#    row = centroids[centroids['GEOID'] == tract2]\n",
    "#    folium.CircleMarker([row['Y'], row['X']], popup = str(int(row['GEOID'].values[0])), radius = 1, fill = True, fill_color = 'grey', color = 'grey').add_to(feature_group)\n",
    "\n",
    "#m.add_child(feature_group)\n",
    "\n",
    "\n",
    "folium.LayerControl().add_to(m)\n",
    "\n",
    "m.save('D:/TNC-Demand-Model/Data Exploration/External_Trips.html')\n"
   ]
  },
  {
   "cell_type": "code",
   "execution_count": 74,
   "id": "plastic-serum",
   "metadata": {},
   "outputs": [],
   "source": [
    "rh_pop = join_pickup[['EXTERNAL_TRIPS','Pickup Community Area']].merge(acs_com, how = 'inner', left_on = 'Pickup Community Area', right_on = 'area_num_1')"
   ]
  },
  {
   "cell_type": "code",
   "execution_count": 75,
   "id": "dominant-finding",
   "metadata": {},
   "outputs": [],
   "source": [
    "rh_pop['PICKUP_PER_PERSON'] = rh_pop['EXTERNAL_TRIPS']/rh_pop['TOTAL_POP']"
   ]
  },
  {
   "cell_type": "code",
   "execution_count": 76,
   "id": "fixed-monaco",
   "metadata": {},
   "outputs": [],
   "source": [
    "\n",
    "m = folium.Map([41.8781, -87.6298],  tiles= None, zoom_start=11)\n",
    "\n",
    "# Add the color for the chloropleth:\n",
    "folium.Choropleth(\n",
    " geo_data=com_area,\n",
    " name= \"Total External Trips\",\n",
    " data=rh_pop,\n",
    " columns = ['Pickup Community Area', 'PICKUP_PER_PERSON'],\n",
    " key_on='feature.properties.area_num_1',\n",
    " fill_color='BuGn',\n",
    " bins = 4,\n",
    " fill_opacity=0.6,\n",
    " line_opacity=0.2,\n",
    " legend_name='External Pickups Per Capita',\n",
    " highlight = True\n",
    ").add_to(m)\n",
    "\n",
    "\n",
    "\n",
    "#feature_group = folium.FeatureGroup(name='Census Tract Centroids', show = False)\n",
    "\n",
    "\n",
    "#for tract2 in centroids.GEOID:\n",
    "#    row = centroids[centroids['GEOID'] == tract2]\n",
    "#    folium.CircleMarker([row['Y'], row['X']], popup = str(int(row['GEOID'].values[0])), radius = 1, fill = True, fill_color = 'grey', color = 'grey').add_to(feature_group)\n",
    "\n",
    "#m.add_child(feature_group)\n",
    "\n",
    "\n",
    "folium.LayerControl().add_to(m)\n",
    "\n",
    "m.save('D:/TNC-Demand-Model/Data Exploration/External_Trips_Per_Capita.html')\n"
   ]
  },
  {
   "cell_type": "code",
   "execution_count": 77,
   "id": "prescription-poker",
   "metadata": {},
   "outputs": [],
   "source": [
    "df_external['TRAVEL_TIME'] = df_external['Trip Seconds']/60\n",
    "df_internal['TRAVEL_TIME'] = df_internal['Trip Seconds']/60\n",
    "\n",
    "df_internal['SPEED'] = df_internal['Trip Miles']/(df_internal['TRAVEL_TIME']/60)\n",
    "df_external['SPEED'] = df_external['Trip Miles']/(df_external['TRAVEL_TIME']/60)"
   ]
  },
  {
   "cell_type": "code",
   "execution_count": 78,
   "id": "radical-necessity",
   "metadata": {},
   "outputs": [],
   "source": [
    "df_external = df_external[df_external['TRAVEL_TIME'] <= 80]\n",
    "df_internal = df_internal[df_internal['TRAVEL_TIME'] <= 80]"
   ]
  },
  {
   "cell_type": "code",
   "execution_count": 79,
   "id": "documented-heather",
   "metadata": {},
   "outputs": [],
   "source": [
    "df_external['EXTERNAL_FLAGGER'] = 1\n",
    "df_internal['EXTERNAL_FLAGGER'] = 0\n"
   ]
  },
  {
   "cell_type": "code",
   "execution_count": 80,
   "id": "strong-digest",
   "metadata": {},
   "outputs": [],
   "source": [
    "final = df_external.append(df_internal)"
   ]
  },
  {
   "cell_type": "code",
   "execution_count": 51,
   "id": "tamil-technical",
   "metadata": {},
   "outputs": [
    {
     "data": {
      "text/plain": [
       "<seaborn.axisgrid.FacetGrid at 0x1eaf0d56358>"
      ]
     },
     "execution_count": 51,
     "metadata": {},
     "output_type": "execute_result"
    },
    {
     "data": {
      "image/png": "[encoded data removed]",
      "text/plain": [
       "<Figure size 471.875x360 with 1 Axes>"
      ]
     },
     "metadata": {
      "needs_background": "light"
     },
     "output_type": "display_data"
    }
   ],
   "source": [
    "sns.displot(final, stat = 'count', multiple = 'stack', x = 'TRAVEL_TIME',kde=False, bins = 80,\n",
    "             palette = 'deep', hue = 'EXTERNAL_FLAGGER', element = 'bars',legend = True)"
   ]
  },
  {
   "cell_type": "code",
   "execution_count": 52,
   "id": "minute-bonus",
   "metadata": {},
   "outputs": [],
   "source": [
    "final = final[final['Fare'] <= 50]"
   ]
  },
  {
   "cell_type": "code",
   "execution_count": 53,
   "id": "traditional-excerpt",
   "metadata": {},
   "outputs": [],
   "source": [
    "final['FARE'] = final['Fare']"
   ]
  },
  {
   "cell_type": "code",
   "execution_count": 54,
   "id": "tribal-recorder",
   "metadata": {},
   "outputs": [
    {
     "data": {
      "text/plain": [
       "<seaborn.axisgrid.FacetGrid at 0x1eaf1055518>"
      ]
     },
     "execution_count": 54,
     "metadata": {},
     "output_type": "execute_result"
    },
    {
     "data": {
      "image/png": "[encoded data removed]",
      "text/plain": [
       "<Figure size 471.875x360 with 1 Axes>"
      ]
     },
     "metadata": {
      "needs_background": "light"
     },
     "output_type": "display_data"
    }
   ],
   "source": [
    "sns.displot(final, stat = 'count', multiple = 'stack', x = 'FARE',kind = 'hist',bins = 20,\n",
    "             palette = 'deep', hue = 'EXTERNAL_FLAGGER')"
   ]
  },
  {
   "cell_type": "code",
   "execution_count": 57,
   "id": "painted-shame",
   "metadata": {},
   "outputs": [],
   "source": [
    "df3 = pd.DataFrame()"
   ]
  },
  {
   "cell_type": "code",
   "execution_count": 81,
   "id": "foreign-memorial",
   "metadata": {},
   "outputs": [],
   "source": [
    "final = final[final['Trip Miles'] <= 40]"
   ]
  },
  {
   "cell_type": "code",
   "execution_count": 82,
   "id": "natural-copying",
   "metadata": {},
   "outputs": [],
   "source": [
    "final['TRIP_MILES'] = final['Trip Miles']"
   ]
  },
  {
   "cell_type": "code",
   "execution_count": 83,
   "id": "incorrect-armstrong",
   "metadata": {},
   "outputs": [
    {
     "data": {
      "text/plain": [
       "<seaborn.axisgrid.FacetGrid at 0x1eaf130e048>"
      ]
     },
     "execution_count": 83,
     "metadata": {},
     "output_type": "execute_result"
    },
    {
     "data": {
      "image/png": "[encoded data removed]",
      "text/plain": [
       "<Figure size 471.875x360 with 1 Axes>"
      ]
     },
     "metadata": {
      "needs_background": "light"
     },
     "output_type": "display_data"
    }
   ],
   "source": [
    "sns.displot(final, stat = 'count', multiple = 'stack', x = 'TRIP_MILES',kde=False, bins = 40,\n",
    "             palette = 'deep', hue = 'EXTERNAL_FLAGGER', element = 'bars',legend = True)"
   ]
  },
  {
   "cell_type": "code",
   "execution_count": null,
   "id": "abandoned-enclosure",
   "metadata": {},
   "outputs": [],
   "source": []
  },
  {
   "cell_type": "code",
   "execution_count": null,
   "id": "distinct-stupid",
   "metadata": {},
   "outputs": [],
   "source": [
    "df_external['HOUR'] = df_external['Trip End Timestamp'].dt.hour"
   ]
  },
  {
   "cell_type": "code",
   "execution_count": null,
   "id": "knowing-equipment",
   "metadata": {},
   "outputs": [],
   "source": []
  },
  {
   "cell_type": "code",
   "execution_count": null,
   "id": "turkish-sapphire",
   "metadata": {},
   "outputs": [],
   "source": [
    "df_external[['HOUR','EXTERNAL_TRIPS']].groupby(by = 'HOUR').sum()"
   ]
  },
  {
   "cell_type": "code",
   "execution_count": null,
   "id": "short-oxide",
   "metadata": {},
   "outputs": [],
   "source": []
  },
  {
   "cell_type": "code",
   "execution_count": null,
   "id": "legislative-victorian",
   "metadata": {},
   "outputs": [],
   "source": [
    "df_unsup['HOUR'] = df_unsup['Trip End Timestamp'].dt.hour"
   ]
  },
  {
   "cell_type": "code",
   "execution_count": null,
   "id": "prerequisite-optimum",
   "metadata": {},
   "outputs": [],
   "source": [
    "df4['HOUR'] = df4['Trip End Timestamp'].dt.hour"
   ]
  },
  {
   "cell_type": "code",
   "execution_count": null,
   "id": "daily-christian",
   "metadata": {},
   "outputs": [],
   "source": [
    "df_unsup[['HOUR','UNSUPPRESSED_TRIPS']].groupby(by = 'HOUR').sum()"
   ]
  },
  {
   "cell_type": "code",
   "execution_count": null,
   "id": "intimate-conference",
   "metadata": {},
   "outputs": [],
   "source": [
    "df4[['HOUR','SUPPRESSED_TRIPS']].groupby(by = 'HOUR').sum()"
   ]
  },
  {
   "cell_type": "code",
   "execution_count": null,
   "id": "encouraging-position",
   "metadata": {},
   "outputs": [],
   "source": []
  }
 ],
 "metadata": {
  "kernelspec": {
   "display_name": "Python 3",
   "language": "python",
   "name": "python3"
  },
  "language_info": {
   "codemirror_mode": {
    "name": "ipython",
    "version": 3
   },
   "file_extension": ".py",
   "mimetype": "text/x-python",
   "name": "python",
   "nbconvert_exporter": "python",
   "pygments_lexer": "ipython3",
   "version": "3.6.12"
  }
 },
 "nbformat": 4,
 "nbformat_minor": 5
}
