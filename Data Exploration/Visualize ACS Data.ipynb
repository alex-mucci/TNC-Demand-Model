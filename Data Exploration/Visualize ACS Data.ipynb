{
 "cells": [
  {
   "cell_type": "code",
   "execution_count": 1,
   "metadata": {},
   "outputs": [],
   "source": [
    "import pandas as pd\n",
    "import geopandas as gp\n",
    "import folium\n",
    "import numpy as np"
   ]
  },
  {
   "cell_type": "code",
   "execution_count": 2,
   "metadata": {},
   "outputs": [],
   "source": [
    "year = 2018"
   ]
  },
  {
   "cell_type": "code",
   "execution_count": 6,
   "metadata": {
    "scrolled": true
   },
   "outputs": [],
   "source": [
    "acs = pd.read_csv('D:/TNC-Demand-Model/Outputs/Chicago_ACS_DATA.csv')"
   ]
  },
  {
   "cell_type": "code",
   "execution_count": 9,
   "metadata": {},
   "outputs": [],
   "source": [
    "tracts = gp.read_file('D:/TNC-Demand-Model/Inputs/Census Shapefiles/Illinois/Chicago Tracts/geo_export_558aad9f-98d8-4dd5-a6b1-c1730155d596.shp')"
   ]
  },
  {
   "cell_type": "code",
   "execution_count": null,
   "metadata": {},
   "outputs": [],
   "source": []
  },
  {
   "cell_type": "code",
   "execution_count": null,
   "metadata": {},
   "outputs": [],
   "source": []
  },
  {
   "cell_type": "code",
   "execution_count": 4,
   "metadata": {},
   "outputs": [
    {
     "ename": "NameError",
     "evalue": "name 'tracts' is not defined",
     "output_type": "error",
     "traceback": [
      "\u001b[1;31m---------------------------------------------------------------------------\u001b[0m",
      "\u001b[1;31mNameError\u001b[0m                                 Traceback (most recent call last)",
      "\u001b[1;32m<ipython-input-4-e5c893d10348>\u001b[0m in \u001b[0;36m<module>\u001b[1;34m\u001b[0m\n\u001b[1;32m----> 1\u001b[1;33m \u001b[0mtracts\u001b[0m\u001b[1;33m.\u001b[0m\u001b[0mgeoid10\u001b[0m\u001b[1;33m\u001b[0m\u001b[1;33m\u001b[0m\u001b[0m\n\u001b[0m",
      "\u001b[1;31mNameError\u001b[0m: name 'tracts' is not defined"
     ]
    }
   ],
   "source": [
    "tracts.geoid10"
   ]
  },
  {
   "cell_type": "code",
   "execution_count": 10,
   "metadata": {},
   "outputs": [],
   "source": [
    "acs['CENSUS_TRACT'] = acs.CENSUS_TRACT.astype(str)"
   ]
  },
  {
   "cell_type": "code",
   "execution_count": 13,
   "metadata": {},
   "outputs": [],
   "source": [
    "geo_area = gp.read_file('D:/TNC-Demand-Model/Inputs/Census Shapefiles/Illinois/Tracts/tl_2019_17_tract.shp')\n",
    "\n",
    "geo_area['SQUARE_MILES_LAND'] = geo_area['ALAND']*3.86102e-7\n",
    "geo_area['GEOID'] = geo_area.GEOID.astype(str)\n",
    "\n",
    "acs = acs.merge(geo_area[['GEOID','SQUARE_MILES_LAND']], how = 'left', left_on = 'CENSUS_TRACT', right_on = 'GEOID')"
   ]
  },
  {
   "cell_type": "code",
   "execution_count": 14,
   "metadata": {},
   "outputs": [],
   "source": [
    "acs['TOTAL_POP_PER_SQ_MILE'] = acs['TOTAL_POP'] / acs['SQUARE_MILES_LAND']\n",
    "acs['TOTAL_HHLDS_PER_SQ_MILE'] = acs['TOTAL_HHLDS'] / acs['SQUARE_MILES_LAND']"
   ]
  },
  {
   "cell_type": "code",
   "execution_count": null,
   "metadata": {},
   "outputs": [],
   "source": []
  },
  {
   "cell_type": "code",
   "execution_count": 15,
   "metadata": {},
   "outputs": [],
   "source": [
    "normalize_vars = ['AGE_25_34', 'TOTAL_POP_25P_BACHELORS_HIGHER','TOTAL_HHLDS_200KP' ]\n",
    "\n",
    "for var in normalize_vars:\n",
    "    acs[var] = acs[var].replace('-',np.nan)\n",
    "    acs[var] = acs[var].replace('250,000+','250000')\n",
    "    acs[var] = acs[var].astype(float)\n",
    "    acs[var + '_PER_POP'] = acs[var]/acs['TOTAL_POP']"
   ]
  },
  {
   "cell_type": "code",
   "execution_count": null,
   "metadata": {},
   "outputs": [],
   "source": []
  },
  {
   "cell_type": "code",
   "execution_count": 17,
   "metadata": {},
   "outputs": [],
   "source": [
    "centroids = pd.read_csv('D:/TNC-Demand-Model/otp/points.csv')\n",
    "\n",
    "centroids = gp.GeoDataFrame(centroids)"
   ]
  },
  {
   "cell_type": "code",
   "execution_count": null,
   "metadata": {},
   "outputs": [],
   "source": []
  },
  {
   "cell_type": "code",
   "execution_count": 18,
   "metadata": {},
   "outputs": [],
   "source": [
    "acs['HHLDS_0_VEH_PER_HHLD'] = acs['HHLDS_0_VEH']/acs['TOTAL_HHLDS']"
   ]
  },
  {
   "cell_type": "code",
   "execution_count": 19,
   "metadata": {},
   "outputs": [],
   "source": [
    "acs['TOTAL_HHLDS_100K_150K'] = acs['TOTAL_HHLDS_100K_150K'].replace('-',np.nan)\n",
    "acs['TOTAL_HHLDS_150K_200K'] = acs['TOTAL_HHLDS_150K_200K'].replace('-',np.nan)\n",
    "acs['TOTAL_HHLDS_200KP'] = acs['TOTAL_HHLDS_200KP'].replace('-',np.nan)\n",
    "\n",
    "acs['TOTAL_HHLDS_100K_150K'] = acs['TOTAL_HHLDS_100K_150K'].astype(float)\n",
    "acs['TOTAL_HHLDS_150K_200K'] = acs['TOTAL_HHLDS_150K_200K'].astype(float)\n",
    "acs['TOTAL_HHLDS_200KP'] = acs['TOTAL_HHLDS_200KP'].astype(float)\n",
    "\n",
    "\n",
    "acs['HHLDS_100KP_PER_HHLD'] = (acs['TOTAL_HHLDS_100K_150K'] +acs['TOTAL_HHLDS_150K_200K'] + acs['TOTAL_HHLDS_200KP'])/acs['TOTAL_HHLDS'] "
   ]
  },
  {
   "cell_type": "code",
   "execution_count": 20,
   "metadata": {},
   "outputs": [],
   "source": [
    "variables = acs.columns.drop(['Unnamed: 0', 'CENSUS_TRACT', 'GEOID'])"
   ]
  },
  {
   "cell_type": "code",
   "execution_count": 28,
   "metadata": {},
   "outputs": [],
   "source": [
    "variables = ['HHLDS_MEAN_INCOME']"
   ]
  },
  {
   "cell_type": "code",
   "execution_count": 21,
   "metadata": {},
   "outputs": [],
   "source": [
    "acs['TOTAL_HHLDS_100K_150K'] = acs['TOTAL_HHLDS_100K_150K'].astype(float)\n",
    "acs['TOTAL_HHLDS_150K_200K'] = acs['TOTAL_HHLDS_150K_200K'].astype(float)\n",
    "acs['TOTAL_HHLDS_200KP'] = acs['TOTAL_HHLDS_200KP'].astype(float)\n"
   ]
  },
  {
   "cell_type": "code",
   "execution_count": 22,
   "metadata": {},
   "outputs": [
    {
     "data": {
      "text/plain": [
       "780       17031804201\n",
       "1081      17031823801\n",
       "2099      17031804201\n",
       "2400      17031823801\n",
       "3418      17031804201\n",
       "             ...     \n",
       "102644    17031823801\n",
       "103662    17031804201\n",
       "103963    17031823801\n",
       "104981    17031804201\n",
       "105282    17031823801\n",
       "Name: GEOID, Length: 160, dtype: object"
      ]
     },
     "execution_count": 22,
     "metadata": {},
     "output_type": "execute_result"
    }
   ],
   "source": [
    "acs[acs['SQUARE_MILES_LAND'] > 10].GEOID.astype(str)"
   ]
  },
  {
   "cell_type": "code",
   "execution_count": 34,
   "metadata": {
    "scrolled": true
   },
   "outputs": [
    {
     "name": "stdout",
     "output_type": "stream",
     "text": [
      "Working on variable HHLDS_MEAN_INCOME\n",
      "466161.0\n",
      "18015.0\n",
      "90198.44885931558\n",
      "[ 18015. 119059. 265489. 466161.]\n"
     ]
    },
    {
     "name": "stderr",
     "output_type": "stream",
     "text": [
      "C:\\Users\\transportlab\\anaconda3\\lib\\site-packages\\folium\\folium.py:413: FutureWarning: The choropleth  method has been deprecated. Instead use the new Choropleth class, which has the same arguments. See the example notebook 'GeoJSON_and_choropleth' for how to do this.\n",
      "  FutureWarning\n"
     ]
    }
   ],
   "source": [
    "for var in variables:\n",
    "    acs[var] = acs[var].replace('-',np.nan)\n",
    "    acs[var] = acs[var].replace('250,000+','250000')\n",
    "\n",
    "    acs[var] = acs[var].astype(float)\n",
    "    print('Working on variable ' + var)\n",
    "    m = folium.Map([41.8781, -87.6298], zoom_start=11)\n",
    "    print(acs[var].max())\n",
    "    print(acs[var].min())\n",
    "    print(acs[var].mean())\n",
    "\n",
    "    bins = np.nanquantile(acs[var], [0, 0.8,0.99,1])\n",
    "    print(bins)\n",
    "    \n",
    "    # Add the color for the chloropleth:\n",
    "    m.choropleth(\n",
    "     geo_data=tracts,\n",
    "     name= var,\n",
    "     data=acs,\n",
    "     columns = ['CENSUS_TRACT', var],\n",
    "     key_on='feature.properties.geoid10',\n",
    "     fill_color='BuGn',\n",
    "     fill_opacity=0.6,\n",
    "     line_opacity=0.2,\n",
    "     bins = bins,\n",
    "     legend_name= var + ' Totals',\n",
    "     highlight = True\n",
    "    )\n",
    "\n",
    "    feature_group = folium.FeatureGroup(name='Census Tract Centroids', show = False)\n",
    "\n",
    "    for tract2 in centroids.GEOID:\n",
    "        row = centroids[centroids['GEOID'] == tract2]\n",
    "        folium.CircleMarker([row['Y'], row['X']], popup = str(int(row['GEOID'].values[0])), radius = 1, fill = True, fill_color = 'grey', color = 'grey').add_to(feature_group)\n",
    "    \n",
    "    m.add_child(feature_group)\n",
    "    \n",
    "    folium.LayerControl().add_to(m)\n",
    "\n",
    "    m.save('D:/TNC-Demand-Model/Data Exploration/ACS Maps/' + str(year) + '/' + var + '_Map.html')\n"
   ]
  },
  {
   "cell_type": "code",
   "execution_count": null,
   "metadata": {},
   "outputs": [],
   "source": []
  },
  {
   "cell_type": "code",
   "execution_count": null,
   "metadata": {},
   "outputs": [],
   "source": []
  }
 ],
 "metadata": {
  "kernelspec": {
   "display_name": "Python 3",
   "language": "python",
   "name": "python3"
  },
  "language_info": {
   "codemirror_mode": {
    "name": "ipython",
    "version": 3
   },
   "file_extension": ".py",
   "mimetype": "text/x-python",
   "name": "python",
   "nbconvert_exporter": "python",
   "pygments_lexer": "ipython3",
   "version": "3.6.12"
  }
 },
 "nbformat": 4,
 "nbformat_minor": 4
}
