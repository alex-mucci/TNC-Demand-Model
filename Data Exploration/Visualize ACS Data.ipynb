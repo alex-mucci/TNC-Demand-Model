{
 "cells": [
  {
   "cell_type": "code",
   "execution_count": 1,
   "metadata": {},
   "outputs": [],
   "source": [
    "import pandas as pd\n",
    "import geopandas as gp\n",
    "import folium\n",
    "import numpy as np"
   ]
  },
  {
   "cell_type": "code",
   "execution_count": 20,
   "metadata": {},
   "outputs": [],
   "source": [
    "year = 2018"
   ]
  },
  {
   "cell_type": "code",
   "execution_count": 21,
   "metadata": {},
   "outputs": [],
   "source": [
    "acs = pd.read_csv('C:/Workspace/TNC-Demand-Model/Outputs/ACS_' + str(year) + '.csv')"
   ]
  },
  {
   "cell_type": "code",
   "execution_count": 22,
   "metadata": {},
   "outputs": [],
   "source": [
    "tracts = gp.read_file('C:/Workspace/TNC-Demand-Model/Inputs/Census Shapefiles/Chicago Tracts/geo_export_558aad9f-98d8-4dd5-a6b1-c1730155d596.shp')"
   ]
  },
  {
   "cell_type": "code",
   "execution_count": null,
   "metadata": {},
   "outputs": [],
   "source": []
  },
  {
   "cell_type": "code",
   "execution_count": null,
   "metadata": {},
   "outputs": [],
   "source": []
  },
  {
   "cell_type": "code",
   "execution_count": 23,
   "metadata": {},
   "outputs": [
    {
     "data": {
      "text/plain": [
       "0      17031842400\n",
       "1      17031840300\n",
       "2      17031841100\n",
       "3      17031841200\n",
       "4      17031839000\n",
       "          ...     \n",
       "796    17031070400\n",
       "797    17031070500\n",
       "798    17031130300\n",
       "799    17031292200\n",
       "800    17031630900\n",
       "Name: geoid10, Length: 801, dtype: object"
      ]
     },
     "execution_count": 23,
     "metadata": {},
     "output_type": "execute_result"
    }
   ],
   "source": [
    "tracts.geoid10"
   ]
  },
  {
   "cell_type": "code",
   "execution_count": 24,
   "metadata": {},
   "outputs": [],
   "source": [
    "acs['CENSUS_TRACT'] = acs.CENSUS_TRACT.astype(str)"
   ]
  },
  {
   "cell_type": "code",
   "execution_count": 25,
   "metadata": {},
   "outputs": [],
   "source": [
    "geo_area = gp.read_file('C:/Workspace/TNC-Demand-Model/Inputs/Census Shapefiles/Tracts/tl_2019_17_tract/tl_2019_17_tract.shp')\n",
    "\n",
    "geo_area['SQUARE_MILES_LAND'] = geo_area['ALAND']*3.86102e-7\n",
    "geo_area['GEOID'] = geo_area.GEOID.astype(str)\n",
    "\n",
    "acs = acs.merge(geo_area[['GEOID','SQUARE_MILES_LAND']], how = 'left', left_on = 'CENSUS_TRACT', right_on = 'GEOID')"
   ]
  },
  {
   "cell_type": "code",
   "execution_count": 26,
   "metadata": {},
   "outputs": [],
   "source": [
    "acs['TOTAL_POP_PER_SQ_MILE'] = acs['TOTAL_POP'] / acs['SQUARE_MILES_LAND']\n",
    "acs['TOTAL_HHLDS_PER_SQ_MILE'] = acs['TOTAL_HHLDS'] / acs['SQUARE_MILES_LAND']"
   ]
  },
  {
   "cell_type": "code",
   "execution_count": null,
   "metadata": {},
   "outputs": [],
   "source": []
  },
  {
   "cell_type": "code",
   "execution_count": 27,
   "metadata": {},
   "outputs": [],
   "source": [
    "normalize_vars = ['AGE_25_34', 'TOTAL_POP_25P_BACHELORS_HIGHER','TOTAL_HHLDS_200KP' ]\n",
    "\n",
    "for var in normalize_vars:\n",
    "    acs[var] = acs[var].replace('-',np.nan)\n",
    "    acs[var] = acs[var].replace('250,000+','250000')\n",
    "    acs[var] = acs[var].astype(float)\n",
    "    acs[var + '_PER_POP'] = acs[var]/acs['TOTAL_POP']"
   ]
  },
  {
   "cell_type": "code",
   "execution_count": null,
   "metadata": {},
   "outputs": [],
   "source": []
  },
  {
   "cell_type": "code",
   "execution_count": 28,
   "metadata": {},
   "outputs": [],
   "source": [
    "centroids = pd.read_csv('C:/Workspace/TNC-Demand-Model/otp/points.csv')\n",
    "\n",
    "centroids = gp.GeoDataFrame(centroids)"
   ]
  },
  {
   "cell_type": "code",
   "execution_count": null,
   "metadata": {},
   "outputs": [],
   "source": []
  },
  {
   "cell_type": "code",
   "execution_count": 29,
   "metadata": {},
   "outputs": [],
   "source": [
    "acs['HHLDS_0_VEH_PER_HHLD'] = acs['HHLDS_0_VEH']/acs['TOTAL_HHLDS']"
   ]
  },
  {
   "cell_type": "code",
   "execution_count": 30,
   "metadata": {},
   "outputs": [],
   "source": [
    "acs['TOTAL_HHLDS_100K_150K'] = acs['TOTAL_HHLDS_100K_150K'].replace('-',np.nan)\n",
    "acs['TOTAL_HHLDS_150K_200K'] = acs['TOTAL_HHLDS_150K_200K'].replace('-',np.nan)\n",
    "acs['TOTAL_HHLDS_200KP'] = acs['TOTAL_HHLDS_200KP'].replace('-',np.nan)\n",
    "\n",
    "acs['TOTAL_HHLDS_100K_150K'] = acs['TOTAL_HHLDS_100K_150K'].astype(float)\n",
    "acs['TOTAL_HHLDS_150K_200K'] = acs['TOTAL_HHLDS_150K_200K'].astype(float)\n",
    "acs['TOTAL_HHLDS_200KP'] = acs['TOTAL_HHLDS_200KP'].astype(float)\n",
    "\n",
    "\n",
    "acs['HHLDS_100KP_PER_HHLD'] = (acs['TOTAL_HHLDS_100K_150K'] +acs['TOTAL_HHLDS_150K_200K'] + acs['TOTAL_HHLDS_200KP'])/acs['TOTAL_HHLDS'] "
   ]
  },
  {
   "cell_type": "code",
   "execution_count": 31,
   "metadata": {},
   "outputs": [],
   "source": [
    "variables = acs.columns.drop(['Unnamed: 0', 'CENSUS_TRACT', 'GEOID'])"
   ]
  },
  {
   "cell_type": "code",
   "execution_count": 32,
   "metadata": {},
   "outputs": [],
   "source": [
    "acs['TOTAL_HHLDS_100K_150K'] = acs['TOTAL_HHLDS_100K_150K'].astype(float)\n",
    "acs['TOTAL_HHLDS_150K_200K'] = acs['TOTAL_HHLDS_150K_200K'].astype(float)\n",
    "acs['TOTAL_HHLDS_200KP'] = acs['TOTAL_HHLDS_200KP'].astype(float)\n"
   ]
  },
  {
   "cell_type": "code",
   "execution_count": 33,
   "metadata": {},
   "outputs": [
    {
     "data": {
      "text/plain": [
       "780     17031804201\n",
       "1081    17031823801\n",
       "Name: GEOID, dtype: object"
      ]
     },
     "execution_count": 33,
     "metadata": {},
     "output_type": "execute_result"
    }
   ],
   "source": [
    "acs[acs['SQUARE_MILES_LAND'] > 10].GEOID.astype(str)"
   ]
  },
  {
   "cell_type": "code",
   "execution_count": 34,
   "metadata": {
    "scrolled": true
   },
   "outputs": [
    {
     "name": "stdout",
     "output_type": "stream",
     "text": [
      "Working on variable TOTAL_POP\n",
      "19889.0\n",
      "0.0\n",
      "3960.363153904473\n",
      "[    0.  3836.  5188.  7832. 19889.]\n"
     ]
    },
    {
     "name": "stderr",
     "output_type": "stream",
     "text": [
      "C:\\Users\\ramu225\\Anaconda3\\lib\\site-packages\\folium\\folium.py:415: FutureWarning: The choropleth  method has been deprecated. Instead use the new Choropleth class, which has the same arguments. See the example notebook 'GeoJSON_and_choropleth' for how to do this.\n",
      "  FutureWarning\n"
     ]
    },
    {
     "name": "stdout",
     "output_type": "stream",
     "text": [
      "Working on variable TOTAL_MALE\n",
      "9249.0\n",
      "0.0\n",
      "1921.6376042456407\n",
      "[   0.   1863.   2502.5  3900.88 9249.  ]\n"
     ]
    },
    {
     "name": "stderr",
     "output_type": "stream",
     "text": [
      "C:\\Users\\ramu225\\Anaconda3\\lib\\site-packages\\folium\\folium.py:415: FutureWarning: The choropleth  method has been deprecated. Instead use the new Choropleth class, which has the same arguments. See the example notebook 'GeoJSON_and_choropleth' for how to do this.\n",
      "  FutureWarning\n"
     ]
    },
    {
     "name": "stdout",
     "output_type": "stream",
     "text": [
      "Working on variable TOTAL_FEMALE\n",
      "10649.0\n",
      "0.0\n",
      "2038.7255496588325\n",
      "[    0.    1986.    2666.    3988.48 10649.  ]\n"
     ]
    },
    {
     "name": "stderr",
     "output_type": "stream",
     "text": [
      "C:\\Users\\ramu225\\Anaconda3\\lib\\site-packages\\folium\\folium.py:415: FutureWarning: The choropleth  method has been deprecated. Instead use the new Choropleth class, which has the same arguments. See the example notebook 'GeoJSON_and_choropleth' for how to do this.\n",
      "  FutureWarning\n"
     ]
    },
    {
     "name": "stdout",
     "output_type": "stream",
     "text": [
      "Working on variable AGE_5U\n",
      "1041.0\n",
      "0.0\n",
      "248.55496588324488\n",
      "[   0.    224.    330.    633.64 1041.  ]\n"
     ]
    },
    {
     "name": "stderr",
     "output_type": "stream",
     "text": [
      "C:\\Users\\ramu225\\Anaconda3\\lib\\site-packages\\folium\\folium.py:415: FutureWarning: The choropleth  method has been deprecated. Instead use the new Choropleth class, which has the same arguments. See the example notebook 'GeoJSON_and_choropleth' for how to do this.\n",
      "  FutureWarning\n"
     ]
    },
    {
     "name": "stdout",
     "output_type": "stream",
     "text": [
      "Working on variable AGE_5_9\n",
      "1074.0\n",
      "0.0\n",
      "240.48749052312357\n",
      "[   0.    221.    331.    620.56 1074.  ]\n"
     ]
    },
    {
     "name": "stderr",
     "output_type": "stream",
     "text": [
      "C:\\Users\\ramu225\\Anaconda3\\lib\\site-packages\\folium\\folium.py:415: FutureWarning: The choropleth  method has been deprecated. Instead use the new Choropleth class, which has the same arguments. See the example notebook 'GeoJSON_and_choropleth' for how to do this.\n",
      "  FutureWarning\n"
     ]
    },
    {
     "name": "stdout",
     "output_type": "stream",
     "text": [
      "Working on variable AGE+10_14\n",
      "936.0\n",
      "0.0\n",
      "244.34723275208492\n",
      "[  0.  220.  342.5 635.  936. ]\n"
     ]
    },
    {
     "name": "stderr",
     "output_type": "stream",
     "text": [
      "C:\\Users\\ramu225\\Anaconda3\\lib\\site-packages\\folium\\folium.py:415: FutureWarning: The choropleth  method has been deprecated. Instead use the new Choropleth class, which has the same arguments. See the example notebook 'GeoJSON_and_choropleth' for how to do this.\n",
      "  FutureWarning\n"
     ]
    },
    {
     "name": "stdout",
     "output_type": "stream",
     "text": [
      "Working on variable AGE_15_19\n",
      "2644.0\n",
      "0.0\n",
      "241.20697498104624\n",
      "[   0.    208.    334.5   682.84 2644.  ]\n"
     ]
    },
    {
     "name": "stderr",
     "output_type": "stream",
     "text": [
      "C:\\Users\\ramu225\\Anaconda3\\lib\\site-packages\\folium\\folium.py:415: FutureWarning: The choropleth  method has been deprecated. Instead use the new Choropleth class, which has the same arguments. See the example notebook 'GeoJSON_and_choropleth' for how to do this.\n",
      "  FutureWarning\n"
     ]
    },
    {
     "name": "stdout",
     "output_type": "stream",
     "text": [
      "Working on variable AGE_20_24\n",
      "2632.0\n",
      "0.0\n",
      "266.2600454890068\n",
      "[   0.    225.    355.5   750.76 2632.  ]\n"
     ]
    },
    {
     "name": "stderr",
     "output_type": "stream",
     "text": [
      "C:\\Users\\ramu225\\Anaconda3\\lib\\site-packages\\folium\\folium.py:415: FutureWarning: The choropleth  method has been deprecated. Instead use the new Choropleth class, which has the same arguments. See the example notebook 'GeoJSON_and_choropleth' for how to do this.\n",
      "  FutureWarning\n"
     ]
    },
    {
     "name": "stdout",
     "output_type": "stream",
     "text": [
      "Working on variable AGE_25_34\n",
      "6351.0\n",
      "0.0\n",
      "646.9438968915846\n",
      "[   0.    553.    821.5  1864.04 6351.  ]\n"
     ]
    },
    {
     "name": "stderr",
     "output_type": "stream",
     "text": [
      "C:\\Users\\ramu225\\Anaconda3\\lib\\site-packages\\folium\\folium.py:415: FutureWarning: The choropleth  method has been deprecated. Instead use the new Choropleth class, which has the same arguments. See the example notebook 'GeoJSON_and_choropleth' for how to do this.\n",
      "  FutureWarning\n"
     ]
    },
    {
     "name": "stdout",
     "output_type": "stream",
     "text": [
      "Working on variable AGE_35_44\n",
      "3786.0\n",
      "0.0\n",
      "534.2494313874147\n",
      "[   0.    497.    692.5  1204.12 3786.  ]\n"
     ]
    },
    {
     "name": "stderr",
     "output_type": "stream",
     "text": [
      "C:\\Users\\ramu225\\Anaconda3\\lib\\site-packages\\folium\\folium.py:415: FutureWarning: The choropleth  method has been deprecated. Instead use the new Choropleth class, which has the same arguments. See the example notebook 'GeoJSON_and_choropleth' for how to do this.\n",
      "  FutureWarning\n"
     ]
    },
    {
     "name": "stdout",
     "output_type": "stream",
     "text": [
      "Working on variable AGE_45_54\n",
      "2788.0\n",
      "0.0\n",
      "507.0940106141016\n",
      "[   0.    478.    683.   1148.84 2788.  ]\n"
     ]
    },
    {
     "name": "stderr",
     "output_type": "stream",
     "text": [
      "C:\\Users\\ramu225\\Anaconda3\\lib\\site-packages\\folium\\folium.py:415: FutureWarning: The choropleth  method has been deprecated. Instead use the new Choropleth class, which has the same arguments. See the example notebook 'GeoJSON_and_choropleth' for how to do this.\n",
      "  FutureWarning\n"
     ]
    },
    {
     "name": "stdout",
     "output_type": "stream",
     "text": [
      "Working on variable AGE_55_59\n",
      "1243.0\n",
      "0.0\n",
      "253.10917361637604\n",
      "[   0.    230.    343.    634.92 1243.  ]\n"
     ]
    },
    {
     "name": "stderr",
     "output_type": "stream",
     "text": [
      "C:\\Users\\ramu225\\Anaconda3\\lib\\site-packages\\folium\\folium.py:415: FutureWarning: The choropleth  method has been deprecated. Instead use the new Choropleth class, which has the same arguments. See the example notebook 'GeoJSON_and_choropleth' for how to do this.\n",
      "  FutureWarning\n"
     ]
    },
    {
     "name": "stdout",
     "output_type": "stream",
     "text": [
      "Working on variable AGE_60_64\n",
      "965.0\n",
      "0.0\n",
      "228.65579984836998\n",
      "[  0.   204.   312.5  610.64 965.  ]\n"
     ]
    },
    {
     "name": "stderr",
     "output_type": "stream",
     "text": [
      "C:\\Users\\ramu225\\Anaconda3\\lib\\site-packages\\folium\\folium.py:415: FutureWarning: The choropleth  method has been deprecated. Instead use the new Choropleth class, which has the same arguments. See the example notebook 'GeoJSON_and_choropleth' for how to do this.\n",
      "  FutureWarning\n"
     ]
    },
    {
     "name": "stdout",
     "output_type": "stream",
     "text": [
      "Working on variable AGE_65_74\n",
      "1239.0\n",
      "0.0\n",
      "310.8127369219105\n",
      "[   0.    281.    416.5   827.92 1239.  ]\n"
     ]
    },
    {
     "name": "stderr",
     "output_type": "stream",
     "text": [
      "C:\\Users\\ramu225\\Anaconda3\\lib\\site-packages\\folium\\folium.py:415: FutureWarning: The choropleth  method has been deprecated. Instead use the new Choropleth class, which has the same arguments. See the example notebook 'GeoJSON_and_choropleth' for how to do this.\n",
      "  FutureWarning\n"
     ]
    },
    {
     "name": "stdout",
     "output_type": "stream",
     "text": [
      "Working on variable AGE_75_84\n",
      "960.0\n",
      "0.0\n",
      "165.10007581501137\n",
      "[  0.   136.   230.   559.64 960.  ]\n"
     ]
    },
    {
     "name": "stderr",
     "output_type": "stream",
     "text": [
      "C:\\Users\\ramu225\\Anaconda3\\lib\\site-packages\\folium\\folium.py:415: FutureWarning: The choropleth  method has been deprecated. Instead use the new Choropleth class, which has the same arguments. See the example notebook 'GeoJSON_and_choropleth' for how to do this.\n",
      "  FutureWarning\n"
     ]
    },
    {
     "name": "stdout",
     "output_type": "stream",
     "text": [
      "Working on variable AGE_85P\n",
      "846.0\n",
      "0.0\n",
      "73.54131918119788\n",
      "[  0.    50.    99.   306.28 846.  ]\n"
     ]
    },
    {
     "name": "stderr",
     "output_type": "stream",
     "text": [
      "C:\\Users\\ramu225\\Anaconda3\\lib\\site-packages\\folium\\folium.py:415: FutureWarning: The choropleth  method has been deprecated. Instead use the new Choropleth class, which has the same arguments. See the example notebook 'GeoJSON_and_choropleth' for how to do this.\n",
      "  FutureWarning\n"
     ]
    },
    {
     "name": "stdout",
     "output_type": "stream",
     "text": [
      "Working on variable MEDIAN_AGE\n",
      "66.8\n",
      "15.9\n",
      "37.225323193916296\n",
      "[15.9   36.5   41.6   51.316 66.8  ]\n"
     ]
    },
    {
     "name": "stderr",
     "output_type": "stream",
     "text": [
      "C:\\Users\\ramu225\\Anaconda3\\lib\\site-packages\\folium\\folium.py:415: FutureWarning: The choropleth  method has been deprecated. Instead use the new Choropleth class, which has the same arguments. See the example notebook 'GeoJSON_and_choropleth' for how to do this.\n",
      "  FutureWarning\n"
     ]
    },
    {
     "name": "stdout",
     "output_type": "stream",
     "text": [
      "Working on variable TOTAL_HHLDS\n",
      "11517.0\n",
      "0.0\n",
      "1488.3017437452615\n",
      "[    0.    1415.    1874.    3181.84 11517.  ]\n"
     ]
    },
    {
     "name": "stderr",
     "output_type": "stream",
     "text": [
      "C:\\Users\\ramu225\\Anaconda3\\lib\\site-packages\\folium\\folium.py:415: FutureWarning: The choropleth  method has been deprecated. Instead use the new Choropleth class, which has the same arguments. See the example notebook 'GeoJSON_and_choropleth' for how to do this.\n",
      "  FutureWarning\n"
     ]
    },
    {
     "name": "stdout",
     "output_type": "stream",
     "text": [
      "Working on variable AVG_HHLD_SIZE\n",
      "4.5\n",
      "1.34\n",
      "2.694342205323195\n",
      "[1.34   2.69   3.02   3.8672 4.5   ]\n"
     ]
    },
    {
     "name": "stderr",
     "output_type": "stream",
     "text": [
      "C:\\Users\\ramu225\\Anaconda3\\lib\\site-packages\\folium\\folium.py:415: FutureWarning: The choropleth  method has been deprecated. Instead use the new Choropleth class, which has the same arguments. See the example notebook 'GeoJSON_and_choropleth' for how to do this.\n",
      "  FutureWarning\n"
     ]
    },
    {
     "name": "stdout",
     "output_type": "stream",
     "text": [
      "Working on variable AVG_FAMILY_SIZE\n",
      "5.18\n",
      "2.16\n",
      "3.4221901140684405\n",
      "[2.16  3.38  3.735 4.42  5.18 ]\n"
     ]
    },
    {
     "name": "stderr",
     "output_type": "stream",
     "text": [
      "C:\\Users\\ramu225\\Anaconda3\\lib\\site-packages\\folium\\folium.py:415: FutureWarning: The choropleth  method has been deprecated. Instead use the new Choropleth class, which has the same arguments. See the example notebook 'GeoJSON_and_choropleth' for how to do this.\n",
      "  FutureWarning\n"
     ]
    },
    {
     "name": "stdout",
     "output_type": "stream",
     "text": [
      "Working on variable TOTAL_POP_18_24\n",
      "4465.0\n",
      "0.0\n",
      "361.08036391205457\n",
      "[   0.   301.   466.   974.2 4465. ]\n"
     ]
    },
    {
     "name": "stderr",
     "output_type": "stream",
     "text": [
      "C:\\Users\\ramu225\\Anaconda3\\lib\\site-packages\\folium\\folium.py:415: FutureWarning: The choropleth  method has been deprecated. Instead use the new Choropleth class, which has the same arguments. See the example notebook 'GeoJSON_and_choropleth' for how to do this.\n",
      "  FutureWarning\n"
     ]
    },
    {
     "name": "stdout",
     "output_type": "stream",
     "text": [
      "Working on variable TOTAL_POP_18_24_NO_HIGH_SCHOOL\n",
      "1958.0\n",
      "0.0\n",
      "46.076573161485975\n",
      "[   0.     32.     65.5   178.64 1958.  ]\n"
     ]
    },
    {
     "name": "stderr",
     "output_type": "stream",
     "text": [
      "C:\\Users\\ramu225\\Anaconda3\\lib\\site-packages\\folium\\folium.py:415: FutureWarning: The choropleth  method has been deprecated. Instead use the new Choropleth class, which has the same arguments. See the example notebook 'GeoJSON_and_choropleth' for how to do this.\n",
      "  FutureWarning\n"
     ]
    },
    {
     "name": "stdout",
     "output_type": "stream",
     "text": [
      "Working on variable TOTAL_POP_18_24_HIGH_SCHOOL\n",
      "1249.0\n",
      "0.0\n",
      "97.5822592873389\n",
      "[   0.     74.    134.    323.28 1249.  ]\n"
     ]
    },
    {
     "name": "stderr",
     "output_type": "stream",
     "text": [
      "C:\\Users\\ramu225\\Anaconda3\\lib\\site-packages\\folium\\folium.py:415: FutureWarning: The choropleth  method has been deprecated. Instead use the new Choropleth class, which has the same arguments. See the example notebook 'GeoJSON_and_choropleth' for how to do this.\n",
      "  FutureWarning\n"
     ]
    },
    {
     "name": "stdout",
     "output_type": "stream",
     "text": [
      "Working on variable TOTAL_POP_18_24_SOME_COLLEGE\n",
      "2971.0\n",
      "0.0\n",
      "156.3335860500379\n",
      "[   0.    121.    196.    498.64 2971.  ]\n"
     ]
    },
    {
     "name": "stderr",
     "output_type": "stream",
     "text": [
      "C:\\Users\\ramu225\\Anaconda3\\lib\\site-packages\\folium\\folium.py:415: FutureWarning: The choropleth  method has been deprecated. Instead use the new Choropleth class, which has the same arguments. See the example notebook 'GeoJSON_and_choropleth' for how to do this.\n",
      "  FutureWarning\n"
     ]
    },
    {
     "name": "stdout",
     "output_type": "stream",
     "text": [
      "Working on variable TOTAL_POP_18_24_SOME_BACHELORS_HIGHER\n",
      "766.0\n",
      "0.0\n",
      "61.08794541319181\n",
      "[  0.   35.   73.  339.2 766. ]\n"
     ]
    },
    {
     "name": "stderr",
     "output_type": "stream",
     "text": [
      "C:\\Users\\ramu225\\Anaconda3\\lib\\site-packages\\folium\\folium.py:415: FutureWarning: The choropleth  method has been deprecated. Instead use the new Choropleth class, which has the same arguments. See the example notebook 'GeoJSON_and_choropleth' for how to do this.\n",
      "  FutureWarning\n"
     ]
    },
    {
     "name": "stdout",
     "output_type": "stream",
     "text": [
      "Working on variable TOTAL_POP_25P\n",
      "16430.0\n",
      "0.0\n",
      "2719.5064442759667\n",
      "[    0.    2631.    3531.    5546.48 16430.  ]\n"
     ]
    },
    {
     "name": "stderr",
     "output_type": "stream",
     "text": [
      "C:\\Users\\ramu225\\Anaconda3\\lib\\site-packages\\folium\\folium.py:415: FutureWarning: The choropleth  method has been deprecated. Instead use the new Choropleth class, which has the same arguments. See the example notebook 'GeoJSON_and_choropleth' for how to do this.\n",
      "  FutureWarning\n"
     ]
    },
    {
     "name": "stdout",
     "output_type": "stream",
     "text": [
      "Working on variable TOTAL_POP_25P_LESS_THAN_9TH\n",
      "1903.0\n",
      "0.0\n",
      "183.39802880970433\n",
      "[   0.    100.    233.5   837.04 1903.  ]\n"
     ]
    },
    {
     "name": "stderr",
     "output_type": "stream",
     "text": [
      "C:\\Users\\ramu225\\Anaconda3\\lib\\site-packages\\folium\\folium.py:415: FutureWarning: The choropleth  method has been deprecated. Instead use the new Choropleth class, which has the same arguments. See the example notebook 'GeoJSON_and_choropleth' for how to do this.\n",
      "  FutureWarning\n"
     ]
    },
    {
     "name": "stdout",
     "output_type": "stream",
     "text": [
      "Working on variable TOTAL_POP_25P_9TH_TO_12TH\n",
      "2469.0\n",
      "0.0\n",
      "178.5625473843821\n",
      "[   0.    154.    254.    509.92 2469.  ]\n"
     ]
    },
    {
     "name": "stderr",
     "output_type": "stream",
     "text": [
      "C:\\Users\\ramu225\\Anaconda3\\lib\\site-packages\\folium\\folium.py:415: FutureWarning: The choropleth  method has been deprecated. Instead use the new Choropleth class, which has the same arguments. See the example notebook 'GeoJSON_and_choropleth' for how to do this.\n",
      "  FutureWarning\n"
     ]
    },
    {
     "name": "stdout",
     "output_type": "stream",
     "text": [
      "Working on variable TOTAL_POP_25P_HIGH_SCHOOL\n",
      "2412.0\n",
      "0.0\n",
      "635.0030326004548\n",
      "[   0.    576.    918.5  1593.04 2412.  ]\n"
     ]
    },
    {
     "name": "stderr",
     "output_type": "stream",
     "text": [
      "C:\\Users\\ramu225\\Anaconda3\\lib\\site-packages\\folium\\folium.py:415: FutureWarning: The choropleth  method has been deprecated. Instead use the new Choropleth class, which has the same arguments. See the example notebook 'GeoJSON_and_choropleth' for how to do this.\n",
      "  FutureWarning\n"
     ]
    },
    {
     "name": "stdout",
     "output_type": "stream",
     "text": [
      "Working on variable TOTAL_POP_25P_SOME_COLLEGE\n",
      "2204.0\n",
      "0.0\n",
      "512.131159969674\n",
      "[   0.    467.    702.   1256.28 2204.  ]\n"
     ]
    },
    {
     "name": "stderr",
     "output_type": "stream",
     "text": [
      "C:\\Users\\ramu225\\Anaconda3\\lib\\site-packages\\folium\\folium.py:415: FutureWarning: The choropleth  method has been deprecated. Instead use the new Choropleth class, which has the same arguments. See the example notebook 'GeoJSON_and_choropleth' for how to do this.\n",
      "  FutureWarning\n"
     ]
    },
    {
     "name": "stdout",
     "output_type": "stream",
     "text": [
      "Working on variable TOTAL_POP_25P_ASSOCIATES\n",
      "922.0\n",
      "0.0\n",
      "177.83093252463988\n",
      "[  0.   152.   251.   520.28 922.  ]\n"
     ]
    },
    {
     "name": "stderr",
     "output_type": "stream",
     "text": [
      "C:\\Users\\ramu225\\Anaconda3\\lib\\site-packages\\folium\\folium.py:415: FutureWarning: The choropleth  method has been deprecated. Instead use the new Choropleth class, which has the same arguments. See the example notebook 'GeoJSON_and_choropleth' for how to do this.\n",
      "  FutureWarning\n"
     ]
    },
    {
     "name": "stdout",
     "output_type": "stream",
     "text": [
      "Working on variable TOTAL_POP_25P_BACHELORS\n",
      "5397.0\n",
      "0.0\n",
      "615.0\n",
      "[   0.   486.   885.5 1864.6 5397. ]\n"
     ]
    },
    {
     "name": "stderr",
     "output_type": "stream",
     "text": [
      "C:\\Users\\ramu225\\Anaconda3\\lib\\site-packages\\folium\\folium.py:415: FutureWarning: The choropleth  method has been deprecated. Instead use the new Choropleth class, which has the same arguments. See the example notebook 'GeoJSON_and_choropleth' for how to do this.\n",
      "  FutureWarning\n"
     ]
    },
    {
     "name": "stdout",
     "output_type": "stream",
     "text": [
      "Working on variable TOTAL_POP_25P_GRADUATE\n",
      "6964.0\n",
      "0.0\n",
      "417.5807429871114\n",
      "[   0.    269.    572.   1532.56 6964.  ]\n"
     ]
    },
    {
     "name": "stderr",
     "output_type": "stream",
     "text": [
      "C:\\Users\\ramu225\\Anaconda3\\lib\\site-packages\\folium\\folium.py:415: FutureWarning: The choropleth  method has been deprecated. Instead use the new Choropleth class, which has the same arguments. See the example notebook 'GeoJSON_and_choropleth' for how to do this.\n",
      "  FutureWarning\n"
     ]
    },
    {
     "name": "stdout",
     "output_type": "stream",
     "text": [
      "Working on variable TOTAL_POP_25P_HIGH_SCHOOL_HIGHER\n",
      "16015.0\n",
      "0.0\n",
      "2357.54586808188\n",
      "[    0.    2261.    3065.5   5132.56 16015.  ]\n"
     ]
    },
    {
     "name": "stderr",
     "output_type": "stream",
     "text": [
      "C:\\Users\\ramu225\\Anaconda3\\lib\\site-packages\\folium\\folium.py:415: FutureWarning: The choropleth  method has been deprecated. Instead use the new Choropleth class, which has the same arguments. See the example notebook 'GeoJSON_and_choropleth' for how to do this.\n",
      "  FutureWarning\n"
     ]
    },
    {
     "name": "stdout",
     "output_type": "stream",
     "text": [
      "Working on variable TOTAL_POP_25P_BACHELORS_HIGHER\n",
      "12361.0\n",
      "0.0\n",
      "1032.5807429871115\n",
      "[    0.     771.    1494.    3288.72 12361.  ]\n"
     ]
    },
    {
     "name": "stderr",
     "output_type": "stream",
     "text": [
      "C:\\Users\\ramu225\\Anaconda3\\lib\\site-packages\\folium\\folium.py:415: FutureWarning: The choropleth  method has been deprecated. Instead use the new Choropleth class, which has the same arguments. See the example notebook 'GeoJSON_and_choropleth' for how to do this.\n",
      "  FutureWarning\n"
     ]
    },
    {
     "name": "stdout",
     "output_type": "stream",
     "text": [
      "Working on variable TOTAL_HHLDS_LESS_10K\n",
      "50.4\n",
      "0.0\n",
      "8.567604562737639\n",
      "[ 0.     6.1   11.6   29.444 50.4  ]\n"
     ]
    },
    {
     "name": "stderr",
     "output_type": "stream",
     "text": [
      "C:\\Users\\ramu225\\Anaconda3\\lib\\site-packages\\folium\\folium.py:415: FutureWarning: The choropleth  method has been deprecated. Instead use the new Choropleth class, which has the same arguments. See the example notebook 'GeoJSON_and_choropleth' for how to do this.\n",
      "  FutureWarning\n"
     ]
    },
    {
     "name": "stdout",
     "output_type": "stream",
     "text": [
      "Working on variable TOTAL_HHLDS_10K_15K\n",
      "26.7\n",
      "0.0\n",
      "4.79749049429657\n",
      "[ 0.   3.7  6.6 16.6 26.7]\n"
     ]
    },
    {
     "name": "stderr",
     "output_type": "stream",
     "text": [
      "C:\\Users\\ramu225\\Anaconda3\\lib\\site-packages\\folium\\folium.py:415: FutureWarning: The choropleth  method has been deprecated. Instead use the new Choropleth class, which has the same arguments. See the example notebook 'GeoJSON_and_choropleth' for how to do this.\n",
      "  FutureWarning\n"
     ]
    },
    {
     "name": "stdout",
     "output_type": "stream",
     "text": [
      "Working on variable TOTAL_HHLDS_15K_25K\n",
      "41.0\n",
      "0.0\n",
      "10.384258555133094\n",
      "[ 0.   9.2 13.6 27.3 41. ]\n"
     ]
    },
    {
     "name": "stderr",
     "output_type": "stream",
     "text": [
      "C:\\Users\\ramu225\\Anaconda3\\lib\\site-packages\\folium\\folium.py:415: FutureWarning: The choropleth  method has been deprecated. Instead use the new Choropleth class, which has the same arguments. See the example notebook 'GeoJSON_and_choropleth' for how to do this.\n",
      "  FutureWarning\n"
     ]
    },
    {
     "name": "stdout",
     "output_type": "stream",
     "text": [
      "Working on variable TOTAL_HHLDS_25K_35K\n",
      "29.8\n",
      "0.0\n",
      "9.085703422053225\n",
      "[ 0.     8.7   12.2   19.672 29.8  ]\n"
     ]
    },
    {
     "name": "stderr",
     "output_type": "stream",
     "text": [
      "C:\\Users\\ramu225\\Anaconda3\\lib\\site-packages\\folium\\folium.py:415: FutureWarning: The choropleth  method has been deprecated. Instead use the new Choropleth class, which has the same arguments. See the example notebook 'GeoJSON_and_choropleth' for how to do this.\n",
      "  FutureWarning\n"
     ]
    },
    {
     "name": "stdout",
     "output_type": "stream",
     "text": [
      "Working on variable TOTAL_HHLDS_35K_50K\n",
      "34.8\n",
      "0.0\n",
      "11.862813688212919\n",
      "[ 0.    11.4   15.3   23.944 34.8  ]\n"
     ]
    },
    {
     "name": "stderr",
     "output_type": "stream",
     "text": [
      "C:\\Users\\ramu225\\Anaconda3\\lib\\site-packages\\folium\\folium.py:415: FutureWarning: The choropleth  method has been deprecated. Instead use the new Choropleth class, which has the same arguments. See the example notebook 'GeoJSON_and_choropleth' for how to do this.\n",
      "  FutureWarning\n"
     ]
    },
    {
     "name": "stdout",
     "output_type": "stream",
     "text": [
      "Working on variable TOTAL_HHLDS_50K_75K\n",
      "39.8\n",
      "0.0\n",
      "15.977566539923957\n",
      "[ 0.    15.8   19.6   27.844 39.8  ]\n"
     ]
    },
    {
     "name": "stderr",
     "output_type": "stream",
     "text": [
      "C:\\Users\\ramu225\\Anaconda3\\lib\\site-packages\\folium\\folium.py:415: FutureWarning: The choropleth  method has been deprecated. Instead use the new Choropleth class, which has the same arguments. See the example notebook 'GeoJSON_and_choropleth' for how to do this.\n",
      "  FutureWarning\n"
     ]
    },
    {
     "name": "stdout",
     "output_type": "stream",
     "text": [
      "Working on variable TOTAL_HHLDS_75K_100K\n",
      "28.8\n",
      "0.0\n",
      "11.454904942965785\n",
      "[ 0.  11.4 14.4 21.7 28.8]\n"
     ]
    },
    {
     "name": "stderr",
     "output_type": "stream",
     "text": [
      "C:\\Users\\ramu225\\Anaconda3\\lib\\site-packages\\folium\\folium.py:415: FutureWarning: The choropleth  method has been deprecated. Instead use the new Choropleth class, which has the same arguments. See the example notebook 'GeoJSON_and_choropleth' for how to do this.\n",
      "  FutureWarning\n"
     ]
    },
    {
     "name": "stdout",
     "output_type": "stream",
     "text": [
      "Working on variable TOTAL_HHLDS_100K_150K\n",
      "39.3\n",
      "0.0\n",
      "13.726311787072262\n",
      "[ 0.    13.6   18.7   26.972 39.3  ]\n"
     ]
    },
    {
     "name": "stderr",
     "output_type": "stream",
     "text": [
      "C:\\Users\\ramu225\\Anaconda3\\lib\\site-packages\\folium\\folium.py:415: FutureWarning: The choropleth  method has been deprecated. Instead use the new Choropleth class, which has the same arguments. See the example notebook 'GeoJSON_and_choropleth' for how to do this.\n",
      "  FutureWarning\n"
     ]
    },
    {
     "name": "stdout",
     "output_type": "stream",
     "text": [
      "Working on variable TOTAL_HHLDS_150K_200K\n",
      "20.8\n",
      "0.0\n",
      "6.335665399239539\n",
      "[ 0.     5.4    9.5   18.072 20.8  ]\n"
     ]
    },
    {
     "name": "stderr",
     "output_type": "stream",
     "text": [
      "C:\\Users\\ramu225\\Anaconda3\\lib\\site-packages\\folium\\folium.py:415: FutureWarning: The choropleth  method has been deprecated. Instead use the new Choropleth class, which has the same arguments. See the example notebook 'GeoJSON_and_choropleth' for how to do this.\n",
      "  FutureWarning\n"
     ]
    },
    {
     "name": "stdout",
     "output_type": "stream",
     "text": [
      "Working on variable TOTAL_HHLDS_200KP\n",
      "62.7\n",
      "0.0\n",
      "7.80950570342206\n",
      "[ 0.     3.8   10.4   37.888 62.7  ]\n"
     ]
    },
    {
     "name": "stderr",
     "output_type": "stream",
     "text": [
      "C:\\Users\\ramu225\\Anaconda3\\lib\\site-packages\\folium\\folium.py:415: FutureWarning: The choropleth  method has been deprecated. Instead use the new Choropleth class, which has the same arguments. See the example notebook 'GeoJSON_and_choropleth' for how to do this.\n",
      "  FutureWarning\n"
     ]
    },
    {
     "name": "stdout",
     "output_type": "stream",
     "text": [
      "Working on variable HHLDS_MEDIAN_INCOME\n",
      "250000.0\n",
      "9787.0\n",
      "64898.03269961977\n",
      "[  9787.    57557.    82788.   156918.92 250000.  ]\n"
     ]
    },
    {
     "name": "stderr",
     "output_type": "stream",
     "text": [
      "C:\\Users\\ramu225\\Anaconda3\\lib\\site-packages\\folium\\folium.py:415: FutureWarning: The choropleth  method has been deprecated. Instead use the new Choropleth class, which has the same arguments. See the example notebook 'GeoJSON_and_choropleth' for how to do this.\n",
      "  FutureWarning\n"
     ]
    },
    {
     "name": "stdout",
     "output_type": "stream",
     "text": [
      "Working on variable HHLDS_MEAN_INCOME\n",
      "250000.0\n",
      "9787.0\n",
      "64898.03269961977\n",
      "[  9787.    57557.    82788.   156918.92 250000.  ]\n"
     ]
    },
    {
     "name": "stderr",
     "output_type": "stream",
     "text": [
      "C:\\Users\\ramu225\\Anaconda3\\lib\\site-packages\\folium\\folium.py:415: FutureWarning: The choropleth  method has been deprecated. Instead use the new Choropleth class, which has the same arguments. See the example notebook 'GeoJSON_and_choropleth' for how to do this.\n",
      "  FutureWarning\n"
     ]
    },
    {
     "name": "stdout",
     "output_type": "stream",
     "text": [
      "Working on variable TOTAL_HHLDS_DP04\n",
      "11517.0\n",
      "0.0\n",
      "1488.3017437452615\n",
      "[    0.    1415.    1874.    3181.84 11517.  ]\n"
     ]
    },
    {
     "name": "stderr",
     "output_type": "stream",
     "text": [
      "C:\\Users\\ramu225\\Anaconda3\\lib\\site-packages\\folium\\folium.py:415: FutureWarning: The choropleth  method has been deprecated. Instead use the new Choropleth class, which has the same arguments. See the example notebook 'GeoJSON_and_choropleth' for how to do this.\n",
      "  FutureWarning\n"
     ]
    },
    {
     "name": "stdout",
     "output_type": "stream",
     "text": [
      "Working on variable HHLDS_0_VEH\n",
      "3473.0\n",
      "0.0\n",
      "263.434420015163\n",
      "[   0.   174.   306.5 1252.2 3473. ]\n"
     ]
    },
    {
     "name": "stderr",
     "output_type": "stream",
     "text": [
      "C:\\Users\\ramu225\\Anaconda3\\lib\\site-packages\\folium\\folium.py:415: FutureWarning: The choropleth  method has been deprecated. Instead use the new Choropleth class, which has the same arguments. See the example notebook 'GeoJSON_and_choropleth' for how to do this.\n",
      "  FutureWarning\n"
     ]
    },
    {
     "name": "stdout",
     "output_type": "stream",
     "text": [
      "Working on variable HHLDS_1_VEH\n",
      "7860.0\n",
      "0.0\n",
      "602.5276724791509\n",
      "[   0.  527.  753. 1497. 7860.]\n"
     ]
    },
    {
     "name": "stderr",
     "output_type": "stream",
     "text": [
      "C:\\Users\\ramu225\\Anaconda3\\lib\\site-packages\\folium\\folium.py:415: FutureWarning: The choropleth  method has been deprecated. Instead use the new Choropleth class, which has the same arguments. See the example notebook 'GeoJSON_and_choropleth' for how to do this.\n",
      "  FutureWarning\n"
     ]
    },
    {
     "name": "stdout",
     "output_type": "stream",
     "text": [
      "Working on variable HHLDS_2_VEH\n",
      "2343.0\n",
      "0.0\n",
      "448.0257771038666\n",
      "[   0.    395.    635.5  1176.64 2343.  ]\n"
     ]
    },
    {
     "name": "stderr",
     "output_type": "stream",
     "text": [
      "C:\\Users\\ramu225\\Anaconda3\\lib\\site-packages\\folium\\folium.py:415: FutureWarning: The choropleth  method has been deprecated. Instead use the new Choropleth class, which has the same arguments. See the example notebook 'GeoJSON_and_choropleth' for how to do this.\n",
      "  FutureWarning\n"
     ]
    },
    {
     "name": "stdout",
     "output_type": "stream",
     "text": [
      "Working on variable HHLDS_3P_VEH\n",
      "1093.0\n",
      "0.0\n",
      "174.31387414708112\n",
      "[   0.   129.   271.   623.4 1093. ]\n"
     ]
    },
    {
     "name": "stderr",
     "output_type": "stream",
     "text": [
      "C:\\Users\\ramu225\\Anaconda3\\lib\\site-packages\\folium\\folium.py:415: FutureWarning: The choropleth  method has been deprecated. Instead use the new Choropleth class, which has the same arguments. See the example notebook 'GeoJSON_and_choropleth' for how to do this.\n",
      "  FutureWarning\n"
     ]
    },
    {
     "name": "stdout",
     "output_type": "stream",
     "text": [
      "Working on variable AVG_VEH_PER_HHLD\n",
      "2.207279457125231\n",
      "0.0\n",
      "1.3232548838238232\n",
      "[0.         1.34846827 1.66458299 2.01843245 2.20727946]\n"
     ]
    },
    {
     "name": "stderr",
     "output_type": "stream",
     "text": [
      "C:\\Users\\ramu225\\Anaconda3\\lib\\site-packages\\folium\\folium.py:415: FutureWarning: The choropleth  method has been deprecated. Instead use the new Choropleth class, which has the same arguments. See the example notebook 'GeoJSON_and_choropleth' for how to do this.\n",
      "  FutureWarning\n"
     ]
    },
    {
     "name": "stdout",
     "output_type": "stream",
     "text": [
      "Working on variable SQUARE_MILES_LAND\n",
      "29.627703379962\n",
      "0.0\n",
      "0.716398644098684\n",
      "[ 0.          0.33581646  0.80438734  4.2517939  29.62770338]\n"
     ]
    },
    {
     "name": "stderr",
     "output_type": "stream",
     "text": [
      "C:\\Users\\ramu225\\Anaconda3\\lib\\site-packages\\folium\\folium.py:415: FutureWarning: The choropleth  method has been deprecated. Instead use the new Choropleth class, which has the same arguments. See the example notebook 'GeoJSON_and_choropleth' for how to do this.\n",
      "  FutureWarning\n"
     ]
    },
    {
     "name": "stdout",
     "output_type": "stream",
     "text": [
      "Working on variable TOTAL_POP_PER_SQ_MILE\n",
      "263230.23826606694\n",
      "0.0\n",
      "13737.655051312018\n",
      "[     0.          10041.45938197  18909.99744089  49833.15979039\n",
      " 263230.23826607]\n"
     ]
    },
    {
     "name": "stderr",
     "output_type": "stream",
     "text": [
      "C:\\Users\\ramu225\\Anaconda3\\lib\\site-packages\\folium\\folium.py:415: FutureWarning: The choropleth  method has been deprecated. Instead use the new Choropleth class, which has the same arguments. See the example notebook 'GeoJSON_and_choropleth' for how to do this.\n",
      "  FutureWarning\n"
     ]
    },
    {
     "name": "stdout",
     "output_type": "stream",
     "text": [
      "Working on variable TOTAL_HHLDS_PER_SQ_MILE\n",
      "167031.97623543945\n",
      "0.0\n",
      "5618.212362906866\n",
      "[     0.           3557.09315548   6860.8401701   27663.91081785\n",
      " 167031.97623544]\n"
     ]
    },
    {
     "name": "stderr",
     "output_type": "stream",
     "text": [
      "C:\\Users\\ramu225\\Anaconda3\\lib\\site-packages\\folium\\folium.py:415: FutureWarning: The choropleth  method has been deprecated. Instead use the new Choropleth class, which has the same arguments. See the example notebook 'GeoJSON_and_choropleth' for how to do this.\n",
      "  FutureWarning\n"
     ]
    },
    {
     "name": "stdout",
     "output_type": "stream",
     "text": [
      "Working on variable AGE_25_34_PER_POP\n",
      "0.5623091867887872\n",
      "0.02389973768580589\n",
      "0.16740279543053196\n",
      "[0.02389974 0.14510365 0.18980073 0.42395202 0.56230919]\n"
     ]
    },
    {
     "name": "stderr",
     "output_type": "stream",
     "text": [
      "C:\\Users\\ramu225\\Anaconda3\\lib\\site-packages\\folium\\folium.py:415: FutureWarning: The choropleth  method has been deprecated. Instead use the new Choropleth class, which has the same arguments. See the example notebook 'GeoJSON_and_choropleth' for how to do this.\n",
      "  FutureWarning\n"
     ]
    },
    {
     "name": "stdout",
     "output_type": "stream",
     "text": [
      "Working on variable TOTAL_POP_25P_BACHELORS_HIGHER_PER_POP\n",
      "0.8245695672405771\n",
      "0.0026542800265428003\n",
      "0.25692631386517\n",
      "[0.00265428 0.20958084 0.38080624 0.66920255 0.82456957]\n"
     ]
    },
    {
     "name": "stderr",
     "output_type": "stream",
     "text": [
      "C:\\Users\\ramu225\\Anaconda3\\lib\\site-packages\\folium\\folium.py:415: FutureWarning: The choropleth  method has been deprecated. Instead use the new Choropleth class, which has the same arguments. See the example notebook 'GeoJSON_and_choropleth' for how to do this.\n",
      "  FutureWarning\n"
     ]
    },
    {
     "name": "stdout",
     "output_type": "stream",
     "text": [
      "Working on variable TOTAL_HHLDS_200KP_PER_POP\n",
      "0.049079089924160345\n",
      "0.0\n",
      "0.002411738751215417\n",
      "[0.         0.00095873 0.00286356 0.01446401 0.04907909]\n"
     ]
    },
    {
     "name": "stderr",
     "output_type": "stream",
     "text": [
      "C:\\Users\\ramu225\\Anaconda3\\lib\\site-packages\\folium\\folium.py:415: FutureWarning: The choropleth  method has been deprecated. Instead use the new Choropleth class, which has the same arguments. See the example notebook 'GeoJSON_and_choropleth' for how to do this.\n",
      "  FutureWarning\n"
     ]
    },
    {
     "name": "stdout",
     "output_type": "stream",
     "text": [
      "Working on variable HHLDS_0_VEH_PER_HHLD\n",
      "0.7781818181818182\n",
      "0.0\n",
      "0.19016950444634645\n",
      "[0.         0.14546685 0.28091472 0.55177689 0.77818182]\n"
     ]
    },
    {
     "name": "stderr",
     "output_type": "stream",
     "text": [
      "C:\\Users\\ramu225\\Anaconda3\\lib\\site-packages\\folium\\folium.py:415: FutureWarning: The choropleth  method has been deprecated. Instead use the new Choropleth class, which has the same arguments. See the example notebook 'GeoJSON_and_choropleth' for how to do this.\n",
      "  FutureWarning\n"
     ]
    },
    {
     "name": "stdout",
     "output_type": "stream",
     "text": [
      "Working on variable HHLDS_100KP_PER_HHLD\n",
      "0.43412698412698414\n",
      "0.0\n",
      "0.022358373575894687\n",
      "[0.         0.01660926 0.02767054 0.08305556 0.43412698]\n"
     ]
    },
    {
     "name": "stderr",
     "output_type": "stream",
     "text": [
      "C:\\Users\\ramu225\\Anaconda3\\lib\\site-packages\\folium\\folium.py:415: FutureWarning: The choropleth  method has been deprecated. Instead use the new Choropleth class, which has the same arguments. See the example notebook 'GeoJSON_and_choropleth' for how to do this.\n",
      "  FutureWarning\n"
     ]
    }
   ],
   "source": [
    "for var in variables:\n",
    "    acs[var] = acs[var].replace('-',np.nan)\n",
    "    acs[var] = acs[var].replace('250,000+','250000')\n",
    "\n",
    "    acs[var] = acs[var].astype(float)\n",
    "    print('Working on variable ' + var)\n",
    "    m = folium.Map([41.8781, -87.6298], zoom_start=11, tiles = 'stamen toner')\n",
    "    print(acs[var].max())\n",
    "    print(acs[var].min())\n",
    "    print(acs[var].mean())\n",
    "\n",
    "    bins = np.nanquantile(acs[var], [0, 0.5, 0.75,0.98,1])\n",
    "    print(bins)\n",
    "    \n",
    "    # Add the color for the chloropleth:\n",
    "    m.choropleth(\n",
    "     geo_data=tracts,\n",
    "     name= var,\n",
    "     data=acs,\n",
    "     columns = ['CENSUS_TRACT', var],\n",
    "     key_on='feature.properties.geoid10',\n",
    "     fill_color='BuGn',\n",
    "     fill_opacity=0.6,\n",
    "     line_opacity=0.2,\n",
    "     bins = bins,\n",
    "     legend_name= var + ' Totals',\n",
    "     highlight = True\n",
    "    )\n",
    "\n",
    "    feature_group = folium.FeatureGroup(name='Census Tract Centroids', show = False)\n",
    "\n",
    "    for tract2 in centroids.GEOID:\n",
    "        row = centroids[centroids['GEOID'] == tract2]\n",
    "        folium.CircleMarker([row['Y'], row['X']], popup = str(int(row['GEOID'].values[0])), radius = 1, fill = True, fill_color = 'grey', color = 'grey').add_to(feature_group)\n",
    "    \n",
    "    m.add_child(feature_group)\n",
    "    \n",
    "    folium.LayerControl().add_to(m)\n",
    "\n",
    "    m.save('C:/Workspace/TNC-Demand-Model/Data Exploration/ACS Maps/' + str(year) + '/' + var + '_Map.html')\n"
   ]
  },
  {
   "cell_type": "code",
   "execution_count": null,
   "metadata": {},
   "outputs": [],
   "source": []
  },
  {
   "cell_type": "code",
   "execution_count": null,
   "metadata": {},
   "outputs": [],
   "source": []
  }
 ],
 "metadata": {
  "kernelspec": {
   "display_name": "Python 3",
   "language": "python",
   "name": "python3"
  },
  "language_info": {
   "codemirror_mode": {
    "name": "ipython",
    "version": 3
   },
   "file_extension": ".py",
   "mimetype": "text/x-python",
   "name": "python",
   "nbconvert_exporter": "python",
   "pygments_lexer": "ipython3",
   "version": "3.7.6"
  }
 },
 "nbformat": 4,
 "nbformat_minor": 4
}
