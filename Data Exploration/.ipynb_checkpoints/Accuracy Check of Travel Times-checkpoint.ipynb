{
 "cells": [
  {
   "cell_type": "code",
   "execution_count": 49,
   "metadata": {},
   "outputs": [],
   "source": [
    "import pandas as pd\n",
    "import numpy as np\n",
    "import geopandas as gp\n",
    "\n",
    "%matplotlib inline"
   ]
  },
  {
   "cell_type": "code",
   "execution_count": 2,
   "metadata": {},
   "outputs": [],
   "source": [
    "df = pd.read_csv('traveltime_matrix_7-27.csv')"
   ]
  },
  {
   "cell_type": "code",
   "execution_count": 3,
   "metadata": {},
   "outputs": [
    {
     "data": {
      "text/html": [
       "<div>\n",
       "<style scoped>\n",
       "    .dataframe tbody tr th:only-of-type {\n",
       "        vertical-align: middle;\n",
       "    }\n",
       "\n",
       "    .dataframe tbody tr th {\n",
       "        vertical-align: top;\n",
       "    }\n",
       "\n",
       "    .dataframe thead th {\n",
       "        text-align: right;\n",
       "    }\n",
       "</style>\n",
       "<table border=\"1\" class=\"dataframe\">\n",
       "  <thead>\n",
       "    <tr style=\"text-align: right;\">\n",
       "      <th></th>\n",
       "      <th>year</th>\n",
       "      <th>depart_time</th>\n",
       "      <th>origin</th>\n",
       "      <th>destination</th>\n",
       "      <th>walk_distance</th>\n",
       "      <th>travel_time</th>\n",
       "    </tr>\n",
       "  </thead>\n",
       "  <tbody>\n",
       "    <tr>\n",
       "      <th>0</th>\n",
       "      <td>20190121</td>\n",
       "      <td>7:27:00</td>\n",
       "      <td>17031010300</td>\n",
       "      <td>17031010300</td>\n",
       "      <td>114.000000</td>\n",
       "      <td>84</td>\n",
       "    </tr>\n",
       "    <tr>\n",
       "      <th>1</th>\n",
       "      <td>20190121</td>\n",
       "      <td>7:27:00</td>\n",
       "      <td>17031010300</td>\n",
       "      <td>17031010400</td>\n",
       "      <td>1598.348398</td>\n",
       "      <td>1239</td>\n",
       "    </tr>\n",
       "    <tr>\n",
       "      <th>2</th>\n",
       "      <td>20190121</td>\n",
       "      <td>7:27:00</td>\n",
       "      <td>17031010300</td>\n",
       "      <td>17031010600</td>\n",
       "      <td>1401.995556</td>\n",
       "      <td>1072</td>\n",
       "    </tr>\n",
       "    <tr>\n",
       "      <th>3</th>\n",
       "      <td>20190121</td>\n",
       "      <td>7:27:00</td>\n",
       "      <td>17031010300</td>\n",
       "      <td>17031020100</td>\n",
       "      <td>2098.587789</td>\n",
       "      <td>1623</td>\n",
       "    </tr>\n",
       "    <tr>\n",
       "      <th>4</th>\n",
       "      <td>20190121</td>\n",
       "      <td>7:27:00</td>\n",
       "      <td>17031010300</td>\n",
       "      <td>17031280800</td>\n",
       "      <td>3791.000023</td>\n",
       "      <td>6172</td>\n",
       "    </tr>\n",
       "  </tbody>\n",
       "</table>\n",
       "</div>"
      ],
      "text/plain": [
       "       year depart_time       origin  destination  walk_distance  travel_time\n",
       "0  20190121     7:27:00  17031010300  17031010300     114.000000           84\n",
       "1  20190121     7:27:00  17031010300  17031010400    1598.348398         1239\n",
       "2  20190121     7:27:00  17031010300  17031010600    1401.995556         1072\n",
       "3  20190121     7:27:00  17031010300  17031020100    2098.587789         1623\n",
       "4  20190121     7:27:00  17031010300  17031280800    3791.000023         6172"
      ]
     },
     "execution_count": 3,
     "metadata": {},
     "output_type": "execute_result"
    }
   ],
   "source": [
    "df.head()"
   ]
  },
  {
   "cell_type": "code",
   "execution_count": 4,
   "metadata": {},
   "outputs": [
    {
     "data": {
      "text/plain": [
       "552206"
      ]
     },
     "execution_count": 4,
     "metadata": {},
     "output_type": "execute_result"
    }
   ],
   "source": [
    "len(df)"
   ]
  },
  {
   "cell_type": "code",
   "execution_count": 52,
   "metadata": {},
   "outputs": [],
   "source": [
    "rh = pd.read_csv('C:/Workspace/TNC-Demand-Model/Outputs/2019_Weekday_Ridehail.csv')"
   ]
  },
  {
   "cell_type": "code",
   "execution_count": 6,
   "metadata": {},
   "outputs": [
    {
     "data": {
      "text/html": [
       "<div>\n",
       "<style scoped>\n",
       "    .dataframe tbody tr th:only-of-type {\n",
       "        vertical-align: middle;\n",
       "    }\n",
       "\n",
       "    .dataframe tbody tr th {\n",
       "        vertical-align: top;\n",
       "    }\n",
       "\n",
       "    .dataframe thead th {\n",
       "        text-align: right;\n",
       "    }\n",
       "</style>\n",
       "<table border=\"1\" class=\"dataframe\">\n",
       "  <thead>\n",
       "    <tr style=\"text-align: right;\">\n",
       "      <th></th>\n",
       "      <th>Unnamed: 0</th>\n",
       "      <th>Pickup Census Tract</th>\n",
       "      <th>Dropoff Census Tract</th>\n",
       "      <th>MONTH</th>\n",
       "      <th>DAY</th>\n",
       "      <th>Trip Seconds</th>\n",
       "      <th>Trip Miles</th>\n",
       "      <th>Fare</th>\n",
       "      <th>Tip</th>\n",
       "      <th>Additional Charges</th>\n",
       "      <th>Trip Total</th>\n",
       "      <th>PRIVATE_TRIPS</th>\n",
       "      <th>SHARED_TRIPS</th>\n",
       "      <th>Trips Pooled</th>\n",
       "      <th>TOD</th>\n",
       "    </tr>\n",
       "  </thead>\n",
       "  <tbody>\n",
       "    <tr>\n",
       "      <th>0</th>\n",
       "      <td>0</td>\n",
       "      <td>1.703101e+10</td>\n",
       "      <td>1.703101e+10</td>\n",
       "      <td>1.545455</td>\n",
       "      <td>14.681818</td>\n",
       "      <td>357.088636</td>\n",
       "      <td>1.089394</td>\n",
       "      <td>4.126894</td>\n",
       "      <td>0.606061</td>\n",
       "      <td>2.351250</td>\n",
       "      <td>7.084205</td>\n",
       "      <td>1.272727</td>\n",
       "      <td>0.409091</td>\n",
       "      <td>1.772727</td>\n",
       "      <td>1</td>\n",
       "    </tr>\n",
       "    <tr>\n",
       "      <th>1</th>\n",
       "      <td>1</td>\n",
       "      <td>1.703101e+10</td>\n",
       "      <td>1.703101e+10</td>\n",
       "      <td>1.482759</td>\n",
       "      <td>15.310345</td>\n",
       "      <td>285.902299</td>\n",
       "      <td>1.069540</td>\n",
       "      <td>3.735632</td>\n",
       "      <td>0.068966</td>\n",
       "      <td>2.387069</td>\n",
       "      <td>6.191667</td>\n",
       "      <td>0.896552</td>\n",
       "      <td>0.655172</td>\n",
       "      <td>1.862069</td>\n",
       "      <td>1</td>\n",
       "    </tr>\n",
       "    <tr>\n",
       "      <th>2</th>\n",
       "      <td>2</td>\n",
       "      <td>1.703101e+10</td>\n",
       "      <td>1.703101e+10</td>\n",
       "      <td>1.384615</td>\n",
       "      <td>16.000000</td>\n",
       "      <td>230.307692</td>\n",
       "      <td>0.576923</td>\n",
       "      <td>2.884615</td>\n",
       "      <td>0.076923</td>\n",
       "      <td>2.153846</td>\n",
       "      <td>5.115385</td>\n",
       "      <td>0.461538</td>\n",
       "      <td>0.692308</td>\n",
       "      <td>1.307692</td>\n",
       "      <td>1</td>\n",
       "    </tr>\n",
       "    <tr>\n",
       "      <th>3</th>\n",
       "      <td>3</td>\n",
       "      <td>1.703101e+10</td>\n",
       "      <td>1.703101e+10</td>\n",
       "      <td>1.500000</td>\n",
       "      <td>14.333333</td>\n",
       "      <td>206.625000</td>\n",
       "      <td>0.700000</td>\n",
       "      <td>3.333333</td>\n",
       "      <td>0.250000</td>\n",
       "      <td>2.125000</td>\n",
       "      <td>5.708333</td>\n",
       "      <td>0.916667</td>\n",
       "      <td>0.333333</td>\n",
       "      <td>1.416667</td>\n",
       "      <td>1</td>\n",
       "    </tr>\n",
       "    <tr>\n",
       "      <th>4</th>\n",
       "      <td>4</td>\n",
       "      <td>1.703101e+10</td>\n",
       "      <td>1.703101e+10</td>\n",
       "      <td>1.588235</td>\n",
       "      <td>10.764706</td>\n",
       "      <td>365.431373</td>\n",
       "      <td>1.462745</td>\n",
       "      <td>4.950980</td>\n",
       "      <td>0.490196</td>\n",
       "      <td>1.647059</td>\n",
       "      <td>7.088235</td>\n",
       "      <td>0.529412</td>\n",
       "      <td>0.588235</td>\n",
       "      <td>1.294118</td>\n",
       "      <td>1</td>\n",
       "    </tr>\n",
       "  </tbody>\n",
       "</table>\n",
       "</div>"
      ],
      "text/plain": [
       "   Unnamed: 0  Pickup Census Tract  Dropoff Census Tract     MONTH        DAY  \\\n",
       "0           0         1.703101e+10          1.703101e+10  1.545455  14.681818   \n",
       "1           1         1.703101e+10          1.703101e+10  1.482759  15.310345   \n",
       "2           2         1.703101e+10          1.703101e+10  1.384615  16.000000   \n",
       "3           3         1.703101e+10          1.703101e+10  1.500000  14.333333   \n",
       "4           4         1.703101e+10          1.703101e+10  1.588235  10.764706   \n",
       "\n",
       "   Trip Seconds  Trip Miles      Fare       Tip  Additional Charges  \\\n",
       "0    357.088636    1.089394  4.126894  0.606061            2.351250   \n",
       "1    285.902299    1.069540  3.735632  0.068966            2.387069   \n",
       "2    230.307692    0.576923  2.884615  0.076923            2.153846   \n",
       "3    206.625000    0.700000  3.333333  0.250000            2.125000   \n",
       "4    365.431373    1.462745  4.950980  0.490196            1.647059   \n",
       "\n",
       "   Trip Total  PRIVATE_TRIPS  SHARED_TRIPS  Trips Pooled  TOD  \n",
       "0    7.084205       1.272727      0.409091      1.772727    1  \n",
       "1    6.191667       0.896552      0.655172      1.862069    1  \n",
       "2    5.115385       0.461538      0.692308      1.307692    1  \n",
       "3    5.708333       0.916667      0.333333      1.416667    1  \n",
       "4    7.088235       0.529412      0.588235      1.294118    1  "
      ]
     },
     "execution_count": 6,
     "metadata": {},
     "output_type": "execute_result"
    }
   ],
   "source": [
    "rh.head()"
   ]
  },
  {
   "cell_type": "code",
   "execution_count": 7,
   "metadata": {},
   "outputs": [
    {
     "data": {
      "text/plain": [
       "767362"
      ]
     },
     "execution_count": 7,
     "metadata": {},
     "output_type": "execute_result"
    }
   ],
   "source": [
    "len(rh)"
   ]
  },
  {
   "cell_type": "code",
   "execution_count": 8,
   "metadata": {},
   "outputs": [
    {
     "data": {
      "text/plain": [
       "215156"
      ]
     },
     "execution_count": 8,
     "metadata": {},
     "output_type": "execute_result"
    }
   ],
   "source": [
    "len(rh)-len(df)"
   ]
  },
  {
   "cell_type": "code",
   "execution_count": 11,
   "metadata": {},
   "outputs": [
    {
     "data": {
      "text/plain": [
       "463.8491133978807"
      ]
     },
     "execution_count": 11,
     "metadata": {},
     "output_type": "execute_result"
    }
   ],
   "source": [
    "np.sqrt(len(rh)-len(df))"
   ]
  },
  {
   "cell_type": "code",
   "execution_count": 43,
   "metadata": {},
   "outputs": [
    {
     "data": {
      "text/plain": [
       "1319"
      ]
     },
     "execution_count": 43,
     "metadata": {},
     "output_type": "execute_result"
    }
   ],
   "source": [
    "len(census[census['COUNTYFP'] == '031'])"
   ]
  },
  {
   "cell_type": "code",
   "execution_count": 50,
   "metadata": {},
   "outputs": [],
   "source": [
    "census = gp.read_file('C:/Workspace/TNC-Demand-Model/Inputs/Census Shapefiles/Tracts/tl_2019_17_tract/tl_2019_17_tract.shp')"
   ]
  },
  {
   "cell_type": "code",
   "execution_count": 51,
   "metadata": {},
   "outputs": [],
   "source": [
    "census['GEOID'] = census['GEOID'].astype(float)"
   ]
  },
  {
   "cell_type": "code",
   "execution_count": 58,
   "metadata": {},
   "outputs": [],
   "source": [
    "points = rh['Pickup Census Tract'].append(rh['Dropoff Census Tract'])\n",
    "\n",
    "points = points.drop_duplicates()"
   ]
  },
  {
   "cell_type": "code",
   "execution_count": 59,
   "metadata": {},
   "outputs": [],
   "source": [
    "rh_origin = census[census['GEOID'].isin(points)]"
   ]
  },
  {
   "cell_type": "code",
   "execution_count": 60,
   "metadata": {},
   "outputs": [],
   "source": [
    "rh_origin = rh_origin.drop_duplicates(subset = 'GEOID')"
   ]
  },
  {
   "cell_type": "code",
   "execution_count": 61,
   "metadata": {},
   "outputs": [],
   "source": [
    "rh_origin.to_file('Ride-Hailing Origins.shp', driver = 'ESRI Shapefile')"
   ]
  },
  {
   "cell_type": "code",
   "execution_count": 62,
   "metadata": {},
   "outputs": [
    {
     "data": {
      "text/plain": [
       "1023"
      ]
     },
     "execution_count": 62,
     "metadata": {},
     "output_type": "execute_result"
    }
   ],
   "source": [
    "len(rh_origin)"
   ]
  },
  {
   "cell_type": "code",
   "execution_count": null,
   "metadata": {},
   "outputs": [],
   "source": []
  },
  {
   "cell_type": "code",
   "execution_count": null,
   "metadata": {},
   "outputs": [],
   "source": []
  },
  {
   "cell_type": "code",
   "execution_count": 36,
   "metadata": {},
   "outputs": [],
   "source": [
    "df['origin'] = df['origin'].astype(str)\n",
    "df['destination'] = df['destination'].astype(str)"
   ]
  },
  {
   "cell_type": "code",
   "execution_count": 24,
   "metadata": {},
   "outputs": [],
   "source": [
    "origin = pd.merge(census, df, how = 'inner', left_on = 'GEOID', right_on = 'origin')"
   ]
  },
  {
   "cell_type": "code",
   "execution_count": 31,
   "metadata": {},
   "outputs": [],
   "source": [
    "origin = origin.drop_duplicates?"
   ]
  },
  {
   "cell_type": "code",
   "execution_count": 32,
   "metadata": {},
   "outputs": [],
   "source": [
    "origin = origin.drop_duplicates(subset = 'origin')"
   ]
  },
  {
   "cell_type": "code",
   "execution_count": 33,
   "metadata": {},
   "outputs": [
    {
     "data": {
      "text/plain": [
       "<matplotlib.axes._subplots.AxesSubplot at 0x2744f850748>"
      ]
     },
     "execution_count": 33,
     "metadata": {},
     "output_type": "execute_result"
    },
    {
     "data": {
      "image/png": "[encoded data removed]",
      "text/plain": [
       "<Figure size 432x288 with 1 Axes>"
      ]
     },
     "metadata": {
      "needs_background": "light"
     },
     "output_type": "display_data"
    }
   ],
   "source": [
    "origin.plot()"
   ]
  },
  {
   "cell_type": "code",
   "execution_count": 34,
   "metadata": {},
   "outputs": [],
   "source": [
    "origin.to_file('Origin_Tract_Travel_Times.shp', driver = 'ESRI Shapefile')"
   ]
  },
  {
   "cell_type": "code",
   "execution_count": 37,
   "metadata": {},
   "outputs": [],
   "source": [
    "dest = pd.merge(census, df, how = 'inner', left_on = 'GEOID', right_on = 'destination')"
   ]
  },
  {
   "cell_type": "code",
   "execution_count": null,
   "metadata": {},
   "outputs": [],
   "source": []
  },
  {
   "cell_type": "code",
   "execution_count": 38,
   "metadata": {},
   "outputs": [],
   "source": [
    "dest.to_file('Destination_Tract_Travel_Times.shp', driver = 'ESRI Shapefile')"
   ]
  },
  {
   "cell_type": "code",
   "execution_count": null,
   "metadata": {},
   "outputs": [],
   "source": []
  }
 ],
 "metadata": {
  "kernelspec": {
   "display_name": "Python 3",
   "language": "python",
   "name": "python3"
  },
  "language_info": {
   "codemirror_mode": {
    "name": "ipython",
    "version": 3
   },
   "file_extension": ".py",
   "mimetype": "text/x-python",
   "name": "python",
   "nbconvert_exporter": "python",
   "pygments_lexer": "ipython3",
   "version": "3.6.12"
  }
 },
 "nbformat": 4,
 "nbformat_minor": 4
}
