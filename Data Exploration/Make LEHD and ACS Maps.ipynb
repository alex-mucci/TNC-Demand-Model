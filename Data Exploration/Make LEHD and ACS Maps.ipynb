{
 "cells": [
  {
   "cell_type": "code",
   "execution_count": 40,
   "metadata": {},
   "outputs": [],
   "source": [
    "import geopandas as gp\n",
    "import pandas as pd\n",
    "import folium"
   ]
  },
  {
   "cell_type": "code",
   "execution_count": 2,
   "metadata": {},
   "outputs": [],
   "source": [
    "wac = gp.read_file('C:/Workspace/TNC-Demand-Model/Outputs/WAC_2019.shp')"
   ]
  },
  {
   "cell_type": "code",
   "execution_count": 3,
   "metadata": {},
   "outputs": [],
   "source": [
    "rac = gp.read_file('C:/Workspace/TNC-Demand-Model/Outputs/RAC_2019.shp')"
   ]
  },
  {
   "cell_type": "code",
   "execution_count": 4,
   "metadata": {},
   "outputs": [],
   "source": [
    "chi_tracts = gp.read_file('C:/Workspace/TNC-Demand-Model/Inputs/Census Shapefiles/Chicago Tracts/geo_export_558aad9f-98d8-4dd5-a6b1-c1730155d596.shp')"
   ]
  },
  {
   "cell_type": "code",
   "execution_count": null,
   "metadata": {},
   "outputs": [],
   "source": []
  },
  {
   "cell_type": "code",
   "execution_count": null,
   "metadata": {},
   "outputs": [],
   "source": []
  },
  {
   "cell_type": "code",
   "execution_count": 24,
   "metadata": {},
   "outputs": [],
   "source": [
    "chi_tracts['TRACT'] = chi_tracts.geoid10.apply(lambda x: x[5:])"
   ]
  },
  {
   "cell_type": "code",
   "execution_count": 35,
   "metadata": {},
   "outputs": [],
   "source": [
    "chi_wac = chi_tracts.merge(wac, how = 'left', left_on = 'TRACT', right_on = 'CENSUS_TRA')\n",
    "chi_rac = chi_tracts.merge(rac, how = 'left', left_on = 'TRACT', right_on = 'CENSUS_TRA')"
   ]
  },
  {
   "cell_type": "code",
   "execution_count": 36,
   "metadata": {},
   "outputs": [],
   "source": [
    "chi_wac = gp.GeoDataFrame(chi_wac, geometry = 'geometry_x')\n",
    "chi_rac = gp.GeoDataFrame(chi_rac, geometry = 'geometry_x')"
   ]
  },
  {
   "cell_type": "code",
   "execution_count": null,
   "metadata": {},
   "outputs": [],
   "source": []
  },
  {
   "cell_type": "code",
   "execution_count": null,
   "metadata": {},
   "outputs": [],
   "source": []
  },
  {
   "cell_type": "code",
   "execution_count": 37,
   "metadata": {},
   "outputs": [],
   "source": [
    "centroids = pd.read_csv('C:/Workspace/TNC-Demand-Model/otp/points.csv')\n",
    "\n",
    "centroids = gp.GeoDataFrame(centroids)"
   ]
  },
  {
   "cell_type": "code",
   "execution_count": 45,
   "metadata": {},
   "outputs": [
    {
     "name": "stdout",
     "output_type": "stream",
     "text": [
      "Everything is Complete!\n"
     ]
    }
   ],
   "source": [
    "\n",
    "m = folium.Map([41.8781, -87.6298], zoom_start=11)\n",
    "\n",
    "\n",
    "folium.Choropleth(\n",
    "         geo_data=chi_tracts,\n",
    "         name= 'Jobs',\n",
    "         data=wac,\n",
    "         columns = ['CENSUS_TRA', 'TOTAL_EMP'],\n",
    "         key_on='feature.properties.TRACT',\n",
    "         fill_color='BuGn',\n",
    "         fill_opacity=0.6,\n",
    "         line_opacity=0.2,\n",
    "         legend_name='Total Jobs',\n",
    "         highlight = True\n",
    "            ).add_to(m)\n",
    "\n",
    "folium.Choropleth(\n",
    "         geo_data=chi_tracts,\n",
    "         name= 'Workers',\n",
    "         data=rac,\n",
    "         columns = ['CENSUS_TRA', 'TOTAL_EMP'],\n",
    "         key_on='feature.properties.TRACT',\n",
    "         fill_color='BuGn',\n",
    "         fill_opacity=0.6,\n",
    "         line_opacity=0.2,\n",
    "         legend_name='Total Workers',\n",
    "         highlight = True\n",
    "            ).add_to(m)\n",
    "\n",
    "\n",
    "feature_group = folium.FeatureGroup(name='Census Tract Centroids', show = False)\n",
    "\n",
    "for tract2 in centroids.GEOID:\n",
    "    row = centroids[centroids['GEOID'] == tract2]\n",
    "    folium.CircleMarker([row['Y'], row['X']], popup = str(int(row['GEOID'].values[0])), radius = 1, fill = True, fill_color = 'grey', color = 'grey').add_to(feature_group)\n",
    "\n",
    "m.add_child(feature_group)\n",
    "\n",
    "folium.LayerControl().add_to(m)\n",
    "m.save('C:/Workspace/TNC-Demand-Model/Data Exploration/LEHD/LEHD 2019 Data.html')\n",
    "\n",
    "print('Everything is Complete!')"
   ]
  },
  {
   "cell_type": "code",
   "execution_count": null,
   "metadata": {},
   "outputs": [],
   "source": []
  },
  {
   "cell_type": "code",
   "execution_count": null,
   "metadata": {},
   "outputs": [],
   "source": []
  },
  {
   "cell_type": "code",
   "execution_count": null,
   "metadata": {},
   "outputs": [],
   "source": []
  }
 ],
 "metadata": {
  "kernelspec": {
   "display_name": "Python 3",
   "language": "python",
   "name": "python3"
  },
  "language_info": {
   "codemirror_mode": {
    "name": "ipython",
    "version": 3
   },
   "file_extension": ".py",
   "mimetype": "text/x-python",
   "name": "python",
   "nbconvert_exporter": "python",
   "pygments_lexer": "ipython3",
   "version": "3.7.6"
  }
 },
 "nbformat": 4,
 "nbformat_minor": 4
}
