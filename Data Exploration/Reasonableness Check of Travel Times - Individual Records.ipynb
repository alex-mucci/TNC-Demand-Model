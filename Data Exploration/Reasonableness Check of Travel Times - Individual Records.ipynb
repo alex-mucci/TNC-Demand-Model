{
 "cells": [
  {
   "cell_type": "code",
   "execution_count": 1,
   "id": "early-background",
   "metadata": {},
   "outputs": [],
   "source": [
    "import pandas as pd"
   ]
  },
  {
   "cell_type": "code",
   "execution_count": null,
   "id": "broadband-connectivity",
   "metadata": {},
   "outputs": [],
   "source": [
    "#the accuracy check of travel times notebook shows that the trips from census tract 17031400800 to census tract 17031490600 \n",
    "# during october of 2019 have a travel time of zero"
   ]
  },
  {
   "cell_type": "code",
   "execution_count": 85,
   "id": "phantom-timer",
   "metadata": {},
   "outputs": [],
   "source": [
    "l = ['Pickup Census Tract']"
   ]
  },
  {
   "cell_type": "code",
   "execution_count": null,
   "id": "terminal-perfume",
   "metadata": {},
   "outputs": [],
   "source": [
    "l[0]"
   ]
  },
  {
   "cell_type": "code",
   "execution_count": 198,
   "id": "anonymous-thanks",
   "metadata": {},
   "outputs": [],
   "source": [
    "est = pd.read_csv('D:/TNC-Demand-Model/Inputs/Chicago Ride-Hailing/Monthly_Trip_Records_No_Suppressed_Shared.csv')"
   ]
  },
  {
   "cell_type": "code",
   "execution_count": 199,
   "id": "regulated-effort",
   "metadata": {},
   "outputs": [],
   "source": [
    "select = est[(est['Pickup Census Tract'] == 17031030200)&(est['Dropoff Census Tract'] == 17031030101)]"
   ]
  },
  {
   "cell_type": "code",
   "execution_count": 202,
   "id": "proud-gathering",
   "metadata": {},
   "outputs": [
    {
     "data": {
      "text/plain": [
       "116.0"
      ]
     },
     "execution_count": 202,
     "metadata": {},
     "output_type": "execute_result"
    }
   ],
   "source": [
    "select['Trip Seconds'].min()"
   ]
  },
  {
   "cell_type": "code",
   "execution_count": null,
   "id": "adopted-czech",
   "metadata": {},
   "outputs": [],
   "source": [
    "est = pd.read_csv('D:/TNC-Demand-Model/Outputs/2019_Weekday_Monthly_Ridehail_TOD.csv')"
   ]
  },
  {
   "cell_type": "code",
   "execution_count": null,
   "id": "corrected-commissioner",
   "metadata": {},
   "outputs": [],
   "source": [
    "select = est[(est['Pickup Census Tract'] == 17031030200)&(est['Dropoff Census Tract'] == 17031030101)]"
   ]
  },
  {
   "cell_type": "code",
   "execution_count": null,
   "id": "prime-portsmouth",
   "metadata": {},
   "outputs": [],
   "source": [
    "select['Trip Seconds'].min()"
   ]
  },
  {
   "cell_type": "code",
   "execution_count": null,
   "id": "grateful-vatican",
   "metadata": {},
   "outputs": [],
   "source": []
  },
  {
   "cell_type": "code",
   "execution_count": 2,
   "id": "rental-michael",
   "metadata": {},
   "outputs": [],
   "source": [
    "store = pd.HDFStore('D:/TNC-Demand-Model/Inputs/Chicago Ride-Hailing/Chicago_TNC_Trips_20.H5')"
   ]
  },
  {
   "cell_type": "code",
   "execution_count": 64,
   "id": "sunset-scottish",
   "metadata": {},
   "outputs": [],
   "source": [
    "df1 = store.select(key = 'Weekday_1', where = ['MONTH == 3','YEAR == 2019'])\n",
    "df1 = df1[(df1['Pickup Census Tract'] == 17031050800)&(df1['Dropoff Census Tract'] == 17031282700)]"
   ]
  },
  {
   "cell_type": "code",
   "execution_count": null,
   "id": "opening-oklahoma",
   "metadata": {},
   "outputs": [],
   "source": [
    "17031050800\t17031282700\n"
   ]
  },
  {
   "cell_type": "code",
   "execution_count": 65,
   "id": "demanding-block",
   "metadata": {},
   "outputs": [],
   "source": [
    "df2 = store.select(key = 'Weekday_2', where = ['MONTH == 3','YEAR == 2019'])\n",
    "df2 = df2[(df2['Pickup Census Tract'] == 17031050800)&(df2['Dropoff Census Tract'] == 17031282700)]"
   ]
  },
  {
   "cell_type": "code",
   "execution_count": 66,
   "id": "irish-turner",
   "metadata": {},
   "outputs": [],
   "source": [
    "df3 = store.select(key = 'Weekday_3', where = ['MONTH == 3','YEAR == 2019'])\n",
    "df3 = df3[(df3['Pickup Census Tract'] == 17031050800)&(df3['Dropoff Census Tract'] == 17031282700)]"
   ]
  },
  {
   "cell_type": "code",
   "execution_count": 67,
   "id": "ordinary-overall",
   "metadata": {},
   "outputs": [],
   "source": [
    "df4 = store.select(key = 'Weekday_4', where = ['MONTH ==3','YEAR == 2019'])\n",
    "df4 = df4[(df4['Pickup Census Tract'] == 17031050800)&(df4['Dropoff Census Tract'] == 17031282700)]"
   ]
  },
  {
   "cell_type": "code",
   "execution_count": 68,
   "id": "better-command",
   "metadata": {},
   "outputs": [],
   "source": [
    "df5 = store.select(key = 'Weekday_5', where = ['MONTH == 3','YEAR == 2019'])\n",
    "df5 = df5[(df5['Pickup Census Tract'] == 17031050800)&(df5['Dropoff Census Tract'] == 17031282700)]"
   ]
  },
  {
   "cell_type": "code",
   "execution_count": null,
   "id": "imposed-nicaragua",
   "metadata": {},
   "outputs": [],
   "source": []
  },
  {
   "cell_type": "code",
   "execution_count": 69,
   "id": "statutory-quilt",
   "metadata": {
    "scrolled": true
   },
   "outputs": [
    {
     "data": {
      "text/html": [
       "<div>\n",
       "<style scoped>\n",
       "    .dataframe tbody tr th:only-of-type {\n",
       "        vertical-align: middle;\n",
       "    }\n",
       "\n",
       "    .dataframe tbody tr th {\n",
       "        vertical-align: top;\n",
       "    }\n",
       "\n",
       "    .dataframe thead th {\n",
       "        text-align: right;\n",
       "    }\n",
       "</style>\n",
       "<table border=\"1\" class=\"dataframe\">\n",
       "  <thead>\n",
       "    <tr style=\"text-align: right;\">\n",
       "      <th></th>\n",
       "      <th>Trip ID</th>\n",
       "      <th>Trip Start Timestamp</th>\n",
       "      <th>Trip End Timestamp</th>\n",
       "      <th>Trip Seconds</th>\n",
       "      <th>Trip Miles</th>\n",
       "      <th>Pickup Census Tract</th>\n",
       "      <th>Dropoff Census Tract</th>\n",
       "      <th>Pickup Community Area</th>\n",
       "      <th>Dropoff Community Area</th>\n",
       "      <th>Fare</th>\n",
       "      <th>...</th>\n",
       "      <th>Pickup Centroid Latitude</th>\n",
       "      <th>Pickup Centroid Longitude</th>\n",
       "      <th>Pickup Centroid Location</th>\n",
       "      <th>Dropoff Centroid Latitude</th>\n",
       "      <th>Dropoff Centroid Longitude</th>\n",
       "      <th>Dropoff Centroid Location</th>\n",
       "      <th>YEAR</th>\n",
       "      <th>MONTH</th>\n",
       "      <th>DOW</th>\n",
       "      <th>HOUR</th>\n",
       "    </tr>\n",
       "  </thead>\n",
       "  <tbody>\n",
       "  </tbody>\n",
       "</table>\n",
       "<p>0 rows × 25 columns</p>\n",
       "</div>"
      ],
      "text/plain": [
       "Empty DataFrame\n",
       "Columns: [Trip ID, Trip Start Timestamp, Trip End Timestamp, Trip Seconds, Trip Miles, Pickup Census Tract, Dropoff Census Tract, Pickup Community Area, Dropoff Community Area, Fare, Tip, Additional Charges, Trip Total, Shared Trip Authorized, Trips Pooled, Pickup Centroid Latitude, Pickup Centroid Longitude, Pickup Centroid Location, Dropoff Centroid Latitude, Dropoff Centroid Longitude, Dropoff Centroid Location, YEAR, MONTH, DOW, HOUR]\n",
       "Index: []\n",
       "\n",
       "[0 rows x 25 columns]"
      ]
     },
     "execution_count": 69,
     "metadata": {},
     "output_type": "execute_result"
    }
   ],
   "source": [
    "df1"
   ]
  },
  {
   "cell_type": "code",
   "execution_count": 70,
   "id": "nominated-carol",
   "metadata": {},
   "outputs": [
    {
     "data": {
      "text/html": [
       "<div>\n",
       "<style scoped>\n",
       "    .dataframe tbody tr th:only-of-type {\n",
       "        vertical-align: middle;\n",
       "    }\n",
       "\n",
       "    .dataframe tbody tr th {\n",
       "        vertical-align: top;\n",
       "    }\n",
       "\n",
       "    .dataframe thead th {\n",
       "        text-align: right;\n",
       "    }\n",
       "</style>\n",
       "<table border=\"1\" class=\"dataframe\">\n",
       "  <thead>\n",
       "    <tr style=\"text-align: right;\">\n",
       "      <th></th>\n",
       "      <th>Trip ID</th>\n",
       "      <th>Trip Start Timestamp</th>\n",
       "      <th>Trip End Timestamp</th>\n",
       "      <th>Trip Seconds</th>\n",
       "      <th>Trip Miles</th>\n",
       "      <th>Pickup Census Tract</th>\n",
       "      <th>Dropoff Census Tract</th>\n",
       "      <th>Pickup Community Area</th>\n",
       "      <th>Dropoff Community Area</th>\n",
       "      <th>Fare</th>\n",
       "      <th>...</th>\n",
       "      <th>Pickup Centroid Latitude</th>\n",
       "      <th>Pickup Centroid Longitude</th>\n",
       "      <th>Pickup Centroid Location</th>\n",
       "      <th>Dropoff Centroid Latitude</th>\n",
       "      <th>Dropoff Centroid Longitude</th>\n",
       "      <th>Dropoff Centroid Location</th>\n",
       "      <th>YEAR</th>\n",
       "      <th>MONTH</th>\n",
       "      <th>DOW</th>\n",
       "      <th>HOUR</th>\n",
       "    </tr>\n",
       "  </thead>\n",
       "  <tbody>\n",
       "  </tbody>\n",
       "</table>\n",
       "<p>0 rows × 25 columns</p>\n",
       "</div>"
      ],
      "text/plain": [
       "Empty DataFrame\n",
       "Columns: [Trip ID, Trip Start Timestamp, Trip End Timestamp, Trip Seconds, Trip Miles, Pickup Census Tract, Dropoff Census Tract, Pickup Community Area, Dropoff Community Area, Fare, Tip, Additional Charges, Trip Total, Shared Trip Authorized, Trips Pooled, Pickup Centroid Latitude, Pickup Centroid Longitude, Pickup Centroid Location, Dropoff Centroid Latitude, Dropoff Centroid Longitude, Dropoff Centroid Location, YEAR, MONTH, DOW, HOUR]\n",
       "Index: []\n",
       "\n",
       "[0 rows x 25 columns]"
      ]
     },
     "execution_count": 70,
     "metadata": {},
     "output_type": "execute_result"
    }
   ],
   "source": [
    "df2"
   ]
  },
  {
   "cell_type": "code",
   "execution_count": 71,
   "id": "pacific-estimate",
   "metadata": {},
   "outputs": [
    {
     "data": {
      "text/html": [
       "<div>\n",
       "<style scoped>\n",
       "    .dataframe tbody tr th:only-of-type {\n",
       "        vertical-align: middle;\n",
       "    }\n",
       "\n",
       "    .dataframe tbody tr th {\n",
       "        vertical-align: top;\n",
       "    }\n",
       "\n",
       "    .dataframe thead th {\n",
       "        text-align: right;\n",
       "    }\n",
       "</style>\n",
       "<table border=\"1\" class=\"dataframe\">\n",
       "  <thead>\n",
       "    <tr style=\"text-align: right;\">\n",
       "      <th></th>\n",
       "      <th>Trip ID</th>\n",
       "      <th>Trip Start Timestamp</th>\n",
       "      <th>Trip End Timestamp</th>\n",
       "      <th>Trip Seconds</th>\n",
       "      <th>Trip Miles</th>\n",
       "      <th>Pickup Census Tract</th>\n",
       "      <th>Dropoff Census Tract</th>\n",
       "      <th>Pickup Community Area</th>\n",
       "      <th>Dropoff Community Area</th>\n",
       "      <th>Fare</th>\n",
       "      <th>...</th>\n",
       "      <th>Pickup Centroid Latitude</th>\n",
       "      <th>Pickup Centroid Longitude</th>\n",
       "      <th>Pickup Centroid Location</th>\n",
       "      <th>Dropoff Centroid Latitude</th>\n",
       "      <th>Dropoff Centroid Longitude</th>\n",
       "      <th>Dropoff Centroid Location</th>\n",
       "      <th>YEAR</th>\n",
       "      <th>MONTH</th>\n",
       "      <th>DOW</th>\n",
       "      <th>HOUR</th>\n",
       "    </tr>\n",
       "  </thead>\n",
       "  <tbody>\n",
       "    <tr>\n",
       "      <th>51772009</th>\n",
       "      <td>21cdb90ccaf7c4656611995175a1ddc4f0a8b92f</td>\n",
       "      <td>2019-03-20 14:45:00</td>\n",
       "      <td>2019-03-20 16:45:00</td>\n",
       "      <td>6852.0</td>\n",
       "      <td>11.5</td>\n",
       "      <td>1.703105e+10</td>\n",
       "      <td>1.703128e+10</td>\n",
       "      <td>5.0</td>\n",
       "      <td>28.0</td>\n",
       "      <td>15.0</td>\n",
       "      <td>...</td>\n",
       "      <td>41.94501</td>\n",
       "      <td>-87.680928</td>\n",
       "      <td>POINT (-87.6809282247 41.9450101512)</td>\n",
       "      <td>41.871351</td>\n",
       "      <td>-87.688675</td>\n",
       "      <td>POINT (-87.6886749004 41.8713514005)</td>\n",
       "      <td>2019</td>\n",
       "      <td>3</td>\n",
       "      <td>2</td>\n",
       "      <td>14</td>\n",
       "    </tr>\n",
       "  </tbody>\n",
       "</table>\n",
       "<p>1 rows × 25 columns</p>\n",
       "</div>"
      ],
      "text/plain": [
       "                                           Trip ID Trip Start Timestamp  \\\n",
       "51772009  21cdb90ccaf7c4656611995175a1ddc4f0a8b92f  2019-03-20 14:45:00   \n",
       "\n",
       "          Trip End Timestamp  Trip Seconds  Trip Miles  Pickup Census Tract  \\\n",
       "51772009 2019-03-20 16:45:00        6852.0        11.5         1.703105e+10   \n",
       "\n",
       "          Dropoff Census Tract  Pickup Community Area  Dropoff Community Area  \\\n",
       "51772009          1.703128e+10                    5.0                    28.0   \n",
       "\n",
       "          Fare  ...  Pickup Centroid Latitude  Pickup Centroid Longitude  \\\n",
       "51772009  15.0  ...                  41.94501                 -87.680928   \n",
       "\n",
       "                      Pickup Centroid Location  Dropoff Centroid Latitude  \\\n",
       "51772009  POINT (-87.6809282247 41.9450101512)                  41.871351   \n",
       "\n",
       "          Dropoff Centroid Longitude             Dropoff Centroid Location  \\\n",
       "51772009                  -87.688675  POINT (-87.6886749004 41.8713514005)   \n",
       "\n",
       "          YEAR MONTH  DOW  HOUR  \n",
       "51772009  2019     3    2    14  \n",
       "\n",
       "[1 rows x 25 columns]"
      ]
     },
     "execution_count": 71,
     "metadata": {},
     "output_type": "execute_result"
    }
   ],
   "source": [
    "df3"
   ]
  },
  {
   "cell_type": "code",
   "execution_count": 72,
   "id": "unique-savings",
   "metadata": {},
   "outputs": [
    {
     "data": {
      "text/html": [
       "<div>\n",
       "<style scoped>\n",
       "    .dataframe tbody tr th:only-of-type {\n",
       "        vertical-align: middle;\n",
       "    }\n",
       "\n",
       "    .dataframe tbody tr th {\n",
       "        vertical-align: top;\n",
       "    }\n",
       "\n",
       "    .dataframe thead th {\n",
       "        text-align: right;\n",
       "    }\n",
       "</style>\n",
       "<table border=\"1\" class=\"dataframe\">\n",
       "  <thead>\n",
       "    <tr style=\"text-align: right;\">\n",
       "      <th></th>\n",
       "      <th>Trip ID</th>\n",
       "      <th>Trip Start Timestamp</th>\n",
       "      <th>Trip End Timestamp</th>\n",
       "      <th>Trip Seconds</th>\n",
       "      <th>Trip Miles</th>\n",
       "      <th>Pickup Census Tract</th>\n",
       "      <th>Dropoff Census Tract</th>\n",
       "      <th>Pickup Community Area</th>\n",
       "      <th>Dropoff Community Area</th>\n",
       "      <th>Fare</th>\n",
       "      <th>...</th>\n",
       "      <th>Pickup Centroid Latitude</th>\n",
       "      <th>Pickup Centroid Longitude</th>\n",
       "      <th>Pickup Centroid Location</th>\n",
       "      <th>Dropoff Centroid Latitude</th>\n",
       "      <th>Dropoff Centroid Longitude</th>\n",
       "      <th>Dropoff Centroid Location</th>\n",
       "      <th>YEAR</th>\n",
       "      <th>MONTH</th>\n",
       "      <th>DOW</th>\n",
       "      <th>HOUR</th>\n",
       "    </tr>\n",
       "  </thead>\n",
       "  <tbody>\n",
       "  </tbody>\n",
       "</table>\n",
       "<p>0 rows × 25 columns</p>\n",
       "</div>"
      ],
      "text/plain": [
       "Empty DataFrame\n",
       "Columns: [Trip ID, Trip Start Timestamp, Trip End Timestamp, Trip Seconds, Trip Miles, Pickup Census Tract, Dropoff Census Tract, Pickup Community Area, Dropoff Community Area, Fare, Tip, Additional Charges, Trip Total, Shared Trip Authorized, Trips Pooled, Pickup Centroid Latitude, Pickup Centroid Longitude, Pickup Centroid Location, Dropoff Centroid Latitude, Dropoff Centroid Longitude, Dropoff Centroid Location, YEAR, MONTH, DOW, HOUR]\n",
       "Index: []\n",
       "\n",
       "[0 rows x 25 columns]"
      ]
     },
     "execution_count": 72,
     "metadata": {},
     "output_type": "execute_result"
    }
   ],
   "source": [
    "df4"
   ]
  },
  {
   "cell_type": "code",
   "execution_count": 73,
   "id": "assigned-party",
   "metadata": {},
   "outputs": [
    {
     "data": {
      "text/html": [
       "<div>\n",
       "<style scoped>\n",
       "    .dataframe tbody tr th:only-of-type {\n",
       "        vertical-align: middle;\n",
       "    }\n",
       "\n",
       "    .dataframe tbody tr th {\n",
       "        vertical-align: top;\n",
       "    }\n",
       "\n",
       "    .dataframe thead th {\n",
       "        text-align: right;\n",
       "    }\n",
       "</style>\n",
       "<table border=\"1\" class=\"dataframe\">\n",
       "  <thead>\n",
       "    <tr style=\"text-align: right;\">\n",
       "      <th></th>\n",
       "      <th>Trip ID</th>\n",
       "      <th>Trip Start Timestamp</th>\n",
       "      <th>Trip End Timestamp</th>\n",
       "      <th>Trip Seconds</th>\n",
       "      <th>Trip Miles</th>\n",
       "      <th>Pickup Census Tract</th>\n",
       "      <th>Dropoff Census Tract</th>\n",
       "      <th>Pickup Community Area</th>\n",
       "      <th>Dropoff Community Area</th>\n",
       "      <th>Fare</th>\n",
       "      <th>...</th>\n",
       "      <th>Pickup Centroid Latitude</th>\n",
       "      <th>Pickup Centroid Longitude</th>\n",
       "      <th>Pickup Centroid Location</th>\n",
       "      <th>Dropoff Centroid Latitude</th>\n",
       "      <th>Dropoff Centroid Longitude</th>\n",
       "      <th>Dropoff Centroid Location</th>\n",
       "      <th>YEAR</th>\n",
       "      <th>MONTH</th>\n",
       "      <th>DOW</th>\n",
       "      <th>HOUR</th>\n",
       "    </tr>\n",
       "  </thead>\n",
       "  <tbody>\n",
       "  </tbody>\n",
       "</table>\n",
       "<p>0 rows × 25 columns</p>\n",
       "</div>"
      ],
      "text/plain": [
       "Empty DataFrame\n",
       "Columns: [Trip ID, Trip Start Timestamp, Trip End Timestamp, Trip Seconds, Trip Miles, Pickup Census Tract, Dropoff Census Tract, Pickup Community Area, Dropoff Community Area, Fare, Tip, Additional Charges, Trip Total, Shared Trip Authorized, Trips Pooled, Pickup Centroid Latitude, Pickup Centroid Longitude, Pickup Centroid Location, Dropoff Centroid Latitude, Dropoff Centroid Longitude, Dropoff Centroid Location, YEAR, MONTH, DOW, HOUR]\n",
       "Index: []\n",
       "\n",
       "[0 rows x 25 columns]"
      ]
     },
     "execution_count": 73,
     "metadata": {},
     "output_type": "execute_result"
    }
   ],
   "source": [
    "df5"
   ]
  },
  {
   "cell_type": "code",
   "execution_count": 130,
   "id": "incomplete-rapid",
   "metadata": {},
   "outputs": [
    {
     "data": {
      "text/plain": [
       "Series([], Name: Shared Trip Authorized, dtype: bool)"
      ]
     },
     "execution_count": 130,
     "metadata": {},
     "output_type": "execute_result"
    }
   ],
   "source": [
    "df5['Shared Trip Authorized']"
   ]
  },
  {
   "cell_type": "code",
   "execution_count": 132,
   "id": "isolated-chambers",
   "metadata": {},
   "outputs": [
    {
     "data": {
      "text/plain": [
       "Index(['Trip ID', 'Trip Start Timestamp', 'Trip End Timestamp', 'Trip Seconds',\n",
       "       'Trip Miles', 'Pickup Census Tract', 'Dropoff Census Tract',\n",
       "       'Pickup Community Area', 'Dropoff Community Area', 'Fare', 'Tip',\n",
       "       'Additional Charges', 'Trip Total', 'Shared Trip Authorized',\n",
       "       'Trips Pooled', 'Pickup Centroid Latitude', 'Pickup Centroid Longitude',\n",
       "       'Pickup Centroid Location', 'Dropoff Centroid Latitude',\n",
       "       'Dropoff Centroid Longitude', 'Dropoff Centroid Location', 'YEAR',\n",
       "       'MONTH', 'DOW', 'HOUR'],\n",
       "      dtype='object')"
      ]
     },
     "execution_count": 132,
     "metadata": {},
     "output_type": "execute_result"
    }
   ],
   "source": [
    "df5.columns"
   ]
  },
  {
   "cell_type": "code",
   "execution_count": null,
   "id": "tired-danger",
   "metadata": {},
   "outputs": [],
   "source": []
  },
  {
   "cell_type": "code",
   "execution_count": null,
   "id": "latin-water",
   "metadata": {},
   "outputs": [],
   "source": []
  }
 ],
 "metadata": {
  "kernelspec": {
   "display_name": "Python 3",
   "language": "python",
   "name": "python3"
  },
  "language_info": {
   "codemirror_mode": {
    "name": "ipython",
    "version": 3
   },
   "file_extension": ".py",
   "mimetype": "text/x-python",
   "name": "python",
   "nbconvert_exporter": "python",
   "pygments_lexer": "ipython3",
   "version": "3.6.12"
  }
 },
 "nbformat": 4,
 "nbformat_minor": 5
}
