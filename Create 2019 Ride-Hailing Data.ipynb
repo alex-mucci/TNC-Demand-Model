{
 "cells": [
  {
   "cell_type": "code",
   "execution_count": 1,
   "metadata": {},
   "outputs": [],
   "source": [
    "import pandas as pd\n",
    "import numpy as np\n",
    "import sys \n",
    "import datetime\n",
    "import os\n",
    "import matplotlib as plt\n",
    "\n",
    "%matplotlib inline"
   ]
  },
  {
   "cell_type": "markdown",
   "metadata": {},
   "source": [
    "# Process the Weekday data\n",
    "\n",
    "## Averages data for Jan and Feb 2019\n",
    "\n",
    "* Average weekday non-pooled trip totals \n",
    "* Average weekday pooled trip totals\n",
    "* Average weekday fares\n",
    "* Average weekday travel time\n"
   ]
  },
  {
   "cell_type": "code",
   "execution_count": 2,
   "metadata": {},
   "outputs": [],
   "source": [
    "tods = [1,2,3,4,5,6,7,8]"
   ]
  },
  {
   "cell_type": "code",
   "execution_count": 21,
   "metadata": {},
   "outputs": [],
   "source": [
    "agg = { 'Trip Seconds':'mean',\n",
    "       'Trip Miles':'mean','Fare':'mean',\n",
    "       'Tip':'mean', 'Additional Charges':'mean', 'Trip Total':'mean', 'PRIVATE_TRIPS':'sum','SHARED_TRIPS':'sum',\n",
    "       'Trips Pooled':'sum'}\n"
   ]
  },
  {
   "cell_type": "code",
   "execution_count": 29,
   "metadata": {},
   "outputs": [
    {
     "name": "stdout",
     "output_type": "stream",
     "text": [
      "Working on tod 1\n",
      "Working on tod 2\n",
      "Working on tod 3\n",
      "Working on tod 4\n",
      "Working on tod 5\n",
      "Working on tod 6\n",
      "Working on tod 7\n",
      "Working on tod 8\n"
     ]
    }
   ],
   "source": [
    "df_all = pd.DataFrame()\n",
    "\n",
    "for tod in tods:\n",
    "    print('Working on tod ' + str(tod))\n",
    "    df = pd.read_hdf('C:/Workspace/TNC-Demand-Model/Inputs/Chicago_TNC_Trips_20.H5', key = 'Weekday_' + str(tod))\n",
    "    df = df[df['MONTH'].isin([1,2])]\n",
    "    df = df[df['YEAR']==2019]\n",
    "    df['DAY'] = df['Trip Start Timestamp'].dt.day\n",
    "    df['PRIVATE_TRIPS'] = np.where(df['Shared Trip Authorized'] == False, 1, 0)\n",
    "    df['SHARED_TRIPS'] = np.where(df['Shared Trip Authorized'] == True, 1, 0)    \n",
    "    df = df.groupby(by= ['Pickup Census Tract','Dropoff Census Tract','MONTH','DAY'], as_index =False).agg(agg)\n",
    "    df = df.groupby(by= ['Pickup Census Tract','Dropoff Census Tract'], as_index =False).mean()\n",
    "    df['TOD'] = tod\n",
    "    df_all = df_all.append(df)"
   ]
  },
  {
   "cell_type": "code",
   "execution_count": 30,
   "metadata": {},
   "outputs": [
    {
     "data": {
      "text/html": [
       "<div>\n",
       "<style scoped>\n",
       "    .dataframe tbody tr th:only-of-type {\n",
       "        vertical-align: middle;\n",
       "    }\n",
       "\n",
       "    .dataframe tbody tr th {\n",
       "        vertical-align: top;\n",
       "    }\n",
       "\n",
       "    .dataframe thead th {\n",
       "        text-align: right;\n",
       "    }\n",
       "</style>\n",
       "<table border=\"1\" class=\"dataframe\">\n",
       "  <thead>\n",
       "    <tr style=\"text-align: right;\">\n",
       "      <th></th>\n",
       "      <th>Pickup Census Tract</th>\n",
       "      <th>Dropoff Census Tract</th>\n",
       "      <th>MONTH</th>\n",
       "      <th>DAY</th>\n",
       "      <th>Trip Seconds</th>\n",
       "      <th>Trip Miles</th>\n",
       "      <th>Fare</th>\n",
       "      <th>Tip</th>\n",
       "      <th>Additional Charges</th>\n",
       "      <th>Trip Total</th>\n",
       "      <th>PRIVATE_TRIPS</th>\n",
       "      <th>SHARED_TRIPS</th>\n",
       "      <th>Trips Pooled</th>\n",
       "      <th>TOD</th>\n",
       "    </tr>\n",
       "  </thead>\n",
       "  <tbody>\n",
       "    <tr>\n",
       "      <th>0</th>\n",
       "      <td>1.703101e+10</td>\n",
       "      <td>1.703101e+10</td>\n",
       "      <td>1.545455</td>\n",
       "      <td>14.681818</td>\n",
       "      <td>357.088636</td>\n",
       "      <td>1.089394</td>\n",
       "      <td>4.126894</td>\n",
       "      <td>0.606061</td>\n",
       "      <td>2.351250</td>\n",
       "      <td>7.084205</td>\n",
       "      <td>1.272727</td>\n",
       "      <td>0.409091</td>\n",
       "      <td>1.772727</td>\n",
       "      <td>1</td>\n",
       "    </tr>\n",
       "    <tr>\n",
       "      <th>1</th>\n",
       "      <td>1.703101e+10</td>\n",
       "      <td>1.703101e+10</td>\n",
       "      <td>1.482759</td>\n",
       "      <td>15.310345</td>\n",
       "      <td>285.902299</td>\n",
       "      <td>1.069540</td>\n",
       "      <td>3.735632</td>\n",
       "      <td>0.068966</td>\n",
       "      <td>2.387069</td>\n",
       "      <td>6.191667</td>\n",
       "      <td>0.896552</td>\n",
       "      <td>0.655172</td>\n",
       "      <td>1.862069</td>\n",
       "      <td>1</td>\n",
       "    </tr>\n",
       "    <tr>\n",
       "      <th>2</th>\n",
       "      <td>1.703101e+10</td>\n",
       "      <td>1.703101e+10</td>\n",
       "      <td>1.384615</td>\n",
       "      <td>16.000000</td>\n",
       "      <td>230.307692</td>\n",
       "      <td>0.576923</td>\n",
       "      <td>2.884615</td>\n",
       "      <td>0.076923</td>\n",
       "      <td>2.153846</td>\n",
       "      <td>5.115385</td>\n",
       "      <td>0.461538</td>\n",
       "      <td>0.692308</td>\n",
       "      <td>1.307692</td>\n",
       "      <td>1</td>\n",
       "    </tr>\n",
       "    <tr>\n",
       "      <th>3</th>\n",
       "      <td>1.703101e+10</td>\n",
       "      <td>1.703101e+10</td>\n",
       "      <td>1.500000</td>\n",
       "      <td>14.333333</td>\n",
       "      <td>206.625000</td>\n",
       "      <td>0.700000</td>\n",
       "      <td>3.333333</td>\n",
       "      <td>0.250000</td>\n",
       "      <td>2.125000</td>\n",
       "      <td>5.708333</td>\n",
       "      <td>0.916667</td>\n",
       "      <td>0.333333</td>\n",
       "      <td>1.416667</td>\n",
       "      <td>1</td>\n",
       "    </tr>\n",
       "    <tr>\n",
       "      <th>4</th>\n",
       "      <td>1.703101e+10</td>\n",
       "      <td>1.703101e+10</td>\n",
       "      <td>1.588235</td>\n",
       "      <td>10.764706</td>\n",
       "      <td>365.431373</td>\n",
       "      <td>1.462745</td>\n",
       "      <td>4.950980</td>\n",
       "      <td>0.490196</td>\n",
       "      <td>1.647059</td>\n",
       "      <td>7.088235</td>\n",
       "      <td>0.529412</td>\n",
       "      <td>0.588235</td>\n",
       "      <td>1.294118</td>\n",
       "      <td>1</td>\n",
       "    </tr>\n",
       "  </tbody>\n",
       "</table>\n",
       "</div>"
      ],
      "text/plain": [
       "   Pickup Census Tract  Dropoff Census Tract     MONTH        DAY  \\\n",
       "0         1.703101e+10          1.703101e+10  1.545455  14.681818   \n",
       "1         1.703101e+10          1.703101e+10  1.482759  15.310345   \n",
       "2         1.703101e+10          1.703101e+10  1.384615  16.000000   \n",
       "3         1.703101e+10          1.703101e+10  1.500000  14.333333   \n",
       "4         1.703101e+10          1.703101e+10  1.588235  10.764706   \n",
       "\n",
       "   Trip Seconds  Trip Miles      Fare       Tip  Additional Charges  \\\n",
       "0    357.088636    1.089394  4.126894  0.606061            2.351250   \n",
       "1    285.902299    1.069540  3.735632  0.068966            2.387069   \n",
       "2    230.307692    0.576923  2.884615  0.076923            2.153846   \n",
       "3    206.625000    0.700000  3.333333  0.250000            2.125000   \n",
       "4    365.431373    1.462745  4.950980  0.490196            1.647059   \n",
       "\n",
       "   Trip Total  PRIVATE_TRIPS  SHARED_TRIPS  Trips Pooled  TOD  \n",
       "0    7.084205       1.272727      0.409091      1.772727    1  \n",
       "1    6.191667       0.896552      0.655172      1.862069    1  \n",
       "2    5.115385       0.461538      0.692308      1.307692    1  \n",
       "3    5.708333       0.916667      0.333333      1.416667    1  \n",
       "4    7.088235       0.529412      0.588235      1.294118    1  "
      ]
     },
     "execution_count": 30,
     "metadata": {},
     "output_type": "execute_result"
    }
   ],
   "source": [
    "df_all.head()"
   ]
  },
  {
   "cell_type": "code",
   "execution_count": 28,
   "metadata": {},
   "outputs": [
    {
     "data": {
      "text/plain": [
       "204.69767441860466"
      ]
     },
     "execution_count": 28,
     "metadata": {},
     "output_type": "execute_result"
    }
   ],
   "source": [
    "df_all.PRIVATE_TRIPS.max()"
   ]
  },
  {
   "cell_type": "code",
   "execution_count": 31,
   "metadata": {},
   "outputs": [
    {
     "data": {
      "text/plain": [
       "767362"
      ]
     },
     "execution_count": 31,
     "metadata": {},
     "output_type": "execute_result"
    }
   ],
   "source": [
    "len(df_all)"
   ]
  },
  {
   "cell_type": "code",
   "execution_count": 33,
   "metadata": {},
   "outputs": [],
   "source": [
    "df_all.to_csv('Outputs/2019_Weekday_Ridehail.csv')"
   ]
  },
  {
   "cell_type": "code",
   "execution_count": null,
   "metadata": {},
   "outputs": [],
   "source": []
  }
 ],
 "metadata": {
  "kernelspec": {
   "display_name": "Python 3",
   "language": "python",
   "name": "python3"
  },
  "language_info": {
   "codemirror_mode": {
    "name": "ipython",
    "version": 3
   },
   "file_extension": ".py",
   "mimetype": "text/x-python",
   "name": "python",
   "nbconvert_exporter": "python",
   "pygments_lexer": "ipython3",
   "version": "3.7.6"
  }
 },
 "nbformat": 4,
 "nbformat_minor": 2
}
