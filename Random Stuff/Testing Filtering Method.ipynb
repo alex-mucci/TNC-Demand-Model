{
 "cells": [
  {
   "cell_type": "code",
   "execution_count": 1,
   "metadata": {},
   "outputs": [],
   "source": [
    "import pandas as pd"
   ]
  },
  {
   "cell_type": "code",
   "execution_count": 3,
   "metadata": {},
   "outputs": [],
   "source": [
    "df = pd.read_csv('Transportation_Network_Providers_-_Trips__2018_-_2022__20240228.csv')"
   ]
  },
  {
   "cell_type": "code",
   "execution_count": 4,
   "metadata": {},
   "outputs": [
    {
     "data": {
      "text/html": [
       "<div>\n",
       "<style scoped>\n",
       "    .dataframe tbody tr th:only-of-type {\n",
       "        vertical-align: middle;\n",
       "    }\n",
       "\n",
       "    .dataframe tbody tr th {\n",
       "        vertical-align: top;\n",
       "    }\n",
       "\n",
       "    .dataframe thead th {\n",
       "        text-align: right;\n",
       "    }\n",
       "</style>\n",
       "<table border=\"1\" class=\"dataframe\">\n",
       "  <thead>\n",
       "    <tr style=\"text-align: right;\">\n",
       "      <th></th>\n",
       "      <th>Trip ID</th>\n",
       "      <th>Trip Start Timestamp</th>\n",
       "      <th>Trip End Timestamp</th>\n",
       "      <th>Trip Seconds</th>\n",
       "      <th>Trip Miles</th>\n",
       "      <th>Pickup Census Tract</th>\n",
       "      <th>Dropoff Census Tract</th>\n",
       "      <th>Pickup Community Area</th>\n",
       "      <th>Dropoff Community Area</th>\n",
       "      <th>Fare</th>\n",
       "      <th>...</th>\n",
       "      <th>Additional Charges</th>\n",
       "      <th>Trip Total</th>\n",
       "      <th>Shared Trip Authorized</th>\n",
       "      <th>Trips Pooled</th>\n",
       "      <th>Pickup Centroid Latitude</th>\n",
       "      <th>Pickup Centroid Longitude</th>\n",
       "      <th>Pickup Centroid Location</th>\n",
       "      <th>Dropoff Centroid Latitude</th>\n",
       "      <th>Dropoff Centroid Longitude</th>\n",
       "      <th>Dropoff Centroid Location</th>\n",
       "    </tr>\n",
       "  </thead>\n",
       "  <tbody>\n",
       "    <tr>\n",
       "      <th>0</th>\n",
       "      <td>003dd08da70461f811e7753fbaec03970414bddf</td>\n",
       "      <td>01/01/2019 12:00:00 AM</td>\n",
       "      <td>01/01/2019 12:30:00 AM</td>\n",
       "      <td>1722</td>\n",
       "      <td>9.5</td>\n",
       "      <td>1.703108e+10</td>\n",
       "      <td>1.703183e+10</td>\n",
       "      <td>8.0</td>\n",
       "      <td>1.0</td>\n",
       "      <td>17.5</td>\n",
       "      <td>...</td>\n",
       "      <td>2.50</td>\n",
       "      <td>20.00</td>\n",
       "      <td>False</td>\n",
       "      <td>1</td>\n",
       "      <td>41.895033</td>\n",
       "      <td>-87.619711</td>\n",
       "      <td>POINT (-87.6197106717 41.8950334495)</td>\n",
       "      <td>42.001698</td>\n",
       "      <td>-87.673574</td>\n",
       "      <td>POINT (-87.6735740325 42.0016981937)</td>\n",
       "    </tr>\n",
       "    <tr>\n",
       "      <th>1</th>\n",
       "      <td>0043023973ca23fb921a20f07e83848779ef317d</td>\n",
       "      <td>01/01/2019 12:00:00 AM</td>\n",
       "      <td>01/01/2019 12:15:00 AM</td>\n",
       "      <td>487</td>\n",
       "      <td>2.1</td>\n",
       "      <td>1.703105e+10</td>\n",
       "      <td>1.703106e+10</td>\n",
       "      <td>5.0</td>\n",
       "      <td>6.0</td>\n",
       "      <td>5.0</td>\n",
       "      <td>...</td>\n",
       "      <td>2.50</td>\n",
       "      <td>9.50</td>\n",
       "      <td>False</td>\n",
       "      <td>1</td>\n",
       "      <td>41.957736</td>\n",
       "      <td>-87.683718</td>\n",
       "      <td>POINT (-87.683718102 41.957735565)</td>\n",
       "      <td>41.936159</td>\n",
       "      <td>-87.661265</td>\n",
       "      <td>POINT (-87.6612652184 41.936159071)</td>\n",
       "    </tr>\n",
       "    <tr>\n",
       "      <th>2</th>\n",
       "      <td>007948a0627fa8aadde0c951d2b0db3f4f2f9252</td>\n",
       "      <td>01/01/2019 12:00:00 AM</td>\n",
       "      <td>01/01/2019 12:30:00 AM</td>\n",
       "      <td>1298</td>\n",
       "      <td>18.6</td>\n",
       "      <td>1.703198e+10</td>\n",
       "      <td>NaN</td>\n",
       "      <td>76.0</td>\n",
       "      <td>NaN</td>\n",
       "      <td>22.5</td>\n",
       "      <td>...</td>\n",
       "      <td>8.25</td>\n",
       "      <td>35.75</td>\n",
       "      <td>False</td>\n",
       "      <td>1</td>\n",
       "      <td>41.979071</td>\n",
       "      <td>-87.903040</td>\n",
       "      <td>POINT (-87.9030396611 41.9790708201)</td>\n",
       "      <td>NaN</td>\n",
       "      <td>NaN</td>\n",
       "      <td>NaN</td>\n",
       "    </tr>\n",
       "    <tr>\n",
       "      <th>3</th>\n",
       "      <td>0094daae9466da501bb6a819a91cd4f00e5cda40</td>\n",
       "      <td>01/01/2019 12:00:00 AM</td>\n",
       "      <td>01/01/2019 12:15:00 AM</td>\n",
       "      <td>562</td>\n",
       "      <td>2.4</td>\n",
       "      <td>1.703184e+10</td>\n",
       "      <td>1.703122e+10</td>\n",
       "      <td>8.0</td>\n",
       "      <td>22.0</td>\n",
       "      <td>7.5</td>\n",
       "      <td>...</td>\n",
       "      <td>2.50</td>\n",
       "      <td>10.00</td>\n",
       "      <td>False</td>\n",
       "      <td>1</td>\n",
       "      <td>41.904935</td>\n",
       "      <td>-87.649907</td>\n",
       "      <td>POINT (-87.6499072264 41.9049353016)</td>\n",
       "      <td>41.915910</td>\n",
       "      <td>-87.683826</td>\n",
       "      <td>POINT (-87.6838259399 41.9159097884)</td>\n",
       "    </tr>\n",
       "    <tr>\n",
       "      <th>4</th>\n",
       "      <td>00987083f23af0936863ebb1e1da1d7c6c0a453e</td>\n",
       "      <td>01/01/2019 12:00:00 AM</td>\n",
       "      <td>01/01/2019 12:15:00 AM</td>\n",
       "      <td>245</td>\n",
       "      <td>0.7</td>\n",
       "      <td>1.703183e+10</td>\n",
       "      <td>1.703128e+10</td>\n",
       "      <td>28.0</td>\n",
       "      <td>28.0</td>\n",
       "      <td>2.5</td>\n",
       "      <td>...</td>\n",
       "      <td>2.50</td>\n",
       "      <td>7.00</td>\n",
       "      <td>False</td>\n",
       "      <td>1</td>\n",
       "      <td>41.885281</td>\n",
       "      <td>-87.657233</td>\n",
       "      <td>POINT (-87.6572331997 41.8852813201)</td>\n",
       "      <td>41.879255</td>\n",
       "      <td>-87.642649</td>\n",
       "      <td>POINT (-87.642648998 41.8792550844)</td>\n",
       "    </tr>\n",
       "  </tbody>\n",
       "</table>\n",
       "<p>5 rows × 21 columns</p>\n",
       "</div>"
      ],
      "text/plain": [
       "                                    Trip ID    Trip Start Timestamp  \\\n",
       "0  003dd08da70461f811e7753fbaec03970414bddf  01/01/2019 12:00:00 AM   \n",
       "1  0043023973ca23fb921a20f07e83848779ef317d  01/01/2019 12:00:00 AM   \n",
       "2  007948a0627fa8aadde0c951d2b0db3f4f2f9252  01/01/2019 12:00:00 AM   \n",
       "3  0094daae9466da501bb6a819a91cd4f00e5cda40  01/01/2019 12:00:00 AM   \n",
       "4  00987083f23af0936863ebb1e1da1d7c6c0a453e  01/01/2019 12:00:00 AM   \n",
       "\n",
       "       Trip End Timestamp  Trip Seconds  Trip Miles  Pickup Census Tract  \\\n",
       "0  01/01/2019 12:30:00 AM          1722         9.5         1.703108e+10   \n",
       "1  01/01/2019 12:15:00 AM           487         2.1         1.703105e+10   \n",
       "2  01/01/2019 12:30:00 AM          1298        18.6         1.703198e+10   \n",
       "3  01/01/2019 12:15:00 AM           562         2.4         1.703184e+10   \n",
       "4  01/01/2019 12:15:00 AM           245         0.7         1.703183e+10   \n",
       "\n",
       "   Dropoff Census Tract  Pickup Community Area  Dropoff Community Area  Fare  \\\n",
       "0          1.703183e+10                    8.0                     1.0  17.5   \n",
       "1          1.703106e+10                    5.0                     6.0   5.0   \n",
       "2                   NaN                   76.0                     NaN  22.5   \n",
       "3          1.703122e+10                    8.0                    22.0   7.5   \n",
       "4          1.703128e+10                   28.0                    28.0   2.5   \n",
       "\n",
       "   ...  Additional Charges  Trip Total  Shared Trip Authorized  Trips Pooled  \\\n",
       "0  ...                2.50       20.00                   False             1   \n",
       "1  ...                2.50        9.50                   False             1   \n",
       "2  ...                8.25       35.75                   False             1   \n",
       "3  ...                2.50       10.00                   False             1   \n",
       "4  ...                2.50        7.00                   False             1   \n",
       "\n",
       "   Pickup Centroid Latitude  Pickup Centroid Longitude  \\\n",
       "0                 41.895033                 -87.619711   \n",
       "1                 41.957736                 -87.683718   \n",
       "2                 41.979071                 -87.903040   \n",
       "3                 41.904935                 -87.649907   \n",
       "4                 41.885281                 -87.657233   \n",
       "\n",
       "               Pickup Centroid Location Dropoff Centroid Latitude  \\\n",
       "0  POINT (-87.6197106717 41.8950334495)                 42.001698   \n",
       "1    POINT (-87.683718102 41.957735565)                 41.936159   \n",
       "2  POINT (-87.9030396611 41.9790708201)                       NaN   \n",
       "3  POINT (-87.6499072264 41.9049353016)                 41.915910   \n",
       "4  POINT (-87.6572331997 41.8852813201)                 41.879255   \n",
       "\n",
       "   Dropoff Centroid Longitude             Dropoff Centroid Location  \n",
       "0                  -87.673574  POINT (-87.6735740325 42.0016981937)  \n",
       "1                  -87.661265   POINT (-87.6612652184 41.936159071)  \n",
       "2                         NaN                                   NaN  \n",
       "3                  -87.683826  POINT (-87.6838259399 41.9159097884)  \n",
       "4                  -87.642649   POINT (-87.642648998 41.8792550844)  \n",
       "\n",
       "[5 rows x 21 columns]"
      ]
     },
     "execution_count": 4,
     "metadata": {},
     "output_type": "execute_result"
    }
   ],
   "source": [
    "df.head()"
   ]
  },
  {
   "cell_type": "code",
   "execution_count": 5,
   "metadata": {},
   "outputs": [],
   "source": [
    "df['TRAVEL_TIME'] = df['Trip Seconds']/60"
   ]
  },
  {
   "cell_type": "code",
   "execution_count": 12,
   "metadata": {},
   "outputs": [],
   "source": [
    "df['SPEED'] = df['Trip Miles']/(df['TRAVEL_TIME']/60)"
   ]
  },
  {
   "cell_type": "code",
   "execution_count": 14,
   "metadata": {},
   "outputs": [
    {
     "data": {
      "text/plain": [
       "2622"
      ]
     },
     "execution_count": 14,
     "metadata": {},
     "output_type": "execute_result"
    }
   ],
   "source": [
    "len(df[df['SPEED']<1])"
   ]
  },
  {
   "cell_type": "code",
   "execution_count": 15,
   "metadata": {},
   "outputs": [
    {
     "data": {
      "text/plain": [
       "2918"
      ]
     },
     "execution_count": 15,
     "metadata": {},
     "output_type": "execute_result"
    }
   ],
   "source": [
    "len(df[df['SPEED']>60])"
   ]
  },
  {
   "cell_type": "code",
   "execution_count": 16,
   "metadata": {},
   "outputs": [
    {
     "data": {
      "text/plain": [
       "17.940103344023328"
      ]
     },
     "execution_count": 16,
     "metadata": {},
     "output_type": "execute_result"
    }
   ],
   "source": [
    "df.SPEED.mean()"
   ]
  },
  {
   "cell_type": "code",
   "execution_count": null,
   "metadata": {},
   "outputs": [],
   "source": []
  }
 ],
 "metadata": {
  "kernelspec": {
   "display_name": "Python 3",
   "language": "python",
   "name": "python3"
  },
  "language_info": {
   "codemirror_mode": {
    "name": "ipython",
    "version": 3
   },
   "file_extension": ".py",
   "mimetype": "text/x-python",
   "name": "python",
   "nbconvert_exporter": "python",
   "pygments_lexer": "ipython3",
   "version": "3.12.1"
  }
 },
 "nbformat": 4,
 "nbformat_minor": 2
}
