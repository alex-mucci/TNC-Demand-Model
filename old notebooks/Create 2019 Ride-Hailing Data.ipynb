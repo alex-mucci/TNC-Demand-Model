{
 "cells": [
  {
   "cell_type": "code",
   "execution_count": 1,
   "metadata": {},
   "outputs": [],
   "source": [
    "import pandas as pd\n",
    "import numpy as np\n",
    "import sys \n",
    "import datetime\n",
    "import os\n",
    "import matplotlib as plt\n",
    "import seaborn as sns\n",
    "\n",
    "%matplotlib inline"
   ]
  },
  {
   "cell_type": "markdown",
   "metadata": {},
   "source": [
    "# Process the Weekday data\n",
    "\n",
    "## Averages data for Jan and Feb 2019\n",
    "\n",
    "* Average weekday non-pooled trip totals \n",
    "* Average weekday pooled trip totals\n",
    "* Average weekday fares\n",
    "* Average weekday travel time\n"
   ]
  },
  {
   "cell_type": "code",
   "execution_count": 2,
   "metadata": {},
   "outputs": [],
   "source": [
    "tods = [1,2,3,4,5,6,7,8]"
   ]
  },
  {
   "cell_type": "code",
   "execution_count": 3,
   "metadata": {},
   "outputs": [],
   "source": [
    "agg = { 'Trip Seconds':'mean',\n",
    "       'Trip Miles':'mean','Fare':'mean',\n",
    "       'Tip':'mean', 'Additional Charges':'mean', 'Trip Total':'mean', 'PRIVATE_TRIPS':'sum','SHARED_TRIPS':'sum',\n",
    "       'Trips Pooled':'sum'}\n"
   ]
  },
  {
   "cell_type": "code",
   "execution_count": null,
   "metadata": {},
   "outputs": [],
   "source": []
  },
  {
   "cell_type": "code",
   "execution_count": null,
   "metadata": {},
   "outputs": [],
   "source": []
  },
  {
   "cell_type": "code",
   "execution_count": null,
   "metadata": {},
   "outputs": [],
   "source": []
  },
  {
   "cell_type": "code",
   "execution_count": null,
   "metadata": {},
   "outputs": [],
   "source": []
  },
  {
   "cell_type": "code",
   "execution_count": null,
   "metadata": {},
   "outputs": [],
   "source": []
  },
  {
   "cell_type": "code",
   "execution_count": null,
   "metadata": {},
   "outputs": [],
   "source": []
  },
  {
   "cell_type": "code",
   "execution_count": null,
   "metadata": {},
   "outputs": [],
   "source": []
  },
  {
   "cell_type": "code",
   "execution_count": null,
   "metadata": {},
   "outputs": [],
   "source": []
  },
  {
   "cell_type": "code",
   "execution_count": null,
   "metadata": {},
   "outputs": [],
   "source": []
  },
  {
   "cell_type": "code",
   "execution_count": null,
   "metadata": {},
   "outputs": [],
   "source": []
  },
  {
   "cell_type": "code",
   "execution_count": 6,
   "metadata": {
    "scrolled": true
   },
   "outputs": [
    {
     "name": "stdout",
     "output_type": "stream",
     "text": [
      "Working on tod 1\n",
      "55117.0\n",
      "296.9\n",
      "7158.0\n",
      "49.8\n",
      "Working on tod 2\n",
      "29520.0\n",
      "205.2\n",
      "7093.0\n",
      "48.5\n",
      "Working on tod 3\n",
      "78780.0\n",
      "266.1\n",
      "7198.0\n",
      "49.5\n",
      "Working on tod 4\n",
      "27660.0\n",
      "335.5\n",
      "7003.0\n",
      "49.8\n",
      "Working on tod 5\n",
      "80520.0\n",
      "304.7\n",
      "7186.0\n",
      "49.6\n",
      "Working on tod 6\n",
      "35751.0\n",
      "295.6\n",
      "7144.0\n",
      "49.1\n",
      "Working on tod 7\n",
      "77040.0\n",
      "294.7\n",
      "7195.0\n",
      "50.0\n",
      "Working on tod 8\n",
      "73200.0\n",
      "262.0\n",
      "7159.0\n",
      "49.7\n"
     ]
    }
   ],
   "source": [
    "df_all = pd.DataFrame()\n",
    "df_raw = pd.DataFrame()\n",
    "\n",
    "for tod in tods:\n",
    "    print('Working on tod ' + str(tod))\n",
    "    df = pd.read_hdf('C:/Workspace/TNC-Demand-Model/Inputs/Chicago Ride-Hailing/Old Files/Chicago_TNC_Trips_20_Incomplete.H5', key = 'Weekday_' + str(tod))\n",
    "\n",
    "    df = df[df['MONTH'].isin([1,2])]\n",
    "    df = df[df['YEAR']==2019]\n",
    "    \n",
    "    print(df['Trip Seconds'].max())\n",
    "    print(df['Trip Miles'].max())\n",
    "    \n",
    "    df = df.dropna(subset = ['Pickup Census Tract', 'Dropoff Census Tract'])\n",
    "    df['DAY'] = df['Trip Start Timestamp'].dt.day\n",
    "    df['PRIVATE_TRIPS'] = np.where(df['Shared Trip Authorized'] == False, 1, 0)\n",
    "    df['SHARED_TRIPS'] = np.where(df['Shared Trip Authorized'] == True, 1, 0)  \n",
    "    \n",
    "    ## the filters are higher than the longest trip because the trip could be pooled\n",
    "    # filter out the trips that are longer than 50 miles becuase the longest possible trip is 35 miles going from O'Hare airport to south east corner\n",
    "    df2 = df[df['Trip Miles'] <= 50]\n",
    "    \n",
    "    # filter out the trips that are longer than 2 hours becuase the longest possible trip is 1 hours going from O'Hare airport to south east corner\n",
    "    df2 = df2[df2['Trip Seconds'] <= 7200]\n",
    "    \n",
    "    print(df2['Trip Seconds'].max())\n",
    "    print(df2['Trip Miles'].max())\n",
    "    \n",
    "    df2 = df2.groupby(by= ['Pickup Census Tract','Dropoff Census Tract','MONTH','DAY'], as_index =False).agg(agg)\n",
    "    df2 = df2.groupby(by= ['Pickup Census Tract','Dropoff Census Tract'], as_index =False).mean()\n",
    "    \n",
    "    df['TOD'] = tod\n",
    "    df2['TOD'] = tod\n",
    "\n",
    "    df_raw = df_raw.append(df)\n",
    "    df_all = df_all.append(df2)"
   ]
  },
  {
   "cell_type": "markdown",
   "metadata": {},
   "source": [
    "## Add in the Suppressed Trips"
   ]
  },
  {
   "cell_type": "code",
   "execution_count": 34,
   "metadata": {},
   "outputs": [],
   "source": [
    "sup_trips = pd.read_csv('C:/Workspace/TNC-Demand-Model/Inputs/Chicago Ride-Hailing/2019 Suppressed Trips.csv')"
   ]
  },
  {
   "cell_type": "code",
   "execution_count": 35,
   "metadata": {},
   "outputs": [
    {
     "data": {
      "text/html": [
       "<div>\n",
       "<style scoped>\n",
       "    .dataframe tbody tr th:only-of-type {\n",
       "        vertical-align: middle;\n",
       "    }\n",
       "\n",
       "    .dataframe tbody tr th {\n",
       "        vertical-align: top;\n",
       "    }\n",
       "\n",
       "    .dataframe thead th {\n",
       "        text-align: right;\n",
       "    }\n",
       "</style>\n",
       "<table border=\"1\" class=\"dataframe\">\n",
       "  <thead>\n",
       "    <tr style=\"text-align: right;\">\n",
       "      <th></th>\n",
       "      <th>Pickup Census Tract</th>\n",
       "      <th>Dropoff Census Tract</th>\n",
       "      <th>MONTH</th>\n",
       "      <th>DAY</th>\n",
       "      <th>Trip Seconds</th>\n",
       "      <th>Trip Miles</th>\n",
       "      <th>Fare</th>\n",
       "      <th>Tip</th>\n",
       "      <th>Additional Charges</th>\n",
       "      <th>Trip Total</th>\n",
       "      <th>PRIVATE_TRIPS</th>\n",
       "      <th>SHARED_TRIPS</th>\n",
       "      <th>Trips Pooled</th>\n",
       "      <th>TOD</th>\n",
       "    </tr>\n",
       "  </thead>\n",
       "  <tbody>\n",
       "    <tr>\n",
       "      <th>0</th>\n",
       "      <td>1.703101e+10</td>\n",
       "      <td>1.703101e+10</td>\n",
       "      <td>1.437500</td>\n",
       "      <td>14.625000</td>\n",
       "      <td>397.496875</td>\n",
       "      <td>1.235417</td>\n",
       "      <td>4.580729</td>\n",
       "      <td>0.770833</td>\n",
       "      <td>2.276719</td>\n",
       "      <td>7.628281</td>\n",
       "      <td>1.500000</td>\n",
       "      <td>0.437500</td>\n",
       "      <td>1.937500</td>\n",
       "      <td>1</td>\n",
       "    </tr>\n",
       "    <tr>\n",
       "      <th>1</th>\n",
       "      <td>1.703101e+10</td>\n",
       "      <td>1.703101e+10</td>\n",
       "      <td>1.500000</td>\n",
       "      <td>15.269231</td>\n",
       "      <td>275.250000</td>\n",
       "      <td>1.009615</td>\n",
       "      <td>3.605769</td>\n",
       "      <td>0.076923</td>\n",
       "      <td>2.400962</td>\n",
       "      <td>6.083654</td>\n",
       "      <td>0.807692</td>\n",
       "      <td>0.500000</td>\n",
       "      <td>1.576923</td>\n",
       "      <td>1</td>\n",
       "    </tr>\n",
       "    <tr>\n",
       "      <th>2</th>\n",
       "      <td>1.703101e+10</td>\n",
       "      <td>1.703101e+10</td>\n",
       "      <td>1.400000</td>\n",
       "      <td>16.100000</td>\n",
       "      <td>236.200000</td>\n",
       "      <td>0.570000</td>\n",
       "      <td>3.000000</td>\n",
       "      <td>0.100000</td>\n",
       "      <td>2.035000</td>\n",
       "      <td>5.135000</td>\n",
       "      <td>0.400000</td>\n",
       "      <td>0.800000</td>\n",
       "      <td>1.400000</td>\n",
       "      <td>1</td>\n",
       "    </tr>\n",
       "    <tr>\n",
       "      <th>3</th>\n",
       "      <td>1.703101e+10</td>\n",
       "      <td>1.703101e+10</td>\n",
       "      <td>1.454545</td>\n",
       "      <td>14.272727</td>\n",
       "      <td>206.136364</td>\n",
       "      <td>0.718182</td>\n",
       "      <td>3.409091</td>\n",
       "      <td>0.090909</td>\n",
       "      <td>2.086364</td>\n",
       "      <td>5.586364</td>\n",
       "      <td>0.909091</td>\n",
       "      <td>0.363636</td>\n",
       "      <td>1.454545</td>\n",
       "      <td>1</td>\n",
       "    </tr>\n",
       "    <tr>\n",
       "      <th>4</th>\n",
       "      <td>1.703101e+10</td>\n",
       "      <td>1.703101e+10</td>\n",
       "      <td>1.714286</td>\n",
       "      <td>10.142857</td>\n",
       "      <td>370.738095</td>\n",
       "      <td>1.483333</td>\n",
       "      <td>5.119048</td>\n",
       "      <td>0.595238</td>\n",
       "      <td>1.453571</td>\n",
       "      <td>7.167857</td>\n",
       "      <td>0.500000</td>\n",
       "      <td>0.642857</td>\n",
       "      <td>1.357143</td>\n",
       "      <td>1</td>\n",
       "    </tr>\n",
       "  </tbody>\n",
       "</table>\n",
       "</div>"
      ],
      "text/plain": [
       "   Pickup Census Tract  Dropoff Census Tract     MONTH        DAY  \\\n",
       "0         1.703101e+10          1.703101e+10  1.437500  14.625000   \n",
       "1         1.703101e+10          1.703101e+10  1.500000  15.269231   \n",
       "2         1.703101e+10          1.703101e+10  1.400000  16.100000   \n",
       "3         1.703101e+10          1.703101e+10  1.454545  14.272727   \n",
       "4         1.703101e+10          1.703101e+10  1.714286  10.142857   \n",
       "\n",
       "   Trip Seconds  Trip Miles      Fare       Tip  Additional Charges  \\\n",
       "0    397.496875    1.235417  4.580729  0.770833            2.276719   \n",
       "1    275.250000    1.009615  3.605769  0.076923            2.400962   \n",
       "2    236.200000    0.570000  3.000000  0.100000            2.035000   \n",
       "3    206.136364    0.718182  3.409091  0.090909            2.086364   \n",
       "4    370.738095    1.483333  5.119048  0.595238            1.453571   \n",
       "\n",
       "   Trip Total  PRIVATE_TRIPS  SHARED_TRIPS  Trips Pooled  TOD  \n",
       "0    7.628281       1.500000      0.437500      1.937500    1  \n",
       "1    6.083654       0.807692      0.500000      1.576923    1  \n",
       "2    5.135000       0.400000      0.800000      1.400000    1  \n",
       "3    5.586364       0.909091      0.363636      1.454545    1  \n",
       "4    7.167857       0.500000      0.642857      1.357143    1  "
      ]
     },
     "execution_count": 35,
     "metadata": {},
     "output_type": "execute_result"
    }
   ],
   "source": [
    "df_all.head()"
   ]
  },
  {
   "cell_type": "code",
   "execution_count": 36,
   "metadata": {},
   "outputs": [
    {
     "data": {
      "text/html": [
       "<div>\n",
       "<style scoped>\n",
       "    .dataframe tbody tr th:only-of-type {\n",
       "        vertical-align: middle;\n",
       "    }\n",
       "\n",
       "    .dataframe tbody tr th {\n",
       "        vertical-align: top;\n",
       "    }\n",
       "\n",
       "    .dataframe thead th {\n",
       "        text-align: right;\n",
       "    }\n",
       "</style>\n",
       "<table border=\"1\" class=\"dataframe\">\n",
       "  <thead>\n",
       "    <tr style=\"text-align: right;\">\n",
       "      <th></th>\n",
       "      <th>Unnamed: 0</th>\n",
       "      <th>GEOID_PICKUP</th>\n",
       "      <th>GEOID_DROPOFF</th>\n",
       "      <th>TOD</th>\n",
       "      <th>SCALED_SUP_PRIVATE_TRIPS</th>\n",
       "      <th>SCALED_SUP_SHARED_TRIPS</th>\n",
       "      <th>Pickup Community Area</th>\n",
       "      <th>Dropoff Community Area</th>\n",
       "    </tr>\n",
       "  </thead>\n",
       "  <tbody>\n",
       "    <tr>\n",
       "      <th>0</th>\n",
       "      <td>0</td>\n",
       "      <td>17031010100</td>\n",
       "      <td>17031010100</td>\n",
       "      <td>1</td>\n",
       "      <td>0.505081</td>\n",
       "      <td>0.238328</td>\n",
       "      <td>1.0</td>\n",
       "      <td>1.0</td>\n",
       "    </tr>\n",
       "    <tr>\n",
       "      <th>1</th>\n",
       "      <td>1</td>\n",
       "      <td>17031010100</td>\n",
       "      <td>17031010100</td>\n",
       "      <td>2</td>\n",
       "      <td>0.014279</td>\n",
       "      <td>0.007501</td>\n",
       "      <td>1.0</td>\n",
       "      <td>1.0</td>\n",
       "    </tr>\n",
       "    <tr>\n",
       "      <th>2</th>\n",
       "      <td>2</td>\n",
       "      <td>17031010100</td>\n",
       "      <td>17031010100</td>\n",
       "      <td>3</td>\n",
       "      <td>0.085216</td>\n",
       "      <td>0.034086</td>\n",
       "      <td>1.0</td>\n",
       "      <td>1.0</td>\n",
       "    </tr>\n",
       "    <tr>\n",
       "      <th>3</th>\n",
       "      <td>3</td>\n",
       "      <td>17031010100</td>\n",
       "      <td>17031010100</td>\n",
       "      <td>4</td>\n",
       "      <td>0.048413</td>\n",
       "      <td>0.023284</td>\n",
       "      <td>1.0</td>\n",
       "      <td>1.0</td>\n",
       "    </tr>\n",
       "    <tr>\n",
       "      <th>4</th>\n",
       "      <td>4</td>\n",
       "      <td>17031010100</td>\n",
       "      <td>17031010100</td>\n",
       "      <td>5</td>\n",
       "      <td>0.052144</td>\n",
       "      <td>0.028676</td>\n",
       "      <td>1.0</td>\n",
       "      <td>1.0</td>\n",
       "    </tr>\n",
       "  </tbody>\n",
       "</table>\n",
       "</div>"
      ],
      "text/plain": [
       "   Unnamed: 0  GEOID_PICKUP  GEOID_DROPOFF  TOD  SCALED_SUP_PRIVATE_TRIPS  \\\n",
       "0           0   17031010100    17031010100    1                  0.505081   \n",
       "1           1   17031010100    17031010100    2                  0.014279   \n",
       "2           2   17031010100    17031010100    3                  0.085216   \n",
       "3           3   17031010100    17031010100    4                  0.048413   \n",
       "4           4   17031010100    17031010100    5                  0.052144   \n",
       "\n",
       "   SCALED_SUP_SHARED_TRIPS  Pickup Community Area  Dropoff Community Area  \n",
       "0                 0.238328                    1.0                     1.0  \n",
       "1                 0.007501                    1.0                     1.0  \n",
       "2                 0.034086                    1.0                     1.0  \n",
       "3                 0.023284                    1.0                     1.0  \n",
       "4                 0.028676                    1.0                     1.0  "
      ]
     },
     "execution_count": 36,
     "metadata": {},
     "output_type": "execute_result"
    }
   ],
   "source": [
    "sup_trips.head()"
   ]
  },
  {
   "cell_type": "code",
   "execution_count": 37,
   "metadata": {},
   "outputs": [],
   "source": [
    "df_final = df_all.merge(sup_trips[['GEOID_PICKUP', 'GEOID_DROPOFF', 'SCALED_SUP_PRIVATE_TRIPS', 'SCALED_SUP_SHARED_TRIPS', 'TOD']], how = 'left', left_on = ['Pickup Census Tract','Dropoff Census Tract', 'TOD'],right_on = ['GEOID_PICKUP', 'GEOID_DROPOFF', 'TOD'])"
   ]
  },
  {
   "cell_type": "code",
   "execution_count": 38,
   "metadata": {},
   "outputs": [
    {
     "data": {
      "text/html": [
       "<div>\n",
       "<style scoped>\n",
       "    .dataframe tbody tr th:only-of-type {\n",
       "        vertical-align: middle;\n",
       "    }\n",
       "\n",
       "    .dataframe tbody tr th {\n",
       "        vertical-align: top;\n",
       "    }\n",
       "\n",
       "    .dataframe thead th {\n",
       "        text-align: right;\n",
       "    }\n",
       "</style>\n",
       "<table border=\"1\" class=\"dataframe\">\n",
       "  <thead>\n",
       "    <tr style=\"text-align: right;\">\n",
       "      <th></th>\n",
       "      <th>Pickup Census Tract</th>\n",
       "      <th>Dropoff Census Tract</th>\n",
       "      <th>MONTH</th>\n",
       "      <th>DAY</th>\n",
       "      <th>Trip Seconds</th>\n",
       "      <th>Trip Miles</th>\n",
       "      <th>Fare</th>\n",
       "      <th>Tip</th>\n",
       "      <th>Additional Charges</th>\n",
       "      <th>Trip Total</th>\n",
       "      <th>PRIVATE_TRIPS</th>\n",
       "      <th>SHARED_TRIPS</th>\n",
       "      <th>Trips Pooled</th>\n",
       "      <th>TOD</th>\n",
       "      <th>GEOID_PICKUP</th>\n",
       "      <th>GEOID_DROPOFF</th>\n",
       "      <th>SCALED_SUP_PRIVATE_TRIPS</th>\n",
       "      <th>SCALED_SUP_SHARED_TRIPS</th>\n",
       "    </tr>\n",
       "  </thead>\n",
       "  <tbody>\n",
       "    <tr>\n",
       "      <th>0</th>\n",
       "      <td>1.703101e+10</td>\n",
       "      <td>1.703101e+10</td>\n",
       "      <td>1.437500</td>\n",
       "      <td>14.625000</td>\n",
       "      <td>397.496875</td>\n",
       "      <td>1.235417</td>\n",
       "      <td>4.580729</td>\n",
       "      <td>0.770833</td>\n",
       "      <td>2.276719</td>\n",
       "      <td>7.628281</td>\n",
       "      <td>1.500000</td>\n",
       "      <td>0.437500</td>\n",
       "      <td>1.937500</td>\n",
       "      <td>1</td>\n",
       "      <td>1.703101e+10</td>\n",
       "      <td>1.703101e+10</td>\n",
       "      <td>0.505081</td>\n",
       "      <td>0.238328</td>\n",
       "    </tr>\n",
       "    <tr>\n",
       "      <th>1</th>\n",
       "      <td>1.703101e+10</td>\n",
       "      <td>1.703101e+10</td>\n",
       "      <td>1.500000</td>\n",
       "      <td>15.269231</td>\n",
       "      <td>275.250000</td>\n",
       "      <td>1.009615</td>\n",
       "      <td>3.605769</td>\n",
       "      <td>0.076923</td>\n",
       "      <td>2.400962</td>\n",
       "      <td>6.083654</td>\n",
       "      <td>0.807692</td>\n",
       "      <td>0.500000</td>\n",
       "      <td>1.576923</td>\n",
       "      <td>1</td>\n",
       "      <td>1.703101e+10</td>\n",
       "      <td>1.703101e+10</td>\n",
       "      <td>0.032476</td>\n",
       "      <td>0.015324</td>\n",
       "    </tr>\n",
       "    <tr>\n",
       "      <th>2</th>\n",
       "      <td>1.703101e+10</td>\n",
       "      <td>1.703101e+10</td>\n",
       "      <td>1.400000</td>\n",
       "      <td>16.100000</td>\n",
       "      <td>236.200000</td>\n",
       "      <td>0.570000</td>\n",
       "      <td>3.000000</td>\n",
       "      <td>0.100000</td>\n",
       "      <td>2.035000</td>\n",
       "      <td>5.135000</td>\n",
       "      <td>0.400000</td>\n",
       "      <td>0.800000</td>\n",
       "      <td>1.400000</td>\n",
       "      <td>1</td>\n",
       "      <td>1.703101e+10</td>\n",
       "      <td>1.703101e+10</td>\n",
       "      <td>0.022509</td>\n",
       "      <td>0.010621</td>\n",
       "    </tr>\n",
       "    <tr>\n",
       "      <th>3</th>\n",
       "      <td>1.703101e+10</td>\n",
       "      <td>1.703101e+10</td>\n",
       "      <td>1.454545</td>\n",
       "      <td>14.272727</td>\n",
       "      <td>206.136364</td>\n",
       "      <td>0.718182</td>\n",
       "      <td>3.409091</td>\n",
       "      <td>0.090909</td>\n",
       "      <td>2.086364</td>\n",
       "      <td>5.586364</td>\n",
       "      <td>0.909091</td>\n",
       "      <td>0.363636</td>\n",
       "      <td>1.454545</td>\n",
       "      <td>1</td>\n",
       "      <td>1.703101e+10</td>\n",
       "      <td>1.703101e+10</td>\n",
       "      <td>0.938195</td>\n",
       "      <td>0.442698</td>\n",
       "    </tr>\n",
       "    <tr>\n",
       "      <th>4</th>\n",
       "      <td>1.703101e+10</td>\n",
       "      <td>1.703101e+10</td>\n",
       "      <td>1.714286</td>\n",
       "      <td>10.142857</td>\n",
       "      <td>370.738095</td>\n",
       "      <td>1.483333</td>\n",
       "      <td>5.119048</td>\n",
       "      <td>0.595238</td>\n",
       "      <td>1.453571</td>\n",
       "      <td>7.167857</td>\n",
       "      <td>0.500000</td>\n",
       "      <td>0.642857</td>\n",
       "      <td>1.357143</td>\n",
       "      <td>1</td>\n",
       "      <td>1.703101e+10</td>\n",
       "      <td>1.703101e+10</td>\n",
       "      <td>0.207765</td>\n",
       "      <td>0.098036</td>\n",
       "    </tr>\n",
       "  </tbody>\n",
       "</table>\n",
       "</div>"
      ],
      "text/plain": [
       "   Pickup Census Tract  Dropoff Census Tract     MONTH        DAY  \\\n",
       "0         1.703101e+10          1.703101e+10  1.437500  14.625000   \n",
       "1         1.703101e+10          1.703101e+10  1.500000  15.269231   \n",
       "2         1.703101e+10          1.703101e+10  1.400000  16.100000   \n",
       "3         1.703101e+10          1.703101e+10  1.454545  14.272727   \n",
       "4         1.703101e+10          1.703101e+10  1.714286  10.142857   \n",
       "\n",
       "   Trip Seconds  Trip Miles      Fare       Tip  Additional Charges  \\\n",
       "0    397.496875    1.235417  4.580729  0.770833            2.276719   \n",
       "1    275.250000    1.009615  3.605769  0.076923            2.400962   \n",
       "2    236.200000    0.570000  3.000000  0.100000            2.035000   \n",
       "3    206.136364    0.718182  3.409091  0.090909            2.086364   \n",
       "4    370.738095    1.483333  5.119048  0.595238            1.453571   \n",
       "\n",
       "   Trip Total  PRIVATE_TRIPS  SHARED_TRIPS  Trips Pooled  TOD  GEOID_PICKUP  \\\n",
       "0    7.628281       1.500000      0.437500      1.937500    1  1.703101e+10   \n",
       "1    6.083654       0.807692      0.500000      1.576923    1  1.703101e+10   \n",
       "2    5.135000       0.400000      0.800000      1.400000    1  1.703101e+10   \n",
       "3    5.586364       0.909091      0.363636      1.454545    1  1.703101e+10   \n",
       "4    7.167857       0.500000      0.642857      1.357143    1  1.703101e+10   \n",
       "\n",
       "   GEOID_DROPOFF  SCALED_SUP_PRIVATE_TRIPS  SCALED_SUP_SHARED_TRIPS  \n",
       "0   1.703101e+10                  0.505081                 0.238328  \n",
       "1   1.703101e+10                  0.032476                 0.015324  \n",
       "2   1.703101e+10                  0.022509                 0.010621  \n",
       "3   1.703101e+10                  0.938195                 0.442698  \n",
       "4   1.703101e+10                  0.207765                 0.098036  "
      ]
     },
     "execution_count": 38,
     "metadata": {},
     "output_type": "execute_result"
    }
   ],
   "source": [
    "df_final.head()"
   ]
  },
  {
   "cell_type": "code",
   "execution_count": 39,
   "metadata": {},
   "outputs": [],
   "source": [
    "df_final['SHARED_TRIPS'] = df_final['SHARED_TRIPS'] + df_final['SCALED_SUP_SHARED_TRIPS']\n",
    "df_final['PRIVATE_TRIPS'] = df_final['PRIVATE_TRIPS'] + df_final['SCALED_SUP_PRIVATE_TRIPS']\n",
    "df_final['ALL_TRIPS'] = df_final['PRIVATE_TRIPS'] + df_final['SHARED_TRIPS']"
   ]
  },
  {
   "cell_type": "code",
   "execution_count": null,
   "metadata": {},
   "outputs": [],
   "source": []
  },
  {
   "cell_type": "code",
   "execution_count": 35,
   "metadata": {},
   "outputs": [],
   "source": [
    "df_final.to_csv('Outputs/2019_Weekday_Ridehail.csv')\n"
   ]
  },
  {
   "cell_type": "code",
   "execution_count": 7,
   "metadata": {},
   "outputs": [],
   "source": [
    "df_raw.to_csv('Inputs/Chicago Ride-Hailing/2019_Trip_Records_No_Suppressed.csv')"
   ]
  },
  {
   "cell_type": "markdown",
   "metadata": {},
   "source": [
    "## Make some simple visualizations of the raw data"
   ]
  },
  {
   "cell_type": "code",
   "execution_count": 8,
   "metadata": {},
   "outputs": [
    {
     "data": {
      "text/plain": [
       "<matplotlib.axes._subplots.AxesSubplot at 0x255d6bda488>"
      ]
     },
     "execution_count": 8,
     "metadata": {},
     "output_type": "execute_result"
    },
    {
     "data": {
      "image/png": "[encoded data removed]",
      "text/plain": [
       "<Figure size 432x288 with 1 Axes>"
      ]
     },
     "metadata": {
      "needs_background": "light"
     },
     "output_type": "display_data"
    }
   ],
   "source": [
    "sns.distplot(df_raw[\"Trip Miles\"], bins = np.arange(0, 50, 0.5).tolist())"
   ]
  },
  {
   "cell_type": "code",
   "execution_count": 10,
   "metadata": {},
   "outputs": [
    {
     "data": {
      "text/plain": [
       "<matplotlib.axes._subplots.AxesSubplot at 0x255d8613788>"
      ]
     },
     "execution_count": 10,
     "metadata": {},
     "output_type": "execute_result"
    },
    {
     "data": {
      "image/png": "[encoded data removed]",
      "text/plain": [
       "<Figure size 432x288 with 1 Axes>"
      ]
     },
     "metadata": {
      "needs_background": "light"
     },
     "output_type": "display_data"
    }
   ],
   "source": [
    "sns.distplot(df_raw['Trip Seconds'], bins = np.arange(0, 7200, 60).tolist())"
   ]
  },
  {
   "cell_type": "code",
   "execution_count": 11,
   "metadata": {},
   "outputs": [
    {
     "data": {
      "text/plain": [
       "447.5"
      ]
     },
     "execution_count": 11,
     "metadata": {},
     "output_type": "execute_result"
    }
   ],
   "source": [
    "df_raw['Fare'].max()"
   ]
  },
  {
   "cell_type": "code",
   "execution_count": 12,
   "metadata": {},
   "outputs": [
    {
     "data": {
      "text/plain": [
       "<matplotlib.axes._subplots.AxesSubplot at 0x257c1b4ae08>"
      ]
     },
     "execution_count": 12,
     "metadata": {},
     "output_type": "execute_result"
    },
    {
     "data": {
      "image/png": "[encoded data removed]",
      "text/plain": [
       "<Figure size 432x288 with 1 Axes>"
      ]
     },
     "metadata": {
      "needs_background": "light"
     },
     "output_type": "display_data"
    }
   ],
   "source": [
    "sns.distplot(df_raw['Fare'])"
   ]
  },
  {
   "cell_type": "code",
   "execution_count": 13,
   "metadata": {},
   "outputs": [
    {
     "data": {
      "text/plain": [
       "<matplotlib.axes._subplots.AxesSubplot at 0x25839ee5d88>"
      ]
     },
     "execution_count": 13,
     "metadata": {},
     "output_type": "execute_result"
    },
    {
     "data": {
      "image/png": "[encoded data removed]",
      "text/plain": [
       "<Figure size 432x288 with 1 Axes>"
      ]
     },
     "metadata": {
      "needs_background": "light"
     },
     "output_type": "display_data"
    }
   ],
   "source": [
    "#this is the total cost of the trips\n",
    "sns.distplot(df_raw['Trip Total'], bins = np.arange(0, 210, 5).tolist())"
   ]
  },
  {
   "cell_type": "markdown",
   "metadata": {},
   "source": [
    "# Make some TOD visualizations\n",
    "### for proposal ppt"
   ]
  },
  {
   "cell_type": "code",
   "execution_count": null,
   "metadata": {},
   "outputs": [],
   "source": [
    "1 - 8pm-6am\n",
    "2 - 6am-7am\n",
    "3 - 7am-9am\n",
    "4 - 9am-10am\n",
    "5 - 10am-2pm\n",
    "6 - 2pm-4pm\n",
    "7 - 4pm-6pm\n",
    "8 - 6pm-8pm"
   ]
  },
  {
   "cell_type": "code",
   "execution_count": 14,
   "metadata": {},
   "outputs": [],
   "source": [
    "df_raw['ALL_TRIPS_NO_SUPPRESSED'] = df_raw.PRIVATE_TRIPS + df_raw.SHARED_TRIPS\n"
   ]
  },
  {
   "cell_type": "code",
   "execution_count": 19,
   "metadata": {},
   "outputs": [],
   "source": [
    "tod_sum_df = df_raw.groupby(by = 'TOD', as_index = False).sum()"
   ]
  },
  {
   "cell_type": "code",
   "execution_count": 20,
   "metadata": {},
   "outputs": [
    {
     "data": {
      "text/plain": [
       "<matplotlib.axes._subplots.AxesSubplot at 0x2583d823788>"
      ]
     },
     "execution_count": 20,
     "metadata": {},
     "output_type": "execute_result"
    },
    {
     "data": {
      "image/png": "[encoded data removed]",
      "text/plain": [
       "<Figure size 432x288 with 1 Axes>"
      ]
     },
     "metadata": {
      "needs_background": "light"
     },
     "output_type": "display_data"
    }
   ],
   "source": [
    "#this is total number of trips for each TOD\n",
    "#I add in the suppressed trips down below... use that graph\n",
    "\n",
    "\n",
    "#tod_sum_df.plot(kind = 'bar', x = 'TOD', y = 'ALL_TRIPS_NO_SUPPRESSED')"
   ]
  },
  {
   "cell_type": "code",
   "execution_count": null,
   "metadata": {},
   "outputs": [],
   "source": []
  },
  {
   "cell_type": "code",
   "execution_count": 21,
   "metadata": {},
   "outputs": [],
   "source": [
    "tod_avg_df = df_raw.groupby(by = 'TOD', as_index = False).mean()"
   ]
  },
  {
   "cell_type": "code",
   "execution_count": 24,
   "metadata": {},
   "outputs": [],
   "source": [
    "#this is average number of trips for each OD pair within each TOD\n",
    "#doesnt work right with the raw data... all are 1\n",
    "#tod_avg_df.plot(kind = 'bar', x = 'TOD', y = 'ALL_TRIPS_NO_SUPPRESSED')"
   ]
  },
  {
   "cell_type": "code",
   "execution_count": 25,
   "metadata": {},
   "outputs": [
    {
     "data": {
      "text/plain": [
       "<matplotlib.axes._subplots.AxesSubplot at 0x25972348108>"
      ]
     },
     "execution_count": 25,
     "metadata": {},
     "output_type": "execute_result"
    },
    {
     "data": {
      "image/png": "[encoded data removed]",
      "text/plain": [
       "<Figure size 432x288 with 1 Axes>"
      ]
     },
     "metadata": {
      "needs_background": "light"
     },
     "output_type": "display_data"
    }
   ],
   "source": [
    "tod_avg_df.plot(kind = 'bar', x = 'TOD', y = 'Trip Miles')"
   ]
  },
  {
   "cell_type": "code",
   "execution_count": 26,
   "metadata": {},
   "outputs": [
    {
     "data": {
      "text/plain": [
       "<matplotlib.axes._subplots.AxesSubplot at 0x2596ec29548>"
      ]
     },
     "execution_count": 26,
     "metadata": {},
     "output_type": "execute_result"
    },
    {
     "data": {
      "image/png": "[encoded data removed]",
      "text/plain": [
       "<Figure size 432x288 with 1 Axes>"
      ]
     },
     "metadata": {
      "needs_background": "light"
     },
     "output_type": "display_data"
    }
   ],
   "source": [
    "tod_avg_df.plot(kind = 'bar', x = 'TOD', y = 'Trip Seconds')"
   ]
  },
  {
   "cell_type": "code",
   "execution_count": 29,
   "metadata": {},
   "outputs": [],
   "source": [
    "df_filtered = df_raw[df_raw['Trip Seconds'] <= 7200]\n",
    "df_filtered = df_filtered[df_filtered['Trip Miles'] <= 50]"
   ]
  },
  {
   "cell_type": "code",
   "execution_count": 30,
   "metadata": {},
   "outputs": [],
   "source": [
    "tod_df = pd.DataFrame()\n",
    "variables = ['Trip Miles', 'Trip Seconds']"
   ]
  },
  {
   "cell_type": "code",
   "execution_count": 33,
   "metadata": {},
   "outputs": [],
   "source": [
    "#generate stats for TOD stats table for proposal\n",
    "for var in variables:   \n",
    "    tod_df['TOD'] = tods\n",
    "    min_col = df_filtered[[var, 'TOD']].groupby(by = 'TOD', as_index = False).min()\n",
    "    tod_df['Min'] = min_col[var]\n",
    "\n",
    "    max_col = df_filtered[[var, 'TOD']].groupby(by = 'TOD', as_index = False).max()\n",
    "    tod_df['Max'] = max_col[var]\n",
    "\n",
    "    avg_col = df_filtered[[var, 'TOD']].groupby(by = 'TOD', as_index = False).mean()\n",
    "    tod_df['Average'] = avg_col[var]\n",
    "\n",
    "    sum_col = df_filtered[[var, 'TOD']].groupby(by = 'TOD', as_index = False).sum()\n",
    "    tod_df['Sum'] = sum_col[var]\n",
    "\n",
    "    tod_df.to_csv(var +'_stats.csv')"
   ]
  },
  {
   "cell_type": "code",
   "execution_count": null,
   "metadata": {},
   "outputs": [],
   "source": []
  },
  {
   "cell_type": "code",
   "execution_count": 41,
   "metadata": {},
   "outputs": [],
   "source": [
    "# do the trip totals with the processed data so that it includes suppressed data and processed into average weekday \n",
    "## \n",
    "var = 'ALL_TRIPS'\n",
    "\n",
    "tod_df['TOD'] = tods\n",
    "\n",
    "min_col = df_final[[var, 'TOD']].groupby(by = 'TOD', as_index = False).min()\n",
    "tod_df['Min'] = min_col[var]\n",
    "\n",
    "max_col = df_final[[var, 'TOD']].groupby(by = 'TOD', as_index = False).max()\n",
    "tod_df['Max'] = max_col[var]\n",
    "\n",
    "avg_col = df_final[[var, 'TOD']].groupby(by = 'TOD', as_index = False).mean()\n",
    "tod_df['Average'] = avg_col[var]\n",
    "\n",
    "sum_col = df_final[[var, 'TOD']].groupby(by = 'TOD', as_index = False).sum()\n",
    "tod_df['Sum'] = sum_col[var]\n",
    "\n",
    "tod_df.to_csv(var +'_stats.csv')"
   ]
  },
  {
   "cell_type": "code",
   "execution_count": null,
   "metadata": {},
   "outputs": [],
   "source": []
  },
  {
   "cell_type": "markdown",
   "metadata": {},
   "source": [
    "# Make some DOW visualizations\n",
    "### for proposal ppt"
   ]
  },
  {
   "cell_type": "code",
   "execution_count": 43,
   "metadata": {},
   "outputs": [
    {
     "data": {
      "text/plain": [
       "array([4, 2, 1, 3, 0], dtype=int64)"
      ]
     },
     "execution_count": 43,
     "metadata": {},
     "output_type": "execute_result"
    }
   ],
   "source": [
    "df_raw.DOW.unique()"
   ]
  },
  {
   "cell_type": "code",
   "execution_count": 45,
   "metadata": {},
   "outputs": [],
   "source": [
    "variables = ['Trip Miles', 'Trip Seconds', 'ALL_TRIPS_NO_SUPPRESSED']"
   ]
  },
  {
   "cell_type": "code",
   "execution_count": null,
   "metadata": {},
   "outputs": [],
   "source": []
  },
  {
   "cell_type": "code",
   "execution_count": 46,
   "metadata": {},
   "outputs": [],
   "source": [
    "#generate stats for TOD stats table for proposal\n",
    "for var in variables:   \n",
    "    tod_df['TOD'] = tods\n",
    "    min_col = df_filtered[[var, 'DOW']].groupby(by = 'DOW', as_index = False).min()\n",
    "    tod_df['Min'] = min_col[var]\n",
    "\n",
    "    max_col = df_filtered[[var, 'DOW']].groupby(by = 'DOW', as_index = False).max()\n",
    "    tod_df['Max'] = max_col[var]\n",
    "\n",
    "    avg_col = df_filtered[[var, 'DOW']].groupby(by = 'DOW', as_index = False).mean()\n",
    "    tod_df['Average'] = avg_col[var]\n",
    "\n",
    "    sum_col = df_filtered[[var, 'DOW']].groupby(by = 'DOW', as_index = False).sum()\n",
    "    tod_df['Sum'] = sum_col[var]\n",
    "\n",
    "    tod_df.to_csv(var +'_stats.csv')"
   ]
  },
  {
   "cell_type": "code",
   "execution_count": null,
   "metadata": {},
   "outputs": [],
   "source": []
  },
  {
   "cell_type": "code",
   "execution_count": null,
   "metadata": {},
   "outputs": [],
   "source": []
  },
  {
   "cell_type": "code",
   "execution_count": null,
   "metadata": {},
   "outputs": [],
   "source": []
  },
  {
   "cell_type": "code",
   "execution_count": null,
   "metadata": {},
   "outputs": [],
   "source": []
  },
  {
   "cell_type": "code",
   "execution_count": null,
   "metadata": {},
   "outputs": [],
   "source": []
  },
  {
   "cell_type": "code",
   "execution_count": 45,
   "metadata": {},
   "outputs": [
    {
     "data": {
      "text/plain": [
       "<matplotlib.axes._subplots.AxesSubplot at 0x1976f4db348>"
      ]
     },
     "execution_count": 45,
     "metadata": {},
     "output_type": "execute_result"
    },
    {
     "data": {
      "image/png": "[encoded data removed]",
      "text/plain": [
       "<Figure size 432x288 with 1 Axes>"
      ]
     },
     "metadata": {
      "needs_background": "light"
     },
     "output_type": "display_data"
    }
   ],
   "source": [
    "sns.distplot(df_final['SCALED_SUP_PRIVATE_TRIPS'])"
   ]
  },
  {
   "cell_type": "code",
   "execution_count": 50,
   "metadata": {},
   "outputs": [
    {
     "data": {
      "text/plain": [
       "3.051531195980953"
      ]
     },
     "execution_count": 50,
     "metadata": {},
     "output_type": "execute_result"
    }
   ],
   "source": [
    "sup_trips.SCALED_SUP_PRIVATE_TRIPS.max()"
   ]
  },
  {
   "cell_type": "code",
   "execution_count": 74,
   "metadata": {},
   "outputs": [
    {
     "data": {
      "text/html": [
       "<div>\n",
       "<style scoped>\n",
       "    .dataframe tbody tr th:only-of-type {\n",
       "        vertical-align: middle;\n",
       "    }\n",
       "\n",
       "    .dataframe tbody tr th {\n",
       "        vertical-align: top;\n",
       "    }\n",
       "\n",
       "    .dataframe thead th {\n",
       "        text-align: right;\n",
       "    }\n",
       "</style>\n",
       "<table border=\"1\" class=\"dataframe\">\n",
       "  <thead>\n",
       "    <tr style=\"text-align: right;\">\n",
       "      <th></th>\n",
       "      <th>Pickup Census Tract</th>\n",
       "      <th>Dropoff Census Tract</th>\n",
       "      <th>TOD</th>\n",
       "      <th>Trip Miles</th>\n",
       "    </tr>\n",
       "  </thead>\n",
       "  <tbody>\n",
       "    <tr>\n",
       "      <th>172496</th>\n",
       "      <td>17031081403.0</td>\n",
       "      <td>17031839100.0</td>\n",
       "      <td>3</td>\n",
       "      <td>1.6339446653505498</td>\n",
       "    </tr>\n",
       "    <tr>\n",
       "      <th>172789</th>\n",
       "      <td>17031081500.0</td>\n",
       "      <td>17031839100.0</td>\n",
       "      <td>3</td>\n",
       "      <td>1.3513655163307625</td>\n",
       "    </tr>\n",
       "    <tr>\n",
       "      <th>173278</th>\n",
       "      <td>17031081700.0</td>\n",
       "      <td>17031839100.0</td>\n",
       "      <td>3</td>\n",
       "      <td>1.0472676449888945</td>\n",
       "    </tr>\n",
       "    <tr>\n",
       "      <th>173552</th>\n",
       "      <td>17031081800.0</td>\n",
       "      <td>17031839100.0</td>\n",
       "      <td>3</td>\n",
       "      <td>1.2225135768323332</td>\n",
       "    </tr>\n",
       "    <tr>\n",
       "      <th>198110</th>\n",
       "      <td>17031320100.0</td>\n",
       "      <td>17031839100.0</td>\n",
       "      <td>3</td>\n",
       "      <td>1.2461411679778813</td>\n",
       "    </tr>\n",
       "    <tr>\n",
       "      <th>198924</th>\n",
       "      <td>17031330100.0</td>\n",
       "      <td>17031839100.0</td>\n",
       "      <td>3</td>\n",
       "      <td>2.113814056423688</td>\n",
       "    </tr>\n",
       "    <tr>\n",
       "      <th>221541</th>\n",
       "      <td>17031833100.0</td>\n",
       "      <td>17031839100.0</td>\n",
       "      <td>3</td>\n",
       "      <td>1.5283543180868921</td>\n",
       "    </tr>\n",
       "    <tr>\n",
       "      <th>314103</th>\n",
       "      <td>17031081800.0</td>\n",
       "      <td>17031839100.0</td>\n",
       "      <td>5</td>\n",
       "      <td>1.1832413484579511</td>\n",
       "    </tr>\n",
       "    <tr>\n",
       "      <th>344028</th>\n",
       "      <td>17031320100.0</td>\n",
       "      <td>17031839100.0</td>\n",
       "      <td>5</td>\n",
       "      <td>1.0860636299188182</td>\n",
       "    </tr>\n",
       "    <tr>\n",
       "      <th>370728</th>\n",
       "      <td>17031833000.0</td>\n",
       "      <td>17031839100.0</td>\n",
       "      <td>5</td>\n",
       "      <td>1.470509705911243</td>\n",
       "    </tr>\n",
       "    <tr>\n",
       "      <th>377625</th>\n",
       "      <td>17031839100.0</td>\n",
       "      <td>17031320100.0</td>\n",
       "      <td>5</td>\n",
       "      <td>1.0911573084314745</td>\n",
       "    </tr>\n",
       "    <tr>\n",
       "      <th>377912</th>\n",
       "      <td>17031839100.0</td>\n",
       "      <td>17031839100.0</td>\n",
       "      <td>5</td>\n",
       "      <td>1.0327492374937897</td>\n",
       "    </tr>\n",
       "    <tr>\n",
       "      <th>377953</th>\n",
       "      <td>17031839100.0</td>\n",
       "      <td>17031980000.0</td>\n",
       "      <td>5</td>\n",
       "      <td>18.51422723437042</td>\n",
       "    </tr>\n",
       "    <tr>\n",
       "      <th>469170</th>\n",
       "      <td>17031839100.0</td>\n",
       "      <td>17031980000.0</td>\n",
       "      <td>6</td>\n",
       "      <td>18.3953451230132</td>\n",
       "    </tr>\n",
       "  </tbody>\n",
       "</table>\n",
       "</div>"
      ],
      "text/plain": [
       "       Pickup Census Tract Dropoff Census Tract TOD          Trip Miles\n",
       "172496       17031081403.0        17031839100.0   3  1.6339446653505498\n",
       "172789       17031081500.0        17031839100.0   3  1.3513655163307625\n",
       "173278       17031081700.0        17031839100.0   3  1.0472676449888945\n",
       "173552       17031081800.0        17031839100.0   3  1.2225135768323332\n",
       "198110       17031320100.0        17031839100.0   3  1.2461411679778813\n",
       "198924       17031330100.0        17031839100.0   3   2.113814056423688\n",
       "221541       17031833100.0        17031839100.0   3  1.5283543180868921\n",
       "314103       17031081800.0        17031839100.0   5  1.1832413484579511\n",
       "344028       17031320100.0        17031839100.0   5  1.0860636299188182\n",
       "370728       17031833000.0        17031839100.0   5   1.470509705911243\n",
       "377625       17031839100.0        17031320100.0   5  1.0911573084314745\n",
       "377912       17031839100.0        17031839100.0   5  1.0327492374937897\n",
       "377953       17031839100.0        17031980000.0   5   18.51422723437042\n",
       "469170       17031839100.0        17031980000.0   6    18.3953451230132"
      ]
     },
     "execution_count": 74,
     "metadata": {},
     "output_type": "execute_result"
    }
   ],
   "source": [
    "#the outlier OD-tods with more than 100 trips are all going to (most during am) or coming from (most during pm) the downtown core\n",
    "df_final[df_final['ALL_TRIPS'] >100][['Pickup Census Tract', 'Dropoff Census Tract','TOD','Trip Miles']].astype(str)"
   ]
  },
  {
   "cell_type": "code",
   "execution_count": 44,
   "metadata": {},
   "outputs": [
    {
     "data": {
      "text/plain": [
       "<matplotlib.axes._subplots.AxesSubplot at 0x1976f40d648>"
      ]
     },
     "execution_count": 44,
     "metadata": {},
     "output_type": "execute_result"
    },
    {
     "data": {
      "image/png": "[encoded data removed]",
      "text/plain": [
       "<Figure size 432x288 with 1 Axes>"
      ]
     },
     "metadata": {
      "needs_background": "light"
     },
     "output_type": "display_data"
    }
   ],
   "source": [
    "sns.distplot(df_final['ALL_TRIPS'])"
   ]
  },
  {
   "cell_type": "code",
   "execution_count": 75,
   "metadata": {},
   "outputs": [
    {
     "data": {
      "text/html": [
       "<div>\n",
       "<style scoped>\n",
       "    .dataframe tbody tr th:only-of-type {\n",
       "        vertical-align: middle;\n",
       "    }\n",
       "\n",
       "    .dataframe tbody tr th {\n",
       "        vertical-align: top;\n",
       "    }\n",
       "\n",
       "    .dataframe thead th {\n",
       "        text-align: right;\n",
       "    }\n",
       "</style>\n",
       "<table border=\"1\" class=\"dataframe\">\n",
       "  <thead>\n",
       "    <tr style=\"text-align: right;\">\n",
       "      <th></th>\n",
       "      <th>Pickup Census Tract</th>\n",
       "      <th>Dropoff Census Tract</th>\n",
       "      <th>MONTH</th>\n",
       "      <th>DAY</th>\n",
       "      <th>Trip Seconds</th>\n",
       "      <th>Trip Miles</th>\n",
       "      <th>Fare</th>\n",
       "      <th>Tip</th>\n",
       "      <th>Additional Charges</th>\n",
       "      <th>Trip Total</th>\n",
       "      <th>PRIVATE_TRIPS</th>\n",
       "      <th>SHARED_TRIPS</th>\n",
       "      <th>Trips Pooled</th>\n",
       "      <th>TOD</th>\n",
       "      <th>GEOID_PICKUP</th>\n",
       "      <th>GEOID_DROPOFF</th>\n",
       "      <th>SCALED_SUP_PRIVATE_TRIPS</th>\n",
       "      <th>SCALED_SUP_SHARED_TRIPS</th>\n",
       "      <th>ALL_TRIPS</th>\n",
       "    </tr>\n",
       "  </thead>\n",
       "  <tbody>\n",
       "    <tr>\n",
       "      <th>0</th>\n",
       "      <td>1.703101e+10</td>\n",
       "      <td>1.703101e+10</td>\n",
       "      <td>1.437500</td>\n",
       "      <td>14.625000</td>\n",
       "      <td>397.496875</td>\n",
       "      <td>1.235417</td>\n",
       "      <td>4.580729</td>\n",
       "      <td>0.770833</td>\n",
       "      <td>2.276719</td>\n",
       "      <td>7.628281</td>\n",
       "      <td>2.005081</td>\n",
       "      <td>0.675828</td>\n",
       "      <td>1.937500</td>\n",
       "      <td>1</td>\n",
       "      <td>1.703101e+10</td>\n",
       "      <td>1.703101e+10</td>\n",
       "      <td>0.505081</td>\n",
       "      <td>0.238328</td>\n",
       "      <td>2.680909</td>\n",
       "    </tr>\n",
       "    <tr>\n",
       "      <th>1</th>\n",
       "      <td>1.703101e+10</td>\n",
       "      <td>1.703101e+10</td>\n",
       "      <td>1.500000</td>\n",
       "      <td>15.269231</td>\n",
       "      <td>275.250000</td>\n",
       "      <td>1.009615</td>\n",
       "      <td>3.605769</td>\n",
       "      <td>0.076923</td>\n",
       "      <td>2.400962</td>\n",
       "      <td>6.083654</td>\n",
       "      <td>0.840168</td>\n",
       "      <td>0.515324</td>\n",
       "      <td>1.576923</td>\n",
       "      <td>1</td>\n",
       "      <td>1.703101e+10</td>\n",
       "      <td>1.703101e+10</td>\n",
       "      <td>0.032476</td>\n",
       "      <td>0.015324</td>\n",
       "      <td>1.355493</td>\n",
       "    </tr>\n",
       "    <tr>\n",
       "      <th>2</th>\n",
       "      <td>1.703101e+10</td>\n",
       "      <td>1.703101e+10</td>\n",
       "      <td>1.400000</td>\n",
       "      <td>16.100000</td>\n",
       "      <td>236.200000</td>\n",
       "      <td>0.570000</td>\n",
       "      <td>3.000000</td>\n",
       "      <td>0.100000</td>\n",
       "      <td>2.035000</td>\n",
       "      <td>5.135000</td>\n",
       "      <td>0.422509</td>\n",
       "      <td>0.810621</td>\n",
       "      <td>1.400000</td>\n",
       "      <td>1</td>\n",
       "      <td>1.703101e+10</td>\n",
       "      <td>1.703101e+10</td>\n",
       "      <td>0.022509</td>\n",
       "      <td>0.010621</td>\n",
       "      <td>1.233130</td>\n",
       "    </tr>\n",
       "    <tr>\n",
       "      <th>3</th>\n",
       "      <td>1.703101e+10</td>\n",
       "      <td>1.703101e+10</td>\n",
       "      <td>1.454545</td>\n",
       "      <td>14.272727</td>\n",
       "      <td>206.136364</td>\n",
       "      <td>0.718182</td>\n",
       "      <td>3.409091</td>\n",
       "      <td>0.090909</td>\n",
       "      <td>2.086364</td>\n",
       "      <td>5.586364</td>\n",
       "      <td>1.847285</td>\n",
       "      <td>0.806334</td>\n",
       "      <td>1.454545</td>\n",
       "      <td>1</td>\n",
       "      <td>1.703101e+10</td>\n",
       "      <td>1.703101e+10</td>\n",
       "      <td>0.938195</td>\n",
       "      <td>0.442698</td>\n",
       "      <td>2.653620</td>\n",
       "    </tr>\n",
       "    <tr>\n",
       "      <th>4</th>\n",
       "      <td>1.703101e+10</td>\n",
       "      <td>1.703101e+10</td>\n",
       "      <td>1.714286</td>\n",
       "      <td>10.142857</td>\n",
       "      <td>370.738095</td>\n",
       "      <td>1.483333</td>\n",
       "      <td>5.119048</td>\n",
       "      <td>0.595238</td>\n",
       "      <td>1.453571</td>\n",
       "      <td>7.167857</td>\n",
       "      <td>0.707765</td>\n",
       "      <td>0.740893</td>\n",
       "      <td>1.357143</td>\n",
       "      <td>1</td>\n",
       "      <td>1.703101e+10</td>\n",
       "      <td>1.703101e+10</td>\n",
       "      <td>0.207765</td>\n",
       "      <td>0.098036</td>\n",
       "      <td>1.448658</td>\n",
       "    </tr>\n",
       "  </tbody>\n",
       "</table>\n",
       "</div>"
      ],
      "text/plain": [
       "   Pickup Census Tract  Dropoff Census Tract     MONTH        DAY  \\\n",
       "0         1.703101e+10          1.703101e+10  1.437500  14.625000   \n",
       "1         1.703101e+10          1.703101e+10  1.500000  15.269231   \n",
       "2         1.703101e+10          1.703101e+10  1.400000  16.100000   \n",
       "3         1.703101e+10          1.703101e+10  1.454545  14.272727   \n",
       "4         1.703101e+10          1.703101e+10  1.714286  10.142857   \n",
       "\n",
       "   Trip Seconds  Trip Miles      Fare       Tip  Additional Charges  \\\n",
       "0    397.496875    1.235417  4.580729  0.770833            2.276719   \n",
       "1    275.250000    1.009615  3.605769  0.076923            2.400962   \n",
       "2    236.200000    0.570000  3.000000  0.100000            2.035000   \n",
       "3    206.136364    0.718182  3.409091  0.090909            2.086364   \n",
       "4    370.738095    1.483333  5.119048  0.595238            1.453571   \n",
       "\n",
       "   Trip Total  PRIVATE_TRIPS  SHARED_TRIPS  Trips Pooled  TOD  GEOID_PICKUP  \\\n",
       "0    7.628281       2.005081      0.675828      1.937500    1  1.703101e+10   \n",
       "1    6.083654       0.840168      0.515324      1.576923    1  1.703101e+10   \n",
       "2    5.135000       0.422509      0.810621      1.400000    1  1.703101e+10   \n",
       "3    5.586364       1.847285      0.806334      1.454545    1  1.703101e+10   \n",
       "4    7.167857       0.707765      0.740893      1.357143    1  1.703101e+10   \n",
       "\n",
       "   GEOID_DROPOFF  SCALED_SUP_PRIVATE_TRIPS  SCALED_SUP_SHARED_TRIPS  ALL_TRIPS  \n",
       "0   1.703101e+10                  0.505081                 0.238328   2.680909  \n",
       "1   1.703101e+10                  0.032476                 0.015324   1.355493  \n",
       "2   1.703101e+10                  0.022509                 0.010621   1.233130  \n",
       "3   1.703101e+10                  0.938195                 0.442698   2.653620  \n",
       "4   1.703101e+10                  0.207765                 0.098036   1.448658  "
      ]
     },
     "execution_count": 75,
     "metadata": {},
     "output_type": "execute_result"
    }
   ],
   "source": [
    "df_final.head()"
   ]
  },
  {
   "cell_type": "code",
   "execution_count": 81,
   "metadata": {},
   "outputs": [
    {
     "data": {
      "image/png": "[encoded data removed]",
      "text/plain": [
       "<Figure size 720x360 with 1 Axes>"
      ]
     },
     "metadata": {},
     "output_type": "display_data"
    }
   ],
   "source": [
    "with sns.axes_style('white'):\n",
    "    g = sns.factorplot(\"TOD\", data=df_final[['ALL_TRIPS','TOD']], aspect=2,\n",
    "                       kind=\"count\", color='steelblue')\n",
    "    g.set_xticklabels(step=1)"
   ]
  },
  {
   "cell_type": "code",
   "execution_count": 94,
   "metadata": {},
   "outputs": [],
   "source": [
    "tod_sum_df = df_final.groupby(by = 'TOD', as_index = False).sum()"
   ]
  },
  {
   "cell_type": "code",
   "execution_count": 99,
   "metadata": {},
   "outputs": [
    {
     "data": {
      "text/plain": [
       "<matplotlib.axes._subplots.AxesSubplot at 0x19770a08808>"
      ]
     },
     "execution_count": 99,
     "metadata": {},
     "output_type": "execute_result"
    },
    {
     "data": {
      "image/png": "[encoded data removed]",
      "text/plain": [
       "<Figure size 432x288 with 1 Axes>"
      ]
     },
     "metadata": {
      "needs_background": "light"
     },
     "output_type": "display_data"
    }
   ],
   "source": [
    "#this is total number of trips for each TOD\n",
    "tod_sum_df.plot(kind = 'bar', x = 'TOD', y = 'ALL_TRIPS')"
   ]
  },
  {
   "cell_type": "code",
   "execution_count": 103,
   "metadata": {},
   "outputs": [],
   "source": [
    "tod_avg_df = df_final.groupby(by = 'TOD', as_index = False).mean()"
   ]
  },
  {
   "cell_type": "code",
   "execution_count": 104,
   "metadata": {},
   "outputs": [
    {
     "data": {
      "text/plain": [
       "<matplotlib.axes._subplots.AxesSubplot at 0x19770327b48>"
      ]
     },
     "execution_count": 104,
     "metadata": {},
     "output_type": "execute_result"
    },
    {
     "data": {
      "image/png": "[encoded data removed]",
      "text/plain": [
       "<Figure size 432x288 with 1 Axes>"
      ]
     },
     "metadata": {
      "needs_background": "light"
     },
     "output_type": "display_data"
    }
   ],
   "source": [
    "#this is average number of trips for each OD pair within each TOD\n",
    "tod_avg_df.plot(kind = 'bar', x = 'TOD', y = 'ALL_TRIPS')"
   ]
  },
  {
   "cell_type": "code",
   "execution_count": 105,
   "metadata": {},
   "outputs": [
    {
     "data": {
      "text/plain": [
       "<matplotlib.axes._subplots.AxesSubplot at 0x197703b6188>"
      ]
     },
     "execution_count": 105,
     "metadata": {},
     "output_type": "execute_result"
    },
    {
     "data": {
      "image/png": "[encoded data removed]",
      "text/plain": [
       "<Figure size 432x288 with 1 Axes>"
      ]
     },
     "metadata": {
      "needs_background": "light"
     },
     "output_type": "display_data"
    }
   ],
   "source": [
    "tod_avg_df.plot(kind = 'bar', x = 'TOD', y = 'Trip Miles')"
   ]
  },
  {
   "cell_type": "code",
   "execution_count": 106,
   "metadata": {},
   "outputs": [
    {
     "data": {
      "text/plain": [
       "<matplotlib.axes._subplots.AxesSubplot at 0x1977042c288>"
      ]
     },
     "execution_count": 106,
     "metadata": {},
     "output_type": "execute_result"
    },
    {
     "data": {
      "image/png": "[encoded data removed]",
      "text/plain": [
       "<Figure size 432x288 with 1 Axes>"
      ]
     },
     "metadata": {
      "needs_background": "light"
     },
     "output_type": "display_data"
    }
   ],
   "source": [
    "tod_avg_df.plot(kind = 'bar', x = 'TOD', y = 'Trip Seconds')"
   ]
  },
  {
   "cell_type": "code",
   "execution_count": null,
   "metadata": {},
   "outputs": [],
   "source": [
    "    TODs\n",
    "1 - 8pm-6am\n",
    "2 - 6am-7am\n",
    "3 - 7am-9am\n",
    "4 - 9am-10am\n",
    "5 - 10am-2pm\n",
    "6 - 2pm-4pm\n",
    "7 - 4pm-6pm\n",
    "8 - 6pm-8pm"
   ]
  },
  {
   "cell_type": "code",
   "execution_count": null,
   "metadata": {},
   "outputs": [],
   "source": []
  },
  {
   "cell_type": "markdown",
   "metadata": {},
   "source": [
    "# Data Accuracy Check"
   ]
  },
  {
   "cell_type": "code",
   "execution_count": null,
   "metadata": {},
   "outputs": [],
   "source": [
    "df = pd.read_hdf('C:/Workspace/TNC-Demand-Model/Inputs/Chicago Ride-Hailing/Chicago_TNC_Trips_20.H5', key = 'Weekday_' + str(3))"
   ]
  },
  {
   "cell_type": "code",
   "execution_count": 14,
   "metadata": {},
   "outputs": [],
   "source": [
    "jan_feb = df[df['MONTH'].isin([1,2])]"
   ]
  },
  {
   "cell_type": "code",
   "execution_count": 16,
   "metadata": {},
   "outputs": [],
   "source": [
    "miles_over_50 = jan_feb[jan_feb['Trip Miles'] > 50]"
   ]
  },
  {
   "cell_type": "code",
   "execution_count": 17,
   "metadata": {},
   "outputs": [
    {
     "data": {
      "text/plain": [
       "77"
      ]
     },
     "execution_count": 17,
     "metadata": {},
     "output_type": "execute_result"
    }
   ],
   "source": [
    "len(miles_over_50)"
   ]
  },
  {
   "cell_type": "code",
   "execution_count": 18,
   "metadata": {},
   "outputs": [],
   "source": [
    "miles_over_50.to_csv('Trips_Over_50_Miles.csv')"
   ]
  },
  {
   "cell_type": "code",
   "execution_count": 19,
   "metadata": {},
   "outputs": [],
   "source": [
    "fare_0 = jan_feb[jan_feb['Fare'] == 0]"
   ]
  },
  {
   "cell_type": "code",
   "execution_count": 39,
   "metadata": {},
   "outputs": [],
   "source": [
    "fare_0.to_csv('Fare_0_trips.csv')"
   ]
  },
  {
   "cell_type": "code",
   "execution_count": 41,
   "metadata": {},
   "outputs": [
    {
     "data": {
      "text/html": [
       "<div>\n",
       "<style scoped>\n",
       "    .dataframe tbody tr th:only-of-type {\n",
       "        vertical-align: middle;\n",
       "    }\n",
       "\n",
       "    .dataframe tbody tr th {\n",
       "        vertical-align: top;\n",
       "    }\n",
       "\n",
       "    .dataframe thead th {\n",
       "        text-align: right;\n",
       "    }\n",
       "</style>\n",
       "<table border=\"1\" class=\"dataframe\">\n",
       "  <thead>\n",
       "    <tr style=\"text-align: right;\">\n",
       "      <th></th>\n",
       "      <th>Trip Start Timestamp</th>\n",
       "      <th>Trip End Timestamp</th>\n",
       "      <th>Trip Seconds</th>\n",
       "      <th>Trip Miles</th>\n",
       "      <th>Pickup Census Tract</th>\n",
       "      <th>Dropoff Census Tract</th>\n",
       "      <th>Fare</th>\n",
       "      <th>Tip</th>\n",
       "      <th>Additional Charges</th>\n",
       "      <th>Trip Total</th>\n",
       "      <th>Shared Trip Authorized</th>\n",
       "      <th>Trips Pooled</th>\n",
       "      <th>YEAR</th>\n",
       "      <th>MONTH</th>\n",
       "      <th>DOW</th>\n",
       "      <th>HOUR</th>\n",
       "    </tr>\n",
       "  </thead>\n",
       "  <tbody>\n",
       "    <tr>\n",
       "      <th>9133667</th>\n",
       "      <td>2019-01-15 08:30:00</td>\n",
       "      <td>2019-01-15 09:00:00</td>\n",
       "      <td>1679.0</td>\n",
       "      <td>5.2</td>\n",
       "      <td>1.703184e+10</td>\n",
       "      <td>1.703132e+10</td>\n",
       "      <td>0.0</td>\n",
       "      <td>0.0</td>\n",
       "      <td>0.67</td>\n",
       "      <td>0.67</td>\n",
       "      <td>True</td>\n",
       "      <td>2.0</td>\n",
       "      <td>2019</td>\n",
       "      <td>1</td>\n",
       "      <td>1</td>\n",
       "      <td>8</td>\n",
       "    </tr>\n",
       "  </tbody>\n",
       "</table>\n",
       "</div>"
      ],
      "text/plain": [
       "        Trip Start Timestamp  Trip End Timestamp  Trip Seconds  Trip Miles  \\\n",
       "9133667  2019-01-15 08:30:00 2019-01-15 09:00:00        1679.0         5.2   \n",
       "\n",
       "         Pickup Census Tract  Dropoff Census Tract  Fare  Tip  \\\n",
       "9133667         1.703184e+10          1.703132e+10   0.0  0.0   \n",
       "\n",
       "         Additional Charges  Trip Total  Shared Trip Authorized  Trips Pooled  \\\n",
       "9133667                0.67        0.67                    True           2.0   \n",
       "\n",
       "         YEAR  MONTH  DOW  HOUR  \n",
       "9133667  2019      1    1     8  "
      ]
     },
     "execution_count": 41,
     "metadata": {},
     "output_type": "execute_result"
    }
   ],
   "source": [
    "jan_feb[(jan_feb['Trip Start Timestamp'] == '2019-01-15 08:30:00')&(jan_feb['Pickup Census Tract'] == 17031839700)&(jan_feb['Dropoff Census Tract'] == 17031320100)]"
   ]
  },
  {
   "cell_type": "code",
   "execution_count": 42,
   "metadata": {},
   "outputs": [
    {
     "data": {
      "text/html": [
       "<div>\n",
       "<style scoped>\n",
       "    .dataframe tbody tr th:only-of-type {\n",
       "        vertical-align: middle;\n",
       "    }\n",
       "\n",
       "    .dataframe tbody tr th {\n",
       "        vertical-align: top;\n",
       "    }\n",
       "\n",
       "    .dataframe thead th {\n",
       "        text-align: right;\n",
       "    }\n",
       "</style>\n",
       "<table border=\"1\" class=\"dataframe\">\n",
       "  <thead>\n",
       "    <tr style=\"text-align: right;\">\n",
       "      <th></th>\n",
       "      <th>Trip Start Timestamp</th>\n",
       "      <th>Trip End Timestamp</th>\n",
       "      <th>Trip Seconds</th>\n",
       "      <th>Trip Miles</th>\n",
       "      <th>Pickup Census Tract</th>\n",
       "      <th>Dropoff Census Tract</th>\n",
       "      <th>Fare</th>\n",
       "      <th>Tip</th>\n",
       "      <th>Additional Charges</th>\n",
       "      <th>Trip Total</th>\n",
       "      <th>Shared Trip Authorized</th>\n",
       "      <th>Trips Pooled</th>\n",
       "      <th>YEAR</th>\n",
       "      <th>MONTH</th>\n",
       "      <th>DOW</th>\n",
       "      <th>HOUR</th>\n",
       "    </tr>\n",
       "  </thead>\n",
       "  <tbody>\n",
       "    <tr>\n",
       "      <th>9285742</th>\n",
       "      <td>2019-01-24 08:15:00</td>\n",
       "      <td>2019-01-24 10:30:00</td>\n",
       "      <td>8068.0</td>\n",
       "      <td>58.1</td>\n",
       "      <td>1.703132e+10</td>\n",
       "      <td>1.703184e+10</td>\n",
       "      <td>152.5</td>\n",
       "      <td>0.0</td>\n",
       "      <td>2.55</td>\n",
       "      <td>155.05</td>\n",
       "      <td>False</td>\n",
       "      <td>1.0</td>\n",
       "      <td>2019</td>\n",
       "      <td>1</td>\n",
       "      <td>3</td>\n",
       "      <td>8</td>\n",
       "    </tr>\n",
       "    <tr>\n",
       "      <th>9764265</th>\n",
       "      <td>2019-01-01 08:45:00</td>\n",
       "      <td>2019-01-01 10:45:00</td>\n",
       "      <td>7752.0</td>\n",
       "      <td>90.7</td>\n",
       "      <td>1.703108e+10</td>\n",
       "      <td>1.703108e+10</td>\n",
       "      <td>112.5</td>\n",
       "      <td>21.0</td>\n",
       "      <td>5.50</td>\n",
       "      <td>139.00</td>\n",
       "      <td>False</td>\n",
       "      <td>1.0</td>\n",
       "      <td>2019</td>\n",
       "      <td>1</td>\n",
       "      <td>1</td>\n",
       "      <td>8</td>\n",
       "    </tr>\n",
       "    <tr>\n",
       "      <th>10872560</th>\n",
       "      <td>2019-02-21 07:45:00</td>\n",
       "      <td>2019-02-21 09:45:00</td>\n",
       "      <td>7645.0</td>\n",
       "      <td>51.7</td>\n",
       "      <td>1.703184e+10</td>\n",
       "      <td>1.703184e+10</td>\n",
       "      <td>80.0</td>\n",
       "      <td>11.0</td>\n",
       "      <td>3.30</td>\n",
       "      <td>94.30</td>\n",
       "      <td>False</td>\n",
       "      <td>1.0</td>\n",
       "      <td>2019</td>\n",
       "      <td>2</td>\n",
       "      <td>3</td>\n",
       "      <td>7</td>\n",
       "    </tr>\n",
       "    <tr>\n",
       "      <th>11963121</th>\n",
       "      <td>2019-02-01 08:15:00</td>\n",
       "      <td>2019-02-01 10:00:00</td>\n",
       "      <td>6133.0</td>\n",
       "      <td>53.9</td>\n",
       "      <td>1.703184e+10</td>\n",
       "      <td>1.703128e+10</td>\n",
       "      <td>75.0</td>\n",
       "      <td>0.0</td>\n",
       "      <td>2.55</td>\n",
       "      <td>77.55</td>\n",
       "      <td>False</td>\n",
       "      <td>1.0</td>\n",
       "      <td>2019</td>\n",
       "      <td>2</td>\n",
       "      <td>4</td>\n",
       "      <td>8</td>\n",
       "    </tr>\n",
       "    <tr>\n",
       "      <th>12646541</th>\n",
       "      <td>2019-01-25 08:30:00</td>\n",
       "      <td>2019-01-25 10:30:00</td>\n",
       "      <td>7135.0</td>\n",
       "      <td>83.4</td>\n",
       "      <td>1.703108e+10</td>\n",
       "      <td>1.703183e+10</td>\n",
       "      <td>102.5</td>\n",
       "      <td>0.0</td>\n",
       "      <td>2.55</td>\n",
       "      <td>105.05</td>\n",
       "      <td>False</td>\n",
       "      <td>1.0</td>\n",
       "      <td>2019</td>\n",
       "      <td>1</td>\n",
       "      <td>4</td>\n",
       "      <td>8</td>\n",
       "    </tr>\n",
       "  </tbody>\n",
       "</table>\n",
       "</div>"
      ],
      "text/plain": [
       "         Trip Start Timestamp  Trip End Timestamp  Trip Seconds  Trip Miles  \\\n",
       "9285742   2019-01-24 08:15:00 2019-01-24 10:30:00        8068.0        58.1   \n",
       "9764265   2019-01-01 08:45:00 2019-01-01 10:45:00        7752.0        90.7   \n",
       "10872560  2019-02-21 07:45:00 2019-02-21 09:45:00        7645.0        51.7   \n",
       "11963121  2019-02-01 08:15:00 2019-02-01 10:00:00        6133.0        53.9   \n",
       "12646541  2019-01-25 08:30:00 2019-01-25 10:30:00        7135.0        83.4   \n",
       "\n",
       "          Pickup Census Tract  Dropoff Census Tract   Fare   Tip  \\\n",
       "9285742          1.703132e+10          1.703184e+10  152.5   0.0   \n",
       "9764265          1.703108e+10          1.703108e+10  112.5  21.0   \n",
       "10872560         1.703184e+10          1.703184e+10   80.0  11.0   \n",
       "11963121         1.703184e+10          1.703128e+10   75.0   0.0   \n",
       "12646541         1.703108e+10          1.703183e+10  102.5   0.0   \n",
       "\n",
       "          Additional Charges  Trip Total  Shared Trip Authorized  \\\n",
       "9285742                 2.55      155.05                   False   \n",
       "9764265                 5.50      139.00                   False   \n",
       "10872560                3.30       94.30                   False   \n",
       "11963121                2.55       77.55                   False   \n",
       "12646541                2.55      105.05                   False   \n",
       "\n",
       "          Trips Pooled  YEAR  MONTH  DOW  HOUR  \n",
       "9285742            1.0  2019      1    3     8  \n",
       "9764265            1.0  2019      1    1     8  \n",
       "10872560           1.0  2019      2    3     7  \n",
       "11963121           1.0  2019      2    4     8  \n",
       "12646541           1.0  2019      1    4     8  "
      ]
     },
     "execution_count": 42,
     "metadata": {},
     "output_type": "execute_result"
    }
   ],
   "source": [
    "miles_over_50.head()"
   ]
  },
  {
   "cell_type": "code",
   "execution_count": 45,
   "metadata": {},
   "outputs": [
    {
     "data": {
      "text/html": [
       "<div>\n",
       "<style scoped>\n",
       "    .dataframe tbody tr th:only-of-type {\n",
       "        vertical-align: middle;\n",
       "    }\n",
       "\n",
       "    .dataframe tbody tr th {\n",
       "        vertical-align: top;\n",
       "    }\n",
       "\n",
       "    .dataframe thead th {\n",
       "        text-align: right;\n",
       "    }\n",
       "</style>\n",
       "<table border=\"1\" class=\"dataframe\">\n",
       "  <thead>\n",
       "    <tr style=\"text-align: right;\">\n",
       "      <th></th>\n",
       "      <th>Trip Start Timestamp</th>\n",
       "      <th>Trip End Timestamp</th>\n",
       "      <th>Trip Seconds</th>\n",
       "      <th>Trip Miles</th>\n",
       "      <th>Pickup Census Tract</th>\n",
       "      <th>Dropoff Census Tract</th>\n",
       "      <th>Fare</th>\n",
       "      <th>Tip</th>\n",
       "      <th>Additional Charges</th>\n",
       "      <th>Trip Total</th>\n",
       "      <th>Shared Trip Authorized</th>\n",
       "      <th>Trips Pooled</th>\n",
       "      <th>YEAR</th>\n",
       "      <th>MONTH</th>\n",
       "      <th>DOW</th>\n",
       "      <th>HOUR</th>\n",
       "    </tr>\n",
       "  </thead>\n",
       "  <tbody>\n",
       "    <tr>\n",
       "      <th>30217883</th>\n",
       "      <td>2019-01-28 07:30:00</td>\n",
       "      <td>2019-01-28 07:45:00</td>\n",
       "      <td>959.0</td>\n",
       "      <td>2.0</td>\n",
       "      <td>1.703108e+10</td>\n",
       "      <td>1.703107e+10</td>\n",
       "      <td>0.0</td>\n",
       "      <td>0.0</td>\n",
       "      <td>0.0</td>\n",
       "      <td>0.0</td>\n",
       "      <td>True</td>\n",
       "      <td>6.0</td>\n",
       "      <td>2019</td>\n",
       "      <td>1</td>\n",
       "      <td>0</td>\n",
       "      <td>7</td>\n",
       "    </tr>\n",
       "  </tbody>\n",
       "</table>\n",
       "</div>"
      ],
      "text/plain": [
       "         Trip Start Timestamp  Trip End Timestamp  Trip Seconds  Trip Miles  \\\n",
       "30217883  2019-01-28 07:30:00 2019-01-28 07:45:00         959.0         2.0   \n",
       "\n",
       "          Pickup Census Tract  Dropoff Census Tract  Fare  Tip  \\\n",
       "30217883         1.703108e+10          1.703107e+10   0.0  0.0   \n",
       "\n",
       "          Additional Charges  Trip Total  Shared Trip Authorized  \\\n",
       "30217883                 0.0         0.0                    True   \n",
       "\n",
       "          Trips Pooled  YEAR  MONTH  DOW  HOUR  \n",
       "30217883           6.0  2019      1    0     7  "
      ]
     },
     "execution_count": 45,
     "metadata": {},
     "output_type": "execute_result"
    }
   ],
   "source": [
    "jan_feb[jan_feb['Trip Total'] == 0]"
   ]
  },
  {
   "cell_type": "code",
   "execution_count": 44,
   "metadata": {},
   "outputs": [
    {
     "data": {
      "text/plain": [
       "32806"
      ]
     },
     "execution_count": 44,
     "metadata": {},
     "output_type": "execute_result"
    }
   ],
   "source": [
    "len(jan_feb[jan_feb['Fare'] == 0])"
   ]
  },
  {
   "cell_type": "code",
   "execution_count": 47,
   "metadata": {},
   "outputs": [],
   "source": [
    "trips_5hrs_moore = jan_feb[jan_feb['Trip Seconds'] >= 18000]"
   ]
  },
  {
   "cell_type": "code",
   "execution_count": 48,
   "metadata": {},
   "outputs": [],
   "source": [
    "trips_5hrs_moore.to_csv('trips_over_5hrs.csv')"
   ]
  },
  {
   "cell_type": "code",
   "execution_count": null,
   "metadata": {},
   "outputs": [],
   "source": []
  }
 ],
 "metadata": {
  "kernelspec": {
   "display_name": "Python 3",
   "language": "python",
   "name": "python3"
  }
 },
 "nbformat": 4,
 "nbformat_minor": 2
}
