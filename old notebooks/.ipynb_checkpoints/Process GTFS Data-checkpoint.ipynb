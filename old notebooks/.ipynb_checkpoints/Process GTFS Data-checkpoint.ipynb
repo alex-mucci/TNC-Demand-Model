{
 "cells": [
  {
   "cell_type": "code",
   "execution_count": 27,
   "metadata": {},
   "outputs": [],
   "source": [
    "import pandas as pd\n",
    "import numpy as np\n",
    "import geopandas as gp\n",
    "%matplotlib inline"
   ]
  },
  {
   "cell_type": "code",
   "execution_count": 2,
   "metadata": {},
   "outputs": [],
   "source": [
    "cta_jan = pd.read_csv('C:/Workspace/TNC-Demand-Model/Inputs/GTFS/CTA/Jan 2019/stops.txt')"
   ]
  },
  {
   "cell_type": "code",
   "execution_count": 3,
   "metadata": {},
   "outputs": [
    {
     "data": {
      "text/html": [
       "<div>\n",
       "<style scoped>\n",
       "    .dataframe tbody tr th:only-of-type {\n",
       "        vertical-align: middle;\n",
       "    }\n",
       "\n",
       "    .dataframe tbody tr th {\n",
       "        vertical-align: top;\n",
       "    }\n",
       "\n",
       "    .dataframe thead th {\n",
       "        text-align: right;\n",
       "    }\n",
       "</style>\n",
       "<table border=\"1\" class=\"dataframe\">\n",
       "  <thead>\n",
       "    <tr style=\"text-align: right;\">\n",
       "      <th></th>\n",
       "      <th>stop_id</th>\n",
       "      <th>stop_code</th>\n",
       "      <th>stop_name</th>\n",
       "      <th>stop_desc</th>\n",
       "      <th>stop_lat</th>\n",
       "      <th>stop_lon</th>\n",
       "      <th>location_type</th>\n",
       "      <th>parent_station</th>\n",
       "      <th>wheelchair_boarding</th>\n",
       "    </tr>\n",
       "  </thead>\n",
       "  <tbody>\n",
       "    <tr>\n",
       "      <th>0</th>\n",
       "      <td>1</td>\n",
       "      <td>1.0</td>\n",
       "      <td>Jackson &amp; Austin Terminal</td>\n",
       "      <td>Jackson &amp; Austin Terminal, Northeastbound, Bus...</td>\n",
       "      <td>41.876322</td>\n",
       "      <td>-87.774105</td>\n",
       "      <td>0</td>\n",
       "      <td>NaN</td>\n",
       "      <td>1</td>\n",
       "    </tr>\n",
       "    <tr>\n",
       "      <th>1</th>\n",
       "      <td>2</td>\n",
       "      <td>2.0</td>\n",
       "      <td>5900 W Jackson</td>\n",
       "      <td>5900 W Jackson, Eastbound, Southside of the St...</td>\n",
       "      <td>41.877067</td>\n",
       "      <td>-87.771318</td>\n",
       "      <td>0</td>\n",
       "      <td>NaN</td>\n",
       "      <td>1</td>\n",
       "    </tr>\n",
       "    <tr>\n",
       "      <th>2</th>\n",
       "      <td>3</td>\n",
       "      <td>3.0</td>\n",
       "      <td>Jackson &amp; Menard</td>\n",
       "      <td>Jackson &amp; Menard, Eastbound, Southside of the ...</td>\n",
       "      <td>41.876957</td>\n",
       "      <td>-87.769750</td>\n",
       "      <td>0</td>\n",
       "      <td>NaN</td>\n",
       "      <td>1</td>\n",
       "    </tr>\n",
       "    <tr>\n",
       "      <th>3</th>\n",
       "      <td>4</td>\n",
       "      <td>4.0</td>\n",
       "      <td>5700 W Jackson</td>\n",
       "      <td>5700 W Jackson, Eastbound, Southside of the St...</td>\n",
       "      <td>41.877024</td>\n",
       "      <td>-87.767451</td>\n",
       "      <td>0</td>\n",
       "      <td>NaN</td>\n",
       "      <td>1</td>\n",
       "    </tr>\n",
       "    <tr>\n",
       "      <th>4</th>\n",
       "      <td>6</td>\n",
       "      <td>6.0</td>\n",
       "      <td>Jackson &amp; Lotus</td>\n",
       "      <td>Jackson &amp; Lotus, Eastbound, Southeast Corner</td>\n",
       "      <td>41.876513</td>\n",
       "      <td>-87.761446</td>\n",
       "      <td>0</td>\n",
       "      <td>NaN</td>\n",
       "      <td>1</td>\n",
       "    </tr>\n",
       "  </tbody>\n",
       "</table>\n",
       "</div>"
      ],
      "text/plain": [
       "   stop_id  stop_code                  stop_name  \\\n",
       "0        1        1.0  Jackson & Austin Terminal   \n",
       "1        2        2.0             5900 W Jackson   \n",
       "2        3        3.0           Jackson & Menard   \n",
       "3        4        4.0             5700 W Jackson   \n",
       "4        6        6.0            Jackson & Lotus   \n",
       "\n",
       "                                           stop_desc   stop_lat   stop_lon  \\\n",
       "0  Jackson & Austin Terminal, Northeastbound, Bus...  41.876322 -87.774105   \n",
       "1  5900 W Jackson, Eastbound, Southside of the St...  41.877067 -87.771318   \n",
       "2  Jackson & Menard, Eastbound, Southside of the ...  41.876957 -87.769750   \n",
       "3  5700 W Jackson, Eastbound, Southside of the St...  41.877024 -87.767451   \n",
       "4       Jackson & Lotus, Eastbound, Southeast Corner  41.876513 -87.761446   \n",
       "\n",
       "   location_type  parent_station  wheelchair_boarding  \n",
       "0              0             NaN                    1  \n",
       "1              0             NaN                    1  \n",
       "2              0             NaN                    1  \n",
       "3              0             NaN                    1  \n",
       "4              0             NaN                    1  "
      ]
     },
     "execution_count": 3,
     "metadata": {},
     "output_type": "execute_result"
    }
   ],
   "source": [
    "cta_jan.head()"
   ]
  },
  {
   "cell_type": "code",
   "execution_count": 4,
   "metadata": {},
   "outputs": [],
   "source": [
    "cta_feb = pd.read_csv('C:/Workspace/TNC-Demand-Model/Inputs/GTFS/CTA/Feb 2019/stops.txt')"
   ]
  },
  {
   "cell_type": "code",
   "execution_count": 5,
   "metadata": {},
   "outputs": [
    {
     "data": {
      "text/html": [
       "<div>\n",
       "<style scoped>\n",
       "    .dataframe tbody tr th:only-of-type {\n",
       "        vertical-align: middle;\n",
       "    }\n",
       "\n",
       "    .dataframe tbody tr th {\n",
       "        vertical-align: top;\n",
       "    }\n",
       "\n",
       "    .dataframe thead th {\n",
       "        text-align: right;\n",
       "    }\n",
       "</style>\n",
       "<table border=\"1\" class=\"dataframe\">\n",
       "  <thead>\n",
       "    <tr style=\"text-align: right;\">\n",
       "      <th></th>\n",
       "      <th>stop_id</th>\n",
       "      <th>stop_code</th>\n",
       "      <th>stop_name</th>\n",
       "      <th>stop_desc</th>\n",
       "      <th>stop_lat</th>\n",
       "      <th>stop_lon</th>\n",
       "      <th>location_type</th>\n",
       "      <th>parent_station</th>\n",
       "      <th>wheelchair_boarding</th>\n",
       "    </tr>\n",
       "  </thead>\n",
       "  <tbody>\n",
       "    <tr>\n",
       "      <th>0</th>\n",
       "      <td>1</td>\n",
       "      <td>1.0</td>\n",
       "      <td>Jackson &amp; Austin Terminal</td>\n",
       "      <td>Jackson &amp; Austin Terminal, Northeastbound, Bus...</td>\n",
       "      <td>41.876322</td>\n",
       "      <td>-87.774105</td>\n",
       "      <td>0</td>\n",
       "      <td>NaN</td>\n",
       "      <td>1</td>\n",
       "    </tr>\n",
       "    <tr>\n",
       "      <th>1</th>\n",
       "      <td>2</td>\n",
       "      <td>2.0</td>\n",
       "      <td>5900 W Jackson</td>\n",
       "      <td>5900 W Jackson, Eastbound, Southside of the St...</td>\n",
       "      <td>41.877067</td>\n",
       "      <td>-87.771318</td>\n",
       "      <td>0</td>\n",
       "      <td>NaN</td>\n",
       "      <td>1</td>\n",
       "    </tr>\n",
       "    <tr>\n",
       "      <th>2</th>\n",
       "      <td>3</td>\n",
       "      <td>3.0</td>\n",
       "      <td>Jackson &amp; Menard</td>\n",
       "      <td>Jackson &amp; Menard, Eastbound, Southside of the ...</td>\n",
       "      <td>41.876957</td>\n",
       "      <td>-87.769750</td>\n",
       "      <td>0</td>\n",
       "      <td>NaN</td>\n",
       "      <td>1</td>\n",
       "    </tr>\n",
       "    <tr>\n",
       "      <th>3</th>\n",
       "      <td>4</td>\n",
       "      <td>4.0</td>\n",
       "      <td>5700 W Jackson</td>\n",
       "      <td>5700 W Jackson, Eastbound, Southside of the St...</td>\n",
       "      <td>41.877024</td>\n",
       "      <td>-87.767451</td>\n",
       "      <td>0</td>\n",
       "      <td>NaN</td>\n",
       "      <td>1</td>\n",
       "    </tr>\n",
       "    <tr>\n",
       "      <th>4</th>\n",
       "      <td>6</td>\n",
       "      <td>6.0</td>\n",
       "      <td>Jackson &amp; Lotus</td>\n",
       "      <td>Jackson &amp; Lotus, Eastbound, Southeast Corner</td>\n",
       "      <td>41.876513</td>\n",
       "      <td>-87.761446</td>\n",
       "      <td>0</td>\n",
       "      <td>NaN</td>\n",
       "      <td>1</td>\n",
       "    </tr>\n",
       "  </tbody>\n",
       "</table>\n",
       "</div>"
      ],
      "text/plain": [
       "   stop_id  stop_code                  stop_name  \\\n",
       "0        1        1.0  Jackson & Austin Terminal   \n",
       "1        2        2.0             5900 W Jackson   \n",
       "2        3        3.0           Jackson & Menard   \n",
       "3        4        4.0             5700 W Jackson   \n",
       "4        6        6.0            Jackson & Lotus   \n",
       "\n",
       "                                           stop_desc   stop_lat   stop_lon  \\\n",
       "0  Jackson & Austin Terminal, Northeastbound, Bus...  41.876322 -87.774105   \n",
       "1  5900 W Jackson, Eastbound, Southside of the St...  41.877067 -87.771318   \n",
       "2  Jackson & Menard, Eastbound, Southside of the ...  41.876957 -87.769750   \n",
       "3  5700 W Jackson, Eastbound, Southside of the St...  41.877024 -87.767451   \n",
       "4       Jackson & Lotus, Eastbound, Southeast Corner  41.876513 -87.761446   \n",
       "\n",
       "   location_type  parent_station  wheelchair_boarding  \n",
       "0              0             NaN                    1  \n",
       "1              0             NaN                    1  \n",
       "2              0             NaN                    1  \n",
       "3              0             NaN                    1  \n",
       "4              0             NaN                    1  "
      ]
     },
     "execution_count": 5,
     "metadata": {},
     "output_type": "execute_result"
    }
   ],
   "source": [
    "cta_feb.head()"
   ]
  },
  {
   "cell_type": "code",
   "execution_count": 17,
   "metadata": {},
   "outputs": [],
   "source": [
    "metra_jan = pd.read_csv('C:/Workspace/TNC-Demand-Model/Inputs/GTFS/Metra/Jan 2019/stops.txt')\n",
    "metra_feb = pd.read_csv('C:/Workspace/TNC-Demand-Model/Inputs/GTFS/Metra/Feb 2019/stops.txt')"
   ]
  },
  {
   "cell_type": "code",
   "execution_count": 15,
   "metadata": {},
   "outputs": [
    {
     "data": {
      "text/html": [
       "<div>\n",
       "<style scoped>\n",
       "    .dataframe tbody tr th:only-of-type {\n",
       "        vertical-align: middle;\n",
       "    }\n",
       "\n",
       "    .dataframe tbody tr th {\n",
       "        vertical-align: top;\n",
       "    }\n",
       "\n",
       "    .dataframe thead th {\n",
       "        text-align: right;\n",
       "    }\n",
       "</style>\n",
       "<table border=\"1\" class=\"dataframe\">\n",
       "  <thead>\n",
       "    <tr style=\"text-align: right;\">\n",
       "      <th></th>\n",
       "      <th>stop_id</th>\n",
       "      <th>stop_name</th>\n",
       "      <th>stop_desc</th>\n",
       "      <th>stop_lat</th>\n",
       "      <th>stop_lon</th>\n",
       "      <th>zone_id</th>\n",
       "      <th>stop_url</th>\n",
       "      <th>wheelchair_boarding</th>\n",
       "    </tr>\n",
       "  </thead>\n",
       "  <tbody>\n",
       "    <tr>\n",
       "      <th>0</th>\n",
       "      <td>GENEVA</td>\n",
       "      <td>Geneva</td>\n",
       "      <td></td>\n",
       "      <td>41.881667</td>\n",
       "      <td>-88.310000</td>\n",
       "      <td>H</td>\n",
       "      <td>https://metrarail.com/maps-schedules/train-li...</td>\n",
       "      <td>1</td>\n",
       "    </tr>\n",
       "    <tr>\n",
       "      <th>1</th>\n",
       "      <td>WCHICAGO</td>\n",
       "      <td>West Chicago</td>\n",
       "      <td></td>\n",
       "      <td>41.881111</td>\n",
       "      <td>-88.198889</td>\n",
       "      <td>F</td>\n",
       "      <td>https://metrarail.com/maps-schedules/train-li...</td>\n",
       "      <td>1</td>\n",
       "    </tr>\n",
       "    <tr>\n",
       "      <th>2</th>\n",
       "      <td>WINFIELD</td>\n",
       "      <td>Winfield</td>\n",
       "      <td></td>\n",
       "      <td>41.870000</td>\n",
       "      <td>-88.156944</td>\n",
       "      <td>F</td>\n",
       "      <td>https://metrarail.com/maps-schedules/train-li...</td>\n",
       "      <td>1</td>\n",
       "    </tr>\n",
       "    <tr>\n",
       "      <th>3</th>\n",
       "      <td>WHEATON</td>\n",
       "      <td>Wheaton</td>\n",
       "      <td></td>\n",
       "      <td>41.864444</td>\n",
       "      <td>-88.111944</td>\n",
       "      <td>E</td>\n",
       "      <td>https://metrarail.com/maps-schedules/train-li...</td>\n",
       "      <td>1</td>\n",
       "    </tr>\n",
       "    <tr>\n",
       "      <th>4</th>\n",
       "      <td>COLLEGEAVE</td>\n",
       "      <td>College Ave</td>\n",
       "      <td></td>\n",
       "      <td>41.868333</td>\n",
       "      <td>-88.090278</td>\n",
       "      <td>E</td>\n",
       "      <td>https://metrarail.com/maps-schedules/train-li...</td>\n",
       "      <td>1</td>\n",
       "    </tr>\n",
       "  </tbody>\n",
       "</table>\n",
       "</div>"
      ],
      "text/plain": [
       "      stop_id      stop_name  stop_desc   stop_lat   stop_lon  zone_id  \\\n",
       "0      GENEVA         Geneva             41.881667 -88.310000        H   \n",
       "1    WCHICAGO   West Chicago             41.881111 -88.198889        F   \n",
       "2    WINFIELD       Winfield             41.870000 -88.156944        F   \n",
       "3     WHEATON        Wheaton             41.864444 -88.111944        E   \n",
       "4  COLLEGEAVE    College Ave             41.868333 -88.090278        E   \n",
       "\n",
       "                                            stop_url   wheelchair_boarding  \n",
       "0   https://metrarail.com/maps-schedules/train-li...                     1  \n",
       "1   https://metrarail.com/maps-schedules/train-li...                     1  \n",
       "2   https://metrarail.com/maps-schedules/train-li...                     1  \n",
       "3   https://metrarail.com/maps-schedules/train-li...                     1  \n",
       "4   https://metrarail.com/maps-schedules/train-li...                     1  "
      ]
     },
     "execution_count": 15,
     "metadata": {},
     "output_type": "execute_result"
    }
   ],
   "source": [
    "metra_jan.head()"
   ]
  },
  {
   "cell_type": "code",
   "execution_count": 8,
   "metadata": {},
   "outputs": [],
   "source": [
    "pace_jan = pd.read_csv('C:/Workspace/TNC-Demand-Model/Inputs/GTFS/Pace/Jan 2019/stops.txt')\n",
    "pace_feb = pd.read_csv('C:/Workspace/TNC-Demand-Model/Inputs/GTFS/Pace/Feb 2019/stops.txt')"
   ]
  },
  {
   "cell_type": "code",
   "execution_count": 10,
   "metadata": {},
   "outputs": [
    {
     "data": {
      "text/html": [
       "<div>\n",
       "<style scoped>\n",
       "    .dataframe tbody tr th:only-of-type {\n",
       "        vertical-align: middle;\n",
       "    }\n",
       "\n",
       "    .dataframe tbody tr th {\n",
       "        vertical-align: top;\n",
       "    }\n",
       "\n",
       "    .dataframe thead th {\n",
       "        text-align: right;\n",
       "    }\n",
       "</style>\n",
       "<table border=\"1\" class=\"dataframe\">\n",
       "  <thead>\n",
       "    <tr style=\"text-align: right;\">\n",
       "      <th></th>\n",
       "      <th>stop_id</th>\n",
       "      <th>stop_name</th>\n",
       "      <th>stop_desc</th>\n",
       "      <th>stop_lat</th>\n",
       "      <th>stop_lon</th>\n",
       "      <th>stop_street</th>\n",
       "      <th>stop_city</th>\n",
       "      <th>stop_region</th>\n",
       "      <th>stop_postcode</th>\n",
       "      <th>stop_country</th>\n",
       "      <th>zone_id</th>\n",
       "      <th>geo_node_id</th>\n",
       "    </tr>\n",
       "  </thead>\n",
       "  <tbody>\n",
       "    <tr>\n",
       "      <th>0</th>\n",
       "      <td>182n0005</td>\n",
       "      <td>Washington/School</td>\n",
       "      <td>NaN</td>\n",
       "      <td>41.777592</td>\n",
       "      <td>-88.147318</td>\n",
       "      <td>NaN</td>\n",
       "      <td>NaN</td>\n",
       "      <td>NaN</td>\n",
       "      <td>NaN</td>\n",
       "      <td>NaN</td>\n",
       "      <td>NaN</td>\n",
       "      <td>32186</td>\n",
       "    </tr>\n",
       "    <tr>\n",
       "      <th>1</th>\n",
       "      <td>183s0005</td>\n",
       "      <td>Washington/School</td>\n",
       "      <td>NaN</td>\n",
       "      <td>41.777467</td>\n",
       "      <td>-88.147536</td>\n",
       "      <td>NaN</td>\n",
       "      <td>NaN</td>\n",
       "      <td>NaN</td>\n",
       "      <td>NaN</td>\n",
       "      <td>NaN</td>\n",
       "      <td>NaN</td>\n",
       "      <td>32187</td>\n",
       "    </tr>\n",
       "    <tr>\n",
       "      <th>2</th>\n",
       "      <td>183s0010</td>\n",
       "      <td>Rt. 59/Naperville Garage</td>\n",
       "      <td>NaN</td>\n",
       "      <td>41.723766</td>\n",
       "      <td>-88.230077</td>\n",
       "      <td>NaN</td>\n",
       "      <td>NaN</td>\n",
       "      <td>NaN</td>\n",
       "      <td>NaN</td>\n",
       "      <td>NaN</td>\n",
       "      <td>NaN</td>\n",
       "      <td>32188</td>\n",
       "    </tr>\n",
       "    <tr>\n",
       "      <th>3</th>\n",
       "      <td>184s0005</td>\n",
       "      <td>Washington/School</td>\n",
       "      <td>NaN</td>\n",
       "      <td>41.777473</td>\n",
       "      <td>-88.147530</td>\n",
       "      <td>NaN</td>\n",
       "      <td>NaN</td>\n",
       "      <td>NaN</td>\n",
       "      <td>NaN</td>\n",
       "      <td>NaN</td>\n",
       "      <td>NaN</td>\n",
       "      <td>32189</td>\n",
       "    </tr>\n",
       "    <tr>\n",
       "      <th>4</th>\n",
       "      <td>184s0010</td>\n",
       "      <td>Rt. 59/Naperville Garage</td>\n",
       "      <td>NaN</td>\n",
       "      <td>41.723780</td>\n",
       "      <td>-88.230004</td>\n",
       "      <td>NaN</td>\n",
       "      <td>NaN</td>\n",
       "      <td>NaN</td>\n",
       "      <td>NaN</td>\n",
       "      <td>NaN</td>\n",
       "      <td>NaN</td>\n",
       "      <td>32190</td>\n",
       "    </tr>\n",
       "  </tbody>\n",
       "</table>\n",
       "</div>"
      ],
      "text/plain": [
       "    stop_id                 stop_name  stop_desc   stop_lat   stop_lon  \\\n",
       "0  182n0005         Washington/School        NaN  41.777592 -88.147318   \n",
       "1  183s0005         Washington/School        NaN  41.777467 -88.147536   \n",
       "2  183s0010  Rt. 59/Naperville Garage        NaN  41.723766 -88.230077   \n",
       "3  184s0005         Washington/School        NaN  41.777473 -88.147530   \n",
       "4  184s0010  Rt. 59/Naperville Garage        NaN  41.723780 -88.230004   \n",
       "\n",
       "   stop_street  stop_city  stop_region  stop_postcode  stop_country  zone_id  \\\n",
       "0          NaN        NaN          NaN            NaN           NaN      NaN   \n",
       "1          NaN        NaN          NaN            NaN           NaN      NaN   \n",
       "2          NaN        NaN          NaN            NaN           NaN      NaN   \n",
       "3          NaN        NaN          NaN            NaN           NaN      NaN   \n",
       "4          NaN        NaN          NaN            NaN           NaN      NaN   \n",
       "\n",
       "   geo_node_id  \n",
       "0        32186  \n",
       "1        32187  \n",
       "2        32188  \n",
       "3        32189  \n",
       "4        32190  "
      ]
     },
     "execution_count": 10,
     "metadata": {},
     "output_type": "execute_result"
    }
   ],
   "source": [
    "pace_jan.head()"
   ]
  },
  {
   "cell_type": "code",
   "execution_count": 13,
   "metadata": {},
   "outputs": [],
   "source": [
    "cta_jan_geo = gp.GeoDataFrame(cta_jan, geometry=gp.points_from_xy(cta_jan.stop_lon, cta_jan.stop_lat))\n",
    "cta_feb_geo = gp.GeoDataFrame(cta_feb, geometry=gp.points_from_xy(cta_feb.stop_lon, cta_feb.stop_lat))"
   ]
  },
  {
   "cell_type": "code",
   "execution_count": 22,
   "metadata": {},
   "outputs": [],
   "source": [
    "metra_jan_geo = gp.GeoDataFrame(metra_jan, geometry=gp.points_from_xy(metra_jan[' stop_lon'], metra_jan[' stop_lat']))\n",
    "metra_feb_geo = gp.GeoDataFrame(metra_feb, geometry=gp.points_from_xy(metra_feb[' stop_lon'], metra_feb[' stop_lat']))"
   ]
  },
  {
   "cell_type": "code",
   "execution_count": 25,
   "metadata": {},
   "outputs": [],
   "source": [
    "pace_jan_geo = gp.GeoDataFrame(pace_jan, geometry=gp.points_from_xy(pace_jan['stop_lon'], pace_jan['stop_lat']))\n",
    "pace_feb_geo = gp.GeoDataFrame(pace_feb, geometry=gp.points_from_xy(pace_feb['stop_lon'], pace_feb['stop_lat']))"
   ]
  },
  {
   "cell_type": "code",
   "execution_count": 26,
   "metadata": {},
   "outputs": [],
   "source": [
    "tracts = gp.read_file('C:/Workspace/TNC-Demand-Model/Inputs/Census Shapefiles/Tracts/tl_2019_17_tract/tl_2019_17_tract.shp')"
   ]
  },
  {
   "cell_type": "code",
   "execution_count": 28,
   "metadata": {},
   "outputs": [
    {
     "data": {
      "text/plain": [
       "<matplotlib.axes._subplots.AxesSubplot at 0x1d36b847588>"
      ]
     },
     "execution_count": 28,
     "metadata": {},
     "output_type": "execute_result"
    },
    {
     "data": {
      "image/png": "[encoded data removed]",
      "text/plain": [
       "<Figure size 432x288 with 1 Axes>"
      ]
     },
     "metadata": {
      "needs_background": "light"
     },
     "output_type": "display_data"
    }
   ],
   "source": [
    "tracts.plot()"
   ]
  },
  {
   "cell_type": "code",
   "execution_count": 29,
   "metadata": {},
   "outputs": [
    {
     "data": {
      "text/plain": [
       "<matplotlib.axes._subplots.AxesSubplot at 0x1d370579108>"
      ]
     },
     "execution_count": 29,
     "metadata": {},
     "output_type": "execute_result"
    },
    {
     "data": {
      "image/png": "[encoded data removed]",
      "text/plain": [
       "<Figure size 432x288 with 1 Axes>"
      ]
     },
     "metadata": {
      "needs_background": "light"
     },
     "output_type": "display_data"
    }
   ],
   "source": [
    "cta_jan_geo.plot()"
   ]
  },
  {
   "cell_type": "code",
   "execution_count": 38,
   "metadata": {},
   "outputs": [
    {
     "name": "stderr",
     "output_type": "stream",
     "text": [
      "C:\\Users\\ramu225\\Anaconda3\\lib\\site-packages\\ipykernel_launcher.py:1: UserWarning: CRS mismatch between the CRS of left geometries and the CRS of right geometries.\n",
      "Use `to_crs()` to reproject one of the input geometries to match the CRS of the other.\n",
      "\n",
      "Left CRS: EPSG:4269\n",
      "Right CRS: None\n",
      "\n",
      "  \"\"\"Entry point for launching an IPython kernel.\n",
      "C:\\Users\\ramu225\\Anaconda3\\lib\\site-packages\\ipykernel_launcher.py:2: UserWarning: CRS mismatch between the CRS of left geometries and the CRS of right geometries.\n",
      "Use `to_crs()` to reproject one of the input geometries to match the CRS of the other.\n",
      "\n",
      "Left CRS: EPSG:4269\n",
      "Right CRS: None\n",
      "\n",
      "  \n",
      "C:\\Users\\ramu225\\Anaconda3\\lib\\site-packages\\ipykernel_launcher.py:4: UserWarning: CRS mismatch between the CRS of left geometries and the CRS of right geometries.\n",
      "Use `to_crs()` to reproject one of the input geometries to match the CRS of the other.\n",
      "\n",
      "Left CRS: EPSG:4269\n",
      "Right CRS: None\n",
      "\n",
      "  after removing the cwd from sys.path.\n",
      "C:\\Users\\ramu225\\Anaconda3\\lib\\site-packages\\ipykernel_launcher.py:5: UserWarning: CRS mismatch between the CRS of left geometries and the CRS of right geometries.\n",
      "Use `to_crs()` to reproject one of the input geometries to match the CRS of the other.\n",
      "\n",
      "Left CRS: EPSG:4269\n",
      "Right CRS: None\n",
      "\n",
      "  \"\"\"\n",
      "C:\\Users\\ramu225\\Anaconda3\\lib\\site-packages\\ipykernel_launcher.py:7: UserWarning: CRS mismatch between the CRS of left geometries and the CRS of right geometries.\n",
      "Use `to_crs()` to reproject one of the input geometries to match the CRS of the other.\n",
      "\n",
      "Left CRS: EPSG:4269\n",
      "Right CRS: None\n",
      "\n",
      "  import sys\n",
      "C:\\Users\\ramu225\\Anaconda3\\lib\\site-packages\\ipykernel_launcher.py:8: UserWarning: CRS mismatch between the CRS of left geometries and the CRS of right geometries.\n",
      "Use `to_crs()` to reproject one of the input geometries to match the CRS of the other.\n",
      "\n",
      "Left CRS: EPSG:4269\n",
      "Right CRS: None\n",
      "\n",
      "  \n"
     ]
    }
   ],
   "source": [
    "tracts_cta_jan = gp.sjoin(tracts, cta_jan_geo, how ='inner', op = 'contains')\n",
    "tracts_cta_feb = gp.sjoin(tracts, cta_feb_geo, how ='inner', op = 'contains')\n",
    "\n",
    "tracts_metra_jan = gp.sjoin(tracts, metra_jan_geo, how ='inner', op = 'contains')\n",
    "tracts_metra_feb = gp.sjoin(tracts, metra_feb_geo, how ='inner', op = 'contains')\n",
    "\n",
    "tracts_pace_jan = gp.sjoin(tracts, pace_jan_geo, how ='inner', op = 'contains')\n",
    "tracts_pace_feb = gp.sjoin(tracts, pace_feb_geo, how ='inner', op = 'contains')"
   ]
  },
  {
   "cell_type": "code",
   "execution_count": 45,
   "metadata": {},
   "outputs": [],
   "source": [
    "tracts_cta_jan['CTA_STOPS'] = 1\n",
    "tracts_cta_feb['CTA_STOPS'] = 1\n",
    "\n",
    "tracts_metra_jan['METRA_STOPS'] = 1\n",
    "tracts_metra_feb['METRA_STOPS'] = 1\n",
    "\n",
    "tracts_pace_jan['PACE_STOPS'] = 1\n",
    "tracts_pace_feb['PACE_STOPS'] = 1"
   ]
  },
  {
   "cell_type": "code",
   "execution_count": 56,
   "metadata": {},
   "outputs": [],
   "source": [
    "tracts_cta_jan_sum = tracts_cta_jan.groupby(by = 'GEOID', as_index = False).sum()\n",
    "tracts_cta_feb_sum = tracts_cta_feb.groupby(by = 'GEOID', as_index = False).sum()\n",
    "\n",
    "tracts_metra_jan_sum = tracts_metra_jan.groupby(by = 'GEOID', as_index = False).sum()\n",
    "tracts_metra_feb_sum = tracts_metra_feb.groupby(by = 'GEOID', as_index = False).sum()\n",
    "\n",
    "tracts_pace_jan_sum = tracts_pace_jan.groupby(by = 'GEOID', as_index = False).sum()\n",
    "tracts_pace_feb_sum = tracts_pace_feb.groupby(by = 'GEOID', as_index = False).sum()"
   ]
  },
  {
   "cell_type": "code",
   "execution_count": 57,
   "metadata": {},
   "outputs": [],
   "source": [
    "tracts_cta = pd.merge(tracts_cta_jan_sum, tracts_cta_feb_sum, on = 'GEOID', suffixes = ('_JAN', '_FEB'))\n",
    "\n",
    "tracts_metra = pd.merge(tracts_metra_jan_sum, tracts_metra_feb_sum, on = 'GEOID', suffixes = ('_JAN', '_FEB'))\n",
    "\n",
    "tracts_pace = pd.merge(tracts_pace_jan_sum, tracts_pace_feb_sum, on = 'GEOID', suffixes = ('_JAN', '_FEB'))"
   ]
  },
  {
   "cell_type": "code",
   "execution_count": 58,
   "metadata": {},
   "outputs": [],
   "source": [
    "tracts_cta['CTA_STOPS'] = (tracts_cta['CTA_STOPS_JAN'] + tracts_cta['CTA_STOPS_FEB'])/2\n",
    "\n",
    "tracts_metra['METRA_STOPS'] = (tracts_metra['METRA_STOPS_JAN'] + tracts_metra['METRA_STOPS_FEB'])/2\n",
    "\n",
    "tracts_pace['PACE_STOPS'] = (tracts_pace['PACE_STOPS_JAN'] + tracts_pace['PACE_STOPS_FEB'])/2"
   ]
  },
  {
   "cell_type": "code",
   "execution_count": 71,
   "metadata": {},
   "outputs": [],
   "source": [
    "tracts_transit = tracts_cta[['GEOID','CTA_STOPS']].merge(tracts_metra[['GEOID','METRA_STOPS']], how = 'left', on = 'GEOID')"
   ]
  },
  {
   "cell_type": "code",
   "execution_count": 72,
   "metadata": {},
   "outputs": [],
   "source": [
    "tracts_transit = tracts_transit.merge(tracts_pace[['GEOID', 'PACE_STOPS']], how = 'left', on = 'GEOID')"
   ]
  },
  {
   "cell_type": "code",
   "execution_count": 78,
   "metadata": {},
   "outputs": [],
   "source": [
    "tracts_transit = tracts_transit.fillna(0)"
   ]
  },
  {
   "cell_type": "code",
   "execution_count": 79,
   "metadata": {},
   "outputs": [],
   "source": [
    "tracts_transit['TRANSIT_STOPS'] = tracts_transit.CTA_STOPS + tracts_transit.METRA_STOPS + tracts_transit.PACE_STOPS"
   ]
  },
  {
   "cell_type": "code",
   "execution_count": 80,
   "metadata": {},
   "outputs": [
    {
     "data": {
      "text/html": [
       "<div>\n",
       "<style scoped>\n",
       "    .dataframe tbody tr th:only-of-type {\n",
       "        vertical-align: middle;\n",
       "    }\n",
       "\n",
       "    .dataframe tbody tr th {\n",
       "        vertical-align: top;\n",
       "    }\n",
       "\n",
       "    .dataframe thead th {\n",
       "        text-align: right;\n",
       "    }\n",
       "</style>\n",
       "<table border=\"1\" class=\"dataframe\">\n",
       "  <thead>\n",
       "    <tr style=\"text-align: right;\">\n",
       "      <th></th>\n",
       "      <th>GEOID</th>\n",
       "      <th>CTA_STOPS</th>\n",
       "      <th>METRA_STOPS</th>\n",
       "      <th>PACE_STOPS</th>\n",
       "      <th>TRANSIT_STOPS</th>\n",
       "    </tr>\n",
       "  </thead>\n",
       "  <tbody>\n",
       "    <tr>\n",
       "      <th>0</th>\n",
       "      <td>17031010100</td>\n",
       "      <td>2.0</td>\n",
       "      <td>0.0</td>\n",
       "      <td>0.0</td>\n",
       "      <td>2.0</td>\n",
       "    </tr>\n",
       "    <tr>\n",
       "      <th>1</th>\n",
       "      <td>17031010201</td>\n",
       "      <td>4.0</td>\n",
       "      <td>0.0</td>\n",
       "      <td>7.0</td>\n",
       "      <td>11.0</td>\n",
       "    </tr>\n",
       "    <tr>\n",
       "      <th>2</th>\n",
       "      <td>17031010202</td>\n",
       "      <td>20.0</td>\n",
       "      <td>0.0</td>\n",
       "      <td>8.0</td>\n",
       "      <td>28.0</td>\n",
       "    </tr>\n",
       "    <tr>\n",
       "      <th>3</th>\n",
       "      <td>17031010300</td>\n",
       "      <td>17.0</td>\n",
       "      <td>0.0</td>\n",
       "      <td>0.0</td>\n",
       "      <td>17.0</td>\n",
       "    </tr>\n",
       "    <tr>\n",
       "      <th>4</th>\n",
       "      <td>17031010400</td>\n",
       "      <td>11.0</td>\n",
       "      <td>0.0</td>\n",
       "      <td>0.0</td>\n",
       "      <td>11.0</td>\n",
       "    </tr>\n",
       "  </tbody>\n",
       "</table>\n",
       "</div>"
      ],
      "text/plain": [
       "         GEOID  CTA_STOPS  METRA_STOPS  PACE_STOPS  TRANSIT_STOPS\n",
       "0  17031010100        2.0          0.0         0.0            2.0\n",
       "1  17031010201        4.0          0.0         7.0           11.0\n",
       "2  17031010202       20.0          0.0         8.0           28.0\n",
       "3  17031010300       17.0          0.0         0.0           17.0\n",
       "4  17031010400       11.0          0.0         0.0           11.0"
      ]
     },
     "execution_count": 80,
     "metadata": {},
     "output_type": "execute_result"
    }
   ],
   "source": [
    "tracts_transit.head()"
   ]
  },
  {
   "cell_type": "code",
   "execution_count": 87,
   "metadata": {},
   "outputs": [],
   "source": [
    "tracts_transit.to_csv('C:/Workspace/TNC-Demand-Model/Outputs/GTFS_DATA_2019.csv')"
   ]
  },
  {
   "cell_type": "code",
   "execution_count": 81,
   "metadata": {},
   "outputs": [
    {
     "data": {
      "text/plain": [
       "15.5"
      ]
     },
     "execution_count": 81,
     "metadata": {},
     "output_type": "execute_result"
    }
   ],
   "source": [
    "tracts_transit.TRANSIT_STOPS.mean()"
   ]
  },
  {
   "cell_type": "code",
   "execution_count": 82,
   "metadata": {},
   "outputs": [
    {
     "data": {
      "text/plain": [
       "1.0"
      ]
     },
     "execution_count": 82,
     "metadata": {},
     "output_type": "execute_result"
    }
   ],
   "source": [
    "tracts_transit.TRANSIT_STOPS.min()"
   ]
  },
  {
   "cell_type": "code",
   "execution_count": 86,
   "metadata": {},
   "outputs": [
    {
     "data": {
      "text/plain": [
       "96.0"
      ]
     },
     "execution_count": 86,
     "metadata": {},
     "output_type": "execute_result"
    }
   ],
   "source": [
    "tracts_transit.CTA_STOPS.max()"
   ]
  },
  {
   "cell_type": "code",
   "execution_count": 73,
   "metadata": {},
   "outputs": [
    {
     "data": {
      "text/plain": [
       "891"
      ]
     },
     "execution_count": 73,
     "metadata": {},
     "output_type": "execute_result"
    }
   ],
   "source": [
    "len(tracts_transit)"
   ]
  },
  {
   "cell_type": "code",
   "execution_count": 67,
   "metadata": {},
   "outputs": [
    {
     "data": {
      "text/plain": [
       "11310"
      ]
     },
     "execution_count": 67,
     "metadata": {},
     "output_type": "execute_result"
    }
   ],
   "source": [
    "len(tracts_cta_jan)"
   ]
  },
  {
   "cell_type": "code",
   "execution_count": 68,
   "metadata": {},
   "outputs": [
    {
     "data": {
      "text/plain": [
       "11310"
      ]
     },
     "execution_count": 68,
     "metadata": {},
     "output_type": "execute_result"
    }
   ],
   "source": [
    "len(tracts_cta_feb)"
   ]
  },
  {
   "cell_type": "code",
   "execution_count": 69,
   "metadata": {},
   "outputs": [
    {
     "data": {
      "text/plain": [
       "891"
      ]
     },
     "execution_count": 69,
     "metadata": {},
     "output_type": "execute_result"
    }
   ],
   "source": [
    "len(tracts_cta_jan_sum)"
   ]
  },
  {
   "cell_type": "code",
   "execution_count": 70,
   "metadata": {},
   "outputs": [
    {
     "data": {
      "text/plain": [
       "891"
      ]
     },
     "execution_count": 70,
     "metadata": {},
     "output_type": "execute_result"
    }
   ],
   "source": [
    "len(tracts_cta)"
   ]
  },
  {
   "cell_type": "code",
   "execution_count": null,
   "metadata": {},
   "outputs": [],
   "source": []
  }
 ],
 "metadata": {
  "kernelspec": {
   "display_name": "Python 3",
   "language": "python",
   "name": "python3"
  },
  "language_info": {
   "codemirror_mode": {
    "name": "ipython",
    "version": 3
   },
   "file_extension": ".py",
   "mimetype": "text/x-python",
   "name": "python",
   "nbconvert_exporter": "python",
   "pygments_lexer": "ipython3",
   "version": "3.6.12"
  }
 },
 "nbformat": 4,
 "nbformat_minor": 4
}
